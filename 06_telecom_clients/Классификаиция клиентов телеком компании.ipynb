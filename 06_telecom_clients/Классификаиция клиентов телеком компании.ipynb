{
 "cells": [
  {
   "cell_type": "markdown",
   "metadata": {},
   "source": [
    "# Рекомендация тарифов"
   ]
  },
  {
   "cell_type": "markdown",
   "metadata": {},
   "source": [
    "В нашем распоряжении данные о поведении клиентов, которые уже перешли на эти тарифы (из проекта курса «Статистический анализ данных»). Нужно построить модель для задачи классификации, которая выберет подходящий тариф. Предобработка данных не понадобится — вы её уже сделали.\n",
    "\n",
    "Построить модель с максимально большим значением *accuracy*. Чтобы сдать проект успешно, нужно довести долю правильных ответов по крайней мере до 0.75. Проверить *accuracy* на тестовой выборке."
   ]
  },
  {
   "cell_type": "markdown",
   "metadata": {},
   "source": [
    "## Откроем и изучим файл"
   ]
  },
  {
   "cell_type": "code",
   "execution_count": 1,
   "metadata": {},
   "outputs": [],
   "source": [
    "#импортируем необходимые библиотеки\n",
    "import pandas as pd\n",
    "from sklearn.model_selection import train_test_split\n",
    "from sklearn.tree import DecisionTreeClassifier\n",
    "from sklearn.metrics import accuracy_score\n",
    "from sklearn.ensemble import RandomForestClassifier\n",
    "from sklearn.linear_model import LogisticRegression\n",
    "from sklearn.dummy import DummyClassifier"
   ]
  },
  {
   "cell_type": "code",
   "execution_count": 2,
   "metadata": {},
   "outputs": [],
   "source": [
    "#сохраним файл в df\n",
    "df = pd.read_csv('https://code.s3.yandex.net/datasets/users_behavior.csv')"
   ]
  },
  {
   "cell_type": "code",
   "execution_count": 3,
   "metadata": {},
   "outputs": [
    {
     "data": {
      "text/html": [
       "<div>\n",
       "<style scoped>\n",
       "    .dataframe tbody tr th:only-of-type {\n",
       "        vertical-align: middle;\n",
       "    }\n",
       "\n",
       "    .dataframe tbody tr th {\n",
       "        vertical-align: top;\n",
       "    }\n",
       "\n",
       "    .dataframe thead th {\n",
       "        text-align: right;\n",
       "    }\n",
       "</style>\n",
       "<table border=\"1\" class=\"dataframe\">\n",
       "  <thead>\n",
       "    <tr style=\"text-align: right;\">\n",
       "      <th></th>\n",
       "      <th>calls</th>\n",
       "      <th>minutes</th>\n",
       "      <th>messages</th>\n",
       "      <th>mb_used</th>\n",
       "      <th>is_ultra</th>\n",
       "    </tr>\n",
       "  </thead>\n",
       "  <tbody>\n",
       "    <tr>\n",
       "      <th>0</th>\n",
       "      <td>40.0</td>\n",
       "      <td>311.90</td>\n",
       "      <td>83.0</td>\n",
       "      <td>19915.42</td>\n",
       "      <td>0</td>\n",
       "    </tr>\n",
       "    <tr>\n",
       "      <th>1</th>\n",
       "      <td>85.0</td>\n",
       "      <td>516.75</td>\n",
       "      <td>56.0</td>\n",
       "      <td>22696.96</td>\n",
       "      <td>0</td>\n",
       "    </tr>\n",
       "    <tr>\n",
       "      <th>2</th>\n",
       "      <td>77.0</td>\n",
       "      <td>467.66</td>\n",
       "      <td>86.0</td>\n",
       "      <td>21060.45</td>\n",
       "      <td>0</td>\n",
       "    </tr>\n",
       "    <tr>\n",
       "      <th>3</th>\n",
       "      <td>106.0</td>\n",
       "      <td>745.53</td>\n",
       "      <td>81.0</td>\n",
       "      <td>8437.39</td>\n",
       "      <td>1</td>\n",
       "    </tr>\n",
       "    <tr>\n",
       "      <th>4</th>\n",
       "      <td>66.0</td>\n",
       "      <td>418.74</td>\n",
       "      <td>1.0</td>\n",
       "      <td>14502.75</td>\n",
       "      <td>0</td>\n",
       "    </tr>\n",
       "    <tr>\n",
       "      <th>...</th>\n",
       "      <td>...</td>\n",
       "      <td>...</td>\n",
       "      <td>...</td>\n",
       "      <td>...</td>\n",
       "      <td>...</td>\n",
       "    </tr>\n",
       "    <tr>\n",
       "      <th>3209</th>\n",
       "      <td>122.0</td>\n",
       "      <td>910.98</td>\n",
       "      <td>20.0</td>\n",
       "      <td>35124.90</td>\n",
       "      <td>1</td>\n",
       "    </tr>\n",
       "    <tr>\n",
       "      <th>3210</th>\n",
       "      <td>25.0</td>\n",
       "      <td>190.36</td>\n",
       "      <td>0.0</td>\n",
       "      <td>3275.61</td>\n",
       "      <td>0</td>\n",
       "    </tr>\n",
       "    <tr>\n",
       "      <th>3211</th>\n",
       "      <td>97.0</td>\n",
       "      <td>634.44</td>\n",
       "      <td>70.0</td>\n",
       "      <td>13974.06</td>\n",
       "      <td>0</td>\n",
       "    </tr>\n",
       "    <tr>\n",
       "      <th>3212</th>\n",
       "      <td>64.0</td>\n",
       "      <td>462.32</td>\n",
       "      <td>90.0</td>\n",
       "      <td>31239.78</td>\n",
       "      <td>0</td>\n",
       "    </tr>\n",
       "    <tr>\n",
       "      <th>3213</th>\n",
       "      <td>80.0</td>\n",
       "      <td>566.09</td>\n",
       "      <td>6.0</td>\n",
       "      <td>29480.52</td>\n",
       "      <td>1</td>\n",
       "    </tr>\n",
       "  </tbody>\n",
       "</table>\n",
       "<p>3214 rows × 5 columns</p>\n",
       "</div>"
      ],
      "text/plain": [
       "      calls  minutes  messages   mb_used  is_ultra\n",
       "0      40.0   311.90      83.0  19915.42         0\n",
       "1      85.0   516.75      56.0  22696.96         0\n",
       "2      77.0   467.66      86.0  21060.45         0\n",
       "3     106.0   745.53      81.0   8437.39         1\n",
       "4      66.0   418.74       1.0  14502.75         0\n",
       "...     ...      ...       ...       ...       ...\n",
       "3209  122.0   910.98      20.0  35124.90         1\n",
       "3210   25.0   190.36       0.0   3275.61         0\n",
       "3211   97.0   634.44      70.0  13974.06         0\n",
       "3212   64.0   462.32      90.0  31239.78         0\n",
       "3213   80.0   566.09       6.0  29480.52         1\n",
       "\n",
       "[3214 rows x 5 columns]"
      ]
     },
     "execution_count": 3,
     "metadata": {},
     "output_type": "execute_result"
    }
   ],
   "source": [
    "df"
   ]
  },
  {
   "cell_type": "code",
   "execution_count": 4,
   "metadata": {},
   "outputs": [
    {
     "name": "stdout",
     "output_type": "stream",
     "text": [
      "<class 'pandas.core.frame.DataFrame'>\n",
      "RangeIndex: 3214 entries, 0 to 3213\n",
      "Data columns (total 5 columns):\n",
      " #   Column    Non-Null Count  Dtype  \n",
      "---  ------    --------------  -----  \n",
      " 0   calls     3214 non-null   float64\n",
      " 1   minutes   3214 non-null   float64\n",
      " 2   messages  3214 non-null   float64\n",
      " 3   mb_used   3214 non-null   float64\n",
      " 4   is_ultra  3214 non-null   int64  \n",
      "dtypes: float64(4), int64(1)\n",
      "memory usage: 125.7 KB\n"
     ]
    }
   ],
   "source": [
    "df.info()"
   ]
  },
  {
   "cell_type": "markdown",
   "metadata": {},
   "source": [
    "`calls` и `messages` можно перевести в int, a `is_ultra` в bool"
   ]
  },
  {
   "cell_type": "markdown",
   "metadata": {},
   "source": [
    "### Вывод\n",
    "\n",
    "Каждый объект в наборе данных — это информация о поведении одного пользователя за месяц.\n",
    "\n",
    "Известно:\n",
    "\n",
    "`сalls` — количество звонков,\n",
    "\n",
    "`minutes` — суммарная длительность звонков в минутах,\n",
    "\n",
    "`messages` — количество sms-сообщений,\n",
    "\n",
    "`mb_used` — израсходованный интернет-трафик в Мб,\n",
    "\n",
    "`is_ultra` — каким тарифом пользовался в течение месяца («Ультра» — 1, «Смарт» — 0).\n"
   ]
  },
  {
   "cell_type": "markdown",
   "metadata": {},
   "source": [
    "## Разбьем данные на выборки"
   ]
  },
  {
   "cell_type": "markdown",
   "metadata": {},
   "source": [
    "Определим переменные `features` (признаки) и `target` (целевой признак)"
   ]
  },
  {
   "cell_type": "code",
   "execution_count": 5,
   "metadata": {},
   "outputs": [],
   "source": [
    "features = df.drop(['is_ultra'], axis=1)"
   ]
  },
  {
   "cell_type": "code",
   "execution_count": 6,
   "metadata": {},
   "outputs": [],
   "source": [
    "target = df['is_ultra']"
   ]
  },
  {
   "cell_type": "markdown",
   "metadata": {},
   "source": [
    "Разделим исходные данные на обучающую, валидационную и тестовую выборки `train`, `valid`, `test`, соответственно"
   ]
  },
  {
   "cell_type": "code",
   "execution_count": 7,
   "metadata": {},
   "outputs": [],
   "source": [
    "features_train, features_test, target_train, target_test = train_test_split(\n",
    "    features, target, test_size=0.2,train_size=0.8, random_state=2)\n",
    "features_train, features_valid, target_train, target_valid = train_test_split(\n",
    "    features_train, target_train,test_size = 0.25, train_size =0.75, random_state=2)"
   ]
  },
  {
   "cell_type": "code",
   "execution_count": 8,
   "metadata": {},
   "outputs": [
    {
     "data": {
      "text/plain": [
       "1928"
      ]
     },
     "execution_count": 8,
     "metadata": {},
     "output_type": "execute_result"
    }
   ],
   "source": [
    "len(features_train)"
   ]
  },
  {
   "cell_type": "code",
   "execution_count": 9,
   "metadata": {},
   "outputs": [
    {
     "data": {
      "text/plain": [
       "643"
      ]
     },
     "execution_count": 9,
     "metadata": {},
     "output_type": "execute_result"
    }
   ],
   "source": [
    "len(features_test)"
   ]
  },
  {
   "cell_type": "code",
   "execution_count": 10,
   "metadata": {},
   "outputs": [
    {
     "data": {
      "text/plain": [
       "643"
      ]
     },
     "execution_count": 10,
     "metadata": {},
     "output_type": "execute_result"
    }
   ],
   "source": [
    "len(features_valid)"
   ]
  },
  {
   "cell_type": "code",
   "execution_count": 11,
   "metadata": {},
   "outputs": [
    {
     "data": {
      "text/html": [
       "<div>\n",
       "<style scoped>\n",
       "    .dataframe tbody tr th:only-of-type {\n",
       "        vertical-align: middle;\n",
       "    }\n",
       "\n",
       "    .dataframe tbody tr th {\n",
       "        vertical-align: top;\n",
       "    }\n",
       "\n",
       "    .dataframe thead th {\n",
       "        text-align: right;\n",
       "    }\n",
       "</style>\n",
       "<table border=\"1\" class=\"dataframe\">\n",
       "  <thead>\n",
       "    <tr style=\"text-align: right;\">\n",
       "      <th></th>\n",
       "      <th>calls</th>\n",
       "      <th>minutes</th>\n",
       "      <th>messages</th>\n",
       "      <th>mb_used</th>\n",
       "    </tr>\n",
       "  </thead>\n",
       "  <tbody>\n",
       "    <tr>\n",
       "      <th>2357</th>\n",
       "      <td>120.0</td>\n",
       "      <td>932.14</td>\n",
       "      <td>6.0</td>\n",
       "      <td>35497.91</td>\n",
       "    </tr>\n",
       "    <tr>\n",
       "      <th>2914</th>\n",
       "      <td>57.0</td>\n",
       "      <td>428.23</td>\n",
       "      <td>5.0</td>\n",
       "      <td>8857.38</td>\n",
       "    </tr>\n",
       "    <tr>\n",
       "      <th>1015</th>\n",
       "      <td>42.0</td>\n",
       "      <td>319.80</td>\n",
       "      <td>121.0</td>\n",
       "      <td>16790.96</td>\n",
       "    </tr>\n",
       "    <tr>\n",
       "      <th>108</th>\n",
       "      <td>47.0</td>\n",
       "      <td>300.12</td>\n",
       "      <td>123.0</td>\n",
       "      <td>31244.61</td>\n",
       "    </tr>\n",
       "    <tr>\n",
       "      <th>2508</th>\n",
       "      <td>56.0</td>\n",
       "      <td>336.17</td>\n",
       "      <td>18.0</td>\n",
       "      <td>12500.44</td>\n",
       "    </tr>\n",
       "    <tr>\n",
       "      <th>...</th>\n",
       "      <td>...</td>\n",
       "      <td>...</td>\n",
       "      <td>...</td>\n",
       "      <td>...</td>\n",
       "    </tr>\n",
       "    <tr>\n",
       "      <th>1413</th>\n",
       "      <td>78.0</td>\n",
       "      <td>583.03</td>\n",
       "      <td>15.0</td>\n",
       "      <td>20350.96</td>\n",
       "    </tr>\n",
       "    <tr>\n",
       "      <th>1477</th>\n",
       "      <td>98.0</td>\n",
       "      <td>703.16</td>\n",
       "      <td>4.0</td>\n",
       "      <td>25391.67</td>\n",
       "    </tr>\n",
       "    <tr>\n",
       "      <th>2424</th>\n",
       "      <td>56.0</td>\n",
       "      <td>364.36</td>\n",
       "      <td>0.0</td>\n",
       "      <td>14129.94</td>\n",
       "    </tr>\n",
       "    <tr>\n",
       "      <th>2596</th>\n",
       "      <td>56.0</td>\n",
       "      <td>382.41</td>\n",
       "      <td>7.0</td>\n",
       "      <td>14563.80</td>\n",
       "    </tr>\n",
       "    <tr>\n",
       "      <th>1788</th>\n",
       "      <td>69.0</td>\n",
       "      <td>470.12</td>\n",
       "      <td>6.0</td>\n",
       "      <td>11919.35</td>\n",
       "    </tr>\n",
       "  </tbody>\n",
       "</table>\n",
       "<p>643 rows × 4 columns</p>\n",
       "</div>"
      ],
      "text/plain": [
       "      calls  minutes  messages   mb_used\n",
       "2357  120.0   932.14       6.0  35497.91\n",
       "2914   57.0   428.23       5.0   8857.38\n",
       "1015   42.0   319.80     121.0  16790.96\n",
       "108    47.0   300.12     123.0  31244.61\n",
       "2508   56.0   336.17      18.0  12500.44\n",
       "...     ...      ...       ...       ...\n",
       "1413   78.0   583.03      15.0  20350.96\n",
       "1477   98.0   703.16       4.0  25391.67\n",
       "2424   56.0   364.36       0.0  14129.94\n",
       "2596   56.0   382.41       7.0  14563.80\n",
       "1788   69.0   470.12       6.0  11919.35\n",
       "\n",
       "[643 rows x 4 columns]"
      ]
     },
     "execution_count": 11,
     "metadata": {},
     "output_type": "execute_result"
    }
   ],
   "source": [
    "features_valid"
   ]
  },
  {
   "cell_type": "markdown",
   "metadata": {},
   "source": [
    "### Вывод\n",
    "\n",
    "Разделили исходные данные на обучающую, валидационную и тестовую выборки в соотношении 60%, 20%, 20%"
   ]
  },
  {
   "cell_type": "markdown",
   "metadata": {},
   "source": [
    "## Обучение моделей"
   ]
  },
  {
   "cell_type": "markdown",
   "metadata": {},
   "source": [
    "Обучим модель \"Дерево решений\""
   ]
  },
  {
   "cell_type": "code",
   "execution_count": 12,
   "metadata": {},
   "outputs": [
    {
     "name": "stdout",
     "output_type": "stream",
     "text": [
      "Accuracy наилучшей модели на валидационной выборке: 0.7916018662519441 Глубина дерева: 3\n"
     ]
    }
   ],
   "source": [
    "model_tree = None\n",
    "best_accuracy = 0\n",
    "best_depth_tree = 0\n",
    "for depth in range(1, 12):\n",
    "    model = DecisionTreeClassifier(max_depth=depth, random_state=2) \n",
    "    model.fit(features_train, target_train) \n",
    "    predictions = model.predict(features_valid)\n",
    "    accuracy_tree = accuracy_score(target_valid, predictions)\n",
    "    if accuracy_tree > best_accuracy:\n",
    "        best_accuracy = accuracy_tree\n",
    "        best_depth_tree = depth\n",
    "        model_tree = model\n",
    "print(\"Accuracy наилучшей модели на валидационной выборке:\", best_accuracy, \"Глубина дерева:\", best_depth_tree)"
   ]
  },
  {
   "cell_type": "markdown",
   "metadata": {},
   "source": [
    "Обучим модель \"Случайный лес\""
   ]
  },
  {
   "cell_type": "code",
   "execution_count": 13,
   "metadata": {
    "scrolled": true
   },
   "outputs": [
    {
     "name": "stdout",
     "output_type": "stream",
     "text": [
      "Accuracy наилучшей модели на валидационной выборке: 0.7916018662519441 Количество деревьев: 6 Максимальная глубина: 1\n"
     ]
    }
   ],
   "source": [
    "model_forest = None\n",
    "best_accuracy = 0\n",
    "best_est = 0\n",
    "best_depth_forest = 0\n",
    "for est in range(1, 51, 5):\n",
    "    for depth in range (1, 11):\n",
    "        model = RandomForestClassifier(random_state=2, n_estimators=est)\n",
    "        model.fit(features_train, target_train) \n",
    "        predictions = model.predict(features_valid)\n",
    "        accuracy_forest = accuracy_score(target_valid, predictions)\n",
    "        if accuracy_forest > best_accuracy:\n",
    "            best_accuracy = accuracy_forest\n",
    "            best_est = est\n",
    "            best_depth_forest = depth\n",
    "            model_forest = model\n",
    "print(\"Accuracy наилучшей модели на валидационной выборке:\", best_accuracy, \"Количество деревьев:\", best_est, \"Максимальная глубина:\", best_depth_forest)"
   ]
  },
  {
   "cell_type": "markdown",
   "metadata": {},
   "source": [
    "Обучим модель \"Логистическая регрессия\" "
   ]
  },
  {
   "cell_type": "code",
   "execution_count": 14,
   "metadata": {},
   "outputs": [
    {
     "name": "stdout",
     "output_type": "stream",
     "text": [
      "Accuracy наилучшей модели на валидационной выборке: 0.7387247278382582 Число итераций: 100\n"
     ]
    }
   ],
   "source": [
    "best_accuracy = 0\n",
    "best_iter = 0\n",
    "model_logistic = 0\n",
    "for i in range(100, 1000, 20):\n",
    "    model = LogisticRegression(random_state=42, max_iter=i) \n",
    "    model.fit(features_train, target_train) \n",
    "    predictions = model.predict(features_valid) \n",
    "    accuracy_logist = accuracy_score(target_valid, predictions)\n",
    "    if accuracy_logist > best_accuracy:\n",
    "        best_accuracy = accuracy_logist\n",
    "        best_iter = i\n",
    "        model_logistic = model\n",
    "print(\"Accuracy наилучшей модели на валидационной выборке:\", best_accuracy, \"Число итераций:\", best_iter)"
   ]
  },
  {
   "cell_type": "markdown",
   "metadata": {},
   "source": [
    "### Вывод\n",
    "\n",
    "На основе `train` данных были обучены три модели \"Дерево решений\", \"Случайный лес\" и \"Логистическая регрессия\".\n",
    "\n",
    "На валидационной выборке получены следующие показатели точности (Accuracy):\n",
    "\n",
    "Лучшую точность на валидационной выборке показала модель \"Случайный лес\" - Accuracy: 0.79, Количество деревьев: 35, Максимальная глубина: 1\n",
    "\n",
    "Худшую точность показала модель \"Логистическая регрессия\" - Accuracy: 072, Число итераций: 100.\n",
    "\n",
    "Между ними расположилась модель \"Дерево решений\" - Accuracy: 0.78, Глубина дерева: 4."
   ]
  },
  {
   "cell_type": "markdown",
   "metadata": {},
   "source": [
    "## Проверим модель на тестовой выборке"
   ]
  },
  {
   "cell_type": "markdown",
   "metadata": {},
   "source": [
    "Проверим модель \"Дерево решений\" на тестовой выборке "
   ]
  },
  {
   "cell_type": "code",
   "execution_count": 15,
   "metadata": {},
   "outputs": [
    {
     "name": "stdout",
     "output_type": "stream",
     "text": [
      "Accuracy на тестовой выборке: 0.7900466562986003\n"
     ]
    }
   ],
   "source": [
    "predictions = model_tree.predict(features_test)\n",
    "accuracy_tree =  accuracy_score(target_test, predictions)\n",
    "print(\"Accuracy на тестовой выборке:\", accuracy_tree)"
   ]
  },
  {
   "cell_type": "markdown",
   "metadata": {},
   "source": [
    "Проверим модель \"Случайный лес\" на тестовой выборке  "
   ]
  },
  {
   "cell_type": "code",
   "execution_count": 16,
   "metadata": {},
   "outputs": [
    {
     "name": "stdout",
     "output_type": "stream",
     "text": [
      "Accuracy на тестовой выборке: 0.7978227060653188\n"
     ]
    }
   ],
   "source": [
    "predictions = model_forest.predict(features_test)\n",
    "accuracy_forest = accuracy_score(target_test, predictions)\n",
    "print(\"Accuracy на тестовой выборке:\", accuracy_forest)"
   ]
  },
  {
   "cell_type": "markdown",
   "metadata": {},
   "source": [
    "Проверим модель \"Логистическая регрессия\" на тестовой выборке   "
   ]
  },
  {
   "cell_type": "code",
   "execution_count": 17,
   "metadata": {},
   "outputs": [
    {
     "name": "stdout",
     "output_type": "stream",
     "text": [
      "Accuracy на тестовой выборке: 0.7418351477449455\n"
     ]
    }
   ],
   "source": [
    "predictions = model_logistic.predict(features_test) \n",
    "accuracy_logist = accuracy_score(target_test, predictions)\n",
    "print(\"Accuracy на тестовой выборке:\", accuracy_logist)"
   ]
  },
  {
   "cell_type": "markdown",
   "metadata": {},
   "source": [
    "### Вывод\n",
    "\n",
    "На тестовой выборке получены следующие показатели точности (Accuracy):\n",
    "\n",
    "Лучшую точность на тренировочной выборке показала модель \"Случайный лес\" - 0.80.\n",
    "\n",
    "Худшую точность показала модель \"Логистическая регрессия\" - 070.\n",
    "\n",
    "Между ними расположилась модель \"Дерево решений\" - 0.79."
   ]
  },
  {
   "cell_type": "markdown",
   "metadata": {},
   "source": [
    "## Проверим модели на адекватность"
   ]
  },
  {
   "cell_type": "markdown",
   "metadata": {},
   "source": [
    "Проверим модели на адекватность, для этого используем классификатор Dummy"
   ]
  },
  {
   "cell_type": "code",
   "execution_count": 18,
   "metadata": {},
   "outputs": [
    {
     "data": {
      "text/plain": [
       "0    437\n",
       "1    206\n",
       "Name: is_ultra, dtype: int64"
      ]
     },
     "execution_count": 18,
     "metadata": {},
     "output_type": "execute_result"
    }
   ],
   "source": [
    "#проверим количество 0 и 1 в целевой выборке\n",
    "target_test.value_counts()"
   ]
  },
  {
   "cell_type": "markdown",
   "metadata": {},
   "source": [
    "Так как количество 0 в выборке сильно больше, чем 1, то используем классификатор Dummy со стратегией `prior` и заполним все предсказания нулями "
   ]
  },
  {
   "cell_type": "code",
   "execution_count": 19,
   "metadata": {},
   "outputs": [
    {
     "name": "stdout",
     "output_type": "stream",
     "text": [
      "Accuracy при заполнении предсказания нулями: 0.6796267496111975\n"
     ]
    }
   ],
   "source": [
    "#используем классификатор Dummy со стратегией prior\n",
    "dummy_prior = DummyClassifier(strategy=\"prior\", random_state=42)\n",
    "dummy_prior.fit(features_train, target_train)\n",
    "predictions = dummy_prior.predict(features_test)\n",
    "dummy_prior.score(target_test, predictions)\n",
    "accuracy_dummy_prior = accuracy_score(target_test, predictions)\n",
    "print(\"Accuracy при заполнении предсказания нулями:\", accuracy_dummy_prior)"
   ]
  },
  {
   "cell_type": "markdown",
   "metadata": {},
   "source": [
    "### Вывод \n",
    "\n",
    "1. Наилучшую точность показала модель \"Случайный лес\" - Accuracy = 0.80, но она и обучается дольше остальных.\n",
    "\n",
    "2. На втором месте по точности модель \"Дерево решений\" - Accuracy = 0.79. Точность практически как у \"Случайного леса\", но обучается гораздо быстрее.\n",
    "\n",
    "3. Худшую точность показала модель \"Логистическая регрессия\" - 0.70, она даже хуже, чем модель Dummy, заполняющая все предсказания нулями. Модель является не адекватной.\n",
    "\n",
    "4. Оптимальной моделью является модель \"Дерево решений\" с глубиной 4."
   ]
  },
  {
   "cell_type": "code",
   "execution_count": null,
   "metadata": {},
   "outputs": [],
   "source": []
  }
 ],
 "metadata": {
  "ExecuteTimeLog": [
   {
    "duration": 523,
    "start_time": "2022-04-01T10:57:31.725Z"
   },
   {
    "duration": 17,
    "start_time": "2022-04-01T10:57:50.052Z"
   },
   {
    "duration": 27,
    "start_time": "2022-04-01T10:57:57.379Z"
   },
   {
    "duration": 16,
    "start_time": "2022-04-01T10:58:23.947Z"
   },
   {
    "duration": 29,
    "start_time": "2022-04-01T10:58:48.044Z"
   },
   {
    "duration": 13,
    "start_time": "2022-04-01T10:58:57.332Z"
   },
   {
    "duration": 13,
    "start_time": "2022-04-01T10:59:02.619Z"
   },
   {
    "duration": 24,
    "start_time": "2022-04-01T11:00:02.260Z"
   },
   {
    "duration": 96,
    "start_time": "2022-04-01T11:03:06.765Z"
   },
   {
    "duration": 1030,
    "start_time": "2022-04-01T11:03:24.035Z"
   },
   {
    "duration": 58,
    "start_time": "2022-04-01T11:03:27.988Z"
   },
   {
    "duration": 5,
    "start_time": "2022-04-01T11:05:27.218Z"
   },
   {
    "duration": 4,
    "start_time": "2022-04-01T11:05:28.418Z"
   },
   {
    "duration": 7,
    "start_time": "2022-04-01T11:05:29.626Z"
   },
   {
    "duration": 7,
    "start_time": "2022-04-01T11:06:07.906Z"
   },
   {
    "duration": 13,
    "start_time": "2022-04-01T11:10:55.498Z"
   },
   {
    "duration": 53,
    "start_time": "2022-04-01T11:11:08.504Z"
   },
   {
    "duration": 22,
    "start_time": "2022-04-01T11:11:11.386Z"
   },
   {
    "duration": 4,
    "start_time": "2022-04-01T11:11:21.706Z"
   },
   {
    "duration": 17,
    "start_time": "2022-04-01T11:11:26.418Z"
   },
   {
    "duration": 44,
    "start_time": "2022-04-01T11:11:58.482Z"
   },
   {
    "duration": 13,
    "start_time": "2022-04-01T11:13:20.210Z"
   },
   {
    "duration": 17,
    "start_time": "2022-04-01T11:13:31.417Z"
   },
   {
    "duration": 6645,
    "start_time": "2022-04-01T11:13:35.578Z"
   },
   {
    "duration": 14,
    "start_time": "2022-04-01T11:16:47.890Z"
   },
   {
    "duration": 4,
    "start_time": "2022-04-01T11:16:58.329Z"
   },
   {
    "duration": 13,
    "start_time": "2022-04-01T11:17:02.433Z"
   },
   {
    "duration": 4,
    "start_time": "2022-04-01T11:18:08.074Z"
   },
   {
    "duration": 129,
    "start_time": "2022-04-01T11:18:38.353Z"
   },
   {
    "duration": 12,
    "start_time": "2022-04-01T11:18:40.937Z"
   },
   {
    "duration": 269,
    "start_time": "2022-04-01T11:18:54.304Z"
   },
   {
    "duration": 291,
    "start_time": "2022-04-01T11:18:58.984Z"
   },
   {
    "duration": 237,
    "start_time": "2022-04-01T11:19:03.841Z"
   },
   {
    "duration": 1352,
    "start_time": "2022-04-03T12:08:57.316Z"
   },
   {
    "duration": 18,
    "start_time": "2022-04-03T12:08:59.531Z"
   },
   {
    "duration": 20,
    "start_time": "2022-04-03T12:09:01.268Z"
   },
   {
    "duration": 4,
    "start_time": "2022-04-03T12:09:06.314Z"
   },
   {
    "duration": 3,
    "start_time": "2022-04-03T12:09:08.067Z"
   },
   {
    "duration": 5,
    "start_time": "2022-04-03T12:09:14.548Z"
   },
   {
    "duration": 3,
    "start_time": "2022-04-03T12:09:40.804Z"
   },
   {
    "duration": 4,
    "start_time": "2022-04-03T12:09:42.578Z"
   },
   {
    "duration": 1209,
    "start_time": "2022-04-03T12:12:53.530Z"
   },
   {
    "duration": 29,
    "start_time": "2022-04-03T12:12:55.681Z"
   },
   {
    "duration": 22,
    "start_time": "2022-04-03T12:12:57.137Z"
   },
   {
    "duration": 3,
    "start_time": "2022-04-03T12:13:00.137Z"
   },
   {
    "duration": 3,
    "start_time": "2022-04-03T12:13:01.656Z"
   },
   {
    "duration": 92,
    "start_time": "2022-04-03T12:13:03.736Z"
   },
   {
    "duration": 6,
    "start_time": "2022-04-03T12:16:59.608Z"
   },
   {
    "duration": 4,
    "start_time": "2022-04-03T12:17:14.584Z"
   },
   {
    "duration": 3,
    "start_time": "2022-04-03T12:17:34.071Z"
   },
   {
    "duration": 4,
    "start_time": "2022-04-03T12:17:47.552Z"
   },
   {
    "duration": 4,
    "start_time": "2022-04-03T12:18:38.759Z"
   },
   {
    "duration": 27,
    "start_time": "2022-04-03T12:27:02.043Z"
   },
   {
    "duration": 5448,
    "start_time": "2022-04-03T12:27:12.019Z"
   },
   {
    "duration": 4486,
    "start_time": "2022-04-03T12:27:19.226Z"
   },
   {
    "duration": 8,
    "start_time": "2022-04-03T12:27:32.196Z"
   },
   {
    "duration": 28,
    "start_time": "2022-04-03T12:27:37.610Z"
   },
   {
    "duration": 28,
    "start_time": "2022-04-03T12:34:04.463Z"
   },
   {
    "duration": 4225,
    "start_time": "2022-04-03T12:34:07.520Z"
   },
   {
    "duration": 8,
    "start_time": "2022-04-03T12:34:13.320Z"
   },
   {
    "duration": 30,
    "start_time": "2022-04-03T12:34:14.784Z"
   },
   {
    "duration": 24,
    "start_time": "2022-04-03T12:34:23.064Z"
   },
   {
    "duration": 4042,
    "start_time": "2022-04-03T12:34:25.048Z"
   },
   {
    "duration": 8,
    "start_time": "2022-04-03T12:34:30.248Z"
   },
   {
    "duration": 29,
    "start_time": "2022-04-03T12:34:32.656Z"
   },
   {
    "duration": 5,
    "start_time": "2022-04-03T12:48:43.096Z"
   },
   {
    "duration": 25,
    "start_time": "2022-04-03T12:49:37.209Z"
   },
   {
    "duration": 28,
    "start_time": "2022-04-03T12:49:42.151Z"
   },
   {
    "duration": 25,
    "start_time": "2022-04-03T12:49:45.961Z"
   },
   {
    "duration": 13,
    "start_time": "2022-04-03T12:53:41.018Z"
   },
   {
    "duration": 8,
    "start_time": "2022-04-03T12:53:45.528Z"
   },
   {
    "duration": 4140,
    "start_time": "2022-04-03T12:53:47.472Z"
   },
   {
    "duration": 5,
    "start_time": "2022-04-03T12:54:06.511Z"
   },
   {
    "duration": 4355,
    "start_time": "2022-04-03T12:54:08.641Z"
   },
   {
    "duration": 4198,
    "start_time": "2022-04-03T12:54:22.897Z"
   },
   {
    "duration": 4179,
    "start_time": "2022-04-03T12:56:43.486Z"
   },
   {
    "duration": 4129,
    "start_time": "2022-04-03T12:56:52.607Z"
   },
   {
    "duration": 4,
    "start_time": "2022-04-03T13:00:08.710Z"
   },
   {
    "duration": 7,
    "start_time": "2022-04-03T13:00:10.582Z"
   },
   {
    "duration": 27,
    "start_time": "2022-04-03T13:05:50.260Z"
   },
   {
    "duration": 4107,
    "start_time": "2022-04-03T13:05:51.587Z"
   },
   {
    "duration": 14,
    "start_time": "2022-04-03T13:09:23.978Z"
   },
   {
    "duration": 4,
    "start_time": "2022-04-03T13:09:38.625Z"
   },
   {
    "duration": 17,
    "start_time": "2022-04-03T13:09:44.817Z"
   },
   {
    "duration": 16,
    "start_time": "2022-04-03T13:10:03.177Z"
   },
   {
    "duration": 14,
    "start_time": "2022-04-03T13:10:52.378Z"
   },
   {
    "duration": 17,
    "start_time": "2022-04-03T13:11:08.825Z"
   },
   {
    "duration": 19,
    "start_time": "2022-04-03T13:11:46.145Z"
   },
   {
    "duration": 16,
    "start_time": "2022-04-03T13:11:50.296Z"
   },
   {
    "duration": 16,
    "start_time": "2022-04-03T13:11:52.112Z"
   },
   {
    "duration": 17,
    "start_time": "2022-04-03T13:16:14.772Z"
   },
   {
    "duration": 17,
    "start_time": "2022-04-03T13:18:01.123Z"
   },
   {
    "duration": 16,
    "start_time": "2022-04-03T13:29:32.185Z"
   },
   {
    "duration": 14,
    "start_time": "2022-04-03T13:30:08.113Z"
   },
   {
    "duration": 19,
    "start_time": "2022-04-03T13:31:13.512Z"
   },
   {
    "duration": 19,
    "start_time": "2022-04-03T13:31:27.295Z"
   },
   {
    "duration": 15,
    "start_time": "2022-04-03T13:31:49.800Z"
   },
   {
    "duration": 12,
    "start_time": "2022-04-03T13:32:34.886Z"
   },
   {
    "duration": 4,
    "start_time": "2022-04-03T13:32:45.366Z"
   },
   {
    "duration": 32,
    "start_time": "2022-04-03T13:32:48.631Z"
   },
   {
    "duration": 27,
    "start_time": "2022-04-03T13:34:53.622Z"
   },
   {
    "duration": 4,
    "start_time": "2022-04-03T13:35:45.411Z"
   },
   {
    "duration": 8139,
    "start_time": "2022-04-03T13:36:56.604Z"
   },
   {
    "duration": 640,
    "start_time": "2022-04-03T13:37:57.676Z"
   },
   {
    "duration": 607,
    "start_time": "2022-04-03T13:38:07.071Z"
   },
   {
    "duration": 637,
    "start_time": "2022-04-03T13:38:14.564Z"
   },
   {
    "duration": 6026,
    "start_time": "2022-04-03T13:38:35.821Z"
   },
   {
    "duration": 17,
    "start_time": "2022-04-03T13:39:36.835Z"
   },
   {
    "duration": 50678,
    "start_time": "2022-04-03T13:39:42.413Z"
   },
   {
    "duration": 11316,
    "start_time": "2022-04-03T13:41:50.835Z"
   },
   {
    "duration": 32,
    "start_time": "2022-04-03T13:45:00.185Z"
   },
   {
    "duration": 31,
    "start_time": "2022-04-03T13:47:39.325Z"
   },
   {
    "duration": 15607,
    "start_time": "2022-04-03T13:47:41.759Z"
   },
   {
    "duration": 56,
    "start_time": "2022-04-03T13:48:32.271Z"
   },
   {
    "duration": 50,
    "start_time": "2022-04-03T13:49:07.631Z"
   },
   {
    "duration": 10855,
    "start_time": "2022-04-03T13:49:08.671Z"
   },
   {
    "duration": 31,
    "start_time": "2022-04-03T13:49:19.529Z"
   },
   {
    "duration": 22,
    "start_time": "2022-04-03T14:39:10.270Z"
   },
   {
    "duration": 16,
    "start_time": "2022-04-03T14:39:24.286Z"
   },
   {
    "duration": 17,
    "start_time": "2022-04-03T14:40:11.494Z"
   },
   {
    "duration": 16,
    "start_time": "2022-04-03T14:40:31.541Z"
   },
   {
    "duration": 47,
    "start_time": "2022-04-03T14:41:42.039Z"
   },
   {
    "duration": 64,
    "start_time": "2022-04-03T14:42:10.301Z"
   },
   {
    "duration": 58,
    "start_time": "2022-04-03T14:42:44.477Z"
   },
   {
    "duration": 11,
    "start_time": "2022-04-03T14:53:56.968Z"
   },
   {
    "duration": 10,
    "start_time": "2022-04-03T14:54:01.552Z"
   },
   {
    "duration": 30,
    "start_time": "2022-04-03T14:54:08.558Z"
   },
   {
    "duration": 141,
    "start_time": "2022-04-03T14:55:11.302Z"
   },
   {
    "duration": 11,
    "start_time": "2022-04-03T14:56:39.662Z"
   },
   {
    "duration": 31,
    "start_time": "2022-04-03T14:57:42.187Z"
   },
   {
    "duration": 32,
    "start_time": "2022-04-03T14:58:07.804Z"
   },
   {
    "duration": 13,
    "start_time": "2022-04-03T14:58:18.125Z"
   },
   {
    "duration": 15180,
    "start_time": "2022-04-03T14:58:48.156Z"
   },
   {
    "duration": 19,
    "start_time": "2022-04-03T14:59:26.061Z"
   },
   {
    "duration": 67,
    "start_time": "2022-04-03T14:59:27.557Z"
   },
   {
    "duration": 3931,
    "start_time": "2022-04-03T15:03:07.554Z"
   },
   {
    "duration": 1910,
    "start_time": "2022-04-03T15:03:45.593Z"
   },
   {
    "duration": 2208,
    "start_time": "2022-04-03T15:05:17.952Z"
   },
   {
    "duration": 159,
    "start_time": "2022-04-03T15:05:27.833Z"
   },
   {
    "duration": 153,
    "start_time": "2022-04-03T15:05:40.217Z"
   },
   {
    "duration": 87,
    "start_time": "2022-04-03T15:05:43.145Z"
   },
   {
    "duration": 1037,
    "start_time": "2022-04-03T15:06:39.568Z"
   },
   {
    "duration": 1126,
    "start_time": "2022-04-03T15:07:04.223Z"
   },
   {
    "duration": 1019,
    "start_time": "2022-04-03T15:07:39.416Z"
   },
   {
    "duration": 1834,
    "start_time": "2022-04-03T15:07:45.953Z"
   },
   {
    "duration": 1753,
    "start_time": "2022-04-03T15:08:07.167Z"
   },
   {
    "duration": 28,
    "start_time": "2022-04-03T15:08:31.608Z"
   },
   {
    "duration": 66,
    "start_time": "2022-04-03T15:08:33.903Z"
   },
   {
    "duration": 10,
    "start_time": "2022-04-03T15:08:35.159Z"
   },
   {
    "duration": 3,
    "start_time": "2022-04-03T15:13:26.605Z"
   },
   {
    "duration": 29,
    "start_time": "2022-04-03T15:14:18.477Z"
   },
   {
    "duration": 72,
    "start_time": "2022-04-03T15:14:22.156Z"
   },
   {
    "duration": 29,
    "start_time": "2022-04-03T15:14:55.236Z"
   },
   {
    "duration": 3,
    "start_time": "2022-04-03T15:15:37.708Z"
   },
   {
    "duration": 4,
    "start_time": "2022-04-03T15:15:41.789Z"
   },
   {
    "duration": 3,
    "start_time": "2022-04-03T15:16:37.267Z"
   },
   {
    "duration": 12,
    "start_time": "2022-04-03T15:19:07.336Z"
   },
   {
    "duration": 10,
    "start_time": "2022-04-03T15:19:22.322Z"
   },
   {
    "duration": 10,
    "start_time": "2022-04-03T15:20:51.833Z"
   },
   {
    "duration": 11,
    "start_time": "2022-04-03T15:21:00.665Z"
   },
   {
    "duration": 10,
    "start_time": "2022-04-03T15:21:07.241Z"
   },
   {
    "duration": 10,
    "start_time": "2022-04-03T15:21:49.072Z"
   },
   {
    "duration": 11,
    "start_time": "2022-04-03T15:22:13.249Z"
   },
   {
    "duration": 7,
    "start_time": "2022-04-03T15:23:21.760Z"
   },
   {
    "duration": 5,
    "start_time": "2022-04-03T15:23:41.750Z"
   },
   {
    "duration": 5,
    "start_time": "2022-04-03T15:23:50.399Z"
   },
   {
    "duration": 40,
    "start_time": "2022-04-03T15:24:38.727Z"
   },
   {
    "duration": 29,
    "start_time": "2022-04-03T15:25:06.535Z"
   },
   {
    "duration": 1327,
    "start_time": "2022-04-03T15:25:22.873Z"
   },
   {
    "duration": 18,
    "start_time": "2022-04-03T15:25:24.202Z"
   },
   {
    "duration": 23,
    "start_time": "2022-04-03T15:25:24.222Z"
   },
   {
    "duration": 14,
    "start_time": "2022-04-03T15:25:24.247Z"
   },
   {
    "duration": 5,
    "start_time": "2022-04-03T15:25:24.263Z"
   },
   {
    "duration": 7,
    "start_time": "2022-04-03T15:25:24.270Z"
   },
   {
    "duration": 22,
    "start_time": "2022-04-03T15:25:24.279Z"
   },
   {
    "duration": 4,
    "start_time": "2022-04-03T15:25:24.303Z"
   },
   {
    "duration": 7,
    "start_time": "2022-04-03T15:25:24.308Z"
   },
   {
    "duration": 10,
    "start_time": "2022-04-03T15:25:24.316Z"
   },
   {
    "duration": 9,
    "start_time": "2022-04-03T15:25:24.327Z"
   },
   {
    "duration": 64,
    "start_time": "2022-04-03T15:25:24.338Z"
   },
   {
    "duration": 10425,
    "start_time": "2022-04-03T15:25:24.405Z"
   },
   {
    "duration": 110,
    "start_time": "2022-04-03T15:25:34.832Z"
   },
   {
    "duration": 0,
    "start_time": "2022-04-03T15:25:34.944Z"
   },
   {
    "duration": 0,
    "start_time": "2022-04-03T15:25:34.945Z"
   },
   {
    "duration": 0,
    "start_time": "2022-04-03T15:25:34.946Z"
   },
   {
    "duration": 0,
    "start_time": "2022-04-03T15:25:34.946Z"
   },
   {
    "duration": 1,
    "start_time": "2022-04-03T15:25:34.947Z"
   },
   {
    "duration": 3,
    "start_time": "2022-04-03T15:26:22.179Z"
   },
   {
    "duration": 19,
    "start_time": "2022-04-03T15:27:26.034Z"
   },
   {
    "duration": 31,
    "start_time": "2022-04-03T15:27:46.778Z"
   },
   {
    "duration": 32,
    "start_time": "2022-04-03T15:29:25.735Z"
   },
   {
    "duration": 10837,
    "start_time": "2022-04-03T15:30:17.198Z"
   },
   {
    "duration": 12054,
    "start_time": "2022-04-03T15:30:42.153Z"
   },
   {
    "duration": 509,
    "start_time": "2022-04-03T15:32:21.741Z"
   },
   {
    "duration": 12,
    "start_time": "2022-04-03T15:33:41.484Z"
   },
   {
    "duration": 83,
    "start_time": "2022-04-03T15:33:42.870Z"
   },
   {
    "duration": 18,
    "start_time": "2022-04-03T15:33:44.350Z"
   },
   {
    "duration": 5,
    "start_time": "2022-04-03T15:35:33.039Z"
   },
   {
    "duration": 5,
    "start_time": "2022-04-03T15:36:41.734Z"
   },
   {
    "duration": 13,
    "start_time": "2022-04-03T15:37:22.981Z"
   },
   {
    "duration": 12,
    "start_time": "2022-04-03T15:37:52.733Z"
   },
   {
    "duration": 6,
    "start_time": "2022-04-03T15:38:02.445Z"
   },
   {
    "duration": 12,
    "start_time": "2022-04-03T15:38:16.077Z"
   },
   {
    "duration": 3,
    "start_time": "2022-04-03T15:38:19.148Z"
   },
   {
    "duration": 12,
    "start_time": "2022-04-03T15:38:20.139Z"
   },
   {
    "duration": 6,
    "start_time": "2022-04-03T15:38:33.036Z"
   },
   {
    "duration": 176,
    "start_time": "2022-04-03T15:38:36.509Z"
   },
   {
    "duration": 16,
    "start_time": "2022-04-03T15:38:41.629Z"
   },
   {
    "duration": 12,
    "start_time": "2022-04-03T15:38:56.644Z"
   },
   {
    "duration": 11,
    "start_time": "2022-04-03T15:39:02.083Z"
   },
   {
    "duration": 5,
    "start_time": "2022-04-03T15:39:06.221Z"
   },
   {
    "duration": 1311,
    "start_time": "2022-04-03T15:39:34.772Z"
   },
   {
    "duration": 20,
    "start_time": "2022-04-03T15:39:36.085Z"
   },
   {
    "duration": 22,
    "start_time": "2022-04-03T15:39:36.106Z"
   },
   {
    "duration": 10,
    "start_time": "2022-04-03T15:39:36.130Z"
   },
   {
    "duration": 4,
    "start_time": "2022-04-03T15:39:36.143Z"
   },
   {
    "duration": 4,
    "start_time": "2022-04-03T15:39:36.149Z"
   },
   {
    "duration": 7,
    "start_time": "2022-04-03T15:39:36.154Z"
   },
   {
    "duration": 59,
    "start_time": "2022-04-03T15:39:36.163Z"
   },
   {
    "duration": 10293,
    "start_time": "2022-04-03T15:39:36.224Z"
   },
   {
    "duration": 1272,
    "start_time": "2022-04-03T15:39:46.519Z"
   },
   {
    "duration": 16,
    "start_time": "2022-04-03T15:39:47.793Z"
   },
   {
    "duration": 38,
    "start_time": "2022-04-03T15:39:47.811Z"
   },
   {
    "duration": 55,
    "start_time": "2022-04-03T15:39:47.851Z"
   },
   {
    "duration": 3,
    "start_time": "2022-04-03T15:39:47.909Z"
   },
   {
    "duration": 110,
    "start_time": "2022-04-03T15:39:47.914Z"
   },
   {
    "duration": 0,
    "start_time": "2022-04-03T15:39:48.026Z"
   },
   {
    "duration": 1426,
    "start_time": "2022-04-03T15:40:39.216Z"
   },
   {
    "duration": 19,
    "start_time": "2022-04-03T15:40:40.644Z"
   },
   {
    "duration": 22,
    "start_time": "2022-04-03T15:40:40.665Z"
   },
   {
    "duration": 18,
    "start_time": "2022-04-03T15:40:40.689Z"
   },
   {
    "duration": 4,
    "start_time": "2022-04-03T15:40:40.710Z"
   },
   {
    "duration": 7,
    "start_time": "2022-04-03T15:40:40.715Z"
   },
   {
    "duration": 8,
    "start_time": "2022-04-03T15:40:40.724Z"
   },
   {
    "duration": 31,
    "start_time": "2022-04-03T15:40:40.734Z"
   },
   {
    "duration": 10358,
    "start_time": "2022-04-03T15:40:40.766Z"
   },
   {
    "duration": 529,
    "start_time": "2022-04-03T15:40:51.126Z"
   },
   {
    "duration": 10,
    "start_time": "2022-04-03T15:40:51.657Z"
   },
   {
    "duration": 105,
    "start_time": "2022-04-03T15:40:51.668Z"
   },
   {
    "duration": 27,
    "start_time": "2022-04-03T15:40:51.774Z"
   },
   {
    "duration": 3,
    "start_time": "2022-04-03T15:40:51.804Z"
   },
   {
    "duration": 111,
    "start_time": "2022-04-03T15:40:51.808Z"
   },
   {
    "duration": 0,
    "start_time": "2022-04-03T15:40:51.920Z"
   },
   {
    "duration": 1260,
    "start_time": "2022-04-03T15:41:43.192Z"
   },
   {
    "duration": 19,
    "start_time": "2022-04-03T15:41:44.454Z"
   },
   {
    "duration": 21,
    "start_time": "2022-04-03T15:41:44.475Z"
   },
   {
    "duration": 11,
    "start_time": "2022-04-03T15:41:44.497Z"
   },
   {
    "duration": 5,
    "start_time": "2022-04-03T15:41:44.511Z"
   },
   {
    "duration": 5,
    "start_time": "2022-04-03T15:41:44.517Z"
   },
   {
    "duration": 7,
    "start_time": "2022-04-03T15:41:44.523Z"
   },
   {
    "duration": 29,
    "start_time": "2022-04-03T15:41:44.532Z"
   },
   {
    "duration": 10746,
    "start_time": "2022-04-03T15:41:44.563Z"
   },
   {
    "duration": 1235,
    "start_time": "2022-04-03T15:41:55.311Z"
   },
   {
    "duration": 10,
    "start_time": "2022-04-03T15:41:56.547Z"
   },
   {
    "duration": 95,
    "start_time": "2022-04-03T15:41:56.559Z"
   },
   {
    "duration": 36,
    "start_time": "2022-04-03T15:41:56.655Z"
   },
   {
    "duration": 3,
    "start_time": "2022-04-03T15:41:56.702Z"
   },
   {
    "duration": 112,
    "start_time": "2022-04-03T15:41:56.706Z"
   },
   {
    "duration": 0,
    "start_time": "2022-04-03T15:41:56.820Z"
   },
   {
    "duration": 7,
    "start_time": "2022-04-03T15:42:44.910Z"
   },
   {
    "duration": 7,
    "start_time": "2022-04-03T15:43:01.670Z"
   },
   {
    "duration": 11,
    "start_time": "2022-04-03T15:43:12.413Z"
   },
   {
    "duration": 6,
    "start_time": "2022-04-03T15:43:15.893Z"
   },
   {
    "duration": 5,
    "start_time": "2022-04-03T15:43:51.485Z"
   },
   {
    "duration": 6,
    "start_time": "2022-04-03T15:44:22.477Z"
   },
   {
    "duration": 7,
    "start_time": "2022-04-03T15:44:36.835Z"
   },
   {
    "duration": 8,
    "start_time": "2022-04-03T15:44:51.757Z"
   },
   {
    "duration": 7,
    "start_time": "2022-04-03T15:44:54.957Z"
   },
   {
    "duration": 6,
    "start_time": "2022-04-03T15:45:06.388Z"
   },
   {
    "duration": 7,
    "start_time": "2022-04-03T15:45:10.453Z"
   },
   {
    "duration": 5,
    "start_time": "2022-04-03T15:45:19.404Z"
   },
   {
    "duration": 12,
    "start_time": "2022-04-03T15:46:22.050Z"
   },
   {
    "duration": 7,
    "start_time": "2022-04-03T15:46:34.735Z"
   },
   {
    "duration": 1376,
    "start_time": "2022-04-03T15:46:45.755Z"
   },
   {
    "duration": 22,
    "start_time": "2022-04-03T15:46:47.135Z"
   },
   {
    "duration": 32,
    "start_time": "2022-04-03T15:46:47.160Z"
   },
   {
    "duration": 17,
    "start_time": "2022-04-03T15:46:47.202Z"
   },
   {
    "duration": 4,
    "start_time": "2022-04-03T15:46:47.221Z"
   },
   {
    "duration": 4,
    "start_time": "2022-04-03T15:46:47.227Z"
   },
   {
    "duration": 8,
    "start_time": "2022-04-03T15:46:47.233Z"
   },
   {
    "duration": 31,
    "start_time": "2022-04-03T15:46:47.243Z"
   },
   {
    "duration": 12133,
    "start_time": "2022-04-03T15:46:47.302Z"
   },
   {
    "duration": 1304,
    "start_time": "2022-04-03T15:46:59.438Z"
   },
   {
    "duration": 12,
    "start_time": "2022-04-03T15:47:00.745Z"
   },
   {
    "duration": 106,
    "start_time": "2022-04-03T15:47:00.759Z"
   },
   {
    "duration": 51,
    "start_time": "2022-04-03T15:47:00.867Z"
   },
   {
    "duration": 4,
    "start_time": "2022-04-03T15:47:00.920Z"
   },
   {
    "duration": 24,
    "start_time": "2022-04-03T15:47:00.925Z"
   },
   {
    "duration": 12,
    "start_time": "2022-04-03T15:47:00.951Z"
   },
   {
    "duration": 1280,
    "start_time": "2022-04-03T15:48:08.232Z"
   },
   {
    "duration": 19,
    "start_time": "2022-04-03T15:48:09.514Z"
   },
   {
    "duration": 23,
    "start_time": "2022-04-03T15:48:09.535Z"
   },
   {
    "duration": 12,
    "start_time": "2022-04-03T15:48:09.559Z"
   },
   {
    "duration": 4,
    "start_time": "2022-04-03T15:48:09.573Z"
   },
   {
    "duration": 22,
    "start_time": "2022-04-03T15:48:09.579Z"
   },
   {
    "duration": 7,
    "start_time": "2022-04-03T15:48:09.603Z"
   },
   {
    "duration": 30,
    "start_time": "2022-04-03T15:48:09.611Z"
   },
   {
    "duration": 10705,
    "start_time": "2022-04-03T15:48:09.642Z"
   },
   {
    "duration": 666,
    "start_time": "2022-04-03T15:48:20.349Z"
   },
   {
    "duration": 11,
    "start_time": "2022-04-03T15:48:21.017Z"
   },
   {
    "duration": 82,
    "start_time": "2022-04-03T15:48:21.030Z"
   },
   {
    "duration": 22,
    "start_time": "2022-04-03T15:48:21.114Z"
   },
   {
    "duration": 6,
    "start_time": "2022-04-03T15:48:21.139Z"
   },
   {
    "duration": 5,
    "start_time": "2022-04-03T15:55:46.866Z"
   },
   {
    "duration": 7,
    "start_time": "2022-04-03T15:55:59.802Z"
   },
   {
    "duration": 8,
    "start_time": "2022-04-03T15:56:16.218Z"
   },
   {
    "duration": 8,
    "start_time": "2022-04-03T15:59:44.424Z"
   },
   {
    "duration": 192,
    "start_time": "2022-04-03T16:01:26.719Z"
   },
   {
    "duration": 5,
    "start_time": "2022-04-03T16:01:28.366Z"
   },
   {
    "duration": 6,
    "start_time": "2022-04-03T16:01:33.022Z"
   },
   {
    "duration": 6,
    "start_time": "2022-04-03T16:01:52.694Z"
   },
   {
    "duration": 8,
    "start_time": "2022-04-03T16:03:17.654Z"
   },
   {
    "duration": 44,
    "start_time": "2022-04-03T17:38:00.004Z"
   },
   {
    "duration": 9,
    "start_time": "2022-04-03T17:38:30.318Z"
   },
   {
    "duration": 7,
    "start_time": "2022-04-03T17:38:31.549Z"
   },
   {
    "duration": 10,
    "start_time": "2022-04-03T17:39:42.267Z"
   },
   {
    "duration": 11182,
    "start_time": "2022-04-03T17:39:45.882Z"
   },
   {
    "duration": 15,
    "start_time": "2022-04-03T17:40:00.299Z"
   },
   {
    "duration": 833,
    "start_time": "2022-04-03T17:41:04.506Z"
   },
   {
    "duration": 7,
    "start_time": "2022-04-03T17:41:11.090Z"
   },
   {
    "duration": 1367,
    "start_time": "2022-04-03T17:59:59.853Z"
   },
   {
    "duration": 19,
    "start_time": "2022-04-03T18:00:01.223Z"
   },
   {
    "duration": 31,
    "start_time": "2022-04-03T18:00:01.246Z"
   },
   {
    "duration": 25,
    "start_time": "2022-04-03T18:00:01.279Z"
   },
   {
    "duration": 5,
    "start_time": "2022-04-03T18:00:01.306Z"
   },
   {
    "duration": 8,
    "start_time": "2022-04-03T18:00:01.313Z"
   },
   {
    "duration": 15,
    "start_time": "2022-04-03T18:00:01.323Z"
   },
   {
    "duration": 72,
    "start_time": "2022-04-03T18:00:01.341Z"
   },
   {
    "duration": 13590,
    "start_time": "2022-04-03T18:00:01.415Z"
   },
   {
    "duration": 830,
    "start_time": "2022-04-03T18:00:15.008Z"
   },
   {
    "duration": 7,
    "start_time": "2022-04-03T18:00:15.841Z"
   },
   {
    "duration": 19,
    "start_time": "2022-04-03T18:00:15.851Z"
   },
   {
    "duration": 32,
    "start_time": "2022-04-03T18:00:15.873Z"
   },
   {
    "duration": 7,
    "start_time": "2022-04-03T18:00:15.907Z"
   },
   {
    "duration": 9,
    "start_time": "2022-04-03T18:00:15.917Z"
   },
   {
    "duration": 1684,
    "start_time": "2022-04-04T08:11:18.431Z"
   },
   {
    "duration": 16,
    "start_time": "2022-04-04T08:11:20.119Z"
   },
   {
    "duration": 41,
    "start_time": "2022-04-04T08:11:20.137Z"
   },
   {
    "duration": 16,
    "start_time": "2022-04-04T08:11:20.182Z"
   },
   {
    "duration": 9,
    "start_time": "2022-04-04T08:11:20.201Z"
   },
   {
    "duration": 7,
    "start_time": "2022-04-04T08:11:20.212Z"
   },
   {
    "duration": 12,
    "start_time": "2022-04-04T08:11:20.221Z"
   },
   {
    "duration": 43,
    "start_time": "2022-04-04T08:11:20.235Z"
   },
   {
    "duration": 9,
    "start_time": "2022-04-04T08:11:20.280Z"
   },
   {
    "duration": 6,
    "start_time": "2022-04-04T08:11:20.293Z"
   },
   {
    "duration": 84,
    "start_time": "2022-04-04T08:11:20.301Z"
   },
   {
    "duration": 15099,
    "start_time": "2022-04-04T08:11:20.388Z"
   },
   {
    "duration": 1061,
    "start_time": "2022-04-04T08:11:35.489Z"
   },
   {
    "duration": 22,
    "start_time": "2022-04-04T08:11:36.552Z"
   },
   {
    "duration": 20,
    "start_time": "2022-04-04T08:11:36.576Z"
   },
   {
    "duration": 9,
    "start_time": "2022-04-04T08:11:36.599Z"
   },
   {
    "duration": 9,
    "start_time": "2022-04-04T08:11:36.611Z"
   },
   {
    "duration": 54,
    "start_time": "2022-04-04T08:11:36.623Z"
   },
   {
    "duration": 1155,
    "start_time": "2022-04-04T08:23:50.913Z"
   },
   {
    "duration": 14,
    "start_time": "2022-04-04T08:23:52.708Z"
   },
   {
    "duration": 20,
    "start_time": "2022-04-04T08:23:55.041Z"
   },
   {
    "duration": 10,
    "start_time": "2022-04-04T08:23:56.659Z"
   },
   {
    "duration": 4,
    "start_time": "2022-04-04T08:24:00.640Z"
   },
   {
    "duration": 3,
    "start_time": "2022-04-04T08:24:01.610Z"
   },
   {
    "duration": 7,
    "start_time": "2022-04-04T08:24:08.605Z"
   },
   {
    "duration": 1795,
    "start_time": "2022-04-09T20:09:25.658Z"
   },
   {
    "duration": 22,
    "start_time": "2022-04-09T20:09:27.455Z"
   },
   {
    "duration": 30,
    "start_time": "2022-04-09T20:09:27.479Z"
   },
   {
    "duration": 32,
    "start_time": "2022-04-09T20:09:27.512Z"
   },
   {
    "duration": 6,
    "start_time": "2022-04-09T20:09:27.547Z"
   },
   {
    "duration": 926,
    "start_time": "2022-04-09T20:09:27.555Z"
   },
   {
    "duration": 14,
    "start_time": "2022-04-09T20:09:28.483Z"
   },
   {
    "duration": 16,
    "start_time": "2022-04-09T20:09:28.500Z"
   },
   {
    "duration": 48,
    "start_time": "2022-04-09T20:09:28.518Z"
   },
   {
    "duration": 14316,
    "start_time": "2022-04-09T20:09:28.569Z"
   },
   {
    "duration": 1033,
    "start_time": "2022-04-09T20:09:42.887Z"
   },
   {
    "duration": 21,
    "start_time": "2022-04-09T20:09:43.923Z"
   },
   {
    "duration": 22,
    "start_time": "2022-04-09T20:09:43.946Z"
   },
   {
    "duration": 8,
    "start_time": "2022-04-09T20:09:43.970Z"
   },
   {
    "duration": 9,
    "start_time": "2022-04-09T20:09:43.980Z"
   },
   {
    "duration": 11,
    "start_time": "2022-04-09T20:09:43.991Z"
   },
   {
    "duration": 69,
    "start_time": "2022-04-11T08:11:37.213Z"
   },
   {
    "duration": 1550,
    "start_time": "2022-04-11T08:11:43.675Z"
   },
   {
    "duration": 20,
    "start_time": "2022-04-11T08:11:54.410Z"
   },
   {
    "duration": 96,
    "start_time": "2022-04-11T08:11:59.706Z"
   },
   {
    "duration": 7,
    "start_time": "2022-04-11T08:12:43.998Z"
   },
   {
    "duration": 4,
    "start_time": "2022-04-11T08:12:45.044Z"
   },
   {
    "duration": 9,
    "start_time": "2022-04-11T08:12:47.100Z"
   },
   {
    "duration": 67,
    "start_time": "2022-05-19T10:39:36.094Z"
   },
   {
    "duration": 1124,
    "start_time": "2022-05-19T10:39:40.379Z"
   },
   {
    "duration": 117,
    "start_time": "2022-05-19T10:39:42.155Z"
   },
   {
    "duration": 23,
    "start_time": "2022-05-19T10:39:43.843Z"
   },
   {
    "duration": 12,
    "start_time": "2022-05-19T10:39:45.355Z"
   },
   {
    "duration": 4,
    "start_time": "2022-05-19T10:39:47.763Z"
   },
   {
    "duration": 3,
    "start_time": "2022-05-19T10:39:48.723Z"
   },
   {
    "duration": 9,
    "start_time": "2022-05-19T10:39:49.803Z"
   },
   {
    "duration": 5,
    "start_time": "2022-05-19T10:39:51.389Z"
   },
   {
    "duration": 4,
    "start_time": "2022-05-19T10:40:04.091Z"
   },
   {
    "duration": 4,
    "start_time": "2022-05-19T10:40:26.462Z"
   },
   {
    "duration": 2007,
    "start_time": "2022-05-19T11:27:59.424Z"
   },
   {
    "duration": 31,
    "start_time": "2022-05-19T11:28:01.490Z"
   },
   {
    "duration": 86,
    "start_time": "2022-05-19T11:28:01.523Z"
   },
   {
    "duration": 13,
    "start_time": "2022-05-19T11:28:01.614Z"
   },
   {
    "duration": 60,
    "start_time": "2022-05-19T11:28:01.629Z"
   },
   {
    "duration": 6,
    "start_time": "2022-05-19T11:28:01.691Z"
   },
   {
    "duration": 21,
    "start_time": "2022-05-19T11:28:01.699Z"
   },
   {
    "duration": 8,
    "start_time": "2022-05-19T11:28:01.722Z"
   },
   {
    "duration": 53,
    "start_time": "2022-05-19T11:28:01.732Z"
   },
   {
    "duration": 4,
    "start_time": "2022-05-19T11:28:01.789Z"
   },
   {
    "duration": 28,
    "start_time": "2022-05-19T11:28:01.795Z"
   },
   {
    "duration": 260,
    "start_time": "2022-05-19T11:28:01.826Z"
   },
   {
    "duration": 28625,
    "start_time": "2022-05-19T11:28:02.087Z"
   },
   {
    "duration": 2176,
    "start_time": "2022-05-19T11:28:30.714Z"
   },
   {
    "duration": 11,
    "start_time": "2022-05-19T11:28:32.892Z"
   },
   {
    "duration": 20,
    "start_time": "2022-05-19T11:28:32.905Z"
   },
   {
    "duration": 73,
    "start_time": "2022-05-19T11:28:32.927Z"
   },
   {
    "duration": 6,
    "start_time": "2022-05-19T11:28:33.002Z"
   },
   {
    "duration": 7,
    "start_time": "2022-05-19T11:28:33.011Z"
   },
   {
    "duration": 9,
    "start_time": "2022-05-19T11:34:17.334Z"
   },
   {
    "duration": 164,
    "start_time": "2022-05-19T11:34:21.925Z"
   },
   {
    "duration": 28085,
    "start_time": "2022-05-19T11:34:29.406Z"
   },
   {
    "duration": 25299,
    "start_time": "2022-05-19T11:35:15.430Z"
   }
  ],
  "kernelspec": {
   "display_name": "Python 3 (ipykernel)",
   "language": "python",
   "name": "python3"
  },
  "language_info": {
   "codemirror_mode": {
    "name": "ipython",
    "version": 3
   },
   "file_extension": ".py",
   "mimetype": "text/x-python",
   "name": "python",
   "nbconvert_exporter": "python",
   "pygments_lexer": "ipython3",
   "version": "3.9.13"
  },
  "toc": {
   "base_numbering": 1,
   "nav_menu": {},
   "number_sections": true,
   "sideBar": true,
   "skip_h1_title": true,
   "title_cell": "Table of Contents",
   "title_sidebar": "Contents",
   "toc_cell": false,
   "toc_position": {},
   "toc_section_display": true,
   "toc_window_display": true
  }
 },
 "nbformat": 4,
 "nbformat_minor": 4
}
