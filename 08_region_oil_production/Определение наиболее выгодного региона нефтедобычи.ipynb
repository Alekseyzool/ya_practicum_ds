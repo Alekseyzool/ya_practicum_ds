{
 "cells": [
  {
   "cell_type": "markdown",
   "metadata": {},
   "source": [
    "# Выбор локации для скважины"
   ]
  },
  {
   "cell_type": "markdown",
   "metadata": {},
   "source": [
    "Допустим, вы работаете в добывающей компании «ГлавРосГосНефть». Нужно решить, где бурить новую скважину.\n",
    "\n",
    "Нам предоставлены пробы нефти в трёх регионах: в каждом 10 000 месторождений, где измерили качество нефти и объём её запасов. Необходимо построить модель машинного обучения, которая поможет определить регион, где добыча принесёт наибольшую прибыль. Проанализировать возможную прибыль и риски техникой *Bootstrap.*\n",
    "\n",
    "Шаги для выбора локации:\n",
    "\n",
    "- В избранном регионе ищут месторождения, для каждого определяют значения признаков;\n",
    "- Строят модель и оценивают объём запасов;\n",
    "- Выбирают месторождения с самым высокими оценками значений. Количество месторождений зависит от бюджета компании и стоимости разработки одной скважины;\n",
    "- Прибыль равна суммарной прибыли отобранных месторождений."
   ]
  },
  {
   "cell_type": "markdown",
   "metadata": {},
   "source": [
    "## Загрузка и подготовка данных"
   ]
  },
  {
   "cell_type": "markdown",
   "metadata": {},
   "source": [
    "Импортируем необходимые библиотеки"
   ]
  },
  {
   "cell_type": "code",
   "execution_count": 1,
   "metadata": {},
   "outputs": [],
   "source": [
    "import pandas as pd\n",
    "from numpy.random import RandomState\n",
    "from sklearn.model_selection import train_test_split\n",
    "from sklearn.tree import DecisionTreeRegressor\n",
    "from sklearn.ensemble import RandomForestRegressor\n",
    "from sklearn.linear_model import LinearRegression\n",
    "from sklearn.metrics import mean_squared_error\n",
    "import matplotlib.pyplot as plt"
   ]
  },
  {
   "cell_type": "markdown",
   "metadata": {},
   "source": [
    "Откроем и сохраним файлы данных"
   ]
  },
  {
   "cell_type": "code",
   "execution_count": 2,
   "metadata": {},
   "outputs": [],
   "source": [
    "geo_data_0 = pd.read_csv('/datasets/geo_data_0.csv')\n",
    "geo_data_1 = pd.read_csv('/datasets/geo_data_1.csv')\n",
    "geo_data_2 = pd.read_csv('/datasets/geo_data_2.csv')"
   ]
  },
  {
   "cell_type": "markdown",
   "metadata": {},
   "source": [
    "Рассмотрим полученные данные"
   ]
  },
  {
   "cell_type": "code",
   "execution_count": 3,
   "metadata": {},
   "outputs": [
    {
     "data": {
      "text/html": [
       "<div>\n",
       "<style scoped>\n",
       "    .dataframe tbody tr th:only-of-type {\n",
       "        vertical-align: middle;\n",
       "    }\n",
       "\n",
       "    .dataframe tbody tr th {\n",
       "        vertical-align: top;\n",
       "    }\n",
       "\n",
       "    .dataframe thead th {\n",
       "        text-align: right;\n",
       "    }\n",
       "</style>\n",
       "<table border=\"1\" class=\"dataframe\">\n",
       "  <thead>\n",
       "    <tr style=\"text-align: right;\">\n",
       "      <th></th>\n",
       "      <th>id</th>\n",
       "      <th>f0</th>\n",
       "      <th>f1</th>\n",
       "      <th>f2</th>\n",
       "      <th>product</th>\n",
       "    </tr>\n",
       "  </thead>\n",
       "  <tbody>\n",
       "    <tr>\n",
       "      <th>0</th>\n",
       "      <td>txEyH</td>\n",
       "      <td>0.705745</td>\n",
       "      <td>-0.497823</td>\n",
       "      <td>1.221170</td>\n",
       "      <td>105.280062</td>\n",
       "    </tr>\n",
       "    <tr>\n",
       "      <th>1</th>\n",
       "      <td>2acmU</td>\n",
       "      <td>1.334711</td>\n",
       "      <td>-0.340164</td>\n",
       "      <td>4.365080</td>\n",
       "      <td>73.037750</td>\n",
       "    </tr>\n",
       "    <tr>\n",
       "      <th>2</th>\n",
       "      <td>409Wp</td>\n",
       "      <td>1.022732</td>\n",
       "      <td>0.151990</td>\n",
       "      <td>1.419926</td>\n",
       "      <td>85.265647</td>\n",
       "    </tr>\n",
       "    <tr>\n",
       "      <th>3</th>\n",
       "      <td>iJLyR</td>\n",
       "      <td>-0.032172</td>\n",
       "      <td>0.139033</td>\n",
       "      <td>2.978566</td>\n",
       "      <td>168.620776</td>\n",
       "    </tr>\n",
       "    <tr>\n",
       "      <th>4</th>\n",
       "      <td>Xdl7t</td>\n",
       "      <td>1.988431</td>\n",
       "      <td>0.155413</td>\n",
       "      <td>4.751769</td>\n",
       "      <td>154.036647</td>\n",
       "    </tr>\n",
       "    <tr>\n",
       "      <th>...</th>\n",
       "      <td>...</td>\n",
       "      <td>...</td>\n",
       "      <td>...</td>\n",
       "      <td>...</td>\n",
       "      <td>...</td>\n",
       "    </tr>\n",
       "    <tr>\n",
       "      <th>99995</th>\n",
       "      <td>DLsed</td>\n",
       "      <td>0.971957</td>\n",
       "      <td>0.370953</td>\n",
       "      <td>6.075346</td>\n",
       "      <td>110.744026</td>\n",
       "    </tr>\n",
       "    <tr>\n",
       "      <th>99996</th>\n",
       "      <td>QKivN</td>\n",
       "      <td>1.392429</td>\n",
       "      <td>-0.382606</td>\n",
       "      <td>1.273912</td>\n",
       "      <td>122.346843</td>\n",
       "    </tr>\n",
       "    <tr>\n",
       "      <th>99997</th>\n",
       "      <td>3rnvd</td>\n",
       "      <td>1.029585</td>\n",
       "      <td>0.018787</td>\n",
       "      <td>-1.348308</td>\n",
       "      <td>64.375443</td>\n",
       "    </tr>\n",
       "    <tr>\n",
       "      <th>99998</th>\n",
       "      <td>7kl59</td>\n",
       "      <td>0.998163</td>\n",
       "      <td>-0.528582</td>\n",
       "      <td>1.583869</td>\n",
       "      <td>74.040764</td>\n",
       "    </tr>\n",
       "    <tr>\n",
       "      <th>99999</th>\n",
       "      <td>1CWhH</td>\n",
       "      <td>1.764754</td>\n",
       "      <td>-0.266417</td>\n",
       "      <td>5.722849</td>\n",
       "      <td>149.633246</td>\n",
       "    </tr>\n",
       "  </tbody>\n",
       "</table>\n",
       "<p>100000 rows × 5 columns</p>\n",
       "</div>"
      ],
      "text/plain": [
       "          id        f0        f1        f2     product\n",
       "0      txEyH  0.705745 -0.497823  1.221170  105.280062\n",
       "1      2acmU  1.334711 -0.340164  4.365080   73.037750\n",
       "2      409Wp  1.022732  0.151990  1.419926   85.265647\n",
       "3      iJLyR -0.032172  0.139033  2.978566  168.620776\n",
       "4      Xdl7t  1.988431  0.155413  4.751769  154.036647\n",
       "...      ...       ...       ...       ...         ...\n",
       "99995  DLsed  0.971957  0.370953  6.075346  110.744026\n",
       "99996  QKivN  1.392429 -0.382606  1.273912  122.346843\n",
       "99997  3rnvd  1.029585  0.018787 -1.348308   64.375443\n",
       "99998  7kl59  0.998163 -0.528582  1.583869   74.040764\n",
       "99999  1CWhH  1.764754 -0.266417  5.722849  149.633246\n",
       "\n",
       "[100000 rows x 5 columns]"
      ]
     },
     "execution_count": 3,
     "metadata": {},
     "output_type": "execute_result"
    }
   ],
   "source": [
    "geo_data_0"
   ]
  },
  {
   "cell_type": "code",
   "execution_count": 4,
   "metadata": {},
   "outputs": [
    {
     "data": {
      "text/html": [
       "<div>\n",
       "<style scoped>\n",
       "    .dataframe tbody tr th:only-of-type {\n",
       "        vertical-align: middle;\n",
       "    }\n",
       "\n",
       "    .dataframe tbody tr th {\n",
       "        vertical-align: top;\n",
       "    }\n",
       "\n",
       "    .dataframe thead th {\n",
       "        text-align: right;\n",
       "    }\n",
       "</style>\n",
       "<table border=\"1\" class=\"dataframe\">\n",
       "  <thead>\n",
       "    <tr style=\"text-align: right;\">\n",
       "      <th></th>\n",
       "      <th>id</th>\n",
       "      <th>f0</th>\n",
       "      <th>f1</th>\n",
       "      <th>f2</th>\n",
       "      <th>product</th>\n",
       "    </tr>\n",
       "  </thead>\n",
       "  <tbody>\n",
       "    <tr>\n",
       "      <th>0</th>\n",
       "      <td>kBEdx</td>\n",
       "      <td>-15.001348</td>\n",
       "      <td>-8.276000</td>\n",
       "      <td>-0.005876</td>\n",
       "      <td>3.179103</td>\n",
       "    </tr>\n",
       "    <tr>\n",
       "      <th>1</th>\n",
       "      <td>62mP7</td>\n",
       "      <td>14.272088</td>\n",
       "      <td>-3.475083</td>\n",
       "      <td>0.999183</td>\n",
       "      <td>26.953261</td>\n",
       "    </tr>\n",
       "    <tr>\n",
       "      <th>2</th>\n",
       "      <td>vyE1P</td>\n",
       "      <td>6.263187</td>\n",
       "      <td>-5.948386</td>\n",
       "      <td>5.001160</td>\n",
       "      <td>134.766305</td>\n",
       "    </tr>\n",
       "    <tr>\n",
       "      <th>3</th>\n",
       "      <td>KcrkZ</td>\n",
       "      <td>-13.081196</td>\n",
       "      <td>-11.506057</td>\n",
       "      <td>4.999415</td>\n",
       "      <td>137.945408</td>\n",
       "    </tr>\n",
       "    <tr>\n",
       "      <th>4</th>\n",
       "      <td>AHL4O</td>\n",
       "      <td>12.702195</td>\n",
       "      <td>-8.147433</td>\n",
       "      <td>5.004363</td>\n",
       "      <td>134.766305</td>\n",
       "    </tr>\n",
       "    <tr>\n",
       "      <th>...</th>\n",
       "      <td>...</td>\n",
       "      <td>...</td>\n",
       "      <td>...</td>\n",
       "      <td>...</td>\n",
       "      <td>...</td>\n",
       "    </tr>\n",
       "    <tr>\n",
       "      <th>99995</th>\n",
       "      <td>QywKC</td>\n",
       "      <td>9.535637</td>\n",
       "      <td>-6.878139</td>\n",
       "      <td>1.998296</td>\n",
       "      <td>53.906522</td>\n",
       "    </tr>\n",
       "    <tr>\n",
       "      <th>99996</th>\n",
       "      <td>ptvty</td>\n",
       "      <td>-10.160631</td>\n",
       "      <td>-12.558096</td>\n",
       "      <td>5.005581</td>\n",
       "      <td>137.945408</td>\n",
       "    </tr>\n",
       "    <tr>\n",
       "      <th>99997</th>\n",
       "      <td>09gWa</td>\n",
       "      <td>-7.378891</td>\n",
       "      <td>-3.084104</td>\n",
       "      <td>4.998651</td>\n",
       "      <td>137.945408</td>\n",
       "    </tr>\n",
       "    <tr>\n",
       "      <th>99998</th>\n",
       "      <td>rqwUm</td>\n",
       "      <td>0.665714</td>\n",
       "      <td>-6.152593</td>\n",
       "      <td>1.000146</td>\n",
       "      <td>30.132364</td>\n",
       "    </tr>\n",
       "    <tr>\n",
       "      <th>99999</th>\n",
       "      <td>relB0</td>\n",
       "      <td>-3.426139</td>\n",
       "      <td>-7.794274</td>\n",
       "      <td>-0.003299</td>\n",
       "      <td>3.179103</td>\n",
       "    </tr>\n",
       "  </tbody>\n",
       "</table>\n",
       "<p>100000 rows × 5 columns</p>\n",
       "</div>"
      ],
      "text/plain": [
       "          id         f0         f1        f2     product\n",
       "0      kBEdx -15.001348  -8.276000 -0.005876    3.179103\n",
       "1      62mP7  14.272088  -3.475083  0.999183   26.953261\n",
       "2      vyE1P   6.263187  -5.948386  5.001160  134.766305\n",
       "3      KcrkZ -13.081196 -11.506057  4.999415  137.945408\n",
       "4      AHL4O  12.702195  -8.147433  5.004363  134.766305\n",
       "...      ...        ...        ...       ...         ...\n",
       "99995  QywKC   9.535637  -6.878139  1.998296   53.906522\n",
       "99996  ptvty -10.160631 -12.558096  5.005581  137.945408\n",
       "99997  09gWa  -7.378891  -3.084104  4.998651  137.945408\n",
       "99998  rqwUm   0.665714  -6.152593  1.000146   30.132364\n",
       "99999  relB0  -3.426139  -7.794274 -0.003299    3.179103\n",
       "\n",
       "[100000 rows x 5 columns]"
      ]
     },
     "execution_count": 4,
     "metadata": {},
     "output_type": "execute_result"
    }
   ],
   "source": [
    "geo_data_1"
   ]
  },
  {
   "cell_type": "code",
   "execution_count": 5,
   "metadata": {
    "scrolled": false
   },
   "outputs": [
    {
     "data": {
      "text/html": [
       "<div>\n",
       "<style scoped>\n",
       "    .dataframe tbody tr th:only-of-type {\n",
       "        vertical-align: middle;\n",
       "    }\n",
       "\n",
       "    .dataframe tbody tr th {\n",
       "        vertical-align: top;\n",
       "    }\n",
       "\n",
       "    .dataframe thead th {\n",
       "        text-align: right;\n",
       "    }\n",
       "</style>\n",
       "<table border=\"1\" class=\"dataframe\">\n",
       "  <thead>\n",
       "    <tr style=\"text-align: right;\">\n",
       "      <th></th>\n",
       "      <th>id</th>\n",
       "      <th>f0</th>\n",
       "      <th>f1</th>\n",
       "      <th>f2</th>\n",
       "      <th>product</th>\n",
       "    </tr>\n",
       "  </thead>\n",
       "  <tbody>\n",
       "    <tr>\n",
       "      <th>0</th>\n",
       "      <td>fwXo0</td>\n",
       "      <td>-1.146987</td>\n",
       "      <td>0.963328</td>\n",
       "      <td>-0.828965</td>\n",
       "      <td>27.758673</td>\n",
       "    </tr>\n",
       "    <tr>\n",
       "      <th>1</th>\n",
       "      <td>WJtFt</td>\n",
       "      <td>0.262778</td>\n",
       "      <td>0.269839</td>\n",
       "      <td>-2.530187</td>\n",
       "      <td>56.069697</td>\n",
       "    </tr>\n",
       "    <tr>\n",
       "      <th>2</th>\n",
       "      <td>ovLUW</td>\n",
       "      <td>0.194587</td>\n",
       "      <td>0.289035</td>\n",
       "      <td>-5.586433</td>\n",
       "      <td>62.871910</td>\n",
       "    </tr>\n",
       "    <tr>\n",
       "      <th>3</th>\n",
       "      <td>q6cA6</td>\n",
       "      <td>2.236060</td>\n",
       "      <td>-0.553760</td>\n",
       "      <td>0.930038</td>\n",
       "      <td>114.572842</td>\n",
       "    </tr>\n",
       "    <tr>\n",
       "      <th>4</th>\n",
       "      <td>WPMUX</td>\n",
       "      <td>-0.515993</td>\n",
       "      <td>1.716266</td>\n",
       "      <td>5.899011</td>\n",
       "      <td>149.600746</td>\n",
       "    </tr>\n",
       "    <tr>\n",
       "      <th>...</th>\n",
       "      <td>...</td>\n",
       "      <td>...</td>\n",
       "      <td>...</td>\n",
       "      <td>...</td>\n",
       "      <td>...</td>\n",
       "    </tr>\n",
       "    <tr>\n",
       "      <th>99995</th>\n",
       "      <td>4GxBu</td>\n",
       "      <td>-1.777037</td>\n",
       "      <td>1.125220</td>\n",
       "      <td>6.263374</td>\n",
       "      <td>172.327046</td>\n",
       "    </tr>\n",
       "    <tr>\n",
       "      <th>99996</th>\n",
       "      <td>YKFjq</td>\n",
       "      <td>-1.261523</td>\n",
       "      <td>-0.894828</td>\n",
       "      <td>2.524545</td>\n",
       "      <td>138.748846</td>\n",
       "    </tr>\n",
       "    <tr>\n",
       "      <th>99997</th>\n",
       "      <td>tKPY3</td>\n",
       "      <td>-1.199934</td>\n",
       "      <td>-2.957637</td>\n",
       "      <td>5.219411</td>\n",
       "      <td>157.080080</td>\n",
       "    </tr>\n",
       "    <tr>\n",
       "      <th>99998</th>\n",
       "      <td>nmxp2</td>\n",
       "      <td>-2.419896</td>\n",
       "      <td>2.417221</td>\n",
       "      <td>-5.548444</td>\n",
       "      <td>51.795253</td>\n",
       "    </tr>\n",
       "    <tr>\n",
       "      <th>99999</th>\n",
       "      <td>V9kWn</td>\n",
       "      <td>-2.551421</td>\n",
       "      <td>-2.025625</td>\n",
       "      <td>6.090891</td>\n",
       "      <td>102.775767</td>\n",
       "    </tr>\n",
       "  </tbody>\n",
       "</table>\n",
       "<p>100000 rows × 5 columns</p>\n",
       "</div>"
      ],
      "text/plain": [
       "          id        f0        f1        f2     product\n",
       "0      fwXo0 -1.146987  0.963328 -0.828965   27.758673\n",
       "1      WJtFt  0.262778  0.269839 -2.530187   56.069697\n",
       "2      ovLUW  0.194587  0.289035 -5.586433   62.871910\n",
       "3      q6cA6  2.236060 -0.553760  0.930038  114.572842\n",
       "4      WPMUX -0.515993  1.716266  5.899011  149.600746\n",
       "...      ...       ...       ...       ...         ...\n",
       "99995  4GxBu -1.777037  1.125220  6.263374  172.327046\n",
       "99996  YKFjq -1.261523 -0.894828  2.524545  138.748846\n",
       "99997  tKPY3 -1.199934 -2.957637  5.219411  157.080080\n",
       "99998  nmxp2 -2.419896  2.417221 -5.548444   51.795253\n",
       "99999  V9kWn -2.551421 -2.025625  6.090891  102.775767\n",
       "\n",
       "[100000 rows x 5 columns]"
      ]
     },
     "execution_count": 5,
     "metadata": {},
     "output_type": "execute_result"
    }
   ],
   "source": [
    "geo_data_2"
   ]
  },
  {
   "cell_type": "code",
   "execution_count": 6,
   "metadata": {},
   "outputs": [
    {
     "name": "stdout",
     "output_type": "stream",
     "text": [
      "<class 'pandas.core.frame.DataFrame'>\n",
      "RangeIndex: 100000 entries, 0 to 99999\n",
      "Data columns (total 5 columns):\n",
      " #   Column   Non-Null Count   Dtype  \n",
      "---  ------   --------------   -----  \n",
      " 0   id       100000 non-null  object \n",
      " 1   f0       100000 non-null  float64\n",
      " 2   f1       100000 non-null  float64\n",
      " 3   f2       100000 non-null  float64\n",
      " 4   product  100000 non-null  float64\n",
      "dtypes: float64(4), object(1)\n",
      "memory usage: 3.8+ MB\n"
     ]
    }
   ],
   "source": [
    "geo_data_0.info()"
   ]
  },
  {
   "cell_type": "code",
   "execution_count": 7,
   "metadata": {},
   "outputs": [
    {
     "name": "stdout",
     "output_type": "stream",
     "text": [
      "<class 'pandas.core.frame.DataFrame'>\n",
      "RangeIndex: 100000 entries, 0 to 99999\n",
      "Data columns (total 5 columns):\n",
      " #   Column   Non-Null Count   Dtype  \n",
      "---  ------   --------------   -----  \n",
      " 0   id       100000 non-null  object \n",
      " 1   f0       100000 non-null  float64\n",
      " 2   f1       100000 non-null  float64\n",
      " 3   f2       100000 non-null  float64\n",
      " 4   product  100000 non-null  float64\n",
      "dtypes: float64(4), object(1)\n",
      "memory usage: 3.8+ MB\n"
     ]
    }
   ],
   "source": [
    "geo_data_1.info()"
   ]
  },
  {
   "cell_type": "code",
   "execution_count": 8,
   "metadata": {
    "scrolled": true
   },
   "outputs": [
    {
     "name": "stdout",
     "output_type": "stream",
     "text": [
      "<class 'pandas.core.frame.DataFrame'>\n",
      "RangeIndex: 100000 entries, 0 to 99999\n",
      "Data columns (total 5 columns):\n",
      " #   Column   Non-Null Count   Dtype  \n",
      "---  ------   --------------   -----  \n",
      " 0   id       100000 non-null  object \n",
      " 1   f0       100000 non-null  float64\n",
      " 2   f1       100000 non-null  float64\n",
      " 3   f2       100000 non-null  float64\n",
      " 4   product  100000 non-null  float64\n",
      "dtypes: float64(4), object(1)\n",
      "memory usage: 3.8+ MB\n"
     ]
    }
   ],
   "source": [
    "geo_data_2.info()"
   ]
  },
  {
   "cell_type": "markdown",
   "metadata": {},
   "source": [
    "Пропусков в данных нет, типы данных указаны верно, названия столбцов корректны"
   ]
  },
  {
   "cell_type": "markdown",
   "metadata": {},
   "source": [
    "Проверим статистики данных"
   ]
  },
  {
   "cell_type": "code",
   "execution_count": 9,
   "metadata": {},
   "outputs": [
    {
     "data": {
      "text/html": [
       "<div>\n",
       "<style scoped>\n",
       "    .dataframe tbody tr th:only-of-type {\n",
       "        vertical-align: middle;\n",
       "    }\n",
       "\n",
       "    .dataframe tbody tr th {\n",
       "        vertical-align: top;\n",
       "    }\n",
       "\n",
       "    .dataframe thead th {\n",
       "        text-align: right;\n",
       "    }\n",
       "</style>\n",
       "<table border=\"1\" class=\"dataframe\">\n",
       "  <thead>\n",
       "    <tr style=\"text-align: right;\">\n",
       "      <th></th>\n",
       "      <th>count</th>\n",
       "      <th>mean</th>\n",
       "      <th>std</th>\n",
       "      <th>min</th>\n",
       "      <th>25%</th>\n",
       "      <th>50%</th>\n",
       "      <th>75%</th>\n",
       "      <th>max</th>\n",
       "    </tr>\n",
       "  </thead>\n",
       "  <tbody>\n",
       "    <tr>\n",
       "      <th>f0</th>\n",
       "      <td>100000.0</td>\n",
       "      <td>0.500419</td>\n",
       "      <td>0.871832</td>\n",
       "      <td>-1.408605</td>\n",
       "      <td>-0.072580</td>\n",
       "      <td>0.502360</td>\n",
       "      <td>1.073581</td>\n",
       "      <td>2.362331</td>\n",
       "    </tr>\n",
       "    <tr>\n",
       "      <th>f1</th>\n",
       "      <td>100000.0</td>\n",
       "      <td>0.250143</td>\n",
       "      <td>0.504433</td>\n",
       "      <td>-0.848218</td>\n",
       "      <td>-0.200881</td>\n",
       "      <td>0.250252</td>\n",
       "      <td>0.700646</td>\n",
       "      <td>1.343769</td>\n",
       "    </tr>\n",
       "    <tr>\n",
       "      <th>f2</th>\n",
       "      <td>100000.0</td>\n",
       "      <td>2.502647</td>\n",
       "      <td>3.248248</td>\n",
       "      <td>-12.088328</td>\n",
       "      <td>0.287748</td>\n",
       "      <td>2.515969</td>\n",
       "      <td>4.715088</td>\n",
       "      <td>16.003790</td>\n",
       "    </tr>\n",
       "    <tr>\n",
       "      <th>product</th>\n",
       "      <td>100000.0</td>\n",
       "      <td>92.500000</td>\n",
       "      <td>44.288691</td>\n",
       "      <td>0.000000</td>\n",
       "      <td>56.497507</td>\n",
       "      <td>91.849972</td>\n",
       "      <td>128.564089</td>\n",
       "      <td>185.364347</td>\n",
       "    </tr>\n",
       "  </tbody>\n",
       "</table>\n",
       "</div>"
      ],
      "text/plain": [
       "            count       mean        std        min        25%        50%  \\\n",
       "f0       100000.0   0.500419   0.871832  -1.408605  -0.072580   0.502360   \n",
       "f1       100000.0   0.250143   0.504433  -0.848218  -0.200881   0.250252   \n",
       "f2       100000.0   2.502647   3.248248 -12.088328   0.287748   2.515969   \n",
       "product  100000.0  92.500000  44.288691   0.000000  56.497507  91.849972   \n",
       "\n",
       "                75%         max  \n",
       "f0         1.073581    2.362331  \n",
       "f1         0.700646    1.343769  \n",
       "f2         4.715088   16.003790  \n",
       "product  128.564089  185.364347  "
      ]
     },
     "execution_count": 9,
     "metadata": {},
     "output_type": "execute_result"
    }
   ],
   "source": [
    "geo_data_0.describe().T"
   ]
  },
  {
   "cell_type": "code",
   "execution_count": 10,
   "metadata": {},
   "outputs": [
    {
     "data": {
      "text/html": [
       "<div>\n",
       "<style scoped>\n",
       "    .dataframe tbody tr th:only-of-type {\n",
       "        vertical-align: middle;\n",
       "    }\n",
       "\n",
       "    .dataframe tbody tr th {\n",
       "        vertical-align: top;\n",
       "    }\n",
       "\n",
       "    .dataframe thead th {\n",
       "        text-align: right;\n",
       "    }\n",
       "</style>\n",
       "<table border=\"1\" class=\"dataframe\">\n",
       "  <thead>\n",
       "    <tr style=\"text-align: right;\">\n",
       "      <th></th>\n",
       "      <th>count</th>\n",
       "      <th>mean</th>\n",
       "      <th>std</th>\n",
       "      <th>min</th>\n",
       "      <th>25%</th>\n",
       "      <th>50%</th>\n",
       "      <th>75%</th>\n",
       "      <th>max</th>\n",
       "    </tr>\n",
       "  </thead>\n",
       "  <tbody>\n",
       "    <tr>\n",
       "      <th>f0</th>\n",
       "      <td>100000.0</td>\n",
       "      <td>1.141296</td>\n",
       "      <td>8.965932</td>\n",
       "      <td>-31.609576</td>\n",
       "      <td>-6.298551</td>\n",
       "      <td>1.153055</td>\n",
       "      <td>8.621015</td>\n",
       "      <td>29.421755</td>\n",
       "    </tr>\n",
       "    <tr>\n",
       "      <th>f1</th>\n",
       "      <td>100000.0</td>\n",
       "      <td>-4.796579</td>\n",
       "      <td>5.119872</td>\n",
       "      <td>-26.358598</td>\n",
       "      <td>-8.267985</td>\n",
       "      <td>-4.813172</td>\n",
       "      <td>-1.332816</td>\n",
       "      <td>18.734063</td>\n",
       "    </tr>\n",
       "    <tr>\n",
       "      <th>f2</th>\n",
       "      <td>100000.0</td>\n",
       "      <td>2.494541</td>\n",
       "      <td>1.703572</td>\n",
       "      <td>-0.018144</td>\n",
       "      <td>1.000021</td>\n",
       "      <td>2.011479</td>\n",
       "      <td>3.999904</td>\n",
       "      <td>5.019721</td>\n",
       "    </tr>\n",
       "    <tr>\n",
       "      <th>product</th>\n",
       "      <td>100000.0</td>\n",
       "      <td>68.825000</td>\n",
       "      <td>45.944423</td>\n",
       "      <td>0.000000</td>\n",
       "      <td>26.953261</td>\n",
       "      <td>57.085625</td>\n",
       "      <td>107.813044</td>\n",
       "      <td>137.945408</td>\n",
       "    </tr>\n",
       "  </tbody>\n",
       "</table>\n",
       "</div>"
      ],
      "text/plain": [
       "            count       mean        std        min        25%        50%  \\\n",
       "f0       100000.0   1.141296   8.965932 -31.609576  -6.298551   1.153055   \n",
       "f1       100000.0  -4.796579   5.119872 -26.358598  -8.267985  -4.813172   \n",
       "f2       100000.0   2.494541   1.703572  -0.018144   1.000021   2.011479   \n",
       "product  100000.0  68.825000  45.944423   0.000000  26.953261  57.085625   \n",
       "\n",
       "                75%         max  \n",
       "f0         8.621015   29.421755  \n",
       "f1        -1.332816   18.734063  \n",
       "f2         3.999904    5.019721  \n",
       "product  107.813044  137.945408  "
      ]
     },
     "execution_count": 10,
     "metadata": {},
     "output_type": "execute_result"
    }
   ],
   "source": [
    "geo_data_1.describe().T"
   ]
  },
  {
   "cell_type": "code",
   "execution_count": 11,
   "metadata": {
    "scrolled": true
   },
   "outputs": [
    {
     "data": {
      "text/html": [
       "<div>\n",
       "<style scoped>\n",
       "    .dataframe tbody tr th:only-of-type {\n",
       "        vertical-align: middle;\n",
       "    }\n",
       "\n",
       "    .dataframe tbody tr th {\n",
       "        vertical-align: top;\n",
       "    }\n",
       "\n",
       "    .dataframe thead th {\n",
       "        text-align: right;\n",
       "    }\n",
       "</style>\n",
       "<table border=\"1\" class=\"dataframe\">\n",
       "  <thead>\n",
       "    <tr style=\"text-align: right;\">\n",
       "      <th></th>\n",
       "      <th>count</th>\n",
       "      <th>mean</th>\n",
       "      <th>std</th>\n",
       "      <th>min</th>\n",
       "      <th>25%</th>\n",
       "      <th>50%</th>\n",
       "      <th>75%</th>\n",
       "      <th>max</th>\n",
       "    </tr>\n",
       "  </thead>\n",
       "  <tbody>\n",
       "    <tr>\n",
       "      <th>f0</th>\n",
       "      <td>100000.0</td>\n",
       "      <td>0.002023</td>\n",
       "      <td>1.732045</td>\n",
       "      <td>-8.760004</td>\n",
       "      <td>-1.162288</td>\n",
       "      <td>0.009424</td>\n",
       "      <td>1.158535</td>\n",
       "      <td>7.238262</td>\n",
       "    </tr>\n",
       "    <tr>\n",
       "      <th>f1</th>\n",
       "      <td>100000.0</td>\n",
       "      <td>-0.002081</td>\n",
       "      <td>1.730417</td>\n",
       "      <td>-7.084020</td>\n",
       "      <td>-1.174820</td>\n",
       "      <td>-0.009482</td>\n",
       "      <td>1.163678</td>\n",
       "      <td>7.844801</td>\n",
       "    </tr>\n",
       "    <tr>\n",
       "      <th>f2</th>\n",
       "      <td>100000.0</td>\n",
       "      <td>2.495128</td>\n",
       "      <td>3.473445</td>\n",
       "      <td>-11.970335</td>\n",
       "      <td>0.130359</td>\n",
       "      <td>2.484236</td>\n",
       "      <td>4.858794</td>\n",
       "      <td>16.739402</td>\n",
       "    </tr>\n",
       "    <tr>\n",
       "      <th>product</th>\n",
       "      <td>100000.0</td>\n",
       "      <td>95.000000</td>\n",
       "      <td>44.749921</td>\n",
       "      <td>0.000000</td>\n",
       "      <td>59.450441</td>\n",
       "      <td>94.925613</td>\n",
       "      <td>130.595027</td>\n",
       "      <td>190.029838</td>\n",
       "    </tr>\n",
       "  </tbody>\n",
       "</table>\n",
       "</div>"
      ],
      "text/plain": [
       "            count       mean        std        min        25%        50%  \\\n",
       "f0       100000.0   0.002023   1.732045  -8.760004  -1.162288   0.009424   \n",
       "f1       100000.0  -0.002081   1.730417  -7.084020  -1.174820  -0.009482   \n",
       "f2       100000.0   2.495128   3.473445 -11.970335   0.130359   2.484236   \n",
       "product  100000.0  95.000000  44.749921   0.000000  59.450441  94.925613   \n",
       "\n",
       "                75%         max  \n",
       "f0         1.158535    7.238262  \n",
       "f1         1.163678    7.844801  \n",
       "f2         4.858794   16.739402  \n",
       "product  130.595027  190.029838  "
      ]
     },
     "execution_count": 11,
     "metadata": {},
     "output_type": "execute_result"
    }
   ],
   "source": [
    "geo_data_2.describe().T"
   ]
  },
  {
   "cell_type": "markdown",
   "metadata": {},
   "source": [
    "Проверим наличие дубликатов в данных"
   ]
  },
  {
   "cell_type": "code",
   "execution_count": 12,
   "metadata": {},
   "outputs": [
    {
     "data": {
      "text/plain": [
       "0"
      ]
     },
     "execution_count": 12,
     "metadata": {},
     "output_type": "execute_result"
    }
   ],
   "source": [
    "geo_data_0.duplicated().sum()"
   ]
  },
  {
   "cell_type": "code",
   "execution_count": 13,
   "metadata": {},
   "outputs": [
    {
     "data": {
      "text/plain": [
       "0"
      ]
     },
     "execution_count": 13,
     "metadata": {},
     "output_type": "execute_result"
    }
   ],
   "source": [
    "geo_data_1.duplicated().sum()"
   ]
  },
  {
   "cell_type": "code",
   "execution_count": 14,
   "metadata": {
    "scrolled": true
   },
   "outputs": [
    {
     "data": {
      "text/plain": [
       "0"
      ]
     },
     "execution_count": 14,
     "metadata": {},
     "output_type": "execute_result"
    }
   ],
   "source": [
    "geo_data_2.duplicated().sum()"
   ]
  },
  {
   "cell_type": "markdown",
   "metadata": {},
   "source": [
    "Дубликатов в данных не обнаружено"
   ]
  },
  {
   "cell_type": "markdown",
   "metadata": {},
   "source": [
    "### Вывод \n",
    "Имеются данные геологоразведки трёх регионов, содержащие следующую информацию:\\\n",
    "**Признаки**\\\n",
    "`id` — уникальный идентификатор скважины;\\\n",
    "`f0`, `f1`, `f2` — три признака точек (неважно, что они означают, но сами признаки значимы);\\\n",
    "**Целевой признак**\\\n",
    "`product` — объём запасов в скважине (тыс. баррелей)\n",
    "\n",
    "1) Дубликатов в данных не обнаружено\\\n",
    "2) Категориальных признаков нет\\\n",
    "3) Пропусков в данных нет"
   ]
  },
  {
   "cell_type": "markdown",
   "metadata": {},
   "source": [
    "## Обучение и проверка модели"
   ]
  },
  {
   "cell_type": "markdown",
   "metadata": {},
   "source": [
    "Разобьем данные на обучающую и валидационную выборки в соотношении 75/25"
   ]
  },
  {
   "cell_type": "code",
   "execution_count": 15,
   "metadata": {},
   "outputs": [],
   "source": [
    "#создадим функцию, на входе целый датасет на выходе разделенный на выборки (train и valid) в соотношении 75/25\n",
    "def separ(df):\n",
    "    target = df['product']\n",
    "    features = df.drop(['product', 'id'], axis=1)\n",
    "    features_train, features_valid, target_train, target_valid = train_test_split(\n",
    "        features, target,test_size=0.25, train_size=0.75, random_state=42)\n",
    "    return features_train, features_valid, target_train, target_valid"
   ]
  },
  {
   "cell_type": "code",
   "execution_count": 16,
   "metadata": {},
   "outputs": [],
   "source": [
    "features_train_0, features_valid_0, target_train_0, target_valid_0 = separ(geo_data_0)"
   ]
  },
  {
   "cell_type": "code",
   "execution_count": 17,
   "metadata": {},
   "outputs": [],
   "source": [
    "features_train_1, features_valid_1, target_train_1, target_valid_1 = separ(geo_data_1)"
   ]
  },
  {
   "cell_type": "code",
   "execution_count": 18,
   "metadata": {},
   "outputs": [],
   "source": [
    "features_train_2, features_valid_2, target_train_2, target_valid_2 = separ(geo_data_2)"
   ]
  },
  {
   "cell_type": "markdown",
   "metadata": {},
   "source": [
    "Обучим модель Линейной регрессии "
   ]
  },
  {
   "cell_type": "code",
   "execution_count": 19,
   "metadata": {},
   "outputs": [],
   "source": [
    "def linear_valid(features_train, features_valid, target_train, target_valid):\n",
    "    best = 100\n",
    "    best_iter = 0\n",
    "    for i in range(100, 1000, 50):\n",
    "        model = LinearRegression()\n",
    "        model.fit(features_train, target_train)\n",
    "        predictions = model.predict(features_valid)\n",
    "        rmse = mean_squared_error(target_valid, predictions) ** .5\n",
    "        if best > rmse:\n",
    "            best = rmse\n",
    "            best_iter = i       \n",
    "    print('\\n','RMSE наилучшей модели на валидационной выборке:', round(best,2),'\\n')\n",
    "    return predictions, best"
   ]
  },
  {
   "cell_type": "markdown",
   "metadata": {},
   "source": [
    "Посчитаем RMSE Линейной регрессии для первого региона"
   ]
  },
  {
   "cell_type": "code",
   "execution_count": 20,
   "metadata": {},
   "outputs": [
    {
     "name": "stdout",
     "output_type": "stream",
     "text": [
      "\n",
      " RMSE наилучшей модели на валидационной выборке: 37.76 \n",
      "\n"
     ]
    }
   ],
   "source": [
    "predict_0, rmse_0 = linear_valid(features_train_0, features_valid_0, target_train_0, target_valid_0)"
   ]
  },
  {
   "cell_type": "markdown",
   "metadata": {},
   "source": [
    "Посчитаем RMSE Линейной регрессии для второго региона"
   ]
  },
  {
   "cell_type": "code",
   "execution_count": 21,
   "metadata": {},
   "outputs": [
    {
     "name": "stdout",
     "output_type": "stream",
     "text": [
      "\n",
      " RMSE наилучшей модели на валидационной выборке: 0.89 \n",
      "\n"
     ]
    }
   ],
   "source": [
    "predict_1, rmse_1 = linear_valid(features_train_1, features_valid_1, target_train_1, target_valid_1)"
   ]
  },
  {
   "cell_type": "markdown",
   "metadata": {},
   "source": [
    "Посчитаем RMSE Линейной регрессии для третьего региона"
   ]
  },
  {
   "cell_type": "code",
   "execution_count": 22,
   "metadata": {
    "scrolled": false
   },
   "outputs": [
    {
     "name": "stdout",
     "output_type": "stream",
     "text": [
      "\n",
      " RMSE наилучшей модели на валидационной выборке: 40.15 \n",
      "\n"
     ]
    }
   ],
   "source": [
    "predict_2, rmse_2 = linear_valid(features_train_2, features_valid_2, target_train_2, target_valid_2)"
   ]
  },
  {
   "cell_type": "markdown",
   "metadata": {},
   "source": [
    "Создадим функцию для сохранения предсказаний `predict` и правильные ответы `target` на валидационной выборке \n",
    "\n",
    "и посчитаем разницу средних значений правильных и предсказанных ответов для каждого региона"
   ]
  },
  {
   "cell_type": "code",
   "execution_count": 23,
   "metadata": {
    "scrolled": false
   },
   "outputs": [],
   "source": [
    "def save_predict(features_valid, target_valid, predict, rmse):\n",
    "    region = features_valid.copy()\n",
    "    region['target'] = target_valid.copy()\n",
    "    region['predict'] = predict\n",
    "    a = region['target'].mean()\n",
    "    b = region['predict'].mean()\n",
    "    print('Предсказанный средний запас сырья для региона', round(b,2))\n",
    "    print('RSME модели для региона', round(rmse,2))\n",
    "    print('Средний запас сырья для региона', round(a,2))\n",
    "    print('Разница между средним запасом и предсказанным средним для региона', round(a-b,2))\n",
    "    return region"
   ]
  },
  {
   "cell_type": "markdown",
   "metadata": {},
   "source": [
    "Посчитаем разницу средних значений правильных и предсказанных ответов для первого региона"
   ]
  },
  {
   "cell_type": "code",
   "execution_count": 24,
   "metadata": {
    "scrolled": false
   },
   "outputs": [
    {
     "name": "stdout",
     "output_type": "stream",
     "text": [
      "Предсказанный средний запас сырья для региона 92.4\n",
      "RSME модели для региона 37.76\n",
      "Средний запас сырья для региона 92.33\n",
      "Разница между средним запасом и предсказанным средним для региона -0.07\n"
     ]
    }
   ],
   "source": [
    "region_0 = save_predict(features_valid_0,target_valid_0, predict_0, rmse_0)"
   ]
  },
  {
   "cell_type": "markdown",
   "metadata": {},
   "source": [
    "Проверим сохранение предсказаний в `predict` и правильных ответов в `target`"
   ]
  },
  {
   "cell_type": "code",
   "execution_count": 25,
   "metadata": {
    "scrolled": false
   },
   "outputs": [
    {
     "data": {
      "text/html": [
       "<div>\n",
       "<style scoped>\n",
       "    .dataframe tbody tr th:only-of-type {\n",
       "        vertical-align: middle;\n",
       "    }\n",
       "\n",
       "    .dataframe tbody tr th {\n",
       "        vertical-align: top;\n",
       "    }\n",
       "\n",
       "    .dataframe thead th {\n",
       "        text-align: right;\n",
       "    }\n",
       "</style>\n",
       "<table border=\"1\" class=\"dataframe\">\n",
       "  <thead>\n",
       "    <tr style=\"text-align: right;\">\n",
       "      <th></th>\n",
       "      <th>f0</th>\n",
       "      <th>f1</th>\n",
       "      <th>f2</th>\n",
       "      <th>target</th>\n",
       "      <th>predict</th>\n",
       "    </tr>\n",
       "  </thead>\n",
       "  <tbody>\n",
       "    <tr>\n",
       "      <th>75721</th>\n",
       "      <td>0.599283</td>\n",
       "      <td>-0.557623</td>\n",
       "      <td>2.121187</td>\n",
       "      <td>122.073350</td>\n",
       "      <td>101.901017</td>\n",
       "    </tr>\n",
       "    <tr>\n",
       "      <th>80184</th>\n",
       "      <td>0.739017</td>\n",
       "      <td>-0.463156</td>\n",
       "      <td>-1.347584</td>\n",
       "      <td>48.738540</td>\n",
       "      <td>78.217774</td>\n",
       "    </tr>\n",
       "    <tr>\n",
       "      <th>19864</th>\n",
       "      <td>1.422743</td>\n",
       "      <td>-0.534917</td>\n",
       "      <td>3.718798</td>\n",
       "      <td>131.338088</td>\n",
       "      <td>115.266901</td>\n",
       "    </tr>\n",
       "    <tr>\n",
       "      <th>76699</th>\n",
       "      <td>1.580244</td>\n",
       "      <td>-0.238458</td>\n",
       "      <td>2.805149</td>\n",
       "      <td>88.327757</td>\n",
       "      <td>105.618618</td>\n",
       "    </tr>\n",
       "    <tr>\n",
       "      <th>92991</th>\n",
       "      <td>0.918974</td>\n",
       "      <td>0.023961</td>\n",
       "      <td>2.598575</td>\n",
       "      <td>36.959266</td>\n",
       "      <td>97.980185</td>\n",
       "    </tr>\n",
       "    <tr>\n",
       "      <th>...</th>\n",
       "      <td>...</td>\n",
       "      <td>...</td>\n",
       "      <td>...</td>\n",
       "      <td>...</td>\n",
       "      <td>...</td>\n",
       "    </tr>\n",
       "    <tr>\n",
       "      <th>21271</th>\n",
       "      <td>0.754647</td>\n",
       "      <td>-0.512213</td>\n",
       "      <td>2.610771</td>\n",
       "      <td>148.821520</td>\n",
       "      <td>105.076959</td>\n",
       "    </tr>\n",
       "    <tr>\n",
       "      <th>34014</th>\n",
       "      <td>-0.062056</td>\n",
       "      <td>0.516884</td>\n",
       "      <td>0.714446</td>\n",
       "      <td>123.454003</td>\n",
       "      <td>74.768176</td>\n",
       "    </tr>\n",
       "    <tr>\n",
       "      <th>81355</th>\n",
       "      <td>0.593769</td>\n",
       "      <td>-0.425260</td>\n",
       "      <td>-0.525017</td>\n",
       "      <td>91.945213</td>\n",
       "      <td>82.544397</td>\n",
       "    </tr>\n",
       "    <tr>\n",
       "      <th>65720</th>\n",
       "      <td>0.198209</td>\n",
       "      <td>0.453940</td>\n",
       "      <td>1.497557</td>\n",
       "      <td>149.295563</td>\n",
       "      <td>81.826689</td>\n",
       "    </tr>\n",
       "    <tr>\n",
       "      <th>11627</th>\n",
       "      <td>-0.246727</td>\n",
       "      <td>1.013025</td>\n",
       "      <td>4.678275</td>\n",
       "      <td>57.244039</td>\n",
       "      <td>93.121062</td>\n",
       "    </tr>\n",
       "  </tbody>\n",
       "</table>\n",
       "<p>25000 rows × 5 columns</p>\n",
       "</div>"
      ],
      "text/plain": [
       "             f0        f1        f2      target     predict\n",
       "75721  0.599283 -0.557623  2.121187  122.073350  101.901017\n",
       "80184  0.739017 -0.463156 -1.347584   48.738540   78.217774\n",
       "19864  1.422743 -0.534917  3.718798  131.338088  115.266901\n",
       "76699  1.580244 -0.238458  2.805149   88.327757  105.618618\n",
       "92991  0.918974  0.023961  2.598575   36.959266   97.980185\n",
       "...         ...       ...       ...         ...         ...\n",
       "21271  0.754647 -0.512213  2.610771  148.821520  105.076959\n",
       "34014 -0.062056  0.516884  0.714446  123.454003   74.768176\n",
       "81355  0.593769 -0.425260 -0.525017   91.945213   82.544397\n",
       "65720  0.198209  0.453940  1.497557  149.295563   81.826689\n",
       "11627 -0.246727  1.013025  4.678275   57.244039   93.121062\n",
       "\n",
       "[25000 rows x 5 columns]"
      ]
     },
     "execution_count": 25,
     "metadata": {},
     "output_type": "execute_result"
    }
   ],
   "source": [
    "region_0"
   ]
  },
  {
   "cell_type": "markdown",
   "metadata": {},
   "source": [
    "Посчитаем разницу средних значений правильных и предсказанных ответов для второго региона"
   ]
  },
  {
   "cell_type": "code",
   "execution_count": 26,
   "metadata": {
    "scrolled": true
   },
   "outputs": [
    {
     "name": "stdout",
     "output_type": "stream",
     "text": [
      "Предсказанный средний запас сырья для региона 68.71\n",
      "RSME модели для региона 0.89\n",
      "Средний запас сырья для региона 68.73\n",
      "Разница между средним запасом и предсказанным средним для региона 0.01\n"
     ]
    }
   ],
   "source": [
    "region_1 = save_predict(features_valid_1,target_valid_1, predict_1, rmse_1)"
   ]
  },
  {
   "cell_type": "markdown",
   "metadata": {},
   "source": [
    "Проверим сохранение предсказаний в `predict` и правильных ответов в `target`"
   ]
  },
  {
   "cell_type": "code",
   "execution_count": 27,
   "metadata": {
    "scrolled": false
   },
   "outputs": [
    {
     "data": {
      "text/html": [
       "<div>\n",
       "<style scoped>\n",
       "    .dataframe tbody tr th:only-of-type {\n",
       "        vertical-align: middle;\n",
       "    }\n",
       "\n",
       "    .dataframe tbody tr th {\n",
       "        vertical-align: top;\n",
       "    }\n",
       "\n",
       "    .dataframe thead th {\n",
       "        text-align: right;\n",
       "    }\n",
       "</style>\n",
       "<table border=\"1\" class=\"dataframe\">\n",
       "  <thead>\n",
       "    <tr style=\"text-align: right;\">\n",
       "      <th></th>\n",
       "      <th>f0</th>\n",
       "      <th>f1</th>\n",
       "      <th>f2</th>\n",
       "      <th>target</th>\n",
       "      <th>predict</th>\n",
       "    </tr>\n",
       "  </thead>\n",
       "  <tbody>\n",
       "    <tr>\n",
       "      <th>75721</th>\n",
       "      <td>6.078076</td>\n",
       "      <td>0.084568</td>\n",
       "      <td>0.002957</td>\n",
       "      <td>0.000000</td>\n",
       "      <td>0.844738</td>\n",
       "    </tr>\n",
       "    <tr>\n",
       "      <th>80184</th>\n",
       "      <td>16.462386</td>\n",
       "      <td>2.712946</td>\n",
       "      <td>1.993030</td>\n",
       "      <td>53.906522</td>\n",
       "      <td>52.921612</td>\n",
       "    </tr>\n",
       "    <tr>\n",
       "      <th>19864</th>\n",
       "      <td>7.051898</td>\n",
       "      <td>0.766983</td>\n",
       "      <td>4.990194</td>\n",
       "      <td>134.766305</td>\n",
       "      <td>135.110385</td>\n",
       "    </tr>\n",
       "    <tr>\n",
       "      <th>76699</th>\n",
       "      <td>-0.240045</td>\n",
       "      <td>-0.380804</td>\n",
       "      <td>3.999693</td>\n",
       "      <td>107.813044</td>\n",
       "      <td>109.494863</td>\n",
       "    </tr>\n",
       "    <tr>\n",
       "      <th>92991</th>\n",
       "      <td>13.350111</td>\n",
       "      <td>-8.558281</td>\n",
       "      <td>0.002010</td>\n",
       "      <td>0.000000</td>\n",
       "      <td>-0.047292</td>\n",
       "    </tr>\n",
       "    <tr>\n",
       "      <th>...</th>\n",
       "      <td>...</td>\n",
       "      <td>...</td>\n",
       "      <td>...</td>\n",
       "      <td>...</td>\n",
       "      <td>...</td>\n",
       "    </tr>\n",
       "    <tr>\n",
       "      <th>21271</th>\n",
       "      <td>8.141417</td>\n",
       "      <td>-0.832158</td>\n",
       "      <td>4.001976</td>\n",
       "      <td>107.813044</td>\n",
       "      <td>108.351600</td>\n",
       "    </tr>\n",
       "    <tr>\n",
       "      <th>34014</th>\n",
       "      <td>16.601751</td>\n",
       "      <td>-8.141232</td>\n",
       "      <td>2.010371</td>\n",
       "      <td>53.906522</td>\n",
       "      <td>53.604049</td>\n",
       "    </tr>\n",
       "    <tr>\n",
       "      <th>81355</th>\n",
       "      <td>14.674777</td>\n",
       "      <td>-5.633890</td>\n",
       "      <td>1.004171</td>\n",
       "      <td>26.953261</td>\n",
       "      <td>26.708734</td>\n",
       "    </tr>\n",
       "    <tr>\n",
       "      <th>65720</th>\n",
       "      <td>-1.381118</td>\n",
       "      <td>-5.464254</td>\n",
       "      <td>4.001648</td>\n",
       "      <td>110.992147</td>\n",
       "      <td>109.823087</td>\n",
       "    </tr>\n",
       "    <tr>\n",
       "      <th>11627</th>\n",
       "      <td>8.390836</td>\n",
       "      <td>-2.782887</td>\n",
       "      <td>5.007094</td>\n",
       "      <td>134.766305</td>\n",
       "      <td>135.448780</td>\n",
       "    </tr>\n",
       "  </tbody>\n",
       "</table>\n",
       "<p>25000 rows × 5 columns</p>\n",
       "</div>"
      ],
      "text/plain": [
       "              f0        f1        f2      target     predict\n",
       "75721   6.078076  0.084568  0.002957    0.000000    0.844738\n",
       "80184  16.462386  2.712946  1.993030   53.906522   52.921612\n",
       "19864   7.051898  0.766983  4.990194  134.766305  135.110385\n",
       "76699  -0.240045 -0.380804  3.999693  107.813044  109.494863\n",
       "92991  13.350111 -8.558281  0.002010    0.000000   -0.047292\n",
       "...          ...       ...       ...         ...         ...\n",
       "21271   8.141417 -0.832158  4.001976  107.813044  108.351600\n",
       "34014  16.601751 -8.141232  2.010371   53.906522   53.604049\n",
       "81355  14.674777 -5.633890  1.004171   26.953261   26.708734\n",
       "65720  -1.381118 -5.464254  4.001648  110.992147  109.823087\n",
       "11627   8.390836 -2.782887  5.007094  134.766305  135.448780\n",
       "\n",
       "[25000 rows x 5 columns]"
      ]
     },
     "execution_count": 27,
     "metadata": {},
     "output_type": "execute_result"
    }
   ],
   "source": [
    "region_1"
   ]
  },
  {
   "cell_type": "markdown",
   "metadata": {},
   "source": [
    "Посчитаем разницу средних значений правильных и предсказанных ответов для третьего региона"
   ]
  },
  {
   "cell_type": "code",
   "execution_count": 28,
   "metadata": {
    "scrolled": true
   },
   "outputs": [
    {
     "name": "stdout",
     "output_type": "stream",
     "text": [
      "Предсказанный средний запас сырья для региона 94.77\n",
      "RSME модели для региона 40.15\n",
      "Средний запас сырья для региона 95.15\n",
      "Разница между средним запасом и предсказанным средним для региона 0.38\n"
     ]
    }
   ],
   "source": [
    "region_2 = save_predict(features_valid_2,target_valid_2, predict_2, rmse_2)"
   ]
  },
  {
   "cell_type": "markdown",
   "metadata": {},
   "source": [
    "Проверим сохранение предсказаний в `predict` и правильных ответов в `target`"
   ]
  },
  {
   "cell_type": "code",
   "execution_count": 29,
   "metadata": {
    "scrolled": false
   },
   "outputs": [
    {
     "data": {
      "text/html": [
       "<div>\n",
       "<style scoped>\n",
       "    .dataframe tbody tr th:only-of-type {\n",
       "        vertical-align: middle;\n",
       "    }\n",
       "\n",
       "    .dataframe tbody tr th {\n",
       "        vertical-align: top;\n",
       "    }\n",
       "\n",
       "    .dataframe thead th {\n",
       "        text-align: right;\n",
       "    }\n",
       "</style>\n",
       "<table border=\"1\" class=\"dataframe\">\n",
       "  <thead>\n",
       "    <tr style=\"text-align: right;\">\n",
       "      <th></th>\n",
       "      <th>f0</th>\n",
       "      <th>f1</th>\n",
       "      <th>f2</th>\n",
       "      <th>target</th>\n",
       "      <th>predict</th>\n",
       "    </tr>\n",
       "  </thead>\n",
       "  <tbody>\n",
       "    <tr>\n",
       "      <th>75721</th>\n",
       "      <td>2.111118</td>\n",
       "      <td>-1.679773</td>\n",
       "      <td>3.112240</td>\n",
       "      <td>117.441301</td>\n",
       "      <td>98.301916</td>\n",
       "    </tr>\n",
       "    <tr>\n",
       "      <th>80184</th>\n",
       "      <td>0.734759</td>\n",
       "      <td>0.747788</td>\n",
       "      <td>3.670879</td>\n",
       "      <td>47.841249</td>\n",
       "      <td>101.592461</td>\n",
       "    </tr>\n",
       "    <tr>\n",
       "      <th>19864</th>\n",
       "      <td>-2.513109</td>\n",
       "      <td>0.844631</td>\n",
       "      <td>-4.922889</td>\n",
       "      <td>45.883483</td>\n",
       "      <td>52.449099</td>\n",
       "    </tr>\n",
       "    <tr>\n",
       "      <th>76699</th>\n",
       "      <td>-2.035301</td>\n",
       "      <td>-1.522988</td>\n",
       "      <td>5.072839</td>\n",
       "      <td>139.014608</td>\n",
       "      <td>109.922127</td>\n",
       "    </tr>\n",
       "    <tr>\n",
       "      <th>92991</th>\n",
       "      <td>2.744145</td>\n",
       "      <td>1.429952</td>\n",
       "      <td>-1.372661</td>\n",
       "      <td>84.004276</td>\n",
       "      <td>72.411847</td>\n",
       "    </tr>\n",
       "    <tr>\n",
       "      <th>...</th>\n",
       "      <td>...</td>\n",
       "      <td>...</td>\n",
       "      <td>...</td>\n",
       "      <td>...</td>\n",
       "      <td>...</td>\n",
       "    </tr>\n",
       "    <tr>\n",
       "      <th>21271</th>\n",
       "      <td>-1.532677</td>\n",
       "      <td>0.365315</td>\n",
       "      <td>3.840436</td>\n",
       "      <td>40.797226</td>\n",
       "      <td>102.764169</td>\n",
       "    </tr>\n",
       "    <tr>\n",
       "      <th>34014</th>\n",
       "      <td>1.381244</td>\n",
       "      <td>1.168552</td>\n",
       "      <td>2.262261</td>\n",
       "      <td>87.144239</td>\n",
       "      <td>93.431823</td>\n",
       "    </tr>\n",
       "    <tr>\n",
       "      <th>81355</th>\n",
       "      <td>2.902487</td>\n",
       "      <td>0.839203</td>\n",
       "      <td>-2.817721</td>\n",
       "      <td>52.039812</td>\n",
       "      <td>64.098390</td>\n",
       "    </tr>\n",
       "    <tr>\n",
       "      <th>65720</th>\n",
       "      <td>0.942093</td>\n",
       "      <td>-1.424641</td>\n",
       "      <td>0.567559</td>\n",
       "      <td>136.961454</td>\n",
       "      <td>83.764135</td>\n",
       "    </tr>\n",
       "    <tr>\n",
       "      <th>11627</th>\n",
       "      <td>1.015823</td>\n",
       "      <td>-1.600172</td>\n",
       "      <td>1.054157</td>\n",
       "      <td>109.173206</td>\n",
       "      <td>86.558644</td>\n",
       "    </tr>\n",
       "  </tbody>\n",
       "</table>\n",
       "<p>25000 rows × 5 columns</p>\n",
       "</div>"
      ],
      "text/plain": [
       "             f0        f1        f2      target     predict\n",
       "75721  2.111118 -1.679773  3.112240  117.441301   98.301916\n",
       "80184  0.734759  0.747788  3.670879   47.841249  101.592461\n",
       "19864 -2.513109  0.844631 -4.922889   45.883483   52.449099\n",
       "76699 -2.035301 -1.522988  5.072839  139.014608  109.922127\n",
       "92991  2.744145  1.429952 -1.372661   84.004276   72.411847\n",
       "...         ...       ...       ...         ...         ...\n",
       "21271 -1.532677  0.365315  3.840436   40.797226  102.764169\n",
       "34014  1.381244  1.168552  2.262261   87.144239   93.431823\n",
       "81355  2.902487  0.839203 -2.817721   52.039812   64.098390\n",
       "65720  0.942093 -1.424641  0.567559  136.961454   83.764135\n",
       "11627  1.015823 -1.600172  1.054157  109.173206   86.558644\n",
       "\n",
       "[25000 rows x 5 columns]"
      ]
     },
     "execution_count": 29,
     "metadata": {},
     "output_type": "execute_result"
    }
   ],
   "source": [
    "region_2"
   ]
  },
  {
   "cell_type": "markdown",
   "metadata": {},
   "source": [
    "Посмотрим на распределение данных в датасетах"
   ]
  },
  {
   "cell_type": "code",
   "execution_count": 30,
   "metadata": {
    "scrolled": false
   },
   "outputs": [],
   "source": [
    "def sub_plot(region):\n",
    "    x = region['f0']\n",
    "    y = region['f1']\n",
    "    z = region['f2']\n",
    "    s = region['target']\n",
    "    fig = plt.figure(figsize=(16,9))\n",
    "    ax = fig.add_subplot(111, projection='3d')\n",
    "    ax.scatter(x, y, z, s=s, alpha=0.01);"
   ]
  },
  {
   "cell_type": "code",
   "execution_count": 31,
   "metadata": {},
   "outputs": [
    {
     "data": {
      "image/png": "[encoded data removed]",
      "text/plain": [
       "<Figure size 1152x648 with 1 Axes>"
      ]
     },
     "metadata": {
      "needs_background": "light"
     },
     "output_type": "display_data"
    }
   ],
   "source": [
    "sub_plot(region_0)"
   ]
  },
  {
   "cell_type": "code",
   "execution_count": 32,
   "metadata": {},
   "outputs": [
    {
     "data": {
      "image/png": "[encoded data removed]",
      "text/plain": [
       "<Figure size 1152x648 with 1 Axes>"
      ]
     },
     "metadata": {
      "needs_background": "light"
     },
     "output_type": "display_data"
    }
   ],
   "source": [
    "sub_plot(region_1)"
   ]
  },
  {
   "cell_type": "code",
   "execution_count": 33,
   "metadata": {
    "scrolled": false
   },
   "outputs": [
    {
     "data": {
      "image/png": "[encoded data removed]",
      "text/plain": [
       "<Figure size 1152x648 with 1 Axes>"
      ]
     },
     "metadata": {
      "needs_background": "light"
     },
     "output_type": "display_data"
    }
   ],
   "source": [
    "sub_plot(region_2)"
   ]
  },
  {
   "cell_type": "markdown",
   "metadata": {},
   "source": [
    "### Вывод\n",
    "\n",
    "\n",
    "1) Написали функцию и разделили датасеты на обучающие и валидационные выборки в соотношении 75/25;\n",
    "\n",
    "2) Обучили модель линейной регрессии;\n",
    "\n",
    "3) Предсказали средний запас сырья для каждой скважины в регионе;\n",
    "\n",
    "4) RMSE для каждого региона сильно различается от 0,89 до 40,15, что может быть вызвано распределением данных;\n",
    "\n",
    "5) Средний запас сырья в регионах от 68,73 до 95,15 т.тонн;\n",
    "\n",
    "6) В валидационных выборках регионов сохранили предсказанные и правильные истинные значения;\n",
    "\n",
    "7) Разница среднего предсказанного значения и среднего значения не превышает 0,38 т.тонн, но не отображает реального расхождения в предсказанных результатах, в отличие от метрики RMSE; \n",
    "\n",
    "8) Построили графики распределений данных, показывающие как форма распределения влияет на RMSE и практически не влияет на разницу средних."
   ]
  },
  {
   "cell_type": "markdown",
   "metadata": {},
   "source": [
    "## Подготовка к расчёту прибыли"
   ]
  },
  {
   "cell_type": "markdown",
   "metadata": {},
   "source": [
    "Объявим необходимые переменные"
   ]
  },
  {
   "cell_type": "markdown",
   "metadata": {},
   "source": [
    "Бюджет `BUDGET ` равный 10 млрд. рублей"
   ]
  },
  {
   "cell_type": "code",
   "execution_count": 34,
   "metadata": {},
   "outputs": [],
   "source": [
    "BUDGET = 10_000_000_000"
   ]
  },
  {
   "cell_type": "markdown",
   "metadata": {},
   "source": [
    "Количество исследуемых точек `STUDY_POINTS`"
   ]
  },
  {
   "cell_type": "code",
   "execution_count": 35,
   "metadata": {},
   "outputs": [],
   "source": [
    "STUDY_POINTS = 500"
   ]
  },
  {
   "cell_type": "markdown",
   "metadata": {},
   "source": [
    "Количество точет для разработки `DEV_POINTS`"
   ]
  },
  {
   "cell_type": "code",
   "execution_count": 36,
   "metadata": {},
   "outputs": [],
   "source": [
    "DEV_POINTS = 200"
   ]
  },
  {
   "cell_type": "markdown",
   "metadata": {},
   "source": [
    "так как в каждом регионе рассматривается до 200 лучших скважин, то средний бюджет на скважину `WELL_BUDGET`\n",
    "равен 1/200 от общего бюджета региона"
   ]
  },
  {
   "cell_type": "code",
   "execution_count": 49,
   "metadata": {},
   "outputs": [],
   "source": [
    "WELL_BUDGET = BUDGET  / DEV_POINTS"
   ]
  },
  {
   "cell_type": "markdown",
   "metadata": {},
   "source": [
    "Доход `BARREL_PROFIT` с тысячи баррелей руб."
   ]
  },
  {
   "cell_type": "code",
   "execution_count": 47,
   "metadata": {},
   "outputs": [],
   "source": [
    "BARREL_PROFIT = 450_000"
   ]
  },
  {
   "cell_type": "markdown",
   "metadata": {},
   "source": [
    "Безубыточный объем `BREAK_VOLUME` равен бюджету на скважину деленному на прибыль с барреля"
   ]
  },
  {
   "cell_type": "code",
   "execution_count": 50,
   "metadata": {
    "scrolled": true
   },
   "outputs": [
    {
     "name": "stdout",
     "output_type": "stream",
     "text": [
      "Безубыточный объем добычи: 111.11 тыс. баррелей\n"
     ]
    }
   ],
   "source": [
    "BREAK_VOLUME = WELL_BUDGET / BARREL_PROFIT\n",
    "print(f'Безубыточный объем добычи: {BREAK_VOLUME:.2f} тыс. баррелей')"
   ]
  },
  {
   "cell_type": "markdown",
   "metadata": {},
   "source": [
    "Сравним среднее значение запаса нефти в каждом регионе с безубыточным минимумом"
   ]
  },
  {
   "cell_type": "code",
   "execution_count": 40,
   "metadata": {
    "scrolled": true
   },
   "outputs": [
    {
     "name": "stdout",
     "output_type": "stream",
     "text": [
      "Средний запас в первом регионе: 92.32595637084387\n",
      "Средний запас во втором регионе: 68.72538074722745\n",
      "Средний запас в третьем регионе: 95.15099907171961\n"
     ]
    }
   ],
   "source": [
    "print('Средний запас в первом регионе:', region_0['target'].mean())\n",
    "print('Средний запас во втором регионе:', region_1['target'].mean())\n",
    "print('Средний запас в третьем регионе:', region_2['target'].mean())"
   ]
  },
  {
   "cell_type": "markdown",
   "metadata": {},
   "source": [
    "### Вывод\n",
    "\n",
    "1) Подготовили ряд переменных для прибыли;\n",
    "\n",
    "2) Безубыточный объем скважины 111,11 тыс. тонн;\n",
    "\n",
    "3) Средний объем скважин в регионах от 68,72 до 95,15 тыс. тонн, что меньше безубыточного."
   ]
  },
  {
   "cell_type": "markdown",
   "metadata": {},
   "source": [
    "## Расчёт прибыли и рисков "
   ]
  },
  {
   "cell_type": "markdown",
   "metadata": {},
   "source": [
    "Напишим функцию для расчёта прибыли по выбранным скважинам и предсказаниям модели"
   ]
  },
  {
   "cell_type": "code",
   "execution_count": 41,
   "metadata": {},
   "outputs": [],
   "source": [
    "def profits(target, probabilities, count):\n",
    "    probs_sorted = probabilities.sort_values(ascending=False)\n",
    "    selected = target[probs_sorted.index][:count]\n",
    "    return BARREL_PROFIT * selected.sum()"
   ]
  },
  {
   "cell_type": "markdown",
   "metadata": {},
   "source": [
    "Посчитаем риски и прибыль для каждого региона с помощью Bootstrap"
   ]
  },
  {
   "cell_type": "code",
   "execution_count": 42,
   "metadata": {},
   "outputs": [],
   "source": [
    "def risks_profits(target, prediction):\n",
    "    state = RandomState(42)\n",
    "    values = []\n",
    "    prediction = pd.Series(prediction).reset_index(drop=True)\n",
    "    target = pd.Series(target).reset_index(drop=True)\n",
    "    for i in range(1000):\n",
    "        target_subsample = target.sample(n=STUDY_POINTS, replace=True, random_state=state)\n",
    "        probs_subsample = prediction[target_subsample.index]\n",
    "        values.append(profits(target_subsample, probs_subsample, DEV_POINTS))\n",
    "    values = pd.Series(values)\n",
    "    mean = values.mean() \n",
    "    lower = values.quantile(0.025) \n",
    "    upper = values.quantile(0.975) \n",
    "    risk = values[values < BUDGET].count() / values.count() * 100\n",
    "    print(f'Средняя прибыль: {mean:.2f} руб.')\n",
    "    print(f'95%-й доверительный интервал от {lower:.2f} до {upper:.2f} руб.')\n",
    "    print(f'Риск получения отрицательной прибыли: {risk:.2f}%')"
   ]
  },
  {
   "cell_type": "code",
   "execution_count": 43,
   "metadata": {},
   "outputs": [
    {
     "name": "stdout",
     "output_type": "stream",
     "text": [
      "Средняя прибыль: 10427847560.46 руб.\n",
      "95%-й доверительный интервал от 9902750170.43 до 10954215192.71 руб.\n",
      "Риск получения отрицательной прибыли: 5.50%\n"
     ]
    }
   ],
   "source": [
    "risks_profits(region_0['target'], region_0['predict'])"
   ]
  },
  {
   "cell_type": "code",
   "execution_count": 44,
   "metadata": {},
   "outputs": [
    {
     "name": "stdout",
     "output_type": "stream",
     "text": [
      "Средняя прибыль: 10511362776.20 руб.\n",
      "95%-й доверительный интервал от 10098870649.90 до 10940720511.65 руб.\n",
      "Риск получения отрицательной прибыли: 0.90%\n"
     ]
    }
   ],
   "source": [
    "risks_profits(region_1['target'], region_1['predict'])"
   ]
  },
  {
   "cell_type": "code",
   "execution_count": 45,
   "metadata": {
    "scrolled": true
   },
   "outputs": [
    {
     "name": "stdout",
     "output_type": "stream",
     "text": [
      "Средняя прибыль: 10402575607.51 руб.\n",
      "95%-й доверительный интервал от 9862837774.93 до 10929887528.03 руб.\n",
      "Риск получения отрицательной прибыли: 7.40%\n"
     ]
    }
   ],
   "source": [
    "risks_profits(region_2['target'], region_2['predict'])"
   ]
  },
  {
   "cell_type": "markdown",
   "metadata": {},
   "source": [
    "### Вывод \n",
    "\n",
    "1) Написали функцию для расчёта прибыли по выбранным скважинам и предсказаниям модели;\n",
    "\n",
    "2) Посчитали риски и прибыль для каждого региона;\n",
    "\n",
    "3) Наибольшая средняя прибыль во втором регионе - 10511362776.20 руб;\n",
    "\n",
    "4) Наменьшая средняя прибыть в третьем регионе - 10402575607.51 руб;\n",
    "\n",
    "5) Наибольшый риск получения отрицательной прибыли в третьем регионе - 7.40%;\n",
    "\n",
    "6) Наименьший риск получения отрицательной прибыли во втором регионе - 0.9%;\n",
    "\n",
    "7) Для разработки предлагается 2ой регион т.к. у него наибольшая средняя прибыль и наименьший риск получения отрицательной прибыли."
   ]
  },
  {
   "cell_type": "code",
   "execution_count": null,
   "metadata": {},
   "outputs": [],
   "source": []
  }
 ],
 "metadata": {
  "ExecuteTimeLog": [
   {
    "duration": 45,
    "start_time": "2022-04-28T08:47:30.109Z"
   },
   {
    "duration": 409,
    "start_time": "2022-04-28T08:47:32.882Z"
   },
   {
    "duration": 340,
    "start_time": "2022-04-28T08:47:34.419Z"
   },
   {
    "duration": 20,
    "start_time": "2022-04-28T08:47:35.913Z"
   },
   {
    "duration": 12,
    "start_time": "2022-04-28T08:47:49.026Z"
   },
   {
    "duration": 11,
    "start_time": "2022-04-28T08:47:53.371Z"
   },
   {
    "duration": 20,
    "start_time": "2022-04-28T08:51:10.114Z"
   },
   {
    "duration": 15,
    "start_time": "2022-04-28T08:51:12.235Z"
   },
   {
    "duration": 13,
    "start_time": "2022-04-28T08:51:13.426Z"
   },
   {
    "duration": 28,
    "start_time": "2022-04-28T08:53:04.442Z"
   },
   {
    "duration": 33,
    "start_time": "2022-04-28T08:53:08.337Z"
   },
   {
    "duration": 35,
    "start_time": "2022-04-28T08:53:19.147Z"
   },
   {
    "duration": 33,
    "start_time": "2022-04-28T08:53:48.786Z"
   },
   {
    "duration": 34,
    "start_time": "2022-04-28T08:53:50.162Z"
   },
   {
    "duration": 43,
    "start_time": "2022-04-28T08:58:12.985Z"
   },
   {
    "duration": 43,
    "start_time": "2022-04-28T08:58:18.146Z"
   },
   {
    "duration": 43,
    "start_time": "2022-04-28T08:58:33.858Z"
   },
   {
    "duration": 45,
    "start_time": "2022-04-28T08:58:34.698Z"
   },
   {
    "duration": 892,
    "start_time": "2022-04-28T09:18:17.143Z"
   },
   {
    "duration": 4,
    "start_time": "2022-04-28T09:27:45.790Z"
   },
   {
    "duration": 71,
    "start_time": "2022-04-28T09:28:37.174Z"
   },
   {
    "duration": 14,
    "start_time": "2022-04-28T09:28:43.995Z"
   },
   {
    "duration": 9,
    "start_time": "2022-04-28T09:30:52.854Z"
   },
   {
    "duration": 14,
    "start_time": "2022-04-28T09:31:01.134Z"
   },
   {
    "duration": 21,
    "start_time": "2022-04-28T09:31:57.438Z"
   },
   {
    "duration": 4,
    "start_time": "2022-04-28T09:32:34.557Z"
   },
   {
    "duration": 9,
    "start_time": "2022-04-28T09:32:36.109Z"
   },
   {
    "duration": 3,
    "start_time": "2022-04-28T09:33:07.269Z"
   },
   {
    "duration": 7,
    "start_time": "2022-04-28T09:33:09.637Z"
   },
   {
    "duration": 3,
    "start_time": "2022-04-28T09:33:28.725Z"
   },
   {
    "duration": 16,
    "start_time": "2022-04-28T09:33:30.453Z"
   },
   {
    "duration": 3,
    "start_time": "2022-04-28T09:33:52.245Z"
   },
   {
    "duration": 12875,
    "start_time": "2022-04-28T09:33:54.126Z"
   },
   {
    "duration": 3,
    "start_time": "2022-04-28T09:34:24.989Z"
   },
   {
    "duration": 31,
    "start_time": "2022-04-28T09:34:26.088Z"
   },
   {
    "duration": 2,
    "start_time": "2022-04-28T09:34:35.941Z"
   },
   {
    "duration": 32,
    "start_time": "2022-04-28T09:34:37.221Z"
   },
   {
    "duration": 3,
    "start_time": "2022-04-28T09:35:14.469Z"
   },
   {
    "duration": 23237,
    "start_time": "2022-04-28T09:35:15.669Z"
   },
   {
    "duration": 3,
    "start_time": "2022-04-28T09:36:11.293Z"
   },
   {
    "duration": 36,
    "start_time": "2022-04-28T09:36:12.661Z"
   },
   {
    "duration": 3,
    "start_time": "2022-04-28T09:36:31.173Z"
   },
   {
    "duration": 15,
    "start_time": "2022-04-28T09:36:32.870Z"
   },
   {
    "duration": 3,
    "start_time": "2022-04-28T09:36:39.085Z"
   },
   {
    "duration": 35,
    "start_time": "2022-04-28T09:36:40.181Z"
   },
   {
    "duration": 21,
    "start_time": "2022-04-28T09:38:23.614Z"
   },
   {
    "duration": 22,
    "start_time": "2022-04-28T09:38:36.331Z"
   },
   {
    "duration": 18,
    "start_time": "2022-04-28T09:39:36.269Z"
   },
   {
    "duration": 7,
    "start_time": "2022-04-28T09:39:51.525Z"
   },
   {
    "duration": 5,
    "start_time": "2022-04-28T09:39:59.181Z"
   },
   {
    "duration": 3,
    "start_time": "2022-04-28T09:41:07.173Z"
   },
   {
    "duration": 36,
    "start_time": "2022-04-28T09:41:09.364Z"
   },
   {
    "duration": 4,
    "start_time": "2022-04-28T09:41:28.299Z"
   },
   {
    "duration": 37,
    "start_time": "2022-04-28T09:41:30.557Z"
   },
   {
    "duration": 21,
    "start_time": "2022-04-28T09:42:49.421Z"
   },
   {
    "duration": 3,
    "start_time": "2022-04-28T09:42:58.044Z"
   },
   {
    "duration": 22,
    "start_time": "2022-04-28T09:42:59.197Z"
   },
   {
    "duration": 6,
    "start_time": "2022-04-28T09:43:02.971Z"
   },
   {
    "duration": 7,
    "start_time": "2022-04-28T09:43:05.740Z"
   },
   {
    "duration": 3,
    "start_time": "2022-04-28T09:43:42.996Z"
   },
   {
    "duration": 27,
    "start_time": "2022-04-28T09:43:44.307Z"
   },
   {
    "duration": 22,
    "start_time": "2022-04-28T09:44:14.356Z"
   },
   {
    "duration": 8,
    "start_time": "2022-04-28T09:44:17.708Z"
   },
   {
    "duration": 5,
    "start_time": "2022-04-28T09:44:27.524Z"
   },
   {
    "duration": 24,
    "start_time": "2022-04-28T09:44:36.380Z"
   },
   {
    "duration": 17,
    "start_time": "2022-04-28T09:45:34.036Z"
   },
   {
    "duration": 17,
    "start_time": "2022-04-28T09:45:35.410Z"
   },
   {
    "duration": 19,
    "start_time": "2022-04-28T09:45:36.347Z"
   },
   {
    "duration": 3,
    "start_time": "2022-04-28T10:21:17.167Z"
   },
   {
    "duration": 21,
    "start_time": "2022-04-28T10:21:18.696Z"
   },
   {
    "duration": 18,
    "start_time": "2022-04-28T10:21:19.447Z"
   },
   {
    "duration": 19,
    "start_time": "2022-04-28T10:21:20.040Z"
   },
   {
    "duration": 33,
    "start_time": "2022-04-28T10:40:50.236Z"
   },
   {
    "duration": 238,
    "start_time": "2022-04-28T10:43:43.332Z"
   },
   {
    "duration": 267,
    "start_time": "2022-04-28T10:44:48.060Z"
   },
   {
    "duration": 252,
    "start_time": "2022-04-28T10:45:03.557Z"
   },
   {
    "duration": 639,
    "start_time": "2022-04-28T10:46:54.382Z"
   },
   {
    "duration": 502,
    "start_time": "2022-04-28T10:47:25.436Z"
   },
   {
    "duration": 554,
    "start_time": "2022-04-28T10:47:35.348Z"
   },
   {
    "duration": 229,
    "start_time": "2022-04-28T10:47:44.061Z"
   },
   {
    "duration": 231,
    "start_time": "2022-04-28T10:47:53.932Z"
   },
   {
    "duration": 37,
    "start_time": "2022-04-28T10:48:07.733Z"
   },
   {
    "duration": 5,
    "start_time": "2022-04-28T10:48:44.556Z"
   },
   {
    "duration": 10,
    "start_time": "2022-04-28T10:48:46.013Z"
   },
   {
    "duration": 15,
    "start_time": "2022-04-28T10:48:46.828Z"
   },
   {
    "duration": 11,
    "start_time": "2022-04-28T10:48:47.556Z"
   },
   {
    "duration": 202,
    "start_time": "2022-04-28T10:49:01.668Z"
   },
   {
    "duration": 201,
    "start_time": "2022-04-28T10:49:30.612Z"
   },
   {
    "duration": 201,
    "start_time": "2022-04-28T10:50:05.364Z"
   },
   {
    "duration": 194,
    "start_time": "2022-04-28T10:51:23.692Z"
   },
   {
    "duration": 9,
    "start_time": "2022-04-28T10:51:42.468Z"
   },
   {
    "duration": 5,
    "start_time": "2022-04-28T10:51:51.476Z"
   },
   {
    "duration": 9,
    "start_time": "2022-04-28T10:52:04.204Z"
   },
   {
    "duration": 13,
    "start_time": "2022-04-28T10:52:16.555Z"
   },
   {
    "duration": 12,
    "start_time": "2022-04-28T10:52:26.627Z"
   },
   {
    "duration": 2,
    "start_time": "2022-04-28T10:54:39.348Z"
   },
   {
    "duration": 1411,
    "start_time": "2022-04-28T10:55:02.092Z"
   },
   {
    "duration": 1970,
    "start_time": "2022-04-28T10:56:06.708Z"
   },
   {
    "duration": 1375,
    "start_time": "2022-04-28T10:57:12.132Z"
   },
   {
    "duration": 1364,
    "start_time": "2022-04-28T10:57:31.457Z"
   },
   {
    "duration": 210,
    "start_time": "2022-04-28T10:57:52.587Z"
   },
   {
    "duration": 1353,
    "start_time": "2022-04-28T10:57:57.980Z"
   },
   {
    "duration": 1966,
    "start_time": "2022-04-28T10:58:09.027Z"
   },
   {
    "duration": 1933,
    "start_time": "2022-04-28T10:59:57.219Z"
   },
   {
    "duration": 2063,
    "start_time": "2022-04-28T11:00:30.939Z"
   },
   {
    "duration": 1402,
    "start_time": "2022-04-28T11:01:08.771Z"
   },
   {
    "duration": 1502,
    "start_time": "2022-04-28T11:01:34.426Z"
   },
   {
    "duration": 1373,
    "start_time": "2022-04-28T11:04:25.397Z"
   },
   {
    "duration": 1346,
    "start_time": "2022-04-28T11:04:39.931Z"
   },
   {
    "duration": 1425,
    "start_time": "2022-04-28T11:05:08.809Z"
   },
   {
    "duration": 1359,
    "start_time": "2022-04-28T11:06:10.594Z"
   },
   {
    "duration": 2170,
    "start_time": "2022-04-28T11:06:24.826Z"
   },
   {
    "duration": 1907,
    "start_time": "2022-04-28T11:06:51.618Z"
   },
   {
    "duration": 10,
    "start_time": "2022-04-28T11:07:00.394Z"
   },
   {
    "duration": 1350,
    "start_time": "2022-04-28T11:07:06.851Z"
   },
   {
    "duration": 1379,
    "start_time": "2022-04-28T11:07:16.057Z"
   },
   {
    "duration": 1384,
    "start_time": "2022-04-28T11:07:35.561Z"
   },
   {
    "duration": 1345,
    "start_time": "2022-04-28T11:07:51.514Z"
   },
   {
    "duration": 1449,
    "start_time": "2022-04-28T11:56:24.612Z"
   },
   {
    "duration": 1993,
    "start_time": "2022-04-28T12:09:56.130Z"
   },
   {
    "duration": 58,
    "start_time": "2022-04-28T12:14:34.122Z"
   },
   {
    "duration": 4,
    "start_time": "2022-04-28T12:14:46.482Z"
   },
   {
    "duration": 1957,
    "start_time": "2022-04-28T12:14:53.274Z"
   },
   {
    "duration": 2005,
    "start_time": "2022-04-28T12:15:17.754Z"
   },
   {
    "duration": 1967,
    "start_time": "2022-04-28T12:15:25.282Z"
   },
   {
    "duration": 1953,
    "start_time": "2022-04-28T12:15:32.514Z"
   },
   {
    "duration": 14,
    "start_time": "2022-05-05T11:17:03.205Z"
   },
   {
    "duration": 1754,
    "start_time": "2022-05-05T11:24:02.641Z"
   },
   {
    "duration": 424,
    "start_time": "2022-05-05T11:24:05.234Z"
   },
   {
    "duration": 27,
    "start_time": "2022-05-05T11:24:07.451Z"
   },
   {
    "duration": 18,
    "start_time": "2022-05-05T11:24:09.154Z"
   },
   {
    "duration": 17,
    "start_time": "2022-05-05T11:24:12.170Z"
   },
   {
    "duration": 22,
    "start_time": "2022-05-05T11:24:14.203Z"
   },
   {
    "duration": 21,
    "start_time": "2022-05-05T11:24:15.882Z"
   },
   {
    "duration": 19,
    "start_time": "2022-05-05T11:24:17.186Z"
   },
   {
    "duration": 52,
    "start_time": "2022-05-05T11:24:18.715Z"
   },
   {
    "duration": 51,
    "start_time": "2022-05-05T11:24:20.098Z"
   },
   {
    "duration": 48,
    "start_time": "2022-05-05T11:24:21.323Z"
   },
   {
    "duration": 72,
    "start_time": "2022-05-05T11:24:23.883Z"
   },
   {
    "duration": 71,
    "start_time": "2022-05-05T11:24:24.873Z"
   },
   {
    "duration": 75,
    "start_time": "2022-05-05T11:24:26.065Z"
   },
   {
    "duration": 5,
    "start_time": "2022-05-05T11:24:31.682Z"
   },
   {
    "duration": 17,
    "start_time": "2022-05-05T11:24:33.402Z"
   },
   {
    "duration": 19,
    "start_time": "2022-05-05T11:24:34.434Z"
   },
   {
    "duration": 17,
    "start_time": "2022-05-05T11:24:35.530Z"
   },
   {
    "duration": 190,
    "start_time": "2022-05-05T11:24:37.898Z"
   },
   {
    "duration": 57,
    "start_time": "2022-05-05T11:24:55.234Z"
   },
   {
    "duration": 1952,
    "start_time": "2022-05-05T11:25:06.063Z"
   },
   {
    "duration": 194,
    "start_time": "2022-05-05T11:28:21.562Z"
   },
   {
    "duration": 6,
    "start_time": "2022-05-05T11:28:26.322Z"
   },
   {
    "duration": 6,
    "start_time": "2022-05-05T11:29:18.633Z"
   },
   {
    "duration": 2025,
    "start_time": "2022-05-05T11:29:26.457Z"
   },
   {
    "duration": 2016,
    "start_time": "2022-05-05T11:31:05.202Z"
   },
   {
    "duration": 1928,
    "start_time": "2022-05-05T11:32:00.521Z"
   },
   {
    "duration": 71,
    "start_time": "2022-05-05T11:32:22.657Z"
   },
   {
    "duration": 14,
    "start_time": "2022-05-05T11:35:35.839Z"
   },
   {
    "duration": 9,
    "start_time": "2022-05-05T11:54:15.186Z"
   },
   {
    "duration": 866249,
    "start_time": "2022-05-05T11:54:30.802Z"
   },
   {
    "duration": 7,
    "start_time": "2022-05-05T13:15:51.241Z"
   },
   {
    "duration": 803706,
    "start_time": "2022-05-05T13:15:52.978Z"
   },
   {
    "duration": 4,
    "start_time": "2022-05-05T13:29:16.687Z"
   },
   {
    "duration": 12,
    "start_time": "2022-05-05T13:31:11.783Z"
   },
   {
    "duration": 6,
    "start_time": "2022-05-05T13:31:13.808Z"
   },
   {
    "duration": 16,
    "start_time": "2022-05-05T13:31:15.521Z"
   },
   {
    "duration": 4,
    "start_time": "2022-05-05T13:31:27.401Z"
   },
   {
    "duration": 4,
    "start_time": "2022-05-05T13:31:28.536Z"
   },
   {
    "duration": 6,
    "start_time": "2022-05-05T13:31:34.896Z"
   },
   {
    "duration": 17,
    "start_time": "2022-05-05T13:31:38.496Z"
   },
   {
    "duration": 6,
    "start_time": "2022-05-05T13:31:44.168Z"
   },
   {
    "duration": 1961,
    "start_time": "2022-05-05T13:31:45.329Z"
   },
   {
    "duration": 6,
    "start_time": "2022-05-05T13:32:02.201Z"
   },
   {
    "duration": 1546,
    "start_time": "2022-05-05T13:32:03.640Z"
   },
   {
    "duration": 1903,
    "start_time": "2022-05-05T13:32:16.880Z"
   },
   {
    "duration": 1997,
    "start_time": "2022-05-05T13:32:18.789Z"
   },
   {
    "duration": 800459,
    "start_time": "2022-05-05T13:32:29.824Z"
   },
   {
    "duration": 1535,
    "start_time": "2022-05-05T15:36:38.296Z"
   },
   {
    "duration": 439,
    "start_time": "2022-05-05T15:36:39.833Z"
   },
   {
    "duration": 30,
    "start_time": "2022-05-05T15:36:40.274Z"
   },
   {
    "duration": 17,
    "start_time": "2022-05-05T15:36:40.307Z"
   },
   {
    "duration": 20,
    "start_time": "2022-05-05T15:36:40.326Z"
   },
   {
    "duration": 48,
    "start_time": "2022-05-05T15:36:40.348Z"
   },
   {
    "duration": 19,
    "start_time": "2022-05-05T15:36:40.398Z"
   },
   {
    "duration": 18,
    "start_time": "2022-05-05T15:36:40.419Z"
   },
   {
    "duration": 88,
    "start_time": "2022-05-05T15:36:40.440Z"
   },
   {
    "duration": 69,
    "start_time": "2022-05-05T15:36:40.534Z"
   },
   {
    "duration": 49,
    "start_time": "2022-05-05T15:36:40.605Z"
   },
   {
    "duration": 95,
    "start_time": "2022-05-05T15:36:40.656Z"
   },
   {
    "duration": 86,
    "start_time": "2022-05-05T15:36:40.754Z"
   },
   {
    "duration": 89,
    "start_time": "2022-05-05T15:36:40.842Z"
   },
   {
    "duration": 5,
    "start_time": "2022-05-05T15:36:40.933Z"
   },
   {
    "duration": 26,
    "start_time": "2022-05-05T15:36:40.940Z"
   },
   {
    "duration": 27,
    "start_time": "2022-05-05T15:36:40.968Z"
   },
   {
    "duration": 16,
    "start_time": "2022-05-05T15:36:40.997Z"
   },
   {
    "duration": 5,
    "start_time": "2022-05-05T15:36:41.016Z"
   },
   {
    "duration": 1924,
    "start_time": "2022-05-05T15:36:41.023Z"
   },
   {
    "duration": 2002,
    "start_time": "2022-05-05T15:36:42.949Z"
   },
   {
    "duration": 2116,
    "start_time": "2022-05-05T15:36:44.953Z"
   },
   {
    "duration": 15,
    "start_time": "2022-05-05T15:36:47.071Z"
   },
   {
    "duration": 837596,
    "start_time": "2022-05-05T15:36:47.088Z"
   },
   {
    "duration": 885314,
    "start_time": "2022-05-05T15:50:44.686Z"
   },
   {
    "duration": 837442,
    "start_time": "2022-05-05T16:05:30.002Z"
   },
   {
    "duration": 6,
    "start_time": "2022-05-05T16:19:27.446Z"
   },
   {
    "duration": 2127,
    "start_time": "2022-05-05T16:19:27.456Z"
   },
   {
    "duration": 1900,
    "start_time": "2022-05-05T16:19:29.586Z"
   },
   {
    "duration": 1995,
    "start_time": "2022-05-05T16:19:31.490Z"
   },
   {
    "duration": 103,
    "start_time": "2022-05-05T16:19:33.489Z"
   },
   {
    "duration": 174,
    "start_time": "2022-05-05T16:28:29.340Z"
   },
   {
    "duration": 11,
    "start_time": "2022-05-05T16:29:05.946Z"
   },
   {
    "duration": 14,
    "start_time": "2022-05-05T16:29:11.034Z"
   },
   {
    "duration": 9,
    "start_time": "2022-05-05T16:29:32.018Z"
   },
   {
    "duration": 11,
    "start_time": "2022-05-05T16:30:39.370Z"
   },
   {
    "duration": 6,
    "start_time": "2022-05-05T16:31:57.022Z"
   },
   {
    "duration": 456707,
    "start_time": "2022-05-05T16:32:00.195Z"
   },
   {
    "duration": 10,
    "start_time": "2022-05-05T16:47:30.326Z"
   },
   {
    "duration": 14,
    "start_time": "2022-05-05T16:47:31.691Z"
   },
   {
    "duration": 9,
    "start_time": "2022-05-05T16:48:43.634Z"
   },
   {
    "duration": 10,
    "start_time": "2022-05-05T16:49:06.770Z"
   },
   {
    "duration": 15,
    "start_time": "2022-05-05T16:49:09.329Z"
   },
   {
    "duration": 14,
    "start_time": "2022-05-05T16:49:22.753Z"
   },
   {
    "duration": 7,
    "start_time": "2022-05-05T16:49:24.009Z"
   },
   {
    "duration": 7,
    "start_time": "2022-05-05T16:51:00.633Z"
   },
   {
    "duration": 17,
    "start_time": "2022-05-05T16:51:06.272Z"
   },
   {
    "duration": 6,
    "start_time": "2022-05-05T16:55:43.654Z"
   },
   {
    "duration": 33,
    "start_time": "2022-05-05T16:55:45.318Z"
   },
   {
    "duration": 6,
    "start_time": "2022-05-05T16:56:10.045Z"
   },
   {
    "duration": 31,
    "start_time": "2022-05-05T16:56:11.541Z"
   },
   {
    "duration": 5,
    "start_time": "2022-05-05T16:56:23.726Z"
   },
   {
    "duration": 32,
    "start_time": "2022-05-05T16:56:26.030Z"
   },
   {
    "duration": 6,
    "start_time": "2022-05-05T16:56:41.702Z"
   },
   {
    "duration": 31,
    "start_time": "2022-05-05T16:56:42.942Z"
   },
   {
    "duration": 6,
    "start_time": "2022-05-05T16:57:19.189Z"
   },
   {
    "duration": 31,
    "start_time": "2022-05-05T16:57:20.677Z"
   },
   {
    "duration": 6,
    "start_time": "2022-05-05T16:57:28.917Z"
   },
   {
    "duration": 30,
    "start_time": "2022-05-05T16:57:30.062Z"
   },
   {
    "duration": 6,
    "start_time": "2022-05-05T16:57:41.141Z"
   },
   {
    "duration": 31,
    "start_time": "2022-05-05T16:57:42.621Z"
   },
   {
    "duration": 16,
    "start_time": "2022-05-05T16:59:14.374Z"
   },
   {
    "duration": 11,
    "start_time": "2022-05-05T16:59:42.222Z"
   },
   {
    "duration": 17,
    "start_time": "2022-05-05T16:59:49.247Z"
   },
   {
    "duration": 5,
    "start_time": "2022-05-05T17:01:01.028Z"
   },
   {
    "duration": 2035,
    "start_time": "2022-05-05T17:01:04.252Z"
   },
   {
    "duration": 19,
    "start_time": "2022-05-05T17:02:45.910Z"
   },
   {
    "duration": 2305,
    "start_time": "2022-05-05T17:02:49.283Z"
   },
   {
    "duration": 23,
    "start_time": "2022-05-05T17:02:57.283Z"
   },
   {
    "duration": 6,
    "start_time": "2022-05-05T17:03:24.970Z"
   },
   {
    "duration": 2407,
    "start_time": "2022-05-05T17:03:28.579Z"
   },
   {
    "duration": 21,
    "start_time": "2022-05-05T17:03:34.779Z"
   },
   {
    "duration": 20,
    "start_time": "2022-05-05T17:03:58.778Z"
   },
   {
    "duration": 18,
    "start_time": "2022-05-05T17:07:03.490Z"
   },
   {
    "duration": 6,
    "start_time": "2022-05-05T17:07:20.878Z"
   },
   {
    "duration": 6,
    "start_time": "2022-05-05T17:07:40.241Z"
   },
   {
    "duration": 2165,
    "start_time": "2022-05-05T17:09:05.222Z"
   },
   {
    "duration": 22,
    "start_time": "2022-05-05T17:09:13.378Z"
   },
   {
    "duration": 6,
    "start_time": "2022-05-05T17:09:20.327Z"
   },
   {
    "duration": 7,
    "start_time": "2022-05-05T17:09:25.479Z"
   },
   {
    "duration": 7,
    "start_time": "2022-05-05T17:12:40.481Z"
   },
   {
    "duration": 1540,
    "start_time": "2022-05-05T17:16:02.797Z"
   },
   {
    "duration": 546,
    "start_time": "2022-05-05T17:16:04.340Z"
   },
   {
    "duration": 45,
    "start_time": "2022-05-05T17:16:04.890Z"
   },
   {
    "duration": 20,
    "start_time": "2022-05-05T17:16:04.938Z"
   },
   {
    "duration": 36,
    "start_time": "2022-05-05T17:16:04.962Z"
   },
   {
    "duration": 23,
    "start_time": "2022-05-05T17:16:05.000Z"
   },
   {
    "duration": 19,
    "start_time": "2022-05-05T17:16:05.025Z"
   },
   {
    "duration": 21,
    "start_time": "2022-05-05T17:16:05.081Z"
   },
   {
    "duration": 51,
    "start_time": "2022-05-05T17:16:05.104Z"
   },
   {
    "duration": 69,
    "start_time": "2022-05-05T17:16:05.157Z"
   },
   {
    "duration": 69,
    "start_time": "2022-05-05T17:16:05.228Z"
   },
   {
    "duration": 84,
    "start_time": "2022-05-05T17:16:05.299Z"
   },
   {
    "duration": 70,
    "start_time": "2022-05-05T17:16:05.385Z"
   },
   {
    "duration": 91,
    "start_time": "2022-05-05T17:16:05.459Z"
   },
   {
    "duration": 5,
    "start_time": "2022-05-05T17:16:05.552Z"
   },
   {
    "duration": 34,
    "start_time": "2022-05-05T17:16:05.559Z"
   },
   {
    "duration": 17,
    "start_time": "2022-05-05T17:16:05.596Z"
   },
   {
    "duration": 17,
    "start_time": "2022-05-05T17:16:05.615Z"
   },
   {
    "duration": 6,
    "start_time": "2022-05-05T17:16:05.635Z"
   },
   {
    "duration": 1935,
    "start_time": "2022-05-05T17:16:05.643Z"
   },
   {
    "duration": 1918,
    "start_time": "2022-05-05T17:16:07.583Z"
   },
   {
    "duration": 1943,
    "start_time": "2022-05-05T17:16:09.503Z"
   },
   {
    "duration": 7,
    "start_time": "2022-05-05T17:16:11.454Z"
   },
   {
    "duration": 459856,
    "start_time": "2022-05-05T17:16:11.463Z"
   },
   {
    "duration": 455965,
    "start_time": "2022-05-05T17:23:51.321Z"
   },
   {
    "duration": 455055,
    "start_time": "2022-05-05T17:31:27.289Z"
   },
   {
    "duration": 5,
    "start_time": "2022-05-05T17:39:02.346Z"
   },
   {
    "duration": 1632,
    "start_time": "2022-05-05T17:39:02.353Z"
   },
   {
    "duration": 2099,
    "start_time": "2022-05-05T17:39:03.987Z"
   },
   {
    "duration": 2297,
    "start_time": "2022-05-05T17:39:06.089Z"
   },
   {
    "duration": 111,
    "start_time": "2022-05-05T17:39:08.389Z"
   },
   {
    "duration": 9,
    "start_time": "2022-05-05T17:39:08.502Z"
   },
   {
    "duration": 20,
    "start_time": "2022-05-05T17:39:08.515Z"
   },
   {
    "duration": 46,
    "start_time": "2022-05-05T17:39:08.537Z"
   },
   {
    "duration": 177,
    "start_time": "2022-05-05T17:39:08.585Z"
   },
   {
    "duration": 0,
    "start_time": "2022-05-05T17:39:08.764Z"
   },
   {
    "duration": 522401,
    "start_time": "2022-05-05T17:40:35.285Z"
   },
   {
    "duration": 1686,
    "start_time": "2022-05-05T17:50:35.465Z"
   },
   {
    "duration": 458,
    "start_time": "2022-05-05T17:50:37.155Z"
   },
   {
    "duration": 28,
    "start_time": "2022-05-05T17:50:37.615Z"
   },
   {
    "duration": 39,
    "start_time": "2022-05-05T17:50:37.646Z"
   },
   {
    "duration": 24,
    "start_time": "2022-05-05T17:50:37.687Z"
   },
   {
    "duration": 31,
    "start_time": "2022-05-05T17:50:37.713Z"
   },
   {
    "duration": 55,
    "start_time": "2022-05-05T17:50:37.746Z"
   },
   {
    "duration": 29,
    "start_time": "2022-05-05T17:50:37.804Z"
   },
   {
    "duration": 79,
    "start_time": "2022-05-05T17:50:37.836Z"
   },
   {
    "duration": 47,
    "start_time": "2022-05-05T17:50:37.919Z"
   },
   {
    "duration": 60,
    "start_time": "2022-05-05T17:50:37.968Z"
   },
   {
    "duration": 94,
    "start_time": "2022-05-05T17:50:38.031Z"
   },
   {
    "duration": 93,
    "start_time": "2022-05-05T17:50:38.127Z"
   },
   {
    "duration": 109,
    "start_time": "2022-05-05T17:50:38.223Z"
   },
   {
    "duration": 6,
    "start_time": "2022-05-05T17:50:38.335Z"
   },
   {
    "duration": 38,
    "start_time": "2022-05-05T17:50:38.344Z"
   },
   {
    "duration": 26,
    "start_time": "2022-05-05T17:50:38.385Z"
   },
   {
    "duration": 22,
    "start_time": "2022-05-05T17:50:38.414Z"
   },
   {
    "duration": 6,
    "start_time": "2022-05-05T17:50:38.439Z"
   },
   {
    "duration": 1554,
    "start_time": "2022-05-05T17:50:38.447Z"
   },
   {
    "duration": 1503,
    "start_time": "2022-05-05T17:50:40.009Z"
   },
   {
    "duration": 2281,
    "start_time": "2022-05-05T17:50:41.521Z"
   },
   {
    "duration": 181,
    "start_time": "2022-05-05T17:50:43.809Z"
   },
   {
    "duration": 9,
    "start_time": "2022-05-05T17:50:43.998Z"
   },
   {
    "duration": 21,
    "start_time": "2022-05-05T17:50:44.012Z"
   },
   {
    "duration": 8,
    "start_time": "2022-05-05T17:50:44.036Z"
   },
   {
    "duration": 50,
    "start_time": "2022-05-05T17:50:44.047Z"
   },
   {
    "duration": 11,
    "start_time": "2022-05-05T17:50:44.101Z"
   },
   {
    "duration": 7,
    "start_time": "2022-05-05T17:53:58.000Z"
   },
   {
    "duration": 1534,
    "start_time": "2022-05-08T08:26:53.233Z"
   },
   {
    "duration": 416,
    "start_time": "2022-05-08T08:26:55.626Z"
   },
   {
    "duration": 27,
    "start_time": "2022-05-08T08:26:57.586Z"
   },
   {
    "duration": 17,
    "start_time": "2022-05-08T08:26:58.923Z"
   },
   {
    "duration": 18,
    "start_time": "2022-05-08T08:27:00.746Z"
   },
   {
    "duration": 21,
    "start_time": "2022-05-08T08:27:02.977Z"
   },
   {
    "duration": 18,
    "start_time": "2022-05-08T08:27:04.417Z"
   },
   {
    "duration": 19,
    "start_time": "2022-05-08T08:27:06.089Z"
   },
   {
    "duration": 47,
    "start_time": "2022-05-08T08:27:08.474Z"
   },
   {
    "duration": 47,
    "start_time": "2022-05-08T08:27:10.089Z"
   },
   {
    "duration": 46,
    "start_time": "2022-05-08T08:27:11.648Z"
   },
   {
    "duration": 71,
    "start_time": "2022-05-08T08:27:13.528Z"
   },
   {
    "duration": 66,
    "start_time": "2022-05-08T08:27:14.601Z"
   },
   {
    "duration": 69,
    "start_time": "2022-05-08T08:27:15.768Z"
   },
   {
    "duration": 5,
    "start_time": "2022-05-08T08:27:21.881Z"
   },
   {
    "duration": 17,
    "start_time": "2022-05-08T08:27:23.639Z"
   },
   {
    "duration": 17,
    "start_time": "2022-05-08T08:27:24.592Z"
   },
   {
    "duration": 18,
    "start_time": "2022-05-08T08:27:25.664Z"
   },
   {
    "duration": 6,
    "start_time": "2022-05-08T08:27:34.760Z"
   },
   {
    "duration": 1705,
    "start_time": "2022-05-08T08:27:38.552Z"
   },
   {
    "duration": 1835,
    "start_time": "2022-05-08T08:27:44.120Z"
   },
   {
    "duration": 2559,
    "start_time": "2022-05-08T08:27:47.601Z"
   },
   {
    "duration": 19,
    "start_time": "2022-05-08T08:28:07.785Z"
   },
   {
    "duration": 7,
    "start_time": "2022-05-08T08:28:12.655Z"
   },
   {
    "duration": 20,
    "start_time": "2022-05-08T08:28:17.528Z"
   },
   {
    "duration": 7,
    "start_time": "2022-05-08T08:28:22.568Z"
   },
   {
    "duration": 22,
    "start_time": "2022-05-08T08:28:25.407Z"
   },
   {
    "duration": 7,
    "start_time": "2022-05-08T08:28:27.328Z"
   },
   {
    "duration": 4,
    "start_time": "2022-05-08T08:30:35.444Z"
   },
   {
    "duration": 1516,
    "start_time": "2022-05-08T08:30:40.009Z"
   },
   {
    "duration": 468,
    "start_time": "2022-05-08T08:30:41.527Z"
   },
   {
    "duration": 28,
    "start_time": "2022-05-08T08:30:41.997Z"
   },
   {
    "duration": 32,
    "start_time": "2022-05-08T08:30:42.028Z"
   },
   {
    "duration": 17,
    "start_time": "2022-05-08T08:30:42.063Z"
   },
   {
    "duration": 20,
    "start_time": "2022-05-08T08:30:42.083Z"
   },
   {
    "duration": 52,
    "start_time": "2022-05-08T08:30:42.105Z"
   },
   {
    "duration": 18,
    "start_time": "2022-05-08T08:30:42.159Z"
   },
   {
    "duration": 47,
    "start_time": "2022-05-08T08:30:42.179Z"
   },
   {
    "duration": 47,
    "start_time": "2022-05-08T08:30:42.254Z"
   },
   {
    "duration": 68,
    "start_time": "2022-05-08T08:30:42.303Z"
   },
   {
    "duration": 85,
    "start_time": "2022-05-08T08:30:42.373Z"
   },
   {
    "duration": 65,
    "start_time": "2022-05-08T08:30:42.460Z"
   },
   {
    "duration": 85,
    "start_time": "2022-05-08T08:30:42.527Z"
   },
   {
    "duration": 5,
    "start_time": "2022-05-08T08:30:42.615Z"
   },
   {
    "duration": 36,
    "start_time": "2022-05-08T08:30:42.622Z"
   },
   {
    "duration": 17,
    "start_time": "2022-05-08T08:30:42.660Z"
   },
   {
    "duration": 22,
    "start_time": "2022-05-08T08:30:42.679Z"
   },
   {
    "duration": 7,
    "start_time": "2022-05-08T08:30:42.703Z"
   },
   {
    "duration": 2242,
    "start_time": "2022-05-08T08:30:42.712Z"
   },
   {
    "duration": 2598,
    "start_time": "2022-05-08T08:30:44.962Z"
   },
   {
    "duration": 2788,
    "start_time": "2022-05-08T08:30:47.565Z"
   },
   {
    "duration": 109,
    "start_time": "2022-05-08T08:30:50.356Z"
   },
   {
    "duration": 7,
    "start_time": "2022-05-08T08:30:50.467Z"
   },
   {
    "duration": 31,
    "start_time": "2022-05-08T08:30:50.477Z"
   },
   {
    "duration": 8,
    "start_time": "2022-05-08T08:30:50.511Z"
   },
   {
    "duration": 30,
    "start_time": "2022-05-08T08:30:50.553Z"
   },
   {
    "duration": 8,
    "start_time": "2022-05-08T08:30:50.589Z"
   },
   {
    "duration": 6,
    "start_time": "2022-05-08T08:33:52.239Z"
   },
   {
    "duration": 3124,
    "start_time": "2022-05-08T08:34:19.029Z"
   },
   {
    "duration": 3508,
    "start_time": "2022-05-08T08:34:22.158Z"
   },
   {
    "duration": 3584,
    "start_time": "2022-05-08T08:34:25.669Z"
   },
   {
    "duration": 6,
    "start_time": "2022-05-08T08:34:57.982Z"
   },
   {
    "duration": 6,
    "start_time": "2022-05-08T08:35:07.196Z"
   },
   {
    "duration": 9,
    "start_time": "2022-05-08T08:39:59.097Z"
   },
   {
    "duration": 7,
    "start_time": "2022-05-08T08:40:01.746Z"
   },
   {
    "duration": 9,
    "start_time": "2022-05-08T08:40:17.641Z"
   },
   {
    "duration": 8,
    "start_time": "2022-05-08T08:42:14.237Z"
   },
   {
    "duration": 8,
    "start_time": "2022-05-08T08:42:23.743Z"
   },
   {
    "duration": 82,
    "start_time": "2022-05-08T08:42:28.433Z"
   },
   {
    "duration": 7,
    "start_time": "2022-05-08T08:42:32.823Z"
   },
   {
    "duration": 8,
    "start_time": "2022-05-08T08:43:55.601Z"
   },
   {
    "duration": 10,
    "start_time": "2022-05-08T08:44:32.640Z"
   },
   {
    "duration": 10,
    "start_time": "2022-05-08T08:45:40.689Z"
   },
   {
    "duration": 596,
    "start_time": "2022-05-08T08:46:55.118Z"
   },
   {
    "duration": 99,
    "start_time": "2022-05-08T09:01:18.578Z"
   },
   {
    "duration": 149,
    "start_time": "2022-05-08T09:03:23.403Z"
   },
   {
    "duration": 201,
    "start_time": "2022-05-08T09:03:30.102Z"
   },
   {
    "duration": 15,
    "start_time": "2022-05-08T09:03:51.765Z"
   },
   {
    "duration": 30013,
    "start_time": "2022-05-08T09:04:07.285Z"
   },
   {
    "duration": 137,
    "start_time": "2022-05-08T09:06:27.235Z"
   },
   {
    "duration": 122,
    "start_time": "2022-05-08T09:06:56.285Z"
   },
   {
    "duration": 1889,
    "start_time": "2022-05-08T09:07:08.598Z"
   },
   {
    "duration": 436,
    "start_time": "2022-05-08T09:07:10.490Z"
   },
   {
    "duration": 28,
    "start_time": "2022-05-08T09:07:10.928Z"
   },
   {
    "duration": 17,
    "start_time": "2022-05-08T09:07:10.960Z"
   },
   {
    "duration": 24,
    "start_time": "2022-05-08T09:07:10.980Z"
   },
   {
    "duration": 48,
    "start_time": "2022-05-08T09:07:11.007Z"
   },
   {
    "duration": 19,
    "start_time": "2022-05-08T09:07:11.057Z"
   },
   {
    "duration": 26,
    "start_time": "2022-05-08T09:07:11.078Z"
   },
   {
    "duration": 78,
    "start_time": "2022-05-08T09:07:11.107Z"
   },
   {
    "duration": 64,
    "start_time": "2022-05-08T09:07:11.189Z"
   },
   {
    "duration": 49,
    "start_time": "2022-05-08T09:07:11.255Z"
   },
   {
    "duration": 97,
    "start_time": "2022-05-08T09:07:11.306Z"
   },
   {
    "duration": 80,
    "start_time": "2022-05-08T09:07:11.405Z"
   },
   {
    "duration": 89,
    "start_time": "2022-05-08T09:07:11.487Z"
   },
   {
    "duration": 5,
    "start_time": "2022-05-08T09:07:11.578Z"
   },
   {
    "duration": 20,
    "start_time": "2022-05-08T09:07:11.585Z"
   },
   {
    "duration": 17,
    "start_time": "2022-05-08T09:07:11.607Z"
   },
   {
    "duration": 43,
    "start_time": "2022-05-08T09:07:11.627Z"
   },
   {
    "duration": 8,
    "start_time": "2022-05-08T09:07:11.672Z"
   },
   {
    "duration": 2571,
    "start_time": "2022-05-08T09:07:11.683Z"
   },
   {
    "duration": 3498,
    "start_time": "2022-05-08T09:07:14.260Z"
   },
   {
    "duration": 3198,
    "start_time": "2022-05-08T09:07:17.761Z"
   },
   {
    "duration": 101,
    "start_time": "2022-05-08T09:07:20.966Z"
   },
   {
    "duration": 9,
    "start_time": "2022-05-08T09:07:21.069Z"
   },
   {
    "duration": 19,
    "start_time": "2022-05-08T09:07:21.080Z"
   },
   {
    "duration": 52,
    "start_time": "2022-05-08T09:07:21.102Z"
   },
   {
    "duration": 22,
    "start_time": "2022-05-08T09:07:21.156Z"
   },
   {
    "duration": 10,
    "start_time": "2022-05-08T09:07:21.184Z"
   },
   {
    "duration": 193,
    "start_time": "2022-05-08T09:09:56.493Z"
   },
   {
    "duration": 323,
    "start_time": "2022-05-08T09:10:07.315Z"
   },
   {
    "duration": 1563,
    "start_time": "2022-05-08T09:10:23.067Z"
   },
   {
    "duration": 279,
    "start_time": "2022-05-08T09:10:29.747Z"
   },
   {
    "duration": 268,
    "start_time": "2022-05-08T09:10:42.850Z"
   },
   {
    "duration": 104,
    "start_time": "2022-05-08T09:13:00.001Z"
   },
   {
    "duration": 179,
    "start_time": "2022-05-08T09:13:06.793Z"
   },
   {
    "duration": 386,
    "start_time": "2022-05-08T09:13:49.434Z"
   },
   {
    "duration": 1283,
    "start_time": "2022-05-08T09:15:44.049Z"
   },
   {
    "duration": 337,
    "start_time": "2022-05-08T09:16:25.450Z"
   },
   {
    "duration": 1489,
    "start_time": "2022-05-08T09:17:49.344Z"
   },
   {
    "duration": 339,
    "start_time": "2022-05-08T09:18:10.663Z"
   },
   {
    "duration": 2021,
    "start_time": "2022-05-08T09:18:26.368Z"
   },
   {
    "duration": 20,
    "start_time": "2022-05-08T09:18:42.142Z"
   },
   {
    "duration": 1415,
    "start_time": "2022-05-08T09:20:00.415Z"
   },
   {
    "duration": 1408,
    "start_time": "2022-05-08T09:20:06.182Z"
   },
   {
    "duration": 1477,
    "start_time": "2022-05-08T09:20:17.622Z"
   },
   {
    "duration": 1399,
    "start_time": "2022-05-08T09:20:23.246Z"
   },
   {
    "duration": 1601,
    "start_time": "2022-05-08T09:20:30.509Z"
   },
   {
    "duration": 1789,
    "start_time": "2022-05-08T09:20:38.757Z"
   },
   {
    "duration": 1572,
    "start_time": "2022-05-08T09:21:09.765Z"
   },
   {
    "duration": 1357,
    "start_time": "2022-05-08T09:21:23.565Z"
   },
   {
    "duration": 1291,
    "start_time": "2022-05-08T09:21:33.989Z"
   },
   {
    "duration": 1478,
    "start_time": "2022-05-08T09:21:39.702Z"
   },
   {
    "duration": 1516,
    "start_time": "2022-05-08T09:21:49.112Z"
   },
   {
    "duration": 1499,
    "start_time": "2022-05-08T09:23:57.110Z"
   },
   {
    "duration": 1832,
    "start_time": "2022-05-08T09:24:04.436Z"
   },
   {
    "duration": 42,
    "start_time": "2022-05-08T09:24:16.478Z"
   },
   {
    "duration": 1749,
    "start_time": "2022-05-08T09:24:21.557Z"
   },
   {
    "duration": 1588,
    "start_time": "2022-05-08T09:24:26.926Z"
   },
   {
    "duration": 1610,
    "start_time": "2022-05-08T09:24:34.523Z"
   },
   {
    "duration": 6,
    "start_time": "2022-05-08T09:46:52.076Z"
   },
   {
    "duration": 23,
    "start_time": "2022-05-08T09:49:51.384Z"
   },
   {
    "duration": 10,
    "start_time": "2022-05-08T09:50:17.369Z"
   },
   {
    "duration": 29,
    "start_time": "2022-05-08T09:50:48.233Z"
   },
   {
    "duration": 11,
    "start_time": "2022-05-08T09:51:20.480Z"
   },
   {
    "duration": 20,
    "start_time": "2022-05-08T09:51:47.209Z"
   },
   {
    "duration": 2133,
    "start_time": "2022-05-08T09:52:27.865Z"
   },
   {
    "duration": 1421,
    "start_time": "2022-05-08T09:52:44.176Z"
   },
   {
    "duration": 1471,
    "start_time": "2022-05-08T09:53:00.569Z"
   },
   {
    "duration": 9,
    "start_time": "2022-05-08T09:53:34.080Z"
   },
   {
    "duration": 7,
    "start_time": "2022-05-08T09:53:59.049Z"
   },
   {
    "duration": 11,
    "start_time": "2022-05-08T09:54:24.233Z"
   },
   {
    "duration": 4,
    "start_time": "2022-05-08T09:55:58.573Z"
   },
   {
    "duration": 3,
    "start_time": "2022-05-08T09:57:24.741Z"
   },
   {
    "duration": 4,
    "start_time": "2022-05-08T09:58:02.052Z"
   },
   {
    "duration": 4,
    "start_time": "2022-05-08T10:01:11.931Z"
   },
   {
    "duration": 6,
    "start_time": "2022-05-08T10:03:19.379Z"
   },
   {
    "duration": 4,
    "start_time": "2022-05-08T10:04:29.114Z"
   },
   {
    "duration": 4,
    "start_time": "2022-05-08T10:04:57.689Z"
   },
   {
    "duration": 4,
    "start_time": "2022-05-08T10:05:00.891Z"
   },
   {
    "duration": 5,
    "start_time": "2022-05-08T10:06:06.430Z"
   },
   {
    "duration": 3,
    "start_time": "2022-05-08T10:07:59.160Z"
   },
   {
    "duration": 4,
    "start_time": "2022-05-08T10:08:25.104Z"
   },
   {
    "duration": 5,
    "start_time": "2022-05-08T10:08:33.736Z"
   },
   {
    "duration": 97,
    "start_time": "2022-05-08T10:09:27.258Z"
   },
   {
    "duration": 5,
    "start_time": "2022-05-08T10:09:31.184Z"
   },
   {
    "duration": 4,
    "start_time": "2022-05-08T10:09:50.107Z"
   },
   {
    "duration": 84,
    "start_time": "2022-05-08T10:13:29.920Z"
   },
   {
    "duration": 9,
    "start_time": "2022-05-08T10:13:37.270Z"
   },
   {
    "duration": 18,
    "start_time": "2022-05-08T10:45:06.358Z"
   },
   {
    "duration": 24,
    "start_time": "2022-05-08T10:46:17.194Z"
   },
   {
    "duration": 17,
    "start_time": "2022-05-08T10:50:35.357Z"
   },
   {
    "duration": 14,
    "start_time": "2022-05-08T10:50:41.287Z"
   },
   {
    "duration": 23,
    "start_time": "2022-05-08T10:50:53.985Z"
   },
   {
    "duration": 23,
    "start_time": "2022-05-08T10:51:14.982Z"
   },
   {
    "duration": 23,
    "start_time": "2022-05-08T10:51:21.678Z"
   },
   {
    "duration": 1629,
    "start_time": "2022-05-08T10:53:36.734Z"
   },
   {
    "duration": 11,
    "start_time": "2022-05-08T10:54:11.735Z"
   },
   {
    "duration": 21,
    "start_time": "2022-05-08T10:54:18.445Z"
   },
   {
    "duration": 22,
    "start_time": "2022-05-08T10:54:31.005Z"
   },
   {
    "duration": 20,
    "start_time": "2022-05-08T10:55:10.198Z"
   },
   {
    "duration": 9,
    "start_time": "2022-05-08T10:57:12.428Z"
   },
   {
    "duration": 9,
    "start_time": "2022-05-08T10:57:23.260Z"
   },
   {
    "duration": 4,
    "start_time": "2022-05-08T10:59:37.631Z"
   },
   {
    "duration": 5,
    "start_time": "2022-05-08T10:59:47.197Z"
   },
   {
    "duration": 5,
    "start_time": "2022-05-08T10:59:52.240Z"
   },
   {
    "duration": 8,
    "start_time": "2022-05-08T10:59:59.067Z"
   },
   {
    "duration": 13,
    "start_time": "2022-05-08T11:00:34.634Z"
   },
   {
    "duration": 14,
    "start_time": "2022-05-08T11:00:35.994Z"
   },
   {
    "duration": 7,
    "start_time": "2022-05-08T11:01:35.698Z"
   },
   {
    "duration": 11,
    "start_time": "2022-05-08T11:01:41.050Z"
   },
   {
    "duration": 11,
    "start_time": "2022-05-08T11:01:43.033Z"
   },
   {
    "duration": 7,
    "start_time": "2022-05-08T11:02:29.753Z"
   },
   {
    "duration": 12,
    "start_time": "2022-05-08T11:02:46.433Z"
   },
   {
    "duration": 12,
    "start_time": "2022-05-08T11:02:47.872Z"
   },
   {
    "duration": 8,
    "start_time": "2022-05-08T13:46:00.926Z"
   },
   {
    "duration": 13,
    "start_time": "2022-05-08T13:46:04.192Z"
   },
   {
    "duration": 12,
    "start_time": "2022-05-08T13:46:05.648Z"
   },
   {
    "duration": 7,
    "start_time": "2022-05-08T13:46:32.481Z"
   },
   {
    "duration": 12,
    "start_time": "2022-05-08T13:46:33.977Z"
   },
   {
    "duration": 14,
    "start_time": "2022-05-08T13:46:35.904Z"
   },
   {
    "duration": 8,
    "start_time": "2022-05-08T13:47:24.112Z"
   },
   {
    "duration": 12,
    "start_time": "2022-05-08T13:47:25.232Z"
   },
   {
    "duration": 12,
    "start_time": "2022-05-08T13:47:26.392Z"
   },
   {
    "duration": 5,
    "start_time": "2022-05-08T13:49:51.879Z"
   },
   {
    "duration": 9,
    "start_time": "2022-05-08T13:49:53.654Z"
   },
   {
    "duration": 13,
    "start_time": "2022-05-08T13:49:55.702Z"
   },
   {
    "duration": 12,
    "start_time": "2022-05-08T13:49:58.126Z"
   },
   {
    "duration": 14,
    "start_time": "2022-05-08T13:53:28.510Z"
   },
   {
    "duration": 16,
    "start_time": "2022-05-08T13:53:50.215Z"
   },
   {
    "duration": 5,
    "start_time": "2022-05-08T13:56:58.197Z"
   },
   {
    "duration": 5,
    "start_time": "2022-05-08T13:57:03.331Z"
   },
   {
    "duration": 17,
    "start_time": "2022-05-08T14:02:14.163Z"
   },
   {
    "duration": 21,
    "start_time": "2022-05-08T15:46:38.801Z"
   },
   {
    "duration": 2101,
    "start_time": "2022-05-08T15:48:02.775Z"
   },
   {
    "duration": 21,
    "start_time": "2022-05-08T15:48:11.974Z"
   },
   {
    "duration": 1329,
    "start_time": "2022-05-08T15:49:16.654Z"
   },
   {
    "duration": 1243,
    "start_time": "2022-05-08T15:49:41.451Z"
   },
   {
    "duration": 1231,
    "start_time": "2022-05-08T15:49:52.862Z"
   },
   {
    "duration": 1306,
    "start_time": "2022-05-08T15:50:51.710Z"
   },
   {
    "duration": 1352,
    "start_time": "2022-05-08T15:51:22.427Z"
   },
   {
    "duration": 1365,
    "start_time": "2022-05-08T15:51:27.260Z"
   },
   {
    "duration": 5,
    "start_time": "2022-05-08T15:52:24.379Z"
   },
   {
    "duration": 1335,
    "start_time": "2022-05-08T15:53:30.941Z"
   },
   {
    "duration": 1285,
    "start_time": "2022-05-08T15:53:33.668Z"
   },
   {
    "duration": 1314,
    "start_time": "2022-05-08T15:53:56.970Z"
   },
   {
    "duration": 1383,
    "start_time": "2022-05-08T15:54:15.370Z"
   },
   {
    "duration": 1479,
    "start_time": "2022-05-08T15:54:18.066Z"
   },
   {
    "duration": 1323,
    "start_time": "2022-05-08T15:55:11.497Z"
   },
   {
    "duration": 1350,
    "start_time": "2022-05-08T15:56:01.922Z"
   },
   {
    "duration": 1334,
    "start_time": "2022-05-08T15:56:29.508Z"
   },
   {
    "duration": 1734,
    "start_time": "2022-05-08T15:56:45.290Z"
   },
   {
    "duration": 1274,
    "start_time": "2022-05-08T15:57:16.872Z"
   },
   {
    "duration": 1447,
    "start_time": "2022-05-08T15:57:29.033Z"
   },
   {
    "duration": 16,
    "start_time": "2022-05-08T15:59:13.570Z"
   },
   {
    "duration": 5,
    "start_time": "2022-05-08T15:59:20.791Z"
   },
   {
    "duration": 7,
    "start_time": "2022-05-08T15:59:24.735Z"
   },
   {
    "duration": 1289,
    "start_time": "2022-05-08T15:59:39.864Z"
   },
   {
    "duration": 1611,
    "start_time": "2022-05-08T16:28:49.907Z"
   },
   {
    "duration": 1498,
    "start_time": "2022-05-08T16:29:56.482Z"
   },
   {
    "duration": 1561,
    "start_time": "2022-05-08T16:37:56.975Z"
   },
   {
    "duration": 1587,
    "start_time": "2022-05-08T16:38:12.766Z"
   },
   {
    "duration": 1536,
    "start_time": "2022-05-08T16:38:27.688Z"
   },
   {
    "duration": 1577,
    "start_time": "2022-05-08T16:38:48.278Z"
   },
   {
    "duration": 1523,
    "start_time": "2022-05-08T16:39:02.814Z"
   },
   {
    "duration": 1961,
    "start_time": "2022-05-08T16:42:34.365Z"
   },
   {
    "duration": 2036,
    "start_time": "2022-05-08T16:43:21.044Z"
   },
   {
    "duration": 2225,
    "start_time": "2022-05-08T16:43:44.709Z"
   },
   {
    "duration": 2177,
    "start_time": "2022-05-08T16:44:10.995Z"
   },
   {
    "duration": 2218,
    "start_time": "2022-05-08T16:44:15.428Z"
   },
   {
    "duration": 1939,
    "start_time": "2022-05-08T16:46:44.408Z"
   },
   {
    "duration": 2007,
    "start_time": "2022-05-08T16:47:23.683Z"
   },
   {
    "duration": 2179,
    "start_time": "2022-05-08T16:47:25.693Z"
   },
   {
    "duration": 2104,
    "start_time": "2022-05-08T16:47:27.874Z"
   },
   {
    "duration": 1927,
    "start_time": "2022-05-08T16:49:31.490Z"
   },
   {
    "duration": 1960,
    "start_time": "2022-05-08T16:49:39.066Z"
   },
   {
    "duration": 1940,
    "start_time": "2022-05-08T16:49:44.112Z"
   },
   {
    "duration": 1910,
    "start_time": "2022-05-08T16:52:28.411Z"
   },
   {
    "duration": 1881,
    "start_time": "2022-05-08T16:52:44.639Z"
   },
   {
    "duration": 4,
    "start_time": "2022-05-08T16:55:29.031Z"
   },
   {
    "duration": 2033,
    "start_time": "2022-05-08T16:55:32.607Z"
   },
   {
    "duration": 1873,
    "start_time": "2022-05-08T16:55:44.798Z"
   },
   {
    "duration": 1813,
    "start_time": "2022-05-08T16:55:51.390Z"
   },
   {
    "duration": 1486,
    "start_time": "2022-05-09T10:41:36.565Z"
   },
   {
    "duration": 352,
    "start_time": "2022-05-09T10:41:41.678Z"
   },
   {
    "duration": 15,
    "start_time": "2022-05-09T10:41:50.702Z"
   },
   {
    "duration": 12,
    "start_time": "2022-05-09T10:41:53.223Z"
   },
   {
    "duration": 11,
    "start_time": "2022-05-09T10:41:55.864Z"
   },
   {
    "duration": 16,
    "start_time": "2022-05-09T10:41:58.660Z"
   },
   {
    "duration": 13,
    "start_time": "2022-05-09T10:42:00.895Z"
   },
   {
    "duration": 12,
    "start_time": "2022-05-09T10:42:03.575Z"
   },
   {
    "duration": 42,
    "start_time": "2022-05-09T10:42:05.911Z"
   },
   {
    "duration": 41,
    "start_time": "2022-05-09T10:42:08.355Z"
   },
   {
    "duration": 32,
    "start_time": "2022-05-09T10:42:11.703Z"
   },
   {
    "duration": 41,
    "start_time": "2022-05-09T10:42:38.502Z"
   },
   {
    "duration": 44,
    "start_time": "2022-05-09T10:42:39.606Z"
   },
   {
    "duration": 51,
    "start_time": "2022-05-09T10:42:40.534Z"
   },
   {
    "duration": 4,
    "start_time": "2022-05-09T10:42:53.038Z"
   },
   {
    "duration": 14,
    "start_time": "2022-05-09T10:42:55.894Z"
   },
   {
    "duration": 14,
    "start_time": "2022-05-09T10:42:58.013Z"
   },
   {
    "duration": 13,
    "start_time": "2022-05-09T10:42:59.709Z"
   },
   {
    "duration": 4,
    "start_time": "2022-05-09T10:43:04.870Z"
   },
   {
    "duration": 1105,
    "start_time": "2022-05-09T10:43:13.543Z"
   },
   {
    "duration": 4,
    "start_time": "2022-05-09T10:43:22.917Z"
   },
   {
    "duration": 1273,
    "start_time": "2022-05-09T10:43:24.486Z"
   },
   {
    "duration": 1449,
    "start_time": "2022-05-09T10:43:29.214Z"
   },
   {
    "duration": 1484,
    "start_time": "2022-05-09T10:43:34.071Z"
   },
   {
    "duration": 4,
    "start_time": "2022-05-09T10:43:54.528Z"
   },
   {
    "duration": 1070,
    "start_time": "2022-05-09T10:43:56.094Z"
   },
   {
    "duration": 1441,
    "start_time": "2022-05-09T10:43:59.405Z"
   },
   {
    "duration": 1560,
    "start_time": "2022-05-09T10:44:02.502Z"
   },
   {
    "duration": 12,
    "start_time": "2022-05-09T10:44:16.204Z"
   },
   {
    "duration": 4,
    "start_time": "2022-05-09T10:50:29.912Z"
   },
   {
    "duration": 103,
    "start_time": "2022-05-09T10:51:53.732Z"
   },
   {
    "duration": 3,
    "start_time": "2022-05-09T10:52:33.409Z"
   },
   {
    "duration": 1697,
    "start_time": "2022-05-09T10:52:55.553Z"
   },
   {
    "duration": 1599,
    "start_time": "2022-05-09T10:52:59.151Z"
   },
   {
    "duration": 1514,
    "start_time": "2022-05-09T10:53:01.536Z"
   },
   {
    "duration": 4,
    "start_time": "2022-05-09T10:53:04.087Z"
   },
   {
    "duration": 6,
    "start_time": "2022-05-09T10:53:06.369Z"
   },
   {
    "duration": 6,
    "start_time": "2022-05-09T10:53:58.408Z"
   },
   {
    "duration": 3,
    "start_time": "2022-05-09T10:54:05.719Z"
   },
   {
    "duration": 8,
    "start_time": "2022-05-09T10:54:13.104Z"
   },
   {
    "duration": 3,
    "start_time": "2022-05-09T10:55:01.127Z"
   },
   {
    "duration": 4,
    "start_time": "2022-05-09T10:55:09.823Z"
   },
   {
    "duration": 5,
    "start_time": "2022-05-09T10:55:11.030Z"
   },
   {
    "duration": 11,
    "start_time": "2022-05-09T10:55:12.215Z"
   },
   {
    "duration": 4,
    "start_time": "2022-05-09T10:56:03.877Z"
   },
   {
    "duration": 7,
    "start_time": "2022-05-09T10:56:05.118Z"
   },
   {
    "duration": 12,
    "start_time": "2022-05-09T10:56:06.423Z"
   },
   {
    "duration": 10,
    "start_time": "2022-05-09T10:56:54.398Z"
   },
   {
    "duration": 5,
    "start_time": "2022-05-09T10:57:54.850Z"
   },
   {
    "duration": 6,
    "start_time": "2022-05-09T10:57:56.669Z"
   },
   {
    "duration": 11,
    "start_time": "2022-05-09T10:58:01.796Z"
   },
   {
    "duration": 6,
    "start_time": "2022-05-09T10:58:33.253Z"
   },
   {
    "duration": 12,
    "start_time": "2022-05-09T10:58:37.916Z"
   },
   {
    "duration": 4,
    "start_time": "2022-05-09T11:00:14.802Z"
   },
   {
    "duration": 7,
    "start_time": "2022-05-09T11:00:15.987Z"
   },
   {
    "duration": 12,
    "start_time": "2022-05-09T11:00:17.755Z"
   },
   {
    "duration": 6,
    "start_time": "2022-05-09T11:00:20.284Z"
   },
   {
    "duration": 11,
    "start_time": "2022-05-09T11:00:22.019Z"
   },
   {
    "duration": 12,
    "start_time": "2022-05-09T11:02:43.812Z"
   },
   {
    "duration": 2,
    "start_time": "2022-05-09T11:08:49.284Z"
   },
   {
    "duration": 2,
    "start_time": "2022-05-09T11:10:21.628Z"
   },
   {
    "duration": 2,
    "start_time": "2022-05-09T11:10:22.845Z"
   },
   {
    "duration": 3,
    "start_time": "2022-05-09T11:10:23.892Z"
   },
   {
    "duration": 3,
    "start_time": "2022-05-09T11:10:25.253Z"
   },
   {
    "duration": 4,
    "start_time": "2022-05-09T11:10:30.469Z"
   },
   {
    "duration": 9,
    "start_time": "2022-05-09T11:20:09.931Z"
   },
   {
    "duration": 4,
    "start_time": "2022-05-09T11:20:12.929Z"
   },
   {
    "duration": 1019,
    "start_time": "2022-05-09T11:20:15.173Z"
   },
   {
    "duration": 864,
    "start_time": "2022-05-09T11:20:26.425Z"
   },
   {
    "duration": 924,
    "start_time": "2022-05-09T11:20:34.193Z"
   },
   {
    "duration": 10,
    "start_time": "2022-05-09T11:22:31.314Z"
   },
   {
    "duration": 4,
    "start_time": "2022-05-09T11:22:34.168Z"
   },
   {
    "duration": 10,
    "start_time": "2022-05-09T11:22:36.420Z"
   },
   {
    "duration": 4,
    "start_time": "2022-05-09T11:23:11.431Z"
   },
   {
    "duration": 8,
    "start_time": "2022-05-09T11:23:13.759Z"
   },
   {
    "duration": 8,
    "start_time": "2022-05-09T11:23:23.471Z"
   },
   {
    "duration": 3,
    "start_time": "2022-05-09T11:23:26.751Z"
   },
   {
    "duration": 7,
    "start_time": "2022-05-09T11:23:29.055Z"
   },
   {
    "duration": 4,
    "start_time": "2022-05-09T11:23:36.999Z"
   },
   {
    "duration": 8,
    "start_time": "2022-05-09T11:23:39.407Z"
   },
   {
    "duration": 3,
    "start_time": "2022-05-09T11:23:57.255Z"
   },
   {
    "duration": 7,
    "start_time": "2022-05-09T11:24:01.671Z"
   },
   {
    "duration": 4,
    "start_time": "2022-05-09T11:24:19.686Z"
   },
   {
    "duration": 7,
    "start_time": "2022-05-09T11:24:22.262Z"
   },
   {
    "duration": 8,
    "start_time": "2022-05-09T11:24:49.518Z"
   },
   {
    "duration": 11,
    "start_time": "2022-05-09T11:25:15.756Z"
   },
   {
    "duration": 8,
    "start_time": "2022-05-09T11:25:29.295Z"
   },
   {
    "duration": 4,
    "start_time": "2022-05-09T11:46:13.633Z"
   },
   {
    "duration": 9,
    "start_time": "2022-05-09T11:46:15.509Z"
   },
   {
    "duration": 8,
    "start_time": "2022-05-09T11:46:25.197Z"
   },
   {
    "duration": 8,
    "start_time": "2022-05-09T11:46:28.240Z"
   },
   {
    "duration": 2,
    "start_time": "2022-05-09T11:48:38.477Z"
   },
   {
    "duration": 1351,
    "start_time": "2022-05-09T11:48:57.639Z"
   },
   {
    "duration": 324,
    "start_time": "2022-05-09T11:48:58.992Z"
   },
   {
    "duration": 15,
    "start_time": "2022-05-09T11:48:59.317Z"
   },
   {
    "duration": 19,
    "start_time": "2022-05-09T11:48:59.334Z"
   },
   {
    "duration": 11,
    "start_time": "2022-05-09T11:48:59.355Z"
   },
   {
    "duration": 16,
    "start_time": "2022-05-09T11:48:59.368Z"
   },
   {
    "duration": 13,
    "start_time": "2022-05-09T11:48:59.386Z"
   },
   {
    "duration": 11,
    "start_time": "2022-05-09T11:48:59.401Z"
   },
   {
    "duration": 65,
    "start_time": "2022-05-09T11:48:59.414Z"
   },
   {
    "duration": 33,
    "start_time": "2022-05-09T11:48:59.482Z"
   },
   {
    "duration": 53,
    "start_time": "2022-05-09T11:48:59.517Z"
   },
   {
    "duration": 43,
    "start_time": "2022-05-09T11:48:59.572Z"
   },
   {
    "duration": 57,
    "start_time": "2022-05-09T11:48:59.616Z"
   },
   {
    "duration": 42,
    "start_time": "2022-05-09T11:48:59.675Z"
   },
   {
    "duration": 3,
    "start_time": "2022-05-09T11:48:59.718Z"
   },
   {
    "duration": 31,
    "start_time": "2022-05-09T11:48:59.723Z"
   },
   {
    "duration": 14,
    "start_time": "2022-05-09T11:48:59.755Z"
   },
   {
    "duration": 13,
    "start_time": "2022-05-09T11:48:59.770Z"
   },
   {
    "duration": 4,
    "start_time": "2022-05-09T11:48:59.784Z"
   },
   {
    "duration": 1662,
    "start_time": "2022-05-09T11:48:59.789Z"
   },
   {
    "duration": 1798,
    "start_time": "2022-05-09T11:49:01.453Z"
   },
   {
    "duration": 1798,
    "start_time": "2022-05-09T11:49:03.253Z"
   },
   {
    "duration": 95,
    "start_time": "2022-05-09T11:49:05.053Z"
   },
   {
    "duration": 188,
    "start_time": "2022-05-09T11:49:05.154Z"
   },
   {
    "duration": 0,
    "start_time": "2022-05-09T11:49:05.348Z"
   },
   {
    "duration": 0,
    "start_time": "2022-05-09T11:49:05.349Z"
   },
   {
    "duration": 0,
    "start_time": "2022-05-09T11:49:05.350Z"
   },
   {
    "duration": 0,
    "start_time": "2022-05-09T11:49:05.351Z"
   },
   {
    "duration": 0,
    "start_time": "2022-05-09T11:49:05.352Z"
   },
   {
    "duration": 0,
    "start_time": "2022-05-09T11:49:05.353Z"
   },
   {
    "duration": 0,
    "start_time": "2022-05-09T11:49:05.354Z"
   },
   {
    "duration": 0,
    "start_time": "2022-05-09T11:49:05.355Z"
   },
   {
    "duration": 0,
    "start_time": "2022-05-09T11:49:05.355Z"
   },
   {
    "duration": 0,
    "start_time": "2022-05-09T11:49:05.356Z"
   },
   {
    "duration": 0,
    "start_time": "2022-05-09T11:49:05.357Z"
   },
   {
    "duration": 1,
    "start_time": "2022-05-09T11:49:05.357Z"
   },
   {
    "duration": 0,
    "start_time": "2022-05-09T11:49:05.358Z"
   },
   {
    "duration": 0,
    "start_time": "2022-05-09T11:49:05.359Z"
   },
   {
    "duration": 0,
    "start_time": "2022-05-09T11:49:05.360Z"
   },
   {
    "duration": 0,
    "start_time": "2022-05-09T11:49:05.361Z"
   },
   {
    "duration": 0,
    "start_time": "2022-05-09T11:49:05.362Z"
   },
   {
    "duration": 0,
    "start_time": "2022-05-09T11:49:05.363Z"
   },
   {
    "duration": 0,
    "start_time": "2022-05-09T11:49:05.363Z"
   },
   {
    "duration": 0,
    "start_time": "2022-05-09T11:49:05.364Z"
   },
   {
    "duration": 0,
    "start_time": "2022-05-09T11:49:05.365Z"
   },
   {
    "duration": 0,
    "start_time": "2022-05-09T11:49:05.366Z"
   },
   {
    "duration": 5,
    "start_time": "2022-05-09T11:59:17.671Z"
   },
   {
    "duration": 6,
    "start_time": "2022-05-09T11:59:33.411Z"
   },
   {
    "duration": 1355,
    "start_time": "2022-05-09T11:59:44.985Z"
   },
   {
    "duration": 334,
    "start_time": "2022-05-09T11:59:46.342Z"
   },
   {
    "duration": 16,
    "start_time": "2022-05-09T11:59:46.678Z"
   },
   {
    "duration": 10,
    "start_time": "2022-05-09T11:59:46.697Z"
   },
   {
    "duration": 11,
    "start_time": "2022-05-09T11:59:46.709Z"
   },
   {
    "duration": 40,
    "start_time": "2022-05-09T11:59:46.722Z"
   },
   {
    "duration": 14,
    "start_time": "2022-05-09T11:59:46.764Z"
   },
   {
    "duration": 14,
    "start_time": "2022-05-09T11:59:46.780Z"
   },
   {
    "duration": 70,
    "start_time": "2022-05-09T11:59:46.795Z"
   },
   {
    "duration": 36,
    "start_time": "2022-05-09T11:59:46.868Z"
   },
   {
    "duration": 54,
    "start_time": "2022-05-09T11:59:46.905Z"
   },
   {
    "duration": 44,
    "start_time": "2022-05-09T11:59:46.961Z"
   },
   {
    "duration": 66,
    "start_time": "2022-05-09T11:59:47.007Z"
   },
   {
    "duration": 47,
    "start_time": "2022-05-09T11:59:47.075Z"
   },
   {
    "duration": 4,
    "start_time": "2022-05-09T11:59:47.124Z"
   },
   {
    "duration": 32,
    "start_time": "2022-05-09T11:59:47.130Z"
   },
   {
    "duration": 14,
    "start_time": "2022-05-09T11:59:47.164Z"
   },
   {
    "duration": 14,
    "start_time": "2022-05-09T11:59:47.180Z"
   },
   {
    "duration": 4,
    "start_time": "2022-05-09T11:59:47.196Z"
   },
   {
    "duration": 1748,
    "start_time": "2022-05-09T11:59:47.202Z"
   },
   {
    "duration": 1799,
    "start_time": "2022-05-09T11:59:48.952Z"
   },
   {
    "duration": 1698,
    "start_time": "2022-05-09T11:59:50.754Z"
   },
   {
    "duration": 94,
    "start_time": "2022-05-09T11:59:52.455Z"
   },
   {
    "duration": 17,
    "start_time": "2022-05-09T11:59:52.550Z"
   },
   {
    "duration": 90,
    "start_time": "2022-05-09T11:59:52.568Z"
   },
   {
    "duration": 115,
    "start_time": "2022-05-09T11:59:52.660Z"
   },
   {
    "duration": 0,
    "start_time": "2022-05-09T11:59:52.777Z"
   },
   {
    "duration": 0,
    "start_time": "2022-05-09T11:59:52.778Z"
   },
   {
    "duration": 0,
    "start_time": "2022-05-09T11:59:52.779Z"
   },
   {
    "duration": 0,
    "start_time": "2022-05-09T11:59:52.780Z"
   },
   {
    "duration": 0,
    "start_time": "2022-05-09T11:59:52.781Z"
   },
   {
    "duration": 0,
    "start_time": "2022-05-09T11:59:52.782Z"
   },
   {
    "duration": 0,
    "start_time": "2022-05-09T11:59:52.783Z"
   },
   {
    "duration": 0,
    "start_time": "2022-05-09T11:59:52.784Z"
   },
   {
    "duration": 0,
    "start_time": "2022-05-09T11:59:52.785Z"
   },
   {
    "duration": 0,
    "start_time": "2022-05-09T11:59:52.785Z"
   },
   {
    "duration": 0,
    "start_time": "2022-05-09T11:59:52.786Z"
   },
   {
    "duration": 0,
    "start_time": "2022-05-09T11:59:52.788Z"
   },
   {
    "duration": 0,
    "start_time": "2022-05-09T11:59:52.788Z"
   },
   {
    "duration": 0,
    "start_time": "2022-05-09T11:59:52.789Z"
   },
   {
    "duration": 0,
    "start_time": "2022-05-09T11:59:52.790Z"
   },
   {
    "duration": 0,
    "start_time": "2022-05-09T11:59:52.791Z"
   },
   {
    "duration": 0,
    "start_time": "2022-05-09T11:59:52.792Z"
   },
   {
    "duration": 0,
    "start_time": "2022-05-09T11:59:52.793Z"
   },
   {
    "duration": 5,
    "start_time": "2022-05-09T12:12:13.429Z"
   },
   {
    "duration": 3,
    "start_time": "2022-05-09T12:12:15.411Z"
   },
   {
    "duration": 20,
    "start_time": "2022-05-09T12:12:51.075Z"
   },
   {
    "duration": 4,
    "start_time": "2022-05-09T12:13:57.835Z"
   },
   {
    "duration": 13,
    "start_time": "2022-05-09T12:14:00.443Z"
   },
   {
    "duration": 5,
    "start_time": "2022-05-09T12:14:24.147Z"
   },
   {
    "duration": 3,
    "start_time": "2022-05-09T12:14:26.345Z"
   },
   {
    "duration": 18,
    "start_time": "2022-05-09T12:14:28.482Z"
   },
   {
    "duration": 1404,
    "start_time": "2022-05-09T12:15:15.152Z"
   },
   {
    "duration": 367,
    "start_time": "2022-05-09T12:15:16.558Z"
   },
   {
    "duration": 21,
    "start_time": "2022-05-09T12:15:16.927Z"
   },
   {
    "duration": 12,
    "start_time": "2022-05-09T12:15:16.950Z"
   },
   {
    "duration": 12,
    "start_time": "2022-05-09T12:15:16.964Z"
   },
   {
    "duration": 18,
    "start_time": "2022-05-09T12:15:16.977Z"
   },
   {
    "duration": 20,
    "start_time": "2022-05-09T12:15:16.997Z"
   },
   {
    "duration": 44,
    "start_time": "2022-05-09T12:15:17.018Z"
   },
   {
    "duration": 36,
    "start_time": "2022-05-09T12:15:17.064Z"
   },
   {
    "duration": 56,
    "start_time": "2022-05-09T12:15:17.102Z"
   },
   {
    "duration": 33,
    "start_time": "2022-05-09T12:15:17.159Z"
   },
   {
    "duration": 64,
    "start_time": "2022-05-09T12:15:17.194Z"
   },
   {
    "duration": 46,
    "start_time": "2022-05-09T12:15:17.259Z"
   },
   {
    "duration": 64,
    "start_time": "2022-05-09T12:15:17.307Z"
   },
   {
    "duration": 4,
    "start_time": "2022-05-09T12:15:17.372Z"
   },
   {
    "duration": 17,
    "start_time": "2022-05-09T12:15:17.377Z"
   },
   {
    "duration": 14,
    "start_time": "2022-05-09T12:15:17.396Z"
   },
   {
    "duration": 15,
    "start_time": "2022-05-09T12:15:17.411Z"
   },
   {
    "duration": 19,
    "start_time": "2022-05-09T12:15:17.428Z"
   },
   {
    "duration": 1605,
    "start_time": "2022-05-09T12:15:17.449Z"
   },
   {
    "duration": 2004,
    "start_time": "2022-05-09T12:15:19.056Z"
   },
   {
    "duration": 1787,
    "start_time": "2022-05-09T12:15:21.063Z"
   },
   {
    "duration": 97,
    "start_time": "2022-05-09T12:15:22.852Z"
   },
   {
    "duration": 11,
    "start_time": "2022-05-09T12:15:22.951Z"
   },
   {
    "duration": 91,
    "start_time": "2022-05-09T12:15:22.964Z"
   },
   {
    "duration": 6,
    "start_time": "2022-05-09T12:15:23.057Z"
   },
   {
    "duration": 12,
    "start_time": "2022-05-09T12:15:23.064Z"
   },
   {
    "duration": 6,
    "start_time": "2022-05-09T12:15:23.079Z"
   },
   {
    "duration": 12,
    "start_time": "2022-05-09T12:15:23.086Z"
   },
   {
    "duration": 4,
    "start_time": "2022-05-09T12:15:23.100Z"
   },
   {
    "duration": 1071,
    "start_time": "2022-05-09T12:15:23.105Z"
   },
   {
    "duration": 901,
    "start_time": "2022-05-09T12:15:24.178Z"
   },
   {
    "duration": 1013,
    "start_time": "2022-05-09T12:15:25.080Z"
   },
   {
    "duration": 2,
    "start_time": "2022-05-09T12:15:26.095Z"
   },
   {
    "duration": 5,
    "start_time": "2022-05-09T12:15:26.099Z"
   },
   {
    "duration": 4,
    "start_time": "2022-05-09T12:15:26.106Z"
   },
   {
    "duration": 5,
    "start_time": "2022-05-09T12:15:26.111Z"
   },
   {
    "duration": 34,
    "start_time": "2022-05-09T12:15:26.118Z"
   },
   {
    "duration": 5,
    "start_time": "2022-05-09T12:15:26.154Z"
   },
   {
    "duration": 12,
    "start_time": "2022-05-09T12:15:26.161Z"
   },
   {
    "duration": 10,
    "start_time": "2022-05-09T12:15:26.175Z"
   },
   {
    "duration": 11,
    "start_time": "2022-05-09T12:15:26.187Z"
   },
   {
    "duration": 3,
    "start_time": "2022-05-09T12:15:26.200Z"
   },
   {
    "duration": 7,
    "start_time": "2022-05-09T12:15:26.205Z"
   },
   {
    "duration": 1300,
    "start_time": "2022-05-09T12:15:26.214Z"
   },
   {
    "duration": 1266,
    "start_time": "2022-05-09T12:15:27.516Z"
   },
   {
    "duration": 1120,
    "start_time": "2022-05-09T12:17:03.165Z"
   },
   {
    "duration": 5,
    "start_time": "2022-05-09T12:18:22.950Z"
   },
   {
    "duration": 1130,
    "start_time": "2022-05-09T12:18:25.547Z"
   },
   {
    "duration": 5,
    "start_time": "2022-05-09T12:18:52.491Z"
   },
   {
    "duration": 1223,
    "start_time": "2022-05-09T12:18:53.900Z"
   },
   {
    "duration": 1090,
    "start_time": "2022-05-09T12:19:09.148Z"
   },
   {
    "duration": 1164,
    "start_time": "2022-05-09T12:19:18.869Z"
   },
   {
    "duration": 3,
    "start_time": "2022-05-09T12:20:07.035Z"
   },
   {
    "duration": 7,
    "start_time": "2022-05-09T12:20:08.451Z"
   },
   {
    "duration": 8,
    "start_time": "2022-05-09T12:20:10.467Z"
   },
   {
    "duration": 9,
    "start_time": "2022-05-09T12:20:11.547Z"
   },
   {
    "duration": 3,
    "start_time": "2022-05-09T12:21:16.274Z"
   },
   {
    "duration": 9,
    "start_time": "2022-05-09T12:21:17.481Z"
   },
   {
    "duration": 10,
    "start_time": "2022-05-09T12:21:18.762Z"
   },
   {
    "duration": 8,
    "start_time": "2022-05-09T12:21:19.875Z"
   },
   {
    "duration": 4,
    "start_time": "2022-05-09T12:23:33.458Z"
   },
   {
    "duration": 1095,
    "start_time": "2022-05-09T12:23:34.961Z"
   },
   {
    "duration": 1093,
    "start_time": "2022-05-09T12:23:39.529Z"
   },
   {
    "duration": 1095,
    "start_time": "2022-05-09T12:23:42.521Z"
   },
   {
    "duration": 4,
    "start_time": "2022-05-09T12:24:21.385Z"
   },
   {
    "duration": 1108,
    "start_time": "2022-05-09T12:24:22.784Z"
   },
   {
    "duration": 1297,
    "start_time": "2022-05-09T12:24:25.400Z"
   },
   {
    "duration": 1760,
    "start_time": "2022-05-09T12:24:29.161Z"
   },
   {
    "duration": 5,
    "start_time": "2022-05-09T12:24:52.984Z"
   },
   {
    "duration": 1103,
    "start_time": "2022-05-09T12:24:55.481Z"
   },
   {
    "duration": 1095,
    "start_time": "2022-05-09T12:24:58.184Z"
   },
   {
    "duration": 4,
    "start_time": "2022-05-09T12:25:01.106Z"
   },
   {
    "duration": 1100,
    "start_time": "2022-05-09T12:25:02.416Z"
   },
   {
    "duration": 5,
    "start_time": "2022-05-09T12:25:16.704Z"
   },
   {
    "duration": 1107,
    "start_time": "2022-05-09T12:25:19.432Z"
   },
   {
    "duration": 1103,
    "start_time": "2022-05-09T12:25:22.872Z"
   },
   {
    "duration": 1108,
    "start_time": "2022-05-09T12:25:25.472Z"
   },
   {
    "duration": 5,
    "start_time": "2022-05-09T12:25:38.960Z"
   },
   {
    "duration": 1142,
    "start_time": "2022-05-09T12:25:41.031Z"
   },
   {
    "duration": 1183,
    "start_time": "2022-05-09T12:25:43.576Z"
   },
   {
    "duration": 1153,
    "start_time": "2022-05-09T12:25:46.968Z"
   },
   {
    "duration": 4,
    "start_time": "2022-05-09T12:25:57.928Z"
   },
   {
    "duration": 1102,
    "start_time": "2022-05-09T12:26:00.193Z"
   },
   {
    "duration": 1128,
    "start_time": "2022-05-09T12:26:03.504Z"
   },
   {
    "duration": 1119,
    "start_time": "2022-05-09T12:26:06.256Z"
   },
   {
    "duration": 6,
    "start_time": "2022-05-09T12:27:01.521Z"
   },
   {
    "duration": 1095,
    "start_time": "2022-05-09T12:27:02.504Z"
   },
   {
    "duration": 1078,
    "start_time": "2022-05-09T12:27:04.999Z"
   },
   {
    "duration": 1083,
    "start_time": "2022-05-09T12:27:08.239Z"
   },
   {
    "duration": 5,
    "start_time": "2022-05-09T12:28:29.159Z"
   },
   {
    "duration": 1094,
    "start_time": "2022-05-09T12:28:30.735Z"
   },
   {
    "duration": 1107,
    "start_time": "2022-05-09T12:28:35.215Z"
   },
   {
    "duration": 1096,
    "start_time": "2022-05-09T12:28:37.906Z"
   },
   {
    "duration": 4,
    "start_time": "2022-05-09T12:29:15.159Z"
   },
   {
    "duration": 1115,
    "start_time": "2022-05-09T12:29:16.766Z"
   },
   {
    "duration": 5,
    "start_time": "2022-05-09T12:30:25.998Z"
   },
   {
    "duration": 1135,
    "start_time": "2022-05-09T12:30:27.414Z"
   },
   {
    "duration": 1097,
    "start_time": "2022-05-09T12:30:32.406Z"
   },
   {
    "duration": 1114,
    "start_time": "2022-05-09T12:30:35.582Z"
   },
   {
    "duration": 4,
    "start_time": "2022-05-09T12:30:40.214Z"
   },
   {
    "duration": 1106,
    "start_time": "2022-05-09T12:30:44.150Z"
   },
   {
    "duration": 1112,
    "start_time": "2022-05-09T12:30:45.257Z"
   },
   {
    "duration": 1134,
    "start_time": "2022-05-09T12:30:46.734Z"
   },
   {
    "duration": 3,
    "start_time": "2022-05-09T12:31:06.278Z"
   },
   {
    "duration": 5,
    "start_time": "2022-05-09T12:31:08.262Z"
   },
   {
    "duration": 1073,
    "start_time": "2022-05-09T12:31:09.662Z"
   },
   {
    "duration": 1063,
    "start_time": "2022-05-09T12:31:29.486Z"
   },
   {
    "duration": 1057,
    "start_time": "2022-05-09T12:31:31.606Z"
   },
   {
    "duration": 6,
    "start_time": "2022-05-09T12:31:42.201Z"
   },
   {
    "duration": 3,
    "start_time": "2022-05-09T12:31:43.511Z"
   },
   {
    "duration": 112,
    "start_time": "2022-05-09T12:31:44.949Z"
   },
   {
    "duration": 3,
    "start_time": "2022-05-09T12:31:51.885Z"
   },
   {
    "duration": 5,
    "start_time": "2022-05-09T12:31:52.574Z"
   },
   {
    "duration": 1107,
    "start_time": "2022-05-09T12:31:53.421Z"
   },
   {
    "duration": 3,
    "start_time": "2022-05-09T12:33:01.573Z"
   },
   {
    "duration": 5,
    "start_time": "2022-05-09T12:33:03.141Z"
   },
   {
    "duration": 1128,
    "start_time": "2022-05-09T12:33:04.470Z"
   },
   {
    "duration": 1126,
    "start_time": "2022-05-09T12:33:28.980Z"
   },
   {
    "duration": 1187,
    "start_time": "2022-05-09T12:33:32.364Z"
   },
   {
    "duration": 1153,
    "start_time": "2022-05-09T12:33:43.342Z"
   },
   {
    "duration": 5,
    "start_time": "2022-05-09T12:33:52.924Z"
   },
   {
    "duration": 1131,
    "start_time": "2022-05-09T12:33:56.188Z"
   },
   {
    "duration": 1130,
    "start_time": "2022-05-09T12:33:59.244Z"
   },
   {
    "duration": 1200,
    "start_time": "2022-05-09T12:34:01.836Z"
   },
   {
    "duration": 5,
    "start_time": "2022-05-09T12:39:42.220Z"
   },
   {
    "duration": 3,
    "start_time": "2022-05-09T12:39:44.473Z"
   },
   {
    "duration": 1315,
    "start_time": "2022-05-09T12:39:46.234Z"
   },
   {
    "duration": 1286,
    "start_time": "2022-05-09T12:39:51.133Z"
   },
   {
    "duration": 1090,
    "start_time": "2022-05-09T12:39:57.728Z"
   },
   {
    "duration": 5,
    "start_time": "2022-05-09T12:40:08.707Z"
   },
   {
    "duration": 3,
    "start_time": "2022-05-09T12:40:09.753Z"
   },
   {
    "duration": 1117,
    "start_time": "2022-05-09T12:40:11.169Z"
   },
   {
    "duration": 1135,
    "start_time": "2022-05-09T12:40:12.288Z"
   },
   {
    "duration": 1195,
    "start_time": "2022-05-09T12:40:14.825Z"
   },
   {
    "duration": 6,
    "start_time": "2022-05-09T12:41:03.737Z"
   },
   {
    "duration": 1270,
    "start_time": "2022-05-09T12:41:04.892Z"
   },
   {
    "duration": 1217,
    "start_time": "2022-05-09T12:41:06.164Z"
   },
   {
    "duration": 1171,
    "start_time": "2022-05-09T12:41:08.625Z"
   },
   {
    "duration": 5,
    "start_time": "2022-05-09T12:41:22.169Z"
   },
   {
    "duration": 1187,
    "start_time": "2022-05-09T12:41:23.816Z"
   },
   {
    "duration": 1175,
    "start_time": "2022-05-09T12:41:26.937Z"
   },
   {
    "duration": 1179,
    "start_time": "2022-05-09T12:41:29.656Z"
   },
   {
    "duration": 5,
    "start_time": "2022-05-09T12:43:00.681Z"
   },
   {
    "duration": 1219,
    "start_time": "2022-05-09T12:43:02.801Z"
   },
   {
    "duration": 1185,
    "start_time": "2022-05-09T12:43:06.328Z"
   },
   {
    "duration": 1200,
    "start_time": "2022-05-09T12:43:08.976Z"
   },
   {
    "duration": 5,
    "start_time": "2022-05-09T12:44:05.847Z"
   },
   {
    "duration": 1099,
    "start_time": "2022-05-09T12:44:07.440Z"
   },
   {
    "duration": 1091,
    "start_time": "2022-05-09T12:44:10.095Z"
   },
   {
    "duration": 1094,
    "start_time": "2022-05-09T12:44:12.671Z"
   },
   {
    "duration": 8,
    "start_time": "2022-05-09T12:45:09.201Z"
   },
   {
    "duration": 1258,
    "start_time": "2022-05-09T12:45:10.728Z"
   },
   {
    "duration": 1103,
    "start_time": "2022-05-09T12:45:15.495Z"
   },
   {
    "duration": 1167,
    "start_time": "2022-05-09T12:45:18.206Z"
   },
   {
    "duration": 6,
    "start_time": "2022-05-09T12:46:09.550Z"
   },
   {
    "duration": 1214,
    "start_time": "2022-05-09T12:46:10.622Z"
   },
   {
    "duration": 5,
    "start_time": "2022-05-09T12:49:18.342Z"
   },
   {
    "duration": 1324,
    "start_time": "2022-05-09T12:49:21.340Z"
   },
   {
    "duration": 5,
    "start_time": "2022-05-09T12:49:45.405Z"
   },
   {
    "duration": 1455,
    "start_time": "2022-05-09T12:49:47.918Z"
   },
   {
    "duration": 5,
    "start_time": "2022-05-09T12:50:11.369Z"
   },
   {
    "duration": 1508,
    "start_time": "2022-05-09T12:50:12.718Z"
   },
   {
    "duration": 5,
    "start_time": "2022-05-09T12:50:36.900Z"
   },
   {
    "duration": 1397,
    "start_time": "2022-05-09T12:50:39.100Z"
   },
   {
    "duration": 1598,
    "start_time": "2022-05-09T12:50:54.404Z"
   },
   {
    "duration": 7,
    "start_time": "2022-05-09T12:51:00.171Z"
   },
   {
    "duration": 1761,
    "start_time": "2022-05-09T12:51:02.371Z"
   },
   {
    "duration": 1812,
    "start_time": "2022-05-09T12:51:05.685Z"
   },
   {
    "duration": 1562,
    "start_time": "2022-05-09T12:51:09.012Z"
   },
   {
    "duration": 5,
    "start_time": "2022-05-09T12:53:43.411Z"
   },
   {
    "duration": 5,
    "start_time": "2022-05-09T12:53:50.307Z"
   },
   {
    "duration": 5,
    "start_time": "2022-05-09T12:56:07.575Z"
   },
   {
    "duration": 1353,
    "start_time": "2022-05-09T12:56:09.066Z"
   },
   {
    "duration": 1223,
    "start_time": "2022-05-09T12:56:19.034Z"
   },
   {
    "duration": 1208,
    "start_time": "2022-05-09T12:56:22.689Z"
   },
   {
    "duration": 10,
    "start_time": "2022-05-09T12:56:46.841Z"
   },
   {
    "duration": 1367,
    "start_time": "2022-05-09T12:56:48.041Z"
   },
   {
    "duration": 1536,
    "start_time": "2022-05-09T12:56:51.121Z"
   },
   {
    "duration": 1498,
    "start_time": "2022-05-09T12:56:54.539Z"
   },
   {
    "duration": 6,
    "start_time": "2022-05-09T12:57:40.129Z"
   },
   {
    "duration": 1521,
    "start_time": "2022-05-09T12:57:41.305Z"
   },
   {
    "duration": 1348,
    "start_time": "2022-05-09T12:57:42.828Z"
   },
   {
    "duration": 1260,
    "start_time": "2022-05-09T12:57:44.181Z"
   },
   {
    "duration": 7,
    "start_time": "2022-05-09T13:04:37.463Z"
   },
   {
    "duration": 1227,
    "start_time": "2022-05-09T13:04:38.467Z"
   },
   {
    "duration": 1252,
    "start_time": "2022-05-09T13:05:11.327Z"
   },
   {
    "duration": 1158,
    "start_time": "2022-05-09T13:05:13.718Z"
   },
   {
    "duration": 4,
    "start_time": "2022-05-09T13:06:37.013Z"
   },
   {
    "duration": 10,
    "start_time": "2022-05-09T13:06:38.364Z"
   },
   {
    "duration": 12,
    "start_time": "2022-05-09T13:06:39.364Z"
   },
   {
    "duration": 9,
    "start_time": "2022-05-09T13:06:40.596Z"
   },
   {
    "duration": 1420,
    "start_time": "2022-05-09T13:08:34.889Z"
   },
   {
    "duration": 374,
    "start_time": "2022-05-09T13:08:36.311Z"
   },
   {
    "duration": 17,
    "start_time": "2022-05-09T13:08:36.686Z"
   },
   {
    "duration": 11,
    "start_time": "2022-05-09T13:08:36.705Z"
   },
   {
    "duration": 31,
    "start_time": "2022-05-09T13:08:36.718Z"
   },
   {
    "duration": 27,
    "start_time": "2022-05-09T13:08:36.751Z"
   },
   {
    "duration": 14,
    "start_time": "2022-05-09T13:08:36.780Z"
   },
   {
    "duration": 14,
    "start_time": "2022-05-09T13:08:36.796Z"
   },
   {
    "duration": 69,
    "start_time": "2022-05-09T13:08:36.812Z"
   },
   {
    "duration": 34,
    "start_time": "2022-05-09T13:08:36.884Z"
   },
   {
    "duration": 52,
    "start_time": "2022-05-09T13:08:36.920Z"
   },
   {
    "duration": 48,
    "start_time": "2022-05-09T13:08:36.974Z"
   },
   {
    "duration": 66,
    "start_time": "2022-05-09T13:08:37.024Z"
   },
   {
    "duration": 62,
    "start_time": "2022-05-09T13:08:37.092Z"
   },
   {
    "duration": 5,
    "start_time": "2022-05-09T13:08:37.159Z"
   },
   {
    "duration": 19,
    "start_time": "2022-05-09T13:08:37.167Z"
   },
   {
    "duration": 16,
    "start_time": "2022-05-09T13:08:37.187Z"
   },
   {
    "duration": 42,
    "start_time": "2022-05-09T13:08:37.205Z"
   },
   {
    "duration": 6,
    "start_time": "2022-05-09T13:08:37.250Z"
   },
   {
    "duration": 1302,
    "start_time": "2022-05-09T13:08:37.264Z"
   },
   {
    "duration": 1101,
    "start_time": "2022-05-09T13:08:38.569Z"
   },
   {
    "duration": 1208,
    "start_time": "2022-05-09T13:08:39.749Z"
   },
   {
    "duration": 89,
    "start_time": "2022-05-09T13:08:40.964Z"
   },
   {
    "duration": 15,
    "start_time": "2022-05-09T13:08:41.061Z"
   },
   {
    "duration": 14,
    "start_time": "2022-05-09T13:08:41.077Z"
   },
   {
    "duration": 7,
    "start_time": "2022-05-09T13:08:41.092Z"
   },
   {
    "duration": 49,
    "start_time": "2022-05-09T13:08:41.101Z"
   },
   {
    "duration": 8,
    "start_time": "2022-05-09T13:08:41.154Z"
   },
   {
    "duration": 14,
    "start_time": "2022-05-09T13:08:41.165Z"
   },
   {
    "duration": 6,
    "start_time": "2022-05-09T13:08:41.181Z"
   },
   {
    "duration": 1127,
    "start_time": "2022-05-09T13:08:41.189Z"
   },
   {
    "duration": 907,
    "start_time": "2022-05-09T13:08:42.318Z"
   },
   {
    "duration": 1060,
    "start_time": "2022-05-09T13:08:43.227Z"
   },
   {
    "duration": 3,
    "start_time": "2022-05-09T13:08:44.288Z"
   },
   {
    "duration": 5,
    "start_time": "2022-05-09T13:08:44.293Z"
   },
   {
    "duration": 4,
    "start_time": "2022-05-09T13:08:44.300Z"
   },
   {
    "duration": 6,
    "start_time": "2022-05-09T13:08:44.305Z"
   },
   {
    "duration": 9,
    "start_time": "2022-05-09T13:08:44.312Z"
   },
   {
    "duration": 4,
    "start_time": "2022-05-09T13:08:44.323Z"
   },
   {
    "duration": 28,
    "start_time": "2022-05-09T13:08:44.347Z"
   },
   {
    "duration": 9,
    "start_time": "2022-05-09T13:08:44.377Z"
   },
   {
    "duration": 10,
    "start_time": "2022-05-09T13:08:44.387Z"
   },
   {
    "duration": 3,
    "start_time": "2022-05-09T13:08:44.399Z"
   },
   {
    "duration": 11,
    "start_time": "2022-05-09T13:08:44.403Z"
   },
   {
    "duration": 1327,
    "start_time": "2022-05-09T13:08:44.415Z"
   },
   {
    "duration": 1243,
    "start_time": "2022-05-09T13:08:45.743Z"
   },
   {
    "duration": 1261,
    "start_time": "2022-05-09T13:08:46.987Z"
   },
   {
    "duration": 5,
    "start_time": "2022-05-09T13:09:07.476Z"
   },
   {
    "duration": 1329,
    "start_time": "2022-05-09T13:09:08.382Z"
   },
   {
    "duration": 1330,
    "start_time": "2022-05-09T13:09:12.463Z"
   },
   {
    "duration": 1314,
    "start_time": "2022-05-09T13:09:14.965Z"
   },
   {
    "duration": 103,
    "start_time": "2022-05-09T13:31:54.708Z"
   },
   {
    "duration": 1383,
    "start_time": "2022-05-09T13:33:26.821Z"
   },
   {
    "duration": 332,
    "start_time": "2022-05-09T13:33:28.206Z"
   },
   {
    "duration": 14,
    "start_time": "2022-05-09T13:33:28.540Z"
   },
   {
    "duration": 10,
    "start_time": "2022-05-09T13:33:28.556Z"
   },
   {
    "duration": 12,
    "start_time": "2022-05-09T13:33:28.568Z"
   },
   {
    "duration": 15,
    "start_time": "2022-05-09T13:33:28.581Z"
   },
   {
    "duration": 12,
    "start_time": "2022-05-09T13:33:28.597Z"
   },
   {
    "duration": 37,
    "start_time": "2022-05-09T13:33:28.611Z"
   },
   {
    "duration": 35,
    "start_time": "2022-05-09T13:33:28.650Z"
   },
   {
    "duration": 33,
    "start_time": "2022-05-09T13:33:28.687Z"
   },
   {
    "duration": 54,
    "start_time": "2022-05-09T13:33:28.722Z"
   },
   {
    "duration": 43,
    "start_time": "2022-05-09T13:33:28.778Z"
   },
   {
    "duration": 61,
    "start_time": "2022-05-09T13:33:28.822Z"
   },
   {
    "duration": 42,
    "start_time": "2022-05-09T13:33:28.885Z"
   },
   {
    "duration": 19,
    "start_time": "2022-05-09T13:33:28.929Z"
   },
   {
    "duration": 19,
    "start_time": "2022-05-09T13:33:28.950Z"
   },
   {
    "duration": 13,
    "start_time": "2022-05-09T13:33:28.970Z"
   },
   {
    "duration": 12,
    "start_time": "2022-05-09T13:33:28.985Z"
   },
   {
    "duration": 3,
    "start_time": "2022-05-09T13:33:28.999Z"
   },
   {
    "duration": 1646,
    "start_time": "2022-05-09T13:33:29.004Z"
   },
   {
    "duration": 1798,
    "start_time": "2022-05-09T13:33:30.652Z"
   },
   {
    "duration": 1797,
    "start_time": "2022-05-09T13:33:32.453Z"
   },
   {
    "duration": 95,
    "start_time": "2022-05-09T13:33:34.253Z"
   },
   {
    "duration": 13,
    "start_time": "2022-05-09T13:33:34.350Z"
   },
   {
    "duration": 93,
    "start_time": "2022-05-09T13:33:34.365Z"
   },
   {
    "duration": 7,
    "start_time": "2022-05-09T13:33:34.460Z"
   },
   {
    "duration": 10,
    "start_time": "2022-05-09T13:33:34.469Z"
   },
   {
    "duration": 6,
    "start_time": "2022-05-09T13:33:34.483Z"
   },
   {
    "duration": 12,
    "start_time": "2022-05-09T13:33:34.490Z"
   },
   {
    "duration": 45,
    "start_time": "2022-05-09T13:33:34.503Z"
   },
   {
    "duration": 999,
    "start_time": "2022-05-09T13:33:34.549Z"
   },
   {
    "duration": 942,
    "start_time": "2022-05-09T13:33:35.550Z"
   },
   {
    "duration": 927,
    "start_time": "2022-05-09T13:33:36.494Z"
   },
   {
    "duration": 3,
    "start_time": "2022-05-09T13:33:37.423Z"
   },
   {
    "duration": 5,
    "start_time": "2022-05-09T13:33:37.428Z"
   },
   {
    "duration": 16,
    "start_time": "2022-05-09T13:33:37.434Z"
   },
   {
    "duration": 6,
    "start_time": "2022-05-09T13:33:37.451Z"
   },
   {
    "duration": 8,
    "start_time": "2022-05-09T13:33:37.459Z"
   },
   {
    "duration": 4,
    "start_time": "2022-05-09T13:33:37.468Z"
   },
   {
    "duration": 5,
    "start_time": "2022-05-09T13:33:37.474Z"
   },
   {
    "duration": 1184,
    "start_time": "2022-05-09T13:33:37.480Z"
   },
   {
    "duration": 1081,
    "start_time": "2022-05-09T13:33:38.666Z"
   },
   {
    "duration": 1084,
    "start_time": "2022-05-09T13:33:39.749Z"
   },
   {
    "duration": 100,
    "start_time": "2022-05-09T13:46:43.474Z"
   },
   {
    "duration": 8,
    "start_time": "2022-05-09T13:46:47.095Z"
   },
   {
    "duration": 3,
    "start_time": "2022-05-09T13:46:50.974Z"
   },
   {
    "duration": 2,
    "start_time": "2022-05-09T13:46:53.015Z"
   },
   {
    "duration": 2,
    "start_time": "2022-05-09T13:46:55.429Z"
   },
   {
    "duration": 3,
    "start_time": "2022-05-09T13:46:57.038Z"
   },
   {
    "duration": 3,
    "start_time": "2022-05-09T13:47:28.423Z"
   },
   {
    "duration": 5,
    "start_time": "2022-05-09T13:47:35.567Z"
   },
   {
    "duration": 3,
    "start_time": "2022-05-09T13:51:43.231Z"
   },
   {
    "duration": 2,
    "start_time": "2022-05-09T13:51:44.096Z"
   },
   {
    "duration": 2,
    "start_time": "2022-05-09T13:51:45.139Z"
   },
   {
    "duration": 3,
    "start_time": "2022-05-09T13:51:46.058Z"
   },
   {
    "duration": 1330,
    "start_time": "2022-05-09T13:52:37.544Z"
   },
   {
    "duration": 395,
    "start_time": "2022-05-09T13:52:38.875Z"
   },
   {
    "duration": 16,
    "start_time": "2022-05-09T13:52:39.272Z"
   },
   {
    "duration": 10,
    "start_time": "2022-05-09T13:52:39.291Z"
   },
   {
    "duration": 11,
    "start_time": "2022-05-09T13:52:39.303Z"
   },
   {
    "duration": 43,
    "start_time": "2022-05-09T13:52:39.316Z"
   },
   {
    "duration": 14,
    "start_time": "2022-05-09T13:52:39.361Z"
   },
   {
    "duration": 13,
    "start_time": "2022-05-09T13:52:39.377Z"
   },
   {
    "duration": 61,
    "start_time": "2022-05-09T13:52:39.392Z"
   },
   {
    "duration": 34,
    "start_time": "2022-05-09T13:52:39.456Z"
   },
   {
    "duration": 31,
    "start_time": "2022-05-09T13:52:39.492Z"
   },
   {
    "duration": 64,
    "start_time": "2022-05-09T13:52:39.525Z"
   },
   {
    "duration": 58,
    "start_time": "2022-05-09T13:52:39.591Z"
   },
   {
    "duration": 45,
    "start_time": "2022-05-09T13:52:39.651Z"
   },
   {
    "duration": 4,
    "start_time": "2022-05-09T13:52:39.698Z"
   },
   {
    "duration": 16,
    "start_time": "2022-05-09T13:52:39.703Z"
   },
   {
    "duration": 35,
    "start_time": "2022-05-09T13:52:39.720Z"
   },
   {
    "duration": 13,
    "start_time": "2022-05-09T13:52:39.756Z"
   },
   {
    "duration": 4,
    "start_time": "2022-05-09T13:52:39.770Z"
   },
   {
    "duration": 1676,
    "start_time": "2022-05-09T13:52:39.775Z"
   },
   {
    "duration": 1797,
    "start_time": "2022-05-09T13:52:41.453Z"
   },
   {
    "duration": 1799,
    "start_time": "2022-05-09T13:52:43.252Z"
   },
   {
    "duration": 95,
    "start_time": "2022-05-09T13:52:45.053Z"
   },
   {
    "duration": 14,
    "start_time": "2022-05-09T13:52:45.150Z"
   },
   {
    "duration": 93,
    "start_time": "2022-05-09T13:52:45.166Z"
   },
   {
    "duration": 9,
    "start_time": "2022-05-09T13:52:45.261Z"
   },
   {
    "duration": 12,
    "start_time": "2022-05-09T13:52:45.271Z"
   },
   {
    "duration": 7,
    "start_time": "2022-05-09T13:52:45.287Z"
   },
   {
    "duration": 12,
    "start_time": "2022-05-09T13:52:45.296Z"
   },
   {
    "duration": 40,
    "start_time": "2022-05-09T13:52:45.309Z"
   },
   {
    "duration": 1009,
    "start_time": "2022-05-09T13:52:45.351Z"
   },
   {
    "duration": 1021,
    "start_time": "2022-05-09T13:52:46.362Z"
   },
   {
    "duration": 941,
    "start_time": "2022-05-09T13:52:47.384Z"
   },
   {
    "duration": 2,
    "start_time": "2022-05-09T13:52:48.327Z"
   },
   {
    "duration": 8,
    "start_time": "2022-05-09T13:52:48.331Z"
   },
   {
    "duration": 7,
    "start_time": "2022-05-09T13:52:48.340Z"
   },
   {
    "duration": 3,
    "start_time": "2022-05-09T13:52:48.349Z"
   },
   {
    "duration": 6,
    "start_time": "2022-05-09T13:52:48.354Z"
   },
   {
    "duration": 8,
    "start_time": "2022-05-09T13:52:48.362Z"
   },
   {
    "duration": 7,
    "start_time": "2022-05-09T13:52:48.371Z"
   },
   {
    "duration": 5,
    "start_time": "2022-05-09T13:52:48.379Z"
   },
   {
    "duration": 19,
    "start_time": "2022-05-09T13:52:48.386Z"
   },
   {
    "duration": 1099,
    "start_time": "2022-05-09T13:52:48.406Z"
   },
   {
    "duration": 1083,
    "start_time": "2022-05-09T13:52:49.506Z"
   },
   {
    "duration": 1110,
    "start_time": "2022-05-09T13:52:50.591Z"
   },
   {
    "duration": 3,
    "start_time": "2022-05-09T13:54:00.352Z"
   },
   {
    "duration": 2,
    "start_time": "2022-05-09T13:54:11.242Z"
   },
   {
    "duration": 2,
    "start_time": "2022-05-09T13:55:36.680Z"
   },
   {
    "duration": 3,
    "start_time": "2022-05-09T13:56:47.088Z"
   },
   {
    "duration": 3,
    "start_time": "2022-05-09T13:56:50.000Z"
   },
   {
    "duration": 1368,
    "start_time": "2022-05-19T08:44:33.687Z"
   }
  ],
  "kernelspec": {
   "display_name": "Python 3 (ipykernel)",
   "language": "python",
   "name": "python3"
  },
  "language_info": {
   "codemirror_mode": {
    "name": "ipython",
    "version": 3
   },
   "file_extension": ".py",
   "mimetype": "text/x-python",
   "name": "python",
   "nbconvert_exporter": "python",
   "pygments_lexer": "ipython3",
   "version": "3.8.10"
  },
  "toc": {
   "base_numbering": 1,
   "nav_menu": {},
   "number_sections": true,
   "sideBar": true,
   "skip_h1_title": true,
   "title_cell": "Table of Contents",
   "title_sidebar": "Contents",
   "toc_cell": false,
   "toc_position": {},
   "toc_section_display": true,
   "toc_window_display": false
  }
 },
 "nbformat": 4,
 "nbformat_minor": 2
}
