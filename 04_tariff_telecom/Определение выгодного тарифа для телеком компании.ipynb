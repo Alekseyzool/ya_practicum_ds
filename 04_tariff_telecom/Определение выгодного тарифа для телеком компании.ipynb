{
 "cells": [
  {
   "cell_type": "markdown",
   "metadata": {},
   "source": [
    "## Описание проекта\n",
    "\n",
    "«Мегалайн» — федеральный оператор сотовой связи. Клиентам предлагают два тарифных плана: «Смарт» и «Ультра». Чтобы скорректировать рекламный бюджет, коммерческий департамент хочет понять, какой тариф приносит больше денег.\n",
    "Нам предстоит сделать предварительный анализ тарифов на небольшой выборке клиентов. В вашем распоряжении данные 500 пользователей «Мегалайна»: кто они, откуда, каким тарифом пользуются, сколько звонков и сообщений каждый отправил за 2018 год. Нужно проанализировать поведение клиентов и сделать вывод — какой тариф лучше.\n",
    "\n",
    "**Цель исследования** — проверьте две гипотезы:\n",
    "1. Средняя выручка пользователей тарифов «Ультра» и «Смарт» различаются.\n",
    "2. Средняя выручка пользователей из Москвы отличается от выручки пользователей из других регионов. \n",
    "\n",
    "\n",
    "**Ход исследования**\n",
    "Исследование пройдёт в пять этапов:\n",
    " 1. Описание проекта.\n",
    " 2. Предобработка данных.\n",
    " 3. Анализ данных.\n",
    " 4. Проверка гипотез.\n",
    " 5. Общий вывод."
   ]
  },
  {
   "cell_type": "markdown",
   "metadata": {},
   "source": [
    "Импортируем необходимые библиотеки и сохраним необходимые данные в таблицах"
   ]
  },
  {
   "cell_type": "code",
   "execution_count": 1,
   "metadata": {},
   "outputs": [],
   "source": [
    "# импорт библиотек Pandas и Matplotlib и Numpy, чтение файла с данными и сохранение в df \n",
    "import pandas as pd\n",
    "import matplotlib.pyplot as plt\n",
    "import numpy as np\n",
    "import seaborn as sns\n",
    "from scipy import stats as st\n",
    "import warnings\n",
    "warnings.filterwarnings(\"ignore\")\n",
    "\n",
    "calls_df = pd.read_csv('/datasets/calls.csv')\n",
    "internet_df = pd.read_csv('/datasets/internet.csv')\n",
    "messages_df = pd.read_csv('/datasets/messages.csv')\n",
    "tariffs_df = pd.read_csv('/datasets/tariffs.csv')\n",
    "users_df = pd.read_csv('/datasets/users.csv')"
   ]
  },
  {
   "cell_type": "markdown",
   "metadata": {},
   "source": [
    "Проверим информацию в таблицах"
   ]
  },
  {
   "cell_type": "code",
   "execution_count": 2,
   "metadata": {},
   "outputs": [
    {
     "data": {
      "text/html": [
       "<div>\n",
       "<style scoped>\n",
       "    .dataframe tbody tr th:only-of-type {\n",
       "        vertical-align: middle;\n",
       "    }\n",
       "\n",
       "    .dataframe tbody tr th {\n",
       "        vertical-align: top;\n",
       "    }\n",
       "\n",
       "    .dataframe thead th {\n",
       "        text-align: right;\n",
       "    }\n",
       "</style>\n",
       "<table border=\"1\" class=\"dataframe\">\n",
       "  <thead>\n",
       "    <tr style=\"text-align: right;\">\n",
       "      <th></th>\n",
       "      <th>id</th>\n",
       "      <th>call_date</th>\n",
       "      <th>duration</th>\n",
       "      <th>user_id</th>\n",
       "    </tr>\n",
       "  </thead>\n",
       "  <tbody>\n",
       "    <tr>\n",
       "      <th>0</th>\n",
       "      <td>1000_0</td>\n",
       "      <td>2018-07-25</td>\n",
       "      <td>0.00</td>\n",
       "      <td>1000</td>\n",
       "    </tr>\n",
       "    <tr>\n",
       "      <th>1</th>\n",
       "      <td>1000_1</td>\n",
       "      <td>2018-08-17</td>\n",
       "      <td>0.00</td>\n",
       "      <td>1000</td>\n",
       "    </tr>\n",
       "    <tr>\n",
       "      <th>2</th>\n",
       "      <td>1000_2</td>\n",
       "      <td>2018-06-11</td>\n",
       "      <td>2.85</td>\n",
       "      <td>1000</td>\n",
       "    </tr>\n",
       "    <tr>\n",
       "      <th>3</th>\n",
       "      <td>1000_3</td>\n",
       "      <td>2018-09-21</td>\n",
       "      <td>13.80</td>\n",
       "      <td>1000</td>\n",
       "    </tr>\n",
       "    <tr>\n",
       "      <th>4</th>\n",
       "      <td>1000_4</td>\n",
       "      <td>2018-12-15</td>\n",
       "      <td>5.18</td>\n",
       "      <td>1000</td>\n",
       "    </tr>\n",
       "    <tr>\n",
       "      <th>...</th>\n",
       "      <td>...</td>\n",
       "      <td>...</td>\n",
       "      <td>...</td>\n",
       "      <td>...</td>\n",
       "    </tr>\n",
       "    <tr>\n",
       "      <th>202602</th>\n",
       "      <td>1499_215</td>\n",
       "      <td>2018-12-26</td>\n",
       "      <td>0.76</td>\n",
       "      <td>1499</td>\n",
       "    </tr>\n",
       "    <tr>\n",
       "      <th>202603</th>\n",
       "      <td>1499_216</td>\n",
       "      <td>2018-10-18</td>\n",
       "      <td>18.83</td>\n",
       "      <td>1499</td>\n",
       "    </tr>\n",
       "    <tr>\n",
       "      <th>202604</th>\n",
       "      <td>1499_217</td>\n",
       "      <td>2018-11-10</td>\n",
       "      <td>10.81</td>\n",
       "      <td>1499</td>\n",
       "    </tr>\n",
       "    <tr>\n",
       "      <th>202605</th>\n",
       "      <td>1499_218</td>\n",
       "      <td>2018-10-06</td>\n",
       "      <td>4.27</td>\n",
       "      <td>1499</td>\n",
       "    </tr>\n",
       "    <tr>\n",
       "      <th>202606</th>\n",
       "      <td>1499_219</td>\n",
       "      <td>2018-12-14</td>\n",
       "      <td>19.62</td>\n",
       "      <td>1499</td>\n",
       "    </tr>\n",
       "  </tbody>\n",
       "</table>\n",
       "<p>202607 rows × 4 columns</p>\n",
       "</div>"
      ],
      "text/plain": [
       "              id   call_date  duration  user_id\n",
       "0         1000_0  2018-07-25      0.00     1000\n",
       "1         1000_1  2018-08-17      0.00     1000\n",
       "2         1000_2  2018-06-11      2.85     1000\n",
       "3         1000_3  2018-09-21     13.80     1000\n",
       "4         1000_4  2018-12-15      5.18     1000\n",
       "...          ...         ...       ...      ...\n",
       "202602  1499_215  2018-12-26      0.76     1499\n",
       "202603  1499_216  2018-10-18     18.83     1499\n",
       "202604  1499_217  2018-11-10     10.81     1499\n",
       "202605  1499_218  2018-10-06      4.27     1499\n",
       "202606  1499_219  2018-12-14     19.62     1499\n",
       "\n",
       "[202607 rows x 4 columns]"
      ]
     },
     "execution_count": 2,
     "metadata": {},
     "output_type": "execute_result"
    }
   ],
   "source": [
    "#посмотрим таблицу 'calls_df'\n",
    "calls_df"
   ]
  },
  {
   "cell_type": "code",
   "execution_count": 3,
   "metadata": {},
   "outputs": [
    {
     "name": "stdout",
     "output_type": "stream",
     "text": [
      "<class 'pandas.core.frame.DataFrame'>\n",
      "RangeIndex: 202607 entries, 0 to 202606\n",
      "Data columns (total 4 columns):\n",
      " #   Column     Non-Null Count   Dtype  \n",
      "---  ------     --------------   -----  \n",
      " 0   id         202607 non-null  object \n",
      " 1   call_date  202607 non-null  object \n",
      " 2   duration   202607 non-null  float64\n",
      " 3   user_id    202607 non-null  int64  \n",
      "dtypes: float64(1), int64(1), object(2)\n",
      "memory usage: 6.2+ MB\n"
     ]
    }
   ],
   "source": [
    "#посмотрим информацию о таблице 'calls_df'\n",
    "calls_df.info()"
   ]
  },
  {
   "cell_type": "markdown",
   "metadata": {},
   "source": [
    "Пропусков в столбцах таблицы `calls_df` не обнаружено, наименование столбцов соответствующее. \n",
    "У столбца `call_date` можно сменить тип данных со строки на тип даты и времени (datetime)"
   ]
  },
  {
   "cell_type": "code",
   "execution_count": 4,
   "metadata": {
    "scrolled": false
   },
   "outputs": [
    {
     "data": {
      "text/html": [
       "<div>\n",
       "<style scoped>\n",
       "    .dataframe tbody tr th:only-of-type {\n",
       "        vertical-align: middle;\n",
       "    }\n",
       "\n",
       "    .dataframe tbody tr th {\n",
       "        vertical-align: top;\n",
       "    }\n",
       "\n",
       "    .dataframe thead th {\n",
       "        text-align: right;\n",
       "    }\n",
       "</style>\n",
       "<table border=\"1\" class=\"dataframe\">\n",
       "  <thead>\n",
       "    <tr style=\"text-align: right;\">\n",
       "      <th></th>\n",
       "      <th>Unnamed: 0</th>\n",
       "      <th>id</th>\n",
       "      <th>mb_used</th>\n",
       "      <th>session_date</th>\n",
       "      <th>user_id</th>\n",
       "    </tr>\n",
       "  </thead>\n",
       "  <tbody>\n",
       "    <tr>\n",
       "      <th>0</th>\n",
       "      <td>0</td>\n",
       "      <td>1000_0</td>\n",
       "      <td>112.95</td>\n",
       "      <td>2018-11-25</td>\n",
       "      <td>1000</td>\n",
       "    </tr>\n",
       "    <tr>\n",
       "      <th>1</th>\n",
       "      <td>1</td>\n",
       "      <td>1000_1</td>\n",
       "      <td>1052.81</td>\n",
       "      <td>2018-09-07</td>\n",
       "      <td>1000</td>\n",
       "    </tr>\n",
       "    <tr>\n",
       "      <th>2</th>\n",
       "      <td>2</td>\n",
       "      <td>1000_2</td>\n",
       "      <td>1197.26</td>\n",
       "      <td>2018-06-25</td>\n",
       "      <td>1000</td>\n",
       "    </tr>\n",
       "    <tr>\n",
       "      <th>3</th>\n",
       "      <td>3</td>\n",
       "      <td>1000_3</td>\n",
       "      <td>550.27</td>\n",
       "      <td>2018-08-22</td>\n",
       "      <td>1000</td>\n",
       "    </tr>\n",
       "    <tr>\n",
       "      <th>4</th>\n",
       "      <td>4</td>\n",
       "      <td>1000_4</td>\n",
       "      <td>302.56</td>\n",
       "      <td>2018-09-24</td>\n",
       "      <td>1000</td>\n",
       "    </tr>\n",
       "    <tr>\n",
       "      <th>...</th>\n",
       "      <td>...</td>\n",
       "      <td>...</td>\n",
       "      <td>...</td>\n",
       "      <td>...</td>\n",
       "      <td>...</td>\n",
       "    </tr>\n",
       "    <tr>\n",
       "      <th>149391</th>\n",
       "      <td>149391</td>\n",
       "      <td>1499_152</td>\n",
       "      <td>318.90</td>\n",
       "      <td>2018-10-03</td>\n",
       "      <td>1499</td>\n",
       "    </tr>\n",
       "    <tr>\n",
       "      <th>149392</th>\n",
       "      <td>149392</td>\n",
       "      <td>1499_153</td>\n",
       "      <td>490.13</td>\n",
       "      <td>2018-12-14</td>\n",
       "      <td>1499</td>\n",
       "    </tr>\n",
       "    <tr>\n",
       "      <th>149393</th>\n",
       "      <td>149393</td>\n",
       "      <td>1499_154</td>\n",
       "      <td>0.00</td>\n",
       "      <td>2018-10-27</td>\n",
       "      <td>1499</td>\n",
       "    </tr>\n",
       "    <tr>\n",
       "      <th>149394</th>\n",
       "      <td>149394</td>\n",
       "      <td>1499_155</td>\n",
       "      <td>1246.32</td>\n",
       "      <td>2018-11-26</td>\n",
       "      <td>1499</td>\n",
       "    </tr>\n",
       "    <tr>\n",
       "      <th>149395</th>\n",
       "      <td>149395</td>\n",
       "      <td>1499_156</td>\n",
       "      <td>544.37</td>\n",
       "      <td>2018-10-26</td>\n",
       "      <td>1499</td>\n",
       "    </tr>\n",
       "  </tbody>\n",
       "</table>\n",
       "<p>149396 rows × 5 columns</p>\n",
       "</div>"
      ],
      "text/plain": [
       "        Unnamed: 0        id  mb_used session_date  user_id\n",
       "0                0    1000_0   112.95   2018-11-25     1000\n",
       "1                1    1000_1  1052.81   2018-09-07     1000\n",
       "2                2    1000_2  1197.26   2018-06-25     1000\n",
       "3                3    1000_3   550.27   2018-08-22     1000\n",
       "4                4    1000_4   302.56   2018-09-24     1000\n",
       "...            ...       ...      ...          ...      ...\n",
       "149391      149391  1499_152   318.90   2018-10-03     1499\n",
       "149392      149392  1499_153   490.13   2018-12-14     1499\n",
       "149393      149393  1499_154     0.00   2018-10-27     1499\n",
       "149394      149394  1499_155  1246.32   2018-11-26     1499\n",
       "149395      149395  1499_156   544.37   2018-10-26     1499\n",
       "\n",
       "[149396 rows x 5 columns]"
      ]
     },
     "execution_count": 4,
     "metadata": {},
     "output_type": "execute_result"
    }
   ],
   "source": [
    "#посмотрим таблицу 'internet_df'\n",
    "internet_df"
   ]
  },
  {
   "cell_type": "code",
   "execution_count": 5,
   "metadata": {},
   "outputs": [
    {
     "name": "stdout",
     "output_type": "stream",
     "text": [
      "<class 'pandas.core.frame.DataFrame'>\n",
      "RangeIndex: 149396 entries, 0 to 149395\n",
      "Data columns (total 5 columns):\n",
      " #   Column        Non-Null Count   Dtype  \n",
      "---  ------        --------------   -----  \n",
      " 0   Unnamed: 0    149396 non-null  int64  \n",
      " 1   id            149396 non-null  object \n",
      " 2   mb_used       149396 non-null  float64\n",
      " 3   session_date  149396 non-null  object \n",
      " 4   user_id       149396 non-null  int64  \n",
      "dtypes: float64(1), int64(2), object(2)\n",
      "memory usage: 5.7+ MB\n"
     ]
    }
   ],
   "source": [
    "#посмотрим информацию о таблице 'internet_df'\n",
    "internet_df.info()"
   ]
  },
  {
   "cell_type": "markdown",
   "metadata": {},
   "source": [
    "Пропусков в столбцах таблицы `internet_df` не обнаружено, наименование столбцов соответствующее. \n",
    "В таблице есть лишний столбец с повторяющейся индексацией `Unnamed: 0`, который лучше удалить.\n",
    "У столбца `session_date` можно сменить тип данных со строки на тип даты и времени (datetime)."
   ]
  },
  {
   "cell_type": "code",
   "execution_count": 6,
   "metadata": {},
   "outputs": [
    {
     "data": {
      "text/html": [
       "<div>\n",
       "<style scoped>\n",
       "    .dataframe tbody tr th:only-of-type {\n",
       "        vertical-align: middle;\n",
       "    }\n",
       "\n",
       "    .dataframe tbody tr th {\n",
       "        vertical-align: top;\n",
       "    }\n",
       "\n",
       "    .dataframe thead th {\n",
       "        text-align: right;\n",
       "    }\n",
       "</style>\n",
       "<table border=\"1\" class=\"dataframe\">\n",
       "  <thead>\n",
       "    <tr style=\"text-align: right;\">\n",
       "      <th></th>\n",
       "      <th>id</th>\n",
       "      <th>message_date</th>\n",
       "      <th>user_id</th>\n",
       "    </tr>\n",
       "  </thead>\n",
       "  <tbody>\n",
       "    <tr>\n",
       "      <th>0</th>\n",
       "      <td>1000_0</td>\n",
       "      <td>2018-06-27</td>\n",
       "      <td>1000</td>\n",
       "    </tr>\n",
       "    <tr>\n",
       "      <th>1</th>\n",
       "      <td>1000_1</td>\n",
       "      <td>2018-10-08</td>\n",
       "      <td>1000</td>\n",
       "    </tr>\n",
       "    <tr>\n",
       "      <th>2</th>\n",
       "      <td>1000_2</td>\n",
       "      <td>2018-08-04</td>\n",
       "      <td>1000</td>\n",
       "    </tr>\n",
       "    <tr>\n",
       "      <th>3</th>\n",
       "      <td>1000_3</td>\n",
       "      <td>2018-06-16</td>\n",
       "      <td>1000</td>\n",
       "    </tr>\n",
       "    <tr>\n",
       "      <th>4</th>\n",
       "      <td>1000_4</td>\n",
       "      <td>2018-12-05</td>\n",
       "      <td>1000</td>\n",
       "    </tr>\n",
       "    <tr>\n",
       "      <th>...</th>\n",
       "      <td>...</td>\n",
       "      <td>...</td>\n",
       "      <td>...</td>\n",
       "    </tr>\n",
       "    <tr>\n",
       "      <th>123031</th>\n",
       "      <td>1499_179</td>\n",
       "      <td>2018-12-12</td>\n",
       "      <td>1499</td>\n",
       "    </tr>\n",
       "    <tr>\n",
       "      <th>123032</th>\n",
       "      <td>1499_180</td>\n",
       "      <td>2018-09-28</td>\n",
       "      <td>1499</td>\n",
       "    </tr>\n",
       "    <tr>\n",
       "      <th>123033</th>\n",
       "      <td>1499_181</td>\n",
       "      <td>2018-09-27</td>\n",
       "      <td>1499</td>\n",
       "    </tr>\n",
       "    <tr>\n",
       "      <th>123034</th>\n",
       "      <td>1499_182</td>\n",
       "      <td>2018-11-15</td>\n",
       "      <td>1499</td>\n",
       "    </tr>\n",
       "    <tr>\n",
       "      <th>123035</th>\n",
       "      <td>1499_183</td>\n",
       "      <td>2018-11-16</td>\n",
       "      <td>1499</td>\n",
       "    </tr>\n",
       "  </tbody>\n",
       "</table>\n",
       "<p>123036 rows × 3 columns</p>\n",
       "</div>"
      ],
      "text/plain": [
       "              id message_date  user_id\n",
       "0         1000_0   2018-06-27     1000\n",
       "1         1000_1   2018-10-08     1000\n",
       "2         1000_2   2018-08-04     1000\n",
       "3         1000_3   2018-06-16     1000\n",
       "4         1000_4   2018-12-05     1000\n",
       "...          ...          ...      ...\n",
       "123031  1499_179   2018-12-12     1499\n",
       "123032  1499_180   2018-09-28     1499\n",
       "123033  1499_181   2018-09-27     1499\n",
       "123034  1499_182   2018-11-15     1499\n",
       "123035  1499_183   2018-11-16     1499\n",
       "\n",
       "[123036 rows x 3 columns]"
      ]
     },
     "execution_count": 6,
     "metadata": {},
     "output_type": "execute_result"
    }
   ],
   "source": [
    "#посмотрим таблицу 'messages_df'\n",
    "messages_df"
   ]
  },
  {
   "cell_type": "code",
   "execution_count": 7,
   "metadata": {},
   "outputs": [
    {
     "name": "stdout",
     "output_type": "stream",
     "text": [
      "<class 'pandas.core.frame.DataFrame'>\n",
      "RangeIndex: 123036 entries, 0 to 123035\n",
      "Data columns (total 3 columns):\n",
      " #   Column        Non-Null Count   Dtype \n",
      "---  ------        --------------   ----- \n",
      " 0   id            123036 non-null  object\n",
      " 1   message_date  123036 non-null  object\n",
      " 2   user_id       123036 non-null  int64 \n",
      "dtypes: int64(1), object(2)\n",
      "memory usage: 2.8+ MB\n"
     ]
    }
   ],
   "source": [
    "#посмотрим информацию о таблице 'messages_df'\n",
    "messages_df.info()"
   ]
  },
  {
   "cell_type": "markdown",
   "metadata": {},
   "source": [
    "Пропусков в столбцах таблицы `messages_df` не обнаружено, наименование столбцов соответствующее. \n",
    "У столбца `message_date` можно сменить тип данных со строки на тип даты и времени (datetime)"
   ]
  },
  {
   "cell_type": "code",
   "execution_count": 8,
   "metadata": {},
   "outputs": [
    {
     "data": {
      "text/html": [
       "<div>\n",
       "<style scoped>\n",
       "    .dataframe tbody tr th:only-of-type {\n",
       "        vertical-align: middle;\n",
       "    }\n",
       "\n",
       "    .dataframe tbody tr th {\n",
       "        vertical-align: top;\n",
       "    }\n",
       "\n",
       "    .dataframe thead th {\n",
       "        text-align: right;\n",
       "    }\n",
       "</style>\n",
       "<table border=\"1\" class=\"dataframe\">\n",
       "  <thead>\n",
       "    <tr style=\"text-align: right;\">\n",
       "      <th></th>\n",
       "      <th>messages_included</th>\n",
       "      <th>mb_per_month_included</th>\n",
       "      <th>minutes_included</th>\n",
       "      <th>rub_monthly_fee</th>\n",
       "      <th>rub_per_gb</th>\n",
       "      <th>rub_per_message</th>\n",
       "      <th>rub_per_minute</th>\n",
       "      <th>tariff_name</th>\n",
       "    </tr>\n",
       "  </thead>\n",
       "  <tbody>\n",
       "    <tr>\n",
       "      <th>0</th>\n",
       "      <td>50</td>\n",
       "      <td>15360</td>\n",
       "      <td>500</td>\n",
       "      <td>550</td>\n",
       "      <td>200</td>\n",
       "      <td>3</td>\n",
       "      <td>3</td>\n",
       "      <td>smart</td>\n",
       "    </tr>\n",
       "    <tr>\n",
       "      <th>1</th>\n",
       "      <td>1000</td>\n",
       "      <td>30720</td>\n",
       "      <td>3000</td>\n",
       "      <td>1950</td>\n",
       "      <td>150</td>\n",
       "      <td>1</td>\n",
       "      <td>1</td>\n",
       "      <td>ultra</td>\n",
       "    </tr>\n",
       "  </tbody>\n",
       "</table>\n",
       "</div>"
      ],
      "text/plain": [
       "   messages_included  mb_per_month_included  minutes_included  \\\n",
       "0                 50                  15360               500   \n",
       "1               1000                  30720              3000   \n",
       "\n",
       "   rub_monthly_fee  rub_per_gb  rub_per_message  rub_per_minute tariff_name  \n",
       "0              550         200                3               3       smart  \n",
       "1             1950         150                1               1       ultra  "
      ]
     },
     "execution_count": 8,
     "metadata": {},
     "output_type": "execute_result"
    }
   ],
   "source": [
    "#посмотрим таблицу 'tariffs_df'\n",
    "tariffs_df"
   ]
  },
  {
   "cell_type": "code",
   "execution_count": 9,
   "metadata": {},
   "outputs": [
    {
     "name": "stdout",
     "output_type": "stream",
     "text": [
      "<class 'pandas.core.frame.DataFrame'>\n",
      "RangeIndex: 2 entries, 0 to 1\n",
      "Data columns (total 8 columns):\n",
      " #   Column                 Non-Null Count  Dtype \n",
      "---  ------                 --------------  ----- \n",
      " 0   messages_included      2 non-null      int64 \n",
      " 1   mb_per_month_included  2 non-null      int64 \n",
      " 2   minutes_included       2 non-null      int64 \n",
      " 3   rub_monthly_fee        2 non-null      int64 \n",
      " 4   rub_per_gb             2 non-null      int64 \n",
      " 5   rub_per_message        2 non-null      int64 \n",
      " 6   rub_per_minute         2 non-null      int64 \n",
      " 7   tariff_name            2 non-null      object\n",
      "dtypes: int64(7), object(1)\n",
      "memory usage: 256.0+ bytes\n"
     ]
    }
   ],
   "source": [
    "#посмотрим информацию о таблице 'tariffs_df'\n",
    "tariffs_df.info()"
   ]
  },
  {
   "cell_type": "markdown",
   "metadata": {},
   "source": [
    "С таблицей `tariffs_df` на первый взгляд все впорядке "
   ]
  },
  {
   "cell_type": "code",
   "execution_count": 10,
   "metadata": {},
   "outputs": [
    {
     "data": {
      "text/html": [
       "<div>\n",
       "<style scoped>\n",
       "    .dataframe tbody tr th:only-of-type {\n",
       "        vertical-align: middle;\n",
       "    }\n",
       "\n",
       "    .dataframe tbody tr th {\n",
       "        vertical-align: top;\n",
       "    }\n",
       "\n",
       "    .dataframe thead th {\n",
       "        text-align: right;\n",
       "    }\n",
       "</style>\n",
       "<table border=\"1\" class=\"dataframe\">\n",
       "  <thead>\n",
       "    <tr style=\"text-align: right;\">\n",
       "      <th></th>\n",
       "      <th>user_id</th>\n",
       "      <th>age</th>\n",
       "      <th>churn_date</th>\n",
       "      <th>city</th>\n",
       "      <th>first_name</th>\n",
       "      <th>last_name</th>\n",
       "      <th>reg_date</th>\n",
       "      <th>tariff</th>\n",
       "    </tr>\n",
       "  </thead>\n",
       "  <tbody>\n",
       "    <tr>\n",
       "      <th>0</th>\n",
       "      <td>1000</td>\n",
       "      <td>52</td>\n",
       "      <td>NaN</td>\n",
       "      <td>Краснодар</td>\n",
       "      <td>Рафаил</td>\n",
       "      <td>Верещагин</td>\n",
       "      <td>2018-05-25</td>\n",
       "      <td>ultra</td>\n",
       "    </tr>\n",
       "    <tr>\n",
       "      <th>1</th>\n",
       "      <td>1001</td>\n",
       "      <td>41</td>\n",
       "      <td>NaN</td>\n",
       "      <td>Москва</td>\n",
       "      <td>Иван</td>\n",
       "      <td>Ежов</td>\n",
       "      <td>2018-11-01</td>\n",
       "      <td>smart</td>\n",
       "    </tr>\n",
       "    <tr>\n",
       "      <th>2</th>\n",
       "      <td>1002</td>\n",
       "      <td>59</td>\n",
       "      <td>NaN</td>\n",
       "      <td>Стерлитамак</td>\n",
       "      <td>Евгений</td>\n",
       "      <td>Абрамович</td>\n",
       "      <td>2018-06-17</td>\n",
       "      <td>smart</td>\n",
       "    </tr>\n",
       "    <tr>\n",
       "      <th>3</th>\n",
       "      <td>1003</td>\n",
       "      <td>23</td>\n",
       "      <td>NaN</td>\n",
       "      <td>Москва</td>\n",
       "      <td>Белла</td>\n",
       "      <td>Белякова</td>\n",
       "      <td>2018-08-17</td>\n",
       "      <td>ultra</td>\n",
       "    </tr>\n",
       "    <tr>\n",
       "      <th>4</th>\n",
       "      <td>1004</td>\n",
       "      <td>68</td>\n",
       "      <td>NaN</td>\n",
       "      <td>Новокузнецк</td>\n",
       "      <td>Татьяна</td>\n",
       "      <td>Авдеенко</td>\n",
       "      <td>2018-05-14</td>\n",
       "      <td>ultra</td>\n",
       "    </tr>\n",
       "    <tr>\n",
       "      <th>...</th>\n",
       "      <td>...</td>\n",
       "      <td>...</td>\n",
       "      <td>...</td>\n",
       "      <td>...</td>\n",
       "      <td>...</td>\n",
       "      <td>...</td>\n",
       "      <td>...</td>\n",
       "      <td>...</td>\n",
       "    </tr>\n",
       "    <tr>\n",
       "      <th>495</th>\n",
       "      <td>1495</td>\n",
       "      <td>65</td>\n",
       "      <td>NaN</td>\n",
       "      <td>Иркутск</td>\n",
       "      <td>Авксентий</td>\n",
       "      <td>Фокин</td>\n",
       "      <td>2018-08-28</td>\n",
       "      <td>ultra</td>\n",
       "    </tr>\n",
       "    <tr>\n",
       "      <th>496</th>\n",
       "      <td>1496</td>\n",
       "      <td>36</td>\n",
       "      <td>NaN</td>\n",
       "      <td>Вологда</td>\n",
       "      <td>Трифон</td>\n",
       "      <td>Блохин</td>\n",
       "      <td>2018-01-27</td>\n",
       "      <td>smart</td>\n",
       "    </tr>\n",
       "    <tr>\n",
       "      <th>497</th>\n",
       "      <td>1497</td>\n",
       "      <td>32</td>\n",
       "      <td>NaN</td>\n",
       "      <td>Челябинск</td>\n",
       "      <td>Каролина</td>\n",
       "      <td>Агеева</td>\n",
       "      <td>2018-10-09</td>\n",
       "      <td>smart</td>\n",
       "    </tr>\n",
       "    <tr>\n",
       "      <th>498</th>\n",
       "      <td>1498</td>\n",
       "      <td>68</td>\n",
       "      <td>2018-10-25</td>\n",
       "      <td>Владикавказ</td>\n",
       "      <td>Всеволод</td>\n",
       "      <td>Акимчин</td>\n",
       "      <td>2018-07-19</td>\n",
       "      <td>smart</td>\n",
       "    </tr>\n",
       "    <tr>\n",
       "      <th>499</th>\n",
       "      <td>1499</td>\n",
       "      <td>35</td>\n",
       "      <td>NaN</td>\n",
       "      <td>Пермь</td>\n",
       "      <td>Гектор</td>\n",
       "      <td>Корнилов</td>\n",
       "      <td>2018-09-27</td>\n",
       "      <td>smart</td>\n",
       "    </tr>\n",
       "  </tbody>\n",
       "</table>\n",
       "<p>500 rows × 8 columns</p>\n",
       "</div>"
      ],
      "text/plain": [
       "     user_id  age  churn_date         city first_name  last_name    reg_date  \\\n",
       "0       1000   52         NaN    Краснодар     Рафаил  Верещагин  2018-05-25   \n",
       "1       1001   41         NaN       Москва       Иван       Ежов  2018-11-01   \n",
       "2       1002   59         NaN  Стерлитамак    Евгений  Абрамович  2018-06-17   \n",
       "3       1003   23         NaN       Москва      Белла   Белякова  2018-08-17   \n",
       "4       1004   68         NaN  Новокузнецк    Татьяна   Авдеенко  2018-05-14   \n",
       "..       ...  ...         ...          ...        ...        ...         ...   \n",
       "495     1495   65         NaN      Иркутск  Авксентий      Фокин  2018-08-28   \n",
       "496     1496   36         NaN      Вологда     Трифон     Блохин  2018-01-27   \n",
       "497     1497   32         NaN    Челябинск   Каролина     Агеева  2018-10-09   \n",
       "498     1498   68  2018-10-25  Владикавказ   Всеволод    Акимчин  2018-07-19   \n",
       "499     1499   35         NaN        Пермь     Гектор   Корнилов  2018-09-27   \n",
       "\n",
       "    tariff  \n",
       "0    ultra  \n",
       "1    smart  \n",
       "2    smart  \n",
       "3    ultra  \n",
       "4    ultra  \n",
       "..     ...  \n",
       "495  ultra  \n",
       "496  smart  \n",
       "497  smart  \n",
       "498  smart  \n",
       "499  smart  \n",
       "\n",
       "[500 rows x 8 columns]"
      ]
     },
     "execution_count": 10,
     "metadata": {},
     "output_type": "execute_result"
    }
   ],
   "source": [
    "#посмотрим таблицу 'users_df'\n",
    "users_df"
   ]
  },
  {
   "cell_type": "code",
   "execution_count": 11,
   "metadata": {},
   "outputs": [
    {
     "name": "stdout",
     "output_type": "stream",
     "text": [
      "<class 'pandas.core.frame.DataFrame'>\n",
      "RangeIndex: 500 entries, 0 to 499\n",
      "Data columns (total 8 columns):\n",
      " #   Column      Non-Null Count  Dtype \n",
      "---  ------      --------------  ----- \n",
      " 0   user_id     500 non-null    int64 \n",
      " 1   age         500 non-null    int64 \n",
      " 2   churn_date  38 non-null     object\n",
      " 3   city        500 non-null    object\n",
      " 4   first_name  500 non-null    object\n",
      " 5   last_name   500 non-null    object\n",
      " 6   reg_date    500 non-null    object\n",
      " 7   tariff      500 non-null    object\n",
      "dtypes: int64(2), object(6)\n",
      "memory usage: 31.4+ KB\n"
     ]
    }
   ],
   "source": [
    "#посмотрим информацию о таблице 'users_df'\n",
    "users_df.info()"
   ]
  },
  {
   "cell_type": "markdown",
   "metadata": {},
   "source": [
    "Пропуски в таблице `users_df` обнаружены только в столбце `churn_date` -  дата прекращения пользования тарифом, это означает, что тариф еще действовал на момент выгрузки данных. Наименование столбцов соответствующее. \n",
    "У столбца `reg_date` можно сменить тип данных со строки на тип даты и времени (datetime)."
   ]
  },
  {
   "cell_type": "markdown",
   "metadata": {},
   "source": [
    "### Описание данных\n",
    "Таблица **users_df** (информация о пользователях):<br>\n",
    "`user_id` — уникальный идентификатор пользователя<br>\n",
    "`first_name` — имя пользователя<br>\n",
    "`last_name` — фамилия пользователя<br>\n",
    "`age` — возраст пользователя (годы)<br>\n",
    "`reg_date` — дата подключения тарифа (день, месяц, год)<br>\n",
    "`churn_date` — дата прекращения пользования тарифом (если значение пропущено, то тариф ещё действовал на момент выгрузки данных)<br>\n",
    "`city` — город проживания пользователя<br>\n",
    "`tarif` — название тарифного плана<br>\n",
    "Таблица **calls_df** (информация о звонках):<br>\n",
    "`id` — уникальный номер звонка<br>\n",
    "`call_date` — дата звонка<br>\n",
    "`duration` — длительность звонка в минутах<br>\n",
    "`user_id` — идентификатор пользователя, сделавшего звонок<br>\n",
    "Таблица **messages_df** (информация о сообщениях):<br>\n",
    "`id` — уникальный номер сообщения<br>\n",
    "`message_date` — дата сообщения<br>\n",
    "`user_id` — идентификатор пользователя, отправившего сообщение<br>\n",
    "Таблица **internet_df** (информация об интернет-сессиях):<br>\n",
    "`id` — уникальный номер сессии<br>\n",
    "`mb_used` — объём потраченного за сессию интернет-трафика (в мегабайтах)<br>\n",
    "`session_date` — дата интернет-сессии<br>\n",
    "`user_id` — идентификатор пользователя<br>\n",
    "Таблица **tariffs_df** (информация о тарифах):<br>\n",
    "`tariff_name` — название тарифа<br>\n",
    "`rub_monthly_fee` — ежемесячная абонентская плата в рублях<br>\n",
    "`minutes_included` — количество минут разговора в месяц, включённых в абонентскую плату<br>\n",
    "`messages_included` — количество сообщений в месяц, включённых в абонентскую плату<br>\n",
    "`mb_per_month_included` — объём интернет-трафика, включённого в абонентскую плату (в мегабайтах)<br>\n",
    "`rub_per_minute` — стоимость минуты разговора сверх тарифного пакета (например, если в тарифе 100 минут разговора в месяц, то со 101 минуты будет взиматься плата)<br>\n",
    "`rub_per_message` — стоимость отправки сообщения сверх тарифного пакета<br>\n",
    "`rub_per_gb` — стоимость дополнительного гигабайта интернет-трафика сверх тарифного пакета (1 гигабайт = 1024 мегабайта)"
   ]
  },
  {
   "cell_type": "markdown",
   "metadata": {},
   "source": [
    " ### Вывод\n",
    "\n",
    "Данные содержатся в пяти таблицах `users_df`, `calls_df`, `messages_df`, `internet_df`, `tariffs_df`.\n",
    "\n",
    "Пропуски обнаружены только в таблице `users_df` в столбце `churn_date` -  дата прекращения пользования тарифом это означает, что тариф еще действовал на момент выгрузки данных. У столбца `reg_date`  таблицы `users_df` можно сменить тип данных со строки на тип даты и времени (datetime).\n",
    "\n",
    "В таблице `calls_df` - у столбца `call_date` можно сменить тип данных со строки на тип даты и времени (datetime)\n",
    "\n",
    "В таблице`internet_df` есть лишний столбец с повторяющейся индексацией `Unnamed: 0`, который лучше удалить, а у столбца `session_date` можно сменить тип данных со строки на тип даты и времени (datetime).\n",
    "\n",
    "В таблице `messages_df` - у столбца `message_date` можно сменить тип данных со строки на тип даты и времени (datetime)\n",
    "\n",
    "Наименование всех столбцов соответствующее. "
   ]
  },
  {
   "cell_type": "markdown",
   "metadata": {},
   "source": [
    "## Предобработка данных"
   ]
  },
  {
   "cell_type": "markdown",
   "metadata": {},
   "source": [
    "### Исправление ошибок в данных"
   ]
  },
  {
   "cell_type": "markdown",
   "metadata": {},
   "source": [
    "Исправим строчный тип данных с датой на тип datetime"
   ]
  },
  {
   "cell_type": "code",
   "execution_count": 12,
   "metadata": {},
   "outputs": [],
   "source": [
    "#создадим функцию для перевода типа данных из строки в datetime\n",
    "def todate (row):\n",
    "    return pd.to_datetime(row, format='%Y-%m-%d')"
   ]
  },
  {
   "cell_type": "code",
   "execution_count": 13,
   "metadata": {},
   "outputs": [],
   "source": [
    "#изменим тип данных столбца 'call_date'\n",
    "calls_df['call_date'] = calls_df['call_date'].apply(todate)"
   ]
  },
  {
   "cell_type": "code",
   "execution_count": 14,
   "metadata": {},
   "outputs": [],
   "source": [
    "#изменим тип данных столбца 'reg_date'\n",
    "users_df['reg_date'] = users_df['reg_date'].apply(todate)"
   ]
  },
  {
   "cell_type": "code",
   "execution_count": 15,
   "metadata": {},
   "outputs": [],
   "source": [
    "#изменим тип данных столбца 'session_date'\n",
    "internet_df['session_date'] = internet_df['session_date'].apply(todate)"
   ]
  },
  {
   "cell_type": "code",
   "execution_count": 16,
   "metadata": {},
   "outputs": [],
   "source": [
    "#изменим тип данных столбца 'message_date'\n",
    "messages_df['message_date'] = messages_df['message_date'].apply(todate)"
   ]
  },
  {
   "cell_type": "markdown",
   "metadata": {},
   "source": [
    "Удалим лишний столбец `Unnamed: 0` в таблице `internet_df`"
   ]
  },
  {
   "cell_type": "code",
   "execution_count": 17,
   "metadata": {},
   "outputs": [],
   "source": [
    "#удалим лишний столбец 'Unnamed: 0'\n",
    "internet_df = internet_df.drop(columns = ['Unnamed: 0'],axis = 1)"
   ]
  },
  {
   "cell_type": "markdown",
   "metadata": {},
   "source": [
    "Округлим в большую сторону время звонка т.к. в тарифах идет округление до минут"
   ]
  },
  {
   "cell_type": "code",
   "execution_count": 18,
   "metadata": {},
   "outputs": [
    {
     "data": {
      "text/plain": [
       "0          0\n",
       "1          0\n",
       "2          3\n",
       "3         14\n",
       "4          6\n",
       "          ..\n",
       "202602     1\n",
       "202603    19\n",
       "202604    11\n",
       "202605     5\n",
       "202606    20\n",
       "Name: duration, Length: 202607, dtype: int64"
      ]
     },
     "execution_count": 18,
     "metadata": {},
     "output_type": "execute_result"
    }
   ],
   "source": [
    "#округлим в большую сторону значения столбца 'duration', с помощью numpy\n",
    "calls_df['duration'] = np.ceil(calls_df['duration']).astype(int)\n",
    "calls_df['duration']"
   ]
  },
  {
   "cell_type": "markdown",
   "metadata": {},
   "source": [
    "### Расчёты и добавления результатов"
   ]
  },
  {
   "cell_type": "markdown",
   "metadata": {},
   "source": [
    "####  Расчёт количества сделанных звонков и израсходованных минут разговора по месяцам"
   ]
  },
  {
   "cell_type": "markdown",
   "metadata": {},
   "source": [
    "Создадим столбец `month` с месяцами в таблице `calls_df`"
   ]
  },
  {
   "cell_type": "code",
   "execution_count": 19,
   "metadata": {
    "scrolled": true
   },
   "outputs": [],
   "source": [
    "#cоздадаём столбец 'month' с месяцами в таблице calls_df\n",
    "calls_df['month'] = calls_df['call_date'].dt.month"
   ]
  },
  {
   "cell_type": "markdown",
   "metadata": {},
   "source": [
    "Посчитаем количество сделанных звонков (с учетом пропущенных звонков) и израсходованных минут разговора по месяцам для каждого пользователя"
   ]
  },
  {
   "cell_type": "code",
   "execution_count": 20,
   "metadata": {},
   "outputs": [
    {
     "data": {
      "text/html": [
       "<div>\n",
       "<style scoped>\n",
       "    .dataframe tbody tr th:only-of-type {\n",
       "        vertical-align: middle;\n",
       "    }\n",
       "\n",
       "    .dataframe tbody tr th {\n",
       "        vertical-align: top;\n",
       "    }\n",
       "\n",
       "    .dataframe thead tr th {\n",
       "        text-align: left;\n",
       "    }\n",
       "\n",
       "    .dataframe thead tr:last-of-type th {\n",
       "        text-align: right;\n",
       "    }\n",
       "</style>\n",
       "<table border=\"1\" class=\"dataframe\">\n",
       "  <thead>\n",
       "    <tr>\n",
       "      <th></th>\n",
       "      <th></th>\n",
       "      <th>count</th>\n",
       "      <th>sum</th>\n",
       "    </tr>\n",
       "    <tr>\n",
       "      <th></th>\n",
       "      <th></th>\n",
       "      <th>duration</th>\n",
       "      <th>duration</th>\n",
       "    </tr>\n",
       "    <tr>\n",
       "      <th>user_id</th>\n",
       "      <th>month</th>\n",
       "      <th></th>\n",
       "      <th></th>\n",
       "    </tr>\n",
       "  </thead>\n",
       "  <tbody>\n",
       "    <tr>\n",
       "      <th rowspan=\"5\" valign=\"top\">1000</th>\n",
       "      <th>5</th>\n",
       "      <td>22</td>\n",
       "      <td>159</td>\n",
       "    </tr>\n",
       "    <tr>\n",
       "      <th>6</th>\n",
       "      <td>43</td>\n",
       "      <td>172</td>\n",
       "    </tr>\n",
       "    <tr>\n",
       "      <th>7</th>\n",
       "      <td>47</td>\n",
       "      <td>340</td>\n",
       "    </tr>\n",
       "    <tr>\n",
       "      <th>8</th>\n",
       "      <td>52</td>\n",
       "      <td>408</td>\n",
       "    </tr>\n",
       "    <tr>\n",
       "      <th>9</th>\n",
       "      <td>58</td>\n",
       "      <td>466</td>\n",
       "    </tr>\n",
       "    <tr>\n",
       "      <th>...</th>\n",
       "      <th>...</th>\n",
       "      <td>...</td>\n",
       "      <td>...</td>\n",
       "    </tr>\n",
       "    <tr>\n",
       "      <th>1498</th>\n",
       "      <th>10</th>\n",
       "      <td>41</td>\n",
       "      <td>247</td>\n",
       "    </tr>\n",
       "    <tr>\n",
       "      <th rowspan=\"4\" valign=\"top\">1499</th>\n",
       "      <th>9</th>\n",
       "      <td>9</td>\n",
       "      <td>70</td>\n",
       "    </tr>\n",
       "    <tr>\n",
       "      <th>10</th>\n",
       "      <td>68</td>\n",
       "      <td>449</td>\n",
       "    </tr>\n",
       "    <tr>\n",
       "      <th>11</th>\n",
       "      <td>74</td>\n",
       "      <td>612</td>\n",
       "    </tr>\n",
       "    <tr>\n",
       "      <th>12</th>\n",
       "      <td>69</td>\n",
       "      <td>492</td>\n",
       "    </tr>\n",
       "  </tbody>\n",
       "</table>\n",
       "<p>3174 rows × 2 columns</p>\n",
       "</div>"
      ],
      "text/plain": [
       "                 count      sum\n",
       "              duration duration\n",
       "user_id month                  \n",
       "1000    5           22      159\n",
       "        6           43      172\n",
       "        7           47      340\n",
       "        8           52      408\n",
       "        9           58      466\n",
       "...                ...      ...\n",
       "1498    10          41      247\n",
       "1499    9            9       70\n",
       "        10          68      449\n",
       "        11          74      612\n",
       "        12          69      492\n",
       "\n",
       "[3174 rows x 2 columns]"
      ]
     },
     "execution_count": 20,
     "metadata": {},
     "output_type": "execute_result"
    }
   ],
   "source": [
    "#посчитаем количество звонков для каждого пользователя в месяц\n",
    "count_calls = calls_df.pivot_table(index=['user_id','month'], values='duration', aggfunc = ['count', 'sum'])\n",
    "count_calls"
   ]
  },
  {
   "cell_type": "markdown",
   "metadata": {},
   "source": [
    "По количеству строк таблицы видно, что в ней 492 пользователя, тогда как в таблице уникальных пользователей `users_df` - 500 уникальных пользователей. Для 8 пользователей нет данных по совершенным звонкам."
   ]
  },
  {
   "cell_type": "markdown",
   "metadata": {},
   "source": [
    "#### Расчёт количества отправленных сообщений по месяцам"
   ]
  },
  {
   "cell_type": "markdown",
   "metadata": {},
   "source": [
    "Создадим столбец `month` с месяцами в таблице `messages_df`"
   ]
  },
  {
   "cell_type": "code",
   "execution_count": 21,
   "metadata": {},
   "outputs": [
    {
     "data": {
      "text/html": [
       "<div>\n",
       "<style scoped>\n",
       "    .dataframe tbody tr th:only-of-type {\n",
       "        vertical-align: middle;\n",
       "    }\n",
       "\n",
       "    .dataframe tbody tr th {\n",
       "        vertical-align: top;\n",
       "    }\n",
       "\n",
       "    .dataframe thead th {\n",
       "        text-align: right;\n",
       "    }\n",
       "</style>\n",
       "<table border=\"1\" class=\"dataframe\">\n",
       "  <thead>\n",
       "    <tr style=\"text-align: right;\">\n",
       "      <th></th>\n",
       "      <th>number_messages</th>\n",
       "      <th>message_date</th>\n",
       "      <th>user_id</th>\n",
       "      <th>month</th>\n",
       "    </tr>\n",
       "  </thead>\n",
       "  <tbody>\n",
       "    <tr>\n",
       "      <th>0</th>\n",
       "      <td>1000_0</td>\n",
       "      <td>2018-06-27</td>\n",
       "      <td>1000</td>\n",
       "      <td>6</td>\n",
       "    </tr>\n",
       "    <tr>\n",
       "      <th>1</th>\n",
       "      <td>1000_1</td>\n",
       "      <td>2018-10-08</td>\n",
       "      <td>1000</td>\n",
       "      <td>10</td>\n",
       "    </tr>\n",
       "    <tr>\n",
       "      <th>2</th>\n",
       "      <td>1000_2</td>\n",
       "      <td>2018-08-04</td>\n",
       "      <td>1000</td>\n",
       "      <td>8</td>\n",
       "    </tr>\n",
       "    <tr>\n",
       "      <th>3</th>\n",
       "      <td>1000_3</td>\n",
       "      <td>2018-06-16</td>\n",
       "      <td>1000</td>\n",
       "      <td>6</td>\n",
       "    </tr>\n",
       "    <tr>\n",
       "      <th>4</th>\n",
       "      <td>1000_4</td>\n",
       "      <td>2018-12-05</td>\n",
       "      <td>1000</td>\n",
       "      <td>12</td>\n",
       "    </tr>\n",
       "    <tr>\n",
       "      <th>...</th>\n",
       "      <td>...</td>\n",
       "      <td>...</td>\n",
       "      <td>...</td>\n",
       "      <td>...</td>\n",
       "    </tr>\n",
       "    <tr>\n",
       "      <th>123031</th>\n",
       "      <td>1499_179</td>\n",
       "      <td>2018-12-12</td>\n",
       "      <td>1499</td>\n",
       "      <td>12</td>\n",
       "    </tr>\n",
       "    <tr>\n",
       "      <th>123032</th>\n",
       "      <td>1499_180</td>\n",
       "      <td>2018-09-28</td>\n",
       "      <td>1499</td>\n",
       "      <td>9</td>\n",
       "    </tr>\n",
       "    <tr>\n",
       "      <th>123033</th>\n",
       "      <td>1499_181</td>\n",
       "      <td>2018-09-27</td>\n",
       "      <td>1499</td>\n",
       "      <td>9</td>\n",
       "    </tr>\n",
       "    <tr>\n",
       "      <th>123034</th>\n",
       "      <td>1499_182</td>\n",
       "      <td>2018-11-15</td>\n",
       "      <td>1499</td>\n",
       "      <td>11</td>\n",
       "    </tr>\n",
       "    <tr>\n",
       "      <th>123035</th>\n",
       "      <td>1499_183</td>\n",
       "      <td>2018-11-16</td>\n",
       "      <td>1499</td>\n",
       "      <td>11</td>\n",
       "    </tr>\n",
       "  </tbody>\n",
       "</table>\n",
       "<p>123036 rows × 4 columns</p>\n",
       "</div>"
      ],
      "text/plain": [
       "       number_messages message_date  user_id  month\n",
       "0               1000_0   2018-06-27     1000      6\n",
       "1               1000_1   2018-10-08     1000     10\n",
       "2               1000_2   2018-08-04     1000      8\n",
       "3               1000_3   2018-06-16     1000      6\n",
       "4               1000_4   2018-12-05     1000     12\n",
       "...                ...          ...      ...    ...\n",
       "123031        1499_179   2018-12-12     1499     12\n",
       "123032        1499_180   2018-09-28     1499      9\n",
       "123033        1499_181   2018-09-27     1499      9\n",
       "123034        1499_182   2018-11-15     1499     11\n",
       "123035        1499_183   2018-11-16     1499     11\n",
       "\n",
       "[123036 rows x 4 columns]"
      ]
     },
     "execution_count": 21,
     "metadata": {},
     "output_type": "execute_result"
    }
   ],
   "source": [
    "#cоздадаём столбец 'month' с месяцами в таблице messages_df\n",
    "messages_df['month'] = messages_df['message_date'].dt.month\n",
    "#переименуем столбец 'id' в 'number_messages'\n",
    "messages_df = messages_df.rename(columns={'id':'number_messages'})\n",
    "messages_df"
   ]
  },
  {
   "cell_type": "markdown",
   "metadata": {},
   "source": [
    "Посчитаем количество отправленных сообщений по месяцам"
   ]
  },
  {
   "cell_type": "code",
   "execution_count": 22,
   "metadata": {
    "scrolled": true
   },
   "outputs": [
    {
     "data": {
      "text/html": [
       "<div>\n",
       "<style scoped>\n",
       "    .dataframe tbody tr th:only-of-type {\n",
       "        vertical-align: middle;\n",
       "    }\n",
       "\n",
       "    .dataframe tbody tr th {\n",
       "        vertical-align: top;\n",
       "    }\n",
       "\n",
       "    .dataframe thead th {\n",
       "        text-align: right;\n",
       "    }\n",
       "</style>\n",
       "<table border=\"1\" class=\"dataframe\">\n",
       "  <thead>\n",
       "    <tr style=\"text-align: right;\">\n",
       "      <th></th>\n",
       "      <th></th>\n",
       "      <th>number_messages</th>\n",
       "    </tr>\n",
       "    <tr>\n",
       "      <th>user_id</th>\n",
       "      <th>month</th>\n",
       "      <th></th>\n",
       "    </tr>\n",
       "  </thead>\n",
       "  <tbody>\n",
       "    <tr>\n",
       "      <th rowspan=\"5\" valign=\"top\">1000</th>\n",
       "      <th>5</th>\n",
       "      <td>22</td>\n",
       "    </tr>\n",
       "    <tr>\n",
       "      <th>6</th>\n",
       "      <td>60</td>\n",
       "    </tr>\n",
       "    <tr>\n",
       "      <th>7</th>\n",
       "      <td>75</td>\n",
       "    </tr>\n",
       "    <tr>\n",
       "      <th>8</th>\n",
       "      <td>81</td>\n",
       "    </tr>\n",
       "    <tr>\n",
       "      <th>9</th>\n",
       "      <td>57</td>\n",
       "    </tr>\n",
       "    <tr>\n",
       "      <th>...</th>\n",
       "      <th>...</th>\n",
       "      <td>...</td>\n",
       "    </tr>\n",
       "    <tr>\n",
       "      <th>1498</th>\n",
       "      <th>10</th>\n",
       "      <td>42</td>\n",
       "    </tr>\n",
       "    <tr>\n",
       "      <th rowspan=\"4\" valign=\"top\">1499</th>\n",
       "      <th>9</th>\n",
       "      <td>11</td>\n",
       "    </tr>\n",
       "    <tr>\n",
       "      <th>10</th>\n",
       "      <td>48</td>\n",
       "    </tr>\n",
       "    <tr>\n",
       "      <th>11</th>\n",
       "      <td>59</td>\n",
       "    </tr>\n",
       "    <tr>\n",
       "      <th>12</th>\n",
       "      <td>66</td>\n",
       "    </tr>\n",
       "  </tbody>\n",
       "</table>\n",
       "<p>2717 rows × 1 columns</p>\n",
       "</div>"
      ],
      "text/plain": [
       "               number_messages\n",
       "user_id month                 \n",
       "1000    5                   22\n",
       "        6                   60\n",
       "        7                   75\n",
       "        8                   81\n",
       "        9                   57\n",
       "...                        ...\n",
       "1498    10                  42\n",
       "1499    9                   11\n",
       "        10                  48\n",
       "        11                  59\n",
       "        12                  66\n",
       "\n",
       "[2717 rows x 1 columns]"
      ]
     },
     "execution_count": 22,
     "metadata": {},
     "output_type": "execute_result"
    }
   ],
   "source": [
    "#считаем количество отправленных сообщений по месяцам\n",
    "messages_sent = messages_df.pivot_table(index=['user_id','month'], values='number_messages', aggfunc = 'count')\n",
    "messages_sent"
   ]
  },
  {
   "cell_type": "markdown",
   "metadata": {},
   "source": [
    "По количеству строк таблицы видно, что в ней 426 пользователя, тогда как в таблице уникальных пользователей `users_df` - 500 уникальных пользователей. Для 74 пользователей нет данных по отправленным сообщениям."
   ]
  },
  {
   "cell_type": "markdown",
   "metadata": {},
   "source": [
    "#### Расчёт объема израсходованного интернет-трафика по месяцам"
   ]
  },
  {
   "cell_type": "markdown",
   "metadata": {},
   "source": [
    "Создадим столбец `month` с месяцами в таблице `internet_df`"
   ]
  },
  {
   "cell_type": "code",
   "execution_count": 23,
   "metadata": {},
   "outputs": [
    {
     "data": {
      "text/html": [
       "<div>\n",
       "<style scoped>\n",
       "    .dataframe tbody tr th:only-of-type {\n",
       "        vertical-align: middle;\n",
       "    }\n",
       "\n",
       "    .dataframe tbody tr th {\n",
       "        vertical-align: top;\n",
       "    }\n",
       "\n",
       "    .dataframe thead th {\n",
       "        text-align: right;\n",
       "    }\n",
       "</style>\n",
       "<table border=\"1\" class=\"dataframe\">\n",
       "  <thead>\n",
       "    <tr style=\"text-align: right;\">\n",
       "      <th></th>\n",
       "      <th>id</th>\n",
       "      <th>mb_used</th>\n",
       "      <th>session_date</th>\n",
       "      <th>user_id</th>\n",
       "      <th>month</th>\n",
       "    </tr>\n",
       "  </thead>\n",
       "  <tbody>\n",
       "    <tr>\n",
       "      <th>0</th>\n",
       "      <td>1000_0</td>\n",
       "      <td>112.95</td>\n",
       "      <td>2018-11-25</td>\n",
       "      <td>1000</td>\n",
       "      <td>11</td>\n",
       "    </tr>\n",
       "    <tr>\n",
       "      <th>1</th>\n",
       "      <td>1000_1</td>\n",
       "      <td>1052.81</td>\n",
       "      <td>2018-09-07</td>\n",
       "      <td>1000</td>\n",
       "      <td>9</td>\n",
       "    </tr>\n",
       "    <tr>\n",
       "      <th>2</th>\n",
       "      <td>1000_2</td>\n",
       "      <td>1197.26</td>\n",
       "      <td>2018-06-25</td>\n",
       "      <td>1000</td>\n",
       "      <td>6</td>\n",
       "    </tr>\n",
       "    <tr>\n",
       "      <th>3</th>\n",
       "      <td>1000_3</td>\n",
       "      <td>550.27</td>\n",
       "      <td>2018-08-22</td>\n",
       "      <td>1000</td>\n",
       "      <td>8</td>\n",
       "    </tr>\n",
       "    <tr>\n",
       "      <th>4</th>\n",
       "      <td>1000_4</td>\n",
       "      <td>302.56</td>\n",
       "      <td>2018-09-24</td>\n",
       "      <td>1000</td>\n",
       "      <td>9</td>\n",
       "    </tr>\n",
       "    <tr>\n",
       "      <th>...</th>\n",
       "      <td>...</td>\n",
       "      <td>...</td>\n",
       "      <td>...</td>\n",
       "      <td>...</td>\n",
       "      <td>...</td>\n",
       "    </tr>\n",
       "    <tr>\n",
       "      <th>149391</th>\n",
       "      <td>1499_152</td>\n",
       "      <td>318.90</td>\n",
       "      <td>2018-10-03</td>\n",
       "      <td>1499</td>\n",
       "      <td>10</td>\n",
       "    </tr>\n",
       "    <tr>\n",
       "      <th>149392</th>\n",
       "      <td>1499_153</td>\n",
       "      <td>490.13</td>\n",
       "      <td>2018-12-14</td>\n",
       "      <td>1499</td>\n",
       "      <td>12</td>\n",
       "    </tr>\n",
       "    <tr>\n",
       "      <th>149393</th>\n",
       "      <td>1499_154</td>\n",
       "      <td>0.00</td>\n",
       "      <td>2018-10-27</td>\n",
       "      <td>1499</td>\n",
       "      <td>10</td>\n",
       "    </tr>\n",
       "    <tr>\n",
       "      <th>149394</th>\n",
       "      <td>1499_155</td>\n",
       "      <td>1246.32</td>\n",
       "      <td>2018-11-26</td>\n",
       "      <td>1499</td>\n",
       "      <td>11</td>\n",
       "    </tr>\n",
       "    <tr>\n",
       "      <th>149395</th>\n",
       "      <td>1499_156</td>\n",
       "      <td>544.37</td>\n",
       "      <td>2018-10-26</td>\n",
       "      <td>1499</td>\n",
       "      <td>10</td>\n",
       "    </tr>\n",
       "  </tbody>\n",
       "</table>\n",
       "<p>149396 rows × 5 columns</p>\n",
       "</div>"
      ],
      "text/plain": [
       "              id  mb_used session_date  user_id  month\n",
       "0         1000_0   112.95   2018-11-25     1000     11\n",
       "1         1000_1  1052.81   2018-09-07     1000      9\n",
       "2         1000_2  1197.26   2018-06-25     1000      6\n",
       "3         1000_3   550.27   2018-08-22     1000      8\n",
       "4         1000_4   302.56   2018-09-24     1000      9\n",
       "...          ...      ...          ...      ...    ...\n",
       "149391  1499_152   318.90   2018-10-03     1499     10\n",
       "149392  1499_153   490.13   2018-12-14     1499     12\n",
       "149393  1499_154     0.00   2018-10-27     1499     10\n",
       "149394  1499_155  1246.32   2018-11-26     1499     11\n",
       "149395  1499_156   544.37   2018-10-26     1499     10\n",
       "\n",
       "[149396 rows x 5 columns]"
      ]
     },
     "execution_count": 23,
     "metadata": {},
     "output_type": "execute_result"
    }
   ],
   "source": [
    "#cоздадаём столбец 'month' с месяцами в таблице internet_df\n",
    "internet_df['month'] = internet_df['session_date'].dt.month\n",
    "internet_df"
   ]
  },
  {
   "cell_type": "markdown",
   "metadata": {},
   "source": [
    "Посчитаем объем израсходованного интернет-трафика по месяцам"
   ]
  },
  {
   "cell_type": "code",
   "execution_count": 24,
   "metadata": {
    "scrolled": true
   },
   "outputs": [
    {
     "data": {
      "text/html": [
       "<div>\n",
       "<style scoped>\n",
       "    .dataframe tbody tr th:only-of-type {\n",
       "        vertical-align: middle;\n",
       "    }\n",
       "\n",
       "    .dataframe tbody tr th {\n",
       "        vertical-align: top;\n",
       "    }\n",
       "\n",
       "    .dataframe thead th {\n",
       "        text-align: right;\n",
       "    }\n",
       "</style>\n",
       "<table border=\"1\" class=\"dataframe\">\n",
       "  <thead>\n",
       "    <tr style=\"text-align: right;\">\n",
       "      <th></th>\n",
       "      <th></th>\n",
       "      <th>mb_used</th>\n",
       "    </tr>\n",
       "    <tr>\n",
       "      <th>user_id</th>\n",
       "      <th>month</th>\n",
       "      <th></th>\n",
       "    </tr>\n",
       "  </thead>\n",
       "  <tbody>\n",
       "    <tr>\n",
       "      <th rowspan=\"5\" valign=\"top\">1000</th>\n",
       "      <th>5</th>\n",
       "      <td>2253.49</td>\n",
       "    </tr>\n",
       "    <tr>\n",
       "      <th>6</th>\n",
       "      <td>23233.77</td>\n",
       "    </tr>\n",
       "    <tr>\n",
       "      <th>7</th>\n",
       "      <td>14003.64</td>\n",
       "    </tr>\n",
       "    <tr>\n",
       "      <th>8</th>\n",
       "      <td>14055.93</td>\n",
       "    </tr>\n",
       "    <tr>\n",
       "      <th>9</th>\n",
       "      <td>14568.91</td>\n",
       "    </tr>\n",
       "    <tr>\n",
       "      <th>...</th>\n",
       "      <th>...</th>\n",
       "      <td>...</td>\n",
       "    </tr>\n",
       "    <tr>\n",
       "      <th>1498</th>\n",
       "      <th>10</th>\n",
       "      <td>20579.36</td>\n",
       "    </tr>\n",
       "    <tr>\n",
       "      <th rowspan=\"4\" valign=\"top\">1499</th>\n",
       "      <th>9</th>\n",
       "      <td>1845.75</td>\n",
       "    </tr>\n",
       "    <tr>\n",
       "      <th>10</th>\n",
       "      <td>17788.51</td>\n",
       "    </tr>\n",
       "    <tr>\n",
       "      <th>11</th>\n",
       "      <td>17963.31</td>\n",
       "    </tr>\n",
       "    <tr>\n",
       "      <th>12</th>\n",
       "      <td>13055.58</td>\n",
       "    </tr>\n",
       "  </tbody>\n",
       "</table>\n",
       "<p>3203 rows × 1 columns</p>\n",
       "</div>"
      ],
      "text/plain": [
       "                mb_used\n",
       "user_id month          \n",
       "1000    5       2253.49\n",
       "        6      23233.77\n",
       "        7      14003.64\n",
       "        8      14055.93\n",
       "        9      14568.91\n",
       "...                 ...\n",
       "1498    10     20579.36\n",
       "1499    9       1845.75\n",
       "        10     17788.51\n",
       "        11     17963.31\n",
       "        12     13055.58\n",
       "\n",
       "[3203 rows x 1 columns]"
      ]
     },
     "execution_count": 24,
     "metadata": {},
     "output_type": "execute_result"
    }
   ],
   "source": [
    "#считаем объем израсходованного интернет-трафика по месяцам\n",
    "internet_traffic = internet_df.pivot_table(index=['user_id','month'], values='mb_used', aggfunc = 'sum')\n",
    "internet_traffic"
   ]
  },
  {
   "cell_type": "markdown",
   "metadata": {},
   "source": [
    "По количеству строк таблицы видно, что в ней 497 пользователя, тогда как в таблице уникальных пользователей `users_df` - 500 уникальных пользователей. Для 3 пользователей нет данных о использовании интернета."
   ]
  },
  {
   "cell_type": "markdown",
   "metadata": {},
   "source": [
    "#### Расчёт помесячной выручку с каждого пользователя"
   ]
  },
  {
   "cell_type": "markdown",
   "metadata": {},
   "source": [
    "Объединим все сводные таблицы в одну для дальнейшего расчета помесячной выручки с каждого пользователя"
   ]
  },
  {
   "cell_type": "code",
   "execution_count": 25,
   "metadata": {},
   "outputs": [
    {
     "data": {
      "text/html": [
       "<div>\n",
       "<style scoped>\n",
       "    .dataframe tbody tr th:only-of-type {\n",
       "        vertical-align: middle;\n",
       "    }\n",
       "\n",
       "    .dataframe tbody tr th {\n",
       "        vertical-align: top;\n",
       "    }\n",
       "\n",
       "    .dataframe thead th {\n",
       "        text-align: right;\n",
       "    }\n",
       "</style>\n",
       "<table border=\"1\" class=\"dataframe\">\n",
       "  <thead>\n",
       "    <tr style=\"text-align: right;\">\n",
       "      <th></th>\n",
       "      <th>user_id</th>\n",
       "      <th>month</th>\n",
       "      <th>number_calls</th>\n",
       "      <th>duration_calls</th>\n",
       "      <th>number_messages</th>\n",
       "      <th>mb_used</th>\n",
       "      <th>age</th>\n",
       "      <th>churn_date</th>\n",
       "      <th>city</th>\n",
       "      <th>first_name</th>\n",
       "      <th>last_name</th>\n",
       "      <th>reg_date</th>\n",
       "      <th>tariff</th>\n",
       "    </tr>\n",
       "  </thead>\n",
       "  <tbody>\n",
       "    <tr>\n",
       "      <th>0</th>\n",
       "      <td>1000</td>\n",
       "      <td>5</td>\n",
       "      <td>22.0</td>\n",
       "      <td>159.0</td>\n",
       "      <td>22.0</td>\n",
       "      <td>2253.49</td>\n",
       "      <td>52</td>\n",
       "      <td>NaN</td>\n",
       "      <td>Краснодар</td>\n",
       "      <td>Рафаил</td>\n",
       "      <td>Верещагин</td>\n",
       "      <td>2018-05-25</td>\n",
       "      <td>ultra</td>\n",
       "    </tr>\n",
       "    <tr>\n",
       "      <th>1</th>\n",
       "      <td>1000</td>\n",
       "      <td>6</td>\n",
       "      <td>43.0</td>\n",
       "      <td>172.0</td>\n",
       "      <td>60.0</td>\n",
       "      <td>23233.77</td>\n",
       "      <td>52</td>\n",
       "      <td>NaN</td>\n",
       "      <td>Краснодар</td>\n",
       "      <td>Рафаил</td>\n",
       "      <td>Верещагин</td>\n",
       "      <td>2018-05-25</td>\n",
       "      <td>ultra</td>\n",
       "    </tr>\n",
       "    <tr>\n",
       "      <th>2</th>\n",
       "      <td>1000</td>\n",
       "      <td>7</td>\n",
       "      <td>47.0</td>\n",
       "      <td>340.0</td>\n",
       "      <td>75.0</td>\n",
       "      <td>14003.64</td>\n",
       "      <td>52</td>\n",
       "      <td>NaN</td>\n",
       "      <td>Краснодар</td>\n",
       "      <td>Рафаил</td>\n",
       "      <td>Верещагин</td>\n",
       "      <td>2018-05-25</td>\n",
       "      <td>ultra</td>\n",
       "    </tr>\n",
       "    <tr>\n",
       "      <th>3</th>\n",
       "      <td>1000</td>\n",
       "      <td>8</td>\n",
       "      <td>52.0</td>\n",
       "      <td>408.0</td>\n",
       "      <td>81.0</td>\n",
       "      <td>14055.93</td>\n",
       "      <td>52</td>\n",
       "      <td>NaN</td>\n",
       "      <td>Краснодар</td>\n",
       "      <td>Рафаил</td>\n",
       "      <td>Верещагин</td>\n",
       "      <td>2018-05-25</td>\n",
       "      <td>ultra</td>\n",
       "    </tr>\n",
       "    <tr>\n",
       "      <th>4</th>\n",
       "      <td>1000</td>\n",
       "      <td>9</td>\n",
       "      <td>58.0</td>\n",
       "      <td>466.0</td>\n",
       "      <td>57.0</td>\n",
       "      <td>14568.91</td>\n",
       "      <td>52</td>\n",
       "      <td>NaN</td>\n",
       "      <td>Краснодар</td>\n",
       "      <td>Рафаил</td>\n",
       "      <td>Верещагин</td>\n",
       "      <td>2018-05-25</td>\n",
       "      <td>ultra</td>\n",
       "    </tr>\n",
       "    <tr>\n",
       "      <th>...</th>\n",
       "      <td>...</td>\n",
       "      <td>...</td>\n",
       "      <td>...</td>\n",
       "      <td>...</td>\n",
       "      <td>...</td>\n",
       "      <td>...</td>\n",
       "      <td>...</td>\n",
       "      <td>...</td>\n",
       "      <td>...</td>\n",
       "      <td>...</td>\n",
       "      <td>...</td>\n",
       "      <td>...</td>\n",
       "      <td>...</td>\n",
       "    </tr>\n",
       "    <tr>\n",
       "      <th>3209</th>\n",
       "      <td>1489</td>\n",
       "      <td>8</td>\n",
       "      <td>NaN</td>\n",
       "      <td>NaN</td>\n",
       "      <td>17.0</td>\n",
       "      <td>11050.56</td>\n",
       "      <td>35</td>\n",
       "      <td>NaN</td>\n",
       "      <td>Санкт-Петербург</td>\n",
       "      <td>Павел</td>\n",
       "      <td>Гончаров</td>\n",
       "      <td>2018-08-15</td>\n",
       "      <td>smart</td>\n",
       "    </tr>\n",
       "    <tr>\n",
       "      <th>3210</th>\n",
       "      <td>1489</td>\n",
       "      <td>9</td>\n",
       "      <td>NaN</td>\n",
       "      <td>NaN</td>\n",
       "      <td>32.0</td>\n",
       "      <td>17206.30</td>\n",
       "      <td>35</td>\n",
       "      <td>NaN</td>\n",
       "      <td>Санкт-Петербург</td>\n",
       "      <td>Павел</td>\n",
       "      <td>Гончаров</td>\n",
       "      <td>2018-08-15</td>\n",
       "      <td>smart</td>\n",
       "    </tr>\n",
       "    <tr>\n",
       "      <th>3211</th>\n",
       "      <td>1489</td>\n",
       "      <td>10</td>\n",
       "      <td>NaN</td>\n",
       "      <td>NaN</td>\n",
       "      <td>21.0</td>\n",
       "      <td>19559.44</td>\n",
       "      <td>35</td>\n",
       "      <td>NaN</td>\n",
       "      <td>Санкт-Петербург</td>\n",
       "      <td>Павел</td>\n",
       "      <td>Гончаров</td>\n",
       "      <td>2018-08-15</td>\n",
       "      <td>smart</td>\n",
       "    </tr>\n",
       "    <tr>\n",
       "      <th>3212</th>\n",
       "      <td>1489</td>\n",
       "      <td>11</td>\n",
       "      <td>NaN</td>\n",
       "      <td>NaN</td>\n",
       "      <td>20.0</td>\n",
       "      <td>17491.56</td>\n",
       "      <td>35</td>\n",
       "      <td>NaN</td>\n",
       "      <td>Санкт-Петербург</td>\n",
       "      <td>Павел</td>\n",
       "      <td>Гончаров</td>\n",
       "      <td>2018-08-15</td>\n",
       "      <td>smart</td>\n",
       "    </tr>\n",
       "    <tr>\n",
       "      <th>3213</th>\n",
       "      <td>1489</td>\n",
       "      <td>12</td>\n",
       "      <td>NaN</td>\n",
       "      <td>NaN</td>\n",
       "      <td>35.0</td>\n",
       "      <td>17322.51</td>\n",
       "      <td>35</td>\n",
       "      <td>NaN</td>\n",
       "      <td>Санкт-Петербург</td>\n",
       "      <td>Павел</td>\n",
       "      <td>Гончаров</td>\n",
       "      <td>2018-08-15</td>\n",
       "      <td>smart</td>\n",
       "    </tr>\n",
       "  </tbody>\n",
       "</table>\n",
       "<p>3214 rows × 13 columns</p>\n",
       "</div>"
      ],
      "text/plain": [
       "      user_id  month  number_calls  duration_calls  number_messages   mb_used  \\\n",
       "0        1000      5          22.0           159.0             22.0   2253.49   \n",
       "1        1000      6          43.0           172.0             60.0  23233.77   \n",
       "2        1000      7          47.0           340.0             75.0  14003.64   \n",
       "3        1000      8          52.0           408.0             81.0  14055.93   \n",
       "4        1000      9          58.0           466.0             57.0  14568.91   \n",
       "...       ...    ...           ...             ...              ...       ...   \n",
       "3209     1489      8           NaN             NaN             17.0  11050.56   \n",
       "3210     1489      9           NaN             NaN             32.0  17206.30   \n",
       "3211     1489     10           NaN             NaN             21.0  19559.44   \n",
       "3212     1489     11           NaN             NaN             20.0  17491.56   \n",
       "3213     1489     12           NaN             NaN             35.0  17322.51   \n",
       "\n",
       "      age churn_date             city first_name  last_name   reg_date tariff  \n",
       "0      52        NaN        Краснодар     Рафаил  Верещагин 2018-05-25  ultra  \n",
       "1      52        NaN        Краснодар     Рафаил  Верещагин 2018-05-25  ultra  \n",
       "2      52        NaN        Краснодар     Рафаил  Верещагин 2018-05-25  ultra  \n",
       "3      52        NaN        Краснодар     Рафаил  Верещагин 2018-05-25  ultra  \n",
       "4      52        NaN        Краснодар     Рафаил  Верещагин 2018-05-25  ultra  \n",
       "...   ...        ...              ...        ...        ...        ...    ...  \n",
       "3209   35        NaN  Санкт-Петербург      Павел   Гончаров 2018-08-15  smart  \n",
       "3210   35        NaN  Санкт-Петербург      Павел   Гончаров 2018-08-15  smart  \n",
       "3211   35        NaN  Санкт-Петербург      Павел   Гончаров 2018-08-15  smart  \n",
       "3212   35        NaN  Санкт-Петербург      Павел   Гончаров 2018-08-15  smart  \n",
       "3213   35        NaN  Санкт-Петербург      Павел   Гончаров 2018-08-15  smart  \n",
       "\n",
       "[3214 rows x 13 columns]"
      ]
     },
     "execution_count": 25,
     "metadata": {},
     "output_type": "execute_result"
    }
   ],
   "source": [
    "#объединяем таблицы 'count_calls' и 'messages_sent' по столбцам 'user_id' и 'month'\n",
    "df = count_calls.merge(messages_sent, on=['user_id', 'month'], how='outer')\n",
    "#добавляем таблицу 'internet_traffic'\n",
    "df = df.merge(internet_traffic, on=['user_id', 'month'], how='outer')\n",
    "#сбрасываем индексы\n",
    "df = df.reset_index()\n",
    "#добавляем таблицу 'users_df' по столбцу user_id'\n",
    "df = df.merge(users_df, on=['user_id'])\n",
    "#переименовываем столбцы\n",
    "df.columns = ['user_id', 'month', 'number_calls', 'duration_calls',   'number_messages',  'mb_used',  'age',   'churn_date',  'city', 'first_name', 'last_name', 'reg_date', 'tariff']\n",
    "df"
   ]
  },
  {
   "cell_type": "markdown",
   "metadata": {},
   "source": [
    "Так как не в каждый месяц, каждым пользователем совершались звонки, отправлялись сообщения или использовался интернет, то в таблице появились пропуски. Заменим данные пропуски на нули."
   ]
  },
  {
   "cell_type": "code",
   "execution_count": 26,
   "metadata": {},
   "outputs": [],
   "source": [
    "#заменяем пропуски нулями\n",
    "df = df.fillna(0)"
   ]
  },
  {
   "cell_type": "markdown",
   "metadata": {},
   "source": [
    "Выделим пользователей с тарифом `ultra` в отдельную таблицу `df_ultra`"
   ]
  },
  {
   "cell_type": "code",
   "execution_count": 27,
   "metadata": {
    "scrolled": false
   },
   "outputs": [
    {
     "data": {
      "text/html": [
       "<div>\n",
       "<style scoped>\n",
       "    .dataframe tbody tr th:only-of-type {\n",
       "        vertical-align: middle;\n",
       "    }\n",
       "\n",
       "    .dataframe tbody tr th {\n",
       "        vertical-align: top;\n",
       "    }\n",
       "\n",
       "    .dataframe thead th {\n",
       "        text-align: right;\n",
       "    }\n",
       "</style>\n",
       "<table border=\"1\" class=\"dataframe\">\n",
       "  <thead>\n",
       "    <tr style=\"text-align: right;\">\n",
       "      <th></th>\n",
       "      <th>user_id</th>\n",
       "      <th>month</th>\n",
       "      <th>number_calls</th>\n",
       "      <th>duration_calls</th>\n",
       "      <th>number_messages</th>\n",
       "      <th>mb_used</th>\n",
       "      <th>age</th>\n",
       "      <th>churn_date</th>\n",
       "      <th>city</th>\n",
       "      <th>first_name</th>\n",
       "      <th>last_name</th>\n",
       "      <th>reg_date</th>\n",
       "      <th>tariff</th>\n",
       "    </tr>\n",
       "  </thead>\n",
       "  <tbody>\n",
       "    <tr>\n",
       "      <th>0</th>\n",
       "      <td>1000</td>\n",
       "      <td>5</td>\n",
       "      <td>22.0</td>\n",
       "      <td>159.0</td>\n",
       "      <td>22.0</td>\n",
       "      <td>2253.49</td>\n",
       "      <td>52</td>\n",
       "      <td>0</td>\n",
       "      <td>Краснодар</td>\n",
       "      <td>Рафаил</td>\n",
       "      <td>Верещагин</td>\n",
       "      <td>2018-05-25</td>\n",
       "      <td>ultra</td>\n",
       "    </tr>\n",
       "    <tr>\n",
       "      <th>1</th>\n",
       "      <td>1000</td>\n",
       "      <td>6</td>\n",
       "      <td>43.0</td>\n",
       "      <td>172.0</td>\n",
       "      <td>60.0</td>\n",
       "      <td>23233.77</td>\n",
       "      <td>52</td>\n",
       "      <td>0</td>\n",
       "      <td>Краснодар</td>\n",
       "      <td>Рафаил</td>\n",
       "      <td>Верещагин</td>\n",
       "      <td>2018-05-25</td>\n",
       "      <td>ultra</td>\n",
       "    </tr>\n",
       "    <tr>\n",
       "      <th>2</th>\n",
       "      <td>1000</td>\n",
       "      <td>7</td>\n",
       "      <td>47.0</td>\n",
       "      <td>340.0</td>\n",
       "      <td>75.0</td>\n",
       "      <td>14003.64</td>\n",
       "      <td>52</td>\n",
       "      <td>0</td>\n",
       "      <td>Краснодар</td>\n",
       "      <td>Рафаил</td>\n",
       "      <td>Верещагин</td>\n",
       "      <td>2018-05-25</td>\n",
       "      <td>ultra</td>\n",
       "    </tr>\n",
       "    <tr>\n",
       "      <th>3</th>\n",
       "      <td>1000</td>\n",
       "      <td>8</td>\n",
       "      <td>52.0</td>\n",
       "      <td>408.0</td>\n",
       "      <td>81.0</td>\n",
       "      <td>14055.93</td>\n",
       "      <td>52</td>\n",
       "      <td>0</td>\n",
       "      <td>Краснодар</td>\n",
       "      <td>Рафаил</td>\n",
       "      <td>Верещагин</td>\n",
       "      <td>2018-05-25</td>\n",
       "      <td>ultra</td>\n",
       "    </tr>\n",
       "    <tr>\n",
       "      <th>4</th>\n",
       "      <td>1000</td>\n",
       "      <td>9</td>\n",
       "      <td>58.0</td>\n",
       "      <td>466.0</td>\n",
       "      <td>57.0</td>\n",
       "      <td>14568.91</td>\n",
       "      <td>52</td>\n",
       "      <td>0</td>\n",
       "      <td>Краснодар</td>\n",
       "      <td>Рафаил</td>\n",
       "      <td>Верещагин</td>\n",
       "      <td>2018-05-25</td>\n",
       "      <td>ultra</td>\n",
       "    </tr>\n",
       "    <tr>\n",
       "      <th>...</th>\n",
       "      <td>...</td>\n",
       "      <td>...</td>\n",
       "      <td>...</td>\n",
       "      <td>...</td>\n",
       "      <td>...</td>\n",
       "      <td>...</td>\n",
       "      <td>...</td>\n",
       "      <td>...</td>\n",
       "      <td>...</td>\n",
       "      <td>...</td>\n",
       "      <td>...</td>\n",
       "      <td>...</td>\n",
       "      <td>...</td>\n",
       "    </tr>\n",
       "    <tr>\n",
       "      <th>3204</th>\n",
       "      <td>1473</td>\n",
       "      <td>8</td>\n",
       "      <td>0.0</td>\n",
       "      <td>0.0</td>\n",
       "      <td>17.0</td>\n",
       "      <td>12905.40</td>\n",
       "      <td>18</td>\n",
       "      <td>0</td>\n",
       "      <td>Красноярск</td>\n",
       "      <td>Николай</td>\n",
       "      <td>Лебедев</td>\n",
       "      <td>2018-08-05</td>\n",
       "      <td>ultra</td>\n",
       "    </tr>\n",
       "    <tr>\n",
       "      <th>3205</th>\n",
       "      <td>1473</td>\n",
       "      <td>9</td>\n",
       "      <td>0.0</td>\n",
       "      <td>0.0</td>\n",
       "      <td>19.0</td>\n",
       "      <td>17289.85</td>\n",
       "      <td>18</td>\n",
       "      <td>0</td>\n",
       "      <td>Красноярск</td>\n",
       "      <td>Николай</td>\n",
       "      <td>Лебедев</td>\n",
       "      <td>2018-08-05</td>\n",
       "      <td>ultra</td>\n",
       "    </tr>\n",
       "    <tr>\n",
       "      <th>3206</th>\n",
       "      <td>1473</td>\n",
       "      <td>10</td>\n",
       "      <td>0.0</td>\n",
       "      <td>0.0</td>\n",
       "      <td>20.0</td>\n",
       "      <td>13688.65</td>\n",
       "      <td>18</td>\n",
       "      <td>0</td>\n",
       "      <td>Красноярск</td>\n",
       "      <td>Николай</td>\n",
       "      <td>Лебедев</td>\n",
       "      <td>2018-08-05</td>\n",
       "      <td>ultra</td>\n",
       "    </tr>\n",
       "    <tr>\n",
       "      <th>3207</th>\n",
       "      <td>1473</td>\n",
       "      <td>11</td>\n",
       "      <td>0.0</td>\n",
       "      <td>0.0</td>\n",
       "      <td>14.0</td>\n",
       "      <td>21673.80</td>\n",
       "      <td>18</td>\n",
       "      <td>0</td>\n",
       "      <td>Красноярск</td>\n",
       "      <td>Николай</td>\n",
       "      <td>Лебедев</td>\n",
       "      <td>2018-08-05</td>\n",
       "      <td>ultra</td>\n",
       "    </tr>\n",
       "    <tr>\n",
       "      <th>3208</th>\n",
       "      <td>1473</td>\n",
       "      <td>12</td>\n",
       "      <td>0.0</td>\n",
       "      <td>0.0</td>\n",
       "      <td>20.0</td>\n",
       "      <td>18418.26</td>\n",
       "      <td>18</td>\n",
       "      <td>0</td>\n",
       "      <td>Красноярск</td>\n",
       "      <td>Николай</td>\n",
       "      <td>Лебедев</td>\n",
       "      <td>2018-08-05</td>\n",
       "      <td>ultra</td>\n",
       "    </tr>\n",
       "  </tbody>\n",
       "</table>\n",
       "<p>985 rows × 13 columns</p>\n",
       "</div>"
      ],
      "text/plain": [
       "      user_id  month  number_calls  duration_calls  number_messages   mb_used  \\\n",
       "0        1000      5          22.0           159.0             22.0   2253.49   \n",
       "1        1000      6          43.0           172.0             60.0  23233.77   \n",
       "2        1000      7          47.0           340.0             75.0  14003.64   \n",
       "3        1000      8          52.0           408.0             81.0  14055.93   \n",
       "4        1000      9          58.0           466.0             57.0  14568.91   \n",
       "...       ...    ...           ...             ...              ...       ...   \n",
       "3204     1473      8           0.0             0.0             17.0  12905.40   \n",
       "3205     1473      9           0.0             0.0             19.0  17289.85   \n",
       "3206     1473     10           0.0             0.0             20.0  13688.65   \n",
       "3207     1473     11           0.0             0.0             14.0  21673.80   \n",
       "3208     1473     12           0.0             0.0             20.0  18418.26   \n",
       "\n",
       "      age churn_date        city first_name  last_name   reg_date tariff  \n",
       "0      52          0   Краснодар     Рафаил  Верещагин 2018-05-25  ultra  \n",
       "1      52          0   Краснодар     Рафаил  Верещагин 2018-05-25  ultra  \n",
       "2      52          0   Краснодар     Рафаил  Верещагин 2018-05-25  ultra  \n",
       "3      52          0   Краснодар     Рафаил  Верещагин 2018-05-25  ultra  \n",
       "4      52          0   Краснодар     Рафаил  Верещагин 2018-05-25  ultra  \n",
       "...   ...        ...         ...        ...        ...        ...    ...  \n",
       "3204   18          0  Красноярск    Николай    Лебедев 2018-08-05  ultra  \n",
       "3205   18          0  Красноярск    Николай    Лебедев 2018-08-05  ultra  \n",
       "3206   18          0  Красноярск    Николай    Лебедев 2018-08-05  ultra  \n",
       "3207   18          0  Красноярск    Николай    Лебедев 2018-08-05  ultra  \n",
       "3208   18          0  Красноярск    Николай    Лебедев 2018-08-05  ultra  \n",
       "\n",
       "[985 rows x 13 columns]"
      ]
     },
     "execution_count": 27,
     "metadata": {},
     "output_type": "execute_result"
    }
   ],
   "source": [
    "#делаем срез по тарифу\n",
    "df_ultra = df.query('tariff == \"ultra\"')\n",
    "df_ultra "
   ]
  },
  {
   "cell_type": "markdown",
   "metadata": {},
   "source": [
    "Выделим пользователей с тарифом `smart` в отдельную таблицу `df_smart`"
   ]
  },
  {
   "cell_type": "code",
   "execution_count": 28,
   "metadata": {},
   "outputs": [
    {
     "data": {
      "text/html": [
       "<div>\n",
       "<style scoped>\n",
       "    .dataframe tbody tr th:only-of-type {\n",
       "        vertical-align: middle;\n",
       "    }\n",
       "\n",
       "    .dataframe tbody tr th {\n",
       "        vertical-align: top;\n",
       "    }\n",
       "\n",
       "    .dataframe thead th {\n",
       "        text-align: right;\n",
       "    }\n",
       "</style>\n",
       "<table border=\"1\" class=\"dataframe\">\n",
       "  <thead>\n",
       "    <tr style=\"text-align: right;\">\n",
       "      <th></th>\n",
       "      <th>user_id</th>\n",
       "      <th>month</th>\n",
       "      <th>number_calls</th>\n",
       "      <th>duration_calls</th>\n",
       "      <th>number_messages</th>\n",
       "      <th>mb_used</th>\n",
       "      <th>age</th>\n",
       "      <th>churn_date</th>\n",
       "      <th>city</th>\n",
       "      <th>first_name</th>\n",
       "      <th>last_name</th>\n",
       "      <th>reg_date</th>\n",
       "      <th>tariff</th>\n",
       "    </tr>\n",
       "  </thead>\n",
       "  <tbody>\n",
       "    <tr>\n",
       "      <th>8</th>\n",
       "      <td>1001</td>\n",
       "      <td>11</td>\n",
       "      <td>59.0</td>\n",
       "      <td>430.0</td>\n",
       "      <td>0.0</td>\n",
       "      <td>18429.34</td>\n",
       "      <td>41</td>\n",
       "      <td>0</td>\n",
       "      <td>Москва</td>\n",
       "      <td>Иван</td>\n",
       "      <td>Ежов</td>\n",
       "      <td>2018-11-01</td>\n",
       "      <td>smart</td>\n",
       "    </tr>\n",
       "    <tr>\n",
       "      <th>9</th>\n",
       "      <td>1001</td>\n",
       "      <td>12</td>\n",
       "      <td>63.0</td>\n",
       "      <td>414.0</td>\n",
       "      <td>0.0</td>\n",
       "      <td>14036.66</td>\n",
       "      <td>41</td>\n",
       "      <td>0</td>\n",
       "      <td>Москва</td>\n",
       "      <td>Иван</td>\n",
       "      <td>Ежов</td>\n",
       "      <td>2018-11-01</td>\n",
       "      <td>smart</td>\n",
       "    </tr>\n",
       "    <tr>\n",
       "      <th>10</th>\n",
       "      <td>1002</td>\n",
       "      <td>6</td>\n",
       "      <td>15.0</td>\n",
       "      <td>117.0</td>\n",
       "      <td>4.0</td>\n",
       "      <td>10856.82</td>\n",
       "      <td>59</td>\n",
       "      <td>0</td>\n",
       "      <td>Стерлитамак</td>\n",
       "      <td>Евгений</td>\n",
       "      <td>Абрамович</td>\n",
       "      <td>2018-06-17</td>\n",
       "      <td>smart</td>\n",
       "    </tr>\n",
       "    <tr>\n",
       "      <th>11</th>\n",
       "      <td>1002</td>\n",
       "      <td>7</td>\n",
       "      <td>26.0</td>\n",
       "      <td>214.0</td>\n",
       "      <td>11.0</td>\n",
       "      <td>17580.10</td>\n",
       "      <td>59</td>\n",
       "      <td>0</td>\n",
       "      <td>Стерлитамак</td>\n",
       "      <td>Евгений</td>\n",
       "      <td>Абрамович</td>\n",
       "      <td>2018-06-17</td>\n",
       "      <td>smart</td>\n",
       "    </tr>\n",
       "    <tr>\n",
       "      <th>12</th>\n",
       "      <td>1002</td>\n",
       "      <td>8</td>\n",
       "      <td>42.0</td>\n",
       "      <td>289.0</td>\n",
       "      <td>13.0</td>\n",
       "      <td>20319.26</td>\n",
       "      <td>59</td>\n",
       "      <td>0</td>\n",
       "      <td>Стерлитамак</td>\n",
       "      <td>Евгений</td>\n",
       "      <td>Абрамович</td>\n",
       "      <td>2018-06-17</td>\n",
       "      <td>smart</td>\n",
       "    </tr>\n",
       "    <tr>\n",
       "      <th>...</th>\n",
       "      <td>...</td>\n",
       "      <td>...</td>\n",
       "      <td>...</td>\n",
       "      <td>...</td>\n",
       "      <td>...</td>\n",
       "      <td>...</td>\n",
       "      <td>...</td>\n",
       "      <td>...</td>\n",
       "      <td>...</td>\n",
       "      <td>...</td>\n",
       "      <td>...</td>\n",
       "      <td>...</td>\n",
       "      <td>...</td>\n",
       "    </tr>\n",
       "    <tr>\n",
       "      <th>3209</th>\n",
       "      <td>1489</td>\n",
       "      <td>8</td>\n",
       "      <td>0.0</td>\n",
       "      <td>0.0</td>\n",
       "      <td>17.0</td>\n",
       "      <td>11050.56</td>\n",
       "      <td>35</td>\n",
       "      <td>0</td>\n",
       "      <td>Санкт-Петербург</td>\n",
       "      <td>Павел</td>\n",
       "      <td>Гончаров</td>\n",
       "      <td>2018-08-15</td>\n",
       "      <td>smart</td>\n",
       "    </tr>\n",
       "    <tr>\n",
       "      <th>3210</th>\n",
       "      <td>1489</td>\n",
       "      <td>9</td>\n",
       "      <td>0.0</td>\n",
       "      <td>0.0</td>\n",
       "      <td>32.0</td>\n",
       "      <td>17206.30</td>\n",
       "      <td>35</td>\n",
       "      <td>0</td>\n",
       "      <td>Санкт-Петербург</td>\n",
       "      <td>Павел</td>\n",
       "      <td>Гончаров</td>\n",
       "      <td>2018-08-15</td>\n",
       "      <td>smart</td>\n",
       "    </tr>\n",
       "    <tr>\n",
       "      <th>3211</th>\n",
       "      <td>1489</td>\n",
       "      <td>10</td>\n",
       "      <td>0.0</td>\n",
       "      <td>0.0</td>\n",
       "      <td>21.0</td>\n",
       "      <td>19559.44</td>\n",
       "      <td>35</td>\n",
       "      <td>0</td>\n",
       "      <td>Санкт-Петербург</td>\n",
       "      <td>Павел</td>\n",
       "      <td>Гончаров</td>\n",
       "      <td>2018-08-15</td>\n",
       "      <td>smart</td>\n",
       "    </tr>\n",
       "    <tr>\n",
       "      <th>3212</th>\n",
       "      <td>1489</td>\n",
       "      <td>11</td>\n",
       "      <td>0.0</td>\n",
       "      <td>0.0</td>\n",
       "      <td>20.0</td>\n",
       "      <td>17491.56</td>\n",
       "      <td>35</td>\n",
       "      <td>0</td>\n",
       "      <td>Санкт-Петербург</td>\n",
       "      <td>Павел</td>\n",
       "      <td>Гончаров</td>\n",
       "      <td>2018-08-15</td>\n",
       "      <td>smart</td>\n",
       "    </tr>\n",
       "    <tr>\n",
       "      <th>3213</th>\n",
       "      <td>1489</td>\n",
       "      <td>12</td>\n",
       "      <td>0.0</td>\n",
       "      <td>0.0</td>\n",
       "      <td>35.0</td>\n",
       "      <td>17322.51</td>\n",
       "      <td>35</td>\n",
       "      <td>0</td>\n",
       "      <td>Санкт-Петербург</td>\n",
       "      <td>Павел</td>\n",
       "      <td>Гончаров</td>\n",
       "      <td>2018-08-15</td>\n",
       "      <td>smart</td>\n",
       "    </tr>\n",
       "  </tbody>\n",
       "</table>\n",
       "<p>2229 rows × 13 columns</p>\n",
       "</div>"
      ],
      "text/plain": [
       "      user_id  month  number_calls  duration_calls  number_messages   mb_used  \\\n",
       "8        1001     11          59.0           430.0              0.0  18429.34   \n",
       "9        1001     12          63.0           414.0              0.0  14036.66   \n",
       "10       1002      6          15.0           117.0              4.0  10856.82   \n",
       "11       1002      7          26.0           214.0             11.0  17580.10   \n",
       "12       1002      8          42.0           289.0             13.0  20319.26   \n",
       "...       ...    ...           ...             ...              ...       ...   \n",
       "3209     1489      8           0.0             0.0             17.0  11050.56   \n",
       "3210     1489      9           0.0             0.0             32.0  17206.30   \n",
       "3211     1489     10           0.0             0.0             21.0  19559.44   \n",
       "3212     1489     11           0.0             0.0             20.0  17491.56   \n",
       "3213     1489     12           0.0             0.0             35.0  17322.51   \n",
       "\n",
       "      age churn_date             city first_name  last_name   reg_date tariff  \n",
       "8      41          0           Москва       Иван       Ежов 2018-11-01  smart  \n",
       "9      41          0           Москва       Иван       Ежов 2018-11-01  smart  \n",
       "10     59          0      Стерлитамак    Евгений  Абрамович 2018-06-17  smart  \n",
       "11     59          0      Стерлитамак    Евгений  Абрамович 2018-06-17  smart  \n",
       "12     59          0      Стерлитамак    Евгений  Абрамович 2018-06-17  smart  \n",
       "...   ...        ...              ...        ...        ...        ...    ...  \n",
       "3209   35          0  Санкт-Петербург      Павел   Гончаров 2018-08-15  smart  \n",
       "3210   35          0  Санкт-Петербург      Павел   Гончаров 2018-08-15  smart  \n",
       "3211   35          0  Санкт-Петербург      Павел   Гончаров 2018-08-15  smart  \n",
       "3212   35          0  Санкт-Петербург      Павел   Гончаров 2018-08-15  smart  \n",
       "3213   35          0  Санкт-Петербург      Павел   Гончаров 2018-08-15  smart  \n",
       "\n",
       "[2229 rows x 13 columns]"
      ]
     },
     "execution_count": 28,
     "metadata": {},
     "output_type": "execute_result"
    }
   ],
   "source": [
    "#делаем срез по тарифу\n",
    "df_smart = df.query('tariff == \"smart\"')\n",
    "df_smart "
   ]
  },
  {
   "cell_type": "code",
   "execution_count": 29,
   "metadata": {
    "scrolled": true
   },
   "outputs": [
    {
     "data": {
      "text/html": [
       "<div>\n",
       "<style scoped>\n",
       "    .dataframe tbody tr th:only-of-type {\n",
       "        vertical-align: middle;\n",
       "    }\n",
       "\n",
       "    .dataframe tbody tr th {\n",
       "        vertical-align: top;\n",
       "    }\n",
       "\n",
       "    .dataframe thead th {\n",
       "        text-align: right;\n",
       "    }\n",
       "</style>\n",
       "<table border=\"1\" class=\"dataframe\">\n",
       "  <thead>\n",
       "    <tr style=\"text-align: right;\">\n",
       "      <th></th>\n",
       "      <th>messages_included</th>\n",
       "      <th>mb_per_month_included</th>\n",
       "      <th>minutes_included</th>\n",
       "      <th>rub_monthly_fee</th>\n",
       "      <th>rub_per_gb</th>\n",
       "      <th>rub_per_message</th>\n",
       "      <th>rub_per_minute</th>\n",
       "      <th>tariff_name</th>\n",
       "    </tr>\n",
       "  </thead>\n",
       "  <tbody>\n",
       "    <tr>\n",
       "      <th>0</th>\n",
       "      <td>50</td>\n",
       "      <td>15360</td>\n",
       "      <td>500</td>\n",
       "      <td>550</td>\n",
       "      <td>200</td>\n",
       "      <td>3</td>\n",
       "      <td>3</td>\n",
       "      <td>smart</td>\n",
       "    </tr>\n",
       "    <tr>\n",
       "      <th>1</th>\n",
       "      <td>1000</td>\n",
       "      <td>30720</td>\n",
       "      <td>3000</td>\n",
       "      <td>1950</td>\n",
       "      <td>150</td>\n",
       "      <td>1</td>\n",
       "      <td>1</td>\n",
       "      <td>ultra</td>\n",
       "    </tr>\n",
       "  </tbody>\n",
       "</table>\n",
       "</div>"
      ],
      "text/plain": [
       "   messages_included  mb_per_month_included  minutes_included  \\\n",
       "0                 50                  15360               500   \n",
       "1               1000                  30720              3000   \n",
       "\n",
       "   rub_monthly_fee  rub_per_gb  rub_per_message  rub_per_minute tariff_name  \n",
       "0              550         200                3               3       smart  \n",
       "1             1950         150                1               1       ultra  "
      ]
     },
     "execution_count": 29,
     "metadata": {},
     "output_type": "execute_result"
    }
   ],
   "source": [
    "tariffs_df"
   ]
  },
  {
   "cell_type": "markdown",
   "metadata": {},
   "source": [
    "Создадим функцию `revenue`, которая рассчитывает помесячную выручку с каждого пользователя"
   ]
  },
  {
   "cell_type": "code",
   "execution_count": 30,
   "metadata": {},
   "outputs": [],
   "source": [
    "#функция 'revenue' на входе строка таблицы df_ultra на выходе столбец с помесячной выручку с каждого пользователя\n",
    "def revenue(row):\n",
    "    internet_price = 0\n",
    "    calls_price = 0\n",
    "    messages_price = 0\n",
    "    internet = row['mb_used']\n",
    "    if (tariffs_df['mb_per_month_included'][1] - row['mb_used']) < 0:\n",
    "        internet_price = np.ceil(abs(tariffs_df['mb_per_month_included'][1] - row['mb_used']) / 1024) * tariffs_df['rub_per_gb'][1]\n",
    "    if (tariffs_df['minutes_included'][1] - row['duration_calls']) <0:\n",
    "        calls_price = abs(tariffs_df['minutes_included'][1] - row['duration_calls']) * tariffs_df['rub_per_minute'][1]\n",
    "    if (tariffs_df['messages_included'][1] - row['number_messages']) < 0:\n",
    "        messages_price = abs(tariffs_df['messages_included'][1] - row['number_messages']) * tariffs_df['rub_per_message'][1]\n",
    "    revenue = internet_price +  calls_price +  messages_price + 1950\n",
    "    return  revenue"
   ]
  },
  {
   "cell_type": "markdown",
   "metadata": {},
   "source": [
    "В столбце `revenue` таблицы `df_ultra` посчитаем помесячную выручку с каждого пользователя тарифа ultra"
   ]
  },
  {
   "cell_type": "code",
   "execution_count": 31,
   "metadata": {
    "scrolled": true
   },
   "outputs": [],
   "source": [
    "#вызов функции 'revenue' и сохранение результата в столбец 'revenue'\n",
    "df_ultra['revenue'] = df_ultra.apply(revenue, axis=1)"
   ]
  },
  {
   "cell_type": "code",
   "execution_count": 32,
   "metadata": {},
   "outputs": [],
   "source": [
    "#функция 'revenue_1' на входе строка таблицы df_smart на выходе столбец с помесячной выручку с каждого пользователя\n",
    "def revenue_1(row):\n",
    "    internet_price = 0\n",
    "    calls_price = 0\n",
    "    messages_price = 0\n",
    "    internet = row['mb_used']\n",
    "    if (tariffs_df['mb_per_month_included'][0] - row['mb_used']) < 0:\n",
    "        internet_price = np.ceil(abs(tariffs_df['mb_per_month_included'][0] - row['mb_used']) / 1024) * tariffs_df['rub_per_gb'][0]\n",
    "    if (tariffs_df['minutes_included'][0] - row['duration_calls']) <0:\n",
    "        calls_price = abs(tariffs_df['minutes_included'][0] - row['duration_calls']) * tariffs_df['rub_per_minute'][0]\n",
    "    if (tariffs_df['messages_included'][0] - row['number_messages']) < 0:\n",
    "        messages_price = abs(tariffs_df['messages_included'][0] - row['number_messages']) * tariffs_df['rub_per_message'][0]\n",
    "    revenue = internet_price +  calls_price +  messages_price + 550\n",
    "    return  revenue"
   ]
  },
  {
   "cell_type": "markdown",
   "metadata": {},
   "source": [
    "В столбце `revenue` таблицы `df_smart` посчитаем помесячную выручку с каждого пользователя тарифа smart"
   ]
  },
  {
   "cell_type": "code",
   "execution_count": 33,
   "metadata": {},
   "outputs": [],
   "source": [
    "#вызов функции 'revenue_1' и сохранение результата в столбец 'revenue'\n",
    "df_smart['revenue'] = df_smart.apply(revenue_1, axis=1)"
   ]
  },
  {
   "cell_type": "markdown",
   "metadata": {},
   "source": [
    "Посмотрим срез таблицы `df_smart` для оценки получившегося результата "
   ]
  },
  {
   "cell_type": "code",
   "execution_count": 34,
   "metadata": {
    "scrolled": true
   },
   "outputs": [
    {
     "data": {
      "text/html": [
       "<div>\n",
       "<style scoped>\n",
       "    .dataframe tbody tr th:only-of-type {\n",
       "        vertical-align: middle;\n",
       "    }\n",
       "\n",
       "    .dataframe tbody tr th {\n",
       "        vertical-align: top;\n",
       "    }\n",
       "\n",
       "    .dataframe thead th {\n",
       "        text-align: right;\n",
       "    }\n",
       "</style>\n",
       "<table border=\"1\" class=\"dataframe\">\n",
       "  <thead>\n",
       "    <tr style=\"text-align: right;\">\n",
       "      <th></th>\n",
       "      <th>user_id</th>\n",
       "      <th>month</th>\n",
       "      <th>number_calls</th>\n",
       "      <th>duration_calls</th>\n",
       "      <th>number_messages</th>\n",
       "      <th>mb_used</th>\n",
       "      <th>age</th>\n",
       "      <th>churn_date</th>\n",
       "      <th>city</th>\n",
       "      <th>first_name</th>\n",
       "      <th>last_name</th>\n",
       "      <th>reg_date</th>\n",
       "      <th>tariff</th>\n",
       "      <th>revenue</th>\n",
       "    </tr>\n",
       "  </thead>\n",
       "  <tbody>\n",
       "    <tr>\n",
       "      <th>32</th>\n",
       "      <td>1005</td>\n",
       "      <td>3</td>\n",
       "      <td>77.0</td>\n",
       "      <td>606.0</td>\n",
       "      <td>56.0</td>\n",
       "      <td>11104.25</td>\n",
       "      <td>67</td>\n",
       "      <td>0</td>\n",
       "      <td>Набережные Челны</td>\n",
       "      <td>Афанасий</td>\n",
       "      <td>Горлов</td>\n",
       "      <td>2018-01-25</td>\n",
       "      <td>smart</td>\n",
       "      <td>886.0</td>\n",
       "    </tr>\n",
       "    <tr>\n",
       "      <th>33</th>\n",
       "      <td>1005</td>\n",
       "      <td>4</td>\n",
       "      <td>101.0</td>\n",
       "      <td>712.0</td>\n",
       "      <td>41.0</td>\n",
       "      <td>9351.72</td>\n",
       "      <td>67</td>\n",
       "      <td>0</td>\n",
       "      <td>Набережные Челны</td>\n",
       "      <td>Афанасий</td>\n",
       "      <td>Горлов</td>\n",
       "      <td>2018-01-25</td>\n",
       "      <td>smart</td>\n",
       "      <td>1186.0</td>\n",
       "    </tr>\n",
       "    <tr>\n",
       "      <th>34</th>\n",
       "      <td>1005</td>\n",
       "      <td>5</td>\n",
       "      <td>73.0</td>\n",
       "      <td>595.0</td>\n",
       "      <td>42.0</td>\n",
       "      <td>7865.53</td>\n",
       "      <td>67</td>\n",
       "      <td>0</td>\n",
       "      <td>Набережные Челны</td>\n",
       "      <td>Афанасий</td>\n",
       "      <td>Горлов</td>\n",
       "      <td>2018-01-25</td>\n",
       "      <td>smart</td>\n",
       "      <td>835.0</td>\n",
       "    </tr>\n",
       "    <tr>\n",
       "      <th>35</th>\n",
       "      <td>1005</td>\n",
       "      <td>6</td>\n",
       "      <td>80.0</td>\n",
       "      <td>612.0</td>\n",
       "      <td>47.0</td>\n",
       "      <td>9863.19</td>\n",
       "      <td>67</td>\n",
       "      <td>0</td>\n",
       "      <td>Набережные Челны</td>\n",
       "      <td>Афанасий</td>\n",
       "      <td>Горлов</td>\n",
       "      <td>2018-01-25</td>\n",
       "      <td>smart</td>\n",
       "      <td>886.0</td>\n",
       "    </tr>\n",
       "    <tr>\n",
       "      <th>36</th>\n",
       "      <td>1005</td>\n",
       "      <td>7</td>\n",
       "      <td>77.0</td>\n",
       "      <td>569.0</td>\n",
       "      <td>56.0</td>\n",
       "      <td>7694.56</td>\n",
       "      <td>67</td>\n",
       "      <td>0</td>\n",
       "      <td>Набережные Челны</td>\n",
       "      <td>Афанасий</td>\n",
       "      <td>Горлов</td>\n",
       "      <td>2018-01-25</td>\n",
       "      <td>smart</td>\n",
       "      <td>775.0</td>\n",
       "    </tr>\n",
       "    <tr>\n",
       "      <th>...</th>\n",
       "      <td>...</td>\n",
       "      <td>...</td>\n",
       "      <td>...</td>\n",
       "      <td>...</td>\n",
       "      <td>...</td>\n",
       "      <td>...</td>\n",
       "      <td>...</td>\n",
       "      <td>...</td>\n",
       "      <td>...</td>\n",
       "      <td>...</td>\n",
       "      <td>...</td>\n",
       "      <td>...</td>\n",
       "      <td>...</td>\n",
       "      <td>...</td>\n",
       "    </tr>\n",
       "    <tr>\n",
       "      <th>3160</th>\n",
       "      <td>1496</td>\n",
       "      <td>8</td>\n",
       "      <td>88.0</td>\n",
       "      <td>527.0</td>\n",
       "      <td>41.0</td>\n",
       "      <td>23530.03</td>\n",
       "      <td>36</td>\n",
       "      <td>0</td>\n",
       "      <td>Вологда</td>\n",
       "      <td>Трифон</td>\n",
       "      <td>Блохин</td>\n",
       "      <td>2018-01-27</td>\n",
       "      <td>smart</td>\n",
       "      <td>2231.0</td>\n",
       "    </tr>\n",
       "    <tr>\n",
       "      <th>3163</th>\n",
       "      <td>1496</td>\n",
       "      <td>11</td>\n",
       "      <td>80.0</td>\n",
       "      <td>662.0</td>\n",
       "      <td>46.0</td>\n",
       "      <td>25063.40</td>\n",
       "      <td>36</td>\n",
       "      <td>0</td>\n",
       "      <td>Вологда</td>\n",
       "      <td>Трифон</td>\n",
       "      <td>Блохин</td>\n",
       "      <td>2018-01-27</td>\n",
       "      <td>smart</td>\n",
       "      <td>3036.0</td>\n",
       "    </tr>\n",
       "    <tr>\n",
       "      <th>3164</th>\n",
       "      <td>1496</td>\n",
       "      <td>12</td>\n",
       "      <td>80.0</td>\n",
       "      <td>518.0</td>\n",
       "      <td>51.0</td>\n",
       "      <td>20736.15</td>\n",
       "      <td>36</td>\n",
       "      <td>0</td>\n",
       "      <td>Вологда</td>\n",
       "      <td>Трифон</td>\n",
       "      <td>Блохин</td>\n",
       "      <td>2018-01-27</td>\n",
       "      <td>smart</td>\n",
       "      <td>1807.0</td>\n",
       "    </tr>\n",
       "    <tr>\n",
       "      <th>3167</th>\n",
       "      <td>1497</td>\n",
       "      <td>12</td>\n",
       "      <td>71.0</td>\n",
       "      <td>545.0</td>\n",
       "      <td>17.0</td>\n",
       "      <td>19918.60</td>\n",
       "      <td>32</td>\n",
       "      <td>0</td>\n",
       "      <td>Челябинск</td>\n",
       "      <td>Каролина</td>\n",
       "      <td>Агеева</td>\n",
       "      <td>2018-10-09</td>\n",
       "      <td>smart</td>\n",
       "      <td>1685.0</td>\n",
       "    </tr>\n",
       "    <tr>\n",
       "      <th>3174</th>\n",
       "      <td>1499</td>\n",
       "      <td>11</td>\n",
       "      <td>74.0</td>\n",
       "      <td>612.0</td>\n",
       "      <td>59.0</td>\n",
       "      <td>17963.31</td>\n",
       "      <td>35</td>\n",
       "      <td>0</td>\n",
       "      <td>Пермь</td>\n",
       "      <td>Гектор</td>\n",
       "      <td>Корнилов</td>\n",
       "      <td>2018-09-27</td>\n",
       "      <td>smart</td>\n",
       "      <td>1513.0</td>\n",
       "    </tr>\n",
       "  </tbody>\n",
       "</table>\n",
       "<p>754 rows × 14 columns</p>\n",
       "</div>"
      ],
      "text/plain": [
       "      user_id  month  number_calls  duration_calls  number_messages   mb_used  \\\n",
       "32       1005      3          77.0           606.0             56.0  11104.25   \n",
       "33       1005      4         101.0           712.0             41.0   9351.72   \n",
       "34       1005      5          73.0           595.0             42.0   7865.53   \n",
       "35       1005      6          80.0           612.0             47.0   9863.19   \n",
       "36       1005      7          77.0           569.0             56.0   7694.56   \n",
       "...       ...    ...           ...             ...              ...       ...   \n",
       "3160     1496      8          88.0           527.0             41.0  23530.03   \n",
       "3163     1496     11          80.0           662.0             46.0  25063.40   \n",
       "3164     1496     12          80.0           518.0             51.0  20736.15   \n",
       "3167     1497     12          71.0           545.0             17.0  19918.60   \n",
       "3174     1499     11          74.0           612.0             59.0  17963.31   \n",
       "\n",
       "      age churn_date              city first_name last_name   reg_date tariff  \\\n",
       "32     67          0  Набережные Челны   Афанасий    Горлов 2018-01-25  smart   \n",
       "33     67          0  Набережные Челны   Афанасий    Горлов 2018-01-25  smart   \n",
       "34     67          0  Набережные Челны   Афанасий    Горлов 2018-01-25  smart   \n",
       "35     67          0  Набережные Челны   Афанасий    Горлов 2018-01-25  smart   \n",
       "36     67          0  Набережные Челны   Афанасий    Горлов 2018-01-25  smart   \n",
       "...   ...        ...               ...        ...       ...        ...    ...   \n",
       "3160   36          0           Вологда     Трифон    Блохин 2018-01-27  smart   \n",
       "3163   36          0           Вологда     Трифон    Блохин 2018-01-27  smart   \n",
       "3164   36          0           Вологда     Трифон    Блохин 2018-01-27  smart   \n",
       "3167   32          0         Челябинск   Каролина    Агеева 2018-10-09  smart   \n",
       "3174   35          0             Пермь     Гектор  Корнилов 2018-09-27  smart   \n",
       "\n",
       "      revenue  \n",
       "32      886.0  \n",
       "33     1186.0  \n",
       "34      835.0  \n",
       "35      886.0  \n",
       "36      775.0  \n",
       "...       ...  \n",
       "3160   2231.0  \n",
       "3163   3036.0  \n",
       "3164   1807.0  \n",
       "3167   1685.0  \n",
       "3174   1513.0  \n",
       "\n",
       "[754 rows x 14 columns]"
      ]
     },
     "execution_count": 34,
     "metadata": {},
     "output_type": "execute_result"
    }
   ],
   "source": [
    "#срез по звонкам длительностью больше, чем в тарифе\n",
    "df_smart.query('duration_calls > 500')"
   ]
  },
  {
   "cell_type": "markdown",
   "metadata": {},
   "source": [
    "Посмотрим срез таблицы `df_ultra` для оценки получившегося результата "
   ]
  },
  {
   "cell_type": "code",
   "execution_count": 35,
   "metadata": {
    "scrolled": true
   },
   "outputs": [
    {
     "data": {
      "text/html": [
       "<div>\n",
       "<style scoped>\n",
       "    .dataframe tbody tr th:only-of-type {\n",
       "        vertical-align: middle;\n",
       "    }\n",
       "\n",
       "    .dataframe tbody tr th {\n",
       "        vertical-align: top;\n",
       "    }\n",
       "\n",
       "    .dataframe thead th {\n",
       "        text-align: right;\n",
       "    }\n",
       "</style>\n",
       "<table border=\"1\" class=\"dataframe\">\n",
       "  <thead>\n",
       "    <tr style=\"text-align: right;\">\n",
       "      <th></th>\n",
       "      <th>user_id</th>\n",
       "      <th>month</th>\n",
       "      <th>number_calls</th>\n",
       "      <th>duration_calls</th>\n",
       "      <th>number_messages</th>\n",
       "      <th>mb_used</th>\n",
       "      <th>age</th>\n",
       "      <th>churn_date</th>\n",
       "      <th>city</th>\n",
       "      <th>first_name</th>\n",
       "      <th>last_name</th>\n",
       "      <th>reg_date</th>\n",
       "      <th>tariff</th>\n",
       "      <th>revenue</th>\n",
       "    </tr>\n",
       "  </thead>\n",
       "  <tbody>\n",
       "    <tr>\n",
       "      <th>159</th>\n",
       "      <td>1024</td>\n",
       "      <td>11</td>\n",
       "      <td>157.0</td>\n",
       "      <td>1146.0</td>\n",
       "      <td>0.0</td>\n",
       "      <td>43107.47</td>\n",
       "      <td>73</td>\n",
       "      <td>0</td>\n",
       "      <td>Санкт-Петербург</td>\n",
       "      <td>Иулиан</td>\n",
       "      <td>Антипов</td>\n",
       "      <td>2018-10-31</td>\n",
       "      <td>ultra</td>\n",
       "      <td>3900.0</td>\n",
       "    </tr>\n",
       "    <tr>\n",
       "      <th>160</th>\n",
       "      <td>1024</td>\n",
       "      <td>12</td>\n",
       "      <td>136.0</td>\n",
       "      <td>949.0</td>\n",
       "      <td>0.0</td>\n",
       "      <td>35948.13</td>\n",
       "      <td>73</td>\n",
       "      <td>0</td>\n",
       "      <td>Санкт-Петербург</td>\n",
       "      <td>Иулиан</td>\n",
       "      <td>Антипов</td>\n",
       "      <td>2018-10-31</td>\n",
       "      <td>ultra</td>\n",
       "      <td>2850.0</td>\n",
       "    </tr>\n",
       "    <tr>\n",
       "      <th>311</th>\n",
       "      <td>1050</td>\n",
       "      <td>7</td>\n",
       "      <td>35.0</td>\n",
       "      <td>209.0</td>\n",
       "      <td>52.0</td>\n",
       "      <td>35177.91</td>\n",
       "      <td>44</td>\n",
       "      <td>2018-10-03</td>\n",
       "      <td>Тюмень</td>\n",
       "      <td>Рузана</td>\n",
       "      <td>Аничкина</td>\n",
       "      <td>2018-06-16</td>\n",
       "      <td>ultra</td>\n",
       "      <td>2700.0</td>\n",
       "    </tr>\n",
       "    <tr>\n",
       "      <th>383</th>\n",
       "      <td>1060</td>\n",
       "      <td>12</td>\n",
       "      <td>184.0</td>\n",
       "      <td>1233.0</td>\n",
       "      <td>52.0</td>\n",
       "      <td>43931.36</td>\n",
       "      <td>46</td>\n",
       "      <td>0</td>\n",
       "      <td>Калуга</td>\n",
       "      <td>Яков</td>\n",
       "      <td>Рудаков</td>\n",
       "      <td>2018-11-24</td>\n",
       "      <td>ultra</td>\n",
       "      <td>3900.0</td>\n",
       "    </tr>\n",
       "    <tr>\n",
       "      <th>782</th>\n",
       "      <td>1124</td>\n",
       "      <td>10</td>\n",
       "      <td>152.0</td>\n",
       "      <td>1225.0</td>\n",
       "      <td>121.0</td>\n",
       "      <td>49745.69</td>\n",
       "      <td>54</td>\n",
       "      <td>0</td>\n",
       "      <td>Махачкала</td>\n",
       "      <td>Альбин</td>\n",
       "      <td>Андрианов</td>\n",
       "      <td>2018-09-24</td>\n",
       "      <td>ultra</td>\n",
       "      <td>4800.0</td>\n",
       "    </tr>\n",
       "    <tr>\n",
       "      <th>...</th>\n",
       "      <td>...</td>\n",
       "      <td>...</td>\n",
       "      <td>...</td>\n",
       "      <td>...</td>\n",
       "      <td>...</td>\n",
       "      <td>...</td>\n",
       "      <td>...</td>\n",
       "      <td>...</td>\n",
       "      <td>...</td>\n",
       "      <td>...</td>\n",
       "      <td>...</td>\n",
       "      <td>...</td>\n",
       "      <td>...</td>\n",
       "      <td>...</td>\n",
       "    </tr>\n",
       "    <tr>\n",
       "      <th>3197</th>\n",
       "      <td>1231</td>\n",
       "      <td>9</td>\n",
       "      <td>0.0</td>\n",
       "      <td>0.0</td>\n",
       "      <td>188.0</td>\n",
       "      <td>33189.47</td>\n",
       "      <td>63</td>\n",
       "      <td>0</td>\n",
       "      <td>Чебоксары</td>\n",
       "      <td>Касьян</td>\n",
       "      <td>Авдюков</td>\n",
       "      <td>2018-05-23</td>\n",
       "      <td>ultra</td>\n",
       "      <td>2400.0</td>\n",
       "    </tr>\n",
       "    <tr>\n",
       "      <th>3198</th>\n",
       "      <td>1231</td>\n",
       "      <td>10</td>\n",
       "      <td>0.0</td>\n",
       "      <td>0.0</td>\n",
       "      <td>185.0</td>\n",
       "      <td>31032.93</td>\n",
       "      <td>63</td>\n",
       "      <td>0</td>\n",
       "      <td>Чебоксары</td>\n",
       "      <td>Касьян</td>\n",
       "      <td>Авдюков</td>\n",
       "      <td>2018-05-23</td>\n",
       "      <td>ultra</td>\n",
       "      <td>2100.0</td>\n",
       "    </tr>\n",
       "    <tr>\n",
       "      <th>3200</th>\n",
       "      <td>1231</td>\n",
       "      <td>12</td>\n",
       "      <td>0.0</td>\n",
       "      <td>0.0</td>\n",
       "      <td>191.0</td>\n",
       "      <td>32448.00</td>\n",
       "      <td>63</td>\n",
       "      <td>0</td>\n",
       "      <td>Чебоксары</td>\n",
       "      <td>Касьян</td>\n",
       "      <td>Авдюков</td>\n",
       "      <td>2018-05-23</td>\n",
       "      <td>ultra</td>\n",
       "      <td>2250.0</td>\n",
       "    </tr>\n",
       "    <tr>\n",
       "      <th>3202</th>\n",
       "      <td>1328</td>\n",
       "      <td>11</td>\n",
       "      <td>0.0</td>\n",
       "      <td>0.0</td>\n",
       "      <td>8.0</td>\n",
       "      <td>35525.58</td>\n",
       "      <td>44</td>\n",
       "      <td>0</td>\n",
       "      <td>Мурманск</td>\n",
       "      <td>Рауль</td>\n",
       "      <td>Аркадьев</td>\n",
       "      <td>2018-10-16</td>\n",
       "      <td>ultra</td>\n",
       "      <td>2700.0</td>\n",
       "    </tr>\n",
       "    <tr>\n",
       "      <th>3203</th>\n",
       "      <td>1328</td>\n",
       "      <td>12</td>\n",
       "      <td>0.0</td>\n",
       "      <td>0.0</td>\n",
       "      <td>7.0</td>\n",
       "      <td>39419.73</td>\n",
       "      <td>44</td>\n",
       "      <td>0</td>\n",
       "      <td>Мурманск</td>\n",
       "      <td>Рауль</td>\n",
       "      <td>Аркадьев</td>\n",
       "      <td>2018-10-16</td>\n",
       "      <td>ultra</td>\n",
       "      <td>3300.0</td>\n",
       "    </tr>\n",
       "  </tbody>\n",
       "</table>\n",
       "<p>134 rows × 14 columns</p>\n",
       "</div>"
      ],
      "text/plain": [
       "      user_id  month  number_calls  duration_calls  number_messages   mb_used  \\\n",
       "159      1024     11         157.0          1146.0              0.0  43107.47   \n",
       "160      1024     12         136.0           949.0              0.0  35948.13   \n",
       "311      1050      7          35.0           209.0             52.0  35177.91   \n",
       "383      1060     12         184.0          1233.0             52.0  43931.36   \n",
       "782      1124     10         152.0          1225.0            121.0  49745.69   \n",
       "...       ...    ...           ...             ...              ...       ...   \n",
       "3197     1231      9           0.0             0.0            188.0  33189.47   \n",
       "3198     1231     10           0.0             0.0            185.0  31032.93   \n",
       "3200     1231     12           0.0             0.0            191.0  32448.00   \n",
       "3202     1328     11           0.0             0.0              8.0  35525.58   \n",
       "3203     1328     12           0.0             0.0              7.0  39419.73   \n",
       "\n",
       "      age  churn_date             city first_name  last_name   reg_date  \\\n",
       "159    73           0  Санкт-Петербург     Иулиан    Антипов 2018-10-31   \n",
       "160    73           0  Санкт-Петербург     Иулиан    Антипов 2018-10-31   \n",
       "311    44  2018-10-03           Тюмень     Рузана   Аничкина 2018-06-16   \n",
       "383    46           0           Калуга       Яков    Рудаков 2018-11-24   \n",
       "782    54           0        Махачкала     Альбин  Андрианов 2018-09-24   \n",
       "...   ...         ...              ...        ...        ...        ...   \n",
       "3197   63           0        Чебоксары     Касьян    Авдюков 2018-05-23   \n",
       "3198   63           0        Чебоксары     Касьян    Авдюков 2018-05-23   \n",
       "3200   63           0        Чебоксары     Касьян    Авдюков 2018-05-23   \n",
       "3202   44           0         Мурманск      Рауль   Аркадьев 2018-10-16   \n",
       "3203   44           0         Мурманск      Рауль   Аркадьев 2018-10-16   \n",
       "\n",
       "     tariff  revenue  \n",
       "159   ultra   3900.0  \n",
       "160   ultra   2850.0  \n",
       "311   ultra   2700.0  \n",
       "383   ultra   3900.0  \n",
       "782   ultra   4800.0  \n",
       "...     ...      ...  \n",
       "3197  ultra   2400.0  \n",
       "3198  ultra   2100.0  \n",
       "3200  ultra   2250.0  \n",
       "3202  ultra   2700.0  \n",
       "3203  ultra   3300.0  \n",
       "\n",
       "[134 rows x 14 columns]"
      ]
     },
     "execution_count": 35,
     "metadata": {},
     "output_type": "execute_result"
    }
   ],
   "source": [
    "#срез по объему интернет трафика больше, чем в тарифе\n",
    "df_ultra.query('mb_used > 30720')"
   ]
  },
  {
   "cell_type": "markdown",
   "metadata": {},
   "source": [
    "### Вывод \n",
    "\n"
   ]
  },
  {
   "cell_type": "markdown",
   "metadata": {},
   "source": [
    "В ходе предобработки данных:\n",
    "1) Исправили строчный тип данных с датой на тип datetime.\n",
    "\n",
    "2) Удалили лишний столбец Unnamed: 0 в таблице internet_df.\n",
    "\n",
    "3) Округлили в большую сторону время звонка т.к. в тарифах идет округление до минут.\n",
    "\n",
    "4) Создали в таблицах столбцы `month` с разделением по месяцам.\n",
    "\n",
    "5) Посчитали количество сделанных звонков (с учетом пропущенных звонков) и израсходованных минут разговора по месяцам для каждого пользователя.\n",
    "\n",
    "6) Объединили все сводные таблицы в одну, для дальнейшего расчета помесячной выручки с каждого пользователя.\n",
    "\n",
    "7) Так как не в каждый месяц, каждым пользователем совершались звонки, отправлялись сообщения или использовался интернет, то в таблице появились пропуски. Заменили данные пропуски на нули.\n",
    "\n",
    "8) Выделили пользователей с тарифом ultra в отдельную таблицу df_ultra.\n",
    "\n",
    "9) Создали функцию revenue, которая рассчитывает помесячную выручку с каждого пользователя.\n",
    "\n",
    "При просмотре срезов таблиц df_smart и df_ultra, видно, что пользователи тарифа ultra превышают пакет тарифа только по интернет-трафику, в то время как пользователи тарифа smart превышают пакет тарифа по звонкам, сообщениям и интернет-трафику. \n",
    "\n",
    "\n",
    "По количеству строк таблиц, менее 500, видно, что:\n",
    "* для 8 пользователей нет данных по совершенным звонкам; \n",
    "* для 74 пользователей нет данных по отправленным сообщениям; \n",
    "* для 3 пользователей нет данных о использовании интернета."
   ]
  },
  {
   "cell_type": "markdown",
   "metadata": {},
   "source": [
    "## Анализ данных"
   ]
  },
  {
   "cell_type": "markdown",
   "metadata": {},
   "source": [
    "Посмотрим статистики по тарифам  "
   ]
  },
  {
   "cell_type": "code",
   "execution_count": 36,
   "metadata": {
    "scrolled": true
   },
   "outputs": [
    {
     "data": {
      "text/html": [
       "<div>\n",
       "<style scoped>\n",
       "    .dataframe tbody tr th:only-of-type {\n",
       "        vertical-align: middle;\n",
       "    }\n",
       "\n",
       "    .dataframe tbody tr th {\n",
       "        vertical-align: top;\n",
       "    }\n",
       "\n",
       "    .dataframe thead th {\n",
       "        text-align: right;\n",
       "    }\n",
       "</style>\n",
       "<table border=\"1\" class=\"dataframe\">\n",
       "  <thead>\n",
       "    <tr style=\"text-align: right;\">\n",
       "      <th></th>\n",
       "      <th>count</th>\n",
       "      <th>mean</th>\n",
       "      <th>std</th>\n",
       "      <th>min</th>\n",
       "      <th>25%</th>\n",
       "      <th>50%</th>\n",
       "      <th>75%</th>\n",
       "      <th>max</th>\n",
       "    </tr>\n",
       "  </thead>\n",
       "  <tbody>\n",
       "    <tr>\n",
       "      <th>user_id</th>\n",
       "      <td>2229.0</td>\n",
       "      <td>1246.506505</td>\n",
       "      <td>146.119496</td>\n",
       "      <td>1001.0</td>\n",
       "      <td>1121.00</td>\n",
       "      <td>1239.00</td>\n",
       "      <td>1376.00</td>\n",
       "      <td>1499.00</td>\n",
       "    </tr>\n",
       "    <tr>\n",
       "      <th>month</th>\n",
       "      <td>2229.0</td>\n",
       "      <td>8.346792</td>\n",
       "      <td>2.920316</td>\n",
       "      <td>1.0</td>\n",
       "      <td>6.00</td>\n",
       "      <td>9.00</td>\n",
       "      <td>11.00</td>\n",
       "      <td>12.00</td>\n",
       "    </tr>\n",
       "    <tr>\n",
       "      <th>number_calls</th>\n",
       "      <td>2229.0</td>\n",
       "      <td>58.463437</td>\n",
       "      <td>25.939858</td>\n",
       "      <td>0.0</td>\n",
       "      <td>40.00</td>\n",
       "      <td>60.00</td>\n",
       "      <td>76.00</td>\n",
       "      <td>198.00</td>\n",
       "    </tr>\n",
       "    <tr>\n",
       "      <th>duration_calls</th>\n",
       "      <td>2229.0</td>\n",
       "      <td>417.934948</td>\n",
       "      <td>190.313730</td>\n",
       "      <td>0.0</td>\n",
       "      <td>282.00</td>\n",
       "      <td>422.00</td>\n",
       "      <td>545.00</td>\n",
       "      <td>1435.00</td>\n",
       "    </tr>\n",
       "    <tr>\n",
       "      <th>number_messages</th>\n",
       "      <td>2229.0</td>\n",
       "      <td>33.384029</td>\n",
       "      <td>28.227876</td>\n",
       "      <td>0.0</td>\n",
       "      <td>10.00</td>\n",
       "      <td>28.00</td>\n",
       "      <td>51.00</td>\n",
       "      <td>143.00</td>\n",
       "    </tr>\n",
       "    <tr>\n",
       "      <th>mb_used</th>\n",
       "      <td>2229.0</td>\n",
       "      <td>16208.386990</td>\n",
       "      <td>5870.476681</td>\n",
       "      <td>0.0</td>\n",
       "      <td>12643.01</td>\n",
       "      <td>16506.84</td>\n",
       "      <td>20042.93</td>\n",
       "      <td>38552.45</td>\n",
       "    </tr>\n",
       "    <tr>\n",
       "      <th>age</th>\n",
       "      <td>2229.0</td>\n",
       "      <td>46.556303</td>\n",
       "      <td>16.353371</td>\n",
       "      <td>18.0</td>\n",
       "      <td>32.00</td>\n",
       "      <td>47.00</td>\n",
       "      <td>62.00</td>\n",
       "      <td>75.00</td>\n",
       "    </tr>\n",
       "    <tr>\n",
       "      <th>revenue</th>\n",
       "      <td>2229.0</td>\n",
       "      <td>1289.973531</td>\n",
       "      <td>818.404367</td>\n",
       "      <td>550.0</td>\n",
       "      <td>550.00</td>\n",
       "      <td>1023.00</td>\n",
       "      <td>1750.00</td>\n",
       "      <td>6770.00</td>\n",
       "    </tr>\n",
       "  </tbody>\n",
       "</table>\n",
       "</div>"
      ],
      "text/plain": [
       "                  count          mean          std     min       25%  \\\n",
       "user_id          2229.0   1246.506505   146.119496  1001.0   1121.00   \n",
       "month            2229.0      8.346792     2.920316     1.0      6.00   \n",
       "number_calls     2229.0     58.463437    25.939858     0.0     40.00   \n",
       "duration_calls   2229.0    417.934948   190.313730     0.0    282.00   \n",
       "number_messages  2229.0     33.384029    28.227876     0.0     10.00   \n",
       "mb_used          2229.0  16208.386990  5870.476681     0.0  12643.01   \n",
       "age              2229.0     46.556303    16.353371    18.0     32.00   \n",
       "revenue          2229.0   1289.973531   818.404367   550.0    550.00   \n",
       "\n",
       "                      50%       75%       max  \n",
       "user_id           1239.00   1376.00   1499.00  \n",
       "month                9.00     11.00     12.00  \n",
       "number_calls        60.00     76.00    198.00  \n",
       "duration_calls     422.00    545.00   1435.00  \n",
       "number_messages     28.00     51.00    143.00  \n",
       "mb_used          16506.84  20042.93  38552.45  \n",
       "age                 47.00     62.00     75.00  \n",
       "revenue           1023.00   1750.00   6770.00  "
      ]
     },
     "execution_count": 36,
     "metadata": {},
     "output_type": "execute_result"
    }
   ],
   "source": [
    "#cтатистики тарифа smart\n",
    "df_smart.describe().T"
   ]
  },
  {
   "cell_type": "markdown",
   "metadata": {},
   "source": [
    "В среднем один пользователь тарифа smart тратит 1290 р. "
   ]
  },
  {
   "cell_type": "code",
   "execution_count": 37,
   "metadata": {
    "scrolled": true
   },
   "outputs": [
    {
     "data": {
      "text/html": [
       "<div>\n",
       "<style scoped>\n",
       "    .dataframe tbody tr th:only-of-type {\n",
       "        vertical-align: middle;\n",
       "    }\n",
       "\n",
       "    .dataframe tbody tr th {\n",
       "        vertical-align: top;\n",
       "    }\n",
       "\n",
       "    .dataframe thead th {\n",
       "        text-align: right;\n",
       "    }\n",
       "</style>\n",
       "<table border=\"1\" class=\"dataframe\">\n",
       "  <thead>\n",
       "    <tr style=\"text-align: right;\">\n",
       "      <th></th>\n",
       "      <th>count</th>\n",
       "      <th>mean</th>\n",
       "      <th>std</th>\n",
       "      <th>min</th>\n",
       "      <th>25%</th>\n",
       "      <th>50%</th>\n",
       "      <th>75%</th>\n",
       "      <th>max</th>\n",
       "    </tr>\n",
       "  </thead>\n",
       "  <tbody>\n",
       "    <tr>\n",
       "      <th>user_id</th>\n",
       "      <td>985.0</td>\n",
       "      <td>1263.094416</td>\n",
       "      <td>140.694908</td>\n",
       "      <td>1000.0</td>\n",
       "      <td>1143.00</td>\n",
       "      <td>1277.00</td>\n",
       "      <td>1381.00</td>\n",
       "      <td>1495.00</td>\n",
       "    </tr>\n",
       "    <tr>\n",
       "      <th>month</th>\n",
       "      <td>985.0</td>\n",
       "      <td>8.250761</td>\n",
       "      <td>2.871762</td>\n",
       "      <td>1.0</td>\n",
       "      <td>6.00</td>\n",
       "      <td>9.00</td>\n",
       "      <td>11.00</td>\n",
       "      <td>12.00</td>\n",
       "    </tr>\n",
       "    <tr>\n",
       "      <th>number_calls</th>\n",
       "      <td>985.0</td>\n",
       "      <td>73.392893</td>\n",
       "      <td>43.916853</td>\n",
       "      <td>0.0</td>\n",
       "      <td>41.00</td>\n",
       "      <td>74.00</td>\n",
       "      <td>104.00</td>\n",
       "      <td>244.00</td>\n",
       "    </tr>\n",
       "    <tr>\n",
       "      <th>duration_calls</th>\n",
       "      <td>985.0</td>\n",
       "      <td>526.623350</td>\n",
       "      <td>317.606098</td>\n",
       "      <td>0.0</td>\n",
       "      <td>284.00</td>\n",
       "      <td>518.00</td>\n",
       "      <td>752.00</td>\n",
       "      <td>1673.00</td>\n",
       "    </tr>\n",
       "    <tr>\n",
       "      <th>number_messages</th>\n",
       "      <td>985.0</td>\n",
       "      <td>49.363452</td>\n",
       "      <td>47.804457</td>\n",
       "      <td>0.0</td>\n",
       "      <td>6.00</td>\n",
       "      <td>38.00</td>\n",
       "      <td>79.00</td>\n",
       "      <td>224.00</td>\n",
       "    </tr>\n",
       "    <tr>\n",
       "      <th>mb_used</th>\n",
       "      <td>985.0</td>\n",
       "      <td>19468.805208</td>\n",
       "      <td>10087.170752</td>\n",
       "      <td>0.0</td>\n",
       "      <td>11770.26</td>\n",
       "      <td>19308.01</td>\n",
       "      <td>26837.69</td>\n",
       "      <td>49745.69</td>\n",
       "    </tr>\n",
       "    <tr>\n",
       "      <th>age</th>\n",
       "      <td>985.0</td>\n",
       "      <td>46.834518</td>\n",
       "      <td>17.107979</td>\n",
       "      <td>18.0</td>\n",
       "      <td>30.00</td>\n",
       "      <td>45.00</td>\n",
       "      <td>63.00</td>\n",
       "      <td>75.00</td>\n",
       "    </tr>\n",
       "    <tr>\n",
       "      <th>revenue</th>\n",
       "      <td>985.0</td>\n",
       "      <td>2070.152284</td>\n",
       "      <td>376.187114</td>\n",
       "      <td>1950.0</td>\n",
       "      <td>1950.00</td>\n",
       "      <td>1950.00</td>\n",
       "      <td>1950.00</td>\n",
       "      <td>4800.00</td>\n",
       "    </tr>\n",
       "  </tbody>\n",
       "</table>\n",
       "</div>"
      ],
      "text/plain": [
       "                 count          mean           std     min       25%  \\\n",
       "user_id          985.0   1263.094416    140.694908  1000.0   1143.00   \n",
       "month            985.0      8.250761      2.871762     1.0      6.00   \n",
       "number_calls     985.0     73.392893     43.916853     0.0     41.00   \n",
       "duration_calls   985.0    526.623350    317.606098     0.0    284.00   \n",
       "number_messages  985.0     49.363452     47.804457     0.0      6.00   \n",
       "mb_used          985.0  19468.805208  10087.170752     0.0  11770.26   \n",
       "age              985.0     46.834518     17.107979    18.0     30.00   \n",
       "revenue          985.0   2070.152284    376.187114  1950.0   1950.00   \n",
       "\n",
       "                      50%       75%       max  \n",
       "user_id           1277.00   1381.00   1495.00  \n",
       "month                9.00     11.00     12.00  \n",
       "number_calls        74.00    104.00    244.00  \n",
       "duration_calls     518.00    752.00   1673.00  \n",
       "number_messages     38.00     79.00    224.00  \n",
       "mb_used          19308.01  26837.69  49745.69  \n",
       "age                 45.00     63.00     75.00  \n",
       "revenue           1950.00   1950.00   4800.00  "
      ]
     },
     "execution_count": 37,
     "metadata": {},
     "output_type": "execute_result"
    }
   ],
   "source": [
    "#cтатистики тарифа ultra\n",
    "df_ultra.describe().T"
   ]
  },
  {
   "cell_type": "markdown",
   "metadata": {},
   "source": [
    "В среднем один пользователь тарифа ultra тратит 2070 р. "
   ]
  },
  {
   "cell_type": "markdown",
   "metadata": {},
   "source": [
    "Функции для построения графиков"
   ]
  },
  {
   "cell_type": "code",
   "execution_count": 38,
   "metadata": {},
   "outputs": [],
   "source": [
    "#функция plot_custom_smart на входе столбец на выходе статистики и графики для тарифа smart\n",
    "def plot_custom_smart(column):\n",
    "    print('Медиана:', df_smart[column].median())\n",
    "    print('Средняя:', df_smart[column].mean().round())\n",
    "    print('Дисперсия:', np.around(np.var(df_smart[column])))\n",
    "    print('Стандартное отклонение:', df_smart[column].std().round())\n",
    "    sns.set(style=\"ticks\")\n",
    "    f, (ax_box, ax_hist) = plt.subplots(2, sharex=True, gridspec_kw={\"height_ratios\": (.15, .85)})\n",
    "    sns.boxplot(df_smart[column], ax=ax_box)\n",
    "    sns.distplot(df_smart[column], ax=ax_hist)\n",
    "    ax_box.set(yticks=[])\n",
    "    sns.despine(ax=ax_hist)\n",
    "    sns.despine(ax=ax_box, left=True)"
   ]
  },
  {
   "cell_type": "code",
   "execution_count": 39,
   "metadata": {},
   "outputs": [],
   "source": [
    "#функция plot_custom_ultra на входе столбец на выходе статистики и графики для тарифа ultra\n",
    "def plot_custom_ultra(column):\n",
    "    print('Медиана:', df_ultra[column].median())\n",
    "    print('Средняя:', df_ultra[column].mean().round())\n",
    "    print('Дисперсия:', np.around(np.var(df_ultra[column])))\n",
    "    print('Стандартное отклонение:', df_ultra[column].std().round())\n",
    "    sns.set(style=\"ticks\")\n",
    "    f, (ax_box, ax_hist) = plt.subplots(2, sharex=True, gridspec_kw={\"height_ratios\": (.15, .85)})\n",
    "    sns.boxplot(df_ultra[column], ax=ax_box)\n",
    "    sns.distplot(df_ultra[column], ax=ax_hist)\n",
    "    ax_box.set(yticks=[])\n",
    "    sns.despine(ax=ax_hist)\n",
    "    sns.despine(ax=ax_box, left=True)"
   ]
  },
  {
   "cell_type": "markdown",
   "metadata": {},
   "source": [
    "Посчитаем среднее количество, дисперсию и стандартное отклонение длительности разговора, количества сообщений и объёма интернет-трафика. Построим гистограммы и диаграммы размаха."
   ]
  },
  {
   "cell_type": "code",
   "execution_count": 40,
   "metadata": {},
   "outputs": [
    {
     "name": "stdout",
     "output_type": "stream",
     "text": [
      "Медиана: 422.0\n",
      "Средняя: 418.0\n",
      "Дисперсия: 36203.0\n",
      "Стандартное отклонение: 190.0\n"
     ]
    },
    {
     "data": {
      "image/png": "[encoded data removed]",
      "text/plain": [
       "<Figure size 432x288 with 2 Axes>"
      ]
     },
     "metadata": {},
     "output_type": "display_data"
    }
   ],
   "source": [
    "#вызываем функцию для построения графиков и отображения статистик\n",
    "plot_custom_smart('duration_calls')"
   ]
  },
  {
   "cell_type": "code",
   "execution_count": 41,
   "metadata": {
    "scrolled": true
   },
   "outputs": [
    {
     "name": "stdout",
     "output_type": "stream",
     "text": [
      "Медиана: 518.0\n",
      "Средняя: 527.0\n",
      "Дисперсия: 100771.0\n",
      "Стандартное отклонение: 318.0\n"
     ]
    },
    {
     "data": {
      "image/png": "[encoded data removed]",
      "text/plain": [
       "<Figure size 432x288 with 2 Axes>"
      ]
     },
     "metadata": {},
     "output_type": "display_data"
    }
   ],
   "source": [
    "#вызываем функцию для построения графиков и отображения статистик\n",
    "plot_custom_ultra('duration_calls')"
   ]
  },
  {
   "cell_type": "markdown",
   "metadata": {},
   "source": [
    "Средняя и медианная продолжительность звонков на тарифе ultra больше, чем на тарифе smart. Распределение похоже на нормальное. Стандартное отклонение на тарифе ultra больше, чем на тарифе smart из-за чего график распределения длительности звонков на тарифе ultra более пологий. "
   ]
  },
  {
   "cell_type": "code",
   "execution_count": 42,
   "metadata": {},
   "outputs": [
    {
     "name": "stdout",
     "output_type": "stream",
     "text": [
      "Медиана: 28.0\n",
      "Средняя: 33.0\n",
      "Дисперсия: 796.0\n",
      "Стандартное отклонение: 28.0\n"
     ]
    },
    {
     "data": {
      "image/png": "[encoded data removed]",
      "text/plain": [
       "<Figure size 432x288 with 2 Axes>"
      ]
     },
     "metadata": {},
     "output_type": "display_data"
    }
   ],
   "source": [
    "#вызываем функцию для построения графиков и отображения статистик\n",
    "plot_custom_smart('number_messages')"
   ]
  },
  {
   "cell_type": "code",
   "execution_count": 43,
   "metadata": {
    "scrolled": true
   },
   "outputs": [
    {
     "name": "stdout",
     "output_type": "stream",
     "text": [
      "Медиана: 38.0\n",
      "Средняя: 49.0\n",
      "Дисперсия: 2283.0\n",
      "Стандартное отклонение: 48.0\n"
     ]
    },
    {
     "data": {
      "image/png": "[encoded data removed]",
      "text/plain": [
       "<Figure size 432x288 with 2 Axes>"
      ]
     },
     "metadata": {},
     "output_type": "display_data"
    }
   ],
   "source": [
    "#вызываем функцию для построения графиков и отображения статистик\n",
    "plot_custom_ultra('number_messages')"
   ]
  },
  {
   "cell_type": "markdown",
   "metadata": {},
   "source": [
    "Среднее и медианное количество сообщений на тарифе ultra больше, чем на тарифе smart. Распределение похоже на экспоненциальное. Стандартное отклонение на тарифе ultra больше, чем на тарифе smart из-за чего график распределения  количество сообщений на тарифе ultra более пологий. "
   ]
  },
  {
   "cell_type": "code",
   "execution_count": 44,
   "metadata": {},
   "outputs": [
    {
     "name": "stdout",
     "output_type": "stream",
     "text": [
      "Медиана: 16506.84\n",
      "Средняя: 16208.0\n",
      "Дисперсия: 34447035.0\n",
      "Стандартное отклонение: 5870.0\n"
     ]
    },
    {
     "data": {
      "image/png": "[encoded data removed]",
      "text/plain": [
       "<Figure size 432x288 with 2 Axes>"
      ]
     },
     "metadata": {},
     "output_type": "display_data"
    }
   ],
   "source": [
    "#вызываем функцию для построения графиков и отображения статистик\n",
    "plot_custom_smart('mb_used')"
   ]
  },
  {
   "cell_type": "code",
   "execution_count": 45,
   "metadata": {
    "scrolled": true
   },
   "outputs": [
    {
     "name": "stdout",
     "output_type": "stream",
     "text": [
      "Медиана: 19308.01\n",
      "Средняя: 19469.0\n",
      "Дисперсия: 101647713.0\n",
      "Стандартное отклонение: 10087.0\n"
     ]
    },
    {
     "data": {
      "image/png": "[encoded data removed]",
      "text/plain": [
       "<Figure size 432x288 with 2 Axes>"
      ]
     },
     "metadata": {},
     "output_type": "display_data"
    }
   ],
   "source": [
    "#вызываем функцию для построения графиков и отображения статистик\n",
    "plot_custom_ultra('mb_used')"
   ]
  },
  {
   "cell_type": "markdown",
   "metadata": {},
   "source": [
    "Среднее и медианное количество интернет-трафика ultra больше, чем на тарифе smart. Распределение похоже на нормальное. Стандартное отклонение на тарифе ultra больше, чем на тарифе smart из-за чего график распределения  количества интернет-трафика на тарифе ultra более пологий. "
   ]
  },
  {
   "cell_type": "code",
   "execution_count": 46,
   "metadata": {},
   "outputs": [
    {
     "name": "stdout",
     "output_type": "stream",
     "text": [
      "Медиана: 1023.0\n",
      "Средняя: 1290.0\n",
      "Дисперсия: 669485.0\n",
      "Стандартное отклонение: 818.0\n"
     ]
    },
    {
     "data": {
      "image/png": "[encoded data removed]",
      "text/plain": [
       "<Figure size 432x288 with 2 Axes>"
      ]
     },
     "metadata": {},
     "output_type": "display_data"
    }
   ],
   "source": [
    "#вызываем функцию для построения графиков и отображения статистик\n",
    "plot_custom_smart('revenue')"
   ]
  },
  {
   "cell_type": "code",
   "execution_count": 47,
   "metadata": {
    "scrolled": false
   },
   "outputs": [
    {
     "name": "stdout",
     "output_type": "stream",
     "text": [
      "Медиана: 1950.0\n",
      "Средняя: 2070.0\n",
      "Дисперсия: 141373.0\n",
      "Стандартное отклонение: 376.0\n"
     ]
    },
    {
     "data": {
      "image/png": "[encoded data removed]",
      "text/plain": [
       "<Figure size 432x288 with 2 Axes>"
      ]
     },
     "metadata": {},
     "output_type": "display_data"
    }
   ],
   "source": [
    "#вызываем функцию для построения графиков и отображения статистик\n",
    "plot_custom_ultra('revenue')"
   ]
  },
  {
   "cell_type": "markdown",
   "metadata": {},
   "source": [
    "Средняя и медианная выручка с каждого пользователя на тарифе ultra больше, чем на тарифе smart. Стандартное отклонение на тарифе smart больше, чем на тарифе ultra. \n",
    "\n",
    "По графикам видно, что клиентов вышедших за пределы пакета тарифа ultra практически нет, в то время как для тарифа smart заметная часть пользователей выходят за пределы пакета услуг."
   ]
  },
  {
   "cell_type": "markdown",
   "metadata": {},
   "source": [
    "### Вывод\n",
    "\n",
    "\n"
   ]
  },
  {
   "cell_type": "markdown",
   "metadata": {},
   "source": [
    "В ходе анализа данных мы:\n",
    "1) Посчитали статистики по тарифам.\n",
    "\n",
    "2) Посчитали среднее количество, дисперсию и стандартное отклонение длительности разговора, количества сообщений, объёма интернет-трафика и выручки с каждого пользователя.\n",
    "\n",
    "3) Построим гистограммы и диаграмму размаха для длительности разговора, количества сообщений, объёма интернет-трафика и выручки с каждого пользователя.\n",
    "\n",
    "Выяснили что:\n",
    "* Средняя и медианная продолжительность звонков на тарифе ultra (Медиана: 518, Средняя: 527) больше, чем на тарифе smart (Медиана: 422, Средняя: 418). \n",
    "* Распределение похоже на нормальное. \n",
    "* Стандартное отклонение на тарифе ultra (318) больше, чем на тарифе smart (190) из-за чего график распределения длительности звонков на тарифе ultra более пологий.\n",
    "\n",
    "\n",
    "* Среднее и медианное количество сообщений на тарифе ultra (Медиана: 38, Средняя: 49) больше, чем на тарифе smart (Медиана: 28, Средняя: 33).\n",
    "* Распределение похоже на экспоненциальное. \n",
    "* Стандартное отклонение на тарифе ultra (48) больше, чем на тарифе smart (28) из-за чего график распределения  количество сообщений на тарифе ultra более пологий.\n",
    "\n",
    "\n",
    "* Среднее и медианное количество интернет-трафика ultra (Медиана: 19308, Средняя: 19469) больше, чем на тарифе smart (Медиана: 16506, Средняя: 16208). \n",
    "* Распределение похоже на нормальное. \n",
    "* Стандартное отклонение на тарифе ultra (10087) больше, чем на тарифе smart (5870) из-за чего график распределения  количества интернет-трафика на тарифе ultra более пологий.\n",
    "\n",
    "* Средняя и медианная выручка с каждого пользователя на тарифе ultra (Медиана: 1950, Средняя: 2070) больше, чем на тарифе smart (Медиана: 1023, Средняя: 1290).  \n",
    "* Стандартное отклонение на тарифе smart (818) больше, чем на тарифе ultra (376).\n",
    "* По графикам видно, что клиентов, вышедших за пределы пакета тарифа ultra практически нет, в то время как для тарифа smart заметная часть пользователей выходят за пределы пакета услуг."
   ]
  },
  {
   "cell_type": "markdown",
   "metadata": {},
   "source": [
    "## Проверка гипотез"
   ]
  },
  {
   "cell_type": "markdown",
   "metadata": {},
   "source": [
    "### Средняя выручка пользователей тарифов «Ультра» и «Смарт» различаются"
   ]
  },
  {
   "cell_type": "markdown",
   "metadata": {},
   "source": [
    "Для проверки гипотезы, что средняя выручка пользователей тарифов «Ультра» и «Смарт» различаются, сформулируем нулевую гипотезу H₀, что  средняя выручка пользователей тарифов «Ультра» и «Смарт» равны. \n",
    "\n",
    "Исходя из H₀ сформулируем альтернативную гипотеза H₁, что средняя выручка пользователей тарифов «Ультра» и «Смарт» различаются. Это утверждение, которое принимается верным, если отбрасывается H₀. "
   ]
  },
  {
   "cell_type": "code",
   "execution_count": 48,
   "metadata": {},
   "outputs": [
    {
     "name": "stdout",
     "output_type": "stream",
     "text": [
      "p-значение: 1.4229814360764067e-160\n",
      "Отвергаем нулевую гипотезу\n"
     ]
    }
   ],
   "source": [
    "#проверяем гипотезу о равенстве средней выручки пользователей тарифов «Ультра» и «Смарт»\n",
    "smart = df_smart['revenue']\n",
    "ultra = df_ultra['revenue']\n",
    "alpha = .05 \n",
    "results = st.ttest_ind(\n",
    "    smart, \n",
    "    ultra)\n",
    "\n",
    "print('p-значение:', results.pvalue)\n",
    "\n",
    "if results.pvalue < alpha:\n",
    "    print(\"Отвергаем нулевую гипотезу\")\n",
    "else:\n",
    "    print(\"Не получилось отвергнуть нулевую гипотезу\")"
   ]
  },
  {
   "cell_type": "markdown",
   "metadata": {},
   "source": [
    "Проверим среднии выручки по тарифам"
   ]
  },
  {
   "cell_type": "code",
   "execution_count": 49,
   "metadata": {},
   "outputs": [
    {
     "data": {
      "text/plain": [
       "1290"
      ]
     },
     "execution_count": 49,
     "metadata": {},
     "output_type": "execute_result"
    }
   ],
   "source": [
    "round(df_smart['revenue'].mean())"
   ]
  },
  {
   "cell_type": "code",
   "execution_count": 50,
   "metadata": {
    "scrolled": true
   },
   "outputs": [
    {
     "data": {
      "text/plain": [
       "2070"
      ]
     },
     "execution_count": 50,
     "metadata": {},
     "output_type": "execute_result"
    }
   ],
   "source": [
    "round(df_ultra['revenue'].mean())"
   ]
  },
  {
   "cell_type": "markdown",
   "metadata": {},
   "source": [
    "Средняя выручка на тарифе ultra сильно больше (более 60%), чем на тарифе smart"
   ]
  },
  {
   "cell_type": "markdown",
   "metadata": {},
   "source": [
    "Гипотеза H₀ о равенстве средней выручки пользователей тарифов «Ультра» и «Смарт» отвергнута, значит принимается гипотеза H₁ о не равенстве средней выручки пользователей тарифов «Ультра» и «Смарт». "
   ]
  },
  {
   "cell_type": "markdown",
   "metadata": {},
   "source": [
    "### Средняя выручка пользователей из Москвы отличается от выручки пользователей из других регионов"
   ]
  },
  {
   "cell_type": "markdown",
   "metadata": {},
   "source": [
    "Для проверки гипотезы, что средняя выручка пользователей из Москвы отличается от выручки пользователей из других регионов, сформулируем нулевую гипотезу H₀, что средняя выручка пользователей из Москвы и выручка пользователей из других регионов равны.\n",
    "\n",
    "Исходя из H₀ сформулируем альтернативную гипотеза H₁, что средняя выручка пользователей из Москвы и выручка пользователей из других регионов различаются. Это утверждение, которое принимается верным, если отбрасывается H₀."
   ]
  },
  {
   "cell_type": "markdown",
   "metadata": {},
   "source": [
    "Проверим данные гипотезы для тарифа smart"
   ]
  },
  {
   "cell_type": "code",
   "execution_count": 51,
   "metadata": {},
   "outputs": [
    {
     "data": {
      "text/html": [
       "<div>\n",
       "<style scoped>\n",
       "    .dataframe tbody tr th:only-of-type {\n",
       "        vertical-align: middle;\n",
       "    }\n",
       "\n",
       "    .dataframe tbody tr th {\n",
       "        vertical-align: top;\n",
       "    }\n",
       "\n",
       "    .dataframe thead th {\n",
       "        text-align: right;\n",
       "    }\n",
       "</style>\n",
       "<table border=\"1\" class=\"dataframe\">\n",
       "  <thead>\n",
       "    <tr style=\"text-align: right;\">\n",
       "      <th></th>\n",
       "      <th>user_id</th>\n",
       "      <th>month</th>\n",
       "      <th>number_calls</th>\n",
       "      <th>duration_calls</th>\n",
       "      <th>number_messages</th>\n",
       "      <th>mb_used</th>\n",
       "      <th>age</th>\n",
       "      <th>churn_date</th>\n",
       "      <th>city</th>\n",
       "      <th>first_name</th>\n",
       "      <th>last_name</th>\n",
       "      <th>reg_date</th>\n",
       "      <th>tariff</th>\n",
       "      <th>revenue</th>\n",
       "    </tr>\n",
       "  </thead>\n",
       "  <tbody>\n",
       "    <tr>\n",
       "      <th>8</th>\n",
       "      <td>1001</td>\n",
       "      <td>11</td>\n",
       "      <td>59.0</td>\n",
       "      <td>430.0</td>\n",
       "      <td>0.0</td>\n",
       "      <td>18429.34</td>\n",
       "      <td>41</td>\n",
       "      <td>0</td>\n",
       "      <td>Москва</td>\n",
       "      <td>Иван</td>\n",
       "      <td>Ежов</td>\n",
       "      <td>2018-11-01</td>\n",
       "      <td>smart</td>\n",
       "      <td>1150.0</td>\n",
       "    </tr>\n",
       "    <tr>\n",
       "      <th>9</th>\n",
       "      <td>1001</td>\n",
       "      <td>12</td>\n",
       "      <td>63.0</td>\n",
       "      <td>414.0</td>\n",
       "      <td>0.0</td>\n",
       "      <td>14036.66</td>\n",
       "      <td>41</td>\n",
       "      <td>0</td>\n",
       "      <td>Москва</td>\n",
       "      <td>Иван</td>\n",
       "      <td>Ежов</td>\n",
       "      <td>2018-11-01</td>\n",
       "      <td>smart</td>\n",
       "      <td>550.0</td>\n",
       "    </tr>\n",
       "    <tr>\n",
       "      <th>53</th>\n",
       "      <td>1007</td>\n",
       "      <td>4</td>\n",
       "      <td>25.0</td>\n",
       "      <td>198.0</td>\n",
       "      <td>11.0</td>\n",
       "      <td>8022.76</td>\n",
       "      <td>65</td>\n",
       "      <td>0</td>\n",
       "      <td>Москва</td>\n",
       "      <td>Юна</td>\n",
       "      <td>Березина</td>\n",
       "      <td>2018-04-19</td>\n",
       "      <td>smart</td>\n",
       "      <td>550.0</td>\n",
       "    </tr>\n",
       "    <tr>\n",
       "      <th>54</th>\n",
       "      <td>1007</td>\n",
       "      <td>5</td>\n",
       "      <td>67.0</td>\n",
       "      <td>480.0</td>\n",
       "      <td>39.0</td>\n",
       "      <td>17687.27</td>\n",
       "      <td>65</td>\n",
       "      <td>0</td>\n",
       "      <td>Москва</td>\n",
       "      <td>Юна</td>\n",
       "      <td>Березина</td>\n",
       "      <td>2018-04-19</td>\n",
       "      <td>smart</td>\n",
       "      <td>1150.0</td>\n",
       "    </tr>\n",
       "    <tr>\n",
       "      <th>55</th>\n",
       "      <td>1007</td>\n",
       "      <td>6</td>\n",
       "      <td>68.0</td>\n",
       "      <td>545.0</td>\n",
       "      <td>26.0</td>\n",
       "      <td>13654.52</td>\n",
       "      <td>65</td>\n",
       "      <td>0</td>\n",
       "      <td>Москва</td>\n",
       "      <td>Юна</td>\n",
       "      <td>Березина</td>\n",
       "      <td>2018-04-19</td>\n",
       "      <td>smart</td>\n",
       "      <td>685.0</td>\n",
       "    </tr>\n",
       "    <tr>\n",
       "      <th>...</th>\n",
       "      <td>...</td>\n",
       "      <td>...</td>\n",
       "      <td>...</td>\n",
       "      <td>...</td>\n",
       "      <td>...</td>\n",
       "      <td>...</td>\n",
       "      <td>...</td>\n",
       "      <td>...</td>\n",
       "      <td>...</td>\n",
       "      <td>...</td>\n",
       "      <td>...</td>\n",
       "      <td>...</td>\n",
       "      <td>...</td>\n",
       "      <td>...</td>\n",
       "    </tr>\n",
       "    <tr>\n",
       "      <th>3120</th>\n",
       "      <td>1490</td>\n",
       "      <td>8</td>\n",
       "      <td>45.0</td>\n",
       "      <td>346.0</td>\n",
       "      <td>50.0</td>\n",
       "      <td>17275.37</td>\n",
       "      <td>30</td>\n",
       "      <td>0</td>\n",
       "      <td>Москва</td>\n",
       "      <td>Радомир</td>\n",
       "      <td>Алесин</td>\n",
       "      <td>2018-04-03</td>\n",
       "      <td>smart</td>\n",
       "      <td>950.0</td>\n",
       "    </tr>\n",
       "    <tr>\n",
       "      <th>3121</th>\n",
       "      <td>1490</td>\n",
       "      <td>9</td>\n",
       "      <td>44.0</td>\n",
       "      <td>322.0</td>\n",
       "      <td>48.0</td>\n",
       "      <td>14816.95</td>\n",
       "      <td>30</td>\n",
       "      <td>0</td>\n",
       "      <td>Москва</td>\n",
       "      <td>Радомир</td>\n",
       "      <td>Алесин</td>\n",
       "      <td>2018-04-03</td>\n",
       "      <td>smart</td>\n",
       "      <td>550.0</td>\n",
       "    </tr>\n",
       "    <tr>\n",
       "      <th>3122</th>\n",
       "      <td>1490</td>\n",
       "      <td>10</td>\n",
       "      <td>42.0</td>\n",
       "      <td>312.0</td>\n",
       "      <td>45.0</td>\n",
       "      <td>20664.97</td>\n",
       "      <td>30</td>\n",
       "      <td>0</td>\n",
       "      <td>Москва</td>\n",
       "      <td>Радомир</td>\n",
       "      <td>Алесин</td>\n",
       "      <td>2018-04-03</td>\n",
       "      <td>smart</td>\n",
       "      <td>1750.0</td>\n",
       "    </tr>\n",
       "    <tr>\n",
       "      <th>3123</th>\n",
       "      <td>1490</td>\n",
       "      <td>11</td>\n",
       "      <td>38.0</td>\n",
       "      <td>282.0</td>\n",
       "      <td>47.0</td>\n",
       "      <td>18712.66</td>\n",
       "      <td>30</td>\n",
       "      <td>0</td>\n",
       "      <td>Москва</td>\n",
       "      <td>Радомир</td>\n",
       "      <td>Алесин</td>\n",
       "      <td>2018-04-03</td>\n",
       "      <td>smart</td>\n",
       "      <td>1350.0</td>\n",
       "    </tr>\n",
       "    <tr>\n",
       "      <th>3124</th>\n",
       "      <td>1490</td>\n",
       "      <td>12</td>\n",
       "      <td>42.0</td>\n",
       "      <td>290.0</td>\n",
       "      <td>46.0</td>\n",
       "      <td>15785.74</td>\n",
       "      <td>30</td>\n",
       "      <td>0</td>\n",
       "      <td>Москва</td>\n",
       "      <td>Радомир</td>\n",
       "      <td>Алесин</td>\n",
       "      <td>2018-04-03</td>\n",
       "      <td>smart</td>\n",
       "      <td>750.0</td>\n",
       "    </tr>\n",
       "  </tbody>\n",
       "</table>\n",
       "<p>386 rows × 14 columns</p>\n",
       "</div>"
      ],
      "text/plain": [
       "      user_id  month  number_calls  duration_calls  number_messages   mb_used  \\\n",
       "8        1001     11          59.0           430.0              0.0  18429.34   \n",
       "9        1001     12          63.0           414.0              0.0  14036.66   \n",
       "53       1007      4          25.0           198.0             11.0   8022.76   \n",
       "54       1007      5          67.0           480.0             39.0  17687.27   \n",
       "55       1007      6          68.0           545.0             26.0  13654.52   \n",
       "...       ...    ...           ...             ...              ...       ...   \n",
       "3120     1490      8          45.0           346.0             50.0  17275.37   \n",
       "3121     1490      9          44.0           322.0             48.0  14816.95   \n",
       "3122     1490     10          42.0           312.0             45.0  20664.97   \n",
       "3123     1490     11          38.0           282.0             47.0  18712.66   \n",
       "3124     1490     12          42.0           290.0             46.0  15785.74   \n",
       "\n",
       "      age churn_date    city first_name last_name   reg_date tariff  revenue  \n",
       "8      41          0  Москва       Иван      Ежов 2018-11-01  smart   1150.0  \n",
       "9      41          0  Москва       Иван      Ежов 2018-11-01  smart    550.0  \n",
       "53     65          0  Москва        Юна  Березина 2018-04-19  smart    550.0  \n",
       "54     65          0  Москва        Юна  Березина 2018-04-19  smart   1150.0  \n",
       "55     65          0  Москва        Юна  Березина 2018-04-19  smart    685.0  \n",
       "...   ...        ...     ...        ...       ...        ...    ...      ...  \n",
       "3120   30          0  Москва    Радомир    Алесин 2018-04-03  smart    950.0  \n",
       "3121   30          0  Москва    Радомир    Алесин 2018-04-03  smart    550.0  \n",
       "3122   30          0  Москва    Радомир    Алесин 2018-04-03  smart   1750.0  \n",
       "3123   30          0  Москва    Радомир    Алесин 2018-04-03  smart   1350.0  \n",
       "3124   30          0  Москва    Радомир    Алесин 2018-04-03  smart    750.0  \n",
       "\n",
       "[386 rows x 14 columns]"
      ]
     },
     "execution_count": 51,
     "metadata": {},
     "output_type": "execute_result"
    }
   ],
   "source": [
    "#в таблице тарифа smart сделаем срез по пользователям из Москвы\n",
    "df_smart_moscow = df_smart.query('city == \"Москва\"')\n",
    "df_smart_moscow"
   ]
  },
  {
   "cell_type": "code",
   "execution_count": 52,
   "metadata": {},
   "outputs": [
    {
     "data": {
      "text/html": [
       "<div>\n",
       "<style scoped>\n",
       "    .dataframe tbody tr th:only-of-type {\n",
       "        vertical-align: middle;\n",
       "    }\n",
       "\n",
       "    .dataframe tbody tr th {\n",
       "        vertical-align: top;\n",
       "    }\n",
       "\n",
       "    .dataframe thead th {\n",
       "        text-align: right;\n",
       "    }\n",
       "</style>\n",
       "<table border=\"1\" class=\"dataframe\">\n",
       "  <thead>\n",
       "    <tr style=\"text-align: right;\">\n",
       "      <th></th>\n",
       "      <th>user_id</th>\n",
       "      <th>month</th>\n",
       "      <th>number_calls</th>\n",
       "      <th>duration_calls</th>\n",
       "      <th>number_messages</th>\n",
       "      <th>mb_used</th>\n",
       "      <th>age</th>\n",
       "      <th>churn_date</th>\n",
       "      <th>city</th>\n",
       "      <th>first_name</th>\n",
       "      <th>last_name</th>\n",
       "      <th>reg_date</th>\n",
       "      <th>tariff</th>\n",
       "      <th>revenue</th>\n",
       "    </tr>\n",
       "  </thead>\n",
       "  <tbody>\n",
       "    <tr>\n",
       "      <th>10</th>\n",
       "      <td>1002</td>\n",
       "      <td>6</td>\n",
       "      <td>15.0</td>\n",
       "      <td>117.0</td>\n",
       "      <td>4.0</td>\n",
       "      <td>10856.82</td>\n",
       "      <td>59</td>\n",
       "      <td>0</td>\n",
       "      <td>Стерлитамак</td>\n",
       "      <td>Евгений</td>\n",
       "      <td>Абрамович</td>\n",
       "      <td>2018-06-17</td>\n",
       "      <td>smart</td>\n",
       "      <td>550.0</td>\n",
       "    </tr>\n",
       "    <tr>\n",
       "      <th>11</th>\n",
       "      <td>1002</td>\n",
       "      <td>7</td>\n",
       "      <td>26.0</td>\n",
       "      <td>214.0</td>\n",
       "      <td>11.0</td>\n",
       "      <td>17580.10</td>\n",
       "      <td>59</td>\n",
       "      <td>0</td>\n",
       "      <td>Стерлитамак</td>\n",
       "      <td>Евгений</td>\n",
       "      <td>Абрамович</td>\n",
       "      <td>2018-06-17</td>\n",
       "      <td>smart</td>\n",
       "      <td>1150.0</td>\n",
       "    </tr>\n",
       "    <tr>\n",
       "      <th>12</th>\n",
       "      <td>1002</td>\n",
       "      <td>8</td>\n",
       "      <td>42.0</td>\n",
       "      <td>289.0</td>\n",
       "      <td>13.0</td>\n",
       "      <td>20319.26</td>\n",
       "      <td>59</td>\n",
       "      <td>0</td>\n",
       "      <td>Стерлитамак</td>\n",
       "      <td>Евгений</td>\n",
       "      <td>Абрамович</td>\n",
       "      <td>2018-06-17</td>\n",
       "      <td>smart</td>\n",
       "      <td>1550.0</td>\n",
       "    </tr>\n",
       "    <tr>\n",
       "      <th>13</th>\n",
       "      <td>1002</td>\n",
       "      <td>9</td>\n",
       "      <td>36.0</td>\n",
       "      <td>206.0</td>\n",
       "      <td>4.0</td>\n",
       "      <td>16691.08</td>\n",
       "      <td>59</td>\n",
       "      <td>0</td>\n",
       "      <td>Стерлитамак</td>\n",
       "      <td>Евгений</td>\n",
       "      <td>Абрамович</td>\n",
       "      <td>2018-06-17</td>\n",
       "      <td>smart</td>\n",
       "      <td>950.0</td>\n",
       "    </tr>\n",
       "    <tr>\n",
       "      <th>14</th>\n",
       "      <td>1002</td>\n",
       "      <td>10</td>\n",
       "      <td>33.0</td>\n",
       "      <td>212.0</td>\n",
       "      <td>10.0</td>\n",
       "      <td>13888.25</td>\n",
       "      <td>59</td>\n",
       "      <td>0</td>\n",
       "      <td>Стерлитамак</td>\n",
       "      <td>Евгений</td>\n",
       "      <td>Абрамович</td>\n",
       "      <td>2018-06-17</td>\n",
       "      <td>smart</td>\n",
       "      <td>550.0</td>\n",
       "    </tr>\n",
       "    <tr>\n",
       "      <th>...</th>\n",
       "      <td>...</td>\n",
       "      <td>...</td>\n",
       "      <td>...</td>\n",
       "      <td>...</td>\n",
       "      <td>...</td>\n",
       "      <td>...</td>\n",
       "      <td>...</td>\n",
       "      <td>...</td>\n",
       "      <td>...</td>\n",
       "      <td>...</td>\n",
       "      <td>...</td>\n",
       "      <td>...</td>\n",
       "      <td>...</td>\n",
       "      <td>...</td>\n",
       "    </tr>\n",
       "    <tr>\n",
       "      <th>3209</th>\n",
       "      <td>1489</td>\n",
       "      <td>8</td>\n",
       "      <td>0.0</td>\n",
       "      <td>0.0</td>\n",
       "      <td>17.0</td>\n",
       "      <td>11050.56</td>\n",
       "      <td>35</td>\n",
       "      <td>0</td>\n",
       "      <td>Санкт-Петербург</td>\n",
       "      <td>Павел</td>\n",
       "      <td>Гончаров</td>\n",
       "      <td>2018-08-15</td>\n",
       "      <td>smart</td>\n",
       "      <td>550.0</td>\n",
       "    </tr>\n",
       "    <tr>\n",
       "      <th>3210</th>\n",
       "      <td>1489</td>\n",
       "      <td>9</td>\n",
       "      <td>0.0</td>\n",
       "      <td>0.0</td>\n",
       "      <td>32.0</td>\n",
       "      <td>17206.30</td>\n",
       "      <td>35</td>\n",
       "      <td>0</td>\n",
       "      <td>Санкт-Петербург</td>\n",
       "      <td>Павел</td>\n",
       "      <td>Гончаров</td>\n",
       "      <td>2018-08-15</td>\n",
       "      <td>smart</td>\n",
       "      <td>950.0</td>\n",
       "    </tr>\n",
       "    <tr>\n",
       "      <th>3211</th>\n",
       "      <td>1489</td>\n",
       "      <td>10</td>\n",
       "      <td>0.0</td>\n",
       "      <td>0.0</td>\n",
       "      <td>21.0</td>\n",
       "      <td>19559.44</td>\n",
       "      <td>35</td>\n",
       "      <td>0</td>\n",
       "      <td>Санкт-Петербург</td>\n",
       "      <td>Павел</td>\n",
       "      <td>Гончаров</td>\n",
       "      <td>2018-08-15</td>\n",
       "      <td>smart</td>\n",
       "      <td>1550.0</td>\n",
       "    </tr>\n",
       "    <tr>\n",
       "      <th>3212</th>\n",
       "      <td>1489</td>\n",
       "      <td>11</td>\n",
       "      <td>0.0</td>\n",
       "      <td>0.0</td>\n",
       "      <td>20.0</td>\n",
       "      <td>17491.56</td>\n",
       "      <td>35</td>\n",
       "      <td>0</td>\n",
       "      <td>Санкт-Петербург</td>\n",
       "      <td>Павел</td>\n",
       "      <td>Гончаров</td>\n",
       "      <td>2018-08-15</td>\n",
       "      <td>smart</td>\n",
       "      <td>1150.0</td>\n",
       "    </tr>\n",
       "    <tr>\n",
       "      <th>3213</th>\n",
       "      <td>1489</td>\n",
       "      <td>12</td>\n",
       "      <td>0.0</td>\n",
       "      <td>0.0</td>\n",
       "      <td>35.0</td>\n",
       "      <td>17322.51</td>\n",
       "      <td>35</td>\n",
       "      <td>0</td>\n",
       "      <td>Санкт-Петербург</td>\n",
       "      <td>Павел</td>\n",
       "      <td>Гончаров</td>\n",
       "      <td>2018-08-15</td>\n",
       "      <td>smart</td>\n",
       "      <td>950.0</td>\n",
       "    </tr>\n",
       "  </tbody>\n",
       "</table>\n",
       "<p>1843 rows × 14 columns</p>\n",
       "</div>"
      ],
      "text/plain": [
       "      user_id  month  number_calls  duration_calls  number_messages   mb_used  \\\n",
       "10       1002      6          15.0           117.0              4.0  10856.82   \n",
       "11       1002      7          26.0           214.0             11.0  17580.10   \n",
       "12       1002      8          42.0           289.0             13.0  20319.26   \n",
       "13       1002      9          36.0           206.0              4.0  16691.08   \n",
       "14       1002     10          33.0           212.0             10.0  13888.25   \n",
       "...       ...    ...           ...             ...              ...       ...   \n",
       "3209     1489      8           0.0             0.0             17.0  11050.56   \n",
       "3210     1489      9           0.0             0.0             32.0  17206.30   \n",
       "3211     1489     10           0.0             0.0             21.0  19559.44   \n",
       "3212     1489     11           0.0             0.0             20.0  17491.56   \n",
       "3213     1489     12           0.0             0.0             35.0  17322.51   \n",
       "\n",
       "      age churn_date             city first_name  last_name   reg_date tariff  \\\n",
       "10     59          0      Стерлитамак    Евгений  Абрамович 2018-06-17  smart   \n",
       "11     59          0      Стерлитамак    Евгений  Абрамович 2018-06-17  smart   \n",
       "12     59          0      Стерлитамак    Евгений  Абрамович 2018-06-17  smart   \n",
       "13     59          0      Стерлитамак    Евгений  Абрамович 2018-06-17  smart   \n",
       "14     59          0      Стерлитамак    Евгений  Абрамович 2018-06-17  smart   \n",
       "...   ...        ...              ...        ...        ...        ...    ...   \n",
       "3209   35          0  Санкт-Петербург      Павел   Гончаров 2018-08-15  smart   \n",
       "3210   35          0  Санкт-Петербург      Павел   Гончаров 2018-08-15  smart   \n",
       "3211   35          0  Санкт-Петербург      Павел   Гончаров 2018-08-15  smart   \n",
       "3212   35          0  Санкт-Петербург      Павел   Гончаров 2018-08-15  smart   \n",
       "3213   35          0  Санкт-Петербург      Павел   Гончаров 2018-08-15  smart   \n",
       "\n",
       "      revenue  \n",
       "10      550.0  \n",
       "11     1150.0  \n",
       "12     1550.0  \n",
       "13      950.0  \n",
       "14      550.0  \n",
       "...       ...  \n",
       "3209    550.0  \n",
       "3210    950.0  \n",
       "3211   1550.0  \n",
       "3212   1150.0  \n",
       "3213    950.0  \n",
       "\n",
       "[1843 rows x 14 columns]"
      ]
     },
     "execution_count": 52,
     "metadata": {},
     "output_type": "execute_result"
    }
   ],
   "source": [
    "#в таблице тарифа smart сделаем срез по пользователям из регионов\n",
    "df_smart_unmoscow = df_smart.query('city != \"Москва\"')\n",
    "df_smart_unmoscow"
   ]
  },
  {
   "cell_type": "code",
   "execution_count": 53,
   "metadata": {},
   "outputs": [
    {
     "name": "stdout",
     "output_type": "stream",
     "text": [
      "p-значение: 0.18150864159228705\n",
      "Не получилось отвергнуть нулевую гипотезу\n"
     ]
    }
   ],
   "source": [
    "#проверяем гипотезу о равенстве средней выручки пользователей из Москвы и выручке пользователей из других регионов для тарифа smart\n",
    "moscow = df_smart_moscow['revenue'] \n",
    "unmoscow = df_smart_unmoscow['revenue']\n",
    "alpha = .05 \n",
    "results = st.ttest_ind(\n",
    "    moscow, \n",
    "    unmoscow)\n",
    "\n",
    "print('p-значение:', results.pvalue)\n",
    "\n",
    "if results.pvalue < alpha:\n",
    "    print(\"Отвергаем нулевую гипотезу\")\n",
    "else:\n",
    "    print(\"Не получилось отвергнуть нулевую гипотезу\")"
   ]
  },
  {
   "cell_type": "markdown",
   "metadata": {},
   "source": [
    "Гипотеза H₀ о равенстве средней выручки пользователей из Москвы и выручке пользователей из других регионов принята, значит гипотеза H₁ о не равенстве средней выручки пользователей из Москвы и выручки пользователей из других регионов отвергается для тарифа smart."
   ]
  },
  {
   "cell_type": "markdown",
   "metadata": {},
   "source": [
    "Проверим данные гипотезы для тарифа ultra"
   ]
  },
  {
   "cell_type": "code",
   "execution_count": 54,
   "metadata": {},
   "outputs": [
    {
     "data": {
      "text/html": [
       "<div>\n",
       "<style scoped>\n",
       "    .dataframe tbody tr th:only-of-type {\n",
       "        vertical-align: middle;\n",
       "    }\n",
       "\n",
       "    .dataframe tbody tr th {\n",
       "        vertical-align: top;\n",
       "    }\n",
       "\n",
       "    .dataframe thead th {\n",
       "        text-align: right;\n",
       "    }\n",
       "</style>\n",
       "<table border=\"1\" class=\"dataframe\">\n",
       "  <thead>\n",
       "    <tr style=\"text-align: right;\">\n",
       "      <th></th>\n",
       "      <th>user_id</th>\n",
       "      <th>month</th>\n",
       "      <th>number_calls</th>\n",
       "      <th>duration_calls</th>\n",
       "      <th>number_messages</th>\n",
       "      <th>mb_used</th>\n",
       "      <th>age</th>\n",
       "      <th>churn_date</th>\n",
       "      <th>city</th>\n",
       "      <th>first_name</th>\n",
       "      <th>last_name</th>\n",
       "      <th>reg_date</th>\n",
       "      <th>tariff</th>\n",
       "      <th>revenue</th>\n",
       "    </tr>\n",
       "  </thead>\n",
       "  <tbody>\n",
       "    <tr>\n",
       "      <th>17</th>\n",
       "      <td>1003</td>\n",
       "      <td>8</td>\n",
       "      <td>55.0</td>\n",
       "      <td>380.0</td>\n",
       "      <td>37.0</td>\n",
       "      <td>8565.21</td>\n",
       "      <td>23</td>\n",
       "      <td>0</td>\n",
       "      <td>Москва</td>\n",
       "      <td>Белла</td>\n",
       "      <td>Белякова</td>\n",
       "      <td>2018-08-17</td>\n",
       "      <td>ultra</td>\n",
       "      <td>1950.0</td>\n",
       "    </tr>\n",
       "    <tr>\n",
       "      <th>18</th>\n",
       "      <td>1003</td>\n",
       "      <td>9</td>\n",
       "      <td>134.0</td>\n",
       "      <td>961.0</td>\n",
       "      <td>91.0</td>\n",
       "      <td>12468.87</td>\n",
       "      <td>23</td>\n",
       "      <td>0</td>\n",
       "      <td>Москва</td>\n",
       "      <td>Белла</td>\n",
       "      <td>Белякова</td>\n",
       "      <td>2018-08-17</td>\n",
       "      <td>ultra</td>\n",
       "      <td>1950.0</td>\n",
       "    </tr>\n",
       "    <tr>\n",
       "      <th>19</th>\n",
       "      <td>1003</td>\n",
       "      <td>10</td>\n",
       "      <td>108.0</td>\n",
       "      <td>855.0</td>\n",
       "      <td>83.0</td>\n",
       "      <td>14768.14</td>\n",
       "      <td>23</td>\n",
       "      <td>0</td>\n",
       "      <td>Москва</td>\n",
       "      <td>Белла</td>\n",
       "      <td>Белякова</td>\n",
       "      <td>2018-08-17</td>\n",
       "      <td>ultra</td>\n",
       "      <td>1950.0</td>\n",
       "    </tr>\n",
       "    <tr>\n",
       "      <th>20</th>\n",
       "      <td>1003</td>\n",
       "      <td>11</td>\n",
       "      <td>115.0</td>\n",
       "      <td>824.0</td>\n",
       "      <td>94.0</td>\n",
       "      <td>11356.89</td>\n",
       "      <td>23</td>\n",
       "      <td>0</td>\n",
       "      <td>Москва</td>\n",
       "      <td>Белла</td>\n",
       "      <td>Белякова</td>\n",
       "      <td>2018-08-17</td>\n",
       "      <td>ultra</td>\n",
       "      <td>1950.0</td>\n",
       "    </tr>\n",
       "    <tr>\n",
       "      <th>21</th>\n",
       "      <td>1003</td>\n",
       "      <td>12</td>\n",
       "      <td>108.0</td>\n",
       "      <td>802.0</td>\n",
       "      <td>75.0</td>\n",
       "      <td>10121.53</td>\n",
       "      <td>23</td>\n",
       "      <td>0</td>\n",
       "      <td>Москва</td>\n",
       "      <td>Белла</td>\n",
       "      <td>Белякова</td>\n",
       "      <td>2018-08-17</td>\n",
       "      <td>ultra</td>\n",
       "      <td>1950.0</td>\n",
       "    </tr>\n",
       "    <tr>\n",
       "      <th>...</th>\n",
       "      <td>...</td>\n",
       "      <td>...</td>\n",
       "      <td>...</td>\n",
       "      <td>...</td>\n",
       "      <td>...</td>\n",
       "      <td>...</td>\n",
       "      <td>...</td>\n",
       "      <td>...</td>\n",
       "      <td>...</td>\n",
       "      <td>...</td>\n",
       "      <td>...</td>\n",
       "      <td>...</td>\n",
       "      <td>...</td>\n",
       "      <td>...</td>\n",
       "    </tr>\n",
       "    <tr>\n",
       "      <th>3035</th>\n",
       "      <td>1476</td>\n",
       "      <td>9</td>\n",
       "      <td>72.0</td>\n",
       "      <td>622.0</td>\n",
       "      <td>5.0</td>\n",
       "      <td>18602.93</td>\n",
       "      <td>50</td>\n",
       "      <td>0</td>\n",
       "      <td>Москва</td>\n",
       "      <td>Валентина</td>\n",
       "      <td>Семенова</td>\n",
       "      <td>2018-04-30</td>\n",
       "      <td>ultra</td>\n",
       "      <td>1950.0</td>\n",
       "    </tr>\n",
       "    <tr>\n",
       "      <th>3036</th>\n",
       "      <td>1476</td>\n",
       "      <td>10</td>\n",
       "      <td>68.0</td>\n",
       "      <td>540.0</td>\n",
       "      <td>4.0</td>\n",
       "      <td>25125.69</td>\n",
       "      <td>50</td>\n",
       "      <td>0</td>\n",
       "      <td>Москва</td>\n",
       "      <td>Валентина</td>\n",
       "      <td>Семенова</td>\n",
       "      <td>2018-04-30</td>\n",
       "      <td>ultra</td>\n",
       "      <td>1950.0</td>\n",
       "    </tr>\n",
       "    <tr>\n",
       "      <th>3037</th>\n",
       "      <td>1476</td>\n",
       "      <td>11</td>\n",
       "      <td>71.0</td>\n",
       "      <td>556.0</td>\n",
       "      <td>6.0</td>\n",
       "      <td>14410.79</td>\n",
       "      <td>50</td>\n",
       "      <td>0</td>\n",
       "      <td>Москва</td>\n",
       "      <td>Валентина</td>\n",
       "      <td>Семенова</td>\n",
       "      <td>2018-04-30</td>\n",
       "      <td>ultra</td>\n",
       "      <td>1950.0</td>\n",
       "    </tr>\n",
       "    <tr>\n",
       "      <th>3038</th>\n",
       "      <td>1476</td>\n",
       "      <td>12</td>\n",
       "      <td>81.0</td>\n",
       "      <td>588.0</td>\n",
       "      <td>11.0</td>\n",
       "      <td>14121.34</td>\n",
       "      <td>50</td>\n",
       "      <td>0</td>\n",
       "      <td>Москва</td>\n",
       "      <td>Валентина</td>\n",
       "      <td>Семенова</td>\n",
       "      <td>2018-04-30</td>\n",
       "      <td>ultra</td>\n",
       "      <td>1950.0</td>\n",
       "    </tr>\n",
       "    <tr>\n",
       "      <th>3039</th>\n",
       "      <td>1476</td>\n",
       "      <td>4</td>\n",
       "      <td>0.0</td>\n",
       "      <td>0.0</td>\n",
       "      <td>0.0</td>\n",
       "      <td>530.78</td>\n",
       "      <td>50</td>\n",
       "      <td>0</td>\n",
       "      <td>Москва</td>\n",
       "      <td>Валентина</td>\n",
       "      <td>Семенова</td>\n",
       "      <td>2018-04-30</td>\n",
       "      <td>ultra</td>\n",
       "      <td>1950.0</td>\n",
       "    </tr>\n",
       "  </tbody>\n",
       "</table>\n",
       "<p>225 rows × 14 columns</p>\n",
       "</div>"
      ],
      "text/plain": [
       "      user_id  month  number_calls  duration_calls  number_messages   mb_used  \\\n",
       "17       1003      8          55.0           380.0             37.0   8565.21   \n",
       "18       1003      9         134.0           961.0             91.0  12468.87   \n",
       "19       1003     10         108.0           855.0             83.0  14768.14   \n",
       "20       1003     11         115.0           824.0             94.0  11356.89   \n",
       "21       1003     12         108.0           802.0             75.0  10121.53   \n",
       "...       ...    ...           ...             ...              ...       ...   \n",
       "3035     1476      9          72.0           622.0              5.0  18602.93   \n",
       "3036     1476     10          68.0           540.0              4.0  25125.69   \n",
       "3037     1476     11          71.0           556.0              6.0  14410.79   \n",
       "3038     1476     12          81.0           588.0             11.0  14121.34   \n",
       "3039     1476      4           0.0             0.0              0.0    530.78   \n",
       "\n",
       "      age churn_date    city first_name last_name   reg_date tariff  revenue  \n",
       "17     23          0  Москва      Белла  Белякова 2018-08-17  ultra   1950.0  \n",
       "18     23          0  Москва      Белла  Белякова 2018-08-17  ultra   1950.0  \n",
       "19     23          0  Москва      Белла  Белякова 2018-08-17  ultra   1950.0  \n",
       "20     23          0  Москва      Белла  Белякова 2018-08-17  ultra   1950.0  \n",
       "21     23          0  Москва      Белла  Белякова 2018-08-17  ultra   1950.0  \n",
       "...   ...        ...     ...        ...       ...        ...    ...      ...  \n",
       "3035   50          0  Москва  Валентина  Семенова 2018-04-30  ultra   1950.0  \n",
       "3036   50          0  Москва  Валентина  Семенова 2018-04-30  ultra   1950.0  \n",
       "3037   50          0  Москва  Валентина  Семенова 2018-04-30  ultra   1950.0  \n",
       "3038   50          0  Москва  Валентина  Семенова 2018-04-30  ultra   1950.0  \n",
       "3039   50          0  Москва  Валентина  Семенова 2018-04-30  ultra   1950.0  \n",
       "\n",
       "[225 rows x 14 columns]"
      ]
     },
     "execution_count": 54,
     "metadata": {},
     "output_type": "execute_result"
    }
   ],
   "source": [
    "#в таблице тарифа ultra сделаем срез по пользователям из Москвы\n",
    "df_ultra_moscow = df_ultra.query('city == \"Москва\"')\n",
    "df_ultra_moscow"
   ]
  },
  {
   "cell_type": "code",
   "execution_count": 55,
   "metadata": {},
   "outputs": [
    {
     "data": {
      "text/html": [
       "<div>\n",
       "<style scoped>\n",
       "    .dataframe tbody tr th:only-of-type {\n",
       "        vertical-align: middle;\n",
       "    }\n",
       "\n",
       "    .dataframe tbody tr th {\n",
       "        vertical-align: top;\n",
       "    }\n",
       "\n",
       "    .dataframe thead th {\n",
       "        text-align: right;\n",
       "    }\n",
       "</style>\n",
       "<table border=\"1\" class=\"dataframe\">\n",
       "  <thead>\n",
       "    <tr style=\"text-align: right;\">\n",
       "      <th></th>\n",
       "      <th>user_id</th>\n",
       "      <th>month</th>\n",
       "      <th>number_calls</th>\n",
       "      <th>duration_calls</th>\n",
       "      <th>number_messages</th>\n",
       "      <th>mb_used</th>\n",
       "      <th>age</th>\n",
       "      <th>churn_date</th>\n",
       "      <th>city</th>\n",
       "      <th>first_name</th>\n",
       "      <th>last_name</th>\n",
       "      <th>reg_date</th>\n",
       "      <th>tariff</th>\n",
       "      <th>revenue</th>\n",
       "    </tr>\n",
       "  </thead>\n",
       "  <tbody>\n",
       "    <tr>\n",
       "      <th>0</th>\n",
       "      <td>1000</td>\n",
       "      <td>5</td>\n",
       "      <td>22.0</td>\n",
       "      <td>159.0</td>\n",
       "      <td>22.0</td>\n",
       "      <td>2253.49</td>\n",
       "      <td>52</td>\n",
       "      <td>0</td>\n",
       "      <td>Краснодар</td>\n",
       "      <td>Рафаил</td>\n",
       "      <td>Верещагин</td>\n",
       "      <td>2018-05-25</td>\n",
       "      <td>ultra</td>\n",
       "      <td>1950.0</td>\n",
       "    </tr>\n",
       "    <tr>\n",
       "      <th>1</th>\n",
       "      <td>1000</td>\n",
       "      <td>6</td>\n",
       "      <td>43.0</td>\n",
       "      <td>172.0</td>\n",
       "      <td>60.0</td>\n",
       "      <td>23233.77</td>\n",
       "      <td>52</td>\n",
       "      <td>0</td>\n",
       "      <td>Краснодар</td>\n",
       "      <td>Рафаил</td>\n",
       "      <td>Верещагин</td>\n",
       "      <td>2018-05-25</td>\n",
       "      <td>ultra</td>\n",
       "      <td>1950.0</td>\n",
       "    </tr>\n",
       "    <tr>\n",
       "      <th>2</th>\n",
       "      <td>1000</td>\n",
       "      <td>7</td>\n",
       "      <td>47.0</td>\n",
       "      <td>340.0</td>\n",
       "      <td>75.0</td>\n",
       "      <td>14003.64</td>\n",
       "      <td>52</td>\n",
       "      <td>0</td>\n",
       "      <td>Краснодар</td>\n",
       "      <td>Рафаил</td>\n",
       "      <td>Верещагин</td>\n",
       "      <td>2018-05-25</td>\n",
       "      <td>ultra</td>\n",
       "      <td>1950.0</td>\n",
       "    </tr>\n",
       "    <tr>\n",
       "      <th>3</th>\n",
       "      <td>1000</td>\n",
       "      <td>8</td>\n",
       "      <td>52.0</td>\n",
       "      <td>408.0</td>\n",
       "      <td>81.0</td>\n",
       "      <td>14055.93</td>\n",
       "      <td>52</td>\n",
       "      <td>0</td>\n",
       "      <td>Краснодар</td>\n",
       "      <td>Рафаил</td>\n",
       "      <td>Верещагин</td>\n",
       "      <td>2018-05-25</td>\n",
       "      <td>ultra</td>\n",
       "      <td>1950.0</td>\n",
       "    </tr>\n",
       "    <tr>\n",
       "      <th>4</th>\n",
       "      <td>1000</td>\n",
       "      <td>9</td>\n",
       "      <td>58.0</td>\n",
       "      <td>466.0</td>\n",
       "      <td>57.0</td>\n",
       "      <td>14568.91</td>\n",
       "      <td>52</td>\n",
       "      <td>0</td>\n",
       "      <td>Краснодар</td>\n",
       "      <td>Рафаил</td>\n",
       "      <td>Верещагин</td>\n",
       "      <td>2018-05-25</td>\n",
       "      <td>ultra</td>\n",
       "      <td>1950.0</td>\n",
       "    </tr>\n",
       "    <tr>\n",
       "      <th>...</th>\n",
       "      <td>...</td>\n",
       "      <td>...</td>\n",
       "      <td>...</td>\n",
       "      <td>...</td>\n",
       "      <td>...</td>\n",
       "      <td>...</td>\n",
       "      <td>...</td>\n",
       "      <td>...</td>\n",
       "      <td>...</td>\n",
       "      <td>...</td>\n",
       "      <td>...</td>\n",
       "      <td>...</td>\n",
       "      <td>...</td>\n",
       "      <td>...</td>\n",
       "    </tr>\n",
       "    <tr>\n",
       "      <th>3204</th>\n",
       "      <td>1473</td>\n",
       "      <td>8</td>\n",
       "      <td>0.0</td>\n",
       "      <td>0.0</td>\n",
       "      <td>17.0</td>\n",
       "      <td>12905.40</td>\n",
       "      <td>18</td>\n",
       "      <td>0</td>\n",
       "      <td>Красноярск</td>\n",
       "      <td>Николай</td>\n",
       "      <td>Лебедев</td>\n",
       "      <td>2018-08-05</td>\n",
       "      <td>ultra</td>\n",
       "      <td>1950.0</td>\n",
       "    </tr>\n",
       "    <tr>\n",
       "      <th>3205</th>\n",
       "      <td>1473</td>\n",
       "      <td>9</td>\n",
       "      <td>0.0</td>\n",
       "      <td>0.0</td>\n",
       "      <td>19.0</td>\n",
       "      <td>17289.85</td>\n",
       "      <td>18</td>\n",
       "      <td>0</td>\n",
       "      <td>Красноярск</td>\n",
       "      <td>Николай</td>\n",
       "      <td>Лебедев</td>\n",
       "      <td>2018-08-05</td>\n",
       "      <td>ultra</td>\n",
       "      <td>1950.0</td>\n",
       "    </tr>\n",
       "    <tr>\n",
       "      <th>3206</th>\n",
       "      <td>1473</td>\n",
       "      <td>10</td>\n",
       "      <td>0.0</td>\n",
       "      <td>0.0</td>\n",
       "      <td>20.0</td>\n",
       "      <td>13688.65</td>\n",
       "      <td>18</td>\n",
       "      <td>0</td>\n",
       "      <td>Красноярск</td>\n",
       "      <td>Николай</td>\n",
       "      <td>Лебедев</td>\n",
       "      <td>2018-08-05</td>\n",
       "      <td>ultra</td>\n",
       "      <td>1950.0</td>\n",
       "    </tr>\n",
       "    <tr>\n",
       "      <th>3207</th>\n",
       "      <td>1473</td>\n",
       "      <td>11</td>\n",
       "      <td>0.0</td>\n",
       "      <td>0.0</td>\n",
       "      <td>14.0</td>\n",
       "      <td>21673.80</td>\n",
       "      <td>18</td>\n",
       "      <td>0</td>\n",
       "      <td>Красноярск</td>\n",
       "      <td>Николай</td>\n",
       "      <td>Лебедев</td>\n",
       "      <td>2018-08-05</td>\n",
       "      <td>ultra</td>\n",
       "      <td>1950.0</td>\n",
       "    </tr>\n",
       "    <tr>\n",
       "      <th>3208</th>\n",
       "      <td>1473</td>\n",
       "      <td>12</td>\n",
       "      <td>0.0</td>\n",
       "      <td>0.0</td>\n",
       "      <td>20.0</td>\n",
       "      <td>18418.26</td>\n",
       "      <td>18</td>\n",
       "      <td>0</td>\n",
       "      <td>Красноярск</td>\n",
       "      <td>Николай</td>\n",
       "      <td>Лебедев</td>\n",
       "      <td>2018-08-05</td>\n",
       "      <td>ultra</td>\n",
       "      <td>1950.0</td>\n",
       "    </tr>\n",
       "  </tbody>\n",
       "</table>\n",
       "<p>760 rows × 14 columns</p>\n",
       "</div>"
      ],
      "text/plain": [
       "      user_id  month  number_calls  duration_calls  number_messages   mb_used  \\\n",
       "0        1000      5          22.0           159.0             22.0   2253.49   \n",
       "1        1000      6          43.0           172.0             60.0  23233.77   \n",
       "2        1000      7          47.0           340.0             75.0  14003.64   \n",
       "3        1000      8          52.0           408.0             81.0  14055.93   \n",
       "4        1000      9          58.0           466.0             57.0  14568.91   \n",
       "...       ...    ...           ...             ...              ...       ...   \n",
       "3204     1473      8           0.0             0.0             17.0  12905.40   \n",
       "3205     1473      9           0.0             0.0             19.0  17289.85   \n",
       "3206     1473     10           0.0             0.0             20.0  13688.65   \n",
       "3207     1473     11           0.0             0.0             14.0  21673.80   \n",
       "3208     1473     12           0.0             0.0             20.0  18418.26   \n",
       "\n",
       "      age churn_date        city first_name  last_name   reg_date tariff  \\\n",
       "0      52          0   Краснодар     Рафаил  Верещагин 2018-05-25  ultra   \n",
       "1      52          0   Краснодар     Рафаил  Верещагин 2018-05-25  ultra   \n",
       "2      52          0   Краснодар     Рафаил  Верещагин 2018-05-25  ultra   \n",
       "3      52          0   Краснодар     Рафаил  Верещагин 2018-05-25  ultra   \n",
       "4      52          0   Краснодар     Рафаил  Верещагин 2018-05-25  ultra   \n",
       "...   ...        ...         ...        ...        ...        ...    ...   \n",
       "3204   18          0  Красноярск    Николай    Лебедев 2018-08-05  ultra   \n",
       "3205   18          0  Красноярск    Николай    Лебедев 2018-08-05  ultra   \n",
       "3206   18          0  Красноярск    Николай    Лебедев 2018-08-05  ultra   \n",
       "3207   18          0  Красноярск    Николай    Лебедев 2018-08-05  ultra   \n",
       "3208   18          0  Красноярск    Николай    Лебедев 2018-08-05  ultra   \n",
       "\n",
       "      revenue  \n",
       "0      1950.0  \n",
       "1      1950.0  \n",
       "2      1950.0  \n",
       "3      1950.0  \n",
       "4      1950.0  \n",
       "...       ...  \n",
       "3204   1950.0  \n",
       "3205   1950.0  \n",
       "3206   1950.0  \n",
       "3207   1950.0  \n",
       "3208   1950.0  \n",
       "\n",
       "[760 rows x 14 columns]"
      ]
     },
     "execution_count": 55,
     "metadata": {},
     "output_type": "execute_result"
    }
   ],
   "source": [
    "#в таблице тарифа ultra сделаем срез по пользователям из регионов\n",
    "df_ultra_unmoscow = df_ultra.query('city != \"Москва\"')\n",
    "df_ultra_unmoscow"
   ]
  },
  {
   "cell_type": "code",
   "execution_count": 56,
   "metadata": {},
   "outputs": [
    {
     "name": "stdout",
     "output_type": "stream",
     "text": [
      "p-значение: 0.8614477943640767\n",
      "Не получилось отвергнуть нулевую гипотезу\n"
     ]
    }
   ],
   "source": [
    "#проверяем гипотезу о равенстве средней выручки пользователей из Москвы и выручке пользователей из других регионов для тарифа ultra\n",
    "moscow = df_ultra_moscow['revenue'] \n",
    "unmoscow = df_ultra_unmoscow['revenue']\n",
    "alpha = .05 \n",
    "results = st.ttest_ind(\n",
    "    moscow, \n",
    "    unmoscow)\n",
    "\n",
    "print('p-значение:', results.pvalue)\n",
    "\n",
    "if results.pvalue < alpha:\n",
    "    print(\"Отвергаем нулевую гипотезу\")\n",
    "else:\n",
    "    print(\"Не получилось отвергнуть нулевую гипотезу\")"
   ]
  },
  {
   "cell_type": "markdown",
   "metadata": {},
   "source": [
    "Гипотеза H₀ о равенстве средней выручки пользователей из Москвы и выручке пользователей из других регионов принята, значит гипотеза H₁ о неравенстве средней выручки пользователей из Москвы и выручки пользователей из других регионов отвергается для тарифа ultra."
   ]
  },
  {
   "cell_type": "markdown",
   "metadata": {},
   "source": [
    "### Вывод"
   ]
  },
  {
   "cell_type": "markdown",
   "metadata": {},
   "source": [
    "Для проверки гипотезы, что средняя выручка пользователей тарифов «Ультра» и «Смарт» различаются, сформулировали нулевую гипотезу H₀, что средняя выручка пользователей тарифов «Ультра» и «Смарт» равны.\n",
    "\n",
    "Исходя из H₀ сформулировали альтернативную гипотезу H₁, что средняя выручка пользователей тарифов «Ультра» и «Смарт» различаются. \n",
    "Задали уровень значимости  5% и получили p-значение: 1.4229814360764067e-160, что отвергает нулевую гипотезу о равенстве средней выручки пользователей тарифов «Ультра» и «Смарт». \n",
    "\n",
    "Значит принимается гипотеза H₁ о неравенстве средней выручки пользователей тарифов «Ультра» и «Смарт».\n",
    "\n",
    "\n",
    "Для проверки гипотезы, что средняя выручка пользователей из Москвы отличается от выручки пользователей из других регионов, сформулировали нулевую гипотезу H₀, что средняя выручка пользователей из Москвы и выручка пользователей из других регионов равны.\n",
    "\n",
    "Исходя из H₀ сформулировали альтернативную гипотеза H₁, что средняя выручка пользователей из Москвы и выручка пользователей из других регионов различаются. \n",
    "Задали уровень значимости  5% и получили p-значение = 0.18150864159228705 для тарифа smart, что не позволяет отвергнуть гипотезу H₀ о равенстве средней выручки пользователей из Москвы и выручке пользователей из других регионов принята, значит гипотеза H₁ о не равенстве средней выручки пользователей из Москвы и выручки пользователей из других регионов отвергается для тарифа smart.\n",
    "\n",
    "для тарифа ultra p-значение = 1.0, что не позволяет отвергнуть гипотезу H₀ о равенстве средней выручки пользователей из Москвы и выручке пользователей из других регионов принята, значит гипотеза H₁ о неравенстве средней выручки пользователей из Москвы и выручки пользователей из других регионов отвергается для тарифа ultra.\n",
    "\n",
    "Гипотеза о разной средней выручке в зависимости от тарифа подтвердилась.\n",
    "\n",
    "Гипотеза о разной средней выручке в зависимости от региона отклонена.\n",
    "\n",
    "Средняя выручка зависит от тарифа и не зависит от региона."
   ]
  },
  {
   "cell_type": "markdown",
   "metadata": {},
   "source": [
    "## Общий вывод"
   ]
  },
  {
   "cell_type": "markdown",
   "metadata": {},
   "source": [
    "Данные содержатся в пяти таблицах: \n",
    "* users_df; \n",
    "* calls_df; \n",
    "* messages_df; \n",
    "* internet_df; \n",
    "* tariffs_df.\n",
    "Пропуски обнаружены только в таблице users_df. \n",
    "в столбце churn_date - дата прекращения пользования тарифом это означает, что тариф еще действовал намомент выгрузки данных.<br> \n",
    "У столбца reg_date таблицы users_df можно сменить тип данных со строки на тип даты и времени (datetime).<br> \n",
    "В таблице calls_df - у столбца call_date можно сменить тип данных со строки на тип даты и времени (datetime).<br> \n",
    "В таблицеinternet_df есть лишний столбец с повторяющейся индексацией Unnamed: 0, который лучше удалить.<br>\n",
    "У столбца session_date можно сменить тип данных со строки на тип даты и времени (datetime).<br>\n",
    "В таблице messages_df - у столбца message_date можно сменить тип данных со строки на тип даты и времени (datetime).<br>\n",
    "Наименование всех столбцов соответствующее.<br>\n",
    "\n",
    "\n",
    "В ходе предобработки данных:\n",
    "1) Исправили строчный тип данных с датой на тип datetime.<br>\n",
    "2) Удалили лишний столбец Unnamed: 0 в таблице internet_df.<br>\n",
    "3) Округлили в большую сторону время звонка т.к. в тарифах идет округление до минут.<br>\n",
    "4) Создали в таблицах столбцы month с разделением по месяцам.<br>\n",
    "5) Посчитали количество сделанных звонков (с учетом пропущенных звонков) и израсходованных минут разговора по месяцам для каждого пользователя.<br>\n",
    "6) Объединили все сводные таблицы в одну, для дальнейшего расчета помесячной выручки с каждого пользователя.<br>\n",
    "7) Так как не в каждый месяц, каждым пользователем совершались звонки, отправлялись сообщения или использовался интернет, то в таблице появились пропуски. Заменили данные пропуски на нули.<br>\n",
    "8) Выделили пользователей с тарифом ultra в отдельную таблицу df_ultra.<br>\n",
    "9) Создали функцию revenue, которая рассчитывает помесячную выручку с каждого пользователя.<br>\n",
    "При просмотре срезов таблиц df_smart и df_ultra, видно, что пользователи тарифа ultra превышают пакет тарифа только по интернет трафику, в то время как пользователи тарифа smart превышают пакет тарифа по звонкам, сообщениям и интернет трафику.<br>\n",
    "По количеству строк таблиц, менее 500, видно что:\n",
    "* для 8 пользователей нет данных по совершенным звонкам;\n",
    "* для 74 пользователей нет данных по отправленным сообщениям;\n",
    "* для 3 пользователей нет данных о использовании интернета.<br>\n",
    "\n",
    "В ходе анализа данных:\n",
    "1) Посчитали статистики по тарифам.<br>\n",
    "2) Посчитали среднее количество, дисперсию и стандартное отклонение длительности разговора, количества сообщений, объёма интернет-трафика и выручки с каждого пользователя.<br>\n",
    "3) Построим гистограммы и диаграмму размаха для длительности разговора, количества сообщений, объёма интернет-трафика и выручки с каждого пользователя.<br>\n",
    "\n",
    "Выяснили что:\n",
    "* Средняя и медианная продолжительность звонков на тарифе ultra (Медиана: 518, Средняя: 527) больше, чем на тарифе smart (Медиана: 422, Средняя: 418).<br>\n",
    "* Стандартное отклонение на тарифе ultra (318) больше, чем на тарифе smart (190) из-за чего график распределения длительности звонков на тарифе ultra более пологий.<br>\n",
    "\n",
    "\n",
    "* Среднее и медианное количество сообщений на тарифе ultra (Медиана: 38, Средняя: 49) больше, чем на тарифе smart (Медиана: 28, Средняя: 33).<br>\n",
    "* Стандартное отклонение на тарифе ultra (48) больше, чем на тарифе smart (28) из-за чего график распределения количество сообщений на тарифе ultra более пологий.<br>\n",
    "\n",
    "\n",
    "* Среднее и медианное количество интернет-трафика ultra (Медиана: 19308, Средняя: 19469) больше, чем на тарифе smart (Медиана: 16506, Средняя: 16208).<br>\n",
    "* Стандартное отклонение на тарифе ultra (10087) больше, чем на тарифе smart (5870) из-за чего график распределения количества интернет-трафика на тарифе ultra более пологий.<br>\n",
    "\n",
    "\n",
    "* Средняя и медианная выручка с каждого пользователя на тарифе ultra (Медиана: 1950, Средняя: 2070) больше, чем на тарифе smart (Медиана: 1023, Средняя: 1290).<br>\n",
    "* Стандартное отклонение на тарифе smart (818) больше, чем на тарифе ultra (376).<br>\n",
    "* По графикам видно, что клиентов, вышедших за пределы пакета тарифа ultra практически нет, в то время как для тарифа smart заметная часть пользователей выходят за пределы пакета услуг.<br>\n",
    "\n",
    "\n",
    "Для проверки гипотезы, что средняя выручка пользователей тарифов «Ультра» и «Смарт» различаются, сформулировали нулевую гипотезу H₀, что средняя выручка пользователей тарифов «Ультра» и «Смарт» равны.<br>\n",
    "\n",
    "Исходя из H₀ сформулировали альтернативную гипотезу H₁, что средняя выручка пользователей тарифов «Ультра» и «Смарт» различаются. Задали уровень значимости 5% и получили p-значение: 1.4229814360764067e-160, что отвергает нулевую гипотезу о равенстве средней выручки пользователей тарифов «Ультра» и «Смарт».<br>\n",
    "Значит принимается гипотеза H₁ о неравенстве средней выручки пользователей тарифов «Ультра» и «Смарт».<br>\n",
    "\n",
    "Для проверки гипотезы, что средняя выручка пользователей из Москвы отличается от выручки пользователей из других регионов, сформулировали нулевую гипотезу H₀, что средняя выручка пользователей из Москвы и выручка пользователей из других регионов равны.<br>\n",
    "\n",
    "Исходя из H₀ сформулировали альтернативную гипотеза H₁, что средняя выручка пользователей из Москвы и выручка пользователей из других регионов различаются. Задали уровень значимости 5% и получили p-значение = 0.18150864159228705 для тарифа smart, что не позволяет отвергнуть гипотезу H₀ о равенстве средней выручки пользователей из Москвы и выручке пользователей из других регионов принята, значит гипотеза H₁ о неравенстве средней выручки пользователей из Москвы и выручки пользователей из других регионов отвергается для тарифа smart.<br>\n",
    "\n",
    "Для тарифа ultra p-значение = 1.0, что не позволяет отвергнуть гипотезу H₀ о равенстве средней выручки пользователей из Москвы и выручке пользователей из других регионов принята, значит гипотеза H₁ о неравенстве средней выручки пользователей из Москвы и выручки пользователей из других регионов отвергается для тарифа ultra.<br>\n",
    "\n",
    "Гипотеза о разной средней выручке в зависимости от тарифа подтвердилась.<br>\n",
    "Гипотеза о разной средней выручке в зависимости от региона отклонена.<br>\n",
    "Средняя выручка зависит от тарифа и не зависит от региона."
   ]
  },
  {
   "cell_type": "code",
   "execution_count": null,
   "metadata": {},
   "outputs": [],
   "source": []
  }
 ],
 "metadata": {
  "ExecuteTimeLog": [
   {
    "duration": 304,
    "start_time": "2022-03-06T09:47:32.208Z"
   },
   {
    "duration": 987,
    "start_time": "2022-03-06T09:47:34.690Z"
   },
   {
    "duration": 17,
    "start_time": "2022-03-06T09:47:36.721Z"
   },
   {
    "duration": 14,
    "start_time": "2022-03-06T09:47:38.595Z"
   },
   {
    "duration": 9,
    "start_time": "2022-03-06T09:47:40.859Z"
   },
   {
    "duration": 8,
    "start_time": "2022-03-06T09:47:42.643Z"
   },
   {
    "duration": 13,
    "start_time": "2022-03-06T09:47:45.395Z"
   },
   {
    "duration": 44,
    "start_time": "2022-03-07T06:32:29.063Z"
   },
   {
    "duration": 18,
    "start_time": "2022-03-07T06:32:32.455Z"
   },
   {
    "duration": 316,
    "start_time": "2022-03-07T06:38:14.864Z"
   },
   {
    "duration": 37,
    "start_time": "2022-03-07T06:38:26.863Z"
   },
   {
    "duration": 1022,
    "start_time": "2022-03-07T06:40:47.812Z"
   },
   {
    "duration": 303,
    "start_time": "2022-03-07T06:41:02.663Z"
   },
   {
    "duration": 269,
    "start_time": "2022-03-07T06:41:13.648Z"
   },
   {
    "duration": 1045,
    "start_time": "2022-03-07T06:41:30.748Z"
   },
   {
    "duration": 17,
    "start_time": "2022-03-07T06:41:31.795Z"
   },
   {
    "duration": 16,
    "start_time": "2022-03-07T06:41:31.814Z"
   },
   {
    "duration": 13,
    "start_time": "2022-03-07T06:41:31.833Z"
   },
   {
    "duration": 11,
    "start_time": "2022-03-07T06:41:31.848Z"
   },
   {
    "duration": 20,
    "start_time": "2022-03-07T06:41:31.860Z"
   },
   {
    "duration": 318,
    "start_time": "2022-03-07T06:42:20.026Z"
   },
   {
    "duration": 977,
    "start_time": "2022-03-07T06:42:29.042Z"
   },
   {
    "duration": 1018,
    "start_time": "2022-03-07T06:42:34.583Z"
   },
   {
    "duration": 18,
    "start_time": "2022-03-07T06:42:35.604Z"
   },
   {
    "duration": 13,
    "start_time": "2022-03-07T06:42:35.626Z"
   },
   {
    "duration": 11,
    "start_time": "2022-03-07T06:42:35.641Z"
   },
   {
    "duration": 9,
    "start_time": "2022-03-07T06:42:35.654Z"
   },
   {
    "duration": 18,
    "start_time": "2022-03-07T06:42:35.665Z"
   },
   {
    "duration": 385,
    "start_time": "2022-03-07T06:42:35.685Z"
   },
   {
    "duration": -803,
    "start_time": "2022-03-07T06:42:36.875Z"
   },
   {
    "duration": 990,
    "start_time": "2022-03-07T06:44:54.034Z"
   },
   {
    "duration": 18,
    "start_time": "2022-03-07T06:44:55.026Z"
   },
   {
    "duration": 14,
    "start_time": "2022-03-07T06:44:55.046Z"
   },
   {
    "duration": 11,
    "start_time": "2022-03-07T06:44:55.062Z"
   },
   {
    "duration": 9,
    "start_time": "2022-03-07T06:44:55.074Z"
   },
   {
    "duration": 13,
    "start_time": "2022-03-07T06:44:55.085Z"
   },
   {
    "duration": 1032,
    "start_time": "2022-03-07T06:45:36.155Z"
   },
   {
    "duration": 19,
    "start_time": "2022-03-07T06:45:38.941Z"
   },
   {
    "duration": 15,
    "start_time": "2022-03-07T06:45:40.821Z"
   },
   {
    "duration": 10,
    "start_time": "2022-03-07T06:45:42.341Z"
   },
   {
    "duration": 8,
    "start_time": "2022-03-07T06:45:44.180Z"
   },
   {
    "duration": 13,
    "start_time": "2022-03-07T06:45:45.308Z"
   },
   {
    "duration": 300,
    "start_time": "2022-03-07T06:46:04.725Z"
   },
   {
    "duration": 1019,
    "start_time": "2022-03-07T06:48:11.991Z"
   },
   {
    "duration": 17,
    "start_time": "2022-03-07T06:48:13.012Z"
   },
   {
    "duration": 14,
    "start_time": "2022-03-07T06:48:13.031Z"
   },
   {
    "duration": 12,
    "start_time": "2022-03-07T06:48:13.047Z"
   },
   {
    "duration": 10,
    "start_time": "2022-03-07T06:48:13.061Z"
   },
   {
    "duration": 15,
    "start_time": "2022-03-07T06:48:13.072Z"
   },
   {
    "duration": 356,
    "start_time": "2022-03-07T06:49:12.452Z"
   },
   {
    "duration": 273,
    "start_time": "2022-03-07T06:49:42.663Z"
   },
   {
    "duration": 276,
    "start_time": "2022-03-07T06:58:16.565Z"
   },
   {
    "duration": 274,
    "start_time": "2022-03-07T06:58:49.533Z"
   },
   {
    "duration": 21,
    "start_time": "2022-03-07T07:00:29.210Z"
   },
   {
    "duration": 1035,
    "start_time": "2022-03-07T07:00:49.955Z"
   },
   {
    "duration": 29,
    "start_time": "2022-03-07T07:00:50.992Z"
   },
   {
    "duration": 18,
    "start_time": "2022-03-07T07:00:51.026Z"
   },
   {
    "duration": 32,
    "start_time": "2022-03-07T07:00:51.046Z"
   },
   {
    "duration": 8,
    "start_time": "2022-03-07T07:00:51.081Z"
   },
   {
    "duration": 23,
    "start_time": "2022-03-07T07:00:51.092Z"
   },
   {
    "duration": 325,
    "start_time": "2022-03-07T07:00:51.117Z"
   },
   {
    "duration": 310,
    "start_time": "2022-03-07T07:01:23.372Z"
   },
   {
    "duration": 253,
    "start_time": "2022-03-07T07:01:34.372Z"
   },
   {
    "duration": 318,
    "start_time": "2022-03-07T07:03:58.931Z"
   },
   {
    "duration": 270,
    "start_time": "2022-03-07T07:04:13.971Z"
   },
   {
    "duration": 268,
    "start_time": "2022-03-07T07:04:20.891Z"
   },
   {
    "duration": 1045,
    "start_time": "2022-03-07T07:06:28.860Z"
   },
   {
    "duration": 20,
    "start_time": "2022-03-07T07:06:29.907Z"
   },
   {
    "duration": 14,
    "start_time": "2022-03-07T07:06:29.930Z"
   },
   {
    "duration": 11,
    "start_time": "2022-03-07T07:06:29.946Z"
   },
   {
    "duration": 23,
    "start_time": "2022-03-07T07:06:29.959Z"
   },
   {
    "duration": 13,
    "start_time": "2022-03-07T07:06:29.984Z"
   },
   {
    "duration": 303,
    "start_time": "2022-03-07T07:06:59.555Z"
   },
   {
    "duration": 1032,
    "start_time": "2022-03-07T07:07:06.196Z"
   },
   {
    "duration": 18,
    "start_time": "2022-03-07T07:07:07.230Z"
   },
   {
    "duration": 23,
    "start_time": "2022-03-07T07:07:07.250Z"
   },
   {
    "duration": 17,
    "start_time": "2022-03-07T07:07:07.275Z"
   },
   {
    "duration": 15,
    "start_time": "2022-03-07T07:07:07.294Z"
   },
   {
    "duration": 22,
    "start_time": "2022-03-07T07:07:07.311Z"
   },
   {
    "duration": 407,
    "start_time": "2022-03-07T07:07:07.334Z"
   },
   {
    "duration": 752,
    "start_time": "2022-03-07T07:07:22.890Z"
   },
   {
    "duration": 275,
    "start_time": "2022-03-07T07:07:34.562Z"
   },
   {
    "duration": 271,
    "start_time": "2022-03-07T07:07:46.122Z"
   },
   {
    "duration": 1051,
    "start_time": "2022-03-07T07:08:15.167Z"
   },
   {
    "duration": 25,
    "start_time": "2022-03-07T07:08:16.220Z"
   },
   {
    "duration": 18,
    "start_time": "2022-03-07T07:08:16.247Z"
   },
   {
    "duration": 13,
    "start_time": "2022-03-07T07:08:16.267Z"
   },
   {
    "duration": 7,
    "start_time": "2022-03-07T07:08:16.281Z"
   },
   {
    "duration": 14,
    "start_time": "2022-03-07T07:08:16.290Z"
   },
   {
    "duration": 322,
    "start_time": "2022-03-07T07:08:16.306Z"
   },
   {
    "duration": 998,
    "start_time": "2022-03-07T07:08:39.723Z"
   },
   {
    "duration": 27,
    "start_time": "2022-03-07T07:08:40.723Z"
   },
   {
    "duration": 20,
    "start_time": "2022-03-07T07:08:40.754Z"
   },
   {
    "duration": 14,
    "start_time": "2022-03-07T07:08:40.776Z"
   },
   {
    "duration": 8,
    "start_time": "2022-03-07T07:08:40.792Z"
   },
   {
    "duration": 16,
    "start_time": "2022-03-07T07:08:40.802Z"
   },
   {
    "duration": 368,
    "start_time": "2022-03-07T07:08:40.820Z"
   },
   {
    "duration": 13,
    "start_time": "2022-03-07T07:36:49.624Z"
   },
   {
    "duration": 15,
    "start_time": "2022-03-07T07:36:54.696Z"
   },
   {
    "duration": 10,
    "start_time": "2022-03-07T07:36:57.680Z"
   },
   {
    "duration": 14,
    "start_time": "2022-03-07T07:37:02.008Z"
   },
   {
    "duration": 8,
    "start_time": "2022-03-07T07:59:35.120Z"
   },
   {
    "duration": 22,
    "start_time": "2022-03-07T07:59:56.996Z"
   },
   {
    "duration": 21,
    "start_time": "2022-03-07T08:00:23.771Z"
   },
   {
    "duration": 19,
    "start_time": "2022-03-07T08:06:05.503Z"
   },
   {
    "duration": 18,
    "start_time": "2022-03-07T08:11:19.158Z"
   },
   {
    "duration": 7,
    "start_time": "2022-03-07T08:13:35.125Z"
   },
   {
    "duration": 11,
    "start_time": "2022-03-07T08:15:11.494Z"
   },
   {
    "duration": 2,
    "start_time": "2022-03-07T08:19:24.425Z"
   },
   {
    "duration": 290,
    "start_time": "2022-03-07T08:54:19.007Z"
   },
   {
    "duration": 6,
    "start_time": "2022-03-07T08:54:29.665Z"
   },
   {
    "duration": 4,
    "start_time": "2022-03-07T08:54:37.457Z"
   },
   {
    "duration": 6,
    "start_time": "2022-03-07T08:54:43.441Z"
   },
   {
    "duration": 269,
    "start_time": "2022-03-07T09:01:21.636Z"
   },
   {
    "duration": 3,
    "start_time": "2022-03-07T09:01:24.654Z"
   },
   {
    "duration": 264,
    "start_time": "2022-03-07T09:01:27.270Z"
   },
   {
    "duration": 528,
    "start_time": "2022-03-07T09:01:53.901Z"
   },
   {
    "duration": 1071,
    "start_time": "2022-03-07T09:05:32.827Z"
   },
   {
    "duration": 3,
    "start_time": "2022-03-07T09:05:45.686Z"
   },
   {
    "duration": 267,
    "start_time": "2022-03-07T09:05:47.758Z"
   },
   {
    "duration": 19652,
    "start_time": "2022-03-07T09:05:54.188Z"
   },
   {
    "duration": 92,
    "start_time": "2022-03-07T09:06:51.196Z"
   },
   {
    "duration": 3,
    "start_time": "2022-03-07T09:07:27.468Z"
   },
   {
    "duration": 19274,
    "start_time": "2022-03-07T09:07:28.508Z"
   },
   {
    "duration": 3,
    "start_time": "2022-03-07T09:09:20.971Z"
   },
   {
    "duration": 19447,
    "start_time": "2022-03-07T09:09:22.044Z"
   },
   {
    "duration": 9,
    "start_time": "2022-03-07T09:10:41.890Z"
   },
   {
    "duration": 13863,
    "start_time": "2022-03-07T09:11:24.827Z"
   },
   {
    "duration": 11423,
    "start_time": "2022-03-07T09:14:40.447Z"
   },
   {
    "duration": 15,
    "start_time": "2022-03-07T09:17:09.923Z"
   },
   {
    "duration": 11414,
    "start_time": "2022-03-07T09:17:28.297Z"
   },
   {
    "duration": 11,
    "start_time": "2022-03-07T09:17:42.280Z"
   },
   {
    "duration": 18887,
    "start_time": "2022-03-07T09:18:05.593Z"
   },
   {
    "duration": 6,
    "start_time": "2022-03-07T09:18:25.961Z"
   },
   {
    "duration": 13980,
    "start_time": "2022-03-07T09:18:28.845Z"
   },
   {
    "duration": 7,
    "start_time": "2022-03-07T09:18:58.496Z"
   },
   {
    "duration": 18,
    "start_time": "2022-03-07T09:21:52.120Z"
   },
   {
    "duration": 10,
    "start_time": "2022-03-07T09:22:02.813Z"
   },
   {
    "duration": 260,
    "start_time": "2022-03-07T09:22:07.400Z"
   },
   {
    "duration": 13,
    "start_time": "2022-03-07T09:22:24.623Z"
   },
   {
    "duration": 1063,
    "start_time": "2022-03-07T09:28:19.624Z"
   },
   {
    "duration": 14,
    "start_time": "2022-03-07T09:28:20.690Z"
   },
   {
    "duration": 23,
    "start_time": "2022-03-07T09:28:20.709Z"
   },
   {
    "duration": 14,
    "start_time": "2022-03-07T09:28:20.733Z"
   },
   {
    "duration": 38,
    "start_time": "2022-03-07T09:28:20.749Z"
   },
   {
    "duration": 14,
    "start_time": "2022-03-07T09:28:20.789Z"
   },
   {
    "duration": 17,
    "start_time": "2022-03-07T09:28:20.805Z"
   },
   {
    "duration": 8,
    "start_time": "2022-03-07T09:28:20.825Z"
   },
   {
    "duration": 21,
    "start_time": "2022-03-07T09:28:20.835Z"
   },
   {
    "duration": 29,
    "start_time": "2022-03-07T09:28:20.858Z"
   },
   {
    "duration": 8,
    "start_time": "2022-03-07T09:28:20.889Z"
   },
   {
    "duration": 9,
    "start_time": "2022-03-07T09:28:20.899Z"
   },
   {
    "duration": 18510,
    "start_time": "2022-03-07T09:28:20.910Z"
   },
   {
    "duration": 62,
    "start_time": "2022-03-07T09:28:39.421Z"
   },
   {
    "duration": 13704,
    "start_time": "2022-03-07T09:28:39.485Z"
   },
   {
    "duration": 11196,
    "start_time": "2022-03-07T09:28:53.191Z"
   },
   {
    "duration": 7,
    "start_time": "2022-03-07T09:29:04.389Z"
   },
   {
    "duration": 12,
    "start_time": "2022-03-07T09:31:14.193Z"
   },
   {
    "duration": 19,
    "start_time": "2022-03-07T09:33:46.190Z"
   },
   {
    "duration": 24,
    "start_time": "2022-03-07T09:38:31.511Z"
   },
   {
    "duration": 6,
    "start_time": "2022-03-07T09:38:38.350Z"
   },
   {
    "duration": 48,
    "start_time": "2022-03-07T09:39:00.447Z"
   },
   {
    "duration": 15,
    "start_time": "2022-03-07T09:39:31.340Z"
   },
   {
    "duration": 5,
    "start_time": "2022-03-07T09:41:13.718Z"
   },
   {
    "duration": 4,
    "start_time": "2022-03-07T09:41:24.181Z"
   },
   {
    "duration": 82,
    "start_time": "2022-03-07T09:43:28.725Z"
   },
   {
    "duration": 30,
    "start_time": "2022-03-07T09:44:39.708Z"
   },
   {
    "duration": 45,
    "start_time": "2022-03-07T09:44:45.492Z"
   },
   {
    "duration": 46,
    "start_time": "2022-03-07T09:46:15.900Z"
   },
   {
    "duration": 562,
    "start_time": "2022-03-07T11:35:45.660Z"
   },
   {
    "duration": 10,
    "start_time": "2022-03-07T11:36:20.513Z"
   },
   {
    "duration": 25,
    "start_time": "2022-03-07T11:37:39.753Z"
   },
   {
    "duration": 262,
    "start_time": "2022-03-07T11:38:34.305Z"
   },
   {
    "duration": 49,
    "start_time": "2022-03-07T11:38:47.544Z"
   },
   {
    "duration": 12,
    "start_time": "2022-03-07T11:41:09.894Z"
   },
   {
    "duration": 28,
    "start_time": "2022-03-07T11:44:01.321Z"
   },
   {
    "duration": 44,
    "start_time": "2022-03-07T11:44:10.416Z"
   },
   {
    "duration": 260,
    "start_time": "2022-03-07T11:48:05.126Z"
   },
   {
    "duration": 8,
    "start_time": "2022-03-07T11:48:35.440Z"
   },
   {
    "duration": 29,
    "start_time": "2022-03-07T11:48:40.369Z"
   },
   {
    "duration": 262,
    "start_time": "2022-03-07T11:49:20.777Z"
   },
   {
    "duration": 878,
    "start_time": "2022-03-07T11:50:13.793Z"
   },
   {
    "duration": 1079,
    "start_time": "2022-03-07T11:53:26.289Z"
   },
   {
    "duration": 13,
    "start_time": "2022-03-07T11:53:27.370Z"
   },
   {
    "duration": 22,
    "start_time": "2022-03-07T11:53:27.387Z"
   },
   {
    "duration": 14,
    "start_time": "2022-03-07T11:53:27.410Z"
   },
   {
    "duration": 19,
    "start_time": "2022-03-07T11:53:27.425Z"
   },
   {
    "duration": 32,
    "start_time": "2022-03-07T11:53:27.446Z"
   },
   {
    "duration": 17,
    "start_time": "2022-03-07T11:53:27.481Z"
   },
   {
    "duration": 8,
    "start_time": "2022-03-07T11:53:27.502Z"
   },
   {
    "duration": 7,
    "start_time": "2022-03-07T11:53:27.513Z"
   },
   {
    "duration": 15,
    "start_time": "2022-03-07T11:53:27.522Z"
   },
   {
    "duration": 44,
    "start_time": "2022-03-07T11:53:27.539Z"
   },
   {
    "duration": 10,
    "start_time": "2022-03-07T11:53:27.585Z"
   },
   {
    "duration": 19145,
    "start_time": "2022-03-07T11:53:27.596Z"
   },
   {
    "duration": 56,
    "start_time": "2022-03-07T11:53:46.743Z"
   },
   {
    "duration": 14403,
    "start_time": "2022-03-07T11:53:46.801Z"
   },
   {
    "duration": 11464,
    "start_time": "2022-03-07T11:54:01.206Z"
   },
   {
    "duration": 8,
    "start_time": "2022-03-07T11:54:12.672Z"
   },
   {
    "duration": 29,
    "start_time": "2022-03-07T11:54:12.682Z"
   },
   {
    "duration": 4,
    "start_time": "2022-03-07T11:54:12.713Z"
   },
   {
    "duration": 8,
    "start_time": "2022-03-07T11:54:12.719Z"
   },
   {
    "duration": 72,
    "start_time": "2022-03-07T11:54:12.729Z"
   },
   {
    "duration": 43,
    "start_time": "2022-03-07T11:54:12.803Z"
   },
   {
    "duration": 42,
    "start_time": "2022-03-07T11:54:12.848Z"
   },
   {
    "duration": 46,
    "start_time": "2022-03-07T11:54:12.892Z"
   },
   {
    "duration": 46,
    "start_time": "2022-03-07T11:54:12.940Z"
   },
   {
    "duration": 40,
    "start_time": "2022-03-07T11:54:12.990Z"
   },
   {
    "duration": 899,
    "start_time": "2022-03-07T11:54:13.032Z"
   },
   {
    "duration": 74,
    "start_time": "2022-03-07T11:54:13.933Z"
   },
   {
    "duration": 17,
    "start_time": "2022-03-07T11:54:48.632Z"
   },
   {
    "duration": 23,
    "start_time": "2022-03-07T11:54:55.416Z"
   },
   {
    "duration": 1077,
    "start_time": "2022-03-07T11:56:39.910Z"
   },
   {
    "duration": 15,
    "start_time": "2022-03-07T11:56:40.989Z"
   },
   {
    "duration": 24,
    "start_time": "2022-03-07T11:56:41.007Z"
   },
   {
    "duration": 15,
    "start_time": "2022-03-07T11:56:41.033Z"
   },
   {
    "duration": 42,
    "start_time": "2022-03-07T11:56:41.050Z"
   },
   {
    "duration": 10,
    "start_time": "2022-03-07T11:56:41.094Z"
   },
   {
    "duration": 20,
    "start_time": "2022-03-07T11:56:41.106Z"
   },
   {
    "duration": 8,
    "start_time": "2022-03-07T11:56:41.128Z"
   },
   {
    "duration": 7,
    "start_time": "2022-03-07T11:56:41.139Z"
   },
   {
    "duration": 14,
    "start_time": "2022-03-07T11:56:41.178Z"
   },
   {
    "duration": 8,
    "start_time": "2022-03-07T11:56:41.194Z"
   },
   {
    "duration": 5,
    "start_time": "2022-03-07T11:56:41.204Z"
   },
   {
    "duration": 19405,
    "start_time": "2022-03-07T11:56:41.211Z"
   },
   {
    "duration": 52,
    "start_time": "2022-03-07T11:57:00.618Z"
   },
   {
    "duration": 13987,
    "start_time": "2022-03-07T11:57:00.677Z"
   },
   {
    "duration": 11487,
    "start_time": "2022-03-07T11:57:14.666Z"
   },
   {
    "duration": 8,
    "start_time": "2022-03-07T11:57:26.155Z"
   },
   {
    "duration": 38,
    "start_time": "2022-03-07T11:57:26.165Z"
   },
   {
    "duration": 5,
    "start_time": "2022-03-07T11:57:26.204Z"
   },
   {
    "duration": 8,
    "start_time": "2022-03-07T11:57:26.211Z"
   },
   {
    "duration": 66,
    "start_time": "2022-03-07T11:57:26.221Z"
   },
   {
    "duration": 46,
    "start_time": "2022-03-07T11:57:26.288Z"
   },
   {
    "duration": 43,
    "start_time": "2022-03-07T11:57:26.335Z"
   },
   {
    "duration": 47,
    "start_time": "2022-03-07T11:57:26.380Z"
   },
   {
    "duration": 30,
    "start_time": "2022-03-07T11:57:26.428Z"
   },
   {
    "duration": 40,
    "start_time": "2022-03-07T11:57:26.478Z"
   },
   {
    "duration": 907,
    "start_time": "2022-03-07T11:57:26.521Z"
   },
   {
    "duration": 70,
    "start_time": "2022-03-07T11:57:27.430Z"
   },
   {
    "duration": 19,
    "start_time": "2022-03-07T11:57:27.502Z"
   },
   {
    "duration": 26,
    "start_time": "2022-03-07T11:57:27.523Z"
   },
   {
    "duration": 292,
    "start_time": "2022-03-07T11:57:53.190Z"
   },
   {
    "duration": 1130,
    "start_time": "2022-03-07T11:58:02.159Z"
   },
   {
    "duration": 15,
    "start_time": "2022-03-07T11:58:03.291Z"
   },
   {
    "duration": 21,
    "start_time": "2022-03-07T11:58:03.311Z"
   },
   {
    "duration": 14,
    "start_time": "2022-03-07T11:58:03.334Z"
   },
   {
    "duration": 40,
    "start_time": "2022-03-07T11:58:03.349Z"
   },
   {
    "duration": 10,
    "start_time": "2022-03-07T11:58:03.390Z"
   },
   {
    "duration": 18,
    "start_time": "2022-03-07T11:58:03.404Z"
   },
   {
    "duration": 9,
    "start_time": "2022-03-07T11:58:03.425Z"
   },
   {
    "duration": 13,
    "start_time": "2022-03-07T11:58:03.436Z"
   },
   {
    "duration": 38,
    "start_time": "2022-03-07T11:58:03.451Z"
   },
   {
    "duration": 13,
    "start_time": "2022-03-07T11:58:03.492Z"
   },
   {
    "duration": 14,
    "start_time": "2022-03-07T11:58:03.507Z"
   },
   {
    "duration": 18948,
    "start_time": "2022-03-07T11:58:03.523Z"
   },
   {
    "duration": 53,
    "start_time": "2022-03-07T11:58:22.472Z"
   },
   {
    "duration": 14186,
    "start_time": "2022-03-07T11:58:22.527Z"
   },
   {
    "duration": 11617,
    "start_time": "2022-03-07T11:58:36.715Z"
   },
   {
    "duration": 8,
    "start_time": "2022-03-07T11:58:48.334Z"
   },
   {
    "duration": 41,
    "start_time": "2022-03-07T11:58:48.344Z"
   },
   {
    "duration": 5,
    "start_time": "2022-03-07T11:58:48.387Z"
   },
   {
    "duration": 6,
    "start_time": "2022-03-07T11:58:48.394Z"
   },
   {
    "duration": 50,
    "start_time": "2022-03-07T11:58:48.402Z"
   },
   {
    "duration": 61,
    "start_time": "2022-03-07T11:58:48.456Z"
   },
   {
    "duration": 24,
    "start_time": "2022-03-07T11:58:48.519Z"
   },
   {
    "duration": 66,
    "start_time": "2022-03-07T11:58:48.545Z"
   },
   {
    "duration": 29,
    "start_time": "2022-03-07T11:58:48.613Z"
   },
   {
    "duration": 55,
    "start_time": "2022-03-07T11:58:48.644Z"
   },
   {
    "duration": 897,
    "start_time": "2022-03-07T11:58:48.701Z"
   },
   {
    "duration": 67,
    "start_time": "2022-03-07T11:58:49.600Z"
   },
   {
    "duration": 337,
    "start_time": "2022-03-07T11:58:49.677Z"
   },
   {
    "duration": 247,
    "start_time": "2022-03-07T12:03:47.894Z"
   },
   {
    "duration": 267,
    "start_time": "2022-03-07T12:03:55.616Z"
   },
   {
    "duration": 31,
    "start_time": "2022-03-07T12:04:10.585Z"
   },
   {
    "duration": 31,
    "start_time": "2022-03-07T12:08:34.534Z"
   },
   {
    "duration": 48,
    "start_time": "2022-03-07T12:08:59.753Z"
   },
   {
    "duration": 29,
    "start_time": "2022-03-07T12:09:32.297Z"
   },
   {
    "duration": 34,
    "start_time": "2022-03-07T12:10:00.361Z"
   },
   {
    "duration": 26,
    "start_time": "2022-03-07T12:10:57.641Z"
   },
   {
    "duration": 38,
    "start_time": "2022-03-07T12:12:18.174Z"
   },
   {
    "duration": 24,
    "start_time": "2022-03-07T12:12:25.513Z"
   },
   {
    "duration": 20,
    "start_time": "2022-03-07T12:13:12.065Z"
   },
   {
    "duration": 31,
    "start_time": "2022-03-07T12:13:17.049Z"
   },
   {
    "duration": 23,
    "start_time": "2022-03-07T12:14:33.441Z"
   },
   {
    "duration": 40,
    "start_time": "2022-03-07T12:14:39.040Z"
   },
   {
    "duration": 98,
    "start_time": "2022-03-07T12:17:48.606Z"
   },
   {
    "duration": 41,
    "start_time": "2022-03-07T12:18:12.580Z"
   },
   {
    "duration": 34,
    "start_time": "2022-03-07T12:18:29.699Z"
   },
   {
    "duration": 35,
    "start_time": "2022-03-07T12:18:32.164Z"
   },
   {
    "duration": 38,
    "start_time": "2022-03-07T12:18:48.034Z"
   },
   {
    "duration": 28,
    "start_time": "2022-03-07T12:18:54.634Z"
   },
   {
    "duration": 266,
    "start_time": "2022-03-07T12:19:04.337Z"
   },
   {
    "duration": 1096,
    "start_time": "2022-03-07T12:19:20.219Z"
   },
   {
    "duration": 15,
    "start_time": "2022-03-07T12:19:21.317Z"
   },
   {
    "duration": 24,
    "start_time": "2022-03-07T12:19:21.334Z"
   },
   {
    "duration": 15,
    "start_time": "2022-03-07T12:19:21.360Z"
   },
   {
    "duration": 19,
    "start_time": "2022-03-07T12:19:21.377Z"
   },
   {
    "duration": 11,
    "start_time": "2022-03-07T12:19:21.398Z"
   },
   {
    "duration": 19,
    "start_time": "2022-03-07T12:19:21.411Z"
   },
   {
    "duration": 8,
    "start_time": "2022-03-07T12:19:21.433Z"
   },
   {
    "duration": 14,
    "start_time": "2022-03-07T12:19:21.443Z"
   },
   {
    "duration": 13,
    "start_time": "2022-03-07T12:19:21.478Z"
   },
   {
    "duration": 8,
    "start_time": "2022-03-07T12:19:21.493Z"
   },
   {
    "duration": 4,
    "start_time": "2022-03-07T12:19:21.503Z"
   },
   {
    "duration": 19374,
    "start_time": "2022-03-07T12:19:21.509Z"
   },
   {
    "duration": 55,
    "start_time": "2022-03-07T12:19:40.885Z"
   },
   {
    "duration": 14160,
    "start_time": "2022-03-07T12:19:40.942Z"
   },
   {
    "duration": 11538,
    "start_time": "2022-03-07T12:19:55.104Z"
   },
   {
    "duration": 8,
    "start_time": "2022-03-07T12:20:06.643Z"
   },
   {
    "duration": 34,
    "start_time": "2022-03-07T12:20:06.653Z"
   },
   {
    "duration": 5,
    "start_time": "2022-03-07T12:20:06.689Z"
   },
   {
    "duration": 8,
    "start_time": "2022-03-07T12:20:06.696Z"
   },
   {
    "duration": 81,
    "start_time": "2022-03-07T12:20:06.706Z"
   },
   {
    "duration": 32,
    "start_time": "2022-03-07T12:20:06.789Z"
   },
   {
    "duration": 54,
    "start_time": "2022-03-07T12:20:06.824Z"
   },
   {
    "duration": 29,
    "start_time": "2022-03-07T12:20:06.880Z"
   },
   {
    "duration": 35,
    "start_time": "2022-03-07T12:20:06.911Z"
   },
   {
    "duration": 66,
    "start_time": "2022-03-07T12:20:06.948Z"
   },
   {
    "duration": 39,
    "start_time": "2022-03-07T12:21:53.880Z"
   },
   {
    "duration": 30,
    "start_time": "2022-03-07T12:22:36.446Z"
   },
   {
    "duration": 40,
    "start_time": "2022-03-07T12:24:54.713Z"
   },
   {
    "duration": 470,
    "start_time": "2022-03-07T12:38:15.303Z"
   },
   {
    "duration": 42,
    "start_time": "2022-03-07T12:38:30.215Z"
   },
   {
    "duration": 30,
    "start_time": "2022-03-07T12:39:48.717Z"
   },
   {
    "duration": 8,
    "start_time": "2022-03-07T12:40:25.093Z"
   },
   {
    "duration": 33,
    "start_time": "2022-03-07T12:41:05.204Z"
   },
   {
    "duration": 319,
    "start_time": "2022-03-07T12:58:21.098Z"
   },
   {
    "duration": 25,
    "start_time": "2022-03-07T12:58:40.779Z"
   },
   {
    "duration": 31,
    "start_time": "2022-03-07T12:58:50.401Z"
   },
   {
    "duration": 49,
    "start_time": "2022-03-07T12:59:09.562Z"
   },
   {
    "duration": 1121,
    "start_time": "2022-03-07T13:02:20.008Z"
   },
   {
    "duration": 14,
    "start_time": "2022-03-07T13:02:21.131Z"
   },
   {
    "duration": 39,
    "start_time": "2022-03-07T13:02:21.149Z"
   },
   {
    "duration": 14,
    "start_time": "2022-03-07T13:02:21.190Z"
   },
   {
    "duration": 37,
    "start_time": "2022-03-07T13:02:21.206Z"
   },
   {
    "duration": 11,
    "start_time": "2022-03-07T13:02:21.244Z"
   },
   {
    "duration": 33,
    "start_time": "2022-03-07T13:02:21.257Z"
   },
   {
    "duration": 29,
    "start_time": "2022-03-07T13:02:21.292Z"
   },
   {
    "duration": 9,
    "start_time": "2022-03-07T13:02:21.323Z"
   },
   {
    "duration": 29,
    "start_time": "2022-03-07T13:02:21.334Z"
   },
   {
    "duration": 20,
    "start_time": "2022-03-07T13:02:21.365Z"
   },
   {
    "duration": 14,
    "start_time": "2022-03-07T13:02:21.387Z"
   },
   {
    "duration": 19179,
    "start_time": "2022-03-07T13:02:21.403Z"
   },
   {
    "duration": 53,
    "start_time": "2022-03-07T13:02:40.584Z"
   },
   {
    "duration": 14221,
    "start_time": "2022-03-07T13:02:40.639Z"
   },
   {
    "duration": 11724,
    "start_time": "2022-03-07T13:02:54.861Z"
   },
   {
    "duration": 10,
    "start_time": "2022-03-07T13:03:06.586Z"
   },
   {
    "duration": 31,
    "start_time": "2022-03-07T13:03:06.598Z"
   },
   {
    "duration": 5,
    "start_time": "2022-03-07T13:03:06.631Z"
   },
   {
    "duration": 7,
    "start_time": "2022-03-07T13:03:06.638Z"
   },
   {
    "duration": 98,
    "start_time": "2022-03-07T13:03:06.646Z"
   },
   {
    "duration": 48,
    "start_time": "2022-03-07T13:03:06.749Z"
   },
   {
    "duration": 36,
    "start_time": "2022-03-07T13:03:06.799Z"
   },
   {
    "duration": 45,
    "start_time": "2022-03-07T13:03:06.837Z"
   },
   {
    "duration": 35,
    "start_time": "2022-03-07T13:03:06.884Z"
   },
   {
    "duration": 1863,
    "start_time": "2022-03-07T13:03:06.920Z"
   },
   {
    "duration": -943,
    "start_time": "2022-03-07T13:03:09.728Z"
   },
   {
    "duration": 40,
    "start_time": "2022-03-07T13:03:25.408Z"
   },
   {
    "duration": 5,
    "start_time": "2022-03-07T13:07:13.332Z"
   },
   {
    "duration": 260,
    "start_time": "2022-03-07T13:07:16.334Z"
   },
   {
    "duration": 4,
    "start_time": "2022-03-07T13:07:19.046Z"
   },
   {
    "duration": 1190,
    "start_time": "2022-03-07T13:08:45.595Z"
   },
   {
    "duration": 16,
    "start_time": "2022-03-07T13:08:46.787Z"
   },
   {
    "duration": 23,
    "start_time": "2022-03-07T13:08:46.805Z"
   },
   {
    "duration": 15,
    "start_time": "2022-03-07T13:08:46.830Z"
   },
   {
    "duration": 44,
    "start_time": "2022-03-07T13:08:46.847Z"
   },
   {
    "duration": 10,
    "start_time": "2022-03-07T13:08:46.893Z"
   },
   {
    "duration": 18,
    "start_time": "2022-03-07T13:08:46.904Z"
   },
   {
    "duration": 8,
    "start_time": "2022-03-07T13:08:46.923Z"
   },
   {
    "duration": 8,
    "start_time": "2022-03-07T13:08:46.934Z"
   },
   {
    "duration": 41,
    "start_time": "2022-03-07T13:08:46.945Z"
   },
   {
    "duration": 8,
    "start_time": "2022-03-07T13:08:46.988Z"
   },
   {
    "duration": 7,
    "start_time": "2022-03-07T13:08:46.998Z"
   },
   {
    "duration": 20008,
    "start_time": "2022-03-07T13:08:47.006Z"
   },
   {
    "duration": 61,
    "start_time": "2022-03-07T13:09:07.016Z"
   },
   {
    "duration": 14611,
    "start_time": "2022-03-07T13:09:07.079Z"
   },
   {
    "duration": 11923,
    "start_time": "2022-03-07T13:09:21.692Z"
   },
   {
    "duration": 7,
    "start_time": "2022-03-07T13:09:33.617Z"
   },
   {
    "duration": 30,
    "start_time": "2022-03-07T13:09:33.627Z"
   },
   {
    "duration": 5,
    "start_time": "2022-03-07T13:09:33.658Z"
   },
   {
    "duration": 16,
    "start_time": "2022-03-07T13:09:33.664Z"
   },
   {
    "duration": 73,
    "start_time": "2022-03-07T13:09:33.682Z"
   },
   {
    "duration": 48,
    "start_time": "2022-03-07T13:09:33.757Z"
   },
   {
    "duration": 38,
    "start_time": "2022-03-07T13:09:33.806Z"
   },
   {
    "duration": 48,
    "start_time": "2022-03-07T13:09:33.846Z"
   },
   {
    "duration": 36,
    "start_time": "2022-03-07T13:09:33.896Z"
   },
   {
    "duration": 91,
    "start_time": "2022-03-07T13:09:33.934Z"
   },
   {
    "duration": 336,
    "start_time": "2022-03-07T13:10:52.147Z"
   },
   {
    "duration": 42,
    "start_time": "2022-03-07T13:10:59.667Z"
   },
   {
    "duration": 5,
    "start_time": "2022-03-07T13:11:02.899Z"
   },
   {
    "duration": 4,
    "start_time": "2022-03-07T13:11:17.490Z"
   },
   {
    "duration": 4,
    "start_time": "2022-03-07T13:11:26.514Z"
   },
   {
    "duration": 43,
    "start_time": "2022-03-07T13:13:43.370Z"
   },
   {
    "duration": 41,
    "start_time": "2022-03-07T13:14:47.072Z"
   },
   {
    "duration": 269,
    "start_time": "2022-03-07T13:16:16.112Z"
   },
   {
    "duration": 8,
    "start_time": "2022-03-07T13:16:28.696Z"
   },
   {
    "duration": 3,
    "start_time": "2022-03-07T13:57:04.076Z"
   },
   {
    "duration": 21,
    "start_time": "2022-03-07T13:57:27.565Z"
   },
   {
    "duration": 19,
    "start_time": "2022-03-07T13:58:12.806Z"
   },
   {
    "duration": 17,
    "start_time": "2022-03-07T13:58:26.597Z"
   },
   {
    "duration": 5,
    "start_time": "2022-03-07T13:58:37.717Z"
   },
   {
    "duration": 3,
    "start_time": "2022-03-07T13:59:18.167Z"
   },
   {
    "duration": 3578,
    "start_time": "2022-03-07T13:59:19.917Z"
   },
   {
    "duration": 83,
    "start_time": "2022-03-07T14:00:07.757Z"
   },
   {
    "duration": 3,
    "start_time": "2022-03-07T14:00:13.860Z"
   },
   {
    "duration": 3712,
    "start_time": "2022-03-07T14:00:15.461Z"
   },
   {
    "duration": -965,
    "start_time": "2022-03-07T14:00:20.140Z"
   },
   {
    "duration": 5896,
    "start_time": "2022-03-07T14:00:49.421Z"
   },
   {
    "duration": -973,
    "start_time": "2022-03-07T14:00:56.292Z"
   },
   {
    "duration": 2,
    "start_time": "2022-03-07T14:00:56.380Z"
   },
   {
    "duration": 30,
    "start_time": "2022-03-07T14:00:59.101Z"
   },
   {
    "duration": 5,
    "start_time": "2022-03-07T14:01:07.012Z"
   },
   {
    "duration": 87,
    "start_time": "2022-03-07T14:01:32.300Z"
   },
   {
    "duration": 3,
    "start_time": "2022-03-07T14:01:39.860Z"
   },
   {
    "duration": 20,
    "start_time": "2022-03-07T14:01:41.012Z"
   },
   {
    "duration": 3,
    "start_time": "2022-03-07T14:02:03.604Z"
   },
   {
    "duration": 3615,
    "start_time": "2022-03-07T14:02:04.861Z"
   },
   {
    "duration": 3,
    "start_time": "2022-03-07T14:03:00.972Z"
   },
   {
    "duration": 540,
    "start_time": "2022-03-07T14:03:03.156Z"
   },
   {
    "duration": 3,
    "start_time": "2022-03-07T14:03:14.405Z"
   },
   {
    "duration": 540,
    "start_time": "2022-03-07T14:03:15.829Z"
   },
   {
    "duration": 3,
    "start_time": "2022-03-07T14:03:26.044Z"
   },
   {
    "duration": 18,
    "start_time": "2022-03-07T14:03:27.476Z"
   },
   {
    "duration": 3,
    "start_time": "2022-03-07T14:04:02.123Z"
   },
   {
    "duration": 19,
    "start_time": "2022-03-07T14:04:03.876Z"
   },
   {
    "duration": 3,
    "start_time": "2022-03-07T14:05:00.595Z"
   },
   {
    "duration": 3804,
    "start_time": "2022-03-07T14:05:02.516Z"
   },
   {
    "duration": 275,
    "start_time": "2022-03-07T14:05:24.211Z"
   },
   {
    "duration": 261,
    "start_time": "2022-03-07T14:05:30.764Z"
   },
   {
    "duration": 3547,
    "start_time": "2022-03-07T14:05:36.147Z"
   },
   {
    "duration": 2,
    "start_time": "2022-03-07T14:06:02.044Z"
   },
   {
    "duration": 16,
    "start_time": "2022-03-07T14:06:04.163Z"
   },
   {
    "duration": 5,
    "start_time": "2022-03-07T14:06:07.875Z"
   },
   {
    "duration": 3,
    "start_time": "2022-03-07T14:06:23.938Z"
   },
   {
    "duration": 27,
    "start_time": "2022-03-07T14:06:25.235Z"
   },
   {
    "duration": 3,
    "start_time": "2022-03-07T14:06:33.570Z"
   },
   {
    "duration": 41,
    "start_time": "2022-03-07T14:06:34.659Z"
   },
   {
    "duration": 2,
    "start_time": "2022-03-07T14:07:23.406Z"
   },
   {
    "duration": 13567,
    "start_time": "2022-03-07T14:07:23.410Z"
   },
   {
    "duration": 3,
    "start_time": "2022-03-07T14:07:36.980Z"
   },
   {
    "duration": 7856,
    "start_time": "2022-03-07T14:07:38.144Z"
   },
   {
    "duration": 6517,
    "start_time": "2022-03-07T14:32:53.912Z"
   },
   {
    "duration": 6,
    "start_time": "2022-03-07T14:33:19.208Z"
   },
   {
    "duration": 7,
    "start_time": "2022-03-07T14:33:23.624Z"
   },
   {
    "duration": 176,
    "start_time": "2022-03-07T14:35:06.664Z"
   },
   {
    "duration": 4,
    "start_time": "2022-03-07T14:35:13.032Z"
   },
   {
    "duration": 375,
    "start_time": "2022-03-07T14:35:25.039Z"
   },
   {
    "duration": 84,
    "start_time": "2022-03-07T14:37:42.271Z"
   },
   {
    "duration": 97,
    "start_time": "2022-03-07T14:37:50.279Z"
   },
   {
    "duration": 3,
    "start_time": "2022-03-07T14:37:56.991Z"
   },
   {
    "duration": 519,
    "start_time": "2022-03-07T14:38:02.016Z"
   },
   {
    "duration": 564,
    "start_time": "2022-03-07T14:38:12.216Z"
   },
   {
    "duration": 87,
    "start_time": "2022-03-07T14:39:04.800Z"
   },
   {
    "duration": 4,
    "start_time": "2022-03-07T14:39:19.302Z"
   },
   {
    "duration": 70,
    "start_time": "2022-03-07T14:39:20.879Z"
   },
   {
    "duration": 67,
    "start_time": "2022-03-07T14:39:27.735Z"
   },
   {
    "duration": 85,
    "start_time": "2022-03-07T14:39:42.862Z"
   },
   {
    "duration": 3,
    "start_time": "2022-03-07T14:39:51.272Z"
   },
   {
    "duration": 61,
    "start_time": "2022-03-07T14:39:53.190Z"
   },
   {
    "duration": 3,
    "start_time": "2022-03-07T14:40:37.791Z"
   },
   {
    "duration": 571,
    "start_time": "2022-03-07T14:40:39.023Z"
   },
   {
    "duration": 3,
    "start_time": "2022-03-07T14:40:55.038Z"
   },
   {
    "duration": 79,
    "start_time": "2022-03-07T14:40:56.254Z"
   },
   {
    "duration": 3,
    "start_time": "2022-03-07T14:44:15.062Z"
   },
   {
    "duration": 76,
    "start_time": "2022-03-07T14:44:17.878Z"
   },
   {
    "duration": 3,
    "start_time": "2022-03-07T14:45:41.134Z"
   },
   {
    "duration": 130,
    "start_time": "2022-03-07T14:45:42.757Z"
   },
   {
    "duration": 127,
    "start_time": "2022-03-07T14:45:51.805Z"
   },
   {
    "duration": 45,
    "start_time": "2022-03-07T14:46:01.447Z"
   },
   {
    "duration": 41,
    "start_time": "2022-03-07T14:46:20.590Z"
   },
   {
    "duration": 283,
    "start_time": "2022-03-08T07:41:40.408Z"
   },
   {
    "duration": 1090,
    "start_time": "2022-03-08T07:41:52.996Z"
   },
   {
    "duration": 14,
    "start_time": "2022-03-08T07:41:54.088Z"
   },
   {
    "duration": 24,
    "start_time": "2022-03-08T07:41:54.104Z"
   },
   {
    "duration": 13,
    "start_time": "2022-03-08T07:41:54.131Z"
   },
   {
    "duration": 38,
    "start_time": "2022-03-08T07:41:54.146Z"
   },
   {
    "duration": 12,
    "start_time": "2022-03-08T07:41:54.185Z"
   },
   {
    "duration": 20,
    "start_time": "2022-03-08T07:41:54.199Z"
   },
   {
    "duration": 8,
    "start_time": "2022-03-08T07:41:54.222Z"
   },
   {
    "duration": 8,
    "start_time": "2022-03-08T07:41:54.231Z"
   },
   {
    "duration": 47,
    "start_time": "2022-03-08T07:41:54.240Z"
   },
   {
    "duration": 7,
    "start_time": "2022-03-08T07:41:54.289Z"
   },
   {
    "duration": 5,
    "start_time": "2022-03-08T07:41:54.298Z"
   },
   {
    "duration": 18725,
    "start_time": "2022-03-08T07:41:54.305Z"
   },
   {
    "duration": 58,
    "start_time": "2022-03-08T07:42:13.032Z"
   },
   {
    "duration": 13813,
    "start_time": "2022-03-08T07:42:13.091Z"
   },
   {
    "duration": 11288,
    "start_time": "2022-03-08T07:42:26.906Z"
   },
   {
    "duration": 7,
    "start_time": "2022-03-08T07:42:38.196Z"
   },
   {
    "duration": 15,
    "start_time": "2022-03-08T07:42:38.205Z"
   },
   {
    "duration": 24,
    "start_time": "2022-03-08T07:42:38.221Z"
   },
   {
    "duration": 87,
    "start_time": "2022-03-08T07:42:38.247Z"
   },
   {
    "duration": 42,
    "start_time": "2022-03-08T07:42:38.336Z"
   },
   {
    "duration": 339,
    "start_time": "2022-03-08T07:42:38.379Z"
   },
   {
    "duration": -108,
    "start_time": "2022-03-08T07:42:38.829Z"
   },
   {
    "duration": -108,
    "start_time": "2022-03-08T07:42:38.830Z"
   },
   {
    "duration": -108,
    "start_time": "2022-03-08T07:42:38.831Z"
   },
   {
    "duration": -108,
    "start_time": "2022-03-08T07:42:38.832Z"
   },
   {
    "duration": -109,
    "start_time": "2022-03-08T07:42:38.834Z"
   },
   {
    "duration": -109,
    "start_time": "2022-03-08T07:42:38.835Z"
   },
   {
    "duration": -109,
    "start_time": "2022-03-08T07:42:38.836Z"
   },
   {
    "duration": -115,
    "start_time": "2022-03-08T07:42:38.843Z"
   },
   {
    "duration": 1143,
    "start_time": "2022-03-08T07:44:01.789Z"
   },
   {
    "duration": 17,
    "start_time": "2022-03-08T07:44:02.934Z"
   },
   {
    "duration": 37,
    "start_time": "2022-03-08T07:44:02.954Z"
   },
   {
    "duration": 16,
    "start_time": "2022-03-08T07:44:02.994Z"
   },
   {
    "duration": 36,
    "start_time": "2022-03-08T07:44:03.012Z"
   },
   {
    "duration": 12,
    "start_time": "2022-03-08T07:44:03.050Z"
   },
   {
    "duration": 17,
    "start_time": "2022-03-08T07:44:03.077Z"
   },
   {
    "duration": 23,
    "start_time": "2022-03-08T07:44:03.098Z"
   },
   {
    "duration": 27,
    "start_time": "2022-03-08T07:44:03.124Z"
   },
   {
    "duration": 21,
    "start_time": "2022-03-08T07:44:03.153Z"
   },
   {
    "duration": 16,
    "start_time": "2022-03-08T07:44:03.176Z"
   },
   {
    "duration": 16,
    "start_time": "2022-03-08T07:44:03.194Z"
   },
   {
    "duration": 18484,
    "start_time": "2022-03-08T07:44:03.212Z"
   },
   {
    "duration": 52,
    "start_time": "2022-03-08T07:44:21.697Z"
   },
   {
    "duration": 13530,
    "start_time": "2022-03-08T07:44:21.751Z"
   },
   {
    "duration": 11230,
    "start_time": "2022-03-08T07:44:35.283Z"
   },
   {
    "duration": 8,
    "start_time": "2022-03-08T07:44:46.515Z"
   },
   {
    "duration": 13,
    "start_time": "2022-03-08T07:44:46.525Z"
   },
   {
    "duration": 22,
    "start_time": "2022-03-08T07:44:46.540Z"
   },
   {
    "duration": 69,
    "start_time": "2022-03-08T07:44:46.578Z"
   },
   {
    "duration": 46,
    "start_time": "2022-03-08T07:44:46.649Z"
   },
   {
    "duration": 36,
    "start_time": "2022-03-08T07:44:46.696Z"
   },
   {
    "duration": 44,
    "start_time": "2022-03-08T07:44:46.735Z"
   },
   {
    "duration": 30,
    "start_time": "2022-03-08T07:44:46.781Z"
   },
   {
    "duration": 42,
    "start_time": "2022-03-08T07:44:46.812Z"
   },
   {
    "duration": 26,
    "start_time": "2022-03-08T07:44:46.856Z"
   },
   {
    "duration": 6,
    "start_time": "2022-03-08T07:44:46.883Z"
   },
   {
    "duration": 132,
    "start_time": "2022-03-08T07:44:46.890Z"
   },
   {
    "duration": 8,
    "start_time": "2022-03-08T07:44:47.023Z"
   },
   {
    "duration": 7,
    "start_time": "2022-03-08T07:44:47.032Z"
   },
   {
    "duration": 1128,
    "start_time": "2022-03-08T07:50:19.401Z"
   },
   {
    "duration": 14,
    "start_time": "2022-03-08T07:50:20.531Z"
   },
   {
    "duration": 20,
    "start_time": "2022-03-08T07:50:20.548Z"
   },
   {
    "duration": 15,
    "start_time": "2022-03-08T07:50:20.570Z"
   },
   {
    "duration": 19,
    "start_time": "2022-03-08T07:50:20.586Z"
   },
   {
    "duration": 9,
    "start_time": "2022-03-08T07:50:20.607Z"
   },
   {
    "duration": 17,
    "start_time": "2022-03-08T07:50:20.618Z"
   },
   {
    "duration": 8,
    "start_time": "2022-03-08T07:50:20.638Z"
   },
   {
    "duration": 32,
    "start_time": "2022-03-08T07:50:20.648Z"
   },
   {
    "duration": 14,
    "start_time": "2022-03-08T07:50:20.682Z"
   },
   {
    "duration": 8,
    "start_time": "2022-03-08T07:50:20.698Z"
   },
   {
    "duration": 4,
    "start_time": "2022-03-08T07:50:20.707Z"
   },
   {
    "duration": 18266,
    "start_time": "2022-03-08T07:50:20.713Z"
   },
   {
    "duration": 53,
    "start_time": "2022-03-08T07:50:38.981Z"
   },
   {
    "duration": 14263,
    "start_time": "2022-03-08T07:50:39.036Z"
   },
   {
    "duration": 11932,
    "start_time": "2022-03-08T07:50:53.301Z"
   },
   {
    "duration": 8,
    "start_time": "2022-03-08T07:51:05.235Z"
   },
   {
    "duration": 13,
    "start_time": "2022-03-08T07:51:05.245Z"
   },
   {
    "duration": 37,
    "start_time": "2022-03-08T07:51:05.260Z"
   },
   {
    "duration": 86,
    "start_time": "2022-03-08T07:51:05.299Z"
   },
   {
    "duration": 38,
    "start_time": "2022-03-08T07:51:05.388Z"
   },
   {
    "duration": 65,
    "start_time": "2022-03-08T07:51:05.427Z"
   },
   {
    "duration": 31,
    "start_time": "2022-03-08T07:51:05.498Z"
   },
   {
    "duration": 56,
    "start_time": "2022-03-08T07:51:05.531Z"
   },
   {
    "duration": 42,
    "start_time": "2022-03-08T07:51:05.589Z"
   },
   {
    "duration": 11,
    "start_time": "2022-03-08T07:51:05.633Z"
   },
   {
    "duration": 7,
    "start_time": "2022-03-08T07:51:05.647Z"
   },
   {
    "duration": 144,
    "start_time": "2022-03-08T07:51:05.678Z"
   },
   {
    "duration": 8,
    "start_time": "2022-03-08T07:51:05.823Z"
   },
   {
    "duration": 7,
    "start_time": "2022-03-08T07:51:05.833Z"
   },
   {
    "duration": 4,
    "start_time": "2022-03-08T07:55:57.611Z"
   },
   {
    "duration": 666,
    "start_time": "2022-03-08T07:56:08.667Z"
   },
   {
    "duration": 531,
    "start_time": "2022-03-08T07:56:24.731Z"
   },
   {
    "duration": 5,
    "start_time": "2022-03-08T08:08:56.134Z"
   },
   {
    "duration": 615,
    "start_time": "2022-03-08T08:09:01.505Z"
   },
   {
    "duration": 5,
    "start_time": "2022-03-08T08:09:43.480Z"
   },
   {
    "duration": 629,
    "start_time": "2022-03-08T08:09:44.824Z"
   },
   {
    "duration": 5,
    "start_time": "2022-03-08T08:10:02.312Z"
   },
   {
    "duration": 2514,
    "start_time": "2022-03-08T08:10:03.552Z"
   },
   {
    "duration": 6,
    "start_time": "2022-03-08T08:10:10.440Z"
   },
   {
    "duration": 20,
    "start_time": "2022-03-08T08:10:24.200Z"
   },
   {
    "duration": 5,
    "start_time": "2022-03-08T08:10:47.720Z"
   },
   {
    "duration": 643,
    "start_time": "2022-03-08T08:10:51.656Z"
   },
   {
    "duration": 23,
    "start_time": "2022-03-08T08:10:55.696Z"
   },
   {
    "duration": 5,
    "start_time": "2022-03-08T08:11:47.368Z"
   },
   {
    "duration": 1349,
    "start_time": "2022-03-08T08:11:48.744Z"
   },
   {
    "duration": 245,
    "start_time": "2022-03-08T08:11:53.520Z"
   },
   {
    "duration": 5,
    "start_time": "2022-03-08T08:12:09.408Z"
   },
   {
    "duration": 1370,
    "start_time": "2022-03-08T08:12:10.560Z"
   },
   {
    "duration": 4,
    "start_time": "2022-03-08T08:12:45.272Z"
   },
   {
    "duration": 5,
    "start_time": "2022-03-08T08:12:47.201Z"
   },
   {
    "duration": 14214,
    "start_time": "2022-03-08T08:12:49.304Z"
   },
   {
    "duration": 61,
    "start_time": "2022-03-08T08:13:03.520Z"
   },
   {
    "duration": 5,
    "start_time": "2022-03-08T08:13:29.127Z"
   },
   {
    "duration": 1531,
    "start_time": "2022-03-08T08:13:30.605Z"
   },
   {
    "duration": 24,
    "start_time": "2022-03-08T08:13:33.535Z"
   },
   {
    "duration": 87,
    "start_time": "2022-03-08T08:15:03.367Z"
   },
   {
    "duration": 91,
    "start_time": "2022-03-08T08:15:26.159Z"
   },
   {
    "duration": 102,
    "start_time": "2022-03-08T08:15:40.127Z"
   },
   {
    "duration": 6,
    "start_time": "2022-03-08T08:15:47.967Z"
   },
   {
    "duration": 290,
    "start_time": "2022-03-08T08:15:49.655Z"
   },
   {
    "duration": 28,
    "start_time": "2022-03-08T08:15:55.543Z"
   },
   {
    "duration": 286,
    "start_time": "2022-03-08T08:16:05.448Z"
   },
   {
    "duration": 5,
    "start_time": "2022-03-08T08:16:34.391Z"
   },
   {
    "duration": 1522,
    "start_time": "2022-03-08T08:16:35.839Z"
   },
   {
    "duration": 25,
    "start_time": "2022-03-08T08:16:38.943Z"
   },
   {
    "duration": 3616,
    "start_time": "2022-03-08T08:16:53.302Z"
   },
   {
    "duration": 1512,
    "start_time": "2022-03-08T08:17:10.607Z"
   },
   {
    "duration": 18,
    "start_time": "2022-03-08T08:17:35.087Z"
   },
   {
    "duration": 5,
    "start_time": "2022-03-08T08:17:59.711Z"
   },
   {
    "duration": 1500,
    "start_time": "2022-03-08T08:18:01.046Z"
   },
   {
    "duration": 252,
    "start_time": "2022-03-08T08:18:04.519Z"
   },
   {
    "duration": 19,
    "start_time": "2022-03-08T08:18:05.790Z"
   },
   {
    "duration": 1123,
    "start_time": "2022-03-08T08:18:16.464Z"
   },
   {
    "duration": 14,
    "start_time": "2022-03-08T08:18:17.589Z"
   },
   {
    "duration": 21,
    "start_time": "2022-03-08T08:18:17.605Z"
   },
   {
    "duration": 13,
    "start_time": "2022-03-08T08:18:17.628Z"
   },
   {
    "duration": 35,
    "start_time": "2022-03-08T08:18:17.643Z"
   },
   {
    "duration": 10,
    "start_time": "2022-03-08T08:18:17.680Z"
   },
   {
    "duration": 15,
    "start_time": "2022-03-08T08:18:17.691Z"
   },
   {
    "duration": 8,
    "start_time": "2022-03-08T08:18:17.709Z"
   },
   {
    "duration": 8,
    "start_time": "2022-03-08T08:18:17.719Z"
   },
   {
    "duration": 16,
    "start_time": "2022-03-08T08:18:17.728Z"
   },
   {
    "duration": 7,
    "start_time": "2022-03-08T08:18:17.777Z"
   },
   {
    "duration": 6,
    "start_time": "2022-03-08T08:18:17.786Z"
   },
   {
    "duration": 18743,
    "start_time": "2022-03-08T08:18:17.794Z"
   },
   {
    "duration": 55,
    "start_time": "2022-03-08T08:18:36.538Z"
   },
   {
    "duration": 13925,
    "start_time": "2022-03-08T08:18:36.595Z"
   },
   {
    "duration": 11264,
    "start_time": "2022-03-08T08:18:50.522Z"
   },
   {
    "duration": 9,
    "start_time": "2022-03-08T08:19:01.788Z"
   },
   {
    "duration": 18,
    "start_time": "2022-03-08T08:19:01.798Z"
   },
   {
    "duration": 31,
    "start_time": "2022-03-08T08:19:01.817Z"
   },
   {
    "duration": 89,
    "start_time": "2022-03-08T08:19:01.850Z"
   },
   {
    "duration": 44,
    "start_time": "2022-03-08T08:19:01.941Z"
   },
   {
    "duration": 38,
    "start_time": "2022-03-08T08:19:01.987Z"
   },
   {
    "duration": 29,
    "start_time": "2022-03-08T08:19:02.029Z"
   },
   {
    "duration": 33,
    "start_time": "2022-03-08T08:19:02.078Z"
   },
   {
    "duration": 42,
    "start_time": "2022-03-08T08:19:02.113Z"
   },
   {
    "duration": 8,
    "start_time": "2022-03-08T08:19:02.177Z"
   },
   {
    "duration": 11,
    "start_time": "2022-03-08T08:19:02.187Z"
   },
   {
    "duration": 361,
    "start_time": "2022-03-08T08:19:02.200Z"
   },
   {
    "duration": -111,
    "start_time": "2022-03-08T08:19:02.673Z"
   },
   {
    "duration": -111,
    "start_time": "2022-03-08T08:19:02.674Z"
   },
   {
    "duration": 1137,
    "start_time": "2022-03-08T08:24:15.650Z"
   },
   {
    "duration": 14,
    "start_time": "2022-03-08T08:24:16.789Z"
   },
   {
    "duration": 23,
    "start_time": "2022-03-08T08:24:16.807Z"
   },
   {
    "duration": 14,
    "start_time": "2022-03-08T08:24:16.832Z"
   },
   {
    "duration": 40,
    "start_time": "2022-03-08T08:24:16.848Z"
   },
   {
    "duration": 9,
    "start_time": "2022-03-08T08:24:16.890Z"
   },
   {
    "duration": 19,
    "start_time": "2022-03-08T08:24:16.902Z"
   },
   {
    "duration": 8,
    "start_time": "2022-03-08T08:24:16.924Z"
   },
   {
    "duration": 9,
    "start_time": "2022-03-08T08:24:16.934Z"
   },
   {
    "duration": 42,
    "start_time": "2022-03-08T08:24:16.945Z"
   },
   {
    "duration": 10,
    "start_time": "2022-03-08T08:24:16.989Z"
   },
   {
    "duration": 15,
    "start_time": "2022-03-08T08:24:17.001Z"
   },
   {
    "duration": 18798,
    "start_time": "2022-03-08T08:24:17.018Z"
   },
   {
    "duration": 59,
    "start_time": "2022-03-08T08:24:35.818Z"
   },
   {
    "duration": 14050,
    "start_time": "2022-03-08T08:24:35.879Z"
   },
   {
    "duration": 11448,
    "start_time": "2022-03-08T08:24:49.932Z"
   },
   {
    "duration": 8,
    "start_time": "2022-03-08T08:25:01.382Z"
   },
   {
    "duration": 20,
    "start_time": "2022-03-08T08:25:01.391Z"
   },
   {
    "duration": 25,
    "start_time": "2022-03-08T08:25:01.412Z"
   },
   {
    "duration": 84,
    "start_time": "2022-03-08T08:25:01.439Z"
   },
   {
    "duration": 35,
    "start_time": "2022-03-08T08:25:01.525Z"
   },
   {
    "duration": 51,
    "start_time": "2022-03-08T08:25:01.562Z"
   },
   {
    "duration": 28,
    "start_time": "2022-03-08T08:25:01.615Z"
   },
   {
    "duration": 53,
    "start_time": "2022-03-08T08:25:01.645Z"
   },
   {
    "duration": 43,
    "start_time": "2022-03-08T08:25:01.699Z"
   },
   {
    "duration": 9,
    "start_time": "2022-03-08T08:25:01.744Z"
   },
   {
    "duration": 27,
    "start_time": "2022-03-08T08:25:01.755Z"
   },
   {
    "duration": 374,
    "start_time": "2022-03-08T08:25:01.784Z"
   },
   {
    "duration": -114,
    "start_time": "2022-03-08T08:25:02.275Z"
   },
   {
    "duration": 1053,
    "start_time": "2022-03-08T08:25:18.126Z"
   },
   {
    "duration": 14,
    "start_time": "2022-03-08T08:25:19.181Z"
   },
   {
    "duration": 22,
    "start_time": "2022-03-08T08:25:19.197Z"
   },
   {
    "duration": 13,
    "start_time": "2022-03-08T08:25:19.221Z"
   },
   {
    "duration": 41,
    "start_time": "2022-03-08T08:25:19.236Z"
   },
   {
    "duration": 9,
    "start_time": "2022-03-08T08:25:19.279Z"
   },
   {
    "duration": 19,
    "start_time": "2022-03-08T08:25:19.289Z"
   },
   {
    "duration": 9,
    "start_time": "2022-03-08T08:25:19.310Z"
   },
   {
    "duration": 10,
    "start_time": "2022-03-08T08:25:19.322Z"
   },
   {
    "duration": 15,
    "start_time": "2022-03-08T08:25:19.335Z"
   },
   {
    "duration": 26,
    "start_time": "2022-03-08T08:25:19.352Z"
   },
   {
    "duration": 6,
    "start_time": "2022-03-08T08:25:19.380Z"
   },
   {
    "duration": 18634,
    "start_time": "2022-03-08T08:25:19.387Z"
   },
   {
    "duration": 57,
    "start_time": "2022-03-08T08:25:38.023Z"
   },
   {
    "duration": 13856,
    "start_time": "2022-03-08T08:25:38.081Z"
   },
   {
    "duration": 11174,
    "start_time": "2022-03-08T08:25:51.939Z"
   },
   {
    "duration": 8,
    "start_time": "2022-03-08T08:26:03.115Z"
   },
   {
    "duration": 15,
    "start_time": "2022-03-08T08:26:03.125Z"
   },
   {
    "duration": 36,
    "start_time": "2022-03-08T08:26:03.142Z"
   },
   {
    "duration": 75,
    "start_time": "2022-03-08T08:26:03.180Z"
   },
   {
    "duration": 44,
    "start_time": "2022-03-08T08:26:03.257Z"
   },
   {
    "duration": 36,
    "start_time": "2022-03-08T08:26:03.303Z"
   },
   {
    "duration": 48,
    "start_time": "2022-03-08T08:26:03.341Z"
   },
   {
    "duration": 31,
    "start_time": "2022-03-08T08:26:03.391Z"
   },
   {
    "duration": 55,
    "start_time": "2022-03-08T08:26:03.423Z"
   },
   {
    "duration": 8,
    "start_time": "2022-03-08T08:26:03.480Z"
   },
   {
    "duration": 7,
    "start_time": "2022-03-08T08:26:03.491Z"
   },
   {
    "duration": 376,
    "start_time": "2022-03-08T08:26:03.500Z"
   },
   {
    "duration": -113,
    "start_time": "2022-03-08T08:26:03.991Z"
   },
   {
    "duration": 17,
    "start_time": "2022-03-08T08:26:17.657Z"
   },
   {
    "duration": 281,
    "start_time": "2022-03-08T08:28:05.710Z"
   },
   {
    "duration": 7,
    "start_time": "2022-03-08T08:28:36.767Z"
   },
   {
    "duration": 17,
    "start_time": "2022-03-08T08:28:38.751Z"
   },
   {
    "duration": 21,
    "start_time": "2022-03-08T08:28:56.719Z"
   },
   {
    "duration": 78,
    "start_time": "2022-03-08T08:31:02.525Z"
   },
   {
    "duration": 283,
    "start_time": "2022-03-08T08:31:17.013Z"
   },
   {
    "duration": 278,
    "start_time": "2022-03-08T08:32:01.820Z"
   },
   {
    "duration": 280,
    "start_time": "2022-03-08T08:32:31.204Z"
   },
   {
    "duration": 292,
    "start_time": "2022-03-08T08:33:30.642Z"
   },
   {
    "duration": 6600,
    "start_time": "2022-03-08T08:34:01.401Z"
   },
   {
    "duration": 1758,
    "start_time": "2022-03-08T08:36:14.782Z"
   },
   {
    "duration": 14,
    "start_time": "2022-03-08T08:36:16.542Z"
   },
   {
    "duration": 35,
    "start_time": "2022-03-08T08:36:16.558Z"
   },
   {
    "duration": 37,
    "start_time": "2022-03-08T08:36:16.595Z"
   },
   {
    "duration": 29,
    "start_time": "2022-03-08T08:36:16.633Z"
   },
   {
    "duration": 20,
    "start_time": "2022-03-08T08:36:16.664Z"
   },
   {
    "duration": 33,
    "start_time": "2022-03-08T08:36:16.686Z"
   },
   {
    "duration": 13,
    "start_time": "2022-03-08T08:36:16.721Z"
   },
   {
    "duration": 15,
    "start_time": "2022-03-08T08:36:16.736Z"
   },
   {
    "duration": 27,
    "start_time": "2022-03-08T08:36:16.753Z"
   },
   {
    "duration": 24,
    "start_time": "2022-03-08T08:36:16.782Z"
   },
   {
    "duration": 21,
    "start_time": "2022-03-08T08:36:16.807Z"
   },
   {
    "duration": 18691,
    "start_time": "2022-03-08T08:36:16.829Z"
   },
   {
    "duration": 60,
    "start_time": "2022-03-08T08:36:35.522Z"
   },
   {
    "duration": 13739,
    "start_time": "2022-03-08T08:36:35.583Z"
   },
   {
    "duration": 1200,
    "start_time": "2022-03-08T08:37:02.383Z"
   },
   {
    "duration": 15,
    "start_time": "2022-03-08T08:37:03.586Z"
   },
   {
    "duration": 24,
    "start_time": "2022-03-08T08:37:03.603Z"
   },
   {
    "duration": 14,
    "start_time": "2022-03-08T08:37:03.629Z"
   },
   {
    "duration": 37,
    "start_time": "2022-03-08T08:37:03.645Z"
   },
   {
    "duration": 11,
    "start_time": "2022-03-08T08:37:03.683Z"
   },
   {
    "duration": 16,
    "start_time": "2022-03-08T08:37:03.696Z"
   },
   {
    "duration": 10,
    "start_time": "2022-03-08T08:37:03.714Z"
   },
   {
    "duration": 10,
    "start_time": "2022-03-08T08:37:03.726Z"
   },
   {
    "duration": 40,
    "start_time": "2022-03-08T08:37:03.738Z"
   },
   {
    "duration": 7,
    "start_time": "2022-03-08T08:37:03.780Z"
   },
   {
    "duration": 7,
    "start_time": "2022-03-08T08:37:03.789Z"
   },
   {
    "duration": 19012,
    "start_time": "2022-03-08T08:37:03.797Z"
   },
   {
    "duration": 54,
    "start_time": "2022-03-08T08:37:22.811Z"
   },
   {
    "duration": 13828,
    "start_time": "2022-03-08T08:37:22.867Z"
   },
   {
    "duration": 11392,
    "start_time": "2022-03-08T08:37:36.697Z"
   },
   {
    "duration": 7,
    "start_time": "2022-03-08T08:37:48.091Z"
   },
   {
    "duration": 14,
    "start_time": "2022-03-08T08:37:48.100Z"
   },
   {
    "duration": 24,
    "start_time": "2022-03-08T08:37:48.115Z"
   },
   {
    "duration": 83,
    "start_time": "2022-03-08T08:37:48.141Z"
   },
   {
    "duration": 34,
    "start_time": "2022-03-08T08:37:48.225Z"
   },
   {
    "duration": 48,
    "start_time": "2022-03-08T08:37:48.260Z"
   },
   {
    "duration": 27,
    "start_time": "2022-03-08T08:37:48.311Z"
   },
   {
    "duration": 47,
    "start_time": "2022-03-08T08:37:48.340Z"
   },
   {
    "duration": 40,
    "start_time": "2022-03-08T08:37:48.389Z"
   },
   {
    "duration": 7,
    "start_time": "2022-03-08T08:37:48.430Z"
   },
   {
    "duration": 41,
    "start_time": "2022-03-08T08:37:48.439Z"
   },
   {
    "duration": 343,
    "start_time": "2022-03-08T08:38:47.347Z"
   },
   {
    "duration": 8,
    "start_time": "2022-03-08T08:40:02.460Z"
   },
   {
    "duration": 23,
    "start_time": "2022-03-08T08:40:09.978Z"
   },
   {
    "duration": 22,
    "start_time": "2022-03-08T08:41:38.785Z"
   },
   {
    "duration": 9,
    "start_time": "2022-03-08T08:45:23.838Z"
   },
   {
    "duration": 24,
    "start_time": "2022-03-08T08:45:30.976Z"
   },
   {
    "duration": 9,
    "start_time": "2022-03-08T08:46:33.528Z"
   },
   {
    "duration": 25,
    "start_time": "2022-03-08T08:46:42.070Z"
   },
   {
    "duration": 6,
    "start_time": "2022-03-08T08:51:30.732Z"
   },
   {
    "duration": 5,
    "start_time": "2022-03-08T08:51:38.091Z"
   },
   {
    "duration": 5,
    "start_time": "2022-03-08T08:52:04.892Z"
   },
   {
    "duration": 255,
    "start_time": "2022-03-08T08:54:29.098Z"
   },
   {
    "duration": 275,
    "start_time": "2022-03-08T08:54:42.250Z"
   },
   {
    "duration": 323,
    "start_time": "2022-03-08T08:55:02.307Z"
   },
   {
    "duration": 23,
    "start_time": "2022-03-08T08:58:12.569Z"
   },
   {
    "duration": 21,
    "start_time": "2022-03-08T08:58:22.665Z"
   },
   {
    "duration": 1136,
    "start_time": "2022-03-08T08:58:37.887Z"
   },
   {
    "duration": 15,
    "start_time": "2022-03-08T08:58:39.025Z"
   },
   {
    "duration": 23,
    "start_time": "2022-03-08T08:58:39.042Z"
   },
   {
    "duration": 15,
    "start_time": "2022-03-08T08:58:39.068Z"
   },
   {
    "duration": 19,
    "start_time": "2022-03-08T08:58:39.085Z"
   },
   {
    "duration": 11,
    "start_time": "2022-03-08T08:58:39.106Z"
   },
   {
    "duration": 20,
    "start_time": "2022-03-08T08:58:39.119Z"
   },
   {
    "duration": 38,
    "start_time": "2022-03-08T08:58:39.140Z"
   },
   {
    "duration": 9,
    "start_time": "2022-03-08T08:58:39.181Z"
   },
   {
    "duration": 15,
    "start_time": "2022-03-08T08:58:39.193Z"
   },
   {
    "duration": 9,
    "start_time": "2022-03-08T08:58:39.209Z"
   },
   {
    "duration": 6,
    "start_time": "2022-03-08T08:58:39.220Z"
   },
   {
    "duration": 18917,
    "start_time": "2022-03-08T08:58:39.228Z"
   },
   {
    "duration": 55,
    "start_time": "2022-03-08T08:58:58.147Z"
   },
   {
    "duration": 14522,
    "start_time": "2022-03-08T08:58:58.204Z"
   },
   {
    "duration": 11917,
    "start_time": "2022-03-08T08:59:12.728Z"
   },
   {
    "duration": 8,
    "start_time": "2022-03-08T08:59:24.647Z"
   },
   {
    "duration": 21,
    "start_time": "2022-03-08T08:59:24.656Z"
   },
   {
    "duration": 23,
    "start_time": "2022-03-08T08:59:24.679Z"
   },
   {
    "duration": 83,
    "start_time": "2022-03-08T08:59:24.704Z"
   },
   {
    "duration": 34,
    "start_time": "2022-03-08T08:59:24.789Z"
   },
   {
    "duration": 36,
    "start_time": "2022-03-08T08:59:24.824Z"
   },
   {
    "duration": 30,
    "start_time": "2022-03-08T08:59:24.877Z"
   },
   {
    "duration": 34,
    "start_time": "2022-03-08T08:59:24.909Z"
   },
   {
    "duration": 69,
    "start_time": "2022-03-08T08:59:24.945Z"
   },
   {
    "duration": 26,
    "start_time": "2022-03-08T08:59:25.016Z"
   },
   {
    "duration": 49,
    "start_time": "2022-03-08T08:59:25.047Z"
   },
   {
    "duration": 24,
    "start_time": "2022-03-08T08:59:25.099Z"
   },
   {
    "duration": 9,
    "start_time": "2022-03-08T08:59:25.125Z"
   },
   {
    "duration": 8,
    "start_time": "2022-03-08T08:59:25.136Z"
   },
   {
    "duration": 56,
    "start_time": "2022-03-08T08:59:25.146Z"
   },
   {
    "duration": 6,
    "start_time": "2022-03-08T08:59:25.204Z"
   },
   {
    "duration": 10,
    "start_time": "2022-03-08T08:59:25.212Z"
   },
   {
    "duration": 54,
    "start_time": "2022-03-08T08:59:25.224Z"
   },
   {
    "duration": 6,
    "start_time": "2022-03-08T08:59:25.281Z"
   },
   {
    "duration": 24,
    "start_time": "2022-03-08T09:00:49.561Z"
   },
   {
    "duration": 6,
    "start_time": "2022-03-08T09:01:42.535Z"
   },
   {
    "duration": 26,
    "start_time": "2022-03-08T09:01:45.784Z"
   },
   {
    "duration": 23,
    "start_time": "2022-03-08T09:01:48.656Z"
   },
   {
    "duration": 8,
    "start_time": "2022-03-08T09:01:53.720Z"
   },
   {
    "duration": 8,
    "start_time": "2022-03-08T09:01:55.351Z"
   },
   {
    "duration": 23,
    "start_time": "2022-03-08T09:01:58.512Z"
   },
   {
    "duration": 1088,
    "start_time": "2022-03-08T09:02:08.041Z"
   },
   {
    "duration": 15,
    "start_time": "2022-03-08T09:02:09.131Z"
   },
   {
    "duration": 37,
    "start_time": "2022-03-08T09:02:09.150Z"
   },
   {
    "duration": 14,
    "start_time": "2022-03-08T09:02:09.189Z"
   },
   {
    "duration": 29,
    "start_time": "2022-03-08T09:02:09.205Z"
   },
   {
    "duration": 24,
    "start_time": "2022-03-08T09:02:09.235Z"
   },
   {
    "duration": 26,
    "start_time": "2022-03-08T09:02:09.261Z"
   },
   {
    "duration": 27,
    "start_time": "2022-03-08T09:02:09.289Z"
   },
   {
    "duration": 19,
    "start_time": "2022-03-08T09:02:09.318Z"
   },
   {
    "duration": 33,
    "start_time": "2022-03-08T09:02:09.339Z"
   },
   {
    "duration": 17,
    "start_time": "2022-03-08T09:02:09.374Z"
   },
   {
    "duration": 5,
    "start_time": "2022-03-08T09:02:09.393Z"
   },
   {
    "duration": 19040,
    "start_time": "2022-03-08T09:02:09.399Z"
   },
   {
    "duration": 61,
    "start_time": "2022-03-08T09:02:28.441Z"
   },
   {
    "duration": 13858,
    "start_time": "2022-03-08T09:02:28.503Z"
   },
   {
    "duration": 11346,
    "start_time": "2022-03-08T09:02:42.363Z"
   },
   {
    "duration": 8,
    "start_time": "2022-03-08T09:02:53.711Z"
   },
   {
    "duration": 12,
    "start_time": "2022-03-08T09:02:53.721Z"
   },
   {
    "duration": 43,
    "start_time": "2022-03-08T09:02:53.734Z"
   },
   {
    "duration": 69,
    "start_time": "2022-03-08T09:02:53.779Z"
   },
   {
    "duration": 47,
    "start_time": "2022-03-08T09:02:53.850Z"
   },
   {
    "duration": 34,
    "start_time": "2022-03-08T09:02:53.900Z"
   },
   {
    "duration": 50,
    "start_time": "2022-03-08T09:02:53.937Z"
   },
   {
    "duration": 31,
    "start_time": "2022-03-08T09:02:53.989Z"
   },
   {
    "duration": 60,
    "start_time": "2022-03-08T09:02:54.022Z"
   },
   {
    "duration": 7,
    "start_time": "2022-03-08T09:02:54.084Z"
   },
   {
    "duration": 25,
    "start_time": "2022-03-08T09:02:54.093Z"
   },
   {
    "duration": 23,
    "start_time": "2022-03-08T09:02:54.120Z"
   },
   {
    "duration": 41,
    "start_time": "2022-03-08T09:02:54.144Z"
   },
   {
    "duration": 7,
    "start_time": "2022-03-08T09:02:54.187Z"
   },
   {
    "duration": 24,
    "start_time": "2022-03-08T09:02:54.196Z"
   },
   {
    "duration": 4,
    "start_time": "2022-03-08T09:02:54.222Z"
   },
   {
    "duration": 10,
    "start_time": "2022-03-08T09:02:54.228Z"
   },
   {
    "duration": 56,
    "start_time": "2022-03-08T09:02:54.240Z"
   },
   {
    "duration": 4,
    "start_time": "2022-03-08T09:02:54.298Z"
   },
   {
    "duration": 137,
    "start_time": "2022-03-08T09:40:37.368Z"
   },
   {
    "duration": 5,
    "start_time": "2022-03-08T09:41:04.696Z"
   },
   {
    "duration": 3941,
    "start_time": "2022-03-08T09:41:27.448Z"
   },
   {
    "duration": 517,
    "start_time": "2022-03-08T09:41:43.488Z"
   },
   {
    "duration": 530,
    "start_time": "2022-03-08T09:42:59.399Z"
   },
   {
    "duration": 5,
    "start_time": "2022-03-08T09:43:09.599Z"
   },
   {
    "duration": 613,
    "start_time": "2022-03-08T09:43:11.806Z"
   },
   {
    "duration": 5,
    "start_time": "2022-03-08T09:43:22.615Z"
   },
   {
    "duration": 550,
    "start_time": "2022-03-08T09:43:23.815Z"
   },
   {
    "duration": 6,
    "start_time": "2022-03-08T09:44:50.022Z"
   },
   {
    "duration": 581,
    "start_time": "2022-03-08T09:44:51.463Z"
   },
   {
    "duration": 93,
    "start_time": "2022-03-08T09:53:12.172Z"
   },
   {
    "duration": 5,
    "start_time": "2022-03-08T09:53:49.012Z"
   },
   {
    "duration": 35,
    "start_time": "2022-03-08T09:53:50.995Z"
   },
   {
    "duration": 6,
    "start_time": "2022-03-08T09:54:03.035Z"
   },
   {
    "duration": 1072,
    "start_time": "2022-03-08T09:54:18.707Z"
   },
   {
    "duration": 5,
    "start_time": "2022-03-08T09:54:38.539Z"
   },
   {
    "duration": 1055,
    "start_time": "2022-03-08T09:54:51.627Z"
   },
   {
    "duration": 92,
    "start_time": "2022-03-08T09:54:59.810Z"
   },
   {
    "duration": 1063,
    "start_time": "2022-03-08T09:55:08.025Z"
   },
   {
    "duration": 14,
    "start_time": "2022-03-08T09:55:09.090Z"
   },
   {
    "duration": 24,
    "start_time": "2022-03-08T09:55:09.106Z"
   },
   {
    "duration": 14,
    "start_time": "2022-03-08T09:55:09.132Z"
   },
   {
    "duration": 39,
    "start_time": "2022-03-08T09:55:09.147Z"
   },
   {
    "duration": 9,
    "start_time": "2022-03-08T09:55:09.187Z"
   },
   {
    "duration": 18,
    "start_time": "2022-03-08T09:55:09.198Z"
   },
   {
    "duration": 9,
    "start_time": "2022-03-08T09:55:09.218Z"
   },
   {
    "duration": 12,
    "start_time": "2022-03-08T09:55:09.229Z"
   },
   {
    "duration": 34,
    "start_time": "2022-03-08T09:55:09.243Z"
   },
   {
    "duration": 6,
    "start_time": "2022-03-08T09:55:09.279Z"
   },
   {
    "duration": 5,
    "start_time": "2022-03-08T09:55:09.287Z"
   },
   {
    "duration": 19485,
    "start_time": "2022-03-08T09:55:09.293Z"
   },
   {
    "duration": 53,
    "start_time": "2022-03-08T09:55:28.779Z"
   },
   {
    "duration": 14074,
    "start_time": "2022-03-08T09:55:28.834Z"
   },
   {
    "duration": 11608,
    "start_time": "2022-03-08T09:55:42.909Z"
   },
   {
    "duration": 7,
    "start_time": "2022-03-08T09:55:54.519Z"
   },
   {
    "duration": 14,
    "start_time": "2022-03-08T09:55:54.528Z"
   },
   {
    "duration": 37,
    "start_time": "2022-03-08T09:55:54.543Z"
   },
   {
    "duration": 67,
    "start_time": "2022-03-08T09:55:54.582Z"
   },
   {
    "duration": 46,
    "start_time": "2022-03-08T09:55:54.651Z"
   },
   {
    "duration": 35,
    "start_time": "2022-03-08T09:55:54.699Z"
   },
   {
    "duration": 45,
    "start_time": "2022-03-08T09:55:54.737Z"
   },
   {
    "duration": 31,
    "start_time": "2022-03-08T09:55:54.784Z"
   },
   {
    "duration": 41,
    "start_time": "2022-03-08T09:55:54.816Z"
   },
   {
    "duration": 6,
    "start_time": "2022-03-08T09:55:54.878Z"
   },
   {
    "duration": 23,
    "start_time": "2022-03-08T09:55:54.885Z"
   },
   {
    "duration": 21,
    "start_time": "2022-03-08T09:55:54.910Z"
   },
   {
    "duration": 11,
    "start_time": "2022-03-08T09:55:54.932Z"
   },
   {
    "duration": 167,
    "start_time": "2022-03-08T09:55:54.944Z"
   },
   {
    "duration": -151,
    "start_time": "2022-03-08T09:55:55.264Z"
   },
   {
    "duration": -152,
    "start_time": "2022-03-08T09:55:55.266Z"
   },
   {
    "duration": -152,
    "start_time": "2022-03-08T09:55:55.267Z"
   },
   {
    "duration": -153,
    "start_time": "2022-03-08T09:55:55.269Z"
   },
   {
    "duration": 93,
    "start_time": "2022-03-08T09:57:14.657Z"
   },
   {
    "duration": 5,
    "start_time": "2022-03-08T09:58:09.105Z"
   },
   {
    "duration": 580,
    "start_time": "2022-03-08T09:58:11.279Z"
   },
   {
    "duration": 90,
    "start_time": "2022-03-08T10:00:26.392Z"
   },
   {
    "duration": 3,
    "start_time": "2022-03-08T10:00:50.279Z"
   },
   {
    "duration": 714,
    "start_time": "2022-03-08T10:00:51.759Z"
   },
   {
    "duration": 5,
    "start_time": "2022-03-08T10:00:53.456Z"
   },
   {
    "duration": 4,
    "start_time": "2022-03-08T10:01:10.310Z"
   },
   {
    "duration": 1048,
    "start_time": "2022-03-08T10:01:12.847Z"
   },
   {
    "duration": 1035,
    "start_time": "2022-03-08T10:01:26.183Z"
   },
   {
    "duration": 1088,
    "start_time": "2022-03-08T10:01:34.127Z"
   },
   {
    "duration": 14,
    "start_time": "2022-03-08T10:01:35.217Z"
   },
   {
    "duration": 22,
    "start_time": "2022-03-08T10:01:35.233Z"
   },
   {
    "duration": 14,
    "start_time": "2022-03-08T10:01:35.257Z"
   },
   {
    "duration": 23,
    "start_time": "2022-03-08T10:01:35.273Z"
   },
   {
    "duration": 9,
    "start_time": "2022-03-08T10:01:35.297Z"
   },
   {
    "duration": 24,
    "start_time": "2022-03-08T10:01:35.308Z"
   },
   {
    "duration": 32,
    "start_time": "2022-03-08T10:01:35.335Z"
   },
   {
    "duration": 15,
    "start_time": "2022-03-08T10:01:35.369Z"
   },
   {
    "duration": 19,
    "start_time": "2022-03-08T10:01:35.385Z"
   },
   {
    "duration": 15,
    "start_time": "2022-03-08T10:01:35.406Z"
   },
   {
    "duration": 10,
    "start_time": "2022-03-08T10:01:35.423Z"
   },
   {
    "duration": 19706,
    "start_time": "2022-03-08T10:01:35.435Z"
   },
   {
    "duration": 58,
    "start_time": "2022-03-08T10:01:55.143Z"
   },
   {
    "duration": 14454,
    "start_time": "2022-03-08T10:01:55.202Z"
   },
   {
    "duration": 12188,
    "start_time": "2022-03-08T10:02:09.657Z"
   },
   {
    "duration": 8,
    "start_time": "2022-03-08T10:02:21.847Z"
   },
   {
    "duration": 24,
    "start_time": "2022-03-08T10:02:21.857Z"
   },
   {
    "duration": 32,
    "start_time": "2022-03-08T10:02:21.883Z"
   },
   {
    "duration": 70,
    "start_time": "2022-03-08T10:02:21.917Z"
   },
   {
    "duration": 34,
    "start_time": "2022-03-08T10:02:21.988Z"
   },
   {
    "duration": 35,
    "start_time": "2022-03-08T10:02:22.023Z"
   },
   {
    "duration": 27,
    "start_time": "2022-03-08T10:02:22.078Z"
   },
   {
    "duration": 30,
    "start_time": "2022-03-08T10:02:22.107Z"
   },
   {
    "duration": 62,
    "start_time": "2022-03-08T10:02:22.139Z"
   },
   {
    "duration": 6,
    "start_time": "2022-03-08T10:02:22.202Z"
   },
   {
    "duration": 37,
    "start_time": "2022-03-08T10:02:22.209Z"
   },
   {
    "duration": 30,
    "start_time": "2022-03-08T10:02:22.247Z"
   },
   {
    "duration": 8,
    "start_time": "2022-03-08T10:02:22.279Z"
   },
   {
    "duration": 19,
    "start_time": "2022-03-08T10:02:22.289Z"
   },
   {
    "duration": 731,
    "start_time": "2022-03-08T10:02:22.310Z"
   },
   {
    "duration": 22,
    "start_time": "2022-03-08T10:02:23.043Z"
   },
   {
    "duration": 16,
    "start_time": "2022-03-08T10:02:23.066Z"
   },
   {
    "duration": 35,
    "start_time": "2022-03-08T10:02:23.084Z"
   },
   {
    "duration": 12,
    "start_time": "2022-03-08T10:04:43.425Z"
   },
   {
    "duration": 11,
    "start_time": "2022-03-08T10:05:17.144Z"
   },
   {
    "duration": 24,
    "start_time": "2022-03-08T10:05:58.633Z"
   },
   {
    "duration": 25,
    "start_time": "2022-03-08T10:08:09.146Z"
   },
   {
    "duration": 85,
    "start_time": "2022-03-08T10:12:27.926Z"
   },
   {
    "duration": 4,
    "start_time": "2022-03-08T10:19:17.795Z"
   },
   {
    "duration": 572,
    "start_time": "2022-03-08T10:19:20.443Z"
   },
   {
    "duration": 23,
    "start_time": "2022-03-08T10:19:30.491Z"
   },
   {
    "duration": 4,
    "start_time": "2022-03-08T10:20:11.122Z"
   },
   {
    "duration": 982,
    "start_time": "2022-03-08T10:20:12.787Z"
   },
   {
    "duration": 5,
    "start_time": "2022-03-08T10:20:32.922Z"
   },
   {
    "duration": 586,
    "start_time": "2022-03-08T10:20:34.419Z"
   },
   {
    "duration": 23,
    "start_time": "2022-03-08T10:20:39.194Z"
   },
   {
    "duration": 1100,
    "start_time": "2022-03-08T10:21:08.721Z"
   },
   {
    "duration": 15,
    "start_time": "2022-03-08T10:21:09.823Z"
   },
   {
    "duration": 23,
    "start_time": "2022-03-08T10:21:09.842Z"
   },
   {
    "duration": 15,
    "start_time": "2022-03-08T10:21:09.866Z"
   },
   {
    "duration": 22,
    "start_time": "2022-03-08T10:21:09.883Z"
   },
   {
    "duration": 10,
    "start_time": "2022-03-08T10:21:09.907Z"
   },
   {
    "duration": 17,
    "start_time": "2022-03-08T10:21:09.919Z"
   },
   {
    "duration": 8,
    "start_time": "2022-03-08T10:21:09.940Z"
   },
   {
    "duration": 32,
    "start_time": "2022-03-08T10:21:09.950Z"
   },
   {
    "duration": 18,
    "start_time": "2022-03-08T10:21:09.983Z"
   },
   {
    "duration": 9,
    "start_time": "2022-03-08T10:21:10.003Z"
   },
   {
    "duration": 11,
    "start_time": "2022-03-08T10:21:10.013Z"
   },
   {
    "duration": 19462,
    "start_time": "2022-03-08T10:21:10.026Z"
   },
   {
    "duration": 55,
    "start_time": "2022-03-08T10:21:29.490Z"
   },
   {
    "duration": 14624,
    "start_time": "2022-03-08T10:21:29.547Z"
   },
   {
    "duration": 11940,
    "start_time": "2022-03-08T10:21:44.173Z"
   },
   {
    "duration": 8,
    "start_time": "2022-03-08T10:21:56.114Z"
   },
   {
    "duration": 15,
    "start_time": "2022-03-08T10:21:56.124Z"
   },
   {
    "duration": 37,
    "start_time": "2022-03-08T10:21:56.140Z"
   },
   {
    "duration": 72,
    "start_time": "2022-03-08T10:21:56.179Z"
   },
   {
    "duration": 49,
    "start_time": "2022-03-08T10:21:56.253Z"
   },
   {
    "duration": 38,
    "start_time": "2022-03-08T10:21:56.304Z"
   },
   {
    "duration": 51,
    "start_time": "2022-03-08T10:21:56.344Z"
   },
   {
    "duration": 33,
    "start_time": "2022-03-08T10:21:56.396Z"
   },
   {
    "duration": 69,
    "start_time": "2022-03-08T10:21:56.431Z"
   },
   {
    "duration": 6,
    "start_time": "2022-03-08T10:21:56.503Z"
   },
   {
    "duration": 30,
    "start_time": "2022-03-08T10:21:56.511Z"
   },
   {
    "duration": 35,
    "start_time": "2022-03-08T10:21:56.543Z"
   },
   {
    "duration": 8,
    "start_time": "2022-03-08T10:21:56.580Z"
   },
   {
    "duration": 7,
    "start_time": "2022-03-08T10:21:56.590Z"
   },
   {
    "duration": 645,
    "start_time": "2022-03-08T10:21:56.598Z"
   },
   {
    "duration": -163,
    "start_time": "2022-03-08T10:21:57.408Z"
   },
   {
    "duration": -164,
    "start_time": "2022-03-08T10:21:57.410Z"
   },
   {
    "duration": -163,
    "start_time": "2022-03-08T10:21:57.411Z"
   },
   {
    "duration": 5,
    "start_time": "2022-03-08T10:25:03.425Z"
   },
   {
    "duration": 546,
    "start_time": "2022-03-08T10:25:05.849Z"
   },
   {
    "duration": 4,
    "start_time": "2022-03-08T10:26:58.576Z"
   },
   {
    "duration": 980,
    "start_time": "2022-03-08T10:27:00.065Z"
   },
   {
    "duration": 24,
    "start_time": "2022-03-08T10:27:02.976Z"
   },
   {
    "duration": 4,
    "start_time": "2022-03-08T10:36:22.108Z"
   },
   {
    "duration": 230,
    "start_time": "2022-03-08T10:36:23.683Z"
   },
   {
    "duration": 6,
    "start_time": "2022-03-08T10:37:15.948Z"
   },
   {
    "duration": 1201,
    "start_time": "2022-03-08T10:37:17.979Z"
   },
   {
    "duration": 5,
    "start_time": "2022-03-08T10:38:20.420Z"
   },
   {
    "duration": 252,
    "start_time": "2022-03-08T10:38:22.964Z"
   },
   {
    "duration": 4,
    "start_time": "2022-03-08T10:38:29.931Z"
   },
   {
    "duration": 77,
    "start_time": "2022-03-08T10:38:31.324Z"
   },
   {
    "duration": 31,
    "start_time": "2022-03-08T10:38:32.451Z"
   },
   {
    "duration": 1127,
    "start_time": "2022-03-08T10:39:26.075Z"
   },
   {
    "duration": 14,
    "start_time": "2022-03-08T10:39:27.204Z"
   },
   {
    "duration": 22,
    "start_time": "2022-03-08T10:39:27.220Z"
   },
   {
    "duration": 15,
    "start_time": "2022-03-08T10:39:27.244Z"
   },
   {
    "duration": 22,
    "start_time": "2022-03-08T10:39:27.260Z"
   },
   {
    "duration": 9,
    "start_time": "2022-03-08T10:39:27.284Z"
   },
   {
    "duration": 21,
    "start_time": "2022-03-08T10:39:27.295Z"
   },
   {
    "duration": 8,
    "start_time": "2022-03-08T10:39:27.319Z"
   },
   {
    "duration": 6,
    "start_time": "2022-03-08T10:39:27.330Z"
   },
   {
    "duration": 40,
    "start_time": "2022-03-08T10:39:27.338Z"
   },
   {
    "duration": 7,
    "start_time": "2022-03-08T10:39:27.380Z"
   },
   {
    "duration": 4,
    "start_time": "2022-03-08T10:39:27.389Z"
   },
   {
    "duration": 19375,
    "start_time": "2022-03-08T10:39:27.395Z"
   },
   {
    "duration": 55,
    "start_time": "2022-03-08T10:39:46.772Z"
   },
   {
    "duration": 14903,
    "start_time": "2022-03-08T10:39:46.830Z"
   },
   {
    "duration": 12123,
    "start_time": "2022-03-08T10:40:01.735Z"
   },
   {
    "duration": 8,
    "start_time": "2022-03-08T10:40:13.860Z"
   },
   {
    "duration": 9,
    "start_time": "2022-03-08T10:40:13.877Z"
   },
   {
    "duration": 25,
    "start_time": "2022-03-08T10:40:13.888Z"
   },
   {
    "duration": 92,
    "start_time": "2022-03-08T10:40:13.915Z"
   },
   {
    "duration": 34,
    "start_time": "2022-03-08T10:40:14.009Z"
   },
   {
    "duration": 51,
    "start_time": "2022-03-08T10:40:14.045Z"
   },
   {
    "duration": 28,
    "start_time": "2022-03-08T10:40:14.100Z"
   },
   {
    "duration": 48,
    "start_time": "2022-03-08T10:40:14.130Z"
   },
   {
    "duration": 41,
    "start_time": "2022-03-08T10:40:14.180Z"
   },
   {
    "duration": 6,
    "start_time": "2022-03-08T10:40:14.223Z"
   },
   {
    "duration": 50,
    "start_time": "2022-03-08T10:40:14.231Z"
   },
   {
    "duration": 24,
    "start_time": "2022-03-08T10:40:14.283Z"
   },
   {
    "duration": 7,
    "start_time": "2022-03-08T10:40:14.309Z"
   },
   {
    "duration": 6,
    "start_time": "2022-03-08T10:40:14.318Z"
   },
   {
    "duration": 17799,
    "start_time": "2022-03-08T10:40:14.326Z"
   },
   {
    "duration": -191,
    "start_time": "2022-03-08T10:40:32.318Z"
   },
   {
    "duration": -192,
    "start_time": "2022-03-08T10:40:32.320Z"
   },
   {
    "duration": -192,
    "start_time": "2022-03-08T10:40:32.321Z"
   },
   {
    "duration": 21,
    "start_time": "2022-03-08T10:41:29.127Z"
   },
   {
    "duration": 7791,
    "start_time": "2022-03-08T10:41:31.631Z"
   },
   {
    "duration": 7681,
    "start_time": "2022-03-08T10:42:18.094Z"
   },
   {
    "duration": 6612,
    "start_time": "2022-03-08T10:42:44.558Z"
   },
   {
    "duration": 281,
    "start_time": "2022-03-08T10:43:00.942Z"
   },
   {
    "duration": 4,
    "start_time": "2022-03-08T10:43:04.086Z"
   },
   {
    "duration": 206,
    "start_time": "2022-03-08T10:43:07.734Z"
   },
   {
    "duration": 5,
    "start_time": "2022-03-08T10:43:09.598Z"
   },
   {
    "duration": 25,
    "start_time": "2022-03-08T10:43:12.086Z"
   },
   {
    "duration": 4,
    "start_time": "2022-03-08T10:43:18.551Z"
   },
   {
    "duration": 210,
    "start_time": "2022-03-08T10:43:21.502Z"
   },
   {
    "duration": 21,
    "start_time": "2022-03-08T10:43:23.517Z"
   },
   {
    "duration": 3,
    "start_time": "2022-03-08T10:43:57.046Z"
   },
   {
    "duration": 1141,
    "start_time": "2022-03-08T10:43:58.574Z"
   },
   {
    "duration": 25,
    "start_time": "2022-03-08T10:44:00.366Z"
   },
   {
    "duration": 1140,
    "start_time": "2022-03-08T10:44:18.982Z"
   },
   {
    "duration": 4,
    "start_time": "2022-03-08T10:44:21.621Z"
   },
   {
    "duration": 28,
    "start_time": "2022-03-08T10:44:24.149Z"
   },
   {
    "duration": 29,
    "start_time": "2022-03-08T10:45:08.222Z"
   },
   {
    "duration": 1071,
    "start_time": "2022-03-08T10:47:15.937Z"
   },
   {
    "duration": 14,
    "start_time": "2022-03-08T10:47:17.010Z"
   },
   {
    "duration": 22,
    "start_time": "2022-03-08T10:47:17.026Z"
   },
   {
    "duration": 14,
    "start_time": "2022-03-08T10:47:17.050Z"
   },
   {
    "duration": 23,
    "start_time": "2022-03-08T10:47:17.066Z"
   },
   {
    "duration": 10,
    "start_time": "2022-03-08T10:47:17.091Z"
   },
   {
    "duration": 20,
    "start_time": "2022-03-08T10:47:17.105Z"
   },
   {
    "duration": 9,
    "start_time": "2022-03-08T10:47:17.128Z"
   },
   {
    "duration": 10,
    "start_time": "2022-03-08T10:47:17.138Z"
   },
   {
    "duration": 37,
    "start_time": "2022-03-08T10:47:17.149Z"
   },
   {
    "duration": 10,
    "start_time": "2022-03-08T10:47:17.188Z"
   },
   {
    "duration": 6,
    "start_time": "2022-03-08T10:47:17.199Z"
   },
   {
    "duration": 19060,
    "start_time": "2022-03-08T10:47:17.207Z"
   },
   {
    "duration": 48,
    "start_time": "2022-03-08T10:47:36.269Z"
   },
   {
    "duration": 14168,
    "start_time": "2022-03-08T10:47:36.319Z"
   },
   {
    "duration": 11510,
    "start_time": "2022-03-08T10:47:50.489Z"
   },
   {
    "duration": 7,
    "start_time": "2022-03-08T10:48:02.001Z"
   },
   {
    "duration": 17,
    "start_time": "2022-03-08T10:48:02.010Z"
   },
   {
    "duration": 24,
    "start_time": "2022-03-08T10:48:02.029Z"
   },
   {
    "duration": 87,
    "start_time": "2022-03-08T10:48:02.055Z"
   },
   {
    "duration": 49,
    "start_time": "2022-03-08T10:48:02.144Z"
   },
   {
    "duration": 38,
    "start_time": "2022-03-08T10:48:02.195Z"
   },
   {
    "duration": 45,
    "start_time": "2022-03-08T10:48:02.236Z"
   },
   {
    "duration": 31,
    "start_time": "2022-03-08T10:48:02.283Z"
   },
   {
    "duration": 64,
    "start_time": "2022-03-08T10:48:02.316Z"
   },
   {
    "duration": 6,
    "start_time": "2022-03-08T10:48:02.382Z"
   },
   {
    "duration": 26,
    "start_time": "2022-03-08T10:48:02.390Z"
   },
   {
    "duration": 24,
    "start_time": "2022-03-08T10:48:02.418Z"
   },
   {
    "duration": 35,
    "start_time": "2022-03-08T10:48:02.444Z"
   },
   {
    "duration": 7,
    "start_time": "2022-03-08T10:48:02.480Z"
   },
   {
    "duration": 9,
    "start_time": "2022-03-08T10:48:02.488Z"
   },
   {
    "duration": 27,
    "start_time": "2022-03-08T10:48:02.498Z"
   },
   {
    "duration": 10,
    "start_time": "2022-03-08T10:48:02.527Z"
   },
   {
    "duration": 48,
    "start_time": "2022-03-08T10:48:02.539Z"
   },
   {
    "duration": 4,
    "start_time": "2022-03-08T11:40:47.459Z"
   },
   {
    "duration": 4,
    "start_time": "2022-03-08T11:44:39.179Z"
   },
   {
    "duration": 184,
    "start_time": "2022-03-08T11:44:41.593Z"
   },
   {
    "duration": 26,
    "start_time": "2022-03-08T11:44:46.098Z"
   },
   {
    "duration": 4,
    "start_time": "2022-03-08T11:45:13.033Z"
   },
   {
    "duration": 1037,
    "start_time": "2022-03-08T11:45:15.225Z"
   },
   {
    "duration": 3,
    "start_time": "2022-03-08T11:46:23.561Z"
   },
   {
    "duration": 52,
    "start_time": "2022-03-08T11:46:25.473Z"
   },
   {
    "duration": 4,
    "start_time": "2022-03-08T11:46:41.281Z"
   },
   {
    "duration": 56,
    "start_time": "2022-03-08T11:46:43.449Z"
   },
   {
    "duration": 93,
    "start_time": "2022-03-08T11:46:46.993Z"
   },
   {
    "duration": 23,
    "start_time": "2022-03-08T11:46:48.649Z"
   },
   {
    "duration": 3,
    "start_time": "2022-03-08T11:47:03.225Z"
   },
   {
    "duration": 56,
    "start_time": "2022-03-08T11:47:04.864Z"
   },
   {
    "duration": 24,
    "start_time": "2022-03-08T11:47:06.441Z"
   },
   {
    "duration": 4,
    "start_time": "2022-03-08T11:48:48.120Z"
   },
   {
    "duration": 46,
    "start_time": "2022-03-08T11:48:53.433Z"
   },
   {
    "duration": 27,
    "start_time": "2022-03-08T11:48:55.736Z"
   },
   {
    "duration": 28,
    "start_time": "2022-03-08T11:50:02.144Z"
   },
   {
    "duration": 27,
    "start_time": "2022-03-08T11:50:58.243Z"
   },
   {
    "duration": 5,
    "start_time": "2022-03-08T11:52:06.063Z"
   },
   {
    "duration": 50,
    "start_time": "2022-03-08T11:52:07.263Z"
   },
   {
    "duration": 26,
    "start_time": "2022-03-08T11:52:08.775Z"
   },
   {
    "duration": 24,
    "start_time": "2022-03-08T11:52:28.158Z"
   },
   {
    "duration": 22,
    "start_time": "2022-03-08T11:52:51.319Z"
   },
   {
    "duration": 5,
    "start_time": "2022-03-08T11:58:43.629Z"
   },
   {
    "duration": 647,
    "start_time": "2022-03-08T11:58:45.165Z"
   },
   {
    "duration": 6,
    "start_time": "2022-03-08T11:59:14.677Z"
   },
   {
    "duration": 79,
    "start_time": "2022-03-08T11:59:15.661Z"
   },
   {
    "duration": 21,
    "start_time": "2022-03-08T11:59:17.941Z"
   },
   {
    "duration": 25,
    "start_time": "2022-03-08T11:59:22.253Z"
   },
   {
    "duration": 2,
    "start_time": "2022-03-08T12:00:55.444Z"
   },
   {
    "duration": 6,
    "start_time": "2022-03-08T12:01:34.996Z"
   },
   {
    "duration": 174,
    "start_time": "2022-03-08T12:01:37.957Z"
   },
   {
    "duration": 23,
    "start_time": "2022-03-08T12:01:44.195Z"
   },
   {
    "duration": 5,
    "start_time": "2022-03-08T12:03:19.147Z"
   },
   {
    "duration": 173,
    "start_time": "2022-03-08T12:03:20.283Z"
   },
   {
    "duration": 23,
    "start_time": "2022-03-08T12:03:21.179Z"
   },
   {
    "duration": 31,
    "start_time": "2022-03-08T12:04:14.092Z"
   },
   {
    "duration": 26,
    "start_time": "2022-03-08T12:04:51.187Z"
   },
   {
    "duration": 5,
    "start_time": "2022-03-08T12:08:27.002Z"
   },
   {
    "duration": 254,
    "start_time": "2022-03-08T12:08:28.593Z"
   },
   {
    "duration": 25,
    "start_time": "2022-03-08T12:08:29.921Z"
   },
   {
    "duration": 5,
    "start_time": "2022-03-08T12:08:46.865Z"
   },
   {
    "duration": 1156,
    "start_time": "2022-03-08T12:14:41.655Z"
   },
   {
    "duration": 14,
    "start_time": "2022-03-08T12:14:42.813Z"
   },
   {
    "duration": 21,
    "start_time": "2022-03-08T12:14:42.829Z"
   },
   {
    "duration": 14,
    "start_time": "2022-03-08T12:14:42.853Z"
   },
   {
    "duration": 20,
    "start_time": "2022-03-08T12:14:42.870Z"
   },
   {
    "duration": 11,
    "start_time": "2022-03-08T12:14:42.892Z"
   },
   {
    "duration": 17,
    "start_time": "2022-03-08T12:14:42.905Z"
   },
   {
    "duration": 9,
    "start_time": "2022-03-08T12:14:42.926Z"
   },
   {
    "duration": 44,
    "start_time": "2022-03-08T12:14:42.938Z"
   },
   {
    "duration": 16,
    "start_time": "2022-03-08T12:14:42.984Z"
   },
   {
    "duration": 8,
    "start_time": "2022-03-08T12:14:43.002Z"
   },
   {
    "duration": 4,
    "start_time": "2022-03-08T12:14:43.012Z"
   },
   {
    "duration": 18727,
    "start_time": "2022-03-08T12:14:43.018Z"
   },
   {
    "duration": 60,
    "start_time": "2022-03-08T12:15:01.747Z"
   },
   {
    "duration": 13723,
    "start_time": "2022-03-08T12:15:01.809Z"
   },
   {
    "duration": 11437,
    "start_time": "2022-03-08T12:15:15.534Z"
   },
   {
    "duration": 10,
    "start_time": "2022-03-08T12:15:26.972Z"
   },
   {
    "duration": 24,
    "start_time": "2022-03-08T12:15:26.983Z"
   },
   {
    "duration": 38,
    "start_time": "2022-03-08T12:15:27.009Z"
   },
   {
    "duration": 72,
    "start_time": "2022-03-08T12:15:27.049Z"
   },
   {
    "duration": 33,
    "start_time": "2022-03-08T12:15:27.123Z"
   },
   {
    "duration": 45,
    "start_time": "2022-03-08T12:15:27.158Z"
   },
   {
    "duration": 27,
    "start_time": "2022-03-08T12:15:27.206Z"
   },
   {
    "duration": 52,
    "start_time": "2022-03-08T12:15:27.235Z"
   },
   {
    "duration": 40,
    "start_time": "2022-03-08T12:15:27.288Z"
   },
   {
    "duration": 6,
    "start_time": "2022-03-08T12:15:27.329Z"
   },
   {
    "duration": 45,
    "start_time": "2022-03-08T12:15:27.336Z"
   },
   {
    "duration": 22,
    "start_time": "2022-03-08T12:15:27.383Z"
   },
   {
    "duration": 22,
    "start_time": "2022-03-08T12:15:27.407Z"
   },
   {
    "duration": 7,
    "start_time": "2022-03-08T12:15:27.430Z"
   },
   {
    "duration": 6,
    "start_time": "2022-03-08T12:15:27.439Z"
   },
   {
    "duration": 327,
    "start_time": "2022-03-08T12:15:27.478Z"
   },
   {
    "duration": -190,
    "start_time": "2022-03-08T12:15:27.996Z"
   },
   {
    "duration": -190,
    "start_time": "2022-03-08T12:15:27.997Z"
   },
   {
    "duration": -194,
    "start_time": "2022-03-08T12:15:28.002Z"
   },
   {
    "duration": 5,
    "start_time": "2022-03-08T12:15:57.025Z"
   },
   {
    "duration": 268,
    "start_time": "2022-03-08T12:15:59.127Z"
   },
   {
    "duration": 258,
    "start_time": "2022-03-08T12:16:19.808Z"
   },
   {
    "duration": 85,
    "start_time": "2022-03-08T12:16:31.136Z"
   },
   {
    "duration": 252,
    "start_time": "2022-03-08T12:16:38.920Z"
   },
   {
    "duration": 23,
    "start_time": "2022-03-08T12:17:45.432Z"
   },
   {
    "duration": 23,
    "start_time": "2022-03-08T12:18:21.071Z"
   },
   {
    "duration": 5,
    "start_time": "2022-03-08T12:18:56.199Z"
   },
   {
    "duration": 6,
    "start_time": "2022-03-08T12:18:57.639Z"
   },
   {
    "duration": 84,
    "start_time": "2022-03-08T12:19:05.190Z"
   },
   {
    "duration": 257,
    "start_time": "2022-03-08T12:19:06.591Z"
   },
   {
    "duration": 23,
    "start_time": "2022-03-08T12:19:07.728Z"
   },
   {
    "duration": 22,
    "start_time": "2022-03-08T12:19:11.095Z"
   },
   {
    "duration": 1100,
    "start_time": "2022-03-08T12:21:04.140Z"
   },
   {
    "duration": 14,
    "start_time": "2022-03-08T12:21:05.242Z"
   },
   {
    "duration": 23,
    "start_time": "2022-03-08T12:21:05.258Z"
   },
   {
    "duration": 13,
    "start_time": "2022-03-08T12:21:05.283Z"
   },
   {
    "duration": 20,
    "start_time": "2022-03-08T12:21:05.298Z"
   },
   {
    "duration": 9,
    "start_time": "2022-03-08T12:21:05.320Z"
   },
   {
    "duration": 17,
    "start_time": "2022-03-08T12:21:05.331Z"
   },
   {
    "duration": 34,
    "start_time": "2022-03-08T12:21:05.349Z"
   },
   {
    "duration": 11,
    "start_time": "2022-03-08T12:21:05.386Z"
   },
   {
    "duration": 23,
    "start_time": "2022-03-08T12:21:05.399Z"
   },
   {
    "duration": 13,
    "start_time": "2022-03-08T12:21:05.424Z"
   },
   {
    "duration": 9,
    "start_time": "2022-03-08T12:21:05.439Z"
   },
   {
    "duration": 19107,
    "start_time": "2022-03-08T12:21:05.450Z"
   },
   {
    "duration": 63,
    "start_time": "2022-03-08T12:21:24.559Z"
   },
   {
    "duration": 13909,
    "start_time": "2022-03-08T12:21:24.624Z"
   },
   {
    "duration": 11512,
    "start_time": "2022-03-08T12:21:38.534Z"
   },
   {
    "duration": 8,
    "start_time": "2022-03-08T12:21:50.047Z"
   },
   {
    "duration": 20,
    "start_time": "2022-03-08T12:21:50.057Z"
   },
   {
    "duration": 24,
    "start_time": "2022-03-08T12:21:50.078Z"
   },
   {
    "duration": 78,
    "start_time": "2022-03-08T12:21:50.103Z"
   },
   {
    "duration": 33,
    "start_time": "2022-03-08T12:21:50.183Z"
   },
   {
    "duration": 37,
    "start_time": "2022-03-08T12:21:50.218Z"
   },
   {
    "duration": 47,
    "start_time": "2022-03-08T12:21:50.256Z"
   },
   {
    "duration": 30,
    "start_time": "2022-03-08T12:21:50.305Z"
   },
   {
    "duration": 63,
    "start_time": "2022-03-08T12:21:50.337Z"
   },
   {
    "duration": 5,
    "start_time": "2022-03-08T12:21:50.402Z"
   },
   {
    "duration": 23,
    "start_time": "2022-03-08T12:21:50.411Z"
   },
   {
    "duration": 48,
    "start_time": "2022-03-08T12:21:50.435Z"
   },
   {
    "duration": 24,
    "start_time": "2022-03-08T12:21:50.485Z"
   },
   {
    "duration": 8,
    "start_time": "2022-03-08T12:21:50.511Z"
   },
   {
    "duration": 17,
    "start_time": "2022-03-08T12:21:50.521Z"
   },
   {
    "duration": 100,
    "start_time": "2022-03-08T12:21:50.540Z"
   },
   {
    "duration": 5,
    "start_time": "2022-03-08T12:21:50.641Z"
   },
   {
    "duration": 263,
    "start_time": "2022-03-08T12:21:50.649Z"
   },
   {
    "duration": 27,
    "start_time": "2022-03-08T12:21:50.914Z"
   },
   {
    "duration": 43,
    "start_time": "2022-03-08T12:21:50.943Z"
   },
   {
    "duration": 5,
    "start_time": "2022-03-08T12:22:35.298Z"
   },
   {
    "duration": 249,
    "start_time": "2022-03-08T12:22:43.602Z"
   },
   {
    "duration": 23,
    "start_time": "2022-03-08T12:22:45.082Z"
   },
   {
    "duration": 5,
    "start_time": "2022-03-08T12:22:58.042Z"
   },
   {
    "duration": 82,
    "start_time": "2022-03-08T12:22:59.338Z"
   },
   {
    "duration": 26,
    "start_time": "2022-03-08T12:24:59.625Z"
   },
   {
    "duration": 27,
    "start_time": "2022-03-08T12:27:05.569Z"
   },
   {
    "duration": 54,
    "start_time": "2022-03-08T12:43:16.813Z"
   },
   {
    "duration": 26,
    "start_time": "2022-03-08T12:43:40.900Z"
   },
   {
    "duration": 35,
    "start_time": "2022-03-08T12:46:40.852Z"
   },
   {
    "duration": 34,
    "start_time": "2022-03-08T12:46:53.068Z"
   },
   {
    "duration": 340,
    "start_time": "2022-03-08T13:54:50.977Z"
   },
   {
    "duration": 17,
    "start_time": "2022-03-08T13:54:56.568Z"
   },
   {
    "duration": 251,
    "start_time": "2022-03-08T13:55:28.089Z"
   },
   {
    "duration": 16,
    "start_time": "2022-03-08T13:56:07.696Z"
   },
   {
    "duration": 15,
    "start_time": "2022-03-08T13:56:20.617Z"
   },
   {
    "duration": 17,
    "start_time": "2022-03-08T13:56:39.953Z"
   },
   {
    "duration": 430,
    "start_time": "2022-03-08T14:44:43.368Z"
   },
   {
    "duration": 481,
    "start_time": "2022-03-08T14:45:04.271Z"
   },
   {
    "duration": 444,
    "start_time": "2022-03-08T14:45:38.176Z"
   },
   {
    "duration": 551,
    "start_time": "2022-03-08T14:45:52.831Z"
   },
   {
    "duration": 236,
    "start_time": "2022-03-08T14:46:52.743Z"
   },
   {
    "duration": 98,
    "start_time": "2022-03-08T14:46:58.248Z"
   },
   {
    "duration": 242,
    "start_time": "2022-03-08T14:47:03.590Z"
   },
   {
    "duration": 207,
    "start_time": "2022-03-08T14:48:24.894Z"
   },
   {
    "duration": 204,
    "start_time": "2022-03-08T14:48:32.575Z"
   },
   {
    "duration": 256,
    "start_time": "2022-03-08T14:48:44.854Z"
   },
   {
    "duration": 388,
    "start_time": "2022-03-08T14:49:01.566Z"
   },
   {
    "duration": 6565,
    "start_time": "2022-03-08T14:49:31.087Z"
   },
   {
    "duration": 369,
    "start_time": "2022-03-08T14:49:39.846Z"
   },
   {
    "duration": 5,
    "start_time": "2022-03-08T14:51:11.142Z"
   },
   {
    "duration": 4,
    "start_time": "2022-03-08T14:51:28.934Z"
   },
   {
    "duration": 257,
    "start_time": "2022-03-08T15:39:37.869Z"
   },
   {
    "duration": 366,
    "start_time": "2022-03-08T15:39:43.990Z"
   },
   {
    "duration": 357,
    "start_time": "2022-03-08T15:39:50.950Z"
   },
   {
    "duration": 359,
    "start_time": "2022-03-08T15:40:01.542Z"
   },
   {
    "duration": 361,
    "start_time": "2022-03-08T15:40:06.637Z"
   },
   {
    "duration": 289,
    "start_time": "2022-03-08T15:40:19.325Z"
   },
   {
    "duration": 309,
    "start_time": "2022-03-08T15:40:21.310Z"
   },
   {
    "duration": 164,
    "start_time": "2022-03-08T15:41:00.077Z"
   },
   {
    "duration": 157,
    "start_time": "2022-03-08T15:41:06.709Z"
   },
   {
    "duration": 149,
    "start_time": "2022-03-08T15:41:31.101Z"
   },
   {
    "duration": 245,
    "start_time": "2022-03-08T15:43:18.829Z"
   },
   {
    "duration": 245,
    "start_time": "2022-03-08T15:43:34.005Z"
   },
   {
    "duration": 4,
    "start_time": "2022-03-08T15:55:08.375Z"
   },
   {
    "duration": 6632,
    "start_time": "2022-03-08T15:57:25.162Z"
   },
   {
    "duration": 768,
    "start_time": "2022-03-08T15:58:33.599Z"
   },
   {
    "duration": 6707,
    "start_time": "2022-03-08T15:58:57.615Z"
   },
   {
    "duration": 263,
    "start_time": "2022-03-08T15:59:14.303Z"
   },
   {
    "duration": 259,
    "start_time": "2022-03-08T15:59:21.878Z"
   },
   {
    "duration": 6937,
    "start_time": "2022-03-08T15:59:35.030Z"
   },
   {
    "duration": 6695,
    "start_time": "2022-03-08T16:00:33.158Z"
   },
   {
    "duration": 4,
    "start_time": "2022-03-08T16:00:43.909Z"
   },
   {
    "duration": 535,
    "start_time": "2022-03-08T16:00:50.518Z"
   },
   {
    "duration": 4,
    "start_time": "2022-03-08T16:01:20.436Z"
   },
   {
    "duration": 4,
    "start_time": "2022-03-08T16:01:32.277Z"
   },
   {
    "duration": 146,
    "start_time": "2022-03-08T16:01:34.773Z"
   },
   {
    "duration": 155,
    "start_time": "2022-03-08T16:02:04.397Z"
   },
   {
    "duration": 4,
    "start_time": "2022-03-08T16:02:19.725Z"
   },
   {
    "duration": 150,
    "start_time": "2022-03-08T16:02:23.087Z"
   },
   {
    "duration": 160,
    "start_time": "2022-03-08T16:05:56.483Z"
   },
   {
    "duration": 156,
    "start_time": "2022-03-08T16:06:04.580Z"
   },
   {
    "duration": 154,
    "start_time": "2022-03-08T16:06:12.091Z"
   },
   {
    "duration": 153,
    "start_time": "2022-03-08T16:06:25.083Z"
   },
   {
    "duration": 157,
    "start_time": "2022-03-08T16:07:06.547Z"
   },
   {
    "duration": 155,
    "start_time": "2022-03-08T16:07:12.203Z"
   },
   {
    "duration": 4,
    "start_time": "2022-03-08T16:14:39.199Z"
   },
   {
    "duration": 5,
    "start_time": "2022-03-08T16:14:44.607Z"
   },
   {
    "duration": 542,
    "start_time": "2022-03-08T16:14:46.633Z"
   },
   {
    "duration": 94,
    "start_time": "2022-03-08T16:15:01.320Z"
   },
   {
    "duration": 543,
    "start_time": "2022-03-08T16:15:13.328Z"
   },
   {
    "duration": 92,
    "start_time": "2022-03-08T16:15:17.575Z"
   },
   {
    "duration": 4,
    "start_time": "2022-03-08T16:15:29.472Z"
   },
   {
    "duration": 164,
    "start_time": "2022-03-08T16:15:30.425Z"
   },
   {
    "duration": 4,
    "start_time": "2022-03-08T16:16:12.831Z"
   },
   {
    "duration": 153,
    "start_time": "2022-03-08T16:16:14.199Z"
   },
   {
    "duration": 4,
    "start_time": "2022-03-08T16:16:29.288Z"
   },
   {
    "duration": 244,
    "start_time": "2022-03-08T16:16:30.880Z"
   },
   {
    "duration": 80,
    "start_time": "2022-03-08T16:17:40.718Z"
   },
   {
    "duration": 4,
    "start_time": "2022-03-08T16:17:47.103Z"
   },
   {
    "duration": 161,
    "start_time": "2022-03-08T16:17:48.894Z"
   },
   {
    "duration": 4,
    "start_time": "2022-03-08T16:18:06.711Z"
   },
   {
    "duration": 166,
    "start_time": "2022-03-08T16:18:08.327Z"
   },
   {
    "duration": 4,
    "start_time": "2022-03-08T16:18:33.873Z"
   },
   {
    "duration": 157,
    "start_time": "2022-03-08T16:18:36.166Z"
   },
   {
    "duration": 7,
    "start_time": "2022-03-08T16:18:46.440Z"
   },
   {
    "duration": 156,
    "start_time": "2022-03-08T16:18:48.158Z"
   },
   {
    "duration": 150,
    "start_time": "2022-03-08T16:20:01.767Z"
   },
   {
    "duration": 4,
    "start_time": "2022-03-08T16:20:10.781Z"
   },
   {
    "duration": 149,
    "start_time": "2022-03-08T16:20:11.773Z"
   },
   {
    "duration": 5,
    "start_time": "2022-03-08T16:20:39.014Z"
   },
   {
    "duration": 151,
    "start_time": "2022-03-08T16:20:40.094Z"
   },
   {
    "duration": 4,
    "start_time": "2022-03-08T16:21:37.478Z"
   },
   {
    "duration": 177,
    "start_time": "2022-03-08T16:21:38.509Z"
   },
   {
    "duration": 188,
    "start_time": "2022-03-08T16:22:22.981Z"
   },
   {
    "duration": 4,
    "start_time": "2022-03-08T16:22:51.015Z"
   },
   {
    "duration": 149,
    "start_time": "2022-03-08T16:22:53.221Z"
   },
   {
    "duration": 5,
    "start_time": "2022-03-08T16:24:04.989Z"
   },
   {
    "duration": 176,
    "start_time": "2022-03-08T16:24:07.012Z"
   },
   {
    "duration": 4,
    "start_time": "2022-03-08T16:32:44.212Z"
   },
   {
    "duration": 537,
    "start_time": "2022-03-08T16:32:46.954Z"
   },
   {
    "duration": 894,
    "start_time": "2022-03-08T16:32:53.218Z"
   },
   {
    "duration": 4,
    "start_time": "2022-03-08T16:32:59.714Z"
   },
   {
    "duration": 573,
    "start_time": "2022-03-08T16:33:00.827Z"
   },
   {
    "duration": 4,
    "start_time": "2022-03-08T16:33:16.810Z"
   },
   {
    "duration": 694,
    "start_time": "2022-03-08T16:33:17.706Z"
   },
   {
    "duration": 5,
    "start_time": "2022-03-08T16:35:12.650Z"
   },
   {
    "duration": -270,
    "start_time": "2022-03-08T16:35:19.028Z"
   },
   {
    "duration": 5,
    "start_time": "2022-03-08T16:35:25.522Z"
   },
   {
    "duration": 1976,
    "start_time": "2022-03-08T16:35:27.938Z"
   },
   {
    "duration": 6,
    "start_time": "2022-03-08T16:37:30.978Z"
   },
   {
    "duration": 975,
    "start_time": "2022-03-08T16:37:32.354Z"
   },
   {
    "duration": 5,
    "start_time": "2022-03-08T16:40:03.545Z"
   },
   {
    "duration": 2160,
    "start_time": "2022-03-08T16:40:04.913Z"
   },
   {
    "duration": 5,
    "start_time": "2022-03-08T16:40:20.403Z"
   },
   {
    "duration": 959,
    "start_time": "2022-03-08T16:40:21.153Z"
   },
   {
    "duration": 5,
    "start_time": "2022-03-08T16:40:57.041Z"
   },
   {
    "duration": 1062,
    "start_time": "2022-03-08T16:40:58.153Z"
   },
   {
    "duration": 5,
    "start_time": "2022-03-08T16:41:14.169Z"
   },
   {
    "duration": 456,
    "start_time": "2022-03-08T16:41:15.524Z"
   },
   {
    "duration": 6,
    "start_time": "2022-03-08T16:43:02.145Z"
   },
   {
    "duration": 417,
    "start_time": "2022-03-08T16:43:03.064Z"
   },
   {
    "duration": 258,
    "start_time": "2022-03-08T16:43:57.656Z"
   },
   {
    "duration": 5,
    "start_time": "2022-03-08T16:44:00.160Z"
   },
   {
    "duration": 420,
    "start_time": "2022-03-08T16:44:01.176Z"
   },
   {
    "duration": 6,
    "start_time": "2022-03-08T16:44:49.960Z"
   },
   {
    "duration": 6700,
    "start_time": "2022-03-08T16:45:12.376Z"
   },
   {
    "duration": 484,
    "start_time": "2022-03-08T16:45:21.760Z"
   },
   {
    "duration": 263,
    "start_time": "2022-03-08T16:45:34.895Z"
   },
   {
    "duration": 5,
    "start_time": "2022-03-08T16:45:41.944Z"
   },
   {
    "duration": 415,
    "start_time": "2022-03-08T16:45:43.207Z"
   },
   {
    "duration": 5,
    "start_time": "2022-03-08T16:47:04.864Z"
   },
   {
    "duration": 405,
    "start_time": "2022-03-08T16:47:05.815Z"
   },
   {
    "duration": 5,
    "start_time": "2022-03-08T16:47:07.991Z"
   },
   {
    "duration": 417,
    "start_time": "2022-03-08T16:47:09.199Z"
   },
   {
    "duration": 5,
    "start_time": "2022-03-08T16:52:31.318Z"
   },
   {
    "duration": 518,
    "start_time": "2022-03-08T16:52:32.654Z"
   },
   {
    "duration": 5,
    "start_time": "2022-03-08T16:52:56.181Z"
   },
   {
    "duration": 514,
    "start_time": "2022-03-08T16:52:57.318Z"
   },
   {
    "duration": 6,
    "start_time": "2022-03-08T16:53:05.805Z"
   },
   {
    "duration": 493,
    "start_time": "2022-03-08T16:53:07.101Z"
   },
   {
    "duration": 5,
    "start_time": "2022-03-08T16:53:59.901Z"
   },
   {
    "duration": 412,
    "start_time": "2022-03-08T16:54:04.285Z"
   },
   {
    "duration": 418,
    "start_time": "2022-03-08T16:56:09.260Z"
   },
   {
    "duration": 455,
    "start_time": "2022-03-08T16:56:11.285Z"
   },
   {
    "duration": 403,
    "start_time": "2022-03-08T16:58:22.379Z"
   },
   {
    "duration": 429,
    "start_time": "2022-03-08T16:58:24.308Z"
   },
   {
    "duration": 416,
    "start_time": "2022-03-08T16:58:50.396Z"
   },
   {
    "duration": 427,
    "start_time": "2022-03-08T17:00:19.123Z"
   },
   {
    "duration": 484,
    "start_time": "2022-03-08T17:00:21.315Z"
   },
   {
    "duration": 3,
    "start_time": "2022-03-09T07:31:00.206Z"
   },
   {
    "duration": 262,
    "start_time": "2022-03-09T07:47:16.666Z"
   },
   {
    "duration": 1579,
    "start_time": "2022-03-09T07:47:26.831Z"
   },
   {
    "duration": 16,
    "start_time": "2022-03-09T07:47:28.412Z"
   },
   {
    "duration": 29,
    "start_time": "2022-03-09T07:47:28.430Z"
   },
   {
    "duration": 14,
    "start_time": "2022-03-09T07:47:28.462Z"
   },
   {
    "duration": 20,
    "start_time": "2022-03-09T07:47:28.478Z"
   },
   {
    "duration": 10,
    "start_time": "2022-03-09T07:47:28.500Z"
   },
   {
    "duration": 20,
    "start_time": "2022-03-09T07:47:28.511Z"
   },
   {
    "duration": 10,
    "start_time": "2022-03-09T07:47:28.533Z"
   },
   {
    "duration": 34,
    "start_time": "2022-03-09T07:47:28.545Z"
   },
   {
    "duration": 21,
    "start_time": "2022-03-09T07:47:28.581Z"
   },
   {
    "duration": 9,
    "start_time": "2022-03-09T07:47:28.603Z"
   },
   {
    "duration": 6,
    "start_time": "2022-03-09T07:47:28.614Z"
   },
   {
    "duration": 19747,
    "start_time": "2022-03-09T07:47:28.622Z"
   },
   {
    "duration": 57,
    "start_time": "2022-03-09T07:47:48.370Z"
   },
   {
    "duration": 13891,
    "start_time": "2022-03-09T07:47:48.429Z"
   },
   {
    "duration": 11491,
    "start_time": "2022-03-09T07:48:02.322Z"
   },
   {
    "duration": 9,
    "start_time": "2022-03-09T07:48:13.814Z"
   },
   {
    "duration": 12,
    "start_time": "2022-03-09T07:48:13.825Z"
   },
   {
    "duration": 41,
    "start_time": "2022-03-09T07:48:13.838Z"
   },
   {
    "duration": 68,
    "start_time": "2022-03-09T07:48:13.881Z"
   },
   {
    "duration": 46,
    "start_time": "2022-03-09T07:48:13.951Z"
   },
   {
    "duration": 36,
    "start_time": "2022-03-09T07:48:13.999Z"
   },
   {
    "duration": 47,
    "start_time": "2022-03-09T07:48:14.038Z"
   },
   {
    "duration": 30,
    "start_time": "2022-03-09T07:48:14.087Z"
   },
   {
    "duration": 59,
    "start_time": "2022-03-09T07:48:14.119Z"
   },
   {
    "duration": 6,
    "start_time": "2022-03-09T07:48:14.180Z"
   },
   {
    "duration": 24,
    "start_time": "2022-03-09T07:48:14.188Z"
   },
   {
    "duration": 23,
    "start_time": "2022-03-09T07:48:14.214Z"
   },
   {
    "duration": 48,
    "start_time": "2022-03-09T07:48:14.239Z"
   },
   {
    "duration": 7,
    "start_time": "2022-03-09T07:48:14.289Z"
   },
   {
    "duration": 8,
    "start_time": "2022-03-09T07:48:14.298Z"
   },
   {
    "duration": 104,
    "start_time": "2022-03-09T07:48:14.308Z"
   },
   {
    "duration": 6,
    "start_time": "2022-03-09T07:48:14.414Z"
   },
   {
    "duration": 257,
    "start_time": "2022-03-09T07:48:14.422Z"
   },
   {
    "duration": 24,
    "start_time": "2022-03-09T07:48:14.681Z"
   },
   {
    "duration": 23,
    "start_time": "2022-03-09T07:48:14.707Z"
   },
   {
    "duration": 60,
    "start_time": "2022-03-09T07:48:14.732Z"
   },
   {
    "duration": 33,
    "start_time": "2022-03-09T07:48:14.794Z"
   },
   {
    "duration": 4,
    "start_time": "2022-03-09T07:48:14.829Z"
   },
   {
    "duration": 5,
    "start_time": "2022-03-09T07:48:14.835Z"
   },
   {
    "duration": 443,
    "start_time": "2022-03-09T07:48:14.842Z"
   },
   {
    "duration": 392,
    "start_time": "2022-03-09T07:48:15.286Z"
   },
   {
    "duration": 501,
    "start_time": "2022-03-09T07:48:15.680Z"
   },
   {
    "duration": 399,
    "start_time": "2022-03-09T07:48:16.183Z"
   },
   {
    "duration": 404,
    "start_time": "2022-03-09T07:48:16.584Z"
   },
   {
    "duration": 397,
    "start_time": "2022-03-09T07:48:16.990Z"
   },
   {
    "duration": 428,
    "start_time": "2022-03-09T07:48:17.389Z"
   },
   {
    "duration": 420,
    "start_time": "2022-03-09T07:48:17.818Z"
   },
   {
    "duration": 6,
    "start_time": "2022-03-09T07:48:18.239Z"
   },
   {
    "duration": 380,
    "start_time": "2022-03-09T07:53:35.585Z"
   },
   {
    "duration": 308,
    "start_time": "2022-03-09T07:54:13.393Z"
   },
   {
    "duration": 11,
    "start_time": "2022-03-09T07:58:32.362Z"
   },
   {
    "duration": 25,
    "start_time": "2022-03-09T07:59:05.530Z"
   },
   {
    "duration": 6,
    "start_time": "2022-03-09T07:59:45.706Z"
   },
   {
    "duration": 6,
    "start_time": "2022-03-09T07:59:51.858Z"
   },
   {
    "duration": 6,
    "start_time": "2022-03-09T07:59:56.979Z"
   },
   {
    "duration": 6,
    "start_time": "2022-03-09T08:00:03.930Z"
   },
   {
    "duration": 85,
    "start_time": "2022-03-09T08:00:11.554Z"
   },
   {
    "duration": 5,
    "start_time": "2022-03-09T08:00:58.642Z"
   },
   {
    "duration": 5,
    "start_time": "2022-03-09T08:01:46.018Z"
   },
   {
    "duration": 6,
    "start_time": "2022-03-09T08:01:47.033Z"
   },
   {
    "duration": 322,
    "start_time": "2022-03-09T08:02:06.786Z"
   },
   {
    "duration": 5,
    "start_time": "2022-03-09T08:02:16.146Z"
   },
   {
    "duration": 6,
    "start_time": "2022-03-09T08:02:16.961Z"
   },
   {
    "duration": 414,
    "start_time": "2022-03-09T08:02:25.658Z"
   },
   {
    "duration": 5,
    "start_time": "2022-03-09T08:02:39.746Z"
   },
   {
    "duration": 6,
    "start_time": "2022-03-09T08:02:41.026Z"
   },
   {
    "duration": 26,
    "start_time": "2022-03-09T08:03:34.681Z"
   },
   {
    "duration": 26,
    "start_time": "2022-03-09T08:03:36.930Z"
   },
   {
    "duration": 25,
    "start_time": "2022-03-09T08:03:54.329Z"
   },
   {
    "duration": 25,
    "start_time": "2022-03-09T08:04:03.561Z"
   },
   {
    "duration": 12,
    "start_time": "2022-03-09T10:16:30.574Z"
   },
   {
    "duration": 15,
    "start_time": "2022-03-09T10:16:35.895Z"
   },
   {
    "duration": 1746,
    "start_time": "2022-03-18T08:24:56.700Z"
   },
   {
    "duration": 13,
    "start_time": "2022-03-18T08:24:58.448Z"
   },
   {
    "duration": 19,
    "start_time": "2022-03-18T08:24:58.464Z"
   },
   {
    "duration": 12,
    "start_time": "2022-03-18T08:24:58.485Z"
   },
   {
    "duration": 18,
    "start_time": "2022-03-18T08:24:58.498Z"
   },
   {
    "duration": 8,
    "start_time": "2022-03-18T08:24:58.518Z"
   },
   {
    "duration": 41,
    "start_time": "2022-03-18T08:24:58.528Z"
   },
   {
    "duration": 6,
    "start_time": "2022-03-18T08:24:58.571Z"
   },
   {
    "duration": 6,
    "start_time": "2022-03-18T08:24:58.580Z"
   },
   {
    "duration": 12,
    "start_time": "2022-03-18T08:24:58.588Z"
   },
   {
    "duration": 7,
    "start_time": "2022-03-18T08:24:58.602Z"
   },
   {
    "duration": 4,
    "start_time": "2022-03-18T08:24:58.611Z"
   },
   {
    "duration": 17633,
    "start_time": "2022-03-18T08:24:58.616Z"
   },
   {
    "duration": 53,
    "start_time": "2022-03-18T08:25:16.251Z"
   },
   {
    "duration": 12818,
    "start_time": "2022-03-18T08:25:16.306Z"
   },
   {
    "duration": 10513,
    "start_time": "2022-03-18T08:25:29.126Z"
   },
   {
    "duration": 8,
    "start_time": "2022-03-18T08:25:39.641Z"
   },
   {
    "duration": 15,
    "start_time": "2022-03-18T08:25:39.651Z"
   },
   {
    "duration": 24,
    "start_time": "2022-03-18T08:25:39.668Z"
   },
   {
    "duration": 85,
    "start_time": "2022-03-18T08:25:39.694Z"
   },
   {
    "duration": 32,
    "start_time": "2022-03-18T08:25:39.781Z"
   },
   {
    "duration": 53,
    "start_time": "2022-03-18T08:25:39.815Z"
   },
   {
    "duration": 27,
    "start_time": "2022-03-18T08:25:39.869Z"
   },
   {
    "duration": 29,
    "start_time": "2022-03-18T08:25:39.898Z"
   },
   {
    "duration": 64,
    "start_time": "2022-03-18T08:25:39.929Z"
   },
   {
    "duration": 7,
    "start_time": "2022-03-18T08:25:39.995Z"
   },
   {
    "duration": 25,
    "start_time": "2022-03-18T08:25:40.007Z"
   },
   {
    "duration": 48,
    "start_time": "2022-03-18T08:25:40.035Z"
   },
   {
    "duration": 7,
    "start_time": "2022-03-18T08:25:40.085Z"
   },
   {
    "duration": 22,
    "start_time": "2022-03-18T08:25:40.094Z"
   },
   {
    "duration": 84,
    "start_time": "2022-03-18T08:25:40.118Z"
   },
   {
    "duration": 5,
    "start_time": "2022-03-18T08:25:40.203Z"
   },
   {
    "duration": 245,
    "start_time": "2022-03-18T08:25:40.210Z"
   },
   {
    "duration": 24,
    "start_time": "2022-03-18T08:25:40.457Z"
   },
   {
    "duration": 23,
    "start_time": "2022-03-18T08:25:40.483Z"
   },
   {
    "duration": 31,
    "start_time": "2022-03-18T08:25:40.508Z"
   },
   {
    "duration": 31,
    "start_time": "2022-03-18T08:25:40.564Z"
   },
   {
    "duration": 5,
    "start_time": "2022-03-18T08:25:40.597Z"
   },
   {
    "duration": 7,
    "start_time": "2022-03-18T08:25:40.605Z"
   },
   {
    "duration": 403,
    "start_time": "2022-03-18T08:25:40.614Z"
   },
   {
    "duration": 347,
    "start_time": "2022-03-18T08:25:41.019Z"
   },
   {
    "duration": 402,
    "start_time": "2022-03-18T08:25:41.368Z"
   },
   {
    "duration": 325,
    "start_time": "2022-03-18T08:25:41.772Z"
   },
   {
    "duration": 397,
    "start_time": "2022-03-18T08:25:42.099Z"
   },
   {
    "duration": 353,
    "start_time": "2022-03-18T08:25:42.498Z"
   },
   {
    "duration": 355,
    "start_time": "2022-03-18T08:25:42.853Z"
   },
   {
    "duration": 456,
    "start_time": "2022-03-18T08:25:43.209Z"
   },
   {
    "duration": 4,
    "start_time": "2022-03-18T08:25:43.667Z"
   },
   {
    "duration": 31,
    "start_time": "2022-03-18T08:25:43.673Z"
   },
   {
    "duration": 29,
    "start_time": "2022-03-18T08:25:43.706Z"
   },
   {
    "duration": 5,
    "start_time": "2022-03-18T08:25:43.736Z"
   },
   {
    "duration": 54,
    "start_time": "2022-03-18T08:25:43.743Z"
   },
   {
    "duration": 34,
    "start_time": "2022-03-18T08:25:43.798Z"
   },
   {
    "duration": 7,
    "start_time": "2022-03-18T08:25:43.834Z"
   },
   {
    "duration": 1831,
    "start_time": "2022-03-18T08:56:12.730Z"
   },
   {
    "duration": 14,
    "start_time": "2022-03-18T08:56:14.564Z"
   },
   {
    "duration": 20,
    "start_time": "2022-03-18T08:56:14.580Z"
   },
   {
    "duration": 13,
    "start_time": "2022-03-18T08:56:14.602Z"
   },
   {
    "duration": 17,
    "start_time": "2022-03-18T08:56:14.617Z"
   },
   {
    "duration": 10,
    "start_time": "2022-03-18T08:56:14.663Z"
   },
   {
    "duration": 17,
    "start_time": "2022-03-18T08:56:14.675Z"
   },
   {
    "duration": 8,
    "start_time": "2022-03-18T08:56:14.695Z"
   },
   {
    "duration": 9,
    "start_time": "2022-03-18T08:56:14.705Z"
   },
   {
    "duration": 13,
    "start_time": "2022-03-18T08:56:14.716Z"
   },
   {
    "duration": 6,
    "start_time": "2022-03-18T08:56:14.764Z"
   },
   {
    "duration": 7,
    "start_time": "2022-03-18T08:56:14.772Z"
   },
   {
    "duration": 17877,
    "start_time": "2022-03-18T08:56:14.781Z"
   },
   {
    "duration": 48,
    "start_time": "2022-03-18T08:56:32.660Z"
   },
   {
    "duration": 13159,
    "start_time": "2022-03-18T08:56:32.710Z"
   },
   {
    "duration": 10952,
    "start_time": "2022-03-18T08:56:45.871Z"
   },
   {
    "duration": 7,
    "start_time": "2022-03-18T08:56:56.825Z"
   },
   {
    "duration": 16,
    "start_time": "2022-03-18T08:56:56.833Z"
   },
   {
    "duration": 31,
    "start_time": "2022-03-18T08:56:56.851Z"
   },
   {
    "duration": 64,
    "start_time": "2022-03-18T08:56:56.884Z"
   },
   {
    "duration": 33,
    "start_time": "2022-03-18T08:56:56.962Z"
   },
   {
    "duration": 35,
    "start_time": "2022-03-18T08:56:56.996Z"
   },
   {
    "duration": 46,
    "start_time": "2022-03-18T08:56:57.032Z"
   },
   {
    "duration": 27,
    "start_time": "2022-03-18T08:56:57.080Z"
   },
   {
    "duration": 55,
    "start_time": "2022-03-18T08:56:57.109Z"
   },
   {
    "duration": 6,
    "start_time": "2022-03-18T08:56:57.167Z"
   },
   {
    "duration": 22,
    "start_time": "2022-03-18T08:56:57.175Z"
   },
   {
    "duration": 20,
    "start_time": "2022-03-18T08:56:57.199Z"
   },
   {
    "duration": 7,
    "start_time": "2022-03-18T08:56:57.221Z"
   },
   {
    "duration": 34,
    "start_time": "2022-03-18T08:56:57.230Z"
   },
   {
    "duration": 79,
    "start_time": "2022-03-18T08:56:57.266Z"
   },
   {
    "duration": 16,
    "start_time": "2022-03-18T08:56:57.347Z"
   },
   {
    "duration": 250,
    "start_time": "2022-03-18T08:56:57.365Z"
   },
   {
    "duration": 24,
    "start_time": "2022-03-18T08:56:57.617Z"
   },
   {
    "duration": 37,
    "start_time": "2022-03-18T08:56:57.643Z"
   },
   {
    "duration": 29,
    "start_time": "2022-03-18T08:56:57.681Z"
   },
   {
    "duration": 51,
    "start_time": "2022-03-18T08:56:57.712Z"
   },
   {
    "duration": 4,
    "start_time": "2022-03-18T08:56:57.765Z"
   },
   {
    "duration": 7,
    "start_time": "2022-03-18T08:56:57.771Z"
   },
   {
    "duration": 396,
    "start_time": "2022-03-18T08:56:57.779Z"
   },
   {
    "duration": 363,
    "start_time": "2022-03-18T08:56:58.177Z"
   },
   {
    "duration": 451,
    "start_time": "2022-03-18T08:56:58.541Z"
   },
   {
    "duration": 370,
    "start_time": "2022-03-18T08:56:58.994Z"
   },
   {
    "duration": 361,
    "start_time": "2022-03-18T08:56:59.366Z"
   },
   {
    "duration": 374,
    "start_time": "2022-03-18T08:56:59.728Z"
   },
   {
    "duration": 383,
    "start_time": "2022-03-18T08:57:00.104Z"
   },
   {
    "duration": 465,
    "start_time": "2022-03-18T08:57:00.489Z"
   },
   {
    "duration": 9,
    "start_time": "2022-03-18T08:57:00.956Z"
   },
   {
    "duration": 37,
    "start_time": "2022-03-18T08:57:00.967Z"
   },
   {
    "duration": 40,
    "start_time": "2022-03-18T08:57:01.006Z"
   },
   {
    "duration": 8,
    "start_time": "2022-03-18T08:57:01.048Z"
   },
   {
    "duration": 62,
    "start_time": "2022-03-18T08:57:01.057Z"
   },
   {
    "duration": 37,
    "start_time": "2022-03-18T08:57:01.120Z"
   },
   {
    "duration": 20,
    "start_time": "2022-03-18T08:57:01.159Z"
   },
   {
    "duration": 64,
    "start_time": "2022-03-18T09:11:29.716Z"
   },
   {
    "duration": 1552,
    "start_time": "2022-03-18T09:11:45.683Z"
   },
   {
    "duration": 14,
    "start_time": "2022-03-18T09:11:47.237Z"
   },
   {
    "duration": 25,
    "start_time": "2022-03-18T09:11:47.252Z"
   },
   {
    "duration": 12,
    "start_time": "2022-03-18T09:11:47.279Z"
   },
   {
    "duration": 21,
    "start_time": "2022-03-18T09:11:47.293Z"
   },
   {
    "duration": 9,
    "start_time": "2022-03-18T09:11:47.315Z"
   },
   {
    "duration": 18,
    "start_time": "2022-03-18T09:11:47.326Z"
   },
   {
    "duration": 7,
    "start_time": "2022-03-18T09:11:47.346Z"
   },
   {
    "duration": 15,
    "start_time": "2022-03-18T09:11:47.355Z"
   },
   {
    "duration": 38,
    "start_time": "2022-03-18T09:11:47.373Z"
   },
   {
    "duration": 9,
    "start_time": "2022-03-18T09:11:47.413Z"
   },
   {
    "duration": 3,
    "start_time": "2022-03-18T09:11:47.424Z"
   },
   {
    "duration": 16396,
    "start_time": "2022-03-18T09:11:47.429Z"
   },
   {
    "duration": 58,
    "start_time": "2022-03-18T09:12:03.827Z"
   },
   {
    "duration": 14891,
    "start_time": "2022-03-18T09:12:03.887Z"
   },
   {
    "duration": 11387,
    "start_time": "2022-03-18T09:12:18.779Z"
   },
   {
    "duration": 10,
    "start_time": "2022-03-18T09:12:30.168Z"
   },
   {
    "duration": 26,
    "start_time": "2022-03-18T09:12:30.180Z"
   },
   {
    "duration": 27,
    "start_time": "2022-03-18T09:12:30.209Z"
   },
   {
    "duration": 91,
    "start_time": "2022-03-18T09:12:30.237Z"
   },
   {
    "duration": 31,
    "start_time": "2022-03-18T09:12:30.330Z"
   },
   {
    "duration": 64,
    "start_time": "2022-03-18T09:12:30.363Z"
   },
   {
    "duration": 33,
    "start_time": "2022-03-18T09:12:30.429Z"
   },
   {
    "duration": 54,
    "start_time": "2022-03-18T09:12:30.464Z"
   },
   {
    "duration": 50,
    "start_time": "2022-03-18T09:12:30.520Z"
   },
   {
    "duration": 6,
    "start_time": "2022-03-18T09:12:30.572Z"
   },
   {
    "duration": 50,
    "start_time": "2022-03-18T09:12:30.579Z"
   },
   {
    "duration": 23,
    "start_time": "2022-03-18T09:12:30.634Z"
   },
   {
    "duration": 7,
    "start_time": "2022-03-18T09:12:30.659Z"
   },
   {
    "duration": 14,
    "start_time": "2022-03-18T09:12:30.668Z"
   },
   {
    "duration": 50,
    "start_time": "2022-03-18T09:12:30.701Z"
   },
   {
    "duration": 5,
    "start_time": "2022-03-18T09:12:30.752Z"
   },
   {
    "duration": 135,
    "start_time": "2022-03-18T09:12:30.758Z"
   },
   {
    "duration": 23,
    "start_time": "2022-03-18T09:12:30.895Z"
   },
   {
    "duration": 24,
    "start_time": "2022-03-18T09:12:30.920Z"
   },
   {
    "duration": 43,
    "start_time": "2022-03-18T09:12:30.945Z"
   },
   {
    "duration": 36,
    "start_time": "2022-03-18T09:12:31.010Z"
   },
   {
    "duration": 6,
    "start_time": "2022-03-18T09:12:31.048Z"
   },
   {
    "duration": 9,
    "start_time": "2022-03-18T09:12:31.056Z"
   },
   {
    "duration": 253,
    "start_time": "2022-03-18T09:12:31.067Z"
   },
   {
    "duration": 195,
    "start_time": "2022-03-18T09:12:31.322Z"
   },
   {
    "duration": 213,
    "start_time": "2022-03-18T09:12:31.518Z"
   },
   {
    "duration": 189,
    "start_time": "2022-03-18T09:12:31.733Z"
   },
   {
    "duration": 280,
    "start_time": "2022-03-18T09:12:31.924Z"
   },
   {
    "duration": 231,
    "start_time": "2022-03-18T09:12:32.206Z"
   },
   {
    "duration": 220,
    "start_time": "2022-03-18T09:12:32.439Z"
   },
   {
    "duration": 220,
    "start_time": "2022-03-18T09:12:32.660Z"
   },
   {
    "duration": 5,
    "start_time": "2022-03-18T09:12:32.881Z"
   },
   {
    "duration": 15,
    "start_time": "2022-03-18T09:12:32.888Z"
   },
   {
    "duration": 5,
    "start_time": "2022-03-18T09:12:32.905Z"
   },
   {
    "duration": 29,
    "start_time": "2022-03-18T09:12:32.912Z"
   },
   {
    "duration": 28,
    "start_time": "2022-03-18T09:12:32.943Z"
   },
   {
    "duration": 30,
    "start_time": "2022-03-18T09:12:32.974Z"
   },
   {
    "duration": 32,
    "start_time": "2022-03-18T09:12:33.006Z"
   },
   {
    "duration": 30,
    "start_time": "2022-03-18T09:12:33.039Z"
   },
   {
    "duration": 6,
    "start_time": "2022-03-18T09:12:33.070Z"
   },
   {
    "duration": 5,
    "start_time": "2022-03-18T09:13:35.058Z"
   },
   {
    "duration": 4,
    "start_time": "2022-03-18T09:13:43.217Z"
   },
   {
    "duration": 1804,
    "start_time": "2022-03-18T13:10:07.005Z"
   },
   {
    "duration": 13,
    "start_time": "2022-03-18T13:10:08.811Z"
   },
   {
    "duration": 20,
    "start_time": "2022-03-18T13:10:08.827Z"
   },
   {
    "duration": 14,
    "start_time": "2022-03-18T13:10:08.849Z"
   },
   {
    "duration": 19,
    "start_time": "2022-03-18T13:10:08.864Z"
   },
   {
    "duration": 9,
    "start_time": "2022-03-18T13:10:08.884Z"
   },
   {
    "duration": 17,
    "start_time": "2022-03-18T13:10:08.894Z"
   },
   {
    "duration": 6,
    "start_time": "2022-03-18T13:10:08.914Z"
   },
   {
    "duration": 5,
    "start_time": "2022-03-18T13:10:08.922Z"
   },
   {
    "duration": 40,
    "start_time": "2022-03-18T13:10:08.929Z"
   },
   {
    "duration": 9,
    "start_time": "2022-03-18T13:10:08.970Z"
   },
   {
    "duration": 7,
    "start_time": "2022-03-18T13:10:08.980Z"
   },
   {
    "duration": 17847,
    "start_time": "2022-03-18T13:10:08.989Z"
   },
   {
    "duration": 54,
    "start_time": "2022-03-18T13:10:26.838Z"
   },
   {
    "duration": 13534,
    "start_time": "2022-03-18T13:10:26.894Z"
   },
   {
    "duration": 10762,
    "start_time": "2022-03-18T13:10:40.430Z"
   },
   {
    "duration": 9,
    "start_time": "2022-03-18T13:10:51.194Z"
   },
   {
    "duration": 12,
    "start_time": "2022-03-18T13:10:51.205Z"
   },
   {
    "duration": 44,
    "start_time": "2022-03-18T13:10:51.219Z"
   },
   {
    "duration": 67,
    "start_time": "2022-03-18T13:10:51.265Z"
   },
   {
    "duration": 46,
    "start_time": "2022-03-18T13:10:51.333Z"
   },
   {
    "duration": 35,
    "start_time": "2022-03-18T13:10:51.380Z"
   },
   {
    "duration": 26,
    "start_time": "2022-03-18T13:10:51.419Z"
   },
   {
    "duration": 30,
    "start_time": "2022-03-18T13:10:51.462Z"
   },
   {
    "duration": 39,
    "start_time": "2022-03-18T13:10:51.494Z"
   },
   {
    "duration": 29,
    "start_time": "2022-03-18T13:10:51.534Z"
   },
   {
    "duration": 27,
    "start_time": "2022-03-18T13:10:51.565Z"
   },
   {
    "duration": 21,
    "start_time": "2022-03-18T13:10:51.594Z"
   },
   {
    "duration": 8,
    "start_time": "2022-03-18T13:10:51.616Z"
   },
   {
    "duration": 7,
    "start_time": "2022-03-18T13:10:51.625Z"
   },
   {
    "duration": 102,
    "start_time": "2022-03-18T13:10:51.633Z"
   },
   {
    "duration": 5,
    "start_time": "2022-03-18T13:10:51.736Z"
   },
   {
    "duration": 246,
    "start_time": "2022-03-18T13:10:51.743Z"
   },
   {
    "duration": 25,
    "start_time": "2022-03-18T13:10:51.990Z"
   },
   {
    "duration": 22,
    "start_time": "2022-03-18T13:10:52.016Z"
   },
   {
    "duration": 48,
    "start_time": "2022-03-18T13:10:52.039Z"
   },
   {
    "duration": 28,
    "start_time": "2022-03-18T13:10:52.089Z"
   },
   {
    "duration": 5,
    "start_time": "2022-03-18T13:10:52.118Z"
   },
   {
    "duration": 8,
    "start_time": "2022-03-18T13:10:52.124Z"
   },
   {
    "duration": 388,
    "start_time": "2022-03-18T13:10:52.133Z"
   },
   {
    "duration": 340,
    "start_time": "2022-03-18T13:10:52.523Z"
   },
   {
    "duration": 431,
    "start_time": "2022-03-18T13:10:52.865Z"
   },
   {
    "duration": 354,
    "start_time": "2022-03-18T13:10:53.298Z"
   },
   {
    "duration": 358,
    "start_time": "2022-03-18T13:10:53.654Z"
   },
   {
    "duration": 357,
    "start_time": "2022-03-18T13:10:54.014Z"
   },
   {
    "duration": 401,
    "start_time": "2022-03-18T13:10:54.373Z"
   },
   {
    "duration": 455,
    "start_time": "2022-03-18T13:10:54.776Z"
   },
   {
    "duration": 6,
    "start_time": "2022-03-18T13:10:55.233Z"
   },
   {
    "duration": 5,
    "start_time": "2022-03-18T13:10:55.241Z"
   },
   {
    "duration": 18,
    "start_time": "2022-03-18T13:10:55.247Z"
   },
   {
    "duration": 24,
    "start_time": "2022-03-18T13:10:55.267Z"
   },
   {
    "duration": 23,
    "start_time": "2022-03-18T13:10:55.293Z"
   },
   {
    "duration": 6,
    "start_time": "2022-03-18T13:10:55.318Z"
   },
   {
    "duration": 55,
    "start_time": "2022-03-18T13:10:55.325Z"
   },
   {
    "duration": 24,
    "start_time": "2022-03-18T13:10:55.381Z"
   },
   {
    "duration": 6,
    "start_time": "2022-03-18T13:10:55.407Z"
   },
   {
    "duration": 1861,
    "start_time": "2022-03-18T13:13:19.010Z"
   },
   {
    "duration": 14,
    "start_time": "2022-03-18T13:13:20.873Z"
   },
   {
    "duration": 28,
    "start_time": "2022-03-18T13:13:20.889Z"
   },
   {
    "duration": 14,
    "start_time": "2022-03-18T13:13:20.919Z"
   },
   {
    "duration": 32,
    "start_time": "2022-03-18T13:13:20.935Z"
   },
   {
    "duration": 10,
    "start_time": "2022-03-18T13:13:20.969Z"
   },
   {
    "duration": 18,
    "start_time": "2022-03-18T13:13:20.981Z"
   },
   {
    "duration": 7,
    "start_time": "2022-03-18T13:13:21.003Z"
   },
   {
    "duration": 9,
    "start_time": "2022-03-18T13:13:21.013Z"
   },
   {
    "duration": 40,
    "start_time": "2022-03-18T13:13:21.024Z"
   },
   {
    "duration": 7,
    "start_time": "2022-03-18T13:13:21.067Z"
   },
   {
    "duration": 6,
    "start_time": "2022-03-18T13:13:21.076Z"
   },
   {
    "duration": 18228,
    "start_time": "2022-03-18T13:13:21.084Z"
   },
   {
    "duration": 58,
    "start_time": "2022-03-18T13:13:39.314Z"
   },
   {
    "duration": 13075,
    "start_time": "2022-03-18T13:13:39.374Z"
   },
   {
    "duration": 11172,
    "start_time": "2022-03-18T13:13:52.451Z"
   },
   {
    "duration": 8,
    "start_time": "2022-03-18T13:14:03.624Z"
   },
   {
    "duration": 14,
    "start_time": "2022-03-18T13:14:03.634Z"
   },
   {
    "duration": 30,
    "start_time": "2022-03-18T13:14:03.649Z"
   },
   {
    "duration": 61,
    "start_time": "2022-03-18T13:14:03.680Z"
   },
   {
    "duration": 47,
    "start_time": "2022-03-18T13:14:03.743Z"
   },
   {
    "duration": 34,
    "start_time": "2022-03-18T13:14:03.791Z"
   },
   {
    "duration": 47,
    "start_time": "2022-03-18T13:14:03.829Z"
   },
   {
    "duration": 29,
    "start_time": "2022-03-18T13:14:03.878Z"
   },
   {
    "duration": 37,
    "start_time": "2022-03-18T13:14:03.908Z"
   },
   {
    "duration": 19,
    "start_time": "2022-03-18T13:14:03.947Z"
   },
   {
    "duration": 29,
    "start_time": "2022-03-18T13:14:03.968Z"
   },
   {
    "duration": 20,
    "start_time": "2022-03-18T13:14:03.998Z"
   },
   {
    "duration": 7,
    "start_time": "2022-03-18T13:14:04.020Z"
   },
   {
    "duration": 7,
    "start_time": "2022-03-18T13:14:04.029Z"
   },
   {
    "duration": 103,
    "start_time": "2022-03-18T13:14:04.037Z"
   },
   {
    "duration": 5,
    "start_time": "2022-03-18T13:14:04.141Z"
   },
   {
    "duration": 286,
    "start_time": "2022-03-18T13:14:04.147Z"
   },
   {
    "duration": 24,
    "start_time": "2022-03-18T13:14:04.435Z"
   },
   {
    "duration": 23,
    "start_time": "2022-03-18T13:14:04.461Z"
   },
   {
    "duration": 32,
    "start_time": "2022-03-18T13:14:04.486Z"
   },
   {
    "duration": 48,
    "start_time": "2022-03-18T13:14:04.520Z"
   },
   {
    "duration": 5,
    "start_time": "2022-03-18T13:14:04.570Z"
   },
   {
    "duration": 8,
    "start_time": "2022-03-18T13:14:04.577Z"
   },
   {
    "duration": 393,
    "start_time": "2022-03-18T13:14:04.587Z"
   },
   {
    "duration": 357,
    "start_time": "2022-03-18T13:14:04.982Z"
   },
   {
    "duration": 433,
    "start_time": "2022-03-18T13:14:05.341Z"
   },
   {
    "duration": 352,
    "start_time": "2022-03-18T13:14:05.776Z"
   },
   {
    "duration": 473,
    "start_time": "2022-03-18T13:14:06.130Z"
   },
   {
    "duration": 400,
    "start_time": "2022-03-18T13:14:06.606Z"
   },
   {
    "duration": 367,
    "start_time": "2022-03-18T13:14:07.008Z"
   },
   {
    "duration": 457,
    "start_time": "2022-03-18T13:14:07.377Z"
   },
   {
    "duration": 6,
    "start_time": "2022-03-18T13:14:07.836Z"
   },
   {
    "duration": 6,
    "start_time": "2022-03-18T13:14:07.843Z"
   },
   {
    "duration": 4,
    "start_time": "2022-03-18T13:14:07.863Z"
   },
   {
    "duration": 24,
    "start_time": "2022-03-18T13:14:07.869Z"
   },
   {
    "duration": 20,
    "start_time": "2022-03-18T13:14:07.895Z"
   },
   {
    "duration": 5,
    "start_time": "2022-03-18T13:14:07.917Z"
   },
   {
    "duration": 48,
    "start_time": "2022-03-18T13:14:07.923Z"
   },
   {
    "duration": 23,
    "start_time": "2022-03-18T13:14:07.973Z"
   },
   {
    "duration": 5,
    "start_time": "2022-03-18T13:14:07.998Z"
   },
   {
    "duration": 2758,
    "start_time": "2023-01-15T09:58:29.806Z"
   },
   {
    "duration": 18,
    "start_time": "2023-01-15T09:58:32.566Z"
   },
   {
    "duration": 35,
    "start_time": "2023-01-15T09:58:32.585Z"
   },
   {
    "duration": 33,
    "start_time": "2023-01-15T09:58:32.622Z"
   },
   {
    "duration": 56,
    "start_time": "2023-01-15T09:58:32.657Z"
   },
   {
    "duration": 11,
    "start_time": "2023-01-15T09:58:32.715Z"
   },
   {
    "duration": 57,
    "start_time": "2023-01-15T09:58:32.728Z"
   },
   {
    "duration": 31,
    "start_time": "2023-01-15T09:58:32.787Z"
   },
   {
    "duration": 40,
    "start_time": "2023-01-15T09:58:32.821Z"
   },
   {
    "duration": 42,
    "start_time": "2023-01-15T09:58:32.864Z"
   },
   {
    "duration": 41,
    "start_time": "2023-01-15T09:58:32.907Z"
   },
   {
    "duration": 30,
    "start_time": "2023-01-15T09:58:32.950Z"
   },
   {
    "duration": 14465,
    "start_time": "2023-01-15T09:58:32.982Z"
   },
   {
    "duration": 41,
    "start_time": "2023-01-15T09:58:47.449Z"
   },
   {
    "duration": 10725,
    "start_time": "2023-01-15T09:58:47.491Z"
   },
   {
    "duration": 8712,
    "start_time": "2023-01-15T09:58:58.218Z"
   },
   {
    "duration": 11,
    "start_time": "2023-01-15T09:59:06.932Z"
   },
   {
    "duration": 18,
    "start_time": "2023-01-15T09:59:06.944Z"
   },
   {
    "duration": 28,
    "start_time": "2023-01-15T09:59:06.964Z"
   },
   {
    "duration": 91,
    "start_time": "2023-01-15T09:59:06.995Z"
   },
   {
    "duration": 28,
    "start_time": "2023-01-15T09:59:07.087Z"
   },
   {
    "duration": 54,
    "start_time": "2023-01-15T09:59:07.116Z"
   },
   {
    "duration": 29,
    "start_time": "2023-01-15T09:59:07.172Z"
   },
   {
    "duration": 67,
    "start_time": "2023-01-15T09:59:07.203Z"
   },
   {
    "duration": 43,
    "start_time": "2023-01-15T09:59:07.272Z"
   },
   {
    "duration": 23,
    "start_time": "2023-01-15T09:59:07.318Z"
   },
   {
    "duration": 39,
    "start_time": "2023-01-15T09:59:07.344Z"
   },
   {
    "duration": 50,
    "start_time": "2023-01-15T09:59:07.389Z"
   },
   {
    "duration": 13,
    "start_time": "2023-01-15T09:59:07.441Z"
   },
   {
    "duration": 16,
    "start_time": "2023-01-15T09:59:07.456Z"
   },
   {
    "duration": 83,
    "start_time": "2023-01-15T09:59:07.475Z"
   },
   {
    "duration": 5,
    "start_time": "2023-01-15T09:59:07.560Z"
   },
   {
    "duration": 167,
    "start_time": "2023-01-15T09:59:07.567Z"
   },
   {
    "duration": 27,
    "start_time": "2023-01-15T09:59:07.738Z"
   },
   {
    "duration": 32,
    "start_time": "2023-01-15T09:59:07.766Z"
   },
   {
    "duration": 60,
    "start_time": "2023-01-15T09:59:07.800Z"
   },
   {
    "duration": 35,
    "start_time": "2023-01-15T09:59:07.862Z"
   },
   {
    "duration": 7,
    "start_time": "2023-01-15T09:59:07.899Z"
   },
   {
    "duration": 35,
    "start_time": "2023-01-15T09:59:07.908Z"
   },
   {
    "duration": 347,
    "start_time": "2023-01-15T09:59:07.946Z"
   },
   {
    "duration": 297,
    "start_time": "2023-01-15T09:59:08.295Z"
   },
   {
    "duration": 292,
    "start_time": "2023-01-15T09:59:08.594Z"
   },
   {
    "duration": 352,
    "start_time": "2023-01-15T09:59:08.889Z"
   },
   {
    "duration": 350,
    "start_time": "2023-01-15T09:59:09.245Z"
   },
   {
    "duration": 273,
    "start_time": "2023-01-15T09:59:09.597Z"
   },
   {
    "duration": 281,
    "start_time": "2023-01-15T09:59:09.873Z"
   },
   {
    "duration": 273,
    "start_time": "2023-01-15T09:59:10.157Z"
   },
   {
    "duration": 6,
    "start_time": "2023-01-15T09:59:10.437Z"
   },
   {
    "duration": 23,
    "start_time": "2023-01-15T09:59:10.445Z"
   },
   {
    "duration": 24,
    "start_time": "2023-01-15T09:59:10.470Z"
   },
   {
    "duration": 50,
    "start_time": "2023-01-15T09:59:10.496Z"
   },
   {
    "duration": 47,
    "start_time": "2023-01-15T09:59:10.549Z"
   },
   {
    "duration": 15,
    "start_time": "2023-01-15T09:59:10.598Z"
   },
   {
    "duration": 52,
    "start_time": "2023-01-15T09:59:10.615Z"
   },
   {
    "duration": 27,
    "start_time": "2023-01-15T09:59:10.670Z"
   },
   {
    "duration": 6,
    "start_time": "2023-01-15T09:59:10.699Z"
   }
  ],
  "kernelspec": {
   "display_name": "Python 3 (ipykernel)",
   "language": "python",
   "name": "python3"
  },
  "language_info": {
   "codemirror_mode": {
    "name": "ipython",
    "version": 3
   },
   "file_extension": ".py",
   "mimetype": "text/x-python",
   "name": "python",
   "nbconvert_exporter": "python",
   "pygments_lexer": "ipython3",
   "version": "3.9.5"
  },
  "toc": {
   "base_numbering": 1,
   "nav_menu": {},
   "number_sections": true,
   "sideBar": true,
   "skip_h1_title": true,
   "title_cell": "Table of Contents",
   "title_sidebar": "Contents",
   "toc_cell": false,
   "toc_position": {
    "height": "calc(100% - 180px)",
    "left": "10px",
    "top": "150px",
    "width": "384px"
   },
   "toc_section_display": true,
   "toc_window_display": true
  }
 },
 "nbformat": 4,
 "nbformat_minor": 2
}
