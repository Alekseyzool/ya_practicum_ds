{
 "cells": [
  {
   "cell_type": "markdown",
   "id": "377267a7",
   "metadata": {},
   "source": [
    "# Исследование надежности заемщиков."
   ]
  },
  {
   "cell_type": "markdown",
   "id": "830e75c2",
   "metadata": {},
   "source": [
    "На основе входных данные от банка — статистика о платёжеспособности клиентов.\n",
    "Нужно разобраться, влияет ли семейное положение и количество детей клиента на факт погашения кредита в срок.\n",
    "\n",
    "<b>Цель исследования</b> — проверить четыре гипотезы:\n",
    "\n",
    "1. Количество детей влияет на возврат кредита в срок.\n",
    "2. Семейное положение влияет на возврат кредита в срок.\n",
    "3. Уровень дохода влияет на возврат кредита в срок.\n",
    "4. Цель кредита влияет на возврат кредита в срок\n",
    "\n",
    "В ходе выполнения исследования данные проверяются на наличие пропусков, аномалий, соответствие типов данных и наличие дубликатов. Затем проводится декомпозиция исходного датафрейма, категоризация дохода, категоризация целей кредита. На основании полученной информации делаются выводы о влиянии семейного положение и количества детей и дохода клиента на факт погашения кредита в срок.\n",
    " \n",
    "Таким образом, исследование пройдёт в девять шагов:\n",
    " 1. Обзор данных.\n",
    " 2. Заполнение пропусков.\n",
    " 3. Проверка данных на аномалии и исправления.\n",
    " 4. Изменение типов данных.\n",
    " 5. Удаление дубликатов.\n",
    " 6. Формирование дополнительных датафреймов словарей, декомпозиция исходного датафрейма.\n",
    " 7. Категоризация дохода.\n",
    " 8. Категоризация целей кредита.\n",
    " 9. Ответы на вопросы."
   ]
  },
  {
   "cell_type": "markdown",
   "id": "ccbb8a67",
   "metadata": {},
   "source": [
    "### Шаг 1. Обзор данных"
   ]
  },
  {
   "cell_type": "markdown",
   "id": "4e34ef4d",
   "metadata": {},
   "source": [
    "Открываем таблицу и изучаем общую информацию о данных"
   ]
  },
  {
   "cell_type": "code",
   "execution_count": 1,
   "id": "a950bbaa",
   "metadata": {
    "scrolled": true
   },
   "outputs": [],
   "source": [
    "# импорт библиотеки Pandas\n",
    "import pandas as pd"
   ]
  },
  {
   "cell_type": "code",
   "execution_count": 3,
   "id": "a371f5d6",
   "metadata": {},
   "outputs": [
    {
     "data": {
      "text/html": [
       "<div>\n",
       "<style scoped>\n",
       "    .dataframe tbody tr th:only-of-type {\n",
       "        vertical-align: middle;\n",
       "    }\n",
       "\n",
       "    .dataframe tbody tr th {\n",
       "        vertical-align: top;\n",
       "    }\n",
       "\n",
       "    .dataframe thead th {\n",
       "        text-align: right;\n",
       "    }\n",
       "</style>\n",
       "<table border=\"1\" class=\"dataframe\">\n",
       "  <thead>\n",
       "    <tr style=\"text-align: right;\">\n",
       "      <th></th>\n",
       "      <th>children</th>\n",
       "      <th>days_employed</th>\n",
       "      <th>dob_years</th>\n",
       "      <th>education</th>\n",
       "      <th>education_id</th>\n",
       "      <th>family_status</th>\n",
       "      <th>family_status_id</th>\n",
       "      <th>gender</th>\n",
       "      <th>income_type</th>\n",
       "      <th>debt</th>\n",
       "      <th>total_income</th>\n",
       "      <th>purpose</th>\n",
       "    </tr>\n",
       "  </thead>\n",
       "  <tbody>\n",
       "    <tr>\n",
       "      <th>0</th>\n",
       "      <td>1</td>\n",
       "      <td>-8437.673028</td>\n",
       "      <td>42</td>\n",
       "      <td>высшее</td>\n",
       "      <td>0</td>\n",
       "      <td>женат / замужем</td>\n",
       "      <td>0</td>\n",
       "      <td>F</td>\n",
       "      <td>сотрудник</td>\n",
       "      <td>0</td>\n",
       "      <td>253875.639453</td>\n",
       "      <td>покупка жилья</td>\n",
       "    </tr>\n",
       "    <tr>\n",
       "      <th>1</th>\n",
       "      <td>1</td>\n",
       "      <td>-4024.803754</td>\n",
       "      <td>36</td>\n",
       "      <td>среднее</td>\n",
       "      <td>1</td>\n",
       "      <td>женат / замужем</td>\n",
       "      <td>0</td>\n",
       "      <td>F</td>\n",
       "      <td>сотрудник</td>\n",
       "      <td>0</td>\n",
       "      <td>112080.014102</td>\n",
       "      <td>приобретение автомобиля</td>\n",
       "    </tr>\n",
       "    <tr>\n",
       "      <th>2</th>\n",
       "      <td>0</td>\n",
       "      <td>-5623.422610</td>\n",
       "      <td>33</td>\n",
       "      <td>Среднее</td>\n",
       "      <td>1</td>\n",
       "      <td>женат / замужем</td>\n",
       "      <td>0</td>\n",
       "      <td>M</td>\n",
       "      <td>сотрудник</td>\n",
       "      <td>0</td>\n",
       "      <td>145885.952297</td>\n",
       "      <td>покупка жилья</td>\n",
       "    </tr>\n",
       "    <tr>\n",
       "      <th>3</th>\n",
       "      <td>3</td>\n",
       "      <td>-4124.747207</td>\n",
       "      <td>32</td>\n",
       "      <td>среднее</td>\n",
       "      <td>1</td>\n",
       "      <td>женат / замужем</td>\n",
       "      <td>0</td>\n",
       "      <td>M</td>\n",
       "      <td>сотрудник</td>\n",
       "      <td>0</td>\n",
       "      <td>267628.550329</td>\n",
       "      <td>дополнительное образование</td>\n",
       "    </tr>\n",
       "    <tr>\n",
       "      <th>4</th>\n",
       "      <td>0</td>\n",
       "      <td>340266.072047</td>\n",
       "      <td>53</td>\n",
       "      <td>среднее</td>\n",
       "      <td>1</td>\n",
       "      <td>гражданский брак</td>\n",
       "      <td>1</td>\n",
       "      <td>F</td>\n",
       "      <td>пенсионер</td>\n",
       "      <td>0</td>\n",
       "      <td>158616.077870</td>\n",
       "      <td>сыграть свадьбу</td>\n",
       "    </tr>\n",
       "  </tbody>\n",
       "</table>\n",
       "</div>"
      ],
      "text/plain": [
       "   children  days_employed  dob_years education  education_id  \\\n",
       "0         1   -8437.673028         42    высшее             0   \n",
       "1         1   -4024.803754         36   среднее             1   \n",
       "2         0   -5623.422610         33   Среднее             1   \n",
       "3         3   -4124.747207         32   среднее             1   \n",
       "4         0  340266.072047         53   среднее             1   \n",
       "\n",
       "      family_status  family_status_id gender income_type  debt   total_income  \\\n",
       "0   женат / замужем                 0      F   сотрудник     0  253875.639453   \n",
       "1   женат / замужем                 0      F   сотрудник     0  112080.014102   \n",
       "2   женат / замужем                 0      M   сотрудник     0  145885.952297   \n",
       "3   женат / замужем                 0      M   сотрудник     0  267628.550329   \n",
       "4  гражданский брак                 1      F   пенсионер     0  158616.077870   \n",
       "\n",
       "                      purpose  \n",
       "0               покупка жилья  \n",
       "1     приобретение автомобиля  \n",
       "2               покупка жилья  \n",
       "3  дополнительное образование  \n",
       "4             сыграть свадьбу  "
      ]
     },
     "execution_count": 3,
     "metadata": {},
     "output_type": "execute_result"
    }
   ],
   "source": [
    "# получение первых 5 строк таблицы \n",
    "df = pd.read_csv('https://code.s3.yandex.net/datasets/data.csv')\n",
    "df.head()"
   ]
  },
  {
   "cell_type": "code",
   "execution_count": 4,
   "id": "add8b8a6",
   "metadata": {},
   "outputs": [
    {
     "name": "stdout",
     "output_type": "stream",
     "text": [
      "<class 'pandas.core.frame.DataFrame'>\n",
      "RangeIndex: 21525 entries, 0 to 21524\n",
      "Data columns (total 12 columns):\n",
      " #   Column            Non-Null Count  Dtype  \n",
      "---  ------            --------------  -----  \n",
      " 0   children          21525 non-null  int64  \n",
      " 1   days_employed     19351 non-null  float64\n",
      " 2   dob_years         21525 non-null  int64  \n",
      " 3   education         21525 non-null  object \n",
      " 4   education_id      21525 non-null  int64  \n",
      " 5   family_status     21525 non-null  object \n",
      " 6   family_status_id  21525 non-null  int64  \n",
      " 7   gender            21525 non-null  object \n",
      " 8   income_type       21525 non-null  object \n",
      " 9   debt              21525 non-null  int64  \n",
      " 10  total_income      19351 non-null  float64\n",
      " 11  purpose           21525 non-null  object \n",
      "dtypes: float64(2), int64(5), object(5)\n",
      "memory usage: 2.0+ MB\n"
     ]
    }
   ],
   "source": [
    "# получение общей информации о данных в таблице df\n",
    "df.info()"
   ]
  },
  {
   "cell_type": "markdown",
   "id": "0ded8f3f",
   "metadata": {},
   "source": [
    "**Выводы**\n",
    "\n",
    "В каждой строке таблицы — данные о клиенте. Данные рассказывают: семейное положение, количество детей, трудовой стаж, возраст, уровень образования, пол, тип занятости, задолженность и ежемесячный доход клиента. \n",
    "\n",
    "Предварительно можно утверждать, что, данных достаточно для проверки гипотез. Но встречаются пропуски в данных, а, как минимум, в столбце `days_employed` встречаются артефакты т.к. значения стажа в днях не могут быть отрицательными и не могут превышать возраст клиента. Возможно, некоторые значения стажа указаны не в днях, а в часах.\n",
    "\n",
    "Чтобы двигаться дальше, нужно провести дополнительный анализ и устранить проблемы в данных."
   ]
  },
  {
   "cell_type": "markdown",
   "id": "a14c9615",
   "metadata": {},
   "source": [
    "### Шаг 2.1 Заполнение пропусков"
   ]
  },
  {
   "cell_type": "markdown",
   "id": "7d445a26",
   "metadata": {},
   "source": [
    "Заполнение явных пропусков.\n",
    "В двух столбцах `days_employed` и `total_income` есть пропущенные значения заполним их медианным значением по столбцу."
   ]
  },
  {
   "cell_type": "code",
   "execution_count": 5,
   "id": "a4ef2273",
   "metadata": {},
   "outputs": [
    {
     "data": {
      "text/plain": [
       "children               0\n",
       "days_employed       2174\n",
       "dob_years              0\n",
       "education              0\n",
       "education_id           0\n",
       "family_status          0\n",
       "family_status_id       0\n",
       "gender                 0\n",
       "income_type            0\n",
       "debt                   0\n",
       "total_income        2174\n",
       "purpose                0\n",
       "dtype: int64"
      ]
     },
     "execution_count": 5,
     "metadata": {},
     "output_type": "execute_result"
    }
   ],
   "source": [
    "# просмотр количества пропущенных значений\n",
    "df.isna().sum()"
   ]
  },
  {
   "cell_type": "markdown",
   "id": "45a83c79",
   "metadata": {},
   "source": [
    "Проверяем долю пропущенных значений от общего количества значений столбца `days_employed`"
   ]
  },
  {
   "cell_type": "code",
   "execution_count": 11,
   "id": "161f53cd",
   "metadata": {},
   "outputs": [
    {
     "name": "stdout",
     "output_type": "stream",
     "text": [
      "Доля пропущенных значений трудового стажа: 10%\n"
     ]
    }
   ],
   "source": [
    "employed_nan = df['days_employed'].isna().mean()\n",
    "print (f'Доля пропущенных значений трудового стажа: {employed_nan:.0%}')"
   ]
  },
  {
   "cell_type": "markdown",
   "id": "bc0d5bd3",
   "metadata": {},
   "source": [
    "Проверяем долю пропущенных значений от общего количества значений столбца `total_income`"
   ]
  },
  {
   "cell_type": "code",
   "execution_count": 12,
   "id": "ff3025b7",
   "metadata": {
    "scrolled": true
   },
   "outputs": [
    {
     "name": "stdout",
     "output_type": "stream",
     "text": [
      "Доля пропущенных значений дохода: 10%\n"
     ]
    }
   ],
   "source": [
    "income_nan = df['total_income'].isna().mean()\n",
    "print (f'Доля пропущенных значений дохода: {income_nan:.0%}')"
   ]
  },
  {
   "cell_type": "markdown",
   "id": "0ab9ef12",
   "metadata": {},
   "source": [
    "Прежде чем заполнять пропуски в столбцах таблицы, проверим медианные значения этих столбцов."
   ]
  },
  {
   "cell_type": "code",
   "execution_count": 13,
   "id": "80bcbdc9",
   "metadata": {},
   "outputs": [
    {
     "name": "stdout",
     "output_type": "stream",
     "text": [
      "Медианное значение трудового стажа клиента в годах: -1203\n"
     ]
    }
   ],
   "source": [
    "# выразим медианное значение трудового стажа клиента \n",
    "print('Медианное значение трудового стажа клиента в годах:', int(df['days_employed'].median()))"
   ]
  },
  {
   "cell_type": "code",
   "execution_count": 14,
   "id": "c7555b21",
   "metadata": {},
   "outputs": [
    {
     "name": "stdout",
     "output_type": "stream",
     "text": [
      "Медианный доход клиента: 145017\n"
     ]
    }
   ],
   "source": [
    "# медианный доход клиента\n",
    "print('Медианный доход клиента:', int(df['total_income'].median()))"
   ]
  },
  {
   "cell_type": "markdown",
   "id": "15f62af8",
   "metadata": {},
   "source": [
    "Заполним пропуски медианными значениями т.к. медиана - серединное значение выборки, разделяющее выборку на две равные части. Ровно 50 % значений выборки меньше медианного значения и 50 % значений выборки больше медианного значения. Добавляя медианные значения, мы не смещаем оценку в большую или меньшую часть выборки. Так же медианное значение менее подвержено влиянию выбросов в выборке, чем среднее значение. "
   ]
  },
  {
   "cell_type": "code",
   "execution_count": 9,
   "id": "9a8d7cc4",
   "metadata": {},
   "outputs": [],
   "source": [
    "# заполняем пропуски в столбце 'days_employed' медианными значениями\n",
    "df['days_employed'] = df['days_employed'].fillna(df['days_employed'].median())"
   ]
  },
  {
   "cell_type": "code",
   "execution_count": 10,
   "id": "be230611",
   "metadata": {},
   "outputs": [],
   "source": [
    "# заполняем пропуски в столбце 'total_income' медианными значениями\n",
    "df['total_income'] = df['total_income'].fillna(df['total_income'].median())"
   ]
  },
  {
   "cell_type": "markdown",
   "id": "ee13b55f",
   "metadata": {},
   "source": [
    "Проверяем, что пропусков не осталось "
   ]
  },
  {
   "cell_type": "code",
   "execution_count": 11,
   "id": "4d799756",
   "metadata": {},
   "outputs": [
    {
     "data": {
      "text/plain": [
       "children            0\n",
       "days_employed       0\n",
       "dob_years           0\n",
       "education           0\n",
       "education_id        0\n",
       "family_status       0\n",
       "family_status_id    0\n",
       "gender              0\n",
       "income_type         0\n",
       "debt                0\n",
       "total_income        0\n",
       "purpose             0\n",
       "dtype: int64"
      ]
     },
     "execution_count": 11,
     "metadata": {},
     "output_type": "execute_result"
    }
   ],
   "source": [
    "df.isna().sum()"
   ]
  },
  {
   "cell_type": "markdown",
   "id": "93f7e486",
   "metadata": {},
   "source": [
    "**Выводы**\n",
    "\n",
    "В столбцах `days_employed` и `total_income` обнаружено 2174 пропуска, что соответствует 10% от общего количества значений в этих столбцах. \n",
    "Пропуски заполнили медианными значениями т.к. добавляя медианные значения, мы не смещаем оценку в большую или меньшую часть выборки и медиана выборки менее подвержена влиянию выбросов, чем среднее значение выборки.\n",
    "В ходе исследования было обнаружено, что медианное значение в столбце `days_employed` составляет минус 3.29 года, что явно говорит о наличии выбросов и артефактов в выборке."
   ]
  },
  {
   "cell_type": "markdown",
   "id": "02d26c9d",
   "metadata": {},
   "source": [
    "### Шаг 2.2 Проверка данных на аномалии и исправления."
   ]
  },
  {
   "cell_type": "markdown",
   "id": "08019e4e",
   "metadata": {},
   "source": [
    "В данных встречаются артефакты, которые не отражают действительность и появились по какой-то ошибке. Например, отрицательное количество дней трудового стажа, медианное значение стажа минус 3.29 года в столбце days_employed."
   ]
  },
  {
   "cell_type": "markdown",
   "id": "ed8f89d4",
   "metadata": {},
   "source": [
    "Избавимся от отрицательных значений стажа клиентов."
   ]
  },
  {
   "cell_type": "code",
   "execution_count": 12,
   "id": "a08a2ddb",
   "metadata": {},
   "outputs": [
    {
     "data": {
      "text/plain": [
       "0          8437.673028\n",
       "1          4024.803754\n",
       "2          5623.422610\n",
       "3          4124.747207\n",
       "4        340266.072047\n",
       "             ...      \n",
       "21520      4529.316663\n",
       "21521    343937.404131\n",
       "21522      2113.346888\n",
       "21523      3112.481705\n",
       "21524      1984.507589\n",
       "Name: days_employed, Length: 21525, dtype: float64"
      ]
     },
     "metadata": {},
     "output_type": "display_data"
    }
   ],
   "source": [
    "# удаляем отрицательные значения столбца 'days_employed' методом abs()\n",
    "df['days_employed'] = df['days_employed'].abs()\n",
    "display(df['days_employed'])"
   ]
  },
  {
   "cell_type": "markdown",
   "id": "c9ba32e7",
   "metadata": {},
   "source": [
    "Так как в значения стажа все еще встречаются значения превышающие возраст клиентов, рассмотри их подробнее"
   ]
  },
  {
   "cell_type": "code",
   "execution_count": 13,
   "id": "83495e91",
   "metadata": {},
   "outputs": [
    {
     "data": {
      "text/plain": [
       "165.14509021767827"
      ]
     },
     "execution_count": 13,
     "metadata": {},
     "output_type": "execute_result"
    }
   ],
   "source": [
    "# посмотрим средний стаж клиентов в годах\n",
    "df['days_employed'].mean()/365"
   ]
  },
  {
   "cell_type": "markdown",
   "id": "94856dcd",
   "metadata": {},
   "source": [
    "Так как среднее значение в столбце `days_employed` превышает 165 лет, то проверим наличие выбросов, построив гистограмму"
   ]
  },
  {
   "cell_type": "code",
   "execution_count": 14,
   "id": "ef2b573d",
   "metadata": {},
   "outputs": [
    {
     "data": {
      "text/plain": [
       "<matplotlib.axes._subplots.AxesSubplot at 0x7fd320045850>"
      ]
     },
     "execution_count": 14,
     "metadata": {},
     "output_type": "execute_result"
    },
    {
     "data": {
      "image/png": "[encoded data removed]",
      "text/plain": [
       "<Figure size 432x288 with 1 Axes>"
      ]
     },
     "metadata": {
      "needs_background": "light"
     },
     "output_type": "display_data"
    }
   ],
   "source": [
    "# строим гистаграмму\n",
    "df['days_employed'].hist()"
   ]
  },
  {
   "cell_type": "markdown",
   "id": "5be112b3",
   "metadata": {},
   "source": [
    "Из гистограммы видно, что в столбце `days_employed` есть выбросы после значения стажа в 50 000 дней (136 лет), рассмотрим эту часть значений подробнее"
   ]
  },
  {
   "cell_type": "code",
   "execution_count": 15,
   "id": "be324a06",
   "metadata": {},
   "outputs": [
    {
     "data": {
      "text/html": [
       "<div>\n",
       "<style scoped>\n",
       "    .dataframe tbody tr th:only-of-type {\n",
       "        vertical-align: middle;\n",
       "    }\n",
       "\n",
       "    .dataframe tbody tr th {\n",
       "        vertical-align: top;\n",
       "    }\n",
       "\n",
       "    .dataframe thead th {\n",
       "        text-align: right;\n",
       "    }\n",
       "</style>\n",
       "<table border=\"1\" class=\"dataframe\">\n",
       "  <thead>\n",
       "    <tr style=\"text-align: right;\">\n",
       "      <th></th>\n",
       "      <th>children</th>\n",
       "      <th>days_employed</th>\n",
       "      <th>dob_years</th>\n",
       "      <th>education</th>\n",
       "      <th>education_id</th>\n",
       "      <th>family_status</th>\n",
       "      <th>family_status_id</th>\n",
       "      <th>gender</th>\n",
       "      <th>income_type</th>\n",
       "      <th>debt</th>\n",
       "      <th>total_income</th>\n",
       "      <th>purpose</th>\n",
       "    </tr>\n",
       "  </thead>\n",
       "  <tbody>\n",
       "    <tr>\n",
       "      <td>4</td>\n",
       "      <td>0</td>\n",
       "      <td>340266.072047</td>\n",
       "      <td>53</td>\n",
       "      <td>среднее</td>\n",
       "      <td>1</td>\n",
       "      <td>гражданский брак</td>\n",
       "      <td>1</td>\n",
       "      <td>F</td>\n",
       "      <td>пенсионер</td>\n",
       "      <td>0</td>\n",
       "      <td>158616.077870</td>\n",
       "      <td>сыграть свадьбу</td>\n",
       "    </tr>\n",
       "    <tr>\n",
       "      <td>18</td>\n",
       "      <td>0</td>\n",
       "      <td>400281.136913</td>\n",
       "      <td>53</td>\n",
       "      <td>среднее</td>\n",
       "      <td>1</td>\n",
       "      <td>вдовец / вдова</td>\n",
       "      <td>2</td>\n",
       "      <td>F</td>\n",
       "      <td>пенсионер</td>\n",
       "      <td>0</td>\n",
       "      <td>56823.777243</td>\n",
       "      <td>на покупку подержанного автомобиля</td>\n",
       "    </tr>\n",
       "    <tr>\n",
       "      <td>24</td>\n",
       "      <td>1</td>\n",
       "      <td>338551.952911</td>\n",
       "      <td>57</td>\n",
       "      <td>среднее</td>\n",
       "      <td>1</td>\n",
       "      <td>Не женат / не замужем</td>\n",
       "      <td>4</td>\n",
       "      <td>F</td>\n",
       "      <td>пенсионер</td>\n",
       "      <td>0</td>\n",
       "      <td>290547.235997</td>\n",
       "      <td>операции с коммерческой недвижимостью</td>\n",
       "    </tr>\n",
       "    <tr>\n",
       "      <td>25</td>\n",
       "      <td>0</td>\n",
       "      <td>363548.489348</td>\n",
       "      <td>67</td>\n",
       "      <td>среднее</td>\n",
       "      <td>1</td>\n",
       "      <td>женат / замужем</td>\n",
       "      <td>0</td>\n",
       "      <td>M</td>\n",
       "      <td>пенсионер</td>\n",
       "      <td>0</td>\n",
       "      <td>55112.757732</td>\n",
       "      <td>покупка недвижимости</td>\n",
       "    </tr>\n",
       "    <tr>\n",
       "      <td>30</td>\n",
       "      <td>1</td>\n",
       "      <td>335581.668515</td>\n",
       "      <td>62</td>\n",
       "      <td>среднее</td>\n",
       "      <td>1</td>\n",
       "      <td>женат / замужем</td>\n",
       "      <td>0</td>\n",
       "      <td>F</td>\n",
       "      <td>пенсионер</td>\n",
       "      <td>0</td>\n",
       "      <td>171456.067993</td>\n",
       "      <td>операции с коммерческой недвижимостью</td>\n",
       "    </tr>\n",
       "    <tr>\n",
       "      <td>...</td>\n",
       "      <td>...</td>\n",
       "      <td>...</td>\n",
       "      <td>...</td>\n",
       "      <td>...</td>\n",
       "      <td>...</td>\n",
       "      <td>...</td>\n",
       "      <td>...</td>\n",
       "      <td>...</td>\n",
       "      <td>...</td>\n",
       "      <td>...</td>\n",
       "      <td>...</td>\n",
       "      <td>...</td>\n",
       "    </tr>\n",
       "    <tr>\n",
       "      <td>21505</td>\n",
       "      <td>0</td>\n",
       "      <td>338904.866406</td>\n",
       "      <td>53</td>\n",
       "      <td>среднее</td>\n",
       "      <td>1</td>\n",
       "      <td>гражданский брак</td>\n",
       "      <td>1</td>\n",
       "      <td>M</td>\n",
       "      <td>пенсионер</td>\n",
       "      <td>0</td>\n",
       "      <td>75439.993167</td>\n",
       "      <td>сыграть свадьбу</td>\n",
       "    </tr>\n",
       "    <tr>\n",
       "      <td>21508</td>\n",
       "      <td>0</td>\n",
       "      <td>386497.714078</td>\n",
       "      <td>62</td>\n",
       "      <td>среднее</td>\n",
       "      <td>1</td>\n",
       "      <td>женат / замужем</td>\n",
       "      <td>0</td>\n",
       "      <td>M</td>\n",
       "      <td>пенсионер</td>\n",
       "      <td>0</td>\n",
       "      <td>72638.590915</td>\n",
       "      <td>недвижимость</td>\n",
       "    </tr>\n",
       "    <tr>\n",
       "      <td>21509</td>\n",
       "      <td>0</td>\n",
       "      <td>362161.054124</td>\n",
       "      <td>59</td>\n",
       "      <td>высшее</td>\n",
       "      <td>0</td>\n",
       "      <td>женат / замужем</td>\n",
       "      <td>0</td>\n",
       "      <td>M</td>\n",
       "      <td>пенсионер</td>\n",
       "      <td>0</td>\n",
       "      <td>73029.059379</td>\n",
       "      <td>операции с недвижимостью</td>\n",
       "    </tr>\n",
       "    <tr>\n",
       "      <td>21518</td>\n",
       "      <td>0</td>\n",
       "      <td>373995.710838</td>\n",
       "      <td>59</td>\n",
       "      <td>СРЕДНЕЕ</td>\n",
       "      <td>1</td>\n",
       "      <td>женат / замужем</td>\n",
       "      <td>0</td>\n",
       "      <td>F</td>\n",
       "      <td>пенсионер</td>\n",
       "      <td>0</td>\n",
       "      <td>153864.650328</td>\n",
       "      <td>сделка с автомобилем</td>\n",
       "    </tr>\n",
       "    <tr>\n",
       "      <td>21521</td>\n",
       "      <td>0</td>\n",
       "      <td>343937.404131</td>\n",
       "      <td>67</td>\n",
       "      <td>среднее</td>\n",
       "      <td>1</td>\n",
       "      <td>женат / замужем</td>\n",
       "      <td>0</td>\n",
       "      <td>F</td>\n",
       "      <td>пенсионер</td>\n",
       "      <td>0</td>\n",
       "      <td>155999.806512</td>\n",
       "      <td>сделка с автомобилем</td>\n",
       "    </tr>\n",
       "  </tbody>\n",
       "</table>\n",
       "<p>3445 rows × 12 columns</p>\n",
       "</div>"
      ],
      "text/plain": [
       "       children  days_employed  dob_years education  education_id  \\\n",
       "4             0  340266.072047         53   среднее             1   \n",
       "18            0  400281.136913         53   среднее             1   \n",
       "24            1  338551.952911         57   среднее             1   \n",
       "25            0  363548.489348         67   среднее             1   \n",
       "30            1  335581.668515         62   среднее             1   \n",
       "...         ...            ...        ...       ...           ...   \n",
       "21505         0  338904.866406         53   среднее             1   \n",
       "21508         0  386497.714078         62   среднее             1   \n",
       "21509         0  362161.054124         59    высшее             0   \n",
       "21518         0  373995.710838         59   СРЕДНЕЕ             1   \n",
       "21521         0  343937.404131         67   среднее             1   \n",
       "\n",
       "               family_status  family_status_id gender income_type  debt  \\\n",
       "4           гражданский брак                 1      F   пенсионер     0   \n",
       "18            вдовец / вдова                 2      F   пенсионер     0   \n",
       "24     Не женат / не замужем                 4      F   пенсионер     0   \n",
       "25           женат / замужем                 0      M   пенсионер     0   \n",
       "30           женат / замужем                 0      F   пенсионер     0   \n",
       "...                      ...               ...    ...         ...   ...   \n",
       "21505       гражданский брак                 1      M   пенсионер     0   \n",
       "21508        женат / замужем                 0      M   пенсионер     0   \n",
       "21509        женат / замужем                 0      M   пенсионер     0   \n",
       "21518        женат / замужем                 0      F   пенсионер     0   \n",
       "21521        женат / замужем                 0      F   пенсионер     0   \n",
       "\n",
       "        total_income                                purpose  \n",
       "4      158616.077870                        сыграть свадьбу  \n",
       "18      56823.777243     на покупку подержанного автомобиля  \n",
       "24     290547.235997  операции с коммерческой недвижимостью  \n",
       "25      55112.757732                   покупка недвижимости  \n",
       "30     171456.067993  операции с коммерческой недвижимостью  \n",
       "...              ...                                    ...  \n",
       "21505   75439.993167                        сыграть свадьбу  \n",
       "21508   72638.590915                           недвижимость  \n",
       "21509   73029.059379               операции с недвижимостью  \n",
       "21518  153864.650328                   сделка с автомобилем  \n",
       "21521  155999.806512                   сделка с автомобилем  \n",
       "\n",
       "[3445 rows x 12 columns]"
      ]
     },
     "metadata": {},
     "output_type": "display_data"
    }
   ],
   "source": [
    "# сохраним часть датафрейма со значениями стажа более 50 000 дней (136 лет)\n",
    "t = df.loc[df['days_employed'] > 50000]\n",
    "display(t)"
   ]
  },
  {
   "cell_type": "markdown",
   "id": "54347abd",
   "metadata": {},
   "source": [
    "Проверим тип занятости людей со стажем более 136 лет"
   ]
  },
  {
   "cell_type": "code",
   "execution_count": 16,
   "id": "6c5f1529",
   "metadata": {},
   "outputs": [
    {
     "data": {
      "text/plain": [
       "пенсионер      3443\n",
       "безработный       2\n",
       "Name: income_type, dtype: int64"
      ]
     },
     "execution_count": 16,
     "metadata": {},
     "output_type": "execute_result"
    }
   ],
   "source": [
    "t['income_type'].value_counts()"
   ]
  },
  {
   "cell_type": "markdown",
   "id": "7130c746",
   "metadata": {},
   "source": [
    "89% (3443 из 3856) пенсионеров  и 100% (2 из 2) безработных имеют в столбце стаж значения превышающие возраст клиента.\n",
    "Можно сделать предположение, что эти значения введены как стаж в часах, а не днях, тогда значения выбросов уменьшатся. "
   ]
  },
  {
   "cell_type": "code",
   "execution_count": 17,
   "id": "4c0e1bb6",
   "metadata": {},
   "outputs": [
    {
     "name": "stderr",
     "output_type": "stream",
     "text": [
      "/opt/conda/lib/python3.7/site-packages/pandas/core/indexing.py:205: SettingWithCopyWarning: \n",
      "A value is trying to be set on a copy of a slice from a DataFrame\n",
      "\n",
      "See the caveats in the documentation: http://pandas.pydata.org/pandas-docs/stable/user_guide/indexing.html#returning-a-view-versus-a-copy\n",
      "  self._setitem_with_indexer(indexer, value)\n"
     ]
    },
    {
     "data": {
      "text/plain": [
       "0         8437.673028\n",
       "1         4024.803754\n",
       "2         5623.422610\n",
       "3         4124.747207\n",
       "4        14177.753002\n",
       "             ...     \n",
       "21520     4529.316663\n",
       "21521    14330.725172\n",
       "21522     2113.346888\n",
       "21523     3112.481705\n",
       "21524     1984.507589\n",
       "Name: days_employed, Length: 21525, dtype: float64"
      ]
     },
     "metadata": {},
     "output_type": "display_data"
    }
   ],
   "source": [
    "# значения, превышающие 50 000 рабочих дней, делим на 24 часа предполагая, что они выражены в часах, а не днях\n",
    "for i in df['days_employed']:\n",
    "    if i > 50000:\n",
    "        df['days_employed'].loc[df['days_employed'] == i] = i/24 \n",
    "display(df['days_employed'])"
   ]
  },
  {
   "cell_type": "code",
   "execution_count": 18,
   "id": "957cf783",
   "metadata": {
    "scrolled": true
   },
   "outputs": [
    {
     "data": {
      "text/plain": [
       "<matplotlib.axes._subplots.AxesSubplot at 0x7fd3158e76d0>"
      ]
     },
     "execution_count": 18,
     "metadata": {},
     "output_type": "execute_result"
    },
    {
     "data": {
      "image/png": "[encoded data removed]",
      "text/plain": [
       "<Figure size 432x288 with 1 Axes>"
      ]
     },
     "metadata": {
      "needs_background": "light"
     },
     "output_type": "display_data"
    }
   ],
   "source": [
    "# проверяем данные на наличие выбросов\n",
    "df['days_employed'].hist()"
   ]
  },
  {
   "cell_type": "markdown",
   "id": "5df21865",
   "metadata": {},
   "source": [
    "Так же проверим другие столбцы на наличие выбросов"
   ]
  },
  {
   "cell_type": "code",
   "execution_count": 19,
   "id": "4b95a54d",
   "metadata": {},
   "outputs": [
    {
     "data": {
      "text/plain": [
       "<matplotlib.axes._subplots.AxesSubplot at 0x7fd315807650>"
      ]
     },
     "execution_count": 19,
     "metadata": {},
     "output_type": "execute_result"
    },
    {
     "data": {
      "image/png": "[encoded data removed]",
      "text/plain": [
       "<Figure size 432x288 with 1 Axes>"
      ]
     },
     "metadata": {
      "needs_background": "light"
     },
     "output_type": "display_data"
    }
   ],
   "source": [
    "df['dob_years'].hist()"
   ]
  },
  {
   "cell_type": "markdown",
   "id": "451a4595",
   "metadata": {},
   "source": [
    "В столбце возраст заёмщика выделяется заёмщики возрастом 0 лет, возможно это выброс "
   ]
  },
  {
   "cell_type": "code",
   "execution_count": 20,
   "id": "323c10ef",
   "metadata": {},
   "outputs": [
    {
     "data": {
      "text/html": [
       "<div>\n",
       "<style scoped>\n",
       "    .dataframe tbody tr th:only-of-type {\n",
       "        vertical-align: middle;\n",
       "    }\n",
       "\n",
       "    .dataframe tbody tr th {\n",
       "        vertical-align: top;\n",
       "    }\n",
       "\n",
       "    .dataframe thead th {\n",
       "        text-align: right;\n",
       "    }\n",
       "</style>\n",
       "<table border=\"1\" class=\"dataframe\">\n",
       "  <thead>\n",
       "    <tr style=\"text-align: right;\">\n",
       "      <th></th>\n",
       "      <th>children</th>\n",
       "      <th>days_employed</th>\n",
       "      <th>dob_years</th>\n",
       "      <th>education</th>\n",
       "      <th>education_id</th>\n",
       "      <th>family_status</th>\n",
       "      <th>family_status_id</th>\n",
       "      <th>gender</th>\n",
       "      <th>income_type</th>\n",
       "      <th>debt</th>\n",
       "      <th>total_income</th>\n",
       "      <th>purpose</th>\n",
       "    </tr>\n",
       "  </thead>\n",
       "  <tbody>\n",
       "    <tr>\n",
       "      <td>99</td>\n",
       "      <td>0</td>\n",
       "      <td>14439.234121</td>\n",
       "      <td>0</td>\n",
       "      <td>Среднее</td>\n",
       "      <td>1</td>\n",
       "      <td>женат / замужем</td>\n",
       "      <td>0</td>\n",
       "      <td>F</td>\n",
       "      <td>пенсионер</td>\n",
       "      <td>0</td>\n",
       "      <td>71291.522491</td>\n",
       "      <td>автомобиль</td>\n",
       "    </tr>\n",
       "    <tr>\n",
       "      <td>149</td>\n",
       "      <td>0</td>\n",
       "      <td>2664.273168</td>\n",
       "      <td>0</td>\n",
       "      <td>среднее</td>\n",
       "      <td>1</td>\n",
       "      <td>в разводе</td>\n",
       "      <td>3</td>\n",
       "      <td>F</td>\n",
       "      <td>сотрудник</td>\n",
       "      <td>0</td>\n",
       "      <td>70176.435951</td>\n",
       "      <td>операции с жильем</td>\n",
       "    </tr>\n",
       "    <tr>\n",
       "      <td>270</td>\n",
       "      <td>3</td>\n",
       "      <td>1872.663186</td>\n",
       "      <td>0</td>\n",
       "      <td>среднее</td>\n",
       "      <td>1</td>\n",
       "      <td>женат / замужем</td>\n",
       "      <td>0</td>\n",
       "      <td>F</td>\n",
       "      <td>сотрудник</td>\n",
       "      <td>0</td>\n",
       "      <td>102166.458894</td>\n",
       "      <td>ремонт жилью</td>\n",
       "    </tr>\n",
       "    <tr>\n",
       "      <td>578</td>\n",
       "      <td>0</td>\n",
       "      <td>16577.356876</td>\n",
       "      <td>0</td>\n",
       "      <td>среднее</td>\n",
       "      <td>1</td>\n",
       "      <td>женат / замужем</td>\n",
       "      <td>0</td>\n",
       "      <td>F</td>\n",
       "      <td>пенсионер</td>\n",
       "      <td>0</td>\n",
       "      <td>97620.687042</td>\n",
       "      <td>строительство собственной недвижимости</td>\n",
       "    </tr>\n",
       "    <tr>\n",
       "      <td>1040</td>\n",
       "      <td>0</td>\n",
       "      <td>1158.029561</td>\n",
       "      <td>0</td>\n",
       "      <td>высшее</td>\n",
       "      <td>0</td>\n",
       "      <td>в разводе</td>\n",
       "      <td>3</td>\n",
       "      <td>F</td>\n",
       "      <td>компаньон</td>\n",
       "      <td>0</td>\n",
       "      <td>303994.134987</td>\n",
       "      <td>свой автомобиль</td>\n",
       "    </tr>\n",
       "    <tr>\n",
       "      <td>...</td>\n",
       "      <td>...</td>\n",
       "      <td>...</td>\n",
       "      <td>...</td>\n",
       "      <td>...</td>\n",
       "      <td>...</td>\n",
       "      <td>...</td>\n",
       "      <td>...</td>\n",
       "      <td>...</td>\n",
       "      <td>...</td>\n",
       "      <td>...</td>\n",
       "      <td>...</td>\n",
       "      <td>...</td>\n",
       "    </tr>\n",
       "    <tr>\n",
       "      <td>19829</td>\n",
       "      <td>0</td>\n",
       "      <td>1203.369529</td>\n",
       "      <td>0</td>\n",
       "      <td>среднее</td>\n",
       "      <td>1</td>\n",
       "      <td>женат / замужем</td>\n",
       "      <td>0</td>\n",
       "      <td>F</td>\n",
       "      <td>сотрудник</td>\n",
       "      <td>0</td>\n",
       "      <td>145017.937533</td>\n",
       "      <td>жилье</td>\n",
       "    </tr>\n",
       "    <tr>\n",
       "      <td>20462</td>\n",
       "      <td>0</td>\n",
       "      <td>14113.952856</td>\n",
       "      <td>0</td>\n",
       "      <td>среднее</td>\n",
       "      <td>1</td>\n",
       "      <td>женат / замужем</td>\n",
       "      <td>0</td>\n",
       "      <td>F</td>\n",
       "      <td>пенсионер</td>\n",
       "      <td>0</td>\n",
       "      <td>259193.920299</td>\n",
       "      <td>покупка своего жилья</td>\n",
       "    </tr>\n",
       "    <tr>\n",
       "      <td>20577</td>\n",
       "      <td>0</td>\n",
       "      <td>13822.552977</td>\n",
       "      <td>0</td>\n",
       "      <td>среднее</td>\n",
       "      <td>1</td>\n",
       "      <td>Не женат / не замужем</td>\n",
       "      <td>4</td>\n",
       "      <td>F</td>\n",
       "      <td>пенсионер</td>\n",
       "      <td>0</td>\n",
       "      <td>129788.762899</td>\n",
       "      <td>недвижимость</td>\n",
       "    </tr>\n",
       "    <tr>\n",
       "      <td>21179</td>\n",
       "      <td>2</td>\n",
       "      <td>108.967042</td>\n",
       "      <td>0</td>\n",
       "      <td>высшее</td>\n",
       "      <td>0</td>\n",
       "      <td>женат / замужем</td>\n",
       "      <td>0</td>\n",
       "      <td>M</td>\n",
       "      <td>компаньон</td>\n",
       "      <td>0</td>\n",
       "      <td>240702.007382</td>\n",
       "      <td>строительство жилой недвижимости</td>\n",
       "    </tr>\n",
       "    <tr>\n",
       "      <td>21313</td>\n",
       "      <td>0</td>\n",
       "      <td>1268.487728</td>\n",
       "      <td>0</td>\n",
       "      <td>среднее</td>\n",
       "      <td>1</td>\n",
       "      <td>Не женат / не замужем</td>\n",
       "      <td>4</td>\n",
       "      <td>M</td>\n",
       "      <td>сотрудник</td>\n",
       "      <td>0</td>\n",
       "      <td>152419.184851</td>\n",
       "      <td>операции с жильем</td>\n",
       "    </tr>\n",
       "  </tbody>\n",
       "</table>\n",
       "<p>101 rows × 12 columns</p>\n",
       "</div>"
      ],
      "text/plain": [
       "       children  days_employed  dob_years education  education_id  \\\n",
       "99            0   14439.234121          0   Среднее             1   \n",
       "149           0    2664.273168          0   среднее             1   \n",
       "270           3    1872.663186          0   среднее             1   \n",
       "578           0   16577.356876          0   среднее             1   \n",
       "1040          0    1158.029561          0    высшее             0   \n",
       "...         ...            ...        ...       ...           ...   \n",
       "19829         0    1203.369529          0   среднее             1   \n",
       "20462         0   14113.952856          0   среднее             1   \n",
       "20577         0   13822.552977          0   среднее             1   \n",
       "21179         2     108.967042          0    высшее             0   \n",
       "21313         0    1268.487728          0   среднее             1   \n",
       "\n",
       "               family_status  family_status_id gender income_type  debt  \\\n",
       "99           женат / замужем                 0      F   пенсионер     0   \n",
       "149                в разводе                 3      F   сотрудник     0   \n",
       "270          женат / замужем                 0      F   сотрудник     0   \n",
       "578          женат / замужем                 0      F   пенсионер     0   \n",
       "1040               в разводе                 3      F   компаньон     0   \n",
       "...                      ...               ...    ...         ...   ...   \n",
       "19829        женат / замужем                 0      F   сотрудник     0   \n",
       "20462        женат / замужем                 0      F   пенсионер     0   \n",
       "20577  Не женат / не замужем                 4      F   пенсионер     0   \n",
       "21179        женат / замужем                 0      M   компаньон     0   \n",
       "21313  Не женат / не замужем                 4      M   сотрудник     0   \n",
       "\n",
       "        total_income                                 purpose  \n",
       "99      71291.522491                              автомобиль  \n",
       "149     70176.435951                       операции с жильем  \n",
       "270    102166.458894                            ремонт жилью  \n",
       "578     97620.687042  строительство собственной недвижимости  \n",
       "1040   303994.134987                         свой автомобиль  \n",
       "...              ...                                     ...  \n",
       "19829  145017.937533                                   жилье  \n",
       "20462  259193.920299                    покупка своего жилья  \n",
       "20577  129788.762899                            недвижимость  \n",
       "21179  240702.007382        строительство жилой недвижимости  \n",
       "21313  152419.184851                       операции с жильем  \n",
       "\n",
       "[101 rows x 12 columns]"
      ]
     },
     "metadata": {},
     "output_type": "display_data"
    }
   ],
   "source": [
    "display(df.loc[df['dob_years'] < 1])"
   ]
  },
  {
   "cell_type": "markdown",
   "id": "c370b546",
   "metadata": {},
   "source": [
    "101 Заемщик с возрастом 0, хотя они не безработные. Скорее всего \"0\" использовался для заполнения пропущенных значений возраста."
   ]
  },
  {
   "cell_type": "markdown",
   "id": "70c6fcd8",
   "metadata": {},
   "source": [
    "В столбце `children` имеются отрицательные значения количества детей, что не может соответствовать действительности."
   ]
  },
  {
   "cell_type": "code",
   "execution_count": 21,
   "id": "50bbcf1a",
   "metadata": {},
   "outputs": [
    {
     "data": {
      "text/plain": [
       " 0     14149\n",
       " 1      4818\n",
       " 2      2055\n",
       " 3       330\n",
       " 20       76\n",
       "-1        47\n",
       " 4        41\n",
       " 5         9\n",
       "Name: children, dtype: int64"
      ]
     },
     "execution_count": 21,
     "metadata": {},
     "output_type": "execute_result"
    }
   ],
   "source": [
    "# проверяем количество значений столбца 'children'\n",
    "df['children'].value_counts()"
   ]
  },
  {
   "cell_type": "markdown",
   "id": "17bca82d",
   "metadata": {},
   "source": [
    "В столбце `children` - количество детей не может быть отрицательным, так же значение 20 детей выглядит как выброс."
   ]
  },
  {
   "cell_type": "code",
   "execution_count": 22,
   "id": "91786acb",
   "metadata": {},
   "outputs": [
    {
     "data": {
      "text/plain": [
       "0    14149\n",
       "1     4865\n",
       "2     2131\n",
       "3      330\n",
       "4       41\n",
       "5        9\n",
       "Name: children, dtype: int64"
      ]
     },
     "execution_count": 22,
     "metadata": {},
     "output_type": "execute_result"
    }
   ],
   "source": [
    "# заменим значение 20 на значение 2 и замена отрицательных значений на положительные\n",
    "df['children'] = df['children'].abs().replace(20,2)\n",
    "# проверяем количество значений столбца 'children'\n",
    "df['children'].value_counts()"
   ]
  },
  {
   "cell_type": "markdown",
   "id": "cdd92dca",
   "metadata": {},
   "source": [
    "**Выводы**\n",
    "\n",
    "В столбце `children` найдены и исправлены отрицательные значения и значение в 20 детей, скорее всего имело место опечатка и подразумевалось 2 детей. \n",
    "В столбце `days_employed` найдены и исправлены отрицательные значения трудового стажа и значения стажа, превышающие возраст клиентов. Значения, превышающие возраст клиента встречаются только у пенсионеров и безработных, возможно они были выражены в часах.\n",
    "В столбце `dob_years` найден 101 клиент с возрастом \"0\", что скорее всего вызывно использованием 0 в качестве значения пропуска. "
   ]
  },
  {
   "cell_type": "markdown",
   "id": "f76bd6e7",
   "metadata": {},
   "source": [
    "### Шаг 2.3. Изменение типов данных. "
   ]
  },
  {
   "cell_type": "markdown",
   "id": "cef02158",
   "metadata": {},
   "source": [
    "Заменим вещественный тип данных в столбце total_income на целочисленный с помощью метода astype()."
   ]
  },
  {
   "cell_type": "code",
   "execution_count": 23,
   "id": "207a4473",
   "metadata": {},
   "outputs": [
    {
     "data": {
      "text/plain": [
       "0        253875\n",
       "1        112080\n",
       "2        145885\n",
       "3        267628\n",
       "4        158616\n",
       "          ...  \n",
       "21520    224791\n",
       "21521    155999\n",
       "21522     89672\n",
       "21523    244093\n",
       "21524     82047\n",
       "Name: total_income, Length: 21525, dtype: int64"
      ]
     },
     "metadata": {},
     "output_type": "display_data"
    }
   ],
   "source": [
    "df['total_income'] = df['total_income'].astype('int')\n",
    "display(df['total_income'])"
   ]
  },
  {
   "cell_type": "markdown",
   "id": "5ccb0155",
   "metadata": {},
   "source": [
    "Стаж в днях тоже можно заменить на целочисленные значения выраженные в годах для удобства"
   ]
  },
  {
   "cell_type": "code",
   "execution_count": 24,
   "id": "a8ca89f9",
   "metadata": {},
   "outputs": [
    {
     "data": {
      "text/html": [
       "<div>\n",
       "<style scoped>\n",
       "    .dataframe tbody tr th:only-of-type {\n",
       "        vertical-align: middle;\n",
       "    }\n",
       "\n",
       "    .dataframe tbody tr th {\n",
       "        vertical-align: top;\n",
       "    }\n",
       "\n",
       "    .dataframe thead th {\n",
       "        text-align: right;\n",
       "    }\n",
       "</style>\n",
       "<table border=\"1\" class=\"dataframe\">\n",
       "  <thead>\n",
       "    <tr style=\"text-align: right;\">\n",
       "      <th></th>\n",
       "      <th>children</th>\n",
       "      <th>years_employed</th>\n",
       "      <th>dob_years</th>\n",
       "      <th>education</th>\n",
       "      <th>education_id</th>\n",
       "      <th>family_status</th>\n",
       "      <th>family_status_id</th>\n",
       "      <th>gender</th>\n",
       "      <th>income_type</th>\n",
       "      <th>debt</th>\n",
       "      <th>total_income</th>\n",
       "      <th>purpose</th>\n",
       "    </tr>\n",
       "  </thead>\n",
       "  <tbody>\n",
       "    <tr>\n",
       "      <td>0</td>\n",
       "      <td>1</td>\n",
       "      <td>23</td>\n",
       "      <td>42</td>\n",
       "      <td>высшее</td>\n",
       "      <td>0</td>\n",
       "      <td>женат / замужем</td>\n",
       "      <td>0</td>\n",
       "      <td>F</td>\n",
       "      <td>сотрудник</td>\n",
       "      <td>0</td>\n",
       "      <td>253875</td>\n",
       "      <td>покупка жилья</td>\n",
       "    </tr>\n",
       "    <tr>\n",
       "      <td>1</td>\n",
       "      <td>1</td>\n",
       "      <td>11</td>\n",
       "      <td>36</td>\n",
       "      <td>среднее</td>\n",
       "      <td>1</td>\n",
       "      <td>женат / замужем</td>\n",
       "      <td>0</td>\n",
       "      <td>F</td>\n",
       "      <td>сотрудник</td>\n",
       "      <td>0</td>\n",
       "      <td>112080</td>\n",
       "      <td>приобретение автомобиля</td>\n",
       "    </tr>\n",
       "    <tr>\n",
       "      <td>2</td>\n",
       "      <td>0</td>\n",
       "      <td>15</td>\n",
       "      <td>33</td>\n",
       "      <td>Среднее</td>\n",
       "      <td>1</td>\n",
       "      <td>женат / замужем</td>\n",
       "      <td>0</td>\n",
       "      <td>M</td>\n",
       "      <td>сотрудник</td>\n",
       "      <td>0</td>\n",
       "      <td>145885</td>\n",
       "      <td>покупка жилья</td>\n",
       "    </tr>\n",
       "    <tr>\n",
       "      <td>3</td>\n",
       "      <td>3</td>\n",
       "      <td>11</td>\n",
       "      <td>32</td>\n",
       "      <td>среднее</td>\n",
       "      <td>1</td>\n",
       "      <td>женат / замужем</td>\n",
       "      <td>0</td>\n",
       "      <td>M</td>\n",
       "      <td>сотрудник</td>\n",
       "      <td>0</td>\n",
       "      <td>267628</td>\n",
       "      <td>дополнительное образование</td>\n",
       "    </tr>\n",
       "    <tr>\n",
       "      <td>4</td>\n",
       "      <td>0</td>\n",
       "      <td>38</td>\n",
       "      <td>53</td>\n",
       "      <td>среднее</td>\n",
       "      <td>1</td>\n",
       "      <td>гражданский брак</td>\n",
       "      <td>1</td>\n",
       "      <td>F</td>\n",
       "      <td>пенсионер</td>\n",
       "      <td>0</td>\n",
       "      <td>158616</td>\n",
       "      <td>сыграть свадьбу</td>\n",
       "    </tr>\n",
       "  </tbody>\n",
       "</table>\n",
       "</div>"
      ],
      "text/plain": [
       "   children  years_employed  dob_years education  education_id  \\\n",
       "0         1              23         42    высшее             0   \n",
       "1         1              11         36   среднее             1   \n",
       "2         0              15         33   Среднее             1   \n",
       "3         3              11         32   среднее             1   \n",
       "4         0              38         53   среднее             1   \n",
       "\n",
       "      family_status  family_status_id gender income_type  debt  total_income  \\\n",
       "0   женат / замужем                 0      F   сотрудник     0        253875   \n",
       "1   женат / замужем                 0      F   сотрудник     0        112080   \n",
       "2   женат / замужем                 0      M   сотрудник     0        145885   \n",
       "3   женат / замужем                 0      M   сотрудник     0        267628   \n",
       "4  гражданский брак                 1      F   пенсионер     0        158616   \n",
       "\n",
       "                      purpose  \n",
       "0               покупка жилья  \n",
       "1     приобретение автомобиля  \n",
       "2               покупка жилья  \n",
       "3  дополнительное образование  \n",
       "4             сыграть свадьбу  "
      ]
     },
     "execution_count": 24,
     "metadata": {},
     "output_type": "execute_result"
    }
   ],
   "source": [
    "# переименовываем заголовок столбца 'days_employed' на 'years_employed' \n",
    "df.rename(columns = {'days_employed':'years_employed'}, inplace = True)\n",
    "# выражаем значения стажа в годах\n",
    "df['years_employed'] = df['years_employed']/365\n",
    "# меняем тип данных на целочисленные значения\n",
    "df['years_employed'] = df['years_employed'].astype('int')\n",
    "df.head()"
   ]
  },
  {
   "cell_type": "markdown",
   "id": "974dd26f",
   "metadata": {},
   "source": [
    "**Выводы**\n",
    "\n",
    "Заменили тип данных ежемесячного дохода на целочисленные значения.\n",
    "Заменили тип данных трудового стажа с вещественны значений в днях на целочисленные значения в годах с заменой соответствующего заголовка столбца. "
   ]
  },
  {
   "cell_type": "markdown",
   "id": "120db93f",
   "metadata": {},
   "source": [
    "### Шаг 2.4. Удаление дубликатов."
   ]
  },
  {
   "cell_type": "markdown",
   "id": "2da29802",
   "metadata": {},
   "source": [
    "Проверим значения в столбце `education`  на наличие дубликатов "
   ]
  },
  {
   "cell_type": "code",
   "execution_count": 25,
   "id": "c4c957e8",
   "metadata": {},
   "outputs": [
    {
     "data": {
      "text/plain": [
       "среднее                13750\n",
       "высшее                  4718\n",
       "СРЕДНЕЕ                  772\n",
       "Среднее                  711\n",
       "неоконченное высшее      668\n",
       "ВЫСШЕЕ                   274\n",
       "Высшее                   268\n",
       "начальное                250\n",
       "Неоконченное высшее       47\n",
       "НЕОКОНЧЕННОЕ ВЫСШЕЕ       29\n",
       "НАЧАЛЬНОЕ                 17\n",
       "Начальное                 15\n",
       "ученая степень             4\n",
       "УЧЕНАЯ СТЕПЕНЬ             1\n",
       "Ученая степень             1\n",
       "Name: education, dtype: int64"
      ]
     },
     "metadata": {},
     "output_type": "display_data"
    }
   ],
   "source": [
    "display(df['education'].value_counts())"
   ]
  },
  {
   "cell_type": "markdown",
   "id": "f88eb125",
   "metadata": {},
   "source": [
    "Заменим явные дубликаты, с учетом регистра, в столбце `education`"
   ]
  },
  {
   "cell_type": "code",
   "execution_count": 26,
   "id": "3b47776f",
   "metadata": {},
   "outputs": [
    {
     "data": {
      "text/plain": [
       "среднее                15233\n",
       "высшее                  5260\n",
       "неоконченное высшее      744\n",
       "начальное                282\n",
       "ученая степень             6\n",
       "Name: education, dtype: int64"
      ]
     },
     "metadata": {},
     "output_type": "display_data"
    }
   ],
   "source": [
    "df['education'] = df['education'].str.lower()\n",
    "display(df['education'].value_counts())"
   ]
  },
  {
   "cell_type": "markdown",
   "id": "528d6ac9",
   "metadata": {},
   "source": [
    "Проверим значения в столбце `income_type` на наличие дубликатов"
   ]
  },
  {
   "cell_type": "code",
   "execution_count": 27,
   "id": "08a67c0b",
   "metadata": {},
   "outputs": [
    {
     "data": {
      "text/plain": [
       "сотрудник          11119\n",
       "компаньон           5085\n",
       "пенсионер           3856\n",
       "госслужащий         1459\n",
       "предприниматель        2\n",
       "безработный            2\n",
       "в декрете              1\n",
       "студент                1\n",
       "Name: income_type, dtype: int64"
      ]
     },
     "metadata": {},
     "output_type": "display_data"
    }
   ],
   "source": [
    "display(df['income_type'].value_counts())"
   ]
  },
  {
   "cell_type": "markdown",
   "id": "7a44f10f",
   "metadata": {},
   "source": [
    "В столбце `income_type` дубликатов не выявлено"
   ]
  },
  {
   "cell_type": "markdown",
   "id": "ce503ba6",
   "metadata": {},
   "source": [
    "Проверим значения в столбце `purpose` на наличие дубликатов"
   ]
  },
  {
   "cell_type": "code",
   "execution_count": 28,
   "id": "64dda335",
   "metadata": {},
   "outputs": [
    {
     "data": {
      "text/plain": [
       "свадьба                                   797\n",
       "на проведение свадьбы                     777\n",
       "сыграть свадьбу                           774\n",
       "операции с недвижимостью                  676\n",
       "покупка коммерческой недвижимости         664\n",
       "операции с жильем                         653\n",
       "покупка жилья для сдачи                   653\n",
       "операции с коммерческой недвижимостью     651\n",
       "покупка жилья                             647\n",
       "жилье                                     647\n",
       "покупка жилья для семьи                   641\n",
       "строительство собственной недвижимости    635\n",
       "недвижимость                              634\n",
       "операции со своей недвижимостью           630\n",
       "строительство жилой недвижимости          626\n",
       "покупка недвижимости                      624\n",
       "строительство недвижимости                620\n",
       "покупка своего жилья                      620\n",
       "ремонт жилью                              612\n",
       "покупка жилой недвижимости                607\n",
       "на покупку своего автомобиля              505\n",
       "заняться высшим образованием              496\n",
       "автомобиль                                495\n",
       "сделка с подержанным автомобилем          489\n",
       "свой автомобиль                           480\n",
       "на покупку подержанного автомобиля        479\n",
       "автомобили                                478\n",
       "на покупку автомобиля                     472\n",
       "дополнительное образование                462\n",
       "приобретение автомобиля                   462\n",
       "сделка с автомобилем                      455\n",
       "высшее образование                        453\n",
       "образование                               447\n",
       "получение дополнительного образования     447\n",
       "получение образования                     443\n",
       "профильное образование                    436\n",
       "получение высшего образования             426\n",
       "заняться образованием                     412\n",
       "Name: purpose, dtype: int64"
      ]
     },
     "metadata": {},
     "output_type": "display_data"
    }
   ],
   "source": [
    "display(df['purpose'].value_counts())"
   ]
  },
  {
   "cell_type": "markdown",
   "id": "9ece963f",
   "metadata": {},
   "source": [
    "Удалим явные дубликаты"
   ]
  },
  {
   "cell_type": "code",
   "execution_count": 29,
   "id": "5b1ab460",
   "metadata": {},
   "outputs": [],
   "source": [
    "df = df.drop_duplicates().reset_index(drop=True)"
   ]
  },
  {
   "cell_type": "markdown",
   "id": "145f6a32",
   "metadata": {},
   "source": [
    "**Выводы**\n",
    "\n",
    "Дубликаты обнаружены в столбце `education` с помощью метода value_counts(). Значения в данном столбце были приведены к нижнему регистру, после чего во всем датасете были удалены явные дубликаты. Причиной появления дубликатов могло быть ручное заполнение формы т.к. значения были введены с разным регистром."
   ]
  },
  {
   "cell_type": "markdown",
   "id": "beb0f557",
   "metadata": {},
   "source": [
    "### Шаг 2.5. Формирование дополнительных датафреймов словарей, декомпозиция исходного датафрейма."
   ]
  },
  {
   "cell_type": "markdown",
   "id": "fa421779",
   "metadata": {},
   "source": [
    "Создаем новый датафрейм со столбцами: education_id и education."
   ]
  },
  {
   "cell_type": "code",
   "execution_count": 30,
   "id": "a5ac8099",
   "metadata": {},
   "outputs": [
    {
     "data": {
      "text/html": [
       "<div>\n",
       "<style scoped>\n",
       "    .dataframe tbody tr th:only-of-type {\n",
       "        vertical-align: middle;\n",
       "    }\n",
       "\n",
       "    .dataframe tbody tr th {\n",
       "        vertical-align: top;\n",
       "    }\n",
       "\n",
       "    .dataframe thead th {\n",
       "        text-align: right;\n",
       "    }\n",
       "</style>\n",
       "<table border=\"1\" class=\"dataframe\">\n",
       "  <thead>\n",
       "    <tr style=\"text-align: right;\">\n",
       "      <th></th>\n",
       "      <th>education_id</th>\n",
       "      <th>education</th>\n",
       "    </tr>\n",
       "  </thead>\n",
       "  <tbody>\n",
       "    <tr>\n",
       "      <td>0</td>\n",
       "      <td>0</td>\n",
       "      <td>высшее</td>\n",
       "    </tr>\n",
       "    <tr>\n",
       "      <td>1</td>\n",
       "      <td>1</td>\n",
       "      <td>среднее</td>\n",
       "    </tr>\n",
       "    <tr>\n",
       "      <td>2</td>\n",
       "      <td>2</td>\n",
       "      <td>неоконченное высшее</td>\n",
       "    </tr>\n",
       "    <tr>\n",
       "      <td>3</td>\n",
       "      <td>3</td>\n",
       "      <td>начальное</td>\n",
       "    </tr>\n",
       "    <tr>\n",
       "      <td>4</td>\n",
       "      <td>4</td>\n",
       "      <td>ученая степень</td>\n",
       "    </tr>\n",
       "  </tbody>\n",
       "</table>\n",
       "</div>"
      ],
      "text/plain": [
       "   education_id            education\n",
       "0             0               высшее\n",
       "1             1              среднее\n",
       "2             2  неоконченное высшее\n",
       "3             3            начальное\n",
       "4             4       ученая степень"
      ]
     },
     "metadata": {},
     "output_type": "display_data"
    }
   ],
   "source": [
    "# Создаём новый датафрейм со столбцами: education_id и education\n",
    "education_dict = df[['education_id', 'education']]\n",
    "education_dict = education_dict.drop_duplicates().reset_index(drop=True)\n",
    "display(education_dict.sort_values('education_id'))"
   ]
  },
  {
   "cell_type": "markdown",
   "id": "6c8394bf",
   "metadata": {},
   "source": [
    "Создаем новый датафрейм со столбцами: family_status_id и family_status."
   ]
  },
  {
   "cell_type": "code",
   "execution_count": 31,
   "id": "392f2505",
   "metadata": {},
   "outputs": [
    {
     "data": {
      "text/html": [
       "<div>\n",
       "<style scoped>\n",
       "    .dataframe tbody tr th:only-of-type {\n",
       "        vertical-align: middle;\n",
       "    }\n",
       "\n",
       "    .dataframe tbody tr th {\n",
       "        vertical-align: top;\n",
       "    }\n",
       "\n",
       "    .dataframe thead th {\n",
       "        text-align: right;\n",
       "    }\n",
       "</style>\n",
       "<table border=\"1\" class=\"dataframe\">\n",
       "  <thead>\n",
       "    <tr style=\"text-align: right;\">\n",
       "      <th></th>\n",
       "      <th>family_status_id</th>\n",
       "      <th>family_status</th>\n",
       "    </tr>\n",
       "  </thead>\n",
       "  <tbody>\n",
       "    <tr>\n",
       "      <td>0</td>\n",
       "      <td>0</td>\n",
       "      <td>женат / замужем</td>\n",
       "    </tr>\n",
       "    <tr>\n",
       "      <td>1</td>\n",
       "      <td>1</td>\n",
       "      <td>гражданский брак</td>\n",
       "    </tr>\n",
       "    <tr>\n",
       "      <td>2</td>\n",
       "      <td>2</td>\n",
       "      <td>вдовец / вдова</td>\n",
       "    </tr>\n",
       "    <tr>\n",
       "      <td>3</td>\n",
       "      <td>3</td>\n",
       "      <td>в разводе</td>\n",
       "    </tr>\n",
       "    <tr>\n",
       "      <td>4</td>\n",
       "      <td>4</td>\n",
       "      <td>Не женат / не замужем</td>\n",
       "    </tr>\n",
       "  </tbody>\n",
       "</table>\n",
       "</div>"
      ],
      "text/plain": [
       "   family_status_id          family_status\n",
       "0                 0        женат / замужем\n",
       "1                 1       гражданский брак\n",
       "2                 2         вдовец / вдова\n",
       "3                 3              в разводе\n",
       "4                 4  Не женат / не замужем"
      ]
     },
     "metadata": {},
     "output_type": "display_data"
    }
   ],
   "source": [
    "# Создаём новый датафрейм со столбцами: family_status_id и family_status\n",
    "family_dict = df[['family_status_id', 'family_status']]\n",
    "family_dict = family_dict.drop_duplicates().reset_index(drop=True)\n",
    "display(family_dict.sort_values('family_status_id'))"
   ]
  },
  {
   "cell_type": "markdown",
   "id": "788d5548",
   "metadata": {},
   "source": [
    "Удаляем из исходного датафрейма столбцы education и family_status, оставив только их идентификаторы: education_id и family_status_id. "
   ]
  },
  {
   "cell_type": "code",
   "execution_count": 32,
   "id": "140129e7",
   "metadata": {},
   "outputs": [
    {
     "data": {
      "text/html": [
       "<div>\n",
       "<style scoped>\n",
       "    .dataframe tbody tr th:only-of-type {\n",
       "        vertical-align: middle;\n",
       "    }\n",
       "\n",
       "    .dataframe tbody tr th {\n",
       "        vertical-align: top;\n",
       "    }\n",
       "\n",
       "    .dataframe thead th {\n",
       "        text-align: right;\n",
       "    }\n",
       "</style>\n",
       "<table border=\"1\" class=\"dataframe\">\n",
       "  <thead>\n",
       "    <tr style=\"text-align: right;\">\n",
       "      <th></th>\n",
       "      <th>children</th>\n",
       "      <th>years_employed</th>\n",
       "      <th>dob_years</th>\n",
       "      <th>education_id</th>\n",
       "      <th>family_status_id</th>\n",
       "      <th>gender</th>\n",
       "      <th>income_type</th>\n",
       "      <th>debt</th>\n",
       "      <th>total_income</th>\n",
       "      <th>purpose</th>\n",
       "    </tr>\n",
       "  </thead>\n",
       "  <tbody>\n",
       "    <tr>\n",
       "      <td>0</td>\n",
       "      <td>1</td>\n",
       "      <td>23</td>\n",
       "      <td>42</td>\n",
       "      <td>0</td>\n",
       "      <td>0</td>\n",
       "      <td>F</td>\n",
       "      <td>сотрудник</td>\n",
       "      <td>0</td>\n",
       "      <td>253875</td>\n",
       "      <td>покупка жилья</td>\n",
       "    </tr>\n",
       "    <tr>\n",
       "      <td>1</td>\n",
       "      <td>1</td>\n",
       "      <td>11</td>\n",
       "      <td>36</td>\n",
       "      <td>1</td>\n",
       "      <td>0</td>\n",
       "      <td>F</td>\n",
       "      <td>сотрудник</td>\n",
       "      <td>0</td>\n",
       "      <td>112080</td>\n",
       "      <td>приобретение автомобиля</td>\n",
       "    </tr>\n",
       "    <tr>\n",
       "      <td>2</td>\n",
       "      <td>0</td>\n",
       "      <td>15</td>\n",
       "      <td>33</td>\n",
       "      <td>1</td>\n",
       "      <td>0</td>\n",
       "      <td>M</td>\n",
       "      <td>сотрудник</td>\n",
       "      <td>0</td>\n",
       "      <td>145885</td>\n",
       "      <td>покупка жилья</td>\n",
       "    </tr>\n",
       "    <tr>\n",
       "      <td>3</td>\n",
       "      <td>3</td>\n",
       "      <td>11</td>\n",
       "      <td>32</td>\n",
       "      <td>1</td>\n",
       "      <td>0</td>\n",
       "      <td>M</td>\n",
       "      <td>сотрудник</td>\n",
       "      <td>0</td>\n",
       "      <td>267628</td>\n",
       "      <td>дополнительное образование</td>\n",
       "    </tr>\n",
       "    <tr>\n",
       "      <td>4</td>\n",
       "      <td>0</td>\n",
       "      <td>38</td>\n",
       "      <td>53</td>\n",
       "      <td>1</td>\n",
       "      <td>1</td>\n",
       "      <td>F</td>\n",
       "      <td>пенсионер</td>\n",
       "      <td>0</td>\n",
       "      <td>158616</td>\n",
       "      <td>сыграть свадьбу</td>\n",
       "    </tr>\n",
       "  </tbody>\n",
       "</table>\n",
       "</div>"
      ],
      "text/plain": [
       "   children  years_employed  dob_years  education_id  family_status_id gender  \\\n",
       "0         1              23         42             0                 0      F   \n",
       "1         1              11         36             1                 0      F   \n",
       "2         0              15         33             1                 0      M   \n",
       "3         3              11         32             1                 0      M   \n",
       "4         0              38         53             1                 1      F   \n",
       "\n",
       "  income_type  debt  total_income                     purpose  \n",
       "0   сотрудник     0        253875               покупка жилья  \n",
       "1   сотрудник     0        112080     приобретение автомобиля  \n",
       "2   сотрудник     0        145885               покупка жилья  \n",
       "3   сотрудник     0        267628  дополнительное образование  \n",
       "4   пенсионер     0        158616             сыграть свадьбу  "
      ]
     },
     "execution_count": 32,
     "metadata": {},
     "output_type": "execute_result"
    }
   ],
   "source": [
    "df = df.drop(columns=['education', 'family_status'])\n",
    "df.head()"
   ]
  },
  {
   "cell_type": "markdown",
   "id": "9e53ce8a",
   "metadata": {},
   "source": [
    "**Выводы**\n",
    "\n",
    "Создали два новых датафреймы `education_dict` и `family_dict` —  это те самые «словари», к которым можно обращаться по идентификатору."
   ]
  },
  {
   "cell_type": "markdown",
   "id": "22d5aefa",
   "metadata": {},
   "source": [
    "### Шаг 2.6. Категоризация дохода."
   ]
  },
  {
   "cell_type": "markdown",
   "id": "f3941d2b",
   "metadata": {},
   "source": [
    "Создадим функцию для категоризации дохода."
   ]
  },
  {
   "cell_type": "code",
   "execution_count": 33,
   "id": "aef60143",
   "metadata": {},
   "outputs": [],
   "source": [
    "# функция с категоризацией дохода (на входе доход на выходе категория)\n",
    "def total_income_group (income):\n",
    "    if income < 30000:\n",
    "        return 'E'\n",
    "    elif income < 50000:\n",
    "        return 'D'\n",
    "    elif income < 200000:\n",
    "        return 'C'        \n",
    "    elif income < 1000000:\n",
    "        return 'B'  \n",
    "    else:\n",
    "        return 'A'"
   ]
  },
  {
   "cell_type": "markdown",
   "id": "180a3af6",
   "metadata": {},
   "source": [
    "Создадим столбец `total_income_category` со значениями категорий."
   ]
  },
  {
   "cell_type": "code",
   "execution_count": 34,
   "id": "8ce2cf26",
   "metadata": {},
   "outputs": [
    {
     "data": {
      "text/html": [
       "<div>\n",
       "<style scoped>\n",
       "    .dataframe tbody tr th:only-of-type {\n",
       "        vertical-align: middle;\n",
       "    }\n",
       "\n",
       "    .dataframe tbody tr th {\n",
       "        vertical-align: top;\n",
       "    }\n",
       "\n",
       "    .dataframe thead th {\n",
       "        text-align: right;\n",
       "    }\n",
       "</style>\n",
       "<table border=\"1\" class=\"dataframe\">\n",
       "  <thead>\n",
       "    <tr style=\"text-align: right;\">\n",
       "      <th></th>\n",
       "      <th>children</th>\n",
       "      <th>years_employed</th>\n",
       "      <th>dob_years</th>\n",
       "      <th>education_id</th>\n",
       "      <th>family_status_id</th>\n",
       "      <th>gender</th>\n",
       "      <th>income_type</th>\n",
       "      <th>debt</th>\n",
       "      <th>total_income</th>\n",
       "      <th>purpose</th>\n",
       "      <th>total_income_category</th>\n",
       "    </tr>\n",
       "  </thead>\n",
       "  <tbody>\n",
       "    <tr>\n",
       "      <td>0</td>\n",
       "      <td>1</td>\n",
       "      <td>23</td>\n",
       "      <td>42</td>\n",
       "      <td>0</td>\n",
       "      <td>0</td>\n",
       "      <td>F</td>\n",
       "      <td>сотрудник</td>\n",
       "      <td>0</td>\n",
       "      <td>253875</td>\n",
       "      <td>покупка жилья</td>\n",
       "      <td>B</td>\n",
       "    </tr>\n",
       "    <tr>\n",
       "      <td>1</td>\n",
       "      <td>1</td>\n",
       "      <td>11</td>\n",
       "      <td>36</td>\n",
       "      <td>1</td>\n",
       "      <td>0</td>\n",
       "      <td>F</td>\n",
       "      <td>сотрудник</td>\n",
       "      <td>0</td>\n",
       "      <td>112080</td>\n",
       "      <td>приобретение автомобиля</td>\n",
       "      <td>C</td>\n",
       "    </tr>\n",
       "    <tr>\n",
       "      <td>2</td>\n",
       "      <td>0</td>\n",
       "      <td>15</td>\n",
       "      <td>33</td>\n",
       "      <td>1</td>\n",
       "      <td>0</td>\n",
       "      <td>M</td>\n",
       "      <td>сотрудник</td>\n",
       "      <td>0</td>\n",
       "      <td>145885</td>\n",
       "      <td>покупка жилья</td>\n",
       "      <td>C</td>\n",
       "    </tr>\n",
       "    <tr>\n",
       "      <td>3</td>\n",
       "      <td>3</td>\n",
       "      <td>11</td>\n",
       "      <td>32</td>\n",
       "      <td>1</td>\n",
       "      <td>0</td>\n",
       "      <td>M</td>\n",
       "      <td>сотрудник</td>\n",
       "      <td>0</td>\n",
       "      <td>267628</td>\n",
       "      <td>дополнительное образование</td>\n",
       "      <td>B</td>\n",
       "    </tr>\n",
       "    <tr>\n",
       "      <td>4</td>\n",
       "      <td>0</td>\n",
       "      <td>38</td>\n",
       "      <td>53</td>\n",
       "      <td>1</td>\n",
       "      <td>1</td>\n",
       "      <td>F</td>\n",
       "      <td>пенсионер</td>\n",
       "      <td>0</td>\n",
       "      <td>158616</td>\n",
       "      <td>сыграть свадьбу</td>\n",
       "      <td>C</td>\n",
       "    </tr>\n",
       "    <tr>\n",
       "      <td>5</td>\n",
       "      <td>0</td>\n",
       "      <td>2</td>\n",
       "      <td>27</td>\n",
       "      <td>0</td>\n",
       "      <td>1</td>\n",
       "      <td>M</td>\n",
       "      <td>компаньон</td>\n",
       "      <td>0</td>\n",
       "      <td>255763</td>\n",
       "      <td>покупка жилья</td>\n",
       "      <td>B</td>\n",
       "    </tr>\n",
       "    <tr>\n",
       "      <td>6</td>\n",
       "      <td>0</td>\n",
       "      <td>7</td>\n",
       "      <td>43</td>\n",
       "      <td>0</td>\n",
       "      <td>0</td>\n",
       "      <td>F</td>\n",
       "      <td>компаньон</td>\n",
       "      <td>0</td>\n",
       "      <td>240525</td>\n",
       "      <td>операции с жильем</td>\n",
       "      <td>B</td>\n",
       "    </tr>\n",
       "    <tr>\n",
       "      <td>7</td>\n",
       "      <td>0</td>\n",
       "      <td>0</td>\n",
       "      <td>50</td>\n",
       "      <td>1</td>\n",
       "      <td>0</td>\n",
       "      <td>M</td>\n",
       "      <td>сотрудник</td>\n",
       "      <td>0</td>\n",
       "      <td>135823</td>\n",
       "      <td>образование</td>\n",
       "      <td>C</td>\n",
       "    </tr>\n",
       "    <tr>\n",
       "      <td>8</td>\n",
       "      <td>2</td>\n",
       "      <td>18</td>\n",
       "      <td>35</td>\n",
       "      <td>0</td>\n",
       "      <td>1</td>\n",
       "      <td>F</td>\n",
       "      <td>сотрудник</td>\n",
       "      <td>0</td>\n",
       "      <td>95856</td>\n",
       "      <td>на проведение свадьбы</td>\n",
       "      <td>C</td>\n",
       "    </tr>\n",
       "    <tr>\n",
       "      <td>9</td>\n",
       "      <td>0</td>\n",
       "      <td>5</td>\n",
       "      <td>41</td>\n",
       "      <td>1</td>\n",
       "      <td>0</td>\n",
       "      <td>M</td>\n",
       "      <td>сотрудник</td>\n",
       "      <td>0</td>\n",
       "      <td>144425</td>\n",
       "      <td>покупка жилья для семьи</td>\n",
       "      <td>C</td>\n",
       "    </tr>\n",
       "  </tbody>\n",
       "</table>\n",
       "</div>"
      ],
      "text/plain": [
       "   children  years_employed  dob_years  education_id  family_status_id gender  \\\n",
       "0         1              23         42             0                 0      F   \n",
       "1         1              11         36             1                 0      F   \n",
       "2         0              15         33             1                 0      M   \n",
       "3         3              11         32             1                 0      M   \n",
       "4         0              38         53             1                 1      F   \n",
       "5         0               2         27             0                 1      M   \n",
       "6         0               7         43             0                 0      F   \n",
       "7         0               0         50             1                 0      M   \n",
       "8         2              18         35             0                 1      F   \n",
       "9         0               5         41             1                 0      M   \n",
       "\n",
       "  income_type  debt  total_income                     purpose  \\\n",
       "0   сотрудник     0        253875               покупка жилья   \n",
       "1   сотрудник     0        112080     приобретение автомобиля   \n",
       "2   сотрудник     0        145885               покупка жилья   \n",
       "3   сотрудник     0        267628  дополнительное образование   \n",
       "4   пенсионер     0        158616             сыграть свадьбу   \n",
       "5   компаньон     0        255763               покупка жилья   \n",
       "6   компаньон     0        240525           операции с жильем   \n",
       "7   сотрудник     0        135823                 образование   \n",
       "8   сотрудник     0         95856       на проведение свадьбы   \n",
       "9   сотрудник     0        144425     покупка жилья для семьи   \n",
       "\n",
       "  total_income_category  \n",
       "0                     B  \n",
       "1                     C  \n",
       "2                     C  \n",
       "3                     B  \n",
       "4                     C  \n",
       "5                     B  \n",
       "6                     B  \n",
       "7                     C  \n",
       "8                     C  \n",
       "9                     C  "
      ]
     },
     "execution_count": 34,
     "metadata": {},
     "output_type": "execute_result"
    }
   ],
   "source": [
    "df['total_income_category'] = df['total_income'].apply(total_income_group)\n",
    "df.head(10)"
   ]
  },
  {
   "cell_type": "code",
   "execution_count": 35,
   "id": "c984d724",
   "metadata": {},
   "outputs": [
    {
     "data": {
      "text/plain": [
       "C    16016\n",
       "B     5041\n",
       "D      350\n",
       "A       25\n",
       "E       22\n",
       "Name: total_income_category, dtype: int64"
      ]
     },
     "execution_count": 35,
     "metadata": {},
     "output_type": "execute_result"
    }
   ],
   "source": [
    "# Проверим количество клиентов в каждой категории\n",
    "df['total_income_category'].value_counts()"
   ]
  },
  {
   "cell_type": "markdown",
   "id": "94c985b4",
   "metadata": {},
   "source": [
    "**Выводы**\n",
    "\n",
    "Был создан столбец total_income_category с категориями доходов клиентов: \n",
    "* 0–30000 — 'E'; \n",
    "* 30001–50000 — 'D'; \n",
    "* 50001–200000 — 'C'; \n",
    "* 200001–1000000 — 'B'; \n",
    "* 1000001 и выше — 'A'. \n",
    "\n",
    "Больше всего клиентов категории 'C' - более 16 тысяч. "
   ]
  },
  {
   "cell_type": "markdown",
   "id": "dff9eb98",
   "metadata": {},
   "source": [
    "### Шаг 2.7. Категоризация целей кредита."
   ]
  },
  {
   "cell_type": "markdown",
   "id": "c9c782d9",
   "metadata": {},
   "source": [
    "Изучим данные в столбце purpose и определим, какие подстроки помогут правильно определить категорию."
   ]
  },
  {
   "cell_type": "code",
   "execution_count": 36,
   "id": "5cfc3fd2",
   "metadata": {},
   "outputs": [
    {
     "data": {
      "text/plain": [
       "свадьба                                   791\n",
       "на проведение свадьбы                     768\n",
       "сыграть свадьбу                           765\n",
       "операции с недвижимостью                  675\n",
       "покупка коммерческой недвижимости         661\n",
       "операции с жильем                         652\n",
       "покупка жилья для сдачи                   651\n",
       "операции с коммерческой недвижимостью     650\n",
       "покупка жилья                             646\n",
       "жилье                                     646\n",
       "покупка жилья для семьи                   638\n",
       "строительство собственной недвижимости    635\n",
       "недвижимость                              633\n",
       "операции со своей недвижимостью           627\n",
       "строительство жилой недвижимости          624\n",
       "покупка недвижимости                      621\n",
       "покупка своего жилья                      620\n",
       "строительство недвижимости                619\n",
       "ремонт жилью                              607\n",
       "покупка жилой недвижимости                606\n",
       "на покупку своего автомобиля              505\n",
       "заняться высшим образованием              496\n",
       "автомобиль                                494\n",
       "сделка с подержанным автомобилем          486\n",
       "на покупку подержанного автомобиля        478\n",
       "автомобили                                478\n",
       "свой автомобиль                           478\n",
       "на покупку автомобиля                     471\n",
       "приобретение автомобиля                   461\n",
       "дополнительное образование                460\n",
       "сделка с автомобилем                      455\n",
       "высшее образование                        452\n",
       "образование                               447\n",
       "получение дополнительного образования     446\n",
       "получение образования                     442\n",
       "профильное образование                    436\n",
       "получение высшего образования             426\n",
       "заняться образованием                     408\n",
       "Name: purpose, dtype: int64"
      ]
     },
     "execution_count": 36,
     "metadata": {},
     "output_type": "execute_result"
    }
   ],
   "source": [
    "df['purpose'].value_counts()"
   ]
  },
  {
   "cell_type": "markdown",
   "id": "bd9d31e4",
   "metadata": {},
   "source": [
    "Создадим функцию для категоризации целей кредита, применяя конструкцию try-except, в случае отсутствия какой либо категории будет выведено соответствующее сообщение."
   ]
  },
  {
   "cell_type": "code",
   "execution_count": 37,
   "id": "27a62b5f",
   "metadata": {},
   "outputs": [],
   "source": [
    "# создадим функцию для категоризации целей кредита (на входе цель кредита, на выходе категория)\n",
    "def purpose_group (purpose):\n",
    "    try:\n",
    "        if 'свадьб' in purpose:\n",
    "            return 'проведение свадьбы'\n",
    "    except:\n",
    "        print('Значений для категории \"проведение свадьбы\" не найдено')\n",
    "    try:\n",
    "        if 'авто' in purpose:\n",
    "            return 'операции с автомобилем'        \n",
    "    except:\n",
    "        print('Значений для категории \"операции с автомобилем\" не найдено')\n",
    "    try:\n",
    "        if 'образ' in purpose:\n",
    "            return 'получение образования'\n",
    "    except:\n",
    "        print('Значений для категории \"получение образования\" не найдено')\n",
    "    try:\n",
    "        if ('недвиж') or ('жил') in purpose:\n",
    "            return 'операции с недвижимостью'\n",
    "    except:\n",
    "        print('Значений для категории \"операции с недвижимостью\" не найдено')"
   ]
  },
  {
   "cell_type": "markdown",
   "id": "54dd86e8",
   "metadata": {},
   "source": [
    "Создадим новый столбец `purpose_category` с категориями целей кредитов."
   ]
  },
  {
   "cell_type": "code",
   "execution_count": 38,
   "id": "b45c665e",
   "metadata": {},
   "outputs": [
    {
     "data": {
      "text/html": [
       "<div>\n",
       "<style scoped>\n",
       "    .dataframe tbody tr th:only-of-type {\n",
       "        vertical-align: middle;\n",
       "    }\n",
       "\n",
       "    .dataframe tbody tr th {\n",
       "        vertical-align: top;\n",
       "    }\n",
       "\n",
       "    .dataframe thead th {\n",
       "        text-align: right;\n",
       "    }\n",
       "</style>\n",
       "<table border=\"1\" class=\"dataframe\">\n",
       "  <thead>\n",
       "    <tr style=\"text-align: right;\">\n",
       "      <th></th>\n",
       "      <th>children</th>\n",
       "      <th>years_employed</th>\n",
       "      <th>dob_years</th>\n",
       "      <th>education_id</th>\n",
       "      <th>family_status_id</th>\n",
       "      <th>gender</th>\n",
       "      <th>income_type</th>\n",
       "      <th>debt</th>\n",
       "      <th>total_income</th>\n",
       "      <th>purpose</th>\n",
       "      <th>total_income_category</th>\n",
       "      <th>purpose_category</th>\n",
       "    </tr>\n",
       "  </thead>\n",
       "  <tbody>\n",
       "    <tr>\n",
       "      <td>0</td>\n",
       "      <td>1</td>\n",
       "      <td>23</td>\n",
       "      <td>42</td>\n",
       "      <td>0</td>\n",
       "      <td>0</td>\n",
       "      <td>F</td>\n",
       "      <td>сотрудник</td>\n",
       "      <td>0</td>\n",
       "      <td>253875</td>\n",
       "      <td>покупка жилья</td>\n",
       "      <td>B</td>\n",
       "      <td>операции с недвижимостью</td>\n",
       "    </tr>\n",
       "    <tr>\n",
       "      <td>1</td>\n",
       "      <td>1</td>\n",
       "      <td>11</td>\n",
       "      <td>36</td>\n",
       "      <td>1</td>\n",
       "      <td>0</td>\n",
       "      <td>F</td>\n",
       "      <td>сотрудник</td>\n",
       "      <td>0</td>\n",
       "      <td>112080</td>\n",
       "      <td>приобретение автомобиля</td>\n",
       "      <td>C</td>\n",
       "      <td>операции с автомобилем</td>\n",
       "    </tr>\n",
       "    <tr>\n",
       "      <td>2</td>\n",
       "      <td>0</td>\n",
       "      <td>15</td>\n",
       "      <td>33</td>\n",
       "      <td>1</td>\n",
       "      <td>0</td>\n",
       "      <td>M</td>\n",
       "      <td>сотрудник</td>\n",
       "      <td>0</td>\n",
       "      <td>145885</td>\n",
       "      <td>покупка жилья</td>\n",
       "      <td>C</td>\n",
       "      <td>операции с недвижимостью</td>\n",
       "    </tr>\n",
       "    <tr>\n",
       "      <td>3</td>\n",
       "      <td>3</td>\n",
       "      <td>11</td>\n",
       "      <td>32</td>\n",
       "      <td>1</td>\n",
       "      <td>0</td>\n",
       "      <td>M</td>\n",
       "      <td>сотрудник</td>\n",
       "      <td>0</td>\n",
       "      <td>267628</td>\n",
       "      <td>дополнительное образование</td>\n",
       "      <td>B</td>\n",
       "      <td>получение образования</td>\n",
       "    </tr>\n",
       "    <tr>\n",
       "      <td>4</td>\n",
       "      <td>0</td>\n",
       "      <td>38</td>\n",
       "      <td>53</td>\n",
       "      <td>1</td>\n",
       "      <td>1</td>\n",
       "      <td>F</td>\n",
       "      <td>пенсионер</td>\n",
       "      <td>0</td>\n",
       "      <td>158616</td>\n",
       "      <td>сыграть свадьбу</td>\n",
       "      <td>C</td>\n",
       "      <td>проведение свадьбы</td>\n",
       "    </tr>\n",
       "  </tbody>\n",
       "</table>\n",
       "</div>"
      ],
      "text/plain": [
       "   children  years_employed  dob_years  education_id  family_status_id gender  \\\n",
       "0         1              23         42             0                 0      F   \n",
       "1         1              11         36             1                 0      F   \n",
       "2         0              15         33             1                 0      M   \n",
       "3         3              11         32             1                 0      M   \n",
       "4         0              38         53             1                 1      F   \n",
       "\n",
       "  income_type  debt  total_income                     purpose  \\\n",
       "0   сотрудник     0        253875               покупка жилья   \n",
       "1   сотрудник     0        112080     приобретение автомобиля   \n",
       "2   сотрудник     0        145885               покупка жилья   \n",
       "3   сотрудник     0        267628  дополнительное образование   \n",
       "4   пенсионер     0        158616             сыграть свадьбу   \n",
       "\n",
       "  total_income_category          purpose_category  \n",
       "0                     B  операции с недвижимостью  \n",
       "1                     C    операции с автомобилем  \n",
       "2                     C  операции с недвижимостью  \n",
       "3                     B     получение образования  \n",
       "4                     C        проведение свадьбы  "
      ]
     },
     "execution_count": 38,
     "metadata": {},
     "output_type": "execute_result"
    }
   ],
   "source": [
    "df['purpose_category'] = df['purpose'].apply(purpose_group)\n",
    "df.head()"
   ]
  },
  {
   "cell_type": "markdown",
   "id": "00781b8c",
   "metadata": {},
   "source": [
    "Посмотрим количество в каждой категории"
   ]
  },
  {
   "cell_type": "code",
   "execution_count": 39,
   "id": "b1c94b97",
   "metadata": {},
   "outputs": [
    {
     "data": {
      "text/plain": [
       "операции с недвижимостью    10811\n",
       "операции с автомобилем       4306\n",
       "получение образования        4013\n",
       "проведение свадьбы           2324\n",
       "Name: purpose_category, dtype: int64"
      ]
     },
     "execution_count": 39,
     "metadata": {},
     "output_type": "execute_result"
    }
   ],
   "source": [
    "df['purpose_category'].value_counts()"
   ]
  },
  {
   "cell_type": "markdown",
   "id": "f44314d6",
   "metadata": {},
   "source": [
    "**Выводы**\n",
    "\n",
    "Была создана функция категоризации целей кредита. Все цели кредитов были разбиты на 4 категории. Операции с недвижимостью преобладают как цель кредита. "
   ]
  },
  {
   "cell_type": "markdown",
   "id": "65e512d2",
   "metadata": {},
   "source": [
    "### Ответы на вопросы."
   ]
  },
  {
   "cell_type": "markdown",
   "id": "c1e92344",
   "metadata": {},
   "source": [
    "Построим несколько сводных таблиц для анализа полученной информации с учетом целевой переменной `debt`"
   ]
  },
  {
   "cell_type": "code",
   "execution_count": 40,
   "id": "9bc01668",
   "metadata": {},
   "outputs": [],
   "source": [
    "# создадим функцию для создания сводных таблиц по целевой переменной debt\n",
    "def pivot (index):\n",
    "    pivot_df = df.pivot_table(index=[index],  values='debt', aggfunc=['count','sum','mean'])\n",
    "    pivot_df.columns = pivot_df.columns.droplevel(1)\n",
    "    pivot_df.columns = ['Общее количество кредитов', 'Количество задолженностей', 'Относительное количество задолженностей']\n",
    "    return pivot_df"
   ]
  },
  {
   "cell_type": "markdown",
   "id": "7f271862",
   "metadata": {},
   "source": [
    "Вернем в датафрейм столбец `family_status`, что бы нагляднее оценить задолженности по семейному положению"
   ]
  },
  {
   "cell_type": "code",
   "execution_count": 41,
   "id": "85f41cbe",
   "metadata": {},
   "outputs": [],
   "source": [
    "df = df.merge(family_dict, on='family_status_id', how='left')"
   ]
  },
  {
   "cell_type": "markdown",
   "id": "3aec303d",
   "metadata": {},
   "source": [
    "##### Вопрос 1:"
   ]
  },
  {
   "cell_type": "markdown",
   "id": "ee7510e9",
   "metadata": {},
   "source": [
    "Есть ли зависимость между количеством детей и возвратом кредита в срок?"
   ]
  },
  {
   "cell_type": "code",
   "execution_count": 42,
   "id": "6c20d216",
   "metadata": {},
   "outputs": [
    {
     "data": {
      "text/html": [
       "<div>\n",
       "<style scoped>\n",
       "    .dataframe tbody tr th:only-of-type {\n",
       "        vertical-align: middle;\n",
       "    }\n",
       "\n",
       "    .dataframe tbody tr th {\n",
       "        vertical-align: top;\n",
       "    }\n",
       "\n",
       "    .dataframe thead th {\n",
       "        text-align: right;\n",
       "    }\n",
       "</style>\n",
       "<table border=\"1\" class=\"dataframe\">\n",
       "  <thead>\n",
       "    <tr style=\"text-align: right;\">\n",
       "      <th></th>\n",
       "      <th>Общее количество кредитов</th>\n",
       "      <th>Количество задолженностей</th>\n",
       "      <th>Относительное количество задолженностей</th>\n",
       "    </tr>\n",
       "    <tr>\n",
       "      <th>children</th>\n",
       "      <th></th>\n",
       "      <th></th>\n",
       "      <th></th>\n",
       "    </tr>\n",
       "  </thead>\n",
       "  <tbody>\n",
       "    <tr>\n",
       "      <td>0</td>\n",
       "      <td>14091</td>\n",
       "      <td>1063</td>\n",
       "      <td>0.075438</td>\n",
       "    </tr>\n",
       "    <tr>\n",
       "      <td>1</td>\n",
       "      <td>4855</td>\n",
       "      <td>445</td>\n",
       "      <td>0.091658</td>\n",
       "    </tr>\n",
       "    <tr>\n",
       "      <td>2</td>\n",
       "      <td>2128</td>\n",
       "      <td>202</td>\n",
       "      <td>0.094925</td>\n",
       "    </tr>\n",
       "    <tr>\n",
       "      <td>3</td>\n",
       "      <td>330</td>\n",
       "      <td>27</td>\n",
       "      <td>0.081818</td>\n",
       "    </tr>\n",
       "    <tr>\n",
       "      <td>4</td>\n",
       "      <td>41</td>\n",
       "      <td>4</td>\n",
       "      <td>0.097561</td>\n",
       "    </tr>\n",
       "    <tr>\n",
       "      <td>5</td>\n",
       "      <td>9</td>\n",
       "      <td>0</td>\n",
       "      <td>0.000000</td>\n",
       "    </tr>\n",
       "  </tbody>\n",
       "</table>\n",
       "</div>"
      ],
      "text/plain": [
       "          Общее количество кредитов  Количество задолженностей  \\\n",
       "children                                                         \n",
       "0                             14091                       1063   \n",
       "1                              4855                        445   \n",
       "2                              2128                        202   \n",
       "3                               330                         27   \n",
       "4                                41                          4   \n",
       "5                                 9                          0   \n",
       "\n",
       "          Относительное количество задолженностей  \n",
       "children                                           \n",
       "0                                        0.075438  \n",
       "1                                        0.091658  \n",
       "2                                        0.094925  \n",
       "3                                        0.081818  \n",
       "4                                        0.097561  \n",
       "5                                        0.000000  "
      ]
     },
     "execution_count": 42,
     "metadata": {},
     "output_type": "execute_result"
    }
   ],
   "source": [
    "# абсолютная и относительная задолженность клиента от количества детей\n",
    "pivot('children')"
   ]
  },
  {
   "cell_type": "markdown",
   "id": "985d3bd0",
   "metadata": {},
   "source": [
    "##### Вывод 1:"
   ]
  },
  {
   "cell_type": "markdown",
   "id": "4200323a",
   "metadata": {},
   "source": [
    "Да, при увеличении количества детей вырастает процент задолженностей по кредиту."
   ]
  },
  {
   "cell_type": "markdown",
   "id": "d49ef5c5",
   "metadata": {},
   "source": [
    "##### Вопрос 2:"
   ]
  },
  {
   "cell_type": "markdown",
   "id": "01e402d1",
   "metadata": {},
   "source": [
    "Есть ли зависимость между семейным положением и возвратом кредита в срок?"
   ]
  },
  {
   "cell_type": "code",
   "execution_count": 43,
   "id": "7c350a78",
   "metadata": {},
   "outputs": [
    {
     "data": {
      "text/html": [
       "<div>\n",
       "<style scoped>\n",
       "    .dataframe tbody tr th:only-of-type {\n",
       "        vertical-align: middle;\n",
       "    }\n",
       "\n",
       "    .dataframe tbody tr th {\n",
       "        vertical-align: top;\n",
       "    }\n",
       "\n",
       "    .dataframe thead th {\n",
       "        text-align: right;\n",
       "    }\n",
       "</style>\n",
       "<table border=\"1\" class=\"dataframe\">\n",
       "  <thead>\n",
       "    <tr style=\"text-align: right;\">\n",
       "      <th></th>\n",
       "      <th>Общее количество кредитов</th>\n",
       "      <th>Количество задолженностей</th>\n",
       "      <th>Относительное количество задолженностей</th>\n",
       "    </tr>\n",
       "    <tr>\n",
       "      <th>family_status</th>\n",
       "      <th></th>\n",
       "      <th></th>\n",
       "      <th></th>\n",
       "    </tr>\n",
       "  </thead>\n",
       "  <tbody>\n",
       "    <tr>\n",
       "      <td>Не женат / не замужем</td>\n",
       "      <td>2810</td>\n",
       "      <td>274</td>\n",
       "      <td>0.097509</td>\n",
       "    </tr>\n",
       "    <tr>\n",
       "      <td>в разводе</td>\n",
       "      <td>1195</td>\n",
       "      <td>85</td>\n",
       "      <td>0.071130</td>\n",
       "    </tr>\n",
       "    <tr>\n",
       "      <td>вдовец / вдова</td>\n",
       "      <td>959</td>\n",
       "      <td>63</td>\n",
       "      <td>0.065693</td>\n",
       "    </tr>\n",
       "    <tr>\n",
       "      <td>гражданский брак</td>\n",
       "      <td>4151</td>\n",
       "      <td>388</td>\n",
       "      <td>0.093471</td>\n",
       "    </tr>\n",
       "    <tr>\n",
       "      <td>женат / замужем</td>\n",
       "      <td>12339</td>\n",
       "      <td>931</td>\n",
       "      <td>0.075452</td>\n",
       "    </tr>\n",
       "  </tbody>\n",
       "</table>\n",
       "</div>"
      ],
      "text/plain": [
       "                       Общее количество кредитов  Количество задолженностей  \\\n",
       "family_status                                                                 \n",
       "Не женат / не замужем                       2810                        274   \n",
       "в разводе                                   1195                         85   \n",
       "вдовец / вдова                               959                         63   \n",
       "гражданский брак                            4151                        388   \n",
       "женат / замужем                            12339                        931   \n",
       "\n",
       "                       Относительное количество задолженностей  \n",
       "family_status                                                   \n",
       "Не женат / не замужем                                 0.097509  \n",
       "в разводе                                             0.071130  \n",
       "вдовец / вдова                                        0.065693  \n",
       "гражданский брак                                      0.093471  \n",
       "женат / замужем                                       0.075452  "
      ]
     },
     "execution_count": 43,
     "metadata": {},
     "output_type": "execute_result"
    }
   ],
   "source": [
    "# абсолютная и относительная задолженность клиента от семейного положения\n",
    "pivot('family_status')"
   ]
  },
  {
   "cell_type": "markdown",
   "id": "15d204f6",
   "metadata": {},
   "source": [
    "##### Вывод 2:"
   ]
  },
  {
   "cell_type": "markdown",
   "id": "7978ceb3",
   "metadata": {},
   "source": [
    "Да, вдовцы и клиенты в разводе имеют меньший относительный процент задолженностей по кредиту, чем клиенты в гражданском браке или не замужние клиенты."
   ]
  },
  {
   "cell_type": "markdown",
   "id": "42b16e9f",
   "metadata": {},
   "source": [
    "##### Вопрос 3:"
   ]
  },
  {
   "cell_type": "markdown",
   "id": "1cc7e820",
   "metadata": {},
   "source": [
    "Есть ли зависимость между уровнем дохода и возвратом кредита в срок?"
   ]
  },
  {
   "cell_type": "code",
   "execution_count": 44,
   "id": "9b69fd0a",
   "metadata": {},
   "outputs": [
    {
     "data": {
      "text/html": [
       "<div>\n",
       "<style scoped>\n",
       "    .dataframe tbody tr th:only-of-type {\n",
       "        vertical-align: middle;\n",
       "    }\n",
       "\n",
       "    .dataframe tbody tr th {\n",
       "        vertical-align: top;\n",
       "    }\n",
       "\n",
       "    .dataframe thead th {\n",
       "        text-align: right;\n",
       "    }\n",
       "</style>\n",
       "<table border=\"1\" class=\"dataframe\">\n",
       "  <thead>\n",
       "    <tr style=\"text-align: right;\">\n",
       "      <th></th>\n",
       "      <th>Общее количество кредитов</th>\n",
       "      <th>Количество задолженностей</th>\n",
       "      <th>Относительное количество задолженностей</th>\n",
       "    </tr>\n",
       "    <tr>\n",
       "      <th>total_income_category</th>\n",
       "      <th></th>\n",
       "      <th></th>\n",
       "      <th></th>\n",
       "    </tr>\n",
       "  </thead>\n",
       "  <tbody>\n",
       "    <tr>\n",
       "      <td>A</td>\n",
       "      <td>25</td>\n",
       "      <td>2</td>\n",
       "      <td>0.080000</td>\n",
       "    </tr>\n",
       "    <tr>\n",
       "      <td>B</td>\n",
       "      <td>5041</td>\n",
       "      <td>356</td>\n",
       "      <td>0.070621</td>\n",
       "    </tr>\n",
       "    <tr>\n",
       "      <td>C</td>\n",
       "      <td>16016</td>\n",
       "      <td>1360</td>\n",
       "      <td>0.084915</td>\n",
       "    </tr>\n",
       "    <tr>\n",
       "      <td>D</td>\n",
       "      <td>350</td>\n",
       "      <td>21</td>\n",
       "      <td>0.060000</td>\n",
       "    </tr>\n",
       "    <tr>\n",
       "      <td>E</td>\n",
       "      <td>22</td>\n",
       "      <td>2</td>\n",
       "      <td>0.090909</td>\n",
       "    </tr>\n",
       "  </tbody>\n",
       "</table>\n",
       "</div>"
      ],
      "text/plain": [
       "                       Общее количество кредитов  Количество задолженностей  \\\n",
       "total_income_category                                                         \n",
       "A                                             25                          2   \n",
       "B                                           5041                        356   \n",
       "C                                          16016                       1360   \n",
       "D                                            350                         21   \n",
       "E                                             22                          2   \n",
       "\n",
       "                       Относительное количество задолженностей  \n",
       "total_income_category                                           \n",
       "A                                                     0.080000  \n",
       "B                                                     0.070621  \n",
       "C                                                     0.084915  \n",
       "D                                                     0.060000  \n",
       "E                                                     0.090909  "
      ]
     },
     "execution_count": 44,
     "metadata": {},
     "output_type": "execute_result"
    }
   ],
   "source": [
    "# абсолютная и относительная задолженность клиента от категории доходов\n",
    "pivot('total_income_category')"
   ]
  },
  {
   "cell_type": "markdown",
   "id": "aa3eea87",
   "metadata": {},
   "source": [
    "##### Вывод 3:"
   ]
  },
  {
   "cell_type": "markdown",
   "id": "f3768823",
   "metadata": {},
   "source": [
    "Зависимости между уровнем дохода и возвратом кредита в срок практически нет. Но т.к. клиенты с доходом ниже категории  \"C\" и выше \"B\" получают/используют значительно меньше кредитов, что несколько снижает вероятность достоверности расчетов. "
   ]
  },
  {
   "cell_type": "markdown",
   "id": "04225495",
   "metadata": {},
   "source": [
    "##### Вопрос 4:"
   ]
  },
  {
   "cell_type": "markdown",
   "id": "51790a50",
   "metadata": {},
   "source": [
    "Как разные цели кредита влияют на его возврат в срок?"
   ]
  },
  {
   "cell_type": "code",
   "execution_count": 45,
   "id": "54b669c3",
   "metadata": {},
   "outputs": [
    {
     "data": {
      "text/html": [
       "<div>\n",
       "<style scoped>\n",
       "    .dataframe tbody tr th:only-of-type {\n",
       "        vertical-align: middle;\n",
       "    }\n",
       "\n",
       "    .dataframe tbody tr th {\n",
       "        vertical-align: top;\n",
       "    }\n",
       "\n",
       "    .dataframe thead th {\n",
       "        text-align: right;\n",
       "    }\n",
       "</style>\n",
       "<table border=\"1\" class=\"dataframe\">\n",
       "  <thead>\n",
       "    <tr style=\"text-align: right;\">\n",
       "      <th></th>\n",
       "      <th>Общее количество кредитов</th>\n",
       "      <th>Количество задолженностей</th>\n",
       "      <th>Относительное количество задолженностей</th>\n",
       "    </tr>\n",
       "    <tr>\n",
       "      <th>purpose_category</th>\n",
       "      <th></th>\n",
       "      <th></th>\n",
       "      <th></th>\n",
       "    </tr>\n",
       "  </thead>\n",
       "  <tbody>\n",
       "    <tr>\n",
       "      <td>операции с автомобилем</td>\n",
       "      <td>4306</td>\n",
       "      <td>403</td>\n",
       "      <td>0.093590</td>\n",
       "    </tr>\n",
       "    <tr>\n",
       "      <td>операции с недвижимостью</td>\n",
       "      <td>10811</td>\n",
       "      <td>782</td>\n",
       "      <td>0.072334</td>\n",
       "    </tr>\n",
       "    <tr>\n",
       "      <td>получение образования</td>\n",
       "      <td>4013</td>\n",
       "      <td>370</td>\n",
       "      <td>0.092200</td>\n",
       "    </tr>\n",
       "    <tr>\n",
       "      <td>проведение свадьбы</td>\n",
       "      <td>2324</td>\n",
       "      <td>186</td>\n",
       "      <td>0.080034</td>\n",
       "    </tr>\n",
       "  </tbody>\n",
       "</table>\n",
       "</div>"
      ],
      "text/plain": [
       "                          Общее количество кредитов  \\\n",
       "purpose_category                                      \n",
       "операции с автомобилем                         4306   \n",
       "операции с недвижимостью                      10811   \n",
       "получение образования                          4013   \n",
       "проведение свадьбы                             2324   \n",
       "\n",
       "                          Количество задолженностей  \\\n",
       "purpose_category                                      \n",
       "операции с автомобилем                          403   \n",
       "операции с недвижимостью                        782   \n",
       "получение образования                           370   \n",
       "проведение свадьбы                              186   \n",
       "\n",
       "                          Относительное количество задолженностей  \n",
       "purpose_category                                                   \n",
       "операции с автомобилем                                   0.093590  \n",
       "операции с недвижимостью                                 0.072334  \n",
       "получение образования                                    0.092200  \n",
       "проведение свадьбы                                       0.080034  "
      ]
     },
     "execution_count": 45,
     "metadata": {},
     "output_type": "execute_result"
    }
   ],
   "source": [
    "pivot('purpose_category')"
   ]
  },
  {
   "cell_type": "markdown",
   "id": "88856712",
   "metadata": {},
   "source": [
    "#### Вывод 4:"
   ]
  },
  {
   "cell_type": "markdown",
   "id": "c47907c8",
   "metadata": {},
   "source": [
    "Кредиты на операции с недвижимостью имеют меньший процент задолженностей, чем все остальные. Наибольший процент задолженностей имеют автокредиты."
   ]
  },
  {
   "cell_type": "markdown",
   "id": "dac6acc5",
   "metadata": {},
   "source": [
    "## Общий вывод:"
   ]
  },
  {
   "cell_type": "markdown",
   "id": "a1a92a9a",
   "metadata": {},
   "source": [
    "При анализе данных установлено, что в каждой строке таблицы — данные о клиенте. \n",
    "\n",
    "Данные рассказывают: семейное положение, количество детей, трудовой стаж, возраст, уровень образования, пол, тип занятости, задолженность и ежемесячный доход клиента.\n",
    "Данных достаточно для проверки гипотез.\n",
    "\n",
    "* В столбцах `days_employed` и `total_income` обнаружено по 2174 пропуска и заменены на медианные значения. \n",
    "Добавляя медианные значения, мы не смещаем оценку в большую или меньшую часть выборки и медиана выборки менее подвержена влиянию выбросов, чем среднее значение выборки.\n",
    "* В ходе исследования было обнаружено, что медианное значение в столбце `days_employed` составляло минус 3.29 года, что явно говорит о наличии выбросов и артефактов в выборке.\n",
    "* В столбце `days_employed` найдены и исправлены отрицательные значения трудового стажа и значения стажа, превышающие возраст клиентов. Значения, превышающие возраст клиента встречаются только у пенсионеров и безработных, возможно они были выражены в часах. \n",
    "* В столбце `dob_years` найден 101 клиент с возрастом \"0\", что скорее всего вызывно использованием 0 в качестве значения пропуска.\n",
    "* В столбце `children` найдены и исправлены отрицательные значения и значение в 20 детей, скорее всего имела место опечатка и подразумевалось 2 детей.\n",
    "* В столбце `education` были найдены дубликаты с помощью метода value_counts(). Значения в данном столбце были приведены к нижнему регистру, после чего во всем датасете были удалены явные дубликаты. Причиной появления дубликатов могло быть ручное заполнение формы т.к. значения были введены с разным регистром.\n",
    "* В столбец `total_income_category` были добавлены данные о категориях доходов клиентов, полученных с помощью функции катеогоризации доходов клиентов:\n",
    "•\t0–30000 — 'E';\n",
    "•\t30001–50000 — 'D';\n",
    "•\t50001–200000 — 'C';\n",
    "•\t200001–1000000 — 'B';\n",
    "•\t1000001 и выше — 'A'.\n",
    "Большинство клиентов относятся к категории 'C' - более 16 тысяч клиентов.\n",
    "* Была создана функция категоризации целей кредита. Все цели кредитов были разбиты на 4 категории. Операции с недвижимостью преобладают как цель кредита.\n",
    "\n",
    "\n",
    "Мы проверили четыре гипотезы и установили:\n",
    "1. Семейное положение влияет на возврат кредита в срок.\n",
    "Первая гипотеза полностью подтвердилась. Вдовцы и клиенты в разводе имеют меньший относительный процент задолженностей по кредиту, чем клиенты в гражданском браке или не замужние клиенты.\n",
    "2. Количество детей влияет на возврат кредита в срок.\n",
    "Вторая гипотеза полностью подтвердилась. С увеличением количества детей вырастает процент задолженностей по кредиту.\n",
    "3. Уровень дохода клиента влияет на возврат кредита в срок.\n",
    "Третья гипотеза не подтвердилась. Зависимость задолженности клиента от уровня дохода не очевидна. \n",
    "4. Цель кредита влияет возврат кредита в срок.\n",
    "Четвертая гипотеза подтвердилась. Кредиты на недвижимость имеют наименьший процент задолженностей.\n",
    "\n",
    "* Самая частая цель кредита - операции с недвижимостью. \n",
    "* Самая редкая цель кредита - проведение свадьбы.\n",
    "* Большая часть клиентов, берущая кредиты женаты / замужем.\n",
    "* Большая часть клиентов не имеет детей.\n",
    "* Большая часть клиентов обладает доходом от 50 000 до 200 000."
   ]
  },
  {
   "cell_type": "code",
   "execution_count": null,
   "id": "f6ca3306",
   "metadata": {},
   "outputs": [],
   "source": []
  }
 ],
 "metadata": {
  "ExecuteTimeLog": [
   {
    "duration": 606,
    "start_time": "2022-02-03T06:39:30.997Z"
   },
   {
    "duration": 271,
    "start_time": "2022-02-03T06:40:51.918Z"
   },
   {
    "duration": 180,
    "start_time": "2022-02-03T06:41:22.047Z"
   },
   {
    "duration": 189,
    "start_time": "2022-02-03T06:41:30.382Z"
   },
   {
    "duration": 179,
    "start_time": "2022-02-03T06:41:42.350Z"
   },
   {
    "duration": 189,
    "start_time": "2022-02-03T06:41:53.726Z"
   },
   {
    "duration": 7,
    "start_time": "2022-02-03T06:45:49.357Z"
   },
   {
    "duration": 14,
    "start_time": "2022-02-03T06:47:00.967Z"
   },
   {
    "duration": 7,
    "start_time": "2022-02-03T06:48:19.268Z"
   },
   {
    "duration": 180,
    "start_time": "2022-02-03T06:48:39.956Z"
   },
   {
    "duration": 6,
    "start_time": "2022-02-03T06:49:26.356Z"
   },
   {
    "duration": 21,
    "start_time": "2022-02-03T06:49:52.491Z"
   },
   {
    "duration": 19,
    "start_time": "2022-02-03T06:57:32.657Z"
   },
   {
    "duration": 57,
    "start_time": "2022-02-03T06:59:40.339Z"
   },
   {
    "duration": 640,
    "start_time": "2022-02-03T06:59:48.432Z"
   },
   {
    "duration": 9,
    "start_time": "2022-02-03T07:02:18.248Z"
   },
   {
    "duration": 5,
    "start_time": "2022-02-03T07:05:13.000Z"
   },
   {
    "duration": 10,
    "start_time": "2022-02-03T07:05:25.263Z"
   },
   {
    "duration": 11,
    "start_time": "2022-02-03T07:05:39.975Z"
   },
   {
    "duration": 5,
    "start_time": "2022-02-03T07:06:14.224Z"
   },
   {
    "duration": 10,
    "start_time": "2022-02-03T07:06:21.519Z"
   },
   {
    "duration": 9,
    "start_time": "2022-02-03T07:10:51.902Z"
   },
   {
    "duration": 7,
    "start_time": "2022-02-03T07:17:52.934Z"
   },
   {
    "duration": 11,
    "start_time": "2022-02-03T08:23:18.568Z"
   },
   {
    "duration": 8,
    "start_time": "2022-02-03T08:23:57.658Z"
   },
   {
    "duration": 6,
    "start_time": "2022-02-03T09:28:01.879Z"
   },
   {
    "duration": 8,
    "start_time": "2022-02-03T09:28:34.694Z"
   },
   {
    "duration": 9,
    "start_time": "2022-02-03T09:29:50.870Z"
   },
   {
    "duration": 7,
    "start_time": "2022-02-03T09:30:12.485Z"
   },
   {
    "duration": 7,
    "start_time": "2022-02-03T09:30:33.095Z"
   },
   {
    "duration": 8,
    "start_time": "2022-02-03T11:32:58.532Z"
   },
   {
    "duration": 11,
    "start_time": "2022-02-03T12:04:51.256Z"
   },
   {
    "duration": 1333,
    "start_time": "2022-02-03T12:05:30.096Z"
   },
   {
    "duration": 44,
    "start_time": "2022-02-03T12:05:31.663Z"
   },
   {
    "duration": 11,
    "start_time": "2022-02-03T12:05:34.504Z"
   },
   {
    "duration": 70,
    "start_time": "2022-02-03T12:07:08.215Z"
   },
   {
    "duration": 70,
    "start_time": "2022-02-03T12:07:20.071Z"
   },
   {
    "duration": 9014,
    "start_time": "2022-02-03T16:46:01.065Z"
   },
   {
    "duration": 29,
    "start_time": "2022-02-03T16:46:10.082Z"
   },
   {
    "duration": 11,
    "start_time": "2022-02-03T16:46:18.728Z"
   },
   {
    "duration": 14,
    "start_time": "2022-02-03T16:50:11.227Z"
   },
   {
    "duration": 841,
    "start_time": "2022-02-04T08:07:48.909Z"
   },
   {
    "duration": 28,
    "start_time": "2022-02-04T08:07:51.550Z"
   },
   {
    "duration": 16,
    "start_time": "2022-02-04T08:07:56.517Z"
   },
   {
    "duration": 13,
    "start_time": "2022-02-04T08:08:04.174Z"
   },
   {
    "duration": 7,
    "start_time": "2022-02-04T08:10:54.853Z"
   },
   {
    "duration": 6,
    "start_time": "2022-02-04T08:12:03.683Z"
   },
   {
    "duration": 7,
    "start_time": "2022-02-04T08:12:16.005Z"
   },
   {
    "duration": 7,
    "start_time": "2022-02-04T08:12:35.358Z"
   },
   {
    "duration": 6,
    "start_time": "2022-02-04T08:12:44.726Z"
   },
   {
    "duration": 6,
    "start_time": "2022-02-04T08:12:56.464Z"
   },
   {
    "duration": 319,
    "start_time": "2022-02-04T08:19:33.222Z"
   },
   {
    "duration": 7,
    "start_time": "2022-02-04T08:20:07.246Z"
   },
   {
    "duration": 6,
    "start_time": "2022-02-04T08:23:31.284Z"
   },
   {
    "duration": 6,
    "start_time": "2022-02-04T08:24:13.147Z"
   },
   {
    "duration": 6,
    "start_time": "2022-02-04T08:24:15.228Z"
   },
   {
    "duration": 5,
    "start_time": "2022-02-04T08:29:01.125Z"
   },
   {
    "duration": 6,
    "start_time": "2022-02-04T08:45:01.680Z"
   },
   {
    "duration": 5,
    "start_time": "2022-02-04T08:51:25.553Z"
   },
   {
    "duration": 6,
    "start_time": "2022-02-04T08:52:18.543Z"
   },
   {
    "duration": 5,
    "start_time": "2022-02-04T08:52:51.936Z"
   },
   {
    "duration": 5,
    "start_time": "2022-02-04T08:53:03.849Z"
   },
   {
    "duration": 17,
    "start_time": "2022-02-04T11:50:30.240Z"
   },
   {
    "duration": 10,
    "start_time": "2022-02-04T11:50:45.443Z"
   },
   {
    "duration": 11,
    "start_time": "2022-02-04T11:51:58.866Z"
   },
   {
    "duration": 4,
    "start_time": "2022-02-04T12:00:11.177Z"
   },
   {
    "duration": 8,
    "start_time": "2022-02-04T12:00:16.634Z"
   },
   {
    "duration": 3144,
    "start_time": "2022-02-04T12:00:33.513Z"
   },
   {
    "duration": 268,
    "start_time": "2022-02-04T12:00:45.848Z"
   },
   {
    "duration": 277,
    "start_time": "2022-02-04T12:00:52.353Z"
   },
   {
    "duration": 259,
    "start_time": "2022-02-04T12:01:26.266Z"
   },
   {
    "duration": 279,
    "start_time": "2022-02-04T12:01:42.274Z"
   },
   {
    "duration": 3656,
    "start_time": "2022-02-04T12:01:58.802Z"
   },
   {
    "duration": 896,
    "start_time": "2022-02-04T12:02:24.202Z"
   },
   {
    "duration": 31,
    "start_time": "2022-02-04T12:02:26.621Z"
   },
   {
    "duration": 17,
    "start_time": "2022-02-04T12:02:28.916Z"
   },
   {
    "duration": 16,
    "start_time": "2022-02-04T12:02:41.333Z"
   },
   {
    "duration": 7,
    "start_time": "2022-02-04T12:02:47.324Z"
   },
   {
    "duration": 7,
    "start_time": "2022-02-04T12:02:50.804Z"
   },
   {
    "duration": 6,
    "start_time": "2022-02-04T12:02:53.900Z"
   },
   {
    "duration": 6,
    "start_time": "2022-02-04T12:02:56.276Z"
   },
   {
    "duration": 5,
    "start_time": "2022-02-04T12:03:22.716Z"
   },
   {
    "duration": 5,
    "start_time": "2022-02-04T12:03:24.941Z"
   },
   {
    "duration": 6,
    "start_time": "2022-02-04T12:03:42.534Z"
   },
   {
    "duration": 15,
    "start_time": "2022-02-04T12:03:52.477Z"
   },
   {
    "duration": 8,
    "start_time": "2022-02-04T12:04:00.636Z"
   },
   {
    "duration": 6,
    "start_time": "2022-02-04T12:04:10.654Z"
   },
   {
    "duration": 5,
    "start_time": "2022-02-04T12:04:20.627Z"
   },
   {
    "duration": 6,
    "start_time": "2022-02-04T12:04:22.443Z"
   },
   {
    "duration": 10,
    "start_time": "2022-02-04T12:06:18.027Z"
   },
   {
    "duration": 6,
    "start_time": "2022-02-04T12:06:49.842Z"
   },
   {
    "duration": 12,
    "start_time": "2022-02-04T12:13:52.065Z"
   },
   {
    "duration": 8,
    "start_time": "2022-02-04T12:14:10.584Z"
   },
   {
    "duration": 7,
    "start_time": "2022-02-04T12:15:13.169Z"
   },
   {
    "duration": 8,
    "start_time": "2022-02-04T12:15:20.147Z"
   },
   {
    "duration": 7,
    "start_time": "2022-02-04T12:15:32.361Z"
   },
   {
    "duration": 25,
    "start_time": "2022-02-04T12:16:27.503Z"
   },
   {
    "duration": 27,
    "start_time": "2022-02-04T12:16:40.183Z"
   },
   {
    "duration": 33,
    "start_time": "2022-02-04T12:18:10.072Z"
   },
   {
    "duration": 35,
    "start_time": "2022-02-04T12:18:12.248Z"
   },
   {
    "duration": 38,
    "start_time": "2022-02-04T12:18:30.129Z"
   },
   {
    "duration": 37,
    "start_time": "2022-02-04T12:18:38.616Z"
   },
   {
    "duration": 80,
    "start_time": "2022-02-04T12:26:56.071Z"
   },
   {
    "duration": 6,
    "start_time": "2022-02-04T12:59:49.889Z"
   },
   {
    "duration": 5,
    "start_time": "2022-02-04T12:59:52.771Z"
   },
   {
    "duration": 8,
    "start_time": "2022-02-04T13:11:16.218Z"
   },
   {
    "duration": 10,
    "start_time": "2022-02-04T13:15:21.153Z"
   },
   {
    "duration": 9,
    "start_time": "2022-02-04T13:15:43.346Z"
   },
   {
    "duration": 11,
    "start_time": "2022-02-04T13:15:59.169Z"
   },
   {
    "duration": 8,
    "start_time": "2022-02-04T13:16:09.433Z"
   },
   {
    "duration": 10,
    "start_time": "2022-02-04T13:16:23.729Z"
   },
   {
    "duration": 10,
    "start_time": "2022-02-04T13:16:37.425Z"
   },
   {
    "duration": 9,
    "start_time": "2022-02-04T13:16:51.826Z"
   },
   {
    "duration": 11,
    "start_time": "2022-02-04T13:17:57.273Z"
   },
   {
    "duration": 10,
    "start_time": "2022-02-04T13:18:24.073Z"
   },
   {
    "duration": 625,
    "start_time": "2022-02-06T11:27:26.453Z"
   },
   {
    "duration": 17,
    "start_time": "2022-02-06T11:27:28.590Z"
   },
   {
    "duration": 11,
    "start_time": "2022-02-06T11:27:30.574Z"
   },
   {
    "duration": 10,
    "start_time": "2022-02-06T11:27:33.542Z"
   },
   {
    "duration": 14,
    "start_time": "2022-02-06T11:27:59.239Z"
   },
   {
    "duration": 49,
    "start_time": "2022-02-06T11:28:20.392Z"
   },
   {
    "duration": 46,
    "start_time": "2022-02-06T11:28:39.040Z"
   },
   {
    "duration": 12,
    "start_time": "2022-02-06T11:28:40.631Z"
   },
   {
    "duration": 10,
    "start_time": "2022-02-06T11:28:43.095Z"
   },
   {
    "duration": 9,
    "start_time": "2022-02-06T11:28:46.009Z"
   },
   {
    "duration": 44,
    "start_time": "2022-02-06T11:28:47.936Z"
   },
   {
    "duration": 5,
    "start_time": "2022-02-06T11:29:11.625Z"
   },
   {
    "duration": 6,
    "start_time": "2022-02-06T11:29:14.160Z"
   },
   {
    "duration": 4,
    "start_time": "2022-02-06T11:29:16.609Z"
   },
   {
    "duration": 29,
    "start_time": "2022-02-06T11:31:20.316Z"
   },
   {
    "duration": 25,
    "start_time": "2022-02-06T11:32:23.726Z"
   },
   {
    "duration": 10,
    "start_time": "2022-02-06T11:33:18.879Z"
   },
   {
    "duration": 4,
    "start_time": "2022-02-06T11:33:25.494Z"
   },
   {
    "duration": 4,
    "start_time": "2022-02-06T11:33:28.144Z"
   },
   {
    "duration": 4,
    "start_time": "2022-02-06T11:33:30.160Z"
   },
   {
    "duration": 4,
    "start_time": "2022-02-06T11:33:32.032Z"
   },
   {
    "duration": 10,
    "start_time": "2022-02-06T11:33:34.120Z"
   },
   {
    "duration": 6,
    "start_time": "2022-02-06T11:33:37.056Z"
   },
   {
    "duration": 24,
    "start_time": "2022-02-06T11:33:50.985Z"
   },
   {
    "duration": 65,
    "start_time": "2022-02-06T12:06:25.704Z"
   },
   {
    "duration": 11,
    "start_time": "2022-02-06T12:19:38.106Z"
   },
   {
    "duration": 11,
    "start_time": "2022-02-06T12:21:54.655Z"
   },
   {
    "duration": 47,
    "start_time": "2022-02-06T12:22:03.369Z"
   },
   {
    "duration": 11,
    "start_time": "2022-02-06T12:22:04.735Z"
   },
   {
    "duration": 10,
    "start_time": "2022-02-06T12:22:07.264Z"
   },
   {
    "duration": 557,
    "start_time": "2022-02-06T12:22:13.402Z"
   },
   {
    "duration": 19,
    "start_time": "2022-02-06T12:22:14.723Z"
   },
   {
    "duration": 10,
    "start_time": "2022-02-06T12:22:16.100Z"
   },
   {
    "duration": 9,
    "start_time": "2022-02-06T12:22:18.790Z"
   },
   {
    "duration": 11,
    "start_time": "2022-02-06T12:22:20.390Z"
   },
   {
    "duration": 20,
    "start_time": "2022-02-06T12:23:01.669Z"
   },
   {
    "duration": 15,
    "start_time": "2022-02-06T12:23:15.301Z"
   },
   {
    "duration": 13,
    "start_time": "2022-02-06T12:23:30.219Z"
   },
   {
    "duration": 277,
    "start_time": "2022-02-06T13:05:38.185Z"
   },
   {
    "duration": 5867,
    "start_time": "2022-02-06T13:06:01.602Z"
   },
   {
    "duration": 5824,
    "start_time": "2022-02-06T13:06:07.745Z"
   },
   {
    "duration": 6,
    "start_time": "2022-02-06T13:06:13.572Z"
   },
   {
    "duration": 4,
    "start_time": "2022-02-06T13:08:12.738Z"
   },
   {
    "duration": 616,
    "start_time": "2022-02-06T13:10:34.656Z"
   },
   {
    "duration": 17,
    "start_time": "2022-02-06T13:10:36.120Z"
   },
   {
    "duration": 11,
    "start_time": "2022-02-06T13:10:37.335Z"
   },
   {
    "duration": 10,
    "start_time": "2022-02-06T13:10:39.903Z"
   },
   {
    "duration": 5,
    "start_time": "2022-02-06T13:10:44.528Z"
   },
   {
    "duration": 5,
    "start_time": "2022-02-06T13:10:45.800Z"
   },
   {
    "duration": 5,
    "start_time": "2022-02-06T13:11:40.129Z"
   },
   {
    "duration": 6,
    "start_time": "2022-02-06T13:11:47.904Z"
   },
   {
    "duration": 641,
    "start_time": "2022-02-06T13:22:01.049Z"
   },
   {
    "duration": 18,
    "start_time": "2022-02-06T13:22:02.447Z"
   },
   {
    "duration": 11,
    "start_time": "2022-02-06T13:22:04.473Z"
   },
   {
    "duration": 10,
    "start_time": "2022-02-06T13:22:07.416Z"
   },
   {
    "duration": 6,
    "start_time": "2022-02-06T13:22:10.288Z"
   },
   {
    "duration": 5,
    "start_time": "2022-02-06T13:22:11.880Z"
   },
   {
    "duration": 61,
    "start_time": "2022-02-06T13:22:54.670Z"
   },
   {
    "duration": 6,
    "start_time": "2022-02-06T13:23:03.949Z"
   },
   {
    "duration": 5,
    "start_time": "2022-02-06T13:23:59.370Z"
   },
   {
    "duration": 456,
    "start_time": "2022-02-06T13:25:26.351Z"
   },
   {
    "duration": 5,
    "start_time": "2022-02-06T13:26:51.556Z"
   },
   {
    "duration": 5,
    "start_time": "2022-02-06T13:26:52.948Z"
   },
   {
    "duration": 11,
    "start_time": "2022-02-06T13:26:55.084Z"
   },
   {
    "duration": 6,
    "start_time": "2022-02-06T13:26:57.731Z"
   },
   {
    "duration": 4,
    "start_time": "2022-02-06T13:27:01.650Z"
   },
   {
    "duration": 5,
    "start_time": "2022-02-06T13:27:10.267Z"
   },
   {
    "duration": 4,
    "start_time": "2022-02-06T13:27:38.242Z"
   },
   {
    "duration": 5,
    "start_time": "2022-02-06T13:30:07.846Z"
   },
   {
    "duration": 5,
    "start_time": "2022-02-06T13:30:26.654Z"
   },
   {
    "duration": 531,
    "start_time": "2022-02-06T13:34:44.314Z"
   },
   {
    "duration": 266,
    "start_time": "2022-02-06T13:34:52.386Z"
   },
   {
    "duration": 185,
    "start_time": "2022-02-06T13:38:09.313Z"
   },
   {
    "duration": 390,
    "start_time": "2022-02-06T13:40:29.144Z"
   },
   {
    "duration": 183,
    "start_time": "2022-02-06T13:40:34.688Z"
   },
   {
    "duration": 16,
    "start_time": "2022-02-06T13:42:24.632Z"
   },
   {
    "duration": 6,
    "start_time": "2022-02-06T13:42:34.104Z"
   },
   {
    "duration": 197,
    "start_time": "2022-02-06T13:42:35.919Z"
   },
   {
    "duration": 12,
    "start_time": "2022-02-06T13:42:38.239Z"
   },
   {
    "duration": 12,
    "start_time": "2022-02-06T13:42:49.295Z"
   },
   {
    "duration": 204,
    "start_time": "2022-02-06T13:42:54.743Z"
   },
   {
    "duration": 13,
    "start_time": "2022-02-06T13:42:58.255Z"
   },
   {
    "duration": 13,
    "start_time": "2022-02-06T13:42:59.503Z"
   },
   {
    "duration": 10,
    "start_time": "2022-02-06T13:43:05.455Z"
   },
   {
    "duration": 224,
    "start_time": "2022-02-06T13:43:14.696Z"
   },
   {
    "duration": 8,
    "start_time": "2022-02-06T13:43:32.880Z"
   },
   {
    "duration": 3,
    "start_time": "2022-02-06T13:43:41.243Z"
   },
   {
    "duration": 7,
    "start_time": "2022-02-06T13:43:46.335Z"
   },
   {
    "duration": 177,
    "start_time": "2022-02-06T13:44:01.296Z"
   },
   {
    "duration": 199,
    "start_time": "2022-02-06T13:48:09.968Z"
   },
   {
    "duration": 183,
    "start_time": "2022-02-06T13:48:25.471Z"
   },
   {
    "duration": 155,
    "start_time": "2022-02-06T13:53:15.728Z"
   },
   {
    "duration": 187,
    "start_time": "2022-02-06T13:53:24.352Z"
   },
   {
    "duration": 341,
    "start_time": "2022-02-06T13:53:38.320Z"
   },
   {
    "duration": 222,
    "start_time": "2022-02-06T13:54:00.688Z"
   },
   {
    "duration": 325,
    "start_time": "2022-02-06T13:57:33.129Z"
   },
   {
    "duration": 517,
    "start_time": "2022-02-06T13:57:44.562Z"
   },
   {
    "duration": 1957,
    "start_time": "2022-02-06T14:01:02.395Z"
   },
   {
    "duration": 319,
    "start_time": "2022-02-06T14:01:14.204Z"
   },
   {
    "duration": 195,
    "start_time": "2022-02-06T14:04:45.447Z"
   },
   {
    "duration": 847,
    "start_time": "2022-02-07T07:56:58.357Z"
   },
   {
    "duration": 28,
    "start_time": "2022-02-07T07:56:59.904Z"
   },
   {
    "duration": 16,
    "start_time": "2022-02-07T07:57:01.584Z"
   },
   {
    "duration": 13,
    "start_time": "2022-02-07T07:57:05.311Z"
   },
   {
    "duration": 7,
    "start_time": "2022-02-07T07:57:07.391Z"
   },
   {
    "duration": 7,
    "start_time": "2022-02-07T07:57:08.767Z"
   },
   {
    "duration": 6,
    "start_time": "2022-02-07T07:57:10.271Z"
   },
   {
    "duration": 6,
    "start_time": "2022-02-07T07:57:13.120Z"
   },
   {
    "duration": 5,
    "start_time": "2022-02-07T07:59:11.446Z"
   },
   {
    "duration": 8,
    "start_time": "2022-02-07T07:59:13.375Z"
   },
   {
    "duration": 7,
    "start_time": "2022-02-07T07:59:14.359Z"
   },
   {
    "duration": 14,
    "start_time": "2022-02-07T07:59:15.879Z"
   },
   {
    "duration": 10,
    "start_time": "2022-02-07T07:59:19.007Z"
   },
   {
    "duration": 413,
    "start_time": "2022-02-07T07:59:21.039Z"
   },
   {
    "duration": 11,
    "start_time": "2022-02-07T07:59:29.511Z"
   },
   {
    "duration": 6,
    "start_time": "2022-02-07T07:59:44.016Z"
   },
   {
    "duration": 5,
    "start_time": "2022-02-07T08:00:05.672Z"
   },
   {
    "duration": 6,
    "start_time": "2022-02-07T08:00:24.311Z"
   },
   {
    "duration": 13,
    "start_time": "2022-02-07T08:00:37.898Z"
   },
   {
    "duration": 6,
    "start_time": "2022-02-07T08:01:12.943Z"
   },
   {
    "duration": 5,
    "start_time": "2022-02-07T08:36:50.505Z"
   },
   {
    "duration": 8,
    "start_time": "2022-02-07T08:37:02.498Z"
   },
   {
    "duration": 646,
    "start_time": "2022-02-07T08:44:36.329Z"
   },
   {
    "duration": 114,
    "start_time": "2022-02-07T08:45:07.154Z"
   },
   {
    "duration": 555,
    "start_time": "2022-02-07T08:45:11.184Z"
   },
   {
    "duration": 6,
    "start_time": "2022-02-07T08:47:07.913Z"
   },
   {
    "duration": 15,
    "start_time": "2022-02-07T08:47:23.841Z"
   },
   {
    "duration": 11,
    "start_time": "2022-02-07T08:47:54.864Z"
   },
   {
    "duration": 335,
    "start_time": "2022-02-07T08:55:16.040Z"
   },
   {
    "duration": 312,
    "start_time": "2022-02-07T08:55:44.600Z"
   },
   {
    "duration": 638,
    "start_time": "2022-02-07T08:55:55.993Z"
   },
   {
    "duration": 687,
    "start_time": "2022-02-07T08:56:23.984Z"
   },
   {
    "duration": 12,
    "start_time": "2022-02-07T09:01:41.680Z"
   },
   {
    "duration": 12,
    "start_time": "2022-02-07T09:01:51.390Z"
   },
   {
    "duration": 116,
    "start_time": "2022-02-07T09:01:55.023Z"
   },
   {
    "duration": 35,
    "start_time": "2022-02-07T09:02:10.767Z"
   },
   {
    "duration": 439,
    "start_time": "2022-02-07T09:03:33.647Z"
   },
   {
    "duration": 33,
    "start_time": "2022-02-07T09:03:44.871Z"
   },
   {
    "duration": 36621,
    "start_time": "2022-02-07T09:09:28.710Z"
   },
   {
    "duration": 40,
    "start_time": "2022-02-07T09:10:05.333Z"
   },
   {
    "duration": 62,
    "start_time": "2022-02-07T09:11:54.863Z"
   },
   {
    "duration": 18,
    "start_time": "2022-02-07T09:11:57.358Z"
   },
   {
    "duration": 841,
    "start_time": "2022-02-07T09:12:03.606Z"
   },
   {
    "duration": 29,
    "start_time": "2022-02-07T09:12:04.974Z"
   },
   {
    "duration": 16,
    "start_time": "2022-02-07T09:12:06.773Z"
   },
   {
    "duration": 13,
    "start_time": "2022-02-07T09:12:09.149Z"
   },
   {
    "duration": 6,
    "start_time": "2022-02-07T09:12:11.318Z"
   },
   {
    "duration": 7,
    "start_time": "2022-02-07T09:12:12.478Z"
   },
   {
    "duration": 6,
    "start_time": "2022-02-07T09:12:14.141Z"
   },
   {
    "duration": 6,
    "start_time": "2022-02-07T09:12:15.806Z"
   },
   {
    "duration": 7,
    "start_time": "2022-02-07T09:12:17.398Z"
   },
   {
    "duration": 6,
    "start_time": "2022-02-07T09:12:18.357Z"
   },
   {
    "duration": 13,
    "start_time": "2022-02-07T09:12:19.581Z"
   },
   {
    "duration": 9,
    "start_time": "2022-02-07T09:12:21.422Z"
   },
   {
    "duration": 424,
    "start_time": "2022-02-07T09:12:22.966Z"
   },
   {
    "duration": 6162,
    "start_time": "2022-02-07T09:12:26.941Z"
   },
   {
    "duration": 33,
    "start_time": "2022-02-07T09:12:36.966Z"
   },
   {
    "duration": 117,
    "start_time": "2022-02-07T09:19:44.284Z"
   },
   {
    "duration": 9,
    "start_time": "2022-02-07T09:19:51.476Z"
   },
   {
    "duration": 33,
    "start_time": "2022-02-07T09:19:54.397Z"
   },
   {
    "duration": 33,
    "start_time": "2022-02-07T09:20:02.221Z"
   },
   {
    "duration": 290,
    "start_time": "2022-02-07T09:21:07.277Z"
   },
   {
    "duration": 738,
    "start_time": "2022-02-07T09:22:09.957Z"
   },
   {
    "duration": 336,
    "start_time": "2022-02-07T09:22:16.172Z"
   },
   {
    "duration": 808,
    "start_time": "2022-02-07T11:01:51.758Z"
   },
   {
    "duration": 25,
    "start_time": "2022-02-07T11:01:53.279Z"
   },
   {
    "duration": 17,
    "start_time": "2022-02-07T11:01:55.478Z"
   },
   {
    "duration": 13,
    "start_time": "2022-02-07T11:01:58.526Z"
   },
   {
    "duration": 7,
    "start_time": "2022-02-07T11:02:01.110Z"
   },
   {
    "duration": 6,
    "start_time": "2022-02-07T11:02:02.950Z"
   },
   {
    "duration": 6,
    "start_time": "2022-02-07T11:02:05.175Z"
   },
   {
    "duration": 6,
    "start_time": "2022-02-07T11:02:06.662Z"
   },
   {
    "duration": 6,
    "start_time": "2022-02-07T11:02:08.749Z"
   },
   {
    "duration": 5,
    "start_time": "2022-02-07T11:02:09.782Z"
   },
   {
    "duration": 17,
    "start_time": "2022-02-07T11:02:12.950Z"
   },
   {
    "duration": 10,
    "start_time": "2022-02-07T11:02:15.357Z"
   },
   {
    "duration": 397,
    "start_time": "2022-02-07T11:02:17.974Z"
   },
   {
    "duration": 8,
    "start_time": "2022-02-07T11:02:29.774Z"
   },
   {
    "duration": 5,
    "start_time": "2022-02-07T11:02:44.446Z"
   },
   {
    "duration": 9,
    "start_time": "2022-02-07T11:03:36.639Z"
   },
   {
    "duration": 9,
    "start_time": "2022-02-07T11:11:17.685Z"
   },
   {
    "duration": 301,
    "start_time": "2022-02-07T11:11:19.884Z"
   },
   {
    "duration": 38,
    "start_time": "2022-02-07T11:19:56.636Z"
   },
   {
    "duration": 45,
    "start_time": "2022-02-07T11:40:42.223Z"
   },
   {
    "duration": 16,
    "start_time": "2022-02-07T11:41:33.401Z"
   },
   {
    "duration": 36,
    "start_time": "2022-02-07T11:59:54.285Z"
   },
   {
    "duration": 684935,
    "start_time": "2022-02-07T12:03:14.373Z"
   },
   {
    "duration": 14,
    "start_time": "2022-02-07T12:20:02.035Z"
   },
   {
    "duration": -13,
    "start_time": "2022-02-07T12:20:42.005Z"
   },
   {
    "duration": 6923,
    "start_time": "2022-02-07T12:20:44.570Z"
   },
   {
    "duration": 41,
    "start_time": "2022-02-07T12:21:00.211Z"
   },
   {
    "duration": 6,
    "start_time": "2022-02-07T12:25:36.450Z"
   },
   {
    "duration": 18,
    "start_time": "2022-02-07T12:25:55.894Z"
   },
   {
    "duration": 6,
    "start_time": "2022-02-07T12:26:22.369Z"
   },
   {
    "duration": 8,
    "start_time": "2022-02-07T12:27:30.065Z"
   },
   {
    "duration": 10,
    "start_time": "2022-02-07T12:28:04.129Z"
   },
   {
    "duration": 5,
    "start_time": "2022-02-07T12:33:25.728Z"
   },
   {
    "duration": 8,
    "start_time": "2022-02-07T12:33:29.304Z"
   },
   {
    "duration": 8,
    "start_time": "2022-02-07T12:34:01.992Z"
   },
   {
    "duration": 292,
    "start_time": "2022-02-07T12:35:33.632Z"
   },
   {
    "duration": 38,
    "start_time": "2022-02-07T12:38:38.672Z"
   },
   {
    "duration": 5,
    "start_time": "2022-02-07T12:40:00.038Z"
   },
   {
    "duration": 7,
    "start_time": "2022-02-07T12:40:43.456Z"
   },
   {
    "duration": 4,
    "start_time": "2022-02-07T12:47:28.104Z"
   },
   {
    "duration": 6,
    "start_time": "2022-02-07T12:47:41.670Z"
   },
   {
    "duration": 5,
    "start_time": "2022-02-07T13:05:54.181Z"
   },
   {
    "duration": 5,
    "start_time": "2022-02-07T13:06:26.308Z"
   },
   {
    "duration": 7,
    "start_time": "2022-02-07T13:06:56.053Z"
   },
   {
    "duration": 7,
    "start_time": "2022-02-07T13:07:17.244Z"
   },
   {
    "duration": 360,
    "start_time": "2022-02-07T13:22:36.768Z"
   },
   {
    "duration": 20,
    "start_time": "2022-02-07T13:22:44.624Z"
   },
   {
    "duration": 13,
    "start_time": "2022-02-07T13:23:47.321Z"
   },
   {
    "duration": 9,
    "start_time": "2022-02-07T13:23:59.504Z"
   },
   {
    "duration": 12,
    "start_time": "2022-02-07T13:24:20.663Z"
   },
   {
    "duration": 56,
    "start_time": "2022-02-07T13:56:07.570Z"
   },
   {
    "duration": 360,
    "start_time": "2022-02-07T16:54:26.978Z"
   },
   {
    "duration": 622,
    "start_time": "2022-02-07T16:54:36.838Z"
   },
   {
    "duration": 16,
    "start_time": "2022-02-07T16:54:38.973Z"
   },
   {
    "duration": 10,
    "start_time": "2022-02-07T16:54:41.141Z"
   },
   {
    "duration": 8,
    "start_time": "2022-02-07T16:54:48.766Z"
   },
   {
    "duration": 5,
    "start_time": "2022-02-07T16:54:51.381Z"
   },
   {
    "duration": 5,
    "start_time": "2022-02-07T16:54:52.910Z"
   },
   {
    "duration": 4,
    "start_time": "2022-02-07T16:54:54.661Z"
   },
   {
    "duration": 5,
    "start_time": "2022-02-07T16:54:56.941Z"
   },
   {
    "duration": 5,
    "start_time": "2022-02-07T16:54:59.749Z"
   },
   {
    "duration": 4,
    "start_time": "2022-02-07T16:55:00.806Z"
   },
   {
    "duration": 9,
    "start_time": "2022-02-07T16:55:05.166Z"
   },
   {
    "duration": 7,
    "start_time": "2022-02-07T16:55:08.037Z"
   },
   {
    "duration": 227,
    "start_time": "2022-02-07T16:55:10.917Z"
   },
   {
    "duration": 5,
    "start_time": "2022-02-07T16:55:13.165Z"
   },
   {
    "duration": 7,
    "start_time": "2022-02-07T16:55:14.301Z"
   },
   {
    "duration": 6,
    "start_time": "2022-02-07T16:55:15.893Z"
   },
   {
    "duration": 173,
    "start_time": "2022-02-07T16:55:18.029Z"
   },
   {
    "duration": 4,
    "start_time": "2022-02-07T16:55:24.333Z"
   },
   {
    "duration": 4,
    "start_time": "2022-02-07T16:55:25.965Z"
   },
   {
    "duration": 6,
    "start_time": "2022-02-07T16:55:34.765Z"
   },
   {
    "duration": 4,
    "start_time": "2022-02-07T16:55:39.181Z"
   },
   {
    "duration": 5,
    "start_time": "2022-02-07T16:55:40.678Z"
   },
   {
    "duration": 4,
    "start_time": "2022-02-07T16:55:45.453Z"
   },
   {
    "duration": 4,
    "start_time": "2022-02-07T16:55:46.437Z"
   },
   {
    "duration": 4,
    "start_time": "2022-02-07T16:55:48.277Z"
   },
   {
    "duration": 4,
    "start_time": "2022-02-07T16:55:49.461Z"
   },
   {
    "duration": 11,
    "start_time": "2022-02-07T16:55:52.325Z"
   },
   {
    "duration": 8,
    "start_time": "2022-02-07T16:55:53.469Z"
   },
   {
    "duration": 6,
    "start_time": "2022-02-07T16:55:55.045Z"
   },
   {
    "duration": 7,
    "start_time": "2022-02-07T16:57:00.958Z"
   },
   {
    "duration": 715,
    "start_time": "2022-02-08T06:24:26.678Z"
   },
   {
    "duration": 20,
    "start_time": "2022-02-08T06:24:28.592Z"
   },
   {
    "duration": 13,
    "start_time": "2022-02-08T06:24:30.792Z"
   },
   {
    "duration": 12,
    "start_time": "2022-02-08T06:24:34.247Z"
   },
   {
    "duration": 6,
    "start_time": "2022-02-08T06:24:37.496Z"
   },
   {
    "duration": 6,
    "start_time": "2022-02-08T06:24:38.879Z"
   },
   {
    "duration": 5,
    "start_time": "2022-02-08T06:24:41.952Z"
   },
   {
    "duration": 5,
    "start_time": "2022-02-08T06:24:43.703Z"
   },
   {
    "duration": 5,
    "start_time": "2022-02-08T06:24:46.576Z"
   },
   {
    "duration": 4,
    "start_time": "2022-02-08T06:24:47.520Z"
   },
   {
    "duration": 17,
    "start_time": "2022-02-08T06:24:49.248Z"
   },
   {
    "duration": 6,
    "start_time": "2022-02-08T06:24:51.769Z"
   },
   {
    "duration": 302,
    "start_time": "2022-02-08T06:24:54.168Z"
   },
   {
    "duration": 6,
    "start_time": "2022-02-08T06:24:56.463Z"
   },
   {
    "duration": 9,
    "start_time": "2022-02-08T06:24:57.639Z"
   },
   {
    "duration": 6,
    "start_time": "2022-02-08T06:24:59.287Z"
   },
   {
    "duration": 209,
    "start_time": "2022-02-08T06:25:01.176Z"
   },
   {
    "duration": 4,
    "start_time": "2022-02-08T06:25:03.543Z"
   },
   {
    "duration": 5,
    "start_time": "2022-02-08T06:25:05.216Z"
   },
   {
    "duration": 7,
    "start_time": "2022-02-08T06:25:12.591Z"
   },
   {
    "duration": 4,
    "start_time": "2022-02-08T06:25:14.488Z"
   },
   {
    "duration": 7,
    "start_time": "2022-02-08T06:25:15.895Z"
   },
   {
    "duration": 4,
    "start_time": "2022-02-08T06:25:18.008Z"
   },
   {
    "duration": 6,
    "start_time": "2022-02-08T06:25:19.183Z"
   },
   {
    "duration": 4,
    "start_time": "2022-02-08T06:25:25.127Z"
   },
   {
    "duration": 5,
    "start_time": "2022-02-08T06:25:26.871Z"
   },
   {
    "duration": 7,
    "start_time": "2022-02-08T06:30:38.983Z"
   },
   {
    "duration": 2441,
    "start_time": "2022-02-08T06:36:38.527Z"
   },
   {
    "duration": 6,
    "start_time": "2022-02-08T06:37:12.933Z"
   },
   {
    "duration": 10,
    "start_time": "2022-02-08T06:37:33.783Z"
   },
   {
    "duration": 977,
    "start_time": "2022-02-08T06:40:25.597Z"
   },
   {
    "duration": 5,
    "start_time": "2022-02-08T06:40:38.334Z"
   },
   {
    "duration": 7,
    "start_time": "2022-02-08T06:40:40.355Z"
   },
   {
    "duration": 8,
    "start_time": "2022-02-08T06:41:45.598Z"
   },
   {
    "duration": 4,
    "start_time": "2022-02-08T06:41:57.182Z"
   },
   {
    "duration": 7,
    "start_time": "2022-02-08T06:41:59.157Z"
   },
   {
    "duration": 4,
    "start_time": "2022-02-08T06:42:01.742Z"
   },
   {
    "duration": 5,
    "start_time": "2022-02-08T06:42:02.686Z"
   },
   {
    "duration": 3,
    "start_time": "2022-02-08T06:42:04.647Z"
   },
   {
    "duration": 5,
    "start_time": "2022-02-08T06:42:05.518Z"
   },
   {
    "duration": 13,
    "start_time": "2022-02-08T06:42:07.222Z"
   },
   {
    "duration": 8,
    "start_time": "2022-02-08T06:42:08.126Z"
   },
   {
    "duration": 8,
    "start_time": "2022-02-08T06:42:09.486Z"
   },
   {
    "duration": 9,
    "start_time": "2022-02-08T06:42:10.965Z"
   },
   {
    "duration": 36,
    "start_time": "2022-02-08T06:42:13.942Z"
   },
   {
    "duration": 21,
    "start_time": "2022-02-08T06:42:26.718Z"
   },
   {
    "duration": 5,
    "start_time": "2022-02-08T06:42:31.101Z"
   },
   {
    "duration": 8,
    "start_time": "2022-02-08T06:42:32.630Z"
   },
   {
    "duration": 8,
    "start_time": "2022-02-08T06:42:34.221Z"
   },
   {
    "duration": 5,
    "start_time": "2022-02-08T06:42:41.789Z"
   },
   {
    "duration": 8,
    "start_time": "2022-02-08T06:42:42.925Z"
   },
   {
    "duration": 8,
    "start_time": "2022-02-08T06:42:44.085Z"
   },
   {
    "duration": 278,
    "start_time": "2022-02-08T06:45:08.950Z"
   },
   {
    "duration": 4,
    "start_time": "2022-02-08T06:45:19.750Z"
   },
   {
    "duration": 7,
    "start_time": "2022-02-08T06:45:22.046Z"
   },
   {
    "duration": 259,
    "start_time": "2022-02-08T06:45:23.645Z"
   },
   {
    "duration": 7,
    "start_time": "2022-02-08T06:45:32.766Z"
   },
   {
    "duration": 5,
    "start_time": "2022-02-08T06:59:07.052Z"
   },
   {
    "duration": 11,
    "start_time": "2022-02-08T06:59:15.052Z"
   },
   {
    "duration": 4,
    "start_time": "2022-02-08T07:09:23.523Z"
   },
   {
    "duration": 11,
    "start_time": "2022-02-08T07:10:21.027Z"
   },
   {
    "duration": 15,
    "start_time": "2022-02-08T07:10:33.018Z"
   },
   {
    "duration": 9,
    "start_time": "2022-02-08T08:14:21.731Z"
   },
   {
    "duration": 51,
    "start_time": "2022-02-08T08:20:46.673Z"
   },
   {
    "duration": 49,
    "start_time": "2022-02-08T08:20:51.945Z"
   },
   {
    "duration": 13,
    "start_time": "2022-02-08T08:20:53.553Z"
   },
   {
    "duration": 11,
    "start_time": "2022-02-08T08:20:55.249Z"
   },
   {
    "duration": 11,
    "start_time": "2022-02-08T08:20:58.192Z"
   },
   {
    "duration": 6,
    "start_time": "2022-02-08T08:21:00.041Z"
   },
   {
    "duration": 6,
    "start_time": "2022-02-08T08:21:01.361Z"
   },
   {
    "duration": 6,
    "start_time": "2022-02-08T08:21:03.320Z"
   },
   {
    "duration": 5,
    "start_time": "2022-02-08T08:21:04.361Z"
   },
   {
    "duration": 6,
    "start_time": "2022-02-08T08:21:05.929Z"
   },
   {
    "duration": 5,
    "start_time": "2022-02-08T08:21:06.681Z"
   },
   {
    "duration": 11,
    "start_time": "2022-02-08T08:21:08.432Z"
   },
   {
    "duration": 6,
    "start_time": "2022-02-08T08:21:10.657Z"
   },
   {
    "duration": 231,
    "start_time": "2022-02-08T08:21:12.769Z"
   },
   {
    "duration": 5,
    "start_time": "2022-02-08T08:21:14.857Z"
   },
   {
    "duration": 9,
    "start_time": "2022-02-08T08:21:15.664Z"
   },
   {
    "duration": 6,
    "start_time": "2022-02-08T08:21:17.328Z"
   },
   {
    "duration": 208,
    "start_time": "2022-02-08T08:21:21.697Z"
   },
   {
    "duration": 5,
    "start_time": "2022-02-08T08:21:23.384Z"
   },
   {
    "duration": 5,
    "start_time": "2022-02-08T08:21:24.792Z"
   },
   {
    "duration": 7,
    "start_time": "2022-02-08T08:21:26.576Z"
   },
   {
    "duration": 4,
    "start_time": "2022-02-08T08:21:28.281Z"
   },
   {
    "duration": 7,
    "start_time": "2022-02-08T08:21:29.114Z"
   },
   {
    "duration": 4,
    "start_time": "2022-02-08T08:21:31.074Z"
   },
   {
    "duration": 5,
    "start_time": "2022-02-08T08:21:31.937Z"
   },
   {
    "duration": 4,
    "start_time": "2022-02-08T08:21:33.536Z"
   },
   {
    "duration": 5,
    "start_time": "2022-02-08T08:21:34.624Z"
   },
   {
    "duration": 13,
    "start_time": "2022-02-08T08:21:36.336Z"
   },
   {
    "duration": 9,
    "start_time": "2022-02-08T08:21:37.744Z"
   },
   {
    "duration": 8,
    "start_time": "2022-02-08T08:21:38.777Z"
   },
   {
    "duration": 24,
    "start_time": "2022-02-08T08:21:40.688Z"
   },
   {
    "duration": 5,
    "start_time": "2022-02-08T08:21:42.377Z"
   },
   {
    "duration": 8,
    "start_time": "2022-02-08T08:21:44.160Z"
   },
   {
    "duration": 12,
    "start_time": "2022-02-08T08:21:45.062Z"
   },
   {
    "duration": 4,
    "start_time": "2022-02-08T08:21:47.057Z"
   },
   {
    "duration": 6,
    "start_time": "2022-02-08T08:21:47.912Z"
   },
   {
    "duration": 8,
    "start_time": "2022-02-08T08:21:48.648Z"
   },
   {
    "duration": 5,
    "start_time": "2022-02-08T08:21:53.320Z"
   },
   {
    "duration": 11,
    "start_time": "2022-02-08T08:21:54.425Z"
   },
   {
    "duration": 4,
    "start_time": "2022-02-08T08:21:58.945Z"
   },
   {
    "duration": 10,
    "start_time": "2022-02-08T08:22:00.392Z"
   },
   {
    "duration": 12,
    "start_time": "2022-02-08T08:22:01.489Z"
   },
   {
    "duration": 4,
    "start_time": "2022-02-08T08:22:08.416Z"
   },
   {
    "duration": 4,
    "start_time": "2022-02-08T08:22:14.374Z"
   },
   {
    "duration": 1381,
    "start_time": "2022-02-08T08:22:57.081Z"
   },
   {
    "duration": 3,
    "start_time": "2022-02-08T08:23:19.256Z"
   },
   {
    "duration": 8,
    "start_time": "2022-02-08T08:23:20.816Z"
   },
   {
    "duration": 13,
    "start_time": "2022-02-08T08:23:31.825Z"
   },
   {
    "duration": 4,
    "start_time": "2022-02-08T08:24:28.584Z"
   },
   {
    "duration": 9,
    "start_time": "2022-02-08T08:24:29.976Z"
   },
   {
    "duration": 13,
    "start_time": "2022-02-08T08:24:33.448Z"
   },
   {
    "duration": 8,
    "start_time": "2022-02-08T08:24:48.112Z"
   },
   {
    "duration": 4,
    "start_time": "2022-02-08T08:24:52.744Z"
   },
   {
    "duration": 8,
    "start_time": "2022-02-08T08:24:54.368Z"
   },
   {
    "duration": 14,
    "start_time": "2022-02-08T08:24:55.912Z"
   },
   {
    "duration": 4,
    "start_time": "2022-02-08T08:25:21.647Z"
   },
   {
    "duration": 10,
    "start_time": "2022-02-08T08:25:22.888Z"
   },
   {
    "duration": 14,
    "start_time": "2022-02-08T08:25:25.024Z"
   },
   {
    "duration": 3,
    "start_time": "2022-02-08T08:26:13.562Z"
   },
   {
    "duration": 10,
    "start_time": "2022-02-08T08:26:15.103Z"
   },
   {
    "duration": 14,
    "start_time": "2022-02-08T08:26:16.456Z"
   },
   {
    "duration": 4,
    "start_time": "2022-02-08T08:26:35.167Z"
   },
   {
    "duration": 10,
    "start_time": "2022-02-08T08:26:36.680Z"
   },
   {
    "duration": 14,
    "start_time": "2022-02-08T08:26:37.681Z"
   },
   {
    "duration": 3,
    "start_time": "2022-02-08T08:27:22.992Z"
   },
   {
    "duration": 10,
    "start_time": "2022-02-08T08:27:24.359Z"
   },
   {
    "duration": 14,
    "start_time": "2022-02-08T08:27:25.351Z"
   },
   {
    "duration": 3,
    "start_time": "2022-02-08T08:28:34.048Z"
   },
   {
    "duration": 9,
    "start_time": "2022-02-08T08:28:35.192Z"
   },
   {
    "duration": 14,
    "start_time": "2022-02-08T08:28:36.256Z"
   },
   {
    "duration": 103,
    "start_time": "2022-02-08T09:05:23.708Z"
   },
   {
    "duration": 299,
    "start_time": "2022-02-08T09:05:30.027Z"
   },
   {
    "duration": 39,
    "start_time": "2022-02-08T09:05:48.652Z"
   },
   {
    "duration": 28,
    "start_time": "2022-02-08T09:06:06.602Z"
   },
   {
    "duration": 22,
    "start_time": "2022-02-08T09:06:22.683Z"
   },
   {
    "duration": 413,
    "start_time": "2022-02-08T09:08:03.915Z"
   },
   {
    "duration": 22,
    "start_time": "2022-02-08T09:08:09.579Z"
   },
   {
    "duration": 22,
    "start_time": "2022-02-08T09:13:31.762Z"
   },
   {
    "duration": 376,
    "start_time": "2022-02-09T07:15:23.340Z"
   },
   {
    "duration": 682,
    "start_time": "2022-02-09T07:15:28.508Z"
   },
   {
    "duration": 19,
    "start_time": "2022-02-09T07:15:30.283Z"
   },
   {
    "duration": 12,
    "start_time": "2022-02-09T07:15:31.861Z"
   },
   {
    "duration": 11,
    "start_time": "2022-02-09T07:15:34.589Z"
   },
   {
    "duration": 350,
    "start_time": "2022-02-09T07:15:36.386Z"
   },
   {
    "duration": 6809,
    "start_time": "2022-02-09T07:16:37.333Z"
   },
   {
    "duration": 6904,
    "start_time": "2022-02-09T07:16:48.500Z"
   },
   {
    "duration": 270,
    "start_time": "2022-02-09T07:17:21.686Z"
   },
   {
    "duration": 9,
    "start_time": "2022-02-09T07:20:57.973Z"
   },
   {
    "duration": 10,
    "start_time": "2022-02-09T07:21:04.908Z"
   },
   {
    "duration": 97,
    "start_time": "2022-02-09T07:21:17.661Z"
   },
   {
    "duration": 12,
    "start_time": "2022-02-09T07:21:27.029Z"
   },
   {
    "duration": 288,
    "start_time": "2022-02-09T07:23:00.062Z"
   },
   {
    "duration": 10,
    "start_time": "2022-02-09T07:23:06.829Z"
   },
   {
    "duration": 11,
    "start_time": "2022-02-09T07:23:37.069Z"
   },
   {
    "duration": 5,
    "start_time": "2022-02-09T07:25:47.998Z"
   },
   {
    "duration": 5,
    "start_time": "2022-02-09T07:25:50.086Z"
   },
   {
    "duration": 5,
    "start_time": "2022-02-09T07:25:51.053Z"
   },
   {
    "duration": 4,
    "start_time": "2022-02-09T07:25:52.358Z"
   },
   {
    "duration": 5,
    "start_time": "2022-02-09T07:25:54.125Z"
   },
   {
    "duration": 5,
    "start_time": "2022-02-09T07:26:10.165Z"
   },
   {
    "duration": 4,
    "start_time": "2022-02-09T07:26:11.486Z"
   },
   {
    "duration": 10,
    "start_time": "2022-02-09T07:31:10.238Z"
   },
   {
    "duration": 7,
    "start_time": "2022-02-09T07:37:03.518Z"
   },
   {
    "duration": 5,
    "start_time": "2022-02-09T07:38:44.502Z"
   },
   {
    "duration": 5,
    "start_time": "2022-02-09T07:38:52.678Z"
   },
   {
    "duration": 306,
    "start_time": "2022-02-09T07:39:54.438Z"
   },
   {
    "duration": 23,
    "start_time": "2022-02-09T07:41:55.278Z"
   },
   {
    "duration": 23,
    "start_time": "2022-02-09T07:42:41.412Z"
   },
   {
    "duration": 26,
    "start_time": "2022-02-09T07:43:32.566Z"
   },
   {
    "duration": 7,
    "start_time": "2022-02-09T07:44:03.630Z"
   },
   {
    "duration": 7,
    "start_time": "2022-02-09T07:44:16.413Z"
   },
   {
    "duration": 7,
    "start_time": "2022-02-09T07:46:09.533Z"
   },
   {
    "duration": 6,
    "start_time": "2022-02-09T07:47:24.286Z"
   },
   {
    "duration": 7,
    "start_time": "2022-02-09T08:55:02.957Z"
   },
   {
    "duration": 19,
    "start_time": "2022-02-09T12:06:21.333Z"
   },
   {
    "duration": 21,
    "start_time": "2022-02-09T12:06:35.222Z"
   },
   {
    "duration": 9,
    "start_time": "2022-02-09T12:06:52.245Z"
   },
   {
    "duration": 14,
    "start_time": "2022-02-09T12:07:29.492Z"
   },
   {
    "duration": 9,
    "start_time": "2022-02-09T12:07:34.310Z"
   },
   {
    "duration": 8,
    "start_time": "2022-02-09T12:09:38.854Z"
   },
   {
    "duration": 9,
    "start_time": "2022-02-09T12:09:56.926Z"
   },
   {
    "duration": 60,
    "start_time": "2022-02-09T12:10:12.893Z"
   },
   {
    "duration": 752,
    "start_time": "2022-02-09T12:10:19.202Z"
   },
   {
    "duration": 19,
    "start_time": "2022-02-09T12:10:20.929Z"
   },
   {
    "duration": 12,
    "start_time": "2022-02-09T12:10:22.625Z"
   },
   {
    "duration": 11,
    "start_time": "2022-02-09T12:10:27.273Z"
   },
   {
    "duration": 6,
    "start_time": "2022-02-09T12:10:29.472Z"
   },
   {
    "duration": 7,
    "start_time": "2022-02-09T12:10:31.232Z"
   },
   {
    "duration": 6,
    "start_time": "2022-02-09T12:10:33.480Z"
   },
   {
    "duration": 5,
    "start_time": "2022-02-09T12:10:34.880Z"
   },
   {
    "duration": 5,
    "start_time": "2022-02-09T12:10:41.272Z"
   },
   {
    "duration": 5,
    "start_time": "2022-02-09T12:10:43.409Z"
   },
   {
    "duration": 11,
    "start_time": "2022-02-09T12:10:46.312Z"
   },
   {
    "duration": 7,
    "start_time": "2022-02-09T12:10:49.720Z"
   },
   {
    "duration": 5,
    "start_time": "2022-02-09T12:10:52.304Z"
   },
   {
    "duration": 344,
    "start_time": "2022-02-09T12:10:54.240Z"
   },
   {
    "duration": 26,
    "start_time": "2022-02-09T12:10:58.209Z"
   },
   {
    "duration": 7,
    "start_time": "2022-02-09T12:11:03.960Z"
   },
   {
    "duration": 10,
    "start_time": "2022-02-09T12:11:05.808Z"
   },
   {
    "duration": 7,
    "start_time": "2022-02-09T12:11:41.544Z"
   },
   {
    "duration": 9,
    "start_time": "2022-02-09T12:11:44.489Z"
   },
   {
    "duration": 12,
    "start_time": "2022-02-09T12:13:30.409Z"
   },
   {
    "duration": 12,
    "start_time": "2022-02-09T12:13:31.985Z"
   },
   {
    "duration": 6,
    "start_time": "2022-02-09T12:13:39.632Z"
   },
   {
    "duration": 8,
    "start_time": "2022-02-09T12:13:43.232Z"
   },
   {
    "duration": 712,
    "start_time": "2022-02-09T12:16:02.152Z"
   },
   {
    "duration": 20,
    "start_time": "2022-02-09T12:16:02.866Z"
   },
   {
    "duration": 16,
    "start_time": "2022-02-09T12:16:02.891Z"
   },
   {
    "duration": 23,
    "start_time": "2022-02-09T12:16:02.909Z"
   },
   {
    "duration": 18,
    "start_time": "2022-02-09T12:16:02.934Z"
   },
   {
    "duration": 17,
    "start_time": "2022-02-09T12:16:02.955Z"
   },
   {
    "duration": 26,
    "start_time": "2022-02-09T12:16:02.976Z"
   },
   {
    "duration": 19,
    "start_time": "2022-02-09T12:16:03.005Z"
   },
   {
    "duration": 30,
    "start_time": "2022-02-09T12:16:03.026Z"
   },
   {
    "duration": 20,
    "start_time": "2022-02-09T12:16:03.058Z"
   },
   {
    "duration": 34,
    "start_time": "2022-02-09T12:16:03.079Z"
   },
   {
    "duration": 28,
    "start_time": "2022-02-09T12:16:03.114Z"
   },
   {
    "duration": 23,
    "start_time": "2022-02-09T12:16:03.143Z"
   },
   {
    "duration": 340,
    "start_time": "2022-02-09T12:16:03.168Z"
   },
   {
    "duration": 24,
    "start_time": "2022-02-09T12:16:03.510Z"
   },
   {
    "duration": 6,
    "start_time": "2022-02-09T12:16:03.536Z"
   },
   {
    "duration": 134,
    "start_time": "2022-02-09T12:16:03.545Z"
   },
   {
    "duration": -13,
    "start_time": "2022-02-09T12:16:03.695Z"
   },
   {
    "duration": -14,
    "start_time": "2022-02-09T12:16:03.697Z"
   },
   {
    "duration": -14,
    "start_time": "2022-02-09T12:16:03.699Z"
   },
   {
    "duration": -14,
    "start_time": "2022-02-09T12:16:03.701Z"
   },
   {
    "duration": -15,
    "start_time": "2022-02-09T12:16:03.703Z"
   },
   {
    "duration": -18,
    "start_time": "2022-02-09T12:16:03.708Z"
   },
   {
    "duration": -20,
    "start_time": "2022-02-09T12:16:03.711Z"
   },
   {
    "duration": -20,
    "start_time": "2022-02-09T12:16:03.713Z"
   },
   {
    "duration": -22,
    "start_time": "2022-02-09T12:16:03.716Z"
   },
   {
    "duration": -22,
    "start_time": "2022-02-09T12:16:03.718Z"
   },
   {
    "duration": -22,
    "start_time": "2022-02-09T12:16:03.720Z"
   },
   {
    "duration": -23,
    "start_time": "2022-02-09T12:16:03.722Z"
   },
   {
    "duration": -23,
    "start_time": "2022-02-09T12:16:03.724Z"
   },
   {
    "duration": -24,
    "start_time": "2022-02-09T12:16:03.726Z"
   },
   {
    "duration": -25,
    "start_time": "2022-02-09T12:16:03.728Z"
   },
   {
    "duration": -25,
    "start_time": "2022-02-09T12:16:03.729Z"
   },
   {
    "duration": -30,
    "start_time": "2022-02-09T12:16:03.735Z"
   },
   {
    "duration": -31,
    "start_time": "2022-02-09T12:16:03.737Z"
   },
   {
    "duration": -32,
    "start_time": "2022-02-09T12:16:03.739Z"
   },
   {
    "duration": -34,
    "start_time": "2022-02-09T12:16:03.742Z"
   },
   {
    "duration": -36,
    "start_time": "2022-02-09T12:16:03.744Z"
   },
   {
    "duration": -37,
    "start_time": "2022-02-09T12:16:03.746Z"
   },
   {
    "duration": -38,
    "start_time": "2022-02-09T12:16:03.748Z"
   },
   {
    "duration": -39,
    "start_time": "2022-02-09T12:16:03.750Z"
   },
   {
    "duration": -41,
    "start_time": "2022-02-09T12:16:03.753Z"
   },
   {
    "duration": -42,
    "start_time": "2022-02-09T12:16:03.755Z"
   },
   {
    "duration": -44,
    "start_time": "2022-02-09T12:16:03.758Z"
   },
   {
    "duration": -45,
    "start_time": "2022-02-09T12:16:03.760Z"
   },
   {
    "duration": -46,
    "start_time": "2022-02-09T12:16:03.762Z"
   },
   {
    "duration": -47,
    "start_time": "2022-02-09T12:16:03.764Z"
   },
   {
    "duration": -48,
    "start_time": "2022-02-09T12:16:03.766Z"
   },
   {
    "duration": -49,
    "start_time": "2022-02-09T12:16:03.768Z"
   },
   {
    "duration": -51,
    "start_time": "2022-02-09T12:16:03.770Z"
   },
   {
    "duration": 25790,
    "start_time": "2022-02-09T12:17:22.585Z"
   },
   {
    "duration": 216,
    "start_time": "2022-02-09T12:18:56.746Z"
   },
   {
    "duration": 8,
    "start_time": "2022-02-09T12:21:44.544Z"
   },
   {
    "duration": 222,
    "start_time": "2022-02-09T12:22:08.352Z"
   },
   {
    "duration": 275,
    "start_time": "2022-02-09T12:22:30.545Z"
   },
   {
    "duration": 4,
    "start_time": "2022-02-09T12:22:46.025Z"
   },
   {
    "duration": 4,
    "start_time": "2022-02-09T12:22:48.552Z"
   },
   {
    "duration": 13,
    "start_time": "2022-02-09T12:22:55.368Z"
   },
   {
    "duration": 86,
    "start_time": "2022-02-09T12:23:19.865Z"
   },
   {
    "duration": -3,
    "start_time": "2022-02-09T12:24:46.908Z"
   },
   {
    "duration": 2026,
    "start_time": "2022-02-09T12:25:08.458Z"
   },
   {
    "duration": 16,
    "start_time": "2022-02-09T12:25:23.817Z"
   },
   {
    "duration": 53,
    "start_time": "2022-02-09T12:25:48.056Z"
   },
   {
    "duration": 706,
    "start_time": "2022-02-09T12:26:03.912Z"
   },
   {
    "duration": 21,
    "start_time": "2022-02-09T12:26:05.750Z"
   },
   {
    "duration": 13,
    "start_time": "2022-02-09T12:26:08.344Z"
   },
   {
    "duration": 11,
    "start_time": "2022-02-09T12:26:11.440Z"
   },
   {
    "duration": 6,
    "start_time": "2022-02-09T12:26:13.168Z"
   },
   {
    "duration": 6,
    "start_time": "2022-02-09T12:26:14.592Z"
   },
   {
    "duration": 5,
    "start_time": "2022-02-09T12:26:16.608Z"
   },
   {
    "duration": 5,
    "start_time": "2022-02-09T12:26:17.823Z"
   },
   {
    "duration": 6,
    "start_time": "2022-02-09T12:26:19.687Z"
   },
   {
    "duration": 5,
    "start_time": "2022-02-09T12:26:20.904Z"
   },
   {
    "duration": 11,
    "start_time": "2022-02-09T12:26:23.297Z"
   },
   {
    "duration": 7,
    "start_time": "2022-02-09T12:26:25.328Z"
   },
   {
    "duration": 5,
    "start_time": "2022-02-09T12:26:28.000Z"
   },
   {
    "duration": 315,
    "start_time": "2022-02-09T12:26:30.737Z"
   },
   {
    "duration": 26,
    "start_time": "2022-02-09T12:26:36.024Z"
   },
   {
    "duration": 7,
    "start_time": "2022-02-09T12:26:39.272Z"
   },
   {
    "duration": 25403,
    "start_time": "2022-02-09T12:26:41.944Z"
   },
   {
    "duration": 14,
    "start_time": "2022-02-09T12:27:07.349Z"
   },
   {
    "duration": 11,
    "start_time": "2022-02-09T12:27:38.128Z"
   },
   {
    "duration": 649,
    "start_time": "2022-02-09T12:28:23.524Z"
   },
   {
    "duration": 21,
    "start_time": "2022-02-09T12:28:27.202Z"
   },
   {
    "duration": 12,
    "start_time": "2022-02-09T12:28:29.132Z"
   },
   {
    "duration": 11,
    "start_time": "2022-02-09T12:28:32.589Z"
   },
   {
    "duration": 5,
    "start_time": "2022-02-09T12:28:35.340Z"
   },
   {
    "duration": 6,
    "start_time": "2022-02-09T12:28:36.691Z"
   },
   {
    "duration": 5,
    "start_time": "2022-02-09T12:28:38.548Z"
   },
   {
    "duration": 4,
    "start_time": "2022-02-09T12:28:39.500Z"
   },
   {
    "duration": 5,
    "start_time": "2022-02-09T12:28:41.140Z"
   },
   {
    "duration": 5,
    "start_time": "2022-02-09T12:28:42.035Z"
   },
   {
    "duration": 11,
    "start_time": "2022-02-09T12:28:43.379Z"
   },
   {
    "duration": 8,
    "start_time": "2022-02-09T12:28:45.386Z"
   },
   {
    "duration": 6,
    "start_time": "2022-02-09T12:28:46.979Z"
   },
   {
    "duration": 340,
    "start_time": "2022-02-09T12:28:49.212Z"
   },
   {
    "duration": 34,
    "start_time": "2022-02-09T12:28:52.111Z"
   },
   {
    "duration": 8,
    "start_time": "2022-02-09T12:28:55.627Z"
   },
   {
    "duration": 29261,
    "start_time": "2022-02-09T12:28:57.259Z"
   },
   {
    "duration": 17,
    "start_time": "2022-02-09T12:29:26.523Z"
   },
   {
    "duration": 8,
    "start_time": "2022-02-09T12:33:22.564Z"
   },
   {
    "duration": 11,
    "start_time": "2022-02-09T12:33:26.723Z"
   },
   {
    "duration": 656,
    "start_time": "2022-02-09T12:33:47.040Z"
   },
   {
    "duration": 21,
    "start_time": "2022-02-09T12:33:47.698Z"
   },
   {
    "duration": 12,
    "start_time": "2022-02-09T12:33:47.725Z"
   },
   {
    "duration": 11,
    "start_time": "2022-02-09T12:33:47.739Z"
   },
   {
    "duration": 6,
    "start_time": "2022-02-09T12:33:47.752Z"
   },
   {
    "duration": 5,
    "start_time": "2022-02-09T12:33:47.798Z"
   },
   {
    "duration": 7,
    "start_time": "2022-02-09T12:33:47.805Z"
   },
   {
    "duration": 6,
    "start_time": "2022-02-09T12:33:47.814Z"
   },
   {
    "duration": 5,
    "start_time": "2022-02-09T12:33:47.822Z"
   },
   {
    "duration": 7,
    "start_time": "2022-02-09T12:33:47.828Z"
   },
   {
    "duration": 12,
    "start_time": "2022-02-09T12:33:47.837Z"
   },
   {
    "duration": 16,
    "start_time": "2022-02-09T12:33:47.851Z"
   },
   {
    "duration": 5,
    "start_time": "2022-02-09T12:33:47.868Z"
   },
   {
    "duration": 300,
    "start_time": "2022-02-09T12:33:47.899Z"
   },
   {
    "duration": 23,
    "start_time": "2022-02-09T12:33:48.200Z"
   },
   {
    "duration": 6,
    "start_time": "2022-02-09T12:33:48.225Z"
   },
   {
    "duration": 4040,
    "start_time": "2022-02-09T12:33:48.232Z"
   },
   {
    "duration": 2,
    "start_time": "2022-02-09T12:33:52.274Z"
   },
   {
    "duration": 15,
    "start_time": "2022-02-09T12:33:52.277Z"
   },
   {
    "duration": 4,
    "start_time": "2022-02-09T12:33:52.299Z"
   },
   {
    "duration": 18,
    "start_time": "2022-02-09T12:33:52.305Z"
   },
   {
    "duration": 8,
    "start_time": "2022-02-09T12:33:52.327Z"
   },
   {
    "duration": 5,
    "start_time": "2022-02-09T12:33:52.337Z"
   },
   {
    "duration": 7,
    "start_time": "2022-02-09T12:33:52.343Z"
   },
   {
    "duration": 6,
    "start_time": "2022-02-09T12:33:52.352Z"
   },
   {
    "duration": 13,
    "start_time": "2022-02-09T12:33:52.360Z"
   },
   {
    "duration": 4,
    "start_time": "2022-02-09T12:33:52.398Z"
   },
   {
    "duration": 9,
    "start_time": "2022-02-09T12:33:52.404Z"
   },
   {
    "duration": 14,
    "start_time": "2022-02-09T12:33:52.415Z"
   },
   {
    "duration": 15,
    "start_time": "2022-02-09T12:33:52.431Z"
   },
   {
    "duration": 14,
    "start_time": "2022-02-09T12:33:52.448Z"
   },
   {
    "duration": 11,
    "start_time": "2022-02-09T12:33:52.464Z"
   },
   {
    "duration": 26,
    "start_time": "2022-02-09T12:33:52.498Z"
   },
   {
    "duration": 5,
    "start_time": "2022-02-09T12:33:52.526Z"
   },
   {
    "duration": 11,
    "start_time": "2022-02-09T12:33:52.533Z"
   },
   {
    "duration": 8,
    "start_time": "2022-02-09T12:33:52.546Z"
   },
   {
    "duration": 6,
    "start_time": "2022-02-09T12:33:52.557Z"
   },
   {
    "duration": 40,
    "start_time": "2022-02-09T12:33:52.564Z"
   },
   {
    "duration": 8,
    "start_time": "2022-02-09T12:33:52.606Z"
   },
   {
    "duration": 8,
    "start_time": "2022-02-09T12:33:52.616Z"
   },
   {
    "duration": 24,
    "start_time": "2022-02-09T12:33:52.625Z"
   },
   {
    "duration": 5,
    "start_time": "2022-02-09T12:33:52.651Z"
   },
   {
    "duration": 11,
    "start_time": "2022-02-09T12:33:52.657Z"
   },
   {
    "duration": 30,
    "start_time": "2022-02-09T12:33:52.670Z"
   },
   {
    "duration": 10,
    "start_time": "2022-02-09T12:33:52.702Z"
   },
   {
    "duration": 4,
    "start_time": "2022-02-09T12:33:52.714Z"
   },
   {
    "duration": 14,
    "start_time": "2022-02-09T12:33:52.720Z"
   },
   {
    "duration": 12,
    "start_time": "2022-02-09T12:33:52.736Z"
   },
   {
    "duration": 50,
    "start_time": "2022-02-09T12:33:52.750Z"
   },
   {
    "duration": 22,
    "start_time": "2022-02-09T12:33:52.801Z"
   },
   {
    "duration": 218,
    "start_time": "2022-02-09T12:35:24.169Z"
   },
   {
    "duration": 13,
    "start_time": "2022-02-09T12:35:39.569Z"
   },
   {
    "duration": 245,
    "start_time": "2022-02-09T12:36:11.714Z"
   },
   {
    "duration": 217,
    "start_time": "2022-02-09T12:36:38.025Z"
   },
   {
    "duration": 225,
    "start_time": "2022-02-09T12:36:46.681Z"
   },
   {
    "duration": 5,
    "start_time": "2022-02-09T12:37:08.480Z"
   },
   {
    "duration": 9,
    "start_time": "2022-02-09T12:37:30.505Z"
   },
   {
    "duration": 12,
    "start_time": "2022-02-09T12:37:41.001Z"
   },
   {
    "duration": 4,
    "start_time": "2022-02-09T12:38:22.889Z"
   },
   {
    "duration": 19,
    "start_time": "2022-02-09T12:38:34.689Z"
   },
   {
    "duration": 18,
    "start_time": "2022-02-09T12:46:44.673Z"
   },
   {
    "duration": 6,
    "start_time": "2022-02-09T12:47:11.504Z"
   },
   {
    "duration": 4,
    "start_time": "2022-02-09T12:47:25.392Z"
   },
   {
    "duration": 101,
    "start_time": "2022-02-09T12:49:12.664Z"
   },
   {
    "duration": 90,
    "start_time": "2022-02-09T12:49:22.129Z"
   },
   {
    "duration": 84,
    "start_time": "2022-02-09T12:49:26.128Z"
   },
   {
    "duration": 98,
    "start_time": "2022-02-09T12:49:36.408Z"
   },
   {
    "duration": 3,
    "start_time": "2022-02-09T12:58:01.137Z"
   },
   {
    "duration": 7,
    "start_time": "2022-02-09T12:58:10.232Z"
   },
   {
    "duration": 7049,
    "start_time": "2022-02-09T12:59:37.568Z"
   },
   {
    "duration": -27,
    "start_time": "2022-02-09T12:59:44.647Z"
   },
   {
    "duration": 5,
    "start_time": "2022-02-09T12:59:55.981Z"
   },
   {
    "duration": 6,
    "start_time": "2022-02-09T12:59:57.537Z"
   },
   {
    "duration": 9,
    "start_time": "2022-02-09T13:00:57.615Z"
   },
   {
    "duration": 269,
    "start_time": "2022-02-09T13:01:08.055Z"
   },
   {
    "duration": 14,
    "start_time": "2022-02-09T13:01:12.487Z"
   },
   {
    "duration": 23,
    "start_time": "2022-02-09T13:05:05.998Z"
   },
   {
    "duration": 13,
    "start_time": "2022-02-09T13:05:23.580Z"
   },
   {
    "duration": 20,
    "start_time": "2022-02-09T13:05:37.166Z"
   },
   {
    "duration": 13,
    "start_time": "2022-02-09T13:05:40.262Z"
   },
   {
    "duration": 667,
    "start_time": "2022-02-09T13:06:12.125Z"
   },
   {
    "duration": 20,
    "start_time": "2022-02-09T13:06:13.549Z"
   },
   {
    "duration": 12,
    "start_time": "2022-02-09T13:06:15.901Z"
   },
   {
    "duration": 11,
    "start_time": "2022-02-09T13:06:19.253Z"
   },
   {
    "duration": 6,
    "start_time": "2022-02-09T13:06:21.357Z"
   },
   {
    "duration": 5,
    "start_time": "2022-02-09T13:06:22.589Z"
   },
   {
    "duration": 4,
    "start_time": "2022-02-09T13:06:24.109Z"
   },
   {
    "duration": 6,
    "start_time": "2022-02-09T13:06:27.230Z"
   },
   {
    "duration": 5,
    "start_time": "2022-02-09T13:06:29.093Z"
   },
   {
    "duration": 6,
    "start_time": "2022-02-09T13:06:33.677Z"
   },
   {
    "duration": 6,
    "start_time": "2022-02-09T13:06:34.716Z"
   },
   {
    "duration": 11,
    "start_time": "2022-02-09T13:06:36.573Z"
   },
   {
    "duration": 7,
    "start_time": "2022-02-09T13:06:38.669Z"
   },
   {
    "duration": 5,
    "start_time": "2022-02-09T13:06:40.365Z"
   },
   {
    "duration": 298,
    "start_time": "2022-02-09T13:06:42.133Z"
   },
   {
    "duration": 24,
    "start_time": "2022-02-09T13:06:45.725Z"
   },
   {
    "duration": 7,
    "start_time": "2022-02-09T13:06:49.221Z"
   },
   {
    "duration": 3968,
    "start_time": "2022-02-09T13:06:51.253Z"
   },
   {
    "duration": 217,
    "start_time": "2022-02-09T13:06:57.453Z"
   },
   {
    "duration": 217,
    "start_time": "2022-02-09T13:07:01.645Z"
   },
   {
    "duration": 24,
    "start_time": "2022-02-09T13:07:03.621Z"
   },
   {
    "duration": 6,
    "start_time": "2022-02-09T13:07:11.293Z"
   },
   {
    "duration": 5,
    "start_time": "2022-02-09T13:07:13.597Z"
   },
   {
    "duration": 6,
    "start_time": "2022-02-09T13:07:14.797Z"
   },
   {
    "duration": 6,
    "start_time": "2022-02-09T13:07:29.500Z"
   },
   {
    "duration": 6784,
    "start_time": "2022-02-09T13:07:39.572Z"
   },
   {
    "duration": 25,
    "start_time": "2022-02-09T13:08:58.261Z"
   },
   {
    "duration": 6858,
    "start_time": "2022-02-09T13:09:23.892Z"
   },
   {
    "duration": 6951,
    "start_time": "2022-02-09T13:09:45.812Z"
   },
   {
    "duration": 7007,
    "start_time": "2022-02-09T13:10:08.573Z"
   },
   {
    "duration": 6641,
    "start_time": "2022-02-09T13:10:27.404Z"
   },
   {
    "duration": 23,
    "start_time": "2022-02-09T13:10:44.811Z"
   },
   {
    "duration": 5,
    "start_time": "2022-02-09T13:11:38.076Z"
   },
   {
    "duration": 6,
    "start_time": "2022-02-09T13:11:41.556Z"
   },
   {
    "duration": 5,
    "start_time": "2022-02-09T13:11:51.332Z"
   },
   {
    "duration": 5,
    "start_time": "2022-02-09T13:11:57.692Z"
   },
   {
    "duration": 12,
    "start_time": "2022-02-09T13:11:59.548Z"
   },
   {
    "duration": 7,
    "start_time": "2022-02-09T13:12:24.668Z"
   },
   {
    "duration": 8,
    "start_time": "2022-02-09T13:12:40.212Z"
   },
   {
    "duration": 14,
    "start_time": "2022-02-09T13:12:44.916Z"
   },
   {
    "duration": 8,
    "start_time": "2022-02-09T13:13:01.540Z"
   },
   {
    "duration": 15,
    "start_time": "2022-02-09T13:13:03.244Z"
   },
   {
    "duration": 18,
    "start_time": "2022-02-09T13:13:23.909Z"
   },
   {
    "duration": 25,
    "start_time": "2022-02-09T13:13:49.813Z"
   },
   {
    "duration": 24,
    "start_time": "2022-02-09T13:13:55.348Z"
   },
   {
    "duration": 53,
    "start_time": "2022-02-09T13:14:13.884Z"
   },
   {
    "duration": 713,
    "start_time": "2022-02-09T13:14:21.771Z"
   },
   {
    "duration": 20,
    "start_time": "2022-02-09T13:14:23.484Z"
   },
   {
    "duration": 13,
    "start_time": "2022-02-09T13:14:25.309Z"
   },
   {
    "duration": 12,
    "start_time": "2022-02-09T13:14:28.187Z"
   },
   {
    "duration": 5,
    "start_time": "2022-02-09T13:14:30.708Z"
   },
   {
    "duration": 6,
    "start_time": "2022-02-09T13:14:31.971Z"
   },
   {
    "duration": 5,
    "start_time": "2022-02-09T13:14:33.460Z"
   },
   {
    "duration": 6,
    "start_time": "2022-02-09T13:14:34.475Z"
   },
   {
    "duration": 5,
    "start_time": "2022-02-09T13:14:36.331Z"
   },
   {
    "duration": 4,
    "start_time": "2022-02-09T13:14:37.253Z"
   },
   {
    "duration": 12,
    "start_time": "2022-02-09T13:14:38.539Z"
   },
   {
    "duration": 7,
    "start_time": "2022-02-09T13:14:40.372Z"
   },
   {
    "duration": 5,
    "start_time": "2022-02-09T13:14:41.803Z"
   },
   {
    "duration": 307,
    "start_time": "2022-02-09T13:14:43.067Z"
   },
   {
    "duration": 25,
    "start_time": "2022-02-09T13:14:45.100Z"
   },
   {
    "duration": 8,
    "start_time": "2022-02-09T13:14:47.091Z"
   },
   {
    "duration": 4118,
    "start_time": "2022-02-09T13:14:49.051Z"
   },
   {
    "duration": 229,
    "start_time": "2022-02-09T13:14:53.171Z"
   },
   {
    "duration": 209,
    "start_time": "2022-02-09T13:14:56.932Z"
   },
   {
    "duration": 25,
    "start_time": "2022-02-09T13:14:58.596Z"
   },
   {
    "duration": 6,
    "start_time": "2022-02-09T13:15:01.211Z"
   },
   {
    "duration": 4,
    "start_time": "2022-02-09T13:15:03.141Z"
   },
   {
    "duration": 7,
    "start_time": "2022-02-09T13:15:04.179Z"
   },
   {
    "duration": 7,
    "start_time": "2022-02-09T13:15:06.556Z"
   },
   {
    "duration": 20,
    "start_time": "2022-02-09T13:15:10.620Z"
   },
   {
    "duration": 6,
    "start_time": "2022-02-09T13:15:43.596Z"
   },
   {
    "duration": 5,
    "start_time": "2022-02-09T13:15:55.939Z"
   },
   {
    "duration": 15,
    "start_time": "2022-02-09T13:16:03.043Z"
   },
   {
    "duration": 8,
    "start_time": "2022-02-09T13:16:41.545Z"
   },
   {
    "duration": 61,
    "start_time": "2022-02-09T13:16:43.211Z"
   },
   {
    "duration": 712,
    "start_time": "2022-02-09T13:18:43.890Z"
   },
   {
    "duration": 19,
    "start_time": "2022-02-09T13:18:44.604Z"
   },
   {
    "duration": 18,
    "start_time": "2022-02-09T13:18:44.626Z"
   },
   {
    "duration": 9,
    "start_time": "2022-02-09T13:18:44.647Z"
   },
   {
    "duration": 5,
    "start_time": "2022-02-09T13:18:44.658Z"
   },
   {
    "duration": 34,
    "start_time": "2022-02-09T13:18:44.665Z"
   },
   {
    "duration": 6,
    "start_time": "2022-02-09T13:18:44.701Z"
   },
   {
    "duration": 6,
    "start_time": "2022-02-09T13:18:44.710Z"
   },
   {
    "duration": 6,
    "start_time": "2022-02-09T13:18:44.718Z"
   },
   {
    "duration": 5,
    "start_time": "2022-02-09T13:18:44.726Z"
   },
   {
    "duration": 16,
    "start_time": "2022-02-09T13:18:44.733Z"
   },
   {
    "duration": 49,
    "start_time": "2022-02-09T13:18:44.751Z"
   },
   {
    "duration": 6,
    "start_time": "2022-02-09T13:18:44.802Z"
   },
   {
    "duration": 345,
    "start_time": "2022-02-09T13:18:44.810Z"
   },
   {
    "duration": 25,
    "start_time": "2022-02-09T13:18:45.158Z"
   },
   {
    "duration": 12,
    "start_time": "2022-02-09T13:18:45.200Z"
   },
   {
    "duration": 4268,
    "start_time": "2022-02-09T13:18:45.216Z"
   },
   {
    "duration": 234,
    "start_time": "2022-02-09T13:18:49.485Z"
   },
   {
    "duration": 214,
    "start_time": "2022-02-09T13:18:49.721Z"
   },
   {
    "duration": 25,
    "start_time": "2022-02-09T13:18:49.937Z"
   },
   {
    "duration": 25,
    "start_time": "2022-02-09T13:18:49.963Z"
   },
   {
    "duration": 15,
    "start_time": "2022-02-09T13:18:49.990Z"
   },
   {
    "duration": 19,
    "start_time": "2022-02-09T13:18:50.008Z"
   },
   {
    "duration": 27,
    "start_time": "2022-02-09T13:18:50.029Z"
   },
   {
    "duration": 27,
    "start_time": "2022-02-09T13:18:50.058Z"
   },
   {
    "duration": 27,
    "start_time": "2022-02-09T13:18:50.087Z"
   },
   {
    "duration": 29,
    "start_time": "2022-02-09T13:18:50.116Z"
   },
   {
    "duration": 15,
    "start_time": "2022-02-09T13:18:50.147Z"
   },
   {
    "duration": 28,
    "start_time": "2022-02-09T13:18:50.164Z"
   },
   {
    "duration": 26,
    "start_time": "2022-02-09T13:18:50.194Z"
   },
   {
    "duration": 13,
    "start_time": "2022-02-09T13:18:50.222Z"
   },
   {
    "duration": 21,
    "start_time": "2022-02-09T13:18:50.237Z"
   },
   {
    "duration": 69,
    "start_time": "2022-02-09T13:18:50.260Z"
   },
   {
    "duration": 11,
    "start_time": "2022-02-09T13:18:50.331Z"
   },
   {
    "duration": 10,
    "start_time": "2022-02-09T13:18:50.345Z"
   },
   {
    "duration": 27,
    "start_time": "2022-02-09T13:18:50.358Z"
   },
   {
    "duration": 25,
    "start_time": "2022-02-09T13:18:50.387Z"
   },
   {
    "duration": 20,
    "start_time": "2022-02-09T13:18:50.414Z"
   },
   {
    "duration": 8,
    "start_time": "2022-02-09T13:18:50.436Z"
   },
   {
    "duration": 15,
    "start_time": "2022-02-09T13:18:50.446Z"
   },
   {
    "duration": 21,
    "start_time": "2022-02-09T13:18:50.463Z"
   },
   {
    "duration": 18,
    "start_time": "2022-02-09T13:18:50.486Z"
   },
   {
    "duration": 15,
    "start_time": "2022-02-09T13:18:50.506Z"
   },
   {
    "duration": 26,
    "start_time": "2022-02-09T13:18:50.523Z"
   },
   {
    "duration": 30,
    "start_time": "2022-02-09T13:18:50.551Z"
   },
   {
    "duration": 45,
    "start_time": "2022-02-09T13:18:50.583Z"
   },
   {
    "duration": 21,
    "start_time": "2022-02-09T13:18:50.630Z"
   },
   {
    "duration": 6651,
    "start_time": "2022-02-09T13:44:10.178Z"
   },
   {
    "duration": -19,
    "start_time": "2022-02-09T13:44:16.850Z"
   },
   {
    "duration": 708,
    "start_time": "2022-02-09T13:44:35.082Z"
   },
   {
    "duration": 20,
    "start_time": "2022-02-09T13:44:36.906Z"
   },
   {
    "duration": 12,
    "start_time": "2022-02-09T13:44:38.866Z"
   },
   {
    "duration": 11,
    "start_time": "2022-02-09T13:44:41.786Z"
   },
   {
    "duration": 6,
    "start_time": "2022-02-09T13:44:43.601Z"
   },
   {
    "duration": 6,
    "start_time": "2022-02-09T13:44:46.098Z"
   },
   {
    "duration": 5,
    "start_time": "2022-02-09T13:44:47.770Z"
   },
   {
    "duration": 5,
    "start_time": "2022-02-09T13:44:48.993Z"
   },
   {
    "duration": 6,
    "start_time": "2022-02-09T13:44:50.921Z"
   },
   {
    "duration": 5,
    "start_time": "2022-02-09T13:44:51.953Z"
   },
   {
    "duration": 12,
    "start_time": "2022-02-09T13:44:53.521Z"
   },
   {
    "duration": 7,
    "start_time": "2022-02-09T13:44:55.193Z"
   },
   {
    "duration": 6,
    "start_time": "2022-02-09T13:44:57.025Z"
   },
   {
    "duration": 412,
    "start_time": "2022-02-09T13:44:58.513Z"
   },
   {
    "duration": 34,
    "start_time": "2022-02-09T13:45:00.362Z"
   },
   {
    "duration": 17,
    "start_time": "2022-02-09T13:45:21.649Z"
   },
   {
    "duration": 26,
    "start_time": "2022-02-09T13:45:32.226Z"
   },
   {
    "duration": 7,
    "start_time": "2022-02-09T13:45:40.969Z"
   },
   {
    "duration": 4107,
    "start_time": "2022-02-09T13:45:42.077Z"
   },
   {
    "duration": 214,
    "start_time": "2022-02-09T13:45:48.857Z"
   },
   {
    "duration": 230,
    "start_time": "2022-02-09T13:46:13.137Z"
   },
   {
    "duration": 254,
    "start_time": "2022-02-09T13:46:15.625Z"
   },
   {
    "duration": 26,
    "start_time": "2022-02-09T13:46:18.242Z"
   },
   {
    "duration": 6,
    "start_time": "2022-02-09T13:46:27.303Z"
   },
   {
    "duration": 5,
    "start_time": "2022-02-09T13:46:29.161Z"
   },
   {
    "duration": 7,
    "start_time": "2022-02-09T13:46:30.505Z"
   },
   {
    "duration": 10,
    "start_time": "2022-02-09T13:46:46.065Z"
   },
   {
    "duration": 7,
    "start_time": "2022-02-09T13:46:59.641Z"
   },
   {
    "duration": 20,
    "start_time": "2022-02-09T13:47:02.186Z"
   },
   {
    "duration": 12,
    "start_time": "2022-02-09T13:47:18.473Z"
   },
   {
    "duration": 20,
    "start_time": "2022-02-09T13:47:50.513Z"
   },
   {
    "duration": 8,
    "start_time": "2022-02-09T13:48:29.913Z"
   },
   {
    "duration": 8,
    "start_time": "2022-02-09T13:51:51.297Z"
   },
   {
    "duration": 9,
    "start_time": "2022-02-09T13:51:55.473Z"
   },
   {
    "duration": 20,
    "start_time": "2022-02-09T13:51:58.544Z"
   },
   {
    "duration": 11,
    "start_time": "2022-02-09T13:52:40.193Z"
   },
   {
    "duration": 8,
    "start_time": "2022-02-09T13:53:16.201Z"
   },
   {
    "duration": 25,
    "start_time": "2022-02-09T13:56:08.576Z"
   },
   {
    "duration": 22,
    "start_time": "2022-02-09T14:13:09.575Z"
   },
   {
    "duration": 19,
    "start_time": "2022-02-09T14:13:12.071Z"
   },
   {
    "duration": 6,
    "start_time": "2022-02-09T14:14:17.414Z"
   },
   {
    "duration": 332,
    "start_time": "2022-02-09T14:14:29.239Z"
   },
   {
    "duration": 7,
    "start_time": "2022-02-09T14:19:54.927Z"
   },
   {
    "duration": 24,
    "start_time": "2022-02-09T14:21:57.495Z"
   },
   {
    "duration": 91,
    "start_time": "2022-02-09T14:23:01.207Z"
   },
   {
    "duration": 11,
    "start_time": "2022-02-09T14:23:06.191Z"
   },
   {
    "duration": 11,
    "start_time": "2022-02-09T14:28:11.294Z"
   },
   {
    "duration": 97,
    "start_time": "2022-02-09T14:31:48.416Z"
   },
   {
    "duration": 95,
    "start_time": "2022-02-09T14:32:27.814Z"
   },
   {
    "duration": 6,
    "start_time": "2022-02-09T14:32:34.246Z"
   },
   {
    "duration": 16,
    "start_time": "2022-02-09T14:32:37.676Z"
   },
   {
    "duration": 566,
    "start_time": "2022-02-09T17:13:53.480Z"
   },
   {
    "duration": 18,
    "start_time": "2022-02-09T17:13:55.553Z"
   },
   {
    "duration": 12,
    "start_time": "2022-02-09T17:13:57.408Z"
   },
   {
    "duration": 9,
    "start_time": "2022-02-09T17:14:00.153Z"
   },
   {
    "duration": 5,
    "start_time": "2022-02-09T17:14:02.337Z"
   },
   {
    "duration": 5,
    "start_time": "2022-02-09T17:14:03.864Z"
   },
   {
    "duration": 4,
    "start_time": "2022-02-09T17:14:06.513Z"
   },
   {
    "duration": 5,
    "start_time": "2022-02-09T17:14:08.057Z"
   },
   {
    "duration": 4,
    "start_time": "2022-02-09T17:14:10.236Z"
   },
   {
    "duration": 5,
    "start_time": "2022-02-09T17:14:11.353Z"
   },
   {
    "duration": 11,
    "start_time": "2022-02-09T17:14:15.193Z"
   },
   {
    "duration": 7,
    "start_time": "2022-02-09T17:14:16.944Z"
   },
   {
    "duration": 5,
    "start_time": "2022-02-09T17:14:18.864Z"
   },
   {
    "duration": 278,
    "start_time": "2022-02-09T17:14:20.529Z"
   },
   {
    "duration": 24,
    "start_time": "2022-02-09T17:14:22.745Z"
   },
   {
    "duration": 7,
    "start_time": "2022-02-09T17:14:24.808Z"
   },
   {
    "duration": 3836,
    "start_time": "2022-02-09T17:14:26.496Z"
   },
   {
    "duration": 188,
    "start_time": "2022-02-09T17:14:37.120Z"
   },
   {
    "duration": 186,
    "start_time": "2022-02-09T17:14:40.913Z"
   },
   {
    "duration": 22,
    "start_time": "2022-02-09T17:14:42.888Z"
   },
   {
    "duration": 6,
    "start_time": "2022-02-09T17:14:55.073Z"
   },
   {
    "duration": 7,
    "start_time": "2022-02-09T17:14:58.688Z"
   },
   {
    "duration": 6,
    "start_time": "2022-02-09T17:15:07.248Z"
   },
   {
    "duration": 20,
    "start_time": "2022-02-09T17:15:16.929Z"
   },
   {
    "duration": 8,
    "start_time": "2022-02-09T17:15:23.544Z"
   },
   {
    "duration": 18,
    "start_time": "2022-02-09T17:15:29.776Z"
   },
   {
    "duration": 7,
    "start_time": "2022-02-09T17:15:37.864Z"
   },
   {
    "duration": 8,
    "start_time": "2022-02-09T17:15:42.528Z"
   },
   {
    "duration": 60,
    "start_time": "2022-02-09T17:15:46.080Z"
   },
   {
    "duration": 13,
    "start_time": "2022-02-09T17:16:06.150Z"
   },
   {
    "duration": 13,
    "start_time": "2022-02-09T17:16:08.320Z"
   },
   {
    "duration": 12,
    "start_time": "2022-02-09T17:16:19.608Z"
   },
   {
    "duration": 3,
    "start_time": "2022-02-09T17:16:54.544Z"
   },
   {
    "duration": 17,
    "start_time": "2022-02-09T17:17:03.665Z"
   },
   {
    "duration": 7,
    "start_time": "2022-02-09T17:17:22.583Z"
   },
   {
    "duration": 257,
    "start_time": "2022-02-09T17:26:48.109Z"
   },
   {
    "duration": 222,
    "start_time": "2022-02-09T17:27:12.325Z"
   },
   {
    "duration": 4,
    "start_time": "2022-02-09T17:27:26.557Z"
   },
   {
    "duration": 10,
    "start_time": "2022-02-09T17:27:29.901Z"
   },
   {
    "duration": 19,
    "start_time": "2022-02-09T17:27:46.556Z"
   },
   {
    "duration": 8,
    "start_time": "2022-02-09T17:31:59.571Z"
   },
   {
    "duration": 8,
    "start_time": "2022-02-09T17:32:10.178Z"
   },
   {
    "duration": 32,
    "start_time": "2022-02-09T17:39:33.706Z"
   },
   {
    "duration": 22,
    "start_time": "2022-02-09T17:39:39.049Z"
   },
   {
    "duration": 21,
    "start_time": "2022-02-09T17:40:01.951Z"
   },
   {
    "duration": 22,
    "start_time": "2022-02-09T17:40:16.898Z"
   },
   {
    "duration": 28,
    "start_time": "2022-02-09T17:41:14.633Z"
   },
   {
    "duration": 22,
    "start_time": "2022-02-09T17:54:49.462Z"
   },
   {
    "duration": 23,
    "start_time": "2022-02-09T17:55:09.879Z"
   },
   {
    "duration": 22,
    "start_time": "2022-02-09T17:57:08.967Z"
   },
   {
    "duration": 511,
    "start_time": "2022-02-09T17:57:23.510Z"
   },
   {
    "duration": 499,
    "start_time": "2022-02-09T17:57:36.550Z"
   },
   {
    "duration": 22,
    "start_time": "2022-02-09T17:57:49.175Z"
   },
   {
    "duration": 24,
    "start_time": "2022-02-09T17:58:46.063Z"
   },
   {
    "duration": 21,
    "start_time": "2022-02-09T18:00:10.166Z"
   },
   {
    "duration": 23,
    "start_time": "2022-02-09T18:00:58.907Z"
   },
   {
    "duration": 20,
    "start_time": "2022-02-09T18:01:04.790Z"
   },
   {
    "duration": 22,
    "start_time": "2022-02-09T18:01:27.269Z"
   },
   {
    "duration": 13,
    "start_time": "2022-02-09T18:02:15.663Z"
   },
   {
    "duration": 11,
    "start_time": "2022-02-09T18:05:30.923Z"
   },
   {
    "duration": 31,
    "start_time": "2022-02-09T18:05:37.884Z"
   },
   {
    "duration": 13,
    "start_time": "2022-02-09T18:05:50.653Z"
   },
   {
    "duration": 15,
    "start_time": "2022-02-09T18:06:02.949Z"
   },
   {
    "duration": 19,
    "start_time": "2022-02-09T18:06:39.540Z"
   },
   {
    "duration": 13,
    "start_time": "2022-02-09T18:08:42.221Z"
   },
   {
    "duration": 13,
    "start_time": "2022-02-09T18:08:47.932Z"
   },
   {
    "duration": 13,
    "start_time": "2022-02-09T18:08:58.381Z"
   },
   {
    "duration": 13,
    "start_time": "2022-02-09T18:09:05.388Z"
   },
   {
    "duration": 14,
    "start_time": "2022-02-09T18:10:55.588Z"
   },
   {
    "duration": 13,
    "start_time": "2022-02-09T18:10:58.115Z"
   },
   {
    "duration": 5,
    "start_time": "2022-02-09T18:27:14.784Z"
   },
   {
    "duration": 2,
    "start_time": "2022-02-09T18:28:21.469Z"
   },
   {
    "duration": 971,
    "start_time": "2022-02-09T18:29:03.423Z"
   },
   {
    "duration": 930,
    "start_time": "2022-02-09T18:29:24.591Z"
   },
   {
    "duration": 22,
    "start_time": "2022-02-09T18:30:11.615Z"
   },
   {
    "duration": 26,
    "start_time": "2022-02-09T18:30:20.550Z"
   },
   {
    "duration": 25,
    "start_time": "2022-02-09T18:31:11.383Z"
   },
   {
    "duration": 27,
    "start_time": "2022-02-09T18:31:23.134Z"
   },
   {
    "duration": 27,
    "start_time": "2022-02-09T18:31:28.310Z"
   },
   {
    "duration": 25,
    "start_time": "2022-02-09T18:31:29.518Z"
   },
   {
    "duration": 27,
    "start_time": "2022-02-09T18:32:20.062Z"
   },
   {
    "duration": 31,
    "start_time": "2022-02-09T18:32:56.310Z"
   },
   {
    "duration": 3,
    "start_time": "2022-02-09T18:40:53.850Z"
   },
   {
    "duration": 417,
    "start_time": "2022-02-09T18:40:55.388Z"
   },
   {
    "duration": 3,
    "start_time": "2022-02-09T18:41:08.044Z"
   },
   {
    "duration": 25,
    "start_time": "2022-02-09T18:41:09.339Z"
   },
   {
    "duration": 25,
    "start_time": "2022-02-09T18:41:14.428Z"
   },
   {
    "duration": 25,
    "start_time": "2022-02-09T18:41:17.300Z"
   },
   {
    "duration": 3,
    "start_time": "2022-02-09T18:48:05.480Z"
   },
   {
    "duration": 401,
    "start_time": "2022-02-09T18:48:07.922Z"
   },
   {
    "duration": 4,
    "start_time": "2022-02-09T18:48:26.114Z"
   },
   {
    "duration": 24,
    "start_time": "2022-02-09T18:48:28.218Z"
   },
   {
    "duration": 3,
    "start_time": "2022-02-09T18:49:49.674Z"
   },
   {
    "duration": 24,
    "start_time": "2022-02-09T18:49:51.498Z"
   },
   {
    "duration": 25,
    "start_time": "2022-02-09T18:50:05.729Z"
   },
   {
    "duration": 26,
    "start_time": "2022-02-09T18:50:07.506Z"
   },
   {
    "duration": 3,
    "start_time": "2022-02-09T18:51:37.330Z"
   },
   {
    "duration": 24,
    "start_time": "2022-02-09T18:51:38.657Z"
   },
   {
    "duration": 24,
    "start_time": "2022-02-09T18:51:42.201Z"
   },
   {
    "duration": 25,
    "start_time": "2022-02-09T18:51:43.553Z"
   },
   {
    "duration": 3,
    "start_time": "2022-02-09T18:52:20.321Z"
   },
   {
    "duration": 26,
    "start_time": "2022-02-09T18:52:21.457Z"
   },
   {
    "duration": 24,
    "start_time": "2022-02-09T18:52:23.233Z"
   },
   {
    "duration": 25,
    "start_time": "2022-02-09T18:52:25.665Z"
   },
   {
    "duration": 185,
    "start_time": "2022-02-09T18:56:21.640Z"
   },
   {
    "duration": 12,
    "start_time": "2022-02-09T18:56:33.912Z"
   },
   {
    "duration": 19,
    "start_time": "2022-02-09T18:56:49.264Z"
   },
   {
    "duration": 388,
    "start_time": "2022-02-09T19:00:22.717Z"
   },
   {
    "duration": 19,
    "start_time": "2022-02-09T19:00:32.095Z"
   },
   {
    "duration": 31,
    "start_time": "2022-02-09T19:00:44.718Z"
   },
   {
    "duration": 12,
    "start_time": "2022-02-09T19:00:57.535Z"
   },
   {
    "duration": 387,
    "start_time": "2022-02-09T19:00:58.830Z"
   },
   {
    "duration": 391,
    "start_time": "2022-02-09T19:01:00.415Z"
   },
   {
    "duration": 13,
    "start_time": "2022-02-09T19:01:02.463Z"
   },
   {
    "duration": 573,
    "start_time": "2022-02-09T19:01:10.572Z"
   },
   {
    "duration": 18,
    "start_time": "2022-02-09T19:01:11.147Z"
   },
   {
    "duration": 11,
    "start_time": "2022-02-09T19:01:11.167Z"
   },
   {
    "duration": 9,
    "start_time": "2022-02-09T19:01:11.180Z"
   },
   {
    "duration": 5,
    "start_time": "2022-02-09T19:01:11.213Z"
   },
   {
    "duration": 9,
    "start_time": "2022-02-09T19:01:11.219Z"
   },
   {
    "duration": 7,
    "start_time": "2022-02-09T19:01:11.229Z"
   },
   {
    "duration": 5,
    "start_time": "2022-02-09T19:01:11.238Z"
   },
   {
    "duration": 4,
    "start_time": "2022-02-09T19:01:11.245Z"
   },
   {
    "duration": 6,
    "start_time": "2022-02-09T19:01:11.251Z"
   },
   {
    "duration": 11,
    "start_time": "2022-02-09T19:01:11.258Z"
   },
   {
    "duration": 6,
    "start_time": "2022-02-09T19:01:11.270Z"
   },
   {
    "duration": 38,
    "start_time": "2022-02-09T19:01:11.277Z"
   },
   {
    "duration": 296,
    "start_time": "2022-02-09T19:01:11.317Z"
   },
   {
    "duration": 22,
    "start_time": "2022-02-09T19:01:11.615Z"
   },
   {
    "duration": 6,
    "start_time": "2022-02-09T19:01:11.638Z"
   },
   {
    "duration": 3823,
    "start_time": "2022-02-09T19:01:11.646Z"
   },
   {
    "duration": 201,
    "start_time": "2022-02-09T19:01:15.471Z"
   },
   {
    "duration": 193,
    "start_time": "2022-02-09T19:01:15.674Z"
   },
   {
    "duration": 22,
    "start_time": "2022-02-09T19:01:15.868Z"
   },
   {
    "duration": 9,
    "start_time": "2022-02-09T19:01:15.891Z"
   },
   {
    "duration": 6,
    "start_time": "2022-02-09T19:01:15.912Z"
   },
   {
    "duration": 5,
    "start_time": "2022-02-09T19:01:15.922Z"
   },
   {
    "duration": 17,
    "start_time": "2022-02-09T19:01:15.928Z"
   },
   {
    "duration": 6,
    "start_time": "2022-02-09T19:01:15.946Z"
   },
   {
    "duration": 17,
    "start_time": "2022-02-09T19:01:15.954Z"
   },
   {
    "duration": 40,
    "start_time": "2022-02-09T19:01:15.973Z"
   },
   {
    "duration": 8,
    "start_time": "2022-02-09T19:01:16.015Z"
   },
   {
    "duration": 22,
    "start_time": "2022-02-09T19:01:16.024Z"
   },
   {
    "duration": 11,
    "start_time": "2022-02-09T19:01:16.047Z"
   },
   {
    "duration": 75,
    "start_time": "2022-02-09T19:01:16.060Z"
   },
   {
    "duration": 11,
    "start_time": "2022-02-09T19:01:16.137Z"
   },
   {
    "duration": 5,
    "start_time": "2022-02-09T19:01:16.150Z"
   },
   {
    "duration": 19,
    "start_time": "2022-02-09T19:01:16.157Z"
   },
   {
    "duration": 8,
    "start_time": "2022-02-09T19:01:16.178Z"
   },
   {
    "duration": 28,
    "start_time": "2022-02-09T19:01:16.187Z"
   },
   {
    "duration": 4,
    "start_time": "2022-02-09T19:01:16.217Z"
   },
   {
    "duration": 21,
    "start_time": "2022-02-09T19:01:16.223Z"
   },
   {
    "duration": 7,
    "start_time": "2022-02-09T19:01:16.245Z"
   },
   {
    "duration": 4,
    "start_time": "2022-02-09T19:01:16.253Z"
   },
   {
    "duration": 25,
    "start_time": "2022-02-09T19:01:16.259Z"
   },
   {
    "duration": 35,
    "start_time": "2022-02-09T19:01:16.286Z"
   },
   {
    "duration": 27,
    "start_time": "2022-02-09T19:01:16.323Z"
   },
   {
    "duration": 25,
    "start_time": "2022-02-09T19:01:16.352Z"
   },
   {
    "duration": 27,
    "start_time": "2022-02-09T19:20:40.338Z"
   },
   {
    "duration": 4,
    "start_time": "2022-02-09T20:09:17.801Z"
   },
   {
    "duration": 29,
    "start_time": "2022-02-09T20:10:43.375Z"
   },
   {
    "duration": 27,
    "start_time": "2022-02-09T20:11:28.644Z"
   },
   {
    "duration": 593,
    "start_time": "2022-02-09T20:13:32.155Z"
   },
   {
    "duration": 17,
    "start_time": "2022-02-09T20:13:32.750Z"
   },
   {
    "duration": 12,
    "start_time": "2022-02-09T20:13:32.769Z"
   },
   {
    "duration": 9,
    "start_time": "2022-02-09T20:13:32.783Z"
   },
   {
    "duration": 5,
    "start_time": "2022-02-09T20:13:32.813Z"
   },
   {
    "duration": 6,
    "start_time": "2022-02-09T20:13:32.820Z"
   },
   {
    "duration": 5,
    "start_time": "2022-02-09T20:13:32.828Z"
   },
   {
    "duration": 4,
    "start_time": "2022-02-09T20:13:32.836Z"
   },
   {
    "duration": 4,
    "start_time": "2022-02-09T20:13:32.843Z"
   },
   {
    "duration": 6,
    "start_time": "2022-02-09T20:13:32.848Z"
   },
   {
    "duration": 9,
    "start_time": "2022-02-09T20:13:32.855Z"
   },
   {
    "duration": 50,
    "start_time": "2022-02-09T20:13:32.866Z"
   },
   {
    "duration": 5,
    "start_time": "2022-02-09T20:13:32.917Z"
   },
   {
    "duration": 295,
    "start_time": "2022-02-09T20:13:32.924Z"
   },
   {
    "duration": 23,
    "start_time": "2022-02-09T20:13:33.221Z"
   },
   {
    "duration": 6,
    "start_time": "2022-02-09T20:13:33.246Z"
   },
   {
    "duration": 3957,
    "start_time": "2022-02-09T20:13:33.253Z"
   },
   {
    "duration": 204,
    "start_time": "2022-02-09T20:13:37.212Z"
   },
   {
    "duration": 202,
    "start_time": "2022-02-09T20:13:37.417Z"
   },
   {
    "duration": 25,
    "start_time": "2022-02-09T20:13:37.621Z"
   },
   {
    "duration": 6,
    "start_time": "2022-02-09T20:13:37.647Z"
   },
   {
    "duration": 6,
    "start_time": "2022-02-09T20:13:37.655Z"
   },
   {
    "duration": 5,
    "start_time": "2022-02-09T20:13:37.665Z"
   },
   {
    "duration": 53,
    "start_time": "2022-02-09T20:13:37.672Z"
   },
   {
    "duration": 6,
    "start_time": "2022-02-09T20:13:37.727Z"
   },
   {
    "duration": 17,
    "start_time": "2022-02-09T20:13:37.735Z"
   },
   {
    "duration": 6,
    "start_time": "2022-02-09T20:13:37.754Z"
   },
   {
    "duration": 10,
    "start_time": "2022-02-09T20:13:37.762Z"
   },
   {
    "duration": 45,
    "start_time": "2022-02-09T20:13:37.773Z"
   },
   {
    "duration": 11,
    "start_time": "2022-02-09T20:13:37.819Z"
   },
   {
    "duration": 52,
    "start_time": "2022-02-09T20:13:37.832Z"
   },
   {
    "duration": 28,
    "start_time": "2022-02-09T20:13:37.885Z"
   },
   {
    "duration": 4,
    "start_time": "2022-02-09T20:13:37.915Z"
   },
   {
    "duration": 18,
    "start_time": "2022-02-09T20:13:37.921Z"
   },
   {
    "duration": 9,
    "start_time": "2022-02-09T20:13:37.940Z"
   },
   {
    "duration": 8,
    "start_time": "2022-02-09T20:13:37.951Z"
   },
   {
    "duration": 4,
    "start_time": "2022-02-09T20:13:37.960Z"
   },
   {
    "duration": 20,
    "start_time": "2022-02-09T20:13:37.965Z"
   },
   {
    "duration": 31,
    "start_time": "2022-02-09T20:13:37.986Z"
   },
   {
    "duration": 3,
    "start_time": "2022-02-09T20:13:38.019Z"
   },
   {
    "duration": 12,
    "start_time": "2022-02-09T20:13:38.024Z"
   },
   {
    "duration": 29,
    "start_time": "2022-02-09T20:13:38.037Z"
   },
   {
    "duration": 55,
    "start_time": "2022-02-09T20:13:38.068Z"
   },
   {
    "duration": 24,
    "start_time": "2022-02-09T20:13:38.124Z"
   },
   {
    "duration": 25,
    "start_time": "2022-02-09T20:13:38.150Z"
   }
  ],
  "kernelspec": {
   "display_name": "Python 3 (ipykernel)",
   "language": "python",
   "name": "python3"
  },
  "language_info": {
   "codemirror_mode": {
    "name": "ipython",
    "version": 3
   },
   "file_extension": ".py",
   "mimetype": "text/x-python",
   "name": "python",
   "nbconvert_exporter": "python",
   "pygments_lexer": "ipython3",
   "version": "3.9.13"
  },
  "toc": {
   "base_numbering": 1,
   "nav_menu": {},
   "number_sections": false,
   "sideBar": true,
   "skip_h1_title": true,
   "title_cell": "Table of Contents",
   "title_sidebar": "Contents",
   "toc_cell": false,
   "toc_position": {
    "height": "calc(100% - 180px)",
    "left": "10px",
    "top": "150px",
    "width": "281.438px"
   },
   "toc_section_display": true,
   "toc_window_display": true
  }
 },
 "nbformat": 4,
 "nbformat_minor": 5
}
