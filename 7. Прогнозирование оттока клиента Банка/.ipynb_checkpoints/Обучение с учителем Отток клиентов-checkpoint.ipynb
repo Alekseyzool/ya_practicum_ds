{
 "cells": [
  {
   "cell_type": "markdown",
   "metadata": {
    "toc": true
   },
   "source": [
    "<h1>Содержание<span class=\"tocSkip\"></span></h1> <br>\n",
    "<div class=\"toc\"><ul class=\"toc-item\"><li><span><a href=\"#Подготовка-данных\" data-toc-modified-id=\"Подготовка-данных-1\"><span class=\"toc-item-num\">1&nbsp;&nbsp;</span>Подготовка данных</a></span><ul class=\"toc-item\"><li><span><a href=\"#Вывод\" data-toc-modified-id=\"Вывод-1.1\"><span class=\"toc-item-num\">1.1&nbsp;&nbsp;</span>Вывод</a></span></li></ul></li><li><span><a href=\"#Исследование-задачи\" data-toc-modified-id=\"Исследование-задачи-2\"><span class=\"toc-item-num\">2&nbsp;&nbsp;</span>Исследование задачи</a></span><ul class=\"toc-item\"><li><span><a href=\"#Вывод\" data-toc-modified-id=\"Вывод-2.1\"><span class=\"toc-item-num\">2.1&nbsp;&nbsp;</span>Вывод</a></span></li></ul></li><li><span><a href=\"#Борьба-с-дисбалансом\" data-toc-modified-id=\"Борьба-с-дисбалансом-3\"><span class=\"toc-item-num\">3&nbsp;&nbsp;</span>Борьба с дисбалансом</a></span><ul class=\"toc-item\"><li><span><a href=\"#Вывод\" data-toc-modified-id=\"Вывод-3.1\"><span class=\"toc-item-num\">3.1&nbsp;&nbsp;</span>Вывод</a></span></li></ul></li><li><span><a href=\"#Тестирование-модели\" data-toc-modified-id=\"Тестирование-модели-4\"><span class=\"toc-item-num\">4&nbsp;&nbsp;</span>Тестирование модели</a></span><ul class=\"toc-item\"><li><span><a href=\"#Вывод\" data-toc-modified-id=\"Вывод-4.1\"><span class=\"toc-item-num\">4.1&nbsp;&nbsp;</span>Вывод</a></span></li></ul></li><li><span><a href=\"#Общий-вывод\" data-toc-modified-id=\"Общий-вывод-5\"><span class=\"toc-item-num\">5&nbsp;&nbsp;</span>Общий вывод</a></span></li><li><span><a href=\"#Чек-лист-готовности-проекта\" data-toc-modified-id=\"Чек-лист-готовности-проекта-6\"><span class=\"toc-item-num\">6&nbsp;&nbsp;</span>Чек-лист готовности проекта</a></span></li></ul></div>"
   ]
  },
  {
   "cell_type": "markdown",
   "metadata": {},
   "source": [
    "# Отток клиентов"
   ]
  },
  {
   "cell_type": "markdown",
   "metadata": {},
   "source": [
    "Из «Бета-Банка» стали уходить клиенты. Каждый месяц. Немного, но заметно. Банковские маркетологи посчитали: сохранять текущих клиентов дешевле, чем привлекать новых.\n",
    "\n",
    "Нужно спрогнозировать, уйдёт клиент из банка в ближайшее время или нет. Вам предоставлены исторические данные о поведении клиентов и расторжении договоров с банком. \n",
    "\n",
    "Постройте модель с предельно большим значением *F1*-меры. Чтобы сдать проект успешно, нужно довести метрику до 0.59. Проверьте *F1*-меру на тестовой выборке самостоятельно.\n",
    "\n",
    "Дополнительно измеряйте *AUC-ROC*, сравнивайте её значение с *F1*-мерой.\n",
    "\n",
    "Источник данных: [https://www.kaggle.com/barelydedicated/bank-customer-churn-modeling](https://www.kaggle.com/barelydedicated/bank-customer-churn-modeling)\n",
    "\n",
    "В файле данных содержатся исторические данные о поведении клиентов и расторжении договоров с банком:\n",
    "\n",
    "**Признаки**\\\n",
    "`row_number` — индекс строки в данных;\\\n",
    "`customer_id` — уникальный идентификатор клиента;\\\n",
    "`surname` — фамилия;\\\n",
    "`credit_score` — кредитный рейтинг;\\\n",
    "`geography` — страна проживания;\\\n",
    "`gender` — пол;\\\n",
    "`age` — возраст;\\\n",
    "`tenure` — сколько лет человек является клиентом банка;\\\n",
    "`balance` — баланс на счёте;\\\n",
    "`num_of_products` — количество продуктов банка, используемых клиентом;\\\n",
    "`has_cr_card` — наличие кредитной карты;\\\n",
    "`is_active_member` — активность клиента;\\\n",
    "`estimated_salary` — предполагаемая зарплата;\n",
    "\n",
    "**Целевой признак**\\\n",
    "`exited` — факт ухода клиента.\n"
   ]
  },
  {
   "cell_type": "markdown",
   "metadata": {},
   "source": [
    "## Подготовка данных"
   ]
  },
  {
   "cell_type": "markdown",
   "metadata": {},
   "source": [
    "Импортируем необходимые библиотеки"
   ]
  },
  {
   "cell_type": "code",
   "execution_count": 1,
   "metadata": {},
   "outputs": [],
   "source": [
    "#импортируем необходимые библиотеки\n",
    "import pandas as pd\n",
    "import numpy as np\n",
    "from sklearn.model_selection import train_test_split\n",
    "from sklearn.preprocessing import StandardScaler \n",
    "from sklearn.tree import DecisionTreeClassifier\n",
    "from sklearn.metrics import f1_score\n",
    "from sklearn.ensemble import RandomForestClassifier\n",
    "from sklearn.linear_model import LogisticRegression\n",
    "from sklearn.utils import shuffle\n",
    "from sklearn.metrics import roc_auc_score\n",
    "import warnings\n",
    "warnings.filterwarnings(\"ignore\")"
   ]
  },
  {
   "cell_type": "markdown",
   "metadata": {},
   "source": [
    "Откроем и сохраним файл с данными в df"
   ]
  },
  {
   "cell_type": "code",
   "execution_count": 2,
   "metadata": {},
   "outputs": [],
   "source": [
    "#откроем и сохраним файл в df\n",
    "df = pd.read_csv('https://code.s3.yandex.net/datasets/Churn.csv', index_col='RowNumber')"
   ]
  },
  {
   "cell_type": "markdown",
   "metadata": {},
   "source": [
    "Приведем названия столбцов к  общепринятому - нижнему регистру snake_case"
   ]
  },
  {
   "cell_type": "code",
   "execution_count": 3,
   "metadata": {},
   "outputs": [],
   "source": [
    "#приведем названия столбцов \n",
    "df = df.rename(columns={\n",
    "    'CustomerId': 'Customer_Id',\n",
    "    'CreditScore': 'Credit_Score',\n",
    "    'NumOfProducts': 'Num_Of_Products', \n",
    "    'HasCrCard': 'Has_Cr_Card', \n",
    "    'IsActiveMember': 'Is_Active_Member', \n",
    "    'EstimatedSalary': 'Estimated_Salary'})\n",
    "df.index.names = ['row_number']\n",
    "df.columns = df.columns.str.lower()"
   ]
  },
  {
   "cell_type": "code",
   "execution_count": 4,
   "metadata": {},
   "outputs": [
    {
     "data": {
      "text/html": [
       "<div>\n",
       "<style scoped>\n",
       "    .dataframe tbody tr th:only-of-type {\n",
       "        vertical-align: middle;\n",
       "    }\n",
       "\n",
       "    .dataframe tbody tr th {\n",
       "        vertical-align: top;\n",
       "    }\n",
       "\n",
       "    .dataframe thead th {\n",
       "        text-align: right;\n",
       "    }\n",
       "</style>\n",
       "<table border=\"1\" class=\"dataframe\">\n",
       "  <thead>\n",
       "    <tr style=\"text-align: right;\">\n",
       "      <th></th>\n",
       "      <th>customer_id</th>\n",
       "      <th>surname</th>\n",
       "      <th>credit_score</th>\n",
       "      <th>geography</th>\n",
       "      <th>gender</th>\n",
       "      <th>age</th>\n",
       "      <th>tenure</th>\n",
       "      <th>balance</th>\n",
       "      <th>num_of_products</th>\n",
       "      <th>has_cr_card</th>\n",
       "      <th>is_active_member</th>\n",
       "      <th>estimated_salary</th>\n",
       "      <th>exited</th>\n",
       "    </tr>\n",
       "    <tr>\n",
       "      <th>row_number</th>\n",
       "      <th></th>\n",
       "      <th></th>\n",
       "      <th></th>\n",
       "      <th></th>\n",
       "      <th></th>\n",
       "      <th></th>\n",
       "      <th></th>\n",
       "      <th></th>\n",
       "      <th></th>\n",
       "      <th></th>\n",
       "      <th></th>\n",
       "      <th></th>\n",
       "      <th></th>\n",
       "    </tr>\n",
       "  </thead>\n",
       "  <tbody>\n",
       "    <tr>\n",
       "      <th>1</th>\n",
       "      <td>15634602</td>\n",
       "      <td>Hargrave</td>\n",
       "      <td>619</td>\n",
       "      <td>France</td>\n",
       "      <td>Female</td>\n",
       "      <td>42</td>\n",
       "      <td>2.0</td>\n",
       "      <td>0.00</td>\n",
       "      <td>1</td>\n",
       "      <td>1</td>\n",
       "      <td>1</td>\n",
       "      <td>101348.88</td>\n",
       "      <td>1</td>\n",
       "    </tr>\n",
       "    <tr>\n",
       "      <th>2</th>\n",
       "      <td>15647311</td>\n",
       "      <td>Hill</td>\n",
       "      <td>608</td>\n",
       "      <td>Spain</td>\n",
       "      <td>Female</td>\n",
       "      <td>41</td>\n",
       "      <td>1.0</td>\n",
       "      <td>83807.86</td>\n",
       "      <td>1</td>\n",
       "      <td>0</td>\n",
       "      <td>1</td>\n",
       "      <td>112542.58</td>\n",
       "      <td>0</td>\n",
       "    </tr>\n",
       "    <tr>\n",
       "      <th>3</th>\n",
       "      <td>15619304</td>\n",
       "      <td>Onio</td>\n",
       "      <td>502</td>\n",
       "      <td>France</td>\n",
       "      <td>Female</td>\n",
       "      <td>42</td>\n",
       "      <td>8.0</td>\n",
       "      <td>159660.80</td>\n",
       "      <td>3</td>\n",
       "      <td>1</td>\n",
       "      <td>0</td>\n",
       "      <td>113931.57</td>\n",
       "      <td>1</td>\n",
       "    </tr>\n",
       "    <tr>\n",
       "      <th>4</th>\n",
       "      <td>15701354</td>\n",
       "      <td>Boni</td>\n",
       "      <td>699</td>\n",
       "      <td>France</td>\n",
       "      <td>Female</td>\n",
       "      <td>39</td>\n",
       "      <td>1.0</td>\n",
       "      <td>0.00</td>\n",
       "      <td>2</td>\n",
       "      <td>0</td>\n",
       "      <td>0</td>\n",
       "      <td>93826.63</td>\n",
       "      <td>0</td>\n",
       "    </tr>\n",
       "    <tr>\n",
       "      <th>5</th>\n",
       "      <td>15737888</td>\n",
       "      <td>Mitchell</td>\n",
       "      <td>850</td>\n",
       "      <td>Spain</td>\n",
       "      <td>Female</td>\n",
       "      <td>43</td>\n",
       "      <td>2.0</td>\n",
       "      <td>125510.82</td>\n",
       "      <td>1</td>\n",
       "      <td>1</td>\n",
       "      <td>1</td>\n",
       "      <td>79084.10</td>\n",
       "      <td>0</td>\n",
       "    </tr>\n",
       "    <tr>\n",
       "      <th>...</th>\n",
       "      <td>...</td>\n",
       "      <td>...</td>\n",
       "      <td>...</td>\n",
       "      <td>...</td>\n",
       "      <td>...</td>\n",
       "      <td>...</td>\n",
       "      <td>...</td>\n",
       "      <td>...</td>\n",
       "      <td>...</td>\n",
       "      <td>...</td>\n",
       "      <td>...</td>\n",
       "      <td>...</td>\n",
       "      <td>...</td>\n",
       "    </tr>\n",
       "    <tr>\n",
       "      <th>9996</th>\n",
       "      <td>15606229</td>\n",
       "      <td>Obijiaku</td>\n",
       "      <td>771</td>\n",
       "      <td>France</td>\n",
       "      <td>Male</td>\n",
       "      <td>39</td>\n",
       "      <td>5.0</td>\n",
       "      <td>0.00</td>\n",
       "      <td>2</td>\n",
       "      <td>1</td>\n",
       "      <td>0</td>\n",
       "      <td>96270.64</td>\n",
       "      <td>0</td>\n",
       "    </tr>\n",
       "    <tr>\n",
       "      <th>9997</th>\n",
       "      <td>15569892</td>\n",
       "      <td>Johnstone</td>\n",
       "      <td>516</td>\n",
       "      <td>France</td>\n",
       "      <td>Male</td>\n",
       "      <td>35</td>\n",
       "      <td>10.0</td>\n",
       "      <td>57369.61</td>\n",
       "      <td>1</td>\n",
       "      <td>1</td>\n",
       "      <td>1</td>\n",
       "      <td>101699.77</td>\n",
       "      <td>0</td>\n",
       "    </tr>\n",
       "    <tr>\n",
       "      <th>9998</th>\n",
       "      <td>15584532</td>\n",
       "      <td>Liu</td>\n",
       "      <td>709</td>\n",
       "      <td>France</td>\n",
       "      <td>Female</td>\n",
       "      <td>36</td>\n",
       "      <td>7.0</td>\n",
       "      <td>0.00</td>\n",
       "      <td>1</td>\n",
       "      <td>0</td>\n",
       "      <td>1</td>\n",
       "      <td>42085.58</td>\n",
       "      <td>1</td>\n",
       "    </tr>\n",
       "    <tr>\n",
       "      <th>9999</th>\n",
       "      <td>15682355</td>\n",
       "      <td>Sabbatini</td>\n",
       "      <td>772</td>\n",
       "      <td>Germany</td>\n",
       "      <td>Male</td>\n",
       "      <td>42</td>\n",
       "      <td>3.0</td>\n",
       "      <td>75075.31</td>\n",
       "      <td>2</td>\n",
       "      <td>1</td>\n",
       "      <td>0</td>\n",
       "      <td>92888.52</td>\n",
       "      <td>1</td>\n",
       "    </tr>\n",
       "    <tr>\n",
       "      <th>10000</th>\n",
       "      <td>15628319</td>\n",
       "      <td>Walker</td>\n",
       "      <td>792</td>\n",
       "      <td>France</td>\n",
       "      <td>Female</td>\n",
       "      <td>28</td>\n",
       "      <td>NaN</td>\n",
       "      <td>130142.79</td>\n",
       "      <td>1</td>\n",
       "      <td>1</td>\n",
       "      <td>0</td>\n",
       "      <td>38190.78</td>\n",
       "      <td>0</td>\n",
       "    </tr>\n",
       "  </tbody>\n",
       "</table>\n",
       "<p>10000 rows × 13 columns</p>\n",
       "</div>"
      ],
      "text/plain": [
       "            customer_id    surname  credit_score geography  gender  age  \\\n",
       "row_number                                                                \n",
       "1              15634602   Hargrave           619    France  Female   42   \n",
       "2              15647311       Hill           608     Spain  Female   41   \n",
       "3              15619304       Onio           502    France  Female   42   \n",
       "4              15701354       Boni           699    France  Female   39   \n",
       "5              15737888   Mitchell           850     Spain  Female   43   \n",
       "...                 ...        ...           ...       ...     ...  ...   \n",
       "9996           15606229   Obijiaku           771    France    Male   39   \n",
       "9997           15569892  Johnstone           516    France    Male   35   \n",
       "9998           15584532        Liu           709    France  Female   36   \n",
       "9999           15682355  Sabbatini           772   Germany    Male   42   \n",
       "10000          15628319     Walker           792    France  Female   28   \n",
       "\n",
       "            tenure    balance  num_of_products  has_cr_card  is_active_member  \\\n",
       "row_number                                                                      \n",
       "1              2.0       0.00                1            1                 1   \n",
       "2              1.0   83807.86                1            0                 1   \n",
       "3              8.0  159660.80                3            1                 0   \n",
       "4              1.0       0.00                2            0                 0   \n",
       "5              2.0  125510.82                1            1                 1   \n",
       "...            ...        ...              ...          ...               ...   \n",
       "9996           5.0       0.00                2            1                 0   \n",
       "9997          10.0   57369.61                1            1                 1   \n",
       "9998           7.0       0.00                1            0                 1   \n",
       "9999           3.0   75075.31                2            1                 0   \n",
       "10000          NaN  130142.79                1            1                 0   \n",
       "\n",
       "            estimated_salary  exited  \n",
       "row_number                            \n",
       "1                  101348.88       1  \n",
       "2                  112542.58       0  \n",
       "3                  113931.57       1  \n",
       "4                   93826.63       0  \n",
       "5                   79084.10       0  \n",
       "...                      ...     ...  \n",
       "9996                96270.64       0  \n",
       "9997               101699.77       0  \n",
       "9998                42085.58       1  \n",
       "9999                92888.52       1  \n",
       "10000               38190.78       0  \n",
       "\n",
       "[10000 rows x 13 columns]"
      ]
     },
     "execution_count": 4,
     "metadata": {},
     "output_type": "execute_result"
    }
   ],
   "source": [
    "df"
   ]
  },
  {
   "cell_type": "markdown",
   "metadata": {},
   "source": [
    "Проверим информацию о датасете"
   ]
  },
  {
   "cell_type": "code",
   "execution_count": 5,
   "metadata": {
    "scrolled": true
   },
   "outputs": [
    {
     "name": "stdout",
     "output_type": "stream",
     "text": [
      "<class 'pandas.core.frame.DataFrame'>\n",
      "Int64Index: 10000 entries, 1 to 10000\n",
      "Data columns (total 13 columns):\n",
      " #   Column            Non-Null Count  Dtype  \n",
      "---  ------            --------------  -----  \n",
      " 0   customer_id       10000 non-null  int64  \n",
      " 1   surname           10000 non-null  object \n",
      " 2   credit_score      10000 non-null  int64  \n",
      " 3   geography         10000 non-null  object \n",
      " 4   gender            10000 non-null  object \n",
      " 5   age               10000 non-null  int64  \n",
      " 6   tenure            9091 non-null   float64\n",
      " 7   balance           10000 non-null  float64\n",
      " 8   num_of_products   10000 non-null  int64  \n",
      " 9   has_cr_card       10000 non-null  int64  \n",
      " 10  is_active_member  10000 non-null  int64  \n",
      " 11  estimated_salary  10000 non-null  float64\n",
      " 12  exited            10000 non-null  int64  \n",
      "dtypes: float64(3), int64(7), object(3)\n",
      "memory usage: 1.1+ MB\n"
     ]
    }
   ],
   "source": [
    "#посмотрим информацию о датасете\n",
    "df.info()"
   ]
  },
  {
   "cell_type": "markdown",
   "metadata": {},
   "source": [
    "В столбце `tenure` наблюдаются пропуски, заполним пропуски "
   ]
  },
  {
   "cell_type": "code",
   "execution_count": 6,
   "metadata": {},
   "outputs": [],
   "source": [
    "#заполняем пропуски\n",
    "df = df.fillna(-1)"
   ]
  },
  {
   "cell_type": "markdown",
   "metadata": {},
   "source": [
    "Проверим статистики датасета"
   ]
  },
  {
   "cell_type": "code",
   "execution_count": 7,
   "metadata": {
    "scrolled": true
   },
   "outputs": [
    {
     "data": {
      "text/html": [
       "<div>\n",
       "<style scoped>\n",
       "    .dataframe tbody tr th:only-of-type {\n",
       "        vertical-align: middle;\n",
       "    }\n",
       "\n",
       "    .dataframe tbody tr th {\n",
       "        vertical-align: top;\n",
       "    }\n",
       "\n",
       "    .dataframe thead th {\n",
       "        text-align: right;\n",
       "    }\n",
       "</style>\n",
       "<table border=\"1\" class=\"dataframe\">\n",
       "  <thead>\n",
       "    <tr style=\"text-align: right;\">\n",
       "      <th></th>\n",
       "      <th>count</th>\n",
       "      <th>mean</th>\n",
       "      <th>std</th>\n",
       "      <th>min</th>\n",
       "      <th>25%</th>\n",
       "      <th>50%</th>\n",
       "      <th>75%</th>\n",
       "      <th>max</th>\n",
       "    </tr>\n",
       "  </thead>\n",
       "  <tbody>\n",
       "    <tr>\n",
       "      <th>customer_id</th>\n",
       "      <td>10000.0</td>\n",
       "      <td>1.569094e+07</td>\n",
       "      <td>71936.186123</td>\n",
       "      <td>15565701.00</td>\n",
       "      <td>15628528.25</td>\n",
       "      <td>1.569074e+07</td>\n",
       "      <td>1.575323e+07</td>\n",
       "      <td>15815690.00</td>\n",
       "    </tr>\n",
       "    <tr>\n",
       "      <th>credit_score</th>\n",
       "      <td>10000.0</td>\n",
       "      <td>6.505288e+02</td>\n",
       "      <td>96.653299</td>\n",
       "      <td>350.00</td>\n",
       "      <td>584.00</td>\n",
       "      <td>6.520000e+02</td>\n",
       "      <td>7.180000e+02</td>\n",
       "      <td>850.00</td>\n",
       "    </tr>\n",
       "    <tr>\n",
       "      <th>age</th>\n",
       "      <td>10000.0</td>\n",
       "      <td>3.892180e+01</td>\n",
       "      <td>10.487806</td>\n",
       "      <td>18.00</td>\n",
       "      <td>32.00</td>\n",
       "      <td>3.700000e+01</td>\n",
       "      <td>4.400000e+01</td>\n",
       "      <td>92.00</td>\n",
       "    </tr>\n",
       "    <tr>\n",
       "      <th>tenure</th>\n",
       "      <td>10000.0</td>\n",
       "      <td>4.452500e+00</td>\n",
       "      <td>3.254321</td>\n",
       "      <td>-1.00</td>\n",
       "      <td>2.00</td>\n",
       "      <td>4.000000e+00</td>\n",
       "      <td>7.000000e+00</td>\n",
       "      <td>10.00</td>\n",
       "    </tr>\n",
       "    <tr>\n",
       "      <th>balance</th>\n",
       "      <td>10000.0</td>\n",
       "      <td>7.648589e+04</td>\n",
       "      <td>62397.405202</td>\n",
       "      <td>0.00</td>\n",
       "      <td>0.00</td>\n",
       "      <td>9.719854e+04</td>\n",
       "      <td>1.276442e+05</td>\n",
       "      <td>250898.09</td>\n",
       "    </tr>\n",
       "    <tr>\n",
       "      <th>num_of_products</th>\n",
       "      <td>10000.0</td>\n",
       "      <td>1.530200e+00</td>\n",
       "      <td>0.581654</td>\n",
       "      <td>1.00</td>\n",
       "      <td>1.00</td>\n",
       "      <td>1.000000e+00</td>\n",
       "      <td>2.000000e+00</td>\n",
       "      <td>4.00</td>\n",
       "    </tr>\n",
       "    <tr>\n",
       "      <th>has_cr_card</th>\n",
       "      <td>10000.0</td>\n",
       "      <td>7.055000e-01</td>\n",
       "      <td>0.455840</td>\n",
       "      <td>0.00</td>\n",
       "      <td>0.00</td>\n",
       "      <td>1.000000e+00</td>\n",
       "      <td>1.000000e+00</td>\n",
       "      <td>1.00</td>\n",
       "    </tr>\n",
       "    <tr>\n",
       "      <th>is_active_member</th>\n",
       "      <td>10000.0</td>\n",
       "      <td>5.151000e-01</td>\n",
       "      <td>0.499797</td>\n",
       "      <td>0.00</td>\n",
       "      <td>0.00</td>\n",
       "      <td>1.000000e+00</td>\n",
       "      <td>1.000000e+00</td>\n",
       "      <td>1.00</td>\n",
       "    </tr>\n",
       "    <tr>\n",
       "      <th>estimated_salary</th>\n",
       "      <td>10000.0</td>\n",
       "      <td>1.000902e+05</td>\n",
       "      <td>57510.492818</td>\n",
       "      <td>11.58</td>\n",
       "      <td>51002.11</td>\n",
       "      <td>1.001939e+05</td>\n",
       "      <td>1.493882e+05</td>\n",
       "      <td>199992.48</td>\n",
       "    </tr>\n",
       "    <tr>\n",
       "      <th>exited</th>\n",
       "      <td>10000.0</td>\n",
       "      <td>2.037000e-01</td>\n",
       "      <td>0.402769</td>\n",
       "      <td>0.00</td>\n",
       "      <td>0.00</td>\n",
       "      <td>0.000000e+00</td>\n",
       "      <td>0.000000e+00</td>\n",
       "      <td>1.00</td>\n",
       "    </tr>\n",
       "  </tbody>\n",
       "</table>\n",
       "</div>"
      ],
      "text/plain": [
       "                    count          mean           std          min  \\\n",
       "customer_id       10000.0  1.569094e+07  71936.186123  15565701.00   \n",
       "credit_score      10000.0  6.505288e+02     96.653299       350.00   \n",
       "age               10000.0  3.892180e+01     10.487806        18.00   \n",
       "tenure            10000.0  4.452500e+00      3.254321        -1.00   \n",
       "balance           10000.0  7.648589e+04  62397.405202         0.00   \n",
       "num_of_products   10000.0  1.530200e+00      0.581654         1.00   \n",
       "has_cr_card       10000.0  7.055000e-01      0.455840         0.00   \n",
       "is_active_member  10000.0  5.151000e-01      0.499797         0.00   \n",
       "estimated_salary  10000.0  1.000902e+05  57510.492818        11.58   \n",
       "exited            10000.0  2.037000e-01      0.402769         0.00   \n",
       "\n",
       "                          25%           50%           75%          max  \n",
       "customer_id       15628528.25  1.569074e+07  1.575323e+07  15815690.00  \n",
       "credit_score           584.00  6.520000e+02  7.180000e+02       850.00  \n",
       "age                     32.00  3.700000e+01  4.400000e+01        92.00  \n",
       "tenure                   2.00  4.000000e+00  7.000000e+00        10.00  \n",
       "balance                  0.00  9.719854e+04  1.276442e+05    250898.09  \n",
       "num_of_products          1.00  1.000000e+00  2.000000e+00         4.00  \n",
       "has_cr_card              0.00  1.000000e+00  1.000000e+00         1.00  \n",
       "is_active_member         0.00  1.000000e+00  1.000000e+00         1.00  \n",
       "estimated_salary     51002.11  1.001939e+05  1.493882e+05    199992.48  \n",
       "exited                   0.00  0.000000e+00  0.000000e+00         1.00  "
      ]
     },
     "execution_count": 7,
     "metadata": {},
     "output_type": "execute_result"
    }
   ],
   "source": [
    "#посмотрим статистики датасета\n",
    "df.describe().T"
   ]
  },
  {
   "cell_type": "markdown",
   "metadata": {},
   "source": [
    "Проверим наличие дубликатов в датасете"
   ]
  },
  {
   "cell_type": "code",
   "execution_count": 8,
   "metadata": {
    "scrolled": true
   },
   "outputs": [
    {
     "data": {
      "text/plain": [
       "0"
      ]
     },
     "execution_count": 8,
     "metadata": {},
     "output_type": "execute_result"
    }
   ],
   "source": [
    "#проверим наличие дубликатов \n",
    "df.duplicated().sum()"
   ]
  },
  {
   "cell_type": "code",
   "execution_count": 9,
   "metadata": {},
   "outputs": [
    {
     "data": {
      "text/html": [
       "<div>\n",
       "<style scoped>\n",
       "    .dataframe tbody tr th:only-of-type {\n",
       "        vertical-align: middle;\n",
       "    }\n",
       "\n",
       "    .dataframe tbody tr th {\n",
       "        vertical-align: top;\n",
       "    }\n",
       "\n",
       "    .dataframe thead th {\n",
       "        text-align: right;\n",
       "    }\n",
       "</style>\n",
       "<table border=\"1\" class=\"dataframe\">\n",
       "  <thead>\n",
       "    <tr style=\"text-align: right;\">\n",
       "      <th></th>\n",
       "      <th>customer_id</th>\n",
       "      <th>surname</th>\n",
       "      <th>credit_score</th>\n",
       "      <th>geography</th>\n",
       "      <th>gender</th>\n",
       "      <th>age</th>\n",
       "      <th>tenure</th>\n",
       "      <th>balance</th>\n",
       "      <th>num_of_products</th>\n",
       "      <th>has_cr_card</th>\n",
       "      <th>is_active_member</th>\n",
       "      <th>estimated_salary</th>\n",
       "      <th>exited</th>\n",
       "    </tr>\n",
       "    <tr>\n",
       "      <th>row_number</th>\n",
       "      <th></th>\n",
       "      <th></th>\n",
       "      <th></th>\n",
       "      <th></th>\n",
       "      <th></th>\n",
       "      <th></th>\n",
       "      <th></th>\n",
       "      <th></th>\n",
       "      <th></th>\n",
       "      <th></th>\n",
       "      <th></th>\n",
       "      <th></th>\n",
       "      <th></th>\n",
       "    </tr>\n",
       "  </thead>\n",
       "  <tbody>\n",
       "    <tr>\n",
       "      <th>1</th>\n",
       "      <td>15634602</td>\n",
       "      <td>Hargrave</td>\n",
       "      <td>619</td>\n",
       "      <td>France</td>\n",
       "      <td>Female</td>\n",
       "      <td>42</td>\n",
       "      <td>2.0</td>\n",
       "      <td>0.00</td>\n",
       "      <td>1</td>\n",
       "      <td>1</td>\n",
       "      <td>1</td>\n",
       "      <td>101348.88</td>\n",
       "      <td>1</td>\n",
       "    </tr>\n",
       "    <tr>\n",
       "      <th>2</th>\n",
       "      <td>15647311</td>\n",
       "      <td>Hill</td>\n",
       "      <td>608</td>\n",
       "      <td>Spain</td>\n",
       "      <td>Female</td>\n",
       "      <td>41</td>\n",
       "      <td>1.0</td>\n",
       "      <td>83807.86</td>\n",
       "      <td>1</td>\n",
       "      <td>0</td>\n",
       "      <td>1</td>\n",
       "      <td>112542.58</td>\n",
       "      <td>0</td>\n",
       "    </tr>\n",
       "    <tr>\n",
       "      <th>3</th>\n",
       "      <td>15619304</td>\n",
       "      <td>Onio</td>\n",
       "      <td>502</td>\n",
       "      <td>France</td>\n",
       "      <td>Female</td>\n",
       "      <td>42</td>\n",
       "      <td>8.0</td>\n",
       "      <td>159660.80</td>\n",
       "      <td>3</td>\n",
       "      <td>1</td>\n",
       "      <td>0</td>\n",
       "      <td>113931.57</td>\n",
       "      <td>1</td>\n",
       "    </tr>\n",
       "    <tr>\n",
       "      <th>4</th>\n",
       "      <td>15701354</td>\n",
       "      <td>Boni</td>\n",
       "      <td>699</td>\n",
       "      <td>France</td>\n",
       "      <td>Female</td>\n",
       "      <td>39</td>\n",
       "      <td>1.0</td>\n",
       "      <td>0.00</td>\n",
       "      <td>2</td>\n",
       "      <td>0</td>\n",
       "      <td>0</td>\n",
       "      <td>93826.63</td>\n",
       "      <td>0</td>\n",
       "    </tr>\n",
       "    <tr>\n",
       "      <th>5</th>\n",
       "      <td>15737888</td>\n",
       "      <td>Mitchell</td>\n",
       "      <td>850</td>\n",
       "      <td>Spain</td>\n",
       "      <td>Female</td>\n",
       "      <td>43</td>\n",
       "      <td>2.0</td>\n",
       "      <td>125510.82</td>\n",
       "      <td>1</td>\n",
       "      <td>1</td>\n",
       "      <td>1</td>\n",
       "      <td>79084.10</td>\n",
       "      <td>0</td>\n",
       "    </tr>\n",
       "    <tr>\n",
       "      <th>...</th>\n",
       "      <td>...</td>\n",
       "      <td>...</td>\n",
       "      <td>...</td>\n",
       "      <td>...</td>\n",
       "      <td>...</td>\n",
       "      <td>...</td>\n",
       "      <td>...</td>\n",
       "      <td>...</td>\n",
       "      <td>...</td>\n",
       "      <td>...</td>\n",
       "      <td>...</td>\n",
       "      <td>...</td>\n",
       "      <td>...</td>\n",
       "    </tr>\n",
       "    <tr>\n",
       "      <th>9996</th>\n",
       "      <td>15606229</td>\n",
       "      <td>Obijiaku</td>\n",
       "      <td>771</td>\n",
       "      <td>France</td>\n",
       "      <td>Male</td>\n",
       "      <td>39</td>\n",
       "      <td>5.0</td>\n",
       "      <td>0.00</td>\n",
       "      <td>2</td>\n",
       "      <td>1</td>\n",
       "      <td>0</td>\n",
       "      <td>96270.64</td>\n",
       "      <td>0</td>\n",
       "    </tr>\n",
       "    <tr>\n",
       "      <th>9997</th>\n",
       "      <td>15569892</td>\n",
       "      <td>Johnstone</td>\n",
       "      <td>516</td>\n",
       "      <td>France</td>\n",
       "      <td>Male</td>\n",
       "      <td>35</td>\n",
       "      <td>10.0</td>\n",
       "      <td>57369.61</td>\n",
       "      <td>1</td>\n",
       "      <td>1</td>\n",
       "      <td>1</td>\n",
       "      <td>101699.77</td>\n",
       "      <td>0</td>\n",
       "    </tr>\n",
       "    <tr>\n",
       "      <th>9998</th>\n",
       "      <td>15584532</td>\n",
       "      <td>Liu</td>\n",
       "      <td>709</td>\n",
       "      <td>France</td>\n",
       "      <td>Female</td>\n",
       "      <td>36</td>\n",
       "      <td>7.0</td>\n",
       "      <td>0.00</td>\n",
       "      <td>1</td>\n",
       "      <td>0</td>\n",
       "      <td>1</td>\n",
       "      <td>42085.58</td>\n",
       "      <td>1</td>\n",
       "    </tr>\n",
       "    <tr>\n",
       "      <th>9999</th>\n",
       "      <td>15682355</td>\n",
       "      <td>Sabbatini</td>\n",
       "      <td>772</td>\n",
       "      <td>Germany</td>\n",
       "      <td>Male</td>\n",
       "      <td>42</td>\n",
       "      <td>3.0</td>\n",
       "      <td>75075.31</td>\n",
       "      <td>2</td>\n",
       "      <td>1</td>\n",
       "      <td>0</td>\n",
       "      <td>92888.52</td>\n",
       "      <td>1</td>\n",
       "    </tr>\n",
       "    <tr>\n",
       "      <th>10000</th>\n",
       "      <td>15628319</td>\n",
       "      <td>Walker</td>\n",
       "      <td>792</td>\n",
       "      <td>France</td>\n",
       "      <td>Female</td>\n",
       "      <td>28</td>\n",
       "      <td>-1.0</td>\n",
       "      <td>130142.79</td>\n",
       "      <td>1</td>\n",
       "      <td>1</td>\n",
       "      <td>0</td>\n",
       "      <td>38190.78</td>\n",
       "      <td>0</td>\n",
       "    </tr>\n",
       "  </tbody>\n",
       "</table>\n",
       "<p>10000 rows × 13 columns</p>\n",
       "</div>"
      ],
      "text/plain": [
       "            customer_id    surname  credit_score geography  gender  age  \\\n",
       "row_number                                                                \n",
       "1              15634602   Hargrave           619    France  Female   42   \n",
       "2              15647311       Hill           608     Spain  Female   41   \n",
       "3              15619304       Onio           502    France  Female   42   \n",
       "4              15701354       Boni           699    France  Female   39   \n",
       "5              15737888   Mitchell           850     Spain  Female   43   \n",
       "...                 ...        ...           ...       ...     ...  ...   \n",
       "9996           15606229   Obijiaku           771    France    Male   39   \n",
       "9997           15569892  Johnstone           516    France    Male   35   \n",
       "9998           15584532        Liu           709    France  Female   36   \n",
       "9999           15682355  Sabbatini           772   Germany    Male   42   \n",
       "10000          15628319     Walker           792    France  Female   28   \n",
       "\n",
       "            tenure    balance  num_of_products  has_cr_card  is_active_member  \\\n",
       "row_number                                                                      \n",
       "1              2.0       0.00                1            1                 1   \n",
       "2              1.0   83807.86                1            0                 1   \n",
       "3              8.0  159660.80                3            1                 0   \n",
       "4              1.0       0.00                2            0                 0   \n",
       "5              2.0  125510.82                1            1                 1   \n",
       "...            ...        ...              ...          ...               ...   \n",
       "9996           5.0       0.00                2            1                 0   \n",
       "9997          10.0   57369.61                1            1                 1   \n",
       "9998           7.0       0.00                1            0                 1   \n",
       "9999           3.0   75075.31                2            1                 0   \n",
       "10000         -1.0  130142.79                1            1                 0   \n",
       "\n",
       "            estimated_salary  exited  \n",
       "row_number                            \n",
       "1                  101348.88       1  \n",
       "2                  112542.58       0  \n",
       "3                  113931.57       1  \n",
       "4                   93826.63       0  \n",
       "5                   79084.10       0  \n",
       "...                      ...     ...  \n",
       "9996                96270.64       0  \n",
       "9997               101699.77       0  \n",
       "9998                42085.58       1  \n",
       "9999                92888.52       1  \n",
       "10000               38190.78       0  \n",
       "\n",
       "[10000 rows x 13 columns]"
      ]
     },
     "execution_count": 9,
     "metadata": {},
     "output_type": "execute_result"
    }
   ],
   "source": [
    "df"
   ]
  },
  {
   "cell_type": "markdown",
   "metadata": {},
   "source": [
    "Так как в датасете есть категориальные признаки, то проведем прямое кодирование (OHE)"
   ]
  },
  {
   "cell_type": "code",
   "execution_count": 10,
   "metadata": {},
   "outputs": [
    {
     "name": "stdout",
     "output_type": "stream",
     "text": [
      "<class 'pandas.core.frame.DataFrame'>\n",
      "Int64Index: 10000 entries, 1 to 10000\n",
      "Data columns (total 13 columns):\n",
      " #   Column            Non-Null Count  Dtype  \n",
      "---  ------            --------------  -----  \n",
      " 0   customer_id       10000 non-null  int64  \n",
      " 1   surname           10000 non-null  object \n",
      " 2   credit_score      10000 non-null  int64  \n",
      " 3   geography         10000 non-null  object \n",
      " 4   gender            10000 non-null  object \n",
      " 5   age               10000 non-null  int64  \n",
      " 6   tenure            10000 non-null  float64\n",
      " 7   balance           10000 non-null  float64\n",
      " 8   num_of_products   10000 non-null  int64  \n",
      " 9   has_cr_card       10000 non-null  int64  \n",
      " 10  is_active_member  10000 non-null  int64  \n",
      " 11  estimated_salary  10000 non-null  float64\n",
      " 12  exited            10000 non-null  int64  \n",
      "dtypes: float64(3), int64(7), object(3)\n",
      "memory usage: 1.1+ MB\n"
     ]
    }
   ],
   "source": [
    "df.info()"
   ]
  },
  {
   "cell_type": "code",
   "execution_count": 11,
   "metadata": {},
   "outputs": [],
   "source": [
    "#OHE\n",
    "df['tenure'] = df['tenure'].astype(str)\n",
    "df1 = df.drop(['customer_id','surname'], axis=1)\n",
    "df_ohe = pd.get_dummies(df1, drop_first=True)\n",
    "target = df_ohe['exited']\n",
    "features = df_ohe.drop(['exited'], axis=1)"
   ]
  },
  {
   "cell_type": "markdown",
   "metadata": {},
   "source": [
    "Проверим результат прямого кодирования и масштабирования"
   ]
  },
  {
   "cell_type": "code",
   "execution_count": 12,
   "metadata": {},
   "outputs": [
    {
     "data": {
      "text/html": [
       "<div>\n",
       "<style scoped>\n",
       "    .dataframe tbody tr th:only-of-type {\n",
       "        vertical-align: middle;\n",
       "    }\n",
       "\n",
       "    .dataframe tbody tr th {\n",
       "        vertical-align: top;\n",
       "    }\n",
       "\n",
       "    .dataframe thead th {\n",
       "        text-align: right;\n",
       "    }\n",
       "</style>\n",
       "<table border=\"1\" class=\"dataframe\">\n",
       "  <thead>\n",
       "    <tr style=\"text-align: right;\">\n",
       "      <th></th>\n",
       "      <th>credit_score</th>\n",
       "      <th>age</th>\n",
       "      <th>balance</th>\n",
       "      <th>num_of_products</th>\n",
       "      <th>has_cr_card</th>\n",
       "      <th>is_active_member</th>\n",
       "      <th>estimated_salary</th>\n",
       "      <th>geography_Germany</th>\n",
       "      <th>geography_Spain</th>\n",
       "      <th>gender_Male</th>\n",
       "      <th>...</th>\n",
       "      <th>tenure_1.0</th>\n",
       "      <th>tenure_10.0</th>\n",
       "      <th>tenure_2.0</th>\n",
       "      <th>tenure_3.0</th>\n",
       "      <th>tenure_4.0</th>\n",
       "      <th>tenure_5.0</th>\n",
       "      <th>tenure_6.0</th>\n",
       "      <th>tenure_7.0</th>\n",
       "      <th>tenure_8.0</th>\n",
       "      <th>tenure_9.0</th>\n",
       "    </tr>\n",
       "    <tr>\n",
       "      <th>row_number</th>\n",
       "      <th></th>\n",
       "      <th></th>\n",
       "      <th></th>\n",
       "      <th></th>\n",
       "      <th></th>\n",
       "      <th></th>\n",
       "      <th></th>\n",
       "      <th></th>\n",
       "      <th></th>\n",
       "      <th></th>\n",
       "      <th></th>\n",
       "      <th></th>\n",
       "      <th></th>\n",
       "      <th></th>\n",
       "      <th></th>\n",
       "      <th></th>\n",
       "      <th></th>\n",
       "      <th></th>\n",
       "      <th></th>\n",
       "      <th></th>\n",
       "      <th></th>\n",
       "    </tr>\n",
       "  </thead>\n",
       "  <tbody>\n",
       "    <tr>\n",
       "      <th>1</th>\n",
       "      <td>619</td>\n",
       "      <td>42</td>\n",
       "      <td>0.00</td>\n",
       "      <td>1</td>\n",
       "      <td>1</td>\n",
       "      <td>1</td>\n",
       "      <td>101348.88</td>\n",
       "      <td>0</td>\n",
       "      <td>0</td>\n",
       "      <td>0</td>\n",
       "      <td>...</td>\n",
       "      <td>0</td>\n",
       "      <td>0</td>\n",
       "      <td>1</td>\n",
       "      <td>0</td>\n",
       "      <td>0</td>\n",
       "      <td>0</td>\n",
       "      <td>0</td>\n",
       "      <td>0</td>\n",
       "      <td>0</td>\n",
       "      <td>0</td>\n",
       "    </tr>\n",
       "    <tr>\n",
       "      <th>2</th>\n",
       "      <td>608</td>\n",
       "      <td>41</td>\n",
       "      <td>83807.86</td>\n",
       "      <td>1</td>\n",
       "      <td>0</td>\n",
       "      <td>1</td>\n",
       "      <td>112542.58</td>\n",
       "      <td>0</td>\n",
       "      <td>1</td>\n",
       "      <td>0</td>\n",
       "      <td>...</td>\n",
       "      <td>1</td>\n",
       "      <td>0</td>\n",
       "      <td>0</td>\n",
       "      <td>0</td>\n",
       "      <td>0</td>\n",
       "      <td>0</td>\n",
       "      <td>0</td>\n",
       "      <td>0</td>\n",
       "      <td>0</td>\n",
       "      <td>0</td>\n",
       "    </tr>\n",
       "    <tr>\n",
       "      <th>3</th>\n",
       "      <td>502</td>\n",
       "      <td>42</td>\n",
       "      <td>159660.80</td>\n",
       "      <td>3</td>\n",
       "      <td>1</td>\n",
       "      <td>0</td>\n",
       "      <td>113931.57</td>\n",
       "      <td>0</td>\n",
       "      <td>0</td>\n",
       "      <td>0</td>\n",
       "      <td>...</td>\n",
       "      <td>0</td>\n",
       "      <td>0</td>\n",
       "      <td>0</td>\n",
       "      <td>0</td>\n",
       "      <td>0</td>\n",
       "      <td>0</td>\n",
       "      <td>0</td>\n",
       "      <td>0</td>\n",
       "      <td>1</td>\n",
       "      <td>0</td>\n",
       "    </tr>\n",
       "    <tr>\n",
       "      <th>4</th>\n",
       "      <td>699</td>\n",
       "      <td>39</td>\n",
       "      <td>0.00</td>\n",
       "      <td>2</td>\n",
       "      <td>0</td>\n",
       "      <td>0</td>\n",
       "      <td>93826.63</td>\n",
       "      <td>0</td>\n",
       "      <td>0</td>\n",
       "      <td>0</td>\n",
       "      <td>...</td>\n",
       "      <td>1</td>\n",
       "      <td>0</td>\n",
       "      <td>0</td>\n",
       "      <td>0</td>\n",
       "      <td>0</td>\n",
       "      <td>0</td>\n",
       "      <td>0</td>\n",
       "      <td>0</td>\n",
       "      <td>0</td>\n",
       "      <td>0</td>\n",
       "    </tr>\n",
       "    <tr>\n",
       "      <th>5</th>\n",
       "      <td>850</td>\n",
       "      <td>43</td>\n",
       "      <td>125510.82</td>\n",
       "      <td>1</td>\n",
       "      <td>1</td>\n",
       "      <td>1</td>\n",
       "      <td>79084.10</td>\n",
       "      <td>0</td>\n",
       "      <td>1</td>\n",
       "      <td>0</td>\n",
       "      <td>...</td>\n",
       "      <td>0</td>\n",
       "      <td>0</td>\n",
       "      <td>1</td>\n",
       "      <td>0</td>\n",
       "      <td>0</td>\n",
       "      <td>0</td>\n",
       "      <td>0</td>\n",
       "      <td>0</td>\n",
       "      <td>0</td>\n",
       "      <td>0</td>\n",
       "    </tr>\n",
       "    <tr>\n",
       "      <th>...</th>\n",
       "      <td>...</td>\n",
       "      <td>...</td>\n",
       "      <td>...</td>\n",
       "      <td>...</td>\n",
       "      <td>...</td>\n",
       "      <td>...</td>\n",
       "      <td>...</td>\n",
       "      <td>...</td>\n",
       "      <td>...</td>\n",
       "      <td>...</td>\n",
       "      <td>...</td>\n",
       "      <td>...</td>\n",
       "      <td>...</td>\n",
       "      <td>...</td>\n",
       "      <td>...</td>\n",
       "      <td>...</td>\n",
       "      <td>...</td>\n",
       "      <td>...</td>\n",
       "      <td>...</td>\n",
       "      <td>...</td>\n",
       "      <td>...</td>\n",
       "    </tr>\n",
       "    <tr>\n",
       "      <th>9996</th>\n",
       "      <td>771</td>\n",
       "      <td>39</td>\n",
       "      <td>0.00</td>\n",
       "      <td>2</td>\n",
       "      <td>1</td>\n",
       "      <td>0</td>\n",
       "      <td>96270.64</td>\n",
       "      <td>0</td>\n",
       "      <td>0</td>\n",
       "      <td>1</td>\n",
       "      <td>...</td>\n",
       "      <td>0</td>\n",
       "      <td>0</td>\n",
       "      <td>0</td>\n",
       "      <td>0</td>\n",
       "      <td>0</td>\n",
       "      <td>1</td>\n",
       "      <td>0</td>\n",
       "      <td>0</td>\n",
       "      <td>0</td>\n",
       "      <td>0</td>\n",
       "    </tr>\n",
       "    <tr>\n",
       "      <th>9997</th>\n",
       "      <td>516</td>\n",
       "      <td>35</td>\n",
       "      <td>57369.61</td>\n",
       "      <td>1</td>\n",
       "      <td>1</td>\n",
       "      <td>1</td>\n",
       "      <td>101699.77</td>\n",
       "      <td>0</td>\n",
       "      <td>0</td>\n",
       "      <td>1</td>\n",
       "      <td>...</td>\n",
       "      <td>0</td>\n",
       "      <td>1</td>\n",
       "      <td>0</td>\n",
       "      <td>0</td>\n",
       "      <td>0</td>\n",
       "      <td>0</td>\n",
       "      <td>0</td>\n",
       "      <td>0</td>\n",
       "      <td>0</td>\n",
       "      <td>0</td>\n",
       "    </tr>\n",
       "    <tr>\n",
       "      <th>9998</th>\n",
       "      <td>709</td>\n",
       "      <td>36</td>\n",
       "      <td>0.00</td>\n",
       "      <td>1</td>\n",
       "      <td>0</td>\n",
       "      <td>1</td>\n",
       "      <td>42085.58</td>\n",
       "      <td>0</td>\n",
       "      <td>0</td>\n",
       "      <td>0</td>\n",
       "      <td>...</td>\n",
       "      <td>0</td>\n",
       "      <td>0</td>\n",
       "      <td>0</td>\n",
       "      <td>0</td>\n",
       "      <td>0</td>\n",
       "      <td>0</td>\n",
       "      <td>0</td>\n",
       "      <td>1</td>\n",
       "      <td>0</td>\n",
       "      <td>0</td>\n",
       "    </tr>\n",
       "    <tr>\n",
       "      <th>9999</th>\n",
       "      <td>772</td>\n",
       "      <td>42</td>\n",
       "      <td>75075.31</td>\n",
       "      <td>2</td>\n",
       "      <td>1</td>\n",
       "      <td>0</td>\n",
       "      <td>92888.52</td>\n",
       "      <td>1</td>\n",
       "      <td>0</td>\n",
       "      <td>1</td>\n",
       "      <td>...</td>\n",
       "      <td>0</td>\n",
       "      <td>0</td>\n",
       "      <td>0</td>\n",
       "      <td>1</td>\n",
       "      <td>0</td>\n",
       "      <td>0</td>\n",
       "      <td>0</td>\n",
       "      <td>0</td>\n",
       "      <td>0</td>\n",
       "      <td>0</td>\n",
       "    </tr>\n",
       "    <tr>\n",
       "      <th>10000</th>\n",
       "      <td>792</td>\n",
       "      <td>28</td>\n",
       "      <td>130142.79</td>\n",
       "      <td>1</td>\n",
       "      <td>1</td>\n",
       "      <td>0</td>\n",
       "      <td>38190.78</td>\n",
       "      <td>0</td>\n",
       "      <td>0</td>\n",
       "      <td>0</td>\n",
       "      <td>...</td>\n",
       "      <td>0</td>\n",
       "      <td>0</td>\n",
       "      <td>0</td>\n",
       "      <td>0</td>\n",
       "      <td>0</td>\n",
       "      <td>0</td>\n",
       "      <td>0</td>\n",
       "      <td>0</td>\n",
       "      <td>0</td>\n",
       "      <td>0</td>\n",
       "    </tr>\n",
       "  </tbody>\n",
       "</table>\n",
       "<p>10000 rows × 21 columns</p>\n",
       "</div>"
      ],
      "text/plain": [
       "            credit_score  age    balance  num_of_products  has_cr_card  \\\n",
       "row_number                                                               \n",
       "1                    619   42       0.00                1            1   \n",
       "2                    608   41   83807.86                1            0   \n",
       "3                    502   42  159660.80                3            1   \n",
       "4                    699   39       0.00                2            0   \n",
       "5                    850   43  125510.82                1            1   \n",
       "...                  ...  ...        ...              ...          ...   \n",
       "9996                 771   39       0.00                2            1   \n",
       "9997                 516   35   57369.61                1            1   \n",
       "9998                 709   36       0.00                1            0   \n",
       "9999                 772   42   75075.31                2            1   \n",
       "10000                792   28  130142.79                1            1   \n",
       "\n",
       "            is_active_member  estimated_salary  geography_Germany  \\\n",
       "row_number                                                          \n",
       "1                          1         101348.88                  0   \n",
       "2                          1         112542.58                  0   \n",
       "3                          0         113931.57                  0   \n",
       "4                          0          93826.63                  0   \n",
       "5                          1          79084.10                  0   \n",
       "...                      ...               ...                ...   \n",
       "9996                       0          96270.64                  0   \n",
       "9997                       1         101699.77                  0   \n",
       "9998                       1          42085.58                  0   \n",
       "9999                       0          92888.52                  1   \n",
       "10000                      0          38190.78                  0   \n",
       "\n",
       "            geography_Spain  gender_Male  ...  tenure_1.0  tenure_10.0  \\\n",
       "row_number                                ...                            \n",
       "1                         0            0  ...           0            0   \n",
       "2                         1            0  ...           1            0   \n",
       "3                         0            0  ...           0            0   \n",
       "4                         0            0  ...           1            0   \n",
       "5                         1            0  ...           0            0   \n",
       "...                     ...          ...  ...         ...          ...   \n",
       "9996                      0            1  ...           0            0   \n",
       "9997                      0            1  ...           0            1   \n",
       "9998                      0            0  ...           0            0   \n",
       "9999                      0            1  ...           0            0   \n",
       "10000                     0            0  ...           0            0   \n",
       "\n",
       "            tenure_2.0  tenure_3.0  tenure_4.0  tenure_5.0  tenure_6.0  \\\n",
       "row_number                                                               \n",
       "1                    1           0           0           0           0   \n",
       "2                    0           0           0           0           0   \n",
       "3                    0           0           0           0           0   \n",
       "4                    0           0           0           0           0   \n",
       "5                    1           0           0           0           0   \n",
       "...                ...         ...         ...         ...         ...   \n",
       "9996                 0           0           0           1           0   \n",
       "9997                 0           0           0           0           0   \n",
       "9998                 0           0           0           0           0   \n",
       "9999                 0           1           0           0           0   \n",
       "10000                0           0           0           0           0   \n",
       "\n",
       "            tenure_7.0  tenure_8.0  tenure_9.0  \n",
       "row_number                                      \n",
       "1                    0           0           0  \n",
       "2                    0           0           0  \n",
       "3                    0           1           0  \n",
       "4                    0           0           0  \n",
       "5                    0           0           0  \n",
       "...                ...         ...         ...  \n",
       "9996                 0           0           0  \n",
       "9997                 0           0           0  \n",
       "9998                 1           0           0  \n",
       "9999                 0           0           0  \n",
       "10000                0           0           0  \n",
       "\n",
       "[10000 rows x 21 columns]"
      ]
     },
     "execution_count": 12,
     "metadata": {},
     "output_type": "execute_result"
    }
   ],
   "source": [
    "features"
   ]
  },
  {
   "cell_type": "markdown",
   "metadata": {},
   "source": [
    "Проверим сбалансированность классов"
   ]
  },
  {
   "cell_type": "code",
   "execution_count": 13,
   "metadata": {
    "scrolled": true
   },
   "outputs": [
    {
     "data": {
      "text/plain": [
       "0    7963\n",
       "1    2037\n",
       "Name: exited, dtype: int64"
      ]
     },
     "execution_count": 13,
     "metadata": {},
     "output_type": "execute_result"
    }
   ],
   "source": [
    "#Проверим дисбаланс классов\n",
    "target.value_counts()"
   ]
  },
  {
   "cell_type": "markdown",
   "metadata": {},
   "source": [
    "Положительных ответов меньше, практически в 4 раза"
   ]
  },
  {
   "cell_type": "markdown",
   "metadata": {},
   "source": [
    "Разделим выборку на 3 части train, valid и test в пропорции 60/20/20"
   ]
  },
  {
   "cell_type": "code",
   "execution_count": 14,
   "metadata": {},
   "outputs": [],
   "source": [
    "#разделяем выборку\n",
    "features_train, features_test, target_train, target_test = train_test_split(\n",
    "    features, target, test_size=0.2,train_size=0.8, random_state=42)\n",
    "features_train, features_valid, target_train, target_valid = train_test_split(\n",
    "    features_train, target_train,test_size = 0.25,train_size =0.75, random_state=42)"
   ]
  },
  {
   "cell_type": "code",
   "execution_count": 15,
   "metadata": {},
   "outputs": [
    {
     "name": "stdout",
     "output_type": "stream",
     "text": [
      "Кол-во features_train: 6000\n",
      "Кол-во features_valid: 2000\n",
      "Кол-во features_test: 2000\n",
      "Кол-во target_train: 6000\n",
      "Кол-во target_valid: 2000\n",
      "Кол-во target_test: 2000\n"
     ]
    }
   ],
   "source": [
    "print('Кол-во features_train:',len(features_train))\n",
    "print('Кол-во features_valid:',len(features_valid))\n",
    "print('Кол-во features_test:',len(features_test))\n",
    "print('Кол-во target_train:',len(target_train))\n",
    "print('Кол-во target_valid:',len(target_valid))\n",
    "print('Кол-во target_test:',len(target_test))"
   ]
  },
  {
   "cell_type": "markdown",
   "metadata": {},
   "source": [
    "Масштабируем признаки"
   ]
  },
  {
   "cell_type": "code",
   "execution_count": 16,
   "metadata": {},
   "outputs": [],
   "source": [
    "numeric = ['credit_score', 'age', 'balance', 'estimated_salary']\n",
    "scaler = StandardScaler()\n",
    "scaler.fit(features_train[numeric])\n",
    "features_train[numeric] = scaler.transform(features_train[numeric])\n",
    "features_valid[numeric] = scaler.transform(features_valid[numeric])\n",
    "features_test[numeric] = scaler.transform(features_test[numeric])"
   ]
  },
  {
   "cell_type": "code",
   "execution_count": 17,
   "metadata": {},
   "outputs": [
    {
     "data": {
      "text/html": [
       "<div>\n",
       "<style scoped>\n",
       "    .dataframe tbody tr th:only-of-type {\n",
       "        vertical-align: middle;\n",
       "    }\n",
       "\n",
       "    .dataframe tbody tr th {\n",
       "        vertical-align: top;\n",
       "    }\n",
       "\n",
       "    .dataframe thead th {\n",
       "        text-align: right;\n",
       "    }\n",
       "</style>\n",
       "<table border=\"1\" class=\"dataframe\">\n",
       "  <thead>\n",
       "    <tr style=\"text-align: right;\">\n",
       "      <th></th>\n",
       "      <th>credit_score</th>\n",
       "      <th>age</th>\n",
       "      <th>balance</th>\n",
       "      <th>num_of_products</th>\n",
       "      <th>has_cr_card</th>\n",
       "      <th>is_active_member</th>\n",
       "      <th>estimated_salary</th>\n",
       "      <th>geography_Germany</th>\n",
       "      <th>geography_Spain</th>\n",
       "      <th>gender_Male</th>\n",
       "      <th>...</th>\n",
       "      <th>tenure_1.0</th>\n",
       "      <th>tenure_10.0</th>\n",
       "      <th>tenure_2.0</th>\n",
       "      <th>tenure_3.0</th>\n",
       "      <th>tenure_4.0</th>\n",
       "      <th>tenure_5.0</th>\n",
       "      <th>tenure_6.0</th>\n",
       "      <th>tenure_7.0</th>\n",
       "      <th>tenure_8.0</th>\n",
       "      <th>tenure_9.0</th>\n",
       "    </tr>\n",
       "    <tr>\n",
       "      <th>row_number</th>\n",
       "      <th></th>\n",
       "      <th></th>\n",
       "      <th></th>\n",
       "      <th></th>\n",
       "      <th></th>\n",
       "      <th></th>\n",
       "      <th></th>\n",
       "      <th></th>\n",
       "      <th></th>\n",
       "      <th></th>\n",
       "      <th></th>\n",
       "      <th></th>\n",
       "      <th></th>\n",
       "      <th></th>\n",
       "      <th></th>\n",
       "      <th></th>\n",
       "      <th></th>\n",
       "      <th></th>\n",
       "      <th></th>\n",
       "      <th></th>\n",
       "      <th></th>\n",
       "    </tr>\n",
       "  </thead>\n",
       "  <tbody>\n",
       "    <tr>\n",
       "      <th>6253</th>\n",
       "      <td>-0.581086</td>\n",
       "      <td>-0.661682</td>\n",
       "      <td>0.327195</td>\n",
       "      <td>2</td>\n",
       "      <td>0</td>\n",
       "      <td>0</td>\n",
       "      <td>-1.017034</td>\n",
       "      <td>1</td>\n",
       "      <td>0</td>\n",
       "      <td>1</td>\n",
       "      <td>...</td>\n",
       "      <td>0</td>\n",
       "      <td>0</td>\n",
       "      <td>0</td>\n",
       "      <td>1</td>\n",
       "      <td>0</td>\n",
       "      <td>0</td>\n",
       "      <td>0</td>\n",
       "      <td>0</td>\n",
       "      <td>0</td>\n",
       "      <td>0</td>\n",
       "    </tr>\n",
       "    <tr>\n",
       "      <th>4685</th>\n",
       "      <td>-0.299998</td>\n",
       "      <td>0.388607</td>\n",
       "      <td>-1.218934</td>\n",
       "      <td>2</td>\n",
       "      <td>1</td>\n",
       "      <td>1</td>\n",
       "      <td>0.805136</td>\n",
       "      <td>0</td>\n",
       "      <td>0</td>\n",
       "      <td>1</td>\n",
       "      <td>...</td>\n",
       "      <td>1</td>\n",
       "      <td>0</td>\n",
       "      <td>0</td>\n",
       "      <td>0</td>\n",
       "      <td>0</td>\n",
       "      <td>0</td>\n",
       "      <td>0</td>\n",
       "      <td>0</td>\n",
       "      <td>0</td>\n",
       "      <td>0</td>\n",
       "    </tr>\n",
       "    <tr>\n",
       "      <th>1732</th>\n",
       "      <td>-0.529032</td>\n",
       "      <td>0.484088</td>\n",
       "      <td>-1.218934</td>\n",
       "      <td>2</td>\n",
       "      <td>1</td>\n",
       "      <td>0</td>\n",
       "      <td>-0.724818</td>\n",
       "      <td>0</td>\n",
       "      <td>1</td>\n",
       "      <td>0</td>\n",
       "      <td>...</td>\n",
       "      <td>0</td>\n",
       "      <td>0</td>\n",
       "      <td>0</td>\n",
       "      <td>0</td>\n",
       "      <td>1</td>\n",
       "      <td>0</td>\n",
       "      <td>0</td>\n",
       "      <td>0</td>\n",
       "      <td>0</td>\n",
       "      <td>0</td>\n",
       "    </tr>\n",
       "    <tr>\n",
       "      <th>4743</th>\n",
       "      <td>-1.518047</td>\n",
       "      <td>1.916301</td>\n",
       "      <td>0.686002</td>\n",
       "      <td>2</td>\n",
       "      <td>1</td>\n",
       "      <td>1</td>\n",
       "      <td>1.228495</td>\n",
       "      <td>1</td>\n",
       "      <td>0</td>\n",
       "      <td>1</td>\n",
       "      <td>...</td>\n",
       "      <td>0</td>\n",
       "      <td>0</td>\n",
       "      <td>0</td>\n",
       "      <td>0</td>\n",
       "      <td>0</td>\n",
       "      <td>0</td>\n",
       "      <td>0</td>\n",
       "      <td>0</td>\n",
       "      <td>1</td>\n",
       "      <td>0</td>\n",
       "    </tr>\n",
       "    <tr>\n",
       "      <th>4522</th>\n",
       "      <td>-0.955870</td>\n",
       "      <td>-1.139087</td>\n",
       "      <td>0.779430</td>\n",
       "      <td>1</td>\n",
       "      <td>1</td>\n",
       "      <td>1</td>\n",
       "      <td>0.252697</td>\n",
       "      <td>0</td>\n",
       "      <td>1</td>\n",
       "      <td>0</td>\n",
       "      <td>...</td>\n",
       "      <td>0</td>\n",
       "      <td>0</td>\n",
       "      <td>0</td>\n",
       "      <td>0</td>\n",
       "      <td>0</td>\n",
       "      <td>0</td>\n",
       "      <td>0</td>\n",
       "      <td>1</td>\n",
       "      <td>0</td>\n",
       "      <td>0</td>\n",
       "    </tr>\n",
       "    <tr>\n",
       "      <th>...</th>\n",
       "      <td>...</td>\n",
       "      <td>...</td>\n",
       "      <td>...</td>\n",
       "      <td>...</td>\n",
       "      <td>...</td>\n",
       "      <td>...</td>\n",
       "      <td>...</td>\n",
       "      <td>...</td>\n",
       "      <td>...</td>\n",
       "      <td>...</td>\n",
       "      <td>...</td>\n",
       "      <td>...</td>\n",
       "      <td>...</td>\n",
       "      <td>...</td>\n",
       "      <td>...</td>\n",
       "      <td>...</td>\n",
       "      <td>...</td>\n",
       "      <td>...</td>\n",
       "      <td>...</td>\n",
       "      <td>...</td>\n",
       "      <td>...</td>\n",
       "    </tr>\n",
       "    <tr>\n",
       "      <th>6413</th>\n",
       "      <td>-0.518622</td>\n",
       "      <td>1.343416</td>\n",
       "      <td>0.352132</td>\n",
       "      <td>1</td>\n",
       "      <td>0</td>\n",
       "      <td>1</td>\n",
       "      <td>-0.960415</td>\n",
       "      <td>1</td>\n",
       "      <td>0</td>\n",
       "      <td>0</td>\n",
       "      <td>...</td>\n",
       "      <td>0</td>\n",
       "      <td>0</td>\n",
       "      <td>0</td>\n",
       "      <td>0</td>\n",
       "      <td>0</td>\n",
       "      <td>1</td>\n",
       "      <td>0</td>\n",
       "      <td>0</td>\n",
       "      <td>0</td>\n",
       "      <td>0</td>\n",
       "    </tr>\n",
       "    <tr>\n",
       "      <th>8286</th>\n",
       "      <td>-0.445747</td>\n",
       "      <td>-1.330048</td>\n",
       "      <td>-1.218934</td>\n",
       "      <td>1</td>\n",
       "      <td>0</td>\n",
       "      <td>1</td>\n",
       "      <td>0.169514</td>\n",
       "      <td>0</td>\n",
       "      <td>0</td>\n",
       "      <td>1</td>\n",
       "      <td>...</td>\n",
       "      <td>0</td>\n",
       "      <td>1</td>\n",
       "      <td>0</td>\n",
       "      <td>0</td>\n",
       "      <td>0</td>\n",
       "      <td>0</td>\n",
       "      <td>0</td>\n",
       "      <td>0</td>\n",
       "      <td>0</td>\n",
       "      <td>0</td>\n",
       "    </tr>\n",
       "    <tr>\n",
       "      <th>7854</th>\n",
       "      <td>0.813945</td>\n",
       "      <td>0.770530</td>\n",
       "      <td>-1.218934</td>\n",
       "      <td>1</td>\n",
       "      <td>1</td>\n",
       "      <td>0</td>\n",
       "      <td>-1.163641</td>\n",
       "      <td>0</td>\n",
       "      <td>0</td>\n",
       "      <td>0</td>\n",
       "      <td>...</td>\n",
       "      <td>0</td>\n",
       "      <td>0</td>\n",
       "      <td>0</td>\n",
       "      <td>0</td>\n",
       "      <td>0</td>\n",
       "      <td>0</td>\n",
       "      <td>0</td>\n",
       "      <td>1</td>\n",
       "      <td>0</td>\n",
       "      <td>0</td>\n",
       "    </tr>\n",
       "    <tr>\n",
       "      <th>1096</th>\n",
       "      <td>0.418339</td>\n",
       "      <td>-0.948125</td>\n",
       "      <td>-1.218934</td>\n",
       "      <td>1</td>\n",
       "      <td>1</td>\n",
       "      <td>0</td>\n",
       "      <td>-0.407833</td>\n",
       "      <td>0</td>\n",
       "      <td>0</td>\n",
       "      <td>1</td>\n",
       "      <td>...</td>\n",
       "      <td>0</td>\n",
       "      <td>0</td>\n",
       "      <td>0</td>\n",
       "      <td>0</td>\n",
       "      <td>1</td>\n",
       "      <td>0</td>\n",
       "      <td>0</td>\n",
       "      <td>0</td>\n",
       "      <td>0</td>\n",
       "      <td>0</td>\n",
       "    </tr>\n",
       "    <tr>\n",
       "      <th>6930</th>\n",
       "      <td>-0.247944</td>\n",
       "      <td>0.006684</td>\n",
       "      <td>0.625075</td>\n",
       "      <td>1</td>\n",
       "      <td>1</td>\n",
       "      <td>1</td>\n",
       "      <td>0.130822</td>\n",
       "      <td>1</td>\n",
       "      <td>0</td>\n",
       "      <td>1</td>\n",
       "      <td>...</td>\n",
       "      <td>1</td>\n",
       "      <td>0</td>\n",
       "      <td>0</td>\n",
       "      <td>0</td>\n",
       "      <td>0</td>\n",
       "      <td>0</td>\n",
       "      <td>0</td>\n",
       "      <td>0</td>\n",
       "      <td>0</td>\n",
       "      <td>0</td>\n",
       "    </tr>\n",
       "  </tbody>\n",
       "</table>\n",
       "<p>2000 rows × 21 columns</p>\n",
       "</div>"
      ],
      "text/plain": [
       "            credit_score       age   balance  num_of_products  has_cr_card  \\\n",
       "row_number                                                                   \n",
       "6253           -0.581086 -0.661682  0.327195                2            0   \n",
       "4685           -0.299998  0.388607 -1.218934                2            1   \n",
       "1732           -0.529032  0.484088 -1.218934                2            1   \n",
       "4743           -1.518047  1.916301  0.686002                2            1   \n",
       "4522           -0.955870 -1.139087  0.779430                1            1   \n",
       "...                  ...       ...       ...              ...          ...   \n",
       "6413           -0.518622  1.343416  0.352132                1            0   \n",
       "8286           -0.445747 -1.330048 -1.218934                1            0   \n",
       "7854            0.813945  0.770530 -1.218934                1            1   \n",
       "1096            0.418339 -0.948125 -1.218934                1            1   \n",
       "6930           -0.247944  0.006684  0.625075                1            1   \n",
       "\n",
       "            is_active_member  estimated_salary  geography_Germany  \\\n",
       "row_number                                                          \n",
       "6253                       0         -1.017034                  1   \n",
       "4685                       1          0.805136                  0   \n",
       "1732                       0         -0.724818                  0   \n",
       "4743                       1          1.228495                  1   \n",
       "4522                       1          0.252697                  0   \n",
       "...                      ...               ...                ...   \n",
       "6413                       1         -0.960415                  1   \n",
       "8286                       1          0.169514                  0   \n",
       "7854                       0         -1.163641                  0   \n",
       "1096                       0         -0.407833                  0   \n",
       "6930                       1          0.130822                  1   \n",
       "\n",
       "            geography_Spain  gender_Male  ...  tenure_1.0  tenure_10.0  \\\n",
       "row_number                                ...                            \n",
       "6253                      0            1  ...           0            0   \n",
       "4685                      0            1  ...           1            0   \n",
       "1732                      1            0  ...           0            0   \n",
       "4743                      0            1  ...           0            0   \n",
       "4522                      1            0  ...           0            0   \n",
       "...                     ...          ...  ...         ...          ...   \n",
       "6413                      0            0  ...           0            0   \n",
       "8286                      0            1  ...           0            1   \n",
       "7854                      0            0  ...           0            0   \n",
       "1096                      0            1  ...           0            0   \n",
       "6930                      0            1  ...           1            0   \n",
       "\n",
       "            tenure_2.0  tenure_3.0  tenure_4.0  tenure_5.0  tenure_6.0  \\\n",
       "row_number                                                               \n",
       "6253                 0           1           0           0           0   \n",
       "4685                 0           0           0           0           0   \n",
       "1732                 0           0           1           0           0   \n",
       "4743                 0           0           0           0           0   \n",
       "4522                 0           0           0           0           0   \n",
       "...                ...         ...         ...         ...         ...   \n",
       "6413                 0           0           0           1           0   \n",
       "8286                 0           0           0           0           0   \n",
       "7854                 0           0           0           0           0   \n",
       "1096                 0           0           1           0           0   \n",
       "6930                 0           0           0           0           0   \n",
       "\n",
       "            tenure_7.0  tenure_8.0  tenure_9.0  \n",
       "row_number                                      \n",
       "6253                 0           0           0  \n",
       "4685                 0           0           0  \n",
       "1732                 0           0           0  \n",
       "4743                 0           1           0  \n",
       "4522                 1           0           0  \n",
       "...                ...         ...         ...  \n",
       "6413                 0           0           0  \n",
       "8286                 0           0           0  \n",
       "7854                 1           0           0  \n",
       "1096                 0           0           0  \n",
       "6930                 0           0           0  \n",
       "\n",
       "[2000 rows x 21 columns]"
      ]
     },
     "execution_count": 17,
     "metadata": {},
     "output_type": "execute_result"
    }
   ],
   "source": [
    "features_test"
   ]
  },
  {
   "cell_type": "markdown",
   "metadata": {},
   "source": [
    "### Вывод\n",
    "\n",
    "\n",
    "1) В столбце `tenure` имелись пропуски, порядка 9 %, которые были заполнены -1.\n",
    "\n",
    "2) В данных не обнаружено дубликатов.\n",
    "\n",
    "3) В столбцах `geography` и `gender` находились категориальные данные, \n",
    "   для которых было проведено прямое кодирование (OHE).\n",
    "   \n",
    "4) Был выявлен дисбаланс классов, положительных значений в 3.9 раза меньше, чем отрицательных.\n",
    "\n",
    "5) Провели разделение выборки на 3 части train, valid и test в пропорции 60/20/20."
   ]
  },
  {
   "cell_type": "markdown",
   "metadata": {},
   "source": [
    "## Исследование задачи"
   ]
  },
  {
   "cell_type": "markdown",
   "metadata": {},
   "source": [
    "Обучим модель \"Дерево решений\""
   ]
  },
  {
   "cell_type": "code",
   "execution_count": 18,
   "metadata": {},
   "outputs": [
    {
     "name": "stdout",
     "output_type": "stream",
     "text": [
      "F1 наилучшей модели на валидационной выборке: 0.5756676557863502 \n",
      " Глубина дерева: 5 \n",
      " AUC-ROC для лучшей модели по F1: 0.763162712779835 \n",
      "\n",
      "CPU times: user 183 ms, sys: 3.32 ms, total: 186 ms\n",
      "Wall time: 188 ms\n"
     ]
    }
   ],
   "source": [
    "%%time\n",
    "best_score_tree_ub = 0\n",
    "best_depth = 0\n",
    "for depth in range(1, 11):\n",
    "    model = DecisionTreeClassifier(max_depth=depth, random_state=42)\n",
    "    model.fit(features_train, target_train)\n",
    "    probabilities_valid = model.predict_proba(features_valid)\n",
    "    predictions = model.predict(features_valid)\n",
    "    probabilities_one_valid = probabilities_valid[:, 1]\n",
    "    score = f1_score(target_valid, predictions)\n",
    "    auc_roc_tree_ub = roc_auc_score(target_valid, probabilities_one_valid)\n",
    "    if score > best_score_tree_ub:\n",
    "        best_score_tree_ub = score\n",
    "        best_depth = depth\n",
    "        \n",
    "print(\"F1 наилучшей модели на валидационной выборке:\", best_score_tree_ub,'\\n', \n",
    "      \"Глубина дерева:\", best_depth,'\\n', \n",
    "      \"AUC-ROC для лучшей модели по F1:\", auc_roc_tree_ub,'\\n')"
   ]
  },
  {
   "cell_type": "markdown",
   "metadata": {},
   "source": [
    "Обучим модель \"Случайный лес\""
   ]
  },
  {
   "cell_type": "code",
   "execution_count": 19,
   "metadata": {
    "scrolled": true
   },
   "outputs": [
    {
     "name": "stdout",
     "output_type": "stream",
     "text": [
      "F1 наилучшей модели на валидационной выборке: 0.5941807044410414 \n",
      " Количество деревьев: 80 \n",
      " Глубина дерева: 17 \n",
      " AUC-ROC для лучшей модели по F1: 0.8596221417662576 \n",
      "\n",
      "CPU times: user 57.7 s, sys: 500 ms, total: 58.2 s\n",
      "Wall time: 58.2 s\n"
     ]
    }
   ],
   "source": [
    "%%time\n",
    "best_score_forest_ub = 0\n",
    "best_est = 0\n",
    "best_depth = 0\n",
    "for est in range(10, 120, 10):\n",
    "    for depth in range (1, 20):\n",
    "        model = RandomForestClassifier(random_state=42, n_estimators=est, max_depth=depth)\n",
    "        model.fit(features_train, target_train) \n",
    "        probabilities_valid = model.predict_proba(features_valid)\n",
    "        predictions = model.predict(features_valid)\n",
    "        probabilities_one_valid = probabilities_valid[:, 1]\n",
    "        score = f1_score(target_valid, predictions)\n",
    "        auc_roc_forest_ub = roc_auc_score(target_valid, probabilities_one_valid)\n",
    "        if score > best_score_forest_ub:\n",
    "            best_score_forest_ub = score\n",
    "            best_est = est\n",
    "            best_depth = depth\n",
    "print(\"F1 наилучшей модели на валидационной выборке:\", best_score_forest_ub,'\\n',\n",
    "      \"Количество деревьев:\", best_est,'\\n',\n",
    "      \"Глубина дерева:\", best_depth,'\\n',\n",
    "      \"AUC-ROC для лучшей модели по F1:\", auc_roc_forest_ub,'\\n')"
   ]
  },
  {
   "cell_type": "markdown",
   "metadata": {},
   "source": [
    "Обучим модель \"Логистическая регрессия\""
   ]
  },
  {
   "cell_type": "code",
   "execution_count": 20,
   "metadata": {},
   "outputs": [
    {
     "name": "stdout",
     "output_type": "stream",
     "text": [
      "F1 наилучшей модели на валидационной выборке: 0.3046594982078853 \n",
      " Число итераций: 100 \n",
      " AUC-ROC для лучшей модели по F1: 0.780832765005012 \n",
      "\n",
      "CPU times: user 4.3 s, sys: 85.2 ms, total: 4.38 s\n",
      "Wall time: 601 ms\n"
     ]
    }
   ],
   "source": [
    "%%time\n",
    "best_score_logist_ub = 0\n",
    "best_iter = 0\n",
    "for i in range(100, 1000, 50):\n",
    "    model = LogisticRegression(random_state=42, max_iter=i) \n",
    "    model.fit(features_train, target_train) \n",
    "    probabilities_valid = model.predict_proba(features_valid)\n",
    "    predictions = model.predict(features_valid)\n",
    "    probabilities_one_valid = probabilities_valid[:, 1]\n",
    "    score = f1_score(target_valid, predictions)\n",
    "    auc_roc_logist_ub = roc_auc_score(target_valid, probabilities_one_valid)\n",
    "    if score > best_score_logist_ub:\n",
    "        best_score_logist_ub = score\n",
    "        best_iter = i\n",
    "print(\"F1 наилучшей модели на валидационной выборке:\", best_score_logist_ub,'\\n',  \n",
    "      \"Число итераций:\", best_iter,'\\n',\n",
    "      \"AUC-ROC для лучшей модели по F1:\", auc_roc_logist_ub,'\\n')"
   ]
  },
  {
   "cell_type": "code",
   "execution_count": 21,
   "metadata": {},
   "outputs": [
    {
     "data": {
      "text/html": [
       "<div>\n",
       "<style scoped>\n",
       "    .dataframe tbody tr th:only-of-type {\n",
       "        vertical-align: middle;\n",
       "    }\n",
       "\n",
       "    .dataframe tbody tr th {\n",
       "        vertical-align: top;\n",
       "    }\n",
       "\n",
       "    .dataframe thead th {\n",
       "        text-align: right;\n",
       "    }\n",
       "</style>\n",
       "<table border=\"1\" class=\"dataframe\">\n",
       "  <thead>\n",
       "    <tr style=\"text-align: right;\">\n",
       "      <th></th>\n",
       "      <th>test</th>\n",
       "      <th>f1_tree</th>\n",
       "      <th>f1_forest</th>\n",
       "      <th>f1_logistic</th>\n",
       "      <th>auc_tree</th>\n",
       "      <th>auc_forest</th>\n",
       "      <th>auc_logistic</th>\n",
       "    </tr>\n",
       "  </thead>\n",
       "  <tbody>\n",
       "    <tr>\n",
       "      <th>0</th>\n",
       "      <td>valid_unbalance</td>\n",
       "      <td>0.575668</td>\n",
       "      <td>0.594181</td>\n",
       "      <td>0.304659</td>\n",
       "      <td>0.763163</td>\n",
       "      <td>0.859622</td>\n",
       "      <td>0.780833</td>\n",
       "    </tr>\n",
       "  </tbody>\n",
       "</table>\n",
       "</div>"
      ],
      "text/plain": [
       "              test   f1_tree  f1_forest  f1_logistic  auc_tree  auc_forest  \\\n",
       "0  valid_unbalance  0.575668   0.594181     0.304659  0.763163    0.859622   \n",
       "\n",
       "   auc_logistic  \n",
       "0      0.780833  "
      ]
     },
     "execution_count": 21,
     "metadata": {},
     "output_type": "execute_result"
    }
   ],
   "source": [
    "#добавим результаты моделей в таблицу\n",
    "result = pd.DataFrame([['valid_unbalance',best_score_tree_ub, best_score_forest_ub, best_score_logist_ub, \n",
    "                        auc_roc_tree_ub, auc_roc_forest_ub, auc_roc_logist_ub],], \n",
    "columns=['test','f1_tree', 'f1_forest', 'f1_logistic', \n",
    "         'auc_tree', 'auc_forest', 'auc_logistic'])\n",
    "result"
   ]
  },
  {
   "cell_type": "markdown",
   "metadata": {},
   "source": [
    "### Вывод\n",
    "\n"
   ]
  },
  {
   "cell_type": "markdown",
   "metadata": {},
   "source": [
    "Мы обучили три модели \"Дерево решений\", \"Случайный лес\" и \"Логистическая регрессия\"\n",
    "\n",
    "На не сбалансированных данных лучший результат метрики F1 - 0.61 показала модель \"Случайный лес\"\n",
    "\n",
    "Модель \"Дерево решений\" показала результат 0.58 F1.\n",
    "\n",
    "При это метрика ROC-AUC у этих моделей отличается гораздо сильнее 0.86 и 0.75  для \"Случайного леса\" и \"Дерева решений\", соответственно."
   ]
  },
  {
   "cell_type": "markdown",
   "metadata": {},
   "source": [
    "## Борьба с дисбалансом"
   ]
  },
  {
   "cell_type": "markdown",
   "metadata": {},
   "source": [
    "Применим технику upsampling "
   ]
  },
  {
   "cell_type": "code",
   "execution_count": 22,
   "metadata": {},
   "outputs": [],
   "source": [
    "#функция upsampling на входе не сбалансированные данные, на выходе сбалансированные\n",
    "def upsample(features, target, repeat):\n",
    "    features_zeros = features[target == 0]\n",
    "    features_ones = features[target == 1]\n",
    "    target_zeros = target[target == 0]\n",
    "    target_ones = target[target == 1]\n",
    "\n",
    "    features_upsampled = pd.concat([features_zeros] + [features_ones] * repeat)\n",
    "    target_upsampled = pd.concat([target_zeros] + [target_ones] * repeat)\n",
    "    \n",
    "    features_upsampled, target_upsampled = shuffle(\n",
    "        features_upsampled, target_upsampled, random_state=12345)\n",
    "    \n",
    "    return features_upsampled, target_upsampled"
   ]
  },
  {
   "cell_type": "code",
   "execution_count": 23,
   "metadata": {},
   "outputs": [],
   "source": [
    "def downsample(features, target, fraction):\n",
    "    features_zeros = features[target == 0]\n",
    "    features_ones = features[target == 1]\n",
    "    target_zeros = target[target == 0]\n",
    "    target_ones = target[target == 1]\n",
    "\n",
    "    features_downsampled = pd.concat(\n",
    "        [features_zeros.sample(frac=fraction, random_state=12345)] + [features_ones])\n",
    "    target_downsampled = pd.concat(\n",
    "        [target_zeros.sample(frac=fraction, random_state=12345)] + [target_ones])\n",
    "    \n",
    "    features_downsampled, target_downsampled = shuffle(\n",
    "        features_downsampled, target_downsampled, random_state=12345)\n",
    "    \n",
    "    return features_downsampled, target_downsampled"
   ]
  },
  {
   "cell_type": "markdown",
   "metadata": {},
   "source": [
    "Сбалансируем данные методом upsampling"
   ]
  },
  {
   "cell_type": "code",
   "execution_count": 24,
   "metadata": {},
   "outputs": [],
   "source": [
    "features_upsampled, target_upsampled = upsample(features_train, target_train, 4)"
   ]
  },
  {
   "cell_type": "code",
   "execution_count": 25,
   "metadata": {},
   "outputs": [
    {
     "data": {
      "text/html": [
       "<div>\n",
       "<style scoped>\n",
       "    .dataframe tbody tr th:only-of-type {\n",
       "        vertical-align: middle;\n",
       "    }\n",
       "\n",
       "    .dataframe tbody tr th {\n",
       "        vertical-align: top;\n",
       "    }\n",
       "\n",
       "    .dataframe thead th {\n",
       "        text-align: right;\n",
       "    }\n",
       "</style>\n",
       "<table border=\"1\" class=\"dataframe\">\n",
       "  <thead>\n",
       "    <tr style=\"text-align: right;\">\n",
       "      <th></th>\n",
       "      <th>credit_score</th>\n",
       "      <th>age</th>\n",
       "      <th>balance</th>\n",
       "      <th>num_of_products</th>\n",
       "      <th>has_cr_card</th>\n",
       "      <th>is_active_member</th>\n",
       "      <th>estimated_salary</th>\n",
       "      <th>geography_Germany</th>\n",
       "      <th>geography_Spain</th>\n",
       "      <th>gender_Male</th>\n",
       "      <th>...</th>\n",
       "      <th>tenure_1.0</th>\n",
       "      <th>tenure_10.0</th>\n",
       "      <th>tenure_2.0</th>\n",
       "      <th>tenure_3.0</th>\n",
       "      <th>tenure_4.0</th>\n",
       "      <th>tenure_5.0</th>\n",
       "      <th>tenure_6.0</th>\n",
       "      <th>tenure_7.0</th>\n",
       "      <th>tenure_8.0</th>\n",
       "      <th>tenure_9.0</th>\n",
       "    </tr>\n",
       "    <tr>\n",
       "      <th>row_number</th>\n",
       "      <th></th>\n",
       "      <th></th>\n",
       "      <th></th>\n",
       "      <th></th>\n",
       "      <th></th>\n",
       "      <th></th>\n",
       "      <th></th>\n",
       "      <th></th>\n",
       "      <th></th>\n",
       "      <th></th>\n",
       "      <th></th>\n",
       "      <th></th>\n",
       "      <th></th>\n",
       "      <th></th>\n",
       "      <th></th>\n",
       "      <th></th>\n",
       "      <th></th>\n",
       "      <th></th>\n",
       "      <th></th>\n",
       "      <th></th>\n",
       "      <th></th>\n",
       "    </tr>\n",
       "  </thead>\n",
       "  <tbody>\n",
       "    <tr>\n",
       "      <th>1486</th>\n",
       "      <td>-1.840778</td>\n",
       "      <td>0.675050</td>\n",
       "      <td>-1.218934</td>\n",
       "      <td>2</td>\n",
       "      <td>0</td>\n",
       "      <td>0</td>\n",
       "      <td>0.397006</td>\n",
       "      <td>0</td>\n",
       "      <td>0</td>\n",
       "      <td>0</td>\n",
       "      <td>...</td>\n",
       "      <td>0</td>\n",
       "      <td>1</td>\n",
       "      <td>0</td>\n",
       "      <td>0</td>\n",
       "      <td>0</td>\n",
       "      <td>0</td>\n",
       "      <td>0</td>\n",
       "      <td>0</td>\n",
       "      <td>0</td>\n",
       "      <td>0</td>\n",
       "    </tr>\n",
       "    <tr>\n",
       "      <th>2715</th>\n",
       "      <td>0.137251</td>\n",
       "      <td>1.534377</td>\n",
       "      <td>0.961019</td>\n",
       "      <td>1</td>\n",
       "      <td>1</td>\n",
       "      <td>1</td>\n",
       "      <td>-0.111419</td>\n",
       "      <td>0</td>\n",
       "      <td>0</td>\n",
       "      <td>0</td>\n",
       "      <td>...</td>\n",
       "      <td>0</td>\n",
       "      <td>0</td>\n",
       "      <td>0</td>\n",
       "      <td>0</td>\n",
       "      <td>0</td>\n",
       "      <td>0</td>\n",
       "      <td>0</td>\n",
       "      <td>0</td>\n",
       "      <td>1</td>\n",
       "      <td>0</td>\n",
       "    </tr>\n",
       "    <tr>\n",
       "      <th>613</th>\n",
       "      <td>-0.487390</td>\n",
       "      <td>2.393705</td>\n",
       "      <td>0.852329</td>\n",
       "      <td>1</td>\n",
       "      <td>1</td>\n",
       "      <td>1</td>\n",
       "      <td>-1.508097</td>\n",
       "      <td>0</td>\n",
       "      <td>0</td>\n",
       "      <td>0</td>\n",
       "      <td>...</td>\n",
       "      <td>0</td>\n",
       "      <td>0</td>\n",
       "      <td>1</td>\n",
       "      <td>0</td>\n",
       "      <td>0</td>\n",
       "      <td>0</td>\n",
       "      <td>0</td>\n",
       "      <td>0</td>\n",
       "      <td>0</td>\n",
       "      <td>0</td>\n",
       "    </tr>\n",
       "    <tr>\n",
       "      <th>7588</th>\n",
       "      <td>-0.601907</td>\n",
       "      <td>-0.088797</td>\n",
       "      <td>0.329582</td>\n",
       "      <td>1</td>\n",
       "      <td>1</td>\n",
       "      <td>0</td>\n",
       "      <td>-0.394671</td>\n",
       "      <td>0</td>\n",
       "      <td>1</td>\n",
       "      <td>0</td>\n",
       "      <td>...</td>\n",
       "      <td>0</td>\n",
       "      <td>0</td>\n",
       "      <td>0</td>\n",
       "      <td>0</td>\n",
       "      <td>0</td>\n",
       "      <td>0</td>\n",
       "      <td>0</td>\n",
       "      <td>1</td>\n",
       "      <td>0</td>\n",
       "      <td>0</td>\n",
       "    </tr>\n",
       "    <tr>\n",
       "      <th>9604</th>\n",
       "      <td>0.241358</td>\n",
       "      <td>0.006684</td>\n",
       "      <td>-1.218934</td>\n",
       "      <td>2</td>\n",
       "      <td>0</td>\n",
       "      <td>1</td>\n",
       "      <td>-1.113223</td>\n",
       "      <td>0</td>\n",
       "      <td>0</td>\n",
       "      <td>1</td>\n",
       "      <td>...</td>\n",
       "      <td>0</td>\n",
       "      <td>0</td>\n",
       "      <td>0</td>\n",
       "      <td>0</td>\n",
       "      <td>0</td>\n",
       "      <td>0</td>\n",
       "      <td>0</td>\n",
       "      <td>1</td>\n",
       "      <td>0</td>\n",
       "      <td>0</td>\n",
       "    </tr>\n",
       "    <tr>\n",
       "      <th>...</th>\n",
       "      <td>...</td>\n",
       "      <td>...</td>\n",
       "      <td>...</td>\n",
       "      <td>...</td>\n",
       "      <td>...</td>\n",
       "      <td>...</td>\n",
       "      <td>...</td>\n",
       "      <td>...</td>\n",
       "      <td>...</td>\n",
       "      <td>...</td>\n",
       "      <td>...</td>\n",
       "      <td>...</td>\n",
       "      <td>...</td>\n",
       "      <td>...</td>\n",
       "      <td>...</td>\n",
       "      <td>...</td>\n",
       "      <td>...</td>\n",
       "      <td>...</td>\n",
       "      <td>...</td>\n",
       "      <td>...</td>\n",
       "      <td>...</td>\n",
       "    </tr>\n",
       "    <tr>\n",
       "      <th>2976</th>\n",
       "      <td>-1.715849</td>\n",
       "      <td>-0.184278</td>\n",
       "      <td>-1.218934</td>\n",
       "      <td>2</td>\n",
       "      <td>1</td>\n",
       "      <td>1</td>\n",
       "      <td>0.458408</td>\n",
       "      <td>0</td>\n",
       "      <td>0</td>\n",
       "      <td>1</td>\n",
       "      <td>...</td>\n",
       "      <td>0</td>\n",
       "      <td>0</td>\n",
       "      <td>0</td>\n",
       "      <td>0</td>\n",
       "      <td>0</td>\n",
       "      <td>0</td>\n",
       "      <td>1</td>\n",
       "      <td>0</td>\n",
       "      <td>0</td>\n",
       "      <td>0</td>\n",
       "    </tr>\n",
       "    <tr>\n",
       "      <th>9868</th>\n",
       "      <td>1.407353</td>\n",
       "      <td>-0.661682</td>\n",
       "      <td>-1.218934</td>\n",
       "      <td>2</td>\n",
       "      <td>1</td>\n",
       "      <td>1</td>\n",
       "      <td>-1.514419</td>\n",
       "      <td>0</td>\n",
       "      <td>0</td>\n",
       "      <td>1</td>\n",
       "      <td>...</td>\n",
       "      <td>0</td>\n",
       "      <td>0</td>\n",
       "      <td>0</td>\n",
       "      <td>0</td>\n",
       "      <td>1</td>\n",
       "      <td>0</td>\n",
       "      <td>0</td>\n",
       "      <td>0</td>\n",
       "      <td>0</td>\n",
       "      <td>0</td>\n",
       "    </tr>\n",
       "    <tr>\n",
       "      <th>5851</th>\n",
       "      <td>-0.216712</td>\n",
       "      <td>-1.616491</td>\n",
       "      <td>1.005396</td>\n",
       "      <td>1</td>\n",
       "      <td>1</td>\n",
       "      <td>1</td>\n",
       "      <td>-0.634465</td>\n",
       "      <td>1</td>\n",
       "      <td>0</td>\n",
       "      <td>0</td>\n",
       "      <td>...</td>\n",
       "      <td>0</td>\n",
       "      <td>0</td>\n",
       "      <td>0</td>\n",
       "      <td>0</td>\n",
       "      <td>0</td>\n",
       "      <td>0</td>\n",
       "      <td>1</td>\n",
       "      <td>0</td>\n",
       "      <td>0</td>\n",
       "      <td>0</td>\n",
       "    </tr>\n",
       "    <tr>\n",
       "      <th>4497</th>\n",
       "      <td>0.512035</td>\n",
       "      <td>0.293126</td>\n",
       "      <td>0.158668</td>\n",
       "      <td>1</td>\n",
       "      <td>1</td>\n",
       "      <td>0</td>\n",
       "      <td>0.926446</td>\n",
       "      <td>0</td>\n",
       "      <td>0</td>\n",
       "      <td>0</td>\n",
       "      <td>...</td>\n",
       "      <td>0</td>\n",
       "      <td>0</td>\n",
       "      <td>0</td>\n",
       "      <td>0</td>\n",
       "      <td>0</td>\n",
       "      <td>0</td>\n",
       "      <td>1</td>\n",
       "      <td>0</td>\n",
       "      <td>0</td>\n",
       "      <td>0</td>\n",
       "    </tr>\n",
       "    <tr>\n",
       "      <th>668</th>\n",
       "      <td>-1.549279</td>\n",
       "      <td>-0.948125</td>\n",
       "      <td>-1.218934</td>\n",
       "      <td>2</td>\n",
       "      <td>1</td>\n",
       "      <td>1</td>\n",
       "      <td>0.762900</td>\n",
       "      <td>0</td>\n",
       "      <td>0</td>\n",
       "      <td>1</td>\n",
       "      <td>...</td>\n",
       "      <td>0</td>\n",
       "      <td>0</td>\n",
       "      <td>0</td>\n",
       "      <td>1</td>\n",
       "      <td>0</td>\n",
       "      <td>0</td>\n",
       "      <td>0</td>\n",
       "      <td>0</td>\n",
       "      <td>0</td>\n",
       "      <td>0</td>\n",
       "    </tr>\n",
       "  </tbody>\n",
       "</table>\n",
       "<p>9693 rows × 21 columns</p>\n",
       "</div>"
      ],
      "text/plain": [
       "            credit_score       age   balance  num_of_products  has_cr_card  \\\n",
       "row_number                                                                   \n",
       "1486           -1.840778  0.675050 -1.218934                2            0   \n",
       "2715            0.137251  1.534377  0.961019                1            1   \n",
       "613            -0.487390  2.393705  0.852329                1            1   \n",
       "7588           -0.601907 -0.088797  0.329582                1            1   \n",
       "9604            0.241358  0.006684 -1.218934                2            0   \n",
       "...                  ...       ...       ...              ...          ...   \n",
       "2976           -1.715849 -0.184278 -1.218934                2            1   \n",
       "9868            1.407353 -0.661682 -1.218934                2            1   \n",
       "5851           -0.216712 -1.616491  1.005396                1            1   \n",
       "4497            0.512035  0.293126  0.158668                1            1   \n",
       "668            -1.549279 -0.948125 -1.218934                2            1   \n",
       "\n",
       "            is_active_member  estimated_salary  geography_Germany  \\\n",
       "row_number                                                          \n",
       "1486                       0          0.397006                  0   \n",
       "2715                       1         -0.111419                  0   \n",
       "613                        1         -1.508097                  0   \n",
       "7588                       0         -0.394671                  0   \n",
       "9604                       1         -1.113223                  0   \n",
       "...                      ...               ...                ...   \n",
       "2976                       1          0.458408                  0   \n",
       "9868                       1         -1.514419                  0   \n",
       "5851                       1         -0.634465                  1   \n",
       "4497                       0          0.926446                  0   \n",
       "668                        1          0.762900                  0   \n",
       "\n",
       "            geography_Spain  gender_Male  ...  tenure_1.0  tenure_10.0  \\\n",
       "row_number                                ...                            \n",
       "1486                      0            0  ...           0            1   \n",
       "2715                      0            0  ...           0            0   \n",
       "613                       0            0  ...           0            0   \n",
       "7588                      1            0  ...           0            0   \n",
       "9604                      0            1  ...           0            0   \n",
       "...                     ...          ...  ...         ...          ...   \n",
       "2976                      0            1  ...           0            0   \n",
       "9868                      0            1  ...           0            0   \n",
       "5851                      0            0  ...           0            0   \n",
       "4497                      0            0  ...           0            0   \n",
       "668                       0            1  ...           0            0   \n",
       "\n",
       "            tenure_2.0  tenure_3.0  tenure_4.0  tenure_5.0  tenure_6.0  \\\n",
       "row_number                                                               \n",
       "1486                 0           0           0           0           0   \n",
       "2715                 0           0           0           0           0   \n",
       "613                  1           0           0           0           0   \n",
       "7588                 0           0           0           0           0   \n",
       "9604                 0           0           0           0           0   \n",
       "...                ...         ...         ...         ...         ...   \n",
       "2976                 0           0           0           0           1   \n",
       "9868                 0           0           1           0           0   \n",
       "5851                 0           0           0           0           1   \n",
       "4497                 0           0           0           0           1   \n",
       "668                  0           1           0           0           0   \n",
       "\n",
       "            tenure_7.0  tenure_8.0  tenure_9.0  \n",
       "row_number                                      \n",
       "1486                 0           0           0  \n",
       "2715                 0           1           0  \n",
       "613                  0           0           0  \n",
       "7588                 1           0           0  \n",
       "9604                 1           0           0  \n",
       "...                ...         ...         ...  \n",
       "2976                 0           0           0  \n",
       "9868                 0           0           0  \n",
       "5851                 0           0           0  \n",
       "4497                 0           0           0  \n",
       "668                  0           0           0  \n",
       "\n",
       "[9693 rows x 21 columns]"
      ]
     },
     "execution_count": 25,
     "metadata": {},
     "output_type": "execute_result"
    }
   ],
   "source": [
    "features_upsampled"
   ]
  },
  {
   "cell_type": "markdown",
   "metadata": {},
   "source": [
    "Сбалансируем данные методом downsampling"
   ]
  },
  {
   "cell_type": "code",
   "execution_count": 26,
   "metadata": {},
   "outputs": [],
   "source": [
    "features_downsampled, target_downsampled = downsample(features_train, target_train, 0.26)"
   ]
  },
  {
   "cell_type": "markdown",
   "metadata": {},
   "source": [
    "Обучим модель \"Дерево решений\", учитывая дисбаланс классов (upsampling)"
   ]
  },
  {
   "cell_type": "code",
   "execution_count": 27,
   "metadata": {},
   "outputs": [
    {
     "name": "stdout",
     "output_type": "stream",
     "text": [
      "F1 наилучшей модели на валидационной выборке: 0.5955056179775281 \n",
      " Глубина дерева: 5 \n",
      " AUC-ROC для лучшей модели по F1: 0.7376268440156173 \n",
      "\n",
      "CPU times: user 788 ms, sys: 235 ms, total: 1.02 s\n",
      "Wall time: 289 ms\n"
     ]
    }
   ],
   "source": [
    "%%time\n",
    "model_tree = None\n",
    "best_score_tree = 0\n",
    "best_depth = 0\n",
    "for depth in range(1, 11):\n",
    "    model = DecisionTreeClassifier(max_depth=depth, random_state=42)\n",
    "    model.fit(features_upsampled, target_upsampled)\n",
    "    probabilities_valid = model.predict_proba(features_valid)\n",
    "    predictions = model.predict(features_valid)\n",
    "    probabilities_one_valid = probabilities_valid[:, 1]\n",
    "    score = f1_score(target_valid, predictions)\n",
    "    auc_roc_tree = roc_auc_score(target_valid, probabilities_one_valid)\n",
    "    if score > best_score_tree:\n",
    "        best_score_tree = score\n",
    "        best_depth = depth\n",
    "        model_tree = model\n",
    "print(\"F1 наилучшей модели на валидационной выборке:\", best_score_tree,'\\n', \n",
    "      \"Глубина дерева:\", best_depth,'\\n', \n",
    "      \"AUC-ROC для лучшей модели по F1:\", auc_roc_tree,'\\n')"
   ]
  },
  {
   "cell_type": "markdown",
   "metadata": {},
   "source": [
    "Обучим модель \"Случайный лес\", учитывая дисбаланс классов (upsampling)"
   ]
  },
  {
   "cell_type": "code",
   "execution_count": 28,
   "metadata": {},
   "outputs": [
    {
     "name": "stdout",
     "output_type": "stream",
     "text": [
      "F1 наилучшей модели на валидационной выборке: 0.6313193588162762 \n",
      " Количество деревьев: 50 \n",
      " Глубина дерева: 17 \n",
      " AUC-ROC для лучшей модели по F1: 0.8563868660469218 \n",
      "\n",
      "CPU times: user 15.9 s, sys: 125 ms, total: 16 s\n",
      "Wall time: 16 s\n"
     ]
    }
   ],
   "source": [
    "%%time\n",
    "model_forest = None\n",
    "best_score_forest = 0\n",
    "best_est = 0\n",
    "best_depth = 0\n",
    "for est in range(20, 60, 10):\n",
    "    for depth in range (5, 20):\n",
    "        model = RandomForestClassifier(random_state=42, n_estimators=est, max_depth=depth)\n",
    "        model.fit(features_upsampled, target_upsampled) \n",
    "        probabilities_valid = model.predict_proba(features_valid)\n",
    "        predictions = model.predict(features_valid)\n",
    "        probabilities_one_valid = probabilities_valid[:, 1]\n",
    "        score = f1_score(target_valid, predictions)\n",
    "        auc_roc_forest = roc_auc_score(target_valid, probabilities_one_valid)\n",
    "        if score > best_score_forest:\n",
    "            best_score_forest = score\n",
    "            best_est = est\n",
    "            best_depth = depth\n",
    "            model_forest = model\n",
    "print(\"F1 наилучшей модели на валидационной выборке:\", best_score_forest,'\\n',  \n",
    "      \"Количество деревьев:\", best_est,'\\n', \n",
    "      \"Глубина дерева:\", best_depth,'\\n', \n",
    "      \"AUC-ROC для лучшей модели по F1:\", auc_roc_forest,'\\n')"
   ]
  },
  {
   "cell_type": "markdown",
   "metadata": {},
   "source": [
    "Обучим модель \"Логистическая регрессия\", учитывая дисбаланс классов (upsampling)"
   ]
  },
  {
   "cell_type": "code",
   "execution_count": 29,
   "metadata": {},
   "outputs": [
    {
     "name": "stdout",
     "output_type": "stream",
     "text": [
      "F1 наилучшей модели на валидационной выборке: 0.5066889632107023 \n",
      " Число итераций: 100 \n",
      " AUC-ROC для лучшей модели по F1: 0.7823584786194123 \n",
      "\n",
      "CPU times: user 3.48 s, sys: 57.1 ms, total: 3.54 s\n",
      "Wall time: 515 ms\n"
     ]
    }
   ],
   "source": [
    "%%time\n",
    "model_logistic = None\n",
    "best_score_logistic = 0\n",
    "best_iter = 0\n",
    "for i in range(100, 500, 50):\n",
    "    model = LogisticRegression(random_state=42, max_iter=i) \n",
    "    model.fit(features_upsampled, target_upsampled) \n",
    "    probabilities_valid = model.predict_proba(features_valid)\n",
    "    predictions = model.predict(features_valid)\n",
    "    probabilities_one_valid = probabilities_valid[:, 1]\n",
    "    score = f1_score(target_valid, predictions)\n",
    "    auc_roc_logistic = roc_auc_score(target_valid, probabilities_one_valid)\n",
    "    if score > best_score_logistic:\n",
    "        best_score_logistic = score\n",
    "        best_iter = i\n",
    "        model_logistic = model\n",
    "print(\"F1 наилучшей модели на валидационной выборке:\", best_score_logistic,'\\n',   \n",
    "      \"Число итераций:\", best_iter,'\\n',\n",
    "      \"AUC-ROC для лучшей модели по F1:\", auc_roc_logistic,'\\n')"
   ]
  },
  {
   "cell_type": "code",
   "execution_count": 30,
   "metadata": {},
   "outputs": [
    {
     "data": {
      "text/html": [
       "<div>\n",
       "<style scoped>\n",
       "    .dataframe tbody tr th:only-of-type {\n",
       "        vertical-align: middle;\n",
       "    }\n",
       "\n",
       "    .dataframe tbody tr th {\n",
       "        vertical-align: top;\n",
       "    }\n",
       "\n",
       "    .dataframe thead th {\n",
       "        text-align: right;\n",
       "    }\n",
       "</style>\n",
       "<table border=\"1\" class=\"dataframe\">\n",
       "  <thead>\n",
       "    <tr style=\"text-align: right;\">\n",
       "      <th></th>\n",
       "      <th>test</th>\n",
       "      <th>f1_tree</th>\n",
       "      <th>f1_forest</th>\n",
       "      <th>f1_logistic</th>\n",
       "      <th>auc_tree</th>\n",
       "      <th>auc_forest</th>\n",
       "      <th>auc_logistic</th>\n",
       "    </tr>\n",
       "  </thead>\n",
       "  <tbody>\n",
       "    <tr>\n",
       "      <th>0</th>\n",
       "      <td>valid_unbalance</td>\n",
       "      <td>0.575668</td>\n",
       "      <td>0.594181</td>\n",
       "      <td>0.304659</td>\n",
       "      <td>0.763163</td>\n",
       "      <td>0.859622</td>\n",
       "      <td>0.780833</td>\n",
       "    </tr>\n",
       "    <tr>\n",
       "      <th>1</th>\n",
       "      <td>valid_upsampling</td>\n",
       "      <td>0.595506</td>\n",
       "      <td>0.631319</td>\n",
       "      <td>0.506689</td>\n",
       "      <td>0.737627</td>\n",
       "      <td>0.856387</td>\n",
       "      <td>0.782358</td>\n",
       "    </tr>\n",
       "  </tbody>\n",
       "</table>\n",
       "</div>"
      ],
      "text/plain": [
       "               test   f1_tree  f1_forest  f1_logistic  auc_tree  auc_forest  \\\n",
       "0   valid_unbalance  0.575668   0.594181     0.304659  0.763163    0.859622   \n",
       "1  valid_upsampling  0.595506   0.631319     0.506689  0.737627    0.856387   \n",
       "\n",
       "   auc_logistic  \n",
       "0      0.780833  \n",
       "1      0.782358  "
      ]
     },
     "execution_count": 30,
     "metadata": {},
     "output_type": "execute_result"
    }
   ],
   "source": [
    "#добавим результаты моделей в таблицу\n",
    "valid_upsampling = {'test':'valid_upsampling','f1_tree':best_score_tree,'f1_forest':best_score_forest,'f1_logistic':best_score_logistic, \n",
    "         'auc_tree':auc_roc_tree , 'auc_forest':auc_roc_forest , 'auc_logistic':auc_roc_logistic }\n",
    "result = result.append(valid_upsampling, ignore_index=True)\n",
    "result"
   ]
  },
  {
   "cell_type": "markdown",
   "metadata": {},
   "source": [
    "Обучим модель \"Дерево решений\", учитывая дисбаланс классов (downsampling)"
   ]
  },
  {
   "cell_type": "code",
   "execution_count": 31,
   "metadata": {},
   "outputs": [
    {
     "name": "stdout",
     "output_type": "stream",
     "text": [
      "F1 наилучшей модели на валидационной выборке: 0.5656565656565656 \n",
      " Глубина дерева: 7 \n",
      " AUC-ROC для лучшей модели по F1: 0.7683203876533151 \n",
      "\n",
      "CPU times: user 1.06 s, sys: 104 ms, total: 1.17 s\n",
      "Wall time: 171 ms\n"
     ]
    }
   ],
   "source": [
    "%%time\n",
    "best_score_tree = 0\n",
    "best_depth = 0\n",
    "for depth in range(1, 11):\n",
    "    model = DecisionTreeClassifier(max_depth=depth, random_state=42)\n",
    "    model.fit(features_downsampled, target_downsampled)\n",
    "    probabilities_valid = model.predict_proba(features_valid)\n",
    "    predictions = model.predict(features_valid)\n",
    "    probabilities_one_valid = probabilities_valid[:, 1]\n",
    "    score = f1_score(target_valid, predictions)\n",
    "    auc_roc_tree = roc_auc_score(target_valid, probabilities_one_valid)\n",
    "    if score > best_score_tree:\n",
    "        best_score_tree = score\n",
    "        best_depth = depth  \n",
    "print(\"F1 наилучшей модели на валидационной выборке:\", best_score_tree,'\\n', \n",
    "      \"Глубина дерева:\", best_depth,'\\n', \n",
    "      \"AUC-ROC для лучшей модели по F1:\", auc_roc_tree,'\\n')"
   ]
  },
  {
   "cell_type": "markdown",
   "metadata": {},
   "source": [
    "Обучим модель \"Случайный лес\", учитывая дисбаланс классов (downsampling)"
   ]
  },
  {
   "cell_type": "code",
   "execution_count": 32,
   "metadata": {},
   "outputs": [
    {
     "name": "stdout",
     "output_type": "stream",
     "text": [
      "F1 наилучшей модели на валидационной выборке: 0.6137667304015296 \n",
      " Количество деревьев: 40 \n",
      " Глубина дерева: 9 \n",
      " AUC-ROC для лучшей модели по F1: 0.8486911665758867 \n",
      "\n",
      "CPU times: user 6.12 s, sys: 54.8 ms, total: 6.17 s\n",
      "Wall time: 6.17 s\n"
     ]
    }
   ],
   "source": [
    "%%time\n",
    "best_score_forest = 0\n",
    "best_est = 0\n",
    "best_depth = 0\n",
    "for est in range(20, 60, 10):\n",
    "    for depth in range (5, 20):\n",
    "        model = RandomForestClassifier(random_state=42, n_estimators=est, max_depth=depth)\n",
    "        model.fit(features_downsampled, target_downsampled) \n",
    "        probabilities_valid = model.predict_proba(features_valid)\n",
    "        predictions = model.predict(features_valid)\n",
    "        probabilities_one_valid = probabilities_valid[:, 1]\n",
    "        score = f1_score(target_valid, predictions)\n",
    "        auc_roc_forest = roc_auc_score(target_valid, probabilities_one_valid)\n",
    "        if score > best_score_forest:\n",
    "            best_score_forest = score\n",
    "            best_est = est\n",
    "            best_depth = depth\n",
    "print(\"F1 наилучшей модели на валидационной выборке:\", best_score_forest,'\\n',  \n",
    "      \"Количество деревьев:\", best_est,'\\n', \n",
    "      \"Глубина дерева:\", best_depth,'\\n', \n",
    "      \"AUC-ROC для лучшей модели по F1:\", auc_roc_forest,'\\n')"
   ]
  },
  {
   "cell_type": "markdown",
   "metadata": {},
   "source": [
    "Обучим модель \"Логистическая регрессия\", учитывая дисбаланс классов (downsampling)"
   ]
  },
  {
   "cell_type": "code",
   "execution_count": 33,
   "metadata": {},
   "outputs": [
    {
     "name": "stdout",
     "output_type": "stream",
     "text": [
      "F1 наилучшей модели на валидационной выборке: 0.5038693035253654 \n",
      " Число итераций: 100 \n",
      " AUC-ROC для лучшей модели по F1: 0.7789515601184563 \n",
      "\n",
      "CPU times: user 3.31 s, sys: 44.8 ms, total: 3.35 s\n",
      "Wall time: 547 ms\n"
     ]
    }
   ],
   "source": [
    "%%time\n",
    "best_score_logistic = 0\n",
    "best_iter = 0\n",
    "for i in range(100, 500, 50):\n",
    "    model = LogisticRegression(random_state=42, max_iter=i) \n",
    "    model.fit(features_downsampled, target_downsampled) \n",
    "    probabilities_valid = model.predict_proba(features_valid)\n",
    "    predictions = model.predict(features_valid)\n",
    "    probabilities_one_valid = probabilities_valid[:, 1]\n",
    "    score = f1_score(target_valid, predictions)\n",
    "    auc_roc_logistic = roc_auc_score(target_valid, probabilities_one_valid)\n",
    "    if score > best_score_logistic:\n",
    "        best_score_logistic = score\n",
    "        best_iter = i\n",
    "print(\"F1 наилучшей модели на валидационной выборке:\", best_score_logistic,'\\n',   \n",
    "      \"Число итераций:\", best_iter,'\\n',\n",
    "      \"AUC-ROC для лучшей модели по F1:\", auc_roc_logistic,'\\n')"
   ]
  },
  {
   "cell_type": "code",
   "execution_count": 34,
   "metadata": {},
   "outputs": [
    {
     "data": {
      "text/html": [
       "<div>\n",
       "<style scoped>\n",
       "    .dataframe tbody tr th:only-of-type {\n",
       "        vertical-align: middle;\n",
       "    }\n",
       "\n",
       "    .dataframe tbody tr th {\n",
       "        vertical-align: top;\n",
       "    }\n",
       "\n",
       "    .dataframe thead th {\n",
       "        text-align: right;\n",
       "    }\n",
       "</style>\n",
       "<table border=\"1\" class=\"dataframe\">\n",
       "  <thead>\n",
       "    <tr style=\"text-align: right;\">\n",
       "      <th></th>\n",
       "      <th>test</th>\n",
       "      <th>f1_tree</th>\n",
       "      <th>f1_forest</th>\n",
       "      <th>f1_logistic</th>\n",
       "      <th>auc_tree</th>\n",
       "      <th>auc_forest</th>\n",
       "      <th>auc_logistic</th>\n",
       "    </tr>\n",
       "  </thead>\n",
       "  <tbody>\n",
       "    <tr>\n",
       "      <th>0</th>\n",
       "      <td>valid_unbalance</td>\n",
       "      <td>0.575668</td>\n",
       "      <td>0.594181</td>\n",
       "      <td>0.304659</td>\n",
       "      <td>0.763163</td>\n",
       "      <td>0.859622</td>\n",
       "      <td>0.780833</td>\n",
       "    </tr>\n",
       "    <tr>\n",
       "      <th>1</th>\n",
       "      <td>valid_upsampling</td>\n",
       "      <td>0.595506</td>\n",
       "      <td>0.631319</td>\n",
       "      <td>0.506689</td>\n",
       "      <td>0.737627</td>\n",
       "      <td>0.856387</td>\n",
       "      <td>0.782358</td>\n",
       "    </tr>\n",
       "    <tr>\n",
       "      <th>2</th>\n",
       "      <td>valid_downsampling</td>\n",
       "      <td>0.565657</td>\n",
       "      <td>0.613767</td>\n",
       "      <td>0.503869</td>\n",
       "      <td>0.768320</td>\n",
       "      <td>0.848691</td>\n",
       "      <td>0.778952</td>\n",
       "    </tr>\n",
       "  </tbody>\n",
       "</table>\n",
       "</div>"
      ],
      "text/plain": [
       "                 test   f1_tree  f1_forest  f1_logistic  auc_tree  auc_forest  \\\n",
       "0     valid_unbalance  0.575668   0.594181     0.304659  0.763163    0.859622   \n",
       "1    valid_upsampling  0.595506   0.631319     0.506689  0.737627    0.856387   \n",
       "2  valid_downsampling  0.565657   0.613767     0.503869  0.768320    0.848691   \n",
       "\n",
       "   auc_logistic  \n",
       "0      0.780833  \n",
       "1      0.782358  \n",
       "2      0.778952  "
      ]
     },
     "execution_count": 34,
     "metadata": {},
     "output_type": "execute_result"
    }
   ],
   "source": [
    "#добавим результаты моделей в таблицу\n",
    "valid_downsampling = {'test':'valid_downsampling','f1_tree':best_score_tree,'f1_forest':best_score_forest,'f1_logistic':best_score_logistic, \n",
    "         'auc_tree':auc_roc_tree , 'auc_forest':auc_roc_forest , 'auc_logistic':auc_roc_logistic }\n",
    "result = result.append(valid_downsampling, ignore_index=True)\n",
    "result"
   ]
  },
  {
   "cell_type": "markdown",
   "metadata": {},
   "source": [
    "### Вывод\n",
    "\n",
    "Были написаны две функции для балансировки классов upsampling и downsampling\n",
    "\n",
    "По результатам сравнения по метрике F1 метод балансировки upsampling выглядит лучше\n",
    "\n",
    "После перебалансировки классов были обучены модели:\n",
    "\"Дерево решений\", \"Случайный лес\" и \"Логистическая регрессия\".\n",
    "\n",
    "По результатам обучения моделей заметно, что:\n",
    "\n",
    "1) Лучшей моделью по метрике F1 по прежнему остается \"Случайный лес\";\n",
    "\n",
    "2) Наибольший рост по метрике F1, после перебалансировки, получила модель \"Логистическая регрессия\";\n",
    "\n",
    "3) Значения метрики ROC-AUC во всех трех моделях практически не изменилось после перебалансировки.\n",
    "\n",
    "Это может говорить о том, что модель \"Логистическая регрессия\" чувствительна к балансу классов.\n",
    "\n",
    "Метрика ROC-AUC не очень чувствительна к балансу классов."
   ]
  },
  {
   "cell_type": "markdown",
   "metadata": {},
   "source": [
    "## Тестирование модели"
   ]
  },
  {
   "cell_type": "markdown",
   "metadata": {},
   "source": [
    "Проверим модель \"Дерево решений\" на тестовой выборке"
   ]
  },
  {
   "cell_type": "code",
   "execution_count": 35,
   "metadata": {
    "scrolled": true
   },
   "outputs": [
    {
     "name": "stdout",
     "output_type": "stream",
     "text": [
      "F1 наилучшей модели на валидационной выборке: 0.6006904487917146 \n",
      " AUC-ROC для лучшей модели по F1: 0.8324521693418268 \n",
      "\n",
      "CPU times: user 44.5 ms, sys: 3.44 ms, total: 47.9 ms\n",
      "Wall time: 8.31 ms\n"
     ]
    }
   ],
   "source": [
    "%%time\n",
    "probabilities_test = model_tree.predict_proba(features_test)\n",
    "probabilities_one_test = probabilities_test[:, 1]\n",
    "predictions = model_tree.predict(features_test)\n",
    "score_tree = f1_score(target_test, predictions)\n",
    "auc_roc_tree = roc_auc_score(target_test, probabilities_one_test)\n",
    "print(\"F1 наилучшей модели на валидационной выборке:\", score_tree,'\\n', \n",
    "      \"AUC-ROC для лучшей модели по F1:\", auc_roc_tree,'\\n')"
   ]
  },
  {
   "cell_type": "markdown",
   "metadata": {},
   "source": [
    "Проверим модель \"Случайный лес\" на тестовой выборке"
   ]
  },
  {
   "cell_type": "code",
   "execution_count": 36,
   "metadata": {
    "scrolled": true
   },
   "outputs": [
    {
     "name": "stdout",
     "output_type": "stream",
     "text": [
      "F1 наилучшей модели на валидационной выборке: 0.6092544987146529 \n",
      " AUC-ROC для лучшей модели по F1: 0.8527252747600748 \n",
      "\n",
      "CPU times: user 705 ms, sys: 45.8 ms, total: 750 ms\n",
      "Wall time: 127 ms\n"
     ]
    }
   ],
   "source": [
    "%%time\n",
    "probabilities_test = model_forest.predict_proba(features_test)\n",
    "probabilities_one_test = probabilities_test[:, 1]\n",
    "predictions = model_forest.predict(features_test)\n",
    "score_forest = f1_score(target_test, predictions)\n",
    "auc_roc_forest = roc_auc_score(target_test, probabilities_one_test)\n",
    "print(\"F1 наилучшей модели на валидационной выборке:\", score_forest,'\\n', \n",
    "      \"AUC-ROC для лучшей модели по F1:\", auc_roc_forest,'\\n')"
   ]
  },
  {
   "cell_type": "markdown",
   "metadata": {},
   "source": [
    "Проверим модель \"Логистическая регрессия\" на тестовой выборке"
   ]
  },
  {
   "cell_type": "code",
   "execution_count": 37,
   "metadata": {},
   "outputs": [
    {
     "name": "stdout",
     "output_type": "stream",
     "text": [
      "F1 наилучшей модели на валидационной выборке: 0.49217391304347824 \n",
      " AUC-ROC для лучшей модели по F1: 0.7772721442923849 \n",
      "\n",
      "CPU times: user 71.2 ms, sys: 8.16 ms, total: 79.3 ms\n",
      "Wall time: 13.7 ms\n"
     ]
    }
   ],
   "source": [
    "%%time\n",
    "probabilities_test = model_logistic.predict_proba(features_test)\n",
    "probabilities_one_test = probabilities_test[:, 1]\n",
    "predictions = model_logistic.predict(features_test)\n",
    "score_logistic = f1_score(target_test, predictions)\n",
    "auc_roc_logistic = roc_auc_score(target_test, probabilities_one_test)\n",
    "print(\"F1 наилучшей модели на валидационной выборке:\", score_logistic,'\\n', \n",
    "      \"AUC-ROC для лучшей модели по F1:\", auc_roc_logistic,'\\n')"
   ]
  },
  {
   "cell_type": "code",
   "execution_count": 38,
   "metadata": {
    "scrolled": true
   },
   "outputs": [
    {
     "data": {
      "text/html": [
       "<div>\n",
       "<style scoped>\n",
       "    .dataframe tbody tr th:only-of-type {\n",
       "        vertical-align: middle;\n",
       "    }\n",
       "\n",
       "    .dataframe tbody tr th {\n",
       "        vertical-align: top;\n",
       "    }\n",
       "\n",
       "    .dataframe thead th {\n",
       "        text-align: right;\n",
       "    }\n",
       "</style>\n",
       "<table border=\"1\" class=\"dataframe\">\n",
       "  <thead>\n",
       "    <tr style=\"text-align: right;\">\n",
       "      <th></th>\n",
       "      <th>test</th>\n",
       "      <th>f1_tree</th>\n",
       "      <th>f1_forest</th>\n",
       "      <th>f1_logistic</th>\n",
       "      <th>auc_tree</th>\n",
       "      <th>auc_forest</th>\n",
       "      <th>auc_logistic</th>\n",
       "    </tr>\n",
       "  </thead>\n",
       "  <tbody>\n",
       "    <tr>\n",
       "      <th>0</th>\n",
       "      <td>valid_unbalance</td>\n",
       "      <td>0.575668</td>\n",
       "      <td>0.594181</td>\n",
       "      <td>0.304659</td>\n",
       "      <td>0.763163</td>\n",
       "      <td>0.859622</td>\n",
       "      <td>0.780833</td>\n",
       "    </tr>\n",
       "    <tr>\n",
       "      <th>1</th>\n",
       "      <td>valid_upsampling</td>\n",
       "      <td>0.595506</td>\n",
       "      <td>0.631319</td>\n",
       "      <td>0.506689</td>\n",
       "      <td>0.737627</td>\n",
       "      <td>0.856387</td>\n",
       "      <td>0.782358</td>\n",
       "    </tr>\n",
       "    <tr>\n",
       "      <th>2</th>\n",
       "      <td>valid_downsampling</td>\n",
       "      <td>0.565657</td>\n",
       "      <td>0.613767</td>\n",
       "      <td>0.503869</td>\n",
       "      <td>0.768320</td>\n",
       "      <td>0.848691</td>\n",
       "      <td>0.778952</td>\n",
       "    </tr>\n",
       "    <tr>\n",
       "      <th>3</th>\n",
       "      <td>test</td>\n",
       "      <td>0.600690</td>\n",
       "      <td>0.609254</td>\n",
       "      <td>0.492174</td>\n",
       "      <td>0.832452</td>\n",
       "      <td>0.852725</td>\n",
       "      <td>0.777272</td>\n",
       "    </tr>\n",
       "  </tbody>\n",
       "</table>\n",
       "</div>"
      ],
      "text/plain": [
       "                 test   f1_tree  f1_forest  f1_logistic  auc_tree  auc_forest  \\\n",
       "0     valid_unbalance  0.575668   0.594181     0.304659  0.763163    0.859622   \n",
       "1    valid_upsampling  0.595506   0.631319     0.506689  0.737627    0.856387   \n",
       "2  valid_downsampling  0.565657   0.613767     0.503869  0.768320    0.848691   \n",
       "3                test  0.600690   0.609254     0.492174  0.832452    0.852725   \n",
       "\n",
       "   auc_logistic  \n",
       "0      0.780833  \n",
       "1      0.782358  \n",
       "2      0.778952  \n",
       "3      0.777272  "
      ]
     },
     "execution_count": 38,
     "metadata": {},
     "output_type": "execute_result"
    }
   ],
   "source": [
    "#добавим результаты моделей в таблицу\n",
    "test = {'test':'test','f1_tree':score_tree,'f1_forest':score_forest,'f1_logistic':score_logistic, \n",
    "         'auc_tree':auc_roc_tree , 'auc_forest':auc_roc_forest , 'auc_logistic':auc_roc_logistic }\n",
    "result = result.append(test, ignore_index=True)\n",
    "result"
   ]
  },
  {
   "cell_type": "markdown",
   "metadata": {},
   "source": [
    "### Вывод\n",
    "\n",
    "По результатам проверки моделей на тестовой выборке:\n",
    "\n",
    "1) Лучшей моделью по метрикам F1 и ROC-AUC оказалась модель \"Случайный лес\";\n",
    "\n",
    "2) Модель \"Дерево решений\" практически сравнялась с моделью \"Случайный лес\" по метрикам F1 и ROC-AUC;\n"
   ]
  },
  {
   "cell_type": "markdown",
   "metadata": {},
   "source": [
    "## Общий вывод\n",
    "\n",
    "Исследовался файл данных содержащий исторические данные о поведении клиентов и расторжении договоров с банком:\n",
    "1) В столбце tenure имелись пропуски, порядка 9 %, которые были заполнены медианными значениями.\n",
    "\n",
    "2) В данных не обнаружено дубликатов.\n",
    "\n",
    "3) В столбцах geography и gender находились категориальные данные, для которых было проведено прямое кодирование (OHE).\n",
    "\n",
    "4) Был выявлен дисбаланс классов, положительных значений в 3.9 раза меньше, чем отрицательных.\n",
    "\n",
    "5) Провели разделение выборки на 3 части train, valid и test в пропорции 60/20/20.\n",
    "\n",
    "6) Были обучены три модели \"Дерево решений\", \"Случайный лес\" и \"Логистическая регрессия\".\n",
    "\n",
    "На не сбалансированных данных лучший результат метрики F1 - 0.61 показала модель \"Случайный лес\"\n",
    "\n",
    "Модель \"Дерево решений\" показала результат 0.58 F1.\n",
    "\n",
    "При это метрика ROC-AUC у этих моделей отличается гораздо сильнее 0.86 и 0.75 для \"Случайного леса\" и \"Дерева решений\", соответственно.\n",
    "\n",
    "Были написаны две функции для балансировки классов upsampling и downsampling\n",
    "\n",
    "По результатам сравнения по метрике F1 метод балансировки upsampling выглядит лучше\n",
    "\n",
    "После перебалансировки классов были заново обучены модели: \"Дерево решений\", \"Случайный лес\" и \"Логистическая регрессия\".\n",
    "\n",
    "По результатам обучения моделей заметно, что:\n",
    "\n",
    "1) Лучшей моделью по метрике F1 по прежнему остался \"Случайный лес\";\n",
    "\n",
    "2) Наибольший рост по метрике F1, после перебалансировки, получила модель \"Логистическая регрессия\";\n",
    "\n",
    "3) Значения метрики ROC-AUC во всех трех моделях практически не изменилось после перебалансировки.\n",
    "\n",
    "Это может говорить о том, что модель \"Логистическая регрессия\" чувствительна к балансу классов.\n",
    "\n",
    "Метрика ROC-AUC не очень чувствительна к балансу классов.\n",
    "\n",
    "По результатам проверки моделей на тестовой выборке:\n",
    "\n",
    "1) Лучшей моделью по метрикам F1 и ROC-AUC оказалась модель \"Случайный лес\";\n",
    "\n",
    "2) Модель \"Дерево решений\" практически сравнялась с моделью \"Случайный лес\" по метрикам F1 и ROC-AUC."
   ]
  },
  {
   "cell_type": "code",
   "execution_count": null,
   "metadata": {},
   "outputs": [],
   "source": []
  }
 ],
 "metadata": {
  "ExecuteTimeLog": [
   {
    "duration": 495,
    "start_time": "2022-04-15T11:19:55.889Z"
   },
   {
    "duration": 69,
    "start_time": "2022-04-15T11:19:57.751Z"
   },
   {
    "duration": 18,
    "start_time": "2022-04-15T11:20:02.478Z"
   },
   {
    "duration": 58,
    "start_time": "2022-04-15T11:20:04.470Z"
   },
   {
    "duration": 51,
    "start_time": "2022-04-15T11:24:34.729Z"
   },
   {
    "duration": 52,
    "start_time": "2022-04-15T11:26:24.214Z"
   },
   {
    "duration": 17,
    "start_time": "2022-04-15T11:28:06.813Z"
   },
   {
    "duration": 52,
    "start_time": "2022-04-15T11:28:11.454Z"
   },
   {
    "duration": 96,
    "start_time": "2022-04-15T11:28:38.965Z"
   },
   {
    "duration": 53,
    "start_time": "2022-04-15T11:28:44.253Z"
   },
   {
    "duration": 9,
    "start_time": "2022-04-15T11:36:36.550Z"
   },
   {
    "duration": 20,
    "start_time": "2022-04-15T11:36:45.940Z"
   },
   {
    "duration": 16,
    "start_time": "2022-04-15T11:47:10.653Z"
   },
   {
    "duration": 14,
    "start_time": "2022-04-15T11:47:34.523Z"
   },
   {
    "duration": 6,
    "start_time": "2022-04-15T11:47:49.708Z"
   },
   {
    "duration": 7,
    "start_time": "2022-04-15T11:50:05.613Z"
   },
   {
    "duration": 17,
    "start_time": "2022-04-15T11:50:06.877Z"
   },
   {
    "duration": 56,
    "start_time": "2022-04-15T11:50:36.866Z"
   },
   {
    "duration": 35,
    "start_time": "2022-04-15T11:50:53.349Z"
   },
   {
    "duration": 50,
    "start_time": "2022-04-15T11:51:09.116Z"
   },
   {
    "duration": 7,
    "start_time": "2022-04-15T11:51:11.444Z"
   },
   {
    "duration": 17,
    "start_time": "2022-04-15T11:51:12.509Z"
   },
   {
    "duration": 52,
    "start_time": "2022-04-15T11:51:13.892Z"
   },
   {
    "duration": 16,
    "start_time": "2022-04-15T11:51:15.420Z"
   },
   {
    "duration": 6,
    "start_time": "2022-04-15T11:52:04.437Z"
   },
   {
    "duration": 19,
    "start_time": "2022-04-15T11:52:06.156Z"
   },
   {
    "duration": 507,
    "start_time": "2022-04-15T11:52:13.989Z"
   },
   {
    "duration": 78,
    "start_time": "2022-04-15T11:52:14.499Z"
   },
   {
    "duration": 14,
    "start_time": "2022-04-15T11:52:14.579Z"
   },
   {
    "duration": 23,
    "start_time": "2022-04-15T11:52:14.597Z"
   },
   {
    "duration": 79,
    "start_time": "2022-04-15T11:52:14.622Z"
   },
   {
    "duration": 18,
    "start_time": "2022-04-15T11:52:14.703Z"
   },
   {
    "duration": 69,
    "start_time": "2022-04-16T18:12:48.992Z"
   },
   {
    "duration": 487,
    "start_time": "2022-04-16T18:12:52.949Z"
   },
   {
    "duration": 37,
    "start_time": "2022-04-16T18:12:54.872Z"
   },
   {
    "duration": 6,
    "start_time": "2022-04-16T18:12:57.537Z"
   },
   {
    "duration": 19,
    "start_time": "2022-04-16T18:12:59.569Z"
   },
   {
    "duration": 62,
    "start_time": "2022-04-16T18:13:05.937Z"
   },
   {
    "duration": 41,
    "start_time": "2022-04-16T18:13:14.217Z"
   },
   {
    "duration": 7,
    "start_time": "2022-04-16T18:13:52.472Z"
   },
   {
    "duration": 31,
    "start_time": "2022-04-16T18:13:56.880Z"
   },
   {
    "duration": 551,
    "start_time": "2022-04-16T18:14:02.683Z"
   },
   {
    "duration": 33,
    "start_time": "2022-04-16T18:14:03.237Z"
   },
   {
    "duration": 7,
    "start_time": "2022-04-16T18:14:03.272Z"
   },
   {
    "duration": 62,
    "start_time": "2022-04-16T18:14:03.282Z"
   },
   {
    "duration": 21,
    "start_time": "2022-04-16T18:14:03.346Z"
   },
   {
    "duration": 83,
    "start_time": "2022-04-16T18:14:03.369Z"
   },
   {
    "duration": 19,
    "start_time": "2022-04-16T18:14:03.454Z"
   },
   {
    "duration": 30,
    "start_time": "2022-04-16T18:14:41.290Z"
   },
   {
    "duration": 7,
    "start_time": "2022-04-16T18:14:43.771Z"
   },
   {
    "duration": 32,
    "start_time": "2022-04-16T18:14:45.443Z"
   },
   {
    "duration": 94,
    "start_time": "2022-04-16T18:15:09.851Z"
   },
   {
    "duration": 30,
    "start_time": "2022-04-16T18:15:36.953Z"
   },
   {
    "duration": 6,
    "start_time": "2022-04-16T18:15:38.113Z"
   },
   {
    "duration": 33,
    "start_time": "2022-04-16T18:15:43.442Z"
   },
   {
    "duration": 6,
    "start_time": "2022-04-16T18:16:41.954Z"
   },
   {
    "duration": 33,
    "start_time": "2022-04-16T18:16:44.210Z"
   },
   {
    "duration": 18,
    "start_time": "2022-04-16T18:17:16.457Z"
   },
   {
    "duration": 56,
    "start_time": "2022-04-16T18:17:19.210Z"
   },
   {
    "duration": 16,
    "start_time": "2022-04-16T18:17:21.993Z"
   },
   {
    "duration": 9,
    "start_time": "2022-04-16T18:20:21.801Z"
   },
   {
    "duration": 30,
    "start_time": "2022-04-16T18:20:25.753Z"
   },
   {
    "duration": 12,
    "start_time": "2022-04-16T18:20:43.482Z"
   },
   {
    "duration": 11,
    "start_time": "2022-04-16T18:21:41.178Z"
   },
   {
    "duration": 12,
    "start_time": "2022-04-16T18:21:59.400Z"
   },
   {
    "duration": 11,
    "start_time": "2022-04-16T18:22:06.863Z"
   },
   {
    "duration": 11,
    "start_time": "2022-04-16T18:23:00.037Z"
   },
   {
    "duration": 31,
    "start_time": "2022-04-16T18:23:02.967Z"
   },
   {
    "duration": 7,
    "start_time": "2022-04-16T18:23:05.174Z"
   },
   {
    "duration": 30,
    "start_time": "2022-04-16T18:23:11.333Z"
   },
   {
    "duration": 409,
    "start_time": "2022-04-16T18:23:17.879Z"
   },
   {
    "duration": 7,
    "start_time": "2022-04-16T18:23:30.584Z"
   },
   {
    "duration": 31,
    "start_time": "2022-04-16T18:23:32.368Z"
   },
   {
    "duration": 358,
    "start_time": "2022-04-16T18:34:18.960Z"
   },
   {
    "duration": 7,
    "start_time": "2022-04-16T18:34:43.650Z"
   },
   {
    "duration": 37,
    "start_time": "2022-04-16T18:35:00.339Z"
   },
   {
    "duration": 305,
    "start_time": "2022-04-16T18:36:49.991Z"
   },
   {
    "duration": 596,
    "start_time": "2022-04-16T18:37:09.374Z"
   },
   {
    "duration": 33,
    "start_time": "2022-04-16T18:37:09.973Z"
   },
   {
    "duration": 13,
    "start_time": "2022-04-16T18:37:10.011Z"
   },
   {
    "duration": 42,
    "start_time": "2022-04-16T18:37:10.028Z"
   },
   {
    "duration": 18,
    "start_time": "2022-04-16T18:37:10.073Z"
   },
   {
    "duration": 54,
    "start_time": "2022-04-16T18:37:10.125Z"
   },
   {
    "duration": 16,
    "start_time": "2022-04-16T18:37:10.182Z"
   },
   {
    "duration": 411,
    "start_time": "2022-04-16T18:37:10.200Z"
   },
   {
    "duration": 0,
    "start_time": "2022-04-16T18:37:10.613Z"
   },
   {
    "duration": 491,
    "start_time": "2022-04-16T18:37:53.069Z"
   },
   {
    "duration": 34,
    "start_time": "2022-04-16T18:37:54.669Z"
   },
   {
    "duration": 7,
    "start_time": "2022-04-16T18:37:55.724Z"
   },
   {
    "duration": 42,
    "start_time": "2022-04-16T18:37:56.821Z"
   },
   {
    "duration": 17,
    "start_time": "2022-04-16T18:38:06.092Z"
   },
   {
    "duration": 58,
    "start_time": "2022-04-16T18:38:07.701Z"
   },
   {
    "duration": 17,
    "start_time": "2022-04-16T18:38:09.620Z"
   },
   {
    "duration": 379,
    "start_time": "2022-04-16T18:38:12.205Z"
   },
   {
    "duration": 338,
    "start_time": "2022-04-16T18:38:18.125Z"
   },
   {
    "duration": 39,
    "start_time": "2022-04-16T18:38:44.468Z"
   },
   {
    "duration": 18,
    "start_time": "2022-04-16T18:41:20.472Z"
   },
   {
    "duration": 546,
    "start_time": "2022-04-16T18:41:27.378Z"
   },
   {
    "duration": 38,
    "start_time": "2022-04-16T18:41:27.927Z"
   },
   {
    "duration": 7,
    "start_time": "2022-04-16T18:41:27.967Z"
   },
   {
    "duration": 55,
    "start_time": "2022-04-16T18:41:27.977Z"
   },
   {
    "duration": 18,
    "start_time": "2022-04-16T18:41:28.034Z"
   },
   {
    "duration": 76,
    "start_time": "2022-04-16T18:41:28.054Z"
   },
   {
    "duration": 15,
    "start_time": "2022-04-16T18:41:28.132Z"
   },
   {
    "duration": 129,
    "start_time": "2022-04-16T18:41:28.149Z"
   },
   {
    "duration": 0,
    "start_time": "2022-04-16T18:41:28.280Z"
   },
   {
    "duration": 0,
    "start_time": "2022-04-16T18:41:28.282Z"
   },
   {
    "duration": 21,
    "start_time": "2022-04-16T18:41:41.087Z"
   },
   {
    "duration": 25,
    "start_time": "2022-04-16T18:41:45.854Z"
   },
   {
    "duration": 20,
    "start_time": "2022-04-16T18:42:45.310Z"
   },
   {
    "duration": 27,
    "start_time": "2022-04-16T18:42:48.748Z"
   },
   {
    "duration": 34,
    "start_time": "2022-04-16T18:57:17.606Z"
   },
   {
    "duration": 20,
    "start_time": "2022-04-16T18:57:50.511Z"
   },
   {
    "duration": 26,
    "start_time": "2022-04-16T18:58:04.145Z"
   },
   {
    "duration": 8,
    "start_time": "2022-04-16T18:58:07.177Z"
   },
   {
    "duration": 11,
    "start_time": "2022-04-16T20:18:42.448Z"
   },
   {
    "duration": 983,
    "start_time": "2022-04-16T20:19:00.440Z"
   },
   {
    "duration": 15,
    "start_time": "2022-04-16T20:19:05.808Z"
   },
   {
    "duration": 1225,
    "start_time": "2022-04-17T18:11:22.667Z"
   },
   {
    "duration": 39,
    "start_time": "2022-04-17T18:11:23.894Z"
   },
   {
    "duration": 5,
    "start_time": "2022-04-17T18:11:23.934Z"
   },
   {
    "duration": 28,
    "start_time": "2022-04-17T18:11:23.940Z"
   },
   {
    "duration": 12,
    "start_time": "2022-04-17T18:11:23.970Z"
   },
   {
    "duration": 42,
    "start_time": "2022-04-17T18:11:23.983Z"
   },
   {
    "duration": 10,
    "start_time": "2022-04-17T18:11:24.027Z"
   },
   {
    "duration": 17,
    "start_time": "2022-04-17T18:11:24.038Z"
   },
   {
    "duration": 15,
    "start_time": "2022-04-17T18:11:24.056Z"
   },
   {
    "duration": 4,
    "start_time": "2022-04-17T18:11:24.072Z"
   },
   {
    "duration": 3,
    "start_time": "2022-04-17T18:11:24.099Z"
   },
   {
    "duration": 16,
    "start_time": "2022-04-17T18:11:24.104Z"
   },
   {
    "duration": 121,
    "start_time": "2022-04-17T18:11:24.122Z"
   },
   {
    "duration": 30,
    "start_time": "2022-04-17T18:17:52.761Z"
   },
   {
    "duration": 30,
    "start_time": "2022-04-17T18:17:59.132Z"
   },
   {
    "duration": 2,
    "start_time": "2022-04-17T18:18:17.691Z"
   },
   {
    "duration": 26,
    "start_time": "2022-04-17T18:18:21.654Z"
   },
   {
    "duration": 3,
    "start_time": "2022-04-17T18:18:32.347Z"
   },
   {
    "duration": 33,
    "start_time": "2022-04-17T18:18:45.118Z"
   },
   {
    "duration": 9,
    "start_time": "2022-04-17T18:19:59.886Z"
   },
   {
    "duration": 25,
    "start_time": "2022-04-17T18:20:46.625Z"
   },
   {
    "duration": 32,
    "start_time": "2022-04-17T18:21:41.429Z"
   },
   {
    "duration": 28,
    "start_time": "2022-04-17T18:21:53.948Z"
   },
   {
    "duration": 3,
    "start_time": "2022-04-17T18:22:00.841Z"
   },
   {
    "duration": 30,
    "start_time": "2022-04-17T18:22:03.225Z"
   },
   {
    "duration": 6,
    "start_time": "2022-04-17T18:22:06.257Z"
   },
   {
    "duration": 18,
    "start_time": "2022-04-17T18:22:08.530Z"
   },
   {
    "duration": 54,
    "start_time": "2022-04-17T18:22:12.275Z"
   },
   {
    "duration": 30,
    "start_time": "2022-04-17T18:24:43.516Z"
   },
   {
    "duration": 27,
    "start_time": "2022-04-17T18:24:48.425Z"
   },
   {
    "duration": 26,
    "start_time": "2022-04-17T18:24:57.992Z"
   },
   {
    "duration": 23,
    "start_time": "2022-04-17T18:26:13.857Z"
   },
   {
    "duration": 1382,
    "start_time": "2022-04-17T18:26:21.678Z"
   },
   {
    "duration": 29,
    "start_time": "2022-04-17T18:26:23.062Z"
   },
   {
    "duration": 5,
    "start_time": "2022-04-17T18:26:23.092Z"
   },
   {
    "duration": 51,
    "start_time": "2022-04-17T18:26:23.100Z"
   },
   {
    "duration": 12,
    "start_time": "2022-04-17T18:26:23.153Z"
   },
   {
    "duration": 22,
    "start_time": "2022-04-17T18:26:23.167Z"
   },
   {
    "duration": 56,
    "start_time": "2022-04-17T18:26:23.190Z"
   },
   {
    "duration": 11,
    "start_time": "2022-04-17T18:26:23.247Z"
   },
   {
    "duration": 12,
    "start_time": "2022-04-17T18:26:23.260Z"
   },
   {
    "duration": 15,
    "start_time": "2022-04-17T18:26:23.274Z"
   },
   {
    "duration": 15,
    "start_time": "2022-04-17T18:26:23.291Z"
   },
   {
    "duration": 24,
    "start_time": "2022-04-17T18:26:23.308Z"
   },
   {
    "duration": 13,
    "start_time": "2022-04-17T18:26:23.333Z"
   },
   {
    "duration": 118,
    "start_time": "2022-04-17T18:26:23.348Z"
   },
   {
    "duration": 16,
    "start_time": "2022-04-17T18:26:41.122Z"
   },
   {
    "duration": 180,
    "start_time": "2022-04-17T18:27:05.974Z"
   },
   {
    "duration": 10,
    "start_time": "2022-04-17T18:30:12.468Z"
   },
   {
    "duration": 14,
    "start_time": "2022-04-17T18:30:29.100Z"
   },
   {
    "duration": 107356,
    "start_time": "2022-04-17T18:30:33.423Z"
   },
   {
    "duration": 1511,
    "start_time": "2022-04-17T18:34:01.391Z"
   },
   {
    "duration": 38,
    "start_time": "2022-04-17T18:34:02.905Z"
   },
   {
    "duration": 7,
    "start_time": "2022-04-17T18:34:02.945Z"
   },
   {
    "duration": 25,
    "start_time": "2022-04-17T18:34:02.955Z"
   },
   {
    "duration": 21,
    "start_time": "2022-04-17T18:34:02.981Z"
   },
   {
    "duration": 24,
    "start_time": "2022-04-17T18:34:03.003Z"
   },
   {
    "duration": 37,
    "start_time": "2022-04-17T18:34:03.028Z"
   },
   {
    "duration": 35,
    "start_time": "2022-04-17T18:34:03.066Z"
   },
   {
    "duration": 14,
    "start_time": "2022-04-17T18:34:03.103Z"
   },
   {
    "duration": 15,
    "start_time": "2022-04-17T18:34:03.119Z"
   },
   {
    "duration": 6,
    "start_time": "2022-04-17T18:34:03.136Z"
   },
   {
    "duration": 9,
    "start_time": "2022-04-17T18:34:03.144Z"
   },
   {
    "duration": 14,
    "start_time": "2022-04-17T18:34:03.155Z"
   },
   {
    "duration": 4,
    "start_time": "2022-04-17T18:34:03.171Z"
   },
   {
    "duration": 0,
    "start_time": "2022-04-17T18:34:03.202Z"
   },
   {
    "duration": 174,
    "start_time": "2022-04-17T18:34:51.423Z"
   },
   {
    "duration": 50206,
    "start_time": "2022-04-17T18:35:02.743Z"
   },
   {
    "duration": 53055,
    "start_time": "2022-04-17T18:37:59.152Z"
   },
   {
    "duration": 26315,
    "start_time": "2022-04-17T18:39:22.190Z"
   },
   {
    "duration": 1688,
    "start_time": "2022-04-17T18:40:22.933Z"
   },
   {
    "duration": 37,
    "start_time": "2022-04-17T18:40:24.624Z"
   },
   {
    "duration": 6,
    "start_time": "2022-04-17T18:40:24.662Z"
   },
   {
    "duration": 41,
    "start_time": "2022-04-17T18:40:24.670Z"
   },
   {
    "duration": 13,
    "start_time": "2022-04-17T18:40:24.713Z"
   },
   {
    "duration": 20,
    "start_time": "2022-04-17T18:40:24.727Z"
   },
   {
    "duration": 53,
    "start_time": "2022-04-17T18:40:24.749Z"
   },
   {
    "duration": 12,
    "start_time": "2022-04-17T18:40:24.804Z"
   },
   {
    "duration": 17,
    "start_time": "2022-04-17T18:40:24.818Z"
   },
   {
    "duration": 20,
    "start_time": "2022-04-17T18:40:24.838Z"
   },
   {
    "duration": 9,
    "start_time": "2022-04-17T18:40:24.860Z"
   },
   {
    "duration": 31,
    "start_time": "2022-04-17T18:40:24.870Z"
   },
   {
    "duration": 13,
    "start_time": "2022-04-17T18:40:24.903Z"
   },
   {
    "duration": 232,
    "start_time": "2022-04-17T18:40:24.918Z"
   },
   {
    "duration": 23570,
    "start_time": "2022-04-17T18:40:25.152Z"
   },
   {
    "duration": 1413,
    "start_time": "2022-04-17T18:41:20.542Z"
   },
   {
    "duration": 40,
    "start_time": "2022-04-17T18:41:21.957Z"
   },
   {
    "duration": 5,
    "start_time": "2022-04-17T18:41:22.000Z"
   },
   {
    "duration": 60,
    "start_time": "2022-04-17T18:41:22.008Z"
   },
   {
    "duration": 17,
    "start_time": "2022-04-17T18:41:22.070Z"
   },
   {
    "duration": 34,
    "start_time": "2022-04-17T18:41:22.088Z"
   },
   {
    "duration": 51,
    "start_time": "2022-04-17T18:41:22.124Z"
   },
   {
    "duration": 28,
    "start_time": "2022-04-17T18:41:22.177Z"
   },
   {
    "duration": 18,
    "start_time": "2022-04-17T18:41:22.206Z"
   },
   {
    "duration": 21,
    "start_time": "2022-04-17T18:41:22.228Z"
   },
   {
    "duration": 7,
    "start_time": "2022-04-17T18:41:22.251Z"
   },
   {
    "duration": 6,
    "start_time": "2022-04-17T18:41:22.260Z"
   },
   {
    "duration": 32,
    "start_time": "2022-04-17T18:41:22.268Z"
   },
   {
    "duration": 229,
    "start_time": "2022-04-17T18:41:22.302Z"
   },
   {
    "duration": 78731,
    "start_time": "2022-04-17T18:41:22.534Z"
   },
   {
    "duration": 119,
    "start_time": "2022-04-17T18:46:52.922Z"
   },
   {
    "duration": 3,
    "start_time": "2022-04-17T18:46:58.995Z"
   },
   {
    "duration": 22415,
    "start_time": "2022-04-17T18:47:02.508Z"
   },
   {
    "duration": 1280,
    "start_time": "2022-04-17T18:48:36.419Z"
   },
   {
    "duration": 43,
    "start_time": "2022-04-17T18:48:37.701Z"
   },
   {
    "duration": 7,
    "start_time": "2022-04-17T18:48:37.746Z"
   },
   {
    "duration": 26,
    "start_time": "2022-04-17T18:48:37.754Z"
   },
   {
    "duration": 11,
    "start_time": "2022-04-17T18:48:37.782Z"
   },
   {
    "duration": 28,
    "start_time": "2022-04-17T18:48:37.795Z"
   },
   {
    "duration": 33,
    "start_time": "2022-04-17T18:48:37.825Z"
   },
   {
    "duration": 12,
    "start_time": "2022-04-17T18:48:37.860Z"
   },
   {
    "duration": 39,
    "start_time": "2022-04-17T18:48:37.874Z"
   },
   {
    "duration": 23,
    "start_time": "2022-04-17T18:48:37.916Z"
   },
   {
    "duration": 9,
    "start_time": "2022-04-17T18:48:37.941Z"
   },
   {
    "duration": 3,
    "start_time": "2022-04-17T18:48:37.952Z"
   },
   {
    "duration": 9,
    "start_time": "2022-04-17T18:48:37.957Z"
   },
   {
    "duration": 194,
    "start_time": "2022-04-17T18:48:37.968Z"
   },
   {
    "duration": 63272,
    "start_time": "2022-04-17T18:48:38.164Z"
   },
   {
    "duration": 56079,
    "start_time": "2022-04-17T18:49:41.437Z"
   },
   {
    "duration": 7285,
    "start_time": "2022-04-17T18:51:14.529Z"
   },
   {
    "duration": 1142,
    "start_time": "2022-04-18T16:54:49.590Z"
   },
   {
    "duration": 31,
    "start_time": "2022-04-18T16:54:52.026Z"
   },
   {
    "duration": 5,
    "start_time": "2022-04-18T16:54:54.097Z"
   },
   {
    "duration": 26,
    "start_time": "2022-04-18T16:54:55.528Z"
   },
   {
    "duration": 12,
    "start_time": "2022-04-18T16:54:57.667Z"
   },
   {
    "duration": 21,
    "start_time": "2022-04-18T16:54:59.272Z"
   },
   {
    "duration": 7,
    "start_time": "2022-04-18T16:55:28.905Z"
   },
   {
    "duration": 40,
    "start_time": "2022-04-18T16:55:32.307Z"
   },
   {
    "duration": 11,
    "start_time": "2022-04-18T16:55:34.338Z"
   },
   {
    "duration": 15,
    "start_time": "2022-04-18T16:55:37.170Z"
   },
   {
    "duration": 23,
    "start_time": "2022-04-18T16:55:38.500Z"
   },
   {
    "duration": 5,
    "start_time": "2022-04-18T16:56:38.762Z"
   },
   {
    "duration": 5,
    "start_time": "2022-04-18T16:56:47.936Z"
   },
   {
    "duration": 5,
    "start_time": "2022-04-18T16:56:52.401Z"
   },
   {
    "duration": 4,
    "start_time": "2022-04-18T17:15:29.026Z"
   },
   {
    "duration": 100,
    "start_time": "2022-04-18T17:15:33.530Z"
   },
   {
    "duration": 1103,
    "start_time": "2022-04-18T17:15:55.814Z"
   },
   {
    "duration": 30,
    "start_time": "2022-04-18T17:15:56.919Z"
   },
   {
    "duration": 6,
    "start_time": "2022-04-18T17:15:56.951Z"
   },
   {
    "duration": 25,
    "start_time": "2022-04-18T17:15:56.959Z"
   },
   {
    "duration": 25,
    "start_time": "2022-04-18T17:15:56.985Z"
   },
   {
    "duration": 6,
    "start_time": "2022-04-18T17:15:57.011Z"
   },
   {
    "duration": 37,
    "start_time": "2022-04-18T17:15:57.019Z"
   },
   {
    "duration": 12,
    "start_time": "2022-04-18T17:15:57.058Z"
   },
   {
    "duration": 40,
    "start_time": "2022-04-18T17:15:57.072Z"
   },
   {
    "duration": 17,
    "start_time": "2022-04-18T17:15:57.115Z"
   },
   {
    "duration": 15,
    "start_time": "2022-04-18T17:15:57.133Z"
   },
   {
    "duration": 4,
    "start_time": "2022-04-18T17:15:57.150Z"
   },
   {
    "duration": 11,
    "start_time": "2022-04-18T17:15:57.155Z"
   },
   {
    "duration": 210,
    "start_time": "2022-04-18T17:15:57.167Z"
   },
   {
    "duration": 63641,
    "start_time": "2022-04-18T17:15:57.379Z"
   },
   {
    "duration": 13392,
    "start_time": "2022-04-18T17:17:01.021Z"
   },
   {
    "duration": 93,
    "start_time": "2022-04-18T17:17:14.415Z"
   },
   {
    "duration": 187,
    "start_time": "2022-04-18T17:17:14.511Z"
   },
   {
    "duration": 3,
    "start_time": "2022-04-18T17:17:42.419Z"
   },
   {
    "duration": 21,
    "start_time": "2022-04-18T17:17:45.004Z"
   },
   {
    "duration": 3,
    "start_time": "2022-04-18T17:17:52.331Z"
   },
   {
    "duration": 4,
    "start_time": "2022-04-18T17:17:55.733Z"
   },
   {
    "duration": 12,
    "start_time": "2022-04-18T17:17:57.106Z"
   },
   {
    "duration": 223,
    "start_time": "2022-04-18T17:21:12.963Z"
   },
   {
    "duration": 83326,
    "start_time": "2022-04-18T17:22:38.898Z"
   },
   {
    "duration": 86,
    "start_time": "2022-04-18T17:30:59.416Z"
   },
   {
    "duration": 3,
    "start_time": "2022-04-18T17:31:10.287Z"
   },
   {
    "duration": 838,
    "start_time": "2022-04-18T17:31:17.557Z"
   },
   {
    "duration": 832,
    "start_time": "2022-04-18T17:33:57.273Z"
   },
   {
    "duration": 47,
    "start_time": "2022-04-18T17:34:18.349Z"
   },
   {
    "duration": 36,
    "start_time": "2022-04-18T17:34:27.454Z"
   },
   {
    "duration": 839,
    "start_time": "2022-04-18T17:34:37.195Z"
   },
   {
    "duration": 840,
    "start_time": "2022-04-18T17:35:03.574Z"
   },
   {
    "duration": 99348,
    "start_time": "2022-04-18T17:37:38.771Z"
   },
   {
    "duration": 15711,
    "start_time": "2022-04-18T17:42:47.697Z"
   },
   {
    "duration": 48664,
    "start_time": "2022-04-18T17:44:29.806Z"
   },
   {
    "duration": 3,
    "start_time": "2022-04-18T17:47:26.886Z"
   },
   {
    "duration": 1542,
    "start_time": "2022-04-18T17:51:47.060Z"
   },
   {
    "duration": 122316,
    "start_time": "2022-04-18T17:52:51.197Z"
   },
   {
    "duration": 27443,
    "start_time": "2022-04-18T17:55:17.707Z"
   },
   {
    "duration": 25765,
    "start_time": "2022-04-18T17:56:59.914Z"
   },
   {
    "duration": 10767,
    "start_time": "2022-04-18T17:57:57.675Z"
   },
   {
    "duration": 1278,
    "start_time": "2022-04-18T17:58:49.722Z"
   },
   {
    "duration": 1514,
    "start_time": "2022-04-18T17:59:07.255Z"
   },
   {
    "duration": 150,
    "start_time": "2022-04-18T18:05:49.813Z"
   },
   {
    "duration": 160,
    "start_time": "2022-04-18T18:07:46.687Z"
   },
   {
    "duration": 32,
    "start_time": "2022-04-18T18:08:04.541Z"
   },
   {
    "duration": 30,
    "start_time": "2022-04-18T18:08:13.117Z"
   },
   {
    "duration": 1222,
    "start_time": "2022-04-18T18:08:18.283Z"
   },
   {
    "duration": 26,
    "start_time": "2022-04-18T18:08:19.507Z"
   },
   {
    "duration": 6,
    "start_time": "2022-04-18T18:08:19.535Z"
   },
   {
    "duration": 33,
    "start_time": "2022-04-18T18:08:19.543Z"
   },
   {
    "duration": 13,
    "start_time": "2022-04-18T18:08:19.578Z"
   },
   {
    "duration": 7,
    "start_time": "2022-04-18T18:08:19.606Z"
   },
   {
    "duration": 39,
    "start_time": "2022-04-18T18:08:19.615Z"
   },
   {
    "duration": 11,
    "start_time": "2022-04-18T18:08:19.656Z"
   },
   {
    "duration": 44,
    "start_time": "2022-04-18T18:08:19.669Z"
   },
   {
    "duration": 17,
    "start_time": "2022-04-18T18:08:19.716Z"
   },
   {
    "duration": 9,
    "start_time": "2022-04-18T18:08:19.735Z"
   },
   {
    "duration": 3,
    "start_time": "2022-04-18T18:08:19.746Z"
   },
   {
    "duration": 12,
    "start_time": "2022-04-18T18:08:19.751Z"
   },
   {
    "duration": 200,
    "start_time": "2022-04-18T18:08:19.765Z"
   },
   {
    "duration": 66348,
    "start_time": "2022-04-18T18:08:19.967Z"
   },
   {
    "duration": 25391,
    "start_time": "2022-04-18T18:09:26.317Z"
   },
   {
    "duration": 6,
    "start_time": "2022-04-18T18:09:51.711Z"
   },
   {
    "duration": 101,
    "start_time": "2022-04-18T18:09:51.719Z"
   },
   {
    "duration": 1528,
    "start_time": "2022-04-18T18:09:51.822Z"
   },
   {
    "duration": 25778,
    "start_time": "2022-04-18T18:09:53.352Z"
   },
   {
    "duration": 9613,
    "start_time": "2022-04-18T18:10:19.132Z"
   },
   {
    "duration": 109,
    "start_time": "2022-04-18T18:10:28.747Z"
   },
   {
    "duration": 0,
    "start_time": "2022-04-18T18:10:28.858Z"
   },
   {
    "duration": 0,
    "start_time": "2022-04-18T18:10:28.859Z"
   },
   {
    "duration": 165,
    "start_time": "2022-04-18T18:11:09.120Z"
   },
   {
    "duration": 35,
    "start_time": "2022-04-18T18:11:11.265Z"
   },
   {
    "duration": 51,
    "start_time": "2022-04-18T18:12:33.976Z"
   },
   {
    "duration": 163,
    "start_time": "2022-04-18T18:12:43.407Z"
   },
   {
    "duration": 33,
    "start_time": "2022-04-18T18:13:21.185Z"
   },
   {
    "duration": 54,
    "start_time": "2022-04-18T18:13:22.529Z"
   },
   {
    "duration": 12,
    "start_time": "2022-04-18T18:13:44.343Z"
   },
   {
    "duration": 1168,
    "start_time": "2022-04-18T18:14:30.080Z"
   },
   {
    "duration": 27,
    "start_time": "2022-04-18T18:14:31.250Z"
   },
   {
    "duration": 6,
    "start_time": "2022-04-18T18:14:31.278Z"
   },
   {
    "duration": 43,
    "start_time": "2022-04-18T18:14:31.286Z"
   },
   {
    "duration": 18,
    "start_time": "2022-04-18T18:14:31.331Z"
   },
   {
    "duration": 10,
    "start_time": "2022-04-18T18:14:31.351Z"
   },
   {
    "duration": 45,
    "start_time": "2022-04-18T18:14:31.363Z"
   },
   {
    "duration": 11,
    "start_time": "2022-04-18T18:14:31.409Z"
   },
   {
    "duration": 14,
    "start_time": "2022-04-18T18:14:31.422Z"
   },
   {
    "duration": 18,
    "start_time": "2022-04-18T18:14:31.437Z"
   },
   {
    "duration": 7,
    "start_time": "2022-04-18T18:14:31.456Z"
   },
   {
    "duration": 5,
    "start_time": "2022-04-18T18:14:31.464Z"
   },
   {
    "duration": 14,
    "start_time": "2022-04-18T18:14:31.470Z"
   },
   {
    "duration": 180,
    "start_time": "2022-04-18T18:14:31.507Z"
   },
   {
    "duration": 64681,
    "start_time": "2022-04-18T18:14:31.689Z"
   },
   {
    "duration": 14439,
    "start_time": "2022-04-18T18:15:36.372Z"
   },
   {
    "duration": 95,
    "start_time": "2022-04-18T18:15:50.813Z"
   },
   {
    "duration": 13,
    "start_time": "2022-04-18T18:15:50.909Z"
   },
   {
    "duration": 1535,
    "start_time": "2022-04-18T18:15:50.923Z"
   },
   {
    "duration": 24757,
    "start_time": "2022-04-18T18:15:52.460Z"
   },
   {
    "duration": 13534,
    "start_time": "2022-04-18T18:16:17.219Z"
   },
   {
    "duration": 15,
    "start_time": "2022-04-18T18:16:30.755Z"
   },
   {
    "duration": 88,
    "start_time": "2022-04-18T18:16:30.772Z"
   },
   {
    "duration": 161,
    "start_time": "2022-04-18T18:16:30.862Z"
   },
   {
    "duration": 37,
    "start_time": "2022-04-18T18:18:00.673Z"
   },
   {
    "duration": 13,
    "start_time": "2022-04-18T18:24:02.052Z"
   },
   {
    "duration": 54,
    "start_time": "2022-04-18T18:24:04.455Z"
   },
   {
    "duration": 78,
    "start_time": "2022-04-18T18:24:07.839Z"
   },
   {
    "duration": 157,
    "start_time": "2022-04-18T18:36:35.870Z"
   },
   {
    "duration": 165,
    "start_time": "2022-04-18T18:37:29.978Z"
   },
   {
    "duration": 51,
    "start_time": "2022-04-18T18:37:54.848Z"
   },
   {
    "duration": 2021,
    "start_time": "2022-04-19T17:01:06.766Z"
   },
   {
    "duration": 51,
    "start_time": "2022-04-19T17:01:10.718Z"
   },
   {
    "duration": 10,
    "start_time": "2022-04-19T17:01:13.046Z"
   },
   {
    "duration": 46,
    "start_time": "2022-04-19T17:01:14.883Z"
   },
   {
    "duration": 21,
    "start_time": "2022-04-19T17:01:16.956Z"
   },
   {
    "duration": 16,
    "start_time": "2022-04-19T17:01:44.958Z"
   },
   {
    "duration": 60,
    "start_time": "2022-04-19T17:01:48.382Z"
   },
   {
    "duration": 28,
    "start_time": "2022-04-19T17:01:53.034Z"
   },
   {
    "duration": 1598,
    "start_time": "2022-04-19T17:07:09.801Z"
   },
   {
    "duration": 26,
    "start_time": "2022-04-19T17:07:24.465Z"
   },
   {
    "duration": 1414,
    "start_time": "2022-04-19T17:07:38.779Z"
   },
   {
    "duration": 40,
    "start_time": "2022-04-19T17:07:56.980Z"
   },
   {
    "duration": 30,
    "start_time": "2022-04-19T17:08:33.044Z"
   },
   {
    "duration": 70,
    "start_time": "2022-04-19T17:09:23.883Z"
   },
   {
    "duration": 1680,
    "start_time": "2022-04-19T17:09:41.060Z"
   },
   {
    "duration": 43,
    "start_time": "2022-04-19T17:09:45.155Z"
   },
   {
    "duration": 42,
    "start_time": "2022-04-19T17:09:51.748Z"
   },
   {
    "duration": 1884,
    "start_time": "2022-04-19T17:10:37.166Z"
   },
   {
    "duration": 33,
    "start_time": "2022-04-19T17:10:39.053Z"
   },
   {
    "duration": 8,
    "start_time": "2022-04-19T17:10:39.089Z"
   },
   {
    "duration": 75,
    "start_time": "2022-04-19T17:10:39.100Z"
   },
   {
    "duration": 20,
    "start_time": "2022-04-19T17:10:39.178Z"
   },
   {
    "duration": 43,
    "start_time": "2022-04-19T17:10:39.200Z"
   },
   {
    "duration": 106,
    "start_time": "2022-04-19T17:10:39.245Z"
   },
   {
    "duration": 18,
    "start_time": "2022-04-19T17:10:39.353Z"
   },
   {
    "duration": 187,
    "start_time": "2022-04-19T17:10:39.374Z"
   },
   {
    "duration": 0,
    "start_time": "2022-04-19T17:10:39.564Z"
   },
   {
    "duration": 0,
    "start_time": "2022-04-19T17:10:39.566Z"
   },
   {
    "duration": 0,
    "start_time": "2022-04-19T17:10:39.568Z"
   },
   {
    "duration": 0,
    "start_time": "2022-04-19T17:10:39.569Z"
   },
   {
    "duration": 0,
    "start_time": "2022-04-19T17:10:39.571Z"
   },
   {
    "duration": 0,
    "start_time": "2022-04-19T17:10:39.572Z"
   },
   {
    "duration": 0,
    "start_time": "2022-04-19T17:10:39.574Z"
   },
   {
    "duration": 0,
    "start_time": "2022-04-19T17:10:39.575Z"
   },
   {
    "duration": 0,
    "start_time": "2022-04-19T17:10:39.576Z"
   },
   {
    "duration": 0,
    "start_time": "2022-04-19T17:10:39.578Z"
   },
   {
    "duration": 0,
    "start_time": "2022-04-19T17:10:39.579Z"
   },
   {
    "duration": 0,
    "start_time": "2022-04-19T17:10:39.580Z"
   },
   {
    "duration": 0,
    "start_time": "2022-04-19T17:10:39.582Z"
   },
   {
    "duration": 0,
    "start_time": "2022-04-19T17:10:39.583Z"
   },
   {
    "duration": 0,
    "start_time": "2022-04-19T17:10:39.584Z"
   },
   {
    "duration": 0,
    "start_time": "2022-04-19T17:10:39.586Z"
   },
   {
    "duration": 1465,
    "start_time": "2022-04-19T17:11:05.778Z"
   },
   {
    "duration": 1692,
    "start_time": "2022-04-19T17:11:20.936Z"
   },
   {
    "duration": 43,
    "start_time": "2022-04-19T17:11:47.121Z"
   },
   {
    "duration": 21,
    "start_time": "2022-04-19T17:12:20.043Z"
   },
   {
    "duration": 8,
    "start_time": "2022-04-19T17:12:40.971Z"
   },
   {
    "duration": 44,
    "start_time": "2022-04-19T17:12:46.209Z"
   },
   {
    "duration": 37,
    "start_time": "2022-04-19T17:12:55.001Z"
   },
   {
    "duration": 13,
    "start_time": "2022-04-19T17:13:23.545Z"
   },
   {
    "duration": 59,
    "start_time": "2022-04-19T17:13:25.182Z"
   },
   {
    "duration": 22,
    "start_time": "2022-04-19T17:13:29.456Z"
   },
   {
    "duration": 32,
    "start_time": "2022-04-19T17:13:30.837Z"
   },
   {
    "duration": 1670,
    "start_time": "2022-04-19T17:13:37.694Z"
   },
   {
    "duration": 37,
    "start_time": "2022-04-19T17:13:39.367Z"
   },
   {
    "duration": 9,
    "start_time": "2022-04-19T17:13:39.406Z"
   },
   {
    "duration": 44,
    "start_time": "2022-04-19T17:13:39.428Z"
   },
   {
    "duration": 19,
    "start_time": "2022-04-19T17:13:39.474Z"
   },
   {
    "duration": 33,
    "start_time": "2022-04-19T17:13:39.496Z"
   },
   {
    "duration": 58,
    "start_time": "2022-04-19T17:13:39.532Z"
   },
   {
    "duration": 47,
    "start_time": "2022-04-19T17:13:39.593Z"
   },
   {
    "duration": 32,
    "start_time": "2022-04-19T17:13:39.643Z"
   },
   {
    "duration": 67,
    "start_time": "2022-04-19T17:13:39.679Z"
   },
   {
    "duration": 23,
    "start_time": "2022-04-19T17:13:39.748Z"
   },
   {
    "duration": 26,
    "start_time": "2022-04-19T17:13:39.773Z"
   },
   {
    "duration": 31,
    "start_time": "2022-04-19T17:13:39.801Z"
   },
   {
    "duration": 16,
    "start_time": "2022-04-19T17:13:39.836Z"
   },
   {
    "duration": 20,
    "start_time": "2022-04-19T17:13:39.854Z"
   },
   {
    "duration": 277,
    "start_time": "2022-04-19T17:13:39.876Z"
   },
   {
    "duration": 84198,
    "start_time": "2022-04-19T17:13:40.156Z"
   },
   {
    "duration": 5467,
    "start_time": "2022-04-19T17:15:04.356Z"
   },
   {
    "duration": 7,
    "start_time": "2022-04-19T17:15:09.830Z"
   },
   {
    "duration": 37,
    "start_time": "2022-04-19T17:15:09.839Z"
   },
   {
    "duration": 2231,
    "start_time": "2022-04-19T17:15:09.878Z"
   },
   {
    "duration": 15589,
    "start_time": "2022-04-19T17:15:12.111Z"
   },
   {
    "duration": 1811,
    "start_time": "2022-04-19T17:15:39.097Z"
   },
   {
    "duration": 61,
    "start_time": "2022-04-19T17:15:43.349Z"
   },
   {
    "duration": 9,
    "start_time": "2022-04-19T17:15:44.733Z"
   },
   {
    "duration": 43,
    "start_time": "2022-04-19T17:15:46.040Z"
   },
   {
    "duration": 20,
    "start_time": "2022-04-19T17:15:48.212Z"
   },
   {
    "duration": 10,
    "start_time": "2022-04-19T17:15:50.060Z"
   },
   {
    "duration": 61,
    "start_time": "2022-04-19T17:15:51.005Z"
   },
   {
    "duration": 18,
    "start_time": "2022-04-19T17:15:54.108Z"
   },
   {
    "duration": 33,
    "start_time": "2022-04-19T17:15:55.149Z"
   },
   {
    "duration": 20,
    "start_time": "2022-04-19T17:16:04.092Z"
   },
   {
    "duration": 33,
    "start_time": "2022-04-19T17:16:07.805Z"
   },
   {
    "duration": 7,
    "start_time": "2022-04-19T17:16:15.660Z"
   },
   {
    "duration": 12,
    "start_time": "2022-04-19T17:16:21.405Z"
   },
   {
    "duration": 35,
    "start_time": "2022-04-19T17:25:00.394Z"
   },
   {
    "duration": 12,
    "start_time": "2022-04-19T17:26:06.209Z"
   },
   {
    "duration": 13,
    "start_time": "2022-04-19T17:29:53.520Z"
   },
   {
    "duration": 12,
    "start_time": "2022-04-19T17:29:59.143Z"
   },
   {
    "duration": 1759,
    "start_time": "2022-04-19T17:30:13.671Z"
   },
   {
    "duration": 33,
    "start_time": "2022-04-19T17:30:15.437Z"
   },
   {
    "duration": 9,
    "start_time": "2022-04-19T17:30:15.472Z"
   },
   {
    "duration": 63,
    "start_time": "2022-04-19T17:30:15.485Z"
   },
   {
    "duration": 27,
    "start_time": "2022-04-19T17:30:15.550Z"
   },
   {
    "duration": 11,
    "start_time": "2022-04-19T17:30:15.579Z"
   },
   {
    "duration": 42,
    "start_time": "2022-04-19T17:30:15.592Z"
   },
   {
    "duration": 61,
    "start_time": "2022-04-19T17:30:15.637Z"
   },
   {
    "duration": 33,
    "start_time": "2022-04-19T17:30:15.700Z"
   },
   {
    "duration": 21,
    "start_time": "2022-04-19T17:30:15.741Z"
   },
   {
    "duration": 25,
    "start_time": "2022-04-19T17:30:15.764Z"
   },
   {
    "duration": 41,
    "start_time": "2022-04-19T17:30:15.792Z"
   },
   {
    "duration": 22,
    "start_time": "2022-04-19T17:30:15.836Z"
   },
   {
    "duration": 257,
    "start_time": "2022-04-19T17:30:15.860Z"
   },
   {
    "duration": 105746,
    "start_time": "2022-04-19T17:30:16.120Z"
   },
   {
    "duration": 23280,
    "start_time": "2022-04-19T17:32:01.869Z"
   },
   {
    "duration": 79,
    "start_time": "2022-04-19T17:32:25.151Z"
   },
   {
    "duration": 125,
    "start_time": "2022-04-19T17:32:25.235Z"
   },
   {
    "duration": 2388,
    "start_time": "2022-04-19T17:32:25.363Z"
   },
   {
    "duration": 39687,
    "start_time": "2022-04-19T17:32:27.754Z"
   },
   {
    "duration": 12960,
    "start_time": "2022-04-19T17:33:07.443Z"
   },
   {
    "duration": 32,
    "start_time": "2022-04-19T17:33:20.405Z"
   },
   {
    "duration": 44,
    "start_time": "2022-04-19T17:33:20.442Z"
   },
   {
    "duration": 50,
    "start_time": "2022-04-19T17:33:20.488Z"
   },
   {
    "duration": 152,
    "start_time": "2022-04-19T17:46:11.827Z"
   },
   {
    "duration": 169,
    "start_time": "2022-04-19T17:46:42.978Z"
   },
   {
    "duration": 11,
    "start_time": "2022-04-19T17:46:54.751Z"
   },
   {
    "duration": 167,
    "start_time": "2022-04-19T17:47:01.046Z"
   },
   {
    "duration": 1620,
    "start_time": "2022-04-19T17:47:17.221Z"
   },
   {
    "duration": 40,
    "start_time": "2022-04-19T17:47:18.844Z"
   },
   {
    "duration": 10,
    "start_time": "2022-04-19T17:47:18.887Z"
   },
   {
    "duration": 64,
    "start_time": "2022-04-19T17:47:18.901Z"
   },
   {
    "duration": 20,
    "start_time": "2022-04-19T17:47:18.968Z"
   },
   {
    "duration": 37,
    "start_time": "2022-04-19T17:47:18.991Z"
   },
   {
    "duration": 71,
    "start_time": "2022-04-19T17:47:19.038Z"
   },
   {
    "duration": 24,
    "start_time": "2022-04-19T17:47:19.111Z"
   },
   {
    "duration": 33,
    "start_time": "2022-04-19T17:47:19.140Z"
   },
   {
    "duration": 38,
    "start_time": "2022-04-19T17:47:19.177Z"
   },
   {
    "duration": 34,
    "start_time": "2022-04-19T17:47:19.217Z"
   },
   {
    "duration": 12,
    "start_time": "2022-04-19T17:47:19.253Z"
   },
   {
    "duration": 278,
    "start_time": "2022-04-19T17:47:19.267Z"
   },
   {
    "duration": 1677,
    "start_time": "2022-04-19T17:47:47.694Z"
   },
   {
    "duration": 33,
    "start_time": "2022-04-19T17:47:49.374Z"
   },
   {
    "duration": 9,
    "start_time": "2022-04-19T17:47:49.409Z"
   },
   {
    "duration": 81,
    "start_time": "2022-04-19T17:47:49.420Z"
   },
   {
    "duration": 18,
    "start_time": "2022-04-19T17:47:49.503Z"
   },
   {
    "duration": 63,
    "start_time": "2022-04-19T17:47:49.523Z"
   },
   {
    "duration": 93,
    "start_time": "2022-04-19T17:47:49.588Z"
   },
   {
    "duration": 18,
    "start_time": "2022-04-19T17:47:49.683Z"
   },
   {
    "duration": 45,
    "start_time": "2022-04-19T17:47:49.703Z"
   },
   {
    "duration": 51,
    "start_time": "2022-04-19T17:47:49.754Z"
   },
   {
    "duration": 7,
    "start_time": "2022-04-19T17:47:49.807Z"
   },
   {
    "duration": 48,
    "start_time": "2022-04-19T17:47:49.816Z"
   },
   {
    "duration": 292,
    "start_time": "2022-04-19T17:47:49.866Z"
   },
   {
    "duration": 106765,
    "start_time": "2022-04-19T17:47:50.162Z"
   },
   {
    "duration": 32836,
    "start_time": "2022-04-19T17:49:36.929Z"
   },
   {
    "duration": 8,
    "start_time": "2022-04-19T17:50:09.832Z"
   },
   {
    "duration": 105,
    "start_time": "2022-04-19T17:50:09.850Z"
   },
   {
    "duration": 24,
    "start_time": "2022-04-19T17:50:09.957Z"
   },
   {
    "duration": 2265,
    "start_time": "2022-04-19T17:50:09.983Z"
   },
   {
    "duration": 41310,
    "start_time": "2022-04-19T17:50:12.250Z"
   },
   {
    "duration": 18683,
    "start_time": "2022-04-19T17:50:53.562Z"
   },
   {
    "duration": 19,
    "start_time": "2022-04-19T17:51:12.248Z"
   },
   {
    "duration": 73,
    "start_time": "2022-04-19T17:51:12.270Z"
   },
   {
    "duration": 96,
    "start_time": "2022-04-19T17:51:12.347Z"
   },
   {
    "duration": 12,
    "start_time": "2022-04-19T17:55:18.049Z"
   },
   {
    "duration": 13,
    "start_time": "2022-04-19T18:00:37.078Z"
   },
   {
    "duration": 17,
    "start_time": "2022-04-19T18:08:50.297Z"
   },
   {
    "duration": 18,
    "start_time": "2022-04-19T18:09:07.502Z"
   },
   {
    "duration": 59,
    "start_time": "2022-04-19T18:16:56.764Z"
   },
   {
    "duration": 2212,
    "start_time": "2022-04-19T18:17:06.128Z"
   },
   {
    "duration": 2252,
    "start_time": "2022-04-19T18:17:45.721Z"
   },
   {
    "duration": 158698,
    "start_time": "2022-04-19T18:18:58.745Z"
   },
   {
    "duration": 39366,
    "start_time": "2022-04-19T18:24:03.045Z"
   },
   {
    "duration": 174,
    "start_time": "2022-04-19T18:29:24.718Z"
   },
   {
    "duration": 1802,
    "start_time": "2022-04-19T18:29:36.358Z"
   },
   {
    "duration": 32,
    "start_time": "2022-04-19T18:29:38.164Z"
   },
   {
    "duration": 8,
    "start_time": "2022-04-19T18:29:38.198Z"
   },
   {
    "duration": 76,
    "start_time": "2022-04-19T18:29:38.209Z"
   },
   {
    "duration": 46,
    "start_time": "2022-04-19T18:29:38.288Z"
   },
   {
    "duration": 15,
    "start_time": "2022-04-19T18:29:38.342Z"
   },
   {
    "duration": 70,
    "start_time": "2022-04-19T18:29:38.361Z"
   },
   {
    "duration": 27,
    "start_time": "2022-04-19T18:29:38.434Z"
   },
   {
    "duration": 22,
    "start_time": "2022-04-19T18:29:38.464Z"
   },
   {
    "duration": 40,
    "start_time": "2022-04-19T18:29:38.490Z"
   },
   {
    "duration": 19,
    "start_time": "2022-04-19T18:29:38.545Z"
   },
   {
    "duration": 12,
    "start_time": "2022-04-19T18:29:38.567Z"
   },
   {
    "duration": 2466,
    "start_time": "2022-04-19T18:29:38.582Z"
   },
   {
    "duration": 155233,
    "start_time": "2022-04-19T18:29:41.051Z"
   },
   {
    "duration": 38443,
    "start_time": "2022-04-19T18:32:16.287Z"
   },
   {
    "duration": 23,
    "start_time": "2022-04-19T18:32:54.732Z"
   },
   {
    "duration": 9,
    "start_time": "2022-04-19T18:32:54.757Z"
   },
   {
    "duration": 21,
    "start_time": "2022-04-19T18:32:54.768Z"
   },
   {
    "duration": 2272,
    "start_time": "2022-04-19T18:32:54.792Z"
   },
   {
    "duration": 1632,
    "start_time": "2022-04-19T18:33:09.888Z"
   },
   {
    "duration": 42,
    "start_time": "2022-04-19T18:33:11.523Z"
   },
   {
    "duration": 8,
    "start_time": "2022-04-19T18:33:11.568Z"
   },
   {
    "duration": 70,
    "start_time": "2022-04-19T18:33:11.580Z"
   },
   {
    "duration": 22,
    "start_time": "2022-04-19T18:33:11.652Z"
   },
   {
    "duration": 38,
    "start_time": "2022-04-19T18:33:11.677Z"
   },
   {
    "duration": 125,
    "start_time": "2022-04-19T18:33:11.717Z"
   },
   {
    "duration": 20,
    "start_time": "2022-04-19T18:33:11.849Z"
   },
   {
    "duration": 26,
    "start_time": "2022-04-19T18:33:11.872Z"
   },
   {
    "duration": 53,
    "start_time": "2022-04-19T18:33:11.902Z"
   },
   {
    "duration": 16,
    "start_time": "2022-04-19T18:33:11.957Z"
   },
   {
    "duration": 22,
    "start_time": "2022-04-19T18:33:11.976Z"
   },
   {
    "duration": 2181,
    "start_time": "2022-04-19T18:33:12.000Z"
   },
   {
    "duration": 152862,
    "start_time": "2022-04-19T18:33:14.183Z"
   },
   {
    "duration": 40549,
    "start_time": "2022-04-19T18:35:47.052Z"
   },
   {
    "duration": 29,
    "start_time": "2022-04-19T18:36:27.603Z"
   },
   {
    "duration": 18,
    "start_time": "2022-04-19T18:36:27.637Z"
   },
   {
    "duration": 30,
    "start_time": "2022-04-19T18:36:27.658Z"
   },
   {
    "duration": 2242,
    "start_time": "2022-04-19T18:36:27.690Z"
   },
   {
    "duration": 41303,
    "start_time": "2022-04-19T18:36:29.934Z"
   },
   {
    "duration": 17982,
    "start_time": "2022-04-19T18:37:11.239Z"
   },
   {
    "duration": 18,
    "start_time": "2022-04-19T18:37:29.225Z"
   },
   {
    "duration": 55,
    "start_time": "2022-04-19T18:37:29.245Z"
   },
   {
    "duration": 127,
    "start_time": "2022-04-19T18:37:29.302Z"
   },
   {
    "duration": 1593,
    "start_time": "2022-04-19T18:58:20.800Z"
   },
   {
    "duration": 41,
    "start_time": "2022-04-19T18:58:22.396Z"
   },
   {
    "duration": 10,
    "start_time": "2022-04-19T18:58:22.439Z"
   },
   {
    "duration": 47,
    "start_time": "2022-04-19T18:58:22.453Z"
   },
   {
    "duration": 45,
    "start_time": "2022-04-19T18:58:22.503Z"
   },
   {
    "duration": 9,
    "start_time": "2022-04-19T18:58:22.550Z"
   },
   {
    "duration": 77,
    "start_time": "2022-04-19T18:58:22.561Z"
   },
   {
    "duration": 18,
    "start_time": "2022-04-19T18:58:22.641Z"
   },
   {
    "duration": 20,
    "start_time": "2022-04-19T18:58:22.661Z"
   },
   {
    "duration": 56,
    "start_time": "2022-04-19T18:58:22.685Z"
   },
   {
    "duration": 7,
    "start_time": "2022-04-19T18:58:22.743Z"
   },
   {
    "duration": 14,
    "start_time": "2022-04-19T18:58:22.752Z"
   },
   {
    "duration": 2082,
    "start_time": "2022-04-19T18:58:22.768Z"
   },
   {
    "duration": 143523,
    "start_time": "2022-04-19T18:58:24.853Z"
   },
   {
    "duration": 32134,
    "start_time": "2022-04-19T19:00:48.378Z"
   },
   {
    "duration": 26,
    "start_time": "2022-04-19T19:01:20.516Z"
   },
   {
    "duration": 6,
    "start_time": "2022-04-19T19:01:20.544Z"
   },
   {
    "duration": 23,
    "start_time": "2022-04-19T19:01:20.552Z"
   },
   {
    "duration": 2255,
    "start_time": "2022-04-19T19:01:20.577Z"
   },
   {
    "duration": 39940,
    "start_time": "2022-04-19T19:01:22.835Z"
   },
   {
    "duration": 12642,
    "start_time": "2022-04-19T19:02:02.777Z"
   },
   {
    "duration": 22,
    "start_time": "2022-04-19T19:02:15.422Z"
   },
   {
    "duration": 42,
    "start_time": "2022-04-19T19:02:15.446Z"
   },
   {
    "duration": 47,
    "start_time": "2022-04-19T19:02:15.491Z"
   },
   {
    "duration": 14,
    "start_time": "2022-04-19T19:06:51.076Z"
   },
   {
    "duration": 144,
    "start_time": "2022-04-19T19:24:00.030Z"
   },
   {
    "duration": 1584,
    "start_time": "2022-04-19T19:24:17.624Z"
   },
   {
    "duration": 33,
    "start_time": "2022-04-19T19:24:19.211Z"
   },
   {
    "duration": 8,
    "start_time": "2022-04-19T19:24:19.246Z"
   },
   {
    "duration": 45,
    "start_time": "2022-04-19T19:24:19.256Z"
   },
   {
    "duration": 37,
    "start_time": "2022-04-19T19:24:19.303Z"
   },
   {
    "duration": 8,
    "start_time": "2022-04-19T19:24:19.342Z"
   },
   {
    "duration": 92,
    "start_time": "2022-04-19T19:24:19.352Z"
   },
   {
    "duration": 17,
    "start_time": "2022-04-19T19:24:19.446Z"
   },
   {
    "duration": 19,
    "start_time": "2022-04-19T19:24:19.466Z"
   },
   {
    "duration": 52,
    "start_time": "2022-04-19T19:24:19.490Z"
   },
   {
    "duration": 7,
    "start_time": "2022-04-19T19:24:19.545Z"
   },
   {
    "duration": 15,
    "start_time": "2022-04-19T19:24:19.554Z"
   },
   {
    "duration": 2028,
    "start_time": "2022-04-19T19:24:19.571Z"
   },
   {
    "duration": 140993,
    "start_time": "2022-04-19T19:24:21.601Z"
   },
   {
    "duration": 18915,
    "start_time": "2022-04-19T19:26:42.596Z"
   },
   {
    "duration": 22,
    "start_time": "2022-04-19T19:27:01.513Z"
   },
   {
    "duration": 14,
    "start_time": "2022-04-19T19:27:01.537Z"
   },
   {
    "duration": 26,
    "start_time": "2022-04-19T19:27:01.553Z"
   },
   {
    "duration": 2131,
    "start_time": "2022-04-19T19:27:01.581Z"
   },
   {
    "duration": 37851,
    "start_time": "2022-04-19T19:27:03.714Z"
   },
   {
    "duration": 9042,
    "start_time": "2022-04-19T19:27:41.567Z"
   },
   {
    "duration": 50,
    "start_time": "2022-04-19T19:27:50.611Z"
   },
   {
    "duration": 17,
    "start_time": "2022-04-19T19:27:50.664Z"
   },
   {
    "duration": 67,
    "start_time": "2022-04-19T19:27:50.683Z"
   },
   {
    "duration": 74,
    "start_time": "2022-04-19T19:27:50.752Z"
   },
   {
    "duration": 44,
    "start_time": "2022-04-19T19:28:53.029Z"
   },
   {
    "duration": 1517,
    "start_time": "2022-04-19T19:29:11.343Z"
   },
   {
    "duration": 33,
    "start_time": "2022-04-19T19:29:12.862Z"
   },
   {
    "duration": 9,
    "start_time": "2022-04-19T19:29:12.897Z"
   },
   {
    "duration": 70,
    "start_time": "2022-04-19T19:29:12.909Z"
   },
   {
    "duration": 18,
    "start_time": "2022-04-19T19:29:12.981Z"
   },
   {
    "duration": 13,
    "start_time": "2022-04-19T19:29:13.001Z"
   },
   {
    "duration": 59,
    "start_time": "2022-04-19T19:29:13.016Z"
   },
   {
    "duration": 16,
    "start_time": "2022-04-19T19:29:13.078Z"
   },
   {
    "duration": 45,
    "start_time": "2022-04-19T19:29:13.096Z"
   },
   {
    "duration": 24,
    "start_time": "2022-04-19T19:29:13.147Z"
   },
   {
    "duration": 9,
    "start_time": "2022-04-19T19:29:13.174Z"
   },
   {
    "duration": 50,
    "start_time": "2022-04-19T19:29:13.185Z"
   },
   {
    "duration": 2023,
    "start_time": "2022-04-19T19:29:13.237Z"
   },
   {
    "duration": 137648,
    "start_time": "2022-04-19T19:29:15.262Z"
   },
   {
    "duration": 22081,
    "start_time": "2022-04-19T19:31:32.913Z"
   },
   {
    "duration": 16,
    "start_time": "2022-04-19T19:31:54.996Z"
   },
   {
    "duration": 6,
    "start_time": "2022-04-19T19:31:55.026Z"
   },
   {
    "duration": 24,
    "start_time": "2022-04-19T19:31:55.034Z"
   },
   {
    "duration": 2090,
    "start_time": "2022-04-19T19:31:55.060Z"
   },
   {
    "duration": 38725,
    "start_time": "2022-04-19T19:31:57.153Z"
   },
   {
    "duration": 10224,
    "start_time": "2022-04-19T19:32:35.880Z"
   },
   {
    "duration": 29,
    "start_time": "2022-04-19T19:32:46.106Z"
   },
   {
    "duration": 18,
    "start_time": "2022-04-19T19:32:46.137Z"
   },
   {
    "duration": 41,
    "start_time": "2022-04-19T19:32:46.157Z"
   },
   {
    "duration": 111,
    "start_time": "2022-04-19T19:32:46.225Z"
   },
   {
    "duration": 145,
    "start_time": "2022-04-19T19:37:01.207Z"
   },
   {
    "duration": 17,
    "start_time": "2022-04-19T19:37:04.984Z"
   },
   {
    "duration": 42,
    "start_time": "2022-04-19T19:37:05.910Z"
   },
   {
    "duration": 99,
    "start_time": "2022-04-19T19:37:07.124Z"
   },
   {
    "duration": 22,
    "start_time": "2022-04-19T19:37:09.481Z"
   },
   {
    "duration": 20,
    "start_time": "2022-04-19T19:37:26.078Z"
   },
   {
    "duration": 1598,
    "start_time": "2022-04-19T19:38:18.373Z"
   },
   {
    "duration": 38,
    "start_time": "2022-04-19T19:38:19.974Z"
   },
   {
    "duration": 8,
    "start_time": "2022-04-19T19:38:20.015Z"
   },
   {
    "duration": 46,
    "start_time": "2022-04-19T19:38:20.027Z"
   },
   {
    "duration": 19,
    "start_time": "2022-04-19T19:38:20.075Z"
   },
   {
    "duration": 28,
    "start_time": "2022-04-19T19:38:20.096Z"
   },
   {
    "duration": 57,
    "start_time": "2022-04-19T19:38:20.127Z"
   },
   {
    "duration": 42,
    "start_time": "2022-04-19T19:38:20.186Z"
   },
   {
    "duration": 20,
    "start_time": "2022-04-19T19:38:20.230Z"
   },
   {
    "duration": 25,
    "start_time": "2022-04-19T19:38:20.254Z"
   },
   {
    "duration": 7,
    "start_time": "2022-04-19T19:38:20.282Z"
   },
   {
    "duration": 12,
    "start_time": "2022-04-19T19:38:20.325Z"
   },
   {
    "duration": 2180,
    "start_time": "2022-04-19T19:38:20.339Z"
   },
   {
    "duration": 139276,
    "start_time": "2022-04-19T19:38:22.525Z"
   },
   {
    "duration": 19004,
    "start_time": "2022-04-19T19:40:41.804Z"
   },
   {
    "duration": 20,
    "start_time": "2022-04-19T19:41:00.810Z"
   },
   {
    "duration": 8,
    "start_time": "2022-04-19T19:41:00.833Z"
   },
   {
    "duration": 35,
    "start_time": "2022-04-19T19:41:00.844Z"
   },
   {
    "duration": 2152,
    "start_time": "2022-04-19T19:41:00.882Z"
   },
   {
    "duration": 39247,
    "start_time": "2022-04-19T19:41:03.036Z"
   },
   {
    "duration": 8629,
    "start_time": "2022-04-19T19:41:42.285Z"
   },
   {
    "duration": 25,
    "start_time": "2022-04-19T19:41:50.916Z"
   },
   {
    "duration": 175,
    "start_time": "2022-04-19T19:41:50.943Z"
   },
   {
    "duration": 1,
    "start_time": "2022-04-19T19:41:51.120Z"
   },
   {
    "duration": 0,
    "start_time": "2022-04-19T19:41:51.125Z"
   },
   {
    "duration": 0,
    "start_time": "2022-04-19T19:41:51.126Z"
   },
   {
    "duration": 17,
    "start_time": "2022-04-19T19:43:44.056Z"
   },
   {
    "duration": 43,
    "start_time": "2022-04-19T19:43:47.443Z"
   },
   {
    "duration": 79,
    "start_time": "2022-04-19T19:43:49.050Z"
   },
   {
    "duration": 22,
    "start_time": "2022-04-19T19:43:50.487Z"
   },
   {
    "duration": 1116,
    "start_time": "2022-04-20T11:42:31.715Z"
   },
   {
    "duration": 30,
    "start_time": "2022-04-20T11:42:33.944Z"
   },
   {
    "duration": 7,
    "start_time": "2022-04-20T11:42:35.520Z"
   },
   {
    "duration": 27,
    "start_time": "2022-04-20T11:42:37.062Z"
   },
   {
    "duration": 13,
    "start_time": "2022-04-20T11:42:38.744Z"
   },
   {
    "duration": 7,
    "start_time": "2022-04-20T11:42:40.680Z"
   },
   {
    "duration": 38,
    "start_time": "2022-04-20T11:42:41.864Z"
   },
   {
    "duration": 13,
    "start_time": "2022-04-20T11:42:43.391Z"
   },
   {
    "duration": 14,
    "start_time": "2022-04-20T11:42:44.751Z"
   },
   {
    "duration": 21,
    "start_time": "2022-04-20T11:42:45.888Z"
   },
   {
    "duration": 5,
    "start_time": "2022-04-20T11:42:47.615Z"
   },
   {
    "duration": 9,
    "start_time": "2022-04-20T11:42:51.271Z"
   },
   {
    "duration": 212,
    "start_time": "2022-04-20T11:42:55.016Z"
   },
   {
    "duration": 127,
    "start_time": "2022-04-20T11:44:11.504Z"
   },
   {
    "duration": 191,
    "start_time": "2022-04-20T11:53:01.487Z"
   },
   {
    "duration": 193,
    "start_time": "2022-04-20T11:53:24.503Z"
   },
   {
    "duration": 68,
    "start_time": "2022-04-20T11:54:19.967Z"
   },
   {
    "duration": 70416,
    "start_time": "2022-04-20T11:54:39.765Z"
   },
   {
    "duration": 71540,
    "start_time": "2022-04-20T11:56:46.535Z"
   },
   {
    "duration": 52,
    "start_time": "2022-04-20T11:59:19.109Z"
   },
   {
    "duration": 74,
    "start_time": "2022-04-20T11:59:30.253Z"
   },
   {
    "duration": 11471,
    "start_time": "2022-04-20T11:59:41.165Z"
   },
   {
    "duration": 13365,
    "start_time": "2022-04-20T12:00:14.110Z"
   },
   {
    "duration": 12,
    "start_time": "2022-04-20T12:00:43.403Z"
   },
   {
    "duration": 4,
    "start_time": "2022-04-20T12:00:55.469Z"
   },
   {
    "duration": 12,
    "start_time": "2022-04-20T12:01:00.325Z"
   },
   {
    "duration": 133,
    "start_time": "2022-04-20T12:01:56.878Z"
   },
   {
    "duration": 366,
    "start_time": "2022-04-20T12:02:44.531Z"
   },
   {
    "duration": 261,
    "start_time": "2022-04-20T12:02:52.013Z"
   },
   {
    "duration": 18004,
    "start_time": "2022-04-20T12:23:14.488Z"
   },
   {
    "duration": 6165,
    "start_time": "2022-04-20T12:35:00.615Z"
   },
   {
    "duration": 15,
    "start_time": "2022-04-20T12:42:01.110Z"
   },
   {
    "duration": 11,
    "start_time": "2022-04-20T12:44:40.368Z"
   },
   {
    "duration": 30,
    "start_time": "2022-04-20T12:44:41.815Z"
   },
   {
    "duration": 15,
    "start_time": "2022-04-20T12:44:43.672Z"
   },
   {
    "duration": 30,
    "start_time": "2022-04-20T12:45:36.661Z"
   },
   {
    "duration": 14,
    "start_time": "2022-04-20T12:45:38.096Z"
   },
   {
    "duration": 14,
    "start_time": "2022-04-20T12:46:03.832Z"
   },
   {
    "duration": 9,
    "start_time": "2022-04-20T13:15:47.114Z"
   },
   {
    "duration": 3,
    "start_time": "2022-04-20T13:15:54.162Z"
   },
   {
    "duration": 20,
    "start_time": "2022-04-20T13:15:58.108Z"
   },
   {
    "duration": 17,
    "start_time": "2022-04-20T13:16:00.746Z"
   },
   {
    "duration": 17,
    "start_time": "2022-04-20T13:16:10.980Z"
   },
   {
    "duration": 6,
    "start_time": "2022-04-20T13:17:03.563Z"
   },
   {
    "duration": 9,
    "start_time": "2022-04-20T13:17:08.900Z"
   },
   {
    "duration": 189,
    "start_time": "2022-04-20T13:17:17.484Z"
   },
   {
    "duration": 68940,
    "start_time": "2022-04-20T13:17:24.819Z"
   },
   {
    "duration": 15,
    "start_time": "2022-04-20T13:18:51.499Z"
   },
   {
    "duration": 18,
    "start_time": "2022-04-20T13:22:57.137Z"
   },
   {
    "duration": 18,
    "start_time": "2022-04-20T13:23:00.452Z"
   },
   {
    "duration": 19,
    "start_time": "2022-04-20T13:23:11.882Z"
   },
   {
    "duration": 9,
    "start_time": "2022-04-20T13:23:16.042Z"
   },
   {
    "duration": 205,
    "start_time": "2022-04-20T13:23:19.123Z"
   },
   {
    "duration": 70760,
    "start_time": "2022-04-20T13:23:23.099Z"
   },
   {
    "duration": 21,
    "start_time": "2022-04-20T13:24:33.862Z"
   },
   {
    "duration": 12,
    "start_time": "2022-04-20T13:24:33.885Z"
   },
   {
    "duration": 4,
    "start_time": "2022-04-20T13:24:33.899Z"
   },
   {
    "duration": 4,
    "start_time": "2022-04-20T13:24:47.626Z"
   },
   {
    "duration": 10,
    "start_time": "2022-04-20T13:24:50.714Z"
   },
   {
    "duration": 16,
    "start_time": "2022-04-20T13:24:51.834Z"
   },
   {
    "duration": 245,
    "start_time": "2022-04-20T13:25:00.692Z"
   },
   {
    "duration": 18677,
    "start_time": "2022-04-20T13:25:05.371Z"
   },
   {
    "duration": 3152,
    "start_time": "2022-04-20T13:25:39.426Z"
   },
   {
    "duration": 13,
    "start_time": "2022-04-20T13:25:47.443Z"
   },
   {
    "duration": 1146,
    "start_time": "2022-04-20T13:26:00.609Z"
   },
   {
    "duration": 27,
    "start_time": "2022-04-20T13:26:01.757Z"
   },
   {
    "duration": 7,
    "start_time": "2022-04-20T13:26:01.786Z"
   },
   {
    "duration": 54,
    "start_time": "2022-04-20T13:26:01.795Z"
   },
   {
    "duration": 19,
    "start_time": "2022-04-20T13:26:01.851Z"
   },
   {
    "duration": 11,
    "start_time": "2022-04-20T13:26:01.872Z"
   },
   {
    "duration": 53,
    "start_time": "2022-04-20T13:26:01.885Z"
   },
   {
    "duration": 14,
    "start_time": "2022-04-20T13:26:01.940Z"
   },
   {
    "duration": 26,
    "start_time": "2022-04-20T13:26:01.955Z"
   },
   {
    "duration": 115,
    "start_time": "2022-04-20T13:26:01.985Z"
   },
   {
    "duration": 0,
    "start_time": "2022-04-20T13:26:02.102Z"
   },
   {
    "duration": 0,
    "start_time": "2022-04-20T13:26:02.104Z"
   },
   {
    "duration": 0,
    "start_time": "2022-04-20T13:26:02.106Z"
   },
   {
    "duration": 0,
    "start_time": "2022-04-20T13:26:02.107Z"
   },
   {
    "duration": 0,
    "start_time": "2022-04-20T13:26:02.109Z"
   },
   {
    "duration": 0,
    "start_time": "2022-04-20T13:26:02.110Z"
   },
   {
    "duration": 0,
    "start_time": "2022-04-20T13:26:02.111Z"
   },
   {
    "duration": 0,
    "start_time": "2022-04-20T13:26:02.113Z"
   },
   {
    "duration": 0,
    "start_time": "2022-04-20T13:26:02.114Z"
   },
   {
    "duration": 0,
    "start_time": "2022-04-20T13:26:02.115Z"
   },
   {
    "duration": 0,
    "start_time": "2022-04-20T13:26:02.117Z"
   },
   {
    "duration": 0,
    "start_time": "2022-04-20T13:26:02.118Z"
   },
   {
    "duration": 0,
    "start_time": "2022-04-20T13:26:02.120Z"
   },
   {
    "duration": 0,
    "start_time": "2022-04-20T13:26:02.122Z"
   },
   {
    "duration": 0,
    "start_time": "2022-04-20T13:26:02.123Z"
   },
   {
    "duration": 0,
    "start_time": "2022-04-20T13:26:02.124Z"
   },
   {
    "duration": 1,
    "start_time": "2022-04-20T13:26:02.125Z"
   },
   {
    "duration": 0,
    "start_time": "2022-04-20T13:26:02.127Z"
   },
   {
    "duration": 20,
    "start_time": "2022-04-20T13:33:03.930Z"
   },
   {
    "duration": 1145,
    "start_time": "2022-04-20T13:33:10.002Z"
   },
   {
    "duration": 26,
    "start_time": "2022-04-20T13:33:11.150Z"
   },
   {
    "duration": 7,
    "start_time": "2022-04-20T13:33:11.178Z"
   },
   {
    "duration": 30,
    "start_time": "2022-04-20T13:33:11.187Z"
   },
   {
    "duration": 13,
    "start_time": "2022-04-20T13:33:11.219Z"
   },
   {
    "duration": 6,
    "start_time": "2022-04-20T13:33:11.234Z"
   },
   {
    "duration": 64,
    "start_time": "2022-04-20T13:33:11.241Z"
   },
   {
    "duration": 12,
    "start_time": "2022-04-20T13:33:11.307Z"
   },
   {
    "duration": 15,
    "start_time": "2022-04-20T13:33:11.321Z"
   },
   {
    "duration": 43,
    "start_time": "2022-04-20T13:33:11.338Z"
   },
   {
    "duration": 18,
    "start_time": "2022-04-20T13:33:11.383Z"
   },
   {
    "duration": 5,
    "start_time": "2022-04-20T13:33:11.403Z"
   },
   {
    "duration": 17,
    "start_time": "2022-04-20T13:33:11.410Z"
   },
   {
    "duration": 213,
    "start_time": "2022-04-20T13:33:11.430Z"
   },
   {
    "duration": 67867,
    "start_time": "2022-04-20T13:33:11.645Z"
   },
   {
    "duration": 7567,
    "start_time": "2022-04-20T13:34:19.514Z"
   },
   {
    "duration": 97,
    "start_time": "2022-04-20T13:34:27.083Z"
   },
   {
    "duration": 10,
    "start_time": "2022-04-20T13:34:27.182Z"
   },
   {
    "duration": 15,
    "start_time": "2022-04-20T13:34:27.194Z"
   },
   {
    "duration": 17,
    "start_time": "2022-04-20T13:34:27.210Z"
   },
   {
    "duration": 267,
    "start_time": "2022-04-20T13:34:27.229Z"
   },
   {
    "duration": 17610,
    "start_time": "2022-04-20T13:34:27.497Z"
   },
   {
    "duration": 3068,
    "start_time": "2022-04-20T13:34:45.108Z"
   },
   {
    "duration": 107,
    "start_time": "2022-04-20T13:34:48.178Z"
   },
   {
    "duration": 22,
    "start_time": "2022-04-20T13:34:48.287Z"
   },
   {
    "duration": 32,
    "start_time": "2022-04-20T13:34:48.311Z"
   },
   {
    "duration": 130,
    "start_time": "2022-04-20T13:34:48.344Z"
   },
   {
    "duration": 105,
    "start_time": "2022-04-20T13:34:48.477Z"
   },
   {
    "duration": 132,
    "start_time": "2022-04-20T15:04:18.350Z"
   },
   {
    "duration": 6,
    "start_time": "2022-04-20T15:07:45.686Z"
   },
   {
    "duration": 11,
    "start_time": "2022-04-20T15:07:49.050Z"
   },
   {
    "duration": 125,
    "start_time": "2022-04-20T15:10:39.830Z"
   },
   {
    "duration": 1139,
    "start_time": "2022-04-20T15:15:24.519Z"
   },
   {
    "duration": 31,
    "start_time": "2022-04-20T15:15:25.660Z"
   },
   {
    "duration": 7,
    "start_time": "2022-04-20T15:15:25.693Z"
   },
   {
    "duration": 33,
    "start_time": "2022-04-20T15:15:25.703Z"
   },
   {
    "duration": 13,
    "start_time": "2022-04-20T15:15:25.738Z"
   },
   {
    "duration": 23,
    "start_time": "2022-04-20T15:15:25.752Z"
   },
   {
    "duration": 38,
    "start_time": "2022-04-20T15:15:25.777Z"
   },
   {
    "duration": 11,
    "start_time": "2022-04-20T15:15:25.817Z"
   },
   {
    "duration": 14,
    "start_time": "2022-04-20T15:15:25.830Z"
   },
   {
    "duration": 41,
    "start_time": "2022-04-20T15:15:25.847Z"
   },
   {
    "duration": 16,
    "start_time": "2022-04-20T15:15:25.890Z"
   },
   {
    "duration": 5,
    "start_time": "2022-04-20T15:15:25.907Z"
   },
   {
    "duration": 10,
    "start_time": "2022-04-20T15:15:25.914Z"
   },
   {
    "duration": 221,
    "start_time": "2022-04-20T15:15:25.925Z"
   },
   {
    "duration": 69631,
    "start_time": "2022-04-20T15:15:26.148Z"
   },
   {
    "duration": 6395,
    "start_time": "2022-04-20T15:16:35.781Z"
   },
   {
    "duration": 103,
    "start_time": "2022-04-20T15:16:42.178Z"
   },
   {
    "duration": 9,
    "start_time": "2022-04-20T15:16:42.282Z"
   },
   {
    "duration": 7,
    "start_time": "2022-04-20T15:16:42.293Z"
   },
   {
    "duration": 18,
    "start_time": "2022-04-20T15:16:42.301Z"
   },
   {
    "duration": 16,
    "start_time": "2022-04-20T15:16:42.321Z"
   },
   {
    "duration": 12,
    "start_time": "2022-04-20T15:16:42.338Z"
   },
   {
    "duration": 284,
    "start_time": "2022-04-20T15:16:42.352Z"
   },
   {
    "duration": 17790,
    "start_time": "2022-04-20T15:16:42.638Z"
   },
   {
    "duration": 4946,
    "start_time": "2022-04-20T15:17:00.429Z"
   },
   {
    "duration": 104,
    "start_time": "2022-04-20T15:17:05.382Z"
   },
   {
    "duration": 148,
    "start_time": "2022-04-20T15:17:05.488Z"
   },
   {
    "duration": 7940,
    "start_time": "2022-04-20T15:17:05.640Z"
   },
   {
    "duration": 2000,
    "start_time": "2022-04-20T15:17:13.582Z"
   },
   {
    "duration": 15,
    "start_time": "2022-04-20T15:17:15.675Z"
   },
   {
    "duration": 93,
    "start_time": "2022-04-20T15:17:15.692Z"
   },
   {
    "duration": 48,
    "start_time": "2022-04-20T15:17:15.787Z"
   },
   {
    "duration": 136,
    "start_time": "2022-04-20T15:17:15.837Z"
   },
   {
    "duration": 110,
    "start_time": "2022-04-20T15:17:15.975Z"
   },
   {
    "duration": 1188,
    "start_time": "2022-04-20T15:21:50.342Z"
   },
   {
    "duration": 26,
    "start_time": "2022-04-20T15:21:51.532Z"
   },
   {
    "duration": 8,
    "start_time": "2022-04-20T15:21:51.560Z"
   },
   {
    "duration": 28,
    "start_time": "2022-04-20T15:21:51.574Z"
   },
   {
    "duration": 14,
    "start_time": "2022-04-20T15:21:51.604Z"
   },
   {
    "duration": 7,
    "start_time": "2022-04-20T15:21:51.620Z"
   },
   {
    "duration": 67,
    "start_time": "2022-04-20T15:21:51.629Z"
   },
   {
    "duration": 12,
    "start_time": "2022-04-20T15:21:51.698Z"
   },
   {
    "duration": 14,
    "start_time": "2022-04-20T15:21:51.712Z"
   },
   {
    "duration": 18,
    "start_time": "2022-04-20T15:21:51.729Z"
   },
   {
    "duration": 39,
    "start_time": "2022-04-20T15:21:51.749Z"
   },
   {
    "duration": 5,
    "start_time": "2022-04-20T15:21:51.789Z"
   },
   {
    "duration": 10,
    "start_time": "2022-04-20T15:21:51.796Z"
   },
   {
    "duration": 221,
    "start_time": "2022-04-20T15:21:51.808Z"
   },
   {
    "duration": 69894,
    "start_time": "2022-04-20T15:21:52.031Z"
   },
   {
    "duration": 6457,
    "start_time": "2022-04-20T15:23:01.927Z"
   },
   {
    "duration": 189,
    "start_time": "2022-04-20T15:23:08.385Z"
   },
   {
    "duration": 5,
    "start_time": "2022-04-20T15:23:08.576Z"
   },
   {
    "duration": 8,
    "start_time": "2022-04-20T15:23:08.583Z"
   },
   {
    "duration": 17,
    "start_time": "2022-04-20T15:23:08.593Z"
   },
   {
    "duration": 20,
    "start_time": "2022-04-20T15:23:08.612Z"
   },
   {
    "duration": 10,
    "start_time": "2022-04-20T15:23:08.634Z"
   },
   {
    "duration": 268,
    "start_time": "2022-04-20T15:23:08.646Z"
   },
   {
    "duration": 17903,
    "start_time": "2022-04-20T15:23:08.915Z"
   },
   {
    "duration": 3255,
    "start_time": "2022-04-20T15:23:26.820Z"
   },
   {
    "duration": 102,
    "start_time": "2022-04-20T15:23:30.077Z"
   },
   {
    "duration": 140,
    "start_time": "2022-04-20T15:23:30.181Z"
   },
   {
    "duration": 7832,
    "start_time": "2022-04-20T15:23:30.324Z"
   },
   {
    "duration": 1920,
    "start_time": "2022-04-20T15:23:38.158Z"
   },
   {
    "duration": 100,
    "start_time": "2022-04-20T15:23:40.081Z"
   },
   {
    "duration": 16,
    "start_time": "2022-04-20T15:23:40.183Z"
   },
   {
    "duration": 31,
    "start_time": "2022-04-20T15:23:40.200Z"
   },
   {
    "duration": 143,
    "start_time": "2022-04-20T15:23:40.233Z"
   },
   {
    "duration": 107,
    "start_time": "2022-04-20T15:23:40.378Z"
   },
   {
    "duration": 2226,
    "start_time": "2022-04-21T14:59:14.094Z"
   },
   {
    "duration": 34,
    "start_time": "2022-04-21T14:59:16.484Z"
   },
   {
    "duration": 9,
    "start_time": "2022-04-21T14:59:19.045Z"
   },
   {
    "duration": 69,
    "start_time": "2022-04-21T14:59:20.882Z"
   },
   {
    "duration": 22,
    "start_time": "2022-04-21T14:59:50.142Z"
   },
   {
    "duration": 61,
    "start_time": "2022-04-21T14:59:54.044Z"
   },
   {
    "duration": 17,
    "start_time": "2022-04-21T14:59:55.717Z"
   },
   {
    "duration": 20,
    "start_time": "2022-04-21T14:59:57.412Z"
   },
   {
    "duration": 25,
    "start_time": "2022-04-21T14:59:58.614Z"
   },
   {
    "duration": 8,
    "start_time": "2022-04-21T15:00:01.388Z"
   },
   {
    "duration": 11,
    "start_time": "2022-04-21T15:00:03.853Z"
   },
   {
    "duration": 29,
    "start_time": "2022-04-21T15:00:05.244Z"
   },
   {
    "duration": 23,
    "start_time": "2022-04-21T15:00:16.590Z"
   },
   {
    "duration": 46,
    "start_time": "2022-04-21T15:02:02.917Z"
   },
   {
    "duration": 36,
    "start_time": "2022-04-21T15:02:34.895Z"
   },
   {
    "duration": 28,
    "start_time": "2022-04-21T15:02:43.338Z"
   },
   {
    "duration": 1673,
    "start_time": "2022-04-21T15:04:51.772Z"
   },
   {
    "duration": 34,
    "start_time": "2022-04-21T15:04:54.899Z"
   },
   {
    "duration": 8,
    "start_time": "2022-04-21T15:04:57.804Z"
   },
   {
    "duration": 46,
    "start_time": "2022-04-21T15:04:59.779Z"
   },
   {
    "duration": 20,
    "start_time": "2022-04-21T15:05:02.794Z"
   },
   {
    "duration": 11,
    "start_time": "2022-04-21T15:05:04.763Z"
   },
   {
    "duration": 60,
    "start_time": "2022-04-21T15:05:06.610Z"
   },
   {
    "duration": 19,
    "start_time": "2022-04-21T15:05:08.107Z"
   },
   {
    "duration": 22,
    "start_time": "2022-04-21T15:05:09.930Z"
   },
   {
    "duration": 27,
    "start_time": "2022-04-21T15:05:12.220Z"
   },
   {
    "duration": 12,
    "start_time": "2022-04-21T15:05:28.027Z"
   },
   {
    "duration": 39,
    "start_time": "2022-04-21T15:05:36.691Z"
   },
   {
    "duration": 26,
    "start_time": "2022-04-21T15:05:40.612Z"
   },
   {
    "duration": 6,
    "start_time": "2022-04-21T15:07:37.675Z"
   },
   {
    "duration": 35,
    "start_time": "2022-04-21T15:07:42.244Z"
   },
   {
    "duration": 25,
    "start_time": "2022-04-21T15:07:44.847Z"
   },
   {
    "duration": 5,
    "start_time": "2022-04-21T15:09:11.842Z"
   },
   {
    "duration": 7,
    "start_time": "2022-04-21T15:09:53.959Z"
   },
   {
    "duration": 4,
    "start_time": "2022-04-21T15:10:18.433Z"
   },
   {
    "duration": 7,
    "start_time": "2022-04-21T15:12:45.838Z"
   },
   {
    "duration": 148,
    "start_time": "2022-04-21T15:14:47.786Z"
   },
   {
    "duration": 8,
    "start_time": "2022-04-21T15:14:51.326Z"
   },
   {
    "duration": 10,
    "start_time": "2022-04-21T15:14:53.215Z"
   },
   {
    "duration": 13,
    "start_time": "2022-04-21T15:14:54.693Z"
   },
   {
    "duration": 18,
    "start_time": "2022-04-21T15:15:08.350Z"
   },
   {
    "duration": 23,
    "start_time": "2022-04-21T15:15:09.951Z"
   },
   {
    "duration": 7,
    "start_time": "2022-04-21T15:17:21.701Z"
   },
   {
    "duration": 1540,
    "start_time": "2022-04-21T15:18:42.942Z"
   },
   {
    "duration": 39,
    "start_time": "2022-04-21T15:18:44.485Z"
   },
   {
    "duration": 10,
    "start_time": "2022-04-21T15:18:44.527Z"
   },
   {
    "duration": 41,
    "start_time": "2022-04-21T15:18:44.541Z"
   },
   {
    "duration": 43,
    "start_time": "2022-04-21T15:18:44.585Z"
   },
   {
    "duration": 9,
    "start_time": "2022-04-21T15:18:44.631Z"
   },
   {
    "duration": 84,
    "start_time": "2022-04-21T15:18:44.642Z"
   },
   {
    "duration": 18,
    "start_time": "2022-04-21T15:18:44.728Z"
   },
   {
    "duration": 20,
    "start_time": "2022-04-21T15:18:44.749Z"
   },
   {
    "duration": 59,
    "start_time": "2022-04-21T15:18:44.774Z"
   },
   {
    "duration": 8,
    "start_time": "2022-04-21T15:18:44.836Z"
   },
   {
    "duration": 12,
    "start_time": "2022-04-21T15:18:44.846Z"
   },
   {
    "duration": 6,
    "start_time": "2022-04-21T15:18:44.861Z"
   },
   {
    "duration": 77,
    "start_time": "2022-04-21T15:18:44.869Z"
   },
   {
    "duration": 24,
    "start_time": "2022-04-21T15:18:44.948Z"
   },
   {
    "duration": 324,
    "start_time": "2022-04-21T15:18:44.975Z"
   },
   {
    "duration": 108152,
    "start_time": "2022-04-21T15:18:45.301Z"
   },
   {
    "duration": 7969,
    "start_time": "2022-04-21T15:20:33.456Z"
   },
   {
    "duration": 99,
    "start_time": "2022-04-21T15:20:41.427Z"
   },
   {
    "duration": 6,
    "start_time": "2022-04-21T15:20:41.528Z"
   },
   {
    "duration": 7,
    "start_time": "2022-04-21T15:20:41.536Z"
   },
   {
    "duration": 36,
    "start_time": "2022-04-21T15:20:41.545Z"
   },
   {
    "duration": 46,
    "start_time": "2022-04-21T15:20:41.584Z"
   },
   {
    "duration": 15,
    "start_time": "2022-04-21T15:20:41.632Z"
   },
   {
    "duration": 393,
    "start_time": "2022-04-21T15:20:41.649Z"
   },
   {
    "duration": 29755,
    "start_time": "2022-04-21T15:20:42.044Z"
   },
   {
    "duration": 4523,
    "start_time": "2022-04-21T15:21:11.802Z"
   },
   {
    "duration": 21,
    "start_time": "2022-04-21T15:21:16.329Z"
   },
   {
    "duration": 211,
    "start_time": "2022-04-21T15:21:16.352Z"
   },
   {
    "duration": 12108,
    "start_time": "2022-04-21T15:21:16.565Z"
   },
   {
    "duration": 3050,
    "start_time": "2022-04-21T15:21:28.676Z"
   },
   {
    "duration": 22,
    "start_time": "2022-04-21T15:21:31.729Z"
   },
   {
    "duration": 76,
    "start_time": "2022-04-21T15:21:31.753Z"
   },
   {
    "duration": 39,
    "start_time": "2022-04-21T15:21:31.832Z"
   },
   {
    "duration": 153,
    "start_time": "2022-04-21T15:21:31.873Z"
   },
   {
    "duration": 108,
    "start_time": "2022-04-21T15:21:32.033Z"
   },
   {
    "duration": 27,
    "start_time": "2022-04-21T15:28:00.325Z"
   },
   {
    "duration": 22,
    "start_time": "2022-04-21T15:30:21.140Z"
   },
   {
    "duration": 31,
    "start_time": "2022-04-21T15:30:23.709Z"
   },
   {
    "duration": 1517,
    "start_time": "2022-04-21T15:31:10.276Z"
   },
   {
    "duration": 41,
    "start_time": "2022-04-21T15:31:11.796Z"
   },
   {
    "duration": 8,
    "start_time": "2022-04-21T15:31:11.840Z"
   },
   {
    "duration": 42,
    "start_time": "2022-04-21T15:31:11.851Z"
   },
   {
    "duration": 43,
    "start_time": "2022-04-21T15:31:11.895Z"
   },
   {
    "duration": 9,
    "start_time": "2022-04-21T15:31:11.941Z"
   },
   {
    "duration": 81,
    "start_time": "2022-04-21T15:31:11.952Z"
   },
   {
    "duration": 18,
    "start_time": "2022-04-21T15:31:12.036Z"
   },
   {
    "duration": 21,
    "start_time": "2022-04-21T15:31:12.056Z"
   },
   {
    "duration": 61,
    "start_time": "2022-04-21T15:31:12.081Z"
   },
   {
    "duration": 7,
    "start_time": "2022-04-21T15:31:12.144Z"
   },
   {
    "duration": 30,
    "start_time": "2022-04-21T15:31:12.153Z"
   },
   {
    "duration": 8,
    "start_time": "2022-04-21T15:31:12.185Z"
   },
   {
    "duration": 53,
    "start_time": "2022-04-21T15:31:12.195Z"
   },
   {
    "duration": 26,
    "start_time": "2022-04-21T15:31:12.250Z"
   },
   {
    "duration": 331,
    "start_time": "2022-04-21T15:31:12.278Z"
   },
   {
    "duration": 6015,
    "start_time": "2022-04-21T15:31:12.611Z"
   },
   {
    "duration": 1764,
    "start_time": "2022-04-21T15:31:34.784Z"
   },
   {
    "duration": 34,
    "start_time": "2022-04-21T15:31:36.553Z"
   },
   {
    "duration": 9,
    "start_time": "2022-04-21T15:31:36.589Z"
   },
   {
    "duration": 83,
    "start_time": "2022-04-21T15:31:36.601Z"
   },
   {
    "duration": 41,
    "start_time": "2022-04-21T15:31:36.687Z"
   },
   {
    "duration": 12,
    "start_time": "2022-04-21T15:31:36.731Z"
   },
   {
    "duration": 83,
    "start_time": "2022-04-21T15:31:36.746Z"
   },
   {
    "duration": 21,
    "start_time": "2022-04-21T15:31:36.831Z"
   },
   {
    "duration": 23,
    "start_time": "2022-04-21T15:31:36.856Z"
   },
   {
    "duration": 64,
    "start_time": "2022-04-21T15:31:36.884Z"
   },
   {
    "duration": 8,
    "start_time": "2022-04-21T15:31:36.951Z"
   },
   {
    "duration": 18,
    "start_time": "2022-04-21T15:31:36.962Z"
   },
   {
    "duration": 10,
    "start_time": "2022-04-21T15:31:36.983Z"
   },
   {
    "duration": 67,
    "start_time": "2022-04-21T15:31:37.025Z"
   },
   {
    "duration": 33,
    "start_time": "2022-04-21T15:31:37.096Z"
   },
   {
    "duration": 459,
    "start_time": "2022-04-21T15:31:37.132Z"
   },
   {
    "duration": 38211,
    "start_time": "2022-04-21T15:31:37.594Z"
   },
   {
    "duration": 9740,
    "start_time": "2022-04-21T15:32:15.807Z"
   },
   {
    "duration": 19,
    "start_time": "2022-04-21T15:32:25.628Z"
   },
   {
    "duration": 83,
    "start_time": "2022-04-21T15:32:25.650Z"
   },
   {
    "duration": 11,
    "start_time": "2022-04-21T15:32:25.738Z"
   },
   {
    "duration": 23,
    "start_time": "2022-04-21T15:32:25.751Z"
   },
   {
    "duration": 51,
    "start_time": "2022-04-21T15:32:25.776Z"
   },
   {
    "duration": 21,
    "start_time": "2022-04-21T15:32:25.829Z"
   },
   {
    "duration": 398,
    "start_time": "2022-04-21T15:32:25.852Z"
   },
   {
    "duration": 21485,
    "start_time": "2022-04-21T15:32:26.253Z"
   },
   {
    "duration": 6187,
    "start_time": "2022-04-21T15:32:47.740Z"
   },
   {
    "duration": 102,
    "start_time": "2022-04-21T15:32:53.936Z"
   },
   {
    "duration": 216,
    "start_time": "2022-04-21T15:32:54.040Z"
   },
   {
    "duration": 3250,
    "start_time": "2022-04-21T15:33:03.496Z"
   },
   {
    "duration": 33,
    "start_time": "2022-04-21T15:33:08.785Z"
   },
   {
    "duration": 8,
    "start_time": "2022-04-21T15:33:10.160Z"
   },
   {
    "duration": 46,
    "start_time": "2022-04-21T15:33:11.201Z"
   },
   {
    "duration": 33,
    "start_time": "2022-04-21T15:33:19.161Z"
   },
   {
    "duration": 32,
    "start_time": "2022-04-21T15:33:27.304Z"
   },
   {
    "duration": 1982,
    "start_time": "2022-04-21T15:33:57.057Z"
   },
   {
    "duration": 25,
    "start_time": "2022-04-21T15:34:01.384Z"
   },
   {
    "duration": 13,
    "start_time": "2022-04-21T15:34:13.450Z"
   },
   {
    "duration": 26,
    "start_time": "2022-04-21T15:34:15.233Z"
   },
   {
    "duration": 34,
    "start_time": "2022-04-21T15:35:14.704Z"
   },
   {
    "duration": 1741,
    "start_time": "2022-04-21T15:35:42.503Z"
   },
   {
    "duration": 1907,
    "start_time": "2022-04-21T15:36:08.880Z"
   },
   {
    "duration": 1787,
    "start_time": "2022-04-21T15:37:05.351Z"
   },
   {
    "duration": 30,
    "start_time": "2022-04-21T15:37:54.246Z"
   },
   {
    "duration": 4,
    "start_time": "2022-04-21T15:38:04.936Z"
   },
   {
    "duration": 9,
    "start_time": "2022-04-21T15:38:30.991Z"
   },
   {
    "duration": 39,
    "start_time": "2022-04-21T15:38:59.631Z"
   },
   {
    "duration": 18,
    "start_time": "2022-04-21T15:39:16.054Z"
   },
   {
    "duration": 5,
    "start_time": "2022-04-21T15:42:01.916Z"
   },
   {
    "duration": 17,
    "start_time": "2022-04-21T15:42:06.164Z"
   },
   {
    "duration": 1763,
    "start_time": "2022-04-21T15:43:00.701Z"
   },
   {
    "duration": 18,
    "start_time": "2022-04-21T15:43:58.484Z"
   },
   {
    "duration": 18,
    "start_time": "2022-04-21T15:44:00.812Z"
   },
   {
    "duration": 25,
    "start_time": "2022-04-21T15:45:45.394Z"
   },
   {
    "duration": 12,
    "start_time": "2022-04-21T15:46:12.042Z"
   },
   {
    "duration": 12,
    "start_time": "2022-04-21T15:46:18.082Z"
   },
   {
    "duration": 19,
    "start_time": "2022-04-21T15:46:22.010Z"
   },
   {
    "duration": 19,
    "start_time": "2022-04-21T15:46:33.458Z"
   },
   {
    "duration": 1603,
    "start_time": "2022-04-21T15:46:47.420Z"
   },
   {
    "duration": 44,
    "start_time": "2022-04-21T15:46:49.028Z"
   },
   {
    "duration": 9,
    "start_time": "2022-04-21T15:46:49.074Z"
   },
   {
    "duration": 55,
    "start_time": "2022-04-21T15:46:49.086Z"
   },
   {
    "duration": 21,
    "start_time": "2022-04-21T15:46:49.143Z"
   },
   {
    "duration": 8,
    "start_time": "2022-04-21T15:46:49.166Z"
   },
   {
    "duration": 78,
    "start_time": "2022-04-21T15:46:49.177Z"
   },
   {
    "duration": 18,
    "start_time": "2022-04-21T15:46:49.257Z"
   },
   {
    "duration": 57,
    "start_time": "2022-04-21T15:46:49.277Z"
   },
   {
    "duration": 24,
    "start_time": "2022-04-21T15:46:49.338Z"
   },
   {
    "duration": 17,
    "start_time": "2022-04-21T15:46:49.364Z"
   },
   {
    "duration": 14,
    "start_time": "2022-04-21T15:46:49.383Z"
   },
   {
    "duration": 8,
    "start_time": "2022-04-21T15:46:49.434Z"
   },
   {
    "duration": 14,
    "start_time": "2022-04-21T15:46:49.444Z"
   },
   {
    "duration": 9,
    "start_time": "2022-04-21T15:46:49.460Z"
   },
   {
    "duration": 198,
    "start_time": "2022-04-21T15:46:49.472Z"
   },
   {
    "duration": 0,
    "start_time": "2022-04-21T15:46:49.674Z"
   },
   {
    "duration": 0,
    "start_time": "2022-04-21T15:46:49.675Z"
   },
   {
    "duration": 0,
    "start_time": "2022-04-21T15:46:49.678Z"
   },
   {
    "duration": 0,
    "start_time": "2022-04-21T15:46:49.680Z"
   },
   {
    "duration": 0,
    "start_time": "2022-04-21T15:46:49.682Z"
   },
   {
    "duration": 0,
    "start_time": "2022-04-21T15:46:49.684Z"
   },
   {
    "duration": 0,
    "start_time": "2022-04-21T15:46:49.686Z"
   },
   {
    "duration": 1,
    "start_time": "2022-04-21T15:46:49.688Z"
   },
   {
    "duration": 0,
    "start_time": "2022-04-21T15:46:49.690Z"
   },
   {
    "duration": 0,
    "start_time": "2022-04-21T15:46:49.692Z"
   },
   {
    "duration": 0,
    "start_time": "2022-04-21T15:46:49.727Z"
   },
   {
    "duration": 0,
    "start_time": "2022-04-21T15:46:49.729Z"
   },
   {
    "duration": 0,
    "start_time": "2022-04-21T15:46:49.731Z"
   },
   {
    "duration": 0,
    "start_time": "2022-04-21T15:46:49.732Z"
   },
   {
    "duration": 0,
    "start_time": "2022-04-21T15:46:49.734Z"
   },
   {
    "duration": 0,
    "start_time": "2022-04-21T15:46:49.736Z"
   },
   {
    "duration": 0,
    "start_time": "2022-04-21T15:46:49.737Z"
   },
   {
    "duration": 0,
    "start_time": "2022-04-21T15:46:49.740Z"
   },
   {
    "duration": 0,
    "start_time": "2022-04-21T15:46:49.742Z"
   },
   {
    "duration": 0,
    "start_time": "2022-04-21T15:46:49.744Z"
   },
   {
    "duration": 0,
    "start_time": "2022-04-21T15:46:49.746Z"
   },
   {
    "duration": 0,
    "start_time": "2022-04-21T15:46:49.748Z"
   },
   {
    "duration": 19,
    "start_time": "2022-04-21T15:47:07.746Z"
   },
   {
    "duration": 30,
    "start_time": "2022-04-21T15:47:45.291Z"
   },
   {
    "duration": 23,
    "start_time": "2022-04-21T15:47:49.570Z"
   },
   {
    "duration": 24,
    "start_time": "2022-04-21T15:48:16.475Z"
   },
   {
    "duration": 35,
    "start_time": "2022-04-21T15:48:17.755Z"
   },
   {
    "duration": 1774,
    "start_time": "2022-04-21T15:48:56.087Z"
   },
   {
    "duration": 37,
    "start_time": "2022-04-21T15:48:57.864Z"
   },
   {
    "duration": 22,
    "start_time": "2022-04-21T15:48:57.904Z"
   },
   {
    "duration": 63,
    "start_time": "2022-04-21T15:48:57.929Z"
   },
   {
    "duration": 19,
    "start_time": "2022-04-21T15:48:57.995Z"
   },
   {
    "duration": 11,
    "start_time": "2022-04-21T15:48:58.027Z"
   },
   {
    "duration": 65,
    "start_time": "2022-04-21T15:48:58.041Z"
   },
   {
    "duration": 28,
    "start_time": "2022-04-21T15:48:58.108Z"
   },
   {
    "duration": 41,
    "start_time": "2022-04-21T15:48:58.139Z"
   },
   {
    "duration": 43,
    "start_time": "2022-04-21T15:48:58.185Z"
   },
   {
    "duration": 38,
    "start_time": "2022-04-21T15:48:58.232Z"
   },
   {
    "duration": 53,
    "start_time": "2022-04-21T15:48:58.272Z"
   },
   {
    "duration": 9,
    "start_time": "2022-04-21T15:48:58.327Z"
   },
   {
    "duration": 33,
    "start_time": "2022-04-21T15:48:58.339Z"
   },
   {
    "duration": 8,
    "start_time": "2022-04-21T15:48:58.375Z"
   },
   {
    "duration": 200,
    "start_time": "2022-04-21T15:48:58.386Z"
   },
   {
    "duration": 0,
    "start_time": "2022-04-21T15:48:58.589Z"
   },
   {
    "duration": 0,
    "start_time": "2022-04-21T15:48:58.591Z"
   },
   {
    "duration": 0,
    "start_time": "2022-04-21T15:48:58.593Z"
   },
   {
    "duration": 0,
    "start_time": "2022-04-21T15:48:58.594Z"
   },
   {
    "duration": 0,
    "start_time": "2022-04-21T15:48:58.595Z"
   },
   {
    "duration": 0,
    "start_time": "2022-04-21T15:48:58.597Z"
   },
   {
    "duration": 0,
    "start_time": "2022-04-21T15:48:58.598Z"
   },
   {
    "duration": 0,
    "start_time": "2022-04-21T15:48:58.600Z"
   },
   {
    "duration": 0,
    "start_time": "2022-04-21T15:48:58.601Z"
   },
   {
    "duration": 0,
    "start_time": "2022-04-21T15:48:58.602Z"
   },
   {
    "duration": 0,
    "start_time": "2022-04-21T15:48:58.604Z"
   },
   {
    "duration": 0,
    "start_time": "2022-04-21T15:48:58.629Z"
   },
   {
    "duration": 0,
    "start_time": "2022-04-21T15:48:58.635Z"
   },
   {
    "duration": 0,
    "start_time": "2022-04-21T15:48:58.640Z"
   },
   {
    "duration": 0,
    "start_time": "2022-04-21T15:48:58.642Z"
   },
   {
    "duration": 0,
    "start_time": "2022-04-21T15:48:58.645Z"
   },
   {
    "duration": 0,
    "start_time": "2022-04-21T15:48:58.649Z"
   },
   {
    "duration": 0,
    "start_time": "2022-04-21T15:48:58.651Z"
   },
   {
    "duration": 0,
    "start_time": "2022-04-21T15:48:58.652Z"
   },
   {
    "duration": 0,
    "start_time": "2022-04-21T15:48:58.653Z"
   },
   {
    "duration": 0,
    "start_time": "2022-04-21T15:48:58.654Z"
   },
   {
    "duration": 0,
    "start_time": "2022-04-21T15:48:58.656Z"
   },
   {
    "duration": 1540,
    "start_time": "2022-04-21T15:51:45.671Z"
   },
   {
    "duration": 38,
    "start_time": "2022-04-21T15:51:47.214Z"
   },
   {
    "duration": 9,
    "start_time": "2022-04-21T15:51:47.254Z"
   },
   {
    "duration": 61,
    "start_time": "2022-04-21T15:51:47.266Z"
   },
   {
    "duration": 20,
    "start_time": "2022-04-21T15:51:47.330Z"
   },
   {
    "duration": 6,
    "start_time": "2022-04-21T15:51:47.353Z"
   },
   {
    "duration": 87,
    "start_time": "2022-04-21T15:51:47.361Z"
   },
   {
    "duration": 17,
    "start_time": "2022-04-21T15:51:47.450Z"
   },
   {
    "duration": 57,
    "start_time": "2022-04-21T15:51:47.469Z"
   },
   {
    "duration": 22,
    "start_time": "2022-04-21T15:51:47.530Z"
   },
   {
    "duration": 33,
    "start_time": "2022-04-21T15:51:47.554Z"
   },
   {
    "duration": 71,
    "start_time": "2022-04-21T15:51:47.590Z"
   },
   {
    "duration": 7,
    "start_time": "2022-04-21T15:51:47.663Z"
   },
   {
    "duration": 16,
    "start_time": "2022-04-21T15:51:47.673Z"
   },
   {
    "duration": 8,
    "start_time": "2022-04-21T15:51:47.692Z"
   },
   {
    "duration": 53,
    "start_time": "2022-04-21T15:51:47.725Z"
   },
   {
    "duration": 47,
    "start_time": "2022-04-21T15:51:47.780Z"
   },
   {
    "duration": 354,
    "start_time": "2022-04-21T15:51:47.830Z"
   },
   {
    "duration": 98013,
    "start_time": "2022-04-21T15:51:48.187Z"
   },
   {
    "duration": 15941,
    "start_time": "2022-04-21T15:53:26.202Z"
   },
   {
    "duration": 187,
    "start_time": "2022-04-21T15:53:42.146Z"
   },
   {
    "duration": 12,
    "start_time": "2022-04-21T15:53:42.336Z"
   },
   {
    "duration": 12,
    "start_time": "2022-04-21T15:53:42.350Z"
   },
   {
    "duration": 21,
    "start_time": "2022-04-21T15:53:42.364Z"
   },
   {
    "duration": 41,
    "start_time": "2022-04-21T15:53:42.387Z"
   },
   {
    "duration": 19,
    "start_time": "2022-04-21T15:53:42.430Z"
   },
   {
    "duration": 426,
    "start_time": "2022-04-21T15:53:42.452Z"
   },
   {
    "duration": 25963,
    "start_time": "2022-04-21T15:53:42.882Z"
   },
   {
    "duration": 9178,
    "start_time": "2022-04-21T15:54:08.847Z"
   },
   {
    "duration": 115,
    "start_time": "2022-04-21T15:54:18.028Z"
   },
   {
    "duration": 216,
    "start_time": "2022-04-21T15:54:18.145Z"
   },
   {
    "duration": 11333,
    "start_time": "2022-04-21T15:54:18.363Z"
   },
   {
    "duration": 5538,
    "start_time": "2022-04-21T15:54:29.698Z"
   },
   {
    "duration": 108,
    "start_time": "2022-04-21T15:54:35.243Z"
   },
   {
    "duration": 23,
    "start_time": "2022-04-21T15:54:35.353Z"
   },
   {
    "duration": 96,
    "start_time": "2022-04-21T15:54:35.378Z"
   },
   {
    "duration": 65,
    "start_time": "2022-04-21T15:54:35.477Z"
   },
   {
    "duration": 108,
    "start_time": "2022-04-21T15:54:35.629Z"
   },
   {
    "duration": 33,
    "start_time": "2022-04-21T15:57:52.842Z"
   }
  ],
  "kernelspec": {
   "display_name": "Python 3 (ipykernel)",
   "language": "python",
   "name": "python3"
  },
  "language_info": {
   "codemirror_mode": {
    "name": "ipython",
    "version": 3
   },
   "file_extension": ".py",
   "mimetype": "text/x-python",
   "name": "python",
   "nbconvert_exporter": "python",
   "pygments_lexer": "ipython3",
   "version": "3.9.13"
  },
  "toc": {
   "base_numbering": 1,
   "nav_menu": {},
   "number_sections": true,
   "sideBar": true,
   "skip_h1_title": true,
   "title_cell": "Содержание",
   "title_sidebar": "Contents",
   "toc_cell": true,
   "toc_position": {
    "height": "calc(100% - 180px)",
    "left": "10px",
    "top": "150px",
    "width": "254.797px"
   },
   "toc_section_display": true,
   "toc_window_display": true
  }
 },
 "nbformat": 4,
 "nbformat_minor": 4
}
