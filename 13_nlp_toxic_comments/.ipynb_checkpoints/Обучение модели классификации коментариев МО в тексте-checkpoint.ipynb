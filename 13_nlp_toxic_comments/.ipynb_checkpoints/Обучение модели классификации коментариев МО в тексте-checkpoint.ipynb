{
 "cells": [
  {
   "cell_type": "markdown",
   "metadata": {
    "toc": true
   },
   "source": [
    "<h1>Содержание<span class=\"tocSkip\"></span></h1><br>\n",
    "<div class=\"toc\"><ul class=\"toc-item\"><li><span><a href=\"#Подготовка\" data-toc-modified-id=\"Подготовка-1\"><span class=\"toc-item-num\">1&nbsp;&nbsp;</span>Подготовка</a></span><ul class=\"toc-item\"><li><span><a href=\"#Вывод\" data-toc-modified-id=\"Вывод-1.1\"><span class=\"toc-item-num\">1.1&nbsp;&nbsp;</span>Вывод</a></span></li></ul></li><li><span><a href=\"#Обучение\" data-toc-modified-id=\"Обучение-2\"><span class=\"toc-item-num\">2&nbsp;&nbsp;</span>Обучение</a></span><ul class=\"toc-item\"><li><span><a href=\"#Вывод\" data-toc-modified-id=\"Вывод-2.1\"><span class=\"toc-item-num\">2.1&nbsp;&nbsp;</span>Вывод</a></span></li></ul></li><li><span><a href=\"#Выводы\" data-toc-modified-id=\"Выводы-3\"><span class=\"toc-item-num\">3&nbsp;&nbsp;</span>Выводы</a></span><ul class=\"toc-item\"><li><span><a href=\"#Вывод\" data-toc-modified-id=\"Вывод-3.1\"><span class=\"toc-item-num\">3.1&nbsp;&nbsp;</span>Вывод</a></span></li></ul></li><li><span><a href=\"#Чек-лист-проверки\" data-toc-modified-id=\"Чек-лист-проверки-4\"><span class=\"toc-item-num\">4&nbsp;&nbsp;</span>Чек-лист проверки</a></span></li></ul></div>"
   ]
  },
  {
   "cell_type": "markdown",
   "metadata": {},
   "source": [
    "# Проект для «Викишоп»"
   ]
  },
  {
   "cell_type": "markdown",
   "metadata": {},
   "source": [
    "Интернет-магазин «Викишоп» запускает новый сервис. Теперь пользователи могут редактировать и дополнять описания товаров, как в вики-сообществах. То есть клиенты предлагают свои правки и комментируют изменения других. Магазину нужен инструмент, который будет искать токсичные комментарии и отправлять их на модерацию. \n",
    "\n",
    "Необходимо обучить модель классифицировать комментарии на позитивные и негативные. В нашем распоряжении набор данных с разметкой о токсичности правок.\n",
    "\n",
    "Необходимо построить модель со значением метрики качества *F1* не меньше 0.75. \n",
    "\n",
    "**Инструкция по выполнению проекта**\n",
    "\n",
    "1. Загрузите и подготовьте данные.\n",
    "2. Обучите разные модели. \n",
    "3. Сделайте выводы.\n",
    "\n",
    "\n",
    "**Описание данных**\n",
    "\n",
    "Данные находятся в файле `toxic_comments.csv`. Столбец *text* в нём содержит текст комментария, а *toxic* — целевой признак."
   ]
  },
  {
   "cell_type": "markdown",
   "metadata": {},
   "source": [
    "## Подготовка"
   ]
  },
  {
   "cell_type": "markdown",
   "metadata": {},
   "source": [
    "Импортируем необходимые библиотеки"
   ]
  },
  {
   "cell_type": "code",
   "execution_count": 2,
   "metadata": {},
   "outputs": [],
   "source": [
    "import time\n",
    "import pandas as pd\n",
    "import numpy as np\n",
    "import nltk\n",
    "from sklearn.utils import shuffle\n",
    "from nltk.corpus import stopwords as nltk_stopwords\n",
    "from sklearn.feature_extraction.text import TfidfVectorizer \n",
    "from nltk.stem import WordNetLemmatizer\n",
    "import re \n",
    "from sklearn.model_selection import KFold, RepeatedKFold, train_test_split, GridSearchCV, cross_val_score\n",
    "from sklearn.linear_model import LogisticRegression\n",
    "from sklearn.metrics import f1_score\n",
    "from sklearn.metrics import accuracy_score\n",
    "from catboost import CatBoostClassifier\n",
    "from catboost import cv, Pool\n",
    "from sklearn.pipeline import make_pipeline, Pipeline \n",
    "from sklearn.dummy import DummyClassifier\n",
    "import warnings\n",
    "warnings.filterwarnings('ignore')"
   ]
  },
  {
   "cell_type": "markdown",
   "metadata": {},
   "source": [
    "Загрузим и посмотрим данные"
   ]
  },
  {
   "cell_type": "code",
   "execution_count": 3,
   "metadata": {
    "scrolled": false
   },
   "outputs": [],
   "source": [
    "df = pd.read_csv('https://code.s3.yandex.net/datasets/toxic_comments.csv')"
   ]
  },
  {
   "cell_type": "markdown",
   "metadata": {},
   "source": [
    "Проверим информацию о данных"
   ]
  },
  {
   "cell_type": "code",
   "execution_count": 4,
   "metadata": {},
   "outputs": [
    {
     "name": "stdout",
     "output_type": "stream",
     "text": [
      "<class 'pandas.core.frame.DataFrame'>\n",
      "RangeIndex: 159292 entries, 0 to 159291\n",
      "Data columns (total 3 columns):\n",
      " #   Column      Non-Null Count   Dtype \n",
      "---  ------      --------------   ----- \n",
      " 0   Unnamed: 0  159292 non-null  int64 \n",
      " 1   text        159292 non-null  object\n",
      " 2   toxic       159292 non-null  int64 \n",
      "dtypes: int64(2), object(1)\n",
      "memory usage: 3.6+ MB\n"
     ]
    }
   ],
   "source": [
    "df.info()"
   ]
  },
  {
   "cell_type": "markdown",
   "metadata": {},
   "source": [
    "Проверим баланс классов"
   ]
  },
  {
   "cell_type": "code",
   "execution_count": 5,
   "metadata": {},
   "outputs": [
    {
     "data": {
      "text/plain": [
       "0.10161213369158527"
      ]
     },
     "execution_count": 5,
     "metadata": {},
     "output_type": "execute_result"
    }
   ],
   "source": [
    "df['toxic'].mean()"
   ]
  },
  {
   "cell_type": "markdown",
   "metadata": {},
   "source": [
    "Создадим функцию для лемматизации"
   ]
  },
  {
   "cell_type": "code",
   "execution_count": 6,
   "metadata": {},
   "outputs": [],
   "source": [
    "def lemmatize(text):\n",
    "    m = WordNetLemmatizer()\n",
    "    l = m.lemmatize(text)\n",
    "    return \"\".join(l)"
   ]
  },
  {
   "cell_type": "markdown",
   "metadata": {},
   "source": [
    "Создадим функцию для очистки текста"
   ]
  },
  {
   "cell_type": "code",
   "execution_count": 7,
   "metadata": {},
   "outputs": [],
   "source": [
    "def clear_text(text):\n",
    "    clear_text = re.sub(r'[^a-zA-Z ]', ' ', text).split()\n",
    "    clear_text = ' '.join(clear_text).lower()\n",
    "    return(clear_text)"
   ]
  },
  {
   "cell_type": "markdown",
   "metadata": {},
   "source": [
    "Загрузим список стоп-слов"
   ]
  },
  {
   "cell_type": "code",
   "execution_count": 8,
   "metadata": {
    "scrolled": true
   },
   "outputs": [
    {
     "name": "stderr",
     "output_type": "stream",
     "text": [
      "[nltk_data] Downloading package stopwords to\n",
      "[nltk_data]     C:\\Users\\yazev\\AppData\\Roaming\\nltk_data...\n",
      "[nltk_data]   Unzipping corpora\\stopwords.zip.\n"
     ]
    },
    {
     "data": {
      "text/plain": [
       "True"
      ]
     },
     "execution_count": 8,
     "metadata": {},
     "output_type": "execute_result"
    }
   ],
   "source": [
    "nltk.download('stopwords')"
   ]
  },
  {
   "cell_type": "markdown",
   "metadata": {},
   "source": [
    "Сохраним английские стоп слова в переменной"
   ]
  },
  {
   "cell_type": "code",
   "execution_count": 9,
   "metadata": {},
   "outputs": [],
   "source": [
    "stopwords = set(nltk_stopwords.words('english'))"
   ]
  },
  {
   "cell_type": "markdown",
   "metadata": {},
   "source": [
    "Очистим текст от слишком коротких слов"
   ]
  },
  {
   "cell_type": "code",
   "execution_count": 10,
   "metadata": {},
   "outputs": [],
   "source": [
    "df['text'] = df['text'].apply(clear_text)"
   ]
  },
  {
   "cell_type": "markdown",
   "metadata": {},
   "source": [
    "Проверим наличие дубликатов"
   ]
  },
  {
   "cell_type": "code",
   "execution_count": 11,
   "metadata": {
    "scrolled": true
   },
   "outputs": [
    {
     "data": {
      "text/plain": [
       "0"
      ]
     },
     "execution_count": 11,
     "metadata": {},
     "output_type": "execute_result"
    }
   ],
   "source": [
    "df.duplicated().sum()"
   ]
  },
  {
   "cell_type": "markdown",
   "metadata": {},
   "source": [
    "Удалим полные дубликаты"
   ]
  },
  {
   "cell_type": "code",
   "execution_count": 12,
   "metadata": {
    "scrolled": true
   },
   "outputs": [
    {
     "data": {
      "text/plain": [
       "0"
      ]
     },
     "execution_count": 12,
     "metadata": {},
     "output_type": "execute_result"
    }
   ],
   "source": [
    "df.drop_duplicates(inplace=True)\n",
    "df.duplicated().sum()"
   ]
  },
  {
   "cell_type": "markdown",
   "metadata": {},
   "source": [
    "Проведем лемматизацию"
   ]
  },
  {
   "cell_type": "code",
   "execution_count": 13,
   "metadata": {},
   "outputs": [
    {
     "ename": "LookupError",
     "evalue": "\n**********************************************************************\n  Resource \u001b[93mwordnet\u001b[0m not found.\n  Please use the NLTK Downloader to obtain the resource:\n\n  \u001b[31m>>> import nltk\n  >>> nltk.download('wordnet')\n  \u001b[0m\n  For more information see: https://www.nltk.org/data.html\n\n  Attempted to load \u001b[93mcorpora/wordnet\u001b[0m\n\n  Searched in:\n    - 'C:\\\\Users\\\\yazev/nltk_data'\n    - 'C:\\\\Program Files\\\\WindowsApps\\\\PythonSoftwareFoundation.Python.3.8_3.8.2800.0_x64__qbz5n2kfra8p0\\\\nltk_data'\n    - 'C:\\\\Program Files\\\\WindowsApps\\\\PythonSoftwareFoundation.Python.3.8_3.8.2800.0_x64__qbz5n2kfra8p0\\\\share\\\\nltk_data'\n    - 'C:\\\\Program Files\\\\WindowsApps\\\\PythonSoftwareFoundation.Python.3.8_3.8.2800.0_x64__qbz5n2kfra8p0\\\\lib\\\\nltk_data'\n    - 'C:\\\\Users\\\\yazev\\\\AppData\\\\Roaming\\\\nltk_data'\n    - 'C:\\\\nltk_data'\n    - 'D:\\\\nltk_data'\n    - 'E:\\\\nltk_data'\n**********************************************************************\n",
     "output_type": "error",
     "traceback": [
      "\u001b[1;31m---------------------------------------------------------------------------\u001b[0m",
      "\u001b[1;31mLookupError\u001b[0m                               Traceback (most recent call last)",
      "File \u001b[1;32m~\\AppData\\Local\\Packages\\PythonSoftwareFoundation.Python.3.8_qbz5n2kfra8p0\\LocalCache\\local-packages\\Python38\\site-packages\\nltk\\corpus\\util.py:84\u001b[0m, in \u001b[0;36mLazyCorpusLoader.__load\u001b[1;34m(self)\u001b[0m\n\u001b[0;32m     83\u001b[0m \u001b[38;5;28;01mtry\u001b[39;00m:\n\u001b[1;32m---> 84\u001b[0m     root \u001b[38;5;241m=\u001b[39m \u001b[43mnltk\u001b[49m\u001b[38;5;241;43m.\u001b[39;49m\u001b[43mdata\u001b[49m\u001b[38;5;241;43m.\u001b[39;49m\u001b[43mfind\u001b[49m\u001b[43m(\u001b[49m\u001b[38;5;124;43mf\u001b[39;49m\u001b[38;5;124;43m\"\u001b[39;49m\u001b[38;5;132;43;01m{\u001b[39;49;00m\u001b[38;5;28;43mself\u001b[39;49m\u001b[38;5;241;43m.\u001b[39;49m\u001b[43msubdir\u001b[49m\u001b[38;5;132;43;01m}\u001b[39;49;00m\u001b[38;5;124;43m/\u001b[39;49m\u001b[38;5;132;43;01m{\u001b[39;49;00m\u001b[43mzip_name\u001b[49m\u001b[38;5;132;43;01m}\u001b[39;49;00m\u001b[38;5;124;43m\"\u001b[39;49m\u001b[43m)\u001b[49m\n\u001b[0;32m     85\u001b[0m \u001b[38;5;28;01mexcept\u001b[39;00m \u001b[38;5;167;01mLookupError\u001b[39;00m:\n",
      "File \u001b[1;32m~\\AppData\\Local\\Packages\\PythonSoftwareFoundation.Python.3.8_qbz5n2kfra8p0\\LocalCache\\local-packages\\Python38\\site-packages\\nltk\\data.py:583\u001b[0m, in \u001b[0;36mfind\u001b[1;34m(resource_name, paths)\u001b[0m\n\u001b[0;32m    582\u001b[0m resource_not_found \u001b[38;5;241m=\u001b[39m \u001b[38;5;124mf\u001b[39m\u001b[38;5;124m\"\u001b[39m\u001b[38;5;130;01m\\n\u001b[39;00m\u001b[38;5;132;01m{\u001b[39;00msep\u001b[38;5;132;01m}\u001b[39;00m\u001b[38;5;130;01m\\n\u001b[39;00m\u001b[38;5;132;01m{\u001b[39;00mmsg\u001b[38;5;132;01m}\u001b[39;00m\u001b[38;5;130;01m\\n\u001b[39;00m\u001b[38;5;132;01m{\u001b[39;00msep\u001b[38;5;132;01m}\u001b[39;00m\u001b[38;5;130;01m\\n\u001b[39;00m\u001b[38;5;124m\"\u001b[39m\n\u001b[1;32m--> 583\u001b[0m \u001b[38;5;28;01mraise\u001b[39;00m \u001b[38;5;167;01mLookupError\u001b[39;00m(resource_not_found)\n",
      "\u001b[1;31mLookupError\u001b[0m: \n**********************************************************************\n  Resource \u001b[93mwordnet\u001b[0m not found.\n  Please use the NLTK Downloader to obtain the resource:\n\n  \u001b[31m>>> import nltk\n  >>> nltk.download('wordnet')\n  \u001b[0m\n  For more information see: https://www.nltk.org/data.html\n\n  Attempted to load \u001b[93mcorpora/wordnet.zip/wordnet/\u001b[0m\n\n  Searched in:\n    - 'C:\\\\Users\\\\yazev/nltk_data'\n    - 'C:\\\\Program Files\\\\WindowsApps\\\\PythonSoftwareFoundation.Python.3.8_3.8.2800.0_x64__qbz5n2kfra8p0\\\\nltk_data'\n    - 'C:\\\\Program Files\\\\WindowsApps\\\\PythonSoftwareFoundation.Python.3.8_3.8.2800.0_x64__qbz5n2kfra8p0\\\\share\\\\nltk_data'\n    - 'C:\\\\Program Files\\\\WindowsApps\\\\PythonSoftwareFoundation.Python.3.8_3.8.2800.0_x64__qbz5n2kfra8p0\\\\lib\\\\nltk_data'\n    - 'C:\\\\Users\\\\yazev\\\\AppData\\\\Roaming\\\\nltk_data'\n    - 'C:\\\\nltk_data'\n    - 'D:\\\\nltk_data'\n    - 'E:\\\\nltk_data'\n**********************************************************************\n",
      "\nDuring handling of the above exception, another exception occurred:\n",
      "\u001b[1;31mLookupError\u001b[0m                               Traceback (most recent call last)",
      "Input \u001b[1;32mIn [13]\u001b[0m, in \u001b[0;36m<cell line: 1>\u001b[1;34m()\u001b[0m\n\u001b[1;32m----> 1\u001b[0m df[\u001b[38;5;124m'\u001b[39m\u001b[38;5;124mtext\u001b[39m\u001b[38;5;124m'\u001b[39m] \u001b[38;5;241m=\u001b[39m \u001b[43mdf\u001b[49m\u001b[43m[\u001b[49m\u001b[38;5;124;43m'\u001b[39;49m\u001b[38;5;124;43mtext\u001b[39;49m\u001b[38;5;124;43m'\u001b[39;49m\u001b[43m]\u001b[49m\u001b[38;5;241;43m.\u001b[39;49m\u001b[43mapply\u001b[49m\u001b[43m(\u001b[49m\u001b[43mlemmatize\u001b[49m\u001b[43m)\u001b[49m\n\u001b[0;32m      2\u001b[0m df\n",
      "File \u001b[1;32m~\\AppData\\Local\\Packages\\PythonSoftwareFoundation.Python.3.8_qbz5n2kfra8p0\\LocalCache\\local-packages\\Python38\\site-packages\\pandas\\core\\series.py:4433\u001b[0m, in \u001b[0;36mSeries.apply\u001b[1;34m(self, func, convert_dtype, args, **kwargs)\u001b[0m\n\u001b[0;32m   4323\u001b[0m \u001b[38;5;28;01mdef\u001b[39;00m \u001b[38;5;21mapply\u001b[39m(\n\u001b[0;32m   4324\u001b[0m     \u001b[38;5;28mself\u001b[39m,\n\u001b[0;32m   4325\u001b[0m     func: AggFuncType,\n\u001b[1;32m   (...)\u001b[0m\n\u001b[0;32m   4328\u001b[0m     \u001b[38;5;241m*\u001b[39m\u001b[38;5;241m*\u001b[39mkwargs,\n\u001b[0;32m   4329\u001b[0m ) \u001b[38;5;241m-\u001b[39m\u001b[38;5;241m>\u001b[39m DataFrame \u001b[38;5;241m|\u001b[39m Series:\n\u001b[0;32m   4330\u001b[0m     \u001b[38;5;124;03m\"\"\"\u001b[39;00m\n\u001b[0;32m   4331\u001b[0m \u001b[38;5;124;03m    Invoke function on values of Series.\u001b[39;00m\n\u001b[0;32m   4332\u001b[0m \n\u001b[1;32m   (...)\u001b[0m\n\u001b[0;32m   4431\u001b[0m \u001b[38;5;124;03m    dtype: float64\u001b[39;00m\n\u001b[0;32m   4432\u001b[0m \u001b[38;5;124;03m    \"\"\"\u001b[39;00m\n\u001b[1;32m-> 4433\u001b[0m     \u001b[38;5;28;01mreturn\u001b[39;00m \u001b[43mSeriesApply\u001b[49m\u001b[43m(\u001b[49m\u001b[38;5;28;43mself\u001b[39;49m\u001b[43m,\u001b[49m\u001b[43m \u001b[49m\u001b[43mfunc\u001b[49m\u001b[43m,\u001b[49m\u001b[43m \u001b[49m\u001b[43mconvert_dtype\u001b[49m\u001b[43m,\u001b[49m\u001b[43m \u001b[49m\u001b[43margs\u001b[49m\u001b[43m,\u001b[49m\u001b[43m \u001b[49m\u001b[43mkwargs\u001b[49m\u001b[43m)\u001b[49m\u001b[38;5;241;43m.\u001b[39;49m\u001b[43mapply\u001b[49m\u001b[43m(\u001b[49m\u001b[43m)\u001b[49m\n",
      "File \u001b[1;32m~\\AppData\\Local\\Packages\\PythonSoftwareFoundation.Python.3.8_qbz5n2kfra8p0\\LocalCache\\local-packages\\Python38\\site-packages\\pandas\\core\\apply.py:1082\u001b[0m, in \u001b[0;36mSeriesApply.apply\u001b[1;34m(self)\u001b[0m\n\u001b[0;32m   1078\u001b[0m \u001b[38;5;28;01mif\u001b[39;00m \u001b[38;5;28misinstance\u001b[39m(\u001b[38;5;28mself\u001b[39m\u001b[38;5;241m.\u001b[39mf, \u001b[38;5;28mstr\u001b[39m):\n\u001b[0;32m   1079\u001b[0m     \u001b[38;5;66;03m# if we are a string, try to dispatch\u001b[39;00m\n\u001b[0;32m   1080\u001b[0m     \u001b[38;5;28;01mreturn\u001b[39;00m \u001b[38;5;28mself\u001b[39m\u001b[38;5;241m.\u001b[39mapply_str()\n\u001b[1;32m-> 1082\u001b[0m \u001b[38;5;28;01mreturn\u001b[39;00m \u001b[38;5;28;43mself\u001b[39;49m\u001b[38;5;241;43m.\u001b[39;49m\u001b[43mapply_standard\u001b[49m\u001b[43m(\u001b[49m\u001b[43m)\u001b[49m\n",
      "File \u001b[1;32m~\\AppData\\Local\\Packages\\PythonSoftwareFoundation.Python.3.8_qbz5n2kfra8p0\\LocalCache\\local-packages\\Python38\\site-packages\\pandas\\core\\apply.py:1137\u001b[0m, in \u001b[0;36mSeriesApply.apply_standard\u001b[1;34m(self)\u001b[0m\n\u001b[0;32m   1131\u001b[0m         values \u001b[38;5;241m=\u001b[39m obj\u001b[38;5;241m.\u001b[39mastype(\u001b[38;5;28mobject\u001b[39m)\u001b[38;5;241m.\u001b[39m_values\n\u001b[0;32m   1132\u001b[0m         \u001b[38;5;66;03m# error: Argument 2 to \"map_infer\" has incompatible type\u001b[39;00m\n\u001b[0;32m   1133\u001b[0m         \u001b[38;5;66;03m# \"Union[Callable[..., Any], str, List[Union[Callable[..., Any], str]],\u001b[39;00m\n\u001b[0;32m   1134\u001b[0m         \u001b[38;5;66;03m# Dict[Hashable, Union[Union[Callable[..., Any], str],\u001b[39;00m\n\u001b[0;32m   1135\u001b[0m         \u001b[38;5;66;03m# List[Union[Callable[..., Any], str]]]]]\"; expected\u001b[39;00m\n\u001b[0;32m   1136\u001b[0m         \u001b[38;5;66;03m# \"Callable[[Any], Any]\"\u001b[39;00m\n\u001b[1;32m-> 1137\u001b[0m         mapped \u001b[38;5;241m=\u001b[39m \u001b[43mlib\u001b[49m\u001b[38;5;241;43m.\u001b[39;49m\u001b[43mmap_infer\u001b[49m\u001b[43m(\u001b[49m\n\u001b[0;32m   1138\u001b[0m \u001b[43m            \u001b[49m\u001b[43mvalues\u001b[49m\u001b[43m,\u001b[49m\n\u001b[0;32m   1139\u001b[0m \u001b[43m            \u001b[49m\u001b[43mf\u001b[49m\u001b[43m,\u001b[49m\u001b[43m  \u001b[49m\u001b[38;5;66;43;03m# type: ignore[arg-type]\u001b[39;49;00m\n\u001b[0;32m   1140\u001b[0m \u001b[43m            \u001b[49m\u001b[43mconvert\u001b[49m\u001b[38;5;241;43m=\u001b[39;49m\u001b[38;5;28;43mself\u001b[39;49m\u001b[38;5;241;43m.\u001b[39;49m\u001b[43mconvert_dtype\u001b[49m\u001b[43m,\u001b[49m\n\u001b[0;32m   1141\u001b[0m \u001b[43m        \u001b[49m\u001b[43m)\u001b[49m\n\u001b[0;32m   1143\u001b[0m \u001b[38;5;28;01mif\u001b[39;00m \u001b[38;5;28mlen\u001b[39m(mapped) \u001b[38;5;129;01mand\u001b[39;00m \u001b[38;5;28misinstance\u001b[39m(mapped[\u001b[38;5;241m0\u001b[39m], ABCSeries):\n\u001b[0;32m   1144\u001b[0m     \u001b[38;5;66;03m# GH#43986 Need to do list(mapped) in order to get treated as nested\u001b[39;00m\n\u001b[0;32m   1145\u001b[0m     \u001b[38;5;66;03m#  See also GH#25959 regarding EA support\u001b[39;00m\n\u001b[0;32m   1146\u001b[0m     \u001b[38;5;28;01mreturn\u001b[39;00m obj\u001b[38;5;241m.\u001b[39m_constructor_expanddim(\u001b[38;5;28mlist\u001b[39m(mapped), index\u001b[38;5;241m=\u001b[39mobj\u001b[38;5;241m.\u001b[39mindex)\n",
      "File \u001b[1;32m~\\AppData\\Local\\Packages\\PythonSoftwareFoundation.Python.3.8_qbz5n2kfra8p0\\LocalCache\\local-packages\\Python38\\site-packages\\pandas\\_libs\\lib.pyx:2870\u001b[0m, in \u001b[0;36mpandas._libs.lib.map_infer\u001b[1;34m()\u001b[0m\n",
      "Input \u001b[1;32mIn [6]\u001b[0m, in \u001b[0;36mlemmatize\u001b[1;34m(text)\u001b[0m\n\u001b[0;32m      1\u001b[0m \u001b[38;5;28;01mdef\u001b[39;00m \u001b[38;5;21mlemmatize\u001b[39m(text):\n\u001b[0;32m      2\u001b[0m     m \u001b[38;5;241m=\u001b[39m WordNetLemmatizer()\n\u001b[1;32m----> 3\u001b[0m     l \u001b[38;5;241m=\u001b[39m \u001b[43mm\u001b[49m\u001b[38;5;241;43m.\u001b[39;49m\u001b[43mlemmatize\u001b[49m\u001b[43m(\u001b[49m\u001b[43mtext\u001b[49m\u001b[43m)\u001b[49m\n\u001b[0;32m      4\u001b[0m     \u001b[38;5;28;01mreturn\u001b[39;00m \u001b[38;5;124m\"\u001b[39m\u001b[38;5;124m\"\u001b[39m\u001b[38;5;241m.\u001b[39mjoin(l)\n",
      "File \u001b[1;32m~\\AppData\\Local\\Packages\\PythonSoftwareFoundation.Python.3.8_qbz5n2kfra8p0\\LocalCache\\local-packages\\Python38\\site-packages\\nltk\\stem\\wordnet.py:45\u001b[0m, in \u001b[0;36mWordNetLemmatizer.lemmatize\u001b[1;34m(self, word, pos)\u001b[0m\n\u001b[0;32m     33\u001b[0m \u001b[38;5;28;01mdef\u001b[39;00m \u001b[38;5;21mlemmatize\u001b[39m(\u001b[38;5;28mself\u001b[39m, word: \u001b[38;5;28mstr\u001b[39m, pos: \u001b[38;5;28mstr\u001b[39m \u001b[38;5;241m=\u001b[39m \u001b[38;5;124m\"\u001b[39m\u001b[38;5;124mn\u001b[39m\u001b[38;5;124m\"\u001b[39m) \u001b[38;5;241m-\u001b[39m\u001b[38;5;241m>\u001b[39m \u001b[38;5;28mstr\u001b[39m:\n\u001b[0;32m     34\u001b[0m     \u001b[38;5;124;03m\"\"\"Lemmatize `word` using WordNet's built-in morphy function.\u001b[39;00m\n\u001b[0;32m     35\u001b[0m \u001b[38;5;124;03m    Returns the input word unchanged if it cannot be found in WordNet.\u001b[39;00m\n\u001b[0;32m     36\u001b[0m \n\u001b[1;32m   (...)\u001b[0m\n\u001b[0;32m     43\u001b[0m \u001b[38;5;124;03m    :return: The lemma of `word`, for the given `pos`.\u001b[39;00m\n\u001b[0;32m     44\u001b[0m \u001b[38;5;124;03m    \"\"\"\u001b[39;00m\n\u001b[1;32m---> 45\u001b[0m     lemmas \u001b[38;5;241m=\u001b[39m \u001b[43mwn\u001b[49m\u001b[38;5;241;43m.\u001b[39;49m\u001b[43m_morphy\u001b[49m(word, pos)\n\u001b[0;32m     46\u001b[0m     \u001b[38;5;28;01mreturn\u001b[39;00m \u001b[38;5;28mmin\u001b[39m(lemmas, key\u001b[38;5;241m=\u001b[39m\u001b[38;5;28mlen\u001b[39m) \u001b[38;5;28;01mif\u001b[39;00m lemmas \u001b[38;5;28;01melse\u001b[39;00m word\n",
      "File \u001b[1;32m~\\AppData\\Local\\Packages\\PythonSoftwareFoundation.Python.3.8_qbz5n2kfra8p0\\LocalCache\\local-packages\\Python38\\site-packages\\nltk\\corpus\\util.py:121\u001b[0m, in \u001b[0;36mLazyCorpusLoader.__getattr__\u001b[1;34m(self, attr)\u001b[0m\n\u001b[0;32m    118\u001b[0m \u001b[38;5;28;01mif\u001b[39;00m attr \u001b[38;5;241m==\u001b[39m \u001b[38;5;124m\"\u001b[39m\u001b[38;5;124m__bases__\u001b[39m\u001b[38;5;124m\"\u001b[39m:\n\u001b[0;32m    119\u001b[0m     \u001b[38;5;28;01mraise\u001b[39;00m \u001b[38;5;167;01mAttributeError\u001b[39;00m(\u001b[38;5;124m\"\u001b[39m\u001b[38;5;124mLazyCorpusLoader object has no attribute \u001b[39m\u001b[38;5;124m'\u001b[39m\u001b[38;5;124m__bases__\u001b[39m\u001b[38;5;124m'\u001b[39m\u001b[38;5;124m\"\u001b[39m)\n\u001b[1;32m--> 121\u001b[0m \u001b[38;5;28;43mself\u001b[39;49m\u001b[38;5;241;43m.\u001b[39;49m\u001b[43m__load\u001b[49m\u001b[43m(\u001b[49m\u001b[43m)\u001b[49m\n\u001b[0;32m    122\u001b[0m \u001b[38;5;66;03m# This looks circular, but its not, since __load() changes our\u001b[39;00m\n\u001b[0;32m    123\u001b[0m \u001b[38;5;66;03m# __class__ to something new:\u001b[39;00m\n\u001b[0;32m    124\u001b[0m \u001b[38;5;28;01mreturn\u001b[39;00m \u001b[38;5;28mgetattr\u001b[39m(\u001b[38;5;28mself\u001b[39m, attr)\n",
      "File \u001b[1;32m~\\AppData\\Local\\Packages\\PythonSoftwareFoundation.Python.3.8_qbz5n2kfra8p0\\LocalCache\\local-packages\\Python38\\site-packages\\nltk\\corpus\\util.py:86\u001b[0m, in \u001b[0;36mLazyCorpusLoader.__load\u001b[1;34m(self)\u001b[0m\n\u001b[0;32m     84\u001b[0m             root \u001b[38;5;241m=\u001b[39m nltk\u001b[38;5;241m.\u001b[39mdata\u001b[38;5;241m.\u001b[39mfind(\u001b[38;5;124mf\u001b[39m\u001b[38;5;124m\"\u001b[39m\u001b[38;5;132;01m{\u001b[39;00m\u001b[38;5;28mself\u001b[39m\u001b[38;5;241m.\u001b[39msubdir\u001b[38;5;132;01m}\u001b[39;00m\u001b[38;5;124m/\u001b[39m\u001b[38;5;132;01m{\u001b[39;00mzip_name\u001b[38;5;132;01m}\u001b[39;00m\u001b[38;5;124m\"\u001b[39m)\n\u001b[0;32m     85\u001b[0m         \u001b[38;5;28;01mexcept\u001b[39;00m \u001b[38;5;167;01mLookupError\u001b[39;00m:\n\u001b[1;32m---> 86\u001b[0m             \u001b[38;5;28;01mraise\u001b[39;00m e\n\u001b[0;32m     88\u001b[0m \u001b[38;5;66;03m# Load the corpus.\u001b[39;00m\n\u001b[0;32m     89\u001b[0m corpus \u001b[38;5;241m=\u001b[39m \u001b[38;5;28mself\u001b[39m\u001b[38;5;241m.\u001b[39m__reader_cls(root, \u001b[38;5;241m*\u001b[39m\u001b[38;5;28mself\u001b[39m\u001b[38;5;241m.\u001b[39m__args, \u001b[38;5;241m*\u001b[39m\u001b[38;5;241m*\u001b[39m\u001b[38;5;28mself\u001b[39m\u001b[38;5;241m.\u001b[39m__kwargs)\n",
      "File \u001b[1;32m~\\AppData\\Local\\Packages\\PythonSoftwareFoundation.Python.3.8_qbz5n2kfra8p0\\LocalCache\\local-packages\\Python38\\site-packages\\nltk\\corpus\\util.py:81\u001b[0m, in \u001b[0;36mLazyCorpusLoader.__load\u001b[1;34m(self)\u001b[0m\n\u001b[0;32m     79\u001b[0m \u001b[38;5;28;01melse\u001b[39;00m:\n\u001b[0;32m     80\u001b[0m     \u001b[38;5;28;01mtry\u001b[39;00m:\n\u001b[1;32m---> 81\u001b[0m         root \u001b[38;5;241m=\u001b[39m \u001b[43mnltk\u001b[49m\u001b[38;5;241;43m.\u001b[39;49m\u001b[43mdata\u001b[49m\u001b[38;5;241;43m.\u001b[39;49m\u001b[43mfind\u001b[49m\u001b[43m(\u001b[49m\u001b[38;5;124;43mf\u001b[39;49m\u001b[38;5;124;43m\"\u001b[39;49m\u001b[38;5;132;43;01m{\u001b[39;49;00m\u001b[38;5;28;43mself\u001b[39;49m\u001b[38;5;241;43m.\u001b[39;49m\u001b[43msubdir\u001b[49m\u001b[38;5;132;43;01m}\u001b[39;49;00m\u001b[38;5;124;43m/\u001b[39;49m\u001b[38;5;132;43;01m{\u001b[39;49;00m\u001b[38;5;28;43mself\u001b[39;49m\u001b[38;5;241;43m.\u001b[39;49m\u001b[43m__name\u001b[49m\u001b[38;5;132;43;01m}\u001b[39;49;00m\u001b[38;5;124;43m\"\u001b[39;49m\u001b[43m)\u001b[49m\n\u001b[0;32m     82\u001b[0m     \u001b[38;5;28;01mexcept\u001b[39;00m \u001b[38;5;167;01mLookupError\u001b[39;00m \u001b[38;5;28;01mas\u001b[39;00m e:\n\u001b[0;32m     83\u001b[0m         \u001b[38;5;28;01mtry\u001b[39;00m:\n",
      "File \u001b[1;32m~\\AppData\\Local\\Packages\\PythonSoftwareFoundation.Python.3.8_qbz5n2kfra8p0\\LocalCache\\local-packages\\Python38\\site-packages\\nltk\\data.py:583\u001b[0m, in \u001b[0;36mfind\u001b[1;34m(resource_name, paths)\u001b[0m\n\u001b[0;32m    581\u001b[0m sep \u001b[38;5;241m=\u001b[39m \u001b[38;5;124m\"\u001b[39m\u001b[38;5;124m*\u001b[39m\u001b[38;5;124m\"\u001b[39m \u001b[38;5;241m*\u001b[39m \u001b[38;5;241m70\u001b[39m\n\u001b[0;32m    582\u001b[0m resource_not_found \u001b[38;5;241m=\u001b[39m \u001b[38;5;124mf\u001b[39m\u001b[38;5;124m\"\u001b[39m\u001b[38;5;130;01m\\n\u001b[39;00m\u001b[38;5;132;01m{\u001b[39;00msep\u001b[38;5;132;01m}\u001b[39;00m\u001b[38;5;130;01m\\n\u001b[39;00m\u001b[38;5;132;01m{\u001b[39;00mmsg\u001b[38;5;132;01m}\u001b[39;00m\u001b[38;5;130;01m\\n\u001b[39;00m\u001b[38;5;132;01m{\u001b[39;00msep\u001b[38;5;132;01m}\u001b[39;00m\u001b[38;5;130;01m\\n\u001b[39;00m\u001b[38;5;124m\"\u001b[39m\n\u001b[1;32m--> 583\u001b[0m \u001b[38;5;28;01mraise\u001b[39;00m \u001b[38;5;167;01mLookupError\u001b[39;00m(resource_not_found)\n",
      "\u001b[1;31mLookupError\u001b[0m: \n**********************************************************************\n  Resource \u001b[93mwordnet\u001b[0m not found.\n  Please use the NLTK Downloader to obtain the resource:\n\n  \u001b[31m>>> import nltk\n  >>> nltk.download('wordnet')\n  \u001b[0m\n  For more information see: https://www.nltk.org/data.html\n\n  Attempted to load \u001b[93mcorpora/wordnet\u001b[0m\n\n  Searched in:\n    - 'C:\\\\Users\\\\yazev/nltk_data'\n    - 'C:\\\\Program Files\\\\WindowsApps\\\\PythonSoftwareFoundation.Python.3.8_3.8.2800.0_x64__qbz5n2kfra8p0\\\\nltk_data'\n    - 'C:\\\\Program Files\\\\WindowsApps\\\\PythonSoftwareFoundation.Python.3.8_3.8.2800.0_x64__qbz5n2kfra8p0\\\\share\\\\nltk_data'\n    - 'C:\\\\Program Files\\\\WindowsApps\\\\PythonSoftwareFoundation.Python.3.8_3.8.2800.0_x64__qbz5n2kfra8p0\\\\lib\\\\nltk_data'\n    - 'C:\\\\Users\\\\yazev\\\\AppData\\\\Roaming\\\\nltk_data'\n    - 'C:\\\\nltk_data'\n    - 'D:\\\\nltk_data'\n    - 'E:\\\\nltk_data'\n**********************************************************************\n"
     ]
    }
   ],
   "source": [
    "df['text'] = df['text'].apply(lemmatize)\n",
    "df"
   ]
  },
  {
   "cell_type": "markdown",
   "metadata": {},
   "source": [
    "Разделим выборку на трэйн и тест"
   ]
  },
  {
   "cell_type": "code",
   "execution_count": 14,
   "metadata": {},
   "outputs": [],
   "source": [
    "X_train, X_test, y_train, y_test = train_test_split(df['text'], \n",
    "                                                    df['toxic'], \n",
    "                                                    test_size=0.2, \n",
    "                                                    random_state=42)"
   ]
  },
  {
   "cell_type": "markdown",
   "metadata": {},
   "source": [
    "Создадим корпус текстов "
   ]
  },
  {
   "cell_type": "code",
   "execution_count": 15,
   "metadata": {},
   "outputs": [],
   "source": [
    "corpus = X_train.values\n",
    "corpus_test = X_test.values"
   ]
  },
  {
   "cell_type": "markdown",
   "metadata": {},
   "source": [
    " Создадим счётчик, указав в нём стоп-слова"
   ]
  },
  {
   "cell_type": "markdown",
   "metadata": {},
   "source": [
    "Вычислим TF-IDF для корпуса текстов"
   ]
  },
  {
   "cell_type": "code",
   "execution_count": 16,
   "metadata": {
    "scrolled": true
   },
   "outputs": [
    {
     "name": "stderr",
     "output_type": "stream",
     "text": [
      "[nltk_data] Downloading package stopwords to\n",
      "[nltk_data]     C:\\Users\\yazev\\AppData\\Roaming\\nltk_data...\n",
      "[nltk_data]   Package stopwords is already up-to-date!\n"
     ]
    },
    {
     "name": "stdout",
     "output_type": "stream",
     "text": [
      "Размер матрицы: (127433, 19325)\n"
     ]
    }
   ],
   "source": [
    "nltk.download('stopwords')\n",
    "stopwords = set(nltk_stopwords.words('english'))\n",
    "count_tf_idf = TfidfVectorizer(stop_words=stopwords, min_df=10) \n",
    "tf_idf_train = count_tf_idf.fit_transform(corpus)\n",
    "tf_idf_test = count_tf_idf.transform(corpus_test) \n",
    "print('Размер матрицы:', tf_idf_train.shape)"
   ]
  },
  {
   "cell_type": "markdown",
   "metadata": {},
   "source": [
    "### Вывод\n",
    "\n",
    "1) В данных обноружен дисбаланс классов 1/9, но так как метрика F1 не чувствительна к диссбалансу классов, то upsampling и downsampling решено не проводить (они дали худший скор);\\\n",
    "2) Провели очистку и лемматизацию текста;\\\n",
    "3) Разделили данные на обучающую и тестовую выборки в соотношеннии 20/80;\\\n",
    "3) Вычеслили TF-IDF для корпусов текста."
   ]
  },
  {
   "cell_type": "markdown",
   "metadata": {},
   "source": [
    "## Обучение"
   ]
  },
  {
   "cell_type": "markdown",
   "metadata": {},
   "source": [
    "Обучим модель LogisticRegression на обучающей выборке"
   ]
  },
  {
   "cell_type": "code",
   "execution_count": 21,
   "metadata": {},
   "outputs": [
    {
     "name": "stdout",
     "output_type": "stream",
     "text": [
      "CPU times: total: 12.1 s\n",
      "Wall time: 12.2 s\n"
     ]
    }
   ],
   "source": [
    "%%time\n",
    "results_cross_val = []\n",
    "model = LogisticRegression()\n",
    "start_time = time.time()\n",
    "pipe = Pipeline([('prep', TfidfVectorizer(stop_words=stopwords, min_df=10)), ('est', model)])  \n",
    "cv_score = cross_val_score(pipe, X_train, y_train, cv=2, scoring='f1').mean()    \n",
    "elapsed_time = time.time() - start_time\n",
    "results_cross_val.append({'model_name': model.__class__.__name__,\n",
    "                          'cv_score': '%.2f' % cv_score,\n",
    "                          'learn_time': '%.2f' % elapsed_time})"
   ]
  },
  {
   "cell_type": "markdown",
   "metadata": {},
   "source": [
    "Обучим модель CatBoostClassifier на обучающей выборке"
   ]
  },
  {
   "cell_type": "code",
   "execution_count": 33,
   "metadata": {
    "scrolled": false
   },
   "outputs": [
    {
     "name": "stdout",
     "output_type": "stream",
     "text": [
      "Learning rate set to 0.060722\n",
      "0:\tlearn: 0.6314985\ttotal: 631ms\tremaining: 10m 30s\n",
      "100:\tlearn: 0.1855206\ttotal: 50.6s\tremaining: 7m 30s\n",
      "200:\tlearn: 0.1617758\ttotal: 1m 39s\tremaining: 6m 35s\n",
      "300:\tlearn: 0.1472077\ttotal: 2m 27s\tremaining: 5m 43s\n",
      "400:\tlearn: 0.1367898\ttotal: 3m 16s\tremaining: 4m 53s\n",
      "500:\tlearn: 0.1293342\ttotal: 4m 4s\tremaining: 4m 3s\n",
      "600:\tlearn: 0.1231639\ttotal: 4m 53s\tremaining: 3m 14s\n",
      "700:\tlearn: 0.1177170\ttotal: 5m 41s\tremaining: 2m 25s\n",
      "800:\tlearn: 0.1129551\ttotal: 6m 30s\tremaining: 1m 36s\n",
      "900:\tlearn: 0.1086812\ttotal: 7m 18s\tremaining: 48.2s\n",
      "999:\tlearn: 0.1054676\ttotal: 8m 6s\tremaining: 0us\n",
      "Learning rate set to 0.060723\n",
      "0:\tlearn: 0.6314876\ttotal: 630ms\tremaining: 10m 29s\n",
      "100:\tlearn: 0.1877887\ttotal: 49.1s\tremaining: 7m 16s\n",
      "200:\tlearn: 0.1641246\ttotal: 1m 36s\tremaining: 6m 24s\n",
      "300:\tlearn: 0.1493393\ttotal: 2m 24s\tremaining: 5m 35s\n",
      "400:\tlearn: 0.1391292\ttotal: 3m 11s\tremaining: 4m 46s\n",
      "500:\tlearn: 0.1317789\ttotal: 3m 59s\tremaining: 3m 58s\n",
      "600:\tlearn: 0.1253694\ttotal: 4m 46s\tremaining: 3m 10s\n",
      "700:\tlearn: 0.1199846\ttotal: 5m 34s\tremaining: 2m 22s\n",
      "800:\tlearn: 0.1152116\ttotal: 6m 21s\tremaining: 1m 34s\n",
      "900:\tlearn: 0.1108332\ttotal: 7m 9s\tremaining: 47.2s\n",
      "999:\tlearn: 0.1077644\ttotal: 7m 57s\tremaining: 0us\n",
      "CPU times: total: 1h 1min\n",
      "Wall time: 16min 18s\n"
     ]
    }
   ],
   "source": [
    "%%time\n",
    "model = CatBoostClassifier(verbose=100)\n",
    "start_time = time.time()\n",
    "pipe = Pipeline([('prep', TfidfVectorizer(stop_words=stopwords, min_df=10)), ('est', model)])  \n",
    "cv_score = cross_val_score(pipe, X_train, y_train, cv=2, scoring='f1').mean()    \n",
    "elapsed_time = time.time() - start_time\n",
    "results_cross_val.append({'model_name': model.__class__.__name__,\n",
    "                          'cv_score': '%.2f' % cv_score,\n",
    "                          'learn_time': '%.2f' % elapsed_time})"
   ]
  },
  {
   "cell_type": "markdown",
   "metadata": {},
   "source": [
    "Проверим результаты обучения моделей на кросс-валидации "
   ]
  },
  {
   "cell_type": "code",
   "execution_count": 23,
   "metadata": {
    "scrolled": true
   },
   "outputs": [
    {
     "data": {
      "text/html": [
       "<div>\n",
       "<style scoped>\n",
       "    .dataframe tbody tr th:only-of-type {\n",
       "        vertical-align: middle;\n",
       "    }\n",
       "\n",
       "    .dataframe tbody tr th {\n",
       "        vertical-align: top;\n",
       "    }\n",
       "\n",
       "    .dataframe thead th {\n",
       "        text-align: right;\n",
       "    }\n",
       "</style>\n",
       "<table border=\"1\" class=\"dataframe\">\n",
       "  <thead>\n",
       "    <tr style=\"text-align: right;\">\n",
       "      <th></th>\n",
       "      <th>model_name</th>\n",
       "      <th>cv_score</th>\n",
       "      <th>learn_time</th>\n",
       "    </tr>\n",
       "  </thead>\n",
       "  <tbody>\n",
       "    <tr>\n",
       "      <th>0</th>\n",
       "      <td>LogisticRegression</td>\n",
       "      <td>0.70</td>\n",
       "      <td>12.22</td>\n",
       "    </tr>\n",
       "    <tr>\n",
       "      <th>1</th>\n",
       "      <td>CatBoostClassifier</td>\n",
       "      <td>0.74</td>\n",
       "      <td>987.01</td>\n",
       "    </tr>\n",
       "  </tbody>\n",
       "</table>\n",
       "</div>"
      ],
      "text/plain": [
       "           model_name cv_score learn_time\n",
       "0  LogisticRegression     0.70      12.22\n",
       "1  CatBoostClassifier     0.74     987.01"
      ]
     },
     "execution_count": 23,
     "metadata": {},
     "output_type": "execute_result"
    }
   ],
   "source": [
    "pd.DataFrame(results_cross_val).sort_values('cv_score')"
   ]
  },
  {
   "cell_type": "markdown",
   "metadata": {},
   "source": [
    "### Вывод\n",
    "\n",
    "1) Обучили модели LogisticRegression и CatBoostClassifier на обучающей выборке;\\\n",
    "2) Модель LogisticRegression на кросс-валидации показала лучшее время 12.22 секунды, но худшую метрику F1 - 0.70;\\\n",
    "3) Модель CatBoostClassifier на кросс-валидации показала худшее время 987.01 секунды, но лучшую метрику F1 - 0.74;\\\n",
    "3) Сохранили лучшие параметры модели на кросс-валидации;"
   ]
  },
  {
   "cell_type": "markdown",
   "metadata": {},
   "source": [
    "## Выводы"
   ]
  },
  {
   "cell_type": "markdown",
   "metadata": {},
   "source": [
    "Обучим модель DummyClassifier "
   ]
  },
  {
   "cell_type": "code",
   "execution_count": 24,
   "metadata": {},
   "outputs": [],
   "source": [
    "results_test = []\n",
    "dummy = DummyClassifier(strategy=\"most_frequent\")\n",
    "dummy.fit(tf_idf_train, y_train)\n",
    "DummyClassifier()\n",
    "predict = dummy.predict(tf_idf_test)\n",
    "dummy_f1 = f1_score(y_test, predict)\n",
    "dummy_accuracy= accuracy_score(y_test, predict)\n",
    "results_test.append({'model_name': dummy.__class__.__name__,\n",
    "                          'test_score_F1': '%.2f' % dummy_f1,\n",
    "                          'test_score_accuracy': '%.2f' % dummy_accuracy})"
   ]
  },
  {
   "cell_type": "markdown",
   "metadata": {},
   "source": [
    "Сделаем предсказание LogisticRegression на тестовых данных"
   ]
  },
  {
   "cell_type": "code",
   "execution_count": 38,
   "metadata": {},
   "outputs": [
    {
     "data": {
      "text/plain": [
       "<catboost.core.CatBoostClassifier at 0x2834e5953a0>"
      ]
     },
     "execution_count": 38,
     "metadata": {},
     "output_type": "execute_result"
    }
   ],
   "source": [
    "model"
   ]
  },
  {
   "cell_type": "code",
   "execution_count": 37,
   "metadata": {},
   "outputs": [
    {
     "ename": "CatBoostError",
     "evalue": "There is no trained model to use predict(). Use fit() to train model. Then use this method.",
     "output_type": "error",
     "traceback": [
      "\u001b[1;31m---------------------------------------------------------------------------\u001b[0m",
      "\u001b[1;31mCatBoostError\u001b[0m                             Traceback (most recent call last)",
      "Input \u001b[1;32mIn [37]\u001b[0m, in \u001b[0;36m<cell line: 1>\u001b[1;34m()\u001b[0m\n\u001b[1;32m----> 1\u001b[0m predict \u001b[38;5;241m=\u001b[39m \u001b[43mmodel\u001b[49m\u001b[38;5;241;43m.\u001b[39;49m\u001b[43mpredict\u001b[49m\u001b[43m(\u001b[49m\u001b[43mtf_idf_test\u001b[49m\u001b[43m)\u001b[49m\n\u001b[0;32m      2\u001b[0m f1_lr \u001b[38;5;241m=\u001b[39m f1_score(y_test, predict)\n\u001b[0;32m      3\u001b[0m accuracy_lr \u001b[38;5;241m=\u001b[39m accuracy_score(y_test, predict)\n",
      "File \u001b[1;32m~\\AppData\\Local\\Packages\\PythonSoftwareFoundation.Python.3.8_qbz5n2kfra8p0\\LocalCache\\local-packages\\Python38\\site-packages\\catboost\\core.py:5184\u001b[0m, in \u001b[0;36mCatBoostClassifier.predict\u001b[1;34m(self, data, prediction_type, ntree_start, ntree_end, thread_count, verbose, task_type)\u001b[0m\n\u001b[0;32m   5133\u001b[0m \u001b[38;5;28;01mdef\u001b[39;00m \u001b[38;5;21mpredict\u001b[39m(\u001b[38;5;28mself\u001b[39m, data, prediction_type\u001b[38;5;241m=\u001b[39m\u001b[38;5;124m'\u001b[39m\u001b[38;5;124mClass\u001b[39m\u001b[38;5;124m'\u001b[39m, ntree_start\u001b[38;5;241m=\u001b[39m\u001b[38;5;241m0\u001b[39m, ntree_end\u001b[38;5;241m=\u001b[39m\u001b[38;5;241m0\u001b[39m, thread_count\u001b[38;5;241m=\u001b[39m\u001b[38;5;241m-\u001b[39m\u001b[38;5;241m1\u001b[39m, verbose\u001b[38;5;241m=\u001b[39m\u001b[38;5;28;01mNone\u001b[39;00m, task_type\u001b[38;5;241m=\u001b[39m\u001b[38;5;124m\"\u001b[39m\u001b[38;5;124mCPU\u001b[39m\u001b[38;5;124m\"\u001b[39m):\n\u001b[0;32m   5134\u001b[0m     \u001b[38;5;124;03m\"\"\"\u001b[39;00m\n\u001b[0;32m   5135\u001b[0m \u001b[38;5;124;03m    Predict with data.\u001b[39;00m\n\u001b[0;32m   5136\u001b[0m \n\u001b[1;32m   (...)\u001b[0m\n\u001b[0;32m   5182\u001b[0m \u001b[38;5;124;03m              with log probability for every class for each object.\u001b[39;00m\n\u001b[0;32m   5183\u001b[0m \u001b[38;5;124;03m    \"\"\"\u001b[39;00m\n\u001b[1;32m-> 5184\u001b[0m     \u001b[38;5;28;01mreturn\u001b[39;00m \u001b[38;5;28;43mself\u001b[39;49m\u001b[38;5;241;43m.\u001b[39;49m\u001b[43m_predict\u001b[49m\u001b[43m(\u001b[49m\u001b[43mdata\u001b[49m\u001b[43m,\u001b[49m\u001b[43m \u001b[49m\u001b[43mprediction_type\u001b[49m\u001b[43m,\u001b[49m\u001b[43m \u001b[49m\u001b[43mntree_start\u001b[49m\u001b[43m,\u001b[49m\u001b[43m \u001b[49m\u001b[43mntree_end\u001b[49m\u001b[43m,\u001b[49m\u001b[43m \u001b[49m\u001b[43mthread_count\u001b[49m\u001b[43m,\u001b[49m\u001b[43m \u001b[49m\u001b[43mverbose\u001b[49m\u001b[43m,\u001b[49m\u001b[43m \u001b[49m\u001b[38;5;124;43m'\u001b[39;49m\u001b[38;5;124;43mpredict\u001b[39;49m\u001b[38;5;124;43m'\u001b[39;49m\u001b[43m,\u001b[49m\u001b[43m \u001b[49m\u001b[43mtask_type\u001b[49m\u001b[43m)\u001b[49m\n",
      "File \u001b[1;32m~\\AppData\\Local\\Packages\\PythonSoftwareFoundation.Python.3.8_qbz5n2kfra8p0\\LocalCache\\local-packages\\Python38\\site-packages\\catboost\\core.py:2541\u001b[0m, in \u001b[0;36mCatBoost._predict\u001b[1;34m(self, data, prediction_type, ntree_start, ntree_end, thread_count, verbose, parent_method_name, task_type)\u001b[0m\n\u001b[0;32m   2539\u001b[0m \u001b[38;5;28;01mif\u001b[39;00m verbose \u001b[38;5;129;01mis\u001b[39;00m \u001b[38;5;28;01mNone\u001b[39;00m:\n\u001b[0;32m   2540\u001b[0m     verbose \u001b[38;5;241m=\u001b[39m \u001b[38;5;28;01mFalse\u001b[39;00m\n\u001b[1;32m-> 2541\u001b[0m data, data_is_single_object \u001b[38;5;241m=\u001b[39m \u001b[38;5;28;43mself\u001b[39;49m\u001b[38;5;241;43m.\u001b[39;49m\u001b[43m_process_predict_input_data\u001b[49m\u001b[43m(\u001b[49m\u001b[43mdata\u001b[49m\u001b[43m,\u001b[49m\u001b[43m \u001b[49m\u001b[43mparent_method_name\u001b[49m\u001b[43m,\u001b[49m\u001b[43m \u001b[49m\u001b[43mthread_count\u001b[49m\u001b[43m)\u001b[49m\n\u001b[0;32m   2542\u001b[0m \u001b[38;5;28mself\u001b[39m\u001b[38;5;241m.\u001b[39m_validate_prediction_type(prediction_type)\n\u001b[0;32m   2544\u001b[0m predictions \u001b[38;5;241m=\u001b[39m \u001b[38;5;28mself\u001b[39m\u001b[38;5;241m.\u001b[39m_base_predict(data, prediction_type, ntree_start, ntree_end, thread_count, verbose, task_type)\n",
      "File \u001b[1;32m~\\AppData\\Local\\Packages\\PythonSoftwareFoundation.Python.3.8_qbz5n2kfra8p0\\LocalCache\\local-packages\\Python38\\site-packages\\catboost\\core.py:2517\u001b[0m, in \u001b[0;36mCatBoost._process_predict_input_data\u001b[1;34m(self, data, parent_method_name, thread_count, label)\u001b[0m\n\u001b[0;32m   2515\u001b[0m \u001b[38;5;28;01mdef\u001b[39;00m \u001b[38;5;21m_process_predict_input_data\u001b[39m(\u001b[38;5;28mself\u001b[39m, data, parent_method_name, thread_count, label\u001b[38;5;241m=\u001b[39m\u001b[38;5;28;01mNone\u001b[39;00m):\n\u001b[0;32m   2516\u001b[0m     \u001b[38;5;28;01mif\u001b[39;00m \u001b[38;5;129;01mnot\u001b[39;00m \u001b[38;5;28mself\u001b[39m\u001b[38;5;241m.\u001b[39mis_fitted() \u001b[38;5;129;01mor\u001b[39;00m \u001b[38;5;28mself\u001b[39m\u001b[38;5;241m.\u001b[39mtree_count_ \u001b[38;5;129;01mis\u001b[39;00m \u001b[38;5;28;01mNone\u001b[39;00m:\n\u001b[1;32m-> 2517\u001b[0m         \u001b[38;5;28;01mraise\u001b[39;00m CatBoostError((\u001b[38;5;124m\"\u001b[39m\u001b[38;5;124mThere is no trained model to use \u001b[39m\u001b[38;5;132;01m{}\u001b[39;00m\u001b[38;5;124m(). \u001b[39m\u001b[38;5;124m\"\u001b[39m\n\u001b[0;32m   2518\u001b[0m                              \u001b[38;5;124m\"\u001b[39m\u001b[38;5;124mUse fit() to train model. Then use this method.\u001b[39m\u001b[38;5;124m\"\u001b[39m)\u001b[38;5;241m.\u001b[39mformat(parent_method_name))\n\u001b[0;32m   2519\u001b[0m     is_single_object \u001b[38;5;241m=\u001b[39m _is_data_single_object(data)\n\u001b[0;32m   2520\u001b[0m     \u001b[38;5;28;01mif\u001b[39;00m \u001b[38;5;129;01mnot\u001b[39;00m \u001b[38;5;28misinstance\u001b[39m(data, Pool):\n",
      "\u001b[1;31mCatBoostError\u001b[0m: There is no trained model to use predict(). Use fit() to train model. Then use this method."
     ]
    }
   ],
   "source": [
    "predict = model.predict(tf_idf_test)\n",
    "f1_lr = f1_score(y_test, predict)\n",
    "accuracy_lr = accuracy_score(y_test, predict)\n",
    "results_test.append({'model_name': model.__class__.__name__,\n",
    "                          'test_score_F1': '%.2f' % f1_lr,\n",
    "                          'test_score_accuracy': '%.2f' % accuracy_lr})"
   ]
  },
  {
   "cell_type": "markdown",
   "metadata": {},
   "source": [
    "Сравним на тестовых данных DummyClassifier и LogisticRegression"
   ]
  },
  {
   "cell_type": "markdown",
   "metadata": {},
   "source": [
    "Так как DummyClassifier предсказывает константу (0), то мерика F1 - 0, для сравнения качества модели LogisticRegression и DummyClassifier используем метрику accuracy"
   ]
  },
  {
   "cell_type": "code",
   "execution_count": null,
   "metadata": {
    "scrolled": true
   },
   "outputs": [],
   "source": [
    "pd.DataFrame(results_test).sort_values('test_score_F1')"
   ]
  },
  {
   "cell_type": "markdown",
   "metadata": {},
   "source": [
    "### Вывод\n",
    "\n",
    "1) Модель LogisticRegression показала accuracy 0,96, что больше, чем модель DummyClassifier;\\\n",
    "2) Модель LogisticRegression на кросс-валидации показала лучшее время и лучшую метрику F1 - 0.77;\\\n",
    "3) Модель LogisticRegression имеет метрику F1 = 0.77 на тестовой выборке, что больше необходимой 0.75."
   ]
  },
  {
   "cell_type": "code",
   "execution_count": null,
   "metadata": {},
   "outputs": [],
   "source": []
  }
 ],
 "metadata": {
  "ExecuteTimeLog": [
   {
    "duration": 380,
    "start_time": "2022-07-03T12:21:43.070Z"
   },
   {
    "duration": 2986,
    "start_time": "2022-07-03T12:21:44.740Z"
   },
   {
    "duration": 1413,
    "start_time": "2022-07-03T12:25:27.939Z"
   },
   {
    "duration": 2081,
    "start_time": "2022-07-03T12:25:45.715Z"
   },
   {
    "duration": 116,
    "start_time": "2022-07-03T12:25:48.539Z"
   },
   {
    "duration": 917,
    "start_time": "2022-07-03T12:25:58.002Z"
   },
   {
    "duration": 3,
    "start_time": "2022-07-03T12:26:58.677Z"
   },
   {
    "duration": 3,
    "start_time": "2022-07-03T12:27:20.581Z"
   },
   {
    "duration": 19,
    "start_time": "2022-07-03T12:28:08.078Z"
   },
   {
    "duration": 2254,
    "start_time": "2022-07-03T12:28:14.294Z"
   },
   {
    "duration": 3,
    "start_time": "2022-07-03T12:29:09.519Z"
   },
   {
    "duration": 1372,
    "start_time": "2022-07-03T12:29:10.782Z"
   },
   {
    "duration": 3,
    "start_time": "2022-07-03T12:31:07.922Z"
   },
   {
    "duration": 14,
    "start_time": "2022-07-03T12:31:10.309Z"
   },
   {
    "duration": 3,
    "start_time": "2022-07-03T12:31:17.821Z"
   },
   {
    "duration": 3,
    "start_time": "2022-07-03T12:31:19.822Z"
   },
   {
    "duration": 4,
    "start_time": "2022-07-03T12:31:21.166Z"
   },
   {
    "duration": 165,
    "start_time": "2022-07-03T12:32:19.405Z"
   },
   {
    "duration": 6,
    "start_time": "2022-07-03T12:32:36.493Z"
   },
   {
    "duration": 3,
    "start_time": "2022-07-03T12:32:48.638Z"
   },
   {
    "duration": 9,
    "start_time": "2022-07-03T12:34:07.186Z"
   },
   {
    "duration": 10,
    "start_time": "2022-07-03T12:34:13.617Z"
   },
   {
    "duration": 9,
    "start_time": "2022-07-03T12:34:33.718Z"
   },
   {
    "duration": 2157,
    "start_time": "2022-07-03T12:34:43.601Z"
   },
   {
    "duration": 1333,
    "start_time": "2022-07-03T12:34:51.509Z"
   },
   {
    "duration": 2636,
    "start_time": "2022-07-03T12:34:54.865Z"
   },
   {
    "duration": 16,
    "start_time": "2022-07-03T12:34:58.085Z"
   },
   {
    "duration": 2078,
    "start_time": "2022-07-03T12:34:59.741Z"
   },
   {
    "duration": 3,
    "start_time": "2022-07-03T12:35:02.897Z"
   },
   {
    "duration": 3,
    "start_time": "2022-07-03T12:35:03.926Z"
   },
   {
    "duration": 204,
    "start_time": "2022-07-03T12:35:04.794Z"
   },
   {
    "duration": 6,
    "start_time": "2022-07-03T12:35:06.809Z"
   },
   {
    "duration": 3,
    "start_time": "2022-07-03T12:35:08.824Z"
   },
   {
    "duration": 117,
    "start_time": "2022-07-03T12:35:13.254Z"
   },
   {
    "duration": 11,
    "start_time": "2022-07-03T12:36:11.495Z"
   },
   {
    "duration": 18,
    "start_time": "2022-07-03T12:36:32.901Z"
   },
   {
    "duration": 10,
    "start_time": "2022-07-03T12:36:52.298Z"
   },
   {
    "duration": 13,
    "start_time": "2022-07-03T12:37:23.039Z"
   },
   {
    "duration": 10,
    "start_time": "2022-07-03T12:37:50.577Z"
   },
   {
    "duration": 2003,
    "start_time": "2022-07-03T12:39:02.442Z"
   },
   {
    "duration": 1272,
    "start_time": "2022-07-03T12:39:48.812Z"
   },
   {
    "duration": 1984,
    "start_time": "2022-07-03T12:40:19.560Z"
   },
   {
    "duration": 1543,
    "start_time": "2022-07-03T12:40:53.775Z"
   },
   {
    "duration": 6836,
    "start_time": "2022-07-03T12:41:19.577Z"
   },
   {
    "duration": 11,
    "start_time": "2022-07-03T12:44:21.209Z"
   },
   {
    "duration": 3,
    "start_time": "2022-07-03T12:44:34.670Z"
   },
   {
    "duration": 10,
    "start_time": "2022-07-03T12:44:38.149Z"
   },
   {
    "duration": 31,
    "start_time": "2022-07-03T12:46:12.974Z"
   },
   {
    "duration": 4,
    "start_time": "2022-07-03T12:46:36.024Z"
   },
   {
    "duration": 18,
    "start_time": "2022-07-03T12:48:34.902Z"
   },
   {
    "duration": 5722,
    "start_time": "2022-07-03T12:48:35.973Z"
   },
   {
    "duration": 1408,
    "start_time": "2022-07-03T12:48:41.697Z"
   },
   {
    "duration": 11,
    "start_time": "2022-07-03T12:48:55.612Z"
   },
   {
    "duration": 58,
    "start_time": "2022-07-03T12:49:09.295Z"
   },
   {
    "duration": 4,
    "start_time": "2022-07-03T12:49:21.375Z"
   },
   {
    "duration": 10,
    "start_time": "2022-07-03T12:49:56.561Z"
   },
   {
    "duration": 3,
    "start_time": "2022-07-03T12:50:18.061Z"
   },
   {
    "duration": 13,
    "start_time": "2022-07-03T12:50:21.505Z"
   },
   {
    "duration": 4,
    "start_time": "2022-07-03T12:50:33.612Z"
   },
   {
    "duration": 11,
    "start_time": "2022-07-03T12:50:35.933Z"
   },
   {
    "duration": 1262,
    "start_time": "2022-07-03T14:45:48.940Z"
   },
   {
    "duration": 2242,
    "start_time": "2022-07-03T14:45:50.204Z"
   },
   {
    "duration": 20,
    "start_time": "2022-07-03T14:45:52.448Z"
   },
   {
    "duration": 1809,
    "start_time": "2022-07-03T14:45:52.469Z"
   },
   {
    "duration": 13,
    "start_time": "2022-07-03T14:45:54.279Z"
   },
   {
    "duration": 11,
    "start_time": "2022-07-03T14:45:54.294Z"
   },
   {
    "duration": 197,
    "start_time": "2022-07-03T14:45:54.306Z"
   },
   {
    "duration": 5,
    "start_time": "2022-07-03T14:45:54.505Z"
   },
   {
    "duration": 1815,
    "start_time": "2022-07-03T14:45:54.511Z"
   },
   {
    "duration": 2414,
    "start_time": "2022-07-03T14:45:56.329Z"
   },
   {
    "duration": 40,
    "start_time": "2022-07-03T14:45:58.745Z"
   },
   {
    "duration": 3,
    "start_time": "2022-07-03T14:45:58.787Z"
   },
   {
    "duration": 5,
    "start_time": "2022-07-03T14:45:58.792Z"
   },
   {
    "duration": 5016,
    "start_time": "2022-07-03T14:45:58.799Z"
   },
   {
    "duration": 1243,
    "start_time": "2022-07-03T14:46:03.817Z"
   },
   {
    "duration": 6,
    "start_time": "2022-07-03T14:46:05.062Z"
   },
   {
    "duration": 3905140,
    "start_time": "2022-07-03T14:46:05.070Z"
   },
   {
    "duration": 0,
    "start_time": "2022-07-03T15:51:10.212Z"
   },
   {
    "duration": 0,
    "start_time": "2022-07-03T15:51:10.213Z"
   },
   {
    "duration": 0,
    "start_time": "2022-07-03T15:51:10.214Z"
   },
   {
    "duration": 0,
    "start_time": "2022-07-03T15:51:10.215Z"
   },
   {
    "duration": 4,
    "start_time": "2022-07-03T15:51:15.379Z"
   },
   {
    "duration": 15,
    "start_time": "2022-07-03T15:51:21.481Z"
   },
   {
    "duration": 245574,
    "start_time": "2022-07-03T15:51:32.812Z"
   },
   {
    "duration": 86,
    "start_time": "2022-07-03T15:55:38.391Z"
   },
   {
    "duration": 134795,
    "start_time": "2022-07-03T15:55:38.483Z"
   },
   {
    "duration": 0,
    "start_time": "2022-07-03T15:57:53.280Z"
   },
   {
    "duration": 0,
    "start_time": "2022-07-03T15:57:53.281Z"
   },
   {
    "duration": 4,
    "start_time": "2022-07-03T16:14:55.508Z"
   },
   {
    "duration": 140822,
    "start_time": "2022-07-03T16:15:02.054Z"
   },
   {
    "duration": 5,
    "start_time": "2022-07-03T16:17:22.878Z"
   },
   {
    "duration": 14,
    "start_time": "2022-07-03T16:17:22.885Z"
   },
   {
    "duration": 5,
    "start_time": "2022-07-03T17:21:02.621Z"
   },
   {
    "duration": 7,
    "start_time": "2022-07-03T17:21:09.142Z"
   },
   {
    "duration": 1223,
    "start_time": "2022-07-04T15:00:49.891Z"
   },
   {
    "duration": 2484,
    "start_time": "2022-07-04T15:00:51.168Z"
   },
   {
    "duration": 13,
    "start_time": "2022-07-04T15:00:53.654Z"
   },
   {
    "duration": 1679,
    "start_time": "2022-07-04T15:00:55.962Z"
   },
   {
    "duration": 6,
    "start_time": "2022-07-04T15:00:57.642Z"
   },
   {
    "duration": 5,
    "start_time": "2022-07-04T15:00:57.650Z"
   },
   {
    "duration": 474,
    "start_time": "2022-07-04T15:01:00.659Z"
   },
   {
    "duration": 3,
    "start_time": "2022-07-04T15:01:03.484Z"
   },
   {
    "duration": 1675,
    "start_time": "2022-07-04T15:01:06.810Z"
   },
   {
    "duration": 2196,
    "start_time": "2022-07-04T15:01:08.487Z"
   },
   {
    "duration": 27,
    "start_time": "2022-07-04T15:01:21.864Z"
   },
   {
    "duration": 95,
    "start_time": "2022-07-04T15:01:43.450Z"
   },
   {
    "duration": 3,
    "start_time": "2022-07-04T15:01:47.162Z"
   },
   {
    "duration": 4,
    "start_time": "2022-07-04T15:02:09.609Z"
   },
   {
    "duration": 3,
    "start_time": "2022-07-04T15:02:18.786Z"
   },
   {
    "duration": 3,
    "start_time": "2022-07-04T15:02:23.017Z"
   },
   {
    "duration": 2,
    "start_time": "2022-07-04T15:02:28.169Z"
   },
   {
    "duration": 4699,
    "start_time": "2022-07-04T15:02:41.369Z"
   },
   {
    "duration": 1093,
    "start_time": "2022-07-04T15:02:46.642Z"
   },
   {
    "duration": 4,
    "start_time": "2022-07-04T15:03:10.369Z"
   },
   {
    "duration": 4,
    "start_time": "2022-07-04T15:03:11.513Z"
   },
   {
    "duration": 14031,
    "start_time": "2022-07-04T15:05:47.465Z"
   },
   {
    "duration": 19112,
    "start_time": "2022-07-04T15:06:52.091Z"
   },
   {
    "duration": 210964,
    "start_time": "2022-07-04T15:07:12.432Z"
   },
   {
    "duration": 1222,
    "start_time": "2022-07-04T15:15:09.355Z"
   },
   {
    "duration": 2543,
    "start_time": "2022-07-04T15:15:10.578Z"
   },
   {
    "duration": 13,
    "start_time": "2022-07-04T15:15:13.123Z"
   },
   {
    "duration": 1667,
    "start_time": "2022-07-04T15:15:13.138Z"
   },
   {
    "duration": 5,
    "start_time": "2022-07-04T15:15:14.807Z"
   },
   {
    "duration": 7,
    "start_time": "2022-07-04T15:15:14.813Z"
   },
   {
    "duration": 154,
    "start_time": "2022-07-04T15:15:14.821Z"
   },
   {
    "duration": 3,
    "start_time": "2022-07-04T15:15:14.977Z"
   },
   {
    "duration": 1787,
    "start_time": "2022-07-04T15:15:14.982Z"
   },
   {
    "duration": 2188,
    "start_time": "2022-07-04T15:15:16.772Z"
   },
   {
    "duration": 34,
    "start_time": "2022-07-04T15:15:18.961Z"
   },
   {
    "duration": 3,
    "start_time": "2022-07-04T15:15:18.996Z"
   },
   {
    "duration": 5,
    "start_time": "2022-07-04T15:15:19.001Z"
   },
   {
    "duration": 4,
    "start_time": "2022-07-04T15:15:19.007Z"
   },
   {
    "duration": 4704,
    "start_time": "2022-07-04T15:15:19.012Z"
   },
   {
    "duration": 1123,
    "start_time": "2022-07-04T15:15:23.718Z"
   },
   {
    "duration": 4,
    "start_time": "2022-07-04T15:15:24.842Z"
   },
   {
    "duration": 11,
    "start_time": "2022-07-04T15:15:24.848Z"
   },
   {
    "duration": 1437147,
    "start_time": "2022-07-04T15:15:24.860Z"
   },
   {
    "duration": 14,
    "start_time": "2022-07-04T15:39:22.009Z"
   },
   {
    "duration": 0,
    "start_time": "2022-07-04T15:39:22.024Z"
   },
   {
    "duration": 0,
    "start_time": "2022-07-04T15:39:22.026Z"
   },
   {
    "duration": 1252,
    "start_time": "2022-07-04T15:50:57.503Z"
   },
   {
    "duration": 2196,
    "start_time": "2022-07-04T15:50:58.756Z"
   },
   {
    "duration": 13,
    "start_time": "2022-07-04T15:51:00.954Z"
   },
   {
    "duration": 1832,
    "start_time": "2022-07-04T15:51:00.969Z"
   },
   {
    "duration": 8,
    "start_time": "2022-07-04T15:51:02.803Z"
   },
   {
    "duration": 13,
    "start_time": "2022-07-04T15:51:02.813Z"
   },
   {
    "duration": 242,
    "start_time": "2022-07-04T15:51:02.828Z"
   },
   {
    "duration": 4,
    "start_time": "2022-07-04T15:51:03.071Z"
   },
   {
    "duration": 1679,
    "start_time": "2022-07-04T15:51:03.076Z"
   },
   {
    "duration": 2265,
    "start_time": "2022-07-04T15:51:04.757Z"
   },
   {
    "duration": 28,
    "start_time": "2022-07-04T15:51:07.024Z"
   },
   {
    "duration": 3,
    "start_time": "2022-07-04T15:51:07.053Z"
   },
   {
    "duration": 6,
    "start_time": "2022-07-04T15:51:07.057Z"
   },
   {
    "duration": 5,
    "start_time": "2022-07-04T15:51:07.064Z"
   },
   {
    "duration": 4770,
    "start_time": "2022-07-04T15:51:07.070Z"
   },
   {
    "duration": 1100,
    "start_time": "2022-07-04T15:51:11.841Z"
   },
   {
    "duration": 4,
    "start_time": "2022-07-04T15:51:12.942Z"
   },
   {
    "duration": 5,
    "start_time": "2022-07-04T15:51:12.948Z"
   },
   {
    "duration": 453959,
    "start_time": "2022-07-04T15:51:12.954Z"
   },
   {
    "duration": 12,
    "start_time": "2022-07-04T15:58:46.915Z"
   },
   {
    "duration": 1,
    "start_time": "2022-07-04T15:58:46.928Z"
   },
   {
    "duration": 0,
    "start_time": "2022-07-04T15:58:46.930Z"
   },
   {
    "duration": 1279,
    "start_time": "2022-07-04T15:59:06.786Z"
   },
   {
    "duration": 2984,
    "start_time": "2022-07-04T15:59:08.067Z"
   },
   {
    "duration": 15,
    "start_time": "2022-07-04T15:59:11.055Z"
   },
   {
    "duration": 1684,
    "start_time": "2022-07-04T15:59:11.071Z"
   },
   {
    "duration": 4,
    "start_time": "2022-07-04T15:59:12.757Z"
   },
   {
    "duration": 4,
    "start_time": "2022-07-04T15:59:12.763Z"
   },
   {
    "duration": 170,
    "start_time": "2022-07-04T15:59:12.768Z"
   },
   {
    "duration": 5,
    "start_time": "2022-07-04T15:59:12.940Z"
   },
   {
    "duration": 1931,
    "start_time": "2022-07-04T15:59:12.947Z"
   },
   {
    "duration": 2224,
    "start_time": "2022-07-04T15:59:14.879Z"
   },
   {
    "duration": 30,
    "start_time": "2022-07-04T15:59:17.105Z"
   },
   {
    "duration": 3,
    "start_time": "2022-07-04T15:59:17.137Z"
   },
   {
    "duration": 4,
    "start_time": "2022-07-04T15:59:17.141Z"
   },
   {
    "duration": 3,
    "start_time": "2022-07-04T15:59:17.147Z"
   },
   {
    "duration": 4799,
    "start_time": "2022-07-04T15:59:17.151Z"
   },
   {
    "duration": 1105,
    "start_time": "2022-07-04T15:59:21.952Z"
   },
   {
    "duration": 4,
    "start_time": "2022-07-04T15:59:23.058Z"
   },
   {
    "duration": 12,
    "start_time": "2022-07-04T15:59:23.063Z"
   },
   {
    "duration": 1219420,
    "start_time": "2022-07-04T15:59:23.076Z"
   },
   {
    "duration": 98,
    "start_time": "2022-07-04T16:19:42.498Z"
   },
   {
    "duration": 4,
    "start_time": "2022-07-04T16:19:42.597Z"
   },
   {
    "duration": 7,
    "start_time": "2022-07-04T16:19:42.602Z"
   },
   {
    "duration": 1202277,
    "start_time": "2022-07-04T16:24:08.120Z"
   },
   {
    "duration": 101,
    "start_time": "2022-07-04T16:44:10.403Z"
   },
   {
    "duration": 3,
    "start_time": "2022-07-04T16:44:10.506Z"
   },
   {
    "duration": 10,
    "start_time": "2022-07-04T16:44:10.512Z"
   },
   {
    "duration": 1413619,
    "start_time": "2022-07-04T17:01:14.280Z"
   },
   {
    "duration": 1342310,
    "start_time": "2022-07-04T17:41:05.484Z"
   },
   {
    "duration": 98,
    "start_time": "2022-07-04T18:03:27.797Z"
   },
   {
    "duration": 5,
    "start_time": "2022-07-04T18:03:27.896Z"
   },
   {
    "duration": 7,
    "start_time": "2022-07-04T18:03:27.903Z"
   },
   {
    "duration": 327075,
    "start_time": "2022-07-04T18:28:09.780Z"
   },
   {
    "duration": 13,
    "start_time": "2022-07-04T18:33:36.857Z"
   },
   {
    "duration": 3,
    "start_time": "2022-07-04T18:33:36.871Z"
   },
   {
    "duration": 1712343,
    "start_time": "2022-07-04T18:33:39.660Z"
   },
   {
    "duration": 14,
    "start_time": "2022-07-04T19:02:12.095Z"
   },
   {
    "duration": 3,
    "start_time": "2022-07-04T19:02:12.110Z"
   },
   {
    "duration": 1874290,
    "start_time": "2022-07-04T19:14:03.705Z"
   },
   {
    "duration": 98,
    "start_time": "2022-07-04T19:45:17.997Z"
   },
   {
    "duration": 5,
    "start_time": "2022-07-04T19:45:18.096Z"
   },
   {
    "duration": 7,
    "start_time": "2022-07-04T19:45:18.102Z"
   },
   {
    "duration": 1375,
    "start_time": "2022-07-05T16:21:27.912Z"
   },
   {
    "duration": 2346,
    "start_time": "2022-07-05T16:21:32.160Z"
   },
   {
    "duration": 15,
    "start_time": "2022-07-05T16:21:34.508Z"
   },
   {
    "duration": 8,
    "start_time": "2022-07-05T16:21:34.524Z"
   },
   {
    "duration": 3,
    "start_time": "2022-07-05T16:21:36.463Z"
   },
   {
    "duration": 3,
    "start_time": "2022-07-05T16:21:37.207Z"
   },
   {
    "duration": 283,
    "start_time": "2022-07-05T16:21:38.535Z"
   },
   {
    "duration": 4,
    "start_time": "2022-07-05T16:21:39.942Z"
   },
   {
    "duration": 1946,
    "start_time": "2022-07-05T16:21:40.671Z"
   },
   {
    "duration": 2702,
    "start_time": "2022-07-05T16:21:42.620Z"
   },
   {
    "duration": 43,
    "start_time": "2022-07-05T16:21:45.323Z"
   },
   {
    "duration": 4,
    "start_time": "2022-07-05T16:21:45.369Z"
   },
   {
    "duration": 15,
    "start_time": "2022-07-05T16:21:45.375Z"
   },
   {
    "duration": 3,
    "start_time": "2022-07-05T16:21:45.613Z"
   },
   {
    "duration": 5319,
    "start_time": "2022-07-05T16:21:46.798Z"
   },
   {
    "duration": 1255,
    "start_time": "2022-07-05T16:21:52.118Z"
   },
   {
    "duration": 4,
    "start_time": "2022-07-05T16:22:46.821Z"
   },
   {
    "duration": 4,
    "start_time": "2022-07-05T16:23:03.543Z"
   },
   {
    "duration": 717,
    "start_time": "2022-07-05T16:24:02.679Z"
   },
   {
    "duration": 253,
    "start_time": "2022-07-05T16:24:51.819Z"
   },
   {
    "duration": 12,
    "start_time": "2022-07-05T16:28:14.523Z"
   },
   {
    "duration": 4,
    "start_time": "2022-07-05T16:28:39.183Z"
   },
   {
    "duration": 26,
    "start_time": "2022-07-05T16:29:17.734Z"
   },
   {
    "duration": 174,
    "start_time": "2022-07-05T16:29:26.335Z"
   },
   {
    "duration": 6,
    "start_time": "2022-07-05T16:30:41.428Z"
   },
   {
    "duration": 11541265,
    "start_time": "2022-07-05T16:31:14.020Z"
   },
   {
    "duration": 10026973,
    "start_time": "2022-07-05T21:28:58.665Z"
   },
   {
    "duration": 1285,
    "start_time": "2022-07-12T12:46:43.284Z"
   },
   {
    "duration": 2258,
    "start_time": "2022-07-12T12:46:45.066Z"
   },
   {
    "duration": 16,
    "start_time": "2022-07-12T12:46:47.326Z"
   },
   {
    "duration": 108,
    "start_time": "2022-07-12T12:47:08.282Z"
   },
   {
    "duration": 210,
    "start_time": "2022-07-12T12:47:28.386Z"
   },
   {
    "duration": 178,
    "start_time": "2022-07-12T12:47:34.346Z"
   },
   {
    "duration": 184,
    "start_time": "2022-07-12T12:50:21.761Z"
   },
   {
    "duration": 3543,
    "start_time": "2022-07-12T12:50:28.841Z"
   },
   {
    "duration": 8,
    "start_time": "2022-07-12T12:50:32.386Z"
   },
   {
    "duration": 8,
    "start_time": "2022-07-12T12:50:32.396Z"
   },
   {
    "duration": 300,
    "start_time": "2022-07-12T12:50:33.857Z"
   },
   {
    "duration": 4,
    "start_time": "2022-07-12T12:50:36.450Z"
   },
   {
    "duration": 2010,
    "start_time": "2022-07-12T12:50:38.993Z"
   },
   {
    "duration": 70,
    "start_time": "2022-07-12T12:51:02.969Z"
   },
   {
    "duration": 29,
    "start_time": "2022-07-12T12:51:10.777Z"
   },
   {
    "duration": 2735,
    "start_time": "2022-07-12T12:52:59.609Z"
   },
   {
    "duration": 1480,
    "start_time": "2022-07-12T12:53:56.290Z"
   },
   {
    "duration": 49,
    "start_time": "2022-07-12T12:53:58.417Z"
   },
   {
    "duration": 4,
    "start_time": "2022-07-12T12:53:59.665Z"
   },
   {
    "duration": 4,
    "start_time": "2022-07-12T12:54:01.121Z"
   },
   {
    "duration": 2,
    "start_time": "2022-07-12T12:54:02.513Z"
   },
   {
    "duration": 5579,
    "start_time": "2022-07-12T12:54:07.193Z"
   },
   {
    "duration": 1260,
    "start_time": "2022-07-12T12:54:12.985Z"
   },
   {
    "duration": 4,
    "start_time": "2022-07-12T12:54:19.145Z"
   },
   {
    "duration": 4,
    "start_time": "2022-07-12T12:54:20.242Z"
   },
   {
    "duration": 704,
    "start_time": "2022-07-12T12:54:22.137Z"
   },
   {
    "duration": 255,
    "start_time": "2022-07-12T12:54:24.016Z"
   },
   {
    "duration": 1362,
    "start_time": "2022-07-12T16:58:02.879Z"
   },
   {
    "duration": 2114,
    "start_time": "2022-07-12T16:58:05.019Z"
   },
   {
    "duration": 16,
    "start_time": "2022-07-12T16:58:07.610Z"
   },
   {
    "duration": 222,
    "start_time": "2022-07-12T16:58:08.993Z"
   },
   {
    "duration": 1961,
    "start_time": "2022-07-12T16:58:17.481Z"
   },
   {
    "duration": 2,
    "start_time": "2022-07-12T16:58:20.728Z"
   },
   {
    "duration": 3,
    "start_time": "2022-07-12T16:58:22.264Z"
   },
   {
    "duration": 197,
    "start_time": "2022-07-12T16:58:25.048Z"
   },
   {
    "duration": 7,
    "start_time": "2022-07-12T16:58:27.224Z"
   },
   {
    "duration": 326,
    "start_time": "2022-07-12T16:58:30.611Z"
   },
   {
    "duration": 3,
    "start_time": "2022-07-12T16:58:54.615Z"
   },
   {
    "duration": 5,
    "start_time": "2022-07-12T16:58:58.225Z"
   },
   {
    "duration": 3,
    "start_time": "2022-07-12T16:58:59.655Z"
   },
   {
    "duration": 2124,
    "start_time": "2022-07-12T16:59:00.853Z"
   },
   {
    "duration": 67,
    "start_time": "2022-07-12T16:59:08.423Z"
   },
   {
    "duration": 54,
    "start_time": "2022-07-12T16:59:48.963Z"
   },
   {
    "duration": 49,
    "start_time": "2022-07-12T16:59:56.858Z"
   },
   {
    "duration": 1340,
    "start_time": "2022-07-12T17:00:09.656Z"
   },
   {
    "duration": 1806,
    "start_time": "2022-07-12T17:00:11.855Z"
   },
   {
    "duration": 16,
    "start_time": "2022-07-12T17:00:14.263Z"
   },
   {
    "duration": 2030,
    "start_time": "2022-07-12T17:00:16.089Z"
   },
   {
    "duration": 3,
    "start_time": "2022-07-12T17:00:18.865Z"
   },
   {
    "duration": 3,
    "start_time": "2022-07-12T17:00:20.064Z"
   },
   {
    "duration": 122,
    "start_time": "2022-07-12T17:00:24.112Z"
   },
   {
    "duration": 6,
    "start_time": "2022-07-12T17:00:25.609Z"
   },
   {
    "duration": 2177,
    "start_time": "2022-07-12T17:00:27.058Z"
   },
   {
    "duration": 72,
    "start_time": "2022-07-12T17:00:29.237Z"
   },
   {
    "duration": 162,
    "start_time": "2022-07-12T17:00:30.673Z"
   },
   {
    "duration": 9,
    "start_time": "2022-07-12T17:00:57.417Z"
   },
   {
    "duration": 9,
    "start_time": "2022-07-12T17:01:09.256Z"
   },
   {
    "duration": 2155,
    "start_time": "2022-07-12T17:01:18.550Z"
   },
   {
    "duration": 66,
    "start_time": "2022-07-12T17:01:21.776Z"
   },
   {
    "duration": 59,
    "start_time": "2022-07-12T17:01:47.192Z"
   },
   {
    "duration": 27,
    "start_time": "2022-07-12T17:01:56.274Z"
   },
   {
    "duration": 2661,
    "start_time": "2022-07-12T17:02:06.097Z"
   },
   {
    "duration": 13,
    "start_time": "2022-07-12T17:02:12.979Z"
   },
   {
    "duration": 572,
    "start_time": "2022-07-12T17:02:38.785Z"
   },
   {
    "duration": 6,
    "start_time": "2022-07-12T17:02:54.374Z"
   },
   {
    "duration": 6,
    "start_time": "2022-07-12T17:05:11.269Z"
   },
   {
    "duration": 2126,
    "start_time": "2022-07-12T17:06:14.183Z"
   },
   {
    "duration": 71,
    "start_time": "2022-07-12T17:06:27.340Z"
   },
   {
    "duration": 53,
    "start_time": "2022-07-12T17:06:39.199Z"
   },
   {
    "duration": 54,
    "start_time": "2022-07-12T17:06:40.695Z"
   },
   {
    "duration": 49,
    "start_time": "2022-07-12T17:06:49.632Z"
   },
   {
    "duration": 3,
    "start_time": "2022-07-12T17:06:56.791Z"
   },
   {
    "duration": 3,
    "start_time": "2022-07-12T17:06:57.812Z"
   },
   {
    "duration": 6,
    "start_time": "2022-07-12T17:06:58.660Z"
   },
   {
    "duration": 3,
    "start_time": "2022-07-12T17:06:59.959Z"
   },
   {
    "duration": 254,
    "start_time": "2022-07-12T17:07:01.207Z"
   },
   {
    "duration": 1743,
    "start_time": "2022-07-12T17:07:08.395Z"
   },
   {
    "duration": 9,
    "start_time": "2022-07-12T17:07:10.942Z"
   },
   {
    "duration": 1260,
    "start_time": "2022-07-12T17:07:25.447Z"
   },
   {
    "duration": 1895,
    "start_time": "2022-07-12T17:07:28.351Z"
   },
   {
    "duration": 15,
    "start_time": "2022-07-12T17:07:39.941Z"
   },
   {
    "duration": 1970,
    "start_time": "2022-07-12T17:07:42.780Z"
   },
   {
    "duration": 3,
    "start_time": "2022-07-12T17:07:45.742Z"
   },
   {
    "duration": 2,
    "start_time": "2022-07-12T17:07:47.294Z"
   },
   {
    "duration": 196,
    "start_time": "2022-07-12T17:07:48.518Z"
   },
   {
    "duration": 6,
    "start_time": "2022-07-12T17:07:50.253Z"
   },
   {
    "duration": 2033,
    "start_time": "2022-07-12T17:07:51.895Z"
   },
   {
    "duration": 66,
    "start_time": "2022-07-12T17:07:55.326Z"
   },
   {
    "duration": 55,
    "start_time": "2022-07-12T17:07:56.790Z"
   },
   {
    "duration": 1615,
    "start_time": "2022-07-12T17:08:27.686Z"
   },
   {
    "duration": 9,
    "start_time": "2022-07-12T17:08:29.982Z"
   },
   {
    "duration": 1240,
    "start_time": "2022-07-12T17:08:42.844Z"
   },
   {
    "duration": 1481,
    "start_time": "2022-07-12T17:08:45.031Z"
   },
   {
    "duration": 14,
    "start_time": "2022-07-12T17:08:47.263Z"
   },
   {
    "duration": 1993,
    "start_time": "2022-07-12T17:08:48.799Z"
   },
   {
    "duration": 3,
    "start_time": "2022-07-12T17:08:51.642Z"
   },
   {
    "duration": 4,
    "start_time": "2022-07-12T17:08:53.768Z"
   },
   {
    "duration": 214,
    "start_time": "2022-07-12T17:08:54.965Z"
   },
   {
    "duration": 7,
    "start_time": "2022-07-12T17:08:56.318Z"
   },
   {
    "duration": 2053,
    "start_time": "2022-07-12T17:08:57.412Z"
   },
   {
    "duration": 69,
    "start_time": "2022-07-12T17:08:59.467Z"
   },
   {
    "duration": 65,
    "start_time": "2022-07-12T17:09:00.959Z"
   },
   {
    "duration": 177,
    "start_time": "2022-07-12T17:10:26.445Z"
   },
   {
    "duration": 216,
    "start_time": "2022-07-12T17:10:31.950Z"
   },
   {
    "duration": 371,
    "start_time": "2022-07-12T17:10:38.301Z"
   },
   {
    "duration": 2774,
    "start_time": "2022-07-12T17:10:59.967Z"
   },
   {
    "duration": 7,
    "start_time": "2022-07-12T17:11:06.503Z"
   },
   {
    "duration": 6,
    "start_time": "2022-07-12T17:11:10.589Z"
   },
   {
    "duration": 11,
    "start_time": "2022-07-12T17:11:19.219Z"
   },
   {
    "duration": 69,
    "start_time": "2022-07-12T17:13:38.814Z"
   },
   {
    "duration": 4,
    "start_time": "2022-07-12T17:13:41.314Z"
   },
   {
    "duration": 4,
    "start_time": "2022-07-12T17:13:43.717Z"
   },
   {
    "duration": 9,
    "start_time": "2022-07-12T17:14:06.179Z"
   },
   {
    "duration": 4,
    "start_time": "2022-07-12T17:14:29.050Z"
   },
   {
    "duration": 165,
    "start_time": "2022-07-12T17:17:52.714Z"
   },
   {
    "duration": 59,
    "start_time": "2022-07-12T17:19:32.361Z"
   },
   {
    "duration": 3,
    "start_time": "2022-07-12T17:19:34.773Z"
   },
   {
    "duration": 4,
    "start_time": "2022-07-12T17:19:36.662Z"
   },
   {
    "duration": 6,
    "start_time": "2022-07-12T17:19:39.378Z"
   },
   {
    "duration": 6,
    "start_time": "2022-07-12T17:19:44.114Z"
   },
   {
    "duration": 3,
    "start_time": "2022-07-12T17:20:38.376Z"
   },
   {
    "duration": 5337,
    "start_time": "2022-07-12T17:20:48.914Z"
   },
   {
    "duration": 1219,
    "start_time": "2022-07-12T17:20:54.253Z"
   },
   {
    "duration": 4,
    "start_time": "2022-07-12T17:21:00.149Z"
   },
   {
    "duration": 4,
    "start_time": "2022-07-12T17:21:01.377Z"
   },
   {
    "duration": 684,
    "start_time": "2022-07-12T17:21:03.305Z"
   },
   {
    "duration": 218,
    "start_time": "2022-07-12T17:21:05.514Z"
   },
   {
    "duration": 118,
    "start_time": "2022-07-12T17:21:20.214Z"
   },
   {
    "duration": 1247,
    "start_time": "2022-07-12T17:21:29.344Z"
   },
   {
    "duration": 1820,
    "start_time": "2022-07-12T17:21:30.593Z"
   },
   {
    "duration": 15,
    "start_time": "2022-07-12T17:21:32.415Z"
   },
   {
    "duration": 1967,
    "start_time": "2022-07-12T17:21:32.432Z"
   },
   {
    "duration": 3,
    "start_time": "2022-07-12T17:21:34.402Z"
   },
   {
    "duration": 7,
    "start_time": "2022-07-12T17:21:34.410Z"
   },
   {
    "duration": 165,
    "start_time": "2022-07-12T17:21:34.418Z"
   },
   {
    "duration": 6,
    "start_time": "2022-07-12T17:21:34.584Z"
   },
   {
    "duration": 1994,
    "start_time": "2022-07-12T17:21:34.591Z"
   },
   {
    "duration": 174,
    "start_time": "2022-07-12T17:21:36.587Z"
   },
   {
    "duration": 352,
    "start_time": "2022-07-12T17:21:36.763Z"
   },
   {
    "duration": 2568,
    "start_time": "2022-07-12T17:21:37.117Z"
   },
   {
    "duration": 9,
    "start_time": "2022-07-12T17:21:39.686Z"
   },
   {
    "duration": 66,
    "start_time": "2022-07-12T17:21:39.698Z"
   },
   {
    "duration": 3,
    "start_time": "2022-07-12T17:21:39.766Z"
   },
   {
    "duration": 29,
    "start_time": "2022-07-12T17:21:39.771Z"
   },
   {
    "duration": 39,
    "start_time": "2022-07-12T17:21:39.801Z"
   },
   {
    "duration": 22,
    "start_time": "2022-07-12T17:21:39.841Z"
   },
   {
    "duration": 5241,
    "start_time": "2022-07-12T17:21:39.865Z"
   },
   {
    "duration": 1245,
    "start_time": "2022-07-12T17:21:45.109Z"
   },
   {
    "duration": 4,
    "start_time": "2022-07-12T17:21:46.355Z"
   },
   {
    "duration": 34,
    "start_time": "2022-07-12T17:21:46.360Z"
   },
   {
    "duration": 693,
    "start_time": "2022-07-12T17:21:46.396Z"
   },
   {
    "duration": 236,
    "start_time": "2022-07-12T17:21:47.091Z"
   },
   {
    "duration": 1235,
    "start_time": "2022-07-12T17:22:24.872Z"
   },
   {
    "duration": 1977,
    "start_time": "2022-07-12T17:22:26.110Z"
   },
   {
    "duration": 29,
    "start_time": "2022-07-12T17:22:28.089Z"
   },
   {
    "duration": 1992,
    "start_time": "2022-07-12T17:22:28.120Z"
   },
   {
    "duration": 22,
    "start_time": "2022-07-12T17:22:30.114Z"
   },
   {
    "duration": 11,
    "start_time": "2022-07-12T17:22:30.138Z"
   },
   {
    "duration": 153,
    "start_time": "2022-07-12T17:22:30.151Z"
   },
   {
    "duration": 5,
    "start_time": "2022-07-12T17:22:30.306Z"
   },
   {
    "duration": 2097,
    "start_time": "2022-07-12T17:22:30.313Z"
   },
   {
    "duration": 185,
    "start_time": "2022-07-12T17:22:32.412Z"
   },
   {
    "duration": 360,
    "start_time": "2022-07-12T17:22:32.599Z"
   },
   {
    "duration": 2559,
    "start_time": "2022-07-12T17:22:32.961Z"
   },
   {
    "duration": 8,
    "start_time": "2022-07-12T17:22:35.522Z"
   },
   {
    "duration": 78,
    "start_time": "2022-07-12T17:22:35.532Z"
   },
   {
    "duration": 3,
    "start_time": "2022-07-12T17:22:35.612Z"
   },
   {
    "duration": 6,
    "start_time": "2022-07-12T17:22:35.617Z"
   },
   {
    "duration": 8,
    "start_time": "2022-07-12T17:22:35.624Z"
   },
   {
    "duration": 6,
    "start_time": "2022-07-12T17:22:35.633Z"
   },
   {
    "duration": 5065,
    "start_time": "2022-07-12T17:22:35.640Z"
   },
   {
    "duration": 1208,
    "start_time": "2022-07-12T17:22:40.707Z"
   },
   {
    "duration": 4,
    "start_time": "2022-07-12T17:22:41.917Z"
   },
   {
    "duration": 10,
    "start_time": "2022-07-12T17:22:41.923Z"
   },
   {
    "duration": 639,
    "start_time": "2022-07-12T17:22:41.934Z"
   },
   {
    "duration": 211,
    "start_time": "2022-07-12T17:22:42.574Z"
   },
   {
    "duration": 2157625,
    "start_time": "2022-07-12T17:22:42.786Z"
   },
   {
    "duration": 1278,
    "start_time": "2022-07-13T11:22:18.482Z"
   },
   {
    "duration": 2201,
    "start_time": "2022-07-13T11:22:20.097Z"
   },
   {
    "duration": 13,
    "start_time": "2022-07-13T11:22:22.729Z"
   },
   {
    "duration": 1797,
    "start_time": "2022-07-13T11:22:24.402Z"
   },
   {
    "duration": 2,
    "start_time": "2022-07-13T11:22:26.998Z"
   },
   {
    "duration": 3,
    "start_time": "2022-07-13T11:22:28.432Z"
   },
   {
    "duration": 314,
    "start_time": "2022-07-13T11:22:29.890Z"
   },
   {
    "duration": 4,
    "start_time": "2022-07-13T11:22:31.501Z"
   },
   {
    "duration": 2102,
    "start_time": "2022-07-13T11:22:32.481Z"
   },
   {
    "duration": 189,
    "start_time": "2022-07-13T11:22:34.586Z"
   },
   {
    "duration": 389,
    "start_time": "2022-07-13T11:22:36.378Z"
   },
   {
    "duration": 10,
    "start_time": "2022-07-13T11:22:38.216Z"
   },
   {
    "duration": 59,
    "start_time": "2022-07-13T11:22:40.241Z"
   },
   {
    "duration": 3,
    "start_time": "2022-07-13T11:22:41.500Z"
   },
   {
    "duration": 7,
    "start_time": "2022-07-13T11:22:42.431Z"
   },
   {
    "duration": 5,
    "start_time": "2022-07-13T11:22:43.441Z"
   },
   {
    "duration": 2,
    "start_time": "2022-07-13T11:22:45.713Z"
   },
   {
    "duration": 5608,
    "start_time": "2022-07-13T11:22:47.185Z"
   },
   {
    "duration": 1391,
    "start_time": "2022-07-13T11:22:52.795Z"
   },
   {
    "duration": 4,
    "start_time": "2022-07-13T11:22:54.188Z"
   },
   {
    "duration": 3,
    "start_time": "2022-07-13T11:22:55.432Z"
   },
   {
    "duration": 1278482,
    "start_time": "2022-07-13T11:24:07.458Z"
   },
   {
    "duration": 7,
    "start_time": "2022-07-13T11:45:25.944Z"
   },
   {
    "duration": 958181,
    "start_time": "2022-07-13T11:45:57.757Z"
   },
   {
    "duration": 80,
    "start_time": "2022-07-13T12:01:55.945Z"
   },
   {
    "duration": 982663,
    "start_time": "2022-07-13T12:13:15.960Z"
   },
   {
    "duration": 3,
    "start_time": "2022-07-13T12:29:38.626Z"
   },
   {
    "duration": 892,
    "start_time": "2022-07-13T12:32:20.269Z"
   },
   {
    "duration": 288,
    "start_time": "2022-07-13T12:32:22.021Z"
   },
   {
    "duration": 1730,
    "start_time": "2022-07-13T12:32:53.469Z"
   },
   {
    "duration": 2266,
    "start_time": "2022-07-13T12:32:55.201Z"
   },
   {
    "duration": 17,
    "start_time": "2022-07-13T12:32:57.470Z"
   },
   {
    "duration": 1938,
    "start_time": "2022-07-13T12:32:57.489Z"
   },
   {
    "duration": 5,
    "start_time": "2022-07-13T12:32:59.429Z"
   },
   {
    "duration": 23,
    "start_time": "2022-07-13T12:32:59.435Z"
   },
   {
    "duration": 139,
    "start_time": "2022-07-13T12:32:59.460Z"
   },
   {
    "duration": 6,
    "start_time": "2022-07-13T12:32:59.601Z"
   },
   {
    "duration": 2240,
    "start_time": "2022-07-13T12:32:59.609Z"
   },
   {
    "duration": 218,
    "start_time": "2022-07-13T12:33:01.851Z"
   },
   {
    "duration": 398,
    "start_time": "2022-07-13T12:33:02.071Z"
   },
   {
    "duration": 2832,
    "start_time": "2022-07-13T12:33:02.470Z"
   },
   {
    "duration": 20,
    "start_time": "2022-07-13T12:33:05.304Z"
   },
   {
    "duration": 63,
    "start_time": "2022-07-13T12:33:05.327Z"
   },
   {
    "duration": 4,
    "start_time": "2022-07-13T12:33:05.392Z"
   },
   {
    "duration": 27,
    "start_time": "2022-07-13T12:33:05.397Z"
   },
   {
    "duration": 9,
    "start_time": "2022-07-13T12:33:05.426Z"
   },
   {
    "duration": 7,
    "start_time": "2022-07-13T12:33:05.436Z"
   },
   {
    "duration": 6108,
    "start_time": "2022-07-13T12:33:05.444Z"
   },
   {
    "duration": 1398,
    "start_time": "2022-07-13T12:33:11.554Z"
   },
   {
    "duration": 3,
    "start_time": "2022-07-13T12:33:12.954Z"
   },
   {
    "duration": 7,
    "start_time": "2022-07-13T12:33:12.959Z"
   },
   {
    "duration": 1236572,
    "start_time": "2022-07-13T12:33:12.968Z"
   },
   {
    "duration": 84,
    "start_time": "2022-07-13T12:53:49.542Z"
   },
   {
    "duration": 870,
    "start_time": "2022-07-13T12:53:49.627Z"
   },
   {
    "duration": 233,
    "start_time": "2022-07-13T12:53:50.499Z"
   },
   {
    "duration": 53,
    "start_time": "2022-07-13T12:56:06.679Z"
   },
   {
    "duration": 2427,
    "start_time": "2022-07-13T12:56:49.778Z"
   },
   {
    "duration": 2564,
    "start_time": "2022-07-13T12:56:52.207Z"
   },
   {
    "duration": 13,
    "start_time": "2022-07-13T12:56:54.773Z"
   },
   {
    "duration": 1841,
    "start_time": "2022-07-13T12:56:54.788Z"
   },
   {
    "duration": 5,
    "start_time": "2022-07-13T12:56:56.632Z"
   },
   {
    "duration": 5,
    "start_time": "2022-07-13T12:56:56.638Z"
   },
   {
    "duration": 190,
    "start_time": "2022-07-13T12:56:56.644Z"
   },
   {
    "duration": 6,
    "start_time": "2022-07-13T12:56:56.836Z"
   },
   {
    "duration": 2118,
    "start_time": "2022-07-13T12:56:56.843Z"
   },
   {
    "duration": 222,
    "start_time": "2022-07-13T12:56:58.963Z"
   },
   {
    "duration": 384,
    "start_time": "2022-07-13T12:56:59.187Z"
   },
   {
    "duration": 2676,
    "start_time": "2022-07-13T12:56:59.572Z"
   },
   {
    "duration": 11,
    "start_time": "2022-07-13T12:57:02.250Z"
   },
   {
    "duration": 76,
    "start_time": "2022-07-13T12:57:02.265Z"
   },
   {
    "duration": 5,
    "start_time": "2022-07-13T12:57:02.343Z"
   },
   {
    "duration": 21,
    "start_time": "2022-07-13T12:57:02.349Z"
   },
   {
    "duration": 7,
    "start_time": "2022-07-13T12:57:02.371Z"
   },
   {
    "duration": 4,
    "start_time": "2022-07-13T12:57:02.380Z"
   },
   {
    "duration": 5746,
    "start_time": "2022-07-13T12:57:02.386Z"
   },
   {
    "duration": 1409,
    "start_time": "2022-07-13T12:57:08.134Z"
   },
   {
    "duration": 4,
    "start_time": "2022-07-13T12:57:09.544Z"
   },
   {
    "duration": 10,
    "start_time": "2022-07-13T12:57:09.549Z"
   },
   {
    "duration": 1121665,
    "start_time": "2022-07-13T12:57:09.561Z"
   },
   {
    "duration": 4,
    "start_time": "2022-07-13T13:15:51.228Z"
   },
   {
    "duration": 649,
    "start_time": "2022-07-13T13:15:51.323Z"
   },
   {
    "duration": 221,
    "start_time": "2022-07-13T13:15:51.974Z"
   },
   {
    "duration": 16,
    "start_time": "2022-07-13T13:15:52.196Z"
   },
   {
    "duration": 3,
    "start_time": "2022-07-13T13:15:52.223Z"
   },
   {
    "duration": 19,
    "start_time": "2022-07-13T13:15:52.227Z"
   },
   {
    "duration": 50,
    "start_time": "2022-07-13T13:24:27.251Z"
   },
   {
    "duration": 2069,
    "start_time": "2022-07-13T13:29:03.923Z"
   },
   {
    "duration": 2130,
    "start_time": "2022-07-13T13:29:05.994Z"
   },
   {
    "duration": 15,
    "start_time": "2022-07-13T13:29:08.127Z"
   },
   {
    "duration": 1949,
    "start_time": "2022-07-13T13:29:08.144Z"
   },
   {
    "duration": 9,
    "start_time": "2022-07-13T13:29:10.095Z"
   },
   {
    "duration": 18,
    "start_time": "2022-07-13T13:29:10.106Z"
   },
   {
    "duration": 137,
    "start_time": "2022-07-13T13:29:12.065Z"
   },
   {
    "duration": 7,
    "start_time": "2022-07-13T13:29:13.250Z"
   },
   {
    "duration": 2204,
    "start_time": "2022-07-13T13:29:14.315Z"
   },
   {
    "duration": 204,
    "start_time": "2022-07-13T13:29:16.521Z"
   },
   {
    "duration": 419,
    "start_time": "2022-07-13T13:29:16.727Z"
   },
   {
    "duration": 2833,
    "start_time": "2022-07-13T13:29:18.249Z"
   },
   {
    "duration": 11,
    "start_time": "2022-07-13T13:29:21.084Z"
   },
   {
    "duration": 72,
    "start_time": "2022-07-13T13:29:22.882Z"
   },
   {
    "duration": 4,
    "start_time": "2022-07-13T13:29:23.962Z"
   },
   {
    "duration": 4,
    "start_time": "2022-07-13T13:29:24.746Z"
   },
   {
    "duration": 6,
    "start_time": "2022-07-13T13:29:25.942Z"
   },
   {
    "duration": 2,
    "start_time": "2022-07-13T13:29:29.722Z"
   },
   {
    "duration": 6003,
    "start_time": "2022-07-13T13:29:30.746Z"
   },
   {
    "duration": 1377,
    "start_time": "2022-07-13T13:29:36.751Z"
   },
   {
    "duration": 4,
    "start_time": "2022-07-13T13:29:38.130Z"
   },
   {
    "duration": 10,
    "start_time": "2022-07-13T13:29:38.135Z"
   },
   {
    "duration": 135,
    "start_time": "2022-07-13T13:31:12.249Z"
   },
   {
    "duration": 174,
    "start_time": "2022-07-13T13:32:43.706Z"
   },
   {
    "duration": 156,
    "start_time": "2022-07-13T13:38:48.074Z"
   },
   {
    "duration": 2104,
    "start_time": "2022-07-13T13:38:54.622Z"
   },
   {
    "duration": 1939,
    "start_time": "2022-07-13T13:38:56.729Z"
   },
   {
    "duration": 17,
    "start_time": "2022-07-13T13:38:58.670Z"
   },
   {
    "duration": 1866,
    "start_time": "2022-07-13T13:38:58.690Z"
   },
   {
    "duration": 26,
    "start_time": "2022-07-13T13:39:00.558Z"
   },
   {
    "duration": 21,
    "start_time": "2022-07-13T13:39:00.585Z"
   },
   {
    "duration": 228,
    "start_time": "2022-07-13T13:39:00.608Z"
   },
   {
    "duration": 6,
    "start_time": "2022-07-13T13:39:00.838Z"
   },
   {
    "duration": 2135,
    "start_time": "2022-07-13T13:39:00.845Z"
   },
   {
    "duration": 191,
    "start_time": "2022-07-13T13:39:02.982Z"
   },
   {
    "duration": 388,
    "start_time": "2022-07-13T13:39:03.175Z"
   },
   {
    "duration": 2686,
    "start_time": "2022-07-13T13:39:03.564Z"
   },
   {
    "duration": 12,
    "start_time": "2022-07-13T13:39:06.252Z"
   },
   {
    "duration": 97,
    "start_time": "2022-07-13T13:39:06.268Z"
   },
   {
    "duration": 5,
    "start_time": "2022-07-13T13:39:06.366Z"
   },
   {
    "duration": 7,
    "start_time": "2022-07-13T13:39:06.373Z"
   },
   {
    "duration": 10,
    "start_time": "2022-07-13T13:39:06.382Z"
   },
   {
    "duration": 6761,
    "start_time": "2022-07-13T13:39:06.394Z"
   },
   {
    "duration": 1436,
    "start_time": "2022-07-13T13:39:13.157Z"
   },
   {
    "duration": 4,
    "start_time": "2022-07-13T13:39:14.595Z"
   },
   {
    "duration": 9,
    "start_time": "2022-07-13T13:39:14.601Z"
   },
   {
    "duration": 1128616,
    "start_time": "2022-07-13T13:39:14.612Z"
   },
   {
    "duration": 93,
    "start_time": "2022-07-13T13:58:03.231Z"
   },
   {
    "duration": 713,
    "start_time": "2022-07-13T13:58:03.326Z"
   },
   {
    "duration": 238,
    "start_time": "2022-07-13T13:58:04.040Z"
   },
   {
    "duration": 1375,
    "start_time": "2022-07-14T12:03:44.762Z"
   },
   {
    "duration": 2543,
    "start_time": "2022-07-14T12:03:46.474Z"
   },
   {
    "duration": 12,
    "start_time": "2022-07-14T12:03:49.019Z"
   },
   {
    "duration": 1664,
    "start_time": "2022-07-14T12:03:49.241Z"
   },
   {
    "duration": 3,
    "start_time": "2022-07-14T12:03:51.770Z"
   },
   {
    "duration": 3,
    "start_time": "2022-07-14T12:03:52.953Z"
   },
   {
    "duration": 364,
    "start_time": "2022-07-14T12:03:54.385Z"
   },
   {
    "duration": 3,
    "start_time": "2022-07-14T12:03:56.066Z"
   },
   {
    "duration": 1897,
    "start_time": "2022-07-14T12:03:57.323Z"
   },
   {
    "duration": 173,
    "start_time": "2022-07-14T12:03:59.825Z"
   },
   {
    "duration": 325,
    "start_time": "2022-07-14T12:04:02.170Z"
   },
   {
    "duration": 2316,
    "start_time": "2022-07-14T12:04:04.666Z"
   },
   {
    "duration": 8,
    "start_time": "2022-07-14T12:04:08.162Z"
   },
   {
    "duration": 33,
    "start_time": "2022-07-14T12:04:43.841Z"
   },
   {
    "duration": 4,
    "start_time": "2022-07-14T12:04:45.073Z"
   },
   {
    "duration": 4,
    "start_time": "2022-07-14T12:04:46.441Z"
   },
   {
    "duration": 88,
    "start_time": "2022-07-14T12:05:56.625Z"
   },
   {
    "duration": 106,
    "start_time": "2022-07-14T12:06:35.937Z"
   },
   {
    "duration": 29,
    "start_time": "2022-07-14T12:06:38.569Z"
   },
   {
    "duration": 7,
    "start_time": "2022-07-14T12:06:39.353Z"
   },
   {
    "duration": 3,
    "start_time": "2022-07-14T12:06:43.929Z"
   },
   {
    "duration": 6128,
    "start_time": "2022-07-14T12:06:45.089Z"
   },
   {
    "duration": 5620,
    "start_time": "2022-07-14T12:07:17.529Z"
   },
   {
    "duration": 700186,
    "start_time": "2022-07-14T12:08:17.330Z"
   },
   {
    "duration": 6,
    "start_time": "2022-07-14T12:19:57.518Z"
   },
   {
    "duration": 9,
    "start_time": "2022-07-14T12:25:28.027Z"
   },
   {
    "duration": 10,
    "start_time": "2022-07-14T12:26:36.921Z"
   },
   {
    "duration": 11,
    "start_time": "2022-07-14T12:26:50.468Z"
   },
   {
    "duration": 9,
    "start_time": "2022-07-14T12:26:58.898Z"
   },
   {
    "duration": 11,
    "start_time": "2022-07-14T12:27:23.611Z"
   },
   {
    "duration": 13,
    "start_time": "2022-07-14T12:27:43.251Z"
   },
   {
    "duration": 92,
    "start_time": "2022-07-14T12:28:50.682Z"
   },
   {
    "duration": 160,
    "start_time": "2022-07-14T12:29:17.195Z"
   },
   {
    "duration": 106,
    "start_time": "2022-07-14T12:30:33.445Z"
   },
   {
    "duration": 14,
    "start_time": "2022-07-14T12:30:59.811Z"
   },
   {
    "duration": 226,
    "start_time": "2022-07-14T12:31:06.745Z"
   },
   {
    "duration": 6,
    "start_time": "2022-07-14T12:31:30.747Z"
   },
   {
    "duration": 120,
    "start_time": "2022-07-14T12:31:40.101Z"
   },
   {
    "duration": 8,
    "start_time": "2022-07-14T12:32:06.012Z"
   },
   {
    "duration": 5808459,
    "start_time": "2022-07-14T12:32:11.227Z"
   },
   {
    "duration": 17,
    "start_time": "2022-07-14T14:08:59.688Z"
   },
   {
    "duration": 699597,
    "start_time": "2022-07-15T06:27:36.206Z"
   },
   {
    "duration": 4,
    "start_time": "2022-07-15T07:01:03.780Z"
   },
   {
    "duration": 5604110,
    "start_time": "2022-07-15T07:01:36.357Z"
   },
   {
    "duration": 3,
    "start_time": "2022-07-15T08:35:00.469Z"
   },
   {
    "duration": 8,
    "start_time": "2022-07-15T08:49:35.141Z"
   },
   {
    "duration": 11,
    "start_time": "2022-07-15T08:49:42.548Z"
   },
   {
    "duration": 10,
    "start_time": "2022-07-15T08:50:05.124Z"
   },
   {
    "duration": 3,
    "start_time": "2022-07-15T08:50:09.580Z"
   },
   {
    "duration": 5,
    "start_time": "2022-07-15T08:50:11.140Z"
   },
   {
    "duration": 1321,
    "start_time": "2022-07-15T08:50:34.340Z"
   },
   {
    "duration": 2582,
    "start_time": "2022-07-15T08:50:35.663Z"
   },
   {
    "duration": 12,
    "start_time": "2022-07-15T08:50:38.247Z"
   },
   {
    "duration": 1794,
    "start_time": "2022-07-15T08:50:38.261Z"
   },
   {
    "duration": 8,
    "start_time": "2022-07-15T08:50:40.056Z"
   },
   {
    "duration": 13,
    "start_time": "2022-07-15T08:50:40.066Z"
   },
   {
    "duration": 238,
    "start_time": "2022-07-15T08:50:40.080Z"
   },
   {
    "duration": 5,
    "start_time": "2022-07-15T08:50:40.319Z"
   },
   {
    "duration": 1792,
    "start_time": "2022-07-15T08:50:40.325Z"
   },
   {
    "duration": 168,
    "start_time": "2022-07-15T08:50:42.119Z"
   },
   {
    "duration": 329,
    "start_time": "2022-07-15T08:50:42.288Z"
   },
   {
    "duration": 2283,
    "start_time": "2022-07-15T08:50:42.619Z"
   },
   {
    "duration": 8,
    "start_time": "2022-07-15T08:50:44.904Z"
   },
   {
    "duration": 25,
    "start_time": "2022-07-15T08:50:44.914Z"
   },
   {
    "duration": 177,
    "start_time": "2022-07-15T08:50:44.941Z"
   },
   {
    "duration": 14,
    "start_time": "2022-07-15T08:50:45.119Z"
   },
   {
    "duration": 5579,
    "start_time": "2022-07-15T08:50:45.135Z"
   },
   {
    "duration": 627295,
    "start_time": "2022-07-15T08:50:50.715Z"
   },
   {
    "duration": 7,
    "start_time": "2022-07-15T09:01:18.101Z"
   },
   {
    "duration": 101,
    "start_time": "2022-07-15T09:01:18.112Z"
   },
   {
    "duration": 1973775,
    "start_time": "2022-07-15T09:01:18.214Z"
   },
   {
    "duration": 3,
    "start_time": "2022-07-15T09:34:11.991Z"
   },
   {
    "duration": 13,
    "start_time": "2022-07-15T09:34:11.995Z"
   },
   {
    "duration": 13,
    "start_time": "2022-07-15T09:34:12.010Z"
   },
   {
    "duration": 2,
    "start_time": "2022-07-15T09:34:12.025Z"
   },
   {
    "duration": 9,
    "start_time": "2022-07-15T09:34:12.028Z"
   },
   {
    "duration": 4,
    "start_time": "2022-07-15T09:54:18.684Z"
   },
   {
    "duration": 9,
    "start_time": "2022-07-15T09:54:20.203Z"
   },
   {
    "duration": 4,
    "start_time": "2022-07-15T10:44:23.823Z"
   },
   {
    "duration": 2475,
    "start_time": "2022-07-15T10:44:51.954Z"
   },
   {
    "duration": 1906,
    "start_time": "2022-07-15T10:45:11.930Z"
   },
   {
    "duration": 1317,
    "start_time": "2022-07-15T11:01:41.866Z"
   },
   {
    "duration": 6,
    "start_time": "2022-07-15T11:01:47.324Z"
   },
   {
    "duration": 2680,
    "start_time": "2022-07-15T11:01:48.344Z"
   },
   {
    "duration": 3,
    "start_time": "2022-07-15T11:01:52.578Z"
   },
   {
    "duration": 5,
    "start_time": "2022-07-15T11:01:54.224Z"
   },
   {
    "duration": 240,
    "start_time": "2022-07-15T11:01:56.266Z"
   },
   {
    "duration": 4,
    "start_time": "2022-07-15T11:01:57.914Z"
   },
   {
    "duration": 1888,
    "start_time": "2022-07-15T11:01:58.778Z"
   },
   {
    "duration": 177,
    "start_time": "2022-07-15T11:02:01.322Z"
   },
   {
    "duration": 358,
    "start_time": "2022-07-15T11:02:02.977Z"
   },
   {
    "duration": 1364,
    "start_time": "2022-07-15T11:02:04.202Z"
   },
   {
    "duration": 36,
    "start_time": "2022-07-15T11:02:05.778Z"
   },
   {
    "duration": 7,
    "start_time": "2022-07-15T11:02:07.022Z"
   },
   {
    "duration": 17,
    "start_time": "2022-07-15T11:02:08.731Z"
   },
   {
    "duration": 4,
    "start_time": "2022-07-15T11:11:19.337Z"
   },
   {
    "duration": 17,
    "start_time": "2022-07-15T11:15:46.057Z"
   },
   {
    "duration": 1289,
    "start_time": "2022-07-15T11:18:31.724Z"
   },
   {
    "duration": 7352,
    "start_time": "2022-07-15T11:18:33.015Z"
   },
   {
    "duration": 3,
    "start_time": "2022-07-15T11:18:40.368Z"
   },
   {
    "duration": 7,
    "start_time": "2022-07-15T11:18:40.373Z"
   },
   {
    "duration": 249,
    "start_time": "2022-07-15T11:18:40.381Z"
   },
   {
    "duration": 3,
    "start_time": "2022-07-15T11:18:40.632Z"
   },
   {
    "duration": 1912,
    "start_time": "2022-07-15T11:18:40.636Z"
   },
   {
    "duration": 173,
    "start_time": "2022-07-15T11:18:42.549Z"
   },
   {
    "duration": 357,
    "start_time": "2022-07-15T11:18:42.724Z"
   },
   {
    "duration": 2466,
    "start_time": "2022-07-15T11:18:43.084Z"
   },
   {
    "duration": 26,
    "start_time": "2022-07-15T11:18:45.551Z"
   },
   {
    "duration": 2,
    "start_time": "2022-07-15T11:18:45.578Z"
   },
   {
    "duration": 23,
    "start_time": "2022-07-15T11:18:45.582Z"
   },
   {
    "duration": 5963,
    "start_time": "2022-07-15T11:18:45.612Z"
   },
   {
    "duration": 744829,
    "start_time": "2022-07-15T11:18:51.576Z"
   },
   {
    "duration": 8,
    "start_time": "2022-07-15T11:31:16.409Z"
   },
   {
    "duration": 2100841,
    "start_time": "2022-07-15T11:31:16.418Z"
   },
   {
    "duration": 8,
    "start_time": "2022-07-15T12:06:17.260Z"
   },
   {
    "duration": 17,
    "start_time": "2022-07-15T12:06:17.269Z"
   },
   {
    "duration": 34,
    "start_time": "2022-07-15T12:06:17.287Z"
   },
   {
    "duration": 113,
    "start_time": "2022-07-15T12:06:17.330Z"
   },
   {
    "duration": 0,
    "start_time": "2022-07-15T12:06:17.445Z"
   },
   {
    "duration": 107,
    "start_time": "2022-07-15T12:06:42.084Z"
   },
   {
    "duration": 10,
    "start_time": "2022-07-15T12:06:45.580Z"
   },
   {
    "duration": 1220,
    "start_time": "2022-07-15T12:06:55.767Z"
   },
   {
    "duration": 2383,
    "start_time": "2022-07-15T12:06:56.988Z"
   },
   {
    "duration": 44,
    "start_time": "2022-07-15T12:06:59.373Z"
   },
   {
    "duration": 1231,
    "start_time": "2022-07-15T12:08:21.546Z"
   },
   {
    "duration": 2199,
    "start_time": "2022-07-15T12:08:22.779Z"
   },
   {
    "duration": 41,
    "start_time": "2022-07-15T12:08:24.980Z"
   },
   {
    "duration": 7,
    "start_time": "2022-07-15T12:08:25.024Z"
   },
   {
    "duration": 6,
    "start_time": "2022-07-15T12:08:25.032Z"
   },
   {
    "duration": 16,
    "start_time": "2022-07-15T12:08:25.039Z"
   },
   {
    "duration": 7,
    "start_time": "2022-07-15T12:08:25.057Z"
   },
   {
    "duration": 179,
    "start_time": "2022-07-15T12:08:25.066Z"
   },
   {
    "duration": 4,
    "start_time": "2022-07-15T12:08:25.247Z"
   },
   {
    "duration": 1912,
    "start_time": "2022-07-15T12:08:25.253Z"
   },
   {
    "duration": 186,
    "start_time": "2022-07-15T12:08:27.166Z"
   },
   {
    "duration": 389,
    "start_time": "2022-07-15T12:08:27.353Z"
   },
   {
    "duration": 2416,
    "start_time": "2022-07-15T12:08:27.743Z"
   },
   {
    "duration": 42,
    "start_time": "2022-07-15T12:08:30.160Z"
   },
   {
    "duration": 133,
    "start_time": "2022-07-15T12:08:30.212Z"
   },
   {
    "duration": 0,
    "start_time": "2022-07-15T12:08:30.347Z"
   },
   {
    "duration": 0,
    "start_time": "2022-07-15T12:08:30.348Z"
   },
   {
    "duration": 0,
    "start_time": "2022-07-15T12:08:30.349Z"
   },
   {
    "duration": 0,
    "start_time": "2022-07-15T12:08:30.350Z"
   },
   {
    "duration": 0,
    "start_time": "2022-07-15T12:08:30.351Z"
   },
   {
    "duration": 0,
    "start_time": "2022-07-15T12:08:30.352Z"
   },
   {
    "duration": 0,
    "start_time": "2022-07-15T12:08:30.353Z"
   },
   {
    "duration": 0,
    "start_time": "2022-07-15T12:08:30.354Z"
   },
   {
    "duration": 0,
    "start_time": "2022-07-15T12:08:30.355Z"
   },
   {
    "duration": 4,
    "start_time": "2022-07-15T12:10:32.013Z"
   },
   {
    "duration": 4,
    "start_time": "2022-07-15T12:10:35.013Z"
   },
   {
    "duration": 37,
    "start_time": "2022-07-15T12:10:37.451Z"
   },
   {
    "duration": 2,
    "start_time": "2022-07-15T12:10:41.339Z"
   },
   {
    "duration": 2,
    "start_time": "2022-07-15T12:10:42.772Z"
   },
   {
    "duration": 2025,
    "start_time": "2022-07-15T12:10:44.724Z"
   },
   {
    "duration": 9804,
    "start_time": "2022-07-15T12:10:49.316Z"
   },
   {
    "duration": 8,
    "start_time": "2022-07-15T12:10:59.122Z"
   },
   {
    "duration": 19,
    "start_time": "2022-07-15T12:10:59.132Z"
   },
   {
    "duration": 14,
    "start_time": "2022-07-15T12:11:15.436Z"
   },
   {
    "duration": 15,
    "start_time": "2022-07-15T12:11:17.948Z"
   },
   {
    "duration": 8,
    "start_time": "2022-07-15T12:11:18.971Z"
   },
   {
    "duration": 4,
    "start_time": "2022-07-15T12:12:40.780Z"
   },
   {
    "duration": 2197,
    "start_time": "2022-07-15T12:12:42.818Z"
   },
   {
    "duration": 32,
    "start_time": "2022-07-15T12:12:45.017Z"
   },
   {
    "duration": 30,
    "start_time": "2022-07-15T12:12:47.252Z"
   },
   {
    "duration": 5,
    "start_time": "2022-07-15T12:12:48.513Z"
   },
   {
    "duration": 4,
    "start_time": "2022-07-15T12:12:49.667Z"
   },
   {
    "duration": 8,
    "start_time": "2022-07-15T12:12:50.899Z"
   },
   {
    "duration": 3,
    "start_time": "2022-07-15T12:12:52.013Z"
   },
   {
    "duration": 4,
    "start_time": "2022-07-15T12:12:52.876Z"
   },
   {
    "duration": 3,
    "start_time": "2022-07-15T12:12:53.843Z"
   },
   {
    "duration": 1949,
    "start_time": "2022-07-15T12:12:55.235Z"
   },
   {
    "duration": 172,
    "start_time": "2022-07-15T12:12:57.186Z"
   },
   {
    "duration": 346,
    "start_time": "2022-07-15T12:12:59.139Z"
   },
   {
    "duration": 1296,
    "start_time": "2022-07-15T12:13:00.492Z"
   },
   {
    "duration": 27,
    "start_time": "2022-07-15T12:13:03.459Z"
   },
   {
    "duration": 67,
    "start_time": "2022-07-15T12:13:04.595Z"
   },
   {
    "duration": 5,
    "start_time": "2022-07-15T12:13:06.123Z"
   },
   {
    "duration": 6,
    "start_time": "2022-07-15T12:13:07.123Z"
   },
   {
    "duration": 9590,
    "start_time": "2022-07-15T12:13:08.267Z"
   },
   {
    "duration": 1139748,
    "start_time": "2022-07-15T12:13:17.859Z"
   },
   {
    "duration": 94,
    "start_time": "2022-07-15T12:32:17.611Z"
   },
   {
    "duration": 48,
    "start_time": "2022-07-15T12:32:17.710Z"
   },
   {
    "duration": 31,
    "start_time": "2022-07-15T12:32:17.761Z"
   },
   {
    "duration": 41,
    "start_time": "2022-07-15T12:32:17.794Z"
   },
   {
    "duration": 5,
    "start_time": "2022-07-15T12:34:57.045Z"
   },
   {
    "duration": 2820,
    "start_time": "2022-07-15T12:34:58.251Z"
   },
   {
    "duration": 36,
    "start_time": "2022-07-15T12:35:02.253Z"
   },
   {
    "duration": 6,
    "start_time": "2022-07-15T12:35:04.358Z"
   },
   {
    "duration": 3,
    "start_time": "2022-07-15T12:35:09.589Z"
   },
   {
    "duration": 4,
    "start_time": "2022-07-15T12:35:10.556Z"
   },
   {
    "duration": 8,
    "start_time": "2022-07-15T12:35:12.301Z"
   },
   {
    "duration": 7,
    "start_time": "2022-07-15T12:35:13.722Z"
   },
   {
    "duration": 2136,
    "start_time": "2022-07-15T12:35:31.412Z"
   },
   {
    "duration": 409,
    "start_time": "2022-07-15T12:35:34.796Z"
   },
   {
    "duration": 2127,
    "start_time": "2022-07-15T12:35:47.148Z"
   },
   {
    "duration": 334,
    "start_time": "2022-07-15T12:35:49.925Z"
   },
   {
    "duration": 756,
    "start_time": "2022-07-15T12:35:52.580Z"
   },
   {
    "duration": 1409,
    "start_time": "2022-07-15T12:35:57.236Z"
   },
   {
    "duration": 4,
    "start_time": "2022-07-15T12:36:10.229Z"
   },
   {
    "duration": 2185,
    "start_time": "2022-07-15T12:36:11.357Z"
   },
   {
    "duration": 37,
    "start_time": "2022-07-15T12:36:15.397Z"
   },
   {
    "duration": 10,
    "start_time": "2022-07-15T12:36:17.208Z"
   },
   {
    "duration": 3,
    "start_time": "2022-07-15T12:36:19.460Z"
   },
   {
    "duration": 4,
    "start_time": "2022-07-15T12:36:21.373Z"
   },
   {
    "duration": 5,
    "start_time": "2022-07-15T12:36:22.629Z"
   },
   {
    "duration": 4,
    "start_time": "2022-07-15T12:36:23.820Z"
   },
   {
    "duration": 2091,
    "start_time": "2022-07-15T12:36:24.973Z"
   },
   {
    "duration": 174,
    "start_time": "2022-07-15T12:36:27.066Z"
   },
   {
    "duration": 332,
    "start_time": "2022-07-15T12:36:28.229Z"
   },
   {
    "duration": 1432,
    "start_time": "2022-07-15T12:36:29.660Z"
   },
   {
    "duration": 56,
    "start_time": "2022-07-15T12:36:32.687Z"
   },
   {
    "duration": 3,
    "start_time": "2022-07-15T12:36:37.037Z"
   },
   {
    "duration": 18,
    "start_time": "2022-07-15T12:36:38.045Z"
   },
   {
    "duration": 6493,
    "start_time": "2022-07-15T12:36:38.992Z"
   },
   {
    "duration": 829038,
    "start_time": "2022-07-15T12:36:45.487Z"
   },
   {
    "duration": 83,
    "start_time": "2022-07-15T12:50:34.532Z"
   },
   {
    "duration": 118,
    "start_time": "2022-07-15T12:50:34.622Z"
   },
   {
    "duration": 13,
    "start_time": "2022-07-15T12:50:34.742Z"
   },
   {
    "duration": 8,
    "start_time": "2022-07-15T12:50:34.756Z"
   },
   {
    "duration": 99,
    "start_time": "2022-07-15T12:51:51.487Z"
   },
   {
    "duration": 1269,
    "start_time": "2022-07-15T12:58:35.355Z"
   },
   {
    "duration": 7451,
    "start_time": "2022-07-15T12:58:36.632Z"
   },
   {
    "duration": 37,
    "start_time": "2022-07-15T12:58:44.085Z"
   },
   {
    "duration": 20,
    "start_time": "2022-07-15T12:58:44.124Z"
   },
   {
    "duration": 4,
    "start_time": "2022-07-15T12:58:44.145Z"
   },
   {
    "duration": 5,
    "start_time": "2022-07-15T12:58:44.151Z"
   },
   {
    "duration": 211,
    "start_time": "2022-07-15T12:58:44.158Z"
   },
   {
    "duration": 4,
    "start_time": "2022-07-15T12:58:44.371Z"
   },
   {
    "duration": 2262,
    "start_time": "2022-07-15T12:58:44.377Z"
   },
   {
    "duration": 204,
    "start_time": "2022-07-15T12:58:46.642Z"
   },
   {
    "duration": 397,
    "start_time": "2022-07-15T12:58:46.848Z"
   },
   {
    "duration": 2829,
    "start_time": "2022-07-15T12:58:47.247Z"
   },
   {
    "duration": 49,
    "start_time": "2022-07-15T12:58:50.078Z"
   },
   {
    "duration": 3,
    "start_time": "2022-07-15T12:58:50.132Z"
   },
   {
    "duration": 41,
    "start_time": "2022-07-15T12:58:50.137Z"
   },
   {
    "duration": 6637,
    "start_time": "2022-07-15T12:58:50.180Z"
   },
   {
    "duration": 847981,
    "start_time": "2022-07-15T12:58:56.821Z"
   },
   {
    "duration": 2140260,
    "start_time": "2022-07-15T13:13:04.808Z"
   },
   {
    "duration": 9,
    "start_time": "2022-07-15T13:48:45.069Z"
   },
   {
    "duration": 34,
    "start_time": "2022-07-15T13:48:45.080Z"
   },
   {
    "duration": 15,
    "start_time": "2022-07-15T13:48:45.117Z"
   },
   {
    "duration": 9,
    "start_time": "2022-07-15T13:48:45.134Z"
   },
   {
    "duration": 46780,
    "start_time": "2022-07-15T17:36:19.468Z"
   },
   {
    "duration": 631,
    "start_time": "2022-07-15T17:38:13.293Z"
   },
   {
    "duration": 459,
    "start_time": "2022-07-15T17:39:01.435Z"
   },
   {
    "duration": 320,
    "start_time": "2022-07-15T17:40:53.822Z"
   },
   {
    "duration": 25,
    "start_time": "2022-07-15T17:41:04.338Z"
   },
   {
    "duration": 2245,
    "start_time": "2022-07-15T17:41:09.401Z"
   },
   {
    "duration": 37,
    "start_time": "2022-07-15T17:41:17.732Z"
   },
   {
    "duration": 421,
    "start_time": "2022-07-15T17:41:58.068Z"
   },
   {
    "duration": 19,
    "start_time": "2022-07-15T17:44:28.438Z"
   },
   {
    "duration": 4,
    "start_time": "2022-07-15T17:44:30.596Z"
   },
   {
    "duration": 668,
    "start_time": "2022-07-15T17:44:31.701Z"
   },
   {
    "duration": 4,
    "start_time": "2022-07-15T17:46:50.846Z"
   },
   {
    "duration": 52748,
    "start_time": "2022-07-15T17:52:34.803Z"
   },
   {
    "duration": 1876,
    "start_time": "2022-07-15T17:53:27.553Z"
   },
   {
    "duration": 39,
    "start_time": "2022-07-15T17:53:35.151Z"
   },
   {
    "duration": 3,
    "start_time": "2022-07-15T17:53:42.388Z"
   },
   {
    "duration": 591,
    "start_time": "2022-07-15T17:53:45.245Z"
   },
   {
    "duration": 4,
    "start_time": "2022-07-15T17:54:00.321Z"
   },
   {
    "duration": 308755,
    "start_time": "2022-07-15T17:54:01.393Z"
   },
   {
    "duration": 0,
    "start_time": "2022-07-15T17:59:10.150Z"
   },
   {
    "duration": 6,
    "start_time": "2022-07-15T17:59:23.641Z"
   },
   {
    "duration": 1984,
    "start_time": "2022-07-15T17:59:25.482Z"
   },
   {
    "duration": 4,
    "start_time": "2022-07-15T17:59:32.107Z"
   },
   {
    "duration": 21049,
    "start_time": "2022-07-15T17:59:34.134Z"
   },
   {
    "duration": 4,
    "start_time": "2022-07-15T18:00:03.815Z"
   },
   {
    "duration": 2924937,
    "start_time": "2022-07-15T18:00:04.949Z"
   },
   {
    "duration": 4,
    "start_time": "2022-07-15T18:48:55.487Z"
   },
   {
    "duration": 3,
    "start_time": "2022-07-15T18:49:31.478Z"
   },
   {
    "duration": 3,
    "start_time": "2022-07-15T18:49:33.538Z"
   },
   {
    "duration": 680,
    "start_time": "2022-07-15T18:49:44.794Z"
   },
   {
    "duration": 4,
    "start_time": "2022-07-15T18:54:37.163Z"
   },
   {
    "duration": 4337,
    "start_time": "2022-07-15T18:54:53.666Z"
   },
   {
    "duration": 5129,
    "start_time": "2022-07-15T18:55:09.935Z"
   },
   {
    "duration": 15896,
    "start_time": "2022-07-15T18:56:20.419Z"
   },
   {
    "duration": 4,
    "start_time": "2022-07-15T18:56:39.711Z"
   },
   {
    "duration": 2019,
    "start_time": "2022-07-15T18:56:40.873Z"
   },
   {
    "duration": 2,
    "start_time": "2022-07-15T18:56:53.802Z"
   },
   {
    "duration": 6308469,
    "start_time": "2022-07-15T18:56:55.865Z"
   },
   {
    "duration": 4,
    "start_time": "2022-07-15T20:42:52.905Z"
   },
   {
    "duration": 1785,
    "start_time": "2022-07-15T20:42:54.698Z"
   },
   {
    "duration": 45374,
    "start_time": "2022-07-15T20:43:07.126Z"
   },
   {
    "duration": 1637,
    "start_time": "2022-07-15T20:43:52.524Z"
   },
   {
    "duration": 29,
    "start_time": "2022-07-15T20:43:54.162Z"
   },
   {
    "duration": 5,
    "start_time": "2022-07-15T20:43:54.193Z"
   },
   {
    "duration": 4,
    "start_time": "2022-07-15T20:43:54.200Z"
   },
   {
    "duration": 305,
    "start_time": "2022-07-15T20:43:54.224Z"
   },
   {
    "duration": 5,
    "start_time": "2022-07-15T20:43:54.531Z"
   },
   {
    "duration": 17858,
    "start_time": "2022-07-15T20:44:04.069Z"
   },
   {
    "duration": 0,
    "start_time": "2022-07-15T20:44:21.930Z"
   },
   {
    "duration": 0,
    "start_time": "2022-07-15T20:44:21.931Z"
   },
   {
    "duration": 0,
    "start_time": "2022-07-15T20:44:21.933Z"
   },
   {
    "duration": 0,
    "start_time": "2022-07-15T20:44:21.935Z"
   },
   {
    "duration": 0,
    "start_time": "2022-07-15T20:44:21.936Z"
   },
   {
    "duration": 0,
    "start_time": "2022-07-15T20:44:21.937Z"
   },
   {
    "duration": 0,
    "start_time": "2022-07-15T20:44:21.937Z"
   },
   {
    "duration": 0,
    "start_time": "2022-07-15T20:44:21.939Z"
   },
   {
    "duration": 0,
    "start_time": "2022-07-15T20:44:21.940Z"
   },
   {
    "duration": 0,
    "start_time": "2022-07-15T20:44:21.941Z"
   },
   {
    "duration": 0,
    "start_time": "2022-07-15T20:44:21.943Z"
   },
   {
    "duration": 0,
    "start_time": "2022-07-15T20:44:21.944Z"
   },
   {
    "duration": 0,
    "start_time": "2022-07-15T20:44:21.945Z"
   },
   {
    "duration": 0,
    "start_time": "2022-07-15T20:44:21.946Z"
   },
   {
    "duration": 0,
    "start_time": "2022-07-15T20:44:21.947Z"
   },
   {
    "duration": 0,
    "start_time": "2022-07-15T20:44:21.948Z"
   },
   {
    "duration": 0,
    "start_time": "2022-07-15T20:44:21.949Z"
   },
   {
    "duration": 0,
    "start_time": "2022-07-15T20:44:21.950Z"
   },
   {
    "duration": 0,
    "start_time": "2022-07-15T20:44:21.951Z"
   },
   {
    "duration": 0,
    "start_time": "2022-07-15T20:44:21.952Z"
   },
   {
    "duration": 44926,
    "start_time": "2022-07-15T20:45:13.459Z"
   },
   {
    "duration": 1434,
    "start_time": "2022-07-15T20:45:58.387Z"
   },
   {
    "duration": 31,
    "start_time": "2022-07-15T20:45:59.824Z"
   },
   {
    "duration": 4,
    "start_time": "2022-07-15T20:45:59.857Z"
   },
   {
    "duration": 7,
    "start_time": "2022-07-15T20:45:59.862Z"
   },
   {
    "duration": 161,
    "start_time": "2022-07-15T20:45:59.870Z"
   },
   {
    "duration": 5,
    "start_time": "2022-07-15T20:46:00.033Z"
   },
   {
    "duration": 2022,
    "start_time": "2022-07-15T20:46:00.040Z"
   },
   {
    "duration": 190,
    "start_time": "2022-07-15T20:46:02.064Z"
   },
   {
    "duration": 381,
    "start_time": "2022-07-15T20:46:02.257Z"
   },
   {
    "duration": 4,
    "start_time": "2022-07-15T20:46:02.640Z"
   },
   {
    "duration": 14458,
    "start_time": "2022-07-16T06:43:19.729Z"
   },
   {
    "duration": 0,
    "start_time": "2022-07-16T06:43:34.190Z"
   },
   {
    "duration": 0,
    "start_time": "2022-07-16T06:43:34.192Z"
   },
   {
    "duration": 0,
    "start_time": "2022-07-16T06:43:34.193Z"
   },
   {
    "duration": 0,
    "start_time": "2022-07-16T06:43:34.194Z"
   },
   {
    "duration": 0,
    "start_time": "2022-07-16T06:43:34.195Z"
   },
   {
    "duration": 0,
    "start_time": "2022-07-16T06:43:34.196Z"
   },
   {
    "duration": 1,
    "start_time": "2022-07-16T06:43:34.197Z"
   },
   {
    "duration": 0,
    "start_time": "2022-07-16T06:43:34.198Z"
   },
   {
    "duration": 0,
    "start_time": "2022-07-16T06:43:34.199Z"
   },
   {
    "duration": 0,
    "start_time": "2022-07-16T06:43:34.200Z"
   },
   {
    "duration": 0,
    "start_time": "2022-07-16T06:43:34.201Z"
   },
   {
    "duration": 0,
    "start_time": "2022-07-16T06:43:34.202Z"
   },
   {
    "duration": 0,
    "start_time": "2022-07-16T06:43:34.224Z"
   },
   {
    "duration": 0,
    "start_time": "2022-07-16T06:43:34.225Z"
   },
   {
    "duration": 0,
    "start_time": "2022-07-16T06:43:34.227Z"
   },
   {
    "duration": 0,
    "start_time": "2022-07-16T06:43:34.228Z"
   },
   {
    "duration": 0,
    "start_time": "2022-07-16T06:43:34.229Z"
   },
   {
    "duration": 0,
    "start_time": "2022-07-16T06:43:34.231Z"
   },
   {
    "duration": 0,
    "start_time": "2022-07-16T06:43:34.233Z"
   },
   {
    "duration": 0,
    "start_time": "2022-07-16T06:43:34.234Z"
   },
   {
    "duration": 1361,
    "start_time": "2022-07-16T06:43:44.331Z"
   },
   {
    "duration": 2245,
    "start_time": "2022-07-16T06:43:45.694Z"
   },
   {
    "duration": 36,
    "start_time": "2022-07-16T06:43:47.940Z"
   },
   {
    "duration": 5,
    "start_time": "2022-07-16T06:43:47.979Z"
   },
   {
    "duration": 12,
    "start_time": "2022-07-16T06:43:47.985Z"
   },
   {
    "duration": 10,
    "start_time": "2022-07-16T06:43:47.998Z"
   },
   {
    "duration": 205,
    "start_time": "2022-07-16T06:43:48.024Z"
   },
   {
    "duration": 4,
    "start_time": "2022-07-16T06:43:48.231Z"
   },
   {
    "duration": 2029,
    "start_time": "2022-07-16T06:43:48.236Z"
   },
   {
    "duration": 207,
    "start_time": "2022-07-16T06:43:50.268Z"
   },
   {
    "duration": 385,
    "start_time": "2022-07-16T06:43:50.478Z"
   },
   {
    "duration": 2628,
    "start_time": "2022-07-16T06:43:50.865Z"
   },
   {
    "duration": 41,
    "start_time": "2022-07-16T06:43:53.495Z"
   },
   {
    "duration": 3,
    "start_time": "2022-07-16T06:43:53.538Z"
   },
   {
    "duration": 6319,
    "start_time": "2022-07-16T06:43:53.542Z"
   },
   {
    "duration": 1348,
    "start_time": "2022-08-17T07:20:03.446Z"
   },
   {
    "duration": 2975,
    "start_time": "2022-08-17T07:20:05.218Z"
   },
   {
    "duration": 0,
    "start_time": "2022-08-17T07:20:08.195Z"
   },
   {
    "duration": 9,
    "start_time": "2022-08-17T07:20:08.448Z"
   },
   {
    "duration": 5,
    "start_time": "2022-08-17T07:20:17.959Z"
   },
   {
    "duration": 3002,
    "start_time": "2022-08-17T07:20:19.345Z"
   },
   {
    "duration": 4,
    "start_time": "2022-08-17T07:20:38.801Z"
   },
   {
    "duration": 2159,
    "start_time": "2022-08-17T07:20:56.658Z"
   },
   {
    "duration": 1341,
    "start_time": "2022-08-17T07:21:08.693Z"
   },
   {
    "duration": 2085,
    "start_time": "2022-08-17T07:21:10.036Z"
   },
   {
    "duration": 0,
    "start_time": "2022-08-17T07:21:12.123Z"
   },
   {
    "duration": 0,
    "start_time": "2022-08-17T07:21:12.124Z"
   },
   {
    "duration": 0,
    "start_time": "2022-08-17T07:21:12.125Z"
   },
   {
    "duration": 0,
    "start_time": "2022-08-17T07:21:12.126Z"
   },
   {
    "duration": 0,
    "start_time": "2022-08-17T07:21:12.127Z"
   },
   {
    "duration": 0,
    "start_time": "2022-08-17T07:21:12.128Z"
   },
   {
    "duration": 0,
    "start_time": "2022-08-17T07:21:12.129Z"
   },
   {
    "duration": 0,
    "start_time": "2022-08-17T07:21:12.131Z"
   },
   {
    "duration": 0,
    "start_time": "2022-08-17T07:21:12.131Z"
   },
   {
    "duration": 0,
    "start_time": "2022-08-17T07:21:12.133Z"
   },
   {
    "duration": 0,
    "start_time": "2022-08-17T07:21:12.134Z"
   },
   {
    "duration": 0,
    "start_time": "2022-08-17T07:21:12.135Z"
   },
   {
    "duration": 0,
    "start_time": "2022-08-17T07:21:12.136Z"
   },
   {
    "duration": 0,
    "start_time": "2022-08-17T07:21:12.136Z"
   },
   {
    "duration": 0,
    "start_time": "2022-08-17T07:21:12.138Z"
   },
   {
    "duration": 0,
    "start_time": "2022-08-17T07:21:12.138Z"
   },
   {
    "duration": 0,
    "start_time": "2022-08-17T07:21:12.139Z"
   },
   {
    "duration": 0,
    "start_time": "2022-08-17T07:21:12.140Z"
   },
   {
    "duration": 0,
    "start_time": "2022-08-17T07:21:12.141Z"
   },
   {
    "duration": 1599,
    "start_time": "2022-08-17T07:21:39.213Z"
   },
   {
    "duration": 1436,
    "start_time": "2022-08-17T07:23:30.325Z"
   },
   {
    "duration": 34,
    "start_time": "2022-08-17T07:23:40.877Z"
   },
   {
    "duration": 29,
    "start_time": "2022-08-17T07:23:44.845Z"
   },
   {
    "duration": 7,
    "start_time": "2022-08-17T07:54:06.537Z"
   },
   {
    "duration": 2568,
    "start_time": "2022-08-17T07:54:08.222Z"
   },
   {
    "duration": 3318,
    "start_time": "2022-08-17T07:54:16.366Z"
   }
  ],
  "kernelspec": {
   "display_name": "Python 3 (ipykernel)",
   "language": "python",
   "name": "python3"
  },
  "language_info": {
   "codemirror_mode": {
    "name": "ipython",
    "version": 3
   },
   "file_extension": ".py",
   "mimetype": "text/x-python",
   "name": "python",
   "nbconvert_exporter": "python",
   "pygments_lexer": "ipython3",
   "version": "3.8.10"
  },
  "toc": {
   "base_numbering": 1,
   "nav_menu": {},
   "number_sections": true,
   "sideBar": true,
   "skip_h1_title": true,
   "title_cell": "Содержание",
   "title_sidebar": "Contents",
   "toc_cell": true,
   "toc_position": {
    "height": "calc(100% - 180px)",
    "left": "10px",
    "top": "150px",
    "width": "302.391px"
   },
   "toc_section_display": true,
   "toc_window_display": false
  }
 },
 "nbformat": 4,
 "nbformat_minor": 2
}
