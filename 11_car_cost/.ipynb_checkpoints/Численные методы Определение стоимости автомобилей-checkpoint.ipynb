{
 "cells": [
  {
   "cell_type": "markdown",
   "metadata": {},
   "source": [
    "# Определение стоимости автомобилей"
   ]
  },
  {
   "cell_type": "markdown",
   "metadata": {},
   "source": [
    "**Описание данных**\n",
    "\n",
    "Сервис по продаже автомобилей с пробегом «Не бит, не крашен» разрабатывает приложение для привлечения новых клиентов. В нём можно быстро узнать рыночную стоимость своего автомобиля. В нашем распоряжении исторические данные: технические характеристики, комплектации и цены автомобилей. \n",
    "\n",
    "Нам нужно построить модель для определения стоимости автомобилей. \n",
    "\n",
    "Заказчику важны:\n",
    "\n",
    "- качество предсказания;\n",
    "- скорость предсказания;\n",
    "- время обучения.\n",
    "\n",
    "**Признаки**\\\n",
    "`date_crawled` — дата скачивания анкеты из базы\\\n",
    "`vehicle_type` — тип автомобильного кузова\\\n",
    "`registration_year` — год регистрации автомобиля\\\n",
    "`gearbox` — тип коробки передач\\\n",
    "`power` — мощность (л. с.)\\\n",
    "`model` — модель автомобиля\\\n",
    "`kilometer` — пробег (км)\\\n",
    "`registration_month` — месяц регистрации автомобиля\\\n",
    "`fuel_type` — тип топлива\\\n",
    "`brand` — марка автомобиля\\\n",
    "`not_repaired` — была машина в ремонте или нет\\\n",
    "`date_created` — дата создания анкеты\\\n",
    "`number_of_pictures` — количество фотографий автомобиля\\\n",
    "`postal_code` — почтовый индекс владельца анкеты (пользователя)\\\n",
    "`last_seen` — дата последней активности пользователя\\\n",
    "\n",
    "**Целевой признак**\\\n",
    "`price` — цена (евро)"
   ]
  },
  {
   "cell_type": "markdown",
   "metadata": {},
   "source": [
    "## Подготовка данных"
   ]
  },
  {
   "cell_type": "code",
   "execution_count": 1,
   "metadata": {},
   "outputs": [],
   "source": [
    "import time\n",
    "import pandas as pd\n",
    "import numpy as np\n",
    "import re\n",
    "from sklearn.model_selection import train_test_split\n",
    "from sklearn.preprocessing import OneHotEncoder\n",
    "from sklearn.compose import make_column_transformer, make_column_selector, ColumnTransformer\n",
    "from catboost import CatBoostClassifier\n",
    "from catboost import cv, Pool\n",
    "from sklearn.metrics import mean_squared_error\n",
    "from sklearn.linear_model import LinearRegression\n",
    "from sklearn.preprocessing import StandardScaler\n",
    "from sklearn.model_selection import KFold, RepeatedKFold, train_test_split, GridSearchCV, cross_val_score\n",
    "import lightgbm as lgb\n",
    "from lightgbm import LGBMRegressor"
   ]
  },
  {
   "cell_type": "code",
   "execution_count": 2,
   "metadata": {},
   "outputs": [],
   "source": [
    "df = pd.read_csv('/datasets/autos.csv')"
   ]
  },
  {
   "cell_type": "code",
   "execution_count": 3,
   "metadata": {},
   "outputs": [
    {
     "data": {
      "text/plain": [
       "Index(['DateCrawled', 'Price', 'VehicleType', 'RegistrationYear', 'Gearbox',\n",
       "       'Power', 'Model', 'Kilometer', 'RegistrationMonth', 'FuelType', 'Brand',\n",
       "       'NotRepaired', 'DateCreated', 'NumberOfPictures', 'PostalCode',\n",
       "       'LastSeen'],\n",
       "      dtype='object')"
      ]
     },
     "execution_count": 3,
     "metadata": {},
     "output_type": "execute_result"
    }
   ],
   "source": [
    "df.columns"
   ]
  },
  {
   "cell_type": "markdown",
   "metadata": {},
   "source": [
    "Конвертируем \"сamelСase\" в \"snake_case\""
   ]
  },
  {
   "cell_type": "code",
   "execution_count": 4,
   "metadata": {},
   "outputs": [],
   "source": [
    "columns = []\n",
    "for i in range(len(df.columns)):\n",
    "    columns.append(re.sub(r'(?<!^)(?=[A-Z])', '_', df.columns[i]).lower())\n",
    "df.columns = columns    "
   ]
  },
  {
   "cell_type": "code",
   "execution_count": 5,
   "metadata": {},
   "outputs": [
    {
     "data": {
      "text/html": [
       "<div>\n",
       "<style scoped>\n",
       "    .dataframe tbody tr th:only-of-type {\n",
       "        vertical-align: middle;\n",
       "    }\n",
       "\n",
       "    .dataframe tbody tr th {\n",
       "        vertical-align: top;\n",
       "    }\n",
       "\n",
       "    .dataframe thead th {\n",
       "        text-align: right;\n",
       "    }\n",
       "</style>\n",
       "<table border=\"1\" class=\"dataframe\">\n",
       "  <thead>\n",
       "    <tr style=\"text-align: right;\">\n",
       "      <th></th>\n",
       "      <th>date_crawled</th>\n",
       "      <th>price</th>\n",
       "      <th>vehicle_type</th>\n",
       "      <th>registration_year</th>\n",
       "      <th>gearbox</th>\n",
       "      <th>power</th>\n",
       "      <th>model</th>\n",
       "      <th>kilometer</th>\n",
       "      <th>registration_month</th>\n",
       "      <th>fuel_type</th>\n",
       "      <th>brand</th>\n",
       "      <th>not_repaired</th>\n",
       "      <th>date_created</th>\n",
       "      <th>number_of_pictures</th>\n",
       "      <th>postal_code</th>\n",
       "      <th>last_seen</th>\n",
       "    </tr>\n",
       "  </thead>\n",
       "  <tbody>\n",
       "    <tr>\n",
       "      <th>0</th>\n",
       "      <td>2016-03-24 11:52:17</td>\n",
       "      <td>480</td>\n",
       "      <td>NaN</td>\n",
       "      <td>1993</td>\n",
       "      <td>manual</td>\n",
       "      <td>0</td>\n",
       "      <td>golf</td>\n",
       "      <td>150000</td>\n",
       "      <td>0</td>\n",
       "      <td>petrol</td>\n",
       "      <td>volkswagen</td>\n",
       "      <td>NaN</td>\n",
       "      <td>2016-03-24 00:00:00</td>\n",
       "      <td>0</td>\n",
       "      <td>70435</td>\n",
       "      <td>2016-04-07 03:16:57</td>\n",
       "    </tr>\n",
       "    <tr>\n",
       "      <th>1</th>\n",
       "      <td>2016-03-24 10:58:45</td>\n",
       "      <td>18300</td>\n",
       "      <td>coupe</td>\n",
       "      <td>2011</td>\n",
       "      <td>manual</td>\n",
       "      <td>190</td>\n",
       "      <td>NaN</td>\n",
       "      <td>125000</td>\n",
       "      <td>5</td>\n",
       "      <td>gasoline</td>\n",
       "      <td>audi</td>\n",
       "      <td>yes</td>\n",
       "      <td>2016-03-24 00:00:00</td>\n",
       "      <td>0</td>\n",
       "      <td>66954</td>\n",
       "      <td>2016-04-07 01:46:50</td>\n",
       "    </tr>\n",
       "    <tr>\n",
       "      <th>2</th>\n",
       "      <td>2016-03-14 12:52:21</td>\n",
       "      <td>9800</td>\n",
       "      <td>suv</td>\n",
       "      <td>2004</td>\n",
       "      <td>auto</td>\n",
       "      <td>163</td>\n",
       "      <td>grand</td>\n",
       "      <td>125000</td>\n",
       "      <td>8</td>\n",
       "      <td>gasoline</td>\n",
       "      <td>jeep</td>\n",
       "      <td>NaN</td>\n",
       "      <td>2016-03-14 00:00:00</td>\n",
       "      <td>0</td>\n",
       "      <td>90480</td>\n",
       "      <td>2016-04-05 12:47:46</td>\n",
       "    </tr>\n",
       "    <tr>\n",
       "      <th>3</th>\n",
       "      <td>2016-03-17 16:54:04</td>\n",
       "      <td>1500</td>\n",
       "      <td>small</td>\n",
       "      <td>2001</td>\n",
       "      <td>manual</td>\n",
       "      <td>75</td>\n",
       "      <td>golf</td>\n",
       "      <td>150000</td>\n",
       "      <td>6</td>\n",
       "      <td>petrol</td>\n",
       "      <td>volkswagen</td>\n",
       "      <td>no</td>\n",
       "      <td>2016-03-17 00:00:00</td>\n",
       "      <td>0</td>\n",
       "      <td>91074</td>\n",
       "      <td>2016-03-17 17:40:17</td>\n",
       "    </tr>\n",
       "    <tr>\n",
       "      <th>4</th>\n",
       "      <td>2016-03-31 17:25:20</td>\n",
       "      <td>3600</td>\n",
       "      <td>small</td>\n",
       "      <td>2008</td>\n",
       "      <td>manual</td>\n",
       "      <td>69</td>\n",
       "      <td>fabia</td>\n",
       "      <td>90000</td>\n",
       "      <td>7</td>\n",
       "      <td>gasoline</td>\n",
       "      <td>skoda</td>\n",
       "      <td>no</td>\n",
       "      <td>2016-03-31 00:00:00</td>\n",
       "      <td>0</td>\n",
       "      <td>60437</td>\n",
       "      <td>2016-04-06 10:17:21</td>\n",
       "    </tr>\n",
       "  </tbody>\n",
       "</table>\n",
       "</div>"
      ],
      "text/plain": [
       "          date_crawled  price vehicle_type  registration_year gearbox  power  \\\n",
       "0  2016-03-24 11:52:17    480          NaN               1993  manual      0   \n",
       "1  2016-03-24 10:58:45  18300        coupe               2011  manual    190   \n",
       "2  2016-03-14 12:52:21   9800          suv               2004    auto    163   \n",
       "3  2016-03-17 16:54:04   1500        small               2001  manual     75   \n",
       "4  2016-03-31 17:25:20   3600        small               2008  manual     69   \n",
       "\n",
       "   model  kilometer  registration_month fuel_type       brand not_repaired  \\\n",
       "0   golf     150000                   0    petrol  volkswagen          NaN   \n",
       "1    NaN     125000                   5  gasoline        audi          yes   \n",
       "2  grand     125000                   8  gasoline        jeep          NaN   \n",
       "3   golf     150000                   6    petrol  volkswagen           no   \n",
       "4  fabia      90000                   7  gasoline       skoda           no   \n",
       "\n",
       "          date_created  number_of_pictures  postal_code            last_seen  \n",
       "0  2016-03-24 00:00:00                   0        70435  2016-04-07 03:16:57  \n",
       "1  2016-03-24 00:00:00                   0        66954  2016-04-07 01:46:50  \n",
       "2  2016-03-14 00:00:00                   0        90480  2016-04-05 12:47:46  \n",
       "3  2016-03-17 00:00:00                   0        91074  2016-03-17 17:40:17  \n",
       "4  2016-03-31 00:00:00                   0        60437  2016-04-06 10:17:21  "
      ]
     },
     "execution_count": 5,
     "metadata": {},
     "output_type": "execute_result"
    }
   ],
   "source": [
    "df.head()"
   ]
  },
  {
   "cell_type": "markdown",
   "metadata": {},
   "source": [
    "Посмотрим максимально возможную дату в данных"
   ]
  },
  {
   "cell_type": "code",
   "execution_count": 6,
   "metadata": {},
   "outputs": [
    {
     "data": {
      "text/plain": [
       "'2016-04-07 14:36:58'"
      ]
     },
     "execution_count": 6,
     "metadata": {},
     "output_type": "execute_result"
    }
   ],
   "source": [
    "df['date_crawled'].max()"
   ]
  },
  {
   "cell_type": "markdown",
   "metadata": {},
   "source": [
    "Посмотрим уникальные значения столбца `number_of_pictures`"
   ]
  },
  {
   "cell_type": "code",
   "execution_count": 7,
   "metadata": {},
   "outputs": [
    {
     "data": {
      "text/plain": [
       "array([0])"
      ]
     },
     "execution_count": 7,
     "metadata": {},
     "output_type": "execute_result"
    }
   ],
   "source": [
    "df['number_of_pictures'].unique()"
   ]
  },
  {
   "cell_type": "markdown",
   "metadata": {},
   "source": [
    "так как столбец содержит одно значение \"0\", удалим данный столбец"
   ]
  },
  {
   "cell_type": "code",
   "execution_count": 8,
   "metadata": {},
   "outputs": [],
   "source": [
    "df = df.drop(['number_of_pictures'], axis=1)"
   ]
  },
  {
   "cell_type": "markdown",
   "metadata": {},
   "source": [
    "Посмотри общую информацию о датасете"
   ]
  },
  {
   "cell_type": "code",
   "execution_count": 9,
   "metadata": {},
   "outputs": [
    {
     "name": "stdout",
     "output_type": "stream",
     "text": [
      "<class 'pandas.core.frame.DataFrame'>\n",
      "RangeIndex: 354369 entries, 0 to 354368\n",
      "Data columns (total 15 columns):\n",
      " #   Column              Non-Null Count   Dtype \n",
      "---  ------              --------------   ----- \n",
      " 0   date_crawled        354369 non-null  object\n",
      " 1   price               354369 non-null  int64 \n",
      " 2   vehicle_type        316879 non-null  object\n",
      " 3   registration_year   354369 non-null  int64 \n",
      " 4   gearbox             334536 non-null  object\n",
      " 5   power               354369 non-null  int64 \n",
      " 6   model               334664 non-null  object\n",
      " 7   kilometer           354369 non-null  int64 \n",
      " 8   registration_month  354369 non-null  int64 \n",
      " 9   fuel_type           321474 non-null  object\n",
      " 10  brand               354369 non-null  object\n",
      " 11  not_repaired        283215 non-null  object\n",
      " 12  date_created        354369 non-null  object\n",
      " 13  postal_code         354369 non-null  int64 \n",
      " 14  last_seen           354369 non-null  object\n",
      "dtypes: int64(6), object(9)\n",
      "memory usage: 40.6+ MB\n"
     ]
    }
   ],
   "source": [
    "df.info()"
   ]
  },
  {
   "cell_type": "markdown",
   "metadata": {},
   "source": [
    "`date_crawled` - можно сменить тип на datetime,\\\n",
    "`not_repaired` - можно заменить на bool,\\\n",
    "`date_created` - можно сменить тип на datetime,\\\n",
    "`last_seen` - можно сменить тип на datetime"
   ]
  },
  {
   "cell_type": "markdown",
   "metadata": {},
   "source": [
    "Сменим тип данных содержащих дату с \"object\" на \"datetime\""
   ]
  },
  {
   "cell_type": "code",
   "execution_count": 10,
   "metadata": {},
   "outputs": [],
   "source": [
    "def to_date(date):\n",
    "    date = pd.to_datetime(date, format='%Y-%m-%d %H:%M:%S')\n",
    "    return date"
   ]
  },
  {
   "cell_type": "code",
   "execution_count": 11,
   "metadata": {},
   "outputs": [],
   "source": [
    "df['date_crawled'] = to_date(df['date_crawled'])\n",
    "df['date_created'] = to_date(df['date_created'])\n",
    "df['last_seen'] = to_date(df['last_seen'])"
   ]
  },
  {
   "cell_type": "markdown",
   "metadata": {},
   "source": [
    "Заменим значения в столбце `not_repaired` c \"yes\" и \"no\" на 1 и 0"
   ]
  },
  {
   "cell_type": "code",
   "execution_count": 12,
   "metadata": {},
   "outputs": [],
   "source": [
    "df['not_repaired'] = df['not_repaired'].map(dict(yes=1, no=0))"
   ]
  },
  {
   "cell_type": "code",
   "execution_count": 13,
   "metadata": {},
   "outputs": [
    {
     "name": "stdout",
     "output_type": "stream",
     "text": [
      "<class 'pandas.core.frame.DataFrame'>\n",
      "RangeIndex: 354369 entries, 0 to 354368\n",
      "Data columns (total 15 columns):\n",
      " #   Column              Non-Null Count   Dtype         \n",
      "---  ------              --------------   -----         \n",
      " 0   date_crawled        354369 non-null  datetime64[ns]\n",
      " 1   price               354369 non-null  int64         \n",
      " 2   vehicle_type        316879 non-null  object        \n",
      " 3   registration_year   354369 non-null  int64         \n",
      " 4   gearbox             334536 non-null  object        \n",
      " 5   power               354369 non-null  int64         \n",
      " 6   model               334664 non-null  object        \n",
      " 7   kilometer           354369 non-null  int64         \n",
      " 8   registration_month  354369 non-null  int64         \n",
      " 9   fuel_type           321474 non-null  object        \n",
      " 10  brand               354369 non-null  object        \n",
      " 11  not_repaired        283215 non-null  float64       \n",
      " 12  date_created        354369 non-null  datetime64[ns]\n",
      " 13  postal_code         354369 non-null  int64         \n",
      " 14  last_seen           354369 non-null  datetime64[ns]\n",
      "dtypes: datetime64[ns](3), float64(1), int64(6), object(5)\n",
      "memory usage: 40.6+ MB\n"
     ]
    }
   ],
   "source": [
    "df.info()"
   ]
  },
  {
   "cell_type": "markdown",
   "metadata": {},
   "source": [
    "Посмотрим на статистики датасета"
   ]
  },
  {
   "cell_type": "code",
   "execution_count": 14,
   "metadata": {},
   "outputs": [
    {
     "data": {
      "text/html": [
       "<div>\n",
       "<style scoped>\n",
       "    .dataframe tbody tr th:only-of-type {\n",
       "        vertical-align: middle;\n",
       "    }\n",
       "\n",
       "    .dataframe tbody tr th {\n",
       "        vertical-align: top;\n",
       "    }\n",
       "\n",
       "    .dataframe thead th {\n",
       "        text-align: right;\n",
       "    }\n",
       "</style>\n",
       "<table border=\"1\" class=\"dataframe\">\n",
       "  <thead>\n",
       "    <tr style=\"text-align: right;\">\n",
       "      <th></th>\n",
       "      <th>count</th>\n",
       "      <th>mean</th>\n",
       "      <th>std</th>\n",
       "      <th>min</th>\n",
       "      <th>25%</th>\n",
       "      <th>50%</th>\n",
       "      <th>75%</th>\n",
       "      <th>max</th>\n",
       "    </tr>\n",
       "  </thead>\n",
       "  <tbody>\n",
       "    <tr>\n",
       "      <th>price</th>\n",
       "      <td>354369.0</td>\n",
       "      <td>4416.656776</td>\n",
       "      <td>4514.158514</td>\n",
       "      <td>0.0</td>\n",
       "      <td>1050.0</td>\n",
       "      <td>2700.0</td>\n",
       "      <td>6400.0</td>\n",
       "      <td>20000.0</td>\n",
       "    </tr>\n",
       "    <tr>\n",
       "      <th>registration_year</th>\n",
       "      <td>354369.0</td>\n",
       "      <td>2004.234448</td>\n",
       "      <td>90.227958</td>\n",
       "      <td>1000.0</td>\n",
       "      <td>1999.0</td>\n",
       "      <td>2003.0</td>\n",
       "      <td>2008.0</td>\n",
       "      <td>9999.0</td>\n",
       "    </tr>\n",
       "    <tr>\n",
       "      <th>power</th>\n",
       "      <td>354369.0</td>\n",
       "      <td>110.094337</td>\n",
       "      <td>189.850405</td>\n",
       "      <td>0.0</td>\n",
       "      <td>69.0</td>\n",
       "      <td>105.0</td>\n",
       "      <td>143.0</td>\n",
       "      <td>20000.0</td>\n",
       "    </tr>\n",
       "    <tr>\n",
       "      <th>kilometer</th>\n",
       "      <td>354369.0</td>\n",
       "      <td>128211.172535</td>\n",
       "      <td>37905.341530</td>\n",
       "      <td>5000.0</td>\n",
       "      <td>125000.0</td>\n",
       "      <td>150000.0</td>\n",
       "      <td>150000.0</td>\n",
       "      <td>150000.0</td>\n",
       "    </tr>\n",
       "    <tr>\n",
       "      <th>registration_month</th>\n",
       "      <td>354369.0</td>\n",
       "      <td>5.714645</td>\n",
       "      <td>3.726421</td>\n",
       "      <td>0.0</td>\n",
       "      <td>3.0</td>\n",
       "      <td>6.0</td>\n",
       "      <td>9.0</td>\n",
       "      <td>12.0</td>\n",
       "    </tr>\n",
       "    <tr>\n",
       "      <th>not_repaired</th>\n",
       "      <td>283215.0</td>\n",
       "      <td>0.127303</td>\n",
       "      <td>0.333312</td>\n",
       "      <td>0.0</td>\n",
       "      <td>0.0</td>\n",
       "      <td>0.0</td>\n",
       "      <td>0.0</td>\n",
       "      <td>1.0</td>\n",
       "    </tr>\n",
       "    <tr>\n",
       "      <th>postal_code</th>\n",
       "      <td>354369.0</td>\n",
       "      <td>50508.689087</td>\n",
       "      <td>25783.096248</td>\n",
       "      <td>1067.0</td>\n",
       "      <td>30165.0</td>\n",
       "      <td>49413.0</td>\n",
       "      <td>71083.0</td>\n",
       "      <td>99998.0</td>\n",
       "    </tr>\n",
       "  </tbody>\n",
       "</table>\n",
       "</div>"
      ],
      "text/plain": [
       "                       count           mean           std     min       25%  \\\n",
       "price               354369.0    4416.656776   4514.158514     0.0    1050.0   \n",
       "registration_year   354369.0    2004.234448     90.227958  1000.0    1999.0   \n",
       "power               354369.0     110.094337    189.850405     0.0      69.0   \n",
       "kilometer           354369.0  128211.172535  37905.341530  5000.0  125000.0   \n",
       "registration_month  354369.0       5.714645      3.726421     0.0       3.0   \n",
       "not_repaired        283215.0       0.127303      0.333312     0.0       0.0   \n",
       "postal_code         354369.0   50508.689087  25783.096248  1067.0   30165.0   \n",
       "\n",
       "                         50%       75%       max  \n",
       "price                 2700.0    6400.0   20000.0  \n",
       "registration_year     2003.0    2008.0    9999.0  \n",
       "power                  105.0     143.0   20000.0  \n",
       "kilometer           150000.0  150000.0  150000.0  \n",
       "registration_month       6.0       9.0      12.0  \n",
       "not_repaired             0.0       0.0       1.0  \n",
       "postal_code          49413.0   71083.0   99998.0  "
      ]
     },
     "execution_count": 14,
     "metadata": {},
     "output_type": "execute_result"
    }
   ],
   "source": [
    "df.describe().T"
   ]
  },
  {
   "cell_type": "markdown",
   "metadata": {},
   "source": [
    "1) Для параметров `price`, `power`, `registration_year` минимальные значения меньше ожидаемых;\\\n",
    "2) Для параметров `power`, `registration_year` максимальные значения больше ожидаемых;\\\n",
    "3) Для параметра  `price` среднее значение в 1.6 раз больше медианного, что может свидетельствовать о выбросах."
   ]
  },
  {
   "cell_type": "markdown",
   "metadata": {},
   "source": [
    "Рассмотрим \"выбивающиеся\" параметры подробнее"
   ]
  },
  {
   "cell_type": "markdown",
   "metadata": {},
   "source": [
    "Посмотрим на целевой признак `price`"
   ]
  },
  {
   "cell_type": "code",
   "execution_count": 15,
   "metadata": {},
   "outputs": [
    {
     "data": {
      "image/png": "[encoded data removed]",
      "text/plain": [
       "<Figure size 1152x648 with 1 Axes>"
      ]
     },
     "metadata": {
      "needs_background": "light"
     },
     "output_type": "display_data"
    }
   ],
   "source": [
    "df['price'].hist(bins=200, figsize=(16,9));"
   ]
  },
  {
   "cell_type": "markdown",
   "metadata": {},
   "source": [
    "Заметно большое количество объявлений с ценой 0 и небольшое увеличение объявлений с ценой 20 000"
   ]
  },
  {
   "cell_type": "code",
   "execution_count": 16,
   "metadata": {},
   "outputs": [
    {
     "data": {
      "text/plain": [
       "date_crawled          10772\n",
       "price                 10772\n",
       "vehicle_type           7032\n",
       "registration_year     10772\n",
       "gearbox                8294\n",
       "power                 10772\n",
       "model                  8588\n",
       "kilometer             10772\n",
       "registration_month    10772\n",
       "fuel_type              7336\n",
       "brand                 10772\n",
       "not_repaired           5484\n",
       "date_created          10772\n",
       "postal_code           10772\n",
       "last_seen             10772\n",
       "dtype: int64"
      ]
     },
     "execution_count": 16,
     "metadata": {},
     "output_type": "execute_result"
    }
   ],
   "source": [
    "df[df['price'] == 0].count()"
   ]
  },
  {
   "cell_type": "markdown",
   "metadata": {},
   "source": [
    "Более 10 000 объявлений с ценой 0"
   ]
  },
  {
   "cell_type": "markdown",
   "metadata": {},
   "source": [
    "Посмотрим значения столбца `power`"
   ]
  },
  {
   "cell_type": "code",
   "execution_count": 17,
   "metadata": {},
   "outputs": [
    {
     "data": {
      "image/png": "[encoded data removed]",
      "text/plain": [
       "<Figure size 1152x648 with 1 Axes>"
      ]
     },
     "metadata": {
      "needs_background": "light"
     },
     "output_type": "display_data"
    }
   ],
   "source": [
    "df['power'].hist(bins=100, figsize=(16,9));"
   ]
  },
  {
   "cell_type": "markdown",
   "metadata": {},
   "source": [
    "Видно, что встречаются не правдоподобно большие значения (более 1000)"
   ]
  },
  {
   "cell_type": "markdown",
   "metadata": {},
   "source": [
    "Посмотрим на срез столбца `power` с ограничением мощности до 1000"
   ]
  },
  {
   "cell_type": "code",
   "execution_count": 18,
   "metadata": {},
   "outputs": [],
   "source": [
    "t = df.query('power < 1000')"
   ]
  },
  {
   "cell_type": "code",
   "execution_count": 19,
   "metadata": {},
   "outputs": [
    {
     "data": {
      "image/png": "[encoded data removed]",
      "text/plain": [
       "<Figure size 1152x648 with 1 Axes>"
      ]
     },
     "metadata": {
      "needs_background": "light"
     },
     "output_type": "display_data"
    }
   ],
   "source": [
    "t['power'].hist(bins=100, figsize=(16,9));"
   ]
  },
  {
   "cell_type": "markdown",
   "metadata": {},
   "source": [
    "Видно, что есть выбросы с мощностью 0, которые тоже можно будет убрать "
   ]
  },
  {
   "cell_type": "markdown",
   "metadata": {},
   "source": [
    "Посмотрим на распределение значений в столбце `kilometer`"
   ]
  },
  {
   "cell_type": "code",
   "execution_count": 20,
   "metadata": {},
   "outputs": [
    {
     "data": {
      "image/png": "[encoded data removed]",
      "text/plain": [
       "<Figure size 1152x648 with 1 Axes>"
      ]
     },
     "metadata": {
      "needs_background": "light"
     },
     "output_type": "display_data"
    }
   ],
   "source": [
    "df['kilometer'].hist(bins=100, figsize=(16,9));"
   ]
  },
  {
   "cell_type": "code",
   "execution_count": 21,
   "metadata": {},
   "outputs": [
    {
     "data": {
      "text/plain": [
       "date_crawled          238209\n",
       "price                 238209\n",
       "vehicle_type          211493\n",
       "registration_year     238209\n",
       "gearbox               225358\n",
       "power                 238209\n",
       "model                 224951\n",
       "kilometer             238209\n",
       "registration_month    238209\n",
       "fuel_type             214877\n",
       "brand                 238209\n",
       "not_repaired          185587\n",
       "date_created          238209\n",
       "postal_code           238209\n",
       "last_seen             238209\n",
       "dtype: int64"
      ]
     },
     "execution_count": 21,
     "metadata": {},
     "output_type": "execute_result"
    }
   ],
   "source": [
    "df[df['kilometer'] == 150000].count()"
   ]
  },
  {
   "cell_type": "markdown",
   "metadata": {},
   "source": [
    "В столбце `kilometer` более 230 000 записей со значением пробега 150 000 км, большинство автомобилей в объявлениях имеет одинаковый пробег"
   ]
  },
  {
   "cell_type": "markdown",
   "metadata": {},
   "source": [
    "Посмотрим на срез данных без выбросов по цене, мощности и году регистрации"
   ]
  },
  {
   "cell_type": "code",
   "execution_count": 22,
   "metadata": {},
   "outputs": [],
   "source": [
    "df = df.query(\" 0< price < 20000 and 0 < power < 1000 and 1800 < registration_year < 2017\")"
   ]
  },
  {
   "cell_type": "code",
   "execution_count": 23,
   "metadata": {},
   "outputs": [
    {
     "data": {
      "text/html": [
       "<div>\n",
       "<style scoped>\n",
       "    .dataframe tbody tr th:only-of-type {\n",
       "        vertical-align: middle;\n",
       "    }\n",
       "\n",
       "    .dataframe tbody tr th {\n",
       "        vertical-align: top;\n",
       "    }\n",
       "\n",
       "    .dataframe thead th {\n",
       "        text-align: right;\n",
       "    }\n",
       "</style>\n",
       "<table border=\"1\" class=\"dataframe\">\n",
       "  <thead>\n",
       "    <tr style=\"text-align: right;\">\n",
       "      <th></th>\n",
       "      <th>date_crawled</th>\n",
       "      <th>price</th>\n",
       "      <th>vehicle_type</th>\n",
       "      <th>registration_year</th>\n",
       "      <th>gearbox</th>\n",
       "      <th>power</th>\n",
       "      <th>model</th>\n",
       "      <th>kilometer</th>\n",
       "      <th>registration_month</th>\n",
       "      <th>fuel_type</th>\n",
       "      <th>brand</th>\n",
       "      <th>not_repaired</th>\n",
       "      <th>date_created</th>\n",
       "      <th>postal_code</th>\n",
       "      <th>last_seen</th>\n",
       "    </tr>\n",
       "  </thead>\n",
       "  <tbody>\n",
       "    <tr>\n",
       "      <th>1</th>\n",
       "      <td>2016-03-24 10:58:45</td>\n",
       "      <td>18300</td>\n",
       "      <td>coupe</td>\n",
       "      <td>2011</td>\n",
       "      <td>manual</td>\n",
       "      <td>190</td>\n",
       "      <td>NaN</td>\n",
       "      <td>125000</td>\n",
       "      <td>5</td>\n",
       "      <td>gasoline</td>\n",
       "      <td>audi</td>\n",
       "      <td>1.0</td>\n",
       "      <td>2016-03-24</td>\n",
       "      <td>66954</td>\n",
       "      <td>2016-04-07 01:46:50</td>\n",
       "    </tr>\n",
       "    <tr>\n",
       "      <th>2</th>\n",
       "      <td>2016-03-14 12:52:21</td>\n",
       "      <td>9800</td>\n",
       "      <td>suv</td>\n",
       "      <td>2004</td>\n",
       "      <td>auto</td>\n",
       "      <td>163</td>\n",
       "      <td>grand</td>\n",
       "      <td>125000</td>\n",
       "      <td>8</td>\n",
       "      <td>gasoline</td>\n",
       "      <td>jeep</td>\n",
       "      <td>NaN</td>\n",
       "      <td>2016-03-14</td>\n",
       "      <td>90480</td>\n",
       "      <td>2016-04-05 12:47:46</td>\n",
       "    </tr>\n",
       "    <tr>\n",
       "      <th>3</th>\n",
       "      <td>2016-03-17 16:54:04</td>\n",
       "      <td>1500</td>\n",
       "      <td>small</td>\n",
       "      <td>2001</td>\n",
       "      <td>manual</td>\n",
       "      <td>75</td>\n",
       "      <td>golf</td>\n",
       "      <td>150000</td>\n",
       "      <td>6</td>\n",
       "      <td>petrol</td>\n",
       "      <td>volkswagen</td>\n",
       "      <td>0.0</td>\n",
       "      <td>2016-03-17</td>\n",
       "      <td>91074</td>\n",
       "      <td>2016-03-17 17:40:17</td>\n",
       "    </tr>\n",
       "    <tr>\n",
       "      <th>4</th>\n",
       "      <td>2016-03-31 17:25:20</td>\n",
       "      <td>3600</td>\n",
       "      <td>small</td>\n",
       "      <td>2008</td>\n",
       "      <td>manual</td>\n",
       "      <td>69</td>\n",
       "      <td>fabia</td>\n",
       "      <td>90000</td>\n",
       "      <td>7</td>\n",
       "      <td>gasoline</td>\n",
       "      <td>skoda</td>\n",
       "      <td>0.0</td>\n",
       "      <td>2016-03-31</td>\n",
       "      <td>60437</td>\n",
       "      <td>2016-04-06 10:17:21</td>\n",
       "    </tr>\n",
       "    <tr>\n",
       "      <th>5</th>\n",
       "      <td>2016-04-04 17:36:23</td>\n",
       "      <td>650</td>\n",
       "      <td>sedan</td>\n",
       "      <td>1995</td>\n",
       "      <td>manual</td>\n",
       "      <td>102</td>\n",
       "      <td>3er</td>\n",
       "      <td>150000</td>\n",
       "      <td>10</td>\n",
       "      <td>petrol</td>\n",
       "      <td>bmw</td>\n",
       "      <td>1.0</td>\n",
       "      <td>2016-04-04</td>\n",
       "      <td>33775</td>\n",
       "      <td>2016-04-06 19:17:07</td>\n",
       "    </tr>\n",
       "    <tr>\n",
       "      <th>...</th>\n",
       "      <td>...</td>\n",
       "      <td>...</td>\n",
       "      <td>...</td>\n",
       "      <td>...</td>\n",
       "      <td>...</td>\n",
       "      <td>...</td>\n",
       "      <td>...</td>\n",
       "      <td>...</td>\n",
       "      <td>...</td>\n",
       "      <td>...</td>\n",
       "      <td>...</td>\n",
       "      <td>...</td>\n",
       "      <td>...</td>\n",
       "      <td>...</td>\n",
       "      <td>...</td>\n",
       "    </tr>\n",
       "    <tr>\n",
       "      <th>354361</th>\n",
       "      <td>2016-03-09 13:37:43</td>\n",
       "      <td>5250</td>\n",
       "      <td>NaN</td>\n",
       "      <td>2016</td>\n",
       "      <td>auto</td>\n",
       "      <td>150</td>\n",
       "      <td>159</td>\n",
       "      <td>150000</td>\n",
       "      <td>12</td>\n",
       "      <td>NaN</td>\n",
       "      <td>alfa_romeo</td>\n",
       "      <td>0.0</td>\n",
       "      <td>2016-03-09</td>\n",
       "      <td>51371</td>\n",
       "      <td>2016-03-13 01:44:13</td>\n",
       "    </tr>\n",
       "    <tr>\n",
       "      <th>354362</th>\n",
       "      <td>2016-03-19 19:53:49</td>\n",
       "      <td>3200</td>\n",
       "      <td>sedan</td>\n",
       "      <td>2004</td>\n",
       "      <td>manual</td>\n",
       "      <td>225</td>\n",
       "      <td>leon</td>\n",
       "      <td>150000</td>\n",
       "      <td>5</td>\n",
       "      <td>petrol</td>\n",
       "      <td>seat</td>\n",
       "      <td>1.0</td>\n",
       "      <td>2016-03-19</td>\n",
       "      <td>96465</td>\n",
       "      <td>2016-03-19 20:44:43</td>\n",
       "    </tr>\n",
       "    <tr>\n",
       "      <th>354366</th>\n",
       "      <td>2016-03-05 19:56:21</td>\n",
       "      <td>1199</td>\n",
       "      <td>convertible</td>\n",
       "      <td>2000</td>\n",
       "      <td>auto</td>\n",
       "      <td>101</td>\n",
       "      <td>fortwo</td>\n",
       "      <td>125000</td>\n",
       "      <td>3</td>\n",
       "      <td>petrol</td>\n",
       "      <td>smart</td>\n",
       "      <td>0.0</td>\n",
       "      <td>2016-03-05</td>\n",
       "      <td>26135</td>\n",
       "      <td>2016-03-11 18:17:12</td>\n",
       "    </tr>\n",
       "    <tr>\n",
       "      <th>354367</th>\n",
       "      <td>2016-03-19 18:57:12</td>\n",
       "      <td>9200</td>\n",
       "      <td>bus</td>\n",
       "      <td>1996</td>\n",
       "      <td>manual</td>\n",
       "      <td>102</td>\n",
       "      <td>transporter</td>\n",
       "      <td>150000</td>\n",
       "      <td>3</td>\n",
       "      <td>gasoline</td>\n",
       "      <td>volkswagen</td>\n",
       "      <td>0.0</td>\n",
       "      <td>2016-03-19</td>\n",
       "      <td>87439</td>\n",
       "      <td>2016-04-07 07:15:26</td>\n",
       "    </tr>\n",
       "    <tr>\n",
       "      <th>354368</th>\n",
       "      <td>2016-03-20 19:41:08</td>\n",
       "      <td>3400</td>\n",
       "      <td>wagon</td>\n",
       "      <td>2002</td>\n",
       "      <td>manual</td>\n",
       "      <td>100</td>\n",
       "      <td>golf</td>\n",
       "      <td>150000</td>\n",
       "      <td>6</td>\n",
       "      <td>gasoline</td>\n",
       "      <td>volkswagen</td>\n",
       "      <td>NaN</td>\n",
       "      <td>2016-03-20</td>\n",
       "      <td>40764</td>\n",
       "      <td>2016-03-24 12:45:21</td>\n",
       "    </tr>\n",
       "  </tbody>\n",
       "</table>\n",
       "<p>296390 rows × 15 columns</p>\n",
       "</div>"
      ],
      "text/plain": [
       "              date_crawled  price vehicle_type  registration_year gearbox  \\\n",
       "1      2016-03-24 10:58:45  18300        coupe               2011  manual   \n",
       "2      2016-03-14 12:52:21   9800          suv               2004    auto   \n",
       "3      2016-03-17 16:54:04   1500        small               2001  manual   \n",
       "4      2016-03-31 17:25:20   3600        small               2008  manual   \n",
       "5      2016-04-04 17:36:23    650        sedan               1995  manual   \n",
       "...                    ...    ...          ...                ...     ...   \n",
       "354361 2016-03-09 13:37:43   5250          NaN               2016    auto   \n",
       "354362 2016-03-19 19:53:49   3200        sedan               2004  manual   \n",
       "354366 2016-03-05 19:56:21   1199  convertible               2000    auto   \n",
       "354367 2016-03-19 18:57:12   9200          bus               1996  manual   \n",
       "354368 2016-03-20 19:41:08   3400        wagon               2002  manual   \n",
       "\n",
       "        power        model  kilometer  registration_month fuel_type  \\\n",
       "1         190          NaN     125000                   5  gasoline   \n",
       "2         163        grand     125000                   8  gasoline   \n",
       "3          75         golf     150000                   6    petrol   \n",
       "4          69        fabia      90000                   7  gasoline   \n",
       "5         102          3er     150000                  10    petrol   \n",
       "...       ...          ...        ...                 ...       ...   \n",
       "354361    150          159     150000                  12       NaN   \n",
       "354362    225         leon     150000                   5    petrol   \n",
       "354366    101       fortwo     125000                   3    petrol   \n",
       "354367    102  transporter     150000                   3  gasoline   \n",
       "354368    100         golf     150000                   6  gasoline   \n",
       "\n",
       "             brand  not_repaired date_created  postal_code           last_seen  \n",
       "1             audi           1.0   2016-03-24        66954 2016-04-07 01:46:50  \n",
       "2             jeep           NaN   2016-03-14        90480 2016-04-05 12:47:46  \n",
       "3       volkswagen           0.0   2016-03-17        91074 2016-03-17 17:40:17  \n",
       "4            skoda           0.0   2016-03-31        60437 2016-04-06 10:17:21  \n",
       "5              bmw           1.0   2016-04-04        33775 2016-04-06 19:17:07  \n",
       "...            ...           ...          ...          ...                 ...  \n",
       "354361  alfa_romeo           0.0   2016-03-09        51371 2016-03-13 01:44:13  \n",
       "354362        seat           1.0   2016-03-19        96465 2016-03-19 20:44:43  \n",
       "354366       smart           0.0   2016-03-05        26135 2016-03-11 18:17:12  \n",
       "354367  volkswagen           0.0   2016-03-19        87439 2016-04-07 07:15:26  \n",
       "354368  volkswagen           NaN   2016-03-20        40764 2016-03-24 12:45:21  \n",
       "\n",
       "[296390 rows x 15 columns]"
      ]
     },
     "execution_count": 23,
     "metadata": {},
     "output_type": "execute_result"
    }
   ],
   "source": [
    "df"
   ]
  },
  {
   "cell_type": "markdown",
   "metadata": {},
   "source": [
    "Посмотрим на статистики получившегося среза"
   ]
  },
  {
   "cell_type": "code",
   "execution_count": 24,
   "metadata": {
    "scrolled": true
   },
   "outputs": [
    {
     "data": {
      "text/html": [
       "<div>\n",
       "<style scoped>\n",
       "    .dataframe tbody tr th:only-of-type {\n",
       "        vertical-align: middle;\n",
       "    }\n",
       "\n",
       "    .dataframe tbody tr th {\n",
       "        vertical-align: top;\n",
       "    }\n",
       "\n",
       "    .dataframe thead th {\n",
       "        text-align: right;\n",
       "    }\n",
       "</style>\n",
       "<table border=\"1\" class=\"dataframe\">\n",
       "  <thead>\n",
       "    <tr style=\"text-align: right;\">\n",
       "      <th></th>\n",
       "      <th>count</th>\n",
       "      <th>mean</th>\n",
       "      <th>std</th>\n",
       "      <th>min</th>\n",
       "      <th>25%</th>\n",
       "      <th>50%</th>\n",
       "      <th>75%</th>\n",
       "      <th>max</th>\n",
       "    </tr>\n",
       "  </thead>\n",
       "  <tbody>\n",
       "    <tr>\n",
       "      <th>price</th>\n",
       "      <td>296390.0</td>\n",
       "      <td>4842.224650</td>\n",
       "      <td>4593.590988</td>\n",
       "      <td>1.0</td>\n",
       "      <td>1340.0</td>\n",
       "      <td>3200.0</td>\n",
       "      <td>6990.0</td>\n",
       "      <td>19999.0</td>\n",
       "    </tr>\n",
       "    <tr>\n",
       "      <th>registration_year</th>\n",
       "      <td>296390.0</td>\n",
       "      <td>2002.811198</td>\n",
       "      <td>6.552385</td>\n",
       "      <td>1910.0</td>\n",
       "      <td>1999.0</td>\n",
       "      <td>2003.0</td>\n",
       "      <td>2007.0</td>\n",
       "      <td>2016.0</td>\n",
       "    </tr>\n",
       "    <tr>\n",
       "      <th>power</th>\n",
       "      <td>296390.0</td>\n",
       "      <td>120.635511</td>\n",
       "      <td>54.656016</td>\n",
       "      <td>1.0</td>\n",
       "      <td>75.0</td>\n",
       "      <td>110.0</td>\n",
       "      <td>150.0</td>\n",
       "      <td>999.0</td>\n",
       "    </tr>\n",
       "    <tr>\n",
       "      <th>kilometer</th>\n",
       "      <td>296390.0</td>\n",
       "      <td>128296.990452</td>\n",
       "      <td>36776.082746</td>\n",
       "      <td>5000.0</td>\n",
       "      <td>125000.0</td>\n",
       "      <td>150000.0</td>\n",
       "      <td>150000.0</td>\n",
       "      <td>150000.0</td>\n",
       "    </tr>\n",
       "    <tr>\n",
       "      <th>registration_month</th>\n",
       "      <td>296390.0</td>\n",
       "      <td>5.992392</td>\n",
       "      <td>3.584138</td>\n",
       "      <td>0.0</td>\n",
       "      <td>3.0</td>\n",
       "      <td>6.0</td>\n",
       "      <td>9.0</td>\n",
       "      <td>12.0</td>\n",
       "    </tr>\n",
       "    <tr>\n",
       "      <th>not_repaired</th>\n",
       "      <td>253424.0</td>\n",
       "      <td>0.114220</td>\n",
       "      <td>0.318078</td>\n",
       "      <td>0.0</td>\n",
       "      <td>0.0</td>\n",
       "      <td>0.0</td>\n",
       "      <td>0.0</td>\n",
       "      <td>1.0</td>\n",
       "    </tr>\n",
       "    <tr>\n",
       "      <th>postal_code</th>\n",
       "      <td>296390.0</td>\n",
       "      <td>51237.577820</td>\n",
       "      <td>25781.313201</td>\n",
       "      <td>1067.0</td>\n",
       "      <td>30926.0</td>\n",
       "      <td>50259.0</td>\n",
       "      <td>72108.0</td>\n",
       "      <td>99998.0</td>\n",
       "    </tr>\n",
       "  </tbody>\n",
       "</table>\n",
       "</div>"
      ],
      "text/plain": [
       "                       count           mean           std     min       25%  \\\n",
       "price               296390.0    4842.224650   4593.590988     1.0    1340.0   \n",
       "registration_year   296390.0    2002.811198      6.552385  1910.0    1999.0   \n",
       "power               296390.0     120.635511     54.656016     1.0      75.0   \n",
       "kilometer           296390.0  128296.990452  36776.082746  5000.0  125000.0   \n",
       "registration_month  296390.0       5.992392      3.584138     0.0       3.0   \n",
       "not_repaired        253424.0       0.114220      0.318078     0.0       0.0   \n",
       "postal_code         296390.0   51237.577820  25781.313201  1067.0   30926.0   \n",
       "\n",
       "                         50%       75%       max  \n",
       "price                 3200.0    6990.0   19999.0  \n",
       "registration_year     2003.0    2007.0    2016.0  \n",
       "power                  110.0     150.0     999.0  \n",
       "kilometer           150000.0  150000.0  150000.0  \n",
       "registration_month       6.0       9.0      12.0  \n",
       "not_repaired             0.0       0.0       1.0  \n",
       "postal_code          50259.0   72108.0   99998.0  "
      ]
     },
     "execution_count": 24,
     "metadata": {},
     "output_type": "execute_result"
    }
   ],
   "source": [
    "df.describe().T"
   ]
  },
  {
   "cell_type": "markdown",
   "metadata": {},
   "source": [
    "Избавившись от выбрасов в крайних значениях мы приблизили медианные значения параметров к средним значениям и избавились от неправдоподобных данных"
   ]
  },
  {
   "cell_type": "markdown",
   "metadata": {},
   "source": [
    "Определим количество пропусков в данных, %"
   ]
  },
  {
   "cell_type": "code",
   "execution_count": 25,
   "metadata": {
    "scrolled": true
   },
   "outputs": [
    {
     "data": {
      "text/plain": [
       "not_repaired          14.496441\n",
       "fuel_type              5.258949\n",
       "model                  3.776443\n",
       "vehicle_type           3.728871\n",
       "gearbox                1.818212\n",
       "date_crawled           0.000000\n",
       "price                  0.000000\n",
       "registration_year      0.000000\n",
       "power                  0.000000\n",
       "kilometer              0.000000\n",
       "registration_month     0.000000\n",
       "brand                  0.000000\n",
       "date_created           0.000000\n",
       "postal_code            0.000000\n",
       "last_seen              0.000000\n",
       "dtype: float64"
      ]
     },
     "execution_count": 25,
     "metadata": {},
     "output_type": "execute_result"
    }
   ],
   "source": [
    "df.isna().mean().sort_values(ascending=False)*100"
   ]
  },
  {
   "cell_type": "markdown",
   "metadata": {},
   "source": [
    "Посмотрим на распределение данных в столбцах с пропусками"
   ]
  },
  {
   "cell_type": "code",
   "execution_count": 26,
   "metadata": {},
   "outputs": [
    {
     "data": {
      "image/png": "[encoded data removed]",
      "text/plain": [
       "<Figure size 432x288 with 1 Axes>"
      ]
     },
     "metadata": {
      "needs_background": "light"
     },
     "output_type": "display_data"
    }
   ],
   "source": [
    "df['not_repaired'].hist();"
   ]
  },
  {
   "cell_type": "code",
   "execution_count": 27,
   "metadata": {},
   "outputs": [
    {
     "data": {
      "text/plain": [
       "array([ 1., nan,  0.])"
      ]
     },
     "execution_count": 27,
     "metadata": {},
     "output_type": "execute_result"
    }
   ],
   "source": [
    "df['not_repaired'].unique()"
   ]
  },
  {
   "cell_type": "markdown",
   "metadata": {},
   "source": [
    "Определим среднее значение столбца `not_repaired` и заполним пропуски ближайшим целым"
   ]
  },
  {
   "cell_type": "code",
   "execution_count": 30,
   "metadata": {
    "scrolled": true
   },
   "outputs": [
    {
     "data": {
      "text/plain": [
       "0.11421964770503189"
      ]
     },
     "execution_count": 30,
     "metadata": {},
     "output_type": "execute_result"
    }
   ],
   "source": [
    "df['not_repaired'].mean() "
   ]
  },
  {
   "cell_type": "markdown",
   "metadata": {},
   "source": [
    "Значения столбца `not_repaired` близко к 0"
   ]
  },
  {
   "cell_type": "markdown",
   "metadata": {},
   "source": [
    "Т.к `not_repaired` близок к 0, заполним пропуски \"0\""
   ]
  },
  {
   "cell_type": "code",
   "execution_count": 31,
   "metadata": {},
   "outputs": [],
   "source": [
    "df['not_repaired'] = df['not_repaired'].fillna(0)"
   ]
  },
  {
   "cell_type": "markdown",
   "metadata": {},
   "source": [
    "Пропусков в столбце `fuel_type` менее 6%, заполним пропуски значением \"заглушкой\""
   ]
  },
  {
   "cell_type": "code",
   "execution_count": 32,
   "metadata": {},
   "outputs": [],
   "source": [
    "df['fuel_type'] = df['fuel_type'].fillna('unknown')"
   ]
  },
  {
   "cell_type": "markdown",
   "metadata": {},
   "source": [
    "Пропусков в столбце `model` менее 4%, заполним пропуски значением \"заглушкой\""
   ]
  },
  {
   "cell_type": "code",
   "execution_count": 33,
   "metadata": {},
   "outputs": [],
   "source": [
    "df['model'] = df['model'].fillna('unknown')"
   ]
  },
  {
   "cell_type": "markdown",
   "metadata": {},
   "source": [
    "Пропусков в столбце `vehicle_type` менее 4%, заполним пропуски значением \"заглушкой\""
   ]
  },
  {
   "cell_type": "code",
   "execution_count": 34,
   "metadata": {},
   "outputs": [],
   "source": [
    "df['vehicle_type'] = df['vehicle_type'].fillna('unknown')"
   ]
  },
  {
   "cell_type": "markdown",
   "metadata": {},
   "source": [
    "Пропусков в столбце `gearbox`  менее 2%, заполним пропуски значением \"заглушкой\""
   ]
  },
  {
   "cell_type": "code",
   "execution_count": 35,
   "metadata": {},
   "outputs": [],
   "source": [
    "df['gearbox'] = df['gearbox'].fillna('unknown')"
   ]
  },
  {
   "cell_type": "markdown",
   "metadata": {},
   "source": [
    "Найдем полные дубликаты"
   ]
  },
  {
   "cell_type": "code",
   "execution_count": 36,
   "metadata": {},
   "outputs": [
    {
     "data": {
      "text/plain": [
       "5"
      ]
     },
     "execution_count": 36,
     "metadata": {},
     "output_type": "execute_result"
    }
   ],
   "source": [
    "df.duplicated().sum()"
   ]
  },
  {
   "cell_type": "code",
   "execution_count": 37,
   "metadata": {
    "scrolled": true
   },
   "outputs": [
    {
     "data": {
      "text/plain": [
       "272465    True\n",
       "143097    True\n",
       "162261    True\n",
       "215887    True\n",
       "193345    True\n",
       "dtype: bool"
      ]
     },
     "execution_count": 37,
     "metadata": {},
     "output_type": "execute_result"
    }
   ],
   "source": [
    "df.duplicated().sort_values(ascending=False).head()"
   ]
  },
  {
   "cell_type": "markdown",
   "metadata": {},
   "source": [
    "Найдено 5 дубликатов"
   ]
  },
  {
   "cell_type": "markdown",
   "metadata": {},
   "source": [
    "Удалим полные дубликаты"
   ]
  },
  {
   "cell_type": "code",
   "execution_count": 38,
   "metadata": {},
   "outputs": [],
   "source": [
    "df = df.drop_duplicates()"
   ]
  },
  {
   "cell_type": "markdown",
   "metadata": {},
   "source": [
    "Посмотрим на корреляции параметров"
   ]
  },
  {
   "cell_type": "code",
   "execution_count": 39,
   "metadata": {
    "scrolled": true
   },
   "outputs": [
    {
     "data": {
      "text/html": [
       "<div>\n",
       "<style scoped>\n",
       "    .dataframe tbody tr th:only-of-type {\n",
       "        vertical-align: middle;\n",
       "    }\n",
       "\n",
       "    .dataframe tbody tr th {\n",
       "        vertical-align: top;\n",
       "    }\n",
       "\n",
       "    .dataframe thead th {\n",
       "        text-align: right;\n",
       "    }\n",
       "</style>\n",
       "<table border=\"1\" class=\"dataframe\">\n",
       "  <thead>\n",
       "    <tr style=\"text-align: right;\">\n",
       "      <th></th>\n",
       "      <th>price</th>\n",
       "      <th>registration_year</th>\n",
       "      <th>power</th>\n",
       "      <th>kilometer</th>\n",
       "      <th>registration_month</th>\n",
       "      <th>not_repaired</th>\n",
       "      <th>postal_code</th>\n",
       "    </tr>\n",
       "  </thead>\n",
       "  <tbody>\n",
       "    <tr>\n",
       "      <th>price</th>\n",
       "      <td>1.000000</td>\n",
       "      <td>0.480869</td>\n",
       "      <td>0.496465</td>\n",
       "      <td>-0.385287</td>\n",
       "      <td>0.068998</td>\n",
       "      <td>-0.193415</td>\n",
       "      <td>0.064619</td>\n",
       "    </tr>\n",
       "    <tr>\n",
       "      <th>registration_year</th>\n",
       "      <td>0.480869</td>\n",
       "      <td>1.000000</td>\n",
       "      <td>0.133169</td>\n",
       "      <td>-0.284835</td>\n",
       "      <td>0.047600</td>\n",
       "      <td>-0.090173</td>\n",
       "      <td>0.029005</td>\n",
       "    </tr>\n",
       "    <tr>\n",
       "      <th>power</th>\n",
       "      <td>0.496465</td>\n",
       "      <td>0.133169</td>\n",
       "      <td>1.000000</td>\n",
       "      <td>0.105339</td>\n",
       "      <td>0.040775</td>\n",
       "      <td>-0.043529</td>\n",
       "      <td>0.052827</td>\n",
       "    </tr>\n",
       "    <tr>\n",
       "      <th>kilometer</th>\n",
       "      <td>-0.385287</td>\n",
       "      <td>-0.284835</td>\n",
       "      <td>0.105339</td>\n",
       "      <td>1.000000</td>\n",
       "      <td>-0.014468</td>\n",
       "      <td>0.076458</td>\n",
       "      <td>-0.010666</td>\n",
       "    </tr>\n",
       "    <tr>\n",
       "      <th>registration_month</th>\n",
       "      <td>0.068998</td>\n",
       "      <td>0.047600</td>\n",
       "      <td>0.040775</td>\n",
       "      <td>-0.014468</td>\n",
       "      <td>1.000000</td>\n",
       "      <td>-0.035570</td>\n",
       "      <td>0.002625</td>\n",
       "    </tr>\n",
       "    <tr>\n",
       "      <th>not_repaired</th>\n",
       "      <td>-0.193415</td>\n",
       "      <td>-0.090173</td>\n",
       "      <td>-0.043529</td>\n",
       "      <td>0.076458</td>\n",
       "      <td>-0.035570</td>\n",
       "      <td>1.000000</td>\n",
       "      <td>-0.000322</td>\n",
       "    </tr>\n",
       "    <tr>\n",
       "      <th>postal_code</th>\n",
       "      <td>0.064619</td>\n",
       "      <td>0.029005</td>\n",
       "      <td>0.052827</td>\n",
       "      <td>-0.010666</td>\n",
       "      <td>0.002625</td>\n",
       "      <td>-0.000322</td>\n",
       "      <td>1.000000</td>\n",
       "    </tr>\n",
       "  </tbody>\n",
       "</table>\n",
       "</div>"
      ],
      "text/plain": [
       "                       price  registration_year     power  kilometer  \\\n",
       "price               1.000000           0.480869  0.496465  -0.385287   \n",
       "registration_year   0.480869           1.000000  0.133169  -0.284835   \n",
       "power               0.496465           0.133169  1.000000   0.105339   \n",
       "kilometer          -0.385287          -0.284835  0.105339   1.000000   \n",
       "registration_month  0.068998           0.047600  0.040775  -0.014468   \n",
       "not_repaired       -0.193415          -0.090173 -0.043529   0.076458   \n",
       "postal_code         0.064619           0.029005  0.052827  -0.010666   \n",
       "\n",
       "                    registration_month  not_repaired  postal_code  \n",
       "price                         0.068998     -0.193415     0.064619  \n",
       "registration_year             0.047600     -0.090173     0.029005  \n",
       "power                         0.040775     -0.043529     0.052827  \n",
       "kilometer                    -0.014468      0.076458    -0.010666  \n",
       "registration_month            1.000000     -0.035570     0.002625  \n",
       "not_repaired                 -0.035570      1.000000    -0.000322  \n",
       "postal_code                   0.002625     -0.000322     1.000000  "
      ]
     },
     "execution_count": 39,
     "metadata": {},
     "output_type": "execute_result"
    }
   ],
   "source": [
    "df.corr()"
   ]
  },
  {
   "cell_type": "markdown",
   "metadata": {},
   "source": [
    "### Вывод \n",
    "1) Названия столбцов были преобразованны в \"snake_case\";\\\n",
    "2) Столбец `number_of_pictures` был удален т.к. во всех строках содержал одинаковое значение \"0\";\\\n",
    "3) Тип столбцов `date_crawled`, `date_created` и `last_seen` изменили на datetime;\\\n",
    "4) Значения столбца `not_repaired` заменили на \"0\" и \"1\";\\\n",
    "5) Обнаружили и удалены аномальные значения в столбцах `price`, `power`, `registration_year`;\\\n",
    "6) В столбце `not_repaired` около 15 % пропусков, заменили пропуски значениями \"0\";\\\n",
    "7) Пропуски в остальных столбцах `fuel_type`, `model`, `vehicle_type`  и `gearbox` заменили на значени \"заглушку\" - \"unknown\";\\\n",
    "8) Найдены и удалены 5 строк - полных дубликатов."
   ]
  },
  {
   "cell_type": "markdown",
   "metadata": {},
   "source": [
    "## Обучение модели"
   ]
  },
  {
   "cell_type": "markdown",
   "metadata": {},
   "source": [
    "Разделим данные на обучающую и тестовую выборки"
   ]
  },
  {
   "cell_type": "code",
   "execution_count": 40,
   "metadata": {},
   "outputs": [],
   "source": [
    "train, test = train_test_split(df, test_size=0.25, random_state=42)"
   ]
  },
  {
   "cell_type": "code",
   "execution_count": 41,
   "metadata": {},
   "outputs": [
    {
     "data": {
      "text/plain": [
       "Index(['date_crawled', 'price', 'vehicle_type', 'registration_year', 'gearbox',\n",
       "       'power', 'model', 'kilometer', 'registration_month', 'fuel_type',\n",
       "       'brand', 'not_repaired', 'date_created', 'postal_code', 'last_seen'],\n",
       "      dtype='object')"
      ]
     },
     "execution_count": 41,
     "metadata": {},
     "output_type": "execute_result"
    }
   ],
   "source": [
    "train.columns"
   ]
  },
  {
   "cell_type": "markdown",
   "metadata": {},
   "source": [
    "В качестве параметров для обучения выберем `vehicle_type`, `registration_year`, `gearbox`, `power`, `model`, `kilometer`, `fuel_type`, `brand`, `not_repaired`"
   ]
  },
  {
   "cell_type": "code",
   "execution_count": 42,
   "metadata": {},
   "outputs": [],
   "source": [
    "X = ['vehicle_type', 'registration_year', 'gearbox',\n",
    "       'power', 'model', 'kilometer', 'fuel_type',\n",
    "       'brand', 'not_repaired']\n",
    "\n",
    "cat_features = ['vehicle_type', 'gearbox', 'model', 'fuel_type', 'brand']\n",
    "\n",
    "y = ['price']"
   ]
  },
  {
   "cell_type": "code",
   "execution_count": 43,
   "metadata": {},
   "outputs": [],
   "source": [
    "train_data = Pool(data=train[X],\n",
    "                  label=train[y],\n",
    "                  cat_features=cat_features\n",
    "                 )"
   ]
  },
  {
   "cell_type": "code",
   "execution_count": 44,
   "metadata": {},
   "outputs": [],
   "source": [
    "test_data = Pool(data=test[X],\n",
    "                  label=test[y],\n",
    "                  cat_features=cat_features\n",
    "                 )"
   ]
  },
  {
   "cell_type": "markdown",
   "metadata": {},
   "source": [
    "Провидем OHE и масштабирование данных для линейной регрессии"
   ]
  },
  {
   "cell_type": "code",
   "execution_count": 45,
   "metadata": {},
   "outputs": [],
   "source": [
    "col_transformer_ohe = make_column_transformer(\n",
    "    (\n",
    "        OneHotEncoder(handle_unknown='error', drop='first', sparse=False),\n",
    "        make_column_selector(dtype_include=object),\n",
    "    ),\n",
    "    (\n",
    "        StandardScaler(),\n",
    "        make_column_selector(dtype_include='number'),\n",
    "    ),\n",
    "\n",
    "    remainder='passthrough',\n",
    ")"
   ]
  },
  {
   "cell_type": "code",
   "execution_count": 46,
   "metadata": {},
   "outputs": [],
   "source": [
    "ohe_features_train  = pd.DataFrame(col_transformer_ohe.fit_transform(train[X]))\n",
    "ohe_features_test = pd.DataFrame(col_transformer_ohe.transform(test[X]))"
   ]
  },
  {
   "cell_type": "code",
   "execution_count": 47,
   "metadata": {
    "scrolled": true
   },
   "outputs": [
    {
     "data": {
      "text/plain": [
       "(222288, 309)"
      ]
     },
     "execution_count": 47,
     "metadata": {},
     "output_type": "execute_result"
    }
   ],
   "source": [
    "ohe_features_train.shape"
   ]
  },
  {
   "cell_type": "code",
   "execution_count": 48,
   "metadata": {},
   "outputs": [
    {
     "data": {
      "text/plain": [
       "(74097, 309)"
      ]
     },
     "execution_count": 48,
     "metadata": {},
     "output_type": "execute_result"
    }
   ],
   "source": [
    "ohe_features_test.shape"
   ]
  },
  {
   "cell_type": "code",
   "execution_count": 49,
   "metadata": {},
   "outputs": [],
   "source": [
    "scaler = StandardScaler()\n",
    "scaler.fit(ohe_features_train) \n",
    "features_train_scaled = scaler.transform(ohe_features_train)\n",
    "features_test_scaled = scaler.transform(ohe_features_test)"
   ]
  },
  {
   "cell_type": "markdown",
   "metadata": {},
   "source": [
    "Обучим модель линейной регрессии "
   ]
  },
  {
   "cell_type": "code",
   "execution_count": 50,
   "metadata": {},
   "outputs": [],
   "source": [
    "models = [LinearRegression()]\n",
    "cv = 5\n",
    "rmse = 'neg_root_mean_squared_error' \n",
    "results_cross_val_0 = []\n",
    "for model in models: \n",
    "    start_time = time.time()\n",
    "    cv_score = cross_val_score(model, \n",
    "                               features_train_scaled, \n",
    "                               train[y], \n",
    "                               cv=cv, \n",
    "                               scoring=rmse,\n",
    "                               n_jobs=-1).mean()    \n",
    "    \n",
    "    elapsed_time = time.time() - start_time\n",
    "    results_cross_val_0.append({'model_name': model.__class__.__name__, \n",
    "                              'cross_val_score': int(cv_score),\n",
    "                              'learn_time': int(elapsed_time)}) "
   ]
  },
  {
   "cell_type": "markdown",
   "metadata": {},
   "source": [
    "Обучим модели LightGBM и CatBoost"
   ]
  },
  {
   "cell_type": "code",
   "execution_count": 51,
   "metadata": {
    "scrolled": true
   },
   "outputs": [
    {
     "name": "stderr",
     "output_type": "stream",
     "text": [
      "/opt/conda/lib/python3.9/site-packages/sklearn/utils/validation.py:63: DataConversionWarning: A column-vector y was passed when a 1d array was expected. Please change the shape of y to (n_samples, ), for example using ravel().\n",
      "  return f(*args, **kwargs)\n",
      "/opt/conda/lib/python3.9/site-packages/sklearn/utils/validation.py:63: DataConversionWarning: A column-vector y was passed when a 1d array was expected. Please change the shape of y to (n_samples, ), for example using ravel().\n",
      "  return f(*args, **kwargs)\n",
      "/opt/conda/lib/python3.9/site-packages/sklearn/utils/validation.py:63: DataConversionWarning: A column-vector y was passed when a 1d array was expected. Please change the shape of y to (n_samples, ), for example using ravel().\n",
      "  return f(*args, **kwargs)\n",
      "/opt/conda/lib/python3.9/site-packages/sklearn/utils/validation.py:63: DataConversionWarning: A column-vector y was passed when a 1d array was expected. Please change the shape of y to (n_samples, ), for example using ravel().\n",
      "  return f(*args, **kwargs)\n",
      "/opt/conda/lib/python3.9/site-packages/sklearn/utils/validation.py:63: DataConversionWarning: A column-vector y was passed when a 1d array was expected. Please change the shape of y to (n_samples, ), for example using ravel().\n",
      "  return f(*args, **kwargs)\n"
     ]
    },
    {
     "name": "stdout",
     "output_type": "stream",
     "text": [
      "CPU times: user 4min 27s, sys: 5.55 s, total: 4min 32s\n",
      "Wall time: 4min 37s\n"
     ]
    }
   ],
   "source": [
    "%%time\n",
    "\n",
    "models = [LGBMRegressor(),\n",
    "          CatBoostRegressor(verbose=False)]\n",
    "\n",
    "for model in models: \n",
    "    start_time = time.time()\n",
    "    cv_score = cross_val_score(model, \n",
    "                               features_train_scaled, \n",
    "                               train[y], \n",
    "                               cv=cv, \n",
    "                               scoring=rmse,\n",
    "                               n_jobs=-1).mean()    \n",
    "    \n",
    "    elapsed_time = time.time() - start_time\n",
    "    results_cross_val_0.append({'model_name': model.__class__.__name__, \n",
    "                              'cross_val_score': int(cv_score),\n",
    "                              'learn_time': int(elapsed_time)}) \n"
   ]
  },
  {
   "cell_type": "code",
   "execution_count": 52,
   "metadata": {},
   "outputs": [
    {
     "data": {
      "text/html": [
       "<div>\n",
       "<style scoped>\n",
       "    .dataframe tbody tr th:only-of-type {\n",
       "        vertical-align: middle;\n",
       "    }\n",
       "\n",
       "    .dataframe tbody tr th {\n",
       "        vertical-align: top;\n",
       "    }\n",
       "\n",
       "    .dataframe thead th {\n",
       "        text-align: right;\n",
       "    }\n",
       "</style>\n",
       "<table border=\"1\" class=\"dataframe\">\n",
       "  <thead>\n",
       "    <tr style=\"text-align: right;\">\n",
       "      <th></th>\n",
       "      <th>model_name</th>\n",
       "      <th>cross_val_score</th>\n",
       "      <th>learn_time</th>\n",
       "    </tr>\n",
       "  </thead>\n",
       "  <tbody>\n",
       "    <tr>\n",
       "      <th>2</th>\n",
       "      <td>CatBoostRegressor</td>\n",
       "      <td>-1587</td>\n",
       "      <td>209</td>\n",
       "    </tr>\n",
       "    <tr>\n",
       "      <th>1</th>\n",
       "      <td>LGBMRegressor</td>\n",
       "      <td>-1676</td>\n",
       "      <td>67</td>\n",
       "    </tr>\n",
       "    <tr>\n",
       "      <th>0</th>\n",
       "      <td>LinearRegression</td>\n",
       "      <td>-3598</td>\n",
       "      <td>82</td>\n",
       "    </tr>\n",
       "  </tbody>\n",
       "</table>\n",
       "</div>"
      ],
      "text/plain": [
       "          model_name  cross_val_score  learn_time\n",
       "2  CatBoostRegressor            -1587         209\n",
       "1      LGBMRegressor            -1676          67\n",
       "0   LinearRegression            -3598          82"
      ]
     },
     "execution_count": 52,
     "metadata": {},
     "output_type": "execute_result"
    }
   ],
   "source": [
    "t = pd.DataFrame(results_cross_val_0).sort_values('cross_val_score', ascending=False)\n",
    "t"
   ]
  },
  {
   "cell_type": "code",
   "execution_count": 53,
   "metadata": {},
   "outputs": [
    {
     "data": {
      "text/html": [
       "<div>\n",
       "<style scoped>\n",
       "    .dataframe tbody tr th:only-of-type {\n",
       "        vertical-align: middle;\n",
       "    }\n",
       "\n",
       "    .dataframe tbody tr th {\n",
       "        vertical-align: top;\n",
       "    }\n",
       "\n",
       "    .dataframe thead th {\n",
       "        text-align: right;\n",
       "    }\n",
       "</style>\n",
       "<table border=\"1\" class=\"dataframe\">\n",
       "  <thead>\n",
       "    <tr style=\"text-align: right;\">\n",
       "      <th></th>\n",
       "      <th>model_name</th>\n",
       "      <th>cross_val_score</th>\n",
       "      <th>learn_time</th>\n",
       "    </tr>\n",
       "  </thead>\n",
       "  <tbody>\n",
       "    <tr>\n",
       "      <th>1</th>\n",
       "      <td>LGBMRegressor</td>\n",
       "      <td>-1676</td>\n",
       "      <td>67</td>\n",
       "    </tr>\n",
       "    <tr>\n",
       "      <th>0</th>\n",
       "      <td>LinearRegression</td>\n",
       "      <td>-3598</td>\n",
       "      <td>82</td>\n",
       "    </tr>\n",
       "    <tr>\n",
       "      <th>2</th>\n",
       "      <td>CatBoostRegressor</td>\n",
       "      <td>-1587</td>\n",
       "      <td>209</td>\n",
       "    </tr>\n",
       "  </tbody>\n",
       "</table>\n",
       "</div>"
      ],
      "text/plain": [
       "          model_name  cross_val_score  learn_time\n",
       "1      LGBMRegressor            -1676          67\n",
       "0   LinearRegression            -3598          82\n",
       "2  CatBoostRegressor            -1587         209"
      ]
     },
     "execution_count": 53,
     "metadata": {},
     "output_type": "execute_result"
    }
   ],
   "source": [
    "t.sort_values('learn_time')"
   ]
  },
  {
   "cell_type": "markdown",
   "metadata": {},
   "source": [
    "### Вывод \n",
    "1) Разделили выборку на обучающую и тестовую в соотношении 75/25%;\\\n",
    "2) В качестве параметров для обучения выбрал и `vehicle_type`, `registration_year`, `gearbox`, `power`, `model`, `kilometer`, `fuel_type`, `brand`, `not_repaired`;\\\n",
    "3) Провели OHE и мастабирование данных для модели линейной регрессии;\\\n",
    "4) Обучили модель линейной регрессии и получили RMSE на тестовой выборке 3598;\\\n",
    "5) Обучили модель CatBoostRegressor и получили RMSE - 1587;\\\n",
    "6) Обучили модель LightGBM и получили RMSE на тестовой выборке 1676;"
   ]
  },
  {
   "cell_type": "markdown",
   "metadata": {},
   "source": [
    "## Анализ моделей"
   ]
  },
  {
   "cell_type": "markdown",
   "metadata": {},
   "source": [
    "Построим таблицу с RMSE каждой модели на кросвалидации"
   ]
  },
  {
   "cell_type": "code",
   "execution_count": 54,
   "metadata": {},
   "outputs": [
    {
     "data": {
      "text/html": [
       "<div>\n",
       "<style scoped>\n",
       "    .dataframe tbody tr th:only-of-type {\n",
       "        vertical-align: middle;\n",
       "    }\n",
       "\n",
       "    .dataframe tbody tr th {\n",
       "        vertical-align: top;\n",
       "    }\n",
       "\n",
       "    .dataframe thead th {\n",
       "        text-align: right;\n",
       "    }\n",
       "</style>\n",
       "<table border=\"1\" class=\"dataframe\">\n",
       "  <thead>\n",
       "    <tr style=\"text-align: right;\">\n",
       "      <th></th>\n",
       "      <th>model_name</th>\n",
       "      <th>cross_val_score</th>\n",
       "      <th>learn_time</th>\n",
       "    </tr>\n",
       "  </thead>\n",
       "  <tbody>\n",
       "    <tr>\n",
       "      <th>1</th>\n",
       "      <td>LGBMRegressor</td>\n",
       "      <td>-1676</td>\n",
       "      <td>67</td>\n",
       "    </tr>\n",
       "    <tr>\n",
       "      <th>0</th>\n",
       "      <td>LinearRegression</td>\n",
       "      <td>-3598</td>\n",
       "      <td>82</td>\n",
       "    </tr>\n",
       "    <tr>\n",
       "      <th>2</th>\n",
       "      <td>CatBoostRegressor</td>\n",
       "      <td>-1587</td>\n",
       "      <td>209</td>\n",
       "    </tr>\n",
       "  </tbody>\n",
       "</table>\n",
       "</div>"
      ],
      "text/plain": [
       "          model_name  cross_val_score  learn_time\n",
       "1      LGBMRegressor            -1676          67\n",
       "0   LinearRegression            -3598          82\n",
       "2  CatBoostRegressor            -1587         209"
      ]
     },
     "execution_count": 54,
     "metadata": {},
     "output_type": "execute_result"
    }
   ],
   "source": [
    "t.sort_values('learn_time')"
   ]
  },
  {
   "cell_type": "code",
   "execution_count": 55,
   "metadata": {},
   "outputs": [
    {
     "data": {
      "text/html": [
       "<div>\n",
       "<style scoped>\n",
       "    .dataframe tbody tr th:only-of-type {\n",
       "        vertical-align: middle;\n",
       "    }\n",
       "\n",
       "    .dataframe tbody tr th {\n",
       "        vertical-align: top;\n",
       "    }\n",
       "\n",
       "    .dataframe thead th {\n",
       "        text-align: right;\n",
       "    }\n",
       "</style>\n",
       "<table border=\"1\" class=\"dataframe\">\n",
       "  <thead>\n",
       "    <tr style=\"text-align: right;\">\n",
       "      <th></th>\n",
       "      <th>model_name</th>\n",
       "      <th>cross_val_score</th>\n",
       "      <th>learn_time</th>\n",
       "    </tr>\n",
       "  </thead>\n",
       "  <tbody>\n",
       "    <tr>\n",
       "      <th>2</th>\n",
       "      <td>CatBoostRegressor</td>\n",
       "      <td>-1587</td>\n",
       "      <td>209</td>\n",
       "    </tr>\n",
       "    <tr>\n",
       "      <th>1</th>\n",
       "      <td>LGBMRegressor</td>\n",
       "      <td>-1676</td>\n",
       "      <td>67</td>\n",
       "    </tr>\n",
       "    <tr>\n",
       "      <th>0</th>\n",
       "      <td>LinearRegression</td>\n",
       "      <td>-3598</td>\n",
       "      <td>82</td>\n",
       "    </tr>\n",
       "  </tbody>\n",
       "</table>\n",
       "</div>"
      ],
      "text/plain": [
       "          model_name  cross_val_score  learn_time\n",
       "2  CatBoostRegressor            -1587         209\n",
       "1      LGBMRegressor            -1676          67\n",
       "0   LinearRegression            -3598          82"
      ]
     },
     "execution_count": 55,
     "metadata": {},
     "output_type": "execute_result"
    }
   ],
   "source": [
    "t.sort_values('cross_val_score', ascending=False)"
   ]
  },
  {
   "cell_type": "markdown",
   "metadata": {},
   "source": [
    "Так как наиболее подходящей моделью является модель LGBMRegressor, то применим ее для тестовой выборки"
   ]
  },
  {
   "cell_type": "code",
   "execution_count": 56,
   "metadata": {
    "scrolled": true
   },
   "outputs": [
    {
     "name": "stdout",
     "output_type": "stream",
     "text": [
      "[LightGBM] [Warning] Accuracy may be bad since you didn't explicitly set num_leaves OR 2^max_depth > num_leaves. (num_leaves=31).\n"
     ]
    },
    {
     "name": "stderr",
     "output_type": "stream",
     "text": [
      "/opt/conda/lib/python3.9/site-packages/sklearn/utils/validation.py:63: DataConversionWarning: A column-vector y was passed when a 1d array was expected. Please change the shape of y to (n_samples, ), for example using ravel().\n",
      "  return f(*args, **kwargs)\n"
     ]
    },
    {
     "name": "stdout",
     "output_type": "stream",
     "text": [
      "[LightGBM] [Warning] Accuracy may be bad since you didn't explicitly set num_leaves OR 2^max_depth > num_leaves. (num_leaves=31).\n",
      "[LightGBM] [Debug] Dataset::GetMultiBinFromSparseFeatures: sparse rate 0.988869\n",
      "[LightGBM] [Debug] Dataset::GetMultiBinFromAllFeatures: sparse rate 0.973882\n",
      "[LightGBM] [Debug] init for col-wise cost 7.814991 seconds, init for row-wise cost 8.086058 seconds\n",
      "[LightGBM] [Warning] Auto-choosing col-wise multi-threading, the overhead of testing was 8.191249 seconds.\n",
      "You can set `force_col_wise=true` to remove the overhead.\n",
      "[LightGBM] [Info] Total Bins 1212\n",
      "[LightGBM] [Info] Number of data points in the train set: 222288, number of used features: 292\n",
      "[LightGBM] [Warning] Accuracy may be bad since you didn't explicitly set num_leaves OR 2^max_depth > num_leaves. (num_leaves=31).\n",
      "[LightGBM] [Info] Start training from score 4837.991907\n",
      "[LightGBM] [Debug] Trained a tree with leaves = 31 and depth = 7\n",
      "[1]\tvalid_0's rmse: 3075.51\tvalid_0's l2: 9.45878e+06\n",
      "[LightGBM] [Debug] Trained a tree with leaves = 31 and depth = 8\n",
      "[2]\tvalid_0's rmse: 2440.02\tvalid_0's l2: 5.95372e+06\n",
      "[LightGBM] [Debug] Trained a tree with leaves = 31 and depth = 9\n",
      "[3]\tvalid_0's rmse: 2159.02\tvalid_0's l2: 4.66135e+06\n",
      "[LightGBM] [Debug] Trained a tree with leaves = 31 and depth = 9\n",
      "[4]\tvalid_0's rmse: 2017.45\tvalid_0's l2: 4.07009e+06\n",
      "[LightGBM] [Debug] Trained a tree with leaves = 31 and depth = 9\n",
      "[5]\tvalid_0's rmse: 1940.33\tvalid_0's l2: 3.76486e+06\n",
      "[LightGBM] [Debug] Trained a tree with leaves = 31 and depth = 9\n",
      "[6]\tvalid_0's rmse: 1888.52\tvalid_0's l2: 3.56652e+06\n",
      "[LightGBM] [Debug] Trained a tree with leaves = 31 and depth = 9\n",
      "[7]\tvalid_0's rmse: 1858.42\tvalid_0's l2: 3.45372e+06\n",
      "[LightGBM] [Debug] Trained a tree with leaves = 31 and depth = 9\n",
      "[8]\tvalid_0's rmse: 1837.73\tvalid_0's l2: 3.37726e+06\n",
      "[LightGBM] [Debug] Trained a tree with leaves = 31 and depth = 9\n",
      "[9]\tvalid_0's rmse: 1820.21\tvalid_0's l2: 3.31316e+06\n",
      "[LightGBM] [Debug] Trained a tree with leaves = 31 and depth = 9\n",
      "[10]\tvalid_0's rmse: 1806.24\tvalid_0's l2: 3.26249e+06\n",
      "[LightGBM] [Debug] Trained a tree with leaves = 31 and depth = 9\n",
      "[11]\tvalid_0's rmse: 1794.18\tvalid_0's l2: 3.21909e+06\n",
      "[LightGBM] [Debug] Trained a tree with leaves = 31 and depth = 9\n",
      "[12]\tvalid_0's rmse: 1784.6\tvalid_0's l2: 3.1848e+06\n",
      "[LightGBM] [Debug] Trained a tree with leaves = 31 and depth = 9\n",
      "[13]\tvalid_0's rmse: 1775.5\tvalid_0's l2: 3.1524e+06\n",
      "[LightGBM] [Debug] Trained a tree with leaves = 31 and depth = 9\n",
      "[14]\tvalid_0's rmse: 1771.45\tvalid_0's l2: 3.13804e+06\n",
      "[LightGBM] [Debug] Trained a tree with leaves = 31 and depth = 9\n",
      "[15]\tvalid_0's rmse: 1763.89\tvalid_0's l2: 3.11132e+06\n",
      "[LightGBM] [Debug] Trained a tree with leaves = 31 and depth = 9\n",
      "[16]\tvalid_0's rmse: 1761.77\tvalid_0's l2: 3.10385e+06\n",
      "[LightGBM] [Debug] Trained a tree with leaves = 31 and depth = 9\n",
      "[17]\tvalid_0's rmse: 1757.25\tvalid_0's l2: 3.08793e+06\n",
      "[LightGBM] [Debug] Trained a tree with leaves = 31 and depth = 9\n",
      "[18]\tvalid_0's rmse: 1748.67\tvalid_0's l2: 3.05786e+06\n",
      "[LightGBM] [Debug] Trained a tree with leaves = 31 and depth = 9\n",
      "[19]\tvalid_0's rmse: 1744.01\tvalid_0's l2: 3.04159e+06\n",
      "[LightGBM] [Debug] Trained a tree with leaves = 31 and depth = 9\n",
      "[20]\tvalid_0's rmse: 1736.71\tvalid_0's l2: 3.01617e+06\n",
      "[LightGBM] [Debug] Trained a tree with leaves = 31 and depth = 9\n",
      "[21]\tvalid_0's rmse: 1732.93\tvalid_0's l2: 3.00303e+06\n",
      "[LightGBM] [Debug] Trained a tree with leaves = 31 and depth = 9\n",
      "[22]\tvalid_0's rmse: 1730.08\tvalid_0's l2: 2.99318e+06\n",
      "[LightGBM] [Debug] Trained a tree with leaves = 31 and depth = 9\n",
      "[23]\tvalid_0's rmse: 1725.9\tvalid_0's l2: 2.97874e+06\n",
      "[LightGBM] [Debug] Trained a tree with leaves = 31 and depth = 9\n",
      "[24]\tvalid_0's rmse: 1722.62\tvalid_0's l2: 2.96743e+06\n",
      "[LightGBM] [Debug] Trained a tree with leaves = 31 and depth = 9\n",
      "[25]\tvalid_0's rmse: 1719.8\tvalid_0's l2: 2.9577e+06\n",
      "[LightGBM] [Debug] Trained a tree with leaves = 31 and depth = 9\n",
      "[26]\tvalid_0's rmse: 1715.81\tvalid_0's l2: 2.94399e+06\n",
      "[LightGBM] [Debug] Trained a tree with leaves = 31 and depth = 9\n",
      "[27]\tvalid_0's rmse: 1713.53\tvalid_0's l2: 2.93618e+06\n",
      "[LightGBM] [Debug] Trained a tree with leaves = 31 and depth = 9\n",
      "[28]\tvalid_0's rmse: 1709.42\tvalid_0's l2: 2.92212e+06\n",
      "[LightGBM] [Debug] Trained a tree with leaves = 31 and depth = 9\n",
      "[29]\tvalid_0's rmse: 1707.33\tvalid_0's l2: 2.91499e+06\n",
      "[LightGBM] [Debug] Trained a tree with leaves = 31 and depth = 9\n",
      "[30]\tvalid_0's rmse: 1705.96\tvalid_0's l2: 2.91029e+06\n",
      "[LightGBM] [Debug] Trained a tree with leaves = 31 and depth = 9\n",
      "[31]\tvalid_0's rmse: 1704.43\tvalid_0's l2: 2.90508e+06\n",
      "[LightGBM] [Debug] Trained a tree with leaves = 31 and depth = 9\n",
      "[32]\tvalid_0's rmse: 1703.59\tvalid_0's l2: 2.90223e+06\n",
      "[LightGBM] [Debug] Trained a tree with leaves = 31 and depth = 9\n",
      "[33]\tvalid_0's rmse: 1700.05\tvalid_0's l2: 2.89015e+06\n",
      "[LightGBM] [Debug] Trained a tree with leaves = 31 and depth = 9\n",
      "[34]\tvalid_0's rmse: 1698.56\tvalid_0's l2: 2.88511e+06\n",
      "[LightGBM] [Debug] Trained a tree with leaves = 31 and depth = 9\n",
      "[35]\tvalid_0's rmse: 1695.69\tvalid_0's l2: 2.87537e+06\n",
      "[LightGBM] [Debug] Trained a tree with leaves = 31 and depth = 9\n",
      "[36]\tvalid_0's rmse: 1695.12\tvalid_0's l2: 2.87342e+06\n",
      "[LightGBM] [Debug] Trained a tree with leaves = 31 and depth = 9\n",
      "[37]\tvalid_0's rmse: 1689.97\tvalid_0's l2: 2.85601e+06\n",
      "[LightGBM] [Debug] Trained a tree with leaves = 31 and depth = 9\n",
      "[38]\tvalid_0's rmse: 1688.99\tvalid_0's l2: 2.8527e+06\n",
      "[LightGBM] [Debug] Trained a tree with leaves = 31 and depth = 9\n",
      "[39]\tvalid_0's rmse: 1686.41\tvalid_0's l2: 2.84399e+06\n",
      "[LightGBM] [Debug] Trained a tree with leaves = 31 and depth = 9\n",
      "[40]\tvalid_0's rmse: 1684.34\tvalid_0's l2: 2.83702e+06\n",
      "[LightGBM] [Debug] Trained a tree with leaves = 31 and depth = 9\n",
      "[41]\tvalid_0's rmse: 1683.68\tvalid_0's l2: 2.83478e+06\n",
      "[LightGBM] [Debug] Trained a tree with leaves = 31 and depth = 9\n",
      "[42]\tvalid_0's rmse: 1682.84\tvalid_0's l2: 2.83195e+06\n",
      "[LightGBM] [Debug] Trained a tree with leaves = 31 and depth = 9\n",
      "[43]\tvalid_0's rmse: 1681\tvalid_0's l2: 2.82577e+06\n",
      "[LightGBM] [Debug] Trained a tree with leaves = 31 and depth = 9\n",
      "[44]\tvalid_0's rmse: 1674.15\tvalid_0's l2: 2.80278e+06\n",
      "[LightGBM] [Debug] Trained a tree with leaves = 31 and depth = 9\n",
      "[45]\tvalid_0's rmse: 1672.35\tvalid_0's l2: 2.79677e+06\n",
      "[LightGBM] [Debug] Trained a tree with leaves = 31 and depth = 9\n",
      "[46]\tvalid_0's rmse: 1670.32\tvalid_0's l2: 2.78997e+06\n",
      "[LightGBM] [Debug] Trained a tree with leaves = 31 and depth = 9\n",
      "[47]\tvalid_0's rmse: 1667.97\tvalid_0's l2: 2.78212e+06\n",
      "[LightGBM] [Debug] Trained a tree with leaves = 31 and depth = 9\n",
      "[48]\tvalid_0's rmse: 1665.14\tvalid_0's l2: 2.77269e+06\n",
      "[LightGBM] [Debug] Trained a tree with leaves = 31 and depth = 9\n",
      "[49]\tvalid_0's rmse: 1664.27\tvalid_0's l2: 2.76978e+06\n",
      "[LightGBM] [Debug] Trained a tree with leaves = 31 and depth = 9\n",
      "[50]\tvalid_0's rmse: 1662.85\tvalid_0's l2: 2.76506e+06\n",
      "[LightGBM] [Debug] Trained a tree with leaves = 31 and depth = 9\n",
      "[51]\tvalid_0's rmse: 1662.37\tvalid_0's l2: 2.76348e+06\n",
      "[LightGBM] [Debug] Trained a tree with leaves = 31 and depth = 9\n",
      "[52]\tvalid_0's rmse: 1660.84\tvalid_0's l2: 2.75837e+06\n",
      "[LightGBM] [Debug] Trained a tree with leaves = 31 and depth = 9\n",
      "[53]\tvalid_0's rmse: 1660.82\tvalid_0's l2: 2.75831e+06\n",
      "[LightGBM] [Debug] Trained a tree with leaves = 31 and depth = 9\n",
      "[54]\tvalid_0's rmse: 1659.83\tvalid_0's l2: 2.75505e+06\n",
      "[LightGBM] [Debug] Trained a tree with leaves = 31 and depth = 9\n",
      "[55]\tvalid_0's rmse: 1655.19\tvalid_0's l2: 2.73965e+06\n",
      "[LightGBM] [Debug] Trained a tree with leaves = 31 and depth = 9\n",
      "[56]\tvalid_0's rmse: 1653.44\tvalid_0's l2: 2.73387e+06\n",
      "[LightGBM] [Debug] Trained a tree with leaves = 31 and depth = 9\n",
      "[57]\tvalid_0's rmse: 1652.42\tvalid_0's l2: 2.73051e+06\n",
      "[LightGBM] [Debug] Trained a tree with leaves = 31 and depth = 9\n",
      "[58]\tvalid_0's rmse: 1651.41\tvalid_0's l2: 2.72717e+06\n",
      "[LightGBM] [Debug] Trained a tree with leaves = 31 and depth = 9\n",
      "[59]\tvalid_0's rmse: 1651.03\tvalid_0's l2: 2.7259e+06\n",
      "[LightGBM] [Debug] Trained a tree with leaves = 31 and depth = 9\n",
      "[60]\tvalid_0's rmse: 1648.87\tvalid_0's l2: 2.71877e+06\n",
      "[LightGBM] [Debug] Trained a tree with leaves = 31 and depth = 9\n",
      "[61]\tvalid_0's rmse: 1648.28\tvalid_0's l2: 2.71684e+06\n",
      "[LightGBM] [Debug] Trained a tree with leaves = 31 and depth = 9\n",
      "[62]\tvalid_0's rmse: 1647.44\tvalid_0's l2: 2.71405e+06\n",
      "[LightGBM] [Debug] Trained a tree with leaves = 31 and depth = 9\n",
      "[63]\tvalid_0's rmse: 1646.79\tvalid_0's l2: 2.7119e+06\n",
      "[LightGBM] [Debug] Trained a tree with leaves = 31 and depth = 9\n",
      "[64]\tvalid_0's rmse: 1646.93\tvalid_0's l2: 2.71239e+06\n",
      "[LightGBM] [Debug] Trained a tree with leaves = 31 and depth = 9\n",
      "[65]\tvalid_0's rmse: 1646.85\tvalid_0's l2: 2.71211e+06\n",
      "[LightGBM] [Debug] Trained a tree with leaves = 31 and depth = 9\n",
      "[66]\tvalid_0's rmse: 1645.86\tvalid_0's l2: 2.70886e+06\n",
      "[LightGBM] [Debug] Trained a tree with leaves = 31 and depth = 9\n",
      "[67]\tvalid_0's rmse: 1644.67\tvalid_0's l2: 2.70495e+06\n",
      "[LightGBM] [Debug] Trained a tree with leaves = 31 and depth = 9\n",
      "[68]\tvalid_0's rmse: 1643.95\tvalid_0's l2: 2.70256e+06\n",
      "[LightGBM] [Debug] Trained a tree with leaves = 31 and depth = 9\n",
      "[69]\tvalid_0's rmse: 1641.19\tvalid_0's l2: 2.69351e+06\n",
      "[LightGBM] [Debug] Trained a tree with leaves = 31 and depth = 9\n",
      "[70]\tvalid_0's rmse: 1641.01\tvalid_0's l2: 2.69293e+06\n",
      "[LightGBM] [Debug] Trained a tree with leaves = 31 and depth = 9\n",
      "[71]\tvalid_0's rmse: 1638.71\tvalid_0's l2: 2.68536e+06\n",
      "[LightGBM] [Debug] Trained a tree with leaves = 31 and depth = 9\n",
      "[72]\tvalid_0's rmse: 1637.17\tvalid_0's l2: 2.68033e+06\n",
      "[LightGBM] [Debug] Trained a tree with leaves = 31 and depth = 9\n",
      "[73]\tvalid_0's rmse: 1636.24\tvalid_0's l2: 2.67727e+06\n",
      "[LightGBM] [Debug] Trained a tree with leaves = 31 and depth = 9\n",
      "[74]\tvalid_0's rmse: 1635.31\tvalid_0's l2: 2.67425e+06\n",
      "[LightGBM] [Debug] Trained a tree with leaves = 31 and depth = 9\n",
      "[75]\tvalid_0's rmse: 1632.35\tvalid_0's l2: 2.66456e+06\n",
      "[LightGBM] [Debug] Trained a tree with leaves = 31 and depth = 9\n",
      "[76]\tvalid_0's rmse: 1630.69\tvalid_0's l2: 2.65914e+06\n",
      "[LightGBM] [Debug] Trained a tree with leaves = 31 and depth = 9\n",
      "[77]\tvalid_0's rmse: 1628.74\tvalid_0's l2: 2.65278e+06\n",
      "[LightGBM] [Debug] Trained a tree with leaves = 31 and depth = 9\n",
      "[78]\tvalid_0's rmse: 1628.3\tvalid_0's l2: 2.65137e+06\n",
      "[LightGBM] [Debug] Trained a tree with leaves = 31 and depth = 9\n",
      "[79]\tvalid_0's rmse: 1626.35\tvalid_0's l2: 2.645e+06\n",
      "[LightGBM] [Debug] Trained a tree with leaves = 31 and depth = 9\n",
      "[80]\tvalid_0's rmse: 1625.58\tvalid_0's l2: 2.64251e+06\n",
      "[LightGBM] [Debug] Trained a tree with leaves = 31 and depth = 9\n",
      "[81]\tvalid_0's rmse: 1625.11\tvalid_0's l2: 2.64097e+06\n",
      "[LightGBM] [Debug] Trained a tree with leaves = 31 and depth = 9\n",
      "[82]\tvalid_0's rmse: 1624.6\tvalid_0's l2: 2.63933e+06\n",
      "[LightGBM] [Debug] Trained a tree with leaves = 31 and depth = 9\n",
      "[83]\tvalid_0's rmse: 1624.72\tvalid_0's l2: 2.63972e+06\n",
      "[LightGBM] [Debug] Trained a tree with leaves = 31 and depth = 9\n",
      "[84]\tvalid_0's rmse: 1623.99\tvalid_0's l2: 2.63735e+06\n",
      "[LightGBM] [Debug] Trained a tree with leaves = 31 and depth = 9\n",
      "[85]\tvalid_0's rmse: 1623.66\tvalid_0's l2: 2.63626e+06\n",
      "[LightGBM] [Debug] Trained a tree with leaves = 31 and depth = 9\n",
      "[86]\tvalid_0's rmse: 1622.43\tvalid_0's l2: 2.63227e+06\n",
      "[LightGBM] [Debug] Trained a tree with leaves = 31 and depth = 9\n",
      "[87]\tvalid_0's rmse: 1621.14\tvalid_0's l2: 2.62808e+06\n",
      "[LightGBM] [Debug] Trained a tree with leaves = 31 and depth = 9\n",
      "[88]\tvalid_0's rmse: 1620.83\tvalid_0's l2: 2.62708e+06\n",
      "[LightGBM] [Debug] Trained a tree with leaves = 31 and depth = 9\n",
      "[89]\tvalid_0's rmse: 1620.39\tvalid_0's l2: 2.62567e+06\n",
      "[LightGBM] [Debug] Trained a tree with leaves = 31 and depth = 9\n",
      "[90]\tvalid_0's rmse: 1619.94\tvalid_0's l2: 2.6242e+06\n",
      "[LightGBM] [Debug] Trained a tree with leaves = 31 and depth = 9\n",
      "[91]\tvalid_0's rmse: 1619.49\tvalid_0's l2: 2.62276e+06\n",
      "[LightGBM] [Debug] Trained a tree with leaves = 31 and depth = 9\n",
      "[92]\tvalid_0's rmse: 1619.09\tvalid_0's l2: 2.62145e+06\n",
      "[LightGBM] [Debug] Trained a tree with leaves = 31 and depth = 9\n",
      "[93]\tvalid_0's rmse: 1618.52\tvalid_0's l2: 2.61962e+06\n",
      "[LightGBM] [Debug] Trained a tree with leaves = 31 and depth = 9\n",
      "[94]\tvalid_0's rmse: 1618.41\tvalid_0's l2: 2.61924e+06\n",
      "[LightGBM] [Warning] No further splits with positive gain, best gain: -inf\n",
      "[LightGBM] [Debug] Trained a tree with leaves = 28 and depth = 9\n",
      "[95]\tvalid_0's rmse: 1617.99\tvalid_0's l2: 2.61791e+06\n",
      "[LightGBM] [Debug] Trained a tree with leaves = 31 and depth = 9\n",
      "[96]\tvalid_0's rmse: 1615.43\tvalid_0's l2: 2.60961e+06\n",
      "[LightGBM] [Debug] Trained a tree with leaves = 31 and depth = 9\n",
      "[97]\tvalid_0's rmse: 1615.3\tvalid_0's l2: 2.60921e+06\n",
      "[LightGBM] [Debug] Trained a tree with leaves = 31 and depth = 9\n",
      "[98]\tvalid_0's rmse: 1614.57\tvalid_0's l2: 2.60682e+06\n",
      "[LightGBM] [Debug] Trained a tree with leaves = 31 and depth = 9\n",
      "[99]\tvalid_0's rmse: 1613.64\tvalid_0's l2: 2.60382e+06\n",
      "[LightGBM] [Debug] Trained a tree with leaves = 31 and depth = 8\n",
      "[100]\tvalid_0's rmse: 1613.4\tvalid_0's l2: 2.60307e+06\n",
      "RMSE: 1613.403\n",
      "CPU times: user 7min 40s, sys: 2.71 s, total: 7min 42s\n",
      "Wall time: 7min 47s\n"
     ]
    }
   ],
   "source": [
    "%%time\n",
    "results_test = []\n",
    "model = lgb.LGBMModel(objective='regression', \n",
    "                        n_estimators=100,\n",
    "                        verbose=100,\n",
    "                        max_depth = 9, \n",
    "                        learning_rate = 0.5,)\n",
    "start_time = time.time()\n",
    "\n",
    "model.fit(features_train_scaled, train[y], eval_set=[(features_test_scaled, test[y])], \n",
    "            eval_metric='rmse')\n",
    "\n",
    "fit_time = time.time() - start_time\n",
    "start_time = time.time()\n",
    "y_pred = model.predict(features_test_scaled)\n",
    "predict_time = time.time() - start_time\n",
    "score = mean_squared_error(test[y], y_pred, squared=False)\n",
    "print('RMSE: %.3f' % score) \n",
    "\n",
    "results_test.append({'model_name': model.__class__.__name__, \n",
    "                     'rmse': '%.1f' % score,\n",
    "                     'fit_time': '%.1f' % fit_time,\n",
    "                     'predict_time': '%.1f' % predict_time,}) "
   ]
  },
  {
   "cell_type": "code",
   "execution_count": 57,
   "metadata": {},
   "outputs": [
    {
     "data": {
      "text/html": [
       "<div>\n",
       "<style scoped>\n",
       "    .dataframe tbody tr th:only-of-type {\n",
       "        vertical-align: middle;\n",
       "    }\n",
       "\n",
       "    .dataframe tbody tr th {\n",
       "        vertical-align: top;\n",
       "    }\n",
       "\n",
       "    .dataframe thead th {\n",
       "        text-align: right;\n",
       "    }\n",
       "</style>\n",
       "<table border=\"1\" class=\"dataframe\">\n",
       "  <thead>\n",
       "    <tr style=\"text-align: right;\">\n",
       "      <th></th>\n",
       "      <th>model_name</th>\n",
       "      <th>rmse</th>\n",
       "      <th>fit_time</th>\n",
       "      <th>predict_time</th>\n",
       "    </tr>\n",
       "  </thead>\n",
       "  <tbody>\n",
       "    <tr>\n",
       "      <th>0</th>\n",
       "      <td>LGBMModel</td>\n",
       "      <td>1613.4</td>\n",
       "      <td>466.5</td>\n",
       "      <td>0.6</td>\n",
       "    </tr>\n",
       "  </tbody>\n",
       "</table>\n",
       "</div>"
      ],
      "text/plain": [
       "  model_name    rmse fit_time predict_time\n",
       "0  LGBMModel  1613.4    466.5          0.6"
      ]
     },
     "execution_count": 57,
     "metadata": {},
     "output_type": "execute_result"
    }
   ],
   "source": [
    "pd.DataFrame(results_test)"
   ]
  },
  {
   "cell_type": "markdown",
   "metadata": {},
   "source": [
    "### Вывод\n",
    "\n",
    "1) Наименьшее отклонение от целевой функции показывает модель CatBoost - RMSE = 1587;\\\n",
    "2) Наибольшее отклонение у линейной регрессии RMSE = 3598;\\\n",
    "3) Наименьшее время выполненения у LightGBM - 60 с.;\\\n",
    "4) Наибольшее время выполнение у CatBoostRegressor - 195 с.;\\\n",
    "5) Наиболее актуальной является модель LightGBM;\\\n",
    "6) Результат LightGBM на тестовой выборке составил RMSE = 1613, fit_time = 466 с."
   ]
  }
 ],
 "metadata": {
  "ExecuteTimeLog": [
   {
    "duration": 367,
    "start_time": "2022-06-11T11:42:34.044Z"
   },
   {
    "duration": 3039,
    "start_time": "2022-06-11T11:42:59.842Z"
   },
   {
    "duration": 28,
    "start_time": "2022-06-11T11:43:09.043Z"
   },
   {
    "duration": 110,
    "start_time": "2022-06-11T11:46:40.983Z"
   },
   {
    "duration": 97,
    "start_time": "2022-06-11T11:46:56.219Z"
   },
   {
    "duration": 57,
    "start_time": "2022-06-11T11:47:02.662Z"
   },
   {
    "duration": 118,
    "start_time": "2022-06-11T11:47:06.447Z"
   },
   {
    "duration": 124,
    "start_time": "2022-06-11T11:47:56.086Z"
   },
   {
    "duration": 3,
    "start_time": "2022-06-11T11:48:30.903Z"
   },
   {
    "duration": 4,
    "start_time": "2022-06-11T11:48:36.182Z"
   },
   {
    "duration": 3,
    "start_time": "2022-06-11T11:48:42.062Z"
   },
   {
    "duration": 4,
    "start_time": "2022-06-11T11:48:47.821Z"
   },
   {
    "duration": 23,
    "start_time": "2022-06-11T11:49:22.503Z"
   },
   {
    "duration": 93,
    "start_time": "2022-06-11T11:49:27.870Z"
   },
   {
    "duration": 94,
    "start_time": "2022-06-11T11:49:40.582Z"
   },
   {
    "duration": 95,
    "start_time": "2022-06-11T11:49:54.853Z"
   },
   {
    "duration": 98,
    "start_time": "2022-06-11T11:50:01.141Z"
   },
   {
    "duration": 120,
    "start_time": "2022-06-11T11:53:25.105Z"
   },
   {
    "duration": 429,
    "start_time": "2022-06-11T12:00:18.998Z"
   },
   {
    "duration": 400,
    "start_time": "2022-06-11T12:00:28.256Z"
   },
   {
    "duration": 414,
    "start_time": "2022-06-11T12:00:44.769Z"
   },
   {
    "duration": 411,
    "start_time": "2022-06-11T12:00:51.721Z"
   },
   {
    "duration": 406,
    "start_time": "2022-06-11T12:01:16.976Z"
   },
   {
    "duration": 419,
    "start_time": "2022-06-11T12:01:22.601Z"
   },
   {
    "duration": 446,
    "start_time": "2022-06-11T12:01:42.281Z"
   },
   {
    "duration": 814,
    "start_time": "2022-06-11T12:02:14.761Z"
   },
   {
    "duration": 472,
    "start_time": "2022-06-11T12:02:28.497Z"
   },
   {
    "duration": 5,
    "start_time": "2022-06-11T12:03:30.866Z"
   },
   {
    "duration": 6,
    "start_time": "2022-06-11T12:03:45.513Z"
   },
   {
    "duration": 7,
    "start_time": "2022-06-11T12:04:56.159Z"
   },
   {
    "duration": 7,
    "start_time": "2022-06-11T12:05:09.405Z"
   },
   {
    "duration": 5,
    "start_time": "2022-06-11T12:05:34.800Z"
   },
   {
    "duration": 399,
    "start_time": "2022-06-11T12:06:05.550Z"
   },
   {
    "duration": 36,
    "start_time": "2022-06-11T12:06:18.645Z"
   },
   {
    "duration": 432,
    "start_time": "2022-06-11T12:06:45.911Z"
   },
   {
    "duration": 458,
    "start_time": "2022-06-11T12:06:49.021Z"
   },
   {
    "duration": 147,
    "start_time": "2022-06-11T12:12:58.004Z"
   },
   {
    "duration": 12,
    "start_time": "2022-06-11T12:16:09.463Z"
   },
   {
    "duration": 537,
    "start_time": "2022-06-11T12:16:24.484Z"
   },
   {
    "duration": 151,
    "start_time": "2022-06-11T12:16:28.587Z"
   },
   {
    "duration": 6,
    "start_time": "2022-06-11T12:17:32.337Z"
   },
   {
    "duration": 4,
    "start_time": "2022-06-11T12:17:52.012Z"
   },
   {
    "duration": 4,
    "start_time": "2022-06-11T12:20:08.890Z"
   },
   {
    "duration": 2,
    "start_time": "2022-06-11T12:24:38.935Z"
   },
   {
    "duration": 859,
    "start_time": "2022-06-11T12:24:41.593Z"
   },
   {
    "duration": 3,
    "start_time": "2022-06-11T12:25:06.454Z"
   },
   {
    "duration": 878,
    "start_time": "2022-06-11T12:25:07.570Z"
   },
   {
    "duration": 862,
    "start_time": "2022-06-11T12:25:26.417Z"
   },
   {
    "duration": 102,
    "start_time": "2022-06-12T09:39:06.671Z"
   },
   {
    "duration": 4,
    "start_time": "2022-06-12T09:39:37.491Z"
   },
   {
    "duration": 744,
    "start_time": "2022-06-12T09:39:38.529Z"
   },
   {
    "duration": 20,
    "start_time": "2022-06-12T09:39:39.739Z"
   },
   {
    "duration": 114,
    "start_time": "2022-06-12T09:39:41.777Z"
   },
   {
    "duration": 80,
    "start_time": "2022-06-12T09:39:43.642Z"
   },
   {
    "duration": 3,
    "start_time": "2022-06-12T09:41:50.646Z"
   },
   {
    "duration": 18,
    "start_time": "2022-06-12T09:41:55.921Z"
   },
   {
    "duration": 7,
    "start_time": "2022-06-12T09:47:55.613Z"
   },
   {
    "duration": 2,
    "start_time": "2022-06-12T09:48:23.791Z"
   },
   {
    "duration": 10,
    "start_time": "2022-06-12T09:48:26.502Z"
   },
   {
    "duration": 3,
    "start_time": "2022-06-12T09:48:31.998Z"
   },
   {
    "duration": 8,
    "start_time": "2022-06-12T09:48:33.959Z"
   },
   {
    "duration": 3,
    "start_time": "2022-06-12T09:48:48.007Z"
   },
   {
    "duration": 7,
    "start_time": "2022-06-12T09:49:01.310Z"
   },
   {
    "duration": 3,
    "start_time": "2022-06-12T09:49:29.462Z"
   },
   {
    "duration": 2,
    "start_time": "2022-06-12T09:49:34.374Z"
   },
   {
    "duration": 4,
    "start_time": "2022-06-12T09:49:39.646Z"
   },
   {
    "duration": 10,
    "start_time": "2022-06-12T09:49:53.431Z"
   },
   {
    "duration": 13,
    "start_time": "2022-06-12T09:50:30.286Z"
   },
   {
    "duration": 8,
    "start_time": "2022-06-12T10:03:32.320Z"
   },
   {
    "duration": 8,
    "start_time": "2022-06-12T10:03:45.669Z"
   },
   {
    "duration": 4,
    "start_time": "2022-06-12T10:05:09.567Z"
   },
   {
    "duration": 9,
    "start_time": "2022-06-12T10:05:13.794Z"
   },
   {
    "duration": 33,
    "start_time": "2022-06-12T10:05:17.486Z"
   },
   {
    "duration": 4,
    "start_time": "2022-06-12T10:05:21.391Z"
   },
   {
    "duration": 4,
    "start_time": "2022-06-12T10:05:32.879Z"
   },
   {
    "duration": 2,
    "start_time": "2022-06-12T10:05:47.615Z"
   },
   {
    "duration": 657,
    "start_time": "2022-06-12T10:05:49.255Z"
   },
   {
    "duration": 20,
    "start_time": "2022-06-12T10:05:50.685Z"
   },
   {
    "duration": 7,
    "start_time": "2022-06-12T10:05:52.511Z"
   },
   {
    "duration": 9,
    "start_time": "2022-06-12T10:06:01.910Z"
   },
   {
    "duration": 4,
    "start_time": "2022-06-12T10:06:10.824Z"
   },
   {
    "duration": 2,
    "start_time": "2022-06-12T10:07:10.967Z"
   },
   {
    "duration": 4,
    "start_time": "2022-06-12T10:07:35.473Z"
   },
   {
    "duration": 8,
    "start_time": "2022-06-12T10:07:48.662Z"
   },
   {
    "duration": 22,
    "start_time": "2022-06-12T10:08:25.920Z"
   },
   {
    "duration": 3,
    "start_time": "2022-06-12T10:08:31.606Z"
   },
   {
    "duration": 3,
    "start_time": "2022-06-12T10:08:49.798Z"
   },
   {
    "duration": 9,
    "start_time": "2022-06-12T10:09:25.390Z"
   },
   {
    "duration": 113,
    "start_time": "2022-06-12T10:09:52.397Z"
   },
   {
    "duration": 12,
    "start_time": "2022-06-12T10:10:00.310Z"
   },
   {
    "duration": 9,
    "start_time": "2022-06-12T10:10:03.749Z"
   },
   {
    "duration": 3,
    "start_time": "2022-06-12T10:11:41.504Z"
   },
   {
    "duration": 18,
    "start_time": "2022-06-12T10:11:45.762Z"
   },
   {
    "duration": 4,
    "start_time": "2022-06-12T10:12:17.393Z"
   },
   {
    "duration": 3,
    "start_time": "2022-06-12T10:12:28.052Z"
   },
   {
    "duration": 3,
    "start_time": "2022-06-12T10:15:52.425Z"
   },
   {
    "duration": 623,
    "start_time": "2022-06-12T10:15:53.483Z"
   },
   {
    "duration": 3,
    "start_time": "2022-06-12T10:15:54.325Z"
   },
   {
    "duration": 3,
    "start_time": "2022-06-12T10:15:57.691Z"
   },
   {
    "duration": 19,
    "start_time": "2022-06-12T10:15:58.616Z"
   },
   {
    "duration": 11,
    "start_time": "2022-06-12T10:16:20.188Z"
   },
   {
    "duration": 96,
    "start_time": "2022-06-12T10:16:27.843Z"
   },
   {
    "duration": 76,
    "start_time": "2022-06-12T10:17:12.604Z"
   },
   {
    "duration": 97,
    "start_time": "2022-06-12T10:17:43.939Z"
   },
   {
    "duration": 555,
    "start_time": "2022-06-12T10:18:37.586Z"
   },
   {
    "duration": 142,
    "start_time": "2022-06-12T10:18:51.530Z"
   },
   {
    "duration": 167,
    "start_time": "2022-06-12T10:19:55.704Z"
   },
   {
    "duration": 169,
    "start_time": "2022-06-12T10:20:41.865Z"
   },
   {
    "duration": 164,
    "start_time": "2022-06-12T10:21:11.033Z"
   },
   {
    "duration": 2816,
    "start_time": "2022-06-12T10:21:38.729Z"
   },
   {
    "duration": 18,
    "start_time": "2022-06-12T10:22:56.716Z"
   },
   {
    "duration": 32,
    "start_time": "2022-06-12T10:23:06.007Z"
   },
   {
    "duration": 21,
    "start_time": "2022-06-12T10:23:11.905Z"
   },
   {
    "duration": 20,
    "start_time": "2022-06-12T10:23:15.601Z"
   },
   {
    "duration": 19,
    "start_time": "2022-06-12T10:23:19.280Z"
   },
   {
    "duration": 13,
    "start_time": "2022-06-12T10:23:45.258Z"
   },
   {
    "duration": 29,
    "start_time": "2022-06-12T10:23:55.408Z"
   },
   {
    "duration": 13,
    "start_time": "2022-06-12T10:24:53.913Z"
   },
   {
    "duration": 416,
    "start_time": "2022-06-12T10:25:29.943Z"
   },
   {
    "duration": 202,
    "start_time": "2022-06-12T10:26:02.312Z"
   },
   {
    "duration": 3,
    "start_time": "2022-06-12T10:26:03.751Z"
   },
   {
    "duration": 3,
    "start_time": "2022-06-12T10:38:29.978Z"
   },
   {
    "duration": 31,
    "start_time": "2022-06-12T10:38:31.860Z"
   },
   {
    "duration": 3,
    "start_time": "2022-06-12T10:39:29.282Z"
   },
   {
    "duration": 802,
    "start_time": "2022-06-12T10:39:30.507Z"
   },
   {
    "duration": 4,
    "start_time": "2022-06-12T10:42:43.920Z"
   },
   {
    "duration": 16,
    "start_time": "2022-06-12T10:43:09.471Z"
   },
   {
    "duration": 4,
    "start_time": "2022-06-12T10:43:20.746Z"
   },
   {
    "duration": 4,
    "start_time": "2022-06-12T10:43:28.353Z"
   },
   {
    "duration": 30,
    "start_time": "2022-06-12T10:44:08.081Z"
   },
   {
    "duration": 28,
    "start_time": "2022-06-12T10:44:42.045Z"
   },
   {
    "duration": 28,
    "start_time": "2022-06-12T10:45:12.145Z"
   },
   {
    "duration": 16,
    "start_time": "2022-06-12T10:45:18.527Z"
   },
   {
    "duration": 31,
    "start_time": "2022-06-12T10:46:20.768Z"
   },
   {
    "duration": 17,
    "start_time": "2022-06-12T10:46:47.611Z"
   },
   {
    "duration": 36,
    "start_time": "2022-06-12T10:47:01.761Z"
   },
   {
    "duration": 54,
    "start_time": "2022-06-12T10:47:43.055Z"
   },
   {
    "duration": 22,
    "start_time": "2022-06-12T10:48:01.526Z"
   },
   {
    "duration": 43,
    "start_time": "2022-06-12T10:48:02.624Z"
   },
   {
    "duration": 34,
    "start_time": "2022-06-12T10:48:20.320Z"
   },
   {
    "duration": 74,
    "start_time": "2022-06-12T10:48:21.782Z"
   },
   {
    "duration": 3,
    "start_time": "2022-06-12T10:59:55.805Z"
   },
   {
    "duration": 13,
    "start_time": "2022-06-12T11:00:19.706Z"
   },
   {
    "duration": 11,
    "start_time": "2022-06-12T11:01:57.705Z"
   },
   {
    "duration": 12,
    "start_time": "2022-06-12T11:02:02.381Z"
   },
   {
    "duration": 3,
    "start_time": "2022-06-12T11:02:04.657Z"
   },
   {
    "duration": 12,
    "start_time": "2022-06-12T11:02:06.114Z"
   },
   {
    "duration": 12,
    "start_time": "2022-06-12T11:02:11.433Z"
   },
   {
    "duration": 2,
    "start_time": "2022-06-12T11:02:37.234Z"
   },
   {
    "duration": 2,
    "start_time": "2022-06-12T11:02:46.393Z"
   },
   {
    "duration": 12,
    "start_time": "2022-06-12T11:02:47.897Z"
   },
   {
    "duration": 15,
    "start_time": "2022-06-12T11:02:51.842Z"
   },
   {
    "duration": 2,
    "start_time": "2022-06-12T11:02:52.883Z"
   },
   {
    "duration": 13,
    "start_time": "2022-06-12T11:02:53.586Z"
   },
   {
    "duration": 4,
    "start_time": "2022-06-12T11:07:05.408Z"
   },
   {
    "duration": 4,
    "start_time": "2022-06-12T11:07:08.482Z"
   },
   {
    "duration": 79898,
    "start_time": "2022-06-12T11:07:42.416Z"
   },
   {
    "duration": 0,
    "start_time": "2022-06-12T11:09:02.315Z"
   },
   {
    "duration": 0,
    "start_time": "2022-06-12T11:09:02.316Z"
   },
   {
    "duration": 2,
    "start_time": "2022-06-12T11:09:34.335Z"
   },
   {
    "duration": 666,
    "start_time": "2022-06-12T11:09:35.534Z"
   },
   {
    "duration": 4,
    "start_time": "2022-06-12T11:09:36.822Z"
   },
   {
    "duration": 3,
    "start_time": "2022-06-12T11:09:38.150Z"
   },
   {
    "duration": 12,
    "start_time": "2022-06-12T11:09:39.224Z"
   },
   {
    "duration": 11,
    "start_time": "2022-06-12T11:09:41.247Z"
   },
   {
    "duration": 20,
    "start_time": "2022-06-12T11:09:43.854Z"
   },
   {
    "duration": 44,
    "start_time": "2022-06-12T11:09:44.999Z"
   },
   {
    "duration": 38,
    "start_time": "2022-06-12T11:09:46.039Z"
   },
   {
    "duration": 60,
    "start_time": "2022-06-12T11:09:47.863Z"
   },
   {
    "duration": 11,
    "start_time": "2022-06-12T11:09:50.823Z"
   },
   {
    "duration": 18,
    "start_time": "2022-06-12T11:12:10.920Z"
   },
   {
    "duration": 96,
    "start_time": "2022-06-12T11:12:27.709Z"
   },
   {
    "duration": 79,
    "start_time": "2022-06-12T11:12:29.966Z"
   },
   {
    "duration": 89,
    "start_time": "2022-06-12T11:12:32.414Z"
   },
   {
    "duration": 18,
    "start_time": "2022-06-12T11:18:22.449Z"
   },
   {
    "duration": 93,
    "start_time": "2022-06-12T11:18:33.448Z"
   },
   {
    "duration": 16,
    "start_time": "2022-06-12T11:18:48.988Z"
   },
   {
    "duration": 17,
    "start_time": "2022-06-12T11:20:29.630Z"
   },
   {
    "duration": 108,
    "start_time": "2022-06-12T11:20:35.400Z"
   },
   {
    "duration": 18,
    "start_time": "2022-06-12T11:22:21.790Z"
   },
   {
    "duration": 90,
    "start_time": "2022-06-12T11:22:24.529Z"
   },
   {
    "duration": 15,
    "start_time": "2022-06-12T11:24:05.791Z"
   },
   {
    "duration": 96,
    "start_time": "2022-06-12T11:24:09.065Z"
   },
   {
    "duration": 891,
    "start_time": "2022-06-12T11:24:14.337Z"
   },
   {
    "duration": 3,
    "start_time": "2022-06-12T11:25:19.825Z"
   },
   {
    "duration": 676,
    "start_time": "2022-06-12T11:25:21.182Z"
   },
   {
    "duration": 3,
    "start_time": "2022-06-12T11:25:42.545Z"
   },
   {
    "duration": 693,
    "start_time": "2022-06-12T11:25:43.781Z"
   },
   {
    "duration": 3,
    "start_time": "2022-06-12T11:26:00.208Z"
   },
   {
    "duration": 1060,
    "start_time": "2022-06-12T11:26:01.984Z"
   },
   {
    "duration": 3,
    "start_time": "2022-06-12T11:26:25.626Z"
   },
   {
    "duration": 743,
    "start_time": "2022-06-12T11:26:27.121Z"
   },
   {
    "duration": 21,
    "start_time": "2022-06-12T11:26:39.640Z"
   },
   {
    "duration": 705,
    "start_time": "2022-06-12T11:26:48.049Z"
   },
   {
    "duration": 1006,
    "start_time": "2022-06-12T11:27:36.922Z"
   },
   {
    "duration": 748,
    "start_time": "2022-06-12T11:27:37.930Z"
   },
   {
    "duration": 8,
    "start_time": "2022-06-12T11:27:38.680Z"
   },
   {
    "duration": 6,
    "start_time": "2022-06-12T11:27:38.690Z"
   },
   {
    "duration": 33,
    "start_time": "2022-06-12T11:27:38.698Z"
   },
   {
    "duration": 36,
    "start_time": "2022-06-12T11:27:38.733Z"
   },
   {
    "duration": 61,
    "start_time": "2022-06-12T11:27:38.771Z"
   },
   {
    "duration": 34,
    "start_time": "2022-06-12T11:27:38.834Z"
   },
   {
    "duration": 80,
    "start_time": "2022-06-12T11:27:38.870Z"
   },
   {
    "duration": 20,
    "start_time": "2022-06-12T11:27:38.953Z"
   },
   {
    "duration": 16,
    "start_time": "2022-06-12T11:27:38.974Z"
   },
   {
    "duration": 39,
    "start_time": "2022-06-12T11:27:38.992Z"
   },
   {
    "duration": 17,
    "start_time": "2022-06-12T11:27:39.032Z"
   },
   {
    "duration": 16,
    "start_time": "2022-06-12T11:27:39.050Z"
   },
   {
    "duration": 118,
    "start_time": "2022-06-12T11:27:39.068Z"
   },
   {
    "duration": 90,
    "start_time": "2022-06-12T11:27:39.188Z"
   },
   {
    "duration": 100,
    "start_time": "2022-06-12T11:27:39.279Z"
   },
   {
    "duration": 370,
    "start_time": "2022-06-12T11:27:39.381Z"
   },
   {
    "duration": 12,
    "start_time": "2022-06-12T11:27:39.752Z"
   },
   {
    "duration": 198,
    "start_time": "2022-06-12T11:27:39.766Z"
   },
   {
    "duration": 196,
    "start_time": "2022-06-12T11:27:39.966Z"
   },
   {
    "duration": 177,
    "start_time": "2022-06-12T11:27:40.163Z"
   },
   {
    "duration": 2787,
    "start_time": "2022-06-12T11:27:40.342Z"
   },
   {
    "duration": 420,
    "start_time": "2022-06-12T11:27:43.130Z"
   },
   {
    "duration": 438,
    "start_time": "2022-06-12T11:27:43.552Z"
   },
   {
    "duration": 457,
    "start_time": "2022-06-12T11:27:43.991Z"
   },
   {
    "duration": 179,
    "start_time": "2022-06-12T11:27:44.450Z"
   },
   {
    "duration": 3,
    "start_time": "2022-06-12T11:27:44.633Z"
   },
   {
    "duration": 27,
    "start_time": "2022-06-12T11:27:44.638Z"
   },
   {
    "duration": 272,
    "start_time": "2022-06-12T11:27:44.667Z"
   },
   {
    "duration": 88,
    "start_time": "2022-06-12T11:27:44.941Z"
   },
   {
    "duration": 3,
    "start_time": "2022-06-12T11:27:45.031Z"
   },
   {
    "duration": 315,
    "start_time": "2022-06-12T11:27:45.035Z"
   },
   {
    "duration": 0,
    "start_time": "2022-06-12T11:27:45.351Z"
   },
   {
    "duration": 0,
    "start_time": "2022-06-12T11:27:45.352Z"
   },
   {
    "duration": 0,
    "start_time": "2022-06-12T11:27:45.353Z"
   },
   {
    "duration": 0,
    "start_time": "2022-06-12T11:27:45.355Z"
   },
   {
    "duration": 3,
    "start_time": "2022-06-12T11:29:42.536Z"
   },
   {
    "duration": 179,
    "start_time": "2022-06-12T11:29:55.546Z"
   },
   {
    "duration": 4,
    "start_time": "2022-06-12T11:29:57.562Z"
   },
   {
    "duration": 2,
    "start_time": "2022-06-12T11:30:39.827Z"
   },
   {
    "duration": 274,
    "start_time": "2022-06-12T11:30:46.531Z"
   },
   {
    "duration": 78,
    "start_time": "2022-06-12T11:30:49.171Z"
   },
   {
    "duration": 3,
    "start_time": "2022-06-12T11:31:27.786Z"
   },
   {
    "duration": 82963,
    "start_time": "2022-06-12T11:31:48.834Z"
   },
   {
    "duration": 951,
    "start_time": "2022-06-12T11:33:17.514Z"
   },
   {
    "duration": 730,
    "start_time": "2022-06-12T11:33:18.467Z"
   },
   {
    "duration": 12,
    "start_time": "2022-06-12T11:33:19.199Z"
   },
   {
    "duration": 12,
    "start_time": "2022-06-12T11:33:19.213Z"
   },
   {
    "duration": 17,
    "start_time": "2022-06-12T11:33:19.226Z"
   },
   {
    "duration": 22,
    "start_time": "2022-06-12T11:33:19.244Z"
   },
   {
    "duration": 60,
    "start_time": "2022-06-12T11:33:19.268Z"
   },
   {
    "duration": 32,
    "start_time": "2022-06-12T11:33:19.329Z"
   },
   {
    "duration": 74,
    "start_time": "2022-06-12T11:33:19.363Z"
   },
   {
    "duration": 16,
    "start_time": "2022-06-12T11:33:19.440Z"
   },
   {
    "duration": 16,
    "start_time": "2022-06-12T11:33:19.457Z"
   },
   {
    "duration": 16,
    "start_time": "2022-06-12T11:33:19.474Z"
   },
   {
    "duration": 15,
    "start_time": "2022-06-12T11:33:19.491Z"
   },
   {
    "duration": 15,
    "start_time": "2022-06-12T11:33:19.526Z"
   },
   {
    "duration": 101,
    "start_time": "2022-06-12T11:33:19.543Z"
   },
   {
    "duration": 96,
    "start_time": "2022-06-12T11:33:19.646Z"
   },
   {
    "duration": 94,
    "start_time": "2022-06-12T11:33:19.743Z"
   },
   {
    "duration": 388,
    "start_time": "2022-06-12T11:33:19.839Z"
   },
   {
    "duration": 13,
    "start_time": "2022-06-12T11:33:20.229Z"
   },
   {
    "duration": 204,
    "start_time": "2022-06-12T11:33:20.244Z"
   },
   {
    "duration": 184,
    "start_time": "2022-06-12T11:33:20.450Z"
   },
   {
    "duration": 173,
    "start_time": "2022-06-12T11:33:20.635Z"
   },
   {
    "duration": 2622,
    "start_time": "2022-06-12T11:33:20.810Z"
   },
   {
    "duration": 383,
    "start_time": "2022-06-12T11:33:23.433Z"
   },
   {
    "duration": 429,
    "start_time": "2022-06-12T11:33:23.818Z"
   },
   {
    "duration": 431,
    "start_time": "2022-06-12T11:33:24.248Z"
   },
   {
    "duration": 167,
    "start_time": "2022-06-12T11:33:24.681Z"
   },
   {
    "duration": 5,
    "start_time": "2022-06-12T11:33:24.851Z"
   },
   {
    "duration": 14,
    "start_time": "2022-06-12T11:33:24.857Z"
   },
   {
    "duration": 254,
    "start_time": "2022-06-12T11:33:24.872Z"
   },
   {
    "duration": 78,
    "start_time": "2022-06-12T11:33:25.127Z"
   },
   {
    "duration": 2,
    "start_time": "2022-06-12T11:33:25.207Z"
   },
   {
    "duration": 60036,
    "start_time": "2022-06-12T11:33:25.211Z"
   },
   {
    "duration": 0,
    "start_time": "2022-06-12T11:34:25.248Z"
   },
   {
    "duration": 0,
    "start_time": "2022-06-12T11:34:25.249Z"
   },
   {
    "duration": 0,
    "start_time": "2022-06-12T11:34:25.250Z"
   },
   {
    "duration": 0,
    "start_time": "2022-06-12T11:34:25.251Z"
   },
   {
    "duration": 25,
    "start_time": "2022-06-12T11:34:43.994Z"
   },
   {
    "duration": 5,
    "start_time": "2022-06-12T11:35:12.876Z"
   },
   {
    "duration": 129,
    "start_time": "2022-06-12T11:35:25.898Z"
   },
   {
    "duration": 151,
    "start_time": "2022-06-12T11:35:35.433Z"
   },
   {
    "duration": 199,
    "start_time": "2022-06-12T11:35:48.585Z"
   },
   {
    "duration": 4,
    "start_time": "2022-06-12T11:37:28.709Z"
   },
   {
    "duration": 5,
    "start_time": "2022-06-12T11:37:38.558Z"
   },
   {
    "duration": 3,
    "start_time": "2022-06-12T11:37:52.272Z"
   },
   {
    "duration": 245,
    "start_time": "2022-06-12T11:37:53.904Z"
   },
   {
    "duration": 81,
    "start_time": "2022-06-12T11:37:54.872Z"
   },
   {
    "duration": 3,
    "start_time": "2022-06-12T11:37:55.865Z"
   },
   {
    "duration": 83049,
    "start_time": "2022-06-12T11:37:58.208Z"
   },
   {
    "duration": 960,
    "start_time": "2022-06-12T11:39:25.099Z"
   },
   {
    "duration": 776,
    "start_time": "2022-06-12T11:39:26.061Z"
   },
   {
    "duration": 7,
    "start_time": "2022-06-12T11:39:26.839Z"
   },
   {
    "duration": 8,
    "start_time": "2022-06-12T11:39:26.847Z"
   },
   {
    "duration": 19,
    "start_time": "2022-06-12T11:39:26.856Z"
   },
   {
    "duration": 23,
    "start_time": "2022-06-12T11:39:26.876Z"
   },
   {
    "duration": 65,
    "start_time": "2022-06-12T11:39:26.900Z"
   },
   {
    "duration": 33,
    "start_time": "2022-06-12T11:39:26.967Z"
   },
   {
    "duration": 80,
    "start_time": "2022-06-12T11:39:27.002Z"
   },
   {
    "duration": 17,
    "start_time": "2022-06-12T11:39:27.083Z"
   },
   {
    "duration": 26,
    "start_time": "2022-06-12T11:39:27.101Z"
   },
   {
    "duration": 14,
    "start_time": "2022-06-12T11:39:27.129Z"
   },
   {
    "duration": 16,
    "start_time": "2022-06-12T11:39:27.144Z"
   },
   {
    "duration": 14,
    "start_time": "2022-06-12T11:39:27.163Z"
   },
   {
    "duration": 115,
    "start_time": "2022-06-12T11:39:27.178Z"
   },
   {
    "duration": 88,
    "start_time": "2022-06-12T11:39:27.294Z"
   },
   {
    "duration": 101,
    "start_time": "2022-06-12T11:39:27.384Z"
   },
   {
    "duration": 360,
    "start_time": "2022-06-12T11:39:27.486Z"
   },
   {
    "duration": 12,
    "start_time": "2022-06-12T11:39:27.847Z"
   },
   {
    "duration": 191,
    "start_time": "2022-06-12T11:39:27.860Z"
   },
   {
    "duration": 185,
    "start_time": "2022-06-12T11:39:28.052Z"
   },
   {
    "duration": 167,
    "start_time": "2022-06-12T11:39:28.238Z"
   },
   {
    "duration": 2757,
    "start_time": "2022-06-12T11:39:28.406Z"
   },
   {
    "duration": 388,
    "start_time": "2022-06-12T11:39:31.165Z"
   },
   {
    "duration": 416,
    "start_time": "2022-06-12T11:39:31.554Z"
   },
   {
    "duration": 446,
    "start_time": "2022-06-12T11:39:31.971Z"
   },
   {
    "duration": 167,
    "start_time": "2022-06-12T11:39:32.419Z"
   },
   {
    "duration": 3,
    "start_time": "2022-06-12T11:39:32.588Z"
   },
   {
    "duration": 8,
    "start_time": "2022-06-12T11:39:32.593Z"
   },
   {
    "duration": 255,
    "start_time": "2022-06-12T11:39:32.602Z"
   },
   {
    "duration": 82,
    "start_time": "2022-06-12T11:39:32.859Z"
   },
   {
    "duration": 3,
    "start_time": "2022-06-12T11:39:32.943Z"
   },
   {
    "duration": 41984,
    "start_time": "2022-06-12T11:39:32.947Z"
   },
   {
    "duration": 0,
    "start_time": "2022-06-12T11:40:14.933Z"
   },
   {
    "duration": 0,
    "start_time": "2022-06-12T11:40:14.934Z"
   },
   {
    "duration": 0,
    "start_time": "2022-06-12T11:40:14.935Z"
   },
   {
    "duration": 0,
    "start_time": "2022-06-12T11:40:14.936Z"
   },
   {
    "duration": 274,
    "start_time": "2022-06-12T11:41:46.932Z"
   },
   {
    "duration": 83,
    "start_time": "2022-06-12T11:41:55.300Z"
   },
   {
    "duration": 2,
    "start_time": "2022-06-12T11:42:06.039Z"
   },
   {
    "duration": 77412,
    "start_time": "2022-06-12T11:42:16.108Z"
   },
   {
    "duration": 3,
    "start_time": "2022-06-12T11:43:35.928Z"
   },
   {
    "duration": 925,
    "start_time": "2022-06-12T11:43:54.488Z"
   },
   {
    "duration": 703,
    "start_time": "2022-06-12T11:43:55.415Z"
   },
   {
    "duration": 11,
    "start_time": "2022-06-12T11:43:56.120Z"
   },
   {
    "duration": 5,
    "start_time": "2022-06-12T11:43:56.133Z"
   },
   {
    "duration": 20,
    "start_time": "2022-06-12T11:43:56.139Z"
   },
   {
    "duration": 21,
    "start_time": "2022-06-12T11:43:56.160Z"
   },
   {
    "duration": 61,
    "start_time": "2022-06-12T11:43:56.182Z"
   },
   {
    "duration": 32,
    "start_time": "2022-06-12T11:43:56.244Z"
   },
   {
    "duration": 77,
    "start_time": "2022-06-12T11:43:56.278Z"
   },
   {
    "duration": 17,
    "start_time": "2022-06-12T11:43:56.357Z"
   },
   {
    "duration": 15,
    "start_time": "2022-06-12T11:43:56.376Z"
   },
   {
    "duration": 33,
    "start_time": "2022-06-12T11:43:56.392Z"
   },
   {
    "duration": 15,
    "start_time": "2022-06-12T11:43:56.427Z"
   },
   {
    "duration": 30,
    "start_time": "2022-06-12T11:43:56.444Z"
   },
   {
    "duration": 133,
    "start_time": "2022-06-12T11:43:56.475Z"
   },
   {
    "duration": 106,
    "start_time": "2022-06-12T11:43:56.610Z"
   },
   {
    "duration": 108,
    "start_time": "2022-06-12T11:43:56.725Z"
   },
   {
    "duration": 363,
    "start_time": "2022-06-12T11:43:56.834Z"
   },
   {
    "duration": 19,
    "start_time": "2022-06-12T11:43:57.199Z"
   },
   {
    "duration": 240,
    "start_time": "2022-06-12T11:43:57.226Z"
   },
   {
    "duration": 189,
    "start_time": "2022-06-12T11:43:57.467Z"
   },
   {
    "duration": 176,
    "start_time": "2022-06-12T11:43:57.657Z"
   },
   {
    "duration": 2806,
    "start_time": "2022-06-12T11:43:57.834Z"
   },
   {
    "duration": 438,
    "start_time": "2022-06-12T11:44:00.642Z"
   },
   {
    "duration": 431,
    "start_time": "2022-06-12T11:44:01.082Z"
   },
   {
    "duration": 495,
    "start_time": "2022-06-12T11:44:01.514Z"
   },
   {
    "duration": 177,
    "start_time": "2022-06-12T11:44:02.011Z"
   },
   {
    "duration": 7,
    "start_time": "2022-06-12T11:44:02.192Z"
   },
   {
    "duration": 9,
    "start_time": "2022-06-12T11:44:02.201Z"
   },
   {
    "duration": 270,
    "start_time": "2022-06-12T11:44:02.212Z"
   },
   {
    "duration": 87,
    "start_time": "2022-06-12T11:44:02.484Z"
   },
   {
    "duration": 3,
    "start_time": "2022-06-12T11:44:02.572Z"
   },
   {
    "duration": 43,
    "start_time": "2022-06-12T11:46:30.926Z"
   },
   {
    "duration": 957,
    "start_time": "2022-06-12T11:46:40.502Z"
   },
   {
    "duration": 52,
    "start_time": "2022-06-12T11:46:47.541Z"
   },
   {
    "duration": 8,
    "start_time": "2022-06-12T11:46:50.821Z"
   },
   {
    "duration": 1001,
    "start_time": "2022-06-12T12:07:36.475Z"
   },
   {
    "duration": 748,
    "start_time": "2022-06-12T12:07:37.478Z"
   },
   {
    "duration": 7,
    "start_time": "2022-06-12T12:07:38.228Z"
   },
   {
    "duration": 7,
    "start_time": "2022-06-12T12:07:38.237Z"
   },
   {
    "duration": 21,
    "start_time": "2022-06-12T12:07:38.246Z"
   },
   {
    "duration": 29,
    "start_time": "2022-06-12T12:07:38.268Z"
   },
   {
    "duration": 67,
    "start_time": "2022-06-12T12:07:38.299Z"
   },
   {
    "duration": 34,
    "start_time": "2022-06-12T12:07:38.368Z"
   },
   {
    "duration": 86,
    "start_time": "2022-06-12T12:07:38.404Z"
   },
   {
    "duration": 20,
    "start_time": "2022-06-12T12:07:38.493Z"
   },
   {
    "duration": 17,
    "start_time": "2022-06-12T12:07:38.524Z"
   },
   {
    "duration": 18,
    "start_time": "2022-06-12T12:07:38.542Z"
   },
   {
    "duration": 19,
    "start_time": "2022-06-12T12:07:38.561Z"
   },
   {
    "duration": 15,
    "start_time": "2022-06-12T12:07:38.582Z"
   },
   {
    "duration": 126,
    "start_time": "2022-06-12T12:07:38.599Z"
   },
   {
    "duration": 115,
    "start_time": "2022-06-12T12:07:38.727Z"
   },
   {
    "duration": 100,
    "start_time": "2022-06-12T12:07:38.844Z"
   },
   {
    "duration": 402,
    "start_time": "2022-06-12T12:07:38.946Z"
   },
   {
    "duration": 13,
    "start_time": "2022-06-12T12:07:39.350Z"
   },
   {
    "duration": 215,
    "start_time": "2022-06-12T12:07:39.364Z"
   },
   {
    "duration": 200,
    "start_time": "2022-06-12T12:07:39.581Z"
   },
   {
    "duration": 175,
    "start_time": "2022-06-12T12:07:39.783Z"
   },
   {
    "duration": 2887,
    "start_time": "2022-06-12T12:07:39.959Z"
   },
   {
    "duration": 446,
    "start_time": "2022-06-12T12:07:42.848Z"
   },
   {
    "duration": 470,
    "start_time": "2022-06-12T12:07:43.296Z"
   },
   {
    "duration": 525,
    "start_time": "2022-06-12T12:07:43.768Z"
   },
   {
    "duration": 207,
    "start_time": "2022-06-12T12:07:44.294Z"
   },
   {
    "duration": 4,
    "start_time": "2022-06-12T12:07:44.504Z"
   },
   {
    "duration": 17,
    "start_time": "2022-06-12T12:07:44.510Z"
   },
   {
    "duration": 264,
    "start_time": "2022-06-12T12:07:44.529Z"
   },
   {
    "duration": 90,
    "start_time": "2022-06-12T12:07:44.795Z"
   },
   {
    "duration": 3,
    "start_time": "2022-06-12T12:07:44.886Z"
   },
   {
    "duration": 1051,
    "start_time": "2022-06-12T12:08:05.782Z"
   },
   {
    "duration": 4,
    "start_time": "2022-06-12T12:08:16.753Z"
   },
   {
    "duration": 717,
    "start_time": "2022-06-12T12:08:18.397Z"
   },
   {
    "duration": 8,
    "start_time": "2022-06-12T12:08:19.618Z"
   },
   {
    "duration": 4,
    "start_time": "2022-06-12T12:08:22.753Z"
   },
   {
    "duration": 14,
    "start_time": "2022-06-12T12:08:26.043Z"
   },
   {
    "duration": 20,
    "start_time": "2022-06-12T12:08:27.899Z"
   },
   {
    "duration": 42,
    "start_time": "2022-06-12T12:08:28.682Z"
   },
   {
    "duration": 32,
    "start_time": "2022-06-12T12:08:29.658Z"
   },
   {
    "duration": 74,
    "start_time": "2022-06-12T12:08:30.994Z"
   },
   {
    "duration": 18,
    "start_time": "2022-06-12T12:08:32.738Z"
   },
   {
    "duration": 18,
    "start_time": "2022-06-12T12:08:33.953Z"
   },
   {
    "duration": 16,
    "start_time": "2022-06-12T12:08:36.993Z"
   },
   {
    "duration": 15,
    "start_time": "2022-06-12T12:08:38.009Z"
   },
   {
    "duration": 91,
    "start_time": "2022-06-12T12:08:39.241Z"
   },
   {
    "duration": 82,
    "start_time": "2022-06-12T12:08:41.250Z"
   },
   {
    "duration": 89,
    "start_time": "2022-06-12T12:08:42.792Z"
   },
   {
    "duration": 16,
    "start_time": "2022-06-12T12:08:49.602Z"
   },
   {
    "duration": 88,
    "start_time": "2022-06-12T12:08:51.945Z"
   },
   {
    "duration": 356,
    "start_time": "2022-06-12T12:08:53.783Z"
   },
   {
    "duration": 358,
    "start_time": "2022-06-12T12:08:57.730Z"
   },
   {
    "duration": 361,
    "start_time": "2022-06-12T12:08:59.561Z"
   },
   {
    "duration": 440,
    "start_time": "2022-06-12T12:09:06.113Z"
   },
   {
    "duration": 163,
    "start_time": "2022-06-12T12:09:08.257Z"
   },
   {
    "duration": 4,
    "start_time": "2022-06-12T12:09:11.441Z"
   },
   {
    "duration": 6,
    "start_time": "2022-06-12T12:09:13.085Z"
   },
   {
    "duration": 257,
    "start_time": "2022-06-12T12:09:15.885Z"
   },
   {
    "duration": 79,
    "start_time": "2022-06-12T12:09:17.285Z"
   },
   {
    "duration": 3,
    "start_time": "2022-06-12T12:09:19.009Z"
   },
   {
    "duration": 88,
    "start_time": "2022-06-12T12:10:26.170Z"
   },
   {
    "duration": 2,
    "start_time": "2022-06-12T12:10:42.395Z"
   },
   {
    "duration": 215337,
    "start_time": "2022-06-12T12:10:46.169Z"
   },
   {
    "duration": 568,
    "start_time": "2022-06-12T12:14:37.931Z"
   },
   {
    "duration": 554,
    "start_time": "2022-06-12T12:14:44.031Z"
   },
   {
    "duration": 569,
    "start_time": "2022-06-12T12:15:00.474Z"
   },
   {
    "duration": 6,
    "start_time": "2022-06-12T12:15:02.847Z"
   },
   {
    "duration": 12,
    "start_time": "2022-06-12T12:15:37.463Z"
   },
   {
    "duration": 2,
    "start_time": "2022-06-12T12:16:02.816Z"
   },
   {
    "duration": 2,
    "start_time": "2022-06-12T12:16:04.689Z"
   },
   {
    "duration": 206829,
    "start_time": "2022-06-12T12:16:07.046Z"
   },
   {
    "duration": 609,
    "start_time": "2022-06-12T12:19:43.149Z"
   },
   {
    "duration": 597,
    "start_time": "2022-06-12T12:19:45.436Z"
   },
   {
    "duration": 9,
    "start_time": "2022-06-12T12:19:47.829Z"
   },
   {
    "duration": 5,
    "start_time": "2022-06-12T12:19:51.387Z"
   },
   {
    "duration": 6,
    "start_time": "2022-06-12T12:19:58.837Z"
   },
   {
    "duration": 3,
    "start_time": "2022-06-12T12:20:00.925Z"
   },
   {
    "duration": 196786,
    "start_time": "2022-06-12T12:20:02.437Z"
   },
   {
    "duration": 688,
    "start_time": "2022-06-12T12:23:22.219Z"
   },
   {
    "duration": 685,
    "start_time": "2022-06-12T12:23:25.540Z"
   },
   {
    "duration": 10,
    "start_time": "2022-06-12T12:23:27.627Z"
   },
   {
    "duration": 6,
    "start_time": "2022-06-12T12:23:30.300Z"
   },
   {
    "duration": 139,
    "start_time": "2022-06-12T12:24:13.986Z"
   },
   {
    "duration": 3,
    "start_time": "2022-06-12T12:25:08.020Z"
   },
   {
    "duration": 548,
    "start_time": "2022-06-12T12:25:08.990Z"
   },
   {
    "duration": 190,
    "start_time": "2022-06-12T12:25:10.523Z"
   },
   {
    "duration": 3,
    "start_time": "2022-06-12T12:25:17.122Z"
   },
   {
    "duration": 3,
    "start_time": "2022-06-12T12:25:18.877Z"
   },
   {
    "duration": 433765,
    "start_time": "2022-06-12T12:25:20.444Z"
   },
   {
    "duration": 2008,
    "start_time": "2022-06-12T12:33:08.610Z"
   },
   {
    "duration": 2108,
    "start_time": "2022-06-12T12:33:15.393Z"
   },
   {
    "duration": 10,
    "start_time": "2022-06-12T12:33:17.503Z"
   },
   {
    "duration": 10,
    "start_time": "2022-06-12T12:33:19.144Z"
   },
   {
    "duration": 6,
    "start_time": "2022-06-12T12:33:23.721Z"
   },
   {
    "duration": 3,
    "start_time": "2022-06-12T12:33:38.849Z"
   },
   {
    "duration": 2,
    "start_time": "2022-06-12T12:33:40.696Z"
   },
   {
    "duration": 25236,
    "start_time": "2022-06-12T12:33:41.944Z"
   },
   {
    "duration": 3,
    "start_time": "2022-06-12T12:34:12.881Z"
   },
   {
    "duration": 3,
    "start_time": "2022-06-12T12:34:13.896Z"
   },
   {
    "duration": 3,
    "start_time": "2022-06-12T12:34:14.753Z"
   },
   {
    "duration": 39321,
    "start_time": "2022-06-12T12:34:16.033Z"
   },
   {
    "duration": 3,
    "start_time": "2022-06-12T12:35:10.143Z"
   },
   {
    "duration": 3,
    "start_time": "2022-06-12T12:35:12.072Z"
   },
   {
    "duration": 428619,
    "start_time": "2022-06-12T12:35:13.760Z"
   },
   {
    "duration": 1023,
    "start_time": "2022-06-12T13:26:13.499Z"
   },
   {
    "duration": 9,
    "start_time": "2022-06-12T13:26:14.569Z"
   },
   {
    "duration": 5,
    "start_time": "2022-06-12T13:26:17.717Z"
   },
   {
    "duration": 3,
    "start_time": "2022-06-12T13:27:03.865Z"
   },
   {
    "duration": 3,
    "start_time": "2022-06-12T13:27:05.807Z"
   },
   {
    "duration": 3,
    "start_time": "2022-06-12T13:27:16.724Z"
   },
   {
    "duration": 2,
    "start_time": "2022-06-12T13:27:18.469Z"
   },
   {
    "duration": 303232,
    "start_time": "2022-06-12T13:27:22.221Z"
   },
   {
    "duration": 3,
    "start_time": "2022-06-12T13:33:02.044Z"
   },
   {
    "duration": 3,
    "start_time": "2022-06-12T13:33:04.651Z"
   },
   {
    "duration": 3,
    "start_time": "2022-06-12T13:33:20.212Z"
   },
   {
    "duration": 3,
    "start_time": "2022-06-12T13:33:22.363Z"
   },
   {
    "duration": 385510,
    "start_time": "2022-06-12T13:33:23.604Z"
   },
   {
    "duration": 2,
    "start_time": "2022-06-12T13:39:54.048Z"
   },
   {
    "duration": 3,
    "start_time": "2022-06-12T13:39:56.912Z"
   },
   {
    "duration": 1350894,
    "start_time": "2022-06-12T13:40:00.818Z"
   },
   {
    "duration": 6719,
    "start_time": "2022-06-12T14:02:31.714Z"
   },
   {
    "duration": 6646,
    "start_time": "2022-06-12T14:02:38.435Z"
   },
   {
    "duration": 10,
    "start_time": "2022-06-12T14:02:46.873Z"
   },
   {
    "duration": 5,
    "start_time": "2022-06-12T14:02:51.943Z"
   },
   {
    "duration": 3,
    "start_time": "2022-06-12T14:03:15.168Z"
   },
   {
    "duration": 3,
    "start_time": "2022-06-12T14:03:16.943Z"
   },
   {
    "duration": 1403,
    "start_time": "2022-06-12T14:04:01.880Z"
   },
   {
    "duration": 2869,
    "start_time": "2022-06-12T14:04:03.284Z"
   },
   {
    "duration": 8,
    "start_time": "2022-06-12T14:04:06.154Z"
   },
   {
    "duration": 8,
    "start_time": "2022-06-12T14:04:06.165Z"
   },
   {
    "duration": 20,
    "start_time": "2022-06-12T14:04:06.174Z"
   },
   {
    "duration": 40,
    "start_time": "2022-06-12T14:04:06.196Z"
   },
   {
    "duration": 51,
    "start_time": "2022-06-12T14:04:06.238Z"
   },
   {
    "duration": 47,
    "start_time": "2022-06-12T14:04:06.291Z"
   },
   {
    "duration": 73,
    "start_time": "2022-06-12T14:04:06.339Z"
   },
   {
    "duration": 22,
    "start_time": "2022-06-12T14:04:06.425Z"
   },
   {
    "duration": 20,
    "start_time": "2022-06-12T14:04:06.449Z"
   },
   {
    "duration": 28,
    "start_time": "2022-06-12T14:04:06.471Z"
   },
   {
    "duration": 53,
    "start_time": "2022-06-12T14:04:06.501Z"
   },
   {
    "duration": 33,
    "start_time": "2022-06-12T14:04:06.556Z"
   },
   {
    "duration": 142,
    "start_time": "2022-06-12T14:04:06.591Z"
   },
   {
    "duration": 95,
    "start_time": "2022-06-12T14:04:06.735Z"
   },
   {
    "duration": 101,
    "start_time": "2022-06-12T14:04:06.831Z"
   },
   {
    "duration": 408,
    "start_time": "2022-06-12T14:04:06.933Z"
   },
   {
    "duration": 13,
    "start_time": "2022-06-12T14:04:07.342Z"
   },
   {
    "duration": 215,
    "start_time": "2022-06-12T14:04:07.357Z"
   },
   {
    "duration": 205,
    "start_time": "2022-06-12T14:04:07.574Z"
   },
   {
    "duration": 178,
    "start_time": "2022-06-12T14:04:07.781Z"
   },
   {
    "duration": 3164,
    "start_time": "2022-06-12T14:04:07.961Z"
   },
   {
    "duration": 439,
    "start_time": "2022-06-12T14:04:11.127Z"
   },
   {
    "duration": 473,
    "start_time": "2022-06-12T14:04:11.568Z"
   },
   {
    "duration": 527,
    "start_time": "2022-06-12T14:04:12.043Z"
   },
   {
    "duration": 227,
    "start_time": "2022-06-12T14:04:12.572Z"
   },
   {
    "duration": 4,
    "start_time": "2022-06-12T14:04:12.802Z"
   },
   {
    "duration": 162,
    "start_time": "2022-06-12T14:04:12.807Z"
   },
   {
    "duration": 6,
    "start_time": "2022-06-12T14:04:12.971Z"
   },
   {
    "duration": 633,
    "start_time": "2022-06-12T14:04:12.978Z"
   },
   {
    "duration": 219,
    "start_time": "2022-06-12T14:04:13.612Z"
   },
   {
    "duration": 3,
    "start_time": "2022-06-12T14:04:13.833Z"
   },
   {
    "duration": 6,
    "start_time": "2022-06-12T14:04:13.838Z"
   },
   {
    "duration": 8,
    "start_time": "2022-06-12T14:04:13.846Z"
   },
   {
    "duration": 473902,
    "start_time": "2022-06-12T14:04:13.856Z"
   },
   {
    "duration": 2542,
    "start_time": "2022-06-12T14:12:07.759Z"
   },
   {
    "duration": 2463,
    "start_time": "2022-06-12T14:12:10.302Z"
   },
   {
    "duration": 16,
    "start_time": "2022-06-12T14:12:12.768Z"
   },
   {
    "duration": 14,
    "start_time": "2022-06-12T14:12:12.786Z"
   },
   {
    "duration": 6,
    "start_time": "2022-06-12T14:12:26.596Z"
   },
   {
    "duration": 2,
    "start_time": "2022-06-12T14:12:29.551Z"
   },
   {
    "duration": 98777,
    "start_time": "2022-06-12T14:12:32.799Z"
   },
   {
    "duration": 3,
    "start_time": "2022-06-12T14:14:16.415Z"
   },
   {
    "duration": 3,
    "start_time": "2022-06-12T14:14:17.503Z"
   },
   {
    "duration": 63907,
    "start_time": "2022-06-12T14:14:18.407Z"
   },
   {
    "duration": 3,
    "start_time": "2022-06-12T14:15:29.829Z"
   },
   {
    "duration": 3,
    "start_time": "2022-06-12T14:15:31.204Z"
   },
   {
    "duration": 482107,
    "start_time": "2022-06-12T14:15:31.950Z"
   },
   {
    "duration": 392,
    "start_time": "2022-06-12T14:23:36.636Z"
   },
   {
    "duration": 358,
    "start_time": "2022-06-12T14:23:40.708Z"
   },
   {
    "duration": 10,
    "start_time": "2022-06-12T14:23:42.219Z"
   },
   {
    "duration": 5,
    "start_time": "2022-06-12T14:23:46.915Z"
   },
   {
    "duration": 3,
    "start_time": "2022-06-12T14:29:26.387Z"
   },
   {
    "duration": 3,
    "start_time": "2022-06-12T14:29:58.473Z"
   },
   {
    "duration": 3,
    "start_time": "2022-06-12T14:30:00.665Z"
   },
   {
    "duration": 90177,
    "start_time": "2022-06-12T14:30:02.296Z"
   },
   {
    "duration": 384,
    "start_time": "2022-06-12T14:31:32.487Z"
   },
   {
    "duration": 10,
    "start_time": "2022-06-12T14:31:32.872Z"
   },
   {
    "duration": 8,
    "start_time": "2022-06-12T14:31:32.883Z"
   },
   {
    "duration": 3,
    "start_time": "2022-06-12T14:32:59.273Z"
   },
   {
    "duration": 266,
    "start_time": "2022-06-12T14:33:00.640Z"
   },
   {
    "duration": 119,
    "start_time": "2022-06-12T14:33:01.528Z"
   },
   {
    "duration": 2,
    "start_time": "2022-06-12T14:33:03.048Z"
   },
   {
    "duration": 3,
    "start_time": "2022-06-12T14:33:14.352Z"
   },
   {
    "duration": 3,
    "start_time": "2022-06-12T14:33:15.599Z"
   },
   {
    "duration": 43421,
    "start_time": "2022-06-12T14:33:16.503Z"
   },
   {
    "duration": 192,
    "start_time": "2022-06-12T14:34:12.129Z"
   },
   {
    "duration": 11,
    "start_time": "2022-06-12T14:34:13.808Z"
   },
   {
    "duration": 6,
    "start_time": "2022-06-12T14:34:17.439Z"
   },
   {
    "duration": 7,
    "start_time": "2022-06-12T14:34:27.487Z"
   },
   {
    "duration": 3,
    "start_time": "2022-06-12T14:34:28.406Z"
   },
   {
    "duration": 4,
    "start_time": "2022-06-12T14:34:29.879Z"
   },
   {
    "duration": 209010,
    "start_time": "2022-06-12T14:34:31.143Z"
   },
   {
    "duration": 830,
    "start_time": "2022-06-12T14:38:00.155Z"
   },
   {
    "duration": 10,
    "start_time": "2022-06-12T14:38:00.987Z"
   },
   {
    "duration": 30,
    "start_time": "2022-06-12T14:38:00.998Z"
   },
   {
    "duration": 3,
    "start_time": "2022-06-12T14:38:41.950Z"
   },
   {
    "duration": 3,
    "start_time": "2022-06-12T14:38:43.428Z"
   },
   {
    "duration": 1201,
    "start_time": "2022-06-12T14:38:44.614Z"
   },
   {
    "duration": 16,
    "start_time": "2022-06-12T14:38:48.348Z"
   },
   {
    "duration": 11,
    "start_time": "2022-06-12T14:38:50.581Z"
   },
   {
    "duration": 5,
    "start_time": "2022-06-12T14:38:53.638Z"
   },
   {
    "duration": 3,
    "start_time": "2022-06-12T14:39:04.645Z"
   },
   {
    "duration": 4,
    "start_time": "2022-06-12T14:39:06.677Z"
   },
   {
    "duration": 1242,
    "start_time": "2022-06-12T14:39:07.382Z"
   },
   {
    "duration": 18,
    "start_time": "2022-06-12T14:39:12.901Z"
   },
   {
    "duration": 11,
    "start_time": "2022-06-12T14:39:14.005Z"
   },
   {
    "duration": 7,
    "start_time": "2022-06-12T14:39:16.925Z"
   },
   {
    "duration": 2,
    "start_time": "2022-06-12T14:39:28.589Z"
   },
   {
    "duration": 2,
    "start_time": "2022-06-12T14:39:30.062Z"
   },
   {
    "duration": 3,
    "start_time": "2022-06-12T14:39:31.167Z"
   },
   {
    "duration": 1185,
    "start_time": "2022-06-12T14:39:32.110Z"
   },
   {
    "duration": 10,
    "start_time": "2022-06-12T14:39:38.796Z"
   },
   {
    "duration": 11,
    "start_time": "2022-06-12T14:39:39.813Z"
   },
   {
    "duration": 3,
    "start_time": "2022-06-12T14:39:50.445Z"
   },
   {
    "duration": 2,
    "start_time": "2022-06-12T14:39:51.813Z"
   },
   {
    "duration": 1172,
    "start_time": "2022-06-12T14:39:52.685Z"
   },
   {
    "duration": 12,
    "start_time": "2022-06-12T14:39:59.412Z"
   },
   {
    "duration": 10,
    "start_time": "2022-06-12T14:40:00.556Z"
   },
   {
    "duration": 4,
    "start_time": "2022-06-12T14:40:09.716Z"
   },
   {
    "duration": 2,
    "start_time": "2022-06-12T14:40:11.284Z"
   },
   {
    "duration": 1514,
    "start_time": "2022-06-12T14:40:12.059Z"
   },
   {
    "duration": 12,
    "start_time": "2022-06-12T14:40:15.556Z"
   },
   {
    "duration": 14,
    "start_time": "2022-06-12T14:40:16.662Z"
   },
   {
    "duration": 3,
    "start_time": "2022-06-12T14:40:25.811Z"
   },
   {
    "duration": 3,
    "start_time": "2022-06-12T14:40:27.484Z"
   },
   {
    "duration": 8567,
    "start_time": "2022-06-12T14:40:28.188Z"
   },
   {
    "duration": 18,
    "start_time": "2022-06-12T14:40:38.892Z"
   },
   {
    "duration": 10,
    "start_time": "2022-06-12T14:40:39.915Z"
   },
   {
    "duration": 5,
    "start_time": "2022-06-12T14:40:43.373Z"
   },
   {
    "duration": 18375,
    "start_time": "2022-06-12T14:41:04.732Z"
   },
   {
    "duration": 3,
    "start_time": "2022-06-12T14:41:37.524Z"
   },
   {
    "duration": 200310,
    "start_time": "2022-06-12T14:41:38.804Z"
   },
   {
    "duration": 3,
    "start_time": "2022-06-12T14:45:14.563Z"
   },
   {
    "duration": 93437,
    "start_time": "2022-06-12T14:45:15.602Z"
   },
   {
    "duration": 3,
    "start_time": "2022-06-12T14:46:53.770Z"
   },
   {
    "duration": 97868,
    "start_time": "2022-06-12T14:46:56.650Z"
   },
   {
    "duration": 962,
    "start_time": "2022-06-12T14:49:04.036Z"
   },
   {
    "duration": 731,
    "start_time": "2022-06-12T14:49:05.000Z"
   },
   {
    "duration": 9,
    "start_time": "2022-06-12T14:49:05.735Z"
   },
   {
    "duration": 7,
    "start_time": "2022-06-12T14:49:05.747Z"
   },
   {
    "duration": 27,
    "start_time": "2022-06-12T14:49:05.756Z"
   },
   {
    "duration": 61,
    "start_time": "2022-06-12T14:49:05.785Z"
   },
   {
    "duration": 52,
    "start_time": "2022-06-12T14:49:05.847Z"
   },
   {
    "duration": 45,
    "start_time": "2022-06-12T14:49:05.901Z"
   },
   {
    "duration": 84,
    "start_time": "2022-06-12T14:49:05.950Z"
   },
   {
    "duration": 32,
    "start_time": "2022-06-12T14:49:06.036Z"
   },
   {
    "duration": 16,
    "start_time": "2022-06-12T14:49:06.069Z"
   },
   {
    "duration": 20,
    "start_time": "2022-06-12T14:49:06.086Z"
   },
   {
    "duration": 32,
    "start_time": "2022-06-12T14:49:06.107Z"
   },
   {
    "duration": 18,
    "start_time": "2022-06-12T14:49:06.140Z"
   },
   {
    "duration": 115,
    "start_time": "2022-06-12T14:49:06.159Z"
   },
   {
    "duration": 117,
    "start_time": "2022-06-12T14:49:06.275Z"
   },
   {
    "duration": 114,
    "start_time": "2022-06-12T14:49:06.393Z"
   },
   {
    "duration": 418,
    "start_time": "2022-06-12T14:49:06.515Z"
   },
   {
    "duration": 13,
    "start_time": "2022-06-12T14:49:06.934Z"
   },
   {
    "duration": 218,
    "start_time": "2022-06-12T14:49:06.948Z"
   },
   {
    "duration": 199,
    "start_time": "2022-06-12T14:49:07.167Z"
   },
   {
    "duration": 172,
    "start_time": "2022-06-12T14:49:07.368Z"
   },
   {
    "duration": 3098,
    "start_time": "2022-06-12T14:49:07.542Z"
   },
   {
    "duration": 434,
    "start_time": "2022-06-12T14:49:10.642Z"
   },
   {
    "duration": 461,
    "start_time": "2022-06-12T14:49:11.077Z"
   },
   {
    "duration": 487,
    "start_time": "2022-06-12T14:49:11.540Z"
   },
   {
    "duration": 173,
    "start_time": "2022-06-12T14:49:12.030Z"
   },
   {
    "duration": 4,
    "start_time": "2022-06-12T14:49:12.205Z"
   },
   {
    "duration": 168,
    "start_time": "2022-06-12T14:49:12.210Z"
   },
   {
    "duration": 5,
    "start_time": "2022-06-12T14:49:12.380Z"
   },
   {
    "duration": 266,
    "start_time": "2022-06-12T14:49:12.386Z"
   },
   {
    "duration": 93,
    "start_time": "2022-06-12T14:49:12.653Z"
   },
   {
    "duration": 3,
    "start_time": "2022-06-12T14:49:12.748Z"
   },
   {
    "duration": 58190,
    "start_time": "2022-06-12T14:49:12.754Z"
   },
   {
    "duration": 0,
    "start_time": "2022-06-12T14:50:10.945Z"
   },
   {
    "duration": 0,
    "start_time": "2022-06-12T14:50:10.947Z"
   },
   {
    "duration": 1,
    "start_time": "2022-06-12T14:50:10.947Z"
   },
   {
    "duration": 0,
    "start_time": "2022-06-12T14:50:10.948Z"
   },
   {
    "duration": 0,
    "start_time": "2022-06-12T14:50:10.950Z"
   },
   {
    "duration": 3,
    "start_time": "2022-06-12T14:50:16.864Z"
   },
   {
    "duration": 966,
    "start_time": "2022-06-12T14:50:26.533Z"
   },
   {
    "duration": 776,
    "start_time": "2022-06-12T14:50:27.501Z"
   },
   {
    "duration": 7,
    "start_time": "2022-06-12T14:50:28.279Z"
   },
   {
    "duration": 6,
    "start_time": "2022-06-12T14:50:28.288Z"
   },
   {
    "duration": 31,
    "start_time": "2022-06-12T14:50:28.295Z"
   },
   {
    "duration": 22,
    "start_time": "2022-06-12T14:50:28.327Z"
   },
   {
    "duration": 45,
    "start_time": "2022-06-12T14:50:28.351Z"
   },
   {
    "duration": 53,
    "start_time": "2022-06-12T14:50:28.397Z"
   },
   {
    "duration": 95,
    "start_time": "2022-06-12T14:50:28.451Z"
   },
   {
    "duration": 17,
    "start_time": "2022-06-12T14:50:28.548Z"
   },
   {
    "duration": 15,
    "start_time": "2022-06-12T14:50:28.566Z"
   },
   {
    "duration": 16,
    "start_time": "2022-06-12T14:50:28.582Z"
   },
   {
    "duration": 36,
    "start_time": "2022-06-12T14:50:28.599Z"
   },
   {
    "duration": 16,
    "start_time": "2022-06-12T14:50:28.637Z"
   },
   {
    "duration": 127,
    "start_time": "2022-06-12T14:50:28.655Z"
   },
   {
    "duration": 102,
    "start_time": "2022-06-12T14:50:28.783Z"
   },
   {
    "duration": 104,
    "start_time": "2022-06-12T14:50:28.887Z"
   },
   {
    "duration": 363,
    "start_time": "2022-06-12T14:50:28.992Z"
   },
   {
    "duration": 12,
    "start_time": "2022-06-12T14:50:29.357Z"
   },
   {
    "duration": 213,
    "start_time": "2022-06-12T14:50:29.370Z"
   },
   {
    "duration": 186,
    "start_time": "2022-06-12T14:50:29.585Z"
   },
   {
    "duration": 180,
    "start_time": "2022-06-12T14:50:29.773Z"
   },
   {
    "duration": 2753,
    "start_time": "2022-06-12T14:50:29.955Z"
   },
   {
    "duration": 413,
    "start_time": "2022-06-12T14:50:32.710Z"
   },
   {
    "duration": 423,
    "start_time": "2022-06-12T14:50:33.125Z"
   },
   {
    "duration": 449,
    "start_time": "2022-06-12T14:50:33.550Z"
   },
   {
    "duration": 177,
    "start_time": "2022-06-12T14:50:34.001Z"
   },
   {
    "duration": 3,
    "start_time": "2022-06-12T14:50:34.182Z"
   },
   {
    "duration": 153,
    "start_time": "2022-06-12T14:50:34.186Z"
   },
   {
    "duration": 6,
    "start_time": "2022-06-12T14:50:34.341Z"
   },
   {
    "duration": 254,
    "start_time": "2022-06-12T14:50:34.348Z"
   },
   {
    "duration": 84,
    "start_time": "2022-06-12T14:50:34.604Z"
   },
   {
    "duration": 3,
    "start_time": "2022-06-12T14:50:34.689Z"
   },
   {
    "duration": 245995,
    "start_time": "2022-06-12T14:50:34.693Z"
   },
   {
    "duration": 0,
    "start_time": "2022-06-12T14:54:40.690Z"
   },
   {
    "duration": 0,
    "start_time": "2022-06-12T14:54:40.691Z"
   },
   {
    "duration": 0,
    "start_time": "2022-06-12T14:54:40.692Z"
   },
   {
    "duration": 0,
    "start_time": "2022-06-12T14:54:40.693Z"
   },
   {
    "duration": 0,
    "start_time": "2022-06-12T14:54:40.694Z"
   },
   {
    "duration": 2,
    "start_time": "2022-06-12T14:54:51.663Z"
   },
   {
    "duration": 1055,
    "start_time": "2022-06-12T14:54:55.815Z"
   },
   {
    "duration": 729,
    "start_time": "2022-06-12T14:54:56.872Z"
   },
   {
    "duration": 8,
    "start_time": "2022-06-12T14:54:57.602Z"
   },
   {
    "duration": 14,
    "start_time": "2022-06-12T14:54:57.612Z"
   },
   {
    "duration": 15,
    "start_time": "2022-06-12T14:54:57.628Z"
   },
   {
    "duration": 29,
    "start_time": "2022-06-12T14:54:57.645Z"
   },
   {
    "duration": 65,
    "start_time": "2022-06-12T14:54:57.675Z"
   },
   {
    "duration": 34,
    "start_time": "2022-06-12T14:54:57.741Z"
   },
   {
    "duration": 85,
    "start_time": "2022-06-12T14:54:57.777Z"
   },
   {
    "duration": 24,
    "start_time": "2022-06-12T14:54:57.865Z"
   },
   {
    "duration": 35,
    "start_time": "2022-06-12T14:54:57.891Z"
   },
   {
    "duration": 17,
    "start_time": "2022-06-12T14:54:57.927Z"
   },
   {
    "duration": 16,
    "start_time": "2022-06-12T14:54:57.946Z"
   },
   {
    "duration": 16,
    "start_time": "2022-06-12T14:54:57.964Z"
   },
   {
    "duration": 130,
    "start_time": "2022-06-12T14:54:57.981Z"
   },
   {
    "duration": 93,
    "start_time": "2022-06-12T14:54:58.113Z"
   },
   {
    "duration": 102,
    "start_time": "2022-06-12T14:54:58.207Z"
   },
   {
    "duration": 380,
    "start_time": "2022-06-12T14:54:58.310Z"
   },
   {
    "duration": 14,
    "start_time": "2022-06-12T14:54:58.692Z"
   },
   {
    "duration": 231,
    "start_time": "2022-06-12T14:54:58.707Z"
   },
   {
    "duration": 195,
    "start_time": "2022-06-12T14:54:58.940Z"
   },
   {
    "duration": 206,
    "start_time": "2022-06-12T14:54:59.137Z"
   },
   {
    "duration": 2837,
    "start_time": "2022-06-12T14:54:59.345Z"
   },
   {
    "duration": 461,
    "start_time": "2022-06-12T14:55:02.184Z"
   },
   {
    "duration": 505,
    "start_time": "2022-06-12T14:55:02.647Z"
   },
   {
    "duration": 543,
    "start_time": "2022-06-12T14:55:03.154Z"
   },
   {
    "duration": 180,
    "start_time": "2022-06-12T14:55:03.702Z"
   },
   {
    "duration": 5,
    "start_time": "2022-06-12T14:55:03.885Z"
   },
   {
    "duration": 156,
    "start_time": "2022-06-12T14:55:03.892Z"
   },
   {
    "duration": 5,
    "start_time": "2022-06-12T14:55:04.050Z"
   },
   {
    "duration": 263,
    "start_time": "2022-06-12T14:55:04.057Z"
   },
   {
    "duration": 78,
    "start_time": "2022-06-12T14:55:04.324Z"
   },
   {
    "duration": 2,
    "start_time": "2022-06-12T14:55:04.404Z"
   },
   {
    "duration": 334634,
    "start_time": "2022-06-12T14:55:04.407Z"
   },
   {
    "duration": 0,
    "start_time": "2022-06-12T15:00:39.043Z"
   },
   {
    "duration": 0,
    "start_time": "2022-06-12T15:00:39.044Z"
   },
   {
    "duration": 0,
    "start_time": "2022-06-12T15:00:39.045Z"
   },
   {
    "duration": 0,
    "start_time": "2022-06-12T15:00:39.048Z"
   },
   {
    "duration": 0,
    "start_time": "2022-06-12T15:00:39.049Z"
   },
   {
    "duration": 3,
    "start_time": "2022-06-12T15:00:51.625Z"
   },
   {
    "duration": 1054,
    "start_time": "2022-06-12T15:00:55.923Z"
   },
   {
    "duration": 786,
    "start_time": "2022-06-12T15:00:56.979Z"
   },
   {
    "duration": 10,
    "start_time": "2022-06-12T15:00:57.770Z"
   },
   {
    "duration": 10,
    "start_time": "2022-06-12T15:00:57.782Z"
   },
   {
    "duration": 35,
    "start_time": "2022-06-12T15:00:57.795Z"
   },
   {
    "duration": 27,
    "start_time": "2022-06-12T15:00:57.832Z"
   },
   {
    "duration": 67,
    "start_time": "2022-06-12T15:00:57.861Z"
   },
   {
    "duration": 34,
    "start_time": "2022-06-12T15:00:57.930Z"
   },
   {
    "duration": 85,
    "start_time": "2022-06-12T15:00:57.966Z"
   },
   {
    "duration": 19,
    "start_time": "2022-06-12T15:00:58.053Z"
   },
   {
    "duration": 20,
    "start_time": "2022-06-12T15:00:58.074Z"
   },
   {
    "duration": 36,
    "start_time": "2022-06-12T15:00:58.096Z"
   },
   {
    "duration": 25,
    "start_time": "2022-06-12T15:00:58.134Z"
   },
   {
    "duration": 39,
    "start_time": "2022-06-12T15:00:58.161Z"
   },
   {
    "duration": 110,
    "start_time": "2022-06-12T15:00:58.202Z"
   },
   {
    "duration": 100,
    "start_time": "2022-06-12T15:00:58.313Z"
   },
   {
    "duration": 98,
    "start_time": "2022-06-12T15:00:58.415Z"
   },
   {
    "duration": 402,
    "start_time": "2022-06-12T15:00:58.515Z"
   },
   {
    "duration": 16,
    "start_time": "2022-06-12T15:00:58.918Z"
   },
   {
    "duration": 197,
    "start_time": "2022-06-12T15:00:58.935Z"
   },
   {
    "duration": 193,
    "start_time": "2022-06-12T15:00:59.133Z"
   },
   {
    "duration": 169,
    "start_time": "2022-06-12T15:00:59.328Z"
   },
   {
    "duration": 2820,
    "start_time": "2022-06-12T15:00:59.498Z"
   },
   {
    "duration": 438,
    "start_time": "2022-06-12T15:01:02.320Z"
   },
   {
    "duration": 462,
    "start_time": "2022-06-12T15:01:02.759Z"
   },
   {
    "duration": 495,
    "start_time": "2022-06-12T15:01:03.226Z"
   },
   {
    "duration": 196,
    "start_time": "2022-06-12T15:01:03.725Z"
   },
   {
    "duration": 4,
    "start_time": "2022-06-12T15:01:03.923Z"
   },
   {
    "duration": 162,
    "start_time": "2022-06-12T15:01:03.928Z"
   },
   {
    "duration": 5,
    "start_time": "2022-06-12T15:01:04.092Z"
   },
   {
    "duration": 276,
    "start_time": "2022-06-12T15:01:04.099Z"
   },
   {
    "duration": 91,
    "start_time": "2022-06-12T15:01:04.377Z"
   },
   {
    "duration": 4,
    "start_time": "2022-06-12T15:01:04.469Z"
   },
   {
    "duration": 732782,
    "start_time": "2022-06-12T15:01:04.474Z"
   },
   {
    "duration": 3,
    "start_time": "2022-06-12T15:13:17.257Z"
   },
   {
    "duration": 209953,
    "start_time": "2022-06-12T15:13:17.261Z"
   },
   {
    "duration": 881,
    "start_time": "2022-06-12T15:16:47.216Z"
   },
   {
    "duration": 10,
    "start_time": "2022-06-12T15:16:48.099Z"
   },
   {
    "duration": 18,
    "start_time": "2022-06-12T15:16:48.110Z"
   },
   {
    "duration": 8,
    "start_time": "2022-06-12T15:26:00.807Z"
   },
   {
    "duration": 9,
    "start_time": "2022-06-12T15:26:41.839Z"
   },
   {
    "duration": 5,
    "start_time": "2022-06-12T15:27:21.684Z"
   },
   {
    "duration": 4,
    "start_time": "2022-06-12T15:27:27.422Z"
   },
   {
    "duration": 2,
    "start_time": "2022-06-12T15:28:59.702Z"
   },
   {
    "duration": 3,
    "start_time": "2022-06-12T15:29:03.507Z"
   },
   {
    "duration": 206398,
    "start_time": "2022-06-12T15:29:06.135Z"
   },
   {
    "duration": 903,
    "start_time": "2022-06-12T15:32:40.901Z"
   },
   {
    "duration": 12,
    "start_time": "2022-06-12T15:32:43.202Z"
   },
   {
    "duration": 5,
    "start_time": "2022-06-12T15:32:46.236Z"
   },
   {
    "duration": 3,
    "start_time": "2022-06-12T15:48:06.805Z"
   },
   {
    "duration": 990,
    "start_time": "2022-06-12T15:48:14.289Z"
   },
   {
    "duration": 710,
    "start_time": "2022-06-12T15:48:16.896Z"
   },
   {
    "duration": 8,
    "start_time": "2022-06-12T15:48:18.152Z"
   },
   {
    "duration": 3,
    "start_time": "2022-06-12T15:48:21.848Z"
   },
   {
    "duration": 14,
    "start_time": "2022-06-12T15:48:24.633Z"
   },
   {
    "duration": 12,
    "start_time": "2022-06-12T15:51:25.413Z"
   },
   {
    "duration": 5,
    "start_time": "2022-06-12T15:51:36.598Z"
   },
   {
    "duration": 85,
    "start_time": "2022-06-12T15:51:59.518Z"
   },
   {
    "duration": 70,
    "start_time": "2022-06-12T15:52:15.603Z"
   },
   {
    "duration": 4,
    "start_time": "2022-06-12T15:52:54.703Z"
   },
   {
    "duration": 741,
    "start_time": "2022-06-12T15:52:55.591Z"
   },
   {
    "duration": 3,
    "start_time": "2022-06-12T15:52:56.391Z"
   },
   {
    "duration": 4,
    "start_time": "2022-06-12T15:52:59.310Z"
   },
   {
    "duration": 14,
    "start_time": "2022-06-12T15:53:00.665Z"
   },
   {
    "duration": 7,
    "start_time": "2022-06-12T15:54:15.748Z"
   },
   {
    "duration": 38,
    "start_time": "2022-06-12T15:55:08.687Z"
   },
   {
    "duration": 31,
    "start_time": "2022-06-12T15:55:39.326Z"
   },
   {
    "duration": 45,
    "start_time": "2022-06-12T15:55:50.022Z"
   },
   {
    "duration": 38,
    "start_time": "2022-06-12T15:56:07.316Z"
   },
   {
    "duration": 99,
    "start_time": "2022-06-12T16:00:05.518Z"
   },
   {
    "duration": 6,
    "start_time": "2022-06-12T16:03:03.129Z"
   },
   {
    "duration": 2,
    "start_time": "2022-06-12T16:05:50.472Z"
   },
   {
    "duration": 7,
    "start_time": "2022-06-12T16:06:13.906Z"
   },
   {
    "duration": 302,
    "start_time": "2022-06-12T16:07:40.023Z"
   },
   {
    "duration": 85,
    "start_time": "2022-06-12T16:07:49.091Z"
   },
   {
    "duration": 19,
    "start_time": "2022-06-12T16:07:54.040Z"
   },
   {
    "duration": 93,
    "start_time": "2022-06-12T16:08:10.338Z"
   },
   {
    "duration": 3,
    "start_time": "2022-06-12T16:08:32.898Z"
   },
   {
    "duration": 42,
    "start_time": "2022-06-12T16:08:55.073Z"
   },
   {
    "duration": 94,
    "start_time": "2022-06-12T16:08:58.016Z"
   },
   {
    "duration": 94,
    "start_time": "2022-06-12T16:09:16.896Z"
   },
   {
    "duration": 77,
    "start_time": "2022-06-12T16:09:44.888Z"
   },
   {
    "duration": 102,
    "start_time": "2022-06-12T16:10:11.704Z"
   },
   {
    "duration": 73,
    "start_time": "2022-06-12T16:10:13.463Z"
   },
   {
    "duration": 968,
    "start_time": "2022-06-12T16:11:40.813Z"
   },
   {
    "duration": 739,
    "start_time": "2022-06-12T16:11:42.465Z"
   },
   {
    "duration": 8,
    "start_time": "2022-06-12T16:11:43.807Z"
   },
   {
    "duration": 4,
    "start_time": "2022-06-12T16:11:46.258Z"
   },
   {
    "duration": 14,
    "start_time": "2022-06-12T16:11:47.454Z"
   },
   {
    "duration": 7,
    "start_time": "2022-06-12T16:11:49.409Z"
   },
   {
    "duration": 38,
    "start_time": "2022-06-12T16:11:51.023Z"
   },
   {
    "duration": 5,
    "start_time": "2022-06-12T16:11:52.687Z"
   },
   {
    "duration": 103,
    "start_time": "2022-06-12T16:11:56.170Z"
   },
   {
    "duration": 3,
    "start_time": "2022-06-12T16:12:25.284Z"
   },
   {
    "duration": 88,
    "start_time": "2022-06-12T16:12:27.608Z"
   },
   {
    "duration": 19,
    "start_time": "2022-06-12T16:12:28.608Z"
   },
   {
    "duration": 91,
    "start_time": "2022-06-12T16:12:35.084Z"
   },
   {
    "duration": 183,
    "start_time": "2022-06-12T16:13:29.413Z"
   },
   {
    "duration": 77,
    "start_time": "2022-06-12T16:13:30.712Z"
   },
   {
    "duration": 26,
    "start_time": "2022-06-12T16:18:42.664Z"
   },
   {
    "duration": 81,
    "start_time": "2022-06-12T16:18:46.485Z"
   },
   {
    "duration": 5,
    "start_time": "2022-06-12T16:19:10.950Z"
   },
   {
    "duration": 3,
    "start_time": "2022-06-12T16:19:55.054Z"
   },
   {
    "duration": 745,
    "start_time": "2022-06-12T16:19:56.093Z"
   },
   {
    "duration": 4,
    "start_time": "2022-06-12T16:19:57.076Z"
   },
   {
    "duration": 3,
    "start_time": "2022-06-12T16:19:58.668Z"
   },
   {
    "duration": 13,
    "start_time": "2022-06-12T16:20:00.867Z"
   },
   {
    "duration": 7,
    "start_time": "2022-06-12T16:20:02.492Z"
   },
   {
    "duration": 31,
    "start_time": "2022-06-12T16:20:03.574Z"
   },
   {
    "duration": 100,
    "start_time": "2022-06-12T16:20:04.645Z"
   },
   {
    "duration": 2,
    "start_time": "2022-06-12T16:20:07.037Z"
   },
   {
    "duration": 200,
    "start_time": "2022-06-12T16:20:07.988Z"
   },
   {
    "duration": 5,
    "start_time": "2022-06-12T16:20:09.820Z"
   },
   {
    "duration": 27,
    "start_time": "2022-06-12T16:24:29.230Z"
   },
   {
    "duration": 17,
    "start_time": "2022-06-12T16:24:46.779Z"
   },
   {
    "duration": 7,
    "start_time": "2022-06-12T16:24:54.011Z"
   },
   {
    "duration": 3,
    "start_time": "2022-06-12T16:25:15.098Z"
   },
   {
    "duration": 717,
    "start_time": "2022-06-12T16:25:15.999Z"
   },
   {
    "duration": 5,
    "start_time": "2022-06-12T16:25:16.787Z"
   },
   {
    "duration": 3,
    "start_time": "2022-06-12T16:25:18.307Z"
   },
   {
    "duration": 12,
    "start_time": "2022-06-12T16:25:19.691Z"
   },
   {
    "duration": 5,
    "start_time": "2022-06-12T16:25:21.532Z"
   },
   {
    "duration": 26,
    "start_time": "2022-06-12T16:25:22.666Z"
   },
   {
    "duration": 95,
    "start_time": "2022-06-12T16:25:23.858Z"
   },
   {
    "duration": 3,
    "start_time": "2022-06-12T16:25:26.898Z"
   },
   {
    "duration": 200,
    "start_time": "2022-06-12T16:25:28.995Z"
   },
   {
    "duration": 27,
    "start_time": "2022-06-12T16:25:30.898Z"
   },
   {
    "duration": 29,
    "start_time": "2022-06-12T16:26:37.523Z"
   },
   {
    "duration": 70,
    "start_time": "2022-06-12T16:26:46.802Z"
   },
   {
    "duration": 27,
    "start_time": "2022-06-12T16:26:55.690Z"
   },
   {
    "duration": 67,
    "start_time": "2022-06-12T16:26:56.833Z"
   },
   {
    "duration": 90,
    "start_time": "2022-06-12T16:27:25.313Z"
   },
   {
    "duration": 2,
    "start_time": "2022-06-12T16:27:43.666Z"
   },
   {
    "duration": 31,
    "start_time": "2022-06-12T16:27:52.242Z"
   },
   {
    "duration": 60,
    "start_time": "2022-06-12T16:27:54.333Z"
   },
   {
    "duration": 44,
    "start_time": "2022-06-12T16:28:40.402Z"
   },
   {
    "duration": 3,
    "start_time": "2022-06-12T16:28:51.665Z"
   },
   {
    "duration": 5,
    "start_time": "2022-06-12T16:28:54.043Z"
   },
   {
    "duration": 3,
    "start_time": "2022-06-12T16:29:33.770Z"
   },
   {
    "duration": 679,
    "start_time": "2022-06-12T16:29:34.905Z"
   },
   {
    "duration": 4,
    "start_time": "2022-06-12T16:29:42.104Z"
   },
   {
    "duration": 3,
    "start_time": "2022-06-12T16:29:44.002Z"
   },
   {
    "duration": 12,
    "start_time": "2022-06-12T16:29:45.291Z"
   },
   {
    "duration": 5,
    "start_time": "2022-06-12T16:29:47.122Z"
   },
   {
    "duration": 26,
    "start_time": "2022-06-12T16:29:48.082Z"
   },
   {
    "duration": 98,
    "start_time": "2022-06-12T16:29:49.865Z"
   },
   {
    "duration": 3,
    "start_time": "2022-06-12T16:29:52.537Z"
   },
   {
    "duration": 200,
    "start_time": "2022-06-12T16:29:53.672Z"
   },
   {
    "duration": 33,
    "start_time": "2022-06-12T16:29:54.624Z"
   },
   {
    "duration": 58,
    "start_time": "2022-06-12T16:29:55.857Z"
   },
   {
    "duration": 96,
    "start_time": "2022-06-12T16:30:02.682Z"
   },
   {
    "duration": 86,
    "start_time": "2022-06-12T16:30:06.730Z"
   },
   {
    "duration": 407,
    "start_time": "2022-06-12T16:33:11.644Z"
   },
   {
    "duration": 268,
    "start_time": "2022-06-12T16:33:40.175Z"
   },
   {
    "duration": 33,
    "start_time": "2022-06-12T16:36:45.398Z"
   },
   {
    "duration": 16,
    "start_time": "2022-06-12T16:37:10.002Z"
   },
   {
    "duration": 25,
    "start_time": "2022-06-12T16:37:23.353Z"
   },
   {
    "duration": 16,
    "start_time": "2022-06-12T16:37:38.809Z"
   },
   {
    "duration": 15,
    "start_time": "2022-06-12T16:37:42.281Z"
   },
   {
    "duration": 35,
    "start_time": "2022-06-12T16:38:02.281Z"
   },
   {
    "duration": 20,
    "start_time": "2022-06-12T16:38:08.961Z"
   },
   {
    "duration": 13,
    "start_time": "2022-06-12T16:38:19.124Z"
   },
   {
    "duration": 258,
    "start_time": "2022-06-12T16:45:42.094Z"
   },
   {
    "duration": 14,
    "start_time": "2022-06-12T16:48:38.456Z"
   },
   {
    "duration": 433,
    "start_time": "2022-06-12T16:52:35.815Z"
   },
   {
    "duration": 438,
    "start_time": "2022-06-12T16:52:45.843Z"
   },
   {
    "duration": 10,
    "start_time": "2022-06-12T16:53:41.156Z"
   },
   {
    "duration": 47,
    "start_time": "2022-06-12T16:53:51.826Z"
   },
   {
    "duration": 35,
    "start_time": "2022-06-12T16:54:02.256Z"
   },
   {
    "duration": 332,
    "start_time": "2022-06-12T16:54:10.370Z"
   },
   {
    "duration": 25,
    "start_time": "2022-06-12T16:54:28.229Z"
   },
   {
    "duration": 24,
    "start_time": "2022-06-12T16:57:15.616Z"
   },
   {
    "duration": 21,
    "start_time": "2022-06-12T16:57:29.971Z"
   },
   {
    "duration": 23,
    "start_time": "2022-06-12T16:59:04.041Z"
   },
   {
    "duration": 23,
    "start_time": "2022-06-12T17:00:15.018Z"
   },
   {
    "duration": 25,
    "start_time": "2022-06-12T17:01:47.938Z"
   },
   {
    "duration": 20,
    "start_time": "2022-06-12T17:01:53.154Z"
   },
   {
    "duration": 266,
    "start_time": "2022-06-12T17:02:07.345Z"
   },
   {
    "duration": 33,
    "start_time": "2022-06-12T17:03:46.627Z"
   },
   {
    "duration": 22,
    "start_time": "2022-06-12T17:03:52.128Z"
   },
   {
    "duration": 229,
    "start_time": "2022-06-12T17:04:57.494Z"
   },
   {
    "duration": 69,
    "start_time": "2022-06-12T17:07:03.698Z"
   },
   {
    "duration": 32,
    "start_time": "2022-06-12T17:30:08.196Z"
   },
   {
    "duration": 24,
    "start_time": "2022-06-12T17:30:11.334Z"
   },
   {
    "duration": 92,
    "start_time": "2022-06-12T17:30:27.271Z"
   },
   {
    "duration": 58,
    "start_time": "2022-06-12T17:31:44.413Z"
   },
   {
    "duration": 53,
    "start_time": "2022-06-12T17:43:30.329Z"
   },
   {
    "duration": 9,
    "start_time": "2022-06-12T17:43:38.470Z"
   },
   {
    "duration": 9,
    "start_time": "2022-06-12T17:44:58.728Z"
   },
   {
    "duration": 3,
    "start_time": "2022-06-12T17:45:13.768Z"
   },
   {
    "duration": 9,
    "start_time": "2022-06-12T17:45:22.135Z"
   },
   {
    "duration": 13,
    "start_time": "2022-06-12T17:53:05.637Z"
   },
   {
    "duration": 12,
    "start_time": "2022-06-12T17:53:14.045Z"
   },
   {
    "duration": 9,
    "start_time": "2022-06-12T17:53:18.516Z"
   },
   {
    "duration": 16,
    "start_time": "2022-06-12T17:54:08.508Z"
   },
   {
    "duration": 10,
    "start_time": "2022-06-12T17:54:18.563Z"
   },
   {
    "duration": 16,
    "start_time": "2022-06-12T17:54:23.841Z"
   },
   {
    "duration": 10,
    "start_time": "2022-06-12T17:54:36.771Z"
   },
   {
    "duration": 12,
    "start_time": "2022-06-12T17:55:01.955Z"
   },
   {
    "duration": 409,
    "start_time": "2022-06-12T17:55:19.787Z"
   },
   {
    "duration": 377,
    "start_time": "2022-06-12T17:55:33.179Z"
   },
   {
    "duration": 468,
    "start_time": "2022-06-12T17:55:47.349Z"
   },
   {
    "duration": 297,
    "start_time": "2022-06-12T17:55:55.891Z"
   },
   {
    "duration": 431,
    "start_time": "2022-06-12T17:56:03.349Z"
   },
   {
    "duration": 427,
    "start_time": "2022-06-12T17:56:11.587Z"
   },
   {
    "duration": 434,
    "start_time": "2022-06-12T17:56:20.778Z"
   },
   {
    "duration": 23,
    "start_time": "2022-06-12T17:56:34.638Z"
   },
   {
    "duration": 9,
    "start_time": "2022-06-12T17:56:55.667Z"
   },
   {
    "duration": 26,
    "start_time": "2022-06-12T17:57:18.113Z"
   },
   {
    "duration": 3,
    "start_time": "2022-06-12T17:57:24.313Z"
   },
   {
    "duration": 19,
    "start_time": "2022-06-12T17:57:29.404Z"
   },
   {
    "duration": 15,
    "start_time": "2022-06-12T17:57:41.698Z"
   },
   {
    "duration": 13,
    "start_time": "2022-06-12T17:57:45.426Z"
   },
   {
    "duration": 1078,
    "start_time": "2022-06-12T17:58:05.758Z"
   },
   {
    "duration": 1144,
    "start_time": "2022-06-12T17:58:08.077Z"
   },
   {
    "duration": 10,
    "start_time": "2022-06-12T17:58:09.671Z"
   },
   {
    "duration": 9,
    "start_time": "2022-06-12T17:58:11.438Z"
   },
   {
    "duration": 19,
    "start_time": "2022-06-12T17:58:12.467Z"
   },
   {
    "duration": 5,
    "start_time": "2022-06-12T17:58:14.350Z"
   },
   {
    "duration": 48,
    "start_time": "2022-06-12T17:58:15.598Z"
   },
   {
    "duration": 141,
    "start_time": "2022-06-12T17:58:17.239Z"
   },
   {
    "duration": 3,
    "start_time": "2022-06-12T17:58:19.493Z"
   },
   {
    "duration": 302,
    "start_time": "2022-06-12T17:58:21.677Z"
   },
   {
    "duration": 36,
    "start_time": "2022-06-12T17:58:23.636Z"
   },
   {
    "duration": 74,
    "start_time": "2022-06-12T17:58:24.461Z"
   },
   {
    "duration": 107,
    "start_time": "2022-06-12T17:58:26.663Z"
   },
   {
    "duration": 494,
    "start_time": "2022-06-12T17:58:38.582Z"
   },
   {
    "duration": 16,
    "start_time": "2022-06-12T17:58:41.285Z"
   },
   {
    "duration": 274,
    "start_time": "2022-06-12T17:58:44.165Z"
   },
   {
    "duration": 303,
    "start_time": "2022-06-12T17:59:02.978Z"
   },
   {
    "duration": 76,
    "start_time": "2022-06-12T17:59:06.413Z"
   },
   {
    "duration": 35,
    "start_time": "2022-06-12T17:59:10.039Z"
   },
   {
    "duration": 96,
    "start_time": "2022-06-12T17:59:12.174Z"
   },
   {
    "duration": 103,
    "start_time": "2022-06-12T17:59:21.303Z"
   },
   {
    "duration": 3,
    "start_time": "2022-06-12T17:59:30.055Z"
   },
   {
    "duration": 699,
    "start_time": "2022-06-12T17:59:30.869Z"
   },
   {
    "duration": 4,
    "start_time": "2022-06-12T17:59:31.804Z"
   },
   {
    "duration": 4,
    "start_time": "2022-06-12T17:59:33.325Z"
   },
   {
    "duration": 14,
    "start_time": "2022-06-12T17:59:34.941Z"
   },
   {
    "duration": 7,
    "start_time": "2022-06-12T17:59:36.725Z"
   },
   {
    "duration": 32,
    "start_time": "2022-06-12T17:59:38.245Z"
   },
   {
    "duration": 97,
    "start_time": "2022-06-12T17:59:39.141Z"
   },
   {
    "duration": 3,
    "start_time": "2022-06-12T17:59:41.125Z"
   },
   {
    "duration": 243,
    "start_time": "2022-06-12T17:59:42.325Z"
   },
   {
    "duration": 36,
    "start_time": "2022-06-12T17:59:43.150Z"
   },
   {
    "duration": 68,
    "start_time": "2022-06-12T17:59:44.565Z"
   },
   {
    "duration": 102,
    "start_time": "2022-06-12T17:59:45.861Z"
   },
   {
    "duration": 266,
    "start_time": "2022-06-12T17:59:47.397Z"
   },
   {
    "duration": 16,
    "start_time": "2022-06-12T17:59:48.997Z"
   },
   {
    "duration": 272,
    "start_time": "2022-06-12T17:59:50.765Z"
   },
   {
    "duration": 38,
    "start_time": "2022-06-12T17:59:55.197Z"
   },
   {
    "duration": 268,
    "start_time": "2022-06-12T17:59:56.245Z"
   },
   {
    "duration": 262,
    "start_time": "2022-06-12T17:59:58.807Z"
   },
   {
    "duration": 74,
    "start_time": "2022-06-12T18:00:00.973Z"
   },
   {
    "duration": 44,
    "start_time": "2022-06-12T18:00:02.789Z"
   },
   {
    "duration": 30,
    "start_time": "2022-06-12T18:00:06.220Z"
   },
   {
    "duration": 12,
    "start_time": "2022-06-12T18:00:42.693Z"
   },
   {
    "duration": 450,
    "start_time": "2022-06-12T18:00:55.438Z"
   },
   {
    "duration": 480,
    "start_time": "2022-06-12T18:01:03.213Z"
   },
   {
    "duration": 30,
    "start_time": "2022-06-12T18:04:18.157Z"
   },
   {
    "duration": 29,
    "start_time": "2022-06-12T18:04:27.851Z"
   },
   {
    "duration": 31343,
    "start_time": "2022-06-12T18:04:31.300Z"
   },
   {
    "duration": 12,
    "start_time": "2022-06-12T18:08:52.876Z"
   },
   {
    "duration": 13,
    "start_time": "2022-06-12T18:09:35.273Z"
   },
   {
    "duration": 11,
    "start_time": "2022-06-12T18:09:59.706Z"
   },
   {
    "duration": 16,
    "start_time": "2022-06-12T18:10:24.947Z"
   },
   {
    "duration": 12,
    "start_time": "2022-06-12T18:10:31.961Z"
   },
   {
    "duration": 17656,
    "start_time": "2022-06-12T18:20:29.555Z"
   },
   {
    "duration": 48,
    "start_time": "2022-06-12T18:20:55.279Z"
   },
   {
    "duration": 23,
    "start_time": "2022-06-12T18:21:05.885Z"
   },
   {
    "duration": 7,
    "start_time": "2022-06-12T18:21:16.633Z"
   },
   {
    "duration": 6,
    "start_time": "2022-06-12T18:21:47.526Z"
   },
   {
    "duration": 14,
    "start_time": "2022-06-12T18:25:50.540Z"
   },
   {
    "duration": 4,
    "start_time": "2022-06-12T18:26:24.870Z"
   },
   {
    "duration": 9,
    "start_time": "2022-06-12T18:26:35.620Z"
   },
   {
    "duration": 12,
    "start_time": "2022-06-12T18:26:44.219Z"
   },
   {
    "duration": 22,
    "start_time": "2022-06-12T18:29:37.159Z"
   },
   {
    "duration": 41,
    "start_time": "2022-06-12T18:35:11.963Z"
   },
   {
    "duration": 23,
    "start_time": "2022-06-12T18:35:13.602Z"
   },
   {
    "duration": 37,
    "start_time": "2022-06-12T18:35:23.664Z"
   },
   {
    "duration": 40,
    "start_time": "2022-06-12T18:35:25.064Z"
   },
   {
    "duration": 23,
    "start_time": "2022-06-12T18:35:26.864Z"
   },
   {
    "duration": 26,
    "start_time": "2022-06-12T18:35:54.336Z"
   },
   {
    "duration": 23,
    "start_time": "2022-06-12T18:35:55.850Z"
   },
   {
    "duration": 12,
    "start_time": "2022-06-12T18:38:26.989Z"
   },
   {
    "duration": 66,
    "start_time": "2022-06-12T18:38:45.088Z"
   },
   {
    "duration": 84,
    "start_time": "2022-06-12T18:38:56.152Z"
   },
   {
    "duration": 1013,
    "start_time": "2022-06-12T18:39:11.395Z"
   },
   {
    "duration": 813,
    "start_time": "2022-06-12T18:39:13.267Z"
   },
   {
    "duration": 8,
    "start_time": "2022-06-12T18:39:14.283Z"
   },
   {
    "duration": 4,
    "start_time": "2022-06-12T18:39:16.150Z"
   },
   {
    "duration": 15,
    "start_time": "2022-06-12T18:39:16.918Z"
   },
   {
    "duration": 6,
    "start_time": "2022-06-12T18:39:19.011Z"
   },
   {
    "duration": 42,
    "start_time": "2022-06-12T18:39:20.178Z"
   },
   {
    "duration": 109,
    "start_time": "2022-06-12T18:39:21.587Z"
   },
   {
    "duration": 2,
    "start_time": "2022-06-12T18:39:23.467Z"
   },
   {
    "duration": 280,
    "start_time": "2022-06-12T18:39:24.931Z"
   },
   {
    "duration": 34,
    "start_time": "2022-06-12T18:39:26.122Z"
   },
   {
    "duration": 61,
    "start_time": "2022-06-12T18:39:27.044Z"
   },
   {
    "duration": 110,
    "start_time": "2022-06-12T18:39:28.795Z"
   },
   {
    "duration": 501,
    "start_time": "2022-06-12T18:39:30.282Z"
   },
   {
    "duration": 21,
    "start_time": "2022-06-12T18:39:32.123Z"
   },
   {
    "duration": 250,
    "start_time": "2022-06-12T18:39:35.178Z"
   },
   {
    "duration": 32,
    "start_time": "2022-06-12T18:39:37.337Z"
   },
   {
    "duration": 338,
    "start_time": "2022-06-12T18:39:38.746Z"
   },
   {
    "duration": 348,
    "start_time": "2022-06-12T18:39:42.555Z"
   },
   {
    "duration": 66,
    "start_time": "2022-06-12T18:39:44.210Z"
   },
   {
    "duration": 31,
    "start_time": "2022-06-12T18:39:46.267Z"
   },
   {
    "duration": 24,
    "start_time": "2022-06-12T18:39:48.019Z"
   },
   {
    "duration": 86,
    "start_time": "2022-06-12T18:39:50.019Z"
   },
   {
    "duration": 51,
    "start_time": "2022-06-12T18:39:52.282Z"
   },
   {
    "duration": 24,
    "start_time": "2022-06-12T18:40:30.890Z"
   },
   {
    "duration": 17800,
    "start_time": "2022-06-12T18:40:32.723Z"
   },
   {
    "duration": 113,
    "start_time": "2022-06-12T18:40:55.884Z"
   },
   {
    "duration": 4,
    "start_time": "2022-06-12T18:42:28.537Z"
   },
   {
    "duration": 30,
    "start_time": "2022-06-12T18:42:33.769Z"
   },
   {
    "duration": 33,
    "start_time": "2022-06-12T18:43:09.851Z"
   },
   {
    "duration": 40,
    "start_time": "2022-06-12T18:43:46.163Z"
   },
   {
    "duration": 39,
    "start_time": "2022-06-12T18:44:24.649Z"
   },
   {
    "duration": 42,
    "start_time": "2022-06-12T18:44:47.481Z"
   },
   {
    "duration": 1160,
    "start_time": "2022-06-13T17:51:06.900Z"
   },
   {
    "duration": 1250,
    "start_time": "2022-06-13T17:51:08.067Z"
   },
   {
    "duration": 9,
    "start_time": "2022-06-13T17:51:09.319Z"
   },
   {
    "duration": 16,
    "start_time": "2022-06-13T17:51:09.330Z"
   },
   {
    "duration": 40,
    "start_time": "2022-06-13T17:51:09.348Z"
   },
   {
    "duration": 15,
    "start_time": "2022-06-13T17:51:09.390Z"
   },
   {
    "duration": 45,
    "start_time": "2022-06-13T17:51:09.407Z"
   },
   {
    "duration": 181,
    "start_time": "2022-06-13T17:51:09.454Z"
   },
   {
    "duration": 3,
    "start_time": "2022-06-13T17:51:09.637Z"
   },
   {
    "duration": 326,
    "start_time": "2022-06-13T17:51:09.643Z"
   },
   {
    "duration": 40,
    "start_time": "2022-06-13T17:51:09.971Z"
   },
   {
    "duration": 98,
    "start_time": "2022-06-13T17:51:10.013Z"
   },
   {
    "duration": 127,
    "start_time": "2022-06-13T17:51:10.113Z"
   },
   {
    "duration": 778,
    "start_time": "2022-06-13T17:51:10.242Z"
   },
   {
    "duration": 19,
    "start_time": "2022-06-13T17:51:11.022Z"
   },
   {
    "duration": 281,
    "start_time": "2022-06-13T17:51:11.060Z"
   },
   {
    "duration": 53,
    "start_time": "2022-06-13T17:51:11.343Z"
   },
   {
    "duration": 546,
    "start_time": "2022-06-13T17:51:11.398Z"
   },
   {
    "duration": 337,
    "start_time": "2022-06-13T17:51:11.949Z"
   },
   {
    "duration": 138,
    "start_time": "2022-06-13T17:51:12.288Z"
   },
   {
    "duration": 59,
    "start_time": "2022-06-13T17:51:12.429Z"
   },
   {
    "duration": 45,
    "start_time": "2022-06-13T17:51:12.490Z"
   },
   {
    "duration": 135,
    "start_time": "2022-06-13T17:51:12.537Z"
   },
   {
    "duration": 104,
    "start_time": "2022-06-13T17:51:12.676Z"
   },
   {
    "duration": 29,
    "start_time": "2022-06-13T17:51:12.782Z"
   },
   {
    "duration": 21120,
    "start_time": "2022-06-13T17:51:12.812Z"
   },
   {
    "duration": 3,
    "start_time": "2022-06-13T17:51:33.934Z"
   },
   {
    "duration": 87,
    "start_time": "2022-06-13T17:51:33.942Z"
   },
   {
    "duration": 49,
    "start_time": "2022-06-13T17:51:34.031Z"
   },
   {
    "duration": 28,
    "start_time": "2022-06-13T17:51:34.082Z"
   },
   {
    "duration": 20,
    "start_time": "2022-06-13T17:51:34.112Z"
   },
   {
    "duration": 52,
    "start_time": "2022-06-13T17:51:34.134Z"
   },
   {
    "duration": 33,
    "start_time": "2022-06-13T17:51:34.188Z"
   },
   {
    "duration": 312,
    "start_time": "2022-06-13T17:51:34.224Z"
   },
   {
    "duration": 285,
    "start_time": "2022-06-13T17:51:34.537Z"
   },
   {
    "duration": 75,
    "start_time": "2022-06-13T17:51:34.824Z"
   },
   {
    "duration": 304,
    "start_time": "2022-06-13T17:51:34.902Z"
   },
   {
    "duration": 96,
    "start_time": "2022-06-13T17:51:35.208Z"
   },
   {
    "duration": 5,
    "start_time": "2022-06-13T17:51:35.306Z"
   },
   {
    "duration": 84,
    "start_time": "2022-06-13T17:51:35.312Z"
   },
   {
    "duration": 3,
    "start_time": "2022-06-13T17:51:35.398Z"
   },
   {
    "duration": 397,
    "start_time": "2022-06-13T17:51:35.403Z"
   },
   {
    "duration": 0,
    "start_time": "2022-06-13T17:51:35.802Z"
   },
   {
    "duration": 0,
    "start_time": "2022-06-13T17:51:35.808Z"
   },
   {
    "duration": 0,
    "start_time": "2022-06-13T17:51:35.812Z"
   },
   {
    "duration": 0,
    "start_time": "2022-06-13T17:51:35.813Z"
   },
   {
    "duration": 0,
    "start_time": "2022-06-13T17:51:35.814Z"
   },
   {
    "duration": 0,
    "start_time": "2022-06-13T17:51:35.816Z"
   },
   {
    "duration": 0,
    "start_time": "2022-06-13T17:51:35.817Z"
   },
   {
    "duration": 0,
    "start_time": "2022-06-13T17:51:35.818Z"
   },
   {
    "duration": 0,
    "start_time": "2022-06-13T17:51:35.819Z"
   },
   {
    "duration": 0,
    "start_time": "2022-06-13T17:51:35.821Z"
   },
   {
    "duration": 0,
    "start_time": "2022-06-13T17:51:35.822Z"
   },
   {
    "duration": 0,
    "start_time": "2022-06-13T17:51:35.823Z"
   },
   {
    "duration": 0,
    "start_time": "2022-06-13T17:51:35.824Z"
   },
   {
    "duration": 1212,
    "start_time": "2022-06-13T17:52:06.939Z"
   },
   {
    "duration": 908,
    "start_time": "2022-06-13T17:52:08.153Z"
   },
   {
    "duration": 20,
    "start_time": "2022-06-13T17:52:09.063Z"
   },
   {
    "duration": 9,
    "start_time": "2022-06-13T17:52:09.093Z"
   },
   {
    "duration": 23,
    "start_time": "2022-06-13T17:52:09.103Z"
   },
   {
    "duration": 7,
    "start_time": "2022-06-13T17:52:09.128Z"
   },
   {
    "duration": 56,
    "start_time": "2022-06-13T17:52:09.137Z"
   },
   {
    "duration": 192,
    "start_time": "2022-06-13T17:52:09.195Z"
   },
   {
    "duration": 5,
    "start_time": "2022-06-13T17:52:09.389Z"
   },
   {
    "duration": 393,
    "start_time": "2022-06-13T17:52:09.397Z"
   },
   {
    "duration": 52,
    "start_time": "2022-06-13T17:52:09.792Z"
   },
   {
    "duration": 124,
    "start_time": "2022-06-13T17:52:09.858Z"
   },
   {
    "duration": 117,
    "start_time": "2022-06-13T17:52:09.983Z"
   },
   {
    "duration": 619,
    "start_time": "2022-06-13T17:52:10.102Z"
   },
   {
    "duration": 18,
    "start_time": "2022-06-13T17:52:10.722Z"
   },
   {
    "duration": 349,
    "start_time": "2022-06-13T17:52:10.741Z"
   },
   {
    "duration": 36,
    "start_time": "2022-06-13T17:52:11.092Z"
   },
   {
    "duration": 318,
    "start_time": "2022-06-13T17:52:11.131Z"
   },
   {
    "duration": 376,
    "start_time": "2022-06-13T17:52:11.451Z"
   },
   {
    "duration": 139,
    "start_time": "2022-06-13T17:52:11.829Z"
   },
   {
    "duration": 41,
    "start_time": "2022-06-13T17:52:11.969Z"
   },
   {
    "duration": 53,
    "start_time": "2022-06-13T17:52:12.012Z"
   },
   {
    "duration": 110,
    "start_time": "2022-06-13T17:52:12.071Z"
   },
   {
    "duration": 93,
    "start_time": "2022-06-13T17:52:12.184Z"
   },
   {
    "duration": 32,
    "start_time": "2022-06-13T17:52:12.279Z"
   },
   {
    "duration": 20230,
    "start_time": "2022-06-13T17:52:12.313Z"
   },
   {
    "duration": 3,
    "start_time": "2022-06-13T17:52:32.545Z"
   },
   {
    "duration": 90,
    "start_time": "2022-06-13T17:52:32.561Z"
   },
   {
    "duration": 40,
    "start_time": "2022-06-13T17:52:32.653Z"
   },
   {
    "duration": 17,
    "start_time": "2022-06-13T17:52:32.696Z"
   },
   {
    "duration": 51,
    "start_time": "2022-06-13T17:52:32.715Z"
   },
   {
    "duration": 38,
    "start_time": "2022-06-13T17:52:32.768Z"
   },
   {
    "duration": 31,
    "start_time": "2022-06-13T17:52:32.808Z"
   },
   {
    "duration": 340,
    "start_time": "2022-06-13T17:52:32.841Z"
   },
   {
    "duration": 301,
    "start_time": "2022-06-13T17:52:33.182Z"
   },
   {
    "duration": 87,
    "start_time": "2022-06-13T17:52:33.485Z"
   },
   {
    "duration": 351,
    "start_time": "2022-06-13T17:52:33.574Z"
   },
   {
    "duration": 87,
    "start_time": "2022-06-13T17:52:33.927Z"
   },
   {
    "duration": 4,
    "start_time": "2022-06-13T17:52:34.016Z"
   },
   {
    "duration": 95,
    "start_time": "2022-06-13T17:52:34.021Z"
   },
   {
    "duration": 4,
    "start_time": "2022-06-13T17:52:34.118Z"
   },
   {
    "duration": 226,
    "start_time": "2022-06-13T17:52:34.124Z"
   },
   {
    "duration": 77,
    "start_time": "2022-06-13T17:52:34.351Z"
   },
   {
    "duration": 3,
    "start_time": "2022-06-13T17:52:34.430Z"
   },
   {
    "duration": 1134,
    "start_time": "2022-06-13T18:00:31.285Z"
   },
   {
    "duration": 965,
    "start_time": "2022-06-13T18:00:32.421Z"
   },
   {
    "duration": 9,
    "start_time": "2022-06-13T18:00:33.391Z"
   },
   {
    "duration": 8,
    "start_time": "2022-06-13T18:00:33.402Z"
   },
   {
    "duration": 20,
    "start_time": "2022-06-13T18:00:33.412Z"
   },
   {
    "duration": 9,
    "start_time": "2022-06-13T18:00:33.434Z"
   },
   {
    "duration": 56,
    "start_time": "2022-06-13T18:00:33.461Z"
   },
   {
    "duration": 202,
    "start_time": "2022-06-13T18:00:33.520Z"
   },
   {
    "duration": 6,
    "start_time": "2022-06-13T18:00:33.723Z"
   },
   {
    "duration": 338,
    "start_time": "2022-06-13T18:00:33.730Z"
   },
   {
    "duration": 47,
    "start_time": "2022-06-13T18:00:34.070Z"
   },
   {
    "duration": 106,
    "start_time": "2022-06-13T18:00:34.119Z"
   },
   {
    "duration": 138,
    "start_time": "2022-06-13T18:00:34.227Z"
   },
   {
    "duration": 598,
    "start_time": "2022-06-13T18:00:34.368Z"
   },
   {
    "duration": 42,
    "start_time": "2022-06-13T18:00:34.976Z"
   },
   {
    "duration": 303,
    "start_time": "2022-06-13T18:00:35.019Z"
   },
   {
    "duration": 62,
    "start_time": "2022-06-13T18:00:35.324Z"
   },
   {
    "duration": 312,
    "start_time": "2022-06-13T18:00:35.390Z"
   },
   {
    "duration": 400,
    "start_time": "2022-06-13T18:00:35.703Z"
   },
   {
    "duration": 105,
    "start_time": "2022-06-13T18:00:36.105Z"
   },
   {
    "duration": 32,
    "start_time": "2022-06-13T18:00:36.211Z"
   },
   {
    "duration": 34,
    "start_time": "2022-06-13T18:00:36.260Z"
   },
   {
    "duration": 120,
    "start_time": "2022-06-13T18:00:36.296Z"
   },
   {
    "duration": 88,
    "start_time": "2022-06-13T18:00:36.418Z"
   },
   {
    "duration": 13,
    "start_time": "2022-06-13T18:00:36.508Z"
   },
   {
    "duration": 21308,
    "start_time": "2022-06-13T18:00:36.523Z"
   },
   {
    "duration": 3,
    "start_time": "2022-06-13T18:00:57.833Z"
   },
   {
    "duration": 103,
    "start_time": "2022-06-13T18:00:57.837Z"
   },
   {
    "duration": 43,
    "start_time": "2022-06-13T18:00:57.942Z"
   },
   {
    "duration": 19,
    "start_time": "2022-06-13T18:00:57.987Z"
   },
   {
    "duration": 19,
    "start_time": "2022-06-13T18:00:58.008Z"
   },
   {
    "duration": 66,
    "start_time": "2022-06-13T18:00:58.029Z"
   },
   {
    "duration": 18,
    "start_time": "2022-06-13T18:00:58.099Z"
   },
   {
    "duration": 270,
    "start_time": "2022-06-13T18:00:58.119Z"
   },
   {
    "duration": 330,
    "start_time": "2022-06-13T18:00:58.391Z"
   },
   {
    "duration": 89,
    "start_time": "2022-06-13T18:00:58.723Z"
   },
   {
    "duration": 330,
    "start_time": "2022-06-13T18:00:58.813Z"
   },
   {
    "duration": 86,
    "start_time": "2022-06-13T18:00:59.145Z"
   },
   {
    "duration": 4,
    "start_time": "2022-06-13T18:00:59.233Z"
   },
   {
    "duration": 94,
    "start_time": "2022-06-13T18:00:59.239Z"
   },
   {
    "duration": 4,
    "start_time": "2022-06-13T18:00:59.336Z"
   },
   {
    "duration": 292,
    "start_time": "2022-06-13T18:00:59.342Z"
   },
   {
    "duration": 99,
    "start_time": "2022-06-13T18:00:59.635Z"
   },
   {
    "duration": 3,
    "start_time": "2022-06-13T18:00:59.736Z"
   },
   {
    "duration": 952370,
    "start_time": "2022-06-13T18:00:59.741Z"
   },
   {
    "duration": 10,
    "start_time": "2022-06-13T18:16:52.113Z"
   },
   {
    "duration": 14,
    "start_time": "2022-06-13T18:16:52.125Z"
   },
   {
    "duration": 4,
    "start_time": "2022-06-13T18:16:52.141Z"
   },
   {
    "duration": 8,
    "start_time": "2022-06-13T18:16:52.146Z"
   },
   {
    "duration": 12,
    "start_time": "2022-06-13T18:16:52.155Z"
   },
   {
    "duration": 15,
    "start_time": "2022-06-13T18:16:52.170Z"
   },
   {
    "duration": 218514,
    "start_time": "2022-06-13T18:16:52.187Z"
   },
   {
    "duration": 821,
    "start_time": "2022-06-13T18:20:30.703Z"
   },
   {
    "duration": 12,
    "start_time": "2022-06-13T18:20:31.526Z"
   },
   {
    "duration": 21,
    "start_time": "2022-06-13T18:20:31.540Z"
   },
   {
    "duration": 4,
    "start_time": "2022-06-13T18:26:25.533Z"
   },
   {
    "duration": 4,
    "start_time": "2022-06-13T18:26:46.392Z"
   },
   {
    "duration": 4,
    "start_time": "2022-06-13T18:26:52.943Z"
   },
   {
    "duration": 9,
    "start_time": "2022-06-13T18:29:41.616Z"
   },
   {
    "duration": 5,
    "start_time": "2022-06-13T18:33:03.533Z"
   },
   {
    "duration": 122,
    "start_time": "2022-06-13T18:33:20.263Z"
   },
   {
    "duration": 115,
    "start_time": "2022-06-13T18:33:40.605Z"
   },
   {
    "duration": 6,
    "start_time": "2022-06-13T18:33:47.013Z"
   },
   {
    "duration": 123,
    "start_time": "2022-06-13T18:33:48.103Z"
   },
   {
    "duration": 26,
    "start_time": "2022-06-13T18:34:56.175Z"
   },
   {
    "duration": 540,
    "start_time": "2022-06-13T18:46:17.279Z"
   },
   {
    "duration": 493,
    "start_time": "2022-06-13T18:46:34.205Z"
   },
   {
    "duration": 454,
    "start_time": "2022-06-13T18:46:45.378Z"
   },
   {
    "duration": 32,
    "start_time": "2022-06-13T18:46:53.978Z"
   },
   {
    "duration": 5,
    "start_time": "2022-06-13T18:47:15.733Z"
   },
   {
    "duration": 63944,
    "start_time": "2022-06-13T18:47:24.252Z"
   },
   {
    "duration": 47634,
    "start_time": "2022-06-13T18:49:30.435Z"
   },
   {
    "duration": 51549,
    "start_time": "2022-06-13T18:55:50.112Z"
   },
   {
    "duration": 1034,
    "start_time": "2022-06-14T09:34:55.368Z"
   },
   {
    "duration": 1100,
    "start_time": "2022-06-14T09:34:57.808Z"
   },
   {
    "duration": 13,
    "start_time": "2022-06-14T09:35:01.275Z"
   },
   {
    "duration": 5,
    "start_time": "2022-06-14T09:35:06.252Z"
   },
   {
    "duration": 14,
    "start_time": "2022-06-14T09:35:07.165Z"
   },
   {
    "duration": 7,
    "start_time": "2022-06-14T09:35:09.012Z"
   },
   {
    "duration": 38,
    "start_time": "2022-06-14T09:35:10.166Z"
   },
   {
    "duration": 199,
    "start_time": "2022-06-14T09:35:11.199Z"
   },
   {
    "duration": 3,
    "start_time": "2022-06-14T09:35:14.542Z"
   },
   {
    "duration": 296,
    "start_time": "2022-06-14T09:35:15.948Z"
   },
   {
    "duration": 40,
    "start_time": "2022-06-14T09:35:17.038Z"
   },
   {
    "duration": 118,
    "start_time": "2022-06-14T09:35:18.044Z"
   },
   {
    "duration": 117,
    "start_time": "2022-06-14T09:35:21.228Z"
   },
   {
    "duration": 51,
    "start_time": "2022-06-14T09:38:21.941Z"
   },
   {
    "duration": 666,
    "start_time": "2022-06-14T09:38:23.837Z"
   },
   {
    "duration": 44,
    "start_time": "2022-06-14T09:46:01.097Z"
   },
   {
    "duration": 24,
    "start_time": "2022-06-14T09:46:02.397Z"
   },
   {
    "duration": 107,
    "start_time": "2022-06-14T09:46:46.936Z"
   },
   {
    "duration": 8,
    "start_time": "2022-06-14T11:13:56.290Z"
   },
   {
    "duration": 145,
    "start_time": "2022-06-14T11:14:05.985Z"
   },
   {
    "duration": 152,
    "start_time": "2022-06-14T11:14:22.201Z"
   },
   {
    "duration": 9,
    "start_time": "2022-06-14T11:14:35.271Z"
   },
   {
    "duration": 132,
    "start_time": "2022-06-14T11:14:42.666Z"
   },
   {
    "duration": 24,
    "start_time": "2022-06-14T11:14:48.567Z"
   },
   {
    "duration": 7,
    "start_time": "2022-06-14T11:14:50.088Z"
   },
   {
    "duration": 6,
    "start_time": "2022-06-14T11:16:09.668Z"
   },
   {
    "duration": 6,
    "start_time": "2022-06-14T11:31:57.780Z"
   },
   {
    "duration": 25,
    "start_time": "2022-06-14T11:41:04.036Z"
   },
   {
    "duration": 564,
    "start_time": "2022-06-14T11:41:19.763Z"
   },
   {
    "duration": 359,
    "start_time": "2022-06-14T11:42:48.660Z"
   },
   {
    "duration": 8,
    "start_time": "2022-06-14T11:43:18.352Z"
   },
   {
    "duration": 31,
    "start_time": "2022-06-14T11:43:33.868Z"
   },
   {
    "duration": 19247,
    "start_time": "2022-06-14T11:43:39.709Z"
   },
   {
    "duration": 6,
    "start_time": "2022-06-14T11:44:15.448Z"
   },
   {
    "duration": 25215,
    "start_time": "2022-06-14T11:44:17.547Z"
   },
   {
    "duration": 2295,
    "start_time": "2022-06-14T11:44:59.940Z"
   },
   {
    "duration": 2545,
    "start_time": "2022-06-14T11:45:03.930Z"
   },
   {
    "duration": 4103,
    "start_time": "2022-06-14T11:45:10.963Z"
   },
   {
    "duration": 5,
    "start_time": "2022-06-14T11:45:24.539Z"
   },
   {
    "duration": 29,
    "start_time": "2022-06-14T11:45:38.420Z"
   },
   {
    "duration": 4174,
    "start_time": "2022-06-14T11:46:03.395Z"
   },
   {
    "duration": 4068,
    "start_time": "2022-06-14T12:07:03.764Z"
   },
   {
    "duration": 0,
    "start_time": "2022-06-14T12:14:29.559Z"
   },
   {
    "duration": 0,
    "start_time": "2022-06-14T12:14:29.560Z"
   },
   {
    "duration": 0,
    "start_time": "2022-06-14T12:14:29.561Z"
   },
   {
    "duration": 23,
    "start_time": "2022-06-14T12:14:37.066Z"
   },
   {
    "duration": 84,
    "start_time": "2022-06-14T12:14:54.610Z"
   },
   {
    "duration": 58,
    "start_time": "2022-06-14T12:15:24.123Z"
   },
   {
    "duration": 31,
    "start_time": "2022-06-14T12:15:53.786Z"
   },
   {
    "duration": 24,
    "start_time": "2022-06-14T12:16:03.209Z"
   },
   {
    "duration": 27,
    "start_time": "2022-06-14T12:16:20.290Z"
   },
   {
    "duration": 20,
    "start_time": "2022-06-14T12:16:30.580Z"
   },
   {
    "duration": 66,
    "start_time": "2022-06-14T12:16:42.650Z"
   },
   {
    "duration": 26,
    "start_time": "2022-06-14T12:19:33.761Z"
   },
   {
    "duration": 22,
    "start_time": "2022-06-14T12:19:47.401Z"
   },
   {
    "duration": 45,
    "start_time": "2022-06-14T12:19:57.618Z"
   },
   {
    "duration": 41,
    "start_time": "2022-06-14T12:20:25.252Z"
   },
   {
    "duration": 28,
    "start_time": "2022-06-14T12:20:40.463Z"
   },
   {
    "duration": 4514,
    "start_time": "2022-06-14T12:20:56.020Z"
   },
   {
    "duration": 0,
    "start_time": "2022-06-14T12:22:05.327Z"
   },
   {
    "duration": 7386,
    "start_time": "2022-06-14T12:22:24.098Z"
   },
   {
    "duration": 0,
    "start_time": "2022-06-14T12:25:39.925Z"
   },
   {
    "duration": 4,
    "start_time": "2022-06-14T12:25:50.153Z"
   },
   {
    "duration": 188,
    "start_time": "2022-06-14T12:25:54.653Z"
   },
   {
    "duration": 212,
    "start_time": "2022-06-14T12:26:56.722Z"
   },
   {
    "duration": 34,
    "start_time": "2022-06-14T12:27:11.227Z"
   },
   {
    "duration": 27,
    "start_time": "2022-06-14T12:27:28.016Z"
   },
   {
    "duration": 202,
    "start_time": "2022-06-14T12:28:36.947Z"
   },
   {
    "duration": 1161,
    "start_time": "2022-06-15T12:05:42.749Z"
   },
   {
    "duration": 1352,
    "start_time": "2022-06-15T12:05:44.226Z"
   },
   {
    "duration": 8,
    "start_time": "2022-06-15T12:05:46.978Z"
   },
   {
    "duration": 3,
    "start_time": "2022-06-15T12:05:48.347Z"
   },
   {
    "duration": 18,
    "start_time": "2022-06-15T12:05:49.220Z"
   },
   {
    "duration": 8,
    "start_time": "2022-06-15T12:05:59.229Z"
   },
   {
    "duration": 3,
    "start_time": "2022-06-15T12:08:23.246Z"
   },
   {
    "duration": 930,
    "start_time": "2022-06-15T12:08:24.386Z"
   },
   {
    "duration": 5,
    "start_time": "2022-06-15T12:08:26.644Z"
   },
   {
    "duration": 4,
    "start_time": "2022-06-15T12:08:28.762Z"
   },
   {
    "duration": 19,
    "start_time": "2022-06-15T12:08:29.594Z"
   },
   {
    "duration": 185,
    "start_time": "2022-06-15T12:08:31.194Z"
   },
   {
    "duration": 17,
    "start_time": "2022-06-15T12:08:33.194Z"
   },
   {
    "duration": 1172,
    "start_time": "2022-06-15T12:16:28.619Z"
   },
   {
    "duration": 1031,
    "start_time": "2022-06-15T12:16:29.793Z"
   },
   {
    "duration": 9,
    "start_time": "2022-06-15T12:16:30.826Z"
   },
   {
    "duration": 9,
    "start_time": "2022-06-15T12:16:30.838Z"
   },
   {
    "duration": 35,
    "start_time": "2022-06-15T12:16:30.849Z"
   },
   {
    "duration": 110,
    "start_time": "2022-06-15T12:16:30.886Z"
   },
   {
    "duration": 0,
    "start_time": "2022-06-15T12:16:31.005Z"
   },
   {
    "duration": 0,
    "start_time": "2022-06-15T12:16:31.006Z"
   },
   {
    "duration": 0,
    "start_time": "2022-06-15T12:16:31.009Z"
   },
   {
    "duration": 0,
    "start_time": "2022-06-15T12:16:31.010Z"
   },
   {
    "duration": 0,
    "start_time": "2022-06-15T12:16:31.011Z"
   },
   {
    "duration": 0,
    "start_time": "2022-06-15T12:16:31.012Z"
   },
   {
    "duration": 0,
    "start_time": "2022-06-15T12:16:31.015Z"
   },
   {
    "duration": 0,
    "start_time": "2022-06-15T12:16:31.018Z"
   },
   {
    "duration": 0,
    "start_time": "2022-06-15T12:16:31.019Z"
   },
   {
    "duration": 0,
    "start_time": "2022-06-15T12:16:31.021Z"
   },
   {
    "duration": 0,
    "start_time": "2022-06-15T12:16:31.023Z"
   },
   {
    "duration": 0,
    "start_time": "2022-06-15T12:16:31.025Z"
   },
   {
    "duration": 0,
    "start_time": "2022-06-15T12:16:31.026Z"
   },
   {
    "duration": 0,
    "start_time": "2022-06-15T12:16:31.027Z"
   },
   {
    "duration": 0,
    "start_time": "2022-06-15T12:16:31.028Z"
   },
   {
    "duration": 0,
    "start_time": "2022-06-15T12:16:31.029Z"
   },
   {
    "duration": 0,
    "start_time": "2022-06-15T12:16:31.030Z"
   },
   {
    "duration": 0,
    "start_time": "2022-06-15T12:16:31.030Z"
   },
   {
    "duration": 0,
    "start_time": "2022-06-15T12:16:31.031Z"
   },
   {
    "duration": 0,
    "start_time": "2022-06-15T12:16:31.032Z"
   },
   {
    "duration": 0,
    "start_time": "2022-06-15T12:16:31.033Z"
   },
   {
    "duration": 0,
    "start_time": "2022-06-15T12:16:31.034Z"
   },
   {
    "duration": 0,
    "start_time": "2022-06-15T12:16:31.035Z"
   },
   {
    "duration": 0,
    "start_time": "2022-06-15T12:16:31.036Z"
   },
   {
    "duration": 0,
    "start_time": "2022-06-15T12:16:31.037Z"
   },
   {
    "duration": 0,
    "start_time": "2022-06-15T12:16:31.039Z"
   },
   {
    "duration": 0,
    "start_time": "2022-06-15T12:16:31.040Z"
   },
   {
    "duration": 1,
    "start_time": "2022-06-15T12:16:31.040Z"
   },
   {
    "duration": 0,
    "start_time": "2022-06-15T12:16:31.042Z"
   },
   {
    "duration": 0,
    "start_time": "2022-06-15T12:16:31.042Z"
   },
   {
    "duration": 1,
    "start_time": "2022-06-15T12:16:31.043Z"
   },
   {
    "duration": 0,
    "start_time": "2022-06-15T12:16:31.045Z"
   },
   {
    "duration": 0,
    "start_time": "2022-06-15T12:16:31.046Z"
   },
   {
    "duration": 0,
    "start_time": "2022-06-15T12:16:31.047Z"
   },
   {
    "duration": 0,
    "start_time": "2022-06-15T12:16:31.048Z"
   },
   {
    "duration": 0,
    "start_time": "2022-06-15T12:16:31.049Z"
   },
   {
    "duration": 0,
    "start_time": "2022-06-15T12:16:31.050Z"
   },
   {
    "duration": 0,
    "start_time": "2022-06-15T12:16:31.051Z"
   },
   {
    "duration": 0,
    "start_time": "2022-06-15T12:16:31.096Z"
   },
   {
    "duration": 0,
    "start_time": "2022-06-15T12:16:31.097Z"
   },
   {
    "duration": 0,
    "start_time": "2022-06-15T12:16:31.098Z"
   },
   {
    "duration": 0,
    "start_time": "2022-06-15T12:16:31.098Z"
   },
   {
    "duration": 0,
    "start_time": "2022-06-15T12:16:31.103Z"
   },
   {
    "duration": 0,
    "start_time": "2022-06-15T12:16:31.104Z"
   },
   {
    "duration": 0,
    "start_time": "2022-06-15T12:16:31.105Z"
   },
   {
    "duration": 0,
    "start_time": "2022-06-15T12:16:31.107Z"
   },
   {
    "duration": 0,
    "start_time": "2022-06-15T12:16:31.108Z"
   },
   {
    "duration": 0,
    "start_time": "2022-06-15T12:16:31.109Z"
   },
   {
    "duration": 0,
    "start_time": "2022-06-15T12:16:31.109Z"
   },
   {
    "duration": 0,
    "start_time": "2022-06-15T12:16:31.114Z"
   },
   {
    "duration": 0,
    "start_time": "2022-06-15T12:16:31.114Z"
   },
   {
    "duration": 0,
    "start_time": "2022-06-15T12:16:31.115Z"
   },
   {
    "duration": 1,
    "start_time": "2022-06-15T12:16:31.115Z"
   },
   {
    "duration": 0,
    "start_time": "2022-06-15T12:16:31.116Z"
   },
   {
    "duration": 1121,
    "start_time": "2022-06-15T12:17:26.888Z"
   },
   {
    "duration": 920,
    "start_time": "2022-06-15T12:17:28.012Z"
   },
   {
    "duration": 10,
    "start_time": "2022-06-15T12:17:28.934Z"
   },
   {
    "duration": 12,
    "start_time": "2022-06-15T12:17:28.947Z"
   },
   {
    "duration": 44,
    "start_time": "2022-06-15T12:17:28.962Z"
   },
   {
    "duration": 46,
    "start_time": "2022-06-15T12:17:29.007Z"
   },
   {
    "duration": 61,
    "start_time": "2022-06-15T12:17:29.056Z"
   },
   {
    "duration": 214,
    "start_time": "2022-06-15T12:17:29.119Z"
   },
   {
    "duration": 16,
    "start_time": "2022-06-15T12:17:29.335Z"
   },
   {
    "duration": 319,
    "start_time": "2022-06-15T12:17:29.354Z"
   },
   {
    "duration": 52,
    "start_time": "2022-06-15T12:17:29.675Z"
   },
   {
    "duration": 104,
    "start_time": "2022-06-15T12:17:29.728Z"
   },
   {
    "duration": 116,
    "start_time": "2022-06-15T12:17:29.834Z"
   },
   {
    "duration": 864,
    "start_time": "2022-06-15T12:17:29.952Z"
   },
   {
    "duration": 20,
    "start_time": "2022-06-15T12:17:30.823Z"
   },
   {
    "duration": 335,
    "start_time": "2022-06-15T12:17:30.846Z"
   },
   {
    "duration": 49,
    "start_time": "2022-06-15T12:17:31.183Z"
   },
   {
    "duration": 413,
    "start_time": "2022-06-15T12:17:31.234Z"
   },
   {
    "duration": 324,
    "start_time": "2022-06-15T12:17:31.649Z"
   },
   {
    "duration": 101,
    "start_time": "2022-06-15T12:17:31.975Z"
   },
   {
    "duration": 44,
    "start_time": "2022-06-15T12:17:32.078Z"
   },
   {
    "duration": 26,
    "start_time": "2022-06-15T12:17:32.124Z"
   },
   {
    "duration": 119,
    "start_time": "2022-06-15T12:17:32.151Z"
   },
   {
    "duration": 92,
    "start_time": "2022-06-15T12:17:32.272Z"
   },
   {
    "duration": 162,
    "start_time": "2022-06-15T12:17:32.366Z"
   },
   {
    "duration": 9,
    "start_time": "2022-06-15T12:17:32.531Z"
   },
   {
    "duration": 7,
    "start_time": "2022-06-15T12:17:32.543Z"
   },
   {
    "duration": 50,
    "start_time": "2022-06-15T12:17:32.555Z"
   },
   {
    "duration": 20109,
    "start_time": "2022-06-15T12:17:32.609Z"
   },
   {
    "duration": 3,
    "start_time": "2022-06-15T12:17:52.721Z"
   },
   {
    "duration": 38,
    "start_time": "2022-06-15T12:17:52.725Z"
   },
   {
    "duration": 1101,
    "start_time": "2022-06-15T12:19:41.910Z"
   },
   {
    "duration": 878,
    "start_time": "2022-06-15T12:19:43.013Z"
   },
   {
    "duration": 17,
    "start_time": "2022-06-15T12:19:43.893Z"
   },
   {
    "duration": 4,
    "start_time": "2022-06-15T12:19:43.913Z"
   },
   {
    "duration": 20,
    "start_time": "2022-06-15T12:19:43.919Z"
   },
   {
    "duration": 10,
    "start_time": "2022-06-15T12:19:43.940Z"
   },
   {
    "duration": 53,
    "start_time": "2022-06-15T12:19:43.952Z"
   },
   {
    "duration": 151,
    "start_time": "2022-06-15T12:19:44.009Z"
   },
   {
    "duration": 3,
    "start_time": "2022-06-15T12:19:44.162Z"
   },
   {
    "duration": 314,
    "start_time": "2022-06-15T12:19:44.167Z"
   },
   {
    "duration": 55,
    "start_time": "2022-06-15T12:19:44.483Z"
   },
   {
    "duration": 92,
    "start_time": "2022-06-15T12:19:44.540Z"
   },
   {
    "duration": 135,
    "start_time": "2022-06-15T12:19:44.634Z"
   },
   {
    "duration": 585,
    "start_time": "2022-06-15T12:19:44.779Z"
   },
   {
    "duration": 17,
    "start_time": "2022-06-15T12:19:45.366Z"
   },
   {
    "duration": 312,
    "start_time": "2022-06-15T12:19:45.395Z"
   },
   {
    "duration": 35,
    "start_time": "2022-06-15T12:19:45.709Z"
   },
   {
    "duration": 313,
    "start_time": "2022-06-15T12:19:45.746Z"
   },
   {
    "duration": 420,
    "start_time": "2022-06-15T12:19:46.062Z"
   },
   {
    "duration": 92,
    "start_time": "2022-06-15T12:19:46.483Z"
   },
   {
    "duration": 45,
    "start_time": "2022-06-15T12:19:46.577Z"
   },
   {
    "duration": 26,
    "start_time": "2022-06-15T12:19:46.624Z"
   },
   {
    "duration": 115,
    "start_time": "2022-06-15T12:19:46.652Z"
   },
   {
    "duration": 90,
    "start_time": "2022-06-15T12:19:46.768Z"
   },
   {
    "duration": 131,
    "start_time": "2022-06-15T12:19:46.860Z"
   },
   {
    "duration": 14,
    "start_time": "2022-06-15T12:19:46.994Z"
   },
   {
    "duration": 14,
    "start_time": "2022-06-15T12:19:47.011Z"
   },
   {
    "duration": 13,
    "start_time": "2022-06-15T12:19:47.026Z"
   },
   {
    "duration": 21237,
    "start_time": "2022-06-15T12:19:47.041Z"
   },
   {
    "duration": 2,
    "start_time": "2022-06-15T12:20:08.280Z"
   },
   {
    "duration": 41,
    "start_time": "2022-06-15T12:20:08.284Z"
   },
   {
    "duration": 18,
    "start_time": "2022-06-15T12:20:08.327Z"
   },
   {
    "duration": 23,
    "start_time": "2022-06-15T12:20:08.346Z"
   },
   {
    "duration": 37,
    "start_time": "2022-06-15T12:20:08.370Z"
   },
   {
    "duration": 276,
    "start_time": "2022-06-15T12:20:08.409Z"
   },
   {
    "duration": 299,
    "start_time": "2022-06-15T12:20:08.686Z"
   },
   {
    "duration": 84,
    "start_time": "2022-06-15T12:20:08.987Z"
   },
   {
    "duration": 371,
    "start_time": "2022-06-15T12:20:09.073Z"
   },
   {
    "duration": 86,
    "start_time": "2022-06-15T12:20:09.446Z"
   },
   {
    "duration": 5,
    "start_time": "2022-06-15T12:20:09.534Z"
   },
   {
    "duration": 76,
    "start_time": "2022-06-15T12:20:09.543Z"
   },
   {
    "duration": 4,
    "start_time": "2022-06-15T12:20:09.622Z"
   },
   {
    "duration": 287,
    "start_time": "2022-06-15T12:20:09.627Z"
   },
   {
    "duration": 64,
    "start_time": "2022-06-15T12:20:09.918Z"
   },
   {
    "duration": 14,
    "start_time": "2022-06-15T12:20:09.983Z"
   },
   {
    "duration": 1093,
    "start_time": "2022-06-15T12:20:32.848Z"
   },
   {
    "duration": 891,
    "start_time": "2022-06-15T12:20:33.943Z"
   },
   {
    "duration": 9,
    "start_time": "2022-06-15T12:20:34.836Z"
   },
   {
    "duration": 5,
    "start_time": "2022-06-15T12:20:34.847Z"
   },
   {
    "duration": 16,
    "start_time": "2022-06-15T12:20:34.854Z"
   },
   {
    "duration": 38,
    "start_time": "2022-06-15T12:20:34.871Z"
   },
   {
    "duration": 48,
    "start_time": "2022-06-15T12:20:34.911Z"
   },
   {
    "duration": 147,
    "start_time": "2022-06-15T12:20:34.961Z"
   },
   {
    "duration": 3,
    "start_time": "2022-06-15T12:20:35.109Z"
   },
   {
    "duration": 295,
    "start_time": "2022-06-15T12:20:35.117Z"
   },
   {
    "duration": 39,
    "start_time": "2022-06-15T12:20:35.413Z"
   },
   {
    "duration": 86,
    "start_time": "2022-06-15T12:20:35.454Z"
   },
   {
    "duration": 123,
    "start_time": "2022-06-15T12:20:35.542Z"
   },
   {
    "duration": 576,
    "start_time": "2022-06-15T12:20:35.666Z"
   },
   {
    "duration": 19,
    "start_time": "2022-06-15T12:20:36.245Z"
   },
   {
    "duration": 320,
    "start_time": "2022-06-15T12:20:36.266Z"
   },
   {
    "duration": 41,
    "start_time": "2022-06-15T12:20:36.587Z"
   },
   {
    "duration": 314,
    "start_time": "2022-06-15T12:20:36.630Z"
   },
   {
    "duration": 378,
    "start_time": "2022-06-15T12:20:36.946Z"
   },
   {
    "duration": 96,
    "start_time": "2022-06-15T12:20:37.326Z"
   },
   {
    "duration": 36,
    "start_time": "2022-06-15T12:20:37.424Z"
   },
   {
    "duration": 47,
    "start_time": "2022-06-15T12:20:37.462Z"
   },
   {
    "duration": 108,
    "start_time": "2022-06-15T12:20:37.511Z"
   },
   {
    "duration": 82,
    "start_time": "2022-06-15T12:20:37.621Z"
   },
   {
    "duration": 137,
    "start_time": "2022-06-15T12:20:37.704Z"
   },
   {
    "duration": 8,
    "start_time": "2022-06-15T12:20:37.843Z"
   },
   {
    "duration": 6,
    "start_time": "2022-06-15T12:20:37.854Z"
   },
   {
    "duration": 48,
    "start_time": "2022-06-15T12:20:37.864Z"
   },
   {
    "duration": 19885,
    "start_time": "2022-06-15T12:20:37.914Z"
   },
   {
    "duration": 12,
    "start_time": "2022-06-15T12:20:57.801Z"
   },
   {
    "duration": 33,
    "start_time": "2022-06-15T12:20:57.814Z"
   },
   {
    "duration": 17,
    "start_time": "2022-06-15T12:20:57.849Z"
   },
   {
    "duration": 25,
    "start_time": "2022-06-15T12:20:57.868Z"
   },
   {
    "duration": 41,
    "start_time": "2022-06-15T12:20:57.897Z"
   },
   {
    "duration": 282,
    "start_time": "2022-06-15T12:20:57.939Z"
   },
   {
    "duration": 260,
    "start_time": "2022-06-15T12:20:58.223Z"
   },
   {
    "duration": 72,
    "start_time": "2022-06-15T12:20:58.484Z"
   },
   {
    "duration": 284,
    "start_time": "2022-06-15T12:20:58.557Z"
   },
   {
    "duration": 96,
    "start_time": "2022-06-15T12:20:58.843Z"
   },
   {
    "duration": 5,
    "start_time": "2022-06-15T12:20:58.941Z"
   },
   {
    "duration": 93,
    "start_time": "2022-06-15T12:20:58.948Z"
   },
   {
    "duration": 5,
    "start_time": "2022-06-15T12:20:59.043Z"
   },
   {
    "duration": 278,
    "start_time": "2022-06-15T12:20:59.050Z"
   },
   {
    "duration": 93,
    "start_time": "2022-06-15T12:20:59.330Z"
   },
   {
    "duration": 4,
    "start_time": "2022-06-15T12:20:59.425Z"
   },
   {
    "duration": 1128,
    "start_time": "2022-06-15T12:23:09.191Z"
   },
   {
    "duration": 836,
    "start_time": "2022-06-15T12:23:11.210Z"
   },
   {
    "duration": 9,
    "start_time": "2022-06-15T12:23:12.583Z"
   },
   {
    "duration": 4,
    "start_time": "2022-06-15T12:23:15.719Z"
   },
   {
    "duration": 14,
    "start_time": "2022-06-15T12:23:17.320Z"
   },
   {
    "duration": 6,
    "start_time": "2022-06-15T12:23:19.551Z"
   },
   {
    "duration": 41,
    "start_time": "2022-06-15T12:23:21.143Z"
   },
   {
    "duration": 145,
    "start_time": "2022-06-15T12:23:22.510Z"
   },
   {
    "duration": 4,
    "start_time": "2022-06-15T12:23:27.046Z"
   },
   {
    "duration": 328,
    "start_time": "2022-06-15T12:23:30.178Z"
   },
   {
    "duration": 52,
    "start_time": "2022-06-15T12:23:31.983Z"
   },
   {
    "duration": 86,
    "start_time": "2022-06-15T12:23:34.390Z"
   },
   {
    "duration": 113,
    "start_time": "2022-06-15T12:23:38.551Z"
   },
   {
    "duration": 532,
    "start_time": "2022-06-15T12:23:41.119Z"
   },
   {
    "duration": 18,
    "start_time": "2022-06-15T12:23:44.706Z"
   },
   {
    "duration": 329,
    "start_time": "2022-06-15T12:23:47.423Z"
   },
   {
    "duration": 36,
    "start_time": "2022-06-15T12:23:49.983Z"
   },
   {
    "duration": 291,
    "start_time": "2022-06-15T12:23:51.040Z"
   },
   {
    "duration": 363,
    "start_time": "2022-06-15T12:23:53.384Z"
   },
   {
    "duration": 81,
    "start_time": "2022-06-15T12:23:55.684Z"
   },
   {
    "duration": 35,
    "start_time": "2022-06-15T12:23:58.847Z"
   },
   {
    "duration": 26,
    "start_time": "2022-06-15T12:24:00.463Z"
   },
   {
    "duration": 100,
    "start_time": "2022-06-15T12:24:03.336Z"
   },
   {
    "duration": 3,
    "start_time": "2022-06-15T12:25:15.519Z"
   },
   {
    "duration": 863,
    "start_time": "2022-06-15T12:25:16.423Z"
   },
   {
    "duration": 5,
    "start_time": "2022-06-15T12:25:18.104Z"
   },
   {
    "duration": 5,
    "start_time": "2022-06-15T12:25:19.342Z"
   },
   {
    "duration": 13,
    "start_time": "2022-06-15T12:25:20.359Z"
   },
   {
    "duration": 7,
    "start_time": "2022-06-15T12:25:21.980Z"
   },
   {
    "duration": 38,
    "start_time": "2022-06-15T12:25:23.215Z"
   },
   {
    "duration": 140,
    "start_time": "2022-06-15T12:25:24.410Z"
   },
   {
    "duration": 3,
    "start_time": "2022-06-15T12:25:27.959Z"
   },
   {
    "duration": 255,
    "start_time": "2022-06-15T12:25:29.630Z"
   },
   {
    "duration": 41,
    "start_time": "2022-06-15T12:25:31.015Z"
   },
   {
    "duration": 88,
    "start_time": "2022-06-15T12:25:32.246Z"
   },
   {
    "duration": 106,
    "start_time": "2022-06-15T12:25:34.143Z"
   },
   {
    "duration": 307,
    "start_time": "2022-06-15T12:25:36.367Z"
   },
   {
    "duration": 18,
    "start_time": "2022-06-15T12:25:38.919Z"
   },
   {
    "duration": 297,
    "start_time": "2022-06-15T12:25:40.742Z"
   },
   {
    "duration": 35,
    "start_time": "2022-06-15T12:25:43.284Z"
   },
   {
    "duration": 296,
    "start_time": "2022-06-15T12:25:44.571Z"
   },
   {
    "duration": 276,
    "start_time": "2022-06-15T12:25:46.855Z"
   },
   {
    "duration": 72,
    "start_time": "2022-06-15T12:25:52.719Z"
   },
   {
    "duration": 33,
    "start_time": "2022-06-15T12:25:54.904Z"
   },
   {
    "duration": 30,
    "start_time": "2022-06-15T12:25:56.016Z"
   },
   {
    "duration": 94,
    "start_time": "2022-06-15T12:25:58.631Z"
   },
   {
    "duration": 73,
    "start_time": "2022-06-15T12:26:00.456Z"
   },
   {
    "duration": 125,
    "start_time": "2022-06-15T12:26:02.719Z"
   },
   {
    "duration": 10,
    "start_time": "2022-06-15T12:26:04.887Z"
   },
   {
    "duration": 6,
    "start_time": "2022-06-15T12:26:06.751Z"
   },
   {
    "duration": 15,
    "start_time": "2022-06-15T12:26:09.112Z"
   },
   {
    "duration": 19,
    "start_time": "2022-06-15T12:26:12.535Z"
   },
   {
    "duration": 28,
    "start_time": "2022-06-15T12:26:13.990Z"
   },
   {
    "duration": 19,
    "start_time": "2022-06-15T12:26:15.462Z"
   },
   {
    "duration": 25,
    "start_time": "2022-06-15T12:26:17.294Z"
   },
   {
    "duration": 269,
    "start_time": "2022-06-15T12:26:18.906Z"
   },
   {
    "duration": 254,
    "start_time": "2022-06-15T12:26:21.386Z"
   },
   {
    "duration": 69,
    "start_time": "2022-06-15T12:26:23.106Z"
   },
   {
    "duration": 106,
    "start_time": "2022-06-15T13:37:00.121Z"
   },
   {
    "duration": 72,
    "start_time": "2022-06-15T13:37:02.857Z"
   },
   {
    "duration": 6,
    "start_time": "2022-06-15T13:37:03.913Z"
   },
   {
    "duration": 185,
    "start_time": "2022-06-15T13:37:05.746Z"
   },
   {
    "duration": 4,
    "start_time": "2022-06-15T13:37:09.682Z"
   },
   {
    "duration": 241,
    "start_time": "2022-06-15T13:37:16.793Z"
   },
   {
    "duration": 63,
    "start_time": "2022-06-15T13:37:18.849Z"
   },
   {
    "duration": 3,
    "start_time": "2022-06-15T13:37:20.897Z"
   },
   {
    "duration": 775305,
    "start_time": "2022-06-15T13:37:23.025Z"
   },
   {
    "duration": 9,
    "start_time": "2022-06-15T13:51:28.695Z"
   },
   {
    "duration": 10,
    "start_time": "2022-06-15T13:51:32.280Z"
   },
   {
    "duration": 8,
    "start_time": "2022-06-15T13:51:34.455Z"
   },
   {
    "duration": 4,
    "start_time": "2022-06-15T13:51:36.055Z"
   },
   {
    "duration": 3,
    "start_time": "2022-06-15T13:51:37.191Z"
   },
   {
    "duration": 4,
    "start_time": "2022-06-15T13:51:39.214Z"
   },
   {
    "duration": 203351,
    "start_time": "2022-06-15T13:51:40.591Z"
   },
   {
    "duration": 848,
    "start_time": "2022-06-15T13:55:03.945Z"
   },
   {
    "duration": 14,
    "start_time": "2022-06-15T13:55:04.801Z"
   },
   {
    "duration": 30,
    "start_time": "2022-06-15T13:55:04.817Z"
   },
   {
    "duration": 5,
    "start_time": "2022-06-15T13:55:40.991Z"
   },
   {
    "duration": 6,
    "start_time": "2022-06-15T13:55:49.303Z"
   },
   {
    "duration": 968,
    "start_time": "2022-06-15T17:02:02.264Z"
   },
   {
    "duration": 2628,
    "start_time": "2022-06-15T17:02:04.445Z"
   },
   {
    "duration": 7,
    "start_time": "2022-06-15T17:02:08.922Z"
   },
   {
    "duration": 4,
    "start_time": "2022-06-15T17:02:11.089Z"
   },
   {
    "duration": 17,
    "start_time": "2022-06-15T17:02:12.049Z"
   },
   {
    "duration": 5,
    "start_time": "2022-06-15T17:02:14.121Z"
   },
   {
    "duration": 41,
    "start_time": "2022-06-15T17:02:15.801Z"
   },
   {
    "duration": 143,
    "start_time": "2022-06-15T17:02:17.258Z"
   },
   {
    "duration": 2,
    "start_time": "2022-06-15T17:02:21.230Z"
   },
   {
    "duration": 274,
    "start_time": "2022-06-15T17:02:23.321Z"
   },
   {
    "duration": 34,
    "start_time": "2022-06-15T17:02:29.176Z"
   },
   {
    "duration": 76,
    "start_time": "2022-06-15T17:02:30.471Z"
   },
   {
    "duration": 118,
    "start_time": "2022-06-15T17:02:39.149Z"
   },
   {
    "duration": 570,
    "start_time": "2022-06-15T17:11:36.617Z"
   },
   {
    "duration": 204,
    "start_time": "2022-06-15T17:11:51.555Z"
   },
   {
    "duration": 279,
    "start_time": "2022-06-15T17:11:59.365Z"
   },
   {
    "duration": 258,
    "start_time": "2022-06-15T17:12:02.893Z"
   },
   {
    "duration": 1390,
    "start_time": "2022-06-15T17:12:07.813Z"
   },
   {
    "duration": 378,
    "start_time": "2022-06-15T17:12:21.894Z"
   },
   {
    "duration": 36,
    "start_time": "2022-06-15T17:14:09.204Z"
   },
   {
    "duration": 10,
    "start_time": "2022-06-15T17:14:15.673Z"
   },
   {
    "duration": 9,
    "start_time": "2022-06-15T17:14:21.277Z"
   },
   {
    "duration": 11,
    "start_time": "2022-06-15T17:14:25.269Z"
   },
   {
    "duration": 8,
    "start_time": "2022-06-15T17:14:48.412Z"
   },
   {
    "duration": 9,
    "start_time": "2022-06-15T17:15:02.788Z"
   },
   {
    "duration": 15,
    "start_time": "2022-06-15T17:15:07.187Z"
   },
   {
    "duration": 32,
    "start_time": "2022-06-15T17:15:52.755Z"
   },
   {
    "duration": 248,
    "start_time": "2022-06-15T17:15:54.683Z"
   },
   {
    "duration": 39,
    "start_time": "2022-06-15T17:18:02.258Z"
   },
   {
    "duration": 22,
    "start_time": "2022-06-15T17:18:03.379Z"
   },
   {
    "duration": 94,
    "start_time": "2022-06-15T17:18:09.994Z"
   },
   {
    "duration": 62,
    "start_time": "2022-06-15T17:19:17.409Z"
   },
   {
    "duration": 131,
    "start_time": "2022-06-15T17:19:23.034Z"
   },
   {
    "duration": 7,
    "start_time": "2022-06-15T17:19:25.962Z"
   },
   {
    "duration": 5,
    "start_time": "2022-06-15T17:19:27.010Z"
   },
   {
    "duration": 16,
    "start_time": "2022-06-15T17:19:48.987Z"
   },
   {
    "duration": 31,
    "start_time": "2022-06-15T17:19:57.967Z"
   },
   {
    "duration": 18411,
    "start_time": "2022-06-15T17:20:04.286Z"
   },
   {
    "duration": 14,
    "start_time": "2022-06-15T17:22:50.416Z"
   },
   {
    "duration": 22,
    "start_time": "2022-06-15T17:23:26.016Z"
   },
   {
    "duration": 16,
    "start_time": "2022-06-15T17:24:51.672Z"
   },
   {
    "duration": 23,
    "start_time": "2022-06-15T17:24:52.438Z"
   },
   {
    "duration": 14,
    "start_time": "2022-06-15T17:24:53.240Z"
   },
   {
    "duration": 14,
    "start_time": "2022-06-15T17:24:54.279Z"
   },
   {
    "duration": 217,
    "start_time": "2022-06-15T17:24:57.786Z"
   },
   {
    "duration": 187,
    "start_time": "2022-06-15T17:25:02.215Z"
   },
   {
    "duration": 235,
    "start_time": "2022-06-15T17:25:27.335Z"
   },
   {
    "duration": 51,
    "start_time": "2022-06-15T17:25:44.373Z"
   },
   {
    "duration": 67,
    "start_time": "2022-06-15T17:26:13.534Z"
   },
   {
    "duration": 4,
    "start_time": "2022-06-15T17:26:15.718Z"
   },
   {
    "duration": 43,
    "start_time": "2022-06-15T17:26:17.750Z"
   },
   {
    "duration": 3,
    "start_time": "2022-06-15T17:28:30.022Z"
   },
   {
    "duration": 173,
    "start_time": "2022-06-15T17:28:46.527Z"
   },
   {
    "duration": 60,
    "start_time": "2022-06-15T17:28:47.527Z"
   },
   {
    "duration": 3,
    "start_time": "2022-06-15T17:28:49.957Z"
   },
   {
    "duration": 7245,
    "start_time": "2022-06-15T17:30:21.646Z"
   },
   {
    "duration": 711102,
    "start_time": "2022-06-15T17:30:50.579Z"
   },
   {
    "duration": 39,
    "start_time": "2022-06-15T17:42:41.683Z"
   },
   {
    "duration": 4,
    "start_time": "2022-06-15T17:42:48.561Z"
   },
   {
    "duration": 4,
    "start_time": "2022-06-15T17:42:50.857Z"
   },
   {
    "duration": 177215,
    "start_time": "2022-06-15T17:42:56.930Z"
   },
   {
    "duration": 176317,
    "start_time": "2022-06-15T17:48:07.031Z"
   },
   {
    "duration": 163,
    "start_time": "2022-06-15T18:08:31.231Z"
   },
   {
    "duration": 50,
    "start_time": "2022-06-15T18:11:23.182Z"
   },
   {
    "duration": 4,
    "start_time": "2022-06-15T18:11:35.774Z"
   },
   {
    "duration": 43,
    "start_time": "2022-06-15T18:11:39.390Z"
   },
   {
    "duration": 3517,
    "start_time": "2022-06-15T18:12:34.239Z"
   },
   {
    "duration": 396,
    "start_time": "2022-06-15T18:16:38.581Z"
   },
   {
    "duration": 2069075,
    "start_time": "2022-06-15T18:16:56.075Z"
   },
   {
    "duration": 38,
    "start_time": "2022-06-15T18:54:54.085Z"
   },
   {
    "duration": 3,
    "start_time": "2022-06-15T18:55:18.428Z"
   },
   {
    "duration": 30,
    "start_time": "2022-06-15T18:55:21.796Z"
   },
   {
    "duration": 175832,
    "start_time": "2022-06-15T18:56:11.061Z"
   },
   {
    "duration": 23,
    "start_time": "2022-06-15T19:04:56.746Z"
   },
   {
    "duration": 155712,
    "start_time": "2022-06-15T19:05:21.994Z"
   },
   {
    "duration": 444637,
    "start_time": "2022-06-15T19:18:26.083Z"
   },
   {
    "duration": 1444,
    "start_time": "2022-06-16T11:00:05.556Z"
   },
   {
    "duration": 1426,
    "start_time": "2022-06-16T11:00:08.577Z"
   },
   {
    "duration": 10,
    "start_time": "2022-06-16T11:00:11.323Z"
   },
   {
    "duration": 4,
    "start_time": "2022-06-16T11:00:14.219Z"
   },
   {
    "duration": 17,
    "start_time": "2022-06-16T11:00:15.418Z"
   },
   {
    "duration": 7,
    "start_time": "2022-06-16T11:00:18.368Z"
   },
   {
    "duration": 42,
    "start_time": "2022-06-16T11:00:19.566Z"
   },
   {
    "duration": 185,
    "start_time": "2022-06-16T11:00:20.523Z"
   },
   {
    "duration": 4,
    "start_time": "2022-06-16T11:00:22.360Z"
   },
   {
    "duration": 458,
    "start_time": "2022-06-16T11:00:23.995Z"
   },
   {
    "duration": 76,
    "start_time": "2022-06-16T11:00:25.276Z"
   },
   {
    "duration": 89,
    "start_time": "2022-06-16T11:00:26.522Z"
   },
   {
    "duration": 122,
    "start_time": "2022-06-16T11:00:28.451Z"
   },
   {
    "duration": 863,
    "start_time": "2022-06-16T11:00:30.618Z"
   },
   {
    "duration": 20,
    "start_time": "2022-06-16T11:00:33.273Z"
   },
   {
    "duration": 443,
    "start_time": "2022-06-16T11:00:35.856Z"
   },
   {
    "duration": 43,
    "start_time": "2022-06-16T11:00:38.322Z"
   },
   {
    "duration": 342,
    "start_time": "2022-06-16T11:00:40.091Z"
   },
   {
    "duration": 309,
    "start_time": "2022-06-16T11:00:42.064Z"
   },
   {
    "duration": 117,
    "start_time": "2022-06-16T11:00:44.274Z"
   },
   {
    "duration": 33,
    "start_time": "2022-06-16T11:00:47.461Z"
   },
   {
    "duration": 26,
    "start_time": "2022-06-16T11:00:49.691Z"
   },
   {
    "duration": 100,
    "start_time": "2022-06-16T11:00:55.418Z"
   },
   {
    "duration": 65,
    "start_time": "2022-06-16T11:00:57.706Z"
   },
   {
    "duration": 137,
    "start_time": "2022-06-16T11:01:00.382Z"
   },
   {
    "duration": 11,
    "start_time": "2022-06-16T11:01:02.002Z"
   },
   {
    "duration": 8,
    "start_time": "2022-06-16T11:01:03.099Z"
   },
   {
    "duration": 34,
    "start_time": "2022-06-16T11:01:04.707Z"
   },
   {
    "duration": 35,
    "start_time": "2022-06-16T11:01:07.371Z"
   },
   {
    "duration": 29,
    "start_time": "2022-06-16T11:01:09.481Z"
   },
   {
    "duration": 29,
    "start_time": "2022-06-16T11:01:10.452Z"
   },
   {
    "duration": 29,
    "start_time": "2022-06-16T11:01:11.864Z"
   },
   {
    "duration": 231,
    "start_time": "2022-06-16T11:01:13.487Z"
   },
   {
    "duration": 257,
    "start_time": "2022-06-16T11:01:15.360Z"
   },
   {
    "duration": 289,
    "start_time": "2022-06-16T11:01:17.514Z"
   },
   {
    "duration": 71,
    "start_time": "2022-06-16T11:01:18.768Z"
   },
   {
    "duration": 86,
    "start_time": "2022-06-16T11:01:27.577Z"
   },
   {
    "duration": 5,
    "start_time": "2022-06-16T11:01:28.883Z"
   },
   {
    "duration": 6,
    "start_time": "2022-06-16T11:01:35.714Z"
   },
   {
    "duration": 230,
    "start_time": "2022-06-16T11:01:36.886Z"
   },
   {
    "duration": 73,
    "start_time": "2022-06-16T11:01:38.060Z"
   },
   {
    "duration": 65,
    "start_time": "2022-06-16T11:01:56.090Z"
   },
   {
    "duration": 3,
    "start_time": "2022-06-16T11:02:03.202Z"
   },
   {
    "duration": 5,
    "start_time": "2022-06-16T11:03:27.036Z"
   },
   {
    "duration": 2829,
    "start_time": "2022-06-16T11:06:37.275Z"
   },
   {
    "duration": 3327,
    "start_time": "2022-06-16T11:10:06.556Z"
   },
   {
    "duration": 2819,
    "start_time": "2022-06-16T11:13:15.768Z"
   },
   {
    "duration": 6,
    "start_time": "2022-06-16T11:13:47.532Z"
   },
   {
    "duration": 18,
    "start_time": "2022-06-16T11:13:57.688Z"
   },
   {
    "duration": 5714,
    "start_time": "2022-06-16T11:14:25.722Z"
   },
   {
    "duration": 1233,
    "start_time": "2022-06-16T11:16:31.222Z"
   },
   {
    "duration": 946,
    "start_time": "2022-06-16T11:16:32.917Z"
   },
   {
    "duration": 9,
    "start_time": "2022-06-16T11:16:34.367Z"
   },
   {
    "duration": 4,
    "start_time": "2022-06-16T11:16:36.482Z"
   },
   {
    "duration": 21,
    "start_time": "2022-06-16T11:16:37.415Z"
   },
   {
    "duration": 7,
    "start_time": "2022-06-16T11:16:39.075Z"
   },
   {
    "duration": 47,
    "start_time": "2022-06-16T11:16:40.117Z"
   },
   {
    "duration": 167,
    "start_time": "2022-06-16T11:16:41.064Z"
   },
   {
    "duration": 3,
    "start_time": "2022-06-16T11:16:43.090Z"
   },
   {
    "duration": 310,
    "start_time": "2022-06-16T11:16:43.832Z"
   },
   {
    "duration": 46,
    "start_time": "2022-06-16T11:16:45.516Z"
   },
   {
    "duration": 93,
    "start_time": "2022-06-16T11:16:46.374Z"
   },
   {
    "duration": 130,
    "start_time": "2022-06-16T11:16:48.355Z"
   },
   {
    "duration": 778,
    "start_time": "2022-06-16T11:16:49.902Z"
   },
   {
    "duration": 18,
    "start_time": "2022-06-16T11:16:52.371Z"
   },
   {
    "duration": 345,
    "start_time": "2022-06-16T11:16:54.026Z"
   },
   {
    "duration": 36,
    "start_time": "2022-06-16T11:16:56.255Z"
   },
   {
    "duration": 441,
    "start_time": "2022-06-16T11:16:57.885Z"
   },
   {
    "duration": 326,
    "start_time": "2022-06-16T11:17:00.019Z"
   },
   {
    "duration": 95,
    "start_time": "2022-06-16T11:17:02.284Z"
   },
   {
    "duration": 37,
    "start_time": "2022-06-16T11:17:04.411Z"
   },
   {
    "duration": 40,
    "start_time": "2022-06-16T11:17:05.689Z"
   },
   {
    "duration": 142,
    "start_time": "2022-06-16T11:17:07.520Z"
   },
   {
    "duration": 90,
    "start_time": "2022-06-16T11:17:09.393Z"
   },
   {
    "duration": 184,
    "start_time": "2022-06-16T11:17:10.887Z"
   },
   {
    "duration": 10,
    "start_time": "2022-06-16T11:17:13.176Z"
   },
   {
    "duration": 8,
    "start_time": "2022-06-16T11:17:14.364Z"
   },
   {
    "duration": 16,
    "start_time": "2022-06-16T11:17:16.160Z"
   },
   {
    "duration": 22883,
    "start_time": "2022-06-16T11:17:17.490Z"
   },
   {
    "duration": 30,
    "start_time": "2022-06-16T11:17:41.696Z"
   },
   {
    "duration": 44,
    "start_time": "2022-06-16T11:17:43.675Z"
   },
   {
    "duration": 34,
    "start_time": "2022-06-16T11:17:45.022Z"
   },
   {
    "duration": 51,
    "start_time": "2022-06-16T11:17:46.790Z"
   },
   {
    "duration": 315,
    "start_time": "2022-06-16T11:17:48.088Z"
   },
   {
    "duration": 359,
    "start_time": "2022-06-16T11:17:50.068Z"
   },
   {
    "duration": 319,
    "start_time": "2022-06-16T11:17:52.122Z"
   },
   {
    "duration": 80,
    "start_time": "2022-06-16T11:17:53.471Z"
   },
   {
    "duration": 96,
    "start_time": "2022-06-16T11:17:57.386Z"
   },
   {
    "duration": 5,
    "start_time": "2022-06-16T11:17:58.540Z"
   },
   {
    "duration": 7,
    "start_time": "2022-06-16T11:17:59.795Z"
   },
   {
    "duration": 240,
    "start_time": "2022-06-16T11:18:00.952Z"
   },
   {
    "duration": 93,
    "start_time": "2022-06-16T11:18:02.283Z"
   },
   {
    "duration": 4,
    "start_time": "2022-06-16T11:18:03.376Z"
   },
   {
    "duration": 3475,
    "start_time": "2022-06-16T11:18:09.916Z"
   },
   {
    "duration": 38,
    "start_time": "2022-06-16T11:19:08.296Z"
   },
   {
    "duration": 625,
    "start_time": "2022-06-16T11:20:31.861Z"
   },
   {
    "duration": 33,
    "start_time": "2022-06-16T11:20:44.320Z"
   },
   {
    "duration": 24,
    "start_time": "2022-06-16T11:21:01.071Z"
   },
   {
    "duration": 37,
    "start_time": "2022-06-16T11:21:53.605Z"
   },
   {
    "duration": 30,
    "start_time": "2022-06-16T11:21:54.879Z"
   },
   {
    "duration": 4,
    "start_time": "2022-06-16T11:23:36.587Z"
   },
   {
    "duration": 3,
    "start_time": "2022-06-16T11:23:42.387Z"
   },
   {
    "duration": 122,
    "start_time": "2022-06-16T11:26:29.988Z"
   },
   {
    "duration": 5,
    "start_time": "2022-06-16T11:26:31.244Z"
   },
   {
    "duration": 3,
    "start_time": "2022-06-16T11:26:33.271Z"
   },
   {
    "duration": 244,
    "start_time": "2022-06-16T11:26:34.723Z"
   },
   {
    "duration": 75,
    "start_time": "2022-06-16T11:26:35.655Z"
   },
   {
    "duration": 3,
    "start_time": "2022-06-16T11:26:36.671Z"
   },
   {
    "duration": 3415,
    "start_time": "2022-06-16T11:26:38.114Z"
   },
   {
    "duration": 675,
    "start_time": "2022-06-16T11:26:49.114Z"
   },
   {
    "duration": 25,
    "start_time": "2022-06-16T11:26:51.708Z"
   },
   {
    "duration": 44,
    "start_time": "2022-06-16T11:26:56.067Z"
   },
   {
    "duration": 5,
    "start_time": "2022-06-16T11:27:03.691Z"
   },
   {
    "duration": 4,
    "start_time": "2022-06-16T11:27:04.963Z"
   },
   {
    "duration": 87,
    "start_time": "2022-06-16T11:27:30.785Z"
   },
   {
    "duration": 6,
    "start_time": "2022-06-16T11:27:32.075Z"
   },
   {
    "duration": 3,
    "start_time": "2022-06-16T11:27:33.571Z"
   },
   {
    "duration": 213,
    "start_time": "2022-06-16T11:27:35.088Z"
   },
   {
    "duration": 85,
    "start_time": "2022-06-16T11:27:36.017Z"
   },
   {
    "duration": 3,
    "start_time": "2022-06-16T11:27:37.659Z"
   },
   {
    "duration": 644,
    "start_time": "2022-06-16T11:27:43.967Z"
   },
   {
    "duration": 23,
    "start_time": "2022-06-16T11:27:45.410Z"
   },
   {
    "duration": 30,
    "start_time": "2022-06-16T11:27:47.205Z"
   },
   {
    "duration": 3,
    "start_time": "2022-06-16T11:27:49.426Z"
   },
   {
    "duration": 6,
    "start_time": "2022-06-16T11:27:50.685Z"
   },
   {
    "duration": 114,
    "start_time": "2022-06-16T11:28:26.892Z"
   },
   {
    "duration": 74,
    "start_time": "2022-06-16T11:28:30.225Z"
   },
   {
    "duration": 6,
    "start_time": "2022-06-16T11:28:32.826Z"
   },
   {
    "duration": 4,
    "start_time": "2022-06-16T11:28:36.377Z"
   },
   {
    "duration": 227,
    "start_time": "2022-06-16T11:28:38.171Z"
   },
   {
    "duration": 88,
    "start_time": "2022-06-16T11:28:39.098Z"
   },
   {
    "duration": 3,
    "start_time": "2022-06-16T11:28:41.378Z"
   },
   {
    "duration": 590,
    "start_time": "2022-06-16T11:28:46.155Z"
   },
   {
    "duration": 29,
    "start_time": "2022-06-16T11:28:49.589Z"
   },
   {
    "duration": 37,
    "start_time": "2022-06-16T11:28:51.796Z"
   },
   {
    "duration": 4,
    "start_time": "2022-06-16T11:28:53.743Z"
   },
   {
    "duration": 5,
    "start_time": "2022-06-16T11:28:55.705Z"
   },
   {
    "duration": 22,
    "start_time": "2022-06-16T11:44:26.794Z"
   },
   {
    "duration": 83,
    "start_time": "2022-06-16T11:44:46.060Z"
   },
   {
    "duration": 98,
    "start_time": "2022-06-16T11:44:58.850Z"
   },
   {
    "duration": 4,
    "start_time": "2022-06-16T11:45:04.715Z"
   },
   {
    "duration": 256,
    "start_time": "2022-06-16T11:45:05.516Z"
   },
   {
    "duration": 72,
    "start_time": "2022-06-16T11:45:06.296Z"
   },
   {
    "duration": 3,
    "start_time": "2022-06-16T11:45:07.647Z"
   },
   {
    "duration": 25,
    "start_time": "2022-06-16T11:45:13.139Z"
   },
   {
    "duration": 754,
    "start_time": "2022-06-16T11:45:18.934Z"
   },
   {
    "duration": 22,
    "start_time": "2022-06-16T11:45:20.555Z"
   },
   {
    "duration": 31,
    "start_time": "2022-06-16T11:45:22.047Z"
   },
   {
    "duration": 4,
    "start_time": "2022-06-16T11:45:28.089Z"
   },
   {
    "duration": 85,
    "start_time": "2022-06-16T11:45:49.397Z"
   },
   {
    "duration": 4,
    "start_time": "2022-06-16T11:45:50.407Z"
   },
   {
    "duration": 3,
    "start_time": "2022-06-16T11:45:52.747Z"
   },
   {
    "duration": 199,
    "start_time": "2022-06-16T11:45:53.767Z"
   },
   {
    "duration": 69,
    "start_time": "2022-06-16T11:45:54.617Z"
   },
   {
    "duration": 4,
    "start_time": "2022-06-16T11:45:55.807Z"
   },
   {
    "duration": 643,
    "start_time": "2022-06-16T11:45:59.195Z"
   },
   {
    "duration": 20,
    "start_time": "2022-06-16T11:46:00.514Z"
   },
   {
    "duration": 45,
    "start_time": "2022-06-16T11:46:01.891Z"
   },
   {
    "duration": 5,
    "start_time": "2022-06-16T11:46:04.711Z"
   },
   {
    "duration": 3,
    "start_time": "2022-06-16T11:46:05.947Z"
   },
   {
    "duration": 4,
    "start_time": "2022-06-16T11:50:03.981Z"
   },
   {
    "duration": 23,
    "start_time": "2022-06-16T11:50:06.487Z"
   },
   {
    "duration": 397,
    "start_time": "2022-06-16T11:51:27.082Z"
   },
   {
    "duration": 22,
    "start_time": "2022-06-16T11:51:56.459Z"
   },
   {
    "duration": 32,
    "start_time": "2022-06-16T11:52:03.682Z"
   },
   {
    "duration": 42,
    "start_time": "2022-06-16T11:52:05.859Z"
   },
   {
    "duration": 2477,
    "start_time": "2022-06-16T11:52:14.089Z"
   },
   {
    "duration": 261757,
    "start_time": "2022-06-16T11:52:29.454Z"
   },
   {
    "duration": 304525,
    "start_time": "2022-06-16T11:58:27.370Z"
   },
   {
    "duration": 2637348,
    "start_time": "2022-06-16T12:05:04.465Z"
   },
   {
    "duration": 1135,
    "start_time": "2022-06-16T17:01:51.965Z"
   },
   {
    "duration": 1232,
    "start_time": "2022-06-16T17:01:54.492Z"
   },
   {
    "duration": 8,
    "start_time": "2022-06-16T17:01:56.074Z"
   },
   {
    "duration": 4,
    "start_time": "2022-06-16T17:01:57.761Z"
   },
   {
    "duration": 17,
    "start_time": "2022-06-16T17:01:58.730Z"
   },
   {
    "duration": 7,
    "start_time": "2022-06-16T17:02:00.404Z"
   },
   {
    "duration": 46,
    "start_time": "2022-06-16T17:02:01.457Z"
   },
   {
    "duration": 141,
    "start_time": "2022-06-16T17:02:02.321Z"
   },
   {
    "duration": 4,
    "start_time": "2022-06-16T17:02:03.969Z"
   },
   {
    "duration": 345,
    "start_time": "2022-06-16T17:02:05.225Z"
   },
   {
    "duration": 40,
    "start_time": "2022-06-16T17:02:06.090Z"
   },
   {
    "duration": 87,
    "start_time": "2022-06-16T17:02:06.970Z"
   },
   {
    "duration": 126,
    "start_time": "2022-06-16T17:02:08.515Z"
   },
   {
    "duration": 773,
    "start_time": "2022-06-16T17:02:10.314Z"
   },
   {
    "duration": 19,
    "start_time": "2022-06-16T17:02:12.930Z"
   },
   {
    "duration": 425,
    "start_time": "2022-06-16T17:02:14.500Z"
   },
   {
    "duration": 37,
    "start_time": "2022-06-16T17:02:16.504Z"
   },
   {
    "duration": 296,
    "start_time": "2022-06-16T17:02:19.258Z"
   },
   {
    "duration": 134,
    "start_time": "2022-06-16T17:02:22.212Z"
   },
   {
    "duration": 41,
    "start_time": "2022-06-16T17:02:23.745Z"
   },
   {
    "duration": 27,
    "start_time": "2022-06-16T17:02:25.009Z"
   },
   {
    "duration": 315,
    "start_time": "2022-06-16T17:02:32.094Z"
   },
   {
    "duration": 42,
    "start_time": "2022-06-16T17:02:33.514Z"
   },
   {
    "duration": 326,
    "start_time": "2022-06-16T17:02:34.922Z"
   },
   {
    "duration": 65,
    "start_time": "2022-06-16T17:02:37.955Z"
   },
   {
    "duration": 38,
    "start_time": "2022-06-16T17:02:39.313Z"
   },
   {
    "duration": 26,
    "start_time": "2022-06-16T17:02:40.691Z"
   },
   {
    "duration": 108,
    "start_time": "2022-06-16T17:02:45.475Z"
   },
   {
    "duration": 75,
    "start_time": "2022-06-16T17:02:47.592Z"
   },
   {
    "duration": 144,
    "start_time": "2022-06-16T17:02:49.001Z"
   },
   {
    "duration": 11,
    "start_time": "2022-06-16T17:02:50.535Z"
   },
   {
    "duration": 7,
    "start_time": "2022-06-16T17:02:52.354Z"
   },
   {
    "duration": 30,
    "start_time": "2022-06-16T17:02:56.240Z"
   },
   {
    "duration": 21278,
    "start_time": "2022-06-16T17:02:58.042Z"
   },
   {
    "duration": 24,
    "start_time": "2022-06-16T17:03:21.953Z"
   },
   {
    "duration": 29,
    "start_time": "2022-06-16T17:03:23.122Z"
   },
   {
    "duration": 21,
    "start_time": "2022-06-16T17:03:24.144Z"
   },
   {
    "duration": 19,
    "start_time": "2022-06-16T17:03:25.394Z"
   },
   {
    "duration": 303,
    "start_time": "2022-06-16T17:03:26.842Z"
   },
   {
    "duration": 310,
    "start_time": "2022-06-16T17:03:28.152Z"
   },
   {
    "duration": 331,
    "start_time": "2022-06-16T17:03:30.117Z"
   },
   {
    "duration": 74,
    "start_time": "2022-06-16T17:03:31.665Z"
   },
   {
    "duration": 88,
    "start_time": "2022-06-16T17:03:34.001Z"
   },
   {
    "duration": 5,
    "start_time": "2022-06-16T17:03:35.008Z"
   },
   {
    "duration": 3,
    "start_time": "2022-06-16T17:03:37.744Z"
   },
   {
    "duration": 229,
    "start_time": "2022-06-16T17:03:38.754Z"
   },
   {
    "duration": 80,
    "start_time": "2022-06-16T17:03:39.989Z"
   },
   {
    "duration": 3,
    "start_time": "2022-06-16T17:03:40.800Z"
   },
   {
    "duration": 165,
    "start_time": "2022-06-16T17:41:15.111Z"
   },
   {
    "duration": 14,
    "start_time": "2022-06-16T17:43:30.757Z"
   },
   {
    "duration": 651,
    "start_time": "2022-06-16T17:43:36.958Z"
   },
   {
    "duration": 5504,
    "start_time": "2022-06-16T17:43:40.551Z"
   },
   {
    "duration": 7,
    "start_time": "2022-06-16T17:44:08.934Z"
   },
   {
    "duration": 23,
    "start_time": "2022-06-16T17:44:10.358Z"
   },
   {
    "duration": 13043,
    "start_time": "2022-06-16T17:44:15.702Z"
   },
   {
    "duration": 5959,
    "start_time": "2022-06-16T17:45:18.480Z"
   },
   {
    "duration": 5561,
    "start_time": "2022-06-16T17:46:16.880Z"
   },
   {
    "duration": 5260,
    "start_time": "2022-06-16T17:46:42.782Z"
   },
   {
    "duration": 27,
    "start_time": "2022-06-16T17:54:20.753Z"
   },
   {
    "duration": 55,
    "start_time": "2022-06-16T17:54:26.694Z"
   },
   {
    "duration": 61,
    "start_time": "2022-06-16T17:55:18.953Z"
   },
   {
    "duration": 5975,
    "start_time": "2022-06-16T17:56:52.464Z"
   },
   {
    "duration": 6279,
    "start_time": "2022-06-16T17:57:06.065Z"
   },
   {
    "duration": 6513,
    "start_time": "2022-06-16T17:57:30.632Z"
   },
   {
    "duration": 5715,
    "start_time": "2022-06-16T17:57:52.025Z"
   },
   {
    "duration": 49448,
    "start_time": "2022-06-16T17:58:08.992Z"
   },
   {
    "duration": 6154,
    "start_time": "2022-06-16T17:59:09.688Z"
   },
   {
    "duration": 30345,
    "start_time": "2022-06-16T17:59:30.787Z"
   },
   {
    "duration": 30352,
    "start_time": "2022-06-16T18:00:35.191Z"
   },
   {
    "duration": 10816,
    "start_time": "2022-06-16T18:01:40.425Z"
   },
   {
    "duration": 17756,
    "start_time": "2022-06-16T18:02:01.383Z"
   },
   {
    "duration": 17669,
    "start_time": "2022-06-16T18:02:23.262Z"
   },
   {
    "duration": 6434,
    "start_time": "2022-06-16T18:03:04.297Z"
   },
   {
    "duration": 5632,
    "start_time": "2022-06-16T18:03:20.097Z"
   },
   {
    "duration": 6271,
    "start_time": "2022-06-16T18:03:33.670Z"
   },
   {
    "duration": 24825,
    "start_time": "2022-06-16T18:04:01.022Z"
   },
   {
    "duration": 780682,
    "start_time": "2022-06-16T18:04:51.309Z"
   },
   {
    "duration": 85925,
    "start_time": "2022-06-16T18:18:10.214Z"
   },
   {
    "duration": 83495,
    "start_time": "2022-06-16T18:19:41.560Z"
   },
   {
    "duration": 101946,
    "start_time": "2022-06-16T18:21:16.902Z"
   },
   {
    "duration": 79481,
    "start_time": "2022-06-16T18:23:09.090Z"
   },
   {
    "duration": 112190,
    "start_time": "2022-06-16T18:24:40.857Z"
   },
   {
    "duration": 1261,
    "start_time": "2022-06-16T18:28:37.230Z"
   },
   {
    "duration": 992,
    "start_time": "2022-06-16T18:28:38.493Z"
   },
   {
    "duration": 14,
    "start_time": "2022-06-16T18:28:39.488Z"
   },
   {
    "duration": 11,
    "start_time": "2022-06-16T18:28:39.505Z"
   },
   {
    "duration": 20,
    "start_time": "2022-06-16T18:28:39.525Z"
   },
   {
    "duration": 8,
    "start_time": "2022-06-16T18:28:39.547Z"
   },
   {
    "duration": 71,
    "start_time": "2022-06-16T18:28:39.558Z"
   },
   {
    "duration": 147,
    "start_time": "2022-06-16T18:28:39.631Z"
   },
   {
    "duration": 3,
    "start_time": "2022-06-16T18:28:39.780Z"
   },
   {
    "duration": 322,
    "start_time": "2022-06-16T18:28:39.786Z"
   },
   {
    "duration": 52,
    "start_time": "2022-06-16T18:28:40.110Z"
   },
   {
    "duration": 88,
    "start_time": "2022-06-16T18:28:40.163Z"
   },
   {
    "duration": 153,
    "start_time": "2022-06-16T18:28:40.254Z"
   },
   {
    "duration": 723,
    "start_time": "2022-06-16T18:28:40.409Z"
   },
   {
    "duration": 24,
    "start_time": "2022-06-16T18:28:41.135Z"
   },
   {
    "duration": 372,
    "start_time": "2022-06-16T18:28:41.162Z"
   },
   {
    "duration": 42,
    "start_time": "2022-06-16T18:28:41.537Z"
   },
   {
    "duration": 432,
    "start_time": "2022-06-16T18:28:41.580Z"
   },
   {
    "duration": 335,
    "start_time": "2022-06-16T18:28:42.014Z"
   },
   {
    "duration": 97,
    "start_time": "2022-06-16T18:28:42.352Z"
   },
   {
    "duration": 39,
    "start_time": "2022-06-16T18:28:42.451Z"
   },
   {
    "duration": 53,
    "start_time": "2022-06-16T18:28:42.492Z"
   },
   {
    "duration": 129,
    "start_time": "2022-06-16T18:28:42.547Z"
   },
   {
    "duration": 107,
    "start_time": "2022-06-16T18:28:42.681Z"
   },
   {
    "duration": 183,
    "start_time": "2022-06-16T18:28:42.789Z"
   },
   {
    "duration": 12,
    "start_time": "2022-06-16T18:28:42.974Z"
   },
   {
    "duration": 8,
    "start_time": "2022-06-16T18:28:42.988Z"
   },
   {
    "duration": 55,
    "start_time": "2022-06-16T18:28:43.001Z"
   },
   {
    "duration": 21251,
    "start_time": "2022-06-16T18:28:43.057Z"
   },
   {
    "duration": 27,
    "start_time": "2022-06-16T18:29:04.310Z"
   },
   {
    "duration": 48,
    "start_time": "2022-06-16T18:29:04.339Z"
   },
   {
    "duration": 30,
    "start_time": "2022-06-16T18:29:04.389Z"
   },
   {
    "duration": 56,
    "start_time": "2022-06-16T18:29:04.422Z"
   },
   {
    "duration": 363,
    "start_time": "2022-06-16T18:29:04.481Z"
   },
   {
    "duration": 300,
    "start_time": "2022-06-16T18:29:04.846Z"
   },
   {
    "duration": 356,
    "start_time": "2022-06-16T18:29:05.148Z"
   },
   {
    "duration": 79,
    "start_time": "2022-06-16T18:29:05.506Z"
   },
   {
    "duration": 114,
    "start_time": "2022-06-16T18:29:05.587Z"
   },
   {
    "duration": 6,
    "start_time": "2022-06-16T18:29:05.703Z"
   },
   {
    "duration": 45,
    "start_time": "2022-06-16T18:29:05.711Z"
   },
   {
    "duration": 311,
    "start_time": "2022-06-16T18:29:05.758Z"
   },
   {
    "duration": 92,
    "start_time": "2022-06-16T18:29:06.071Z"
   },
   {
    "duration": 3,
    "start_time": "2022-06-16T18:29:06.165Z"
   },
   {
    "duration": 927539,
    "start_time": "2022-06-16T18:29:06.170Z"
   },
   {
    "duration": 6,
    "start_time": "2022-06-16T18:44:33.712Z"
   },
   {
    "duration": 22,
    "start_time": "2022-06-16T18:44:33.719Z"
   },
   {
    "duration": 216618,
    "start_time": "2022-06-16T18:44:33.743Z"
   },
   {
    "duration": 611,
    "start_time": "2022-06-16T18:48:10.363Z"
   },
   {
    "duration": 7,
    "start_time": "2022-06-16T18:48:10.977Z"
   },
   {
    "duration": 25,
    "start_time": "2022-06-16T18:48:10.986Z"
   },
   {
    "duration": 2433,
    "start_time": "2022-06-16T18:48:11.027Z"
   },
   {
    "duration": 56,
    "start_time": "2022-06-16T18:53:22.070Z"
   },
   {
    "duration": 588,
    "start_time": "2022-06-16T18:53:22.128Z"
   },
   {
    "duration": 10,
    "start_time": "2022-06-16T18:53:22.717Z"
   },
   {
    "duration": 16,
    "start_time": "2022-06-16T18:53:22.728Z"
   },
   {
    "duration": 2400,
    "start_time": "2022-06-16T18:53:22.746Z"
   },
   {
    "duration": 310082,
    "start_time": "2022-06-16T18:53:25.148Z"
   },
   {
    "duration": 32125,
    "start_time": "2022-06-16T18:58:35.232Z"
   },
   {
    "duration": 92,
    "start_time": "2022-06-16T18:59:07.359Z"
   },
   {
    "duration": 17,
    "start_time": "2022-06-16T19:00:02.602Z"
   },
   {
    "duration": 11856,
    "start_time": "2022-06-16T19:01:32.042Z"
   },
   {
    "duration": 4005,
    "start_time": "2022-06-16T19:02:34.751Z"
   },
   {
    "duration": 140,
    "start_time": "2022-06-16T19:03:15.279Z"
   },
   {
    "duration": 138,
    "start_time": "2022-06-16T19:03:20.358Z"
   },
   {
    "duration": 21,
    "start_time": "2022-06-16T19:31:38.858Z"
   },
   {
    "duration": 139,
    "start_time": "2022-06-16T19:31:59.023Z"
   },
   {
    "duration": 6,
    "start_time": "2022-06-16T19:32:13.095Z"
   },
   {
    "duration": 1416,
    "start_time": "2022-06-16T19:32:17.823Z"
   },
   {
    "duration": 567,
    "start_time": "2022-06-16T19:32:48.224Z"
   },
   {
    "duration": 140,
    "start_time": "2022-06-16T19:32:59.894Z"
   },
   {
    "duration": 211,
    "start_time": "2022-06-16T19:33:19.537Z"
   },
   {
    "duration": 240,
    "start_time": "2022-06-16T19:33:37.183Z"
   },
   {
    "duration": 189,
    "start_time": "2022-06-16T19:33:56.087Z"
   },
   {
    "duration": 205,
    "start_time": "2022-06-16T19:34:07.566Z"
   },
   {
    "duration": 214,
    "start_time": "2022-06-16T19:34:15.829Z"
   },
   {
    "duration": 236,
    "start_time": "2022-06-16T19:35:04.241Z"
   },
   {
    "duration": 52,
    "start_time": "2022-06-21T13:16:23.620Z"
   },
   {
    "duration": 1181,
    "start_time": "2022-06-21T13:16:33.189Z"
   },
   {
    "duration": 1096,
    "start_time": "2022-06-21T13:16:35.185Z"
   },
   {
    "duration": 8,
    "start_time": "2022-06-21T13:16:36.283Z"
   },
   {
    "duration": 3,
    "start_time": "2022-06-21T13:16:37.907Z"
   },
   {
    "duration": 19,
    "start_time": "2022-06-21T13:16:38.733Z"
   },
   {
    "duration": 6,
    "start_time": "2022-06-21T13:16:40.484Z"
   },
   {
    "duration": 46,
    "start_time": "2022-06-21T13:16:41.526Z"
   },
   {
    "duration": 139,
    "start_time": "2022-06-21T13:16:42.406Z"
   },
   {
    "duration": 3,
    "start_time": "2022-06-21T13:16:44.389Z"
   },
   {
    "duration": 252,
    "start_time": "2022-06-21T13:16:45.107Z"
   },
   {
    "duration": 37,
    "start_time": "2022-06-21T13:16:46.591Z"
   },
   {
    "duration": 99,
    "start_time": "2022-06-21T13:16:47.371Z"
   },
   {
    "duration": 103,
    "start_time": "2022-06-21T13:16:49.296Z"
   },
   {
    "duration": 592,
    "start_time": "2022-06-21T13:16:50.736Z"
   },
   {
    "duration": 15,
    "start_time": "2022-06-21T13:16:52.535Z"
   },
   {
    "duration": 290,
    "start_time": "2022-06-21T13:16:53.950Z"
   },
   {
    "duration": 37,
    "start_time": "2022-06-21T13:16:55.933Z"
   },
   {
    "duration": 455,
    "start_time": "2022-06-21T13:16:57.115Z"
   },
   {
    "duration": 284,
    "start_time": "2022-06-21T13:16:58.933Z"
   },
   {
    "duration": 266,
    "start_time": "2022-06-21T13:17:01.186Z"
   },
   {
    "duration": 81,
    "start_time": "2022-06-21T13:17:02.775Z"
   },
   {
    "duration": 32,
    "start_time": "2022-06-21T13:17:04.597Z"
   },
   {
    "duration": 24,
    "start_time": "2022-06-21T13:17:05.910Z"
   },
   {
    "duration": 122,
    "start_time": "2022-06-21T13:17:07.652Z"
   },
   {
    "duration": 72,
    "start_time": "2022-06-21T13:17:09.099Z"
   },
   {
    "duration": 119,
    "start_time": "2022-06-21T13:17:10.654Z"
   },
   {
    "duration": 10,
    "start_time": "2022-06-21T13:17:12.218Z"
   },
   {
    "duration": 7,
    "start_time": "2022-06-21T13:17:13.203Z"
   },
   {
    "duration": 18,
    "start_time": "2022-06-21T13:17:15.554Z"
   },
   {
    "duration": 18863,
    "start_time": "2022-06-21T13:17:16.611Z"
   },
   {
    "duration": 21,
    "start_time": "2022-06-21T13:17:35.476Z"
   },
   {
    "duration": 18,
    "start_time": "2022-06-21T13:17:35.499Z"
   },
   {
    "duration": 17,
    "start_time": "2022-06-21T13:17:35.519Z"
   },
   {
    "duration": 42,
    "start_time": "2022-06-21T13:17:35.537Z"
   },
   {
    "duration": 255,
    "start_time": "2022-06-21T13:17:35.582Z"
   },
   {
    "duration": 289,
    "start_time": "2022-06-21T13:17:35.839Z"
   },
   {
    "duration": 71,
    "start_time": "2022-06-21T13:17:36.130Z"
   },
   {
    "duration": 83,
    "start_time": "2022-06-21T13:17:36.203Z"
   },
   {
    "duration": 4,
    "start_time": "2022-06-21T13:17:36.288Z"
   },
   {
    "duration": 6,
    "start_time": "2022-06-21T13:17:36.293Z"
   },
   {
    "duration": 216,
    "start_time": "2022-06-21T13:17:36.415Z"
   },
   {
    "duration": 62,
    "start_time": "2022-06-21T13:17:39.685Z"
   },
   {
    "duration": 3,
    "start_time": "2022-06-21T13:17:43.793Z"
   },
   {
    "duration": 209365,
    "start_time": "2022-06-21T13:17:52.389Z"
   },
   {
    "duration": 637,
    "start_time": "2022-06-21T13:21:21.755Z"
   },
   {
    "duration": 4,
    "start_time": "2022-06-21T13:21:22.394Z"
   },
   {
    "duration": 23,
    "start_time": "2022-06-21T13:21:22.400Z"
   },
   {
    "duration": 2226,
    "start_time": "2022-06-21T13:21:22.425Z"
   },
   {
    "duration": 607729,
    "start_time": "2022-06-21T13:21:24.653Z"
   },
   {
    "duration": 93845,
    "start_time": "2022-06-21T13:31:32.395Z"
   },
   {
    "duration": 14,
    "start_time": "2022-06-21T13:33:06.260Z"
   },
   {
    "duration": 352,
    "start_time": "2022-06-21T13:33:06.278Z"
   },
   {
    "duration": 101,
    "start_time": "2022-06-21T13:35:14.640Z"
   },
   {
    "duration": 25,
    "start_time": "2022-06-21T13:35:32.199Z"
   },
   {
    "duration": 82,
    "start_time": "2022-06-21T13:35:40.799Z"
   },
   {
    "duration": 103,
    "start_time": "2022-06-21T13:35:51.727Z"
   },
   {
    "duration": 76,
    "start_time": "2022-06-21T13:35:56.885Z"
   },
   {
    "duration": 112,
    "start_time": "2022-06-21T13:36:45.717Z"
   },
   {
    "duration": 1522,
    "start_time": "2022-06-21T13:37:13.947Z"
   },
   {
    "duration": 1161,
    "start_time": "2022-06-21T13:37:15.471Z"
   },
   {
    "duration": 12,
    "start_time": "2022-06-21T13:37:16.633Z"
   },
   {
    "duration": 50,
    "start_time": "2022-06-21T13:37:16.647Z"
   },
   {
    "duration": 73,
    "start_time": "2022-06-21T13:37:16.699Z"
   },
   {
    "duration": 17,
    "start_time": "2022-06-21T13:37:16.807Z"
   },
   {
    "duration": 71,
    "start_time": "2022-06-21T13:37:16.825Z"
   },
   {
    "duration": 236,
    "start_time": "2022-06-21T13:37:16.898Z"
   },
   {
    "duration": 14,
    "start_time": "2022-06-21T13:37:17.136Z"
   },
   {
    "duration": 448,
    "start_time": "2022-06-21T13:37:17.154Z"
   },
   {
    "duration": 78,
    "start_time": "2022-06-21T13:37:17.611Z"
   },
   {
    "duration": 206,
    "start_time": "2022-06-21T13:37:17.692Z"
   },
   {
    "duration": 171,
    "start_time": "2022-06-21T13:37:17.909Z"
   },
   {
    "duration": 724,
    "start_time": "2022-06-21T13:37:18.086Z"
   },
   {
    "duration": 82,
    "start_time": "2022-06-21T13:37:18.814Z"
   },
   {
    "duration": 322,
    "start_time": "2022-06-21T13:37:18.899Z"
   },
   {
    "duration": 49,
    "start_time": "2022-06-21T13:37:19.223Z"
   },
   {
    "duration": 421,
    "start_time": "2022-06-21T13:37:19.281Z"
   },
   {
    "duration": 316,
    "start_time": "2022-06-21T13:37:19.705Z"
   },
   {
    "duration": 114,
    "start_time": "2022-06-21T13:37:20.023Z"
   },
   {
    "duration": 60,
    "start_time": "2022-06-21T13:37:20.138Z"
   },
   {
    "duration": 31,
    "start_time": "2022-06-21T13:37:20.200Z"
   },
   {
    "duration": 106,
    "start_time": "2022-06-21T13:37:20.233Z"
   },
   {
    "duration": 104,
    "start_time": "2022-06-21T13:37:20.341Z"
   },
   {
    "duration": 181,
    "start_time": "2022-06-21T13:37:20.447Z"
   },
   {
    "duration": 7,
    "start_time": "2022-06-21T13:37:20.629Z"
   },
   {
    "duration": 26,
    "start_time": "2022-06-21T13:37:20.637Z"
   },
   {
    "duration": 61,
    "start_time": "2022-06-21T13:37:20.672Z"
   },
   {
    "duration": 20432,
    "start_time": "2022-06-21T13:37:20.735Z"
   },
   {
    "duration": 31,
    "start_time": "2022-06-21T13:37:41.169Z"
   },
   {
    "duration": 38,
    "start_time": "2022-06-21T13:37:41.201Z"
   },
   {
    "duration": 75,
    "start_time": "2022-06-21T13:37:41.241Z"
   },
   {
    "duration": 36,
    "start_time": "2022-06-21T13:37:41.318Z"
   },
   {
    "duration": 300,
    "start_time": "2022-06-21T13:37:41.356Z"
   },
   {
    "duration": 274,
    "start_time": "2022-06-21T13:37:41.660Z"
   },
   {
    "duration": 304,
    "start_time": "2022-06-21T13:37:41.936Z"
   },
   {
    "duration": 73,
    "start_time": "2022-06-21T13:37:42.242Z"
   },
   {
    "duration": 93,
    "start_time": "2022-06-21T13:37:42.317Z"
   },
   {
    "duration": 7,
    "start_time": "2022-06-21T13:37:42.411Z"
   },
   {
    "duration": 24,
    "start_time": "2022-06-21T13:37:42.419Z"
   },
   {
    "duration": 242,
    "start_time": "2022-06-21T13:37:42.444Z"
   },
   {
    "duration": 92,
    "start_time": "2022-06-21T13:37:42.687Z"
   },
   {
    "duration": 3,
    "start_time": "2022-06-21T13:37:42.785Z"
   },
   {
    "duration": 1067116,
    "start_time": "2022-06-21T13:37:42.803Z"
   },
   {
    "duration": 4,
    "start_time": "2022-06-21T13:55:29.921Z"
   },
   {
    "duration": 9,
    "start_time": "2022-06-21T13:55:29.927Z"
   },
   {
    "duration": 249664,
    "start_time": "2022-06-21T13:55:29.937Z"
   },
   {
    "duration": 663,
    "start_time": "2022-06-21T13:59:39.605Z"
   },
   {
    "duration": 5,
    "start_time": "2022-06-21T13:59:40.270Z"
   },
   {
    "duration": 55,
    "start_time": "2022-06-21T13:59:40.277Z"
   },
   {
    "duration": 2377,
    "start_time": "2022-06-21T13:59:40.334Z"
   },
   {
    "duration": 506176,
    "start_time": "2022-06-21T13:59:42.713Z"
   },
   {
    "duration": 40611,
    "start_time": "2022-06-21T14:08:08.891Z"
   },
   {
    "duration": 7,
    "start_time": "2022-06-21T14:08:49.503Z"
   },
   {
    "duration": 284,
    "start_time": "2022-06-21T14:08:49.511Z"
   },
   {
    "duration": 17,
    "start_time": "2022-06-21T14:08:49.797Z"
   },
   {
    "duration": 67,
    "start_time": "2022-06-21T14:15:44.413Z"
   },
   {
    "duration": 36683,
    "start_time": "2022-06-21T14:15:55.115Z"
   },
   {
    "duration": 19359,
    "start_time": "2022-06-21T14:19:25.623Z"
   },
   {
    "duration": 32513,
    "start_time": "2022-06-21T14:22:06.073Z"
   },
   {
    "duration": 3,
    "start_time": "2022-06-21T15:14:40.389Z"
   },
   {
    "duration": 851,
    "start_time": "2022-06-21T15:14:42.787Z"
   },
   {
    "duration": 8,
    "start_time": "2022-06-21T15:14:45.324Z"
   },
   {
    "duration": 13,
    "start_time": "2022-06-21T15:14:58.511Z"
   },
   {
    "duration": 4,
    "start_time": "2022-06-21T15:15:05.810Z"
   },
   {
    "duration": 853,
    "start_time": "2022-06-21T15:15:06.948Z"
   },
   {
    "duration": 6,
    "start_time": "2022-06-21T15:15:09.101Z"
   },
   {
    "duration": 4,
    "start_time": "2022-06-21T15:15:11.116Z"
   },
   {
    "duration": 18,
    "start_time": "2022-06-21T15:15:12.719Z"
   },
   {
    "duration": 43,
    "start_time": "2022-06-21T15:15:34.779Z"
   },
   {
    "duration": 36,
    "start_time": "2022-06-21T15:16:18.082Z"
   },
   {
    "duration": 21,
    "start_time": "2022-06-21T15:16:21.093Z"
   },
   {
    "duration": 88,
    "start_time": "2022-06-21T15:16:27.431Z"
   },
   {
    "duration": 98,
    "start_time": "2022-06-21T15:17:50.693Z"
   },
   {
    "duration": 115,
    "start_time": "2022-06-21T15:18:00.292Z"
   },
   {
    "duration": 185,
    "start_time": "2022-06-21T15:18:03.202Z"
   },
   {
    "duration": 17,
    "start_time": "2022-06-21T15:18:04.915Z"
   },
   {
    "duration": 180,
    "start_time": "2022-06-21T15:18:07.387Z"
   },
   {
    "duration": 70,
    "start_time": "2022-06-21T15:18:28.429Z"
   },
   {
    "duration": 1255,
    "start_time": "2022-06-21T15:18:57.675Z"
   },
   {
    "duration": 868,
    "start_time": "2022-06-21T15:18:58.932Z"
   },
   {
    "duration": 11,
    "start_time": "2022-06-21T15:18:59.802Z"
   },
   {
    "duration": 6,
    "start_time": "2022-06-21T15:18:59.816Z"
   },
   {
    "duration": 16,
    "start_time": "2022-06-21T15:18:59.824Z"
   },
   {
    "duration": 60,
    "start_time": "2022-06-21T15:18:59.841Z"
   },
   {
    "duration": 6,
    "start_time": "2022-06-21T15:18:59.902Z"
   },
   {
    "duration": 61,
    "start_time": "2022-06-21T15:18:59.909Z"
   },
   {
    "duration": 153,
    "start_time": "2022-06-21T15:18:59.972Z"
   },
   {
    "duration": 3,
    "start_time": "2022-06-21T15:19:00.126Z"
   },
   {
    "duration": 333,
    "start_time": "2022-06-21T15:19:00.131Z"
   },
   {
    "duration": 54,
    "start_time": "2022-06-21T15:19:00.470Z"
   },
   {
    "duration": 104,
    "start_time": "2022-06-21T15:19:00.527Z"
   },
   {
    "duration": 119,
    "start_time": "2022-06-21T15:19:00.633Z"
   },
   {
    "duration": 641,
    "start_time": "2022-06-21T15:19:00.759Z"
   },
   {
    "duration": 18,
    "start_time": "2022-06-21T15:19:01.402Z"
   },
   {
    "duration": 312,
    "start_time": "2022-06-21T15:19:01.422Z"
   },
   {
    "duration": 54,
    "start_time": "2022-06-21T15:19:01.736Z"
   },
   {
    "duration": 387,
    "start_time": "2022-06-21T15:19:01.793Z"
   },
   {
    "duration": 294,
    "start_time": "2022-06-21T15:19:02.187Z"
   },
   {
    "duration": 112,
    "start_time": "2022-06-21T15:19:02.486Z"
   },
   {
    "duration": 30,
    "start_time": "2022-06-21T15:19:02.599Z"
   },
   {
    "duration": 40,
    "start_time": "2022-06-21T15:19:02.631Z"
   },
   {
    "duration": 132,
    "start_time": "2022-06-21T15:19:02.672Z"
   },
   {
    "duration": 65,
    "start_time": "2022-06-21T15:19:02.806Z"
   },
   {
    "duration": 147,
    "start_time": "2022-06-21T15:19:02.872Z"
   },
   {
    "duration": 7,
    "start_time": "2022-06-21T15:19:03.021Z"
   },
   {
    "duration": 31,
    "start_time": "2022-06-21T15:19:03.030Z"
   },
   {
    "duration": 58,
    "start_time": "2022-06-21T15:19:03.063Z"
   },
   {
    "duration": 17780,
    "start_time": "2022-06-21T15:19:03.123Z"
   },
   {
    "duration": 16,
    "start_time": "2022-06-21T15:19:20.905Z"
   },
   {
    "duration": 17,
    "start_time": "2022-06-21T15:19:20.923Z"
   },
   {
    "duration": 49,
    "start_time": "2022-06-21T15:19:20.941Z"
   },
   {
    "duration": 31,
    "start_time": "2022-06-21T15:19:20.991Z"
   },
   {
    "duration": 259,
    "start_time": "2022-06-21T15:19:21.024Z"
   },
   {
    "duration": 244,
    "start_time": "2022-06-21T15:19:21.287Z"
   },
   {
    "duration": 283,
    "start_time": "2022-06-21T15:19:21.533Z"
   },
   {
    "duration": 76,
    "start_time": "2022-06-21T15:19:21.817Z"
   },
   {
    "duration": 76,
    "start_time": "2022-06-21T15:19:21.894Z"
   },
   {
    "duration": 8,
    "start_time": "2022-06-21T15:19:21.982Z"
   },
   {
    "duration": 6,
    "start_time": "2022-06-21T15:19:21.992Z"
   },
   {
    "duration": 216,
    "start_time": "2022-06-21T15:19:22.000Z"
   },
   {
    "duration": 87,
    "start_time": "2022-06-21T15:19:22.218Z"
   },
   {
    "duration": 3,
    "start_time": "2022-06-21T15:19:22.307Z"
   },
   {
    "duration": 851432,
    "start_time": "2022-06-21T15:19:22.312Z"
   },
   {
    "duration": 5,
    "start_time": "2022-06-21T15:33:33.746Z"
   },
   {
    "duration": 43,
    "start_time": "2022-06-21T15:33:33.753Z"
   },
   {
    "duration": 209372,
    "start_time": "2022-06-21T15:33:33.798Z"
   },
   {
    "duration": 589,
    "start_time": "2022-06-21T15:37:03.175Z"
   },
   {
    "duration": 6,
    "start_time": "2022-06-21T15:37:03.770Z"
   },
   {
    "duration": 47,
    "start_time": "2022-06-21T15:37:03.777Z"
   },
   {
    "duration": 2189,
    "start_time": "2022-06-21T15:37:03.825Z"
   },
   {
    "duration": 0,
    "start_time": "2022-06-21T15:37:06.016Z"
   },
   {
    "duration": 0,
    "start_time": "2022-06-21T15:37:06.018Z"
   },
   {
    "duration": 0,
    "start_time": "2022-06-21T15:37:06.019Z"
   },
   {
    "duration": 0,
    "start_time": "2022-06-21T15:37:06.020Z"
   },
   {
    "duration": 0,
    "start_time": "2022-06-21T15:37:06.021Z"
   },
   {
    "duration": 2002,
    "start_time": "2022-06-21T18:17:41.781Z"
   },
   {
    "duration": 546,
    "start_time": "2022-06-21T18:17:49.775Z"
   },
   {
    "duration": 5,
    "start_time": "2022-06-21T18:17:50.986Z"
   },
   {
    "duration": 20,
    "start_time": "2022-06-21T18:17:52.483Z"
   },
   {
    "duration": 3224,
    "start_time": "2022-06-21T18:17:57.085Z"
   },
   {
    "duration": 679258,
    "start_time": "2022-06-21T18:18:00.312Z"
   },
   {
    "duration": 88118,
    "start_time": "2022-06-21T18:29:19.572Z"
   },
   {
    "duration": 10,
    "start_time": "2022-06-21T18:30:47.697Z"
   },
   {
    "duration": 279,
    "start_time": "2022-06-21T18:30:47.709Z"
   },
   {
    "duration": 8,
    "start_time": "2022-06-21T18:30:47.990Z"
   },
   {
    "duration": 12,
    "start_time": "2022-06-21T18:33:40.091Z"
   },
   {
    "duration": 17,
    "start_time": "2022-06-21T18:34:15.853Z"
   },
   {
    "duration": 259,
    "start_time": "2022-06-21T18:34:28.248Z"
   },
   {
    "duration": 2691,
    "start_time": "2022-06-22T02:11:27.107Z"
   },
   {
    "duration": 1260,
    "start_time": "2022-06-22T02:11:29.800Z"
   },
   {
    "duration": 9,
    "start_time": "2022-06-22T02:11:31.062Z"
   },
   {
    "duration": 9,
    "start_time": "2022-06-22T02:12:31.722Z"
   },
   {
    "duration": 18,
    "start_time": "2022-06-22T02:12:34.253Z"
   },
   {
    "duration": 52,
    "start_time": "2022-06-22T02:12:40.498Z"
   },
   {
    "duration": 6,
    "start_time": "2022-06-22T02:12:42.811Z"
   },
   {
    "duration": 56,
    "start_time": "2022-06-22T02:12:45.112Z"
   },
   {
    "duration": 265,
    "start_time": "2022-06-22T02:13:06.047Z"
   },
   {
    "duration": 3,
    "start_time": "2022-06-22T02:13:12.545Z"
   },
   {
    "duration": 354,
    "start_time": "2022-06-22T02:13:13.357Z"
   },
   {
    "duration": 74,
    "start_time": "2022-06-22T02:13:20.005Z"
   },
   {
    "duration": 156,
    "start_time": "2022-06-22T02:13:23.786Z"
   },
   {
    "duration": 107,
    "start_time": "2022-06-22T02:13:32.026Z"
   },
   {
    "duration": 827,
    "start_time": "2022-06-22T02:13:44.135Z"
   },
   {
    "duration": 18,
    "start_time": "2022-06-22T02:13:47.598Z"
   },
   {
    "duration": 393,
    "start_time": "2022-06-22T02:13:50.290Z"
   },
   {
    "duration": 46,
    "start_time": "2022-06-22T02:14:03.304Z"
   },
   {
    "duration": 311,
    "start_time": "2022-06-22T02:14:04.688Z"
   },
   {
    "duration": 328,
    "start_time": "2022-06-22T02:14:11.390Z"
   },
   {
    "duration": 100,
    "start_time": "2022-06-22T02:14:17.113Z"
   },
   {
    "duration": 37,
    "start_time": "2022-06-22T02:14:25.239Z"
   },
   {
    "duration": 32,
    "start_time": "2022-06-22T02:14:43.811Z"
   },
   {
    "duration": 114,
    "start_time": "2022-06-22T02:14:47.054Z"
   },
   {
    "duration": 101,
    "start_time": "2022-06-22T02:14:50.690Z"
   },
   {
    "duration": 172,
    "start_time": "2022-06-22T02:14:53.499Z"
   },
   {
    "duration": 8,
    "start_time": "2022-06-22T02:14:57.151Z"
   },
   {
    "duration": 8,
    "start_time": "2022-06-22T02:14:57.437Z"
   },
   {
    "duration": 20,
    "start_time": "2022-06-22T02:15:03.947Z"
   },
   {
    "duration": 16694,
    "start_time": "2022-06-22T02:16:15.361Z"
   },
   {
    "duration": 6,
    "start_time": "2022-06-22T02:17:06.388Z"
   },
   {
    "duration": 28,
    "start_time": "2022-06-22T02:20:16.074Z"
   },
   {
    "duration": 18,
    "start_time": "2022-06-22T02:20:17.575Z"
   },
   {
    "duration": 21,
    "start_time": "2022-06-22T02:20:21.396Z"
   },
   {
    "duration": 27,
    "start_time": "2022-06-22T02:20:22.593Z"
   },
   {
    "duration": 238,
    "start_time": "2022-06-22T02:20:25.857Z"
   },
   {
    "duration": 229,
    "start_time": "2022-06-22T02:20:28.752Z"
   },
   {
    "duration": 244,
    "start_time": "2022-06-22T02:20:39.814Z"
   },
   {
    "duration": 71,
    "start_time": "2022-06-22T02:21:59.666Z"
   },
   {
    "duration": 6,
    "start_time": "2022-06-22T02:22:00.266Z"
   },
   {
    "duration": 4,
    "start_time": "2022-06-22T02:22:23.444Z"
   },
   {
    "duration": 295,
    "start_time": "2022-06-22T02:22:31.864Z"
   },
   {
    "duration": 65,
    "start_time": "2022-06-22T02:22:32.351Z"
   },
   {
    "duration": 3,
    "start_time": "2022-06-22T02:22:40.449Z"
   },
   {
    "duration": 2711,
    "start_time": "2022-06-22T03:25:14.098Z"
   },
   {
    "duration": 983,
    "start_time": "2022-06-22T03:25:16.812Z"
   },
   {
    "duration": 9,
    "start_time": "2022-06-22T03:25:17.797Z"
   },
   {
    "duration": 22,
    "start_time": "2022-06-22T03:25:17.808Z"
   },
   {
    "duration": 33,
    "start_time": "2022-06-22T03:25:17.833Z"
   },
   {
    "duration": 45,
    "start_time": "2022-06-22T03:25:17.868Z"
   },
   {
    "duration": 27,
    "start_time": "2022-06-22T03:25:17.916Z"
   },
   {
    "duration": 70,
    "start_time": "2022-06-22T03:25:17.947Z"
   },
   {
    "duration": 164,
    "start_time": "2022-06-22T03:25:18.020Z"
   },
   {
    "duration": 8,
    "start_time": "2022-06-22T03:25:18.186Z"
   },
   {
    "duration": 298,
    "start_time": "2022-06-22T03:25:18.195Z"
   },
   {
    "duration": 43,
    "start_time": "2022-06-22T03:25:18.494Z"
   },
   {
    "duration": 129,
    "start_time": "2022-06-22T03:25:18.539Z"
   },
   {
    "duration": 131,
    "start_time": "2022-06-22T03:25:18.673Z"
   },
   {
    "duration": 962,
    "start_time": "2022-06-22T03:25:18.807Z"
   },
   {
    "duration": 18,
    "start_time": "2022-06-22T03:25:19.772Z"
   },
   {
    "duration": 350,
    "start_time": "2022-06-22T03:25:19.792Z"
   },
   {
    "duration": 51,
    "start_time": "2022-06-22T03:25:20.145Z"
   },
   {
    "duration": 479,
    "start_time": "2022-06-22T03:25:20.199Z"
   },
   {
    "duration": 424,
    "start_time": "2022-06-22T03:25:20.681Z"
   },
   {
    "duration": 153,
    "start_time": "2022-06-22T03:25:21.107Z"
   },
   {
    "duration": 34,
    "start_time": "2022-06-22T03:25:21.262Z"
   },
   {
    "duration": 52,
    "start_time": "2022-06-22T03:25:21.299Z"
   },
   {
    "duration": 137,
    "start_time": "2022-06-22T03:25:21.354Z"
   },
   {
    "duration": 97,
    "start_time": "2022-06-22T03:25:21.493Z"
   },
   {
    "duration": 183,
    "start_time": "2022-06-22T03:25:21.592Z"
   },
   {
    "duration": 7,
    "start_time": "2022-06-22T03:25:21.778Z"
   },
   {
    "duration": 32,
    "start_time": "2022-06-22T03:25:21.787Z"
   },
   {
    "duration": 45,
    "start_time": "2022-06-22T03:25:21.821Z"
   },
   {
    "duration": 18938,
    "start_time": "2022-06-22T03:25:21.868Z"
   },
   {
    "duration": 23,
    "start_time": "2022-06-22T03:25:40.808Z"
   },
   {
    "duration": 19,
    "start_time": "2022-06-22T03:25:40.832Z"
   },
   {
    "duration": 17,
    "start_time": "2022-06-22T03:25:40.852Z"
   },
   {
    "duration": 30,
    "start_time": "2022-06-22T03:25:40.870Z"
   },
   {
    "duration": 247,
    "start_time": "2022-06-22T03:25:40.901Z"
   },
   {
    "duration": 246,
    "start_time": "2022-06-22T03:25:41.150Z"
   },
   {
    "duration": 261,
    "start_time": "2022-06-22T03:25:41.398Z"
   },
   {
    "duration": 53,
    "start_time": "2022-06-22T03:25:41.661Z"
   },
   {
    "duration": 73,
    "start_time": "2022-06-22T03:25:41.726Z"
   },
   {
    "duration": 5,
    "start_time": "2022-06-22T03:25:41.800Z"
   },
   {
    "duration": 22,
    "start_time": "2022-06-22T03:25:41.808Z"
   },
   {
    "duration": 205,
    "start_time": "2022-06-22T03:25:41.832Z"
   },
   {
    "duration": 65,
    "start_time": "2022-06-22T03:25:42.039Z"
   },
   {
    "duration": 3,
    "start_time": "2022-06-22T03:25:42.106Z"
   },
   {
    "duration": 61235,
    "start_time": "2022-06-22T03:25:42.110Z"
   },
   {
    "duration": 9,
    "start_time": "2022-06-22T03:26:43.347Z"
   },
   {
    "duration": 0,
    "start_time": "2022-06-22T03:26:43.357Z"
   },
   {
    "duration": 779960,
    "start_time": "2022-06-22T03:26:55.103Z"
   },
   {
    "duration": 4,
    "start_time": "2022-06-22T03:39:55.065Z"
   },
   {
    "duration": 12,
    "start_time": "2022-06-22T03:39:55.071Z"
   },
   {
    "duration": 553,
    "start_time": "2022-06-22T03:55:03.398Z"
   },
   {
    "duration": 5,
    "start_time": "2022-06-22T03:55:22.692Z"
   },
   {
    "duration": 32,
    "start_time": "2022-06-22T04:03:07.410Z"
   },
   {
    "duration": 1221,
    "start_time": "2022-06-22T11:33:11.867Z"
   },
   {
    "duration": 1103,
    "start_time": "2022-06-22T11:33:13.090Z"
   },
   {
    "duration": 10,
    "start_time": "2022-06-22T11:33:14.195Z"
   },
   {
    "duration": 3,
    "start_time": "2022-06-22T11:33:15.462Z"
   },
   {
    "duration": 17,
    "start_time": "2022-06-22T11:33:16.639Z"
   },
   {
    "duration": 23,
    "start_time": "2022-06-22T11:33:19.390Z"
   },
   {
    "duration": 6,
    "start_time": "2022-06-22T11:33:20.646Z"
   },
   {
    "duration": 40,
    "start_time": "2022-06-22T11:33:22.414Z"
   },
   {
    "duration": 101,
    "start_time": "2022-06-22T11:33:23.582Z"
   },
   {
    "duration": 3,
    "start_time": "2022-06-22T11:33:25.846Z"
   },
   {
    "duration": 268,
    "start_time": "2022-06-22T11:33:26.867Z"
   },
   {
    "duration": 36,
    "start_time": "2022-06-22T11:33:28.466Z"
   },
   {
    "duration": 64,
    "start_time": "2022-06-22T11:33:29.702Z"
   },
   {
    "duration": 105,
    "start_time": "2022-06-22T11:33:31.703Z"
   },
   {
    "duration": 822,
    "start_time": "2022-06-22T11:33:33.479Z"
   },
   {
    "duration": 18,
    "start_time": "2022-06-22T11:33:35.983Z"
   },
   {
    "duration": 376,
    "start_time": "2022-06-22T11:33:37.630Z"
   },
   {
    "duration": 38,
    "start_time": "2022-06-22T11:33:39.942Z"
   },
   {
    "duration": 286,
    "start_time": "2022-06-22T11:33:40.918Z"
   },
   {
    "duration": 291,
    "start_time": "2022-06-22T11:33:42.782Z"
   },
   {
    "duration": 42,
    "start_time": "2022-06-22T11:33:45.183Z"
   },
   {
    "duration": 25,
    "start_time": "2022-06-22T11:33:46.183Z"
   },
   {
    "duration": 93,
    "start_time": "2022-06-22T11:33:48.591Z"
   },
   {
    "duration": 51,
    "start_time": "2022-06-22T11:33:51.246Z"
   },
   {
    "duration": 135,
    "start_time": "2022-06-22T11:33:57.167Z"
   },
   {
    "duration": 8,
    "start_time": "2022-06-22T11:33:59.350Z"
   },
   {
    "duration": 7,
    "start_time": "2022-06-22T11:34:00.790Z"
   },
   {
    "duration": 28,
    "start_time": "2022-06-22T11:34:05.030Z"
   },
   {
    "duration": 36,
    "start_time": "2022-06-22T11:34:14.439Z"
   },
   {
    "duration": 16,
    "start_time": "2022-06-22T11:34:15.894Z"
   },
   {
    "duration": 13,
    "start_time": "2022-06-22T11:34:17.519Z"
   },
   {
    "duration": 15,
    "start_time": "2022-06-22T11:34:18.509Z"
   },
   {
    "duration": 16,
    "start_time": "2022-06-22T11:34:19.464Z"
   },
   {
    "duration": 255,
    "start_time": "2022-06-22T11:34:20.366Z"
   },
   {
    "duration": 244,
    "start_time": "2022-06-22T11:34:22.327Z"
   },
   {
    "duration": 304,
    "start_time": "2022-06-22T11:34:24.970Z"
   },
   {
    "duration": 48,
    "start_time": "2022-06-22T11:34:27.069Z"
   },
   {
    "duration": 82,
    "start_time": "2022-06-22T11:34:51.911Z"
   },
   {
    "duration": 5,
    "start_time": "2022-06-22T11:34:54.615Z"
   },
   {
    "duration": 3,
    "start_time": "2022-06-22T11:35:10.975Z"
   },
   {
    "duration": 1942,
    "start_time": "2022-06-22T11:35:12.263Z"
   },
   {
    "duration": 77,
    "start_time": "2022-06-22T11:37:23.615Z"
   },
   {
    "duration": 52,
    "start_time": "2022-06-22T11:37:27.517Z"
   },
   {
    "duration": 75,
    "start_time": "2022-06-22T11:37:32.990Z"
   },
   {
    "duration": 19,
    "start_time": "2022-06-22T11:37:58.865Z"
   },
   {
    "duration": 181,
    "start_time": "2022-06-22T11:38:11.534Z"
   },
   {
    "duration": 4,
    "start_time": "2022-06-22T11:38:27.942Z"
   },
   {
    "duration": 847,
    "start_time": "2022-06-22T11:38:29.023Z"
   },
   {
    "duration": 5,
    "start_time": "2022-06-22T11:38:30.502Z"
   },
   {
    "duration": 4,
    "start_time": "2022-06-22T11:38:31.582Z"
   },
   {
    "duration": 14,
    "start_time": "2022-06-22T11:38:32.823Z"
   },
   {
    "duration": 25,
    "start_time": "2022-06-22T11:38:34.615Z"
   },
   {
    "duration": 7,
    "start_time": "2022-06-22T11:38:35.769Z"
   },
   {
    "duration": 28,
    "start_time": "2022-06-22T11:38:36.823Z"
   },
   {
    "duration": 109,
    "start_time": "2022-06-22T11:38:38.134Z"
   },
   {
    "duration": 3,
    "start_time": "2022-06-22T11:38:40.142Z"
   },
   {
    "duration": 249,
    "start_time": "2022-06-22T11:38:41.167Z"
   },
   {
    "duration": 35,
    "start_time": "2022-06-22T11:38:42.170Z"
   },
   {
    "duration": 69,
    "start_time": "2022-06-22T11:38:43.429Z"
   },
   {
    "duration": 105,
    "start_time": "2022-06-22T11:38:45.278Z"
   },
   {
    "duration": 428,
    "start_time": "2022-06-22T11:38:47.570Z"
   },
   {
    "duration": 15,
    "start_time": "2022-06-22T11:38:49.598Z"
   },
   {
    "duration": 282,
    "start_time": "2022-06-22T11:38:51.150Z"
   },
   {
    "duration": 28,
    "start_time": "2022-06-22T11:38:53.006Z"
   },
   {
    "duration": 412,
    "start_time": "2022-06-22T11:38:54.446Z"
   },
   {
    "duration": 284,
    "start_time": "2022-06-22T11:38:56.734Z"
   },
   {
    "duration": 66,
    "start_time": "2022-06-22T11:38:59.286Z"
   },
   {
    "duration": 31,
    "start_time": "2022-06-22T11:39:01.694Z"
   },
   {
    "duration": 26,
    "start_time": "2022-06-22T11:39:04.382Z"
   },
   {
    "duration": 92,
    "start_time": "2022-06-22T11:39:13.878Z"
   },
   {
    "duration": 60,
    "start_time": "2022-06-22T11:39:16.102Z"
   },
   {
    "duration": 139,
    "start_time": "2022-06-22T11:39:20.686Z"
   },
   {
    "duration": 8,
    "start_time": "2022-06-22T11:39:22.014Z"
   },
   {
    "duration": 8,
    "start_time": "2022-06-22T11:39:23.006Z"
   },
   {
    "duration": 13,
    "start_time": "2022-06-22T11:39:25.982Z"
   },
   {
    "duration": 26,
    "start_time": "2022-06-22T11:39:32.971Z"
   },
   {
    "duration": 170,
    "start_time": "2022-06-22T11:39:48.286Z"
   },
   {
    "duration": 12,
    "start_time": "2022-06-22T11:40:09.918Z"
   },
   {
    "duration": 32,
    "start_time": "2022-06-22T11:40:51.279Z"
   },
   {
    "duration": 3,
    "start_time": "2022-06-22T11:43:07.782Z"
   },
   {
    "duration": 757,
    "start_time": "2022-06-22T11:43:08.829Z"
   },
   {
    "duration": 4,
    "start_time": "2022-06-22T11:43:09.637Z"
   },
   {
    "duration": 4,
    "start_time": "2022-06-22T11:43:11.093Z"
   },
   {
    "duration": 12,
    "start_time": "2022-06-22T11:43:11.998Z"
   },
   {
    "duration": 23,
    "start_time": "2022-06-22T11:43:13.830Z"
   },
   {
    "duration": 6,
    "start_time": "2022-06-22T11:43:14.798Z"
   },
   {
    "duration": 28,
    "start_time": "2022-06-22T11:43:15.653Z"
   },
   {
    "duration": 101,
    "start_time": "2022-06-22T11:43:16.902Z"
   },
   {
    "duration": 3,
    "start_time": "2022-06-22T11:43:19.213Z"
   },
   {
    "duration": 222,
    "start_time": "2022-06-22T11:43:20.074Z"
   },
   {
    "duration": 34,
    "start_time": "2022-06-22T11:43:21.767Z"
   },
   {
    "duration": 64,
    "start_time": "2022-06-22T11:43:22.706Z"
   },
   {
    "duration": 120,
    "start_time": "2022-06-22T11:43:24.629Z"
   },
   {
    "duration": 395,
    "start_time": "2022-06-22T11:43:26.750Z"
   },
   {
    "duration": 14,
    "start_time": "2022-06-22T11:43:29.066Z"
   },
   {
    "duration": 292,
    "start_time": "2022-06-22T11:43:30.782Z"
   },
   {
    "duration": 33,
    "start_time": "2022-06-22T11:43:33.051Z"
   },
   {
    "duration": 380,
    "start_time": "2022-06-22T11:43:34.390Z"
   },
   {
    "duration": 261,
    "start_time": "2022-06-22T11:43:37.493Z"
   },
   {
    "duration": 62,
    "start_time": "2022-06-22T11:43:41.974Z"
   },
   {
    "duration": 32,
    "start_time": "2022-06-22T11:43:45.747Z"
   },
   {
    "duration": 25,
    "start_time": "2022-06-22T11:43:50.102Z"
   },
   {
    "duration": 87,
    "start_time": "2022-06-22T11:43:52.094Z"
   },
   {
    "duration": 52,
    "start_time": "2022-06-22T11:43:55.182Z"
   },
   {
    "duration": 133,
    "start_time": "2022-06-22T11:43:57.534Z"
   },
   {
    "duration": 9,
    "start_time": "2022-06-22T11:43:59.502Z"
   },
   {
    "duration": 7,
    "start_time": "2022-06-22T11:44:01.061Z"
   },
   {
    "duration": 13,
    "start_time": "2022-06-22T11:44:03.709Z"
   },
   {
    "duration": 9,
    "start_time": "2022-06-22T11:44:06.265Z"
   },
   {
    "duration": 6,
    "start_time": "2022-06-22T11:44:08.093Z"
   },
   {
    "duration": 5,
    "start_time": "2022-06-22T11:45:40.118Z"
   },
   {
    "duration": 5,
    "start_time": "2022-06-22T11:46:19.668Z"
   },
   {
    "duration": 4,
    "start_time": "2022-06-22T11:53:00.977Z"
   },
   {
    "duration": 2206,
    "start_time": "2022-06-22T11:53:02.850Z"
   },
   {
    "duration": 4,
    "start_time": "2022-06-22T11:53:20.526Z"
   },
   {
    "duration": 718,
    "start_time": "2022-06-22T11:53:21.630Z"
   },
   {
    "duration": 4,
    "start_time": "2022-06-22T11:53:22.575Z"
   },
   {
    "duration": 4,
    "start_time": "2022-06-22T11:53:23.829Z"
   },
   {
    "duration": 12,
    "start_time": "2022-06-22T11:53:24.526Z"
   },
   {
    "duration": 23,
    "start_time": "2022-06-22T11:53:25.814Z"
   },
   {
    "duration": 6,
    "start_time": "2022-06-22T11:53:26.693Z"
   },
   {
    "duration": 32,
    "start_time": "2022-06-22T11:53:27.733Z"
   },
   {
    "duration": 109,
    "start_time": "2022-06-22T11:53:29.064Z"
   },
   {
    "duration": 3,
    "start_time": "2022-06-22T11:53:30.685Z"
   },
   {
    "duration": 248,
    "start_time": "2022-06-22T11:53:31.510Z"
   },
   {
    "duration": 35,
    "start_time": "2022-06-22T11:53:32.822Z"
   },
   {
    "duration": 69,
    "start_time": "2022-06-22T11:53:33.622Z"
   },
   {
    "duration": 108,
    "start_time": "2022-06-22T11:53:35.192Z"
   },
   {
    "duration": 487,
    "start_time": "2022-06-22T11:53:37.133Z"
   },
   {
    "duration": 16,
    "start_time": "2022-06-22T11:53:40.101Z"
   },
   {
    "duration": 290,
    "start_time": "2022-06-22T11:53:41.979Z"
   },
   {
    "duration": 29,
    "start_time": "2022-06-22T11:53:44.752Z"
   },
   {
    "duration": 277,
    "start_time": "2022-06-22T11:53:45.742Z"
   },
   {
    "duration": 389,
    "start_time": "2022-06-22T11:53:47.926Z"
   },
   {
    "duration": 59,
    "start_time": "2022-06-22T11:53:50.109Z"
   },
   {
    "duration": 29,
    "start_time": "2022-06-22T11:53:52.145Z"
   },
   {
    "duration": 27,
    "start_time": "2022-06-22T11:53:56.894Z"
   },
   {
    "duration": 101,
    "start_time": "2022-06-22T11:54:00.675Z"
   },
   {
    "duration": 54,
    "start_time": "2022-06-22T11:54:07.094Z"
   },
   {
    "duration": 132,
    "start_time": "2022-06-22T11:54:09.179Z"
   },
   {
    "duration": 7,
    "start_time": "2022-06-22T11:54:11.067Z"
   },
   {
    "duration": 5,
    "start_time": "2022-06-22T11:54:12.694Z"
   },
   {
    "duration": 13,
    "start_time": "2022-06-22T11:54:14.007Z"
   },
   {
    "duration": 7,
    "start_time": "2022-06-22T11:54:17.390Z"
   },
   {
    "duration": 7,
    "start_time": "2022-06-22T11:54:19.093Z"
   },
   {
    "duration": 5,
    "start_time": "2022-06-22T11:54:32.222Z"
   },
   {
    "duration": 17,
    "start_time": "2022-06-22T11:54:34.879Z"
   },
   {
    "duration": 16,
    "start_time": "2022-06-22T11:54:35.925Z"
   },
   {
    "duration": 16,
    "start_time": "2022-06-22T11:54:37.239Z"
   },
   {
    "duration": 16,
    "start_time": "2022-06-22T11:54:38.575Z"
   },
   {
    "duration": 199,
    "start_time": "2022-06-22T11:54:39.677Z"
   },
   {
    "duration": 190,
    "start_time": "2022-06-22T11:54:41.606Z"
   },
   {
    "duration": 218,
    "start_time": "2022-06-22T11:54:43.577Z"
   },
   {
    "duration": 58,
    "start_time": "2022-06-22T11:54:44.775Z"
   },
   {
    "duration": 70,
    "start_time": "2022-06-22T11:54:50.406Z"
   },
   {
    "duration": 4,
    "start_time": "2022-06-22T11:54:52.102Z"
   },
   {
    "duration": 4,
    "start_time": "2022-06-22T11:54:53.893Z"
   },
   {
    "duration": 186,
    "start_time": "2022-06-22T11:54:56.022Z"
   },
   {
    "duration": 67,
    "start_time": "2022-06-22T11:54:59.063Z"
   },
   {
    "duration": 3,
    "start_time": "2022-06-22T11:55:07.264Z"
   },
   {
    "duration": 778207,
    "start_time": "2022-06-22T11:55:12.885Z"
   },
   {
    "duration": 4,
    "start_time": "2022-06-22T12:08:11.094Z"
   },
   {
    "duration": 11,
    "start_time": "2022-06-22T12:08:11.099Z"
   },
   {
    "duration": 194854,
    "start_time": "2022-06-22T12:08:11.112Z"
   },
   {
    "duration": 4,
    "start_time": "2022-06-22T13:01:42.916Z"
   },
   {
    "duration": 347,
    "start_time": "2022-06-22T13:05:09.701Z"
   },
   {
    "duration": 4,
    "start_time": "2022-06-22T13:05:22.037Z"
   },
   {
    "duration": 23,
    "start_time": "2022-06-22T13:05:51.389Z"
   },
   {
    "duration": 2048,
    "start_time": "2022-06-22T13:06:15.753Z"
   },
   {
    "duration": 11,
    "start_time": "2022-06-22T13:13:13.653Z"
   },
   {
    "duration": 476,
    "start_time": "2022-06-22T13:13:58.413Z"
   },
   {
    "duration": 12,
    "start_time": "2022-06-22T13:14:02.517Z"
   },
   {
    "duration": 8,
    "start_time": "2022-06-22T13:14:22.701Z"
   },
   {
    "duration": 22,
    "start_time": "2022-06-22T13:15:21.406Z"
   },
   {
    "duration": 27,
    "start_time": "2022-06-22T13:15:34.534Z"
   },
   {
    "duration": 31,
    "start_time": "2022-06-22T13:15:45.454Z"
   },
   {
    "duration": 33,
    "start_time": "2022-06-22T13:17:33.078Z"
   },
   {
    "duration": 17,
    "start_time": "2022-06-22T13:17:56.366Z"
   },
   {
    "duration": 33,
    "start_time": "2022-06-22T13:20:04.457Z"
   },
   {
    "duration": 522,
    "start_time": "2022-06-22T13:22:28.984Z"
   },
   {
    "duration": 16,
    "start_time": "2022-06-22T13:22:49.714Z"
   },
   {
    "duration": 10,
    "start_time": "2022-06-22T13:23:09.343Z"
   },
   {
    "duration": 9,
    "start_time": "2022-06-22T13:28:02.805Z"
   },
   {
    "duration": 4,
    "start_time": "2022-06-22T13:28:39.756Z"
   },
   {
    "duration": 3,
    "start_time": "2022-06-22T13:28:45.621Z"
   },
   {
    "duration": 1354,
    "start_time": "2022-06-22T18:19:00.188Z"
   },
   {
    "duration": 1216,
    "start_time": "2022-06-22T18:19:02.358Z"
   },
   {
    "duration": 9,
    "start_time": "2022-06-22T18:19:03.576Z"
   },
   {
    "duration": 5,
    "start_time": "2022-06-22T18:19:05.110Z"
   },
   {
    "duration": 26,
    "start_time": "2022-06-22T18:19:06.110Z"
   },
   {
    "duration": 45,
    "start_time": "2022-06-22T18:19:07.983Z"
   },
   {
    "duration": 7,
    "start_time": "2022-06-22T18:19:09.181Z"
   },
   {
    "duration": 43,
    "start_time": "2022-06-22T18:19:10.701Z"
   },
   {
    "duration": 141,
    "start_time": "2022-06-22T18:19:12.254Z"
   },
   {
    "duration": 3,
    "start_time": "2022-06-22T18:19:14.253Z"
   },
   {
    "duration": 314,
    "start_time": "2022-06-22T18:19:15.510Z"
   },
   {
    "duration": 38,
    "start_time": "2022-06-22T18:19:16.861Z"
   },
   {
    "duration": 87,
    "start_time": "2022-06-22T18:19:17.797Z"
   },
   {
    "duration": 112,
    "start_time": "2022-06-22T18:19:19.685Z"
   },
   {
    "duration": 843,
    "start_time": "2022-06-22T18:19:21.565Z"
   },
   {
    "duration": 19,
    "start_time": "2022-06-22T18:19:24.765Z"
   },
   {
    "duration": 376,
    "start_time": "2022-06-22T18:19:26.926Z"
   },
   {
    "duration": 42,
    "start_time": "2022-06-22T18:19:29.221Z"
   },
   {
    "duration": 316,
    "start_time": "2022-06-22T18:19:30.981Z"
   },
   {
    "duration": 297,
    "start_time": "2022-06-22T18:19:33.650Z"
   },
   {
    "duration": 94,
    "start_time": "2022-06-22T18:19:36.078Z"
   },
   {
    "duration": 34,
    "start_time": "2022-06-22T18:19:38.190Z"
   },
   {
    "duration": 25,
    "start_time": "2022-06-22T18:19:40.150Z"
   },
   {
    "duration": 99,
    "start_time": "2022-06-22T18:19:43.461Z"
   },
   {
    "duration": 96,
    "start_time": "2022-06-22T18:19:45.537Z"
   },
   {
    "duration": 133,
    "start_time": "2022-06-22T18:19:47.414Z"
   },
   {
    "duration": 8,
    "start_time": "2022-06-22T18:19:48.893Z"
   },
   {
    "duration": 6,
    "start_time": "2022-06-22T18:19:50.999Z"
   },
   {
    "duration": 18,
    "start_time": "2022-06-22T18:19:52.870Z"
   },
   {
    "duration": 7,
    "start_time": "2022-06-22T18:19:54.261Z"
   },
   {
    "duration": 7,
    "start_time": "2022-06-22T18:19:56.293Z"
   },
   {
    "duration": 34,
    "start_time": "2022-06-22T18:19:59.247Z"
   },
   {
    "duration": 32,
    "start_time": "2022-06-22T18:20:01.077Z"
   },
   {
    "duration": 19,
    "start_time": "2022-06-22T18:20:02.233Z"
   },
   {
    "duration": 18,
    "start_time": "2022-06-22T18:20:03.374Z"
   },
   {
    "duration": 259,
    "start_time": "2022-06-22T18:20:04.734Z"
   },
   {
    "duration": 249,
    "start_time": "2022-06-22T18:20:06.621Z"
   },
   {
    "duration": 272,
    "start_time": "2022-06-22T18:20:08.245Z"
   },
   {
    "duration": 67,
    "start_time": "2022-06-22T18:20:09.869Z"
   },
   {
    "duration": 69,
    "start_time": "2022-06-22T18:20:13.042Z"
   },
   {
    "duration": 9,
    "start_time": "2022-06-22T18:20:14.733Z"
   },
   {
    "duration": 6,
    "start_time": "2022-06-22T18:20:16.406Z"
   },
   {
    "duration": 205,
    "start_time": "2022-06-22T18:20:17.757Z"
   },
   {
    "duration": 71,
    "start_time": "2022-06-22T18:20:18.869Z"
   },
   {
    "duration": 5,
    "start_time": "2022-06-22T18:20:20.239Z"
   },
   {
    "duration": 592,
    "start_time": "2022-06-22T18:25:13.990Z"
   },
   {
    "duration": 555,
    "start_time": "2022-06-22T18:25:15.797Z"
   },
   {
    "duration": 3,
    "start_time": "2022-06-22T18:25:20.942Z"
   },
   {
    "duration": 1723,
    "start_time": "2022-06-22T18:25:22.421Z"
   },
   {
    "duration": 141,
    "start_time": "2022-06-22T18:25:35.901Z"
   },
   {
    "duration": 6,
    "start_time": "2022-06-22T18:26:10.135Z"
   },
   {
    "duration": 4,
    "start_time": "2022-06-22T18:26:27.076Z"
   },
   {
    "duration": 1972,
    "start_time": "2022-06-22T18:29:29.772Z"
   },
   {
    "duration": 69,
    "start_time": "2022-06-22T18:36:48.418Z"
   },
   {
    "duration": 47,
    "start_time": "2022-06-22T18:37:04.994Z"
   },
   {
    "duration": 91,
    "start_time": "2022-06-22T18:37:19.226Z"
   },
   {
    "duration": 56,
    "start_time": "2022-06-22T18:37:29.209Z"
   },
   {
    "duration": 4,
    "start_time": "2022-06-22T18:37:50.018Z"
   },
   {
    "duration": 74,
    "start_time": "2022-06-22T18:38:06.296Z"
   },
   {
    "duration": 374724,
    "start_time": "2022-06-22T18:39:25.059Z"
   },
   {
    "duration": 199711,
    "start_time": "2022-06-22T18:46:26.614Z"
   },
   {
    "duration": 212673,
    "start_time": "2022-06-22T18:51:11.758Z"
   },
   {
    "duration": 332076,
    "start_time": "2022-06-22T18:55:26.456Z"
   },
   {
    "duration": 340589,
    "start_time": "2022-06-22T19:03:24.238Z"
   },
   {
    "duration": 196442,
    "start_time": "2022-06-22T19:09:19.996Z"
   },
   {
    "duration": 1490,
    "start_time": "2022-06-22T19:18:08.415Z"
   },
   {
    "duration": 13,
    "start_time": "2022-06-22T19:21:11.045Z"
   },
   {
    "duration": 4,
    "start_time": "2022-06-22T19:21:51.015Z"
   },
   {
    "duration": 13,
    "start_time": "2022-06-22T19:21:59.204Z"
   },
   {
    "duration": 18,
    "start_time": "2022-06-22T19:23:52.517Z"
   },
   {
    "duration": 1223,
    "start_time": "2022-06-23T11:20:31.131Z"
   },
   {
    "duration": 2728,
    "start_time": "2022-06-23T11:20:33.514Z"
   },
   {
    "duration": 10,
    "start_time": "2022-06-23T11:20:36.244Z"
   },
   {
    "duration": 3,
    "start_time": "2022-06-23T11:20:37.448Z"
   },
   {
    "duration": 16,
    "start_time": "2022-06-23T11:20:38.362Z"
   },
   {
    "duration": 25,
    "start_time": "2022-06-23T11:20:40.055Z"
   },
   {
    "duration": 5,
    "start_time": "2022-06-23T11:20:41.168Z"
   },
   {
    "duration": 39,
    "start_time": "2022-06-23T11:20:42.415Z"
   },
   {
    "duration": 114,
    "start_time": "2022-06-23T11:20:43.959Z"
   },
   {
    "duration": 4,
    "start_time": "2022-06-23T11:20:45.586Z"
   },
   {
    "duration": 290,
    "start_time": "2022-06-23T11:20:46.433Z"
   },
   {
    "duration": 33,
    "start_time": "2022-06-23T11:20:47.640Z"
   },
   {
    "duration": 65,
    "start_time": "2022-06-23T11:20:48.522Z"
   },
   {
    "duration": 112,
    "start_time": "2022-06-23T11:20:49.968Z"
   },
   {
    "duration": 755,
    "start_time": "2022-06-23T11:20:51.889Z"
   },
   {
    "duration": 16,
    "start_time": "2022-06-23T11:20:54.728Z"
   },
   {
    "duration": 353,
    "start_time": "2022-06-23T11:20:56.667Z"
   },
   {
    "duration": 34,
    "start_time": "2022-06-23T11:20:58.890Z"
   },
   {
    "duration": 266,
    "start_time": "2022-06-23T11:21:00.502Z"
   },
   {
    "duration": 270,
    "start_time": "2022-06-23T11:21:02.701Z"
   },
   {
    "duration": 72,
    "start_time": "2022-06-23T11:21:05.152Z"
   },
   {
    "duration": 31,
    "start_time": "2022-06-23T11:21:07.325Z"
   },
   {
    "duration": 27,
    "start_time": "2022-06-23T11:21:08.832Z"
   },
   {
    "duration": 98,
    "start_time": "2022-06-23T11:21:11.952Z"
   },
   {
    "duration": 53,
    "start_time": "2022-06-23T11:21:13.799Z"
   },
   {
    "duration": 119,
    "start_time": "2022-06-23T11:21:15.784Z"
   },
   {
    "duration": 7,
    "start_time": "2022-06-23T11:21:18.381Z"
   },
   {
    "duration": 6,
    "start_time": "2022-06-23T11:21:19.723Z"
   },
   {
    "duration": 25,
    "start_time": "2022-06-23T11:21:21.927Z"
   },
   {
    "duration": 8,
    "start_time": "2022-06-23T11:21:23.443Z"
   },
   {
    "duration": 7,
    "start_time": "2022-06-23T11:21:25.311Z"
   },
   {
    "duration": 27,
    "start_time": "2022-06-23T11:21:27.560Z"
   },
   {
    "duration": 24,
    "start_time": "2022-06-23T11:21:28.725Z"
   },
   {
    "duration": 24,
    "start_time": "2022-06-23T11:21:29.983Z"
   },
   {
    "duration": 16,
    "start_time": "2022-06-23T11:21:31.541Z"
   },
   {
    "duration": 224,
    "start_time": "2022-06-23T11:21:32.743Z"
   },
   {
    "duration": 242,
    "start_time": "2022-06-23T11:21:34.447Z"
   },
   {
    "duration": 285,
    "start_time": "2022-06-23T11:21:36.553Z"
   },
   {
    "duration": 65,
    "start_time": "2022-06-23T11:21:37.878Z"
   },
   {
    "duration": 68,
    "start_time": "2022-06-23T11:21:40.583Z"
   },
   {
    "duration": 4,
    "start_time": "2022-06-23T11:21:42.000Z"
   },
   {
    "duration": 4,
    "start_time": "2022-06-23T11:21:43.800Z"
   },
   {
    "duration": 202,
    "start_time": "2022-06-23T11:21:44.936Z"
   },
   {
    "duration": 72,
    "start_time": "2022-06-23T11:21:45.987Z"
   },
   {
    "duration": 3,
    "start_time": "2022-06-23T11:21:47.401Z"
   },
   {
    "duration": 3,
    "start_time": "2022-06-23T11:22:02.431Z"
   },
   {
    "duration": 1512,
    "start_time": "2022-06-23T11:22:03.536Z"
   },
   {
    "duration": 4,
    "start_time": "2022-06-23T11:22:07.101Z"
   },
   {
    "duration": 4,
    "start_time": "2022-06-23T11:22:08.170Z"
   },
   {
    "duration": 1760,
    "start_time": "2022-06-23T11:22:09.881Z"
   },
   {
    "duration": 234,
    "start_time": "2022-06-23T11:23:07.706Z"
   },
   {
    "duration": 155,
    "start_time": "2022-06-23T11:23:45.599Z"
   },
   {
    "duration": 133,
    "start_time": "2022-06-23T11:24:05.536Z"
   },
   {
    "duration": 107,
    "start_time": "2022-06-23T11:24:32.898Z"
   },
   {
    "duration": 87,
    "start_time": "2022-06-23T11:25:22.168Z"
   },
   {
    "duration": 393591,
    "start_time": "2022-06-23T11:26:49.951Z"
   },
   {
    "duration": 1070458,
    "start_time": "2022-06-23T11:33:33.296Z"
   },
   {
    "duration": 1396,
    "start_time": "2022-06-23T11:51:39.965Z"
   },
   {
    "duration": 2922,
    "start_time": "2022-06-23T11:51:41.363Z"
   },
   {
    "duration": 13,
    "start_time": "2022-06-23T11:51:44.287Z"
   },
   {
    "duration": 6,
    "start_time": "2022-06-23T11:51:44.302Z"
   },
   {
    "duration": 28,
    "start_time": "2022-06-23T11:51:44.310Z"
   },
   {
    "duration": 36,
    "start_time": "2022-06-23T11:51:44.340Z"
   },
   {
    "duration": 6,
    "start_time": "2022-06-23T11:51:44.377Z"
   },
   {
    "duration": 57,
    "start_time": "2022-06-23T11:51:44.384Z"
   },
   {
    "duration": 116,
    "start_time": "2022-06-23T11:51:44.443Z"
   },
   {
    "duration": 2,
    "start_time": "2022-06-23T11:51:44.562Z"
   },
   {
    "duration": 296,
    "start_time": "2022-06-23T11:51:44.566Z"
   },
   {
    "duration": 33,
    "start_time": "2022-06-23T11:51:44.864Z"
   },
   {
    "duration": 81,
    "start_time": "2022-06-23T11:51:44.899Z"
   },
   {
    "duration": 126,
    "start_time": "2022-06-23T11:51:44.982Z"
   },
   {
    "duration": 645,
    "start_time": "2022-06-23T11:51:45.110Z"
   },
   {
    "duration": 15,
    "start_time": "2022-06-23T11:51:45.757Z"
   },
   {
    "duration": 316,
    "start_time": "2022-06-23T11:51:45.774Z"
   },
   {
    "duration": 48,
    "start_time": "2022-06-23T11:51:46.092Z"
   },
   {
    "duration": 363,
    "start_time": "2022-06-23T11:51:46.142Z"
   },
   {
    "duration": 359,
    "start_time": "2022-06-23T11:51:46.507Z"
   },
   {
    "duration": 117,
    "start_time": "2022-06-23T11:51:46.868Z"
   },
   {
    "duration": 40,
    "start_time": "2022-06-23T11:51:46.986Z"
   },
   {
    "duration": 38,
    "start_time": "2022-06-23T11:51:47.029Z"
   },
   {
    "duration": 117,
    "start_time": "2022-06-23T11:51:47.069Z"
   },
   {
    "duration": 62,
    "start_time": "2022-06-23T11:51:47.188Z"
   },
   {
    "duration": 142,
    "start_time": "2022-06-23T11:51:47.252Z"
   },
   {
    "duration": 8,
    "start_time": "2022-06-23T11:51:47.396Z"
   },
   {
    "duration": 19,
    "start_time": "2022-06-23T11:51:47.410Z"
   },
   {
    "duration": 18,
    "start_time": "2022-06-23T11:51:47.431Z"
   },
   {
    "duration": 7,
    "start_time": "2022-06-23T11:51:47.452Z"
   },
   {
    "duration": 28,
    "start_time": "2022-06-23T11:51:47.460Z"
   },
   {
    "duration": 34,
    "start_time": "2022-06-23T11:51:47.490Z"
   },
   {
    "duration": 40,
    "start_time": "2022-06-23T11:51:47.526Z"
   },
   {
    "duration": 27,
    "start_time": "2022-06-23T11:51:47.568Z"
   },
   {
    "duration": 32,
    "start_time": "2022-06-23T11:51:47.597Z"
   },
   {
    "duration": 245,
    "start_time": "2022-06-23T11:51:47.630Z"
   },
   {
    "duration": 243,
    "start_time": "2022-06-23T11:51:47.877Z"
   },
   {
    "duration": 281,
    "start_time": "2022-06-23T11:51:48.125Z"
   },
   {
    "duration": 69,
    "start_time": "2022-06-23T11:51:48.408Z"
   },
   {
    "duration": 78,
    "start_time": "2022-06-23T11:51:48.478Z"
   },
   {
    "duration": 4,
    "start_time": "2022-06-23T11:51:48.558Z"
   },
   {
    "duration": 16,
    "start_time": "2022-06-23T11:51:48.564Z"
   },
   {
    "duration": 258,
    "start_time": "2022-06-23T11:51:48.581Z"
   },
   {
    "duration": 72,
    "start_time": "2022-06-23T11:51:48.846Z"
   },
   {
    "duration": 14,
    "start_time": "2022-06-23T11:51:48.920Z"
   },
   {
    "duration": 762220,
    "start_time": "2022-06-23T11:51:48.936Z"
   },
   {
    "duration": 5,
    "start_time": "2022-06-23T12:04:31.158Z"
   },
   {
    "duration": 25,
    "start_time": "2022-06-23T12:04:31.164Z"
   },
   {
    "duration": 176600,
    "start_time": "2022-06-23T12:04:31.191Z"
   },
   {
    "duration": 4,
    "start_time": "2022-06-23T12:07:27.792Z"
   },
   {
    "duration": 1416,
    "start_time": "2022-06-23T12:07:27.797Z"
   },
   {
    "duration": 4,
    "start_time": "2022-06-23T12:07:29.215Z"
   },
   {
    "duration": 40,
    "start_time": "2022-06-23T12:07:29.220Z"
   },
   {
    "duration": 3207,
    "start_time": "2022-06-23T12:07:29.261Z"
   },
   {
    "duration": 191653,
    "start_time": "2022-06-23T12:07:32.474Z"
   },
   {
    "duration": 131757,
    "start_time": "2022-06-23T12:10:44.128Z"
   },
   {
    "duration": 140,
    "start_time": "2022-06-23T12:12:55.887Z"
   },
   {
    "duration": 0,
    "start_time": "2022-06-23T12:12:56.029Z"
   },
   {
    "duration": 0,
    "start_time": "2022-06-23T12:12:56.031Z"
   },
   {
    "duration": 106747,
    "start_time": "2022-06-23T12:27:36.890Z"
   },
   {
    "duration": 10,
    "start_time": "2022-06-23T12:48:08.204Z"
   },
   {
    "duration": 182877,
    "start_time": "2022-06-23T12:51:16.452Z"
   },
   {
    "duration": 184902,
    "start_time": "2022-06-23T12:54:19.331Z"
   },
   {
    "duration": 92215,
    "start_time": "2022-06-23T12:57:24.235Z"
   },
   {
    "duration": 12,
    "start_time": "2022-06-23T12:58:56.452Z"
   },
   {
    "duration": 0,
    "start_time": "2022-06-23T12:58:56.465Z"
   },
   {
    "duration": 0,
    "start_time": "2022-06-23T12:58:56.467Z"
   },
   {
    "duration": 184852,
    "start_time": "2022-06-23T12:59:44.226Z"
   },
   {
    "duration": 0,
    "start_time": "2022-06-23T13:02:49.094Z"
   },
   {
    "duration": 11,
    "start_time": "2022-06-23T13:06:28.971Z"
   },
   {
    "duration": 185612,
    "start_time": "2022-06-23T13:06:43.827Z"
   },
   {
    "duration": 13,
    "start_time": "2022-06-23T13:11:34.761Z"
   },
   {
    "duration": 209841,
    "start_time": "2022-06-23T13:12:20.037Z"
   },
   {
    "duration": 192057,
    "start_time": "2022-06-23T13:15:59.264Z"
   },
   {
    "duration": 22,
    "start_time": "2022-06-23T13:19:11.326Z"
   },
   {
    "duration": 269,
    "start_time": "2022-06-23T13:19:11.350Z"
   },
   {
    "duration": 10,
    "start_time": "2022-06-23T13:20:22.843Z"
   },
   {
    "duration": 290867,
    "start_time": "2022-06-23T13:20:49.086Z"
   },
   {
    "duration": 8,
    "start_time": "2022-06-23T13:26:24.169Z"
   },
   {
    "duration": 176171,
    "start_time": "2022-06-23T13:27:54.963Z"
   },
   {
    "duration": 8,
    "start_time": "2022-06-23T13:31:08.450Z"
   },
   {
    "duration": 11,
    "start_time": "2022-06-23T13:38:25.873Z"
   },
   {
    "duration": 10,
    "start_time": "2022-06-23T13:41:20.962Z"
   },
   {
    "duration": 14,
    "start_time": "2022-06-23T13:41:40.019Z"
   },
   {
    "duration": 9,
    "start_time": "2022-06-23T13:41:42.487Z"
   },
   {
    "duration": 1215,
    "start_time": "2022-06-23T13:42:39.694Z"
   },
   {
    "duration": 777,
    "start_time": "2022-06-23T13:42:40.911Z"
   },
   {
    "duration": 12,
    "start_time": "2022-06-23T13:42:41.691Z"
   },
   {
    "duration": 25,
    "start_time": "2022-06-23T13:42:41.706Z"
   },
   {
    "duration": 49,
    "start_time": "2022-06-23T13:42:41.733Z"
   },
   {
    "duration": 41,
    "start_time": "2022-06-23T13:42:41.784Z"
   },
   {
    "duration": 22,
    "start_time": "2022-06-23T13:42:41.826Z"
   },
   {
    "duration": 41,
    "start_time": "2022-06-23T13:42:41.850Z"
   },
   {
    "duration": 138,
    "start_time": "2022-06-23T13:42:41.893Z"
   },
   {
    "duration": 5,
    "start_time": "2022-06-23T13:42:42.035Z"
   },
   {
    "duration": 324,
    "start_time": "2022-06-23T13:42:42.042Z"
   },
   {
    "duration": 40,
    "start_time": "2022-06-23T13:42:42.368Z"
   },
   {
    "duration": 84,
    "start_time": "2022-06-23T13:42:42.410Z"
   },
   {
    "duration": 150,
    "start_time": "2022-06-23T13:42:42.496Z"
   },
   {
    "duration": 680,
    "start_time": "2022-06-23T13:42:42.648Z"
   },
   {
    "duration": 17,
    "start_time": "2022-06-23T13:42:43.330Z"
   },
   {
    "duration": 303,
    "start_time": "2022-06-23T13:42:43.349Z"
   },
   {
    "duration": 39,
    "start_time": "2022-06-23T13:42:43.654Z"
   },
   {
    "duration": 426,
    "start_time": "2022-06-23T13:42:43.695Z"
   },
   {
    "duration": 286,
    "start_time": "2022-06-23T13:42:44.122Z"
   },
   {
    "duration": 83,
    "start_time": "2022-06-23T13:42:44.410Z"
   },
   {
    "duration": 45,
    "start_time": "2022-06-23T13:42:44.494Z"
   },
   {
    "duration": 25,
    "start_time": "2022-06-23T13:42:44.540Z"
   },
   {
    "duration": 111,
    "start_time": "2022-06-23T13:42:44.567Z"
   },
   {
    "duration": 68,
    "start_time": "2022-06-23T13:42:44.680Z"
   },
   {
    "duration": 138,
    "start_time": "2022-06-23T13:42:44.750Z"
   },
   {
    "duration": 7,
    "start_time": "2022-06-23T13:42:44.889Z"
   },
   {
    "duration": 25,
    "start_time": "2022-06-23T13:42:44.900Z"
   },
   {
    "duration": 12,
    "start_time": "2022-06-23T13:42:44.927Z"
   },
   {
    "duration": 6,
    "start_time": "2022-06-23T13:42:44.941Z"
   },
   {
    "duration": 6,
    "start_time": "2022-06-23T13:42:44.948Z"
   },
   {
    "duration": 25,
    "start_time": "2022-06-23T13:42:44.956Z"
   },
   {
    "duration": 44,
    "start_time": "2022-06-23T13:42:44.983Z"
   },
   {
    "duration": 17,
    "start_time": "2022-06-23T13:42:45.029Z"
   },
   {
    "duration": 17,
    "start_time": "2022-06-23T13:42:45.048Z"
   },
   {
    "duration": 250,
    "start_time": "2022-06-23T13:42:45.067Z"
   },
   {
    "duration": 239,
    "start_time": "2022-06-23T13:42:45.319Z"
   },
   {
    "duration": 253,
    "start_time": "2022-06-23T13:42:45.560Z"
   },
   {
    "duration": 60,
    "start_time": "2022-06-23T13:42:45.815Z"
   },
   {
    "duration": 76,
    "start_time": "2022-06-23T13:42:45.877Z"
   },
   {
    "duration": 4,
    "start_time": "2022-06-23T13:42:45.955Z"
   },
   {
    "duration": 6,
    "start_time": "2022-06-23T13:42:45.961Z"
   },
   {
    "duration": 224,
    "start_time": "2022-06-23T13:42:45.968Z"
   },
   {
    "duration": 70,
    "start_time": "2022-06-23T13:42:46.194Z"
   },
   {
    "duration": 2,
    "start_time": "2022-06-23T13:42:46.266Z"
   },
   {
    "duration": 790647,
    "start_time": "2022-06-23T13:42:46.270Z"
   },
   {
    "duration": 4,
    "start_time": "2022-06-23T13:55:56.919Z"
   },
   {
    "duration": 7,
    "start_time": "2022-06-23T13:55:56.924Z"
   },
   {
    "duration": 194793,
    "start_time": "2022-06-23T13:55:56.932Z"
   },
   {
    "duration": 4,
    "start_time": "2022-06-23T13:59:11.727Z"
   },
   {
    "duration": 1622,
    "start_time": "2022-06-23T13:59:11.733Z"
   },
   {
    "duration": 4,
    "start_time": "2022-06-23T13:59:13.357Z"
   },
   {
    "duration": 7,
    "start_time": "2022-06-23T13:59:13.362Z"
   },
   {
    "duration": 1842,
    "start_time": "2022-06-23T13:59:13.371Z"
   },
   {
    "duration": 212813,
    "start_time": "2022-06-23T13:59:15.215Z"
   },
   {
    "duration": 246317,
    "start_time": "2022-06-23T14:02:48.031Z"
   },
   {
    "duration": 17,
    "start_time": "2022-06-23T14:06:54.350Z"
   },
   {
    "duration": 244,
    "start_time": "2022-06-23T14:06:54.369Z"
   },
   {
    "duration": 12,
    "start_time": "2022-06-23T14:06:54.614Z"
   },
   {
    "duration": 12,
    "start_time": "2022-06-23T14:06:54.627Z"
   },
   {
    "duration": 9,
    "start_time": "2022-06-23T14:06:54.640Z"
   },
   {
    "duration": 111,
    "start_time": "2022-06-23T15:55:27.777Z"
   },
   {
    "duration": 87,
    "start_time": "2022-06-23T16:02:37.503Z"
   },
   {
    "duration": 1344,
    "start_time": "2022-06-23T16:02:45.487Z"
   },
   {
    "duration": 1406,
    "start_time": "2022-06-23T16:02:46.833Z"
   },
   {
    "duration": 9,
    "start_time": "2022-06-23T16:02:48.240Z"
   },
   {
    "duration": 41,
    "start_time": "2022-06-23T16:02:48.255Z"
   },
   {
    "duration": 18,
    "start_time": "2022-06-23T16:02:48.298Z"
   },
   {
    "duration": 23,
    "start_time": "2022-06-23T16:02:48.317Z"
   },
   {
    "duration": 15,
    "start_time": "2022-06-23T16:02:48.342Z"
   },
   {
    "duration": 60,
    "start_time": "2022-06-23T16:02:48.359Z"
   },
   {
    "duration": 118,
    "start_time": "2022-06-23T16:02:48.421Z"
   },
   {
    "duration": 10,
    "start_time": "2022-06-23T16:02:48.542Z"
   },
   {
    "duration": 313,
    "start_time": "2022-06-23T16:02:48.560Z"
   },
   {
    "duration": 39,
    "start_time": "2022-06-23T16:02:48.878Z"
   },
   {
    "duration": 102,
    "start_time": "2022-06-23T16:02:48.919Z"
   },
   {
    "duration": 143,
    "start_time": "2022-06-23T16:02:49.023Z"
   },
   {
    "duration": 851,
    "start_time": "2022-06-23T16:02:49.167Z"
   },
   {
    "duration": 35,
    "start_time": "2022-06-23T16:02:50.020Z"
   },
   {
    "duration": 481,
    "start_time": "2022-06-23T16:02:50.057Z"
   },
   {
    "duration": 50,
    "start_time": "2022-06-23T16:02:50.540Z"
   },
   {
    "duration": 292,
    "start_time": "2022-06-23T16:02:50.592Z"
   },
   {
    "duration": 302,
    "start_time": "2022-06-23T16:02:50.886Z"
   },
   {
    "duration": 84,
    "start_time": "2022-06-23T16:02:51.190Z"
   },
   {
    "duration": 33,
    "start_time": "2022-06-23T16:02:51.284Z"
   },
   {
    "duration": 24,
    "start_time": "2022-06-23T16:02:51.319Z"
   },
   {
    "duration": 143,
    "start_time": "2022-06-23T16:02:51.345Z"
   },
   {
    "duration": 55,
    "start_time": "2022-06-23T16:02:51.490Z"
   },
   {
    "duration": 149,
    "start_time": "2022-06-23T16:02:51.546Z"
   },
   {
    "duration": 7,
    "start_time": "2022-06-23T16:02:51.697Z"
   },
   {
    "duration": 6,
    "start_time": "2022-06-23T16:02:51.707Z"
   },
   {
    "duration": 18,
    "start_time": "2022-06-23T16:02:51.714Z"
   },
   {
    "duration": 17,
    "start_time": "2022-06-23T16:02:51.734Z"
   },
   {
    "duration": 25,
    "start_time": "2022-06-23T16:02:51.759Z"
   },
   {
    "duration": 27,
    "start_time": "2022-06-23T16:02:51.787Z"
   },
   {
    "duration": 22,
    "start_time": "2022-06-23T16:02:51.817Z"
   },
   {
    "duration": 31,
    "start_time": "2022-06-23T16:02:51.842Z"
   },
   {
    "duration": 31,
    "start_time": "2022-06-23T16:02:51.877Z"
   },
   {
    "duration": 243,
    "start_time": "2022-06-23T16:02:51.910Z"
   },
   {
    "duration": 290,
    "start_time": "2022-06-23T16:02:52.155Z"
   },
   {
    "duration": 269,
    "start_time": "2022-06-23T16:02:52.447Z"
   },
   {
    "duration": 73,
    "start_time": "2022-06-23T16:02:52.717Z"
   },
   {
    "duration": 84,
    "start_time": "2022-06-23T16:02:52.792Z"
   },
   {
    "duration": 9,
    "start_time": "2022-06-23T16:02:52.882Z"
   },
   {
    "duration": 7,
    "start_time": "2022-06-23T16:02:52.893Z"
   },
   {
    "duration": 222,
    "start_time": "2022-06-23T16:02:52.901Z"
   },
   {
    "duration": 84,
    "start_time": "2022-06-23T16:02:53.125Z"
   },
   {
    "duration": 3,
    "start_time": "2022-06-23T16:02:53.211Z"
   },
   {
    "duration": 891966,
    "start_time": "2022-06-23T16:02:53.215Z"
   },
   {
    "duration": 8,
    "start_time": "2022-06-23T16:17:45.183Z"
   },
   {
    "duration": 20,
    "start_time": "2022-06-23T16:17:45.193Z"
   },
   {
    "duration": 227910,
    "start_time": "2022-06-23T16:17:45.214Z"
   },
   {
    "duration": 4,
    "start_time": "2022-06-23T16:21:33.126Z"
   },
   {
    "duration": 1661,
    "start_time": "2022-06-23T16:21:33.133Z"
   },
   {
    "duration": 10,
    "start_time": "2022-06-23T16:21:34.802Z"
   },
   {
    "duration": 23,
    "start_time": "2022-06-23T16:21:34.813Z"
   },
   {
    "duration": 2359,
    "start_time": "2022-06-23T16:21:34.838Z"
   },
   {
    "duration": 487278,
    "start_time": "2022-06-23T16:21:37.209Z"
   },
   {
    "duration": 2608893,
    "start_time": "2022-06-23T16:29:44.497Z"
   },
   {
    "duration": 34,
    "start_time": "2022-06-23T17:13:13.402Z"
   },
   {
    "duration": 328,
    "start_time": "2022-06-23T17:13:13.439Z"
   },
   {
    "duration": 11,
    "start_time": "2022-06-23T17:13:13.769Z"
   },
   {
    "duration": 14,
    "start_time": "2022-06-23T17:13:13.782Z"
   },
   {
    "duration": 39,
    "start_time": "2022-06-23T17:13:13.798Z"
   },
   {
    "duration": 1133,
    "start_time": "2022-06-23T17:13:13.839Z"
   },
   {
    "duration": 1265,
    "start_time": "2022-06-24T04:29:55.753Z"
   },
   {
    "duration": 1061,
    "start_time": "2022-06-24T04:29:57.020Z"
   },
   {
    "duration": 8,
    "start_time": "2022-06-24T04:29:58.083Z"
   },
   {
    "duration": 5,
    "start_time": "2022-06-24T04:29:58.093Z"
   },
   {
    "duration": 17,
    "start_time": "2022-06-24T04:29:58.100Z"
   },
   {
    "duration": 24,
    "start_time": "2022-06-24T04:29:58.119Z"
   },
   {
    "duration": 5,
    "start_time": "2022-06-24T04:29:58.145Z"
   },
   {
    "duration": 38,
    "start_time": "2022-06-24T04:29:58.152Z"
   },
   {
    "duration": 149,
    "start_time": "2022-06-24T04:29:58.191Z"
   },
   {
    "duration": 3,
    "start_time": "2022-06-24T04:29:58.343Z"
   },
   {
    "duration": 289,
    "start_time": "2022-06-24T04:29:58.348Z"
   },
   {
    "duration": 43,
    "start_time": "2022-06-24T04:29:58.638Z"
   },
   {
    "duration": 91,
    "start_time": "2022-06-24T04:29:58.683Z"
   },
   {
    "duration": 114,
    "start_time": "2022-06-24T04:29:58.776Z"
   },
   {
    "duration": 729,
    "start_time": "2022-06-24T04:29:58.892Z"
   },
   {
    "duration": 17,
    "start_time": "2022-06-24T04:29:59.626Z"
   },
   {
    "duration": 349,
    "start_time": "2022-06-24T04:29:59.644Z"
   },
   {
    "duration": 41,
    "start_time": "2022-06-24T04:29:59.995Z"
   },
   {
    "duration": 269,
    "start_time": "2022-06-24T04:30:00.037Z"
   },
   {
    "duration": 261,
    "start_time": "2022-06-24T04:30:00.307Z"
   },
   {
    "duration": 89,
    "start_time": "2022-06-24T04:30:00.570Z"
   },
   {
    "duration": 30,
    "start_time": "2022-06-24T04:30:00.661Z"
   },
   {
    "duration": 35,
    "start_time": "2022-06-24T04:30:00.693Z"
   },
   {
    "duration": 104,
    "start_time": "2022-06-24T04:30:00.730Z"
   },
   {
    "duration": 60,
    "start_time": "2022-06-24T04:30:00.836Z"
   },
   {
    "duration": 133,
    "start_time": "2022-06-24T04:30:00.899Z"
   },
   {
    "duration": 7,
    "start_time": "2022-06-24T04:30:01.034Z"
   },
   {
    "duration": 6,
    "start_time": "2022-06-24T04:30:01.045Z"
   },
   {
    "duration": 19,
    "start_time": "2022-06-24T04:30:01.053Z"
   },
   {
    "duration": 8,
    "start_time": "2022-06-24T04:30:01.073Z"
   },
   {
    "duration": 20,
    "start_time": "2022-06-24T04:30:01.082Z"
   },
   {
    "duration": 38,
    "start_time": "2022-06-24T04:30:01.103Z"
   },
   {
    "duration": 31,
    "start_time": "2022-06-24T04:30:01.143Z"
   },
   {
    "duration": 43,
    "start_time": "2022-06-24T04:30:01.176Z"
   },
   {
    "duration": 18,
    "start_time": "2022-06-24T04:30:01.221Z"
   },
   {
    "duration": 254,
    "start_time": "2022-06-24T04:30:01.240Z"
   },
   {
    "duration": 252,
    "start_time": "2022-06-24T04:30:01.496Z"
   },
   {
    "duration": 259,
    "start_time": "2022-06-24T04:30:01.750Z"
   },
   {
    "duration": 58,
    "start_time": "2022-06-24T04:30:02.011Z"
   },
   {
    "duration": 67,
    "start_time": "2022-06-24T04:30:02.071Z"
   },
   {
    "duration": 6,
    "start_time": "2022-06-24T04:30:02.141Z"
   },
   {
    "duration": 47,
    "start_time": "2022-06-24T04:30:02.148Z"
   },
   {
    "duration": 202,
    "start_time": "2022-06-24T04:30:02.196Z"
   },
   {
    "duration": 66,
    "start_time": "2022-06-24T04:30:02.400Z"
   },
   {
    "duration": 3,
    "start_time": "2022-06-24T04:30:02.468Z"
   },
   {
    "duration": 104344,
    "start_time": "2022-06-24T04:30:02.472Z"
   },
   {
    "duration": 10,
    "start_time": "2022-06-24T04:31:46.818Z"
   },
   {
    "duration": 0,
    "start_time": "2022-06-24T04:31:46.829Z"
   },
   {
    "duration": 0,
    "start_time": "2022-06-24T04:31:46.830Z"
   },
   {
    "duration": 0,
    "start_time": "2022-06-24T04:31:46.832Z"
   },
   {
    "duration": 0,
    "start_time": "2022-06-24T04:31:46.833Z"
   },
   {
    "duration": 0,
    "start_time": "2022-06-24T04:31:46.835Z"
   },
   {
    "duration": 0,
    "start_time": "2022-06-24T04:31:46.836Z"
   },
   {
    "duration": 1207,
    "start_time": "2022-06-24T10:34:11.310Z"
   },
   {
    "duration": 1210,
    "start_time": "2022-06-24T10:38:06.832Z"
   },
   {
    "duration": 1187,
    "start_time": "2022-06-24T10:38:08.044Z"
   },
   {
    "duration": 10,
    "start_time": "2022-06-24T10:38:09.235Z"
   },
   {
    "duration": 9,
    "start_time": "2022-06-24T10:38:09.246Z"
   },
   {
    "duration": 25,
    "start_time": "2022-06-24T10:38:09.257Z"
   },
   {
    "duration": 25,
    "start_time": "2022-06-24T10:38:09.284Z"
   },
   {
    "duration": 6,
    "start_time": "2022-06-24T10:38:09.311Z"
   },
   {
    "duration": 59,
    "start_time": "2022-06-24T10:38:09.318Z"
   },
   {
    "duration": 132,
    "start_time": "2022-06-24T10:38:09.381Z"
   },
   {
    "duration": 2,
    "start_time": "2022-06-24T10:38:09.515Z"
   },
   {
    "duration": 316,
    "start_time": "2022-06-24T10:38:09.519Z"
   },
   {
    "duration": 44,
    "start_time": "2022-06-24T10:38:09.837Z"
   },
   {
    "duration": 87,
    "start_time": "2022-06-24T10:38:09.883Z"
   },
   {
    "duration": 124,
    "start_time": "2022-06-24T10:38:09.972Z"
   },
   {
    "duration": 911,
    "start_time": "2022-06-24T10:38:10.098Z"
   },
   {
    "duration": 19,
    "start_time": "2022-06-24T10:38:11.011Z"
   },
   {
    "duration": 425,
    "start_time": "2022-06-24T10:38:11.031Z"
   },
   {
    "duration": 45,
    "start_time": "2022-06-24T10:38:11.458Z"
   },
   {
    "duration": 339,
    "start_time": "2022-06-24T10:38:11.505Z"
   },
   {
    "duration": 333,
    "start_time": "2022-06-24T10:38:11.846Z"
   },
   {
    "duration": 92,
    "start_time": "2022-06-24T10:38:12.181Z"
   },
   {
    "duration": 37,
    "start_time": "2022-06-24T10:38:12.276Z"
   },
   {
    "duration": 30,
    "start_time": "2022-06-24T10:38:12.315Z"
   },
   {
    "duration": 145,
    "start_time": "2022-06-24T10:38:12.347Z"
   },
   {
    "duration": 75,
    "start_time": "2022-06-24T10:38:12.494Z"
   },
   {
    "duration": 167,
    "start_time": "2022-06-24T10:38:12.571Z"
   },
   {
    "duration": 7,
    "start_time": "2022-06-24T10:38:12.743Z"
   },
   {
    "duration": 18,
    "start_time": "2022-06-24T10:38:12.751Z"
   },
   {
    "duration": 19,
    "start_time": "2022-06-24T10:38:12.771Z"
   },
   {
    "duration": 7,
    "start_time": "2022-06-24T10:38:12.791Z"
   },
   {
    "duration": 6,
    "start_time": "2022-06-24T10:38:12.800Z"
   },
   {
    "duration": 17,
    "start_time": "2022-06-24T10:38:12.807Z"
   },
   {
    "duration": 47,
    "start_time": "2022-06-24T10:38:12.826Z"
   },
   {
    "duration": 26,
    "start_time": "2022-06-24T10:38:12.876Z"
   },
   {
    "duration": 20,
    "start_time": "2022-06-24T10:38:12.905Z"
   },
   {
    "duration": 302,
    "start_time": "2022-06-24T10:38:12.928Z"
   },
   {
    "duration": 297,
    "start_time": "2022-06-24T10:38:13.233Z"
   },
   {
    "duration": 319,
    "start_time": "2022-06-24T10:38:13.531Z"
   },
   {
    "duration": 78,
    "start_time": "2022-06-24T10:38:13.852Z"
   },
   {
    "duration": 98,
    "start_time": "2022-06-24T10:38:13.932Z"
   },
   {
    "duration": 5,
    "start_time": "2022-06-24T10:38:14.032Z"
   },
   {
    "duration": 8,
    "start_time": "2022-06-24T10:38:14.039Z"
   },
   {
    "duration": 258,
    "start_time": "2022-06-24T10:38:14.049Z"
   },
   {
    "duration": 91,
    "start_time": "2022-06-24T10:38:14.309Z"
   },
   {
    "duration": 4,
    "start_time": "2022-06-24T10:38:14.401Z"
   },
   {
    "duration": 7,
    "start_time": "2022-06-24T10:38:14.407Z"
   },
   {
    "duration": 1868,
    "start_time": "2022-06-24T10:38:14.416Z"
   },
   {
    "duration": 5,
    "start_time": "2022-06-24T10:38:16.286Z"
   },
   {
    "duration": 9,
    "start_time": "2022-06-24T10:38:16.293Z"
   },
   {
    "duration": 1877,
    "start_time": "2022-06-24T10:38:16.304Z"
   },
   {
    "duration": 0,
    "start_time": "2022-06-24T10:38:18.183Z"
   },
   {
    "duration": 0,
    "start_time": "2022-06-24T10:38:18.185Z"
   },
   {
    "duration": 0,
    "start_time": "2022-06-24T10:38:18.186Z"
   },
   {
    "duration": 0,
    "start_time": "2022-06-24T10:38:18.187Z"
   },
   {
    "duration": 0,
    "start_time": "2022-06-24T10:38:18.189Z"
   },
   {
    "duration": 0,
    "start_time": "2022-06-24T10:38:18.190Z"
   },
   {
    "duration": 0,
    "start_time": "2022-06-24T10:38:18.191Z"
   },
   {
    "duration": 0,
    "start_time": "2022-06-24T10:38:18.193Z"
   },
   {
    "duration": 1293,
    "start_time": "2022-06-24T10:38:59.222Z"
   },
   {
    "duration": 913,
    "start_time": "2022-06-24T10:39:00.517Z"
   },
   {
    "duration": 10,
    "start_time": "2022-06-24T10:39:01.431Z"
   },
   {
    "duration": 22,
    "start_time": "2022-06-24T10:39:01.443Z"
   },
   {
    "duration": 38,
    "start_time": "2022-06-24T10:39:01.472Z"
   },
   {
    "duration": 25,
    "start_time": "2022-06-24T10:39:01.511Z"
   },
   {
    "duration": 6,
    "start_time": "2022-06-24T10:39:01.538Z"
   },
   {
    "duration": 56,
    "start_time": "2022-06-24T10:39:01.546Z"
   },
   {
    "duration": 136,
    "start_time": "2022-06-24T10:39:01.604Z"
   },
   {
    "duration": 54,
    "start_time": "2022-06-24T10:39:01.743Z"
   },
   {
    "duration": 302,
    "start_time": "2022-06-24T10:39:01.799Z"
   },
   {
    "duration": 40,
    "start_time": "2022-06-24T10:39:02.102Z"
   },
   {
    "duration": 93,
    "start_time": "2022-06-24T10:39:02.144Z"
   },
   {
    "duration": 145,
    "start_time": "2022-06-24T10:39:02.239Z"
   },
   {
    "duration": 669,
    "start_time": "2022-06-24T10:39:02.386Z"
   },
   {
    "duration": 22,
    "start_time": "2022-06-24T10:39:03.057Z"
   },
   {
    "duration": 333,
    "start_time": "2022-06-24T10:39:03.081Z"
   },
   {
    "duration": 35,
    "start_time": "2022-06-24T10:39:03.417Z"
   },
   {
    "duration": 426,
    "start_time": "2022-06-24T10:39:03.467Z"
   },
   {
    "duration": 322,
    "start_time": "2022-06-24T10:39:03.895Z"
   },
   {
    "duration": 93,
    "start_time": "2022-06-24T10:39:04.218Z"
   },
   {
    "duration": 33,
    "start_time": "2022-06-24T10:39:04.313Z"
   },
   {
    "duration": 47,
    "start_time": "2022-06-24T10:39:04.348Z"
   },
   {
    "duration": 114,
    "start_time": "2022-06-24T10:39:04.397Z"
   },
   {
    "duration": 66,
    "start_time": "2022-06-24T10:39:04.513Z"
   },
   {
    "duration": 159,
    "start_time": "2022-06-24T10:39:04.582Z"
   },
   {
    "duration": 7,
    "start_time": "2022-06-24T10:39:04.743Z"
   },
   {
    "duration": 9,
    "start_time": "2022-06-24T10:39:04.767Z"
   },
   {
    "duration": 39,
    "start_time": "2022-06-24T10:39:04.778Z"
   },
   {
    "duration": 29,
    "start_time": "2022-06-24T10:39:04.819Z"
   },
   {
    "duration": 20,
    "start_time": "2022-06-24T10:39:04.850Z"
   },
   {
    "duration": 51,
    "start_time": "2022-06-24T10:39:04.872Z"
   },
   {
    "duration": 39,
    "start_time": "2022-06-24T10:39:04.925Z"
   },
   {
    "duration": 51,
    "start_time": "2022-06-24T10:39:04.966Z"
   },
   {
    "duration": 35,
    "start_time": "2022-06-24T10:39:05.019Z"
   },
   {
    "duration": 246,
    "start_time": "2022-06-24T10:39:05.056Z"
   },
   {
    "duration": 247,
    "start_time": "2022-06-24T10:39:05.304Z"
   },
   {
    "duration": 274,
    "start_time": "2022-06-24T10:39:05.553Z"
   },
   {
    "duration": 73,
    "start_time": "2022-06-24T10:39:05.829Z"
   },
   {
    "duration": 82,
    "start_time": "2022-06-24T10:39:05.904Z"
   },
   {
    "duration": 5,
    "start_time": "2022-06-24T10:39:05.988Z"
   },
   {
    "duration": 4,
    "start_time": "2022-06-24T10:39:05.995Z"
   },
   {
    "duration": 225,
    "start_time": "2022-06-24T10:39:06.002Z"
   },
   {
    "duration": 87,
    "start_time": "2022-06-24T10:39:06.229Z"
   },
   {
    "duration": 3,
    "start_time": "2022-06-24T10:39:06.318Z"
   },
   {
    "duration": 6,
    "start_time": "2022-06-24T10:39:06.323Z"
   },
   {
    "duration": 1701,
    "start_time": "2022-06-24T10:39:06.330Z"
   },
   {
    "duration": 5,
    "start_time": "2022-06-24T10:39:08.033Z"
   },
   {
    "duration": 5,
    "start_time": "2022-06-24T10:39:08.040Z"
   },
   {
    "duration": 1853,
    "start_time": "2022-06-24T10:39:08.047Z"
   },
   {
    "duration": 127,
    "start_time": "2022-06-24T10:39:09.901Z"
   },
   {
    "duration": 0,
    "start_time": "2022-06-24T10:39:10.029Z"
   },
   {
    "duration": 0,
    "start_time": "2022-06-24T10:39:10.031Z"
   },
   {
    "duration": 0,
    "start_time": "2022-06-24T10:39:10.033Z"
   },
   {
    "duration": 0,
    "start_time": "2022-06-24T10:39:10.034Z"
   },
   {
    "duration": 0,
    "start_time": "2022-06-24T10:39:10.036Z"
   },
   {
    "duration": 0,
    "start_time": "2022-06-24T10:39:10.037Z"
   },
   {
    "duration": 0,
    "start_time": "2022-06-24T10:39:10.038Z"
   },
   {
    "duration": 1190,
    "start_time": "2022-06-24T10:42:01.630Z"
   },
   {
    "duration": 841,
    "start_time": "2022-06-24T10:42:02.821Z"
   },
   {
    "duration": 12,
    "start_time": "2022-06-24T10:42:03.669Z"
   },
   {
    "duration": 6,
    "start_time": "2022-06-24T10:42:03.683Z"
   },
   {
    "duration": 20,
    "start_time": "2022-06-24T10:42:03.691Z"
   },
   {
    "duration": 24,
    "start_time": "2022-06-24T10:42:03.713Z"
   },
   {
    "duration": 33,
    "start_time": "2022-06-24T10:42:03.739Z"
   },
   {
    "duration": 42,
    "start_time": "2022-06-24T10:42:03.774Z"
   },
   {
    "duration": 125,
    "start_time": "2022-06-24T10:42:03.819Z"
   },
   {
    "duration": 3,
    "start_time": "2022-06-24T10:42:03.946Z"
   },
   {
    "duration": 303,
    "start_time": "2022-06-24T10:42:03.951Z"
   },
   {
    "duration": 43,
    "start_time": "2022-06-24T10:42:04.256Z"
   },
   {
    "duration": 78,
    "start_time": "2022-06-24T10:42:04.301Z"
   },
   {
    "duration": 129,
    "start_time": "2022-06-24T10:42:04.381Z"
   },
   {
    "duration": 678,
    "start_time": "2022-06-24T10:42:04.512Z"
   },
   {
    "duration": 17,
    "start_time": "2022-06-24T10:42:05.193Z"
   },
   {
    "duration": 321,
    "start_time": "2022-06-24T10:42:05.211Z"
   },
   {
    "duration": 44,
    "start_time": "2022-06-24T10:42:05.534Z"
   },
   {
    "duration": 404,
    "start_time": "2022-06-24T10:42:05.580Z"
   },
   {
    "duration": 314,
    "start_time": "2022-06-24T10:42:05.985Z"
   },
   {
    "duration": 83,
    "start_time": "2022-06-24T10:42:06.301Z"
   },
   {
    "duration": 31,
    "start_time": "2022-06-24T10:42:06.386Z"
   },
   {
    "duration": 24,
    "start_time": "2022-06-24T10:42:06.419Z"
   },
   {
    "duration": 128,
    "start_time": "2022-06-24T10:42:06.445Z"
   },
   {
    "duration": 59,
    "start_time": "2022-06-24T10:42:06.575Z"
   },
   {
    "duration": 159,
    "start_time": "2022-06-24T10:42:06.636Z"
   },
   {
    "duration": 8,
    "start_time": "2022-06-24T10:42:06.799Z"
   },
   {
    "duration": 6,
    "start_time": "2022-06-24T10:42:06.809Z"
   },
   {
    "duration": 14,
    "start_time": "2022-06-24T10:42:06.817Z"
   },
   {
    "duration": 6,
    "start_time": "2022-06-24T10:42:06.833Z"
   },
   {
    "duration": 30,
    "start_time": "2022-06-24T10:42:06.841Z"
   },
   {
    "duration": 31,
    "start_time": "2022-06-24T10:42:06.873Z"
   },
   {
    "duration": 18,
    "start_time": "2022-06-24T10:42:06.906Z"
   },
   {
    "duration": 17,
    "start_time": "2022-06-24T10:42:06.926Z"
   },
   {
    "duration": 36,
    "start_time": "2022-06-24T10:42:06.945Z"
   },
   {
    "duration": 272,
    "start_time": "2022-06-24T10:42:06.983Z"
   },
   {
    "duration": 280,
    "start_time": "2022-06-24T10:42:07.256Z"
   },
   {
    "duration": 294,
    "start_time": "2022-06-24T10:42:07.539Z"
   },
   {
    "duration": 74,
    "start_time": "2022-06-24T10:42:07.834Z"
   },
   {
    "duration": 84,
    "start_time": "2022-06-24T10:42:07.910Z"
   },
   {
    "duration": 5,
    "start_time": "2022-06-24T10:42:07.996Z"
   },
   {
    "duration": 5,
    "start_time": "2022-06-24T10:42:08.002Z"
   },
   {
    "duration": 239,
    "start_time": "2022-06-24T10:42:08.009Z"
   },
   {
    "duration": 83,
    "start_time": "2022-06-24T10:42:08.249Z"
   },
   {
    "duration": 7,
    "start_time": "2022-06-24T10:42:08.334Z"
   },
   {
    "duration": 12,
    "start_time": "2022-06-24T10:42:08.343Z"
   },
   {
    "duration": 1771,
    "start_time": "2022-06-24T10:42:08.357Z"
   },
   {
    "duration": 4,
    "start_time": "2022-06-24T10:42:10.130Z"
   },
   {
    "duration": 14,
    "start_time": "2022-06-24T10:42:10.135Z"
   },
   {
    "duration": 1825,
    "start_time": "2022-06-24T10:42:10.151Z"
   },
   {
    "duration": 100278,
    "start_time": "2022-06-24T10:42:11.979Z"
   },
   {
    "duration": 0,
    "start_time": "2022-06-24T10:43:52.258Z"
   },
   {
    "duration": 0,
    "start_time": "2022-06-24T10:43:52.260Z"
   },
   {
    "duration": 0,
    "start_time": "2022-06-24T10:43:52.267Z"
   },
   {
    "duration": 0,
    "start_time": "2022-06-24T10:43:52.268Z"
   },
   {
    "duration": 0,
    "start_time": "2022-06-24T10:43:52.269Z"
   },
   {
    "duration": 0,
    "start_time": "2022-06-24T10:43:52.270Z"
   },
   {
    "duration": 0,
    "start_time": "2022-06-24T10:43:52.271Z"
   },
   {
    "duration": 100007,
    "start_time": "2022-06-24T10:44:21.181Z"
   },
   {
    "duration": 256073,
    "start_time": "2022-06-24T10:57:14.987Z"
   },
   {
    "duration": 7,
    "start_time": "2022-06-24T11:02:22.693Z"
   },
   {
    "duration": 10,
    "start_time": "2022-06-24T12:05:01.610Z"
   },
   {
    "duration": 8,
    "start_time": "2022-06-24T12:05:14.451Z"
   },
   {
    "duration": 6,
    "start_time": "2022-06-24T12:08:25.437Z"
   },
   {
    "duration": 8,
    "start_time": "2022-06-24T12:08:28.820Z"
   },
   {
    "duration": 7,
    "start_time": "2022-06-24T12:08:30.622Z"
   },
   {
    "duration": 54,
    "start_time": "2022-06-24T12:11:41.271Z"
   },
   {
    "duration": 8,
    "start_time": "2022-06-24T12:12:25.626Z"
   },
   {
    "duration": 8,
    "start_time": "2022-06-24T12:12:40.234Z"
   },
   {
    "duration": 10,
    "start_time": "2022-06-24T12:12:48.843Z"
   },
   {
    "duration": 82,
    "start_time": "2022-06-24T12:20:05.578Z"
   },
   {
    "duration": 93,
    "start_time": "2022-06-24T12:21:15.590Z"
   },
   {
    "duration": 101,
    "start_time": "2022-06-24T12:21:52.766Z"
   },
   {
    "duration": 167,
    "start_time": "2022-06-24T12:24:17.227Z"
   },
   {
    "duration": 94,
    "start_time": "2022-06-24T12:24:34.228Z"
   },
   {
    "duration": 22,
    "start_time": "2022-06-24T12:24:53.900Z"
   },
   {
    "duration": 4,
    "start_time": "2022-06-24T12:25:07.778Z"
   },
   {
    "duration": 4,
    "start_time": "2022-06-24T12:28:12.441Z"
   },
   {
    "duration": 5,
    "start_time": "2022-06-24T12:28:21.861Z"
   },
   {
    "duration": 54,
    "start_time": "2022-06-24T12:29:41.377Z"
   },
   {
    "duration": 8,
    "start_time": "2022-06-24T12:34:49.019Z"
   },
   {
    "duration": 40,
    "start_time": "2022-06-24T12:35:11.945Z"
   },
   {
    "duration": 27,
    "start_time": "2022-06-24T12:35:30.826Z"
   },
   {
    "duration": 77,
    "start_time": "2022-06-24T12:36:07.612Z"
   },
   {
    "duration": 115,
    "start_time": "2022-06-24T12:36:27.297Z"
   },
   {
    "duration": 135605,
    "start_time": "2022-06-24T12:36:36.317Z"
   },
   {
    "duration": 53916,
    "start_time": "2022-06-24T12:39:31.913Z"
   },
   {
    "duration": 69,
    "start_time": "2022-06-24T12:41:02.059Z"
   },
   {
    "duration": 12610,
    "start_time": "2022-06-24T12:41:10.529Z"
   },
   {
    "duration": 23,
    "start_time": "2022-06-24T12:41:40.893Z"
   },
   {
    "duration": 22725,
    "start_time": "2022-06-24T12:42:06.321Z"
   },
   {
    "duration": 12091,
    "start_time": "2022-06-24T12:43:00.283Z"
   },
   {
    "duration": 15,
    "start_time": "2022-06-24T12:44:07.746Z"
   },
   {
    "duration": 11,
    "start_time": "2022-06-24T12:44:15.117Z"
   },
   {
    "duration": 12172,
    "start_time": "2022-06-24T12:45:09.203Z"
   },
   {
    "duration": 9,
    "start_time": "2022-06-24T12:46:05.250Z"
   },
   {
    "duration": 17203,
    "start_time": "2022-06-24T12:46:29.186Z"
   },
   {
    "duration": 8,
    "start_time": "2022-06-24T12:49:46.304Z"
   },
   {
    "duration": 1234,
    "start_time": "2022-06-24T12:50:22.904Z"
   },
   {
    "duration": 983,
    "start_time": "2022-06-24T12:50:24.140Z"
   },
   {
    "duration": 10,
    "start_time": "2022-06-24T12:50:25.125Z"
   },
   {
    "duration": 18,
    "start_time": "2022-06-24T12:50:25.137Z"
   },
   {
    "duration": 25,
    "start_time": "2022-06-24T12:50:25.157Z"
   },
   {
    "duration": 27,
    "start_time": "2022-06-24T12:50:25.184Z"
   },
   {
    "duration": 8,
    "start_time": "2022-06-24T12:50:25.213Z"
   },
   {
    "duration": 67,
    "start_time": "2022-06-24T12:50:25.223Z"
   },
   {
    "duration": 129,
    "start_time": "2022-06-24T12:50:25.292Z"
   },
   {
    "duration": 2,
    "start_time": "2022-06-24T12:50:25.424Z"
   },
   {
    "duration": 316,
    "start_time": "2022-06-24T12:50:25.428Z"
   },
   {
    "duration": 45,
    "start_time": "2022-06-24T12:50:25.745Z"
   },
   {
    "duration": 87,
    "start_time": "2022-06-24T12:50:25.791Z"
   },
   {
    "duration": 141,
    "start_time": "2022-06-24T12:50:25.880Z"
   },
   {
    "duration": 644,
    "start_time": "2022-06-24T12:50:26.023Z"
   },
   {
    "duration": 18,
    "start_time": "2022-06-24T12:50:26.669Z"
   },
   {
    "duration": 319,
    "start_time": "2022-06-24T12:50:26.689Z"
   },
   {
    "duration": 35,
    "start_time": "2022-06-24T12:50:27.010Z"
   },
   {
    "duration": 399,
    "start_time": "2022-06-24T12:50:27.047Z"
   },
   {
    "duration": 322,
    "start_time": "2022-06-24T12:50:27.448Z"
   },
   {
    "duration": 77,
    "start_time": "2022-06-24T12:50:27.772Z"
   },
   {
    "duration": 44,
    "start_time": "2022-06-24T12:50:27.851Z"
   },
   {
    "duration": 26,
    "start_time": "2022-06-24T12:50:27.897Z"
   },
   {
    "duration": 128,
    "start_time": "2022-06-24T12:50:27.925Z"
   },
   {
    "duration": 57,
    "start_time": "2022-06-24T12:50:28.055Z"
   },
   {
    "duration": 155,
    "start_time": "2022-06-24T12:50:28.114Z"
   },
   {
    "duration": 7,
    "start_time": "2022-06-24T12:50:28.271Z"
   },
   {
    "duration": 6,
    "start_time": "2022-06-24T12:50:28.282Z"
   },
   {
    "duration": 15,
    "start_time": "2022-06-24T12:50:28.290Z"
   },
   {
    "duration": 7,
    "start_time": "2022-06-24T12:50:28.307Z"
   },
   {
    "duration": 7,
    "start_time": "2022-06-24T12:50:28.316Z"
   },
   {
    "duration": 53,
    "start_time": "2022-06-24T12:50:28.324Z"
   },
   {
    "duration": 19,
    "start_time": "2022-06-24T12:50:28.379Z"
   },
   {
    "duration": 20,
    "start_time": "2022-06-24T12:50:28.400Z"
   },
   {
    "duration": 22,
    "start_time": "2022-06-24T12:50:28.422Z"
   },
   {
    "duration": 266,
    "start_time": "2022-06-24T12:50:28.467Z"
   },
   {
    "duration": 310,
    "start_time": "2022-06-24T12:50:28.735Z"
   },
   {
    "duration": 300,
    "start_time": "2022-06-24T12:50:29.048Z"
   },
   {
    "duration": 66,
    "start_time": "2022-06-24T12:50:29.350Z"
   },
   {
    "duration": 85,
    "start_time": "2022-06-24T12:50:29.418Z"
   },
   {
    "duration": 6,
    "start_time": "2022-06-24T12:50:29.505Z"
   },
   {
    "duration": 13,
    "start_time": "2022-06-24T12:50:29.512Z"
   },
   {
    "duration": 224,
    "start_time": "2022-06-24T12:50:29.527Z"
   },
   {
    "duration": 69,
    "start_time": "2022-06-24T12:50:29.753Z"
   },
   {
    "duration": 4,
    "start_time": "2022-06-24T12:50:29.824Z"
   },
   {
    "duration": 1716,
    "start_time": "2022-06-24T12:50:29.829Z"
   },
   {
    "duration": 4,
    "start_time": "2022-06-24T12:50:31.547Z"
   },
   {
    "duration": 18,
    "start_time": "2022-06-24T12:50:31.553Z"
   },
   {
    "duration": 1841,
    "start_time": "2022-06-24T12:50:31.573Z"
   },
   {
    "duration": 82753,
    "start_time": "2022-06-24T12:50:33.416Z"
   },
   {
    "duration": 277206,
    "start_time": "2022-06-24T12:51:56.172Z"
   },
   {
    "duration": 12,
    "start_time": "2022-06-24T12:56:33.380Z"
   },
   {
    "duration": 11,
    "start_time": "2022-06-24T12:56:33.393Z"
   },
   {
    "duration": 12,
    "start_time": "2022-06-24T12:56:33.406Z"
   },
   {
    "duration": 27,
    "start_time": "2022-06-24T12:56:33.420Z"
   },
   {
    "duration": 467149,
    "start_time": "2022-06-24T12:56:33.450Z"
   },
   {
    "duration": 71,
    "start_time": "2022-06-24T13:04:20.601Z"
   }
  ],
  "kernelspec": {
   "display_name": "Python 3 (ipykernel)",
   "language": "python",
   "name": "python3"
  },
  "language_info": {
   "codemirror_mode": {
    "name": "ipython",
    "version": 3
   },
   "file_extension": ".py",
   "mimetype": "text/x-python",
   "name": "python",
   "nbconvert_exporter": "python",
   "pygments_lexer": "ipython3",
   "version": "3.9.13"
  },
  "toc": {
   "base_numbering": 1,
   "nav_menu": {},
   "number_sections": true,
   "sideBar": true,
   "skip_h1_title": true,
   "title_cell": "Table of Contents",
   "title_sidebar": "Contents",
   "toc_cell": false,
   "toc_position": {},
   "toc_section_display": true,
   "toc_window_display": true
  }
 },
 "nbformat": 4,
 "nbformat_minor": 4
}
